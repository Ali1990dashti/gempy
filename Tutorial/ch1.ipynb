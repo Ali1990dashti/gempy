{
 "cells": [
  {
   "cell_type": "markdown",
   "metadata": {},
   "source": [
    "# Chapter 1: GemPy Basic\n",
    "\n",
    "In this first example, we will show how to construct a first basic model and the main objects and functions. First we import gempy:"
   ]
  },
  {
   "cell_type": "code",
   "execution_count": 1,
   "metadata": {},
   "outputs": [
    {
     "name": "stderr",
     "output_type": "stream",
     "text": [
      "WARNING (theano.sandbox.cuda): The cuda backend is deprecated and will be removed in the next release (v0.10).  Please switch to the gpuarray backend. You can get more information about how to switch at this URL:\n",
      " https://github.com/Theano/Theano/wiki/Converting-to-the-new-gpu-back-end%28gpuarray%29\n",
      "\n",
      "Using gpu device 0: GeForce GTX 970 (CNMeM is disabled, cuDNN not available)\n"
     ]
    }
   ],
   "source": [
    "# These two lines are necessary only if gempy is not installed\n",
    "import sys, os\n",
    "sys.path.append(\"../\")\n",
    "\n",
    "# Importing gempy\n",
    "import gempy as gp\n",
    "\n",
    "# Embedding matplotlib figures into the notebooks\n",
    "%matplotlib inline\n",
    "\n",
    "# Aux imports\n",
    "import numpy as np"
   ]
  },
  {
   "cell_type": "markdown",
   "metadata": {},
   "source": [
    "All data get stored in a python object InputData.  This object can be easily stored in a Python pickle. However, these files have the limitation that all dependecies must have the same versions as those when the pickle were created. For these reason to have more stable tutorials we will generate the InputData from raw data---i.e. csv files exported from Geomodeller.\n",
    "\n",
    "These csv files can be found in the input_data folder in the root folder of GemPy. These tables contains uniquely the XYZ (and poles, azimuth and polarity in the foliation case) as well as their respective formation name (but not necessary the formation order).\n"
   ]
  },
  {
   "cell_type": "code",
   "execution_count": 3,
   "metadata": {
    "collapsed": true
   },
   "outputs": [],
   "source": [
    "# Importing the data from csv files and settign extent and resolution\n",
    "geo_data = gp.create_data([0,2000,0,2000,-2000,0],[ 50,50,50],\n",
    "                         path_f = os.pardir+\"/input_data/FabLessPoints_Foliations.csv\",\n",
    "                         path_i = os.pardir+\"/input_data/FabLessPoints_Points.csv\")"
   ]
  },
  {
   "cell_type": "markdown",
   "metadata": {},
   "source": [
    "With the command get data is possible to see all the input data. However, at the moment the (depositional) order of the formation and the separation of the series (More explanation about this in the next notebook) is totally arbitrary. "
   ]
  },
  {
   "cell_type": "code",
   "execution_count": 3,
   "metadata": {
    "scrolled": true
   },
   "outputs": [
    {
     "data": {
      "text/html": [
       "<div>\n",
       "<style>\n",
       "    .dataframe thead tr:only-child th {\n",
       "        text-align: right;\n",
       "    }\n",
       "\n",
       "    .dataframe thead th {\n",
       "        text-align: left;\n",
       "    }\n",
       "\n",
       "    .dataframe tbody tr th {\n",
       "        vertical-align: top;\n",
       "    }\n",
       "</style>\n",
       "<table border=\"1\" class=\"dataframe\">\n",
       "  <thead>\n",
       "    <tr style=\"text-align: right;\">\n",
       "      <th></th>\n",
       "      <th></th>\n",
       "      <th>X</th>\n",
       "      <th>Y</th>\n",
       "      <th>Z</th>\n",
       "      <th>azimuth</th>\n",
       "      <th>dip</th>\n",
       "      <th>formation</th>\n",
       "      <th>polarity</th>\n",
       "      <th>series</th>\n",
       "    </tr>\n",
       "  </thead>\n",
       "  <tbody>\n",
       "    <tr>\n",
       "      <th rowspan=\"5\" valign=\"top\">interfaces</th>\n",
       "      <th>0</th>\n",
       "      <td>800</td>\n",
       "      <td>200</td>\n",
       "      <td>-1400</td>\n",
       "      <td>NaN</td>\n",
       "      <td>NaN</td>\n",
       "      <td>Reservoir</td>\n",
       "      <td>NaN</td>\n",
       "      <td>Default serie</td>\n",
       "    </tr>\n",
       "    <tr>\n",
       "      <th>1</th>\n",
       "      <td>800</td>\n",
       "      <td>1800</td>\n",
       "      <td>-1400</td>\n",
       "      <td>NaN</td>\n",
       "      <td>NaN</td>\n",
       "      <td>Reservoir</td>\n",
       "      <td>NaN</td>\n",
       "      <td>Default serie</td>\n",
       "    </tr>\n",
       "    <tr>\n",
       "      <th>2</th>\n",
       "      <td>600</td>\n",
       "      <td>1000</td>\n",
       "      <td>-1050</td>\n",
       "      <td>NaN</td>\n",
       "      <td>NaN</td>\n",
       "      <td>Reservoir</td>\n",
       "      <td>NaN</td>\n",
       "      <td>Default serie</td>\n",
       "    </tr>\n",
       "    <tr>\n",
       "      <th>3</th>\n",
       "      <td>300</td>\n",
       "      <td>1000</td>\n",
       "      <td>-950</td>\n",
       "      <td>NaN</td>\n",
       "      <td>NaN</td>\n",
       "      <td>Reservoir</td>\n",
       "      <td>NaN</td>\n",
       "      <td>Default serie</td>\n",
       "    </tr>\n",
       "    <tr>\n",
       "      <th>4</th>\n",
       "      <td>2000</td>\n",
       "      <td>1000</td>\n",
       "      <td>-1275</td>\n",
       "      <td>NaN</td>\n",
       "      <td>NaN</td>\n",
       "      <td>Reservoir</td>\n",
       "      <td>NaN</td>\n",
       "      <td>Default serie</td>\n",
       "    </tr>\n",
       "  </tbody>\n",
       "</table>\n",
       "</div>"
      ],
      "text/plain": [
       "                 X     Y      Z azimuth  dip  formation polarity  \\\n",
       "interfaces 0   800   200  -1400     NaN  NaN  Reservoir      NaN   \n",
       "           1   800  1800  -1400     NaN  NaN  Reservoir      NaN   \n",
       "           2   600  1000  -1050     NaN  NaN  Reservoir      NaN   \n",
       "           3   300  1000   -950     NaN  NaN  Reservoir      NaN   \n",
       "           4  2000  1000  -1275     NaN  NaN  Reservoir      NaN   \n",
       "\n",
       "                     series  \n",
       "interfaces 0  Default serie  \n",
       "           1  Default serie  \n",
       "           2  Default serie  \n",
       "           3  Default serie  \n",
       "           4  Default serie  "
      ]
     },
     "execution_count": 3,
     "metadata": {},
     "output_type": "execute_result"
    }
   ],
   "source": [
    "gp.get_data(geo_data).head()"
   ]
  },
  {
   "cell_type": "markdown",
   "metadata": {},
   "source": [
    "To set the number of (depositional) series and which formation belongs to which, it is possible to use the function set_series. Here, there are two important things to notice:\n",
    "\n",
    "- set_series requires a dictionary. In Python dictionaries are not order (keys dictionaries since Python 3.6 are) and therefore there is not guarantee of having the right order.\n",
    "    + The order of the series are vital for the method (from younger to older).\n",
    "    + The order of the formations (as long they belong to the correct series) are only important for the color code. If the order of the pile differs from the final result the color of the interfaces and input data will be different\n",
    "\n",
    "- Every fault is treated as an independent series and **have to be at the top of the pile**. The relative order between the distinct faults represent the tectonic relation between them (from younger to older as well).\n",
    "\n",
    "The order of the series (for Python < 3.6, otherwise passing the correct order of keys in the dictionary is enough) can be given as attribute as in the cell below. For the order of formations can be passed as attribute as well or using the specific function set_order_formations."
   ]
  },
  {
   "cell_type": "code",
   "execution_count": 4,
   "metadata": {
    "scrolled": false
   },
   "outputs": [
    {
     "data": {
      "text/plain": [
       "<gempy.strat_pile.StratigraphicPile at 0x7fe7900d7208>"
      ]
     },
     "execution_count": 4,
     "metadata": {},
     "output_type": "execute_result"
    },
    {
     "data": {
      "image/png": "[encoded data removed]",
      "text/plain": [
       "<matplotlib.figure.Figure at 0x7fe73020ab38>"
      ]
     },
     "metadata": {},
     "output_type": "display_data"
    }
   ],
   "source": [
    "# Assigning series to formations as well as their order (timewise)\n",
    "gp.set_series(geo_data, {\"fault\":'MainFault', \n",
    "                      \"Rest\": ('SecondaryReservoir','Seal', 'Reservoir', 'Overlying')},\n",
    "                       order_series = [\"fault\", 'Rest'],\n",
    "                       order_formations=['MainFault', \n",
    "                                         'SecondaryReservoir', 'Seal','Reservoir', 'Overlying',\n",
    "                                         ]) "
   ]
  },
  {
   "cell_type": "markdown",
   "metadata": {
    "scrolled": false
   },
   "source": [
    "As an alternative the stratigraphic pile is interactive given the right backend (try %matplotlib notebook or %matplotlib qt5). These backends sometimes give some trouble though. Try to execute the cell twice:"
   ]
  },
  {
   "cell_type": "code",
   "execution_count": 7,
   "metadata": {},
   "outputs": [
    {
     "data": {
      "application/javascript": [
       "/* Put everything inside the global mpl namespace */\n",
       "window.mpl = {};\n",
       "\n",
       "\n",
       "mpl.get_websocket_type = function() {\n",
       "    if (typeof(WebSocket) !== 'undefined') {\n",
       "        return WebSocket;\n",
       "    } else if (typeof(MozWebSocket) !== 'undefined') {\n",
       "        return MozWebSocket;\n",
       "    } else {\n",
       "        alert('Your browser does not have WebSocket support.' +\n",
       "              'Please try Chrome, Safari or Firefox ≥ 6. ' +\n",
       "              'Firefox 4 and 5 are also supported but you ' +\n",
       "              'have to enable WebSockets in about:config.');\n",
       "    };\n",
       "}\n",
       "\n",
       "mpl.figure = function(figure_id, websocket, ondownload, parent_element) {\n",
       "    this.id = figure_id;\n",
       "\n",
       "    this.ws = websocket;\n",
       "\n",
       "    this.supports_binary = (this.ws.binaryType != undefined);\n",
       "\n",
       "    if (!this.supports_binary) {\n",
       "        var warnings = document.getElementById(\"mpl-warnings\");\n",
       "        if (warnings) {\n",
       "            warnings.style.display = 'block';\n",
       "            warnings.textContent = (\n",
       "                \"This browser does not support binary websocket messages. \" +\n",
       "                    \"Performance may be slow.\");\n",
       "        }\n",
       "    }\n",
       "\n",
       "    this.imageObj = new Image();\n",
       "\n",
       "    this.context = undefined;\n",
       "    this.message = undefined;\n",
       "    this.canvas = undefined;\n",
       "    this.rubberband_canvas = undefined;\n",
       "    this.rubberband_context = undefined;\n",
       "    this.format_dropdown = undefined;\n",
       "\n",
       "    this.image_mode = 'full';\n",
       "\n",
       "    this.root = $('<div/>');\n",
       "    this._root_extra_style(this.root)\n",
       "    this.root.attr('style', 'display: inline-block');\n",
       "\n",
       "    $(parent_element).append(this.root);\n",
       "\n",
       "    this._init_header(this);\n",
       "    this._init_canvas(this);\n",
       "    this._init_toolbar(this);\n",
       "\n",
       "    var fig = this;\n",
       "\n",
       "    this.waiting = false;\n",
       "\n",
       "    this.ws.onopen =  function () {\n",
       "            fig.send_message(\"supports_binary\", {value: fig.supports_binary});\n",
       "            fig.send_message(\"send_image_mode\", {});\n",
       "            if (mpl.ratio != 1) {\n",
       "                fig.send_message(\"set_dpi_ratio\", {'dpi_ratio': mpl.ratio});\n",
       "            }\n",
       "            fig.send_message(\"refresh\", {});\n",
       "        }\n",
       "\n",
       "    this.imageObj.onload = function() {\n",
       "            if (fig.image_mode == 'full') {\n",
       "                // Full images could contain transparency (where diff images\n",
       "                // almost always do), so we need to clear the canvas so that\n",
       "                // there is no ghosting.\n",
       "                fig.context.clearRect(0, 0, fig.canvas.width, fig.canvas.height);\n",
       "            }\n",
       "            fig.context.drawImage(fig.imageObj, 0, 0);\n",
       "        };\n",
       "\n",
       "    this.imageObj.onunload = function() {\n",
       "        this.ws.close();\n",
       "    }\n",
       "\n",
       "    this.ws.onmessage = this._make_on_message_function(this);\n",
       "\n",
       "    this.ondownload = ondownload;\n",
       "}\n",
       "\n",
       "mpl.figure.prototype._init_header = function() {\n",
       "    var titlebar = $(\n",
       "        '<div class=\"ui-dialog-titlebar ui-widget-header ui-corner-all ' +\n",
       "        'ui-helper-clearfix\"/>');\n",
       "    var titletext = $(\n",
       "        '<div class=\"ui-dialog-title\" style=\"width: 100%; ' +\n",
       "        'text-align: center; padding: 3px;\"/>');\n",
       "    titlebar.append(titletext)\n",
       "    this.root.append(titlebar);\n",
       "    this.header = titletext[0];\n",
       "}\n",
       "\n",
       "\n",
       "\n",
       "mpl.figure.prototype._canvas_extra_style = function(canvas_div) {\n",
       "\n",
       "}\n",
       "\n",
       "\n",
       "mpl.figure.prototype._root_extra_style = function(canvas_div) {\n",
       "\n",
       "}\n",
       "\n",
       "mpl.figure.prototype._init_canvas = function() {\n",
       "    var fig = this;\n",
       "\n",
       "    var canvas_div = $('<div/>');\n",
       "\n",
       "    canvas_div.attr('style', 'position: relative; clear: both; outline: 0');\n",
       "\n",
       "    function canvas_keyboard_event(event) {\n",
       "        return fig.key_event(event, event['data']);\n",
       "    }\n",
       "\n",
       "    canvas_div.keydown('key_press', canvas_keyboard_event);\n",
       "    canvas_div.keyup('key_release', canvas_keyboard_event);\n",
       "    this.canvas_div = canvas_div\n",
       "    this._canvas_extra_style(canvas_div)\n",
       "    this.root.append(canvas_div);\n",
       "\n",
       "    var canvas = $('<canvas/>');\n",
       "    canvas.addClass('mpl-canvas');\n",
       "    canvas.attr('style', \"left: 0; top: 0; z-index: 0; outline: 0\")\n",
       "\n",
       "    this.canvas = canvas[0];\n",
       "    this.context = canvas[0].getContext(\"2d\");\n",
       "\n",
       "    var backingStore = this.context.backingStorePixelRatio ||\n",
       "\tthis.context.webkitBackingStorePixelRatio ||\n",
       "\tthis.context.mozBackingStorePixelRatio ||\n",
       "\tthis.context.msBackingStorePixelRatio ||\n",
       "\tthis.context.oBackingStorePixelRatio ||\n",
       "\tthis.context.backingStorePixelRatio || 1;\n",
       "\n",
       "    mpl.ratio = (window.devicePixelRatio || 1) / backingStore;\n",
       "\n",
       "    var rubberband = $('<canvas/>');\n",
       "    rubberband.attr('style', \"position: absolute; left: 0; top: 0; z-index: 1;\")\n",
       "\n",
       "    var pass_mouse_events = true;\n",
       "\n",
       "    canvas_div.resizable({\n",
       "        start: function(event, ui) {\n",
       "            pass_mouse_events = false;\n",
       "        },\n",
       "        resize: function(event, ui) {\n",
       "            fig.request_resize(ui.size.width, ui.size.height);\n",
       "        },\n",
       "        stop: function(event, ui) {\n",
       "            pass_mouse_events = true;\n",
       "            fig.request_resize(ui.size.width, ui.size.height);\n",
       "        },\n",
       "    });\n",
       "\n",
       "    function mouse_event_fn(event) {\n",
       "        if (pass_mouse_events)\n",
       "            return fig.mouse_event(event, event['data']);\n",
       "    }\n",
       "\n",
       "    rubberband.mousedown('button_press', mouse_event_fn);\n",
       "    rubberband.mouseup('button_release', mouse_event_fn);\n",
       "    // Throttle sequential mouse events to 1 every 20ms.\n",
       "    rubberband.mousemove('motion_notify', mouse_event_fn);\n",
       "\n",
       "    rubberband.mouseenter('figure_enter', mouse_event_fn);\n",
       "    rubberband.mouseleave('figure_leave', mouse_event_fn);\n",
       "\n",
       "    canvas_div.on(\"wheel\", function (event) {\n",
       "        event = event.originalEvent;\n",
       "        event['data'] = 'scroll'\n",
       "        if (event.deltaY < 0) {\n",
       "            event.step = 1;\n",
       "        } else {\n",
       "            event.step = -1;\n",
       "        }\n",
       "        mouse_event_fn(event);\n",
       "    });\n",
       "\n",
       "    canvas_div.append(canvas);\n",
       "    canvas_div.append(rubberband);\n",
       "\n",
       "    this.rubberband = rubberband;\n",
       "    this.rubberband_canvas = rubberband[0];\n",
       "    this.rubberband_context = rubberband[0].getContext(\"2d\");\n",
       "    this.rubberband_context.strokeStyle = \"#000000\";\n",
       "\n",
       "    this._resize_canvas = function(width, height) {\n",
       "        // Keep the size of the canvas, canvas container, and rubber band\n",
       "        // canvas in synch.\n",
       "        canvas_div.css('width', width)\n",
       "        canvas_div.css('height', height)\n",
       "\n",
       "        canvas.attr('width', width * mpl.ratio);\n",
       "        canvas.attr('height', height * mpl.ratio);\n",
       "        canvas.attr('style', 'width: ' + width + 'px; height: ' + height + 'px;');\n",
       "\n",
       "        rubberband.attr('width', width);\n",
       "        rubberband.attr('height', height);\n",
       "    }\n",
       "\n",
       "    // Set the figure to an initial 600x600px, this will subsequently be updated\n",
       "    // upon first draw.\n",
       "    this._resize_canvas(600, 600);\n",
       "\n",
       "    // Disable right mouse context menu.\n",
       "    $(this.rubberband_canvas).bind(\"contextmenu\",function(e){\n",
       "        return false;\n",
       "    });\n",
       "\n",
       "    function set_focus () {\n",
       "        canvas.focus();\n",
       "        canvas_div.focus();\n",
       "    }\n",
       "\n",
       "    window.setTimeout(set_focus, 100);\n",
       "}\n",
       "\n",
       "mpl.figure.prototype._init_toolbar = function() {\n",
       "    var fig = this;\n",
       "\n",
       "    var nav_element = $('<div/>')\n",
       "    nav_element.attr('style', 'width: 100%');\n",
       "    this.root.append(nav_element);\n",
       "\n",
       "    // Define a callback function for later on.\n",
       "    function toolbar_event(event) {\n",
       "        return fig.toolbar_button_onclick(event['data']);\n",
       "    }\n",
       "    function toolbar_mouse_event(event) {\n",
       "        return fig.toolbar_button_onmouseover(event['data']);\n",
       "    }\n",
       "\n",
       "    for(var toolbar_ind in mpl.toolbar_items) {\n",
       "        var name = mpl.toolbar_items[toolbar_ind][0];\n",
       "        var tooltip = mpl.toolbar_items[toolbar_ind][1];\n",
       "        var image = mpl.toolbar_items[toolbar_ind][2];\n",
       "        var method_name = mpl.toolbar_items[toolbar_ind][3];\n",
       "\n",
       "        if (!name) {\n",
       "            // put a spacer in here.\n",
       "            continue;\n",
       "        }\n",
       "        var button = $('<button/>');\n",
       "        button.addClass('ui-button ui-widget ui-state-default ui-corner-all ' +\n",
       "                        'ui-button-icon-only');\n",
       "        button.attr('role', 'button');\n",
       "        button.attr('aria-disabled', 'false');\n",
       "        button.click(method_name, toolbar_event);\n",
       "        button.mouseover(tooltip, toolbar_mouse_event);\n",
       "\n",
       "        var icon_img = $('<span/>');\n",
       "        icon_img.addClass('ui-button-icon-primary ui-icon');\n",
       "        icon_img.addClass(image);\n",
       "        icon_img.addClass('ui-corner-all');\n",
       "\n",
       "        var tooltip_span = $('<span/>');\n",
       "        tooltip_span.addClass('ui-button-text');\n",
       "        tooltip_span.html(tooltip);\n",
       "\n",
       "        button.append(icon_img);\n",
       "        button.append(tooltip_span);\n",
       "\n",
       "        nav_element.append(button);\n",
       "    }\n",
       "\n",
       "    var fmt_picker_span = $('<span/>');\n",
       "\n",
       "    var fmt_picker = $('<select/>');\n",
       "    fmt_picker.addClass('mpl-toolbar-option ui-widget ui-widget-content');\n",
       "    fmt_picker_span.append(fmt_picker);\n",
       "    nav_element.append(fmt_picker_span);\n",
       "    this.format_dropdown = fmt_picker[0];\n",
       "\n",
       "    for (var ind in mpl.extensions) {\n",
       "        var fmt = mpl.extensions[ind];\n",
       "        var option = $(\n",
       "            '<option/>', {selected: fmt === mpl.default_extension}).html(fmt);\n",
       "        fmt_picker.append(option)\n",
       "    }\n",
       "\n",
       "    // Add hover states to the ui-buttons\n",
       "    $( \".ui-button\" ).hover(\n",
       "        function() { $(this).addClass(\"ui-state-hover\");},\n",
       "        function() { $(this).removeClass(\"ui-state-hover\");}\n",
       "    );\n",
       "\n",
       "    var status_bar = $('<span class=\"mpl-message\"/>');\n",
       "    nav_element.append(status_bar);\n",
       "    this.message = status_bar[0];\n",
       "}\n",
       "\n",
       "mpl.figure.prototype.request_resize = function(x_pixels, y_pixels) {\n",
       "    // Request matplotlib to resize the figure. Matplotlib will then trigger a resize in the client,\n",
       "    // which will in turn request a refresh of the image.\n",
       "    this.send_message('resize', {'width': x_pixels, 'height': y_pixels});\n",
       "}\n",
       "\n",
       "mpl.figure.prototype.send_message = function(type, properties) {\n",
       "    properties['type'] = type;\n",
       "    properties['figure_id'] = this.id;\n",
       "    this.ws.send(JSON.stringify(properties));\n",
       "}\n",
       "\n",
       "mpl.figure.prototype.send_draw_message = function() {\n",
       "    if (!this.waiting) {\n",
       "        this.waiting = true;\n",
       "        this.ws.send(JSON.stringify({type: \"draw\", figure_id: this.id}));\n",
       "    }\n",
       "}\n",
       "\n",
       "\n",
       "mpl.figure.prototype.handle_save = function(fig, msg) {\n",
       "    var format_dropdown = fig.format_dropdown;\n",
       "    var format = format_dropdown.options[format_dropdown.selectedIndex].value;\n",
       "    fig.ondownload(fig, format);\n",
       "}\n",
       "\n",
       "\n",
       "mpl.figure.prototype.handle_resize = function(fig, msg) {\n",
       "    var size = msg['size'];\n",
       "    if (size[0] != fig.canvas.width || size[1] != fig.canvas.height) {\n",
       "        fig._resize_canvas(size[0], size[1]);\n",
       "        fig.send_message(\"refresh\", {});\n",
       "    };\n",
       "}\n",
       "\n",
       "mpl.figure.prototype.handle_rubberband = function(fig, msg) {\n",
       "    var x0 = msg['x0'] / mpl.ratio;\n",
       "    var y0 = (fig.canvas.height - msg['y0']) / mpl.ratio;\n",
       "    var x1 = msg['x1'] / mpl.ratio;\n",
       "    var y1 = (fig.canvas.height - msg['y1']) / mpl.ratio;\n",
       "    x0 = Math.floor(x0) + 0.5;\n",
       "    y0 = Math.floor(y0) + 0.5;\n",
       "    x1 = Math.floor(x1) + 0.5;\n",
       "    y1 = Math.floor(y1) + 0.5;\n",
       "    var min_x = Math.min(x0, x1);\n",
       "    var min_y = Math.min(y0, y1);\n",
       "    var width = Math.abs(x1 - x0);\n",
       "    var height = Math.abs(y1 - y0);\n",
       "\n",
       "    fig.rubberband_context.clearRect(\n",
       "        0, 0, fig.canvas.width, fig.canvas.height);\n",
       "\n",
       "    fig.rubberband_context.strokeRect(min_x, min_y, width, height);\n",
       "}\n",
       "\n",
       "mpl.figure.prototype.handle_figure_label = function(fig, msg) {\n",
       "    // Updates the figure title.\n",
       "    fig.header.textContent = msg['label'];\n",
       "}\n",
       "\n",
       "mpl.figure.prototype.handle_cursor = function(fig, msg) {\n",
       "    var cursor = msg['cursor'];\n",
       "    switch(cursor)\n",
       "    {\n",
       "    case 0:\n",
       "        cursor = 'pointer';\n",
       "        break;\n",
       "    case 1:\n",
       "        cursor = 'default';\n",
       "        break;\n",
       "    case 2:\n",
       "        cursor = 'crosshair';\n",
       "        break;\n",
       "    case 3:\n",
       "        cursor = 'move';\n",
       "        break;\n",
       "    }\n",
       "    fig.rubberband_canvas.style.cursor = cursor;\n",
       "}\n",
       "\n",
       "mpl.figure.prototype.handle_message = function(fig, msg) {\n",
       "    fig.message.textContent = msg['message'];\n",
       "}\n",
       "\n",
       "mpl.figure.prototype.handle_draw = function(fig, msg) {\n",
       "    // Request the server to send over a new figure.\n",
       "    fig.send_draw_message();\n",
       "}\n",
       "\n",
       "mpl.figure.prototype.handle_image_mode = function(fig, msg) {\n",
       "    fig.image_mode = msg['mode'];\n",
       "}\n",
       "\n",
       "mpl.figure.prototype.updated_canvas_event = function() {\n",
       "    // Called whenever the canvas gets updated.\n",
       "    this.send_message(\"ack\", {});\n",
       "}\n",
       "\n",
       "// A function to construct a web socket function for onmessage handling.\n",
       "// Called in the figure constructor.\n",
       "mpl.figure.prototype._make_on_message_function = function(fig) {\n",
       "    return function socket_on_message(evt) {\n",
       "        if (evt.data instanceof Blob) {\n",
       "            /* FIXME: We get \"Resource interpreted as Image but\n",
       "             * transferred with MIME type text/plain:\" errors on\n",
       "             * Chrome.  But how to set the MIME type?  It doesn't seem\n",
       "             * to be part of the websocket stream */\n",
       "            evt.data.type = \"image/png\";\n",
       "\n",
       "            /* Free the memory for the previous frames */\n",
       "            if (fig.imageObj.src) {\n",
       "                (window.URL || window.webkitURL).revokeObjectURL(\n",
       "                    fig.imageObj.src);\n",
       "            }\n",
       "\n",
       "            fig.imageObj.src = (window.URL || window.webkitURL).createObjectURL(\n",
       "                evt.data);\n",
       "            fig.updated_canvas_event();\n",
       "            fig.waiting = false;\n",
       "            return;\n",
       "        }\n",
       "        else if (typeof evt.data === 'string' && evt.data.slice(0, 21) == \"data:image/png;base64\") {\n",
       "            fig.imageObj.src = evt.data;\n",
       "            fig.updated_canvas_event();\n",
       "            fig.waiting = false;\n",
       "            return;\n",
       "        }\n",
       "\n",
       "        var msg = JSON.parse(evt.data);\n",
       "        var msg_type = msg['type'];\n",
       "\n",
       "        // Call the  \"handle_{type}\" callback, which takes\n",
       "        // the figure and JSON message as its only arguments.\n",
       "        try {\n",
       "            var callback = fig[\"handle_\" + msg_type];\n",
       "        } catch (e) {\n",
       "            console.log(\"No handler for the '\" + msg_type + \"' message type: \", msg);\n",
       "            return;\n",
       "        }\n",
       "\n",
       "        if (callback) {\n",
       "            try {\n",
       "                // console.log(\"Handling '\" + msg_type + \"' message: \", msg);\n",
       "                callback(fig, msg);\n",
       "            } catch (e) {\n",
       "                console.log(\"Exception inside the 'handler_\" + msg_type + \"' callback:\", e, e.stack, msg);\n",
       "            }\n",
       "        }\n",
       "    };\n",
       "}\n",
       "\n",
       "// from http://stackoverflow.com/questions/1114465/getting-mouse-location-in-canvas\n",
       "mpl.findpos = function(e) {\n",
       "    //this section is from http://www.quirksmode.org/js/events_properties.html\n",
       "    var targ;\n",
       "    if (!e)\n",
       "        e = window.event;\n",
       "    if (e.target)\n",
       "        targ = e.target;\n",
       "    else if (e.srcElement)\n",
       "        targ = e.srcElement;\n",
       "    if (targ.nodeType == 3) // defeat Safari bug\n",
       "        targ = targ.parentNode;\n",
       "\n",
       "    // jQuery normalizes the pageX and pageY\n",
       "    // pageX,Y are the mouse positions relative to the document\n",
       "    // offset() returns the position of the element relative to the document\n",
       "    var x = e.pageX - $(targ).offset().left;\n",
       "    var y = e.pageY - $(targ).offset().top;\n",
       "\n",
       "    return {\"x\": x, \"y\": y};\n",
       "};\n",
       "\n",
       "/*\n",
       " * return a copy of an object with only non-object keys\n",
       " * we need this to avoid circular references\n",
       " * http://stackoverflow.com/a/24161582/3208463\n",
       " */\n",
       "function simpleKeys (original) {\n",
       "  return Object.keys(original).reduce(function (obj, key) {\n",
       "    if (typeof original[key] !== 'object')\n",
       "        obj[key] = original[key]\n",
       "    return obj;\n",
       "  }, {});\n",
       "}\n",
       "\n",
       "mpl.figure.prototype.mouse_event = function(event, name) {\n",
       "    var canvas_pos = mpl.findpos(event)\n",
       "\n",
       "    if (name === 'button_press')\n",
       "    {\n",
       "        this.canvas.focus();\n",
       "        this.canvas_div.focus();\n",
       "    }\n",
       "\n",
       "    var x = canvas_pos.x * mpl.ratio;\n",
       "    var y = canvas_pos.y * mpl.ratio;\n",
       "\n",
       "    this.send_message(name, {x: x, y: y, button: event.button,\n",
       "                             step: event.step,\n",
       "                             guiEvent: simpleKeys(event)});\n",
       "\n",
       "    /* This prevents the web browser from automatically changing to\n",
       "     * the text insertion cursor when the button is pressed.  We want\n",
       "     * to control all of the cursor setting manually through the\n",
       "     * 'cursor' event from matplotlib */\n",
       "    event.preventDefault();\n",
       "    return false;\n",
       "}\n",
       "\n",
       "mpl.figure.prototype._key_event_extra = function(event, name) {\n",
       "    // Handle any extra behaviour associated with a key event\n",
       "}\n",
       "\n",
       "mpl.figure.prototype.key_event = function(event, name) {\n",
       "\n",
       "    // Prevent repeat events\n",
       "    if (name == 'key_press')\n",
       "    {\n",
       "        if (event.which === this._key)\n",
       "            return;\n",
       "        else\n",
       "            this._key = event.which;\n",
       "    }\n",
       "    if (name == 'key_release')\n",
       "        this._key = null;\n",
       "\n",
       "    var value = '';\n",
       "    if (event.ctrlKey && event.which != 17)\n",
       "        value += \"ctrl+\";\n",
       "    if (event.altKey && event.which != 18)\n",
       "        value += \"alt+\";\n",
       "    if (event.shiftKey && event.which != 16)\n",
       "        value += \"shift+\";\n",
       "\n",
       "    value += 'k';\n",
       "    value += event.which.toString();\n",
       "\n",
       "    this._key_event_extra(event, name);\n",
       "\n",
       "    this.send_message(name, {key: value,\n",
       "                             guiEvent: simpleKeys(event)});\n",
       "    return false;\n",
       "}\n",
       "\n",
       "mpl.figure.prototype.toolbar_button_onclick = function(name) {\n",
       "    if (name == 'download') {\n",
       "        this.handle_save(this, null);\n",
       "    } else {\n",
       "        this.send_message(\"toolbar_button\", {name: name});\n",
       "    }\n",
       "};\n",
       "\n",
       "mpl.figure.prototype.toolbar_button_onmouseover = function(tooltip) {\n",
       "    this.message.textContent = tooltip;\n",
       "};\n",
       "mpl.toolbar_items = [[\"Home\", \"Reset original view\", \"fa fa-home icon-home\", \"home\"], [\"Back\", \"Back to  previous view\", \"fa fa-arrow-left icon-arrow-left\", \"back\"], [\"Forward\", \"Forward to next view\", \"fa fa-arrow-right icon-arrow-right\", \"forward\"], [\"\", \"\", \"\", \"\"], [\"Pan\", \"Pan axes with left mouse, zoom with right\", \"fa fa-arrows icon-move\", \"pan\"], [\"Zoom\", \"Zoom to rectangle\", \"fa fa-square-o icon-check-empty\", \"zoom\"], [\"\", \"\", \"\", \"\"], [\"Download\", \"Download plot\", \"fa fa-floppy-o icon-save\", \"download\"]];\n",
       "\n",
       "mpl.extensions = [\"eps\", \"jpeg\", \"pdf\", \"png\", \"ps\", \"raw\", \"svg\", \"tif\"];\n",
       "\n",
       "mpl.default_extension = \"png\";var comm_websocket_adapter = function(comm) {\n",
       "    // Create a \"websocket\"-like object which calls the given IPython comm\n",
       "    // object with the appropriate methods. Currently this is a non binary\n",
       "    // socket, so there is still some room for performance tuning.\n",
       "    var ws = {};\n",
       "\n",
       "    ws.close = function() {\n",
       "        comm.close()\n",
       "    };\n",
       "    ws.send = function(m) {\n",
       "        //console.log('sending', m);\n",
       "        comm.send(m);\n",
       "    };\n",
       "    // Register the callback with on_msg.\n",
       "    comm.on_msg(function(msg) {\n",
       "        //console.log('receiving', msg['content']['data'], msg);\n",
       "        // Pass the mpl event to the overriden (by mpl) onmessage function.\n",
       "        ws.onmessage(msg['content']['data'])\n",
       "    });\n",
       "    return ws;\n",
       "}\n",
       "\n",
       "mpl.mpl_figure_comm = function(comm, msg) {\n",
       "    // This is the function which gets called when the mpl process\n",
       "    // starts-up an IPython Comm through the \"matplotlib\" channel.\n",
       "\n",
       "    var id = msg.content.data.id;\n",
       "    // Get hold of the div created by the display call when the Comm\n",
       "    // socket was opened in Python.\n",
       "    var element = $(\"#\" + id);\n",
       "    var ws_proxy = comm_websocket_adapter(comm)\n",
       "\n",
       "    function ondownload(figure, format) {\n",
       "        window.open(figure.imageObj.src);\n",
       "    }\n",
       "\n",
       "    var fig = new mpl.figure(id, ws_proxy,\n",
       "                           ondownload,\n",
       "                           element.get(0));\n",
       "\n",
       "    // Call onopen now - mpl needs it, as it is assuming we've passed it a real\n",
       "    // web socket which is closed, not our websocket->open comm proxy.\n",
       "    ws_proxy.onopen();\n",
       "\n",
       "    fig.parent_element = element.get(0);\n",
       "    fig.cell_info = mpl.find_output_cell(\"<div id='\" + id + \"'></div>\");\n",
       "    if (!fig.cell_info) {\n",
       "        console.error(\"Failed to find cell for figure\", id, fig);\n",
       "        return;\n",
       "    }\n",
       "\n",
       "    var output_index = fig.cell_info[2]\n",
       "    var cell = fig.cell_info[0];\n",
       "\n",
       "};\n",
       "\n",
       "mpl.figure.prototype.handle_close = function(fig, msg) {\n",
       "    var width = fig.canvas.width/mpl.ratio\n",
       "    fig.root.unbind('remove')\n",
       "\n",
       "    // Update the output cell to use the data from the current canvas.\n",
       "    fig.push_to_output();\n",
       "    var dataURL = fig.canvas.toDataURL();\n",
       "    // Re-enable the keyboard manager in IPython - without this line, in FF,\n",
       "    // the notebook keyboard shortcuts fail.\n",
       "    IPython.keyboard_manager.enable()\n",
       "    $(fig.parent_element).html('<img src=\"' + dataURL + '\" width=\"' + width + '\">');\n",
       "    fig.close_ws(fig, msg);\n",
       "}\n",
       "\n",
       "mpl.figure.prototype.close_ws = function(fig, msg){\n",
       "    fig.send_message('closing', msg);\n",
       "    // fig.ws.close()\n",
       "}\n",
       "\n",
       "mpl.figure.prototype.push_to_output = function(remove_interactive) {\n",
       "    // Turn the data on the canvas into data in the output cell.\n",
       "    var width = this.canvas.width/mpl.ratio\n",
       "    var dataURL = this.canvas.toDataURL();\n",
       "    this.cell_info[1]['text/html'] = '<img src=\"' + dataURL + '\" width=\"' + width + '\">';\n",
       "}\n",
       "\n",
       "mpl.figure.prototype.updated_canvas_event = function() {\n",
       "    // Tell IPython that the notebook contents must change.\n",
       "    IPython.notebook.set_dirty(true);\n",
       "    this.send_message(\"ack\", {});\n",
       "    var fig = this;\n",
       "    // Wait a second, then push the new image to the DOM so\n",
       "    // that it is saved nicely (might be nice to debounce this).\n",
       "    setTimeout(function () { fig.push_to_output() }, 1000);\n",
       "}\n",
       "\n",
       "mpl.figure.prototype._init_toolbar = function() {\n",
       "    var fig = this;\n",
       "\n",
       "    var nav_element = $('<div/>')\n",
       "    nav_element.attr('style', 'width: 100%');\n",
       "    this.root.append(nav_element);\n",
       "\n",
       "    // Define a callback function for later on.\n",
       "    function toolbar_event(event) {\n",
       "        return fig.toolbar_button_onclick(event['data']);\n",
       "    }\n",
       "    function toolbar_mouse_event(event) {\n",
       "        return fig.toolbar_button_onmouseover(event['data']);\n",
       "    }\n",
       "\n",
       "    for(var toolbar_ind in mpl.toolbar_items){\n",
       "        var name = mpl.toolbar_items[toolbar_ind][0];\n",
       "        var tooltip = mpl.toolbar_items[toolbar_ind][1];\n",
       "        var image = mpl.toolbar_items[toolbar_ind][2];\n",
       "        var method_name = mpl.toolbar_items[toolbar_ind][3];\n",
       "\n",
       "        if (!name) { continue; };\n",
       "\n",
       "        var button = $('<button class=\"btn btn-default\" href=\"#\" title=\"' + name + '\"><i class=\"fa ' + image + ' fa-lg\"></i></button>');\n",
       "        button.click(method_name, toolbar_event);\n",
       "        button.mouseover(tooltip, toolbar_mouse_event);\n",
       "        nav_element.append(button);\n",
       "    }\n",
       "\n",
       "    // Add the status bar.\n",
       "    var status_bar = $('<span class=\"mpl-message\" style=\"text-align:right; float: right;\"/>');\n",
       "    nav_element.append(status_bar);\n",
       "    this.message = status_bar[0];\n",
       "\n",
       "    // Add the close button to the window.\n",
       "    var buttongrp = $('<div class=\"btn-group inline pull-right\"></div>');\n",
       "    var button = $('<button class=\"btn btn-mini btn-primary\" href=\"#\" title=\"Stop Interaction\"><i class=\"fa fa-power-off icon-remove icon-large\"></i></button>');\n",
       "    button.click(function (evt) { fig.handle_close(fig, {}); } );\n",
       "    button.mouseover('Stop Interaction', toolbar_mouse_event);\n",
       "    buttongrp.append(button);\n",
       "    var titlebar = this.root.find($('.ui-dialog-titlebar'));\n",
       "    titlebar.prepend(buttongrp);\n",
       "}\n",
       "\n",
       "mpl.figure.prototype._root_extra_style = function(el){\n",
       "    var fig = this\n",
       "    el.on(\"remove\", function(){\n",
       "\tfig.close_ws(fig, {});\n",
       "    });\n",
       "}\n",
       "\n",
       "mpl.figure.prototype._canvas_extra_style = function(el){\n",
       "    // this is important to make the div 'focusable\n",
       "    el.attr('tabindex', 0)\n",
       "    // reach out to IPython and tell the keyboard manager to turn it's self\n",
       "    // off when our div gets focus\n",
       "\n",
       "    // location in version 3\n",
       "    if (IPython.notebook.keyboard_manager) {\n",
       "        IPython.notebook.keyboard_manager.register_events(el);\n",
       "    }\n",
       "    else {\n",
       "        // location in version 2\n",
       "        IPython.keyboard_manager.register_events(el);\n",
       "    }\n",
       "\n",
       "}\n",
       "\n",
       "mpl.figure.prototype._key_event_extra = function(event, name) {\n",
       "    var manager = IPython.notebook.keyboard_manager;\n",
       "    if (!manager)\n",
       "        manager = IPython.keyboard_manager;\n",
       "\n",
       "    // Check for shift+enter\n",
       "    if (event.shiftKey && event.which == 13) {\n",
       "        this.canvas_div.blur();\n",
       "        // select the cell after this one\n",
       "        var index = IPython.notebook.find_cell_index(this.cell_info[0]);\n",
       "        IPython.notebook.select(index + 1);\n",
       "    }\n",
       "}\n",
       "\n",
       "mpl.figure.prototype.handle_save = function(fig, msg) {\n",
       "    fig.ondownload(fig, null);\n",
       "}\n",
       "\n",
       "\n",
       "mpl.find_output_cell = function(html_output) {\n",
       "    // Return the cell and output element which can be found *uniquely* in the notebook.\n",
       "    // Note - this is a bit hacky, but it is done because the \"notebook_saving.Notebook\"\n",
       "    // IPython event is triggered only after the cells have been serialised, which for\n",
       "    // our purposes (turning an active figure into a static one), is too late.\n",
       "    var cells = IPython.notebook.get_cells();\n",
       "    var ncells = cells.length;\n",
       "    for (var i=0; i<ncells; i++) {\n",
       "        var cell = cells[i];\n",
       "        if (cell.cell_type === 'code'){\n",
       "            for (var j=0; j<cell.output_area.outputs.length; j++) {\n",
       "                var data = cell.output_area.outputs[j];\n",
       "                if (data.data) {\n",
       "                    // IPython >= 3 moved mimebundle to data attribute of output\n",
       "                    data = data.data;\n",
       "                }\n",
       "                if (data['text/html'] == html_output) {\n",
       "                    return [cell, data, j];\n",
       "                }\n",
       "            }\n",
       "        }\n",
       "    }\n",
       "}\n",
       "\n",
       "// Register the function which deals with the matplotlib target/channel.\n",
       "// The kernel may be null if the page has been refreshed.\n",
       "if (IPython.notebook.kernel != null) {\n",
       "    IPython.notebook.kernel.comm_manager.register_target('matplotlib', mpl.mpl_figure_comm);\n",
       "}\n"
      ],
      "text/plain": [
       "<IPython.core.display.Javascript object>"
      ]
     },
     "metadata": {},
     "output_type": "display_data"
    },
    {
     "data": {
      "text/html": [
       "<img src=\"data:image/png;base64,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\" width=\"747.9999777078635\">"
      ],
      "text/plain": [
       "<IPython.core.display.HTML object>"
      ]
     },
     "metadata": {},
     "output_type": "display_data"
    },
    {
     "data": {
      "text/plain": [
       "<gempy.strat_pile.StratigraphicPile at 0x7f6e21c1d470>"
      ]
     },
     "execution_count": 7,
     "metadata": {},
     "output_type": "execute_result"
    }
   ],
   "source": [
    "%matplotlib notebook\n",
    "gp.get_stratigraphic_pile(geo_data)"
   ]
  },
  {
   "cell_type": "markdown",
   "metadata": {},
   "source": [
    "Notice that the colors depends on the order and therefore every time the cell is executed the colors are always in the same position. Be aware of the legend to be sure that the pile is as you wish!! (In the future every color will have the annotation within the rectangles to avoid confusion)"
   ]
  },
  {
   "cell_type": "markdown",
   "metadata": {},
   "source": [
    "This geo_data object contains essential information that we can access through the correspondent getters. Such a the coordinates of the grid."
   ]
  },
  {
   "cell_type": "code",
   "execution_count": 6,
   "metadata": {},
   "outputs": [
    {
     "name": "stdout",
     "output_type": "stream",
     "text": [
      "[[    0.             0.         -2000.        ]\n",
      " [    0.             0.         -1959.18371582]\n",
      " [    0.             0.         -1918.36730957]\n",
      " ..., \n",
      " [ 2000.          2000.           -81.63265228]\n",
      " [ 2000.          2000.           -40.81632614]\n",
      " [ 2000.          2000.             0.        ]]\n"
     ]
    }
   ],
   "source": [
    "print(gp.get_grid(geo_data))"
   ]
  },
  {
   "cell_type": "markdown",
   "metadata": {},
   "source": [
    "The main input the potential field method is the coordinates of interfaces points as well as the orientations. These pandas dataframes can we access by the following methods:\n",
    "\n",
    "#### Interfaces Dataframe"
   ]
  },
  {
   "cell_type": "code",
   "execution_count": 7,
   "metadata": {
    "scrolled": false
   },
   "outputs": [
    {
     "data": {
      "text/html": [
       "<div>\n",
       "<style>\n",
       "    .dataframe thead tr:only-child th {\n",
       "        text-align: right;\n",
       "    }\n",
       "\n",
       "    .dataframe thead th {\n",
       "        text-align: left;\n",
       "    }\n",
       "\n",
       "    .dataframe tbody tr th {\n",
       "        vertical-align: top;\n",
       "    }\n",
       "</style>\n",
       "<table border=\"1\" class=\"dataframe\">\n",
       "  <thead>\n",
       "    <tr style=\"text-align: right;\">\n",
       "      <th></th>\n",
       "      <th>X</th>\n",
       "      <th>Y</th>\n",
       "      <th>Z</th>\n",
       "      <th>formation</th>\n",
       "      <th>series</th>\n",
       "      <th>annotations</th>\n",
       "    </tr>\n",
       "  </thead>\n",
       "  <tbody>\n",
       "    <tr>\n",
       "      <th>0</th>\n",
       "      <td>1000</td>\n",
       "      <td>1000</td>\n",
       "      <td>-1000</td>\n",
       "      <td>MainFault</td>\n",
       "      <td>fault</td>\n",
       "      <td>${\\bf{x}}_{\\alpha \\,{\\bf{1}},0}$</td>\n",
       "    </tr>\n",
       "    <tr>\n",
       "      <th>1</th>\n",
       "      <td>800</td>\n",
       "      <td>1000</td>\n",
       "      <td>-1600</td>\n",
       "      <td>MainFault</td>\n",
       "      <td>fault</td>\n",
       "      <td>${\\bf{x}}_{\\alpha \\,{\\bf{1}},1}$</td>\n",
       "    </tr>\n",
       "    <tr>\n",
       "      <th>2</th>\n",
       "      <td>1200</td>\n",
       "      <td>1000</td>\n",
       "      <td>-400</td>\n",
       "      <td>MainFault</td>\n",
       "      <td>fault</td>\n",
       "      <td>${\\bf{x}}_{\\alpha \\,{\\bf{1}},2}$</td>\n",
       "    </tr>\n",
       "    <tr>\n",
       "      <th>3</th>\n",
       "      <td>1100</td>\n",
       "      <td>1000</td>\n",
       "      <td>-700</td>\n",
       "      <td>MainFault</td>\n",
       "      <td>fault</td>\n",
       "      <td>${\\bf{x}}_{\\alpha \\,{\\bf{1}},3}$</td>\n",
       "    </tr>\n",
       "    <tr>\n",
       "      <th>4</th>\n",
       "      <td>900</td>\n",
       "      <td>1000</td>\n",
       "      <td>-1300</td>\n",
       "      <td>MainFault</td>\n",
       "      <td>fault</td>\n",
       "      <td>${\\bf{x}}_{\\alpha \\,{\\bf{1}},4}$</td>\n",
       "    </tr>\n",
       "  </tbody>\n",
       "</table>\n",
       "</div>"
      ],
      "text/plain": [
       "      X     Y     Z  formation series                       annotations\n",
       "0  1000  1000 -1000  MainFault  fault  ${\\bf{x}}_{\\alpha \\,{\\bf{1}},0}$\n",
       "1   800  1000 -1600  MainFault  fault  ${\\bf{x}}_{\\alpha \\,{\\bf{1}},1}$\n",
       "2  1200  1000  -400  MainFault  fault  ${\\bf{x}}_{\\alpha \\,{\\bf{1}},2}$\n",
       "3  1100  1000  -700  MainFault  fault  ${\\bf{x}}_{\\alpha \\,{\\bf{1}},3}$\n",
       "4   900  1000 -1300  MainFault  fault  ${\\bf{x}}_{\\alpha \\,{\\bf{1}},4}$"
      ]
     },
     "execution_count": 7,
     "metadata": {},
     "output_type": "execute_result"
    }
   ],
   "source": [
    "gp.get_data(geo_data, 'interfaces').head()"
   ]
  },
  {
   "cell_type": "markdown",
   "metadata": {},
   "source": [
    "#### Foliations Dataframe"
   ]
  },
  {
   "cell_type": "markdown",
   "metadata": {},
   "source": [
    "Now the formations and the series are correctly set."
   ]
  },
  {
   "cell_type": "code",
   "execution_count": 8,
   "metadata": {
    "scrolled": true
   },
   "outputs": [
    {
     "data": {
      "text/html": [
       "<div>\n",
       "<style>\n",
       "    .dataframe thead tr:only-child th {\n",
       "        text-align: right;\n",
       "    }\n",
       "\n",
       "    .dataframe thead th {\n",
       "        text-align: left;\n",
       "    }\n",
       "\n",
       "    .dataframe tbody tr th {\n",
       "        vertical-align: top;\n",
       "    }\n",
       "</style>\n",
       "<table border=\"1\" class=\"dataframe\">\n",
       "  <thead>\n",
       "    <tr style=\"text-align: right;\">\n",
       "      <th></th>\n",
       "      <th>X</th>\n",
       "      <th>Y</th>\n",
       "      <th>Z</th>\n",
       "      <th>dip</th>\n",
       "      <th>azimuth</th>\n",
       "      <th>polarity</th>\n",
       "      <th>formation</th>\n",
       "      <th>series</th>\n",
       "      <th>annotations</th>\n",
       "    </tr>\n",
       "  </thead>\n",
       "  <tbody>\n",
       "    <tr>\n",
       "      <th>0</th>\n",
       "      <td>917.45</td>\n",
       "      <td>1000.0</td>\n",
       "      <td>-1135.398</td>\n",
       "      <td>71.565</td>\n",
       "      <td>270.0</td>\n",
       "      <td>1</td>\n",
       "      <td>MainFault</td>\n",
       "      <td>fault</td>\n",
       "      <td>${\\bf{x}}_{\\beta \\,{\\bf{1}},0}$</td>\n",
       "    </tr>\n",
       "    <tr>\n",
       "      <th>1</th>\n",
       "      <td>1450.00</td>\n",
       "      <td>1000.0</td>\n",
       "      <td>-1150.000</td>\n",
       "      <td>18.435</td>\n",
       "      <td>90.0</td>\n",
       "      <td>1</td>\n",
       "      <td>Reservoir</td>\n",
       "      <td>Rest</td>\n",
       "      <td>${\\bf{x}}_{\\beta \\,{\\bf{4}},0}$</td>\n",
       "    </tr>\n",
       "  </tbody>\n",
       "</table>\n",
       "</div>"
      ],
      "text/plain": [
       "         X       Y         Z     dip  azimuth  polarity  formation series  \\\n",
       "0   917.45  1000.0 -1135.398  71.565    270.0         1  MainFault  fault   \n",
       "1  1450.00  1000.0 -1150.000  18.435     90.0         1  Reservoir   Rest   \n",
       "\n",
       "                       annotations  \n",
       "0  ${\\bf{x}}_{\\beta \\,{\\bf{1}},0}$  \n",
       "1  ${\\bf{x}}_{\\beta \\,{\\bf{4}},0}$  "
      ]
     },
     "execution_count": 8,
     "metadata": {},
     "output_type": "execute_result"
    }
   ],
   "source": [
    "gp.get_data(geo_data, 'foliations').head()"
   ]
  },
  {
   "cell_type": "markdown",
   "metadata": {},
   "source": [
    "It is important to notice the columns of each data frame. These not only contains the geometrical properties of the data but also the **formation** and **series** at which they belong. This division is fundamental in order to preserve the depositional ages of the setting to model.\n",
    "\n",
    "A projection of the aforementioned data can be visualized in to 2D by the following function. It is possible to choose the direction of visualization as well as the series:"
   ]
  },
  {
   "cell_type": "code",
   "execution_count": 11,
   "metadata": {},
   "outputs": [
    {
     "data": {
      "image/png": "[encoded data removed]",
      "text/plain": [
       "<matplotlib.figure.Figure at 0x7f6e2199fb38>"
      ]
     },
     "metadata": {},
     "output_type": "display_data"
    }
   ],
   "source": [
    "%matplotlib inline\n",
    "gp.plot_data(geo_data, direction='y')"
   ]
  },
  {
   "cell_type": "markdown",
   "metadata": {
    "collapsed": true
   },
   "source": [
    "GemPy supports visualization in 3D as well trough vtk. These plots are interactive. Try to drag and drop a point or interface! In the perpendicular views only 2D movements are possible to help to place the data where is required."
   ]
  },
  {
   "cell_type": "code",
   "execution_count": 12,
   "metadata": {
    "collapsed": true
   },
   "outputs": [],
   "source": [
    "gp.plot_data_3D(geo_data)"
   ]
  },
  {
   "cell_type": "markdown",
   "metadata": {},
   "source": [
    "## The ins and outs of Input data objects\n",
    "\n",
    "As we have seen objects DataManagement.InputData (usually called geo_data in the tutorials) aim to have all the original geological properties, measurements and geological relations stored. \n",
    "\n",
    "Once we have the data ready to generate a model, we will need to create the next object type towards the final geological model:"
   ]
  },
  {
   "cell_type": "code",
   "execution_count": 5,
   "metadata": {
    "scrolled": false
   },
   "outputs": [
    {
     "name": "stdout",
     "output_type": "stream",
     "text": [
      "Level of Optimization:  fast_compile\n",
      "Device:  cpu\n",
      "Precision:  float32\n",
      "<gempy.DataManagement.InterpolatorInput object at 0x7fe7302274a8>\n"
     ]
    }
   ],
   "source": [
    "interp_data = gp.InterpolatorInput(geo_data, u_grade=[3,3])\n",
    "print(interp_data)"
   ]
  },
  {
   "cell_type": "code",
   "execution_count": 14,
   "metadata": {},
   "outputs": [
    {
     "data": {
      "text/plain": [
       "{'DefaultBasement': 0,\n",
       " 'MainFault': 1,\n",
       " 'Overlying': 5,\n",
       " 'Reservoir': 4,\n",
       " 'Seal': 3,\n",
       " 'SecondaryReservoir': 2}"
      ]
     },
     "execution_count": 14,
     "metadata": {},
     "output_type": "execute_result"
    }
   ],
   "source": [
    "interp_data.get_formation_number()"
   ]
  },
  {
   "cell_type": "markdown",
   "metadata": {},
   "source": [
    "\n",
    "By default (there is a flag in case you do not need) when we create a interp_data object we also compile the theano function that compute the model. That is the reason why takes long.\n",
    "\n",
    "gempy.DataManagement.InterpolatorInput (usually called interp_data in the tutorials) prepares the original data to the interpolation algorithm by scaling the coordinates for better and adding all the mathematical parametrization needed.\n"
   ]
  },
  {
   "cell_type": "code",
   "execution_count": 15,
   "metadata": {},
   "outputs": [
    {
     "name": "stdout",
     "output_type": "stream",
     "text": [
      "range 0.8882311582565308 3464.1015172\n",
      "Number of drift equations [2 2]\n",
      "Covariance at 0 0.01878463476896286\n",
      "Foliations nugget effect 0.009999999776482582\n"
     ]
    }
   ],
   "source": [
    "gp.get_kriging_parameters(interp_data)"
   ]
  },
  {
   "cell_type": "markdown",
   "metadata": {},
   "source": [
    " These later parameters have a default value computed from the original data or can be changed by the user (be careful of changing any of these if you do not fully understand their meaning).\n",
    " \n",
    "At this point, we have all what we need to compute our model. By default everytime we compute a model we obtain:\n",
    "\n",
    "- Lithology block model\n",
    "    + with the lithology values in 0\n",
    "    + with the potential field values in 1\n",
    "- Fault block model\n",
    "    + with the faults zones values (i.e. every divided region by each fault has one number) in 0\n",
    "    + with the potential field values in 1"
   ]
  },
  {
   "cell_type": "code",
   "execution_count": 6,
   "metadata": {
    "collapsed": true
   },
   "outputs": [],
   "source": [
    "lith_block, fault_block = gp.compute_model(interp_data)"
   ]
  },
  {
   "cell_type": "markdown",
   "metadata": {},
   "source": [
    "This solution can be plot with the correspondent plotting function. Blocks:"
   ]
  },
  {
   "cell_type": "code",
   "execution_count": 7,
   "metadata": {},
   "outputs": [
    {
     "data": {
      "image/png": "[encoded data removed]",
      "text/plain": [
       "<matplotlib.figure.Figure at 0x7fe710f3a9e8>"
      ]
     },
     "metadata": {},
     "output_type": "display_data"
    }
   ],
   "source": [
    "%matplotlib inline\n",
    "gp.plot_section(geo_data, lith_block[0], 25, plot_data=True)"
   ]
  },
  {
   "cell_type": "markdown",
   "metadata": {},
   "source": [
    "Potential field:"
   ]
  },
  {
   "cell_type": "code",
   "execution_count": 8,
   "metadata": {},
   "outputs": [
    {
     "data": {
      "image/png": "[encoded data removed]",
      "text/plain": [
       "<matplotlib.figure.Figure at 0x7f7b4b4ee390>"
      ]
     },
     "metadata": {},
     "output_type": "display_data"
    }
   ],
   "source": [
    "gp.plot_potential_field(geo_data, lith_block[1], 25)"
   ]
  },
  {
   "cell_type": "markdown",
   "metadata": {},
   "source": [
    "From the potential fields (of lithologies and faults) it is possible to extract vertices and simpleces to create the 3D triangles for a vtk visualization."
   ]
  },
  {
   "cell_type": "code",
   "execution_count": 19,
   "metadata": {
    "collapsed": true
   },
   "outputs": [],
   "source": [
    "ver, sim = gp.get_surfaces(interp_data,lith_block[1], fault_block[1], original_scale=True)"
   ]
  },
  {
   "cell_type": "code",
   "execution_count": 20,
   "metadata": {
    "collapsed": true
   },
   "outputs": [],
   "source": [
    "gp.plot_surfaces_3D(geo_data, ver, sim, alpha=1)"
   ]
  },
  {
   "cell_type": "markdown",
   "metadata": {},
   "source": [
    "Additionally is possible to update the model and recompute the surfaces in real time. To do so, we need to pass the data rescaled. To get an smooth response is important to have the theano optimizer flag in fast_run and run theano in the gpu. This can speed up the modeling time in a factor of 20."
   ]
  },
  {
   "cell_type": "code",
   "execution_count": 21,
   "metadata": {
    "collapsed": true
   },
   "outputs": [],
   "source": [
    "ver_s, sim_s = gp.get_surfaces(interp_data,lith_block[1],\n",
    "                               fault_block[1],\n",
    "                               original_scale=False)"
   ]
  },
  {
   "cell_type": "code",
   "execution_count": 22,
   "metadata": {
    "collapsed": true
   },
   "outputs": [],
   "source": [
    "gp.plot_surfaces_3D_real_time(interp_data, ver_s, sim_s)"
   ]
  },
  {
   "cell_type": "markdown",
   "metadata": {},
   "source": [
    "In the same manner we can visualize the fault block:"
   ]
  },
  {
   "cell_type": "code",
   "execution_count": 23,
   "metadata": {},
   "outputs": [
    {
     "data": {
      "image/png": "[encoded data removed]",
      "text/plain": [
       "<matplotlib.figure.Figure at 0x7f6e0cf16550>"
      ]
     },
     "metadata": {},
     "output_type": "display_data"
    }
   ],
   "source": [
    "gp.plot_section(geo_data, fault_block[0], 25)"
   ]
  },
  {
   "cell_type": "code",
   "execution_count": 24,
   "metadata": {},
   "outputs": [
    {
     "data": {
      "image/png": "[encoded data removed]",
      "text/plain": [
       "<matplotlib.figure.Figure at 0x7f6e0f8a46a0>"
      ]
     },
     "metadata": {},
     "output_type": "display_data"
    }
   ],
   "source": [
    "gp.plot_potential_field(geo_data, fault_block[1], 25)"
   ]
  }
 ],
 "metadata": {
  "kernelspec": {
   "display_name": "Python [conda root]",
   "language": "python",
   "name": "conda-root-py"
  },
  "language_info": {
   "codemirror_mode": {
    "name": "ipython",
    "version": 3
   },
   "file_extension": ".py",
   "mimetype": "text/x-python",
   "name": "python",
   "nbconvert_exporter": "python",
   "pygments_lexer": "ipython3",
   "version": "3.5.4"
  },
  "latex_envs": {
   "LaTeX_envs_menu_present": true,
   "autocomplete": true,
   "bibliofile": "biblio.bib",
   "cite_by": "apalike",
   "current_citInitial": 1,
   "eqLabelWithNumbers": true,
   "eqNumInitial": 1,
   "hotkeys": {
    "equation": "Ctrl-E",
    "itemize": "Ctrl-I"
   },
   "labels_anchors": false,
   "latex_user_defs": false,
   "report_style_numbering": false,
   "user_envs_cfg": false
  },
  "toc": {
   "colors": {
    "hover_highlight": "#DAA520",
    "running_highlight": "#FF0000",
    "selected_highlight": "#FFD700"
   },
   "moveMenuLeft": true,
   "nav_menu": {
    "height": "67px",
    "width": "252px"
   },
   "navigate_menu": true,
   "number_sections": true,
   "sideBar": true,
   "threshold": 4,
   "toc_cell": false,
   "toc_section_display": "block",
   "toc_window_display": false,
   "widenNotebook": false
  }
 },
 "nbformat": 4,
 "nbformat_minor": 2
}
