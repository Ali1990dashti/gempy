{
 "cells": [
  {
   "cell_type": "markdown",
   "metadata": {},
   "source": [
    "# Chapter 1: GemPy Basic\n",
    "\n",
    "In this first example, we will show how to construct a first basic model and the main objects and functions. First we import gempy:"
   ]
  },
  {
   "cell_type": "code",
   "execution_count": 1,
   "metadata": {},
   "outputs": [],
   "source": [
    "# These two lines are necessary only if gempy is not installed\n",
    "import sys, os\n",
    "sys.path.append(\"../\")\n",
    "\n",
    "# Importing gempy\n",
    "import gempy as gp\n",
    "\n",
    "# Embedding matplotlib figures into the notebooks\n",
    "%matplotlib inline\n",
    "\n",
    "# Aux imports\n",
    "import numpy as np"
   ]
  },
  {
   "cell_type": "markdown",
   "metadata": {},
   "source": [
    "All data get stored in a python object InputData.  This object can be easily stored in a Python pickle. However, these files have the limitation that all dependecies must have the same versions as those when the pickle were created. For these reason to have more stable tutorials we will generate the InputData from raw data---i.e. csv files exported from Geomodeller.\n",
    "\n",
    "These csv files can be found in the input_data folder in the root folder of GemPy. These tables contains uniquely the XYZ (and poles, azimuth and polarity in the foliation case) as well as their respective formation name (but not necessary the formation order).\n"
   ]
  },
  {
   "cell_type": "code",
   "execution_count": 2,
   "metadata": {},
   "outputs": [],
   "source": [
    "# Importing the data from csv files and settign extent and resolution\n",
    "geo_data = gp.create_data([0,2000,0,2000,-2000,0],[ 50,50,50],\n",
    "                         path_f = os.pardir+\"/input_data/FabLessPoints_Foliations.csv\",\n",
    "                         path_i = os.pardir+\"/input_data/FabLessPoints_Points.csv\")"
   ]
  },
  {
   "cell_type": "markdown",
   "metadata": {},
   "source": [
    "With the command get data is possible to see all the input data. However, at the moment the (depositional) order of the formation and the separation of the series (More explanation about this in the next notebook) is totally arbitrary. "
   ]
  },
  {
   "cell_type": "code",
   "execution_count": 3,
   "metadata": {
    "scrolled": true
   },
   "outputs": [
    {
     "data": {
      "text/html": [
       "<div>\n",
       "<style>\n",
       "    .dataframe thead tr:only-child th {\n",
       "        text-align: right;\n",
       "    }\n",
       "\n",
       "    .dataframe thead th {\n",
       "        text-align: left;\n",
       "    }\n",
       "\n",
       "    .dataframe tbody tr th {\n",
       "        vertical-align: top;\n",
       "    }\n",
       "</style>\n",
       "<table border=\"1\" class=\"dataframe\">\n",
       "  <thead>\n",
       "    <tr style=\"text-align: right;\">\n",
       "      <th></th>\n",
       "      <th></th>\n",
       "      <th>X</th>\n",
       "      <th>Y</th>\n",
       "      <th>Z</th>\n",
       "      <th>azimuth</th>\n",
       "      <th>dip</th>\n",
       "      <th>formation</th>\n",
       "      <th>polarity</th>\n",
       "      <th>series</th>\n",
       "    </tr>\n",
       "  </thead>\n",
       "  <tbody>\n",
       "    <tr>\n",
       "      <th rowspan=\"5\" valign=\"top\">interfaces</th>\n",
       "      <th>0</th>\n",
       "      <td>800</td>\n",
       "      <td>200</td>\n",
       "      <td>-1400</td>\n",
       "      <td>NaN</td>\n",
       "      <td>NaN</td>\n",
       "      <td>Reservoir</td>\n",
       "      <td>NaN</td>\n",
       "      <td>Default serie</td>\n",
       "    </tr>\n",
       "    <tr>\n",
       "      <th>1</th>\n",
       "      <td>800</td>\n",
       "      <td>1800</td>\n",
       "      <td>-1400</td>\n",
       "      <td>NaN</td>\n",
       "      <td>NaN</td>\n",
       "      <td>Reservoir</td>\n",
       "      <td>NaN</td>\n",
       "      <td>Default serie</td>\n",
       "    </tr>\n",
       "    <tr>\n",
       "      <th>2</th>\n",
       "      <td>600</td>\n",
       "      <td>1000</td>\n",
       "      <td>-1050</td>\n",
       "      <td>NaN</td>\n",
       "      <td>NaN</td>\n",
       "      <td>Reservoir</td>\n",
       "      <td>NaN</td>\n",
       "      <td>Default serie</td>\n",
       "    </tr>\n",
       "    <tr>\n",
       "      <th>3</th>\n",
       "      <td>300</td>\n",
       "      <td>1000</td>\n",
       "      <td>-950</td>\n",
       "      <td>NaN</td>\n",
       "      <td>NaN</td>\n",
       "      <td>Reservoir</td>\n",
       "      <td>NaN</td>\n",
       "      <td>Default serie</td>\n",
       "    </tr>\n",
       "    <tr>\n",
       "      <th>4</th>\n",
       "      <td>2000</td>\n",
       "      <td>1000</td>\n",
       "      <td>-1275</td>\n",
       "      <td>NaN</td>\n",
       "      <td>NaN</td>\n",
       "      <td>Reservoir</td>\n",
       "      <td>NaN</td>\n",
       "      <td>Default serie</td>\n",
       "    </tr>\n",
       "  </tbody>\n",
       "</table>\n",
       "</div>"
      ],
      "text/plain": [
       "                 X     Y      Z azimuth  dip  formation polarity  \\\n",
       "interfaces 0   800   200  -1400     NaN  NaN  Reservoir      NaN   \n",
       "           1   800  1800  -1400     NaN  NaN  Reservoir      NaN   \n",
       "           2   600  1000  -1050     NaN  NaN  Reservoir      NaN   \n",
       "           3   300  1000   -950     NaN  NaN  Reservoir      NaN   \n",
       "           4  2000  1000  -1275     NaN  NaN  Reservoir      NaN   \n",
       "\n",
       "                     series  \n",
       "interfaces 0  Default serie  \n",
       "           1  Default serie  \n",
       "           2  Default serie  \n",
       "           3  Default serie  \n",
       "           4  Default serie  "
      ]
     },
     "execution_count": 3,
     "metadata": {},
     "output_type": "execute_result"
    }
   ],
   "source": [
    "gp.get_data(geo_data).head()"
   ]
  },
  {
   "cell_type": "markdown",
   "metadata": {},
   "source": [
    "To set the number of (depositional) series and which formation belongs to which, it is possible to use the function set_series. Here, there are two important things to notice:\n",
    "\n",
    "- set_series requires a dictionary. In Python dictionaries are not order (keys dictionaries since Python 3.6 are) and therefore there is not guarantee of having the right order.\n",
    "    + The order of the series are vital for the method (from younger to older).\n",
    "    + The order of the formations (as long they belong to the correct series) are only important for the color code. If the order of the pile differs from the final result the color of the interfaces and input data will be different\n",
    "\n",
    "- Every fault is treated as an independent series and **have to be at the top of the pile**. The relative order between the distinct faults represent the tectonic relation between them (from younger to older as well).\n",
    "\n",
    "The order of the series (for Python < 3.6, otherwise passing the correct order of keys in the dictionary is enough) can be given as attribute as in the cell below. For the order of formations can be passed as attribute as well or using the specific function set_order_formations."
   ]
  },
  {
   "cell_type": "code",
   "execution_count": 3,
   "metadata": {
    "scrolled": false
   },
   "outputs": [
    {
     "data": {
      "text/plain": [
       "<gempy.strat_pile.StratigraphicPile at 0x7f05e025ff98>"
      ]
     },
     "execution_count": 3,
     "metadata": {},
     "output_type": "execute_result"
    },
    {
     "data": {
      "image/png": "[encoded data removed]",
      "text/plain": [
       "<matplotlib.figure.Figure at 0x7f05e069a7f0>"
      ]
     },
     "metadata": {},
     "output_type": "display_data"
    }
   ],
   "source": [
    "# Assigning series to formations as well as their order (timewise)\n",
    "gp.set_series(geo_data, {\"fault\":'MainFault', \n",
    "                      \"Rest\": ('SecondaryReservoir','Seal', 'Reservoir', 'Overlying')},\n",
    "                       order_series = [\"fault\", 'Rest'],\n",
    "                       order_formations=['MainFault', \n",
    "                                         'SecondaryReservoir', 'Seal','Reservoir', 'Overlying',\n",
    "                                         ]) "
   ]
  },
  {
   "cell_type": "markdown",
   "metadata": {
    "scrolled": false
   },
   "source": [
    "As an alternative the stratigraphic pile is interactive given the right backend (try %matplotlib notebook or %matplotlib qt5). These backends sometimes give some trouble though. Try to execute the cell twice:"
   ]
  },
  {
   "cell_type": "code",
   "execution_count": 6,
   "metadata": {},
   "outputs": [
    {
     "data": {
      "application/javascript": [
       "/* Put everything inside the global mpl namespace */\n",
       "window.mpl = {};\n",
       "\n",
       "\n",
       "mpl.get_websocket_type = function() {\n",
       "    if (typeof(WebSocket) !== 'undefined') {\n",
       "        return WebSocket;\n",
       "    } else if (typeof(MozWebSocket) !== 'undefined') {\n",
       "        return MozWebSocket;\n",
       "    } else {\n",
       "        alert('Your browser does not have WebSocket support.' +\n",
       "              'Please try Chrome, Safari or Firefox ≥ 6. ' +\n",
       "              'Firefox 4 and 5 are also supported but you ' +\n",
       "              'have to enable WebSockets in about:config.');\n",
       "    };\n",
       "}\n",
       "\n",
       "mpl.figure = function(figure_id, websocket, ondownload, parent_element) {\n",
       "    this.id = figure_id;\n",
       "\n",
       "    this.ws = websocket;\n",
       "\n",
       "    this.supports_binary = (this.ws.binaryType != undefined);\n",
       "\n",
       "    if (!this.supports_binary) {\n",
       "        var warnings = document.getElementById(\"mpl-warnings\");\n",
       "        if (warnings) {\n",
       "            warnings.style.display = 'block';\n",
       "            warnings.textContent = (\n",
       "                \"This browser does not support binary websocket messages. \" +\n",
       "                    \"Performance may be slow.\");\n",
       "        }\n",
       "    }\n",
       "\n",
       "    this.imageObj = new Image();\n",
       "\n",
       "    this.context = undefined;\n",
       "    this.message = undefined;\n",
       "    this.canvas = undefined;\n",
       "    this.rubberband_canvas = undefined;\n",
       "    this.rubberband_context = undefined;\n",
       "    this.format_dropdown = undefined;\n",
       "\n",
       "    this.image_mode = 'full';\n",
       "\n",
       "    this.root = $('<div/>');\n",
       "    this._root_extra_style(this.root)\n",
       "    this.root.attr('style', 'display: inline-block');\n",
       "\n",
       "    $(parent_element).append(this.root);\n",
       "\n",
       "    this._init_header(this);\n",
       "    this._init_canvas(this);\n",
       "    this._init_toolbar(this);\n",
       "\n",
       "    var fig = this;\n",
       "\n",
       "    this.waiting = false;\n",
       "\n",
       "    this.ws.onopen =  function () {\n",
       "            fig.send_message(\"supports_binary\", {value: fig.supports_binary});\n",
       "            fig.send_message(\"send_image_mode\", {});\n",
       "            if (mpl.ratio != 1) {\n",
       "                fig.send_message(\"set_dpi_ratio\", {'dpi_ratio': mpl.ratio});\n",
       "            }\n",
       "            fig.send_message(\"refresh\", {});\n",
       "        }\n",
       "\n",
       "    this.imageObj.onload = function() {\n",
       "            if (fig.image_mode == 'full') {\n",
       "                // Full images could contain transparency (where diff images\n",
       "                // almost always do), so we need to clear the canvas so that\n",
       "                // there is no ghosting.\n",
       "                fig.context.clearRect(0, 0, fig.canvas.width, fig.canvas.height);\n",
       "            }\n",
       "            fig.context.drawImage(fig.imageObj, 0, 0);\n",
       "        };\n",
       "\n",
       "    this.imageObj.onunload = function() {\n",
       "        this.ws.close();\n",
       "    }\n",
       "\n",
       "    this.ws.onmessage = this._make_on_message_function(this);\n",
       "\n",
       "    this.ondownload = ondownload;\n",
       "}\n",
       "\n",
       "mpl.figure.prototype._init_header = function() {\n",
       "    var titlebar = $(\n",
       "        '<div class=\"ui-dialog-titlebar ui-widget-header ui-corner-all ' +\n",
       "        'ui-helper-clearfix\"/>');\n",
       "    var titletext = $(\n",
       "        '<div class=\"ui-dialog-title\" style=\"width: 100%; ' +\n",
       "        'text-align: center; padding: 3px;\"/>');\n",
       "    titlebar.append(titletext)\n",
       "    this.root.append(titlebar);\n",
       "    this.header = titletext[0];\n",
       "}\n",
       "\n",
       "\n",
       "\n",
       "mpl.figure.prototype._canvas_extra_style = function(canvas_div) {\n",
       "\n",
       "}\n",
       "\n",
       "\n",
       "mpl.figure.prototype._root_extra_style = function(canvas_div) {\n",
       "\n",
       "}\n",
       "\n",
       "mpl.figure.prototype._init_canvas = function() {\n",
       "    var fig = this;\n",
       "\n",
       "    var canvas_div = $('<div/>');\n",
       "\n",
       "    canvas_div.attr('style', 'position: relative; clear: both; outline: 0');\n",
       "\n",
       "    function canvas_keyboard_event(event) {\n",
       "        return fig.key_event(event, event['data']);\n",
       "    }\n",
       "\n",
       "    canvas_div.keydown('key_press', canvas_keyboard_event);\n",
       "    canvas_div.keyup('key_release', canvas_keyboard_event);\n",
       "    this.canvas_div = canvas_div\n",
       "    this._canvas_extra_style(canvas_div)\n",
       "    this.root.append(canvas_div);\n",
       "\n",
       "    var canvas = $('<canvas/>');\n",
       "    canvas.addClass('mpl-canvas');\n",
       "    canvas.attr('style', \"left: 0; top: 0; z-index: 0; outline: 0\")\n",
       "\n",
       "    this.canvas = canvas[0];\n",
       "    this.context = canvas[0].getContext(\"2d\");\n",
       "\n",
       "    var backingStore = this.context.backingStorePixelRatio ||\n",
       "\tthis.context.webkitBackingStorePixelRatio ||\n",
       "\tthis.context.mozBackingStorePixelRatio ||\n",
       "\tthis.context.msBackingStorePixelRatio ||\n",
       "\tthis.context.oBackingStorePixelRatio ||\n",
       "\tthis.context.backingStorePixelRatio || 1;\n",
       "\n",
       "    mpl.ratio = (window.devicePixelRatio || 1) / backingStore;\n",
       "\n",
       "    var rubberband = $('<canvas/>');\n",
       "    rubberband.attr('style', \"position: absolute; left: 0; top: 0; z-index: 1;\")\n",
       "\n",
       "    var pass_mouse_events = true;\n",
       "\n",
       "    canvas_div.resizable({\n",
       "        start: function(event, ui) {\n",
       "            pass_mouse_events = false;\n",
       "        },\n",
       "        resize: function(event, ui) {\n",
       "            fig.request_resize(ui.size.width, ui.size.height);\n",
       "        },\n",
       "        stop: function(event, ui) {\n",
       "            pass_mouse_events = true;\n",
       "            fig.request_resize(ui.size.width, ui.size.height);\n",
       "        },\n",
       "    });\n",
       "\n",
       "    function mouse_event_fn(event) {\n",
       "        if (pass_mouse_events)\n",
       "            return fig.mouse_event(event, event['data']);\n",
       "    }\n",
       "\n",
       "    rubberband.mousedown('button_press', mouse_event_fn);\n",
       "    rubberband.mouseup('button_release', mouse_event_fn);\n",
       "    // Throttle sequential mouse events to 1 every 20ms.\n",
       "    rubberband.mousemove('motion_notify', mouse_event_fn);\n",
       "\n",
       "    rubberband.mouseenter('figure_enter', mouse_event_fn);\n",
       "    rubberband.mouseleave('figure_leave', mouse_event_fn);\n",
       "\n",
       "    canvas_div.on(\"wheel\", function (event) {\n",
       "        event = event.originalEvent;\n",
       "        event['data'] = 'scroll'\n",
       "        if (event.deltaY < 0) {\n",
       "            event.step = 1;\n",
       "        } else {\n",
       "            event.step = -1;\n",
       "        }\n",
       "        mouse_event_fn(event);\n",
       "    });\n",
       "\n",
       "    canvas_div.append(canvas);\n",
       "    canvas_div.append(rubberband);\n",
       "\n",
       "    this.rubberband = rubberband;\n",
       "    this.rubberband_canvas = rubberband[0];\n",
       "    this.rubberband_context = rubberband[0].getContext(\"2d\");\n",
       "    this.rubberband_context.strokeStyle = \"#000000\";\n",
       "\n",
       "    this._resize_canvas = function(width, height) {\n",
       "        // Keep the size of the canvas, canvas container, and rubber band\n",
       "        // canvas in synch.\n",
       "        canvas_div.css('width', width)\n",
       "        canvas_div.css('height', height)\n",
       "\n",
       "        canvas.attr('width', width * mpl.ratio);\n",
       "        canvas.attr('height', height * mpl.ratio);\n",
       "        canvas.attr('style', 'width: ' + width + 'px; height: ' + height + 'px;');\n",
       "\n",
       "        rubberband.attr('width', width);\n",
       "        rubberband.attr('height', height);\n",
       "    }\n",
       "\n",
       "    // Set the figure to an initial 600x600px, this will subsequently be updated\n",
       "    // upon first draw.\n",
       "    this._resize_canvas(600, 600);\n",
       "\n",
       "    // Disable right mouse context menu.\n",
       "    $(this.rubberband_canvas).bind(\"contextmenu\",function(e){\n",
       "        return false;\n",
       "    });\n",
       "\n",
       "    function set_focus () {\n",
       "        canvas.focus();\n",
       "        canvas_div.focus();\n",
       "    }\n",
       "\n",
       "    window.setTimeout(set_focus, 100);\n",
       "}\n",
       "\n",
       "mpl.figure.prototype._init_toolbar = function() {\n",
       "    var fig = this;\n",
       "\n",
       "    var nav_element = $('<div/>')\n",
       "    nav_element.attr('style', 'width: 100%');\n",
       "    this.root.append(nav_element);\n",
       "\n",
       "    // Define a callback function for later on.\n",
       "    function toolbar_event(event) {\n",
       "        return fig.toolbar_button_onclick(event['data']);\n",
       "    }\n",
       "    function toolbar_mouse_event(event) {\n",
       "        return fig.toolbar_button_onmouseover(event['data']);\n",
       "    }\n",
       "\n",
       "    for(var toolbar_ind in mpl.toolbar_items) {\n",
       "        var name = mpl.toolbar_items[toolbar_ind][0];\n",
       "        var tooltip = mpl.toolbar_items[toolbar_ind][1];\n",
       "        var image = mpl.toolbar_items[toolbar_ind][2];\n",
       "        var method_name = mpl.toolbar_items[toolbar_ind][3];\n",
       "\n",
       "        if (!name) {\n",
       "            // put a spacer in here.\n",
       "            continue;\n",
       "        }\n",
       "        var button = $('<button/>');\n",
       "        button.addClass('ui-button ui-widget ui-state-default ui-corner-all ' +\n",
       "                        'ui-button-icon-only');\n",
       "        button.attr('role', 'button');\n",
       "        button.attr('aria-disabled', 'false');\n",
       "        button.click(method_name, toolbar_event);\n",
       "        button.mouseover(tooltip, toolbar_mouse_event);\n",
       "\n",
       "        var icon_img = $('<span/>');\n",
       "        icon_img.addClass('ui-button-icon-primary ui-icon');\n",
       "        icon_img.addClass(image);\n",
       "        icon_img.addClass('ui-corner-all');\n",
       "\n",
       "        var tooltip_span = $('<span/>');\n",
       "        tooltip_span.addClass('ui-button-text');\n",
       "        tooltip_span.html(tooltip);\n",
       "\n",
       "        button.append(icon_img);\n",
       "        button.append(tooltip_span);\n",
       "\n",
       "        nav_element.append(button);\n",
       "    }\n",
       "\n",
       "    var fmt_picker_span = $('<span/>');\n",
       "\n",
       "    var fmt_picker = $('<select/>');\n",
       "    fmt_picker.addClass('mpl-toolbar-option ui-widget ui-widget-content');\n",
       "    fmt_picker_span.append(fmt_picker);\n",
       "    nav_element.append(fmt_picker_span);\n",
       "    this.format_dropdown = fmt_picker[0];\n",
       "\n",
       "    for (var ind in mpl.extensions) {\n",
       "        var fmt = mpl.extensions[ind];\n",
       "        var option = $(\n",
       "            '<option/>', {selected: fmt === mpl.default_extension}).html(fmt);\n",
       "        fmt_picker.append(option)\n",
       "    }\n",
       "\n",
       "    // Add hover states to the ui-buttons\n",
       "    $( \".ui-button\" ).hover(\n",
       "        function() { $(this).addClass(\"ui-state-hover\");},\n",
       "        function() { $(this).removeClass(\"ui-state-hover\");}\n",
       "    );\n",
       "\n",
       "    var status_bar = $('<span class=\"mpl-message\"/>');\n",
       "    nav_element.append(status_bar);\n",
       "    this.message = status_bar[0];\n",
       "}\n",
       "\n",
       "mpl.figure.prototype.request_resize = function(x_pixels, y_pixels) {\n",
       "    // Request matplotlib to resize the figure. Matplotlib will then trigger a resize in the client,\n",
       "    // which will in turn request a refresh of the image.\n",
       "    this.send_message('resize', {'width': x_pixels, 'height': y_pixels});\n",
       "}\n",
       "\n",
       "mpl.figure.prototype.send_message = function(type, properties) {\n",
       "    properties['type'] = type;\n",
       "    properties['figure_id'] = this.id;\n",
       "    this.ws.send(JSON.stringify(properties));\n",
       "}\n",
       "\n",
       "mpl.figure.prototype.send_draw_message = function() {\n",
       "    if (!this.waiting) {\n",
       "        this.waiting = true;\n",
       "        this.ws.send(JSON.stringify({type: \"draw\", figure_id: this.id}));\n",
       "    }\n",
       "}\n",
       "\n",
       "\n",
       "mpl.figure.prototype.handle_save = function(fig, msg) {\n",
       "    var format_dropdown = fig.format_dropdown;\n",
       "    var format = format_dropdown.options[format_dropdown.selectedIndex].value;\n",
       "    fig.ondownload(fig, format);\n",
       "}\n",
       "\n",
       "\n",
       "mpl.figure.prototype.handle_resize = function(fig, msg) {\n",
       "    var size = msg['size'];\n",
       "    if (size[0] != fig.canvas.width || size[1] != fig.canvas.height) {\n",
       "        fig._resize_canvas(size[0], size[1]);\n",
       "        fig.send_message(\"refresh\", {});\n",
       "    };\n",
       "}\n",
       "\n",
       "mpl.figure.prototype.handle_rubberband = function(fig, msg) {\n",
       "    var x0 = msg['x0'] / mpl.ratio;\n",
       "    var y0 = (fig.canvas.height - msg['y0']) / mpl.ratio;\n",
       "    var x1 = msg['x1'] / mpl.ratio;\n",
       "    var y1 = (fig.canvas.height - msg['y1']) / mpl.ratio;\n",
       "    x0 = Math.floor(x0) + 0.5;\n",
       "    y0 = Math.floor(y0) + 0.5;\n",
       "    x1 = Math.floor(x1) + 0.5;\n",
       "    y1 = Math.floor(y1) + 0.5;\n",
       "    var min_x = Math.min(x0, x1);\n",
       "    var min_y = Math.min(y0, y1);\n",
       "    var width = Math.abs(x1 - x0);\n",
       "    var height = Math.abs(y1 - y0);\n",
       "\n",
       "    fig.rubberband_context.clearRect(\n",
       "        0, 0, fig.canvas.width, fig.canvas.height);\n",
       "\n",
       "    fig.rubberband_context.strokeRect(min_x, min_y, width, height);\n",
       "}\n",
       "\n",
       "mpl.figure.prototype.handle_figure_label = function(fig, msg) {\n",
       "    // Updates the figure title.\n",
       "    fig.header.textContent = msg['label'];\n",
       "}\n",
       "\n",
       "mpl.figure.prototype.handle_cursor = function(fig, msg) {\n",
       "    var cursor = msg['cursor'];\n",
       "    switch(cursor)\n",
       "    {\n",
       "    case 0:\n",
       "        cursor = 'pointer';\n",
       "        break;\n",
       "    case 1:\n",
       "        cursor = 'default';\n",
       "        break;\n",
       "    case 2:\n",
       "        cursor = 'crosshair';\n",
       "        break;\n",
       "    case 3:\n",
       "        cursor = 'move';\n",
       "        break;\n",
       "    }\n",
       "    fig.rubberband_canvas.style.cursor = cursor;\n",
       "}\n",
       "\n",
       "mpl.figure.prototype.handle_message = function(fig, msg) {\n",
       "    fig.message.textContent = msg['message'];\n",
       "}\n",
       "\n",
       "mpl.figure.prototype.handle_draw = function(fig, msg) {\n",
       "    // Request the server to send over a new figure.\n",
       "    fig.send_draw_message();\n",
       "}\n",
       "\n",
       "mpl.figure.prototype.handle_image_mode = function(fig, msg) {\n",
       "    fig.image_mode = msg['mode'];\n",
       "}\n",
       "\n",
       "mpl.figure.prototype.updated_canvas_event = function() {\n",
       "    // Called whenever the canvas gets updated.\n",
       "    this.send_message(\"ack\", {});\n",
       "}\n",
       "\n",
       "// A function to construct a web socket function for onmessage handling.\n",
       "// Called in the figure constructor.\n",
       "mpl.figure.prototype._make_on_message_function = function(fig) {\n",
       "    return function socket_on_message(evt) {\n",
       "        if (evt.data instanceof Blob) {\n",
       "            /* FIXME: We get \"Resource interpreted as Image but\n",
       "             * transferred with MIME type text/plain:\" errors on\n",
       "             * Chrome.  But how to set the MIME type?  It doesn't seem\n",
       "             * to be part of the websocket stream */\n",
       "            evt.data.type = \"image/png\";\n",
       "\n",
       "            /* Free the memory for the previous frames */\n",
       "            if (fig.imageObj.src) {\n",
       "                (window.URL || window.webkitURL).revokeObjectURL(\n",
       "                    fig.imageObj.src);\n",
       "            }\n",
       "\n",
       "            fig.imageObj.src = (window.URL || window.webkitURL).createObjectURL(\n",
       "                evt.data);\n",
       "            fig.updated_canvas_event();\n",
       "            fig.waiting = false;\n",
       "            return;\n",
       "        }\n",
       "        else if (typeof evt.data === 'string' && evt.data.slice(0, 21) == \"data:image/png;base64\") {\n",
       "            fig.imageObj.src = evt.data;\n",
       "            fig.updated_canvas_event();\n",
       "            fig.waiting = false;\n",
       "            return;\n",
       "        }\n",
       "\n",
       "        var msg = JSON.parse(evt.data);\n",
       "        var msg_type = msg['type'];\n",
       "\n",
       "        // Call the  \"handle_{type}\" callback, which takes\n",
       "        // the figure and JSON message as its only arguments.\n",
       "        try {\n",
       "            var callback = fig[\"handle_\" + msg_type];\n",
       "        } catch (e) {\n",
       "            console.log(\"No handler for the '\" + msg_type + \"' message type: \", msg);\n",
       "            return;\n",
       "        }\n",
       "\n",
       "        if (callback) {\n",
       "            try {\n",
       "                // console.log(\"Handling '\" + msg_type + \"' message: \", msg);\n",
       "                callback(fig, msg);\n",
       "            } catch (e) {\n",
       "                console.log(\"Exception inside the 'handler_\" + msg_type + \"' callback:\", e, e.stack, msg);\n",
       "            }\n",
       "        }\n",
       "    };\n",
       "}\n",
       "\n",
       "// from http://stackoverflow.com/questions/1114465/getting-mouse-location-in-canvas\n",
       "mpl.findpos = function(e) {\n",
       "    //this section is from http://www.quirksmode.org/js/events_properties.html\n",
       "    var targ;\n",
       "    if (!e)\n",
       "        e = window.event;\n",
       "    if (e.target)\n",
       "        targ = e.target;\n",
       "    else if (e.srcElement)\n",
       "        targ = e.srcElement;\n",
       "    if (targ.nodeType == 3) // defeat Safari bug\n",
       "        targ = targ.parentNode;\n",
       "\n",
       "    // jQuery normalizes the pageX and pageY\n",
       "    // pageX,Y are the mouse positions relative to the document\n",
       "    // offset() returns the position of the element relative to the document\n",
       "    var x = e.pageX - $(targ).offset().left;\n",
       "    var y = e.pageY - $(targ).offset().top;\n",
       "\n",
       "    return {\"x\": x, \"y\": y};\n",
       "};\n",
       "\n",
       "/*\n",
       " * return a copy of an object with only non-object keys\n",
       " * we need this to avoid circular references\n",
       " * http://stackoverflow.com/a/24161582/3208463\n",
       " */\n",
       "function simpleKeys (original) {\n",
       "  return Object.keys(original).reduce(function (obj, key) {\n",
       "    if (typeof original[key] !== 'object')\n",
       "        obj[key] = original[key]\n",
       "    return obj;\n",
       "  }, {});\n",
       "}\n",
       "\n",
       "mpl.figure.prototype.mouse_event = function(event, name) {\n",
       "    var canvas_pos = mpl.findpos(event)\n",
       "\n",
       "    if (name === 'button_press')\n",
       "    {\n",
       "        this.canvas.focus();\n",
       "        this.canvas_div.focus();\n",
       "    }\n",
       "\n",
       "    var x = canvas_pos.x * mpl.ratio;\n",
       "    var y = canvas_pos.y * mpl.ratio;\n",
       "\n",
       "    this.send_message(name, {x: x, y: y, button: event.button,\n",
       "                             step: event.step,\n",
       "                             guiEvent: simpleKeys(event)});\n",
       "\n",
       "    /* This prevents the web browser from automatically changing to\n",
       "     * the text insertion cursor when the button is pressed.  We want\n",
       "     * to control all of the cursor setting manually through the\n",
       "     * 'cursor' event from matplotlib */\n",
       "    event.preventDefault();\n",
       "    return false;\n",
       "}\n",
       "\n",
       "mpl.figure.prototype._key_event_extra = function(event, name) {\n",
       "    // Handle any extra behaviour associated with a key event\n",
       "}\n",
       "\n",
       "mpl.figure.prototype.key_event = function(event, name) {\n",
       "\n",
       "    // Prevent repeat events\n",
       "    if (name == 'key_press')\n",
       "    {\n",
       "        if (event.which === this._key)\n",
       "            return;\n",
       "        else\n",
       "            this._key = event.which;\n",
       "    }\n",
       "    if (name == 'key_release')\n",
       "        this._key = null;\n",
       "\n",
       "    var value = '';\n",
       "    if (event.ctrlKey && event.which != 17)\n",
       "        value += \"ctrl+\";\n",
       "    if (event.altKey && event.which != 18)\n",
       "        value += \"alt+\";\n",
       "    if (event.shiftKey && event.which != 16)\n",
       "        value += \"shift+\";\n",
       "\n",
       "    value += 'k';\n",
       "    value += event.which.toString();\n",
       "\n",
       "    this._key_event_extra(event, name);\n",
       "\n",
       "    this.send_message(name, {key: value,\n",
       "                             guiEvent: simpleKeys(event)});\n",
       "    return false;\n",
       "}\n",
       "\n",
       "mpl.figure.prototype.toolbar_button_onclick = function(name) {\n",
       "    if (name == 'download') {\n",
       "        this.handle_save(this, null);\n",
       "    } else {\n",
       "        this.send_message(\"toolbar_button\", {name: name});\n",
       "    }\n",
       "};\n",
       "\n",
       "mpl.figure.prototype.toolbar_button_onmouseover = function(tooltip) {\n",
       "    this.message.textContent = tooltip;\n",
       "};\n",
       "mpl.toolbar_items = [[\"Home\", \"Reset original view\", \"fa fa-home icon-home\", \"home\"], [\"Back\", \"Back to  previous view\", \"fa fa-arrow-left icon-arrow-left\", \"back\"], [\"Forward\", \"Forward to next view\", \"fa fa-arrow-right icon-arrow-right\", \"forward\"], [\"\", \"\", \"\", \"\"], [\"Pan\", \"Pan axes with left mouse, zoom with right\", \"fa fa-arrows icon-move\", \"pan\"], [\"Zoom\", \"Zoom to rectangle\", \"fa fa-square-o icon-check-empty\", \"zoom\"], [\"\", \"\", \"\", \"\"], [\"Download\", \"Download plot\", \"fa fa-floppy-o icon-save\", \"download\"]];\n",
       "\n",
       "mpl.extensions = [\"eps\", \"jpeg\", \"pdf\", \"png\", \"ps\", \"raw\", \"svg\", \"tif\"];\n",
       "\n",
       "mpl.default_extension = \"png\";var comm_websocket_adapter = function(comm) {\n",
       "    // Create a \"websocket\"-like object which calls the given IPython comm\n",
       "    // object with the appropriate methods. Currently this is a non binary\n",
       "    // socket, so there is still some room for performance tuning.\n",
       "    var ws = {};\n",
       "\n",
       "    ws.close = function() {\n",
       "        comm.close()\n",
       "    };\n",
       "    ws.send = function(m) {\n",
       "        //console.log('sending', m);\n",
       "        comm.send(m);\n",
       "    };\n",
       "    // Register the callback with on_msg.\n",
       "    comm.on_msg(function(msg) {\n",
       "        //console.log('receiving', msg['content']['data'], msg);\n",
       "        // Pass the mpl event to the overriden (by mpl) onmessage function.\n",
       "        ws.onmessage(msg['content']['data'])\n",
       "    });\n",
       "    return ws;\n",
       "}\n",
       "\n",
       "mpl.mpl_figure_comm = function(comm, msg) {\n",
       "    // This is the function which gets called when the mpl process\n",
       "    // starts-up an IPython Comm through the \"matplotlib\" channel.\n",
       "\n",
       "    var id = msg.content.data.id;\n",
       "    // Get hold of the div created by the display call when the Comm\n",
       "    // socket was opened in Python.\n",
       "    var element = $(\"#\" + id);\n",
       "    var ws_proxy = comm_websocket_adapter(comm)\n",
       "\n",
       "    function ondownload(figure, format) {\n",
       "        window.open(figure.imageObj.src);\n",
       "    }\n",
       "\n",
       "    var fig = new mpl.figure(id, ws_proxy,\n",
       "                           ondownload,\n",
       "                           element.get(0));\n",
       "\n",
       "    // Call onopen now - mpl needs it, as it is assuming we've passed it a real\n",
       "    // web socket which is closed, not our websocket->open comm proxy.\n",
       "    ws_proxy.onopen();\n",
       "\n",
       "    fig.parent_element = element.get(0);\n",
       "    fig.cell_info = mpl.find_output_cell(\"<div id='\" + id + \"'></div>\");\n",
       "    if (!fig.cell_info) {\n",
       "        console.error(\"Failed to find cell for figure\", id, fig);\n",
       "        return;\n",
       "    }\n",
       "\n",
       "    var output_index = fig.cell_info[2]\n",
       "    var cell = fig.cell_info[0];\n",
       "\n",
       "};\n",
       "\n",
       "mpl.figure.prototype.handle_close = function(fig, msg) {\n",
       "    var width = fig.canvas.width/mpl.ratio\n",
       "    fig.root.unbind('remove')\n",
       "\n",
       "    // Update the output cell to use the data from the current canvas.\n",
       "    fig.push_to_output();\n",
       "    var dataURL = fig.canvas.toDataURL();\n",
       "    // Re-enable the keyboard manager in IPython - without this line, in FF,\n",
       "    // the notebook keyboard shortcuts fail.\n",
       "    IPython.keyboard_manager.enable()\n",
       "    $(fig.parent_element).html('<img src=\"' + dataURL + '\" width=\"' + width + '\">');\n",
       "    fig.close_ws(fig, msg);\n",
       "}\n",
       "\n",
       "mpl.figure.prototype.close_ws = function(fig, msg){\n",
       "    fig.send_message('closing', msg);\n",
       "    // fig.ws.close()\n",
       "}\n",
       "\n",
       "mpl.figure.prototype.push_to_output = function(remove_interactive) {\n",
       "    // Turn the data on the canvas into data in the output cell.\n",
       "    var width = this.canvas.width/mpl.ratio\n",
       "    var dataURL = this.canvas.toDataURL();\n",
       "    this.cell_info[1]['text/html'] = '<img src=\"' + dataURL + '\" width=\"' + width + '\">';\n",
       "}\n",
       "\n",
       "mpl.figure.prototype.updated_canvas_event = function() {\n",
       "    // Tell IPython that the notebook contents must change.\n",
       "    IPython.notebook.set_dirty(true);\n",
       "    this.send_message(\"ack\", {});\n",
       "    var fig = this;\n",
       "    // Wait a second, then push the new image to the DOM so\n",
       "    // that it is saved nicely (might be nice to debounce this).\n",
       "    setTimeout(function () { fig.push_to_output() }, 1000);\n",
       "}\n",
       "\n",
       "mpl.figure.prototype._init_toolbar = function() {\n",
       "    var fig = this;\n",
       "\n",
       "    var nav_element = $('<div/>')\n",
       "    nav_element.attr('style', 'width: 100%');\n",
       "    this.root.append(nav_element);\n",
       "\n",
       "    // Define a callback function for later on.\n",
       "    function toolbar_event(event) {\n",
       "        return fig.toolbar_button_onclick(event['data']);\n",
       "    }\n",
       "    function toolbar_mouse_event(event) {\n",
       "        return fig.toolbar_button_onmouseover(event['data']);\n",
       "    }\n",
       "\n",
       "    for(var toolbar_ind in mpl.toolbar_items){\n",
       "        var name = mpl.toolbar_items[toolbar_ind][0];\n",
       "        var tooltip = mpl.toolbar_items[toolbar_ind][1];\n",
       "        var image = mpl.toolbar_items[toolbar_ind][2];\n",
       "        var method_name = mpl.toolbar_items[toolbar_ind][3];\n",
       "\n",
       "        if (!name) { continue; };\n",
       "\n",
       "        var button = $('<button class=\"btn btn-default\" href=\"#\" title=\"' + name + '\"><i class=\"fa ' + image + ' fa-lg\"></i></button>');\n",
       "        button.click(method_name, toolbar_event);\n",
       "        button.mouseover(tooltip, toolbar_mouse_event);\n",
       "        nav_element.append(button);\n",
       "    }\n",
       "\n",
       "    // Add the status bar.\n",
       "    var status_bar = $('<span class=\"mpl-message\" style=\"text-align:right; float: right;\"/>');\n",
       "    nav_element.append(status_bar);\n",
       "    this.message = status_bar[0];\n",
       "\n",
       "    // Add the close button to the window.\n",
       "    var buttongrp = $('<div class=\"btn-group inline pull-right\"></div>');\n",
       "    var button = $('<button class=\"btn btn-mini btn-primary\" href=\"#\" title=\"Stop Interaction\"><i class=\"fa fa-power-off icon-remove icon-large\"></i></button>');\n",
       "    button.click(function (evt) { fig.handle_close(fig, {}); } );\n",
       "    button.mouseover('Stop Interaction', toolbar_mouse_event);\n",
       "    buttongrp.append(button);\n",
       "    var titlebar = this.root.find($('.ui-dialog-titlebar'));\n",
       "    titlebar.prepend(buttongrp);\n",
       "}\n",
       "\n",
       "mpl.figure.prototype._root_extra_style = function(el){\n",
       "    var fig = this\n",
       "    el.on(\"remove\", function(){\n",
       "\tfig.close_ws(fig, {});\n",
       "    });\n",
       "}\n",
       "\n",
       "mpl.figure.prototype._canvas_extra_style = function(el){\n",
       "    // this is important to make the div 'focusable\n",
       "    el.attr('tabindex', 0)\n",
       "    // reach out to IPython and tell the keyboard manager to turn it's self\n",
       "    // off when our div gets focus\n",
       "\n",
       "    // location in version 3\n",
       "    if (IPython.notebook.keyboard_manager) {\n",
       "        IPython.notebook.keyboard_manager.register_events(el);\n",
       "    }\n",
       "    else {\n",
       "        // location in version 2\n",
       "        IPython.keyboard_manager.register_events(el);\n",
       "    }\n",
       "\n",
       "}\n",
       "\n",
       "mpl.figure.prototype._key_event_extra = function(event, name) {\n",
       "    var manager = IPython.notebook.keyboard_manager;\n",
       "    if (!manager)\n",
       "        manager = IPython.keyboard_manager;\n",
       "\n",
       "    // Check for shift+enter\n",
       "    if (event.shiftKey && event.which == 13) {\n",
       "        this.canvas_div.blur();\n",
       "        // select the cell after this one\n",
       "        var index = IPython.notebook.find_cell_index(this.cell_info[0]);\n",
       "        IPython.notebook.select(index + 1);\n",
       "    }\n",
       "}\n",
       "\n",
       "mpl.figure.prototype.handle_save = function(fig, msg) {\n",
       "    fig.ondownload(fig, null);\n",
       "}\n",
       "\n",
       "\n",
       "mpl.find_output_cell = function(html_output) {\n",
       "    // Return the cell and output element which can be found *uniquely* in the notebook.\n",
       "    // Note - this is a bit hacky, but it is done because the \"notebook_saving.Notebook\"\n",
       "    // IPython event is triggered only after the cells have been serialised, which for\n",
       "    // our purposes (turning an active figure into a static one), is too late.\n",
       "    var cells = IPython.notebook.get_cells();\n",
       "    var ncells = cells.length;\n",
       "    for (var i=0; i<ncells; i++) {\n",
       "        var cell = cells[i];\n",
       "        if (cell.cell_type === 'code'){\n",
       "            for (var j=0; j<cell.output_area.outputs.length; j++) {\n",
       "                var data = cell.output_area.outputs[j];\n",
       "                if (data.data) {\n",
       "                    // IPython >= 3 moved mimebundle to data attribute of output\n",
       "                    data = data.data;\n",
       "                }\n",
       "                if (data['text/html'] == html_output) {\n",
       "                    return [cell, data, j];\n",
       "                }\n",
       "            }\n",
       "        }\n",
       "    }\n",
       "}\n",
       "\n",
       "// Register the function which deals with the matplotlib target/channel.\n",
       "// The kernel may be null if the page has been refreshed.\n",
       "if (IPython.notebook.kernel != null) {\n",
       "    IPython.notebook.kernel.comm_manager.register_target('matplotlib', mpl.mpl_figure_comm);\n",
       "}\n"
      ],
      "text/plain": [
       "<IPython.core.display.Javascript object>"
      ]
     },
     "metadata": {},
     "output_type": "display_data"
    },
    {
     "data": {
      "text/html": [
       "<img src=\"data:image/png;base64,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\" width=\"747.9999777078635\">"
      ],
      "text/plain": [
       "<IPython.core.display.HTML object>"
      ]
     },
     "metadata": {},
     "output_type": "display_data"
    },
    {
     "data": {
      "text/plain": [
       "<gempy.strat_pile.StratigraphicPile at 0x7f308d591780>"
      ]
     },
     "execution_count": 6,
     "metadata": {},
     "output_type": "execute_result"
    }
   ],
   "source": [
    "%matplotlib notebook\n",
    "gp.get_stratigraphic_pile(geo_data)"
   ]
  },
  {
   "cell_type": "markdown",
   "metadata": {},
   "source": [
    "Notice that the colors depends on the order and therefore every time the cell is executed the colors are always in the same position. Be aware of the legend to be sure that the pile is as you wish!! (In the future every color will have the annotation within the rectangles to avoid confusion)"
   ]
  },
  {
   "cell_type": "markdown",
   "metadata": {},
   "source": [
    "This geo_data object contains essential information that we can access through the correspondent getters. Such a the coordinates of the grid."
   ]
  },
  {
   "cell_type": "code",
   "execution_count": 7,
   "metadata": {},
   "outputs": [
    {
     "name": "stdout",
     "output_type": "stream",
     "text": [
      "[[    0.             0.         -2000.        ]\n",
      " [    0.             0.         -1959.18371582]\n",
      " [    0.             0.         -1918.36730957]\n",
      " ..., \n",
      " [ 2000.          2000.           -81.63265228]\n",
      " [ 2000.          2000.           -40.81632614]\n",
      " [ 2000.          2000.             0.        ]]\n"
     ]
    }
   ],
   "source": [
    "print(gp.get_grid(geo_data))"
   ]
  },
  {
   "cell_type": "markdown",
   "metadata": {},
   "source": [
    "The main input the potential field method is the coordinates of interfaces points as well as the orientations. These pandas dataframes can we access by the following methods:\n",
    "\n",
    "#### Interfaces Dataframe"
   ]
  },
  {
   "cell_type": "code",
   "execution_count": 8,
   "metadata": {
    "scrolled": false
   },
   "outputs": [
    {
     "data": {
      "text/html": [
       "<div>\n",
       "<style>\n",
       "    .dataframe thead tr:only-child th {\n",
       "        text-align: right;\n",
       "    }\n",
       "\n",
       "    .dataframe thead th {\n",
       "        text-align: left;\n",
       "    }\n",
       "\n",
       "    .dataframe tbody tr th {\n",
       "        vertical-align: top;\n",
       "    }\n",
       "</style>\n",
       "<table border=\"1\" class=\"dataframe\">\n",
       "  <thead>\n",
       "    <tr style=\"text-align: right;\">\n",
       "      <th></th>\n",
       "      <th>X</th>\n",
       "      <th>Y</th>\n",
       "      <th>Z</th>\n",
       "      <th>formation</th>\n",
       "      <th>series</th>\n",
       "    </tr>\n",
       "  </thead>\n",
       "  <tbody>\n",
       "    <tr>\n",
       "      <th>0</th>\n",
       "      <td>1000</td>\n",
       "      <td>1000</td>\n",
       "      <td>-1000</td>\n",
       "      <td>MainFault</td>\n",
       "      <td>fault</td>\n",
       "    </tr>\n",
       "    <tr>\n",
       "      <th>1</th>\n",
       "      <td>800</td>\n",
       "      <td>1000</td>\n",
       "      <td>-1600</td>\n",
       "      <td>MainFault</td>\n",
       "      <td>fault</td>\n",
       "    </tr>\n",
       "    <tr>\n",
       "      <th>2</th>\n",
       "      <td>1200</td>\n",
       "      <td>1000</td>\n",
       "      <td>-400</td>\n",
       "      <td>MainFault</td>\n",
       "      <td>fault</td>\n",
       "    </tr>\n",
       "    <tr>\n",
       "      <th>3</th>\n",
       "      <td>1100</td>\n",
       "      <td>1000</td>\n",
       "      <td>-700</td>\n",
       "      <td>MainFault</td>\n",
       "      <td>fault</td>\n",
       "    </tr>\n",
       "    <tr>\n",
       "      <th>4</th>\n",
       "      <td>900</td>\n",
       "      <td>1000</td>\n",
       "      <td>-1300</td>\n",
       "      <td>MainFault</td>\n",
       "      <td>fault</td>\n",
       "    </tr>\n",
       "  </tbody>\n",
       "</table>\n",
       "</div>"
      ],
      "text/plain": [
       "      X     Y      Z  formation series\n",
       "0  1000  1000  -1000  MainFault  fault\n",
       "1   800  1000  -1600  MainFault  fault\n",
       "2  1200  1000   -400  MainFault  fault\n",
       "3  1100  1000   -700  MainFault  fault\n",
       "4   900  1000  -1300  MainFault  fault"
      ]
     },
     "execution_count": 8,
     "metadata": {},
     "output_type": "execute_result"
    }
   ],
   "source": [
    "gp.get_data(geo_data, 'interfaces').head()"
   ]
  },
  {
   "cell_type": "markdown",
   "metadata": {},
   "source": [
    "#### Foliations Dataframe"
   ]
  },
  {
   "cell_type": "markdown",
   "metadata": {},
   "source": [
    "Now the formations and the series are correctly set."
   ]
  },
  {
   "cell_type": "code",
   "execution_count": 9,
   "metadata": {
    "scrolled": true
   },
   "outputs": [
    {
     "data": {
      "text/html": [
       "<div>\n",
       "<style>\n",
       "    .dataframe thead tr:only-child th {\n",
       "        text-align: right;\n",
       "    }\n",
       "\n",
       "    .dataframe thead th {\n",
       "        text-align: left;\n",
       "    }\n",
       "\n",
       "    .dataframe tbody tr th {\n",
       "        vertical-align: top;\n",
       "    }\n",
       "</style>\n",
       "<table border=\"1\" class=\"dataframe\">\n",
       "  <thead>\n",
       "    <tr style=\"text-align: right;\">\n",
       "      <th></th>\n",
       "      <th>X</th>\n",
       "      <th>Y</th>\n",
       "      <th>Z</th>\n",
       "      <th>dip</th>\n",
       "      <th>azimuth</th>\n",
       "      <th>polarity</th>\n",
       "      <th>formation</th>\n",
       "      <th>series</th>\n",
       "    </tr>\n",
       "  </thead>\n",
       "  <tbody>\n",
       "    <tr>\n",
       "      <th>0</th>\n",
       "      <td>917.45</td>\n",
       "      <td>1000</td>\n",
       "      <td>-1135.4</td>\n",
       "      <td>71.565</td>\n",
       "      <td>270</td>\n",
       "      <td>1</td>\n",
       "      <td>MainFault</td>\n",
       "      <td>fault</td>\n",
       "    </tr>\n",
       "    <tr>\n",
       "      <th>1</th>\n",
       "      <td>1450</td>\n",
       "      <td>1000</td>\n",
       "      <td>-1150</td>\n",
       "      <td>18.435</td>\n",
       "      <td>90</td>\n",
       "      <td>1</td>\n",
       "      <td>Reservoir</td>\n",
       "      <td>Rest</td>\n",
       "    </tr>\n",
       "  </tbody>\n",
       "</table>\n",
       "</div>"
      ],
      "text/plain": [
       "        X     Y       Z     dip azimuth polarity  formation series\n",
       "0  917.45  1000 -1135.4  71.565     270        1  MainFault  fault\n",
       "1    1450  1000   -1150  18.435      90        1  Reservoir   Rest"
      ]
     },
     "execution_count": 9,
     "metadata": {},
     "output_type": "execute_result"
    }
   ],
   "source": [
    "gp.get_data(geo_data, 'foliations').head()"
   ]
  },
  {
   "cell_type": "markdown",
   "metadata": {},
   "source": [
    "It is important to notice the columns of each data frame. These not only contains the geometrical properties of the data but also the **formation** and **series** at which they belong. This division is fundamental in order to preserve the depositional ages of the setting to model.\n",
    "\n",
    "A projection of the aforementioned data can be visualized in to 2D by the following function. It is possible to choose the direction of visualization as well as the series:"
   ]
  },
  {
   "cell_type": "code",
   "execution_count": 10,
   "metadata": {},
   "outputs": [
    {
     "data": {
      "image/png": "[encoded data removed]",
      "text/plain": [
       "<matplotlib.figure.Figure at 0x7f308d4be4a8>"
      ]
     },
     "metadata": {},
     "output_type": "display_data"
    }
   ],
   "source": [
    "%matplotlib inline\n",
    "gp.plot_data(geo_data, direction='y')"
   ]
  },
  {
   "cell_type": "markdown",
   "metadata": {
    "collapsed": true
   },
   "source": [
    "GemPy supports visualization in 3D as well trough vtk. These plots are interactive. Try to drag and drop a point or interface! In the perpendicular views only 2D movements are possible to help to place the data where is required."
   ]
  },
  {
   "cell_type": "code",
   "execution_count": 8,
   "metadata": {},
   "outputs": [],
   "source": [
    "gp.plot_data_3D(geo_data)"
   ]
  },
  {
   "cell_type": "markdown",
   "metadata": {},
   "source": [
    "## The ins and outs of Input data objects\n",
    "\n",
    "As we have seen objects DataManagement.InputData (usually called geo_data in the tutorials) aim to have all the original geological properties, measurements and geological relations stored. \n",
    "\n",
    "Once we have the data ready to generate a model, we will need to create the next object type towards the final geological model:"
   ]
  },
  {
   "cell_type": "code",
   "execution_count": 4,
   "metadata": {
    "scrolled": false
   },
   "outputs": [
    {
     "name": "stdout",
     "output_type": "stream",
     "text": [
      "Level of Optimization:  fast_run\n",
      "Device:  cpu\n",
      "Precision:  float32\n",
      "<gempy.DataManagement.InterpolatorInput object at 0x7f054f518da0>\n"
     ]
    }
   ],
   "source": [
    "interp_data = gp.InterpolatorInput(geo_data, u_grade=[3,3])\n",
    "print(interp_data)"
   ]
  },
  {
   "cell_type": "code",
   "execution_count": 13,
   "metadata": {},
   "outputs": [
    {
     "data": {
      "text/plain": [
       "{'DefaultBasement': 0,\n",
       " 'MainFault': 1,\n",
       " 'Overlying': 5,\n",
       " 'Reservoir': 4,\n",
       " 'Seal': 3,\n",
       " 'SecondaryReservoir': 2}"
      ]
     },
     "execution_count": 13,
     "metadata": {},
     "output_type": "execute_result"
    }
   ],
   "source": [
    "interp_data.get_formation_number()"
   ]
  },
  {
   "cell_type": "markdown",
   "metadata": {},
   "source": [
    "\n",
    "By default (there is a flag in case you do not need) when we create a interp_data object we also compile the theano function that compute the model. That is the reason why takes long.\n",
    "\n",
    "gempy.DataManagement.InterpolatorInput (usually called interp_data in the tutorials) prepares the original data to the interpolation algorithm by scaling the coordinates for better and adding all the mathematical parametrization needed.\n"
   ]
  },
  {
   "cell_type": "code",
   "execution_count": 14,
   "metadata": {},
   "outputs": [
    {
     "name": "stdout",
     "output_type": "stream",
     "text": [
      "range 0.8882311582565308 3464.1015172\n",
      "Number of drift equations [2 2]\n",
      "Covariance at 0 0.01878463476896286\n",
      "Foliations nugget effect 0.009999999776482582\n"
     ]
    }
   ],
   "source": [
    "gp.get_kriging_parameters(interp_data)"
   ]
  },
  {
   "cell_type": "markdown",
   "metadata": {},
   "source": [
    " These later parameters have a default value computed from the original data or can be changed by the user (be careful of changing any of these if you do not fully understand their meaning).\n",
    " \n",
    "At this point, we have all what we need to compute our model. By default everytime we compute a model we obtain:\n",
    "\n",
    "- Lithology block model\n",
    "    + with the lithology values in 0\n",
    "    + with the potential field values in 1\n",
    "- Fault block model\n",
    "    + with the faults zones values (i.e. every divided region by each fault has one number) in 0\n",
    "    + with the potential field values in 1"
   ]
  },
  {
   "cell_type": "code",
   "execution_count": 5,
   "metadata": {},
   "outputs": [],
   "source": [
    "\n",
    "lith_block, fault_block = gp.compute_model(interp_data)"
   ]
  },
  {
   "cell_type": "markdown",
   "metadata": {},
   "source": [
    "This solution can be plot with the correspondent plotting function. Blocks:"
   ]
  },
  {
   "cell_type": "code",
   "execution_count": 16,
   "metadata": {},
   "outputs": [
    {
     "data": {
      "image/png": "[encoded data removed]",
      "text/plain": [
       "<matplotlib.figure.Figure at 0x7f3039b43cc0>"
      ]
     },
     "metadata": {},
     "output_type": "display_data"
    }
   ],
   "source": [
    "%matplotlib inline\n",
    "gp.plot_section(geo_data, lith_block[0], 25, plot_data=True)"
   ]
  },
  {
   "cell_type": "markdown",
   "metadata": {},
   "source": [
    "Potential field:"
   ]
  },
  {
   "cell_type": "code",
   "execution_count": 17,
   "metadata": {},
   "outputs": [
    {
     "data": {
      "image/png": "[encoded data removed]",
      "text/plain": [
       "<matplotlib.figure.Figure at 0x7f30394f0198>"
      ]
     },
     "metadata": {},
     "output_type": "display_data"
    }
   ],
   "source": [
    "gp.plot_potential_field(geo_data, lith_block[1], 25)"
   ]
  },
  {
   "cell_type": "markdown",
   "metadata": {},
   "source": [
    "From the potential fields (of lithologies and faults) it is possible to extract vertices and simpleces to create the 3D triangles for a vtk visualization."
   ]
  },
  {
   "cell_type": "code",
   "execution_count": 6,
   "metadata": {},
   "outputs": [],
   "source": [
    "ver, sim = gp.get_surfaces(interp_data,lith_block[1], fault_block[1], original_scale=True)"
   ]
  },
  {
   "cell_type": "code",
   "execution_count": 7,
   "metadata": {},
   "outputs": [],
   "source": [
    "gp.plot_surfaces_3D(geo_data, ver, sim, alpha=1)"
   ]
  },
  {
   "cell_type": "markdown",
   "metadata": {},
   "source": [
    "Additionally is possible to update the model and recompute the surfaces in real time. To do so, we need to pass the data rescaled. To get an smooth response is important to have the theano optimizer flag in fast_run and run theano in the gpu. This can speed up the modeling time in a factor of 20."
   ]
  },
  {
   "cell_type": "code",
   "execution_count": 6,
   "metadata": {},
   "outputs": [],
   "source": [
    "ver_s, sim_s = gp.get_surfaces(interp_data,lith_block[1],\n",
    "                               fault_block[1],\n",
    "                               original_scale=False)"
   ]
  },
  {
   "cell_type": "code",
   "execution_count": 9,
   "metadata": {},
   "outputs": [],
   "source": [
    "gp.plot_surfaces_3D_real_time(interp_data, ver_s, sim_s)"
   ]
  },
  {
   "cell_type": "markdown",
   "metadata": {},
   "source": [
    "In the same manner we can visualize the fault block:"
   ]
  },
  {
   "cell_type": "code",
   "execution_count": 22,
   "metadata": {},
   "outputs": [
    {
     "data": {
      "image/png": "[encoded data removed]",
      "text/plain": [
       "<matplotlib.figure.Figure at 0x7f3038a70c50>"
      ]
     },
     "metadata": {},
     "output_type": "display_data"
    }
   ],
   "source": [
    "gp.plot_section(geo_data, fault_block[0], 25)"
   ]
  },
  {
   "cell_type": "code",
   "execution_count": 23,
   "metadata": {},
   "outputs": [
    {
     "data": {
      "image/png": "[encoded data removed]",
      "text/plain": [
       "<matplotlib.figure.Figure at 0x7f303932eac8>"
      ]
     },
     "metadata": {},
     "output_type": "display_data"
    }
   ],
   "source": [
    "gp.plot_potential_field(geo_data, fault_block[1], 25)"
   ]
  },
  {
   "cell_type": "code",
   "execution_count": null,
   "metadata": {},
   "outputs": [],
   "source": []
  }
 ],
 "metadata": {
  "kernelspec": {
   "display_name": "Python 3",
   "language": "python",
   "name": "python3"
  },
  "language_info": {
   "codemirror_mode": {
    "name": "ipython",
    "version": 3
   },
   "file_extension": ".py",
   "mimetype": "text/x-python",
   "name": "python",
   "nbconvert_exporter": "python",
   "pygments_lexer": "ipython3",
   "version": "3.6.1"
  },
  "latex_envs": {
   "LaTeX_envs_menu_present": true,
   "autocomplete": true,
   "bibliofile": "biblio.bib",
   "cite_by": "apalike",
   "current_citInitial": 1,
   "eqLabelWithNumbers": true,
   "eqNumInitial": 1,
   "hotkeys": {
    "equation": "Ctrl-E",
    "itemize": "Ctrl-I"
   },
   "labels_anchors": false,
   "latex_user_defs": false,
   "report_style_numbering": false,
   "user_envs_cfg": false
  },
  "toc": {
   "colors": {
    "hover_highlight": "#DAA520",
    "running_highlight": "#FF0000",
    "selected_highlight": "#FFD700"
   },
   "moveMenuLeft": true,
   "nav_menu": {
    "height": "67px",
    "width": "252px"
   },
   "navigate_menu": true,
   "number_sections": true,
   "sideBar": true,
   "threshold": 4,
   "toc_cell": false,
   "toc_section_display": "block",
   "toc_window_display": false,
   "widenNotebook": false
  }
 },
 "nbformat": 4,
 "nbformat_minor": 2
}
