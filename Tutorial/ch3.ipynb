{
 "cells": [
  {
   "cell_type": "markdown",
   "metadata": {},
   "source": [
    "# Chapter 3: Stochastic Simulations in pymc2\n",
    "\n",
    "This tutorial will show you how to use GemPy for stochastic simulation of geological models. We will address two approaches for this: (i) Monte Carlo forward simulation, treating input data as uncertain parameter distributions; (ii) Bayesian inference, where we extent the approach with the use of likelihood functions to constrain the stochastic modeling results with additional data."
   ]
  },
  {
   "cell_type": "markdown",
   "metadata": {},
   "source": [
    "\n",
    "## Preparation\n",
    "\n",
    "Import GemPy, matplotlib for plotting, numpy and pandas for data handling."
   ]
  },
  {
   "cell_type": "code",
   "execution_count": 1,
   "metadata": {
    "collapsed": true
   },
   "outputs": [],
   "source": [
    "import sys, os\n",
    "sys.path.append(\"../\")\n",
    "\n",
    "# import gempy\n",
    "import gempy as gp\n",
    "\n",
    "# inline figures in jupyter notebooks\n",
    "import matplotlib.pyplot as plt\n",
    "%matplotlib inline\n",
    "\n",
    "import numpy as np\n",
    "import pandas as pn\n",
    "import theano"
   ]
  },
  {
   "cell_type": "markdown",
   "metadata": {},
   "source": [
    "## Initialize an example model\n",
    "\n",
    "First we define the cube size and model extent of our model and initialize the GemPy data object:"
   ]
  },
  {
   "cell_type": "code",
   "execution_count": 2,
   "metadata": {
    "collapsed": true
   },
   "outputs": [],
   "source": [
    "# set cube size and model extent\n",
    "cs = 50\n",
    "extent = (3000, 200, 2000)  # (x, y, z)\n",
    "res = (120, 4, 80)\n",
    "# initialize geo_data object\n",
    "geo_data = gp.create_data([0, extent[0],\n",
    "                           0, extent[1], \n",
    "                           0, extent[2]],\n",
    "                          resolution=[res[0],  # number of voxels\n",
    "                                      res[1], \n",
    "                                      res[2]])"
   ]
  },
  {
   "cell_type": "markdown",
   "metadata": {},
   "source": [
    "Then we use pandas to load the example data stored as csv files:"
   ]
  },
  {
   "cell_type": "code",
   "execution_count": 3,
   "metadata": {},
   "outputs": [],
   "source": [
    "geo_data.set_interfaces(pn.read_csv(\"../input_data/tutorial_ch3_interfaces\",\n",
    "                                    index_col=\"Unnamed: 0\"))\n",
    "geo_data.set_foliations(pn.read_csv(\"../input_data/tutorial_ch3_foliations\",\n",
    "                                    index_col=\"Unnamed: 0\"))"
   ]
  },
  {
   "cell_type": "code",
   "execution_count": 4,
   "metadata": {},
   "outputs": [
    {
     "data": {
      "text/html": [
       "<div>\n",
       "<style>\n",
       "    .dataframe thead tr:only-child th {\n",
       "        text-align: right;\n",
       "    }\n",
       "\n",
       "    .dataframe thead th {\n",
       "        text-align: left;\n",
       "    }\n",
       "\n",
       "    .dataframe tbody tr th {\n",
       "        vertical-align: top;\n",
       "    }\n",
       "</style>\n",
       "<table border=\"1\" class=\"dataframe\">\n",
       "  <thead>\n",
       "    <tr style=\"text-align: right;\">\n",
       "      <th></th>\n",
       "      <th>X</th>\n",
       "      <th>X_std</th>\n",
       "      <th>Y</th>\n",
       "      <th>Y_std</th>\n",
       "      <th>Z</th>\n",
       "      <th>Z_std</th>\n",
       "      <th>annotations</th>\n",
       "      <th>formation</th>\n",
       "      <th>formation number</th>\n",
       "      <th>group_id</th>\n",
       "      <th>isFault</th>\n",
       "      <th>order_series</th>\n",
       "      <th>series</th>\n",
       "    </tr>\n",
       "  </thead>\n",
       "  <tbody>\n",
       "    <tr>\n",
       "      <th>0</th>\n",
       "      <td>250</td>\n",
       "      <td>0</td>\n",
       "      <td>0</td>\n",
       "      <td>0</td>\n",
       "      <td>996</td>\n",
       "      <td>0</td>\n",
       "      <td>${\\bf{x}}_{\\alpha \\,{\\bf{1}},0}$</td>\n",
       "      <td>Layer 2</td>\n",
       "      <td>1</td>\n",
       "      <td>l2_a</td>\n",
       "      <td>False</td>\n",
       "      <td>1</td>\n",
       "      <td>Default serie</td>\n",
       "    </tr>\n",
       "    <tr>\n",
       "      <th>1</th>\n",
       "      <td>2500</td>\n",
       "      <td>0</td>\n",
       "      <td>200</td>\n",
       "      <td>0</td>\n",
       "      <td>1149</td>\n",
       "      <td>0</td>\n",
       "      <td>${\\bf{x}}_{\\alpha \\,{\\bf{1}},1}$</td>\n",
       "      <td>Layer 2</td>\n",
       "      <td>1</td>\n",
       "      <td>l2_b</td>\n",
       "      <td>False</td>\n",
       "      <td>1</td>\n",
       "      <td>Default serie</td>\n",
       "    </tr>\n",
       "    <tr>\n",
       "      <th>2</th>\n",
       "      <td>2250</td>\n",
       "      <td>0</td>\n",
       "      <td>100</td>\n",
       "      <td>0</td>\n",
       "      <td>1298</td>\n",
       "      <td>0</td>\n",
       "      <td>${\\bf{x}}_{\\alpha \\,{\\bf{1}},2}$</td>\n",
       "      <td>Layer 2</td>\n",
       "      <td>1</td>\n",
       "      <td>l2_b</td>\n",
       "      <td>False</td>\n",
       "      <td>1</td>\n",
       "      <td>Default serie</td>\n",
       "    </tr>\n",
       "    <tr>\n",
       "      <th>3</th>\n",
       "      <td>2750</td>\n",
       "      <td>0</td>\n",
       "      <td>0</td>\n",
       "      <td>0</td>\n",
       "      <td>995</td>\n",
       "      <td>0</td>\n",
       "      <td>${\\bf{x}}_{\\alpha \\,{\\bf{1}},3}$</td>\n",
       "      <td>Layer 2</td>\n",
       "      <td>1</td>\n",
       "      <td>l2_b</td>\n",
       "      <td>False</td>\n",
       "      <td>1</td>\n",
       "      <td>Default serie</td>\n",
       "    </tr>\n",
       "    <tr>\n",
       "      <th>4</th>\n",
       "      <td>500</td>\n",
       "      <td>0</td>\n",
       "      <td>200</td>\n",
       "      <td>0</td>\n",
       "      <td>1149</td>\n",
       "      <td>0</td>\n",
       "      <td>${\\bf{x}}_{\\alpha \\,{\\bf{1}},4}$</td>\n",
       "      <td>Layer 2</td>\n",
       "      <td>1</td>\n",
       "      <td>l2_a</td>\n",
       "      <td>False</td>\n",
       "      <td>1</td>\n",
       "      <td>Default serie</td>\n",
       "    </tr>\n",
       "  </tbody>\n",
       "</table>\n",
       "</div>"
      ],
      "text/plain": [
       "      X X_std    Y Y_std     Z Z_std                       annotations  \\\n",
       "0   250     0    0     0   996     0  ${\\bf{x}}_{\\alpha \\,{\\bf{1}},0}$   \n",
       "1  2500     0  200     0  1149     0  ${\\bf{x}}_{\\alpha \\,{\\bf{1}},1}$   \n",
       "2  2250     0  100     0  1298     0  ${\\bf{x}}_{\\alpha \\,{\\bf{1}},2}$   \n",
       "3  2750     0    0     0   995     0  ${\\bf{x}}_{\\alpha \\,{\\bf{1}},3}$   \n",
       "4   500     0  200     0  1149     0  ${\\bf{x}}_{\\alpha \\,{\\bf{1}},4}$   \n",
       "\n",
       "  formation formation number group_id isFault order_series         series  \n",
       "0   Layer 2                1     l2_a   False            1  Default serie  \n",
       "1   Layer 2                1     l2_b   False            1  Default serie  \n",
       "2   Layer 2                1     l2_b   False            1  Default serie  \n",
       "3   Layer 2                1     l2_b   False            1  Default serie  \n",
       "4   Layer 2                1     l2_a   False            1  Default serie  "
      ]
     },
     "execution_count": 4,
     "metadata": {},
     "output_type": "execute_result"
    }
   ],
   "source": [
    "# let's have a look at the upper five interface data entries in the dataframe\n",
    "gp.get_data(geo_data, 'interfaces', verbosity=1).head()"
   ]
  },
  {
   "cell_type": "markdown",
   "metadata": {},
   "source": [
    "We can visualize (and modify making use of an interactive backend) the stratigraphic pile. Since the formations are arbitary we can set them by:"
   ]
  },
  {
   "cell_type": "code",
   "execution_count": 5,
   "metadata": {},
   "outputs": [
    {
     "data": {
      "text/plain": [
       "<gempy.strat_pile.StratigraphicPile at 0x7fd1a4364550>"
      ]
     },
     "execution_count": 5,
     "metadata": {},
     "output_type": "execute_result"
    },
    {
     "data": {
      "image/png": "[encoded data removed]",
      "text/plain": [
       "<matplotlib.figure.Figure at 0x7fd139000a90>"
      ]
     },
     "metadata": {},
     "output_type": "display_data"
    }
   ],
   "source": [
    "# Original pile\n",
    "gp.get_stratigraphic_pile(geo_data)"
   ]
  },
  {
   "cell_type": "code",
   "execution_count": 6,
   "metadata": {},
   "outputs": [
    {
     "data": {
      "text/plain": [
       "<gempy.strat_pile.StratigraphicPile at 0x7fd138e45128>"
      ]
     },
     "execution_count": 6,
     "metadata": {},
     "output_type": "execute_result"
    },
    {
     "data": {
      "image/png": "[encoded data removed]",
      "text/plain": [
       "<matplotlib.figure.Figure at 0x7fd138e450f0>"
      ]
     },
     "metadata": {},
     "output_type": "display_data"
    }
   ],
   "source": [
    "# Ordered pile\n",
    "gp.set_order_formations(geo_data, ['Layer 2', 'Layer 3', 'Layer 4','Layer 5'])\n",
    "gp.get_stratigraphic_pile(geo_data)"
   ]
  },
  {
   "cell_type": "code",
   "execution_count": 7,
   "metadata": {
    "scrolled": true
   },
   "outputs": [
    {
     "data": {
      "text/html": [
       "<div>\n",
       "<style>\n",
       "    .dataframe thead tr:only-child th {\n",
       "        text-align: right;\n",
       "    }\n",
       "\n",
       "    .dataframe thead th {\n",
       "        text-align: left;\n",
       "    }\n",
       "\n",
       "    .dataframe tbody tr th {\n",
       "        vertical-align: top;\n",
       "    }\n",
       "</style>\n",
       "<table border=\"1\" class=\"dataframe\">\n",
       "  <thead>\n",
       "    <tr style=\"text-align: right;\">\n",
       "      <th></th>\n",
       "      <th>X</th>\n",
       "      <th>Y</th>\n",
       "      <th>Z</th>\n",
       "      <th>dip</th>\n",
       "      <th>azimuth</th>\n",
       "      <th>polarity</th>\n",
       "      <th>formation</th>\n",
       "      <th>series</th>\n",
       "    </tr>\n",
       "  </thead>\n",
       "  <tbody>\n",
       "    <tr>\n",
       "      <th>0</th>\n",
       "      <td>500</td>\n",
       "      <td>100</td>\n",
       "      <td>1148</td>\n",
       "      <td>31.1355</td>\n",
       "      <td>269.051</td>\n",
       "      <td>1</td>\n",
       "      <td>Layer 2</td>\n",
       "      <td>Default serie</td>\n",
       "    </tr>\n",
       "    <tr>\n",
       "      <th>1</th>\n",
       "      <td>2500</td>\n",
       "      <td>100</td>\n",
       "      <td>1147.33</td>\n",
       "      <td>31.0857</td>\n",
       "      <td>91.5841</td>\n",
       "      <td>1</td>\n",
       "      <td>Layer 2</td>\n",
       "      <td>Default serie</td>\n",
       "    </tr>\n",
       "  </tbody>\n",
       "</table>\n",
       "</div>"
      ],
      "text/plain": [
       "      X    Y        Z      dip  azimuth polarity formation         series\n",
       "0   500  100     1148  31.1355  269.051        1   Layer 2  Default serie\n",
       "1  2500  100  1147.33  31.0857  91.5841        1   Layer 2  Default serie"
      ]
     },
     "execution_count": 7,
     "metadata": {},
     "output_type": "execute_result"
    }
   ],
   "source": [
    "# and at all of the foliation data\n",
    "gp.get_data(geo_data, 'foliations', verbosity=0)"
   ]
  },
  {
   "cell_type": "markdown",
   "metadata": {},
   "source": [
    "## Visualize the input data\n",
    "\n",
    "Now let's have a look at the data in the xz-plane:"
   ]
  },
  {
   "cell_type": "code",
   "execution_count": 8,
   "metadata": {},
   "outputs": [
    {
     "data": {
      "image/png": "[encoded data removed]",
      "text/plain": [
       "<matplotlib.figure.Figure at 0x7fd138e146a0>"
      ]
     },
     "metadata": {},
     "output_type": "display_data"
    }
   ],
   "source": [
    "gp.plot_data(geo_data, direction=\"y\")\n",
    "plt.xlim(0,3000)\n",
    "plt.ylim(0,2000);"
   ]
  },
  {
   "cell_type": "markdown",
   "metadata": {},
   "source": [
    "At this point we should store the input data object as a pickle, for future reference:"
   ]
  },
  {
   "cell_type": "code",
   "execution_count": 9,
   "metadata": {
    "collapsed": true
   },
   "outputs": [],
   "source": [
    "gp.data_to_pickle(geo_data, \"pymc2_tutorial_geo_data\")"
   ]
  },
  {
   "cell_type": "markdown",
   "metadata": {},
   "source": [
    "## Compile the interpolator function\n",
    "\n",
    "Now that we have some input data, the next step is to compile the interpolator function of GemPy with the imported model setup and data:"
   ]
  },
  {
   "cell_type": "code",
   "execution_count": 10,
   "metadata": {},
   "outputs": [
    {
     "name": "stdout",
     "output_type": "stream",
     "text": [
      "Level of Optimization:  fast_run\n",
      "Device:  cpu\n",
      "Precision:  float32\n"
     ]
    }
   ],
   "source": [
    "interp_data = gp.InterpolatorInput(geo_data, u_grade=[3])"
   ]
  },
  {
   "cell_type": "markdown",
   "metadata": {},
   "source": [
    "For the stochastic simulation we need to modify data inside of the interp_data object. To always have our initial input data as a reference, we create an additional interpolator data object:"
   ]
  },
  {
   "cell_type": "code",
   "execution_count": 11,
   "metadata": {},
   "outputs": [
    {
     "name": "stdout",
     "output_type": "stream",
     "text": [
      "Level of Optimization:  fast_run\n",
      "Device:  cpu\n",
      "Precision:  float32\n"
     ]
    }
   ],
   "source": [
    "interp_data_original = gp.InterpolatorInput(geo_data, u_grade=[3])"
   ]
  },
  {
   "cell_type": "markdown",
   "metadata": {},
   "source": [
    "Afterwards we can compute the geological model:"
   ]
  },
  {
   "cell_type": "code",
   "execution_count": 12,
   "metadata": {
    "collapsed": true,
    "scrolled": true
   },
   "outputs": [],
   "source": [
    "lith_block, fault_block = gp.compute_model(interp_data)"
   ]
  },
  {
   "cell_type": "markdown",
   "metadata": {},
   "source": [
    "And plot a section:"
   ]
  },
  {
   "cell_type": "code",
   "execution_count": 13,
   "metadata": {},
   "outputs": [
    {
     "data": {
      "image/png": "[encoded data removed]",
      "text/plain": [
       "<matplotlib.figure.Figure at 0x7fd0ff611f60>"
      ]
     },
     "metadata": {},
     "output_type": "display_data"
    }
   ],
   "source": [
    "gp.plot_section(geo_data, lith_block[0], 2, plot_data = True)"
   ]
  },
  {
   "cell_type": "markdown",
   "metadata": {},
   "source": [
    "# Setting up the pymc-Functions\n",
    "\n",
    "pymc has two distinct types of objects: **deterministic** and **stochastic** objects. As the [pymc documentation](https://pymc-devs.github.io/pymc/modelbuilding.html)  puts it: \"A *Stochastic* object represents a variable whose value is not completely determined by its parents, and a *Deterministic* object represents a variable that is entirely determined by its parents.\" Stochastic objects can essentially be seen as *parameter distributions* or *likelihood functions*, while Deterministic objects can be seen as function that take a specific input and return a specific (determined) output for this input. An example for the latter would be the modeling function of GemPy, which takes a specific set of input parameters and always creates the same model from those parameters."
   ]
  },
  {
   "cell_type": "code",
   "execution_count": 14,
   "metadata": {
    "collapsed": true
   },
   "outputs": [],
   "source": [
    "import pymc"
   ]
  },
  {
   "cell_type": "markdown",
   "metadata": {},
   "source": [
    "## Setting up the parameter distributions\n",
    "\n",
    "For conducting a stochastic simulation of the geological model, we need to consider our input data (dips and layer interfaces) as uncertain - i.e. as distributions."
   ]
  },
  {
   "cell_type": "code",
   "execution_count": 15,
   "metadata": {},
   "outputs": [
    {
     "data": {
      "text/html": [
       "<div>\n",
       "<style>\n",
       "    .dataframe thead tr:only-child th {\n",
       "        text-align: right;\n",
       "    }\n",
       "\n",
       "    .dataframe thead th {\n",
       "        text-align: left;\n",
       "    }\n",
       "\n",
       "    .dataframe tbody tr th {\n",
       "        vertical-align: top;\n",
       "    }\n",
       "</style>\n",
       "<table border=\"1\" class=\"dataframe\">\n",
       "  <thead>\n",
       "    <tr style=\"text-align: right;\">\n",
       "      <th></th>\n",
       "      <th>G_x</th>\n",
       "      <th>G_y</th>\n",
       "      <th>G_z</th>\n",
       "      <th>X</th>\n",
       "      <th>X_std</th>\n",
       "      <th>Y</th>\n",
       "      <th>Y_std</th>\n",
       "      <th>Z</th>\n",
       "      <th>Z_std</th>\n",
       "      <th>annotations</th>\n",
       "      <th>...</th>\n",
       "      <th>azimuth_std</th>\n",
       "      <th>dip</th>\n",
       "      <th>dip_std</th>\n",
       "      <th>formation</th>\n",
       "      <th>formation number</th>\n",
       "      <th>group_id</th>\n",
       "      <th>isFault</th>\n",
       "      <th>order_series</th>\n",
       "      <th>polarity</th>\n",
       "      <th>series</th>\n",
       "    </tr>\n",
       "  </thead>\n",
       "  <tbody>\n",
       "    <tr>\n",
       "      <th>0</th>\n",
       "      <td>-0.516992</td>\n",
       "      <td>-0.00855947</td>\n",
       "      <td>0.855947</td>\n",
       "      <td>500</td>\n",
       "      <td>NaN</td>\n",
       "      <td>100</td>\n",
       "      <td>NaN</td>\n",
       "      <td>1148</td>\n",
       "      <td>NaN</td>\n",
       "      <td>${\\bf{x}}_{\\beta \\,{\\bf{1}},0}$</td>\n",
       "      <td>...</td>\n",
       "      <td>NaN</td>\n",
       "      <td>31.1355</td>\n",
       "      <td>NaN</td>\n",
       "      <td>Layer 2</td>\n",
       "      <td>1</td>\n",
       "      <td>l2_a</td>\n",
       "      <td>False</td>\n",
       "      <td>1</td>\n",
       "      <td>1</td>\n",
       "      <td>Default serie</td>\n",
       "    </tr>\n",
       "    <tr>\n",
       "      <th>1</th>\n",
       "      <td>0.516122</td>\n",
       "      <td>-0.0142733</td>\n",
       "      <td>0.856396</td>\n",
       "      <td>2500</td>\n",
       "      <td>NaN</td>\n",
       "      <td>100</td>\n",
       "      <td>NaN</td>\n",
       "      <td>1147.33</td>\n",
       "      <td>NaN</td>\n",
       "      <td>${\\bf{x}}_{\\beta \\,{\\bf{1}},1}$</td>\n",
       "      <td>...</td>\n",
       "      <td>NaN</td>\n",
       "      <td>31.0857</td>\n",
       "      <td>NaN</td>\n",
       "      <td>Layer 2</td>\n",
       "      <td>1</td>\n",
       "      <td>l2_b</td>\n",
       "      <td>False</td>\n",
       "      <td>1</td>\n",
       "      <td>1</td>\n",
       "      <td>Default serie</td>\n",
       "    </tr>\n",
       "  </tbody>\n",
       "</table>\n",
       "<p>2 rows × 21 columns</p>\n",
       "</div>"
      ],
      "text/plain": [
       "        G_x         G_y       G_z     X X_std    Y Y_std        Z Z_std  \\\n",
       "0 -0.516992 -0.00855947  0.855947   500   NaN  100   NaN     1148   NaN   \n",
       "1  0.516122  -0.0142733  0.856396  2500   NaN  100   NaN  1147.33   NaN   \n",
       "\n",
       "                       annotations      ...       azimuth_std      dip  \\\n",
       "0  ${\\bf{x}}_{\\beta \\,{\\bf{1}},0}$      ...               NaN  31.1355   \n",
       "1  ${\\bf{x}}_{\\beta \\,{\\bf{1}},1}$      ...               NaN  31.0857   \n",
       "\n",
       "  dip_std formation formation number group_id isFault order_series polarity  \\\n",
       "0     NaN   Layer 2                1     l2_a   False            1        1   \n",
       "1     NaN   Layer 2                1     l2_b   False            1        1   \n",
       "\n",
       "          series  \n",
       "0  Default serie  \n",
       "1  Default serie  \n",
       "\n",
       "[2 rows x 21 columns]"
      ]
     },
     "execution_count": 15,
     "metadata": {},
     "output_type": "execute_result"
    }
   ],
   "source": [
    "gp.get_data(geo_data, 'foliations', verbosity=1).head()"
   ]
  },
  {
   "cell_type": "markdown",
   "metadata": {},
   "source": [
    "So let's assume the vertical location of our layer interfaces is uncertain, and we want to represent this uncertainty by using a normal distribution. To define a normal distribution, we need a mean and a measure of deviation (e.g. standard deviation). For convenience the input data is already grouped by a \"group_id\" value, which allows us to collectively modify data that belongs together. In this example we want to treat the vertical position of each layer interface, on each side of the anticline, as uncertain. Therefore, we want to perturbate the respective three points on each side of the anticline collectively."
   ]
  },
  {
   "cell_type": "markdown",
   "metadata": {},
   "source": [
    "These are our unique group id's, the number representing the layer, and a/b the side of the anticline."
   ]
  },
  {
   "cell_type": "code",
   "execution_count": 16,
   "metadata": {},
   "outputs": [
    {
     "name": "stdout",
     "output_type": "stream",
     "text": [
      "['l2_a' 'l2_b' 'l3_a' 'l3_b' 'l4_a' 'l4_b' 'l5_a' 'l5_b']\n"
     ]
    }
   ],
   "source": [
    "group_ids = np.unique(geo_data.interfaces[\"group_id\"])\n",
    "print(group_ids)"
   ]
  },
  {
   "cell_type": "code",
   "execution_count": 15,
   "metadata": {
    "collapsed": true
   },
   "outputs": [],
   "source": [
    "# Checkpoint in case you did not execute the cells above\n",
    "geo_data = gp.read_pickle(\"./pymc2_tutorial_geo_data.pickle\")"
   ]
  },
  {
   "cell_type": "markdown",
   "metadata": {},
   "source": [
    "As a reminder, GemPy stores data in two main objects, an InputData object (called geo_data in the tutorials) and a InpterpolatorInput object (interp_data) in tutorials. geo_data contains the original data while interp_data the data prepared (and compiled) to compute the 3D model. \n",
    "\n",
    "Since we do not want to compile our code at every new stochastic realization, from here on we will need to work with thte interp_data. And remember that to improve float32 to stability we need to work with rescaled data (between 0 and 1). Therefore all the stochastic data needs to be rescaled accordingly. The object interp_data contains a property with the rescale factor (see below. As default depends on the model extent), or it is possible to add the stochastic data to the pandas dataframe of the geo_data---when the InterpolatorInput object is created the rescaling happens under the hood. "
   ]
  },
  {
   "cell_type": "code",
   "execution_count": 37,
   "metadata": {
    "collapsed": true
   },
   "outputs": [],
   "source": [
    "interface_Z_modifier = []\n",
    "\n",
    "# We rescale the standard deviation\n",
    "std = 30./interp_data.rescaling_factor\n",
    "\n",
    "# loop over the unique group id's and create a pymc.Normal distribution for each\n",
    "for gID in group_ids:\n",
    "    stoch = pymc.Normal(gID+'_stoch', 0, 1./std**2)\n",
    "    interface_Z_modifier.append(stoch)"
   ]
  },
  {
   "cell_type": "markdown",
   "metadata": {},
   "source": [
    "our list of parameter distribution:"
   ]
  },
  {
   "cell_type": "code",
   "execution_count": 22,
   "metadata": {},
   "outputs": [
    {
     "data": {
      "text/plain": [
       "[<pymc.distributions.new_dist_class.<locals>.new_class 'l2_a_stoch' at 0x7f74dd5456a0>,\n",
       " <pymc.distributions.new_dist_class.<locals>.new_class 'l2_b_stoch' at 0x7f74dd545668>,\n",
       " <pymc.distributions.new_dist_class.<locals>.new_class 'l3_a_stoch' at 0x7f74dd545780>,\n",
       " <pymc.distributions.new_dist_class.<locals>.new_class 'l3_b_stoch' at 0x7f74dd545748>,\n",
       " <pymc.distributions.new_dist_class.<locals>.new_class 'l4_a_stoch' at 0x7f74dd5456d8>,\n",
       " <pymc.distributions.new_dist_class.<locals>.new_class 'l4_b_stoch' at 0x7f74dd545438>,\n",
       " <pymc.distributions.new_dist_class.<locals>.new_class 'l5_a_stoch' at 0x7f74dd545390>,\n",
       " <pymc.distributions.new_dist_class.<locals>.new_class 'l5_b_stoch' at 0x7f74d8c7c048>]"
      ]
     },
     "execution_count": 22,
     "metadata": {},
     "output_type": "execute_result"
    }
   ],
   "source": [
    "interface_Z_modifier"
   ]
  },
  {
   "cell_type": "markdown",
   "metadata": {},
   "source": [
    "Let's have a look at one:"
   ]
  },
  {
   "cell_type": "code",
   "execution_count": 23,
   "metadata": {},
   "outputs": [
    {
     "data": {
      "image/png": "[encoded data removed]",
      "text/plain": [
       "<matplotlib.figure.Figure at 0x7f74d8c7ccc0>"
      ]
     },
     "metadata": {},
     "output_type": "display_data"
    }
   ],
   "source": [
    "# sample from a distribtion\n",
    "samples = [interface_Z_modifier[3].rand() for i in range(10000)]\n",
    "# plot histogram\n",
    "plt.hist(samples, bins=24, normed=True);\n",
    "plt.xlabel(\"Z modifier\")\n",
    "plt.vlines(0, 0, 0.01)\n",
    "#plt.xlim(-150,150)\n",
    "plt.ylabel(\"n\");"
   ]
  },
  {
   "cell_type": "markdown",
   "metadata": {},
   "source": [
    " Now we need to somehow sample from these distribution and put them into GemPy"
   ]
  },
  {
   "cell_type": "markdown",
   "metadata": {},
   "source": [
    "## Input data handling\n",
    "\n",
    "First we need to write a function which modifies the input data for each iteration of the stochastic simulation. As this process is highly dependant on the simulation (e.g. what input parameters you want modified in which way), this process generally can't be automated. \n",
    "\n",
    "The idea is to change the column Z (in this case) of the rescaled dataframes in our interp_data object (which can be found in interp_data.geo_data_res). First we simply create the pandas Dataframes we are interested on:"
   ]
  },
  {
   "cell_type": "code",
   "execution_count": 38,
   "metadata": {
    "collapsed": true,
    "scrolled": false
   },
   "outputs": [],
   "source": [
    "@pymc.deterministic(trace=True)\n",
    "def input_data(value = 0, \n",
    "               interface_Z_modifier = interface_Z_modifier,\n",
    "               interp_data = interp_data, \n",
    "               verbose=0):\n",
    "    # First we extract from our original intep_data object the numerical data that is necessary for the interpolation.\n",
    "    # geo_data_stoch is a pandas Dataframe\n",
    "    geo_data_stoch = gp.get_data(interp_data_original.geo_data_res, numeric=True)\n",
    "    # Now we loop each id which share the same uncertainty variable. In this case, each layer.\n",
    "    for e, gID in enumerate(group_ids):\n",
    "        # First we obtain a boolean array with trues where the id coincide\n",
    "        sel = gp.get_data(interp_data.geo_data_res, verbosity=2)['group_id'] == gID\n",
    "        \n",
    "        # We add to the original Z value (its mean) the stochastic bit in the correspondant groups id \n",
    "        geo_data_stoch.loc[sel, 'Z']  += np.array(interface_Z_modifier[e])\n",
    "        \n",
    "    if verbose > 0:\n",
    "        print(geo_data_stoch)\n",
    "        \n",
    "    # then return the input data to be input into the modeling function. Due to the way pymc2 stores the traces\n",
    "    # We need to save the data as numpy arrays\n",
    "    return [geo_data_stoch.xs('interfaces')[[\"X\", \"Y\", \"Z\"]].values, geo_data_stoch.xs('foliations').values]"
   ]
  },
  {
   "cell_type": "markdown",
   "metadata": {},
   "source": [
    "## Modeling function\n",
    "\n",
    "Second, we need a function that takes the modified input data output by the above function, and created our geological model from it. Although, we could store the model itself it tends to be a too large file once we make thousands of iterations. For this reason is preferible to keep the input data and the geological model split and only to store the input data ( which we will use to reconstruct each geological model since that operation is deterministic)."
   ]
  },
  {
   "cell_type": "code",
   "execution_count": 39,
   "metadata": {
    "scrolled": false
   },
   "outputs": [
    {
     "data": {
      "image/png": "[encoded data removed]",
      "text/plain": [
       "<matplotlib.figure.Figure at 0x7f74d9137d30>"
      ]
     },
     "metadata": {},
     "output_type": "display_data"
    }
   ],
   "source": [
    "@pymc.deterministic(trace=False)\n",
    "def gempy_model(value=0,\n",
    "                input_data=input_data, verbose=True):\n",
    "    \n",
    "    # modify input data values accordingly\n",
    "    interp_data.geo_data_res.interfaces[[\"X\", \"Y\", \"Z\"]] = input_data[0]\n",
    "    interp_data.geo_data_res.foliations[[\"G_x\", \"G_y\", \"G_z\", \"X\", \"Y\", \"Z\", 'dip', 'azimuth', 'polarity']] = input_data[1]\n",
    "\n",
    "    try:\n",
    "        # try to compute model\n",
    "        lb, fb = gp.compute_model(interp_data)\n",
    "        if verbose:\n",
    "            gp.plot_section(interp_data.geo_data_res, lb[0], 0, plot_data=True)\n",
    "\n",
    "        return lb, fb\n",
    "    \n",
    "    except numpy.linalg.linalg.LinAlgError as err:\n",
    "        # if it fails (e.g. some input data combinations could lead to \n",
    "        # a singular matrix and thus break the chain) return an empty model\n",
    "        # with same dimensions (just zeros)\n",
    "        if verbose:\n",
    "            print(\"Exception occured.\")\n",
    "        return np.zeros_like(lith_block), np.zeros_like(fault_block)"
   ]
  },
  {
   "cell_type": "markdown",
   "metadata": {},
   "source": [
    "We then create a pymc model with the two deterministic functions (*input_data* and *gempy_model*), as well as all the prior parameter distributions stored in the list *interface_Z_modifier*:"
   ]
  },
  {
   "cell_type": "code",
   "execution_count": 40,
   "metadata": {
    "collapsed": true
   },
   "outputs": [],
   "source": [
    "params = [input_data, gempy_model, *interface_Z_modifier] \n",
    "model = pymc.Model(params)"
   ]
  },
  {
   "cell_type": "markdown",
   "metadata": {},
   "source": [
    "Then we set the number of iterations:"
   ]
  },
  {
   "cell_type": "code",
   "execution_count": 41,
   "metadata": {
    "collapsed": true
   },
   "outputs": [],
   "source": [
    "iterations = 100"
   ]
  },
  {
   "cell_type": "markdown",
   "metadata": {},
   "source": [
    "Then we create an MCMC chain (in pymc an MCMC chain without a likelihood function is essentially a Monte Carlo forward simulation) and specify an hdf5 database to store the results in:"
   ]
  },
  {
   "cell_type": "code",
   "execution_count": 42,
   "metadata": {
    "collapsed": true
   },
   "outputs": [],
   "source": [
    "RUN = pymc.MCMC(model, db=\"hdf5\", dbname=\"pymc2_tutorial\")"
   ]
  },
  {
   "cell_type": "markdown",
   "metadata": {},
   "source": [
    "and we are finally able to run the simulation:"
   ]
  },
  {
   "cell_type": "code",
   "execution_count": 43,
   "metadata": {
    "scrolled": false
   },
   "outputs": [
    {
     "name": "stdout",
     "output_type": "stream",
     "text": [
      "\n",
      "Burn-in interval complete\n",
      "\n",
      "Sampling finished normally.\n"
     ]
    }
   ],
   "source": [
    "RUN.sample(iter=100, verbose=2)"
   ]
  },
  {
   "cell_type": "markdown",
   "metadata": {},
   "source": [
    "# Analyzing the results\n",
    "\n",
    "When we want to analyze the results, we first have to load the stored geo_data object:\n",
    "\n",
    "(this part is only necessary if the notebook above is not executed)"
   ]
  },
  {
   "cell_type": "code",
   "execution_count": 44,
   "metadata": {
    "collapsed": true
   },
   "outputs": [],
   "source": [
    "geo_data = gp.read_pickle(\"./pymc2_tutorial_geo_data.pickle\")"
   ]
  },
  {
   "cell_type": "markdown",
   "metadata": {},
   "source": [
    "Check the stratigraphic pile for correctness:"
   ]
  },
  {
   "cell_type": "code",
   "execution_count": 45,
   "metadata": {},
   "outputs": [
    {
     "data": {
      "text/plain": [
       "<gempy.strat_pile.StratigraphicPile at 0x7f74d5f49cc0>"
      ]
     },
     "execution_count": 45,
     "metadata": {},
     "output_type": "execute_result"
    },
    {
     "data": {
      "image/png": "[encoded data removed]",
      "text/plain": [
       "<matplotlib.figure.Figure at 0x7f74d5f49080>"
      ]
     },
     "metadata": {},
     "output_type": "display_data"
    }
   ],
   "source": [
    "gp.get_stratigraphic_pile(geo_data)"
   ]
  },
  {
   "cell_type": "markdown",
   "metadata": {},
   "source": [
    "Then we can then compile the GemPy modeling function:"
   ]
  },
  {
   "cell_type": "code",
   "execution_count": 30,
   "metadata": {
    "scrolled": true
   },
   "outputs": [
    {
     "name": "stdout",
     "output_type": "stream",
     "text": [
      "Level of Optimization:  fast_compile\n",
      "Device:  cpu\n",
      "Precision:  float32\n"
     ]
    }
   ],
   "source": [
    "interp_data = gp.InterpolatorInput(geo_data, u_grade=[3])"
   ]
  },
  {
   "cell_type": "markdown",
   "metadata": {},
   "source": [
    "Now we can reproduce the original model:"
   ]
  },
  {
   "cell_type": "code",
   "execution_count": 48,
   "metadata": {},
   "outputs": [
    {
     "data": {
      "image/png": "[encoded data removed]",
      "text/plain": [
       "<matplotlib.figure.Figure at 0x7f74d81bdf98>"
      ]
     },
     "metadata": {},
     "output_type": "display_data"
    }
   ],
   "source": [
    "lith_block, fault_block = gp.compute_model(interp_data)\n",
    "gp.plot_section(geo_data, lith_block[0], 0)"
   ]
  },
  {
   "cell_type": "markdown",
   "metadata": {},
   "source": [
    "But of course we want to look at the perturbation results. We have a class for that:\n",
    "\n",
    "(in the mid term the most important methods of this class will be moved to the gempy main framework---i.e. gp)"
   ]
  },
  {
   "cell_type": "code",
   "execution_count": 53,
   "metadata": {},
   "outputs": [
    {
     "data": {
      "text/plain": [
       "<module 'gempy.UncertaintyAnalysisPYMC2' from '../gempy/UncertaintyAnalysisPYMC2.py'>"
      ]
     },
     "execution_count": 53,
     "metadata": {},
     "output_type": "execute_result"
    }
   ],
   "source": [
    "import gempy.UncertaintyAnalysisPYMC2\n",
    "import importlib\n",
    "importlib.reload(gempy.UncertaintyAnalysisPYMC2)"
   ]
  },
  {
   "cell_type": "markdown",
   "metadata": {},
   "source": [
    "Which allows us to load the stored pymc2 database"
   ]
  },
  {
   "cell_type": "code",
   "execution_count": 50,
   "metadata": {},
   "outputs": [
    {
     "name": "stdout",
     "output_type": "stream",
     "text": [
      "No GemPy model trace tallied.\n",
      "No Topology trace tallied.\n"
     ]
    }
   ],
   "source": [
    "dbname = \"pymc2_tutorial\"\n",
    "post = gempy.UncertaintyAnalysisPYMC2.Posterior(dbname)"
   ]
  },
  {
   "cell_type": "markdown",
   "metadata": {},
   "source": [
    "Alright, it tells us that we did not tally any GemPy models (we set the trace flag for the gempy_model function to False!). But we can just replace the input data with the ones stored at each iteration. So let's plot the model result of the 85th iteration:"
   ]
  },
  {
   "cell_type": "code",
   "execution_count": 54,
   "metadata": {},
   "outputs": [
    {
     "ename": "ValueError",
     "evalue": "Must have equal len keys and value when setting with an ndarray",
     "output_type": "error",
     "traceback": [
      "\u001b[0;31m--------------------------------------------------------------------------\u001b[0m",
      "\u001b[0;31mValueError\u001b[0m                               Traceback (most recent call last)",
      "\u001b[0;32m<ipython-input-54-b771cd32bfab>\u001b[0m in \u001b[0;36m<module>\u001b[0;34m()\u001b[0m\n\u001b[0;32m----> 1\u001b[0;31m \u001b[0mpost\u001b[0m\u001b[0;34m.\u001b[0m\u001b[0mchange_input_data\u001b[0m\u001b[0;34m(\u001b[0m\u001b[0minterp_data\u001b[0m\u001b[0;34m,\u001b[0m \u001b[0;36m5\u001b[0m\u001b[0;34m)\u001b[0m\u001b[0;34m\u001b[0m\u001b[0m\n\u001b[0m",
      "\u001b[0;32m/home/alexanderschaaf/git/gempy/gempy/UncertaintyAnalysisPYMC2.py\u001b[0m in \u001b[0;36mchange_input_data\u001b[0;34m(self, interp_data, i)\u001b[0m\n\u001b[1;32m     48\u001b[0m         \u001b[0minterp_data\u001b[0m\u001b[0;34m.\u001b[0m\u001b[0mgeo_data_res\u001b[0m\u001b[0;34m.\u001b[0m\u001b[0minterfaces\u001b[0m\u001b[0;34m[\u001b[0m\u001b[0;34m[\u001b[0m\u001b[0;34m\"X\"\u001b[0m\u001b[0;34m,\u001b[0m \u001b[0;34m\"Y\"\u001b[0m\u001b[0;34m,\u001b[0m \u001b[0;34m\"Z\"\u001b[0m\u001b[0;34m]\u001b[0m\u001b[0;34m]\u001b[0m \u001b[0;34m=\u001b[0m \u001b[0mself\u001b[0m\u001b[0;34m.\u001b[0m\u001b[0minput_data\u001b[0m\u001b[0;34m[\u001b[0m\u001b[0mi\u001b[0m\u001b[0;34m]\u001b[0m\u001b[0;34m[\u001b[0m\u001b[0;36m0\u001b[0m\u001b[0;34m]\u001b[0m\u001b[0;34m\u001b[0m\u001b[0m\n\u001b[1;32m     49\u001b[0m         \u001b[0;31m# replace foliation data\u001b[0m\u001b[0;34m\u001b[0m\u001b[0;34m\u001b[0m\u001b[0m\n\u001b[0;32m---> 50\u001b[0;31m         \u001b[0minterp_data\u001b[0m\u001b[0;34m.\u001b[0m\u001b[0mgeo_data_res\u001b[0m\u001b[0;34m.\u001b[0m\u001b[0mfoliations\u001b[0m\u001b[0;34m[\u001b[0m\u001b[0;34m[\u001b[0m\u001b[0;34m\"G_x\"\u001b[0m\u001b[0;34m,\u001b[0m \u001b[0;34m\"G_y\"\u001b[0m\u001b[0;34m,\u001b[0m \u001b[0;34m\"G_z\"\u001b[0m\u001b[0;34m,\u001b[0m \u001b[0;34m\"X\"\u001b[0m\u001b[0;34m,\u001b[0m \u001b[0;34m\"Y\"\u001b[0m\u001b[0;34m,\u001b[0m \u001b[0;34m\"Z\"\u001b[0m\u001b[0;34m,\u001b[0m \u001b[0;34m\"dip\"\u001b[0m\u001b[0;34m,\u001b[0m \u001b[0;34m\"azimuth\"\u001b[0m\u001b[0;34m,\u001b[0m \u001b[0;34m\"polarity\"\u001b[0m\u001b[0;34m]\u001b[0m\u001b[0;34m]\u001b[0m \u001b[0;34m=\u001b[0m \u001b[0mself\u001b[0m\u001b[0;34m.\u001b[0m\u001b[0minput_data\u001b[0m\u001b[0;34m[\u001b[0m\u001b[0mi\u001b[0m\u001b[0;34m]\u001b[0m\u001b[0;34m[\u001b[0m\u001b[0;36m1\u001b[0m\u001b[0;34m]\u001b[0m\u001b[0;34m\u001b[0m\u001b[0m\n\u001b[0m\u001b[1;32m     51\u001b[0m         \u001b[0;31m# do all the ugly updating stuff\u001b[0m\u001b[0;34m\u001b[0m\u001b[0;34m\u001b[0m\u001b[0m\n\u001b[1;32m     52\u001b[0m         interp_data.interpolator.tg.final_potential_field_at_formations = theano.shared(np.zeros(\n",
      "\u001b[0;32m/home/alexanderschaaf/anaconda3/lib/python3.6/site-packages/pandas/core/frame.py\u001b[0m in \u001b[0;36m__setitem__\u001b[0;34m(self, key, value)\u001b[0m\n\u001b[1;32m   2422\u001b[0m \u001b[0;34m\u001b[0m\u001b[0m\n\u001b[1;32m   2423\u001b[0m         \u001b[0;32mif\u001b[0m \u001b[0misinstance\u001b[0m\u001b[0;34m(\u001b[0m\u001b[0mkey\u001b[0m\u001b[0;34m,\u001b[0m \u001b[0;34m(\u001b[0m\u001b[0mSeries\u001b[0m\u001b[0;34m,\u001b[0m \u001b[0mnp\u001b[0m\u001b[0;34m.\u001b[0m\u001b[0mndarray\u001b[0m\u001b[0;34m,\u001b[0m \u001b[0mlist\u001b[0m\u001b[0;34m,\u001b[0m \u001b[0mIndex\u001b[0m\u001b[0;34m)\u001b[0m\u001b[0;34m)\u001b[0m\u001b[0;34m:\u001b[0m\u001b[0;34m\u001b[0m\u001b[0m\n\u001b[0;32m-> 2424\u001b[0;31m             \u001b[0mself\u001b[0m\u001b[0;34m.\u001b[0m\u001b[0m_setitem_array\u001b[0m\u001b[0;34m(\u001b[0m\u001b[0mkey\u001b[0m\u001b[0;34m,\u001b[0m \u001b[0mvalue\u001b[0m\u001b[0;34m)\u001b[0m\u001b[0;34m\u001b[0m\u001b[0m\n\u001b[0m\u001b[1;32m   2425\u001b[0m         \u001b[0;32melif\u001b[0m \u001b[0misinstance\u001b[0m\u001b[0;34m(\u001b[0m\u001b[0mkey\u001b[0m\u001b[0;34m,\u001b[0m \u001b[0mDataFrame\u001b[0m\u001b[0;34m)\u001b[0m\u001b[0;34m:\u001b[0m\u001b[0;34m\u001b[0m\u001b[0m\n\u001b[1;32m   2426\u001b[0m             \u001b[0mself\u001b[0m\u001b[0;34m.\u001b[0m\u001b[0m_setitem_frame\u001b[0m\u001b[0;34m(\u001b[0m\u001b[0mkey\u001b[0m\u001b[0;34m,\u001b[0m \u001b[0mvalue\u001b[0m\u001b[0;34m)\u001b[0m\u001b[0;34m\u001b[0m\u001b[0m\n",
      "\u001b[0;32m/home/alexanderschaaf/anaconda3/lib/python3.6/site-packages/pandas/core/frame.py\u001b[0m in \u001b[0;36m_setitem_array\u001b[0;34m(self, key, value)\u001b[0m\n\u001b[1;32m   2452\u001b[0m                 \u001b[0mindexer\u001b[0m \u001b[0;34m=\u001b[0m \u001b[0mself\u001b[0m\u001b[0;34m.\u001b[0m\u001b[0mloc\u001b[0m\u001b[0;34m.\u001b[0m\u001b[0m_convert_to_indexer\u001b[0m\u001b[0;34m(\u001b[0m\u001b[0mkey\u001b[0m\u001b[0;34m,\u001b[0m \u001b[0maxis\u001b[0m\u001b[0;34m=\u001b[0m\u001b[0;36m1\u001b[0m\u001b[0;34m)\u001b[0m\u001b[0;34m\u001b[0m\u001b[0m\n\u001b[1;32m   2453\u001b[0m                 \u001b[0mself\u001b[0m\u001b[0;34m.\u001b[0m\u001b[0m_check_setitem_copy\u001b[0m\u001b[0;34m(\u001b[0m\u001b[0;34m)\u001b[0m\u001b[0;34m\u001b[0m\u001b[0m\n\u001b[0;32m-> 2454\u001b[0;31m                 \u001b[0mself\u001b[0m\u001b[0;34m.\u001b[0m\u001b[0mloc\u001b[0m\u001b[0;34m.\u001b[0m\u001b[0m_setitem_with_indexer\u001b[0m\u001b[0;34m(\u001b[0m\u001b[0;34m(\u001b[0m\u001b[0mslice\u001b[0m\u001b[0;34m(\u001b[0m\u001b[0;32mNone\u001b[0m\u001b[0;34m)\u001b[0m\u001b[0;34m,\u001b[0m \u001b[0mindexer\u001b[0m\u001b[0;34m)\u001b[0m\u001b[0;34m,\u001b[0m \u001b[0mvalue\u001b[0m\u001b[0;34m)\u001b[0m\u001b[0;34m\u001b[0m\u001b[0m\n\u001b[0m\u001b[1;32m   2455\u001b[0m \u001b[0;34m\u001b[0m\u001b[0m\n\u001b[1;32m   2456\u001b[0m     \u001b[0;32mdef\u001b[0m \u001b[0m_setitem_frame\u001b[0m\u001b[0;34m(\u001b[0m\u001b[0mself\u001b[0m\u001b[0;34m,\u001b[0m \u001b[0mkey\u001b[0m\u001b[0;34m,\u001b[0m \u001b[0mvalue\u001b[0m\u001b[0;34m)\u001b[0m\u001b[0;34m:\u001b[0m\u001b[0;34m\u001b[0m\u001b[0m\n",
      "\u001b[0;32m/home/alexanderschaaf/anaconda3/lib/python3.6/site-packages/pandas/core/indexing.py\u001b[0m in \u001b[0;36m_setitem_with_indexer\u001b[0;34m(self, indexer, value)\u001b[0m\n\u001b[1;32m    561\u001b[0m                     \u001b[0mvalue\u001b[0m \u001b[0;34m=\u001b[0m \u001b[0mnp\u001b[0m\u001b[0;34m.\u001b[0m\u001b[0marray\u001b[0m\u001b[0;34m(\u001b[0m\u001b[0mvalue\u001b[0m\u001b[0;34m,\u001b[0m \u001b[0mdtype\u001b[0m\u001b[0;34m=\u001b[0m\u001b[0mobject\u001b[0m\u001b[0;34m)\u001b[0m\u001b[0;34m\u001b[0m\u001b[0m\n\u001b[1;32m    562\u001b[0m                     \u001b[0;32mif\u001b[0m \u001b[0mlen\u001b[0m\u001b[0;34m(\u001b[0m\u001b[0mlabels\u001b[0m\u001b[0;34m)\u001b[0m \u001b[0;34m!=\u001b[0m \u001b[0mvalue\u001b[0m\u001b[0;34m.\u001b[0m\u001b[0mshape\u001b[0m\u001b[0;34m[\u001b[0m\u001b[0;36m1\u001b[0m\u001b[0;34m]\u001b[0m\u001b[0;34m:\u001b[0m\u001b[0;34m\u001b[0m\u001b[0m\n\u001b[0;32m--> 563\u001b[0;31m                         raise ValueError('Must have equal len keys and value '\n\u001b[0m\u001b[1;32m    564\u001b[0m                                          'when setting with an ndarray')\n\u001b[1;32m    565\u001b[0m \u001b[0;34m\u001b[0m\u001b[0m\n",
      "\u001b[0;31mValueError\u001b[0m: Must have equal len keys and value when setting with an ndarray"
     ]
    }
   ],
   "source": [
    "post.change_input_data(interp_data, 5)"
   ]
  },
  {
   "cell_type": "markdown",
   "metadata": {},
   "source": [
    "Then we compute the model and plot it:"
   ]
  },
  {
   "cell_type": "code",
   "execution_count": 77,
   "metadata": {
    "scrolled": false
   },
   "outputs": [
    {
     "data": {
      "image/png": "[encoded data removed]",
      "text/plain": [
       "<matplotlib.figure.Figure at 0x7ff3e24f3668>"
      ]
     },
     "metadata": {},
     "output_type": "display_data"
    }
   ],
   "source": [
    "lith_block, fault_block = gp.compute_model(interp_data)\n",
    "gp.plot_section(geo_data, lith_block[0,:], 2)"
   ]
  },
  {
   "cell_type": "markdown",
   "metadata": {},
   "source": [
    "or the 34th:"
   ]
  },
  {
   "cell_type": "code",
   "execution_count": 79,
   "metadata": {},
   "outputs": [
    {
     "data": {
      "image/png": "[encoded data removed]",
      "text/plain": [
       "<matplotlib.figure.Figure at 0x7ff430d645f8>"
      ]
     },
     "metadata": {},
     "output_type": "display_data"
    }
   ],
   "source": [
    "post.change_input_data(interp_data, 34)\n",
    "lith_block, fault_block = gp.compute_model(interp_data)\n",
    "gp.plot_section(geo_data, lith_block[0], 2)"
   ]
  },
  {
   "cell_type": "markdown",
   "metadata": {},
   "source": [
    "or the 95th:"
   ]
  },
  {
   "cell_type": "code",
   "execution_count": 81,
   "metadata": {},
   "outputs": [
    {
     "data": {
      "image/png": "[encoded data removed]",
      "text/plain": [
       "<matplotlib.figure.Figure at 0x7ff3e23f1e80>"
      ]
     },
     "metadata": {},
     "output_type": "display_data"
    }
   ],
   "source": [
    "post.change_input_data(interp_data, 95)\n",
    "lith_block, fault_block = gp.compute_model(interp_data)\n",
    "gp.plot_section(geo_data, lith_block[0], 2)"
   ]
  },
  {
   "cell_type": "markdown",
   "metadata": {},
   "source": [
    "As you can see, we have successfully perturbated the vertical layer interface positions - although only like a 100 times. While some models represent reasonable, geologically meaningful systems, some may not. This is due to the stochastic selection of input parameters and an inherent problem of the approach of Monte Carlo forward simulation - results do not get validated in any sense. This where Bayesian inference comes into play, as a method to constrain modeling outcomes by the use of geological likelihood functions. We will introduce you to the approach and how to use it with GemPy and pymc in the following chapter."
   ]
  }
 ],
 "metadata": {
  "kernelspec": {
   "display_name": "Python 3",
   "language": "python",
   "name": "python3"
  },
  "language_info": {
   "codemirror_mode": {
    "name": "ipython",
    "version": 3
   },
   "file_extension": ".py",
   "mimetype": "text/x-python",
   "name": "python",
   "nbconvert_exporter": "python",
   "pygments_lexer": "ipython3",
   "version": "3.6.1"
  },
  "latex_envs": {
   "LaTeX_envs_menu_present": true,
   "autocomplete": true,
   "bibliofile": "biblio.bib",
   "cite_by": "apalike",
   "current_citInitial": 1,
   "eqLabelWithNumbers": true,
   "eqNumInitial": 1,
   "hotkeys": {
    "equation": "Ctrl-E",
    "itemize": "Ctrl-I"
   },
   "labels_anchors": false,
   "latex_user_defs": false,
   "report_style_numbering": false,
   "user_envs_cfg": false
  },
  "toc": {
   "colors": {
    "hover_highlight": "#DAA520",
    "navigate_num": "#000000",
    "navigate_text": "#333333",
    "running_highlight": "#FF0000",
    "selected_highlight": "#FFD700",
    "sidebar_border": "#EEEEEE",
    "wrapper_background": "#FFFFFF"
   },
   "moveMenuLeft": true,
   "nav_menu": {
    "height": "207px",
    "width": "252px"
   },
   "navigate_menu": true,
   "number_sections": true,
   "sideBar": true,
   "threshold": 4,
   "toc_cell": false,
   "toc_section_display": "block",
   "toc_window_display": false,
   "widenNotebook": false
  }
 },
 "nbformat": 4,
 "nbformat_minor": 2
}
