{
 "cells": [
  {
   "cell_type": "markdown",
   "metadata": {},
   "source": [
    "# GRABEN"
   ]
  },
  {
   "cell_type": "code",
   "execution_count": 1,
   "metadata": {},
   "outputs": [],
   "source": [
    "import sys\n",
    "sys.path.append(\"../../gempy\")\n",
    "sys.path.append(\"../../pynoddy\")\n",
    "import copy\n",
    "import importlib\n",
    "\n",
    "import numpy as np\n",
    "import pandas as pn\n",
    "import math\n",
    "\n",
    "import gempy as gp\n",
    "from gempy import Topology as tp\n",
    "\n",
    "import pynoddy\n",
    "import pynoddy.history\n",
    "import pynoddy.output\n",
    "import pynoddy.events\n",
    "import pynoddy.experiment\n",
    "\n",
    "import matplotlib.pyplot as plt\n",
    "%matplotlib inline\n",
    "\n",
    "import pymc\n",
    "import theano"
   ]
  },
  {
   "cell_type": "markdown",
   "metadata": {},
   "source": [
    "# Data Import"
   ]
  },
  {
   "cell_type": "code",
   "execution_count": 2,
   "metadata": {},
   "outputs": [
    {
     "data": {
      "image/png": "[encoded data removed]",
      "text/plain": [
       "<matplotlib.figure.Figure at 0x1dd5352deb8>"
      ]
     },
     "metadata": {},
     "output_type": "display_data"
    }
   ],
   "source": [
    "# geo_data = gp.read_pickle(\"exp1_data.pickle\")\n",
    "\n",
    "# initialize geo_data object\n",
    "geo_data = gp.create_data([0, 3000, 0, 75, 0, 2000],\n",
    "                          resolution=[120, 3, 80])\n",
    "\n",
    "geo_data.import_data_csv(\"data/exp1_graben_interf.csv\", \"data/exp1_graben_fol.csv\")\n",
    "geo_data.calculate_gradient()\n",
    "\n",
    "form = np.delete(geo_data.get_formations(), np.where(geo_data.get_formations()==\"Fault_1\")[0][0])\n",
    "gp.set_series(geo_data, {\"Fault_1\":geo_data.get_formations()[np.where(geo_data.get_formations()==\"Fault_1\")[0][0]],\n",
    "                         \"Fault_2\":geo_data.get_formations()[np.where(geo_data.get_formations()==\"Fault_2\")[0][0]],\n",
    "                         \"Rest\":np.delete(form, np.where(form==\"Fault_2\"))},\n",
    "                           order_series = [\"Fault_1\", \"Fault_2\", \"Rest\"], verbose=0, order_formations=['Fault_1', \"Fault_2\",'Layer 2', 'Layer 3', 'Layer 4', 'Layer 5'])\n",
    "\n",
    "geo_data.set_formation_number()\n",
    "geo_data.order_table()\n",
    "\n",
    "%matplotlib inline\n",
    "gp.plot_data(geo_data)\n",
    "plt.xlim(0,3000)\n",
    "plt.ylim(0,2000)\n",
    "plt.tight_layout()\n",
    "#plt.savefig(\"input_data.pdf\")"
   ]
  },
  {
   "cell_type": "raw",
   "metadata": {},
   "source": [
    "geo_data2 = gp.select_series(geo_data, [\"Fault_2\", \"Rest\"])"
   ]
  },
  {
   "cell_type": "raw",
   "metadata": {},
   "source": [
    "interp_data = gp.InterpolatorInput(geo_data2, u_grade=[0,3], dtype=\"float64\")  #, verbose=['n_formation'], dtype=\"float32\")\n",
    "lith_block, fault_block = gp.compute_model(interp_data)"
   ]
  },
  {
   "cell_type": "code",
   "execution_count": 14,
   "metadata": {
    "scrolled": false
   },
   "outputs": [
    {
     "name": "stdout",
     "output_type": "stream",
     "text": [
      "Level of Optimization:  fast_compile\n",
      "Device:  cpu\n",
      "Precision:  float64\n",
      "length_of_C __str__ = 4\n",
      "length_of_CG __str__ = 3\n",
      "length_of_CGI __str__ = 1\n",
      "length_of_U_I __str__ = 0\n",
      "length_of_faults __str__ = 0\n",
      "f_sle __str__ = []\n",
      "Faults nfc __str__ = 28820\n",
      "Faults contribution __str__ = [ 0.  0.  0. ...,  0.  0.  0.]\n",
      "length_of_C __str__ = 4\n",
      "length_of_CG __str__ = 3\n",
      "length_of_CGI __str__ = 1\n",
      "length_of_U_I __str__ = 0\n",
      "length_of_faults __str__ = 0\n",
      "f_sle __str__ = []\n",
      "Faults nfc __str__ = 20336\n",
      "Faults contribution __str__ = [ 0.  0.  0. ...,  0.  0.  0.]\n",
      "length_of_C __str__ = 21\n",
      "length_of_CG __str__ = 9\n",
      "length_of_CGI __str__ = 8\n",
      "length_of_U_I __str__ = 3\n",
      "length_of_faults __str__ = 1\n",
      "f_sle __str__ = [[ 2.  2.  2. ...,  3.  3.  3.]]\n",
      "Faults nfc __str__ = 28820\n",
      "Faults contribution __str__ = [ 0.11876896  0.11876896  0.11876896 ...,  0.17815344  0.17815344\n",
      "  0.17815344]\n",
      "length_of_C __str__ = 4\n",
      "length_of_CG __str__ = 3\n",
      "length_of_CGI __str__ = 1\n",
      "length_of_U_I __str__ = 0\n",
      "length_of_faults __str__ = 0\n",
      "f_sle __str__ = []\n",
      "Faults nfc __str__ = 28820\n",
      "Faults contribution __str__ = [ 0.  0.  0. ...,  0.  0.  0.]\n",
      "length_of_C __str__ = 4\n",
      "length_of_CG __str__ = 3\n",
      "length_of_CGI __str__ = 1\n",
      "length_of_U_I __str__ = 0\n",
      "length_of_faults __str__ = 0\n",
      "f_sle __str__ = []\n",
      "Faults nfc __str__ = 20336\n",
      "Faults contribution __str__ = [ 0.  0.  0. ...,  0.  0.  0.]\n"
     ]
    }
   ],
   "source": [
    "interp_data = gp.InterpolatorInput(geo_data, u_grade=[0,0,3], dtype=\"float64\", verbose=['matrices_shapes', 'faults_contribution'])\n",
    "lith_block, fault_block = gp.compute_model(interp_data)"
   ]
  },
  {
   "cell_type": "raw",
   "metadata": {},
   "source": [
    "interp_data_original = gp.InterpolatorInput(geo_data, u_grade=[0,0,3], dtype=\"float64\")"
   ]
  },
  {
   "cell_type": "raw",
   "metadata": {},
   "source": [
    "interp_data.geo_data_res.interfaces"
   ]
  },
  {
   "cell_type": "markdown",
   "metadata": {},
   "source": [
    "Labels & Stuff:"
   ]
  },
  {
   "cell_type": "code",
   "execution_count": 11,
   "metadata": {
    "scrolled": false
   },
   "outputs": [
    {
     "data": {
      "image/png": "[encoded data removed]",
      "text/plain": [
       "<matplotlib.figure.Figure at 0x16e4980dfd0>"
      ]
     },
     "metadata": {},
     "output_type": "display_data"
    }
   ],
   "source": [
    "%matplotlib inline\n",
    "gp.plot_section(geo_data, lith_block[0], 0, plot_data=True)\n",
    "#plt.savefig(\"exp1_graben_model_w_input_data.pdf\")"
   ]
  },
  {
   "cell_type": "code",
   "execution_count": 5,
   "metadata": {},
   "outputs": [
    {
     "data": {
      "image/png": "[encoded data removed]",
      "text/plain": [
       "<matplotlib.figure.Figure at 0x16e2b601208>"
      ]
     },
     "metadata": {},
     "output_type": "display_data"
    }
   ],
   "source": [
    "gp.plot_section(geo_data, fault_block[0], 0, plot_data=True)"
   ]
  },
  {
   "cell_type": "code",
   "execution_count": 8,
   "metadata": {},
   "outputs": [
    {
     "data": {
      "text/plain": [
       "<matplotlib.colorbar.Colorbar at 0x16e40f0e550>"
      ]
     },
     "execution_count": 8,
     "metadata": {},
     "output_type": "execute_result"
    },
    {
     "data": {
      "image/png": "[encoded data removed]",
      "text/plain": [
       "<matplotlib.figure.Figure at 0x16e3b0e52b0>"
      ]
     },
     "metadata": {},
     "output_type": "display_data"
    }
   ],
   "source": [
    "gp.plot_potential_field(geo_data, fault_block[1], 1, plot_data=True)\n",
    "plt.colorbar()"
   ]
  },
  {
   "cell_type": "code",
   "execution_count": 9,
   "metadata": {},
   "outputs": [
    {
     "ename": "NameError",
     "evalue": "name 'vtk' is not defined",
     "output_type": "error",
     "traceback": [
      "\u001b[1;31m---------------------------------------------------------------------------\u001b[0m",
      "\u001b[1;31mNameError\u001b[0m                                 Traceback (most recent call last)",
      "\u001b[1;32m<ipython-input-9-06f019183834>\u001b[0m in \u001b[0;36m<module>\u001b[1;34m()\u001b[0m\n\u001b[0;32m      1\u001b[0m \u001b[0mver\u001b[0m\u001b[1;33m,\u001b[0m \u001b[0msim\u001b[0m \u001b[1;33m=\u001b[0m \u001b[0mgp\u001b[0m\u001b[1;33m.\u001b[0m\u001b[0mget_surfaces\u001b[0m\u001b[1;33m(\u001b[0m\u001b[0minterp_data\u001b[0m\u001b[1;33m,\u001b[0m\u001b[0mlith_block\u001b[0m\u001b[1;33m[\u001b[0m\u001b[1;36m1\u001b[0m\u001b[1;33m]\u001b[0m\u001b[1;33m,\u001b[0m \u001b[0mfault_block\u001b[0m\u001b[1;33m[\u001b[0m\u001b[1;36m1\u001b[0m\u001b[1;33m]\u001b[0m\u001b[1;33m,\u001b[0m \u001b[0moriginal_scale\u001b[0m\u001b[1;33m=\u001b[0m\u001b[1;32mTrue\u001b[0m\u001b[1;33m)\u001b[0m\u001b[1;33m\u001b[0m\u001b[0m\n\u001b[1;32m----> 2\u001b[1;33m \u001b[0mgp\u001b[0m\u001b[1;33m.\u001b[0m\u001b[0mplot_surfaces_3D\u001b[0m\u001b[1;33m(\u001b[0m\u001b[0mgeo_data\u001b[0m\u001b[1;33m,\u001b[0m \u001b[0mver\u001b[0m\u001b[1;33m,\u001b[0m \u001b[0msim\u001b[0m\u001b[1;33m,\u001b[0m \u001b[0malpha\u001b[0m\u001b[1;33m=\u001b[0m\u001b[1;36m1\u001b[0m\u001b[1;33m)\u001b[0m\u001b[1;33m\u001b[0m\u001b[0m\n\u001b[0m",
      "\u001b[1;32m~\\Documents\\git\\gempy\\gempy\\GemPy_f.py\u001b[0m in \u001b[0;36mplot_surfaces_3D\u001b[1;34m(geo_data, vertices_l, simplices_l, alpha, plot_data, size, fullscreen)\u001b[0m\n\u001b[0;32m    422\u001b[0m         \u001b[1;32mNone\u001b[0m\u001b[1;33m\u001b[0m\u001b[0m\n\u001b[0;32m    423\u001b[0m     \"\"\"\n\u001b[1;32m--> 424\u001b[1;33m     \u001b[0mw\u001b[0m \u001b[1;33m=\u001b[0m \u001b[0mvtkVisualization\u001b[0m\u001b[1;33m(\u001b[0m\u001b[0mgeo_data\u001b[0m\u001b[1;33m)\u001b[0m\u001b[1;33m\u001b[0m\u001b[0m\n\u001b[0m\u001b[0;32m    425\u001b[0m     w.set_surfaces(vertices_l, simplices_l,\n\u001b[0;32m    426\u001b[0m                    \u001b[1;31m#formations_names_l, formation_numbers_l,\u001b[0m\u001b[1;33m\u001b[0m\u001b[1;33m\u001b[0m\u001b[0m\n",
      "\u001b[1;32m~\\Documents\\git\\gempy\\gempy\\Visualization.py\u001b[0m in \u001b[0;36m__init__\u001b[1;34m(self, geo_data, ren_name, verbose, color_lot, real_time)\u001b[0m\n\u001b[0;32m    450\u001b[0m \u001b[1;33m\u001b[0m\u001b[0m\n\u001b[0;32m    451\u001b[0m         \u001b[1;31m# create render window, settings\u001b[0m\u001b[1;33m\u001b[0m\u001b[1;33m\u001b[0m\u001b[0m\n\u001b[1;32m--> 452\u001b[1;33m         \u001b[0mself\u001b[0m\u001b[1;33m.\u001b[0m\u001b[0mrenwin\u001b[0m \u001b[1;33m=\u001b[0m \u001b[0mvtk\u001b[0m\u001b[1;33m.\u001b[0m\u001b[0mvtkRenderWindow\u001b[0m\u001b[1;33m(\u001b[0m\u001b[1;33m)\u001b[0m\u001b[1;33m\u001b[0m\u001b[0m\n\u001b[0m\u001b[0;32m    453\u001b[0m         \u001b[0mself\u001b[0m\u001b[1;33m.\u001b[0m\u001b[0mrenwin\u001b[0m\u001b[1;33m.\u001b[0m\u001b[0mSetWindowName\u001b[0m\u001b[1;33m(\u001b[0m\u001b[0mren_name\u001b[0m\u001b[1;33m)\u001b[0m\u001b[1;33m\u001b[0m\u001b[0m\n\u001b[0;32m    454\u001b[0m \u001b[1;33m\u001b[0m\u001b[0m\n",
      "\u001b[1;31mNameError\u001b[0m: name 'vtk' is not defined"
     ]
    }
   ],
   "source": [
    "ver, sim = gp.get_surfaces(interp_data,lith_block[1], fault_block[1], original_scale=True)\n",
    "gp.plot_surfaces_3D(geo_data, ver, sim, alpha=1)"
   ]
  },
  {
   "cell_type": "code",
   "execution_count": 15,
   "metadata": {
    "collapsed": true
   },
   "outputs": [],
   "source": [
    "group_ids = np.unique(geo_data.interfaces[\"group_id\"])\n",
    "layer_ids = group_ids[group_ids!=\"Fault_1\"]\n",
    "layer_ids = group_ids[group_ids!=\"Fault_2\"]\n",
    "layer_ids_u = [l[:-2] for l in layer_ids]\n",
    "layer_ids_u = np.unique(layer_ids_u)"
   ]
  },
  {
   "cell_type": "raw",
   "metadata": {},
   "source": [
    "geo_data.data_to_pickle(\"simulations/exp1_graben_geo_data\")"
   ]
  },
  {
   "cell_type": "markdown",
   "metadata": {},
   "source": [
    "# PYMC Implementation"
   ]
  },
  {
   "cell_type": "markdown",
   "metadata": {},
   "source": [
    "## Priors"
   ]
  },
  {
   "cell_type": "markdown",
   "metadata": {},
   "source": [
    "Create pymc.Normal distributions (mean 0) as prior parameters for the layer interface positions (modifier):"
   ]
  },
  {
   "cell_type": "code",
   "execution_count": 16,
   "metadata": {},
   "outputs": [
    {
     "data": {
      "text/html": [
       "<div>\n",
       "<style>\n",
       "    .dataframe thead tr:only-child th {\n",
       "        text-align: right;\n",
       "    }\n",
       "\n",
       "    .dataframe thead th {\n",
       "        text-align: left;\n",
       "    }\n",
       "\n",
       "    .dataframe tbody tr th {\n",
       "        vertical-align: top;\n",
       "    }\n",
       "</style>\n",
       "<table border=\"1\" class=\"dataframe\">\n",
       "  <thead>\n",
       "    <tr style=\"text-align: right;\">\n",
       "      <th></th>\n",
       "      <th>X</th>\n",
       "      <th>Y</th>\n",
       "      <th>Z</th>\n",
       "      <th>formation</th>\n",
       "      <th>series</th>\n",
       "      <th>X_std</th>\n",
       "      <th>Y_std</th>\n",
       "      <th>Z_std</th>\n",
       "      <th>group_id</th>\n",
       "      <th>order_series</th>\n",
       "      <th>isFault</th>\n",
       "      <th>formation number</th>\n",
       "      <th>annotations</th>\n",
       "    </tr>\n",
       "  </thead>\n",
       "  <tbody>\n",
       "    <tr>\n",
       "      <th>0</th>\n",
       "      <td>750</td>\n",
       "      <td>0</td>\n",
       "      <td>1223</td>\n",
       "      <td>Fault_1</td>\n",
       "      <td>Fault_1</td>\n",
       "      <td>0.0</td>\n",
       "      <td>0.0</td>\n",
       "      <td>0.0</td>\n",
       "      <td>Fault_1</td>\n",
       "      <td>1</td>\n",
       "      <td>True</td>\n",
       "      <td>1</td>\n",
       "      <td>${\\bf{x}}_{\\alpha \\,{\\bf{1}},0}$</td>\n",
       "    </tr>\n",
       "    <tr>\n",
       "      <th>1</th>\n",
       "      <td>1050</td>\n",
       "      <td>0</td>\n",
       "      <td>704</td>\n",
       "      <td>Fault_1</td>\n",
       "      <td>Fault_1</td>\n",
       "      <td>0.0</td>\n",
       "      <td>0.0</td>\n",
       "      <td>0.0</td>\n",
       "      <td>Fault_1</td>\n",
       "      <td>1</td>\n",
       "      <td>True</td>\n",
       "      <td>1</td>\n",
       "      <td>${\\bf{x}}_{\\alpha \\,{\\bf{1}},1}$</td>\n",
       "    </tr>\n",
       "    <tr>\n",
       "      <th>2</th>\n",
       "      <td>2250</td>\n",
       "      <td>0</td>\n",
       "      <td>975</td>\n",
       "      <td>Fault_2</td>\n",
       "      <td>Fault_2</td>\n",
       "      <td>0.0</td>\n",
       "      <td>0.0</td>\n",
       "      <td>0.0</td>\n",
       "      <td>Fault_2</td>\n",
       "      <td>2</td>\n",
       "      <td>True</td>\n",
       "      <td>2</td>\n",
       "      <td>${\\bf{x}}_{\\alpha \\,{\\bf{2}},0}$</td>\n",
       "    </tr>\n",
       "    <tr>\n",
       "      <th>3</th>\n",
       "      <td>1950</td>\n",
       "      <td>0</td>\n",
       "      <td>567</td>\n",
       "      <td>Fault_2</td>\n",
       "      <td>Fault_2</td>\n",
       "      <td>0.0</td>\n",
       "      <td>0.0</td>\n",
       "      <td>0.0</td>\n",
       "      <td>Fault_2</td>\n",
       "      <td>2</td>\n",
       "      <td>True</td>\n",
       "      <td>2</td>\n",
       "      <td>${\\bf{x}}_{\\alpha \\,{\\bf{2}},1}$</td>\n",
       "    </tr>\n",
       "    <tr>\n",
       "      <th>4</th>\n",
       "      <td>250</td>\n",
       "      <td>0</td>\n",
       "      <td>1523</td>\n",
       "      <td>Layer 2</td>\n",
       "      <td>Rest</td>\n",
       "      <td>0.0</td>\n",
       "      <td>0.0</td>\n",
       "      <td>0.0</td>\n",
       "      <td>l2_a</td>\n",
       "      <td>3</td>\n",
       "      <td>False</td>\n",
       "      <td>3</td>\n",
       "      <td>${\\bf{x}}_{\\alpha \\,{\\bf{3}},0}$</td>\n",
       "    </tr>\n",
       "    <tr>\n",
       "      <th>5</th>\n",
       "      <td>1500</td>\n",
       "      <td>0</td>\n",
       "      <td>1054</td>\n",
       "      <td>Layer 2</td>\n",
       "      <td>Rest</td>\n",
       "      <td>0.0</td>\n",
       "      <td>0.0</td>\n",
       "      <td>0.0</td>\n",
       "      <td>l2_b</td>\n",
       "      <td>3</td>\n",
       "      <td>False</td>\n",
       "      <td>3</td>\n",
       "      <td>${\\bf{x}}_{\\alpha \\,{\\bf{3}},1}$</td>\n",
       "    </tr>\n",
       "    <tr>\n",
       "      <th>6</th>\n",
       "      <td>2750</td>\n",
       "      <td>0</td>\n",
       "      <td>1130</td>\n",
       "      <td>Layer 2</td>\n",
       "      <td>Rest</td>\n",
       "      <td>0.0</td>\n",
       "      <td>0.0</td>\n",
       "      <td>0.0</td>\n",
       "      <td>l2_c</td>\n",
       "      <td>3</td>\n",
       "      <td>False</td>\n",
       "      <td>3</td>\n",
       "      <td>${\\bf{x}}_{\\alpha \\,{\\bf{3}},2}$</td>\n",
       "    </tr>\n",
       "    <tr>\n",
       "      <th>7</th>\n",
       "      <td>250</td>\n",
       "      <td>0</td>\n",
       "      <td>1320</td>\n",
       "      <td>Layer 3</td>\n",
       "      <td>Rest</td>\n",
       "      <td>0.0</td>\n",
       "      <td>0.0</td>\n",
       "      <td>0.0</td>\n",
       "      <td>l3_a</td>\n",
       "      <td>3</td>\n",
       "      <td>False</td>\n",
       "      <td>4</td>\n",
       "      <td>${\\bf{x}}_{\\alpha \\,{\\bf{4}},0}$</td>\n",
       "    </tr>\n",
       "    <tr>\n",
       "      <th>8</th>\n",
       "      <td>1500</td>\n",
       "      <td>0</td>\n",
       "      <td>851</td>\n",
       "      <td>Layer 3</td>\n",
       "      <td>Rest</td>\n",
       "      <td>0.0</td>\n",
       "      <td>0.0</td>\n",
       "      <td>0.0</td>\n",
       "      <td>l3_b</td>\n",
       "      <td>3</td>\n",
       "      <td>False</td>\n",
       "      <td>4</td>\n",
       "      <td>${\\bf{x}}_{\\alpha \\,{\\bf{4}},1}$</td>\n",
       "    </tr>\n",
       "    <tr>\n",
       "      <th>9</th>\n",
       "      <td>2750</td>\n",
       "      <td>0</td>\n",
       "      <td>936</td>\n",
       "      <td>Layer 3</td>\n",
       "      <td>Rest</td>\n",
       "      <td>0.0</td>\n",
       "      <td>0.0</td>\n",
       "      <td>0.0</td>\n",
       "      <td>l3_c</td>\n",
       "      <td>3</td>\n",
       "      <td>False</td>\n",
       "      <td>4</td>\n",
       "      <td>${\\bf{x}}_{\\alpha \\,{\\bf{4}},2}$</td>\n",
       "    </tr>\n",
       "    <tr>\n",
       "      <th>10</th>\n",
       "      <td>250</td>\n",
       "      <td>0</td>\n",
       "      <td>1117</td>\n",
       "      <td>Layer 4</td>\n",
       "      <td>Rest</td>\n",
       "      <td>0.0</td>\n",
       "      <td>0.0</td>\n",
       "      <td>0.0</td>\n",
       "      <td>l4_a</td>\n",
       "      <td>3</td>\n",
       "      <td>False</td>\n",
       "      <td>5</td>\n",
       "      <td>${\\bf{x}}_{\\alpha \\,{\\bf{5}},0}$</td>\n",
       "    </tr>\n",
       "    <tr>\n",
       "      <th>11</th>\n",
       "      <td>1500</td>\n",
       "      <td>0</td>\n",
       "      <td>648</td>\n",
       "      <td>Layer 4</td>\n",
       "      <td>Rest</td>\n",
       "      <td>0.0</td>\n",
       "      <td>0.0</td>\n",
       "      <td>0.0</td>\n",
       "      <td>l4_b</td>\n",
       "      <td>3</td>\n",
       "      <td>False</td>\n",
       "      <td>5</td>\n",
       "      <td>${\\bf{x}}_{\\alpha \\,{\\bf{5}},1}$</td>\n",
       "    </tr>\n",
       "    <tr>\n",
       "      <th>12</th>\n",
       "      <td>2750</td>\n",
       "      <td>0</td>\n",
       "      <td>733</td>\n",
       "      <td>Layer 4</td>\n",
       "      <td>Rest</td>\n",
       "      <td>0.0</td>\n",
       "      <td>0.0</td>\n",
       "      <td>0.0</td>\n",
       "      <td>l4_c</td>\n",
       "      <td>3</td>\n",
       "      <td>False</td>\n",
       "      <td>5</td>\n",
       "      <td>${\\bf{x}}_{\\alpha \\,{\\bf{5}},2}$</td>\n",
       "    </tr>\n",
       "    <tr>\n",
       "      <th>13</th>\n",
       "      <td>250</td>\n",
       "      <td>0</td>\n",
       "      <td>914</td>\n",
       "      <td>Layer 5</td>\n",
       "      <td>Rest</td>\n",
       "      <td>0.0</td>\n",
       "      <td>0.0</td>\n",
       "      <td>0.0</td>\n",
       "      <td>l5_a</td>\n",
       "      <td>3</td>\n",
       "      <td>False</td>\n",
       "      <td>6</td>\n",
       "      <td>${\\bf{x}}_{\\alpha \\,{\\bf{6}},0}$</td>\n",
       "    </tr>\n",
       "    <tr>\n",
       "      <th>14</th>\n",
       "      <td>1500</td>\n",
       "      <td>0</td>\n",
       "      <td>445</td>\n",
       "      <td>Layer 5</td>\n",
       "      <td>Rest</td>\n",
       "      <td>0.0</td>\n",
       "      <td>0.0</td>\n",
       "      <td>0.0</td>\n",
       "      <td>l5_b</td>\n",
       "      <td>3</td>\n",
       "      <td>False</td>\n",
       "      <td>6</td>\n",
       "      <td>${\\bf{x}}_{\\alpha \\,{\\bf{6}},1}$</td>\n",
       "    </tr>\n",
       "    <tr>\n",
       "      <th>15</th>\n",
       "      <td>2750</td>\n",
       "      <td>0</td>\n",
       "      <td>530</td>\n",
       "      <td>Layer 5</td>\n",
       "      <td>Rest</td>\n",
       "      <td>0.0</td>\n",
       "      <td>0.0</td>\n",
       "      <td>0.0</td>\n",
       "      <td>l5_c</td>\n",
       "      <td>3</td>\n",
       "      <td>False</td>\n",
       "      <td>6</td>\n",
       "      <td>${\\bf{x}}_{\\alpha \\,{\\bf{6}},2}$</td>\n",
       "    </tr>\n",
       "  </tbody>\n",
       "</table>\n",
       "</div>"
      ],
      "text/plain": [
       "       X  Y     Z formation   series  X_std  Y_std  Z_std group_id  \\\n",
       "0    750  0  1223   Fault_1  Fault_1    0.0    0.0    0.0  Fault_1   \n",
       "1   1050  0   704   Fault_1  Fault_1    0.0    0.0    0.0  Fault_1   \n",
       "2   2250  0   975   Fault_2  Fault_2    0.0    0.0    0.0  Fault_2   \n",
       "3   1950  0   567   Fault_2  Fault_2    0.0    0.0    0.0  Fault_2   \n",
       "4    250  0  1523   Layer 2     Rest    0.0    0.0    0.0     l2_a   \n",
       "5   1500  0  1054   Layer 2     Rest    0.0    0.0    0.0     l2_b   \n",
       "6   2750  0  1130   Layer 2     Rest    0.0    0.0    0.0     l2_c   \n",
       "7    250  0  1320   Layer 3     Rest    0.0    0.0    0.0     l3_a   \n",
       "8   1500  0   851   Layer 3     Rest    0.0    0.0    0.0     l3_b   \n",
       "9   2750  0   936   Layer 3     Rest    0.0    0.0    0.0     l3_c   \n",
       "10   250  0  1117   Layer 4     Rest    0.0    0.0    0.0     l4_a   \n",
       "11  1500  0   648   Layer 4     Rest    0.0    0.0    0.0     l4_b   \n",
       "12  2750  0   733   Layer 4     Rest    0.0    0.0    0.0     l4_c   \n",
       "13   250  0   914   Layer 5     Rest    0.0    0.0    0.0     l5_a   \n",
       "14  1500  0   445   Layer 5     Rest    0.0    0.0    0.0     l5_b   \n",
       "15  2750  0   530   Layer 5     Rest    0.0    0.0    0.0     l5_c   \n",
       "\n",
       "    order_series  isFault  formation number                       annotations  \n",
       "0              1     True                 1  ${\\bf{x}}_{\\alpha \\,{\\bf{1}},0}$  \n",
       "1              1     True                 1  ${\\bf{x}}_{\\alpha \\,{\\bf{1}},1}$  \n",
       "2              2     True                 2  ${\\bf{x}}_{\\alpha \\,{\\bf{2}},0}$  \n",
       "3              2     True                 2  ${\\bf{x}}_{\\alpha \\,{\\bf{2}},1}$  \n",
       "4              3    False                 3  ${\\bf{x}}_{\\alpha \\,{\\bf{3}},0}$  \n",
       "5              3    False                 3  ${\\bf{x}}_{\\alpha \\,{\\bf{3}},1}$  \n",
       "6              3    False                 3  ${\\bf{x}}_{\\alpha \\,{\\bf{3}},2}$  \n",
       "7              3    False                 4  ${\\bf{x}}_{\\alpha \\,{\\bf{4}},0}$  \n",
       "8              3    False                 4  ${\\bf{x}}_{\\alpha \\,{\\bf{4}},1}$  \n",
       "9              3    False                 4  ${\\bf{x}}_{\\alpha \\,{\\bf{4}},2}$  \n",
       "10             3    False                 5  ${\\bf{x}}_{\\alpha \\,{\\bf{5}},0}$  \n",
       "11             3    False                 5  ${\\bf{x}}_{\\alpha \\,{\\bf{5}},1}$  \n",
       "12             3    False                 5  ${\\bf{x}}_{\\alpha \\,{\\bf{5}},2}$  \n",
       "13             3    False                 6  ${\\bf{x}}_{\\alpha \\,{\\bf{6}},0}$  \n",
       "14             3    False                 6  ${\\bf{x}}_{\\alpha \\,{\\bf{6}},1}$  \n",
       "15             3    False                 6  ${\\bf{x}}_{\\alpha \\,{\\bf{6}},2}$  "
      ]
     },
     "execution_count": 16,
     "metadata": {},
     "output_type": "execute_result"
    }
   ],
   "source": [
    "geo_data.interfaces"
   ]
  },
  {
   "cell_type": "code",
   "execution_count": 17,
   "metadata": {},
   "outputs": [
    {
     "data": {
      "text/html": [
       "<div>\n",
       "<style>\n",
       "    .dataframe thead tr:only-child th {\n",
       "        text-align: right;\n",
       "    }\n",
       "\n",
       "    .dataframe thead th {\n",
       "        text-align: left;\n",
       "    }\n",
       "\n",
       "    .dataframe tbody tr th {\n",
       "        vertical-align: top;\n",
       "    }\n",
       "</style>\n",
       "<table border=\"1\" class=\"dataframe\">\n",
       "  <thead>\n",
       "    <tr style=\"text-align: right;\">\n",
       "      <th></th>\n",
       "      <th>X</th>\n",
       "      <th>Y</th>\n",
       "      <th>Z</th>\n",
       "      <th>dip</th>\n",
       "      <th>azimuth</th>\n",
       "      <th>polarity</th>\n",
       "      <th>formation</th>\n",
       "      <th>G_x</th>\n",
       "      <th>G_y</th>\n",
       "      <th>G_z</th>\n",
       "      <th>series</th>\n",
       "      <th>order_series</th>\n",
       "      <th>isFault</th>\n",
       "      <th>formation number</th>\n",
       "      <th>annotations</th>\n",
       "      <th>group_id</th>\n",
       "    </tr>\n",
       "  </thead>\n",
       "  <tbody>\n",
       "    <tr>\n",
       "      <th>0</th>\n",
       "      <td>0.3801</td>\n",
       "      <td>0.5001</td>\n",
       "      <td>0.4959</td>\n",
       "      <td>60</td>\n",
       "      <td>90</td>\n",
       "      <td>-1</td>\n",
       "      <td>Fault_1</td>\n",
       "      <td>-0.866025</td>\n",
       "      <td>-5.302876e-17</td>\n",
       "      <td>-0.500000</td>\n",
       "      <td>Fault_1</td>\n",
       "      <td>1</td>\n",
       "      <td>True</td>\n",
       "      <td>1</td>\n",
       "      <td>${\\bf{x}}_{\\beta \\,{\\bf{1}},0}$</td>\n",
       "      <td>Fault_1</td>\n",
       "    </tr>\n",
       "    <tr>\n",
       "      <th>1</th>\n",
       "      <td>0.6201</td>\n",
       "      <td>0.5001</td>\n",
       "      <td>0.4687</td>\n",
       "      <td>60</td>\n",
       "      <td>270</td>\n",
       "      <td>1</td>\n",
       "      <td>Fault_2</td>\n",
       "      <td>-0.866025</td>\n",
       "      <td>-1.590863e-16</td>\n",
       "      <td>0.500000</td>\n",
       "      <td>Fault_2</td>\n",
       "      <td>2</td>\n",
       "      <td>True</td>\n",
       "      <td>2</td>\n",
       "      <td>${\\bf{x}}_{\\beta \\,{\\bf{2}},0}$</td>\n",
       "      <td>Fault_2</td>\n",
       "    </tr>\n",
       "    <tr>\n",
       "      <th>2</th>\n",
       "      <td>0.2501</td>\n",
       "      <td>0.5001</td>\n",
       "      <td>0.6079</td>\n",
       "      <td>10</td>\n",
       "      <td>90</td>\n",
       "      <td>1</td>\n",
       "      <td>Layer 2</td>\n",
       "      <td>0.173648</td>\n",
       "      <td>1.063288e-17</td>\n",
       "      <td>0.984808</td>\n",
       "      <td>Rest</td>\n",
       "      <td>3</td>\n",
       "      <td>False</td>\n",
       "      <td>3</td>\n",
       "      <td>${\\bf{x}}_{\\beta \\,{\\bf{3}},0}$</td>\n",
       "      <td>l2_a</td>\n",
       "    </tr>\n",
       "    <tr>\n",
       "      <th>3</th>\n",
       "      <td>0.5001</td>\n",
       "      <td>0.5001</td>\n",
       "      <td>0.5141</td>\n",
       "      <td>10</td>\n",
       "      <td>90</td>\n",
       "      <td>1</td>\n",
       "      <td>Layer 2</td>\n",
       "      <td>0.173648</td>\n",
       "      <td>1.063288e-17</td>\n",
       "      <td>0.984808</td>\n",
       "      <td>Rest</td>\n",
       "      <td>3</td>\n",
       "      <td>False</td>\n",
       "      <td>3</td>\n",
       "      <td>${\\bf{x}}_{\\beta \\,{\\bf{3}},1}$</td>\n",
       "      <td>l2_b</td>\n",
       "    </tr>\n",
       "    <tr>\n",
       "      <th>4</th>\n",
       "      <td>0.7501</td>\n",
       "      <td>0.5001</td>\n",
       "      <td>0.5293</td>\n",
       "      <td>10</td>\n",
       "      <td>90</td>\n",
       "      <td>1</td>\n",
       "      <td>Layer 2</td>\n",
       "      <td>0.173648</td>\n",
       "      <td>1.063288e-17</td>\n",
       "      <td>0.984808</td>\n",
       "      <td>Rest</td>\n",
       "      <td>3</td>\n",
       "      <td>False</td>\n",
       "      <td>3</td>\n",
       "      <td>${\\bf{x}}_{\\beta \\,{\\bf{3}},2}$</td>\n",
       "      <td>l2_c</td>\n",
       "    </tr>\n",
       "  </tbody>\n",
       "</table>\n",
       "</div>"
      ],
      "text/plain": [
       "        X       Y       Z  dip  azimuth  polarity formation       G_x  \\\n",
       "0  0.3801  0.5001  0.4959   60       90        -1   Fault_1 -0.866025   \n",
       "1  0.6201  0.5001  0.4687   60      270         1   Fault_2 -0.866025   \n",
       "2  0.2501  0.5001  0.6079   10       90         1   Layer 2  0.173648   \n",
       "3  0.5001  0.5001  0.5141   10       90         1   Layer 2  0.173648   \n",
       "4  0.7501  0.5001  0.5293   10       90         1   Layer 2  0.173648   \n",
       "\n",
       "            G_y       G_z   series  order_series  isFault  formation number  \\\n",
       "0 -5.302876e-17 -0.500000  Fault_1             1     True                 1   \n",
       "1 -1.590863e-16  0.500000  Fault_2             2     True                 2   \n",
       "2  1.063288e-17  0.984808     Rest             3    False                 3   \n",
       "3  1.063288e-17  0.984808     Rest             3    False                 3   \n",
       "4  1.063288e-17  0.984808     Rest             3    False                 3   \n",
       "\n",
       "                       annotations group_id  \n",
       "0  ${\\bf{x}}_{\\beta \\,{\\bf{1}},0}$  Fault_1  \n",
       "1  ${\\bf{x}}_{\\beta \\,{\\bf{2}},0}$  Fault_2  \n",
       "2  ${\\bf{x}}_{\\beta \\,{\\bf{3}},0}$     l2_a  \n",
       "3  ${\\bf{x}}_{\\beta \\,{\\bf{3}},1}$     l2_b  \n",
       "4  ${\\bf{x}}_{\\beta \\,{\\bf{3}},2}$     l2_c  "
      ]
     },
     "execution_count": 17,
     "metadata": {},
     "output_type": "execute_result"
    }
   ],
   "source": [
    "interp_data.geo_data_res.foliations"
   ]
  },
  {
   "cell_type": "code",
   "execution_count": 18,
   "metadata": {
    "collapsed": true
   },
   "outputs": [],
   "source": [
    "interf_Z_modifier = []\n",
    "interf_Z_std = 40.\n",
    "\n",
    "for g_id in ['l2', 'l3', 'l4', 'l5']:\n",
    "    interf_Z_modifier.append(pymc.Normal(g_id, 0, 1./interf_Z_std**2))\n",
    "    \n",
    "fault_1_dip = pymc.Normal(\"fault_1_dip\", 60., 1./5**2)\n",
    "fault_2_dip = pymc.Normal(\"fault_2_dip\", 60., 1./5**2)\n",
    "strat_dip = pymc.Normal(\"strat_dip\", 15., 1./5**2)"
   ]
  },
  {
   "cell_type": "markdown",
   "metadata": {},
   "source": [
    "For the fault we only want to change the dip angle, so we create a PlaneData object:"
   ]
  },
  {
   "cell_type": "code",
   "execution_count": 19,
   "metadata": {
    "collapsed": true
   },
   "outputs": [],
   "source": [
    "# first we remove the initial fault foliation\n",
    "try:\n",
    "    i = geo_data.foliations[geo_data.foliations[\"formation\"]==\"Fault_1\"].index\n",
    "    geo_data.foliations.drop(i, inplace=True)\n",
    "    i = geo_data.foliations[geo_data.foliations[\"formation\"]==\"Fault_2\"].index\n",
    "    geo_data.foliations.drop(i, inplace=True)\n",
    "except ValueError:\n",
    "    pass\n",
    "# then create it coupled with the interface points\n",
    "fault_plane_1 = gp.DataManagement.DataPlane(geo_data, \"Fault_1\", \"interf_to_fol\")\n",
    "fault_plane_1.set_fol()\n",
    "fault_plane_2 = gp.DataManagement.DataPlane(geo_data, \"Fault_2\", \"interf_to_fol\")\n",
    "fault_plane_2.set_fol()"
   ]
  },
  {
   "cell_type": "markdown",
   "metadata": {},
   "source": [
    "Visualize the distribution:"
   ]
  },
  {
   "cell_type": "code",
   "execution_count": 20,
   "metadata": {
    "scrolled": false
   },
   "outputs": [
    {
     "data": {
      "image/png": "[encoded data removed]",
      "text/plain": [
       "<matplotlib.figure.Figure at 0x7fad3107e0f0>"
      ]
     },
     "metadata": {},
     "output_type": "display_data"
    }
   ],
   "source": [
    "# sample from a distribtion\n",
    "samples = [strat_dip.rand() for i in range(10000)]\n",
    "# plot histogram\n",
    "plt.hist(samples, bins=24, normed=True);\n",
    "plt.xlabel(\"Fault Dip Angle\")\n",
    "plt.vlines(60, 0, 0.01)\n",
    "#plt.xlim(40, 80)\n",
    "plt.ylabel(\"n\");"
   ]
  },
  {
   "cell_type": "markdown",
   "metadata": {},
   "source": [
    "Reset series, somehow this gets messed up above - fix!"
   ]
  },
  {
   "cell_type": "code",
   "execution_count": 21,
   "metadata": {},
   "outputs": [
    {
     "data": {
      "text/html": [
       "<div>\n",
       "<style>\n",
       "    .dataframe thead tr:only-child th {\n",
       "        text-align: right;\n",
       "    }\n",
       "\n",
       "    .dataframe thead th {\n",
       "        text-align: left;\n",
       "    }\n",
       "\n",
       "    .dataframe tbody tr th {\n",
       "        vertical-align: top;\n",
       "    }\n",
       "</style>\n",
       "<table border=\"1\" class=\"dataframe\">\n",
       "  <thead>\n",
       "    <tr style=\"text-align: right;\">\n",
       "      <th></th>\n",
       "      <th>X</th>\n",
       "      <th>Y</th>\n",
       "      <th>Z</th>\n",
       "      <th>dip</th>\n",
       "      <th>azimuth</th>\n",
       "      <th>polarity</th>\n",
       "      <th>formation</th>\n",
       "      <th>G_x</th>\n",
       "      <th>G_y</th>\n",
       "      <th>G_z</th>\n",
       "      <th>series</th>\n",
       "      <th>order_series</th>\n",
       "      <th>isFault</th>\n",
       "      <th>formation number</th>\n",
       "      <th>annotations</th>\n",
       "      <th>group_id</th>\n",
       "    </tr>\n",
       "  </thead>\n",
       "  <tbody>\n",
       "    <tr>\n",
       "      <th>0</th>\n",
       "      <td>0.3801</td>\n",
       "      <td>0.5001</td>\n",
       "      <td>0.4959</td>\n",
       "      <td>60</td>\n",
       "      <td>90</td>\n",
       "      <td>-1</td>\n",
       "      <td>Fault_1</td>\n",
       "      <td>-0.866025</td>\n",
       "      <td>-5.302876e-17</td>\n",
       "      <td>-0.500000</td>\n",
       "      <td>Fault_1</td>\n",
       "      <td>1</td>\n",
       "      <td>True</td>\n",
       "      <td>1</td>\n",
       "      <td>${\\bf{x}}_{\\beta \\,{\\bf{1}},0}$</td>\n",
       "      <td>Fault_1</td>\n",
       "    </tr>\n",
       "    <tr>\n",
       "      <th>1</th>\n",
       "      <td>0.6201</td>\n",
       "      <td>0.5001</td>\n",
       "      <td>0.4687</td>\n",
       "      <td>60</td>\n",
       "      <td>270</td>\n",
       "      <td>1</td>\n",
       "      <td>Fault_2</td>\n",
       "      <td>-0.866025</td>\n",
       "      <td>-1.590863e-16</td>\n",
       "      <td>0.500000</td>\n",
       "      <td>Fault_2</td>\n",
       "      <td>2</td>\n",
       "      <td>True</td>\n",
       "      <td>2</td>\n",
       "      <td>${\\bf{x}}_{\\beta \\,{\\bf{2}},0}$</td>\n",
       "      <td>Fault_2</td>\n",
       "    </tr>\n",
       "    <tr>\n",
       "      <th>2</th>\n",
       "      <td>0.2501</td>\n",
       "      <td>0.5001</td>\n",
       "      <td>0.6079</td>\n",
       "      <td>10</td>\n",
       "      <td>90</td>\n",
       "      <td>1</td>\n",
       "      <td>Layer 2</td>\n",
       "      <td>0.173648</td>\n",
       "      <td>1.063288e-17</td>\n",
       "      <td>0.984808</td>\n",
       "      <td>Rest</td>\n",
       "      <td>3</td>\n",
       "      <td>False</td>\n",
       "      <td>3</td>\n",
       "      <td>${\\bf{x}}_{\\beta \\,{\\bf{3}},0}$</td>\n",
       "      <td>l2_a</td>\n",
       "    </tr>\n",
       "    <tr>\n",
       "      <th>3</th>\n",
       "      <td>0.5001</td>\n",
       "      <td>0.5001</td>\n",
       "      <td>0.5141</td>\n",
       "      <td>10</td>\n",
       "      <td>90</td>\n",
       "      <td>1</td>\n",
       "      <td>Layer 2</td>\n",
       "      <td>0.173648</td>\n",
       "      <td>1.063288e-17</td>\n",
       "      <td>0.984808</td>\n",
       "      <td>Rest</td>\n",
       "      <td>3</td>\n",
       "      <td>False</td>\n",
       "      <td>3</td>\n",
       "      <td>${\\bf{x}}_{\\beta \\,{\\bf{3}},1}$</td>\n",
       "      <td>l2_b</td>\n",
       "    </tr>\n",
       "    <tr>\n",
       "      <th>4</th>\n",
       "      <td>0.7501</td>\n",
       "      <td>0.5001</td>\n",
       "      <td>0.5293</td>\n",
       "      <td>10</td>\n",
       "      <td>90</td>\n",
       "      <td>1</td>\n",
       "      <td>Layer 2</td>\n",
       "      <td>0.173648</td>\n",
       "      <td>1.063288e-17</td>\n",
       "      <td>0.984808</td>\n",
       "      <td>Rest</td>\n",
       "      <td>3</td>\n",
       "      <td>False</td>\n",
       "      <td>3</td>\n",
       "      <td>${\\bf{x}}_{\\beta \\,{\\bf{3}},2}$</td>\n",
       "      <td>l2_c</td>\n",
       "    </tr>\n",
       "  </tbody>\n",
       "</table>\n",
       "</div>"
      ],
      "text/plain": [
       "        X       Y       Z  dip  azimuth  polarity formation       G_x  \\\n",
       "0  0.3801  0.5001  0.4959   60       90        -1   Fault_1 -0.866025   \n",
       "1  0.6201  0.5001  0.4687   60      270         1   Fault_2 -0.866025   \n",
       "2  0.2501  0.5001  0.6079   10       90         1   Layer 2  0.173648   \n",
       "3  0.5001  0.5001  0.5141   10       90         1   Layer 2  0.173648   \n",
       "4  0.7501  0.5001  0.5293   10       90         1   Layer 2  0.173648   \n",
       "\n",
       "            G_y       G_z   series  order_series  isFault  formation number  \\\n",
       "0 -5.302876e-17 -0.500000  Fault_1             1     True                 1   \n",
       "1 -1.590863e-16  0.500000  Fault_2             2     True                 2   \n",
       "2  1.063288e-17  0.984808     Rest             3    False                 3   \n",
       "3  1.063288e-17  0.984808     Rest             3    False                 3   \n",
       "4  1.063288e-17  0.984808     Rest             3    False                 3   \n",
       "\n",
       "                       annotations group_id  \n",
       "0  ${\\bf{x}}_{\\beta \\,{\\bf{1}},0}$  Fault_1  \n",
       "1  ${\\bf{x}}_{\\beta \\,{\\bf{2}},0}$  Fault_2  \n",
       "2  ${\\bf{x}}_{\\beta \\,{\\bf{3}},0}$     l2_a  \n",
       "3  ${\\bf{x}}_{\\beta \\,{\\bf{3}},1}$     l2_b  \n",
       "4  ${\\bf{x}}_{\\beta \\,{\\bf{3}},2}$     l2_c  "
      ]
     },
     "execution_count": 21,
     "metadata": {},
     "output_type": "execute_result"
    },
    {
     "data": {
      "image/png": "[encoded data removed]",
      "text/plain": [
       "<matplotlib.figure.Figure at 0x7fad2021d160>"
      ]
     },
     "metadata": {},
     "output_type": "display_data"
    }
   ],
   "source": [
    "form = np.delete(geo_data.get_formations(), np.where(geo_data.get_formations()==\"Fault_1\")[0][0])\n",
    "gp.set_series(geo_data, {\"Fault_1\":geo_data.get_formations()[np.where(geo_data.get_formations()==\"Fault_1\")[0][0]],\n",
    "                         \"Fault_2\":geo_data.get_formations()[np.where(geo_data.get_formations()==\"Fault_2\")[0][0]],\n",
    "                         \"Rest\":np.delete(form, np.where(form==\"Fault_2\"))},\n",
    "                           order_series = [\"Fault_1\", \"Fault_2\", \"Rest\"], verbose=0, order_formations=['Fault_1', \"Fault_2\",'Layer 2', 'Layer 3', 'Layer 4', 'Layer 5'])\n",
    "\n",
    "geo_data.set_formation_number()\n",
    "geo_data.order_table()\n",
    "\n",
    "interp_data.geo_data_res.foliations.set_value(0, \"group_id\", \"Fault_1\")\n",
    "interp_data.geo_data_res.foliations.set_value(1, \"group_id\", \"Fault_2\")\n",
    "interp_data.geo_data_res.foliations.set_value(2, \"group_id\", \"l2_a\")\n",
    "interp_data.geo_data_res.foliations.set_value(3, \"group_id\", \"l2_b\")\n",
    "interp_data.geo_data_res.foliations.set_value(4, \"group_id\", \"l2_c\")\n",
    "\n",
    "interp_data_original.geo_data_res.foliations.set_value(0, \"group_id\", \"Fault_1\")\n",
    "interp_data_original.geo_data_res.foliations.set_value(1, \"group_id\", \"Fault_2\")\n",
    "interp_data_original.geo_data_res.foliations.set_value(2, \"group_id\", \"l2_a\")\n",
    "interp_data_original.geo_data_res.foliations.set_value(3, \"group_id\", \"l2_b\")\n",
    "interp_data_original.geo_data_res.foliations.set_value(4, \"group_id\", \"l2_c\")"
   ]
  },
  {
   "cell_type": "markdown",
   "metadata": {},
   "source": [
    "## Deterministic Functions"
   ]
  },
  {
   "cell_type": "markdown",
   "metadata": {},
   "source": [
    "### Utility Functions"
   ]
  },
  {
   "cell_type": "code",
   "execution_count": 22,
   "metadata": {
    "collapsed": true
   },
   "outputs": [],
   "source": [
    "def rescale(value, rf=interp_data.rescaling_factor):\n",
    "    return value / rf\n",
    "\n",
    "def recalc_gradients(folations_dataframe):\n",
    "    folations_dataframe[\"G_x\"] = np.sin(np.deg2rad(folations_dataframe[\"dip\"].astype('float'))) * \\\n",
    "                             np.sin(np.deg2rad(folations_dataframe[\"azimuth\"].astype('float'))) * \\\n",
    "                             folations_dataframe[\"polarity\"].astype('float')\n",
    "    folations_dataframe[\"G_y\"] = np.sin(np.deg2rad(folations_dataframe[\"dip\"].astype('float'))) * \\\n",
    "                             np.cos(np.deg2rad(folations_dataframe[\"azimuth\"].astype('float'))) *\\\n",
    "                             folations_dataframe[\"polarity\"].astype('float')\n",
    "    folations_dataframe[\"G_z\"] = np.cos(np.deg2rad(folations_dataframe[\"dip\"].astype('float'))) *\\\n",
    "                             folations_dataframe[\"polarity\"].astype('float')"
   ]
  },
  {
   "cell_type": "markdown",
   "metadata": {},
   "source": [
    "Create Plane object for fault plane:"
   ]
  },
  {
   "cell_type": "code",
   "execution_count": 23,
   "metadata": {
    "collapsed": true
   },
   "outputs": [],
   "source": [
    "from gempy import UncertaintyAnalysisPYMC2\n",
    "importlib.reload(UncertaintyAnalysisPYMC2)\n",
    "fault_plane1 = UncertaintyAnalysisPYMC2.Plane(\"Fault_1\", interp_data.geo_data_res)\n",
    "fault_plane2 = UncertaintyAnalysisPYMC2.Plane(\"Fault_2\", interp_data.geo_data_res)"
   ]
  },
  {
   "cell_type": "markdown",
   "metadata": {},
   "source": [
    "### Input data handling"
   ]
  },
  {
   "cell_type": "code",
   "execution_count": 24,
   "metadata": {
    "collapsed": true
   },
   "outputs": [],
   "source": [
    "layer_ids_u = np.delete(layer_ids_u, np.where(layer_ids_u==\"Fault\"))"
   ]
  },
  {
   "cell_type": "code",
   "execution_count": 41,
   "metadata": {},
   "outputs": [
    {
     "data": {
      "text/html": [
       "<div>\n",
       "<style>\n",
       "    .dataframe thead tr:only-child th {\n",
       "        text-align: right;\n",
       "    }\n",
       "\n",
       "    .dataframe thead th {\n",
       "        text-align: left;\n",
       "    }\n",
       "\n",
       "    .dataframe tbody tr th {\n",
       "        vertical-align: top;\n",
       "    }\n",
       "</style>\n",
       "<table border=\"1\" class=\"dataframe\">\n",
       "  <thead>\n",
       "    <tr style=\"text-align: right;\">\n",
       "      <th></th>\n",
       "      <th>X</th>\n",
       "      <th>Y</th>\n",
       "      <th>Z</th>\n",
       "      <th>formation</th>\n",
       "      <th>series</th>\n",
       "      <th>X_std</th>\n",
       "      <th>Y_std</th>\n",
       "      <th>Z_std</th>\n",
       "      <th>group_id</th>\n",
       "      <th>order_series</th>\n",
       "      <th>isFault</th>\n",
       "      <th>formation number</th>\n",
       "      <th>annotations</th>\n",
       "    </tr>\n",
       "  </thead>\n",
       "  <tbody>\n",
       "    <tr>\n",
       "      <th>0</th>\n",
       "      <td>0.3501</td>\n",
       "      <td>0.5001</td>\n",
       "      <td>0.558347</td>\n",
       "      <td>Fault_1</td>\n",
       "      <td>Fault_1</td>\n",
       "      <td>0.0</td>\n",
       "      <td>0.0</td>\n",
       "      <td>0.0</td>\n",
       "      <td>Fault_1</td>\n",
       "      <td>1</td>\n",
       "      <td>True</td>\n",
       "      <td>1</td>\n",
       "      <td>${\\bf{x}}_{\\alpha \\,{\\bf{1}},0}$</td>\n",
       "    </tr>\n",
       "    <tr>\n",
       "      <th>1</th>\n",
       "      <td>0.4101</td>\n",
       "      <td>0.5001</td>\n",
       "      <td>0.433453</td>\n",
       "      <td>Fault_1</td>\n",
       "      <td>Fault_1</td>\n",
       "      <td>0.0</td>\n",
       "      <td>0.0</td>\n",
       "      <td>0.0</td>\n",
       "      <td>Fault_1</td>\n",
       "      <td>1</td>\n",
       "      <td>True</td>\n",
       "      <td>1</td>\n",
       "      <td>${\\bf{x}}_{\\alpha \\,{\\bf{1}},1}$</td>\n",
       "    </tr>\n",
       "    <tr>\n",
       "      <th>2</th>\n",
       "      <td>0.6501</td>\n",
       "      <td>0.5001</td>\n",
       "      <td>0.516531</td>\n",
       "      <td>Fault_2</td>\n",
       "      <td>Fault_2</td>\n",
       "      <td>0.0</td>\n",
       "      <td>0.0</td>\n",
       "      <td>0.0</td>\n",
       "      <td>Fault_2</td>\n",
       "      <td>2</td>\n",
       "      <td>True</td>\n",
       "      <td>2</td>\n",
       "      <td>${\\bf{x}}_{\\alpha \\,{\\bf{2}},0}$</td>\n",
       "    </tr>\n",
       "    <tr>\n",
       "      <th>3</th>\n",
       "      <td>0.5901</td>\n",
       "      <td>0.5001</td>\n",
       "      <td>0.420869</td>\n",
       "      <td>Fault_2</td>\n",
       "      <td>Fault_2</td>\n",
       "      <td>0.0</td>\n",
       "      <td>0.0</td>\n",
       "      <td>0.0</td>\n",
       "      <td>Fault_2</td>\n",
       "      <td>2</td>\n",
       "      <td>True</td>\n",
       "      <td>2</td>\n",
       "      <td>${\\bf{x}}_{\\alpha \\,{\\bf{2}},1}$</td>\n",
       "    </tr>\n",
       "    <tr>\n",
       "      <th>4</th>\n",
       "      <td>0.2501</td>\n",
       "      <td>0.5001</td>\n",
       "      <td>0.595965</td>\n",
       "      <td>Layer 2</td>\n",
       "      <td>Rest</td>\n",
       "      <td>0.0</td>\n",
       "      <td>0.0</td>\n",
       "      <td>0.0</td>\n",
       "      <td>l2_a</td>\n",
       "      <td>3</td>\n",
       "      <td>False</td>\n",
       "      <td>3</td>\n",
       "      <td>${\\bf{x}}_{\\alpha \\,{\\bf{3}},0}$</td>\n",
       "    </tr>\n",
       "    <tr>\n",
       "      <th>5</th>\n",
       "      <td>0.5001</td>\n",
       "      <td>0.5001</td>\n",
       "      <td>0.502165</td>\n",
       "      <td>Layer 2</td>\n",
       "      <td>Rest</td>\n",
       "      <td>0.0</td>\n",
       "      <td>0.0</td>\n",
       "      <td>0.0</td>\n",
       "      <td>l2_b</td>\n",
       "      <td>3</td>\n",
       "      <td>False</td>\n",
       "      <td>3</td>\n",
       "      <td>${\\bf{x}}_{\\alpha \\,{\\bf{3}},1}$</td>\n",
       "    </tr>\n",
       "    <tr>\n",
       "      <th>6</th>\n",
       "      <td>0.7501</td>\n",
       "      <td>0.5001</td>\n",
       "      <td>0.517365</td>\n",
       "      <td>Layer 2</td>\n",
       "      <td>Rest</td>\n",
       "      <td>0.0</td>\n",
       "      <td>0.0</td>\n",
       "      <td>0.0</td>\n",
       "      <td>l2_c</td>\n",
       "      <td>3</td>\n",
       "      <td>False</td>\n",
       "      <td>3</td>\n",
       "      <td>${\\bf{x}}_{\\alpha \\,{\\bf{3}},2}$</td>\n",
       "    </tr>\n",
       "    <tr>\n",
       "      <th>7</th>\n",
       "      <td>0.2501</td>\n",
       "      <td>0.5001</td>\n",
       "      <td>0.561564</td>\n",
       "      <td>Layer 3</td>\n",
       "      <td>Rest</td>\n",
       "      <td>0.0</td>\n",
       "      <td>0.0</td>\n",
       "      <td>0.0</td>\n",
       "      <td>l3_a</td>\n",
       "      <td>3</td>\n",
       "      <td>False</td>\n",
       "      <td>4</td>\n",
       "      <td>${\\bf{x}}_{\\alpha \\,{\\bf{4}},0}$</td>\n",
       "    </tr>\n",
       "    <tr>\n",
       "      <th>8</th>\n",
       "      <td>0.5001</td>\n",
       "      <td>0.5001</td>\n",
       "      <td>0.467764</td>\n",
       "      <td>Layer 3</td>\n",
       "      <td>Rest</td>\n",
       "      <td>0.0</td>\n",
       "      <td>0.0</td>\n",
       "      <td>0.0</td>\n",
       "      <td>l3_b</td>\n",
       "      <td>3</td>\n",
       "      <td>False</td>\n",
       "      <td>4</td>\n",
       "      <td>${\\bf{x}}_{\\alpha \\,{\\bf{4}},1}$</td>\n",
       "    </tr>\n",
       "    <tr>\n",
       "      <th>9</th>\n",
       "      <td>0.7501</td>\n",
       "      <td>0.5001</td>\n",
       "      <td>0.484764</td>\n",
       "      <td>Layer 3</td>\n",
       "      <td>Rest</td>\n",
       "      <td>0.0</td>\n",
       "      <td>0.0</td>\n",
       "      <td>0.0</td>\n",
       "      <td>l3_c</td>\n",
       "      <td>3</td>\n",
       "      <td>False</td>\n",
       "      <td>4</td>\n",
       "      <td>${\\bf{x}}_{\\alpha \\,{\\bf{4}},2}$</td>\n",
       "    </tr>\n",
       "    <tr>\n",
       "      <th>10</th>\n",
       "      <td>0.2501</td>\n",
       "      <td>0.5001</td>\n",
       "      <td>0.525109</td>\n",
       "      <td>Layer 4</td>\n",
       "      <td>Rest</td>\n",
       "      <td>0.0</td>\n",
       "      <td>0.0</td>\n",
       "      <td>0.0</td>\n",
       "      <td>l4_a</td>\n",
       "      <td>3</td>\n",
       "      <td>False</td>\n",
       "      <td>5</td>\n",
       "      <td>${\\bf{x}}_{\\alpha \\,{\\bf{5}},0}$</td>\n",
       "    </tr>\n",
       "    <tr>\n",
       "      <th>11</th>\n",
       "      <td>0.5001</td>\n",
       "      <td>0.5001</td>\n",
       "      <td>0.431309</td>\n",
       "      <td>Layer 4</td>\n",
       "      <td>Rest</td>\n",
       "      <td>0.0</td>\n",
       "      <td>0.0</td>\n",
       "      <td>0.0</td>\n",
       "      <td>l4_b</td>\n",
       "      <td>3</td>\n",
       "      <td>False</td>\n",
       "      <td>5</td>\n",
       "      <td>${\\bf{x}}_{\\alpha \\,{\\bf{5}},1}$</td>\n",
       "    </tr>\n",
       "    <tr>\n",
       "      <th>12</th>\n",
       "      <td>0.7501</td>\n",
       "      <td>0.5001</td>\n",
       "      <td>0.448309</td>\n",
       "      <td>Layer 4</td>\n",
       "      <td>Rest</td>\n",
       "      <td>0.0</td>\n",
       "      <td>0.0</td>\n",
       "      <td>0.0</td>\n",
       "      <td>l4_c</td>\n",
       "      <td>3</td>\n",
       "      <td>False</td>\n",
       "      <td>5</td>\n",
       "      <td>${\\bf{x}}_{\\alpha \\,{\\bf{5}},2}$</td>\n",
       "    </tr>\n",
       "    <tr>\n",
       "      <th>13</th>\n",
       "      <td>0.2501</td>\n",
       "      <td>0.5001</td>\n",
       "      <td>0.502665</td>\n",
       "      <td>Layer 5</td>\n",
       "      <td>Rest</td>\n",
       "      <td>0.0</td>\n",
       "      <td>0.0</td>\n",
       "      <td>0.0</td>\n",
       "      <td>l5_a</td>\n",
       "      <td>3</td>\n",
       "      <td>False</td>\n",
       "      <td>6</td>\n",
       "      <td>${\\bf{x}}_{\\alpha \\,{\\bf{6}},0}$</td>\n",
       "    </tr>\n",
       "    <tr>\n",
       "      <th>14</th>\n",
       "      <td>0.5001</td>\n",
       "      <td>0.5001</td>\n",
       "      <td>0.408865</td>\n",
       "      <td>Layer 5</td>\n",
       "      <td>Rest</td>\n",
       "      <td>0.0</td>\n",
       "      <td>0.0</td>\n",
       "      <td>0.0</td>\n",
       "      <td>l5_b</td>\n",
       "      <td>3</td>\n",
       "      <td>False</td>\n",
       "      <td>6</td>\n",
       "      <td>${\\bf{x}}_{\\alpha \\,{\\bf{6}},1}$</td>\n",
       "    </tr>\n",
       "    <tr>\n",
       "      <th>15</th>\n",
       "      <td>0.7501</td>\n",
       "      <td>0.5001</td>\n",
       "      <td>0.425865</td>\n",
       "      <td>Layer 5</td>\n",
       "      <td>Rest</td>\n",
       "      <td>0.0</td>\n",
       "      <td>0.0</td>\n",
       "      <td>0.0</td>\n",
       "      <td>l5_c</td>\n",
       "      <td>3</td>\n",
       "      <td>False</td>\n",
       "      <td>6</td>\n",
       "      <td>${\\bf{x}}_{\\alpha \\,{\\bf{6}},2}$</td>\n",
       "    </tr>\n",
       "  </tbody>\n",
       "</table>\n",
       "</div>"
      ],
      "text/plain": [
       "         X       Y         Z formation   series  X_std  Y_std  Z_std group_id  \\\n",
       "0   0.3501  0.5001  0.558347   Fault_1  Fault_1    0.0    0.0    0.0  Fault_1   \n",
       "1   0.4101  0.5001  0.433453   Fault_1  Fault_1    0.0    0.0    0.0  Fault_1   \n",
       "2   0.6501  0.5001  0.516531   Fault_2  Fault_2    0.0    0.0    0.0  Fault_2   \n",
       "3   0.5901  0.5001  0.420869   Fault_2  Fault_2    0.0    0.0    0.0  Fault_2   \n",
       "4   0.2501  0.5001  0.595965   Layer 2     Rest    0.0    0.0    0.0     l2_a   \n",
       "5   0.5001  0.5001  0.502165   Layer 2     Rest    0.0    0.0    0.0     l2_b   \n",
       "6   0.7501  0.5001  0.517365   Layer 2     Rest    0.0    0.0    0.0     l2_c   \n",
       "7   0.2501  0.5001  0.561564   Layer 3     Rest    0.0    0.0    0.0     l3_a   \n",
       "8   0.5001  0.5001  0.467764   Layer 3     Rest    0.0    0.0    0.0     l3_b   \n",
       "9   0.7501  0.5001  0.484764   Layer 3     Rest    0.0    0.0    0.0     l3_c   \n",
       "10  0.2501  0.5001  0.525109   Layer 4     Rest    0.0    0.0    0.0     l4_a   \n",
       "11  0.5001  0.5001  0.431309   Layer 4     Rest    0.0    0.0    0.0     l4_b   \n",
       "12  0.7501  0.5001  0.448309   Layer 4     Rest    0.0    0.0    0.0     l4_c   \n",
       "13  0.2501  0.5001  0.502665   Layer 5     Rest    0.0    0.0    0.0     l5_a   \n",
       "14  0.5001  0.5001  0.408865   Layer 5     Rest    0.0    0.0    0.0     l5_b   \n",
       "15  0.7501  0.5001  0.425865   Layer 5     Rest    0.0    0.0    0.0     l5_c   \n",
       "\n",
       "    order_series  isFault  formation number                       annotations  \n",
       "0              1     True                 1  ${\\bf{x}}_{\\alpha \\,{\\bf{1}},0}$  \n",
       "1              1     True                 1  ${\\bf{x}}_{\\alpha \\,{\\bf{1}},1}$  \n",
       "2              2     True                 2  ${\\bf{x}}_{\\alpha \\,{\\bf{2}},0}$  \n",
       "3              2     True                 2  ${\\bf{x}}_{\\alpha \\,{\\bf{2}},1}$  \n",
       "4              3    False                 3  ${\\bf{x}}_{\\alpha \\,{\\bf{3}},0}$  \n",
       "5              3    False                 3  ${\\bf{x}}_{\\alpha \\,{\\bf{3}},1}$  \n",
       "6              3    False                 3  ${\\bf{x}}_{\\alpha \\,{\\bf{3}},2}$  \n",
       "7              3    False                 4  ${\\bf{x}}_{\\alpha \\,{\\bf{4}},0}$  \n",
       "8              3    False                 4  ${\\bf{x}}_{\\alpha \\,{\\bf{4}},1}$  \n",
       "9              3    False                 4  ${\\bf{x}}_{\\alpha \\,{\\bf{4}},2}$  \n",
       "10             3    False                 5  ${\\bf{x}}_{\\alpha \\,{\\bf{5}},0}$  \n",
       "11             3    False                 5  ${\\bf{x}}_{\\alpha \\,{\\bf{5}},1}$  \n",
       "12             3    False                 5  ${\\bf{x}}_{\\alpha \\,{\\bf{5}},2}$  \n",
       "13             3    False                 6  ${\\bf{x}}_{\\alpha \\,{\\bf{6}},0}$  \n",
       "14             3    False                 6  ${\\bf{x}}_{\\alpha \\,{\\bf{6}},1}$  \n",
       "15             3    False                 6  ${\\bf{x}}_{\\alpha \\,{\\bf{6}},2}$  "
      ]
     },
     "execution_count": 41,
     "metadata": {},
     "output_type": "execute_result"
    }
   ],
   "source": [
    "interp_data.geo_data_res.interfaces"
   ]
  },
  {
   "cell_type": "code",
   "execution_count": 42,
   "metadata": {},
   "outputs": [
    {
     "data": {
      "text/plain": [
       "array(['l2', 'l3', 'l4', 'l5'],\n",
       "      dtype='<U5')"
      ]
     },
     "execution_count": 42,
     "metadata": {},
     "output_type": "execute_result"
    }
   ],
   "source": [
    "layer_ids_u"
   ]
  },
  {
   "cell_type": "code",
   "execution_count": 46,
   "metadata": {
    "scrolled": false
   },
   "outputs": [
    {
     "name": "stdout",
     "output_type": "stream",
     "text": [
      "         X       Y       Z\n",
      "0   0.3501  0.5001  0.5479\n",
      "1   0.4101  0.5001  0.4441\n",
      "2   0.6501  0.5001  0.4983\n",
      "3   0.5901  0.5001  0.4167\n",
      "4   0.2501  0.5001  0.6079\n",
      "5   0.5001  0.5001  0.5141\n",
      "6   0.7501  0.5001  0.5293\n",
      "7   0.2501  0.5001  0.5673\n",
      "8   0.5001  0.5001  0.4735\n",
      "9   0.7501  0.5001  0.4905\n",
      "10  0.2501  0.5001  0.5267\n",
      "11  0.5001  0.5001  0.4329\n",
      "12  0.7501  0.5001  0.4499\n",
      "13  0.2501  0.5001  0.4861\n",
      "14  0.5001  0.5001  0.3923\n",
      "15  0.7501  0.5001  0.4093\n",
      "        G_x           G_y       G_z       X       Y       Z  azimuth   dip  \\\n",
      "0 -0.866025 -5.302876e-17 -0.500000  0.3801  0.5001  0.4959     90.0  60.0   \n",
      "1 -0.866025 -1.590863e-16  0.500000  0.6201  0.5001  0.4687    270.0  60.0   \n",
      "2  0.173648  1.063288e-17  0.984808  0.2501  0.5001  0.6079     90.0  10.0   \n",
      "3  0.173648  1.063288e-17  0.984808  0.5001  0.5001  0.5141     90.0  10.0   \n",
      "4  0.173648  1.063288e-17  0.984808  0.7501  0.5001  0.5293     90.0  10.0   \n",
      "\n",
      "   polarity  \n",
      "0      -1.0  \n",
      "1       1.0  \n",
      "2       1.0  \n",
      "3       1.0  \n",
      "4       1.0  \n",
      "vals of  l2 _a [ 0.6079]\n",
      "vals mod: -0.0119347807581\n",
      "modded val: 4    0.595965\n",
      "Name: Z, dtype: object\n",
      "vals of  l2 _b [ 0.5141]\n",
      "vals mod: -0.0119347807581\n",
      "modded val: 5    0.502165\n",
      "Name: Z, dtype: object\n",
      "vals of  l2 _c [ 0.5293]\n",
      "vals mod: -0.0119347807581\n",
      "modded val: 6    0.517365\n",
      "Name: Z, dtype: object\n",
      "vals of  l3 _a [ 0.5673]\n",
      "vals mod: -0.00573639076508\n",
      "modded val: 7    0.561564\n",
      "Name: Z, dtype: object\n",
      "vals of  l3 _b [ 0.4735]\n",
      "vals mod: -0.00573639076508\n",
      "modded val: 8    0.467764\n",
      "Name: Z, dtype: object\n",
      "vals of  l3 _c [ 0.4905]\n",
      "vals mod: -0.00573639076508\n",
      "modded val: 9    0.484764\n",
      "Name: Z, dtype: object\n",
      "vals of  l4 _a [ 0.5267]\n",
      "vals mod: -0.00159092891016\n",
      "modded val: 10    0.525109\n",
      "Name: Z, dtype: object\n",
      "vals of  l4 _b [ 0.4329]\n",
      "vals mod: -0.00159092891016\n",
      "modded val: 11    0.431309\n",
      "Name: Z, dtype: object\n",
      "vals of  l4 _c [ 0.4499]\n",
      "vals mod: -0.00159092891016\n",
      "modded val: 12    0.448309\n",
      "Name: Z, dtype: object\n",
      "vals of  l5 _a [ 0.4861]\n",
      "vals mod: 0.0165647317995\n",
      "modded val: 13    0.502665\n",
      "Name: Z, dtype: object\n",
      "vals of  l5 _b [ 0.3923]\n",
      "vals mod: 0.0165647317995\n",
      "modded val: 14    0.408865\n",
      "Name: Z, dtype: object\n",
      "vals of  l5 _c [ 0.4093]\n",
      "vals mod: 0.0165647317995\n",
      "modded val: 15    0.425865\n",
      "Name: Z, dtype: object\n",
      "         X       Y         Z\n",
      "0   0.3501  0.5001  0.558347\n",
      "1   0.4101  0.5001  0.433453\n",
      "2   0.6501  0.5001  0.516531\n",
      "3   0.5901  0.5001  0.420869\n",
      "4   0.2501  0.5001  0.595965\n",
      "5   0.5001  0.5001  0.502165\n",
      "6   0.7501  0.5001  0.517365\n",
      "7   0.2501  0.5001  0.561564\n",
      "8   0.5001  0.5001  0.467764\n",
      "9   0.7501  0.5001  0.484764\n",
      "10  0.2501  0.5001  0.525109\n",
      "11  0.5001  0.5001  0.431309\n",
      "12  0.7501  0.5001  0.448309\n",
      "13  0.2501  0.5001  0.502665\n",
      "14  0.5001  0.5001  0.408865\n",
      "15  0.7501  0.5001  0.425865\n",
      "        G_x           G_y       G_z       X       Y         Z  azimuth   dip  \\\n",
      "0 -0.898794 -5.503526e-17 -0.438371  0.3801  0.5001  0.495900     90.0  64.0   \n",
      "1 -0.838671 -1.540613e-16  0.544639  0.6201  0.5001  0.468700    270.0  57.0   \n",
      "2  0.258819  1.584810e-17  0.965926  0.2501  0.5001  0.595965     90.0  15.0   \n",
      "3  0.258819  1.584810e-17  0.965926  0.5001  0.5001  0.502165     90.0  15.0   \n",
      "4  0.258819  1.584810e-17  0.965926  0.7501  0.5001  0.517365     90.0  15.0   \n",
      "\n",
      "   polarity  \n",
      "0      -1.0  \n",
      "1       1.0  \n",
      "2       1.0  \n",
      "3       1.0  \n",
      "4       1.0  \n"
     ]
    }
   ],
   "source": [
    "@pymc.deterministic(trace=True)\n",
    "def input_data(value = 0,\n",
    "               interf_Z_modifier = interf_Z_modifier,\n",
    "               strat_dip = strat_dip,\n",
    "               fault_1_dip = fault_1_dip,\n",
    "               fault_2_dip = fault_2_dip,\n",
    "               fault_plane1 = fault_plane1,\n",
    "               fault_plane2 = fault_plane2,\n",
    "               group_ids = group_ids,\n",
    "               layer_ids = layer_ids,\n",
    "               layer_ids_u = layer_ids_u,\n",
    "               interp_data = interp_data,\n",
    "               interp_data_original = interp_data_original,\n",
    "               verbose=True):\n",
    "\n",
    "    # reset data in geo_data_res to geo_data \n",
    "    # (this now includes the updated fault plane data)\n",
    "    interp_data.geo_data_res = copy.deepcopy(interp_data_original.geo_data_res)\n",
    "    #interp_data_stoch = gp.get_data(interp_data.geo_data_res, numeric=True)\n",
    "    if verbose is True:\n",
    "        #print(interp_data_stoch)\n",
    "        print(interp_data.geo_data_res.interfaces[[\"X\", \"Y\", \"Z\"]].astype(float))\n",
    "        print(interp_data.geo_data_res.foliations[[\"G_x\", \"G_y\", \"G_z\", \"X\", \"Y\", \"Z\", \"azimuth\", \"dip\", \"polarity\"]].astype(float))\n",
    "    \n",
    "    fault_plane1 = UncertaintyAnalysisPYMC2.Plane(\"Fault_1\", interp_data.geo_data_res)\n",
    "    fault_plane2 = UncertaintyAnalysisPYMC2.Plane(\"Fault_2\", interp_data.geo_data_res)\n",
    "    # fault plane\n",
    "    if verbose == \"dip\":\n",
    "        print(interp_data.geo_data_res.foliations[\"dip\"])\n",
    "    \n",
    "    fault_plane1.interf_recalc_Z(fault_1_dip)\n",
    "    fault_plane2.interf_recalc_Z(fault_2_dip)\n",
    "    \n",
    "    if verbose == \"dip\":\n",
    "        print(interp_data.geo_data_res.foliations[\"dip\"])\n",
    "    \n",
    "    # interf dip\n",
    "    for affix in [\"_a\", \"_b\", \"_c\"]:\n",
    "        f = interp_data.geo_data_res.foliations[\"group_id\"] == \"l2\" + affix\n",
    "        index = interp_data.geo_data_res.foliations[f].index\n",
    "        interp_data.geo_data_res.foliations.set_value(index, \"dip\", int(strat_dip))\n",
    "    recalc_gradients(interp_data.geo_data_res.foliations)\n",
    "    \n",
    "    # interf vertical mod\n",
    "    for i, layer_id in enumerate(layer_ids_u):\n",
    "        for affix in [\"_a\", \"_b\", \"_c\"]:\n",
    "            # interface positions\n",
    "            f = interp_data.geo_data_res.interfaces[\"group_id\"] == layer_id + affix\n",
    "            index = interp_data.geo_data_res.interfaces[f].index\n",
    "            # get the z value of the interface\n",
    "            vals = interp_data.geo_data_res.interfaces.iloc[index][\"Z\"].astype(float).values\n",
    "            if verbose is True:\n",
    "                print(\"vals of \",layer_id,affix,vals)\n",
    "                \n",
    "            # modify it with the according rescaled prior\n",
    "            vals += rescale(interf_Z_modifier[i])\n",
    "            if verbose is True:\n",
    "                print(\"vals mod:\",rescale(interf_Z_modifier[i]))\n",
    "            # replace value\n",
    "            interp_data.geo_data_res.interfaces.set_value(index, \"Z\", vals)\n",
    "            if verbose is True:\n",
    "                print(\"modded val:\",interp_data.geo_data_res.interfaces.iloc[index][\"Z\"])\n",
    "            \n",
    "            # foliation positions\n",
    "            f = interp_data.geo_data_res.foliations[\"group_id\"] == layer_id + affix\n",
    "            index = interp_data.geo_data_res.foliations[f].index\n",
    "            # get the z value of the interface\n",
    "            vals = interp_data.geo_data_res.foliations.iloc[index][\"Z\"].astype(float).values\n",
    "            # modify it with the according rescaled prior\n",
    "            vals += rescale(interf_Z_modifier[i])\n",
    "            # replace value\n",
    "            interp_data.geo_data_res.foliations.set_value(index, \"Z\", vals) \n",
    "            \n",
    "    interp_data.update_interpolator()\n",
    "    \n",
    "    if verbose is True:\n",
    "        print(interp_data.geo_data_res.interfaces[[\"X\", \"Y\", \"Z\"]].astype(float))\n",
    "        print(interp_data.geo_data_res.foliations[[\"G_x\", \"G_y\", \"G_z\", \"X\", \"Y\", \"Z\", \"azimuth\", \"dip\", \"polarity\"]].astype(\"float64\"))\n",
    "    \n",
    "    return [interp_data.geo_data_res.interfaces[[\"X\", \"Y\", \"Z\"]].astype(float), \n",
    "            interp_data.geo_data_res.foliations[[\"G_x\", \"G_y\", \"G_z\", \"X\", \"Y\", \"Z\", \"azimuth\", \"dip\", \"polarity\"]].astype(\"float64\")]"
   ]
  },
  {
   "cell_type": "markdown",
   "metadata": {},
   "source": [
    "### GemPy modeling function"
   ]
  },
  {
   "cell_type": "code",
   "execution_count": 26,
   "metadata": {},
   "outputs": [
    {
     "name": "stdout",
     "output_type": "stream",
     "text": [
      "range 0.7212662476506163 3606.33123825\n",
      "Number of drift equations [0 0 3]\n",
      "Covariance at 0 0.012386309523809529\n",
      "Foliations nugget effect 0.01\n"
     ]
    }
   ],
   "source": [
    "gp.get_kriging_parameters(interp_data)"
   ]
  },
  {
   "cell_type": "code",
   "execution_count": 27,
   "metadata": {
    "collapsed": true,
    "scrolled": false
   },
   "outputs": [],
   "source": [
    "%matplotlib inline\n",
    "# interp_data.update_interpolator(geo_data_res=interp_data.geo_data_res, range_var=0.9)\n",
    "@pymc.deterministic(trace=False)  # turn on/off storing the model blocks in db\n",
    "def gempy_model(value=0,\n",
    "                input_data=input_data,\n",
    "                verbose=False):\n",
    "    \n",
    "    # modify input data values accordingly\n",
    "    # interp_data.geo_data_res.interfaces[[\"X\", \"Y\", \"Z\"]] = input_data[0]\n",
    "    # interp_data.geo_data_res.foliations[[\"G_x\", \"G_y\", \"G_z\", \"X\", \"Y\", \"Z\", \"azimuth\", \"dip\", \"polarity\"]] = input_data[1]\n",
    "    \n",
    "    try:\n",
    "        # try to compute model\n",
    "        lb, fb = gp.compute_model(interp_data)\n",
    "        if verbose:\n",
    "            gp.plot_section(interp_data.geo_data_res, lb[0], 0, plot_data=False)\n",
    "            \n",
    "        return lb, fb\n",
    "    \n",
    "    except numpy.linalg.linalg.LinAlgError as err:\n",
    "        # if it fails (e.g. some input data combinations could lead to \n",
    "        # a singular matrix and thus break the chain) return an empty model\n",
    "        # with same dimensions (just zeros)\n",
    "        if verbose:\n",
    "            print(\"Exception occured.\")\n",
    "            \n",
    "        return np.zeros_like(lith_block), np.zeros_like(fault_block)"
   ]
  },
  {
   "cell_type": "markdown",
   "metadata": {},
   "source": [
    "### Topology function"
   ]
  },
  {
   "cell_type": "code",
   "execution_count": 29,
   "metadata": {
    "collapsed": true,
    "scrolled": true
   },
   "outputs": [],
   "source": [
    "@pymc.deterministic\n",
    "def gempy_topo(value=0, gm=gempy_model, verbose=False):\n",
    "    \n",
    "    G, c, lu, lot1, lot2 = gp.topology_compute(geo_data, gm[0][0], gm[1][0], \n",
    "                                               cell_number=0, direction=\"y\")\n",
    "    \n",
    "    if verbose:\n",
    "        gp.plot_section(geo_data, gm[0][0], 0)\n",
    "        gp.topology_plot(geo_data, G, c)\n",
    "    return G, c, lu, lot1, lot2"
   ]
  },
  {
   "cell_type": "raw",
   "metadata": {
    "collapsed": true
   },
   "source": [
    "@pymc.deterministic\n",
    "def gempy_topo_extract(value=0, gempy_topo=gempy_topo):\n",
    "    return gempy_topo[0]"
   ]
  },
  {
   "cell_type": "markdown",
   "metadata": {},
   "source": [
    "# Likelihood Functions"
   ]
  },
  {
   "cell_type": "code",
   "execution_count": 30,
   "metadata": {},
   "outputs": [
    {
     "name": "stdout",
     "output_type": "stream",
     "text": [
      "Unable to load pynoddy block models. Either none were tallied or the respective pymc2 deterministic function is not named 'pynoddy_model'. If so change 'pymc_model_f' parameter accordingly.\n"
     ]
    }
   ],
   "source": [
    "sys.path.append(\"../\")\n",
    "from pynoddy.experiment import pymc2_posterior\n",
    "\n",
    "importlib.reload(pymc2_posterior)\n",
    "importlib.reload(pynoddy.history)\n",
    "pp = pymc2_posterior.Pymc2Posterior(\"pyn_graben_run4.hdf5\")\n",
    "# pp.topo_analyze()"
   ]
  },
  {
   "cell_type": "code",
   "execution_count": 31,
   "metadata": {},
   "outputs": [
    {
     "name": "stdout",
     "output_type": "stream",
     "text": [
      "History file set to self.history\n"
     ]
    }
   ],
   "source": [
    "pp.set_history(\"init4.his\")\n",
    "pp.set_experiment()"
   ]
  },
  {
   "cell_type": "code",
   "execution_count": 32,
   "metadata": {},
   "outputs": [
    {
     "name": "stdout",
     "output_type": "stream",
     "text": [
      "Starting topology analysis. This could take a while (depending on # iterations).\n",
      "Topology analysis completed.\n"
     ]
    }
   ],
   "source": [
    "pp.topo_analyze()"
   ]
  },
  {
   "cell_type": "code",
   "execution_count": 33,
   "metadata": {},
   "outputs": [
    {
     "data": {
      "text/plain": [
       "20.09"
      ]
     },
     "execution_count": 33,
     "metadata": {},
     "output_type": "execute_result"
    }
   ],
   "source": [
    "pp.topo_count_connection(4,7)/pp.db.getstate()[\"sampler\"][\"_iter\"] * 100"
   ]
  },
  {
   "cell_type": "markdown",
   "metadata": {},
   "source": [
    "## Single Adjacency Area Likelihood"
   ]
  },
  {
   "cell_type": "code",
   "execution_count": 23,
   "metadata": {
    "collapsed": true
   },
   "outputs": [],
   "source": [
    "def get_areas_for_edge_for_topo_id(pp_obj, topo_id, n1, n2):\n",
    "    \"\"\"Get all area values for edge n1--n2 from a certain topo_id.\"\"\"\n",
    "    areas = np.array([])\n",
    "    for i in np.where(pp.topo_unique_ids == topo_id)[0]:\n",
    "        try:\n",
    "            a = pp_obj.topo_graphs[i].adj[n1][n2][\"area\"]\n",
    "            areas = np.append(areas, a)\n",
    "        except KeyError:\n",
    "            # edge does not exist -> set 0 as adjacency area\n",
    "            a = 0.\n",
    "            areas = np.append(areas, a)\n",
    "            # continue\n",
    "    return areas\n",
    "\n",
    "def get_all_possible_edges(topos):\n",
    "    \"\"\"Get all occuring edges throughout all graphs in list/array.\"\"\"\n",
    "    storage = []\n",
    "    for graph in topos:\n",
    "        for edge in graph.edges():\n",
    "            if edge in storage:\n",
    "                continue\n",
    "            else:\n",
    "                storage.append(edge)\n",
    "    return storage\n",
    "\n",
    "def combined_areas_for_all_topo_ids(edge_areas, edge):\n",
    "    storage = np.array([])\n",
    "    for i in range(len(edge_areas)):\n",
    "        storage = np.append(storage, edge_areas[i][edge])\n",
    "    return storage"
   ]
  },
  {
   "cell_type": "code",
   "execution_count": 24,
   "metadata": {
    "collapsed": true
   },
   "outputs": [],
   "source": [
    "def get_area_for_edge(G, e):\n",
    "    \"\"\"Get adjacency area of edge e (a, b) in graph G. \n",
    "    Returns 0 if no edge/area exists.\"\"\"\n",
    "    try:\n",
    "        return G.adj[e[0]][e[1]][\"area\"]\n",
    "    except KeyError:\n",
    "        return 0\n",
    "\n",
    "def get_area_for_edge_all(graphs, e):\n",
    "    \"\"\"e = (a, b) edge\"\"\"\n",
    "    areas = np.array([])\n",
    "    for G in graphs:\n",
    "        areas = np.append(areas, get_area_for_edge(G, e))\n",
    "    return areas"
   ]
  },
  {
   "cell_type": "code",
   "execution_count": 25,
   "metadata": {
    "collapsed": true
   },
   "outputs": [],
   "source": [
    "edges = [(4,7), (4,8), (4,9),\n",
    "         (3,7), (3,8), (3,9),\n",
    "         (2,7), (2,8), (2,9),\n",
    "         (7,14), (7,13), (7,12),\n",
    "         (8,14), (8,13), (8,12),\n",
    "         (9,14), (9,13), (9,12)]"
   ]
  },
  {
   "cell_type": "raw",
   "metadata": {},
   "source": [
    "e = (4, 7)\n",
    "areas = get_area_for_edge_all(pp.topo_graphs, e)\n",
    "\n",
    "plt.hist(areas, alpha=0.5, label=str(e), normed=True);\n",
    "\n",
    "kde = KernelDensity(kernel=\"gaussian\").fit(areas.reshape(-1, 1))\n",
    "samples = kde.sample(n_samples=10000)\n",
    "sns.distplot(samples, label=\"gaussian\", hist=False)\n",
    "\n",
    "\n",
    "plt.legend()\n",
    "plt.xlabel(\"area [voxel]\")\n",
    "plt.ylabel(\"frequency\");"
   ]
  },
  {
   "cell_type": "code",
   "execution_count": 26,
   "metadata": {
    "collapsed": true
   },
   "outputs": [],
   "source": [
    "from sklearn.neighbors import KernelDensity"
   ]
  },
  {
   "cell_type": "code",
   "execution_count": 27,
   "metadata": {
    "collapsed": true
   },
   "outputs": [],
   "source": [
    "kde_list = []\n",
    "for e in edges:\n",
    "    a = get_area_for_edge_all(pp.topo_graphs, e)\n",
    "    kde_list.append(KernelDensity(kernel=\"gaussian\").fit(a.reshape(-1, 1)))"
   ]
  },
  {
   "cell_type": "markdown",
   "metadata": {},
   "source": [
    "### fix pymc"
   ]
  },
  {
   "cell_type": "code",
   "execution_count": null,
   "metadata": {
    "collapsed": true
   },
   "outputs": [],
   "source": [
    "def stochastic_from_data(name, data, lower=-np.inf, upper=np.inf,\n",
    "                         value=None, observed=False, trace=True, verbose=-1, debug=False):\n",
    "    \"\"\"\n",
    "    Return a Stochastic subclass made from arbitrary data.\n",
    "\n",
    "    The histogram for the data is fitted with Kernel Density Estimation.\n",
    "\n",
    "    :Parameters:\n",
    "      - `data`  : An array with samples (e.g. trace[:])\n",
    "      - `lower` : Lower bound on possible outcomes\n",
    "      - `upper` : Upper bound on possible outcomes\n",
    "\n",
    "    :Example:\n",
    "       >>> from pymc import stochastic_from_data\n",
    "       >>> pos = stochastic_from_data('posterior', posterior_samples)\n",
    "       >>> prior = pos # update the prior with arbitrary distributions\n",
    "\n",
    "    :Alias:\n",
    "      Histogram\n",
    "    \"\"\"\n",
    "    pdf = scipy.stats.kde.gaussian_kde(data)  # automatic bandwidth selection\n",
    "\n",
    "    # account for tail contribution\n",
    "    lower_tail = upper_tail = 0.\n",
    "    if lower > -np.inf:\n",
    "        lower_tail = pdf.integrate_box(-np.inf, lower)\n",
    "    if upper < np.inf:\n",
    "        upper_tail = pdf.integrate_box(upper, np.inf)\n",
    "    factor = 1. / (1. - (lower_tail + upper_tail))\n",
    "\n",
    "    def logp(value):\n",
    "        prob = factor * pdf(value)\n",
    "        if value < lower or value > upper:\n",
    "            return -np.inf\n",
    "        elif prob <= 0.:\n",
    "            return -np.inf\n",
    "        else:\n",
    "            return np.log(prob)\n",
    "\n",
    "    def random():\n",
    "        res = pdf.resample(1)[0][0]\n",
    "        while res < lower or res > upper:\n",
    "            res = pdf.resample(1)[0][0]\n",
    "        return res\n",
    "\n",
    "    if value is None:\n",
    "        value = random()\n",
    "\n",
    "    return pymc.Stochastic(logp=logp,\n",
    "                      doc='Non-parametric density with Gaussian Kernels.',\n",
    "                      name=name,\n",
    "                      parents={},\n",
    "                      random=random,\n",
    "                      trace=trace,\n",
    "                      value=value,\n",
    "                      dtype=float,\n",
    "                      observed=observed,\n",
    "                      verbose=verbose)\n",
    "\n",
    "\n",
    "# Alias following Stochastics naming convention\n",
    "Histogram = stochastic_from_data"
   ]
  },
  {
   "cell_type": "raw",
   "metadata": {},
   "source": [
    "i = 0\n",
    "a = get_area_for_edge_all(pp.topo_graphs, edges[i])\n",
    "test = stochastic_from_data(\"like\"+str(edges[i]), a, lower=0)"
   ]
  },
  {
   "cell_type": "markdown",
   "metadata": {},
   "source": [
    "create likelihood functions:"
   ]
  },
  {
   "cell_type": "code",
   "execution_count": 28,
   "metadata": {
    "collapsed": true
   },
   "outputs": [],
   "source": [
    "like_list = []\n",
    "for e in edges:\n",
    "    a = get_area_for_edge_all(pp.topo_graphs, e)\n",
    "    #like_list.append(stochastic_from_data(\"like_\"+str(e[0])+\"_\"+str(e[1]), a, lower=0, value=get_area_for_edge(gempy_topo_extract.value, e)))\n",
    "    like_list.append(pymc.Normal(\"like_\"+str(e[0])+\"_\"+str(e[1]), mu=get_area_for_edge(gempy_topo_extract.value, e), tau=1./np.std(a)**2, observed=True, value=a))"
   ]
  },
  {
   "cell_type": "code",
   "execution_count": 29,
   "metadata": {},
   "outputs": [
    {
     "data": {
      "text/plain": [
       "[<pymc.distributions.new_dist_class.<locals>.new_class 'like_4_7' at 0x7fa0958702b0>,\n",
       " <pymc.distributions.new_dist_class.<locals>.new_class 'like_4_8' at 0x7fa095870e10>,\n",
       " <pymc.distributions.new_dist_class.<locals>.new_class 'like_4_9' at 0x7fa0959374e0>,\n",
       " <pymc.distributions.new_dist_class.<locals>.new_class 'like_3_7' at 0x7fa095937278>,\n",
       " <pymc.distributions.new_dist_class.<locals>.new_class 'like_3_8' at 0x7fa095937390>,\n",
       " <pymc.distributions.new_dist_class.<locals>.new_class 'like_3_9' at 0x7fa0959375c0>,\n",
       " <pymc.distributions.new_dist_class.<locals>.new_class 'like_2_7' at 0x7fa095937240>,\n",
       " <pymc.distributions.new_dist_class.<locals>.new_class 'like_2_8' at 0x7fa095937dd8>,\n",
       " <pymc.distributions.new_dist_class.<locals>.new_class 'like_2_9' at 0x7fa086f41c18>,\n",
       " <pymc.distributions.new_dist_class.<locals>.new_class 'like_7_14' at 0x7fa086f41be0>,\n",
       " <pymc.distributions.new_dist_class.<locals>.new_class 'like_7_13' at 0x7fa086f41cf8>,\n",
       " <pymc.distributions.new_dist_class.<locals>.new_class 'like_7_12' at 0x7fa086f41a90>,\n",
       " <pymc.distributions.new_dist_class.<locals>.new_class 'like_8_14' at 0x7fa086f41c50>,\n",
       " <pymc.distributions.new_dist_class.<locals>.new_class 'like_8_13' at 0x7fa086f417b8>,\n",
       " <pymc.distributions.new_dist_class.<locals>.new_class 'like_8_12' at 0x7fa086f41390>,\n",
       " <pymc.distributions.new_dist_class.<locals>.new_class 'like_9_14' at 0x7fa086f41438>,\n",
       " <pymc.distributions.new_dist_class.<locals>.new_class 'like_9_13' at 0x7fa086f41470>,\n",
       " <pymc.distributions.new_dist_class.<locals>.new_class 'like_9_12' at 0x7fa086f41ac8>]"
      ]
     },
     "execution_count": 29,
     "metadata": {},
     "output_type": "execute_result"
    }
   ],
   "source": [
    "like_list"
   ]
  },
  {
   "cell_type": "code",
   "execution_count": 39,
   "metadata": {},
   "outputs": [
    {
     "data": {
      "text/plain": [
       "18"
      ]
     },
     "execution_count": 39,
     "metadata": {},
     "output_type": "execute_result"
    }
   ],
   "source": [
    "len(edges)"
   ]
  },
  {
   "cell_type": "code",
   "execution_count": 41,
   "metadata": {},
   "outputs": [
    {
     "data": {
      "text/plain": [
       "<skimage.future.graph.rag.RAG at 0x7fb95853b128>"
      ]
     },
     "execution_count": 41,
     "metadata": {},
     "output_type": "execute_result"
    }
   ],
   "source": []
  },
  {
   "cell_type": "code",
   "execution_count": null,
   "metadata": {
    "collapsed": true
   },
   "outputs": [],
   "source": []
  },
  {
   "cell_type": "code",
   "execution_count": 28,
   "metadata": {
    "collapsed": true
   },
   "outputs": [],
   "source": [
    "@pymc.stochastic\n",
    "def like_area_edge_0(value=0, i=0, kde_list=kde_list, edges=edges, gempy_topo=gempy_topo):\n",
    "    return kde_list[i].score(get_area_for_edge(gempy_topo[0], edges[i]))\n",
    "\n",
    "@pymc.stochastic\n",
    "def like_area_edge_1(value=0, i=1, kde_list=kde_list, edges=edges, gempy_topo=gempy_topo):\n",
    "    return kde_list[i].score(get_area_for_edge(gempy_topo[0], edges[i]))\n",
    "\n",
    "@pymc.stochastic\n",
    "def like_area_edge_2(value=0, i=2, kde_list=kde_list, edges=edges, gempy_topo=gempy_topo):\n",
    "    return kde_list[i].score(get_area_for_edge(gempy_topo[0], edges[i]))\n",
    "\n",
    "@pymc.stochastic\n",
    "def like_area_edge_3(value=0, i=3, kde_list=kde_list, edges=edges, gempy_topo=gempy_topo):\n",
    "    return kde_list[i].score(get_area_for_edge(gempy_topo[0], edges[i]))\n",
    "\n",
    "@pymc.stochastic\n",
    "def like_area_edge_4(value=0, i=4, kde_list=kde_list, edges=edges, gempy_topo=gempy_topo):\n",
    "    return kde_list[i].score(get_area_for_edge(gempy_topo[0], edges[i]))\n",
    "\n",
    "@pymc.stochastic\n",
    "def like_area_edge_5(value=0, i=5, kde_list=kde_list, edges=edges, gempy_topo=gempy_topo):\n",
    "    return kde_list[i].score(get_area_for_edge(gempy_topo[0], edges[i]))\n",
    "\n",
    "@pymc.stochastic\n",
    "def like_area_edge_6(value=0, i=6, kde_list=kde_list, edges=edges, gempy_topo=gempy_topo):\n",
    "    return kde_list[i].score(get_area_for_edge(gempy_topo[0], edges[i]))\n",
    "\n",
    "@pymc.stochastic\n",
    "def like_area_edge_7(value=0, i=7, kde_list=kde_list, edges=edges, gempy_topo=gempy_topo):\n",
    "    return kde_list[i].score(get_area_for_edge(gempy_topo[0], edges[i]))\n",
    "\n",
    "@pymc.stochastic\n",
    "def like_area_edge_8(value=0, i=8, kde_list=kde_list, edges=edges, gempy_topo=gempy_topo):\n",
    "    return kde_list[i].score(get_area_for_edge(gempy_topo[0], edges[i]))\n",
    "\n",
    "@pymc.stochastic\n",
    "def like_area_edge_9(value=0, i=9, kde_list=kde_list, edges=edges, gempy_topo=gempy_topo):\n",
    "    return kde_list[i].score(get_area_for_edge(gempy_topo[0], edges[i]))\n",
    "\n",
    "@pymc.stochastic\n",
    "def like_area_edge_10(value=0, i=10, kde_list=kde_list, edges=edges, gempy_topo=gempy_topo):\n",
    "    return kde_list[i].score(get_area_for_edge(gempy_topo[0], edges[i]))\n",
    "\n",
    "@pymc.stochastic\n",
    "def like_area_edge_11(value=0, i=11, kde_list=kde_list, edges=edges, gempy_topo=gempy_topo):\n",
    "    return kde_list[i].score(get_area_for_edge(gempy_topo[0], edges[i]))\n",
    "\n",
    "@pymc.stochastic\n",
    "def like_area_edge_12(value=0, i=12, kde_list=kde_list, edges=edges, gempy_topo=gempy_topo):\n",
    "    return kde_list[i].score(get_area_for_edge(gempy_topo[0], edges[i]))\n",
    "\n",
    "@pymc.stochastic\n",
    "def like_area_edge_13(value=0, i=13, kde_list=kde_list, edges=edges, gempy_topo=gempy_topo):\n",
    "    return kde_list[i].score(get_area_for_edge(gempy_topo[0], edges[i]))\n",
    "\n",
    "@pymc.stochastic\n",
    "def like_area_edge_14(value=0, i=14, kde_list=kde_list, edges=edges, gempy_topo=gempy_topo):\n",
    "    return kde_list[i].score(get_area_for_edge(gempy_topo[0], edges[i]))\n",
    "\n",
    "@pymc.stochastic\n",
    "def like_area_edge_15(value=0, i=15, kde_list=kde_list, edges=edges, gempy_topo=gempy_topo):\n",
    "    return kde_list[i].score(get_area_for_edge(gempy_topo[0], edges[i]))\n",
    "\n",
    "@pymc.stochastic\n",
    "def like_area_edge_16(value=0, i=16, kde_list=kde_list, edges=edges, gempy_topo=gempy_topo):\n",
    "    return kde_list[i].score(get_area_for_edge(gempy_topo[0], edges[i]))\n",
    "\n",
    "@pymc.stochastic\n",
    "def like_area_edge_17(value=0, i=17, kde_list=kde_list, edges=edges, gempy_topo=gempy_topo):\n",
    "    return kde_list[i].score(get_area_for_edge(gempy_topo[0], edges[i]))"
   ]
  },
  {
   "cell_type": "code",
   "execution_count": 29,
   "metadata": {
    "collapsed": true
   },
   "outputs": [],
   "source": [
    "like_list = [like_area_edge_0, \n",
    "             like_area_edge_1,\n",
    "             like_area_edge_2,\n",
    "             like_area_edge_3,\n",
    "             like_area_edge_4,\n",
    "            like_area_edge_5,\n",
    "            like_area_edge_6,\n",
    "            like_area_edge_7,\n",
    "            like_area_edge_8,\n",
    "            like_area_edge_9,\n",
    "            like_area_edge_10,\n",
    "            like_area_edge_11,\n",
    "             like_area_edge_12,\n",
    "             like_area_edge_13,\n",
    "             like_area_edge_14,\n",
    "            like_area_edge_15,\n",
    "            like_area_edge_16,\n",
    "            like_area_edge_17]"
   ]
  },
  {
   "cell_type": "markdown",
   "metadata": {},
   "source": [
    "### KDE"
   ]
  },
  {
   "cell_type": "code",
   "execution_count": 110,
   "metadata": {
    "collapsed": true
   },
   "outputs": [],
   "source": [
    "from sklearn.neighbors import KernelDensity\n",
    "import seaborn as sns"
   ]
  },
  {
   "cell_type": "code",
   "execution_count": 125,
   "metadata": {
    "collapsed": true
   },
   "outputs": [],
   "source": [
    "kde = KernelDensity(kernel=\"gaussian\").fit(areas.reshape(-1, 1))\n",
    "#kde2 = KernelDensity(kernel=\"tophat\").fit(areas.reshape(-1, 1))"
   ]
  },
  {
   "cell_type": "code",
   "execution_count": 126,
   "metadata": {},
   "outputs": [
    {
     "data": {
      "text/plain": [
       "<matplotlib.axes._subplots.AxesSubplot at 0x7f23bf07aba8>"
      ]
     },
     "execution_count": 126,
     "metadata": {},
     "output_type": "execute_result"
    },
    {
     "data": {
      "image/png": "[encoded data removed]",
      "text/plain": [
       "<matplotlib.figure.Figure at 0x7f23bc5eb978>"
      ]
     },
     "metadata": {},
     "output_type": "display_data"
    }
   ],
   "source": [
    "#samples2 = kde2.sample(n_samples=50000)\n",
    "#sns.distplot(samples2, label=\"tophat\", hist=False)\n"
   ]
  },
  {
   "cell_type": "code",
   "execution_count": 42,
   "metadata": {},
   "outputs": [
    {
     "data": {
      "text/plain": [
       "-1.047478816587871"
      ]
     },
     "execution_count": 42,
     "metadata": {},
     "output_type": "execute_result"
    }
   ],
   "source": [
    "kde.score(0)"
   ]
  },
  {
   "cell_type": "code",
   "execution_count": 50,
   "metadata": {},
   "outputs": [
    {
     "data": {
      "text/plain": [
       "-5.0586295146823463"
      ]
     },
     "execution_count": 50,
     "metadata": {},
     "output_type": "execute_result"
    }
   ],
   "source": [
    "kde.score(10)"
   ]
  },
  {
   "cell_type": "code",
   "execution_count": 61,
   "metadata": {
    "collapsed": true
   },
   "outputs": [],
   "source": [
    "@pymc.stochastic\n",
    "def like_single_adj_area(value=0, n1=n1, n2=n2, kde=kde, G=gempy_topo[0]):\n",
    "    try:\n",
    "        area = G.adj[n1][n2][\"area\"]\n",
    "        return kde.score(area)\n",
    "    except KeyError:\n",
    "        # if not connected\n",
    "        return kde.score(0)"
   ]
  },
  {
   "cell_type": "code",
   "execution_count": 60,
   "metadata": {},
   "outputs": [
    {
     "data": {
      "text/plain": [
       "8"
      ]
     },
     "execution_count": 60,
     "metadata": {},
     "output_type": "execute_result"
    }
   ],
   "source": []
  },
  {
   "cell_type": "markdown",
   "metadata": {
    "collapsed": true
   },
   "source": [
    "## Plot"
   ]
  },
  {
   "cell_type": "raw",
   "metadata": {
    "scrolled": false
   },
   "source": [
    "n = 6\n",
    "fig, ax = plt.subplots(nrows=n, ncols=1, figsize=(12,8*n))\n",
    "pp.plot_most_likely_topologies(n=n, ax=ax)"
   ]
  },
  {
   "cell_type": "markdown",
   "metadata": {},
   "source": [
    "## Graph Comparison: Direct Jaccard Coefficient Comparison with most-likely kinematic topology graph"
   ]
  },
  {
   "cell_type": "code",
   "execution_count": 34,
   "metadata": {
    "collapsed": true
   },
   "outputs": [],
   "source": [
    "def compare_graphs(G1, G2):\n",
    "    intersection = 0\n",
    "    union = G1.number_of_edges()\n",
    "\n",
    "    for edge in G1.edges_iter():\n",
    "        if G2.has_edge(edge[0], edge[1]):\n",
    "            intersection += 1\n",
    "        else:\n",
    "            union += 1\n",
    "\n",
    "    return intersection / union"
   ]
  },
  {
   "cell_type": "code",
   "execution_count": null,
   "metadata": {
    "collapsed": true
   },
   "outputs": [],
   "source": [
    "G = copy.copy(pp.topo_graphs[0])"
   ]
  },
  {
   "cell_type": "raw",
   "metadata": {
    "scrolled": true
   },
   "source": [
    "@pymc.stochastic\n",
    "def like_jaccard_cauchy(value=0, \n",
    "                             gempy_topo=gempy_topo,\n",
    "                             G=G):\n",
    "    j = compare_graphs(G, gempy_topo[0])\n",
    "    return pymc.half_cauchy_like(1 - j, 0, 0.01)"
   ]
  },
  {
   "cell_type": "raw",
   "metadata": {},
   "source": [
    "x = np.linspace(0,1,100)\n",
    "y = [pymc.half_cauchy_like(1 - i, 0, 0.01) for i in x]\n",
    "plt.plot(x, y)"
   ]
  },
  {
   "cell_type": "markdown",
   "metadata": {},
   "source": [
    "### Probabilistic Graph Comparison ?"
   ]
  },
  {
   "cell_type": "code",
   "execution_count": 41,
   "metadata": {
    "collapsed": true
   },
   "outputs": [],
   "source": [
    "pp.topo_unique_freq = np.array(pp.topo_unique_freq)\n",
    "pp.topo_unique = np.array(pp.topo_unique)\n",
    "booly = pp.topo_unique_freq<10"
   ]
  },
  {
   "cell_type": "code",
   "execution_count": 43,
   "metadata": {},
   "outputs": [
    {
     "data": {
      "image/png": "[encoded data removed]",
      "text/plain": [
       "<matplotlib.figure.Figure at 0x7f2979f78f98>"
      ]
     },
     "metadata": {},
     "output_type": "display_data"
    }
   ],
   "source": [
    "plt.hist(pp.topo_unique_ids, normed=True, bins=24);"
   ]
  },
  {
   "cell_type": "code",
   "execution_count": 25,
   "metadata": {
    "collapsed": true
   },
   "outputs": [],
   "source": [
    "@pymc.stochastic\n",
    "def like_topo_all(value=0,\n",
    "                  gt = gempy_topo,\n",
    "                  topo_unique=pp.topo_unique,#[booly],\n",
    "                  topo_unique_prob=pp.topo_unique_prob,#[booly], \n",
    "                  verbose=False):\n",
    "    \n",
    "    # check gp_topo against unique topos\n",
    "    try:\n",
    "        for i, tu in enumerate(topo_unique):\n",
    "            j = compare_graphs(gt[0], tu)\n",
    "            if verbose:\n",
    "                print(i, \"j:\", j)\n",
    "            if j == 1.:  # this is a match\n",
    "                if verbose:\n",
    "                    print(np.log(topo_unique_prob[i]))\n",
    "                return np.log(topo_unique_prob[i])\n",
    "\n",
    "        if verbose:\n",
    "            print(\"no match:\", np.log(1e-99))\n",
    "        return np.log(1e-99)\n",
    "    except ZeroDivisionError:\n",
    "        return np.log(1e-99)"
   ]
  },
  {
   "cell_type": "code",
   "execution_count": 35,
   "metadata": {
    "collapsed": true
   },
   "outputs": [],
   "source": [
    "@pymc.stochastic\n",
    "def like_topo_single(value=0,\n",
    "                     gt = gempy_topo,\n",
    "                     topo_like_graph = pp.topo_unique[0],\n",
    "                     verbose=False):\n",
    "    # checks model against single graph likelihood\n",
    "    try:\n",
    "        j = compare_graphs(gt[0], topo_like_graph)\n",
    "        if j == 1.:\n",
    "            return np.log(0.95)\n",
    "        else:\n",
    "            return np.log(0.05)\n",
    "    except ZeroDivisionError:\n",
    "        return np.log(1e-99)"
   ]
  },
  {
   "cell_type": "code",
   "execution_count": 52,
   "metadata": {
    "collapsed": true
   },
   "outputs": [],
   "source": [
    "@pymc.stochastic\n",
    "def like_topo_single_edge(value=0,\n",
    "                          gt = gempy_topo,\n",
    "                          verbose=False):\n",
    "    return pymc.bernoulli_like(7 in gt[0].adj[4].keys(), 0.95)        "
   ]
  },
  {
   "cell_type": "markdown",
   "metadata": {},
   "source": [
    "### Centroid Position Likelihood"
   ]
  },
  {
   "cell_type": "raw",
   "metadata": {},
   "source": [
    "post.centroids[0]"
   ]
  },
  {
   "cell_type": "raw",
   "metadata": {},
   "source": [
    "topo_u_freq"
   ]
  },
  {
   "cell_type": "raw",
   "metadata": {
    "collapsed": true
   },
   "source": [
    "@pymc.stochastic\n",
    "def topology_centroids_like(value=0,\n",
    "                            gempy_topo = gempy_topo)"
   ]
  },
  {
   "cell_type": "markdown",
   "metadata": {},
   "source": [
    "## pymc Model Set-Up"
   ]
  },
  {
   "cell_type": "code",
   "execution_count": 36,
   "metadata": {
    "collapsed": true
   },
   "outputs": [],
   "source": [
    "params = [input_data, gempy_model, *interf_Z_modifier, fault_1_dip, fault_2_dip, strat_dip, gempy_topo, like_topo_single]#,*like_list, like_single_adj_area]#like_topo_single]#, like_topo_all] # like_jaccard_cauchy]\n",
    "model = pymc.Model(params)"
   ]
  },
  {
   "cell_type": "code",
   "execution_count": 37,
   "metadata": {
    "collapsed": true
   },
   "outputs": [],
   "source": [
    "iterations = 2100"
   ]
  },
  {
   "cell_type": "code",
   "execution_count": 38,
   "metadata": {
    "collapsed": true
   },
   "outputs": [],
   "source": [
    "RUN = pymc.MCMC(model, db=\"hdf5\", dbname=\"simulations/exp1_graben_BI_jaccard_topo_single\")  # exp1_id_2_BI_9_combined_topo"
   ]
  },
  {
   "cell_type": "code",
   "execution_count": 39,
   "metadata": {},
   "outputs": [
    {
     "name": "stdout",
     "output_type": "stream",
     "text": [
      " [-----------------100%-----------------] 2101 of 2100 complete in 12593.0 sec"
     ]
    }
   ],
   "source": [
    "RUN.sample(iter=iterations, burn=100, tune_interval=20)"
   ]
  },
  {
   "cell_type": "markdown",
   "metadata": {},
   "source": [
    "## Check"
   ]
  },
  {
   "cell_type": "code",
   "execution_count": 40,
   "metadata": {
    "scrolled": false
   },
   "outputs": [
    {
     "name": "stdout",
     "output_type": "stream",
     "text": [
      "Plotting fault_2_dip\n",
      "Plotting l3\n",
      "Plotting l4\n",
      "Plotting l5\n",
      "Plotting strat_dip\n",
      "Plotting like_topo_single\n",
      "Plotting fault_1_dip\n",
      "Plotting l2\n"
     ]
    },
    {
     "data": {
      "image/png": "[encoded data removed]",
      "text/plain": [
       "<matplotlib.figure.Figure at 0x7facfb28bc50>"
      ]
     },
     "metadata": {},
     "output_type": "display_data"
    },
    {
     "data": {
      "image/png": "[encoded data removed]",
      "text/plain": [
       "<matplotlib.figure.Figure at 0x7facfb3547b8>"
      ]
     },
     "metadata": {},
     "output_type": "display_data"
    },
    {
     "data": {
      "image/png": "[encoded data removed]",
      "text/plain": [
       "<matplotlib.figure.Figure at 0x7facfb181e10>"
      ]
     },
     "metadata": {},
     "output_type": "display_data"
    },
    {
     "data": {
      "image/png": "[encoded data removed]",
      "text/plain": [
       "<matplotlib.figure.Figure at 0x7facfb132710>"
      ]
     },
     "metadata": {},
     "output_type": "display_data"
    },
    {
     "data": {
      "image/png": "[encoded data removed]",
      "text/plain": [
       "<matplotlib.figure.Figure at 0x7facfae53198>"
      ]
     },
     "metadata": {},
     "output_type": "display_data"
    },
    {
     "data": {
      "image/png": "[encoded data removed]",
      "text/plain": [
       "<matplotlib.figure.Figure at 0x7facfac93748>"
      ]
     },
     "metadata": {},
     "output_type": "display_data"
    },
    {
     "data": {
      "image/png": "[encoded data removed]",
      "text/plain": [
       "<matplotlib.figure.Figure at 0x7facf76997f0>"
      ]
     },
     "metadata": {},
     "output_type": "display_data"
    },
    {
     "data": {
      "image/png": "[encoded data removed]",
      "text/plain": [
       "<matplotlib.figure.Figure at 0x7facfa6226d8>"
      ]
     },
     "metadata": {},
     "output_type": "display_data"
    }
   ],
   "source": [
    "pymc.Matplot.plot(RUN)"
   ]
  },
  {
   "cell_type": "code",
   "execution_count": 68,
   "metadata": {
    "collapsed": true
   },
   "outputs": [],
   "source": [
    "from scipy import stats"
   ]
  },
  {
   "cell_type": "code",
   "execution_count": 69,
   "metadata": {
    "collapsed": true
   },
   "outputs": [],
   "source": [
    "slope, intercept, r_value, p_value, std_err = stats.linregress(x,np.log())"
   ]
  },
  {
   "cell_type": "code",
   "execution_count": 74,
   "metadata": {},
   "outputs": [
    {
     "data": {
      "text/plain": [
       "array([ nan,  nan])"
      ]
     },
     "execution_count": 74,
     "metadata": {},
     "output_type": "execute_result"
    }
   ],
   "source": [
    "np.polyfit(x, np.log(RUN.trace(\"like_topo_all\")[:]),1)"
   ]
  },
  {
   "cell_type": "code",
   "execution_count": 85,
   "metadata": {},
   "outputs": [
    {
     "data": {
      "text/plain": [
       "[<matplotlib.lines.Line2D at 0x7f5806b39390>]"
      ]
     },
     "execution_count": 85,
     "metadata": {},
     "output_type": "execute_result"
    },
    {
     "data": {
      "image/png": "[encoded data removed]",
      "text/plain": [
       "<matplotlib.figure.Figure at 0x7f5806d29668>"
      ]
     },
     "metadata": {},
     "output_type": "display_data"
    }
   ],
   "source": [
    "%matplotlib inline\n",
    "a = [i/8.7+10 for i in range(2000)]\n",
    "plt.plot(np.log(RUN.trace(\"like_topo_all\")[:]), \"k,\")\n",
    "plt.plot(x,a)"
   ]
  },
  {
   "cell_type": "code",
   "execution_count": 77,
   "metadata": {
    "collapsed": true
   },
   "outputs": [],
   "source": []
  },
  {
   "cell_type": "code",
   "execution_count": null,
   "metadata": {
    "collapsed": true
   },
   "outputs": [],
   "source": []
  }
 ],
 "metadata": {
  "kernelspec": {
   "display_name": "Python 3",
   "language": "python",
   "name": "python3"
  },
  "language_info": {
   "codemirror_mode": {
    "name": "ipython",
    "version": 3
   },
   "file_extension": ".py",
   "mimetype": "text/x-python",
   "name": "python",
   "nbconvert_exporter": "python",
   "pygments_lexer": "ipython3",
   "version": "3.6.3"
  },
  "toc": {
   "colors": {
    "hover_highlight": "#DAA520",
    "navigate_num": "#000000",
    "navigate_text": "#333333",
    "running_highlight": "#FF0000",
    "selected_highlight": "#FFD700",
    "sidebar_border": "#EEEEEE",
    "wrapper_background": "#FFFFFF"
   },
   "moveMenuLeft": true,
   "nav_menu": {
    "height": "261px",
    "width": "252px"
   },
   "navigate_menu": true,
   "number_sections": true,
   "sideBar": true,
   "threshold": 4,
   "toc_cell": false,
   "toc_position": {
    "height": "860px",
    "left": "0px",
    "right": "1659px",
    "top": "106px",
    "width": "212px"
   },
   "toc_section_display": "block",
   "toc_window_display": false,
   "widenNotebook": false
  }
 },
 "nbformat": 4,
 "nbformat_minor": 2
}
