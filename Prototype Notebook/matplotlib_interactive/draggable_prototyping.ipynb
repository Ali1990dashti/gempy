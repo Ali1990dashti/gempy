{
 "cells": [
  {
   "cell_type": "code",
   "execution_count": 1,
   "metadata": {},
   "outputs": [
    {
     "name": "stdout",
     "output_type": "stream",
     "text": [
      "[<__main__.DraggableRectangle object at 0x7f2f5e25e3c8>, <__main__.DraggableRectangle object at 0x7f2f5e210c88>, <__main__.DraggableRectangle object at 0x7f2f5e2170f0>, <__main__.DraggableRectangle object at 0x7f2f5e2173c8>, <__main__.DraggableRectangle object at 0x7f2f5e217550>, <__main__.DraggableRectangle object at 0x7f2f5e2176d8>, <__main__.DraggableRectangle object at 0x7f2f5e217860>, <__main__.DraggableRectangle object at 0x7f2f5e2179e8>, <__main__.DraggableRectangle object at 0x7f2f5e217b70>, <__main__.DraggableRectangle object at 0x7f2f5e217cf8>]\n"
     ]
    },
    {
     "data": {
      "image/png": "[encoded data removed]",
      "text/plain": [
       "<matplotlib.figure.Figure at 0x7f2f680a2cf8>"
      ]
     },
     "metadata": {},
     "output_type": "display_data"
    }
   ],
   "source": [
    "# draggable rectangle with the animation blit techniques; see\n",
    "# http://www.scipy.org/Cookbook/Matplotlib/Animations\n",
    "import numpy as np\n",
    "import matplotlib.pyplot as plt\n",
    "\n",
    "\n",
    "class DraggableRectangle:\n",
    "    lock = None  # only one can be animated at a time\n",
    "\n",
    "    def __init__(self, rect):\n",
    "        self.rect = rect\n",
    "        self.press = None\n",
    "        self.background = None\n",
    "\n",
    "    def connect(self):\n",
    "        'connect to all the events we need'\n",
    "        self.cidpress = self.rect.figure.canvas.mpl_connect(\n",
    "            'button_press_event', self.on_press)\n",
    "        self.cidrelease = self.rect.figure.canvas.mpl_connect(\n",
    "            'button_release_event', self.on_release)\n",
    "        self.cidmotion = self.rect.figure.canvas.mpl_connect(\n",
    "            'motion_notify_event', self.on_motion)\n",
    "\n",
    "    def on_press(self, event):\n",
    "        'on button press we will see if the mouse is over us and store some data'\n",
    "        if event.inaxes != self.rect.axes:\n",
    "            return\n",
    "        if DraggableRectangle.lock is not None:\n",
    "            return\n",
    "        contains, attrd = self.rect.contains(event)\n",
    "        if not contains: return\n",
    "        print('event contains', self.rect.xy)\n",
    "        x0, y0 = self.rect.xy\n",
    "        self.press = x0, y0, event.xdata, event.ydata\n",
    "        DraggableRectangle.lock = self\n",
    "\n",
    "        # draw everything but the selected rectangle and store the pixel buffer\n",
    "        canvas = self.rect.figure.canvas\n",
    "        axes = self.rect.axes\n",
    "        self.rect.set_animated(True)\n",
    "        canvas.draw()\n",
    "        self.background = canvas.copy_from_bbox(self.rect.axes.bbox)\n",
    "\n",
    "        # now redraw just the rectangle\n",
    "        axes.draw_artist(self.rect)\n",
    "\n",
    "        # and blit just the redrawn area\n",
    "        canvas.blit(axes.bbox)\n",
    "\n",
    "    def on_motion(self, event):\n",
    "        'on motion we will move the rect if the mouse is over us'\n",
    "        if DraggableRectangle.lock is not self:\n",
    "            return\n",
    "        if event.inaxes != self.rect.axes:\n",
    "            return\n",
    "\n",
    "        x0, y0, xpress, ypress = self.press\n",
    "        dx = event.xdata - xpress\n",
    "        dy = event.ydata - ypress\n",
    "        # self.rect.set_x(x0 + dx)\n",
    "        self.rect.set_y(y0 + dy)\n",
    "\n",
    "        canvas = self.rect.figure.canvas\n",
    "        axes = self.rect.axes\n",
    "        # restore the background region\n",
    "        canvas.restore_region(self.background)\n",
    "\n",
    "        # redraw just the current rectangle\n",
    "        axes.draw_artist(self.rect)\n",
    "\n",
    "        # blit just the redrawn area\n",
    "        canvas.blit(axes.bbox)\n",
    "\n",
    "    def on_release(self, event):\n",
    "        'on release we reset the press data'\n",
    "        if DraggableRectangle.lock is not self:\n",
    "            return\n",
    "\n",
    "        self.press = None\n",
    "        DraggableRectangle.lock = None\n",
    "\n",
    "        # turn off the rect animation property and reset the background\n",
    "        self.rect.set_animated(False)\n",
    "        self.background = None\n",
    "\n",
    "        # redraw the full figure\n",
    "        self.rect.figure.canvas.draw()\n",
    "\n",
    "    def disconnect(self):\n",
    "        'disconnect all the stored connection ids'\n",
    "        self.rect.figure.canvas.mpl_disconnect(self.cidpress)\n",
    "        self.rect.figure.canvas.mpl_disconnect(self.cidrelease)\n",
    "        self.rect.figure.canvas.mpl_disconnect(self.cidmotion)\n",
    "\n",
    "\n",
    "fig = plt.figure()\n",
    "ax = fig.add_subplot(111)\n",
    "rects = ax.barh(range(10), 20 * np.random.rand(10))\n",
    "# list of DraggableRectangle instances\n",
    "drs = []\n",
    "\n",
    "for rect in rects:\n",
    "    \n",
    "    # create draggable rectangle from all created bars\n",
    "    dr = DraggableRectangle(rect)\n",
    "    dr.connect()\n",
    "    drs.append(dr)  # add instance to list of all rectangles\n",
    "print(drs)\n",
    "plt.show()\n"
   ]
  },
  {
   "cell_type": "code",
   "execution_count": 4,
   "metadata": {},
   "outputs": [
    {
     "data": {
      "text/plain": [
       "0.0"
      ]
     },
     "execution_count": 4,
     "metadata": {},
     "output_type": "execute_result"
    }
   ],
   "source": [
    "rect.get_x()"
   ]
  },
  {
   "cell_type": "code",
   "execution_count": 5,
   "metadata": {},
   "outputs": [
    {
     "data": {
      "text/plain": [
       "8.6"
      ]
     },
     "execution_count": 5,
     "metadata": {},
     "output_type": "execute_result"
    }
   ],
   "source": [
    "rect.get_y()"
   ]
  },
  {
   "cell_type": "code",
   "execution_count": 9,
   "metadata": {},
   "outputs": [
    {
     "data": {
      "text/plain": [
       "0.8"
      ]
     },
     "execution_count": 9,
     "metadata": {},
     "output_type": "execute_result"
    }
   ],
   "source": [
    "rect.get_height()"
   ]
  },
  {
   "cell_type": "code",
   "execution_count": 12,
   "metadata": {},
   "outputs": [],
   "source": [
    "a = drs[0]"
   ]
  },
  {
   "cell_type": "code",
   "execution_count": 14,
   "metadata": {},
   "outputs": [
    {
     "data": {
      "text/plain": [
       "0.0"
      ]
     },
     "execution_count": 14,
     "metadata": {},
     "output_type": "execute_result"
    }
   ],
   "source": [
    "a.rect.get_x()"
   ]
  },
  {
   "cell_type": "code",
   "execution_count": null,
   "metadata": {
    "collapsed": true
   },
   "outputs": [],
   "source": []
  }
 ],
 "metadata": {
  "kernelspec": {
   "display_name": "Python 3",
   "language": "python",
   "name": "python3"
  },
  "language_info": {
   "codemirror_mode": {
    "name": "ipython",
    "version": 3
   },
   "file_extension": ".py",
   "mimetype": "text/x-python",
   "name": "python",
   "nbconvert_exporter": "python",
   "pygments_lexer": "ipython3",
   "version": "3.6.1"
  }
 },
 "nbformat": 4,
 "nbformat_minor": 2
}
