{
 "cells": [
  {
   "cell_type": "code",
   "execution_count": 2,
   "metadata": {},
   "outputs": [
    {
     "name": "stdout",
     "output_type": "stream",
     "text": [
      "[<__main__.DraggableRectangle object at 0x7f08121b2b00>, <__main__.DraggableRectangle object at 0x7f081216e400>, <__main__.DraggableRectangle object at 0x7f081216e9e8>, <__main__.DraggableRectangle object at 0x7f081216ed68>, <__main__.DraggableRectangle object at 0x7f081217e320>, <__main__.DraggableRectangle object at 0x7f081217e198>, <__main__.DraggableRectangle object at 0x7f0808098c50>, <__main__.DraggableRectangle object at 0x7f080804f860>, <__main__.DraggableRectangle object at 0x7f080804f898>, <__main__.DraggableRectangle object at 0x7f080804fb00>]\n",
      "event contains (0.0, 8.6)\n"
     ]
    }
   ],
   "source": [
    "# draggable rectangle with the animation blit techniques; see\n",
    "# http://www.scipy.org/Cookbook/Matplotlib/Animations\n",
    "import numpy as np\n",
    "import matplotlib.pyplot as plt\n",
    "%matplotlib qt5\n",
    "\n",
    "class DraggableRectangle:\n",
    "    lock = None  # only one can be animated at a time\n",
    "\n",
    "    def __init__(self, rect):\n",
    "        self.rect = rect\n",
    "        self.press = None\n",
    "        self.background = None\n",
    "\n",
    "        self.o_x = None\n",
    "        self.o_y = None\n",
    "\n",
    "    def connect(self):\n",
    "        'connect to all the events we need'\n",
    "        self.cidpress = self.rect.figure.canvas.mpl_connect(\n",
    "            'button_press_event', self.on_press)\n",
    "        self.cidrelease = self.rect.figure.canvas.mpl_connect(\n",
    "            'button_release_event', self.on_release)\n",
    "        self.cidmotion = self.rect.figure.canvas.mpl_connect(\n",
    "            'motion_notify_event', self.on_motion)\n",
    "\n",
    "    def on_press(self, event):\n",
    "        'on button press we will see if the mouse is over us and store some data'\n",
    "        if event.inaxes != self.rect.axes:\n",
    "            return\n",
    "        if DraggableRectangle.lock is not None:\n",
    "            return\n",
    "\n",
    "        # save the original position for snapping back\n",
    "        self.o_y = self.rect.get_y()\n",
    "        self.o_x = self.rect.get_x()\n",
    "\n",
    "        contains, attrd = self.rect.contains(event)\n",
    "        if not contains: return\n",
    "        print('event contains', self.rect.xy)\n",
    "        x0, y0 = self.rect.xy\n",
    "        self.press = x0, y0, event.xdata, event.ydata\n",
    "        DraggableRectangle.lock = self\n",
    "\n",
    "        # draw everything but the selected rectangle and store the pixel buffer\n",
    "        canvas = self.rect.figure.canvas\n",
    "        axes = self.rect.axes\n",
    "        self.rect.set_animated(True)\n",
    "        canvas.draw()\n",
    "        self.background = canvas.copy_from_bbox(self.rect.axes.bbox)\n",
    "\n",
    "        # now redraw just the rectangle\n",
    "        axes.draw_artist(self.rect)\n",
    "\n",
    "        # and blit just the redrawn area\n",
    "        canvas.blit(axes.bbox)\n",
    "\n",
    "    def on_motion(self, event):\n",
    "        'on motion we will move the rect if the mouse is over us'\n",
    "        if DraggableRectangle.lock is not self:\n",
    "            return\n",
    "        if event.inaxes != self.rect.axes:\n",
    "            return\n",
    "\n",
    "        x0, y0, xpress, ypress = self.press\n",
    "        dx = event.xdata - xpress\n",
    "        dy = event.ydata - ypress\n",
    "        # self.rect.set_x(x0 + dx)\n",
    "        self.rect.set_y(y0 + dy)\n",
    "\n",
    "        canvas = self.rect.figure.canvas\n",
    "        axes = self.rect.axes\n",
    "        # restore the background region\n",
    "        canvas.restore_region(self.background)\n",
    "\n",
    "        # redraw just the current rectangle\n",
    "        axes.draw_artist(self.rect)\n",
    "\n",
    "        # blit just the redrawn area\n",
    "        canvas.blit(axes.bbox)\n",
    "\n",
    "    def on_release(self, event):\n",
    "        'on release we reset the press data'\n",
    "        if DraggableRectangle.lock is not self:\n",
    "            return\n",
    "\n",
    "        # check if it is released past half of the above or below\n",
    "        # get y of above and below\n",
    "        if self.i == 0:\n",
    "            y_below = None\n",
    "        else:\n",
    "            y_below = drs[self.i - 1].rect.get_y()\n",
    "\n",
    "        if self.i == len(drs) - 1:\n",
    "            y_above = None\n",
    "        else:\n",
    "            y_above = drs[self.i + 1].rect.get_y()\n",
    "\n",
    "        # if the released rect is not above\n",
    "        if y_above is None or y_below is None:\n",
    "            self.rect.set_y(self.o_y)\n",
    "\n",
    "        if self.rect.get_y() <= (y_above + self.rect.get_height() / 2):\n",
    "            self.rect.set_y(self.o_y)\n",
    "        elif self.rect.get_y() >= (y_below + self.rect.get_height() / 2):\n",
    "            self.rect.set_y(self.o_y)\n",
    "\n",
    "        self.press = None\n",
    "        DraggableRectangle.lock = None\n",
    "\n",
    "        # turn off the rect animation property and reset the background\n",
    "        self.rect.set_animated(False)\n",
    "        self.background = None\n",
    "\n",
    "        # redraw the full figure\n",
    "        self.rect.figure.canvas.draw()\n",
    "\n",
    "    def disconnect(self):\n",
    "        'disconnect all the stored connection ids'\n",
    "        self.rect.figure.canvas.mpl_disconnect(self.cidpress)\n",
    "        self.rect.figure.canvas.mpl_disconnect(self.cidrelease)\n",
    "        self.rect.figure.canvas.mpl_disconnect(self.cidmotion)\n",
    "\n",
    "\n",
    "fig = plt.figure()\n",
    "ax = fig.add_subplot(111)\n",
    "rects = ax.barh(range(10), 20 * np.random.rand(10))\n",
    "# list of DraggableRectangle instances\n",
    "drs = []\n",
    "\n",
    "for i, rect in enumerate(rects):\n",
    "    # create draggable rectangle from all created bars\n",
    "    dr = DraggableRectangle(rect)\n",
    "    dr.i = i\n",
    "    dr.connect()\n",
    "    drs.append(dr)  # add instance to list of all rectangles\n",
    "print(drs)\n",
    "plt.show()\n"
   ]
  },
  {
   "cell_type": "code",
   "execution_count": 4,
   "metadata": {},
   "outputs": [
    {
     "data": {
      "text/plain": [
       "0.0"
      ]
     },
     "execution_count": 4,
     "metadata": {},
     "output_type": "execute_result"
    }
   ],
   "source": [
    "rect.get_x()"
   ]
  },
  {
   "cell_type": "code",
   "execution_count": 5,
   "metadata": {},
   "outputs": [
    {
     "data": {
      "text/plain": [
       "8.6"
      ]
     },
     "execution_count": 5,
     "metadata": {},
     "output_type": "execute_result"
    }
   ],
   "source": [
    "rect.get_y()"
   ]
  },
  {
   "cell_type": "code",
   "execution_count": 9,
   "metadata": {},
   "outputs": [
    {
     "data": {
      "text/plain": [
       "0.8"
      ]
     },
     "execution_count": 9,
     "metadata": {},
     "output_type": "execute_result"
    }
   ],
   "source": [
    "rect.get_height()"
   ]
  },
  {
   "cell_type": "code",
   "execution_count": 12,
   "metadata": {},
   "outputs": [],
   "source": [
    "a = drs[0]"
   ]
  },
  {
   "cell_type": "code",
   "execution_count": 14,
   "metadata": {},
   "outputs": [
    {
     "data": {
      "text/plain": [
       "0.0"
      ]
     },
     "execution_count": 14,
     "metadata": {},
     "output_type": "execute_result"
    }
   ],
   "source": [
    "a.rect.get_x()"
   ]
  },
  {
   "cell_type": "code",
   "execution_count": 1,
   "metadata": {},
   "outputs": [],
   "source": [
    "import numpy as np\n",
    "import matplotlib.pyplot as plt\n",
    "%matplotlib qt5\n",
    "class DraggableRectangle:\n",
    "    lock = None  # only one can be animated at a time\n",
    "\n",
    "    def __init__(self, rect, parent=None):\n",
    "        self.rect = rect\n",
    "        self.parent = parent\n",
    "        self.press = None\n",
    "        self.background = None\n",
    "\n",
    "        self.o_x = None\n",
    "        self.o_y = None\n",
    "\n",
    "    def connect(self):\n",
    "        'connect to all the events we need'\n",
    "        self.cidpress = self.rect.figure.canvas.mpl_connect(\n",
    "            'button_press_event', self.on_press)\n",
    "        self.cidrelease = self.rect.figure.canvas.mpl_connect(\n",
    "            'button_release_event', self.on_release)\n",
    "        self.cidmotion = self.rect.figure.canvas.mpl_connect(\n",
    "            'motion_notify_event', self.on_motion)\n",
    "\n",
    "    def on_press(self, event):\n",
    "        'on button press we will see if the mouse is over us and store some data'\n",
    "        if event.inaxes != self.rect.axes:\n",
    "            return\n",
    "        if DraggableRectangle.lock is not None:\n",
    "            return\n",
    "\n",
    "        # save the original position for snapping back\n",
    "        self.o_y = self.rect.get_y()\n",
    "        self.o_x = self.rect.get_x()\n",
    "\n",
    "        contains, attrd = self.rect.contains(event)\n",
    "        if not contains: return\n",
    "        print('event contains', self.rect.xy)\n",
    "        x0, y0 = self.rect.xy\n",
    "        self.press = x0, y0, event.xdata, event.ydata\n",
    "        DraggableRectangle.lock = self\n",
    "\n",
    "        # draw everything but the selected rectangle and store the pixel buffer\n",
    "        canvas = self.rect.figure.canvas\n",
    "        axes = self.rect.axes\n",
    "        self.rect.set_animated(True)\n",
    "        canvas.draw()\n",
    "        self.background = canvas.copy_from_bbox(self.rect.axes.bbox)\n",
    "\n",
    "        # now redraw just the rectangle\n",
    "        axes.draw_artist(self.rect)\n",
    "\n",
    "        # and blit just the redrawn area\n",
    "        canvas.blit(axes.bbox)\n",
    "\n",
    "    def on_motion(self, event):\n",
    "        'on motion we will move the rect if the mouse is over us'\n",
    "        if DraggableRectangle.lock is not self:\n",
    "            return\n",
    "        if event.inaxes != self.rect.axes:\n",
    "            return\n",
    "\n",
    "        x0, y0, xpress, ypress = self.press\n",
    "        dx = event.xdata - xpress\n",
    "        dy = event.ydata - ypress\n",
    "        # self.rect.set_x(x0 + dx)\n",
    "        self.rect.set_y(y0 + dy)\n",
    "\n",
    "        if self.rect.get_y() > self.parent.bars[self.i + 1].rect.get_y() + self.rect.get_height() / 2:\n",
    "            # reduce i for above\n",
    "            self.parent.bars[self.i + 1].i -= 1\n",
    "            y_bot = self.get_y()\n",
    "            self.rect.set_y(self.parent.bars[self.i + 1].rect.get_y())\n",
    "            self.parent.bars[self.i + 1].set_y(y_bot)\n",
    "            # swap positions\n",
    "            self.parent.bars[self.i], self.parent.bars[self.i + 1] = self.parent.bars[self.i + 1], self.parent.bars[self.i]\n",
    "            # increase i for self\n",
    "            self.i += 1\n",
    "\n",
    "\n",
    "        canvas = self.rect.figure.canvas\n",
    "        axes = self.rect.axes\n",
    "        # restore the background region\n",
    "        canvas.restore_region(self.background)\n",
    "\n",
    "        # redraw just the current rectangle\n",
    "        axes.draw_artist(self.rect)\n",
    "\n",
    "        # blit just the redrawn area\n",
    "        canvas.blit(axes.bbox)\n",
    "\n",
    "    def on_release(self, event):\n",
    "        'on release we reset the press data'\n",
    "        if DraggableRectangle.lock is not self:\n",
    "            return\n",
    "\n",
    "        # check if it is released past half of the above or below\n",
    "        # get y of above and below\n",
    "        if self.i == 0:\n",
    "            y_below = None\n",
    "        else:\n",
    "            y_below = self.parent.bars[self.i - 1].rect.get_y()\n",
    "\n",
    "        if self.i == len(self.parent.bars) - 1:\n",
    "            y_above = None\n",
    "        else:\n",
    "            y_above = self.parent.bars[self.i + 1].rect.get_y()\n",
    "\n",
    "        # if the released rect is not above\n",
    "        if y_above is None or y_below is None:\n",
    "            self.rect.set_y(self.o_y)\n",
    "\n",
    "        if self.rect.get_y() <= (y_above + self.rect.get_height() / 2):\n",
    "            self.rect.set_y(self.o_y)\n",
    "        elif self.rect.get_y() >= (y_below + self.rect.get_height() / 2):\n",
    "            self.rect.set_y(self.o_y)\n",
    "\n",
    "        self.press = None\n",
    "        DraggableRectangle.lock = None\n",
    "\n",
    "        # turn off the rect animation property and reset the background\n",
    "        self.rect.set_animated(False)\n",
    "        self.background = None\n",
    "\n",
    "        # redraw the full figure\n",
    "        self.rect.figure.canvas.draw()\n",
    "\n",
    "    def disconnect(self):\n",
    "        'disconnect all the stored connection ids'\n",
    "        self.rect.figure.canvas.mpl_disconnect(self.cidpress)\n",
    "        self.rect.figure.canvas.mpl_disconnect(self.cidrelease)\n",
    "        self.rect.figure.canvas.mpl_disconnect(self.cidmotion)\n"
   ]
  },
  {
   "cell_type": "code",
   "execution_count": null,
   "metadata": {},
   "outputs": [],
   "source": [
    "import numpy as np\n",
    "class DaPlot:\n",
    "    def __init__(self, formations, series):\n",
    "        self.formations = formations\n",
    "        self.series = series\n",
    "\n",
    "        self.fig = plt.figure()\n",
    "        self.ax = self.fig.add_subplot(111)\n",
    "\n",
    "        self.barplot = self.ax.barh(range(len(self.formations)), [1 for i in range(len(self.formations))])\n",
    "        self.bars = []\n",
    "\n",
    "        self.ax.xaxis.set_visible(False)\n",
    "        self.ax.set_yticklabels(self.formations)\n",
    "\n",
    "        for i, entry in enumerate(self.barplot):\n",
    "            bar = DraggableRectangle(entry, parent=self)\n",
    "            bar.i = i\n",
    "            bar.connect()\n",
    "            self.bars.append(bar)\n",
    "\n",
    "        plt.show()\n",
    "\n",
    "    #fig = plt.figure()\n",
    "    #ax = fig.add_subplot(111)\n",
    "    #formations = ax.barh(range(10), 20 * np.random.rand(10))\n",
    "    # list of DraggableRectangle instances\n",
    "    #drs = []\n",
    "\n",
    "    #for i, fmt in enumerate(formations):\n",
    "    #    # create draggable rectangle from all created bars\n",
    "    #    dr = DraggableRectangle(fmt)\n",
    "    #    dr.i = i\n",
    "    #    dr.connect()\n",
    "    #    drs.append(dr)  # add instance to list of all rectangles\n",
    "    #print(drs)\n",
    "    #plt.show()\n",
    "\n",
    "import pandas as pn\n",
    "\n",
    "formations = np.array(['Layer 2', 'Layer 3', 'Layer 4', 'Layer 5', 'Layer 6', 'Fault'], dtype=object)\n",
    "series = pn.Index(['fault', 'Rest'], dtype='object')\n",
    "\n",
    "plot = DaPlot(formations, series)"
   ]
  },
  {
   "cell_type": "code",
   "execution_count": 7,
   "metadata": {},
   "outputs": [
    {
     "ename": "AttributeError",
     "evalue": "'DraggableRectangle' object has no attribute 'figure'",
     "output_type": "error",
     "traceback": [
      "\u001b[0;31m---------------------------------------------------------------------------\u001b[0m",
      "\u001b[0;31mAttributeError\u001b[0m                            Traceback (most recent call last)",
      "\u001b[0;32m<ipython-input-7-dc2862994d7b>\u001b[0m in \u001b[0;36m<module>\u001b[0;34m()\u001b[0m\n\u001b[1;32m     71\u001b[0m \u001b[0;32mfor\u001b[0m \u001b[0me\u001b[0m\u001b[0;34m,\u001b[0m \u001b[0mrect\u001b[0m \u001b[0;32min\u001b[0m \u001b[0menumerate\u001b[0m\u001b[0;34m(\u001b[0m\u001b[0mrects\u001b[0m\u001b[0;34m)\u001b[0m\u001b[0;34m:\u001b[0m\u001b[0;34m\u001b[0m\u001b[0m\n\u001b[1;32m     72\u001b[0m     \u001b[0mdr\u001b[0m \u001b[0;34m=\u001b[0m \u001b[0mDraggableRectangle\u001b[0m\u001b[0;34m(\u001b[0m\u001b[0mrect\u001b[0m\u001b[0;34m,\u001b[0m \u001b[0me\u001b[0m\u001b[0;34m)\u001b[0m\u001b[0;34m\u001b[0m\u001b[0m\n\u001b[0;32m---> 73\u001b[0;31m     \u001b[0mdr\u001b[0m\u001b[0;34m.\u001b[0m\u001b[0mconnect\u001b[0m\u001b[0;34m(\u001b[0m\u001b[0;34m)\u001b[0m\u001b[0;34m\u001b[0m\u001b[0m\n\u001b[0m\u001b[1;32m     74\u001b[0m     \u001b[0mdrs\u001b[0m\u001b[0;34m.\u001b[0m\u001b[0mappend\u001b[0m\u001b[0;34m(\u001b[0m\u001b[0mdr\u001b[0m\u001b[0;34m)\u001b[0m\u001b[0;34m\u001b[0m\u001b[0m\n\u001b[1;32m     75\u001b[0m \u001b[0;34m\u001b[0m\u001b[0m\n",
      "\u001b[0;32m<ipython-input-7-dc2862994d7b>\u001b[0m in \u001b[0;36mconnect\u001b[0;34m(self)\u001b[0m\n\u001b[1;32m     16\u001b[0m         self.cidmotion = self.rect.figure.canvas.mpl_connect(\n\u001b[1;32m     17\u001b[0m             'motion_notify_event', self.on_motion)\n\u001b[0;32m---> 18\u001b[0;31m         \u001b[0mself\u001b[0m\u001b[0;34m.\u001b[0m\u001b[0mfigure\u001b[0m\u001b[0;34m.\u001b[0m\u001b[0mcanvas\u001b[0m\u001b[0;34m.\u001b[0m\u001b[0mmpl_connect\u001b[0m\u001b[0;34m(\u001b[0m\u001b[0;34m'axes_enter_event'\u001b[0m\u001b[0;34m,\u001b[0m \u001b[0menter_axes\u001b[0m\u001b[0;34m)\u001b[0m\u001b[0;34m\u001b[0m\u001b[0m\n\u001b[0m\u001b[1;32m     19\u001b[0m \u001b[0;34m\u001b[0m\u001b[0m\n\u001b[1;32m     20\u001b[0m     \u001b[0;32mdef\u001b[0m \u001b[0mon_press\u001b[0m\u001b[0;34m(\u001b[0m\u001b[0mself\u001b[0m\u001b[0;34m,\u001b[0m \u001b[0mevent\u001b[0m\u001b[0;34m)\u001b[0m\u001b[0;34m:\u001b[0m\u001b[0;34m\u001b[0m\u001b[0m\n",
      "\u001b[0;31mAttributeError\u001b[0m: 'DraggableRectangle' object has no attribute 'figure'"
     ]
    }
   ],
   "source": [
    "import numpy as np\n",
    "import matplotlib.pyplot as plt\n",
    "%matplotlib qt5\n",
    "class DraggableRectangle:\n",
    "    def __init__(self, rect, f):\n",
    "        self.rect = rect\n",
    "        self.f = f\n",
    "        self.press = None\n",
    "\n",
    "    def connect(self):\n",
    "        'connect to all the events we need'\n",
    "        self.cidpress = self.rect.figure.canvas.mpl_connect(\n",
    "            'button_press_event', self.on_press)\n",
    "        self.cidrelease = self.rect.figure.canvas.mpl_connect(\n",
    "            'button_release_event', self.on_release)\n",
    "        self.cidmotion = self.rect.figure.canvas.mpl_connect(\n",
    "            'motion_notify_event', self.on_motion)\n",
    "        self.figure.canvas.mpl_connect('axes_enter_event', enter_axes)\n",
    "\n",
    "    def on_press(self, event):\n",
    "        'on button press we will see if the mouse is over us and store some data'\n",
    "        if event.inaxes != self.rect.axes: return\n",
    "\n",
    "        contains, attrd = self.rect.contains(event)\n",
    "        if not contains: return\n",
    "        print('event contains', self.rect.xy)\n",
    "        x0, y0 = self.rect.xy\n",
    "        self.press = x0, y0, event.xdata, event.ydata\n",
    "\n",
    "    def on_motion(self, event):\n",
    "        'on motion we will move the rect if the mouse is over us'\n",
    "        if self.press is None: return\n",
    "        if event.inaxes != self.rect.axes: return\n",
    "        x0, y0, xpress, ypress = self.press\n",
    "        dx = event.xdata - xpress\n",
    "        dy = event.ydata - ypress\n",
    "        #print('x0=%f, xpress=%f, event.xdata=%f, dx=%f, x0+dx=%f' %\n",
    "        #      (x0, xpress, event.xdata, dx, x0+dx))\n",
    "        self.rect.set_x(x0+dx)\n",
    "        self.rect.set_y(y0+dy)\n",
    "\n",
    "        self.rect.figure.canvas.draw()\n",
    "\n",
    "\n",
    "    def on_release(self, event, anchor = 2):\n",
    "        'on release we reset the press data'\n",
    "        self.press = None\n",
    "        self.rect.figure.canvas.draw()\n",
    "        self.rect.set_y(anchor)\n",
    "        \n",
    "        self.rect.set_animated(False)\n",
    "        self.background = None\n",
    "\n",
    "        # redraw the full figure\n",
    "        self.rect.figure.canvas.draw()\n",
    "        return 'things'\n",
    "\n",
    "    def disconnect(self):\n",
    "        'disconnect all the stored connection ids'\n",
    "        self.rect.figure.canvas.mpl_disconnect(self.cidpress)\n",
    "        self.rect.figure.canvas.mpl_disconnect(self.cidrelease)\n",
    "        self.rect.figure.canvas.mpl_disconnect(self.cidmotion)\n",
    "\n",
    "fig = plt.figure()\n",
    "ax = fig.add_subplot(111)\n",
    "rects = ax.barh(1, 10, 5)\n",
    "rects = ax.barh(range(10), 20*np.random.rand(10))\n",
    "\n",
    "\n",
    "drs = []\n",
    "for e, rect in enumerate(rects):\n",
    "    dr = DraggableRectangle(rect, e)\n",
    "    dr.connect()\n",
    "    drs.append(dr)\n",
    "\n",
    "plt.show()"
   ]
  },
  {
   "cell_type": "code",
   "execution_count": 8,
   "metadata": {},
   "outputs": [
    {
     "data": {
      "text/plain": [
       "<matplotlib.axes._subplots.AxesSubplot at 0x7ff8738c90b8>"
      ]
     },
     "execution_count": 8,
     "metadata": {},
     "output_type": "execute_result"
    },
    {
     "name": "stdout",
     "output_type": "stream",
     "text": [
      "event contains (0.0, 2)\n"
     ]
    }
   ],
   "source": [
    "ax"
   ]
  },
  {
   "cell_type": "code",
   "execution_count": 3,
   "metadata": {},
   "outputs": [
    {
     "name": "stdout",
     "output_type": "stream",
     "text": [
      "enter_figure Figure(640x480)\n",
      "enter_axes Axes(0.125,0.11;0.775x0.35)\n",
      "leave_axes Axes(0.125,0.11;0.775x0.35)\n",
      "enter_axes Axes(0.125,0.53;0.775x0.35)\n",
      "leave_axes Axes(0.125,0.53;0.775x0.35)\n",
      "leave_figure Figure(640x480)\n",
      "enter_figure Figure(640x480)\n",
      "leave_figure Figure(640x480)\n"
     ]
    }
   ],
   "source": [
    "import matplotlib.pyplot as plt\n",
    "%matplotlib qt5\n",
    "\n",
    "def enter_axes(event):\n",
    "    print('enter_axes', event.inaxes)\n",
    "    event.inaxes.patch.set_facecolor('yellow')\n",
    "    event.canvas.draw()\n",
    "\n",
    "def leave_axes(event):\n",
    "    print('leave_axes', event.inaxes)\n",
    "    event.inaxes.patch.set_facecolor('white')\n",
    "    event.canvas.draw()\n",
    "\n",
    "def enter_figure(event):\n",
    "    print('enter_figure', event.canvas.figure)\n",
    "    event.canvas.figure.patch.set_facecolor('red')\n",
    "    event.canvas.draw()\n",
    "\n",
    "def leave_figure(event):\n",
    "    print('leave_figure', event.canvas.figure)\n",
    "    event.canvas.figure.patch.set_facecolor('grey')\n",
    "    event.canvas.draw()\n",
    "\n",
    "fig1 = plt.figure()\n",
    "fig1.suptitle('mouse hover over figure or axes to trigger events')\n",
    "ax1 = fig1.add_subplot(211)\n",
    "ax2 = fig1.add_subplot(212)\n",
    "\n",
    "fig1.canvas.mpl_connect('figure_enter_event', enter_figure)\n",
    "fig1.canvas.mpl_connect('figure_leave_event', leave_figure)\n",
    "fig1.canvas.mpl_connect('axes_enter_event', enter_axes)\n",
    "fig1.canvas.mpl_connect('axes_leave_event', leave_axes)\n",
    "\n",
    "fig2 = plt.figure()\n",
    "fig2.suptitle('mouse hover over figure or axes to trigger events')\n",
    "ax1 = fig2.add_subplot(211)\n",
    "ax2 = fig2.add_subplot(212)\n",
    "\n",
    "fig2.canvas.mpl_connect('figure_enter_event', enter_figure)\n",
    "fig2.canvas.mpl_connect('figure_leave_event', leave_figure)\n",
    "fig2.canvas.mpl_connect('axes_enter_event', enter_axes)\n",
    "fig2.canvas.mpl_connect('axes_leave_event', leave_axes)\n",
    "\n",
    "plt.show()"
   ]
  },
  {
   "cell_type": "code",
   "execution_count": 6,
   "metadata": {},
   "outputs": [
    {
     "data": {
      "text/plain": [
       "(<matplotlib.patches.Rectangle at 0x7fb2cf572a58>,\n",
       " <matplotlib.patches.Rectangle at 0x7fb2d417f470>,\n",
       " <matplotlib.patches.Rectangle at 0x7fb2cf572f28>,\n",
       " <matplotlib.patches.Rectangle at 0x7fb2cf583f60>,\n",
       " <matplotlib.patches.Rectangle at 0x7fb2cf58b860>,\n",
       " <matplotlib.patches.Rectangle at 0x7fb2cf593128>,\n",
       " <matplotlib.patches.Rectangle at 0x7fb2cf593a20>,\n",
       " <matplotlib.patches.Rectangle at 0x7fb2cf59a2e8>,\n",
       " <matplotlib.patches.Rectangle at 0x7fb2cf59abe0>,\n",
       " <matplotlib.patches.Rectangle at 0x7fb2cf5a34a8>)"
      ]
     },
     "execution_count": 6,
     "metadata": {},
     "output_type": "execute_result"
    }
   ],
   "source": [
    "ax.barh(range(10), 20*np.random.rand(10))[:]"
   ]
  },
  {
   "cell_type": "code",
   "execution_count": 15,
   "metadata": {},
   "outputs": [],
   "source": [
    "ax.barh?"
   ]
  },
  {
   "cell_type": "code",
   "execution_count": 10,
   "metadata": {},
   "outputs": [
    {
     "data": {
      "text/plain": [
       "array([ 0. ,  2.5,  5. ,  7.5])"
      ]
     },
     "execution_count": 10,
     "metadata": {},
     "output_type": "execute_result"
    }
   ],
   "source": [
    "np.linspace(0, 10, 4, endpoint=False)"
   ]
  },
  {
   "cell_type": "code",
   "execution_count": 8,
   "metadata": {
    "collapsed": true
   },
   "outputs": [],
   "source": [
    "np.linspace?"
   ]
  },
  {
   "cell_type": "code",
   "execution_count": null,
   "metadata": {
    "collapsed": true
   },
   "outputs": [],
   "source": [
    "ax.set_ylim"
   ]
  }
 ],
 "metadata": {
  "kernelspec": {
   "display_name": "Python 3",
   "language": "python",
   "name": "python3"
  },
  "language_info": {
   "codemirror_mode": {
    "name": "ipython",
    "version": 3
   },
   "file_extension": ".py",
   "mimetype": "text/x-python",
   "name": "python",
   "nbconvert_exporter": "python",
   "pygments_lexer": "ipython3",
   "version": "3.6.1"
  },
  "latex_envs": {
   "LaTeX_envs_menu_present": true,
   "autocomplete": true,
   "bibliofile": "biblio.bib",
   "cite_by": "apalike",
   "current_citInitial": 1,
   "eqLabelWithNumbers": true,
   "eqNumInitial": 1,
   "hotkeys": {
    "equation": "Ctrl-E",
    "itemize": "Ctrl-I"
   },
   "labels_anchors": false,
   "latex_user_defs": false,
   "report_style_numbering": false,
   "user_envs_cfg": false
  },
  "toc": {
   "colors": {
    "hover_highlight": "#DAA520",
    "running_highlight": "#FF0000",
    "selected_highlight": "#FFD700"
   },
   "moveMenuLeft": true,
   "nav_menu": {
    "height": "12px",
    "width": "252px"
   },
   "navigate_menu": true,
   "number_sections": true,
   "sideBar": true,
   "threshold": 4,
   "toc_cell": false,
   "toc_section_display": "block",
   "toc_window_display": false,
   "widenNotebook": false
  }
 },
 "nbformat": 4,
 "nbformat_minor": 2
}
