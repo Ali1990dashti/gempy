{
 "cells": [
  {
   "cell_type": "markdown",
   "metadata": {},
   "source": [
    "# GeMpy"
   ]
  },
  {
   "cell_type": "code",
   "execution_count": 1,
   "metadata": {},
   "outputs": [],
   "source": [
    "import sys\n",
    "sys.path.append(\"../\")\n",
    "import gempy as gp\n",
    "\n",
    "%matplotlib inline\n",
    "import pymc\n",
    "import numpy as np\n",
    "import math"
   ]
  },
  {
   "cell_type": "code",
   "execution_count": 2,
   "metadata": {},
   "outputs": [],
   "source": [
    "geo_data = gp.read_pickle(\"../Tutorial/BasicFault.pickle\")\n",
    "geo_data.n_faults = 1"
   ]
  },
  {
   "cell_type": "code",
   "execution_count": 3,
   "metadata": {},
   "outputs": [
    {
     "data": {
      "text/html": [
       "<div>\n",
       "<style>\n",
       "    .dataframe thead tr:only-child th {\n",
       "        text-align: right;\n",
       "    }\n",
       "\n",
       "    .dataframe thead th {\n",
       "        text-align: left;\n",
       "    }\n",
       "\n",
       "    .dataframe tbody tr th {\n",
       "        vertical-align: top;\n",
       "    }\n",
       "</style>\n",
       "<table border=\"1\" class=\"dataframe\">\n",
       "  <thead>\n",
       "    <tr style=\"text-align: right;\">\n",
       "      <th></th>\n",
       "      <th>X</th>\n",
       "      <th>Y</th>\n",
       "      <th>Z</th>\n",
       "      <th>formation</th>\n",
       "      <th>series</th>\n",
       "      <th>order_series</th>\n",
       "      <th>isFault</th>\n",
       "    </tr>\n",
       "  </thead>\n",
       "  <tbody>\n",
       "    <tr>\n",
       "      <th>0</th>\n",
       "      <td>800.0</td>\n",
       "      <td>1000.0</td>\n",
       "      <td>-1600.0</td>\n",
       "      <td>MainFault</td>\n",
       "      <td>fault</td>\n",
       "      <td>1</td>\n",
       "      <td>True</td>\n",
       "    </tr>\n",
       "    <tr>\n",
       "      <th>1</th>\n",
       "      <td>1200.0</td>\n",
       "      <td>1000.0</td>\n",
       "      <td>-400.0</td>\n",
       "      <td>MainFault</td>\n",
       "      <td>fault</td>\n",
       "      <td>1</td>\n",
       "      <td>True</td>\n",
       "    </tr>\n",
       "    <tr>\n",
       "      <th>2</th>\n",
       "      <td>1100.0</td>\n",
       "      <td>1000.0</td>\n",
       "      <td>-700.0</td>\n",
       "      <td>MainFault</td>\n",
       "      <td>fault</td>\n",
       "      <td>1</td>\n",
       "      <td>True</td>\n",
       "    </tr>\n",
       "    <tr>\n",
       "      <th>3</th>\n",
       "      <td>900.0</td>\n",
       "      <td>1000.0</td>\n",
       "      <td>-1300.0</td>\n",
       "      <td>MainFault</td>\n",
       "      <td>fault</td>\n",
       "      <td>1</td>\n",
       "      <td>True</td>\n",
       "    </tr>\n",
       "    <tr>\n",
       "      <th>4</th>\n",
       "      <td>1000.0</td>\n",
       "      <td>1000.0</td>\n",
       "      <td>-1000.0</td>\n",
       "      <td>MainFault</td>\n",
       "      <td>fault</td>\n",
       "      <td>1</td>\n",
       "      <td>True</td>\n",
       "    </tr>\n",
       "  </tbody>\n",
       "</table>\n",
       "</div>"
      ],
      "text/plain": [
       "        X       Y       Z  formation series  order_series  isFault\n",
       "0   800.0  1000.0 -1600.0  MainFault  fault             1     True\n",
       "1  1200.0  1000.0  -400.0  MainFault  fault             1     True\n",
       "2  1100.0  1000.0  -700.0  MainFault  fault             1     True\n",
       "3   900.0  1000.0 -1300.0  MainFault  fault             1     True\n",
       "4  1000.0  1000.0 -1000.0  MainFault  fault             1     True"
      ]
     },
     "execution_count": 3,
     "metadata": {},
     "output_type": "execute_result"
    }
   ],
   "source": [
    "geo_data.interfaces.head()"
   ]
  },
  {
   "cell_type": "code",
   "execution_count": 4,
   "metadata": {},
   "outputs": [
    {
     "data": {
      "text/plain": [
       "<gempy.Visualization.PlotData at 0x7f9a862fbd68>"
      ]
     },
     "execution_count": 4,
     "metadata": {},
     "output_type": "execute_result"
    },
    {
     "data": {
      "image/png": "[encoded data removed]",
      "text/plain": [
       "<matplotlib.figure.Figure at 0x7f9a8629e358>"
      ]
     },
     "metadata": {},
     "output_type": "display_data"
    }
   ],
   "source": [
    "geo_data.geo_data_type = 'whatever'\n",
    "gp.plot_data(geo_data, direction='y')"
   ]
  },
  {
   "cell_type": "code",
   "execution_count": 5,
   "metadata": {},
   "outputs": [],
   "source": [
    "# stdev for x,y,z interface coordinates\n",
    "geo_data.interfaces['X_std'] = None\n",
    "geo_data.interfaces['Y_std'] = None\n",
    "geo_data.interfaces['Z_std'] = 100\n",
    "geo_data.interfaces['dist_type'] = \"Normal\" # should be initially None\n",
    "geo_data.interfaces['X_dist'] = None\n",
    "geo_data.interfaces['Y_dist'] = None\n",
    "geo_data.interfaces['Z_dist'] = None\n",
    "\n",
    "#geo_data.foliations['X_std'] = None\n",
    "#geo_data.foliations['Y_std'] = 0\n",
    "#geo_data.foliations['Z_std'] = 0"
   ]
  },
  {
   "cell_type": "code",
   "execution_count": 6,
   "metadata": {},
   "outputs": [],
   "source": [
    "geo_data.interfaces[\"Z_std\"] = 500"
   ]
  },
  {
   "cell_type": "code",
   "execution_count": 7,
   "metadata": {},
   "outputs": [
    {
     "data": {
      "text/html": [
       "<div>\n",
       "<style>\n",
       "    .dataframe thead tr:only-child th {\n",
       "        text-align: right;\n",
       "    }\n",
       "\n",
       "    .dataframe thead th {\n",
       "        text-align: left;\n",
       "    }\n",
       "\n",
       "    .dataframe tbody tr th {\n",
       "        vertical-align: top;\n",
       "    }\n",
       "</style>\n",
       "<table border=\"1\" class=\"dataframe\">\n",
       "  <thead>\n",
       "    <tr style=\"text-align: right;\">\n",
       "      <th></th>\n",
       "      <th>X</th>\n",
       "      <th>Y</th>\n",
       "      <th>Z</th>\n",
       "      <th>formation</th>\n",
       "      <th>series</th>\n",
       "      <th>order_series</th>\n",
       "      <th>isFault</th>\n",
       "      <th>X_std</th>\n",
       "      <th>Y_std</th>\n",
       "      <th>Z_std</th>\n",
       "      <th>dist_type</th>\n",
       "      <th>X_dist</th>\n",
       "      <th>Y_dist</th>\n",
       "      <th>Z_dist</th>\n",
       "    </tr>\n",
       "  </thead>\n",
       "  <tbody>\n",
       "    <tr>\n",
       "      <th>0</th>\n",
       "      <td>800.0</td>\n",
       "      <td>1000.0</td>\n",
       "      <td>-1600.0</td>\n",
       "      <td>MainFault</td>\n",
       "      <td>fault</td>\n",
       "      <td>1</td>\n",
       "      <td>True</td>\n",
       "      <td>None</td>\n",
       "      <td>None</td>\n",
       "      <td>500</td>\n",
       "      <td>Normal</td>\n",
       "      <td>None</td>\n",
       "      <td>None</td>\n",
       "      <td>None</td>\n",
       "    </tr>\n",
       "    <tr>\n",
       "      <th>1</th>\n",
       "      <td>1200.0</td>\n",
       "      <td>1000.0</td>\n",
       "      <td>-400.0</td>\n",
       "      <td>MainFault</td>\n",
       "      <td>fault</td>\n",
       "      <td>1</td>\n",
       "      <td>True</td>\n",
       "      <td>None</td>\n",
       "      <td>None</td>\n",
       "      <td>500</td>\n",
       "      <td>Normal</td>\n",
       "      <td>None</td>\n",
       "      <td>None</td>\n",
       "      <td>None</td>\n",
       "    </tr>\n",
       "    <tr>\n",
       "      <th>2</th>\n",
       "      <td>1100.0</td>\n",
       "      <td>1000.0</td>\n",
       "      <td>-700.0</td>\n",
       "      <td>MainFault</td>\n",
       "      <td>fault</td>\n",
       "      <td>1</td>\n",
       "      <td>True</td>\n",
       "      <td>None</td>\n",
       "      <td>None</td>\n",
       "      <td>500</td>\n",
       "      <td>Normal</td>\n",
       "      <td>None</td>\n",
       "      <td>None</td>\n",
       "      <td>None</td>\n",
       "    </tr>\n",
       "    <tr>\n",
       "      <th>3</th>\n",
       "      <td>900.0</td>\n",
       "      <td>1000.0</td>\n",
       "      <td>-1300.0</td>\n",
       "      <td>MainFault</td>\n",
       "      <td>fault</td>\n",
       "      <td>1</td>\n",
       "      <td>True</td>\n",
       "      <td>None</td>\n",
       "      <td>None</td>\n",
       "      <td>500</td>\n",
       "      <td>Normal</td>\n",
       "      <td>None</td>\n",
       "      <td>None</td>\n",
       "      <td>None</td>\n",
       "    </tr>\n",
       "    <tr>\n",
       "      <th>4</th>\n",
       "      <td>1000.0</td>\n",
       "      <td>1000.0</td>\n",
       "      <td>-1000.0</td>\n",
       "      <td>MainFault</td>\n",
       "      <td>fault</td>\n",
       "      <td>1</td>\n",
       "      <td>True</td>\n",
       "      <td>None</td>\n",
       "      <td>None</td>\n",
       "      <td>500</td>\n",
       "      <td>Normal</td>\n",
       "      <td>None</td>\n",
       "      <td>None</td>\n",
       "      <td>None</td>\n",
       "    </tr>\n",
       "  </tbody>\n",
       "</table>\n",
       "</div>"
      ],
      "text/plain": [
       "        X       Y       Z  formation series  order_series  isFault X_std  \\\n",
       "0   800.0  1000.0 -1600.0  MainFault  fault             1     True  None   \n",
       "1  1200.0  1000.0  -400.0  MainFault  fault             1     True  None   \n",
       "2  1100.0  1000.0  -700.0  MainFault  fault             1     True  None   \n",
       "3   900.0  1000.0 -1300.0  MainFault  fault             1     True  None   \n",
       "4  1000.0  1000.0 -1000.0  MainFault  fault             1     True  None   \n",
       "\n",
       "  Y_std  Z_std dist_type X_dist Y_dist Z_dist  \n",
       "0  None    500    Normal   None   None   None  \n",
       "1  None    500    Normal   None   None   None  \n",
       "2  None    500    Normal   None   None   None  \n",
       "3  None    500    Normal   None   None   None  \n",
       "4  None    500    Normal   None   None   None  "
      ]
     },
     "execution_count": 7,
     "metadata": {},
     "output_type": "execute_result"
    }
   ],
   "source": [
    "geo_data.interfaces.head()"
   ]
  },
  {
   "cell_type": "code",
   "execution_count": 8,
   "metadata": {},
   "outputs": [
    {
     "name": "stdout",
     "output_type": "stream",
     "text": [
      "float32\n",
      "[2, 2]\n"
     ]
    }
   ],
   "source": [
    "interp_data = gp.InterpolatorInput(geo_data, \n",
    "                                   u_grade = [3, 3],\n",
    "                                   compile_theano=True)"
   ]
  },
  {
   "cell_type": "code",
   "execution_count": 36,
   "metadata": {},
   "outputs": [
    {
     "name": "stdout",
     "output_type": "stream",
     "text": [
      "a\n"
     ]
    }
   ],
   "source": [
    "if not getattr(interp_data, 'th_af', None):\n",
    "    print('a')"
   ]
  },
  {
   "cell_type": "code",
   "execution_count": 39,
   "metadata": {},
   "outputs": [],
   "source": [
    "assert  getattr(interp_data, 'th_fn', None)"
   ]
  },
  {
   "cell_type": "code",
   "execution_count": 10,
   "metadata": {},
   "outputs": [
    {
     "name": "stdout",
     "output_type": "stream",
     "text": [
      "[3, 3]\n"
     ]
    }
   ],
   "source": [
    "sol = gp.compute_model(interp_data)"
   ]
  },
  {
   "cell_type": "code",
   "execution_count": 40,
   "metadata": {},
   "outputs": [
    {
     "data": {
      "text/plain": [
       "array([[-0.55960631,  0.        ,  0.        ,  0.        ,  0.        ],\n",
       "       [ 0.        ,  0.30103534,  0.4372398 ,  0.41478172,  0.22077549]], dtype=float32)"
      ]
     },
     "execution_count": 40,
     "metadata": {},
     "output_type": "execute_result"
    }
   ],
   "source": [
    "interp_data.potential_at_interfaces"
   ]
  },
  {
   "cell_type": "markdown",
   "metadata": {},
   "source": [
    "adding dataframe columns for uncertainty analysis"
   ]
  },
  {
   "cell_type": "markdown",
   "metadata": {},
   "source": [
    "### Create pymc.Distribution objects for each stochastic value and put into df"
   ]
  },
  {
   "cell_type": "code",
   "execution_count": 11,
   "metadata": {},
   "outputs": [],
   "source": [
    "Z_rest = pymc.Normal('Z_unc_rest',  interp_data.interpolator.pandas_rest_layer_points['Z'].as_matrix().astype('float32'),\n",
    "           1./interp_data.interpolator.pandas_rest_layer_points['Z_std'].as_matrix().astype('float32'))\n",
    "\n",
    "Z_ref = pymc.Normal('Z_unc_ref',  interp_data.interpolator.pandas_ref_layer_points['Z'].as_matrix().astype('float32'),\n",
    "           1./interp_data.interpolator.pandas_ref_layer_points['Z_std'].as_matrix().astype('float32'))\n"
   ]
  },
  {
   "cell_type": "markdown",
   "metadata": {},
   "source": [
    "### Create pymc.Model"
   ]
  },
  {
   "cell_type": "code",
   "execution_count": 14,
   "metadata": {},
   "outputs": [
    {
     "name": "stdout",
     "output_type": "stream",
     "text": [
      "[3, 3]\n",
      "[ 0.  0.  0. ...,  0.  0.  0.]\n"
     ]
    }
   ],
   "source": [
    "\n",
    "i = interp_data.get_input_data()\n",
    "\n",
    "@pymc.deterministic\n",
    "def gempy_model(value=0, input_ =  i, Z_rest_m = Z_rest, Z_ref_m = Z_ref):\n",
    "          #xp = X_priors, yp = Y_priors, zp = Z_priors, ref = data_ref):\n",
    "    \n",
    "\n",
    "    Z_ref_m_rep = np.apply_over_axes(lambda x,y:\n",
    "                    np.repeat(x, interp_data.interpolator.len_interfaces - 1),\n",
    "                    Z_ref_m, axes = [0])\n",
    "   \n",
    "    input_[4][:, 2] = Z_ref_m_rep\n",
    "    input_[5][:, 2] = Z_rest_m\n",
    "    \n",
    "    sol, pot = interp_data.th_fn(*input_)\n",
    "    print(sol[0,0,:])\n",
    "    # return solution\n",
    "    return sol"
   ]
  },
  {
   "cell_type": "code",
   "execution_count": 15,
   "metadata": {},
   "outputs": [],
   "source": [
    "# set number of iterations\n",
    "iterations = 10"
   ]
  },
  {
   "cell_type": "code",
   "execution_count": 16,
   "metadata": {},
   "outputs": [],
   "source": [
    "\n",
    "# set model\n",
    "pymc_model = pymc.Model(Z_ref, Z_rest, gempy_model)"
   ]
  },
  {
   "cell_type": "markdown",
   "metadata": {},
   "source": [
    "### MCFS"
   ]
  },
  {
   "cell_type": "code",
   "execution_count": 17,
   "metadata": {},
   "outputs": [
    {
     "name": "stdout",
     "output_type": "stream",
     "text": [
      "[ 2.  2.  2. ...,  2.  2.  2.]\n",
      " [-------          20%                  ] 2 of 10 complete in 2.3 sec[ 0.  0.  0. ...,  2.  2.  2.]\n",
      " [-----------      30%                  ] 3 of 10 complete in 4.6 sec[ 2.  2.  2. ...,  4.  4.  4.]\n",
      " [---------------  40%                  ] 4 of 10 complete in 6.8 sec[ 2.  2.  2. ...,  5.  5.  5.]\n",
      " [-----------------50%                  ] 5 of 10 complete in 9.0 sec[ 2.  2.  2. ...,  2.  2.  2.]\n",
      " [-----------------60%--                ] 6 of 10 complete in 11.2 sec[ 2.  2.  2. ...,  0.  0.  0.]\n",
      " [-----------------70%------            ] 7 of 10 complete in 13.4 sec[ 3.  3.  3. ...,  3.  3.  3.]\n",
      " [-----------------80%----------        ] 8 of 10 complete in 15.6 sec[ 3.  3.  3. ...,  0.  0.  0.]\n",
      " [-----------------90%--------------    ] 9 of 10 complete in 17.8 sec[ 2.  2.  2. ...,  0.  0.  0.]\n",
      " [-----------------100%-----------------] 10 of 10 complete in 20.1 sec[ 2.  2.  2. ...,  5.  5.  5.]\n",
      " [------------------110%-------------------] 11 of 10 complete in 22.5 sec"
     ]
    }
   ],
   "source": [
    "MCFS_RUN = pymc.MCMC(pymc_model)\n",
    "MCFS_RUN.sample(iter=iterations)"
   ]
  },
  {
   "cell_type": "code",
   "execution_count": 19,
   "metadata": {},
   "outputs": [],
   "source": [
    "import matplotlib.pyplot as plt"
   ]
  },
  {
   "cell_type": "code",
   "execution_count": 21,
   "metadata": {},
   "outputs": [
    {
     "data": {
      "text/plain": [
       "<matplotlib.image.AxesImage at 0x7f9a70364780>"
      ]
     },
     "execution_count": 21,
     "metadata": {},
     "output_type": "execute_result"
    },
    {
     "data": {
      "image/png": "[encoded data removed]",
      "text/plain": [
       "<matplotlib.figure.Figure at 0x7f9a52220630>"
      ]
     },
     "metadata": {},
     "output_type": "display_data"
    }
   ],
   "source": [
    "plt.imshow(MCFS_RUN.trace(\"gempy_model\", chain=-1)[2][0, 0, :].reshape(50,50,50)[:,24,:].T, origin=\"lower\")"
   ]
  },
  {
   "cell_type": "code",
   "execution_count": null,
   "metadata": {},
   "outputs": [],
   "source": []
  }
 ],
 "metadata": {
  "kernelspec": {
   "display_name": "Python 3",
   "language": "python",
   "name": "python3"
  },
  "language_info": {
   "codemirror_mode": {
    "name": "ipython",
    "version": 3
   },
   "file_extension": ".py",
   "mimetype": "text/x-python",
   "name": "python",
   "nbconvert_exporter": "python",
   "pygments_lexer": "ipython3",
   "version": "3.6.1"
  },
  "latex_envs": {
   "LaTeX_envs_menu_present": true,
   "autocomplete": true,
   "bibliofile": "biblio.bib",
   "cite_by": "apalike",
   "current_citInitial": 1,
   "eqLabelWithNumbers": true,
   "eqNumInitial": 1,
   "hotkeys": {
    "equation": "Ctrl-E",
    "itemize": "Ctrl-I"
   },
   "labels_anchors": false,
   "latex_user_defs": false,
   "report_style_numbering": false,
   "user_envs_cfg": false
  },
  "toc": {
   "colors": {
    "hover_highlight": "#DAA520",
    "running_highlight": "#FF0000",
    "selected_highlight": "#FFD700"
   },
   "moveMenuLeft": true,
   "nav_menu": {
    "height": "99px",
    "width": "252px"
   },
   "navigate_menu": true,
   "number_sections": true,
   "sideBar": true,
   "threshold": 4,
   "toc_cell": false,
   "toc_section_display": "block",
   "toc_window_display": false,
   "widenNotebook": false
  }
 },
 "nbformat": 4,
 "nbformat_minor": 2
}
