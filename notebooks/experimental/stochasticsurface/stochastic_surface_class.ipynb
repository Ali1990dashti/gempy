{
 "cells": [
  {
   "cell_type": "code",
   "execution_count": 1,
   "metadata": {},
   "outputs": [
    {
     "name": "stderr",
     "output_type": "stream",
     "text": [
      "C:\\Users\\r02as18\\miniconda3\\envs\\gempy\\lib\\site-packages\\ipykernel\\parentpoller.py:116: UserWarning: Parent poll failed.  If the frontend dies,\n",
      "                the kernel may be left running.  Please let us know\n",
      "                about your system (bitness, Python, etc.) at\n",
      "                ipython-dev@scipy.org\n",
      "  ipython-dev@scipy.org\"\"\")\n",
      "WARNING (theano.tensor.blas): Using NumPy C-API based implementation for BLAS functions.\n"
     ]
    }
   ],
   "source": [
    "# These two lines are necessary only if GemPy is not installed\n",
    "import sys, os\n",
    "sys.path.append(\"../../..\")\n",
    "\n",
    "# Importing GemPy\n",
    "import gempy as gp\n",
    "\n",
    "# Embedding matplotlib figures in the notebooks\n",
    "%matplotlib inline\n",
    "\n",
    "# Importing auxiliary libraries\n",
    "import numpy as np\n",
    "import matplotlib.pyplot as plt"
   ]
  },
  {
   "cell_type": "code",
   "execution_count": 4,
   "metadata": {},
   "outputs": [],
   "source": [
    "from typing import Tuple\n",
    "import pandas as pd"
   ]
  },
  {
   "cell_type": "code",
   "execution_count": 5,
   "metadata": {},
   "outputs": [],
   "source": [
    "def generate(n_interfaces: int, seed=42) -> Tuple[pd.DataFrame, pd.DataFrame]:\n",
    "    surface_points = pd.DataFrame()\n",
    "    orientations = pd.DataFrame()\n",
    "    \n",
    "    for n in range(n_interfaces):\n",
    "        x = np.random.rand(15) * 3\n",
    "        y = np.random.rand(15)\n",
    "        \n",
    "        def func(x, y):\n",
    "            return np.sin(x) + np.cos(y)\n",
    "        \n",
    "        z = func(x, y) + n\n",
    "        \n",
    "        surfpts = pd.DataFrame({\"X\": x, \"Y\": y, \"Z\": z})\n",
    "        surfpts[\"formation\"] = \"Interface {}\".format(n + 1)\n",
    "        surface_points = surface_points.append(surfpts)\n",
    "        \n",
    "        orientpts = pd.DataFrame({\"X\": [np.mean(surfpts.X)], \"Y\": [np.mean(surfpts.Y)], \"Z\": [np.mean(surfpts.Z)], \"azimuth\": [90], \"dip\": [3], \"polarity\": [1], \"formation\": [\"Interface {}\".format(n + 1)]})\n",
    "        orientations = orientations.append(orientpts)\n",
    "    return surface_points, orientations\n",
    "    \n",
    "surface_points, orientations = generate(3, seed=41)"
   ]
  },
  {
   "cell_type": "code",
   "execution_count": 6,
   "metadata": {},
   "outputs": [],
   "source": [
    "surface_points.to_csv(\"surfpts.csv\", index=False)\n",
    "orientations.to_csv(\"orientpts.csv\", index=False)"
   ]
  },
  {
   "cell_type": "raw",
   "metadata": {},
   "source": [
    "np.random.seed(42)\n",
    "x = np.random.rand(30) * 3\n",
    "y = np.random.rand(30)\n",
    "\n",
    "def func(x, y):\n",
    "    return np.sin(x) + np.cos(y)\n",
    "\n",
    "z = func(x, y)\n",
    "\n",
    "\n",
    "\n",
    "surfpts = pd.DataFrame({\"X\": x, \"Y\": y, \"Z\": z})\n",
    "surfpts[\"formation\"] = \"Interface 1\"\n",
    "surfpts.to_csv(\"surfpts.csv\", index=False)\n",
    "\n",
    "orientpts = pd.DataFrame({\"X\": [1.5], \"Y\": [0.5], \"Z\": [1.7], \"azimuth\": [90], \"dip\": [3], \"polarity\": [1], \"formation\": [\"Interface 1\"]})\n",
    "orientpts.to_csv(\"orientpts.csv\", index=False)"
   ]
  },
  {
   "cell_type": "raw",
   "metadata": {},
   "source": [
    "import ipyvolume as ipv\n",
    "ipv.figure()\n",
    "\n",
    "ipv.scatter(x, y, z)\n",
    "ipv.show()"
   ]
  },
  {
   "cell_type": "code",
   "execution_count": 7,
   "metadata": {},
   "outputs": [
    {
     "data": {
      "text/plain": [
       "StochSurfTesting  2019-05-08 13:11"
      ]
     },
     "execution_count": 7,
     "metadata": {},
     "output_type": "execute_result"
    }
   ],
   "source": [
    "geo_model = gp.create_model('StochSurfTesting')\n",
    "gp.init_data(geo_model, [surface_points.min().X * 0.95, surface_points.max().X * 1.05,\n",
    "                         surface_points.min().Y * 0.95, surface_points.max().Y * 1.05,\n",
    "                         surface_points.min().Z * 0.2, surface_points.max().Z * 1.2],\n",
    "             [50,50,50], path_i=\"surfpts.csv\", path_o=\"orientpts.csv\")"
   ]
  },
  {
   "cell_type": "code",
   "execution_count": 8,
   "metadata": {},
   "outputs": [
    {
     "data": {
      "text/html": [
       "<style  type=\"text/css\" >\n",
       "    #T_7494f528_718a_11e9_ad81_d46d6d96cefdrow0_col4 {\n",
       "            background-color:  #015482;\n",
       "        }    #T_7494f528_718a_11e9_ad81_d46d6d96cefdrow1_col4 {\n",
       "            background-color:  #9f0052;\n",
       "        }    #T_7494f528_718a_11e9_ad81_d46d6d96cefdrow2_col4 {\n",
       "            background-color:  #ffbe00;\n",
       "        }    #T_7494f528_718a_11e9_ad81_d46d6d96cefdrow3_col4 {\n",
       "            background-color:  #728f02;\n",
       "        }</style><table id=\"T_7494f528_718a_11e9_ad81_d46d6d96cefd\" ><thead>    <tr>        <th class=\"blank level0\" ></th>        <th class=\"col_heading level0 col0\" >surface</th>        <th class=\"col_heading level0 col1\" >series</th>        <th class=\"col_heading level0 col2\" >order_surfaces</th>        <th class=\"col_heading level0 col3\" >isBasement</th>        <th class=\"col_heading level0 col4\" >color</th>        <th class=\"col_heading level0 col5\" >id</th>    </tr></thead><tbody>\n",
       "                <tr>\n",
       "                        <th id=\"T_7494f528_718a_11e9_ad81_d46d6d96cefdlevel0_row0\" class=\"row_heading level0 row0\" >0</th>\n",
       "                        <td id=\"T_7494f528_718a_11e9_ad81_d46d6d96cefdrow0_col0\" class=\"data row0 col0\" >Interface 1</td>\n",
       "                        <td id=\"T_7494f528_718a_11e9_ad81_d46d6d96cefdrow0_col1\" class=\"data row0 col1\" >Default series</td>\n",
       "                        <td id=\"T_7494f528_718a_11e9_ad81_d46d6d96cefdrow0_col2\" class=\"data row0 col2\" >1</td>\n",
       "                        <td id=\"T_7494f528_718a_11e9_ad81_d46d6d96cefdrow0_col3\" class=\"data row0 col3\" >False</td>\n",
       "                        <td id=\"T_7494f528_718a_11e9_ad81_d46d6d96cefdrow0_col4\" class=\"data row0 col4\" >#015482</td>\n",
       "                        <td id=\"T_7494f528_718a_11e9_ad81_d46d6d96cefdrow0_col5\" class=\"data row0 col5\" >1</td>\n",
       "            </tr>\n",
       "            <tr>\n",
       "                        <th id=\"T_7494f528_718a_11e9_ad81_d46d6d96cefdlevel0_row1\" class=\"row_heading level0 row1\" >1</th>\n",
       "                        <td id=\"T_7494f528_718a_11e9_ad81_d46d6d96cefdrow1_col0\" class=\"data row1 col0\" >Interface 2</td>\n",
       "                        <td id=\"T_7494f528_718a_11e9_ad81_d46d6d96cefdrow1_col1\" class=\"data row1 col1\" >Default series</td>\n",
       "                        <td id=\"T_7494f528_718a_11e9_ad81_d46d6d96cefdrow1_col2\" class=\"data row1 col2\" >2</td>\n",
       "                        <td id=\"T_7494f528_718a_11e9_ad81_d46d6d96cefdrow1_col3\" class=\"data row1 col3\" >False</td>\n",
       "                        <td id=\"T_7494f528_718a_11e9_ad81_d46d6d96cefdrow1_col4\" class=\"data row1 col4\" >#9f0052</td>\n",
       "                        <td id=\"T_7494f528_718a_11e9_ad81_d46d6d96cefdrow1_col5\" class=\"data row1 col5\" >2</td>\n",
       "            </tr>\n",
       "            <tr>\n",
       "                        <th id=\"T_7494f528_718a_11e9_ad81_d46d6d96cefdlevel0_row2\" class=\"row_heading level0 row2\" >2</th>\n",
       "                        <td id=\"T_7494f528_718a_11e9_ad81_d46d6d96cefdrow2_col0\" class=\"data row2 col0\" >Interface 3</td>\n",
       "                        <td id=\"T_7494f528_718a_11e9_ad81_d46d6d96cefdrow2_col1\" class=\"data row2 col1\" >Default series</td>\n",
       "                        <td id=\"T_7494f528_718a_11e9_ad81_d46d6d96cefdrow2_col2\" class=\"data row2 col2\" >3</td>\n",
       "                        <td id=\"T_7494f528_718a_11e9_ad81_d46d6d96cefdrow2_col3\" class=\"data row2 col3\" >False</td>\n",
       "                        <td id=\"T_7494f528_718a_11e9_ad81_d46d6d96cefdrow2_col4\" class=\"data row2 col4\" >#ffbe00</td>\n",
       "                        <td id=\"T_7494f528_718a_11e9_ad81_d46d6d96cefdrow2_col5\" class=\"data row2 col5\" >3</td>\n",
       "            </tr>\n",
       "            <tr>\n",
       "                        <th id=\"T_7494f528_718a_11e9_ad81_d46d6d96cefdlevel0_row3\" class=\"row_heading level0 row3\" >3</th>\n",
       "                        <td id=\"T_7494f528_718a_11e9_ad81_d46d6d96cefdrow3_col0\" class=\"data row3 col0\" >basement</td>\n",
       "                        <td id=\"T_7494f528_718a_11e9_ad81_d46d6d96cefdrow3_col1\" class=\"data row3 col1\" >Basement</td>\n",
       "                        <td id=\"T_7494f528_718a_11e9_ad81_d46d6d96cefdrow3_col2\" class=\"data row3 col2\" >1</td>\n",
       "                        <td id=\"T_7494f528_718a_11e9_ad81_d46d6d96cefdrow3_col3\" class=\"data row3 col3\" >True</td>\n",
       "                        <td id=\"T_7494f528_718a_11e9_ad81_d46d6d96cefdrow3_col4\" class=\"data row3 col4\" >#728f02</td>\n",
       "                        <td id=\"T_7494f528_718a_11e9_ad81_d46d6d96cefdrow3_col5\" class=\"data row3 col5\" >4</td>\n",
       "            </tr>\n",
       "    </tbody></table>"
      ],
      "text/plain": [
       "       surface          series  order_surfaces  isBasement    color vertices edges  id\n",
       "0  Interface 1  Default series               1       False  #015482      NaN   NaN   1\n",
       "1  Interface 2  Default series               2       False  #9f0052      NaN   NaN   2\n",
       "2  Interface 3  Default series               3       False  #ffbe00      NaN   NaN   3\n",
       "3     basement        Basement               1        True  #728f02      NaN   NaN   4"
      ]
     },
     "execution_count": 8,
     "metadata": {},
     "output_type": "execute_result"
    }
   ],
   "source": [
    "gp.map_series_to_surfaces(geo_model, \n",
    "                            {\"Default series\": [\"Interface {}\".format(n + 1) for n in range(3)]})"
   ]
  },
  {
   "cell_type": "code",
   "execution_count": 9,
   "metadata": {},
   "outputs": [
    {
     "data": {
      "text/plain": [
       "<gempy.plot.visualization_2d.PlotData2D at 0x17e848c3400>"
      ]
     },
     "execution_count": 9,
     "metadata": {},
     "output_type": "execute_result"
    },
    {
     "data": {
      "image/png": "[encoded data removed]",
      "text/plain": [
       "<Figure size 241.72x360 with 1 Axes>"
      ]
     },
     "metadata": {},
     "output_type": "display_data"
    }
   ],
   "source": [
    "gp.plot.plot_data(geo_model)"
   ]
  },
  {
   "cell_type": "code",
   "execution_count": 10,
   "metadata": {},
   "outputs": [
    {
     "name": "stdout",
     "output_type": "stream",
     "text": [
      "Compiling theano function...\n",
      "Compilation Done!\n"
     ]
    },
    {
     "data": {
      "text/plain": [
       "<gempy.core.interpolator.InterpolatorModel at 0x17e82bff278>"
      ]
     },
     "execution_count": 10,
     "metadata": {},
     "output_type": "execute_result"
    }
   ],
   "source": [
    "gp.set_interpolation_data(\n",
    "    geo_model, output='geology', compile_theano=True, theano_optimizer='fast_compile'\n",
    ")"
   ]
  },
  {
   "cell_type": "code",
   "execution_count": 11,
   "metadata": {},
   "outputs": [
    {
     "name": "stderr",
     "output_type": "stream",
     "text": [
      "../../..\\gempy\\core\\solution.py:233: UserWarning: Surfaces not computed due to: marching_cubes_lewiner() got an unexpected keyword argument 'mask'\n",
      "  warnings.warn('Surfaces not computed due to: ' + str(e))\n",
      "../../..\\gempy\\core\\solution.py:233: UserWarning: Surfaces not computed due to: marching_cubes_lewiner() got an unexpected keyword argument 'mask'\n",
      "  warnings.warn('Surfaces not computed due to: ' + str(e))\n",
      "../../..\\gempy\\core\\solution.py:233: UserWarning: Surfaces not computed due to: marching_cubes_lewiner() got an unexpected keyword argument 'mask'\n",
      "  warnings.warn('Surfaces not computed due to: ' + str(e))\n"
     ]
    }
   ],
   "source": [
    "sol = gp.compute_model(geo_model, compute_mesh=True)"
   ]
  },
  {
   "cell_type": "code",
   "execution_count": null,
   "metadata": {},
   "outputs": [],
   "source": [
    "gp.plot.plot_surfaces_3d_ipv(geo_model)"
   ]
  },
  {
   "cell_type": "code",
   "execution_count": 13,
   "metadata": {},
   "outputs": [],
   "source": [
    "from stochasticsurf import StochasticSurfaceScipy"
   ]
  },
  {
   "cell_type": "code",
   "execution_count": 14,
   "metadata": {},
   "outputs": [
    {
     "data": {
      "text/plain": [
       "['Interface 1', 'Interface 2', 'Interface 3']"
      ]
     },
     "execution_count": 14,
     "metadata": {},
     "output_type": "execute_result"
    }
   ],
   "source": [
    "surfaces = [\"Interface {}\".format(n + 1) for n in range(3)]\n",
    "surfaces"
   ]
  },
  {
   "cell_type": "code",
   "execution_count": 15,
   "metadata": {},
   "outputs": [],
   "source": [
    "stochastic_surfaces = []\n",
    "for surface in surfaces:\n",
    "    stochsurf = StochasticSurfaceScipy(geo_model, surface)  # create stochastic surf obj\n",
    "    stochastic_surfaces.append(stochsurf)  "
   ]
  },
  {
   "cell_type": "code",
   "execution_count": 16,
   "metadata": {},
   "outputs": [],
   "source": [
    "for stochsurf in stochastic_surfaces:\n",
    "    stochsurf.parametrize_surfpts_naive(factor=0.01, direction=\"Z\")"
   ]
  },
  {
   "cell_type": "raw",
   "metadata": {},
   "source": [
    "for stochsurf in stochastic_surfaces:\n",
    "    stochsurf.modify_surface_points()\n",
    "#     stochsurf"
   ]
  },
  {
   "cell_type": "code",
   "execution_count": 17,
   "metadata": {},
   "outputs": [],
   "source": [
    "StochasticSurfaceScipy.modify_surface_points_all()"
   ]
  },
  {
   "cell_type": "raw",
   "metadata": {},
   "source": [
    "for stochsurf in stochastic_surfaces:\n",
    "    stochsurf.reset()"
   ]
  },
  {
   "cell_type": "code",
   "execution_count": 24,
   "metadata": {},
   "outputs": [
    {
     "data": {
      "text/plain": [
       "<gempy.plot.visualization_2d.PlotData2D at 0x17e897cda58>"
      ]
     },
     "execution_count": 24,
     "metadata": {},
     "output_type": "execute_result"
    },
    {
     "data": {
      "image/png": "[encoded data removed]",
      "text/plain": [
       "<Figure size 748.8x514.8 with 1 Axes>"
      ]
     },
     "metadata": {},
     "output_type": "display_data"
    }
   ],
   "source": [
    "gp.plot.plot_section(geo_model, 24)"
   ]
  },
  {
   "cell_type": "code",
   "execution_count": 27,
   "metadata": {},
   "outputs": [
    {
     "name": "stderr",
     "output_type": "stream",
     "text": [
      "../../..\\gempy\\core\\solution.py:233: UserWarning: Surfaces not computed due to: marching_cubes_lewiner() got an unexpected keyword argument 'mask'\n",
      "  warnings.warn('Surfaces not computed due to: ' + str(e))\n",
      "../../..\\gempy\\core\\solution.py:233: UserWarning: Surfaces not computed due to: marching_cubes_lewiner() got an unexpected keyword argument 'mask'\n",
      "  warnings.warn('Surfaces not computed due to: ' + str(e))\n",
      "../../..\\gempy\\core\\solution.py:233: UserWarning: Surfaces not computed due to: marching_cubes_lewiner() got an unexpected keyword argument 'mask'\n",
      "  warnings.warn('Surfaces not computed due to: ' + str(e))\n"
     ]
    },
    {
     "ename": "TypeError",
     "evalue": "'float' object is not subscriptable",
     "output_type": "error",
     "traceback": [
      "\u001b[1;31m---------------------------------------------------------------------------\u001b[0m",
      "\u001b[1;31mTypeError\u001b[0m                                 Traceback (most recent call last)",
      "\u001b[1;32m<ipython-input-27-de29c9352f32>\u001b[0m in \u001b[0;36m<module>\u001b[1;34m\u001b[0m\n\u001b[0;32m      1\u001b[0m \u001b[0msol\u001b[0m \u001b[1;33m=\u001b[0m \u001b[0mgp\u001b[0m\u001b[1;33m.\u001b[0m\u001b[0mcompute_model\u001b[0m\u001b[1;33m(\u001b[0m\u001b[0mgeo_model\u001b[0m\u001b[1;33m,\u001b[0m \u001b[0mcompute_mesh\u001b[0m\u001b[1;33m=\u001b[0m\u001b[1;32mTrue\u001b[0m\u001b[1;33m)\u001b[0m\u001b[1;33m\u001b[0m\u001b[1;33m\u001b[0m\u001b[0m\n\u001b[1;32m----> 2\u001b[1;33m \u001b[0mgp\u001b[0m\u001b[1;33m.\u001b[0m\u001b[0mplot\u001b[0m\u001b[1;33m.\u001b[0m\u001b[0mplot_surfaces_3d_ipv\u001b[0m\u001b[1;33m(\u001b[0m\u001b[0mgeo_model\u001b[0m\u001b[1;33m)\u001b[0m\u001b[1;33m\u001b[0m\u001b[1;33m\u001b[0m\u001b[0m\n\u001b[0m",
      "\u001b[1;32m~\\git\\gempy\\gempy\\plot\\plot.py\u001b[0m in \u001b[0;36mplot_surfaces_3d_ipv\u001b[1;34m(geo_model)\u001b[0m\n\u001b[0;32m    139\u001b[0m     \"\"\"\n\u001b[0;32m    140\u001b[0m     \u001b[0mipvv\u001b[0m \u001b[1;33m=\u001b[0m \u001b[0mipyvolumeVisualization\u001b[0m\u001b[1;33m(\u001b[0m\u001b[0mgeo_model\u001b[0m\u001b[1;33m)\u001b[0m\u001b[1;33m\u001b[0m\u001b[1;33m\u001b[0m\u001b[0m\n\u001b[1;32m--> 141\u001b[1;33m     \u001b[0mipvv\u001b[0m\u001b[1;33m.\u001b[0m\u001b[0mplot_surfaces\u001b[0m\u001b[1;33m(\u001b[0m\u001b[1;33m)\u001b[0m\u001b[1;33m\u001b[0m\u001b[1;33m\u001b[0m\u001b[0m\n\u001b[0m\u001b[0;32m    142\u001b[0m \u001b[1;33m\u001b[0m\u001b[0m\n\u001b[0;32m    143\u001b[0m \u001b[1;33m\u001b[0m\u001b[0m\n",
      "\u001b[1;32m~\\git\\gempy\\gempy\\plot\\visualization_3d.py\u001b[0m in \u001b[0;36mplot_surfaces\u001b[1;34m(self)\u001b[0m\n\u001b[0;32m   1424\u001b[0m             \u001b[0mtriangles\u001b[0m \u001b[1;33m=\u001b[0m \u001b[0mself\u001b[0m\u001b[1;33m.\u001b[0m\u001b[0msim\u001b[0m\u001b[1;33m[\u001b[0m\u001b[0msurf\u001b[0m\u001b[1;33m]\u001b[0m\u001b[1;33m\u001b[0m\u001b[1;33m\u001b[0m\u001b[0m\n\u001b[0;32m   1425\u001b[0m             mesh = ipv.plot_trisurf(\n\u001b[1;32m-> 1426\u001b[1;33m                 \u001b[0mpoints\u001b[0m\u001b[1;33m[\u001b[0m\u001b[1;33m:\u001b[0m\u001b[1;33m,\u001b[0m \u001b[1;36m0\u001b[0m\u001b[1;33m]\u001b[0m\u001b[1;33m,\u001b[0m\u001b[1;33m\u001b[0m\u001b[1;33m\u001b[0m\u001b[0m\n\u001b[0m\u001b[0;32m   1427\u001b[0m                 \u001b[0mpoints\u001b[0m\u001b[1;33m[\u001b[0m\u001b[1;33m:\u001b[0m\u001b[1;33m,\u001b[0m \u001b[1;36m1\u001b[0m\u001b[1;33m]\u001b[0m\u001b[1;33m,\u001b[0m\u001b[1;33m\u001b[0m\u001b[1;33m\u001b[0m\u001b[0m\n\u001b[0;32m   1428\u001b[0m                 \u001b[0mpoints\u001b[0m\u001b[1;33m[\u001b[0m\u001b[1;33m:\u001b[0m\u001b[1;33m,\u001b[0m \u001b[1;36m2\u001b[0m\u001b[1;33m]\u001b[0m\u001b[1;33m,\u001b[0m\u001b[1;33m\u001b[0m\u001b[1;33m\u001b[0m\u001b[0m\n",
      "\u001b[1;31mTypeError\u001b[0m: 'float' object is not subscriptable"
     ]
    }
   ],
   "source": [
    "sol = gp.compute_model(geo_model, compute_mesh=True)\n",
    "gp.plot.plot_surfaces_3d_ipv(geo_model)"
   ]
  },
  {
   "cell_type": "code",
   "execution_count": 28,
   "metadata": {},
   "outputs": [
    {
     "name": "stdout",
     "output_type": "stream",
     "text": [
      "> \u001b[1;32mc:\\users\\r02as18\\miniconda3\\envs\\gempy\\lib\\site-packages\\ipywidgets\\widgets\\widget.py\u001b[0m(662)\u001b[0;36m_handle_msg\u001b[1;34m()\u001b[0m\n",
      "\u001b[1;32m    660 \u001b[1;33m        \u001b[1;34m\"\"\"Called when a msg is received from the front-end\"\"\"\u001b[0m\u001b[1;33m\u001b[0m\u001b[1;33m\u001b[0m\u001b[0m\n",
      "\u001b[0m\u001b[1;32m    661 \u001b[1;33m        \u001b[0mdata\u001b[0m \u001b[1;33m=\u001b[0m \u001b[0mmsg\u001b[0m\u001b[1;33m[\u001b[0m\u001b[1;34m'content'\u001b[0m\u001b[1;33m]\u001b[0m\u001b[1;33m[\u001b[0m\u001b[1;34m'data'\u001b[0m\u001b[1;33m]\u001b[0m\u001b[1;33m\u001b[0m\u001b[1;33m\u001b[0m\u001b[0m\n",
      "\u001b[0m\u001b[1;32m--> 662 \u001b[1;33m        \u001b[0mmethod\u001b[0m \u001b[1;33m=\u001b[0m \u001b[0mdata\u001b[0m\u001b[1;33m[\u001b[0m\u001b[1;34m'method'\u001b[0m\u001b[1;33m]\u001b[0m\u001b[1;33m\u001b[0m\u001b[1;33m\u001b[0m\u001b[0m\n",
      "\u001b[0m\u001b[1;32m    663 \u001b[1;33m\u001b[1;33m\u001b[0m\u001b[0m\n",
      "\u001b[0m\u001b[1;32m    664 \u001b[1;33m        \u001b[1;32mif\u001b[0m \u001b[0mmethod\u001b[0m \u001b[1;33m==\u001b[0m \u001b[1;34m'update'\u001b[0m\u001b[1;33m:\u001b[0m\u001b[1;33m\u001b[0m\u001b[1;33m\u001b[0m\u001b[0m\n",
      "\u001b[0m\n"
     ]
    },
    {
     "name": "stdin",
     "output_type": "stream",
     "text": [
      "ipdb>  up\n"
     ]
    },
    {
     "name": "stdout",
     "output_type": "stream",
     "text": [
      "*** Oldest frame\n"
     ]
    },
    {
     "name": "stdin",
     "output_type": "stream",
     "text": [
      "ipdb>  exit\n"
     ]
    }
   ],
   "source": [
    "debug"
   ]
  },
  {
   "cell_type": "code",
   "execution_count": null,
   "metadata": {},
   "outputs": [],
   "source": []
  },
  {
   "cell_type": "code",
   "execution_count": null,
   "metadata": {},
   "outputs": [],
   "source": []
  }
 ],
 "metadata": {
  "kernelspec": {
   "display_name": "Python [conda env:gempy]",
   "language": "python",
   "name": "conda-env-gempy-py"
  },
  "language_info": {
   "codemirror_mode": {
    "name": "ipython",
    "version": 3
   },
   "file_extension": ".py",
   "mimetype": "text/x-python",
   "name": "python",
   "nbconvert_exporter": "python",
   "pygments_lexer": "ipython3",
   "version": "3.7.2"
  }
 },
 "nbformat": 4,
 "nbformat_minor": 2
}
