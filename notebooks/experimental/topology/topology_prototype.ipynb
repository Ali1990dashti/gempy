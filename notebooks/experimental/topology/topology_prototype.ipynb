{
 "cells": [
  {
   "cell_type": "code",
   "execution_count": 1,
   "metadata": {},
   "outputs": [
    {
     "name": "stderr",
     "output_type": "stream",
     "text": [
      "WARNING (theano.tensor.blas): Using NumPy C-API based implementation for BLAS functions.\n"
     ]
    }
   ],
   "source": [
    "import sys, os\n",
    "# os.environ[\"THEANO_FLAGS\"] = \"device=cuda\"  # use gpu\n",
    "sys.path.append(\"../../../\")\n",
    "import gempy as gp\n",
    "import numpy as np\n",
    "import matplotlib.pyplot as plt\n",
    "%matplotlib inline\n",
    "import warnings\n",
    "warnings.filterwarnings(\"ignore\")\n",
    "import logging\n",
    "from importlib import reload\n",
    "from copy import copy"
   ]
  },
  {
   "cell_type": "code",
   "execution_count": 2,
   "metadata": {},
   "outputs": [
    {
     "name": "stdout",
     "output_type": "stream",
     "text": [
      "Active grids: ['regular']\n",
      "Compiling theano function...\n",
      "Level of Optimization:  fast_compile\n",
      "Device:  cpu\n",
      "Precision:  float64\n",
      "Number of faults:  2\n",
      "Compilation Done!\n"
     ]
    },
    {
     "data": {
      "text/plain": [
       "<gempy.plot.visualization_2d.PlotSolution at 0x12822939160>"
      ]
     },
     "execution_count": 2,
     "metadata": {},
     "output_type": "execute_result"
    },
    {
     "data": {
      "image/png": "[encoded data removed]",
      "text/plain": [
       "<Figure size 432x288 with 1 Axes>"
      ]
     },
     "metadata": {
      "needs_background": "light"
     },
     "output_type": "display_data"
    }
   ],
   "source": [
    "geo_model = gp.load_model(\n",
    "    'Tutorial_ch1-9b_Fault_relations', \n",
    "    path= '../../data/gempy_models', \n",
    "    recompile=True\n",
    ")\n",
    "gp.compute_model(geo_model)\n",
    "gp.plot.plot_section(geo_model, show_data=True)"
   ]
  },
  {
   "cell_type": "code",
   "execution_count": 3,
   "metadata": {},
   "outputs": [],
   "source": [
    "logging.basicConfig(level=logging.DEBUG, format='%(message)s')\n",
    "logger = logging.getLogger()\n",
    "logger.setLevel(logging.DEBUG)"
   ]
  },
  {
   "cell_type": "markdown",
   "metadata": {},
   "source": [
    "# NUMPY TOPOLOGY"
   ]
  },
  {
   "cell_type": "code",
   "execution_count": 4,
   "metadata": {},
   "outputs": [],
   "source": [
    "import topology_numpy as tpn"
   ]
  },
  {
   "cell_type": "code",
   "execution_count": 5,
   "metadata": {},
   "outputs": [
    {
     "name": "stderr",
     "output_type": "stream",
     "text": [
      "fb shp: (2, 125000); fb unique: [0 1 2 3]\n",
      "fb 0: [0 1]\n",
      "fb 1: [2 3]\n",
      "lb shp: (125000,); lb unique: [3 4 5 6 7]\n",
      "lb shift unique: [4 5 6 7 8]\n",
      "labels shp: (3, 125000)\n",
      "\n",
      "unique labels:\n",
      "000000001 <-> 1\n",
      "000000010 <-> 2\n",
      "000000100 <-> 4\n",
      "000001000 <-> 8\n",
      "000010000 <-> 16\n",
      "000100000 <-> 32\n",
      "001000000 <-> 64\n",
      "010000000 <-> 128\n",
      "100000000 <-> 256\n",
      "\n",
      "summed labels:\n",
      "sum unique: [ 21  25  26  37  41  42  69  73  74 133 137 138 261 265 266]\n",
      "000010101 <-> 21\n",
      "000011001 <-> 25\n",
      "000011010 <-> 26\n",
      "000100101 <-> 37\n",
      "000101001 <-> 41\n",
      "000101010 <-> 42\n",
      "001000101 <-> 69\n",
      "001001001 <-> 73\n",
      "001001010 <-> 74\n",
      "010000101 <-> 133\n",
      "010001001 <-> 137\n",
      "010001010 <-> 138\n",
      "100000101 <-> 261\n",
      "100001001 <-> 265\n",
      "100001010 <-> 266\n",
      "sum_x shp: (49, 50, 50)\n",
      "sum_y shp: (50, 49, 50)\n",
      "sum_z shp: (50, 50, 49)\n",
      "slx slice(0, -1, None); sly slice(0, -1, None); slz slice(0, -1, None)\n",
      "(3, 49, 49, 49)\n",
      "21: [20.74193548 24.5        36.96296296]\n",
      "25: [ 4.06751323 24.29322751 31.14814815]\n",
      "26: [42.  24.5 34.5]\n",
      "37: [20.83333333 24.5        17.06666667]\n",
      "41: [ 6.84       25.58555556 20.77777778]\n",
      "42: [38.828125 24.5      21.984375]\n",
      "69: [20.73333333 24.5        14.53333333]\n",
      "73: [ 7.19565217 24.09661836 18.11111111]\n",
      "74: [38.24444444 24.5        19.48888889]\n",
      "133: [20.66666667 24.5        12.13333333]\n",
      "137: [ 8.05808081 24.92171717 15.71212121]\n",
      "138: [37.66197183 24.5        16.98591549]\n",
      "261: [20.83333333 24.5         9.33333333]\n",
      "265: [ 9.23024055 24.5         7.        ]\n",
      "266: [35.15789474 24.5         7.13157895]\n"
     ]
    }
   ],
   "source": [
    "# get the lb, fb from block matrix\n",
    "lb, fb = tpn.lithblock_to_lb_fb(geo_model)\n",
    "# generate unique labels block from combination of lb and fb's\n",
    "labels = tpn.get_labels_block(lb, fb).reshape(50, 50, 50)\n",
    "# shift the blocks to get the \"topology block\"\n",
    "shift_blocks = tpn.get_topo_block(labels, n_shift=1)\n",
    "# remove non-edge sums\n",
    "shift_blocks[np.isin(shift_blocks, 2 * np.unique(labels))] = 0\n",
    "# extract edges from the shift block\n",
    "edges = tpn.get_edges(shift_blocks, labels, 1)\n",
    "# calculate centroids of geobodies\n",
    "centroids = tpn.get_centroids(labels)\n",
    "# ----------------------------------------------\n",
    "# --- theano end\n",
    "# ----------------------------------------------\n",
    "# create a LOT to go from sums to lith id's\n",
    "node_to_layer_LOT = tpn.get_lith_lot(labels, 2, 5)"
   ]
  },
  {
   "cell_type": "code",
   "execution_count": 356,
   "metadata": {},
   "outputs": [
    {
     "data": {
      "image/png": "[encoded data removed]",
      "text/plain": [
       "<Figure size 2160x360 with 9 Axes>"
      ]
     },
     "metadata": {
      "needs_background": "light"
     },
     "output_type": "display_data"
    }
   ],
   "source": [
    "reload(tpn)\n",
    "n_faults = 2\n",
    "n_liths = 5\n",
    "\n",
    "lb, fb = tpn.lithblock_to_lb_fb(geo_model)\n",
    "topology_labels = tpn.get_topology_labels(lb, fb, n_liths)\n",
    "\n",
    "fig, axs = plt.subplots(ncols=topology_labels.shape[0], figsize=(30, 5), sharey=True)\n",
    "\n",
    "for arr, ax in zip(topology_labels, axs):\n",
    "    ax.imshow(arr.reshape(50, 50, 50)[:, 24, :].T, origin=\"lower\")"
   ]
  },
  {
   "cell_type": "code",
   "execution_count": 358,
   "metadata": {},
   "outputs": [
    {
     "name": "stderr",
     "output_type": "stream",
     "text": [
      "x shift shp: (9, 49, 50, 50)\n",
      "y shift shp: (9, 50, 49, 50)\n",
      "z shift shp: (9, 50, 50, 49)\n"
     ]
    }
   ],
   "source": [
    "n_shift = 1\n",
    "res = (50, 50, 50)\n",
    "\n",
    "topology_block = topology_labels.reshape(n_faults * 2 + n_liths, *res)\n",
    "\n",
    "x = np.logical_or(\n",
    "    topology_block[:, n_shift:, :, :],\n",
    "    topology_block[:, :-n_shift, :, :]\n",
    ")\n",
    "logging.debug(f\"x shift shp: {x.shape}\")\n",
    "\n",
    "y = np.logical_or(\n",
    "    topology_block[:, :, n_shift:, :],\n",
    "    topology_block[:, :, :-n_shift, :]\n",
    ")\n",
    "logging.debug(f\"y shift shp: {y.shape}\")\n",
    "\n",
    "z = np.logical_or(\n",
    "    topology_block[:, :, :, n_shift:],\n",
    "    topology_block[:, :, :, :-n_shift]\n",
    ")\n",
    "logging.debug(f\"z shift shp: {z.shape}\")"
   ]
  },
  {
   "cell_type": "code",
   "execution_count": 359,
   "metadata": {},
   "outputs": [
    {
     "name": "stderr",
     "output_type": "stream",
     "text": [
      "xys shape: (3, 9, 122500)\n",
      "xyz bin shape: (3, 122500)\n"
     ]
    }
   ],
   "source": [
    "x_flat = x.reshape(n_faults * 2 + n_liths, 49*50*50).astype(int)\n",
    "y_flat = y.reshape(n_faults * 2 + n_liths, 50*49*50).astype(int)\n",
    "z_flat = z.reshape(n_faults * 2 + n_liths, 50*50*49).astype(int)\n",
    "xyz_flat = np.stack((x_flat, y_flat, z_flat))\n",
    "logging.debug(f\"xys shape: {xyz_flat.shape}\")\n",
    "xyz_bin = np.sum(xyz_flat * 2**np.arange(n_faults * 2 + n_liths)[None, ::-1].T, axis=1)\n",
    "logging.debug(f\"xyz bin shape: {xyz_bin.shape}\")"
   ]
  },
  {
   "cell_type": "code",
   "execution_count": 360,
   "metadata": {},
   "outputs": [],
   "source": [
    "xyz_uniq = np.unique(xyz_bin)"
   ]
  },
  {
   "cell_type": "code",
   "execution_count": 361,
   "metadata": {},
   "outputs": [
    {
     "data": {
      "text/plain": [
       "(3, 9, 122500)"
      ]
     },
     "execution_count": 361,
     "metadata": {},
     "output_type": "execute_result"
    }
   ],
   "source": [
    "xyz_flat.shape"
   ]
  },
  {
   "cell_type": "code",
   "execution_count": 362,
   "metadata": {},
   "outputs": [],
   "source": [
    "slice_fit = slice(None, None)\n",
    "    \n",
    "slicers = (\n",
    "    (\n",
    "        (slice(n_shift, None), slice_fit, slice_fit), \n",
    "        (slice(-n_shift), slice_fit, slice_fit)\n",
    "    ),\n",
    "    (\n",
    "        (slice_fit, slice(n_shift, None), slice_fit), \n",
    "        (slice_fit, slice(-n_shift), slice_fit)\n",
    "    ),\n",
    "    (\n",
    "        (slice_fit, slice_fit, slice(n_shift, None)), \n",
    "        (slice_fit, slice_fit, slice(-n_shift))\n",
    "    )\n",
    ")"
   ]
  },
  {
   "cell_type": "code",
   "execution_count": 366,
   "metadata": {},
   "outputs": [
    {
     "data": {
      "text/plain": [
       "{(10, 12),\n",
       " (10, 13),\n",
       " (10, 21),\n",
       " (10, 37),\n",
       " (12, 10),\n",
       " (13, 10),\n",
       " (13, 12),\n",
       " (18, 10),\n",
       " (18, 69),\n",
       " (20, 12),\n",
       " (20, 36),\n",
       " (21, 10),\n",
       " (21, 12),\n",
       " (21, 13),\n",
       " (34, 18),\n",
       " (34, 133),\n",
       " (36, 20),\n",
       " (37, 10),\n",
       " (37, 12),\n",
       " (37, 20),\n",
       " (37, 21),\n",
       " (66, 34),\n",
       " (66, 133),\n",
       " (68, 36),\n",
       " (68, 132),\n",
       " (69, 10),\n",
       " (69, 18),\n",
       " (69, 20),\n",
       " (69, 36),\n",
       " (69, 37),\n",
       " (130, 66),\n",
       " (130, 133),\n",
       " (132, 68),\n",
       " (133, 34),\n",
       " (133, 36),\n",
       " (133, 66),\n",
       " (133, 68),\n",
       " (133, 69),\n",
       " (133, 130),\n",
       " (133, 132)}"
      ]
     },
     "execution_count": 366,
     "metadata": {},
     "output_type": "execute_result"
    }
   ],
   "source": [
    "labels = np.packbits(topology_block, axis=0)[0]\n",
    "edges = set()\n",
    "\n",
    "for i, bin_, shp in zip(range(3), xyz_bin, [(49, 50, 50), (50, 49, 50), (50, 50, 49)]):\n",
    "    bin_ = bin_.reshape(*shp)\n",
    "    b1 = labels[slicers[i][0]]\n",
    "    b2 = labels[slicers[i][1]]\n",
    "    for edge_sum_bin in xyz_uniq:\n",
    "        if edge_sum_bin == 0:\n",
    "            continue\n",
    "#         logging.debug(f\"{np.binary_repr(edge_sum_bin).zfill(7)} <-> {edge_sum_bin}\")\n",
    "        filter_ = bin_ == edge_sum_bin\n",
    "        e1 = b1[filter_]\n",
    "        e2 = b2[filter_]\n",
    "        if len(e1) == 0 or len(e2) == 0:\n",
    "            continue\n",
    "        if e1[0] == e2[0]:\n",
    "            continue\n",
    "        \n",
    "        edges.add(\n",
    "            (e1[0],\n",
    "             e2[0])\n",
    "        )\n",
    "        \n",
    "edges"
   ]
  },
  {
   "cell_type": "code",
   "execution_count": 365,
   "metadata": {},
   "outputs": [
    {
     "name": "stderr",
     "output_type": "stream",
     "text": [
      "10: [35.15789474 24.5         7.13157895]\n",
      "12: [ 9.23024055 24.5         7.        ]\n",
      "13: [20.83333333 24.5         9.33333333]\n",
      "18: [37.66197183 24.5        16.98591549]\n",
      "20: [ 8.05808081 24.92171717 15.71212121]\n",
      "21: [20.66666667 24.5        12.13333333]\n",
      "34: [38.24444444 24.5        19.48888889]\n",
      "36: [ 7.19565217 24.09661836 18.11111111]\n",
      "37: [20.73333333 24.5        14.53333333]\n",
      "66: [38.828125 24.5      21.984375]\n",
      "68: [ 6.84       25.58555556 20.77777778]\n",
      "69: [20.83333333 24.5        17.06666667]\n",
      "130: [42.  24.5 34.5]\n",
      "132: [ 4.06751323 24.29322751 31.14814815]\n",
      "133: [20.74193548 24.5        36.96296296]\n"
     ]
    }
   ],
   "source": [
    "centroids = tpn.get_centroids(labels)"
   ]
  },
  {
   "cell_type": "code",
   "execution_count": null,
   "metadata": {},
   "outputs": [],
   "source": []
  },
  {
   "cell_type": "code",
   "execution_count": null,
   "metadata": {},
   "outputs": [],
   "source": []
  },
  {
   "cell_type": "code",
   "execution_count": null,
   "metadata": {},
   "outputs": [],
   "source": []
  },
  {
   "cell_type": "code",
   "execution_count": null,
   "metadata": {},
   "outputs": [],
   "source": []
  },
  {
   "cell_type": "code",
   "execution_count": 131,
   "metadata": {},
   "outputs": [
    {
     "name": "stderr",
     "output_type": "stream",
     "text": [
      "0000100\n",
      "0000101\n",
      "0000111\n",
      "0001000\n",
      "0001001\n",
      "0001011\n",
      "0001101\n",
      "0001111\n",
      "0010000\n",
      "0010001\n",
      "0010011\n",
      "0010101\n",
      "0010111\n",
      "0011001\n",
      "0100000\n",
      "0100001\n",
      "0100011\n",
      "0101001\n",
      "0101011\n",
      "0110001\n",
      "1000000\n",
      "1000001\n",
      "1000011\n",
      "1010001\n",
      "1010011\n",
      "1100001\n",
      "1100011\n"
     ]
    }
   ],
   "source": [
    "x_bin = np.sum(x_flat * 2**np.arange(7)[None, ::-1].T, axis=0)\n",
    "\n",
    "\n",
    "for bit in x_uniq:\n",
    "    logging.debug(f\"{np.binary_repr(bit).zfill(7)}\")"
   ]
  },
  {
   "cell_type": "code",
   "execution_count": 130,
   "metadata": {},
   "outputs": [],
   "source": [
    "unique_nodes = {*x_uniq, *y_uniq, *z_uniq}"
   ]
  },
  {
   "cell_type": "code",
   "execution_count": null,
   "metadata": {},
   "outputs": [],
   "source": []
  },
  {
   "cell_type": "code",
   "execution_count": null,
   "metadata": {},
   "outputs": [],
   "source": []
  },
  {
   "cell_type": "code",
   "execution_count": null,
   "metadata": {},
   "outputs": [],
   "source": []
  },
  {
   "cell_type": "markdown",
   "metadata": {},
   "source": [
    "### bitpacking"
   ]
  },
  {
   "cell_type": "code",
   "execution_count": 88,
   "metadata": {},
   "outputs": [
    {
     "name": "stderr",
     "output_type": "stream",
     "text": [
      "00001000 -> 8\n",
      "00001010 -> 10\n",
      "00001110 -> 14\n",
      "00010000 -> 16\n",
      "00010010 -> 18\n",
      "00010110 -> 22\n",
      "00011010 -> 26\n",
      "00011110 -> 30\n",
      "00100000 -> 32\n",
      "00100010 -> 34\n",
      "00100110 -> 38\n",
      "00101010 -> 42\n",
      "00101110 -> 46\n",
      "00110010 -> 50\n",
      "01000000 -> 64\n",
      "01000010 -> 66\n",
      "01000110 -> 70\n",
      "01010010 -> 82\n",
      "01010110 -> 86\n",
      "01100010 -> 98\n",
      "10000000 -> 128\n",
      "10000010 -> 130\n",
      "10000110 -> 134\n",
      "10100010 -> 162\n",
      "10100110 -> 166\n",
      "11000010 -> 194\n",
      "11000110 -> 198\n"
     ]
    }
   ],
   "source": [
    "x_bits = np.packbits(x, axis=0)\n",
    "x_bits_uniq = np.unique(x_bits)\n",
    "\n",
    "for bit in x_bits_uniq:\n",
    "    logging.debug(f\"{np.binary_repr(bit).zfill(8)} -> {bit}\")\n"
   ]
  },
  {
   "cell_type": "code",
   "execution_count": null,
   "metadata": {},
   "outputs": [],
   "source": []
  },
  {
   "cell_type": "code",
   "execution_count": null,
   "metadata": {},
   "outputs": [],
   "source": []
  },
  {
   "cell_type": "code",
   "execution_count": null,
   "metadata": {},
   "outputs": [],
   "source": []
  },
  {
   "cell_type": "code",
   "execution_count": 260,
   "metadata": {},
   "outputs": [
    {
     "name": "stdout",
     "output_type": "stream",
     "text": [
      "(125000, 5)\n",
      "[[False  True]\n",
      " [False  True]\n",
      " [False  True]\n",
      " ...\n",
      " [ True  True]\n",
      " [ True  True]\n",
      " [ True  True]]\n"
     ]
    }
   ],
   "source": [
    "topo_labels = np.zeros((*labels.shape, n_layers)).reshape(50 * 50 * 50, n_layers)\n",
    "print(topo_labels.shape)\n",
    "\n",
    "lb, fb = tpn.lithblock_to_lb_fb(geo_model)\n",
    "fb -= 1\n",
    "fb += np.arange(n_faults)[None, :].T\n",
    "fb = fb.astype(bool).T\n",
    "print(fb)\n",
    "\n",
    "lb = lb - lb.min() # + n_faults + 2\n",
    "\n",
    "for l in range(n_layers):\n",
    "#     print(l)\n",
    "    i = np.argwhere(lb == l)\n",
    "    topo_labels[i, n_layers - l - 1] = True\n",
    "\n",
    "topo_ndarray = np.concatenate( (topo_labels, fb) , axis=1)"
   ]
  },
  {
   "cell_type": "code",
   "execution_count": null,
   "metadata": {},
   "outputs": [],
   "source": []
  },
  {
   "cell_type": "code",
   "execution_count": null,
   "metadata": {},
   "outputs": [],
   "source": []
  },
  {
   "cell_type": "code",
   "execution_count": null,
   "metadata": {},
   "outputs": [],
   "source": []
  },
  {
   "cell_type": "code",
   "execution_count": null,
   "metadata": {},
   "outputs": [],
   "source": []
  },
  {
   "cell_type": "code",
   "execution_count": null,
   "metadata": {},
   "outputs": [],
   "source": []
  },
  {
   "cell_type": "code",
   "execution_count": 292,
   "metadata": {},
   "outputs": [
    {
     "data": {
      "image/png": "[encoded data removed]",
      "text/plain": [
       "<Figure size 2160x360 with 7 Axes>"
      ]
     },
     "metadata": {
      "needs_background": "light"
     },
     "output_type": "display_data"
    }
   ],
   "source": [
    "fig, axs = plt.subplots(ncols=topo_ndarray.shape[1], figsize=(30, 5), sharey=True)\n",
    "\n",
    "for arr, ax in zip(topo_ndarray.T, axs):\n",
    "    ax.imshow(arr.reshape(50, 50, 50)[:, 24, :].T, origin=\"lower\")"
   ]
  },
  {
   "cell_type": "code",
   "execution_count": 298,
   "metadata": {},
   "outputs": [
    {
     "data": {
      "image/png": "[encoded data removed]",
      "text/plain": [
       "<Figure size 2160x360 with 7 Axes>"
      ]
     },
     "metadata": {
      "needs_background": "light"
     },
     "output_type": "display_data"
    }
   ],
   "source": []
  },
  {
   "cell_type": "code",
   "execution_count": null,
   "metadata": {},
   "outputs": [],
   "source": []
  },
  {
   "cell_type": "code",
   "execution_count": 266,
   "metadata": {},
   "outputs": [
    {
     "data": {
      "text/plain": [
       "array([ True, False])"
      ]
     },
     "execution_count": 266,
     "metadata": {},
     "output_type": "execute_result"
    }
   ],
   "source": [
    "np.logical_or([True, False], [False, False])"
   ]
  },
  {
   "cell_type": "code",
   "execution_count": null,
   "metadata": {},
   "outputs": [],
   "source": []
  },
  {
   "cell_type": "code",
   "execution_count": null,
   "metadata": {},
   "outputs": [],
   "source": []
  },
  {
   "cell_type": "code",
   "execution_count": null,
   "metadata": {},
   "outputs": [],
   "source": []
  },
  {
   "cell_type": "code",
   "execution_count": 228,
   "metadata": {},
   "outputs": [
    {
     "data": {
      "text/plain": [
       "(125000, 5)"
      ]
     },
     "execution_count": 228,
     "metadata": {},
     "output_type": "execute_result"
    }
   ],
   "source": [
    "topo_labels.shape"
   ]
  },
  {
   "cell_type": "code",
   "execution_count": 229,
   "metadata": {},
   "outputs": [
    {
     "data": {
      "text/plain": [
       "(125000, 2)"
      ]
     },
     "execution_count": 229,
     "metadata": {},
     "output_type": "execute_result"
    }
   ],
   "source": [
    "fb.shape"
   ]
  },
  {
   "cell_type": "code",
   "execution_count": 201,
   "metadata": {},
   "outputs": [
    {
     "data": {
      "text/plain": [
       "array([[0., 1., 0., ..., 0., 0., 0.],\n",
       "       [0., 1., 0., ..., 0., 0., 0.],\n",
       "       [0., 1., 0., ..., 0., 0., 0.],\n",
       "       ...,\n",
       "       [0., 0., 0., ..., 0., 0., 0.],\n",
       "       [0., 0., 0., ..., 0., 0., 0.],\n",
       "       [0., 0., 0., ..., 0., 0., 0.]])"
      ]
     },
     "execution_count": 201,
     "metadata": {},
     "output_type": "execute_result"
    }
   ],
   "source": [
    "topo_labels"
   ]
  },
  {
   "cell_type": "code",
   "execution_count": 181,
   "metadata": {},
   "outputs": [
    {
     "data": {
      "text/plain": [
       "array([8, 8, 8, ..., 4, 4, 4])"
      ]
     },
     "execution_count": 181,
     "metadata": {},
     "output_type": "execute_result"
    }
   ],
   "source": [
    "lb"
   ]
  },
  {
   "cell_type": "code",
   "execution_count": 132,
   "metadata": {},
   "outputs": [
    {
     "data": {
      "text/plain": [
       "<module 'topology_numpy' from 'C:\\\\Users\\\\r02as18\\\\git\\\\gempy\\\\notebooks\\\\experimental\\\\topology\\\\topology_numpy.py'>"
      ]
     },
     "execution_count": 132,
     "metadata": {},
     "output_type": "execute_result"
    }
   ],
   "source": [
    "reload(tpn)"
   ]
  },
  {
   "cell_type": "code",
   "execution_count": 139,
   "metadata": {},
   "outputs": [
    {
     "data": {
      "text/plain": [
       "<matplotlib.image.AxesImage at 0x17e09983978>"
      ]
     },
     "execution_count": 139,
     "metadata": {},
     "output_type": "execute_result"
    },
    {
     "data": {
      "image/png": "[encoded data removed]",
      "text/plain": [
       "<Figure size 432x288 with 1 Axes>"
      ]
     },
     "metadata": {
      "needs_background": "light"
     },
     "output_type": "display_data"
    }
   ],
   "source": [
    "n_faults = 2\n",
    "n_layers = 5\n",
    "\n",
    "f_labels = tpn.get_fault_labels(n_faults)\n",
    "# print(f_labels)\n",
    "\n",
    "fault_labels_bin = tpn.get_fault_label_comb_bin(f_labels)\n",
    "# print(bin_str_faults)\n",
    "\n",
    "lith_labels_bin = tpn.get_lith_labels_bin(n_layers)\n",
    "# print(bin_str_lith)\n",
    "\n",
    "adj_matrix_labels = tpn.get_adj_matrix_labels(lith_labels_bin, fault_labels_bin)\n",
    "adj_matrix_labels\n",
    "\n",
    "adj_matrix = tpn.get_adj_matrix(edges, adj_matrix_labels, labels)\n",
    "\n",
    "plt.imshow(adj_matrix)"
   ]
  },
  {
   "cell_type": "code",
   "execution_count": 138,
   "metadata": {},
   "outputs": [
    {
     "data": {
      "text/plain": [
       "array([ True,  True,  True, False, False, False,  True, False, False,\n",
       "        True,  True, False, False, False,  True,  True,  True, False,\n",
       "       False, False,  True, False, False, False, False, False, False,\n",
       "       False,  True, False, False,  True, False, False, False,  True,\n",
       "       False, False, False, False,  True, False, False, False,  True,\n",
       "        True, False, False, False,  True,  True, False, False, False,\n",
       "        True, False, False, False, False, False, False, False, False,\n",
       "       False, False, False,  True, False, False, False, False, False,\n",
       "       False,  True, False, False, False,  True, False, False, False,\n",
       "       False, False, False, False, False,  True, False, False, False,\n",
       "        True, False, False, False, False,  True, False, False, False,\n",
       "        True,  True, False, False, False,  True, False, False, False,\n",
       "       False, False, False, False, False, False, False, False, False,\n",
       "       False, False, False, False, False, False, False,  True, False,\n",
       "       False, False, False, False, False,  True, False, False, False,\n",
       "        True, False, False, False, False, False, False, False, False,\n",
       "       False, False, False, False,  True, False, False, False,  True,\n",
       "       False, False, False, False, False, False, False, False,  True,\n",
       "       False, False, False,  True,  True, False, False,  True,  True,\n",
       "       False, False, False, False, False, False, False, False, False,\n",
       "       False, False, False, False, False, False, False, False, False,\n",
       "       False, False, False, False, False,  True, False, False, False,\n",
       "        True, False, False, False,  True, False, False,  True,  True,\n",
       "        True, False,  True])"
      ]
     },
     "execution_count": 138,
     "metadata": {},
     "output_type": "execute_result"
    }
   ],
   "source": [
    "tri_i, tri_j = np.tril_indices(adj_matrix.shape[0])\n",
    "topology_vector = adj_matrix[tri_i, tri_j]\n",
    "topology_vector"
   ]
  },
  {
   "cell_type": "code",
   "execution_count": 174,
   "metadata": {},
   "outputs": [
    {
     "data": {
      "text/plain": [
       "(210,)"
      ]
     },
     "execution_count": 174,
     "metadata": {},
     "output_type": "execute_result"
    }
   ],
   "source": [
    "topology_vector.shape"
   ]
  },
  {
   "cell_type": "code",
   "execution_count": 143,
   "metadata": {},
   "outputs": [],
   "source": [
    "import networkx as nx\n",
    "G = nx.from_numpy_matrix(adj_matrix)"
   ]
  },
  {
   "cell_type": "code",
   "execution_count": 148,
   "metadata": {},
   "outputs": [
    {
     "data": {
      "image/png": "[encoded data removed]",
      "text/plain": [
       "<Figure size 432x288 with 1 Axes>"
      ]
     },
     "metadata": {},
     "output_type": "display_data"
    }
   ],
   "source": [
    "nx.draw_networkx(G)"
   ]
  },
  {
   "cell_type": "code",
   "execution_count": 146,
   "metadata": {},
   "outputs": [
    {
     "name": "stdout",
     "output_type": "stream",
     "text": [
      "(0, 0)\n",
      "(0, 1)\n",
      "(0, 3)\n",
      "(0, 4)\n",
      "(0, 5)\n",
      "(0, 7)\n",
      "(0, 9)\n",
      "(0, 11)\n",
      "(1, 1)\n",
      "(1, 5)\n",
      "(3, 3)\n",
      "(3, 7)\n",
      "(4, 4)\n",
      "(4, 8)\n",
      "(4, 9)\n",
      "(4, 13)\n",
      "(4, 15)\n",
      "(4, 19)\n",
      "(5, 5)\n",
      "(5, 9)\n",
      "(7, 7)\n",
      "(7, 11)\n",
      "(8, 8)\n",
      "(8, 12)\n",
      "(8, 13)\n",
      "(8, 17)\n",
      "(8, 19)\n",
      "(9, 9)\n",
      "(9, 13)\n",
      "(11, 11)\n",
      "(11, 15)\n",
      "(12, 12)\n",
      "(12, 16)\n",
      "(12, 17)\n",
      "(12, 19)\n",
      "(13, 13)\n",
      "(13, 17)\n",
      "(15, 15)\n",
      "(15, 19)\n",
      "(16, 16)\n",
      "(16, 17)\n",
      "(16, 19)\n",
      "(17, 17)\n",
      "(17, 19)\n",
      "(19, 19)\n"
     ]
    }
   ],
   "source": [
    "for edge in G.edges:\n",
    "    print(edge)"
   ]
  },
  {
   "cell_type": "markdown",
   "metadata": {},
   "source": [
    "# Other"
   ]
  },
  {
   "cell_type": "raw",
   "metadata": {},
   "source": [
    "# labels, olabels = tpn.get_labels_block(geo_model)\n",
    "lb, fb = tpn.lithblock_to_lb_fb(geo_model)\n",
    "labels = tpn.get_labels_block(lb, fb).reshape(50, 50, 50)\n",
    "shift_blocks = tpn.get_topo_block(labels, n_shift=1)\n",
    "\n",
    "fig, axs = plt.subplots(ncols=3, sharey=True, figsize=(15,8))\n",
    "\n",
    "for ax, img in zip(axs, shift_blocks):\n",
    "    ax.imshow(img[:, 24, :].T, origin=\"lower\", cmap=\"hsv\")"
   ]
  },
  {
   "cell_type": "raw",
   "metadata": {},
   "source": [
    "logger.setLevel(logging.CRITICAL)\n",
    "\n",
    "topo_block = copy(shift_blocks[-1])\n",
    "topo_block_filtered = copy(shift_blocks[-1])\n",
    "topo_block_filtered[np.isin(topo_block_filtered, 2*np.unique(labels))] = 0\n",
    "\n",
    "diff_ctrs = tpn.get_centroids(topo_block)\n",
    "diff_ctrs_filtered = tpn.get_centroids(topo_block_filtered)\n",
    "\n",
    "fig, axs = plt.subplots(figsize=(25,10), ncols=3)\n",
    "\n",
    "labels_ctrs = tpn.get_centroids(labels)\n",
    "ax = axs[0]\n",
    "for k, v in labels_ctrs.items():\n",
    "    ax.scatter(v[0], v[2], c=\"k\", s=250)\n",
    "    ax.text(v[0]-0.4, v[2]-0.3, np.binary_repr(k).zfill(9), c=\"w\")\n",
    "ax.set_title(\"unique labels block\")\n",
    "ax.imshow(labels[:, 24, :].T, origin=\"lower\", cmap=\"jet\")\n",
    "\n",
    "ax = axs[1]\n",
    "for k, v in diff_ctrs.items():\n",
    "    if k == 0:\n",
    "        continue\n",
    "    ax.scatter(v[0], v[2], c=\"k\", s=250)\n",
    "    ax.text(v[0]-0.4, v[2]-0.3, np.binary_repr(k).zfill(9), c=\"w\")\n",
    "ax.set_title(\"sum of Z-shifted labels block\")\n",
    "ax.imshow(topo_block[:, 24, :].T, origin=\"lower\", cmap=\"jet\")\n",
    "\n",
    "ax = axs[2]\n",
    "for k, v in diff_ctrs_filtered.items():\n",
    "    if k == 0:\n",
    "        continue\n",
    "    ax.scatter(v[0], v[2], c=\"k\", s=250)\n",
    "    ax.text(v[0]-0.4, v[2]-0.3, np.binary_repr(k).zfill(9), c=\"w\")\n",
    "ax.set_title(\"filtered sum block\")\n",
    "ax.imshow(topo_block_filtered[:, 24, :].T, origin=\"lower\", cmap=\"jet\")"
   ]
  },
  {
   "cell_type": "raw",
   "metadata": {},
   "source": [
    "ulabel_LOT = tpn.get_node_label_sum_lot(ulabels)"
   ]
  },
  {
   "cell_type": "raw",
   "metadata": {},
   "source": [
    "# create layer id LOT\n",
    "layer_ids = {np.binary_repr(2**i).zfill(9):i for i in range(4, 9)}\n",
    "print(layer_ids)"
   ]
  },
  {
   "cell_type": "markdown",
   "metadata": {},
   "source": [
    "# Speed comparison"
   ]
  },
  {
   "cell_type": "code",
   "execution_count": 628,
   "metadata": {},
   "outputs": [],
   "source": [
    "logger.setLevel(logging.CRITICAL)"
   ]
  },
  {
   "cell_type": "code",
   "execution_count": 636,
   "metadata": {},
   "outputs": [
    {
     "name": "stdout",
     "output_type": "stream",
     "text": [
      "52.9 ms ± 1.83 ms per loop (mean ± std. dev. of 7 runs, 10 loops each)\n"
     ]
    }
   ],
   "source": [
    "%%timeit\n",
    "lb, fb = tpn.lithblock_to_lb_fb(geo_model)\n",
    "labels = tpn.get_labels_block(lb, fb).reshape(50, 50, 50)\n",
    "shift_blocks = tpn.get_topo_block(labels, n_shift=1)\n",
    "shift_blocks[np.isin(shift_blocks, 2*np.unique(labels))] = 0\n",
    "edges = tpn.get_edges(shift_blocks, labels, 1)\n",
    "centroids = tpn.get_centroids(labels)\n",
    "node_to_layer_LOT = tpn.get_lith_lot(labels, 2)"
   ]
  },
  {
   "cell_type": "code",
   "execution_count": 630,
   "metadata": {},
   "outputs": [
    {
     "name": "stdout",
     "output_type": "stream",
     "text": [
      "382 ms ± 14.1 ms per loop (mean ± std. dev. of 7 runs, 1 loop each)\n"
     ]
    }
   ],
   "source": [
    "%%timeit\n",
    "G, c = tp.compute_topology(geo_model, filter_rogue=True, compute_areas=False)"
   ]
  },
  {
   "cell_type": "code",
   "execution_count": 631,
   "metadata": {},
   "outputs": [
    {
     "name": "stdout",
     "output_type": "stream",
     "text": [
      "Speed-up: 7.40x\n"
     ]
    }
   ],
   "source": [
    "print(f\"Speed-up: {375  / 50.7:.02f}x\" )"
   ]
  },
  {
   "cell_type": "code",
   "execution_count": 634,
   "metadata": {},
   "outputs": [
    {
     "data": {
      "image/png": "[encoded data removed]",
      "text/plain": [
       "<Figure size 720x720 with 1 Axes>"
      ]
     },
     "metadata": {
      "needs_background": "light"
     },
     "output_type": "display_data"
    }
   ],
   "source": [
    "fig = plt.figure(figsize=(10,10))\n",
    "plt.imshow(geo_model.solutions.block_matrix[-1].reshape(50,50, 50)[:, 24, :].T, origin=\"lower\", cmap=\"YlOrRd_r\")\n",
    "\n",
    "for edge in edges:\n",
    "    e1, e2 = edge\n",
    "    p1 = centroids.get(e1)\n",
    "    p2 = centroids.get(e2)\n",
    "    x = (p1[0], p2[0])\n",
    "    y = (p1[2], p2[2])\n",
    "    plt.plot(x, y, c=\"k\", linewidth=1)\n",
    "    \n",
    "for node in ulabels:\n",
    "    p = centroids.get(node)\n",
    "    plt.scatter(p[0], p[2], c=\"k\", s=500)\n",
    "    plt.text(p[0], p[2], str(node_to_layer_LOT[node]), c=\"w\")"
   ]
  },
  {
   "cell_type": "code",
   "execution_count": 635,
   "metadata": {},
   "outputs": [
    {
     "data": {
      "image/png": "[encoded data removed]",
      "text/plain": [
       "<Figure size 432x288 with 1 Axes>"
      ]
     },
     "metadata": {
      "needs_background": "light"
     },
     "output_type": "display_data"
    }
   ],
   "source": [
    "from gempy.assets import topology as tp\n",
    "G, c = tp.compute_topology(geo_model, filter_rogue=True)\n",
    "gp.plot.plot_section(geo_model, 24)\n",
    "gp.plot.plot_topology(geo_model, G, c)"
   ]
  },
  {
   "cell_type": "code",
   "execution_count": null,
   "metadata": {},
   "outputs": [],
   "source": []
  },
  {
   "cell_type": "code",
   "execution_count": null,
   "metadata": {},
   "outputs": [],
   "source": []
  },
  {
   "cell_type": "code",
   "execution_count": null,
   "metadata": {},
   "outputs": [],
   "source": []
  },
  {
   "cell_type": "code",
   "execution_count": null,
   "metadata": {},
   "outputs": [],
   "source": []
  },
  {
   "cell_type": "code",
   "execution_count": null,
   "metadata": {},
   "outputs": [],
   "source": []
  },
  {
   "cell_type": "code",
   "execution_count": null,
   "metadata": {},
   "outputs": [],
   "source": []
  },
  {
   "cell_type": "code",
   "execution_count": null,
   "metadata": {},
   "outputs": [],
   "source": []
  }
 ],
 "metadata": {
  "kernelspec": {
   "display_name": "Python [conda env:topology]",
   "language": "python",
   "name": "conda-env-topology-py"
  },
  "language_info": {
   "codemirror_mode": {
    "name": "ipython",
    "version": 3
   },
   "file_extension": ".py",
   "mimetype": "text/x-python",
   "name": "python",
   "nbconvert_exporter": "python",
   "pygments_lexer": "ipython3",
   "version": "3.7.3"
  }
 },
 "nbformat": 4,
 "nbformat_minor": 2
}
