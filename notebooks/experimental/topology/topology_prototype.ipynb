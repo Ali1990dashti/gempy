{
 "cells": [
  {
   "cell_type": "code",
   "execution_count": 1,
   "metadata": {},
   "outputs": [
    {
     "name": "stderr",
     "output_type": "stream",
     "text": [
      "WARNING (theano.tensor.blas): Using NumPy C-API based implementation for BLAS functions.\n",
      "C:\\Users\\r02as18\\miniconda3\\envs\\topology\\lib\\site-packages\\theano\\gpuarray\\dnn.py:184: UserWarning: Your cuDNN version is more recent than Theano. If you encounter problems, try updating Theano or downgrading cuDNN to a version >= v5 and <= v7.\n",
      "  warnings.warn(\"Your cuDNN version is more recent than \"\n",
      "ERROR (theano.gpuarray): Could not initialize pygpu, support disabled\n",
      "Traceback (most recent call last):\n",
      "  File \"C:\\Users\\r02as18\\miniconda3\\envs\\topology\\lib\\site-packages\\theano\\gpuarray\\__init__.py\", line 227, in <module>\n",
      "    use(config.device)\n",
      "  File \"C:\\Users\\r02as18\\miniconda3\\envs\\topology\\lib\\site-packages\\theano\\gpuarray\\__init__.py\", line 214, in use\n",
      "    init_dev(device, preallocate=preallocate)\n",
      "  File \"C:\\Users\\r02as18\\miniconda3\\envs\\topology\\lib\\site-packages\\theano\\gpuarray\\__init__.py\", line 99, in init_dev\n",
      "    **args)\n",
      "  File \"pygpu\\gpuarray.pyx\", line 658, in pygpu.gpuarray.init\n",
      "  File \"pygpu\\gpuarray.pyx\", line 587, in pygpu.gpuarray.pygpu_init\n",
      "pygpu.gpuarray.GpuArrayException: b'Could not load \"nvrtc64_70.dll\": The specified module could not be found.\\r\\n'\n"
     ]
    }
   ],
   "source": [
    "import sys, os\n",
    "os.environ[\"THEANO_FLAGS\"] = \"device=cuda\"  # use gpu\n",
    "sys.path.append(\"../../../\")\n",
    "import gempy as gp\n",
    "import numpy as np\n",
    "import matplotlib.pyplot as plt\n",
    "%matplotlib inline"
   ]
  },
  {
   "cell_type": "code",
   "execution_count": 2,
   "metadata": {},
   "outputs": [
    {
     "name": "stdout",
     "output_type": "stream",
     "text": [
      "Active grids: ['regular']\n",
      "Compiling theano function...\n",
      "Level of Optimization:  fast_compile\n",
      "Device:  cuda\n",
      "Precision:  float32\n",
      "Number of faults:  2\n",
      "Compilation Done!\n"
     ]
    },
    {
     "name": "stderr",
     "output_type": "stream",
     "text": [
      "C:\\Users\\r02as18\\miniconda3\\envs\\topology\\lib\\site-packages\\theano\\tensor\\slinalg.py:255: LinAlgWarning: Ill-conditioned matrix (rcond=2.46756e-12): result may not be accurate.\n",
      "  rval = scipy.linalg.solve(A, b)\n"
     ]
    },
    {
     "data": {
      "text/plain": [
       "<gempy.plot.visualization_2d.PlotSolution at 0x1e5e79d9470>"
      ]
     },
     "execution_count": 2,
     "metadata": {},
     "output_type": "execute_result"
    },
    {
     "data": {
      "image/png": "[encoded data removed]",
      "text/plain": [
       "<Figure size 432x288 with 1 Axes>"
      ]
     },
     "metadata": {
      "needs_background": "light"
     },
     "output_type": "display_data"
    }
   ],
   "source": [
    "geo_model = gp.load_model(\n",
    "    'Tutorial_ch1-9b_Fault_relations', \n",
    "    path= '../../data/gempy_models', \n",
    "    recompile=True\n",
    ")\n",
    "gp.compute_model(geo_model)\n",
    "gp.plot.plot_section(geo_model, show_data=True)"
   ]
  },
  {
   "cell_type": "code",
   "execution_count": null,
   "metadata": {},
   "outputs": [],
   "source": []
  },
  {
   "cell_type": "code",
   "execution_count": 365,
   "metadata": {},
   "outputs": [],
   "source": [
    "res = geo_model.grid.regular_grid.resolution\n",
    "lb = np.round(geo_model.solutions.block_matrix[-1, 0, :]).astype(int)\n",
    "fb = np.round(geo_model.solutions.block_matrix[:-1, 0, :]).astype(int)"
   ]
  },
  {
   "cell_type": "code",
   "execution_count": 267,
   "metadata": {},
   "outputs": [
    {
     "data": {
      "image/png": "[encoded data removed]",
      "text/plain": [
       "<Figure size 1080x576 with 3 Axes>"
      ]
     },
     "metadata": {
      "needs_background": "light"
     },
     "output_type": "display_data"
    }
   ],
   "source": [
    "fig, axs = plt.subplots(ncols=3, sharey=True, figsize=(15,8))\n",
    "\n",
    "for ax, block in zip(axs, (lb, *fb)):\n",
    "    ax.imshow(block.reshape(*res)[:, 24, :].T, origin=\"lower\")"
   ]
  },
  {
   "cell_type": "code",
   "execution_count": 257,
   "metadata": {},
   "outputs": [
    {
     "data": {
      "text/plain": [
       "array([3, 4, 5, 6, 7])"
      ]
     },
     "execution_count": 257,
     "metadata": {},
     "output_type": "execute_result"
    }
   ],
   "source": [
    "np.unique(lb)"
   ]
  },
  {
   "cell_type": "code",
   "execution_count": 258,
   "metadata": {},
   "outputs": [
    {
     "name": "stdout",
     "output_type": "stream",
     "text": [
      "[1 2]\n",
      "[2 3]\n"
     ]
    }
   ],
   "source": [
    "for fblock in fb:\n",
    "    print(np.unique(fblock))"
   ]
  },
  {
   "cell_type": "code",
   "execution_count": 44,
   "metadata": {},
   "outputs": [
    {
     "data": {
      "text/html": [
       "<style  type=\"text/css\" >\n",
       "    #T_a275ddfe_008c_11ea_be22_d46d6d96cefdrow0_col4 {\n",
       "            background-color:  #015482;\n",
       "        }    #T_a275ddfe_008c_11ea_be22_d46d6d96cefdrow1_col4 {\n",
       "            background-color:  #9f0052;\n",
       "        }    #T_a275ddfe_008c_11ea_be22_d46d6d96cefdrow2_col4 {\n",
       "            background-color:  #ffbe00;\n",
       "        }    #T_a275ddfe_008c_11ea_be22_d46d6d96cefdrow3_col4 {\n",
       "            background-color:  #728f02;\n",
       "        }    #T_a275ddfe_008c_11ea_be22_d46d6d96cefdrow4_col4 {\n",
       "            background-color:  #443988;\n",
       "        }    #T_a275ddfe_008c_11ea_be22_d46d6d96cefdrow5_col4 {\n",
       "            background-color:  #ff3f20;\n",
       "        }    #T_a275ddfe_008c_11ea_be22_d46d6d96cefdrow6_col4 {\n",
       "            background-color:  #325916;\n",
       "        }</style><table id=\"T_a275ddfe_008c_11ea_be22_d46d6d96cefd\" ><thead>    <tr>        <th class=\"blank level0\" ></th>        <th class=\"col_heading level0 col0\" >surface</th>        <th class=\"col_heading level0 col1\" >series</th>        <th class=\"col_heading level0 col2\" >order_surfaces</th>        <th class=\"col_heading level0 col3\" >isBasement</th>        <th class=\"col_heading level0 col4\" >color</th>        <th class=\"col_heading level0 col5\" >id</th>    </tr></thead><tbody>\n",
       "                <tr>\n",
       "                        <th id=\"T_a275ddfe_008c_11ea_be22_d46d6d96cefdlevel0_row0\" class=\"row_heading level0 row0\" >7</th>\n",
       "                        <td id=\"T_a275ddfe_008c_11ea_be22_d46d6d96cefdrow0_col0\" class=\"data row0 col0\" >fault2</td>\n",
       "                        <td id=\"T_a275ddfe_008c_11ea_be22_d46d6d96cefdrow0_col1\" class=\"data row0 col1\" >fault_series2</td>\n",
       "                        <td id=\"T_a275ddfe_008c_11ea_be22_d46d6d96cefdrow0_col2\" class=\"data row0 col2\" >1</td>\n",
       "                        <td id=\"T_a275ddfe_008c_11ea_be22_d46d6d96cefdrow0_col3\" class=\"data row0 col3\" >False</td>\n",
       "                        <td id=\"T_a275ddfe_008c_11ea_be22_d46d6d96cefdrow0_col4\" class=\"data row0 col4\" >#015482</td>\n",
       "                        <td id=\"T_a275ddfe_008c_11ea_be22_d46d6d96cefdrow0_col5\" class=\"data row0 col5\" >1</td>\n",
       "            </tr>\n",
       "            <tr>\n",
       "                        <th id=\"T_a275ddfe_008c_11ea_be22_d46d6d96cefdlevel0_row1\" class=\"row_heading level0 row1\" >5</th>\n",
       "                        <td id=\"T_a275ddfe_008c_11ea_be22_d46d6d96cefdrow1_col0\" class=\"data row1 col0\" >fault1</td>\n",
       "                        <td id=\"T_a275ddfe_008c_11ea_be22_d46d6d96cefdrow1_col1\" class=\"data row1 col1\" >fault_series1</td>\n",
       "                        <td id=\"T_a275ddfe_008c_11ea_be22_d46d6d96cefdrow1_col2\" class=\"data row1 col2\" >1</td>\n",
       "                        <td id=\"T_a275ddfe_008c_11ea_be22_d46d6d96cefdrow1_col3\" class=\"data row1 col3\" >False</td>\n",
       "                        <td id=\"T_a275ddfe_008c_11ea_be22_d46d6d96cefdrow1_col4\" class=\"data row1 col4\" >#9f0052</td>\n",
       "                        <td id=\"T_a275ddfe_008c_11ea_be22_d46d6d96cefdrow1_col5\" class=\"data row1 col5\" >2</td>\n",
       "            </tr>\n",
       "            <tr>\n",
       "                        <th id=\"T_a275ddfe_008c_11ea_be22_d46d6d96cefdlevel0_row2\" class=\"row_heading level0 row2\" >6</th>\n",
       "                        <td id=\"T_a275ddfe_008c_11ea_be22_d46d6d96cefdrow2_col0\" class=\"data row2 col0\" >rock4</td>\n",
       "                        <td id=\"T_a275ddfe_008c_11ea_be22_d46d6d96cefdrow2_col1\" class=\"data row2 col1\" >series1</td>\n",
       "                        <td id=\"T_a275ddfe_008c_11ea_be22_d46d6d96cefdrow2_col2\" class=\"data row2 col2\" >1</td>\n",
       "                        <td id=\"T_a275ddfe_008c_11ea_be22_d46d6d96cefdrow2_col3\" class=\"data row2 col3\" >False</td>\n",
       "                        <td id=\"T_a275ddfe_008c_11ea_be22_d46d6d96cefdrow2_col4\" class=\"data row2 col4\" >#ffbe00</td>\n",
       "                        <td id=\"T_a275ddfe_008c_11ea_be22_d46d6d96cefdrow2_col5\" class=\"data row2 col5\" >3</td>\n",
       "            </tr>\n",
       "            <tr>\n",
       "                        <th id=\"T_a275ddfe_008c_11ea_be22_d46d6d96cefdlevel0_row3\" class=\"row_heading level0 row3\" >0</th>\n",
       "                        <td id=\"T_a275ddfe_008c_11ea_be22_d46d6d96cefdrow3_col0\" class=\"data row3 col0\" >rock3</td>\n",
       "                        <td id=\"T_a275ddfe_008c_11ea_be22_d46d6d96cefdrow3_col1\" class=\"data row3 col1\" >series1</td>\n",
       "                        <td id=\"T_a275ddfe_008c_11ea_be22_d46d6d96cefdrow3_col2\" class=\"data row3 col2\" >2</td>\n",
       "                        <td id=\"T_a275ddfe_008c_11ea_be22_d46d6d96cefdrow3_col3\" class=\"data row3 col3\" >False</td>\n",
       "                        <td id=\"T_a275ddfe_008c_11ea_be22_d46d6d96cefdrow3_col4\" class=\"data row3 col4\" >#728f02</td>\n",
       "                        <td id=\"T_a275ddfe_008c_11ea_be22_d46d6d96cefdrow3_col5\" class=\"data row3 col5\" >4</td>\n",
       "            </tr>\n",
       "            <tr>\n",
       "                        <th id=\"T_a275ddfe_008c_11ea_be22_d46d6d96cefdlevel0_row4\" class=\"row_heading level0 row4\" >3</th>\n",
       "                        <td id=\"T_a275ddfe_008c_11ea_be22_d46d6d96cefdrow4_col0\" class=\"data row4 col0\" >rock2</td>\n",
       "                        <td id=\"T_a275ddfe_008c_11ea_be22_d46d6d96cefdrow4_col1\" class=\"data row4 col1\" >series1</td>\n",
       "                        <td id=\"T_a275ddfe_008c_11ea_be22_d46d6d96cefdrow4_col2\" class=\"data row4 col2\" >3</td>\n",
       "                        <td id=\"T_a275ddfe_008c_11ea_be22_d46d6d96cefdrow4_col3\" class=\"data row4 col3\" >False</td>\n",
       "                        <td id=\"T_a275ddfe_008c_11ea_be22_d46d6d96cefdrow4_col4\" class=\"data row4 col4\" >#443988</td>\n",
       "                        <td id=\"T_a275ddfe_008c_11ea_be22_d46d6d96cefdrow4_col5\" class=\"data row4 col5\" >5</td>\n",
       "            </tr>\n",
       "            <tr>\n",
       "                        <th id=\"T_a275ddfe_008c_11ea_be22_d46d6d96cefdlevel0_row5\" class=\"row_heading level0 row5\" >1</th>\n",
       "                        <td id=\"T_a275ddfe_008c_11ea_be22_d46d6d96cefdrow5_col0\" class=\"data row5 col0\" >rock1</td>\n",
       "                        <td id=\"T_a275ddfe_008c_11ea_be22_d46d6d96cefdrow5_col1\" class=\"data row5 col1\" >series1</td>\n",
       "                        <td id=\"T_a275ddfe_008c_11ea_be22_d46d6d96cefdrow5_col2\" class=\"data row5 col2\" >4</td>\n",
       "                        <td id=\"T_a275ddfe_008c_11ea_be22_d46d6d96cefdrow5_col3\" class=\"data row5 col3\" >False</td>\n",
       "                        <td id=\"T_a275ddfe_008c_11ea_be22_d46d6d96cefdrow5_col4\" class=\"data row5 col4\" >#ff3f20</td>\n",
       "                        <td id=\"T_a275ddfe_008c_11ea_be22_d46d6d96cefdrow5_col5\" class=\"data row5 col5\" >6</td>\n",
       "            </tr>\n",
       "            <tr>\n",
       "                        <th id=\"T_a275ddfe_008c_11ea_be22_d46d6d96cefdlevel0_row6\" class=\"row_heading level0 row6\" >4</th>\n",
       "                        <td id=\"T_a275ddfe_008c_11ea_be22_d46d6d96cefdrow6_col0\" class=\"data row6 col0\" >basement</td>\n",
       "                        <td id=\"T_a275ddfe_008c_11ea_be22_d46d6d96cefdrow6_col1\" class=\"data row6 col1\" >basement_series</td>\n",
       "                        <td id=\"T_a275ddfe_008c_11ea_be22_d46d6d96cefdrow6_col2\" class=\"data row6 col2\" >1</td>\n",
       "                        <td id=\"T_a275ddfe_008c_11ea_be22_d46d6d96cefdrow6_col3\" class=\"data row6 col3\" >True</td>\n",
       "                        <td id=\"T_a275ddfe_008c_11ea_be22_d46d6d96cefdrow6_col4\" class=\"data row6 col4\" >#325916</td>\n",
       "                        <td id=\"T_a275ddfe_008c_11ea_be22_d46d6d96cefdrow6_col5\" class=\"data row6 col5\" >7</td>\n",
       "            </tr>\n",
       "    </tbody></table>"
      ],
      "text/plain": [
       "    surface           series  order_surfaces  isBasement    color                                           vertices                                              edges  id\n",
       "7    fault2    fault_series2               1       False  #015482  [[354.93995666503906, 0.0, -980.0], [344.93343...  [[2, 1, 0], [3, 1, 2], [0, 5, 4], [0, 4, 2], [...   1\n",
       "5    fault1    fault_series1               1       False  #9f0052  [[14.601430892944336, 20.0, -60.0], [20.0, 0.0...  [[2, 1, 0], [0, 1, 3], [2, 5, 4], [2, 0, 5], [...   2\n",
       "6     rock4          series1               1       False  #ffbe00  [[0.0, 0.0, -560.0018310546875], [0.0, 20.0, -...  [[2, 1, 0], [3, 1, 2], [3, 4, 1], [5, 4, 3], [...   3\n",
       "0     rock3          series1               2       False  #728f02  [[0.0, 0.0, -610.0020980834961], [0.0, 20.0, -...  [[2, 1, 0], [3, 1, 2], [3, 4, 1], [5, 4, 3], [...   4\n",
       "3     rock2          series1               3       False  #443988  [[0.0, 0.0, -660.0027847290039], [0.0, 20.0, -...  [[2, 1, 0], [3, 1, 2], [3, 4, 1], [5, 4, 3], [...   5\n",
       "1     rock1          series1               4       False  #ff3f20  [[0.0, 0.0, -710.0034332275391], [0.0, 20.0, -...  [[2, 1, 0], [3, 1, 2], [3, 4, 1], [5, 4, 3], [...   6\n",
       "4  basement  basement_series               1        True  #325916                                                NaN                                                NaN   7"
      ]
     },
     "execution_count": 44,
     "metadata": {},
     "output_type": "execute_result"
    }
   ],
   "source": [
    "geo_model.surfaces"
   ]
  },
  {
   "cell_type": "code",
   "execution_count": 45,
   "metadata": {},
   "outputs": [
    {
     "data": {
      "text/html": [
       "<table border=\"1\" class=\"dataframe\">\n",
       "  <thead>\n",
       "    <tr style=\"text-align: right;\">\n",
       "      <th></th>\n",
       "      <th>isFault</th>\n",
       "      <th>isFinite</th>\n",
       "    </tr>\n",
       "  </thead>\n",
       "  <tbody>\n",
       "    <tr>\n",
       "      <th>fault_series2</th>\n",
       "      <td>True</td>\n",
       "      <td>False</td>\n",
       "    </tr>\n",
       "    <tr>\n",
       "      <th>fault_series1</th>\n",
       "      <td>True</td>\n",
       "      <td>False</td>\n",
       "    </tr>\n",
       "    <tr>\n",
       "      <th>series1</th>\n",
       "      <td>False</td>\n",
       "      <td>False</td>\n",
       "    </tr>\n",
       "    <tr>\n",
       "      <th>basement_series</th>\n",
       "      <td>False</td>\n",
       "      <td>False</td>\n",
       "    </tr>\n",
       "  </tbody>\n",
       "</table>"
      ],
      "text/plain": [
       "                 isFault  isFinite\n",
       "fault_series2       True     False\n",
       "fault_series1       True     False\n",
       "series1            False     False\n",
       "basement_series    False     False"
      ]
     },
     "execution_count": 45,
     "metadata": {},
     "output_type": "execute_result"
    }
   ],
   "source": [
    "geo_model.faults"
   ]
  },
  {
   "cell_type": "markdown",
   "metadata": {},
   "source": [
    "### create unique labels"
   ]
  },
  {
   "cell_type": "code",
   "execution_count": 259,
   "metadata": {},
   "outputs": [],
   "source": [
    "base = 2\n",
    "\n",
    "n_horizons = len(np.unique(lb))\n",
    "\n",
    "horizon_ids = []\n",
    "for i in range(n_horizons):\n",
    "    horizon_ids.append(base**i)\n",
    "horizon_ids\n",
    "\n",
    "lb_labels = np.zeros_like(lb)\n",
    "for lith_i, i in zip(np.unique(lb), horizon_ids):\n",
    "    lb_labels[lb == lith_i] = i\n",
    "lb_labels\n",
    "\n",
    "# print(np.unique(lb_labels))\n",
    "\n",
    "fb_labels = np.zeros_like(fb)\n",
    "for i in range(fb.shape[0]):\n",
    "    fblock = fb[i]\n",
    "    fb_max = np.max(fblock)\n",
    "    fb_labels[i, fblock==fb_max] = base**(i + n_horizons)\n",
    "    \n",
    "# print(np.unique(fb_labels))\n",
    "\n",
    "labels = np.concatenate((fb_labels, lb_labels[None, :]))\n",
    "labels_sum = np.sum(labels, axis=0)\n"
   ]
  },
  {
   "cell_type": "code",
   "execution_count": 260,
   "metadata": {},
   "outputs": [
    {
     "name": "stdout",
     "output_type": "stream",
     "text": [
      "[ 1  2  4  8 16]\n"
     ]
    }
   ],
   "source": [
    "print(np.unique(lb_labels))"
   ]
  },
  {
   "cell_type": "code",
   "execution_count": 293,
   "metadata": {},
   "outputs": [],
   "source": []
  },
  {
   "cell_type": "code",
   "execution_count": 295,
   "metadata": {},
   "outputs": [],
   "source": []
  },
  {
   "cell_type": "code",
   "execution_count": null,
   "metadata": {},
   "outputs": [],
   "source": []
  },
  {
   "cell_type": "code",
   "execution_count": 216,
   "metadata": {},
   "outputs": [],
   "source": [
    "labels = np.concatenate((fb_labels, lb_labels[None, :]))\n",
    "labels = np.sum(labels, axis=0)"
   ]
  },
  {
   "cell_type": "markdown",
   "metadata": {},
   "source": [
    "### numpy"
   ]
  },
  {
   "cell_type": "code",
   "execution_count": 376,
   "metadata": {},
   "outputs": [],
   "source": [
    "# faults\n",
    "fb_01 = fb - fb.min(axis=1)[None, :].T\n",
    "fault_shift = np.array(range(fb.shape[0]))[:, None] + 1\n",
    "fb_labels = fb_01 * fault_shift \n",
    "fb_labels[fb_labels!=0] += len(np.unique(lb))\n",
    "# lith\n",
    "lb_labels = lb - lb.min()\n",
    "labels = np.concatenate((fb_labels, lb_labels[None, :]))\n",
    "labels = 22*np.sum(labels, axis=0)"
   ]
  },
  {
   "cell_type": "code",
   "execution_count": 377,
   "metadata": {},
   "outputs": [
    {
     "data": {
      "text/plain": [
       "array([242, 242, 242, ..., 286, 286, 286])"
      ]
     },
     "execution_count": 377,
     "metadata": {},
     "output_type": "execute_result"
    }
   ],
   "source": [
    "labels"
   ]
  },
  {
   "cell_type": "markdown",
   "metadata": {},
   "source": [
    "### plot unique labels"
   ]
  },
  {
   "cell_type": "code",
   "execution_count": 379,
   "metadata": {},
   "outputs": [
    {
     "data": {
      "image/png": "[encoded data removed]",
      "text/plain": [
       "<Figure size 216x3240 with 15 Axes>"
      ]
     },
     "metadata": {
      "needs_background": "light"
     },
     "output_type": "display_data"
    }
   ],
   "source": [
    "n = len(np.unique(labels))\n",
    "fig, axs = plt.subplots(nrows=n, figsize=(3, 3*n), sharex=True)\n",
    "\n",
    "for ax, label in zip(axs, np.unique(labels)):\n",
    "    pltblock = np.zeros_like(labels)\n",
    "    pltblock[labels==label] = 1\n",
    "    ax.imshow(pltblock.reshape(*res)[:, 24, :].T, origin=\"lower\")"
   ]
  },
  {
   "cell_type": "markdown",
   "metadata": {},
   "source": [
    "### shift labels"
   ]
  },
  {
   "cell_type": "code",
   "execution_count": 219,
   "metadata": {},
   "outputs": [
    {
     "data": {
      "text/plain": [
       "(50, 50, 50)"
      ]
     },
     "execution_count": 219,
     "metadata": {},
     "output_type": "execute_result"
    }
   ],
   "source": [
    "labels.shape"
   ]
  },
  {
   "cell_type": "code",
   "execution_count": 380,
   "metadata": {},
   "outputs": [
    {
     "data": {
      "text/plain": [
       "<matplotlib.image.AxesImage at 0x1e585557470>"
      ]
     },
     "execution_count": 380,
     "metadata": {},
     "output_type": "execute_result"
    },
    {
     "data": {
      "image/png": "[encoded data removed]",
      "text/plain": [
       "<Figure size 432x288 with 1 Axes>"
      ]
     },
     "metadata": {
      "needs_background": "light"
     },
     "output_type": "display_data"
    }
   ],
   "source": [
    "diff1 = labels_sum[1:, :, :] - labels_sum[:-1, :, :]\n",
    "plt.imshow(diff1[:, 24, :].T, origin=\"lower\")"
   ]
  },
  {
   "cell_type": "code",
   "execution_count": 381,
   "metadata": {},
   "outputs": [
    {
     "data": {
      "text/plain": [
       "<matplotlib.image.AxesImage at 0x1e586cf8710>"
      ]
     },
     "execution_count": 381,
     "metadata": {},
     "output_type": "execute_result"
    },
    {
     "data": {
      "image/png": "[encoded data removed]",
      "text/plain": [
       "<Figure size 432x288 with 1 Axes>"
      ]
     },
     "metadata": {
      "needs_background": "light"
     },
     "output_type": "display_data"
    }
   ],
   "source": [
    "diff2 = labels_sum[:, :, 1:] - labels_sum[:, :, :-1]\n",
    "plt.imshow(diff2[:, 24, :].T, origin=\"lower\", cmap=\"jet\")"
   ]
  },
  {
   "cell_type": "code",
   "execution_count": null,
   "metadata": {},
   "outputs": [],
   "source": []
  }
 ],
 "metadata": {
  "kernelspec": {
   "display_name": "Python [conda env:topology]",
   "language": "python",
   "name": "conda-env-topology-py"
  },
  "language_info": {
   "codemirror_mode": {
    "name": "ipython",
    "version": 3
   },
   "file_extension": ".py",
   "mimetype": "text/x-python",
   "name": "python",
   "nbconvert_exporter": "python",
   "pygments_lexer": "ipython3",
   "version": "3.7.3"
  }
 },
 "nbformat": 4,
 "nbformat_minor": 2
}
