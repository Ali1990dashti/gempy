{
 "cells": [
  {
   "cell_type": "code",
   "execution_count": 1,
   "metadata": {},
   "outputs": [
    {
     "name": "stderr",
     "output_type": "stream",
     "text": [
      "WARNING (theano.tensor.blas): Using NumPy C-API based implementation for BLAS functions.\n",
      "C:\\Users\\r02as18\\miniconda3\\envs\\topology\\lib\\site-packages\\theano\\gpuarray\\dnn.py:184: UserWarning: Your cuDNN version is more recent than Theano. If you encounter problems, try updating Theano or downgrading cuDNN to a version >= v5 and <= v7.\n",
      "  warnings.warn(\"Your cuDNN version is more recent than \"\n",
      "ERROR (theano.gpuarray): Could not initialize pygpu, support disabled\n",
      "Traceback (most recent call last):\n",
      "  File \"C:\\Users\\r02as18\\miniconda3\\envs\\topology\\lib\\site-packages\\theano\\gpuarray\\__init__.py\", line 227, in <module>\n",
      "    use(config.device)\n",
      "  File \"C:\\Users\\r02as18\\miniconda3\\envs\\topology\\lib\\site-packages\\theano\\gpuarray\\__init__.py\", line 214, in use\n",
      "    init_dev(device, preallocate=preallocate)\n",
      "  File \"C:\\Users\\r02as18\\miniconda3\\envs\\topology\\lib\\site-packages\\theano\\gpuarray\\__init__.py\", line 99, in init_dev\n",
      "    **args)\n",
      "  File \"pygpu\\gpuarray.pyx\", line 658, in pygpu.gpuarray.init\n",
      "  File \"pygpu\\gpuarray.pyx\", line 587, in pygpu.gpuarray.pygpu_init\n",
      "pygpu.gpuarray.GpuArrayException: b'Could not load \"nvrtc64_70.dll\": The specified module could not be found.\\r\\n'\n"
     ]
    }
   ],
   "source": [
    "import sys, os\n",
    "os.environ[\"THEANO_FLAGS\"] = \"device=cuda\"  # use gpu\n",
    "sys.path.append(\"../../../\")\n",
    "import gempy as gp\n",
    "import numpy as np\n",
    "import matplotlib.pyplot as plt\n",
    "%matplotlib inline\n"
   ]
  },
  {
   "cell_type": "code",
   "execution_count": 2,
   "metadata": {},
   "outputs": [
    {
     "name": "stdout",
     "output_type": "stream",
     "text": [
      "Active grids: ['regular']\n",
      "Compiling theano function...\n",
      "Level of Optimization:  fast_compile\n",
      "Device:  cuda\n",
      "Precision:  float32\n",
      "Number of faults:  2\n",
      "Compilation Done!\n"
     ]
    },
    {
     "name": "stderr",
     "output_type": "stream",
     "text": [
      "C:\\Users\\r02as18\\miniconda3\\envs\\topology\\lib\\site-packages\\theano\\tensor\\slinalg.py:255: LinAlgWarning: Ill-conditioned matrix (rcond=2.46756e-12): result may not be accurate.\n",
      "  rval = scipy.linalg.solve(A, b)\n"
     ]
    },
    {
     "data": {
      "text/plain": [
       "<gempy.plot.visualization_2d.PlotSolution at 0x1b70bc43fd0>"
      ]
     },
     "execution_count": 2,
     "metadata": {},
     "output_type": "execute_result"
    },
    {
     "data": {
      "image/png": "[encoded data removed]",
      "text/plain": [
       "<Figure size 432x288 with 1 Axes>"
      ]
     },
     "metadata": {
      "needs_background": "light"
     },
     "output_type": "display_data"
    }
   ],
   "source": [
    "geo_model = gp.load_model(\n",
    "    'Tutorial_ch1-9b_Fault_relations', \n",
    "    path= '../../data/gempy_models', \n",
    "    recompile=True\n",
    ")\n",
    "gp.compute_model(geo_model)\n",
    "gp.plot.plot_section(geo_model, show_data=True)"
   ]
  },
  {
   "cell_type": "code",
   "execution_count": 3,
   "metadata": {},
   "outputs": [],
   "source": [
    "res = geo_model.grid.regular_grid.resolution\n",
    "lb = np.round(geo_model.solutions.block_matrix[-1, 0, :]).astype(int)\n",
    "fb = np.round(geo_model.solutions.block_matrix[:-1, 0, :]).astype(int)"
   ]
  },
  {
   "cell_type": "code",
   "execution_count": 4,
   "metadata": {},
   "outputs": [
    {
     "data": {
      "image/png": "[encoded data removed]",
      "text/plain": [
       "<Figure size 1080x576 with 3 Axes>"
      ]
     },
     "metadata": {
      "needs_background": "light"
     },
     "output_type": "display_data"
    }
   ],
   "source": [
    "fig, axs = plt.subplots(ncols=3, sharey=True, figsize=(15,8))\n",
    "\n",
    "for ax, block in zip(axs, (lb, *fb)):\n",
    "    ax.imshow(block.reshape(*res)[:, 24, :].T, origin=\"lower\")"
   ]
  },
  {
   "cell_type": "code",
   "execution_count": 5,
   "metadata": {},
   "outputs": [
    {
     "data": {
      "text/html": [
       "<style  type=\"text/css\" >\n",
       "    #T_15bf970c_0142_11ea_a2e1_d46d6d96cefdrow0_col4 {\n",
       "            background-color:  #015482;\n",
       "        }    #T_15bf970c_0142_11ea_a2e1_d46d6d96cefdrow1_col4 {\n",
       "            background-color:  #9f0052;\n",
       "        }    #T_15bf970c_0142_11ea_a2e1_d46d6d96cefdrow2_col4 {\n",
       "            background-color:  #ffbe00;\n",
       "        }    #T_15bf970c_0142_11ea_a2e1_d46d6d96cefdrow3_col4 {\n",
       "            background-color:  #728f02;\n",
       "        }    #T_15bf970c_0142_11ea_a2e1_d46d6d96cefdrow4_col4 {\n",
       "            background-color:  #443988;\n",
       "        }    #T_15bf970c_0142_11ea_a2e1_d46d6d96cefdrow5_col4 {\n",
       "            background-color:  #ff3f20;\n",
       "        }    #T_15bf970c_0142_11ea_a2e1_d46d6d96cefdrow6_col4 {\n",
       "            background-color:  #325916;\n",
       "        }</style><table id=\"T_15bf970c_0142_11ea_a2e1_d46d6d96cefd\" ><thead>    <tr>        <th class=\"blank level0\" ></th>        <th class=\"col_heading level0 col0\" >surface</th>        <th class=\"col_heading level0 col1\" >series</th>        <th class=\"col_heading level0 col2\" >order_surfaces</th>        <th class=\"col_heading level0 col3\" >isBasement</th>        <th class=\"col_heading level0 col4\" >color</th>        <th class=\"col_heading level0 col5\" >id</th>    </tr></thead><tbody>\n",
       "                <tr>\n",
       "                        <th id=\"T_15bf970c_0142_11ea_a2e1_d46d6d96cefdlevel0_row0\" class=\"row_heading level0 row0\" >7</th>\n",
       "                        <td id=\"T_15bf970c_0142_11ea_a2e1_d46d6d96cefdrow0_col0\" class=\"data row0 col0\" >fault2</td>\n",
       "                        <td id=\"T_15bf970c_0142_11ea_a2e1_d46d6d96cefdrow0_col1\" class=\"data row0 col1\" >fault_series2</td>\n",
       "                        <td id=\"T_15bf970c_0142_11ea_a2e1_d46d6d96cefdrow0_col2\" class=\"data row0 col2\" >1</td>\n",
       "                        <td id=\"T_15bf970c_0142_11ea_a2e1_d46d6d96cefdrow0_col3\" class=\"data row0 col3\" >False</td>\n",
       "                        <td id=\"T_15bf970c_0142_11ea_a2e1_d46d6d96cefdrow0_col4\" class=\"data row0 col4\" >#015482</td>\n",
       "                        <td id=\"T_15bf970c_0142_11ea_a2e1_d46d6d96cefdrow0_col5\" class=\"data row0 col5\" >1</td>\n",
       "            </tr>\n",
       "            <tr>\n",
       "                        <th id=\"T_15bf970c_0142_11ea_a2e1_d46d6d96cefdlevel0_row1\" class=\"row_heading level0 row1\" >5</th>\n",
       "                        <td id=\"T_15bf970c_0142_11ea_a2e1_d46d6d96cefdrow1_col0\" class=\"data row1 col0\" >fault1</td>\n",
       "                        <td id=\"T_15bf970c_0142_11ea_a2e1_d46d6d96cefdrow1_col1\" class=\"data row1 col1\" >fault_series1</td>\n",
       "                        <td id=\"T_15bf970c_0142_11ea_a2e1_d46d6d96cefdrow1_col2\" class=\"data row1 col2\" >1</td>\n",
       "                        <td id=\"T_15bf970c_0142_11ea_a2e1_d46d6d96cefdrow1_col3\" class=\"data row1 col3\" >False</td>\n",
       "                        <td id=\"T_15bf970c_0142_11ea_a2e1_d46d6d96cefdrow1_col4\" class=\"data row1 col4\" >#9f0052</td>\n",
       "                        <td id=\"T_15bf970c_0142_11ea_a2e1_d46d6d96cefdrow1_col5\" class=\"data row1 col5\" >2</td>\n",
       "            </tr>\n",
       "            <tr>\n",
       "                        <th id=\"T_15bf970c_0142_11ea_a2e1_d46d6d96cefdlevel0_row2\" class=\"row_heading level0 row2\" >6</th>\n",
       "                        <td id=\"T_15bf970c_0142_11ea_a2e1_d46d6d96cefdrow2_col0\" class=\"data row2 col0\" >rock4</td>\n",
       "                        <td id=\"T_15bf970c_0142_11ea_a2e1_d46d6d96cefdrow2_col1\" class=\"data row2 col1\" >series1</td>\n",
       "                        <td id=\"T_15bf970c_0142_11ea_a2e1_d46d6d96cefdrow2_col2\" class=\"data row2 col2\" >1</td>\n",
       "                        <td id=\"T_15bf970c_0142_11ea_a2e1_d46d6d96cefdrow2_col3\" class=\"data row2 col3\" >False</td>\n",
       "                        <td id=\"T_15bf970c_0142_11ea_a2e1_d46d6d96cefdrow2_col4\" class=\"data row2 col4\" >#ffbe00</td>\n",
       "                        <td id=\"T_15bf970c_0142_11ea_a2e1_d46d6d96cefdrow2_col5\" class=\"data row2 col5\" >3</td>\n",
       "            </tr>\n",
       "            <tr>\n",
       "                        <th id=\"T_15bf970c_0142_11ea_a2e1_d46d6d96cefdlevel0_row3\" class=\"row_heading level0 row3\" >0</th>\n",
       "                        <td id=\"T_15bf970c_0142_11ea_a2e1_d46d6d96cefdrow3_col0\" class=\"data row3 col0\" >rock3</td>\n",
       "                        <td id=\"T_15bf970c_0142_11ea_a2e1_d46d6d96cefdrow3_col1\" class=\"data row3 col1\" >series1</td>\n",
       "                        <td id=\"T_15bf970c_0142_11ea_a2e1_d46d6d96cefdrow3_col2\" class=\"data row3 col2\" >2</td>\n",
       "                        <td id=\"T_15bf970c_0142_11ea_a2e1_d46d6d96cefdrow3_col3\" class=\"data row3 col3\" >False</td>\n",
       "                        <td id=\"T_15bf970c_0142_11ea_a2e1_d46d6d96cefdrow3_col4\" class=\"data row3 col4\" >#728f02</td>\n",
       "                        <td id=\"T_15bf970c_0142_11ea_a2e1_d46d6d96cefdrow3_col5\" class=\"data row3 col5\" >4</td>\n",
       "            </tr>\n",
       "            <tr>\n",
       "                        <th id=\"T_15bf970c_0142_11ea_a2e1_d46d6d96cefdlevel0_row4\" class=\"row_heading level0 row4\" >3</th>\n",
       "                        <td id=\"T_15bf970c_0142_11ea_a2e1_d46d6d96cefdrow4_col0\" class=\"data row4 col0\" >rock2</td>\n",
       "                        <td id=\"T_15bf970c_0142_11ea_a2e1_d46d6d96cefdrow4_col1\" class=\"data row4 col1\" >series1</td>\n",
       "                        <td id=\"T_15bf970c_0142_11ea_a2e1_d46d6d96cefdrow4_col2\" class=\"data row4 col2\" >3</td>\n",
       "                        <td id=\"T_15bf970c_0142_11ea_a2e1_d46d6d96cefdrow4_col3\" class=\"data row4 col3\" >False</td>\n",
       "                        <td id=\"T_15bf970c_0142_11ea_a2e1_d46d6d96cefdrow4_col4\" class=\"data row4 col4\" >#443988</td>\n",
       "                        <td id=\"T_15bf970c_0142_11ea_a2e1_d46d6d96cefdrow4_col5\" class=\"data row4 col5\" >5</td>\n",
       "            </tr>\n",
       "            <tr>\n",
       "                        <th id=\"T_15bf970c_0142_11ea_a2e1_d46d6d96cefdlevel0_row5\" class=\"row_heading level0 row5\" >1</th>\n",
       "                        <td id=\"T_15bf970c_0142_11ea_a2e1_d46d6d96cefdrow5_col0\" class=\"data row5 col0\" >rock1</td>\n",
       "                        <td id=\"T_15bf970c_0142_11ea_a2e1_d46d6d96cefdrow5_col1\" class=\"data row5 col1\" >series1</td>\n",
       "                        <td id=\"T_15bf970c_0142_11ea_a2e1_d46d6d96cefdrow5_col2\" class=\"data row5 col2\" >4</td>\n",
       "                        <td id=\"T_15bf970c_0142_11ea_a2e1_d46d6d96cefdrow5_col3\" class=\"data row5 col3\" >False</td>\n",
       "                        <td id=\"T_15bf970c_0142_11ea_a2e1_d46d6d96cefdrow5_col4\" class=\"data row5 col4\" >#ff3f20</td>\n",
       "                        <td id=\"T_15bf970c_0142_11ea_a2e1_d46d6d96cefdrow5_col5\" class=\"data row5 col5\" >6</td>\n",
       "            </tr>\n",
       "            <tr>\n",
       "                        <th id=\"T_15bf970c_0142_11ea_a2e1_d46d6d96cefdlevel0_row6\" class=\"row_heading level0 row6\" >4</th>\n",
       "                        <td id=\"T_15bf970c_0142_11ea_a2e1_d46d6d96cefdrow6_col0\" class=\"data row6 col0\" >basement</td>\n",
       "                        <td id=\"T_15bf970c_0142_11ea_a2e1_d46d6d96cefdrow6_col1\" class=\"data row6 col1\" >basement_series</td>\n",
       "                        <td id=\"T_15bf970c_0142_11ea_a2e1_d46d6d96cefdrow6_col2\" class=\"data row6 col2\" >1</td>\n",
       "                        <td id=\"T_15bf970c_0142_11ea_a2e1_d46d6d96cefdrow6_col3\" class=\"data row6 col3\" >True</td>\n",
       "                        <td id=\"T_15bf970c_0142_11ea_a2e1_d46d6d96cefdrow6_col4\" class=\"data row6 col4\" >#325916</td>\n",
       "                        <td id=\"T_15bf970c_0142_11ea_a2e1_d46d6d96cefdrow6_col5\" class=\"data row6 col5\" >7</td>\n",
       "            </tr>\n",
       "    </tbody></table>"
      ],
      "text/plain": [
       "    surface           series  order_surfaces  isBasement    color                                           vertices                                              edges  id\n",
       "7    fault2    fault_series2               1       False  #015482  [[354.93995666503906, 0.0, -980.0], [344.93343...  [[2, 1, 0], [3, 1, 2], [0, 5, 4], [0, 4, 2], [...   1\n",
       "5    fault1    fault_series1               1       False  #9f0052  [[14.601430892944336, 20.0, -60.0], [20.0, 0.0...  [[2, 1, 0], [0, 1, 3], [2, 5, 4], [2, 0, 5], [...   2\n",
       "6     rock4          series1               1       False  #ffbe00  [[0.0, 0.0, -560.0018310546875], [0.0, 20.0, -...  [[2, 1, 0], [3, 1, 2], [3, 4, 1], [5, 4, 3], [...   3\n",
       "0     rock3          series1               2       False  #728f02  [[0.0, 0.0, -610.0020980834961], [0.0, 20.0, -...  [[2, 1, 0], [3, 1, 2], [3, 4, 1], [5, 4, 3], [...   4\n",
       "3     rock2          series1               3       False  #443988  [[0.0, 0.0, -660.0027847290039], [0.0, 20.0, -...  [[2, 1, 0], [3, 1, 2], [3, 4, 1], [5, 4, 3], [...   5\n",
       "1     rock1          series1               4       False  #ff3f20  [[0.0, 0.0, -710.0034332275391], [0.0, 20.0, -...  [[2, 1, 0], [3, 1, 2], [3, 4, 1], [5, 4, 3], [...   6\n",
       "4  basement  basement_series               1        True  #325916                                                NaN                                                NaN   7"
      ]
     },
     "execution_count": 5,
     "metadata": {},
     "output_type": "execute_result"
    }
   ],
   "source": [
    "geo_model.surfaces"
   ]
  },
  {
   "cell_type": "code",
   "execution_count": 6,
   "metadata": {},
   "outputs": [
    {
     "data": {
      "text/html": [
       "<table border=\"1\" class=\"dataframe\">\n",
       "  <thead>\n",
       "    <tr style=\"text-align: right;\">\n",
       "      <th></th>\n",
       "      <th>isFault</th>\n",
       "      <th>isFinite</th>\n",
       "    </tr>\n",
       "  </thead>\n",
       "  <tbody>\n",
       "    <tr>\n",
       "      <th>fault_series2</th>\n",
       "      <td>True</td>\n",
       "      <td>False</td>\n",
       "    </tr>\n",
       "    <tr>\n",
       "      <th>fault_series1</th>\n",
       "      <td>True</td>\n",
       "      <td>False</td>\n",
       "    </tr>\n",
       "    <tr>\n",
       "      <th>series1</th>\n",
       "      <td>False</td>\n",
       "      <td>False</td>\n",
       "    </tr>\n",
       "    <tr>\n",
       "      <th>basement_series</th>\n",
       "      <td>False</td>\n",
       "      <td>False</td>\n",
       "    </tr>\n",
       "  </tbody>\n",
       "</table>"
      ],
      "text/plain": [
       "                 isFault  isFinite\n",
       "fault_series2       True     False\n",
       "fault_series1       True     False\n",
       "series1            False     False\n",
       "basement_series    False     False"
      ]
     },
     "execution_count": 6,
     "metadata": {},
     "output_type": "execute_result"
    }
   ],
   "source": [
    "geo_model.faults"
   ]
  },
  {
   "cell_type": "markdown",
   "metadata": {},
   "source": [
    "### create unique labels"
   ]
  },
  {
   "cell_type": "code",
   "execution_count": 7,
   "metadata": {},
   "outputs": [],
   "source": [
    "import logging\n",
    "logging.basicConfig(level=logging.DEBUG, format='%(message)s')"
   ]
  },
  {
   "cell_type": "code",
   "execution_count": 45,
   "metadata": {},
   "outputs": [],
   "source": [
    "def lithblock_to_lb_fb(geo_model) -> tuple:\n",
    "    \"\"\"Serve flattened lithology id and fault blocks from solutions\n",
    "    stored in given geomodel instance for topological analysis (i.e.\n",
    "    rounded integer arrays).\n",
    "    \n",
    "    Args:\n",
    "        geo_model (gp.core.model.Model): GemPy Model instance with \n",
    "            solutions.\n",
    "    \n",
    "    Returns:\n",
    "        (tuple) of np.ndarray's containing the lithilogy id block\n",
    "            and fault block stack.\n",
    "    \"\"\"\n",
    "    lb = np.round(geo_model.solutions.block_matrix[-1, 0, :]).astype(int)\n",
    "    fb = np.round(geo_model.solutions.block_matrix[:-1, 0, :]).astype(int)\n",
    "    return lb, fb\n",
    "\n",
    "\n",
    "def get_fault_ids(geo_model) -> np.array:\n",
    "    \"\"\"Get surface id's for all faults in given geomodel.\n",
    "    \n",
    "    Args:\n",
    "        geo_model ():\n",
    "        \n",
    "    Returns:\n",
    "        (np.array) of int surface id's.\n",
    "    \n",
    "    \"\"\"\n",
    "    isfault = np.isin(\n",
    "        geo_model.surfaces.df.series, \n",
    "        geo_model.faults.df.index[geo_model.faults.df.isFault]\n",
    "    )\n",
    "    return geo_model.surfaces.df.id[isfault].values\n",
    "    \n",
    "    \n",
    "def label(geo_model) -> np.ndarray:\n",
    "    \"\"\"Uniquely label geobodies in geomodel for topology analysis.\n",
    "    \n",
    "    Args:\n",
    "        geo_model ():\n",
    "    \n",
    "    Returns:\n",
    "        (np.ndarray) Uniquely labeled geomodel (flattened)\n",
    "    \"\"\"\n",
    "    # get data\n",
    "    lb, fb = lithblock_to_lb_fb(geo_model)\n",
    "    fault_ids = get_fault_ids(geo_model)\n",
    "    logging.debug(f\"fault id's: {fault_ids}\")\n",
    "    # label lithologies\n",
    "    lb_labels = lb # - lb.min() + 1\n",
    "    logging.debug(f\"lb labels: {np.unique(lb_labels)}\")\n",
    "    # label faults\n",
    "    fb_labels = fb - fb.min(axis=1)[:, None]\n",
    "    fb_labels = fb_labels * fault_ids[:, None]\n",
    "    logging.debug(f\"fb labels: {np.unique(fb_labels)}\")\n",
    "    for i, fblock in enumerate(fb_labels):\n",
    "        logging.debug(f\"fb {i}: {np.unique(fblock)}\")\n",
    "    # combine labels\n",
    "    # concatenate lith labels with fault labels array into (n, ...)\n",
    "    labels = 2**np.concatenate((lb_labels[None, :], fb_labels), axis=0)\n",
    "    # sum along axis 0 to combine into unique geobody labels\n",
    "    # for each fault block\n",
    "    labels = labels.sum(axis=0)\n",
    "    logging.debug(f\"labels: {np.unique(labels)}\")\n",
    "#     logging.debug(f\"labels bin: {[np.binary_repr(label) for label in np.unique(labels)]}\")\n",
    "    for label in np.unique(labels):\n",
    "        logging.debug(f\"label {label} -> {np.binary_repr(label)}\")\n",
    "    logging.debug(f\"n labels: {len(np.unique(labels))}\")\n",
    "    return labels"
   ]
  },
  {
   "cell_type": "code",
   "execution_count": 46,
   "metadata": {},
   "outputs": [
    {
     "name": "stderr",
     "output_type": "stream",
     "text": [
      "fault id's: [1 2]\n",
      "lb labels: [3 4 5 6 7]\n",
      "fb labels: [0 1 2]\n",
      "fb 0: [0 1]\n",
      "fb 1: [0 2]\n",
      "labels: [ 10  13  14  18  21  22  34  37  38  66  69  70 130 133 134]\n",
      "label 10 -> 1010\n",
      "label 13 -> 1101\n",
      "label 14 -> 1110\n",
      "label 18 -> 10010\n",
      "label 21 -> 10101\n",
      "label 22 -> 10110\n",
      "label 34 -> 100010\n",
      "label 37 -> 100101\n",
      "label 38 -> 100110\n",
      "label 66 -> 1000010\n",
      "label 69 -> 1000101\n",
      "label 70 -> 1000110\n",
      "label 130 -> 10000010\n",
      "label 133 -> 10000101\n",
      "label 134 -> 10000110\n",
      "n labels: 15\n"
     ]
    }
   ],
   "source": [
    "labels = label(geo_model).reshape(*res)"
   ]
  },
  {
   "cell_type": "code",
   "execution_count": 20,
   "metadata": {},
   "outputs": [
    {
     "data": {
      "text/plain": [
       "<matplotlib.image.AxesImage at 0x1b7168639b0>"
      ]
     },
     "execution_count": 20,
     "metadata": {},
     "output_type": "execute_result"
    },
    {
     "data": {
      "image/png": "[encoded data removed]",
      "text/plain": [
       "<Figure size 432x288 with 1 Axes>"
      ]
     },
     "metadata": {
      "needs_background": "light"
     },
     "output_type": "display_data"
    }
   ],
   "source": [
    "plt.imshow(labels[:, 24, :].T, origin=\"lower\", cmap=\"hsv\")"
   ]
  },
  {
   "cell_type": "code",
   "execution_count": 22,
   "metadata": {},
   "outputs": [
    {
     "name": "stdout",
     "output_type": "stream",
     "text": [
      "Uniquely labeled all geobodies: True\n"
     ]
    }
   ],
   "source": [
    "print(\"Uniquely labeled all geobodies:\", len(np.unique(labels)) == 15)"
   ]
  },
  {
   "cell_type": "code",
   "execution_count": 42,
   "metadata": {},
   "outputs": [],
   "source": [
    "diff_z = np.abs(labels[:, :, 1:] + labels[:, :, :-1])\n",
    "diff_x = np.abs(labels[1:, :, :] + labels[:-1, :, :])\n",
    "diff_y = np.abs(labels[:, 1:, :] + labels[:, :-1, :])"
   ]
  },
  {
   "cell_type": "code",
   "execution_count": 44,
   "metadata": {},
   "outputs": [
    {
     "data": {
      "image/png": "[encoded data removed]",
      "text/plain": [
       "<Figure size 1080x576 with 3 Axes>"
      ]
     },
     "metadata": {
      "needs_background": "light"
     },
     "output_type": "display_data"
    }
   ],
   "source": [
    "fig, axs = plt.subplots(ncols=3, sharey=True, figsize=(15,8))\n",
    "\n",
    "for ax, img in zip(axs, [diff_x, diff_y, diff_z]):\n",
    "    ax.imshow(img[:, 24, :].T, origin=\"lower\", cmap=\"hsv\")"
   ]
  },
  {
   "cell_type": "markdown",
   "metadata": {},
   "source": [
    "## TODO\n",
    "\n",
    "* fact check horizon diff uniqueness\n",
    "* fact check uniqueness of diff across faults\n",
    "* figure out how to extract topology information from this\n",
    "    * maybe create a LOT from the unique labels and fault blocks"
   ]
  },
  {
   "cell_type": "code",
   "execution_count": 25,
   "metadata": {},
   "outputs": [
    {
     "data": {
      "text/plain": [
       "array([ 20,  23,  24,  26,  28,  31,  32,  34,  36,  42,  44,  47,  48,\n",
       "        52,  58,  60,  68,  74,  76,  87,  88, 100, 106, 108, 132, 138,\n",
       "       140, 152, 167, 168, 196, 199, 200, 202, 204, 260, 263, 264, 266,\n",
       "       267, 268], dtype=int64)"
      ]
     },
     "execution_count": 25,
     "metadata": {},
     "output_type": "execute_result"
    }
   ],
   "source": [
    "np.unique(diff_z)"
   ]
  },
  {
   "cell_type": "code",
   "execution_count": 26,
   "metadata": {},
   "outputs": [
    {
     "data": {
      "text/plain": [
       "50"
      ]
     },
     "execution_count": 26,
     "metadata": {},
     "output_type": "execute_result"
    }
   ],
   "source": [
    "len(diff_z)"
   ]
  },
  {
   "cell_type": "code",
   "execution_count": 27,
   "metadata": {},
   "outputs": [
    {
     "data": {
      "text/plain": [
       "array([ 10,  13,  14,  18,  21,  22,  34,  37,  38,  66,  69,  70, 130,\n",
       "       133, 134], dtype=int64)"
      ]
     },
     "execution_count": 27,
     "metadata": {},
     "output_type": "execute_result"
    }
   ],
   "source": [
    "np.unique(labels)"
   ]
  },
  {
   "cell_type": "code",
   "execution_count": 28,
   "metadata": {},
   "outputs": [
    {
     "name": "stdout",
     "output_type": "stream",
     "text": [
      "1010 -> 10\n",
      "1101 -> 13\n",
      "1110 -> 14\n",
      "10010 -> 18\n",
      "10101 -> 21\n",
      "10110 -> 22\n",
      "100010 -> 34\n",
      "100101 -> 37\n",
      "100110 -> 38\n",
      "1000010 -> 66\n",
      "1000101 -> 69\n",
      "1000110 -> 70\n",
      "10000010 -> 130\n",
      "10000101 -> 133\n",
      "10000110 -> 134\n"
     ]
    }
   ],
   "source": [
    "for label in np.unique(labels):\n",
    "    binary = np.binary_repr(label)\n",
    "    print(binary, \"->\", int(binary, 2))"
   ]
  },
  {
   "cell_type": "code",
   "execution_count": 29,
   "metadata": {},
   "outputs": [
    {
     "name": "stdout",
     "output_type": "stream",
     "text": [
      "10100 -> 20\n",
      "10111 -> 23\n",
      "11000 -> 24\n",
      "11010 -> 26\n",
      "11100 -> 28\n",
      "11111 -> 31\n",
      "100000 -> 32\n",
      "100010 -> 34\n",
      "100100 -> 36\n",
      "101010 -> 42\n",
      "101100 -> 44\n",
      "101111 -> 47\n",
      "110000 -> 48\n",
      "110100 -> 52\n",
      "111010 -> 58\n",
      "111100 -> 60\n",
      "1000100 -> 68\n",
      "1001010 -> 74\n",
      "1001100 -> 76\n",
      "1010111 -> 87\n",
      "1011000 -> 88\n",
      "1100100 -> 100\n",
      "1101010 -> 106\n",
      "1101100 -> 108\n",
      "10000100 -> 132\n",
      "10001010 -> 138\n",
      "10001100 -> 140\n",
      "10011000 -> 152\n",
      "10100111 -> 167\n",
      "10101000 -> 168\n",
      "11000100 -> 196\n",
      "11000111 -> 199\n",
      "11001000 -> 200\n",
      "11001010 -> 202\n",
      "11001100 -> 204\n",
      "100000100 -> 260\n",
      "100000111 -> 263\n",
      "100001000 -> 264\n",
      "100001010 -> 266\n",
      "100001011 -> 267\n",
      "100001100 -> 268\n"
     ]
    }
   ],
   "source": [
    "for edge in np.unique(diff_z):\n",
    "    binary = np.binary_repr(edge)\n",
    "    print(binary, \"->\", int(binary, 2))"
   ]
  },
  {
   "cell_type": "code",
   "execution_count": null,
   "metadata": {},
   "outputs": [],
   "source": []
  }
 ],
 "metadata": {
  "kernelspec": {
   "display_name": "Python [conda env:topology]",
   "language": "python",
   "name": "conda-env-topology-py"
  },
  "language_info": {
   "codemirror_mode": {
    "name": "ipython",
    "version": 3
   },
   "file_extension": ".py",
   "mimetype": "text/x-python",
   "name": "python",
   "nbconvert_exporter": "python",
   "pygments_lexer": "ipython3",
   "version": "3.7.3"
  }
 },
 "nbformat": 4,
 "nbformat_minor": 2
}
