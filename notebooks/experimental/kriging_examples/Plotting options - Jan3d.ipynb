{
 "cells": [
  {
   "cell_type": "code",
   "execution_count": null,
   "metadata": {},
   "outputs": [],
   "source": []
  },
  {
   "cell_type": "code",
   "execution_count": 1,
   "metadata": {},
   "outputs": [],
   "source": [
    "# These two lines are necessary only if GemPy is not installed\n",
    "import sys, os\n",
    "sys.path.append(\"../../..\")\n",
    "os.pardir='../..'\n",
    "# Importing GemPy\n",
    "import gempy as gp\n",
    "# Embedding matplotlib figures in the notebooks\n",
    "%matplotlib inline\n",
    "# Importing auxiliary libraries\n",
    "import numpy as np\n",
    "import matplotlib.pyplot as plt\n"
   ]
  },
  {
   "cell_type": "code",
   "execution_count": 2,
   "metadata": {},
   "outputs": [
    {
     "name": "stdout",
     "output_type": "stream",
     "text": [
      "Active grids: ['regular']\n"
     ]
    }
   ],
   "source": [
    "# set resolution, extent and input data\n",
    "geo_data = gp.create_data([0,1000,0,1000,0,1000],resolution=[25,25,25], \n",
    "                        path_o = os.pardir+\"/data/input_data/jan_models/model2_orientations.csv\",\n",
    "                        path_i = os.pardir+\"/data/input_data/jan_models/model2_surface_points.csv\") "
   ]
  },
  {
   "cell_type": "code",
   "execution_count": 3,
   "metadata": {},
   "outputs": [
    {
     "data": {
      "text/html": [
       "<style  type=\"text/css\" >\n",
       "    #T_f3c00388_dba1_11e9_8fec_d8cb8aeeb072row0_col4 {\n",
       "            background-color:  #015482;\n",
       "        }    #T_f3c00388_dba1_11e9_8fec_d8cb8aeeb072row1_col4 {\n",
       "            background-color:  #9f0052;\n",
       "        }    #T_f3c00388_dba1_11e9_8fec_d8cb8aeeb072row2_col4 {\n",
       "            background-color:  #ffbe00;\n",
       "        }</style><table id=\"T_f3c00388_dba1_11e9_8fec_d8cb8aeeb072\" ><thead>    <tr>        <th class=\"blank level0\" ></th>        <th class=\"col_heading level0 col0\" >surface</th>        <th class=\"col_heading level0 col1\" >series</th>        <th class=\"col_heading level0 col2\" >order_surfaces</th>        <th class=\"col_heading level0 col3\" >isBasement</th>        <th class=\"col_heading level0 col4\" >color</th>        <th class=\"col_heading level0 col5\" >id</th>    </tr></thead><tbody>\n",
       "                <tr>\n",
       "                        <th id=\"T_f3c00388_dba1_11e9_8fec_d8cb8aeeb072level0_row0\" class=\"row_heading level0 row0\" >0</th>\n",
       "                        <td id=\"T_f3c00388_dba1_11e9_8fec_d8cb8aeeb072row0_col0\" class=\"data row0 col0\" >rock1</td>\n",
       "                        <td id=\"T_f3c00388_dba1_11e9_8fec_d8cb8aeeb072row0_col1\" class=\"data row0 col1\" >Strat_Series</td>\n",
       "                        <td id=\"T_f3c00388_dba1_11e9_8fec_d8cb8aeeb072row0_col2\" class=\"data row0 col2\" >1</td>\n",
       "                        <td id=\"T_f3c00388_dba1_11e9_8fec_d8cb8aeeb072row0_col3\" class=\"data row0 col3\" >False</td>\n",
       "                        <td id=\"T_f3c00388_dba1_11e9_8fec_d8cb8aeeb072row0_col4\" class=\"data row0 col4\" >#015482</td>\n",
       "                        <td id=\"T_f3c00388_dba1_11e9_8fec_d8cb8aeeb072row0_col5\" class=\"data row0 col5\" >1</td>\n",
       "            </tr>\n",
       "            <tr>\n",
       "                        <th id=\"T_f3c00388_dba1_11e9_8fec_d8cb8aeeb072level0_row1\" class=\"row_heading level0 row1\" >1</th>\n",
       "                        <td id=\"T_f3c00388_dba1_11e9_8fec_d8cb8aeeb072row1_col0\" class=\"data row1 col0\" >rock2</td>\n",
       "                        <td id=\"T_f3c00388_dba1_11e9_8fec_d8cb8aeeb072row1_col1\" class=\"data row1 col1\" >Strat_Series</td>\n",
       "                        <td id=\"T_f3c00388_dba1_11e9_8fec_d8cb8aeeb072row1_col2\" class=\"data row1 col2\" >2</td>\n",
       "                        <td id=\"T_f3c00388_dba1_11e9_8fec_d8cb8aeeb072row1_col3\" class=\"data row1 col3\" >False</td>\n",
       "                        <td id=\"T_f3c00388_dba1_11e9_8fec_d8cb8aeeb072row1_col4\" class=\"data row1 col4\" >#9f0052</td>\n",
       "                        <td id=\"T_f3c00388_dba1_11e9_8fec_d8cb8aeeb072row1_col5\" class=\"data row1 col5\" >2</td>\n",
       "            </tr>\n",
       "            <tr>\n",
       "                        <th id=\"T_f3c00388_dba1_11e9_8fec_d8cb8aeeb072level0_row2\" class=\"row_heading level0 row2\" >2</th>\n",
       "                        <td id=\"T_f3c00388_dba1_11e9_8fec_d8cb8aeeb072row2_col0\" class=\"data row2 col0\" >basement</td>\n",
       "                        <td id=\"T_f3c00388_dba1_11e9_8fec_d8cb8aeeb072row2_col1\" class=\"data row2 col1\" >Basement_Series</td>\n",
       "                        <td id=\"T_f3c00388_dba1_11e9_8fec_d8cb8aeeb072row2_col2\" class=\"data row2 col2\" >1</td>\n",
       "                        <td id=\"T_f3c00388_dba1_11e9_8fec_d8cb8aeeb072row2_col3\" class=\"data row2 col3\" >True</td>\n",
       "                        <td id=\"T_f3c00388_dba1_11e9_8fec_d8cb8aeeb072row2_col4\" class=\"data row2 col4\" >#ffbe00</td>\n",
       "                        <td id=\"T_f3c00388_dba1_11e9_8fec_d8cb8aeeb072row2_col5\" class=\"data row2 col5\" >3</td>\n",
       "            </tr>\n",
       "    </tbody></table>"
      ],
      "text/plain": [
       "    surface           series  order_surfaces  isBasement    color vertices edges  id\n",
       "0     rock1     Strat_Series               1       False  #015482      NaN   NaN   1\n",
       "1     rock2     Strat_Series               2       False  #9f0052      NaN   NaN   2\n",
       "2  basement  Basement_Series               1        True  #ffbe00      NaN   NaN   3"
      ]
     },
     "execution_count": 3,
     "metadata": {},
     "output_type": "execute_result"
    }
   ],
   "source": [
    "# define series and assign surfaces\n",
    "gp.map_series_to_surfaces(geo_data, {\"Strat_Series\": ('rock2','rock1'),\"Basement_Series\":('basement')})"
   ]
  },
  {
   "cell_type": "code",
   "execution_count": 4,
   "metadata": {},
   "outputs": [
    {
     "name": "stdout",
     "output_type": "stream",
     "text": [
      "Compiling theano function...\n"
     ]
    },
    {
     "name": "stderr",
     "output_type": "stream",
     "text": [
      "INFO (theano.gof.compilelock): Waiting for existing lock by unknown process (I am process '14612')\n",
      "INFO (theano.gof.compilelock): To manually release the lock, delete C:\\Users\\Jan\\AppData\\Local\\Theano\\compiledir_Windows-10-10.0.17134-SP0-Intel64_Family_6_Model_60_Stepping_3_GenuineIntel-3.7.3-64\\lock_dir\n"
     ]
    },
    {
     "name": "stdout",
     "output_type": "stream",
     "text": [
      "Level of Optimization:  fast_compile\n",
      "Device:  cpu\n",
      "Precision:  float64\n",
      "Number of faults:  0\n",
      "Compilation Done!\n"
     ]
    }
   ],
   "source": [
    "# define the interpolator\n",
    "interp_data = gp.set_interpolation_data(geo_data, compile_theano=True,\n",
    "                                        theano_optimizer='fast_compile')"
   ]
  },
  {
   "cell_type": "code",
   "execution_count": 5,
   "metadata": {},
   "outputs": [
    {
     "name": "stderr",
     "output_type": "stream",
     "text": [
      "../../..\\gempy\\core\\solution.py:253: UserWarning: Attribute error. Using non masked marching cubesmarching_cubes_lewiner() got an unexpected keyword argument 'mask'.\n",
      "  warnings.warn('Attribute error. Using non masked marching cubes' + str(e)+'.')\n"
     ]
    }
   ],
   "source": [
    "#calcualte the solution\n",
    "sol = gp.compute_model(geo_data)"
   ]
  },
  {
   "cell_type": "code",
   "execution_count": 6,
   "metadata": {},
   "outputs": [
    {
     "name": "stdout",
     "output_type": "stream",
     "text": [
      "Click to select new colors.\n"
     ]
    },
    {
     "data": {
      "application/vnd.jupyter.widget-view+json": {
       "model_id": "87f448304d814aba8757111f66b6945b",
       "version_major": 2,
       "version_minor": 0
      },
      "text/plain": [
       "VBox(children=(ColorPicker(value='#015482', description='rock1'), ColorPicker(value='#9f0052', description='ro…"
      ]
     },
     "metadata": {},
     "output_type": "display_data"
    }
   ],
   "source": [
    "geo_data.surfaces.colors.change_colors()"
   ]
  },
  {
   "cell_type": "code",
   "execution_count": 7,
   "metadata": {},
   "outputs": [
    {
     "data": {
      "text/plain": [
       "<gempy.plot.visualization_2d.PlotSolution at 0x1f1f3ed90f0>"
      ]
     },
     "execution_count": 7,
     "metadata": {},
     "output_type": "execute_result"
    },
    {
     "data": {
      "image/png": "[encoded data removed]",
      "text/plain": [
       "<Figure size 432x288 with 1 Axes>"
      ]
     },
     "metadata": {
      "needs_background": "light"
     },
     "output_type": "display_data"
    }
   ],
   "source": [
    "# Plot cross section, which is basically the whole model in this example\n",
    "gp.plot.plot_section(geo_data, cell_number=0)"
   ]
  },
  {
   "cell_type": "code",
   "execution_count": 8,
   "metadata": {},
   "outputs": [
    {
     "data": {
      "text/html": [
       "<style  type=\"text/css\" >\n",
       "    #T_636799ec_dba2_11e9_85f6_d8cb8aeeb072row0_col4 {\n",
       "            background-color:  #9f0052;\n",
       "        }    #T_636799ec_dba2_11e9_85f6_d8cb8aeeb072row1_col4 {\n",
       "            background-color:  #015482;\n",
       "        }    #T_636799ec_dba2_11e9_85f6_d8cb8aeeb072row2_col4 {\n",
       "            background-color:  #ffbe00;\n",
       "        }</style><table id=\"T_636799ec_dba2_11e9_85f6_d8cb8aeeb072\" ><thead>    <tr>        <th class=\"blank level0\" ></th>        <th class=\"col_heading level0 col0\" >surface</th>        <th class=\"col_heading level0 col1\" >series</th>        <th class=\"col_heading level0 col2\" >order_surfaces</th>        <th class=\"col_heading level0 col3\" >isBasement</th>        <th class=\"col_heading level0 col4\" >color</th>        <th class=\"col_heading level0 col5\" >id</th>    </tr></thead><tbody>\n",
       "                <tr>\n",
       "                        <th id=\"T_636799ec_dba2_11e9_85f6_d8cb8aeeb072level0_row0\" class=\"row_heading level0 row0\" >1</th>\n",
       "                        <td id=\"T_636799ec_dba2_11e9_85f6_d8cb8aeeb072row0_col0\" class=\"data row0 col0\" >rock2</td>\n",
       "                        <td id=\"T_636799ec_dba2_11e9_85f6_d8cb8aeeb072row0_col1\" class=\"data row0 col1\" >Strat_Series</td>\n",
       "                        <td id=\"T_636799ec_dba2_11e9_85f6_d8cb8aeeb072row0_col2\" class=\"data row0 col2\" >1</td>\n",
       "                        <td id=\"T_636799ec_dba2_11e9_85f6_d8cb8aeeb072row0_col3\" class=\"data row0 col3\" >False</td>\n",
       "                        <td id=\"T_636799ec_dba2_11e9_85f6_d8cb8aeeb072row0_col4\" class=\"data row0 col4\" >#9f0052</td>\n",
       "                        <td id=\"T_636799ec_dba2_11e9_85f6_d8cb8aeeb072row0_col5\" class=\"data row0 col5\" >1</td>\n",
       "            </tr>\n",
       "            <tr>\n",
       "                        <th id=\"T_636799ec_dba2_11e9_85f6_d8cb8aeeb072level0_row1\" class=\"row_heading level0 row1\" >0</th>\n",
       "                        <td id=\"T_636799ec_dba2_11e9_85f6_d8cb8aeeb072row1_col0\" class=\"data row1 col0\" >rock1</td>\n",
       "                        <td id=\"T_636799ec_dba2_11e9_85f6_d8cb8aeeb072row1_col1\" class=\"data row1 col1\" >Strat_Series</td>\n",
       "                        <td id=\"T_636799ec_dba2_11e9_85f6_d8cb8aeeb072row1_col2\" class=\"data row1 col2\" >2</td>\n",
       "                        <td id=\"T_636799ec_dba2_11e9_85f6_d8cb8aeeb072row1_col3\" class=\"data row1 col3\" >False</td>\n",
       "                        <td id=\"T_636799ec_dba2_11e9_85f6_d8cb8aeeb072row1_col4\" class=\"data row1 col4\" >#015482</td>\n",
       "                        <td id=\"T_636799ec_dba2_11e9_85f6_d8cb8aeeb072row1_col5\" class=\"data row1 col5\" >2</td>\n",
       "            </tr>\n",
       "            <tr>\n",
       "                        <th id=\"T_636799ec_dba2_11e9_85f6_d8cb8aeeb072level0_row2\" class=\"row_heading level0 row2\" >2</th>\n",
       "                        <td id=\"T_636799ec_dba2_11e9_85f6_d8cb8aeeb072row2_col0\" class=\"data row2 col0\" >basement</td>\n",
       "                        <td id=\"T_636799ec_dba2_11e9_85f6_d8cb8aeeb072row2_col1\" class=\"data row2 col1\" >Basement_Series</td>\n",
       "                        <td id=\"T_636799ec_dba2_11e9_85f6_d8cb8aeeb072row2_col2\" class=\"data row2 col2\" >1</td>\n",
       "                        <td id=\"T_636799ec_dba2_11e9_85f6_d8cb8aeeb072row2_col3\" class=\"data row2 col3\" >True</td>\n",
       "                        <td id=\"T_636799ec_dba2_11e9_85f6_d8cb8aeeb072row2_col4\" class=\"data row2 col4\" >#ffbe00</td>\n",
       "                        <td id=\"T_636799ec_dba2_11e9_85f6_d8cb8aeeb072row2_col5\" class=\"data row2 col5\" >3</td>\n",
       "            </tr>\n",
       "    </tbody></table>"
      ],
      "text/plain": [
       "    surface           series  order_surfaces  isBasement    color                                           vertices                                              edges  id\n",
       "1     rock2     Strat_Series               1       False  #9f0052  [[0.0, 6.803346276283264, 400.0], [0.0, 40.0, ...  [[2, 1, 0], [3, 2, 0], [4, 3, 0], [5, 3, 4], [...   1\n",
       "0     rock1     Strat_Series               2       False  #015482  [[3.2291367650032043, 0.0, 200.0], [0.0, 40.0,...  [[2, 1, 0], [0, 1, 3], [0, 5, 4], [0, 4, 2], [...   2\n",
       "2  basement  Basement_Series               1        True  #ffbe00                                                NaN                                                NaN   3"
      ]
     },
     "execution_count": 8,
     "metadata": {},
     "output_type": "execute_result"
    }
   ],
   "source": [
    "geo_data.surfaces"
   ]
  },
  {
   "cell_type": "code",
   "execution_count": 9,
   "metadata": {},
   "outputs": [],
   "source": [
    "import gempy as gp\n",
    "#importlib.reload(kriging)\n",
    "from gempy.assets import kriging"
   ]
  },
  {
   "cell_type": "code",
   "execution_count": 32,
   "metadata": {},
   "outputs": [],
   "source": [
    "cond_data = np.array([[110,0,510,2],[910,0,510,1],[510,0,530,1],[310,0,410,5],\n",
    "                     [110,500,510,2],[910,500,510,1],[510,500,530,1],[310,500,410,5]])"
   ]
  },
  {
   "cell_type": "code",
   "execution_count": 33,
   "metadata": {},
   "outputs": [],
   "source": [
    "# Kriging\n",
    "domain = kriging.domain(model=sol, domain=[2], data=cond_data)\n",
    "variogram_model = kriging.variogram_model(theoretical_model = 'exponential', range_=100, sill=np.var(cond_data[:,3]))\n",
    "\n",
    "#solution = kriging.create_kriged_field(domain, variogram_model)\n",
    "solution = kriging.create_gaussian_field(domain, variogram_model, moving_neighbourhood='n_closest')"
   ]
  },
  {
   "cell_type": "code",
   "execution_count": 34,
   "metadata": {},
   "outputs": [
    {
     "data": {
      "image/png": "[encoded data removed]",
      "text/plain": [
       "<Figure size 432x288 with 2 Axes>"
      ]
     },
     "metadata": {
      "needs_background": "light"
     },
     "output_type": "display_data"
    }
   ],
   "source": [
    "solution.plot_results(geo_data=geo_data, prop='val', contour=False, direction='y', cell_number=0, alpha=0.7,\n",
    "                          show_data=False, legend=True)"
   ]
  },
  {
   "cell_type": "code",
   "execution_count": 35,
   "metadata": {},
   "outputs": [],
   "source": [
    "import ipyvolume as ipv\n",
    "import numpy as np\n",
    "\n",
    "from matplotlib.cm import ScalarMappable as SM"
   ]
  },
  {
   "cell_type": "code",
   "execution_count": 36,
   "metadata": {},
   "outputs": [],
   "source": [
    "def plot_3D_blocks(threshold):\n",
    "    \n",
    "    x = solution.results_df['X'].values\n",
    "    y = solution.results_df['Y'].values\n",
    "    z = solution.results_df['Z'].values\n",
    "    \n",
    "    vals = solution.results_df['estimated value'].values\n",
    "    vals_color = SM(cmap='viridis').to_rgba(vals)\n",
    "    \n",
    "    mask = vals > threshold\n",
    "    \n",
    "    x = x[mask]\n",
    "    y = y[mask]\n",
    "    z = z[mask]\n",
    "    vals = vals[mask]\n",
    "    \n",
    "    block_size = (domain.sol.grid.regular_grid.extent[1]\n",
    "                  -domain.sol.grid.regular_grid.extent[0])/(domain.sol.grid.regular_grid.resolution[0])/10\n",
    "    \n",
    "    ipv.figure()\n",
    "    ipv.pylab.scatter(x, y, z, color=vals_color[mask], size=block_size, marker=\"box\")\n",
    "\n",
    "    ipv.xlim(domain.sol.grid.regular_grid.extent[0], domain.sol.grid.regular_grid.extent[1])\n",
    "    ipv.ylim(domain.sol.grid.regular_grid.extent[2], domain.sol.grid.regular_grid.extent[3])\n",
    "    ipv.zlim(domain.sol.grid.regular_grid.extent[4], domain.sol.grid.regular_grid.extent[3])\n",
    "    ipv.show()"
   ]
  },
  {
   "cell_type": "code",
   "execution_count": 37,
   "metadata": {},
   "outputs": [],
   "source": [
    "import ipywidgets as widgets\n",
    "from ipywidgets import interact, interactive, fixed, interact_manual"
   ]
  },
  {
   "cell_type": "code",
   "execution_count": 41,
   "metadata": {},
   "outputs": [
    {
     "data": {
      "application/vnd.jupyter.widget-view+json": {
       "model_id": "76ba541f9414444e81aa1caf6500017f",
       "version_major": 2,
       "version_minor": 0
      },
      "text/plain": [
       "interactive(children=(FloatSlider(value=2.0, description='threshold', max=4.0, min=1.0), Output()), _dom_class…"
      ]
     },
     "metadata": {},
     "output_type": "display_data"
    }
   ],
   "source": [
    "interact(plot_3D_blocks, threshold=(1,4,0.1));"
   ]
  },
  {
   "cell_type": "code",
   "execution_count": 39,
   "metadata": {},
   "outputs": [],
   "source": [
    "from gempy.plot import visualization_2d"
   ]
  },
  {
   "cell_type": "code",
   "execution_count": 40,
   "metadata": {},
   "outputs": [],
   "source": [
    "plot = visualization_2d.PlotData2D(geo_data)"
   ]
  },
  {
   "cell_type": "code",
   "execution_count": null,
   "metadata": {},
   "outputs": [],
   "source": [
    "plot._cmap"
   ]
  },
  {
   "cell_type": "code",
   "execution_count": null,
   "metadata": {},
   "outputs": [],
   "source": [
    "\n",
    "x = sol.grid.regular_grid.values[:,0]\n",
    "y = sol.grid.regular_grid.values[:,1]\n",
    "z = sol.grid.regular_grid.values[:,2]\n",
    "    \n",
    "vals = np.round(sol.lith_block, 0)\n",
    "#vals_color = SM(cmap='viridis').to_rgba(vals)\n",
    "\n",
    "vals_color = SM(cmap=plot._cmap).to_rgba(vals)\n",
    "    \n",
    "mask = vals > 0\n",
    "x = x[mask]\n",
    "y = y[mask]\n",
    "z = z[mask]\n",
    "vals = vals[mask]\n",
    "    \n",
    "block_size = (kriging_model.sol.grid.regular_grid.extent[1]\n",
    "                  -kriging_model.sol.grid.regular_grid.extent[0])/(kriging_model.sol.grid.regular_grid.resolution[0])/10\n",
    "    \n",
    "ipv.figure()\n",
    "ipv.pylab.scatter(x, y, z, color=vals_color[mask], size=block_size, marker=\"box\")\n",
    "\n",
    "ipv.xlim(kriging_model.sol.grid.regular_grid.extent[0], kriging_model.sol.grid.regular_grid.extent[1])\n",
    "ipv.ylim(kriging_model.sol.grid.regular_grid.extent[2], kriging_model.sol.grid.regular_grid.extent[3])\n",
    "ipv.zlim(kriging_model.sol.grid.regular_grid.extent[4], kriging_model.sol.grid.regular_grid.extent[3])\n",
    "ipv.show()"
   ]
  },
  {
   "cell_type": "code",
   "execution_count": null,
   "metadata": {},
   "outputs": [],
   "source": []
  }
 ],
 "metadata": {
  "kernelspec": {
   "display_name": "Python 3",
   "language": "python",
   "name": "python3"
  },
  "language_info": {
   "codemirror_mode": {
    "name": "ipython",
    "version": 3
   },
   "file_extension": ".py",
   "mimetype": "text/x-python",
   "name": "python",
   "nbconvert_exporter": "python",
   "pygments_lexer": "ipython3",
   "version": "3.7.3"
  }
 },
 "nbformat": 4,
 "nbformat_minor": 2
}
