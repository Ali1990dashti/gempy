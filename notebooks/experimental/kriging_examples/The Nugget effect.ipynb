{
 "cells": [
  {
   "cell_type": "markdown",
   "metadata": {},
   "source": [
    "## The nugget effect"
   ]
  },
  {
   "cell_type": "markdown",
   "metadata": {},
   "source": [
    "The nugget effect in kriging is a source of misunderstanding and misinterpretation. In this notebook we therefore present an example of multiple ways to interpret and include a nugget effect in a kriging analysis and specifiy the method used in the GemPy. \n",
    "<br>\n",
    "<br>\n",
    "In literature the nugget effect is often subdivided into two different phenomena:\n",
    "<br>\n",
    "<br>\n",
    "1) **Microscale variation** (or \"True nugget effect\"): This describes real geological microscale variations (as in gold nuggets, hence the name). It can be interpreted as a second variogram (meaning a second scale of spatial correlation) with a very small range compared to the general scale of spatial correlation. Therefore it also includes variation below the resolution of the measurements e.g. the closest distance between measurement locations. \n",
    "<br>\n",
    "<br>\n",
    "2) **Measurement error:** (or \"Noise\"/\"Human nugget effect\"). This includes measurement errors occuring from either sampling or assaying. It thus covers a subscale variance that is inherent to the wohle dataset.\n",
    "<br>\n",
    "<br>\n",
    "The big difference between those interpretations lies in how they treat the origin of the variogram. In case of a pure nugget effect, gamma(0) = 0 by definiton. This causes the nested variogram (exponential variogram plus nugget variogram) to be discontinous at the origin. It also ensures that kriging stays an exact interpolator, meaning that if you estiamte at a location where data is available, it will take this exact value.\n",
    "\n",
    "If we consider the nugget effect to be noise from measurement errors, this means that estimates are allowed to deviate from measurements at same locations (as there might be a measurement error) and kriging stops being an exact interpolator. This generally leads to smoother results.\n",
    "\n",
    "This example follows:\n",
    "\n",
    "Krivoruchko, K., A. Gribov, and J. M. Ver Hoef, 2006,\n",
    "*A new method for handling the nugget effect in\n",
    "kriging*, in T. C. Coburn, J. M. Yarus, and R. L.\n",
    "Chambers, eds., Stochastic modeling and geostatistics: Principles, methods, and case studies, vol-\n",
    "ume II: AAPG Computer Applications in Geology 5,\n",
    "p. 81–89."
   ]
  },
  {
   "cell_type": "code",
   "execution_count": 27,
   "metadata": {},
   "outputs": [],
   "source": [
    "# Importing auxiliary libraries\n",
    "import numpy as np\n",
    "import matplotlib.pyplot as plt\n",
    "from scipy.spatial.distance import cdist\n",
    "import pandas as pd\n",
    "import ipywidgets as widgets\n",
    "from ipywidgets import interact, interactive, fixed, interact_manual"
   ]
  },
  {
   "cell_type": "markdown",
   "metadata": {},
   "source": [
    "In the following we define the experimental variogram function used in this example. It is a nested variogram composed of the exponential model and a nugget component. Note that we define the sill passed to the function as the total sill of the nested variogram. The partial sill (basically the sill of the exponential varigoram without the nugget effect) is defined as the total sill minus the nugget component. The range parameter used here is the one directly used in the function. Other applications often provide the so called \"practical range\" of 3a (exponential variogram) for the spatial correlation scale. For comparison the corresponding covariance function is also included. "
   ]
  },
  {
   "cell_type": "code",
   "execution_count": 3,
   "metadata": {},
   "outputs": [],
   "source": [
    "def exponential_variogram_model(d, range_, sill, nugget):\n",
    "    psill = sill - nugget\n",
    "    gamma = psill * (1. - np.exp(-(np.absolute(d) / (range_)))) + nugget\n",
    "\n",
    "    return gamma\n",
    "\n",
    "def exponential_covariance_model(d, range_, sill, nugget):\n",
    "    psill = sill - nugget\n",
    "    cov = psill * (np.exp(-(np.absolute(d) / (range_))))\n",
    "    \n",
    "    return cov"
   ]
  },
  {
   "cell_type": "code",
   "execution_count": 26,
   "metadata": {},
   "outputs": [
    {
     "data": {
      "text/plain": [
       "Text(0.5, 1.0, 'Nested Variogram/Covariance with normalized range and sill. Nugget effect = 0.2')"
      ]
     },
     "execution_count": 26,
     "metadata": {},
     "output_type": "execute_result"
    },
    {
     "data": {
      "image/png": "[encoded data removed]",
      "text/plain": [
       "<Figure size 432x288 with 1 Axes>"
      ]
     },
     "metadata": {
      "needs_background": "light"
     },
     "output_type": "display_data"
    }
   ],
   "source": [
    "d = np.arange(0,10,0.1)\n",
    "vario_plot = exponential_variogram_model(d, range_=1, sill=1, nugget=0.2)\n",
    "cov_plot = exponential_covariance_model(d, range_=1, sill=1,nugget=0.2)\n",
    "\n",
    "plt.plot(d, vario_plot, label='variogram')\n",
    "plt.plot(d, cov_plot, label='covariance')\n",
    "plt.axvline(x=1,color='red', linestyle='--', label='range')\n",
    "plt.axvline(x=3,color='red', linestyle='--', label='practical range' )\n",
    "plt.plot((5,5),(0.2,1), color='green')\n",
    "plt.title('Nested Variogram/Covariance with normalized range and sill. Nugget effect = 0.2')"
   ]
  },
  {
   "cell_type": "markdown",
   "metadata": {},
   "source": [
    "The following cells contain the relevant Kriging functions. They are basically copied from the gempy module assets.kriging, only slightly changed to display the 1D case and the different versions of the nugget effect."
   ]
  },
  {
   "cell_type": "code",
   "execution_count": 28,
   "metadata": {},
   "outputs": [],
   "source": [
    "def kriging_1D(krig_locs, data, range_, sill, nugget, nugget_type='pure'): \n",
    "    # empty arrays for results (estimated values and variances)\n",
    "    kriging_result_vals = np.zeros(len(krig_locs))\n",
    "    kriging_result_vars = np.zeros(len(krig_locs))\n",
    "    \n",
    "    # calculate distances between all input data points\n",
    "    dist_all_to_all = np.zeros((len(data), len(data)))\n",
    "    for i in range(len(data)):\n",
    "        dist_all_to_all[:,i] = np.absolute(data[:, 0]-data[i, 0])\n",
    "    \n",
    "    dist_grid_to_all = np.zeros((len(krig_locs), len(data)))\n",
    "    for i in range(len(krig_locs)):\n",
    "        dist_grid_to_all[i,:] = np.absolute(data[:, 0]-krig_locs[i])\n",
    "    # calculate distances between all grid points and all input data point)\n",
    "                                            \n",
    "    # Main loop that goes through whole domain (grid)\n",
    "    for i in range(len(krig_locs)):\n",
    "\n",
    "        # STEP 1: Multiple if elif conditions to define moving neighbourhood:\n",
    "        a = dist_grid_to_all[i]\n",
    "        b = dist_all_to_all\n",
    "        prop = data[:, 1]\n",
    "        # STEP 2: Multiple if elif conditions to calculate kriging at point\n",
    "        val, var = ordinary_kriging(a, b, prop,range_, sill,nugget, nugget_effect=nugget_type)\n",
    "        # STEP 3: Save results\n",
    "        kriging_result_vals[i] = val\n",
    "        kriging_result_vars[i] = var\n",
    "        # create dataframe of results data for calling\n",
    "        d = {'X_loc': krig_locs, 'est_value': kriging_result_vals, 'est_variance': kriging_result_vars}\n",
    "        results_df = pd.DataFrame(data=d)\n",
    "        \n",
    "    return results_df\n",
    "    \n",
    "def ordinary_kriging(b, a, prop, range_, sill, nugget, nugget_effect):\n",
    "        # empty matrix building for OK\n",
    "        shape = len(a)\n",
    "        C = np.zeros((shape + 1, shape + 1))\n",
    "        c = np.zeros((shape + 1))\n",
    "        w = np.zeros((shape + 1))\n",
    "        # filling matirces based on model for spatial correlation\n",
    "        \n",
    "        C[:shape, :shape] = exponential_variogram_model(a,range_,sill,nugget)\n",
    "        c[:shape] = exponential_variogram_model(b,range_,sill,nugget)\n",
    "        \n",
    "        np.fill_diagonal(C, 0)\n",
    "        \n",
    "        if nugget_effect == 'exact':\n",
    "            c[c==nugget]=0\n",
    "        \n",
    "        # matrix setup - compare pykrige, special for OK\n",
    "        C[shape, :] = 1.0\n",
    "        C[:, shape] = 1.0\n",
    "        C[shape, shape] = 0.0\n",
    "        c[shape] = 1.0\n",
    "    \n",
    "        w = np.linalg.solve(C, c)\n",
    "    \n",
    "        # calculating estimate and variance for kriging, variance is weird\n",
    "        pred_var = w[shape] + np.sum(w[:shape] * c[:shape])\n",
    "        \n",
    "        if nugget_effect == 'filtered':\n",
    "            pred_var = pred_var-nugget\n",
    "        \n",
    "        #result = np.sum(w[:shape] * prop)\n",
    "        result = np.dot(prop, w[:shape])\n",
    "        \n",
    "        return result, pred_var"
   ]
  },
  {
   "cell_type": "markdown",
   "metadata": {},
   "source": [
    "### Example"
   ]
  },
  {
   "cell_type": "markdown",
   "metadata": {},
   "source": [
    "In the following cells a simple example from given literature (Krivoruchko, K., A. Gribov, and J. M. Ver Hoef, 2006) is reproduced to highlight the effect of different interpretations of the nugget effect.\n",
    "\n",
    "Three interpretations are implemented:\n",
    "<br>\n",
    "<br>\n",
    "1) **Exact**: The pure nugget effect. Discontinuous origin of variogram. Kriging is exact interploator. Estimates at data locations are equal to measured value. Standard deviation at these locations is zero.\n",
    "<br>\n",
    "<br>\n",
    "2) **Filtered**: Prediction with noise removed. In this example the nugget effect is assumed to be only noise (measurement error). A filtered prediction thus is not exact anymore and reduces the standard deviation as the measurement error is filtered out.\n",
    "<br>\n",
    "<br>\n",
    "3) **New Value**: Estiamtes new value at data locations similar to filtered version. Standard deviation at data locations though foloows exact version.\n",
    "\n",
    "In the provided kriging module for gempy, *New Value Kriging* is used when a nugget component is included, to provide smooth results on the kriged grids and reduce the effect of coinciding grid and data locations, while obtaining a reasonable value for standard deviation, which is also important when creating Gaussian fields."
   ]
  },
  {
   "cell_type": "code",
   "execution_count": 37,
   "metadata": {},
   "outputs": [],
   "source": [
    "# Simple 1D example with two locations and data values at these locations\n",
    "locs = np.arange(0,3,0.1)\n",
    "inp = np.array([[1,-1],[2,1]])"
   ]
  },
  {
   "cell_type": "code",
   "execution_count": 38,
   "metadata": {},
   "outputs": [],
   "source": [
    "# Fucntion to compare all three solutions\n",
    "def compare(range_, sill, nugget):\n",
    "    \n",
    "    results_df1 = kriging_1D(locs, inp, range_=range_, sill=sill, nugget=nugget, nugget_type='exact')\n",
    "    loc1 = results_df1['X_loc'].values\n",
    "    val1 = results_df1['est_value'].values\n",
    "    var1 = results_df1['est_variance']\n",
    "    \n",
    "    results_df2 = kriging_1D(locs, inp, range_=range_, sill=sill, nugget=nugget, nugget_type='new_value')\n",
    "    loc2 = results_df2['X_loc'].values\n",
    "    val2 = results_df2['est_value'].values\n",
    "    var2 = results_df2['est_variance']\n",
    "    \n",
    "    results_df3 = kriging_1D(locs, inp, range_=range_, sill=sill, nugget=nugget, nugget_type='filtered')\n",
    "    loc3 = results_df3['X_loc'].values\n",
    "    val3 = results_df3['est_value'].values\n",
    "    var3 = results_df3['est_variance']\n",
    "\n",
    "    fig, axes = plt.subplots(nrows=1, ncols=2, figsize=(14, 4))\n",
    "    \n",
    "    axes[0].plot(inp[:,0], inp[:,1], 's', markersize=10, fillstyle='none', color='black', label='data value')\n",
    "    axes[0].plot(loc1, val1, '-o', label='exact')\n",
    "    axes[0].plot(loc2, val2, '-o', markersize=3, label='new value/filtered')\n",
    "    axes[0].set_ylim(-1.5,1.5)\n",
    "    axes[0].legend()\n",
    "    \n",
    "    axes[1].set_ylim(0,1.5)\n",
    "    axes[1].plot(loc1, np.sqrt(np.round(var1,2)))\n",
    "    axes[1].plot(loc2, np.sqrt(var2))\n",
    "    axes[1].plot(loc3, np.sqrt(var3)) \n",
    " "
   ]
  },
  {
   "cell_type": "code",
   "execution_count": 39,
   "metadata": {},
   "outputs": [
    {
     "data": {
      "application/vnd.jupyter.widget-view+json": {
       "model_id": "5d6bb5164c504bc88b0ed318519c5e45",
       "version_major": 2,
       "version_minor": 0
      },
      "text/plain": [
       "interactive(children=(IntSlider(value=6, description='range_', max=11, min=1), FloatSlider(value=1.0, descript…"
      ]
     },
     "metadata": {},
     "output_type": "display_data"
    }
   ],
   "source": [
    "interact(compare, range_=(1,11,1), sill=(0.5,1.5,0.1), nugget=(0,1,0.1));"
   ]
  },
  {
   "cell_type": "code",
   "execution_count": 36,
   "metadata": {},
   "outputs": [
    {
     "data": {
      "text/plain": [
       "0.7071067811865476"
      ]
     },
     "execution_count": 36,
     "metadata": {},
     "output_type": "execute_result"
    }
   ],
   "source": [
    "np.sqrt(0.5)"
   ]
  },
  {
   "cell_type": "code",
   "execution_count": null,
   "metadata": {},
   "outputs": [],
   "source": []
  }
 ],
 "metadata": {
  "kernelspec": {
   "display_name": "Python 3",
   "language": "python",
   "name": "python3"
  },
  "language_info": {
   "codemirror_mode": {
    "name": "ipython",
    "version": 3
   },
   "file_extension": ".py",
   "mimetype": "text/x-python",
   "name": "python",
   "nbconvert_exporter": "python",
   "pygments_lexer": "ipython3",
   "version": "3.7.3"
  }
 },
 "nbformat": 4,
 "nbformat_minor": 2
}
