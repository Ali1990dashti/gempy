{
 "cells": [
  {
   "cell_type": "markdown",
   "metadata": {},
   "source": [
    "## 3D Plotting of Interpolated/Simulated volume\n",
    "\n",
    "In the following notebook we suggest i simple draft version how to display the a volume of interpolated or simulated kriging values in a 3D block model. A simple functio is added to allow a variable threshold, that might be usefull in applications like resource estimation (consider e.g. ore grades)."
   ]
  },
  {
   "cell_type": "code",
   "execution_count": 1,
   "metadata": {},
   "outputs": [],
   "source": [
    "# These two lines are necessary only if GemPy is not installed\n",
    "import sys, os\n",
    "sys.path.append(\"../../..\")\n",
    "os.pardir='../..'\n",
    "# Importing GemPy\n",
    "import gempy as gp\n",
    "# Embedding matplotlib figures in the notebooks\n",
    "%matplotlib inline\n",
    "# Importing auxiliary libraries\n",
    "import numpy as np\n",
    "import matplotlib.pyplot as plt"
   ]
  },
  {
   "cell_type": "code",
   "execution_count": 2,
   "metadata": {},
   "outputs": [
    {
     "name": "stdout",
     "output_type": "stream",
     "text": [
      "Active grids: ['regular']\n"
     ]
    }
   ],
   "source": [
    "# set resolution, extent and input data\n",
    "geo_data = gp.create_data([0,1000,0,1000,0,1000],resolution=[25,25,25], \n",
    "                        path_o = os.pardir+\"/data/input_data/jan_models/model2_orientations.csv\",\n",
    "                        path_i = os.pardir+\"/data/input_data/jan_models/model2_surface_points.csv\") "
   ]
  },
  {
   "cell_type": "code",
   "execution_count": 3,
   "metadata": {},
   "outputs": [
    {
     "data": {
      "text/html": [
       "<style  type=\"text/css\" >\n",
       "    #T_e8f688d8_3099_11ea_b232_d8cb8aeeb072row0_col4 {\n",
       "            background-color:  #015482;\n",
       "        }    #T_e8f688d8_3099_11ea_b232_d8cb8aeeb072row1_col4 {\n",
       "            background-color:  #9f0052;\n",
       "        }    #T_e8f688d8_3099_11ea_b232_d8cb8aeeb072row2_col4 {\n",
       "            background-color:  #ffbe00;\n",
       "        }</style><table id=\"T_e8f688d8_3099_11ea_b232_d8cb8aeeb072\" ><thead>    <tr>        <th class=\"blank level0\" ></th>        <th class=\"col_heading level0 col0\" >surface</th>        <th class=\"col_heading level0 col1\" >series</th>        <th class=\"col_heading level0 col2\" >order_surfaces</th>        <th class=\"col_heading level0 col3\" >isBasement</th>        <th class=\"col_heading level0 col4\" >color</th>        <th class=\"col_heading level0 col5\" >id</th>    </tr></thead><tbody>\n",
       "                <tr>\n",
       "                        <th id=\"T_e8f688d8_3099_11ea_b232_d8cb8aeeb072level0_row0\" class=\"row_heading level0 row0\" >0</th>\n",
       "                        <td id=\"T_e8f688d8_3099_11ea_b232_d8cb8aeeb072row0_col0\" class=\"data row0 col0\" >rock1</td>\n",
       "                        <td id=\"T_e8f688d8_3099_11ea_b232_d8cb8aeeb072row0_col1\" class=\"data row0 col1\" >Strat_Series</td>\n",
       "                        <td id=\"T_e8f688d8_3099_11ea_b232_d8cb8aeeb072row0_col2\" class=\"data row0 col2\" >1</td>\n",
       "                        <td id=\"T_e8f688d8_3099_11ea_b232_d8cb8aeeb072row0_col3\" class=\"data row0 col3\" >False</td>\n",
       "                        <td id=\"T_e8f688d8_3099_11ea_b232_d8cb8aeeb072row0_col4\" class=\"data row0 col4\" >#015482</td>\n",
       "                        <td id=\"T_e8f688d8_3099_11ea_b232_d8cb8aeeb072row0_col5\" class=\"data row0 col5\" >1</td>\n",
       "            </tr>\n",
       "            <tr>\n",
       "                        <th id=\"T_e8f688d8_3099_11ea_b232_d8cb8aeeb072level0_row1\" class=\"row_heading level0 row1\" >1</th>\n",
       "                        <td id=\"T_e8f688d8_3099_11ea_b232_d8cb8aeeb072row1_col0\" class=\"data row1 col0\" >rock2</td>\n",
       "                        <td id=\"T_e8f688d8_3099_11ea_b232_d8cb8aeeb072row1_col1\" class=\"data row1 col1\" >Strat_Series</td>\n",
       "                        <td id=\"T_e8f688d8_3099_11ea_b232_d8cb8aeeb072row1_col2\" class=\"data row1 col2\" >2</td>\n",
       "                        <td id=\"T_e8f688d8_3099_11ea_b232_d8cb8aeeb072row1_col3\" class=\"data row1 col3\" >False</td>\n",
       "                        <td id=\"T_e8f688d8_3099_11ea_b232_d8cb8aeeb072row1_col4\" class=\"data row1 col4\" >#9f0052</td>\n",
       "                        <td id=\"T_e8f688d8_3099_11ea_b232_d8cb8aeeb072row1_col5\" class=\"data row1 col5\" >2</td>\n",
       "            </tr>\n",
       "            <tr>\n",
       "                        <th id=\"T_e8f688d8_3099_11ea_b232_d8cb8aeeb072level0_row2\" class=\"row_heading level0 row2\" >2</th>\n",
       "                        <td id=\"T_e8f688d8_3099_11ea_b232_d8cb8aeeb072row2_col0\" class=\"data row2 col0\" >basement</td>\n",
       "                        <td id=\"T_e8f688d8_3099_11ea_b232_d8cb8aeeb072row2_col1\" class=\"data row2 col1\" >Basement_Series</td>\n",
       "                        <td id=\"T_e8f688d8_3099_11ea_b232_d8cb8aeeb072row2_col2\" class=\"data row2 col2\" >1</td>\n",
       "                        <td id=\"T_e8f688d8_3099_11ea_b232_d8cb8aeeb072row2_col3\" class=\"data row2 col3\" >True</td>\n",
       "                        <td id=\"T_e8f688d8_3099_11ea_b232_d8cb8aeeb072row2_col4\" class=\"data row2 col4\" >#ffbe00</td>\n",
       "                        <td id=\"T_e8f688d8_3099_11ea_b232_d8cb8aeeb072row2_col5\" class=\"data row2 col5\" >3</td>\n",
       "            </tr>\n",
       "    </tbody></table>"
      ],
      "text/plain": [
       "    surface           series  order_surfaces  isBasement    color vertices edges  id\n",
       "0     rock1     Strat_Series               1       False  #015482      NaN   NaN   1\n",
       "1     rock2     Strat_Series               2       False  #9f0052      NaN   NaN   2\n",
       "2  basement  Basement_Series               1        True  #ffbe00      NaN   NaN   3"
      ]
     },
     "execution_count": 3,
     "metadata": {},
     "output_type": "execute_result"
    }
   ],
   "source": [
    "# define series and assign surfaces\n",
    "gp.map_series_to_surfaces(geo_data, {\"Strat_Series\": ('rock2','rock1'),\"Basement_Series\":('basement')})"
   ]
  },
  {
   "cell_type": "code",
   "execution_count": 4,
   "metadata": {},
   "outputs": [
    {
     "name": "stdout",
     "output_type": "stream",
     "text": [
      "Compiling theano function...\n",
      "Level of Optimization:  fast_compile\n",
      "Device:  cpu\n",
      "Precision:  float64\n",
      "Number of faults:  0\n",
      "Compilation Done!\n"
     ]
    }
   ],
   "source": [
    "# define the interpolator\n",
    "interp_data = gp.set_interpolation_data(geo_data, compile_theano=True,\n",
    "                                        theano_optimizer='fast_compile')"
   ]
  },
  {
   "cell_type": "code",
   "execution_count": 5,
   "metadata": {},
   "outputs": [
    {
     "name": "stderr",
     "output_type": "stream",
     "text": [
      "../../..\\gempy\\core\\solution.py:257: UserWarning: Attribute error. Using non masked marching cubesmarching_cubes_lewiner() got an unexpected keyword argument 'mask'.\n",
      "  warnings.warn('Attribute error. Using non masked marching cubes' + str(e)+'.')\n"
     ]
    }
   ],
   "source": [
    "#calcualte the solution\n",
    "sol = gp.compute_model(geo_data)"
   ]
  },
  {
   "cell_type": "code",
   "execution_count": 6,
   "metadata": {},
   "outputs": [
    {
     "name": "stdout",
     "output_type": "stream",
     "text": [
      "Click to select new colors.\n"
     ]
    },
    {
     "data": {
      "application/vnd.jupyter.widget-view+json": {
       "model_id": "912ea87c56174d7a872e1bd41d84c3c9",
       "version_major": 2,
       "version_minor": 0
      },
      "text/plain": [
       "VBox(children=(ColorPicker(value='#015482', description='rock1'), ColorPicker(value='#9f0052', description='ro…"
      ]
     },
     "metadata": {},
     "output_type": "display_data"
    }
   ],
   "source": [
    "geo_data.surfaces.colors.change_colors()"
   ]
  },
  {
   "cell_type": "code",
   "execution_count": 7,
   "metadata": {},
   "outputs": [
    {
     "data": {
      "text/plain": [
       "<gempy.plot.visualization_2d.PlotSolution at 0x24ad218afc8>"
      ]
     },
     "execution_count": 7,
     "metadata": {},
     "output_type": "execute_result"
    },
    {
     "data": {
      "image/png": "[encoded data removed]",
      "text/plain": [
       "<Figure size 432x288 with 1 Axes>"
      ]
     },
     "metadata": {
      "needs_background": "light"
     },
     "output_type": "display_data"
    }
   ],
   "source": [
    "# Plot cross section, which is basically the whole model in this example\n",
    "gp.plot.plot_section(geo_data, cell_number=0)"
   ]
  },
  {
   "cell_type": "code",
   "execution_count": 8,
   "metadata": {},
   "outputs": [
    {
     "data": {
      "text/html": [
       "<style  type=\"text/css\" >\n",
       "    #T_1e751fac_309b_11ea_99d0_d8cb8aeeb072row0_col4 {\n",
       "            background-color:  #9f0052;\n",
       "        }    #T_1e751fac_309b_11ea_99d0_d8cb8aeeb072row1_col4 {\n",
       "            background-color:  #015482;\n",
       "        }    #T_1e751fac_309b_11ea_99d0_d8cb8aeeb072row2_col4 {\n",
       "            background-color:  #ffbe00;\n",
       "        }</style><table id=\"T_1e751fac_309b_11ea_99d0_d8cb8aeeb072\" ><thead>    <tr>        <th class=\"blank level0\" ></th>        <th class=\"col_heading level0 col0\" >surface</th>        <th class=\"col_heading level0 col1\" >series</th>        <th class=\"col_heading level0 col2\" >order_surfaces</th>        <th class=\"col_heading level0 col3\" >isBasement</th>        <th class=\"col_heading level0 col4\" >color</th>        <th class=\"col_heading level0 col5\" >id</th>    </tr></thead><tbody>\n",
       "                <tr>\n",
       "                        <th id=\"T_1e751fac_309b_11ea_99d0_d8cb8aeeb072level0_row0\" class=\"row_heading level0 row0\" >1</th>\n",
       "                        <td id=\"T_1e751fac_309b_11ea_99d0_d8cb8aeeb072row0_col0\" class=\"data row0 col0\" >rock2</td>\n",
       "                        <td id=\"T_1e751fac_309b_11ea_99d0_d8cb8aeeb072row0_col1\" class=\"data row0 col1\" >Strat_Series</td>\n",
       "                        <td id=\"T_1e751fac_309b_11ea_99d0_d8cb8aeeb072row0_col2\" class=\"data row0 col2\" >1</td>\n",
       "                        <td id=\"T_1e751fac_309b_11ea_99d0_d8cb8aeeb072row0_col3\" class=\"data row0 col3\" >False</td>\n",
       "                        <td id=\"T_1e751fac_309b_11ea_99d0_d8cb8aeeb072row0_col4\" class=\"data row0 col4\" >#9f0052</td>\n",
       "                        <td id=\"T_1e751fac_309b_11ea_99d0_d8cb8aeeb072row0_col5\" class=\"data row0 col5\" >1</td>\n",
       "            </tr>\n",
       "            <tr>\n",
       "                        <th id=\"T_1e751fac_309b_11ea_99d0_d8cb8aeeb072level0_row1\" class=\"row_heading level0 row1\" >0</th>\n",
       "                        <td id=\"T_1e751fac_309b_11ea_99d0_d8cb8aeeb072row1_col0\" class=\"data row1 col0\" >rock1</td>\n",
       "                        <td id=\"T_1e751fac_309b_11ea_99d0_d8cb8aeeb072row1_col1\" class=\"data row1 col1\" >Strat_Series</td>\n",
       "                        <td id=\"T_1e751fac_309b_11ea_99d0_d8cb8aeeb072row1_col2\" class=\"data row1 col2\" >2</td>\n",
       "                        <td id=\"T_1e751fac_309b_11ea_99d0_d8cb8aeeb072row1_col3\" class=\"data row1 col3\" >False</td>\n",
       "                        <td id=\"T_1e751fac_309b_11ea_99d0_d8cb8aeeb072row1_col4\" class=\"data row1 col4\" >#015482</td>\n",
       "                        <td id=\"T_1e751fac_309b_11ea_99d0_d8cb8aeeb072row1_col5\" class=\"data row1 col5\" >2</td>\n",
       "            </tr>\n",
       "            <tr>\n",
       "                        <th id=\"T_1e751fac_309b_11ea_99d0_d8cb8aeeb072level0_row2\" class=\"row_heading level0 row2\" >2</th>\n",
       "                        <td id=\"T_1e751fac_309b_11ea_99d0_d8cb8aeeb072row2_col0\" class=\"data row2 col0\" >basement</td>\n",
       "                        <td id=\"T_1e751fac_309b_11ea_99d0_d8cb8aeeb072row2_col1\" class=\"data row2 col1\" >Basement_Series</td>\n",
       "                        <td id=\"T_1e751fac_309b_11ea_99d0_d8cb8aeeb072row2_col2\" class=\"data row2 col2\" >1</td>\n",
       "                        <td id=\"T_1e751fac_309b_11ea_99d0_d8cb8aeeb072row2_col3\" class=\"data row2 col3\" >True</td>\n",
       "                        <td id=\"T_1e751fac_309b_11ea_99d0_d8cb8aeeb072row2_col4\" class=\"data row2 col4\" >#ffbe00</td>\n",
       "                        <td id=\"T_1e751fac_309b_11ea_99d0_d8cb8aeeb072row2_col5\" class=\"data row2 col5\" >3</td>\n",
       "            </tr>\n",
       "    </tbody></table>"
      ],
      "text/plain": [
       "    surface           series  order_surfaces  isBasement    color                                           vertices                                              edges  id\n",
       "1     rock2     Strat_Series               1       False  #9f0052  [[0.0, 6.802857518196106, 400.0], [0.0, 40.0, ...  [[2, 1, 0], [3, 2, 0], [4, 3, 0], [5, 3, 4], [...   1\n",
       "0     rock1     Strat_Series               2       False  #015482  [[3.229169249534607, 0.0, 200.0], [0.0, 40.0, ...  [[2, 1, 0], [0, 1, 3], [0, 5, 4], [0, 4, 2], [...   2\n",
       "2  basement  Basement_Series               1        True  #ffbe00                                                NaN                                                NaN   3"
      ]
     },
     "execution_count": 8,
     "metadata": {},
     "output_type": "execute_result"
    }
   ],
   "source": [
    "geo_data.surfaces"
   ]
  },
  {
   "cell_type": "code",
   "execution_count": 9,
   "metadata": {},
   "outputs": [],
   "source": [
    "import gempy as gp\n",
    "#importlib.reload(kriging)\n",
    "from gempy.assets import kriging"
   ]
  },
  {
   "cell_type": "code",
   "execution_count": 10,
   "metadata": {},
   "outputs": [],
   "source": [
    "cond_data = np.array([[110,0,510,2],[910,0,510,1],[510,0,530,1],[310,0,410,5],\n",
    "                     [110,500,510,2],[910,500,510,1],[510,500,530,1],[310,500,410,5]])"
   ]
  },
  {
   "cell_type": "code",
   "execution_count": 19,
   "metadata": {},
   "outputs": [
    {
     "ename": "IndexError",
     "evalue": "index 2 is out of bounds for axis 0 with size 1",
     "output_type": "error",
     "traceback": [
      "\u001b[1;31m---------------------------------------------------------------------------\u001b[0m",
      "\u001b[1;31mIndexError\u001b[0m                                Traceback (most recent call last)",
      "\u001b[1;32m<ipython-input-19-63830265bcc7>\u001b[0m in \u001b[0;36m<module>\u001b[1;34m\u001b[0m\n\u001b[0;32m      1\u001b[0m \u001b[1;31m# Kriging\u001b[0m\u001b[1;33m\u001b[0m\u001b[1;33m\u001b[0m\u001b[1;33m\u001b[0m\u001b[0m\n\u001b[1;32m----> 2\u001b[1;33m \u001b[0mdomain\u001b[0m \u001b[1;33m=\u001b[0m \u001b[0mkriging\u001b[0m\u001b[1;33m.\u001b[0m\u001b[0mdomain\u001b[0m\u001b[1;33m(\u001b[0m\u001b[0mmodel\u001b[0m\u001b[1;33m=\u001b[0m\u001b[0msol\u001b[0m\u001b[1;33m,\u001b[0m \u001b[0mdomain\u001b[0m\u001b[1;33m=\u001b[0m\u001b[1;33m[\u001b[0m\u001b[1;36m2\u001b[0m\u001b[1;33m]\u001b[0m\u001b[1;33m,\u001b[0m \u001b[0mdata\u001b[0m\u001b[1;33m=\u001b[0m\u001b[0mcond_data\u001b[0m\u001b[1;33m)\u001b[0m\u001b[1;33m\u001b[0m\u001b[1;33m\u001b[0m\u001b[0m\n\u001b[0m\u001b[0;32m      3\u001b[0m \u001b[0mvariogram_model\u001b[0m \u001b[1;33m=\u001b[0m \u001b[0mkriging\u001b[0m\u001b[1;33m.\u001b[0m\u001b[0mvariogram_model\u001b[0m\u001b[1;33m(\u001b[0m\u001b[0mtheoretical_model\u001b[0m \u001b[1;33m=\u001b[0m \u001b[1;34m'exponential'\u001b[0m\u001b[1;33m,\u001b[0m \u001b[0mrange_\u001b[0m\u001b[1;33m=\u001b[0m\u001b[1;36m100\u001b[0m\u001b[1;33m,\u001b[0m \u001b[0msill\u001b[0m\u001b[1;33m=\u001b[0m\u001b[0mnp\u001b[0m\u001b[1;33m.\u001b[0m\u001b[0mvar\u001b[0m\u001b[1;33m(\u001b[0m\u001b[0mcond_data\u001b[0m\u001b[1;33m[\u001b[0m\u001b[1;33m:\u001b[0m\u001b[1;33m,\u001b[0m\u001b[1;36m3\u001b[0m\u001b[1;33m]\u001b[0m\u001b[1;33m)\u001b[0m\u001b[1;33m)\u001b[0m\u001b[1;33m\u001b[0m\u001b[1;33m\u001b[0m\u001b[0m\n\u001b[0;32m      4\u001b[0m \u001b[1;33m\u001b[0m\u001b[0m\n\u001b[0;32m      5\u001b[0m \u001b[1;31m#solution = kriging.create_kriged_field(domain, variogram_model)\u001b[0m\u001b[1;33m\u001b[0m\u001b[1;33m\u001b[0m\u001b[1;33m\u001b[0m\u001b[0m\n",
      "\u001b[1;32m~\\gempy\\gempy\\assets\\kriging.py\u001b[0m in \u001b[0;36m__init__\u001b[1;34m(self, model, domain, data, set_mean, fault)\u001b[0m\n\u001b[0;32m     40\u001b[0m         \u001b[1;32mif\u001b[0m \u001b[0mdomain\u001b[0m \u001b[1;32mis\u001b[0m \u001b[1;32mNone\u001b[0m\u001b[1;33m:\u001b[0m\u001b[1;33m\u001b[0m\u001b[1;33m\u001b[0m\u001b[0m\n\u001b[0;32m     41\u001b[0m             \u001b[0mdomain\u001b[0m \u001b[1;33m=\u001b[0m \u001b[0mnp\u001b[0m\u001b[1;33m.\u001b[0m\u001b[0munique\u001b[0m\u001b[1;33m(\u001b[0m\u001b[0mself\u001b[0m\u001b[1;33m.\u001b[0m\u001b[0msol\u001b[0m\u001b[1;33m.\u001b[0m\u001b[0mlith_block\u001b[0m\u001b[1;33m)\u001b[0m\u001b[1;33m\u001b[0m\u001b[1;33m\u001b[0m\u001b[0m\n\u001b[1;32m---> 42\u001b[1;33m         \u001b[0mself\u001b[0m\u001b[1;33m.\u001b[0m\u001b[0mset_domain\u001b[0m\u001b[1;33m(\u001b[0m\u001b[0mdomain\u001b[0m\u001b[1;33m)\u001b[0m\u001b[1;33m\u001b[0m\u001b[1;33m\u001b[0m\u001b[0m\n\u001b[0m\u001b[0;32m     43\u001b[0m \u001b[1;33m\u001b[0m\u001b[0m\n\u001b[0;32m     44\u001b[0m         \u001b[1;31m# set data, default is None\u001b[0m\u001b[1;33m\u001b[0m\u001b[1;33m\u001b[0m\u001b[1;33m\u001b[0m\u001b[0m\n",
      "\u001b[1;32m~\\gempy\\gempy\\assets\\kriging.py\u001b[0m in \u001b[0;36mset_domain\u001b[1;34m(self, domain)\u001b[0m\n\u001b[0;32m     84\u001b[0m         \u001b[0mself\u001b[0m\u001b[1;33m.\u001b[0m\u001b[0mkrig_lith\u001b[0m \u001b[1;33m=\u001b[0m \u001b[0mself\u001b[0m\u001b[1;33m.\u001b[0m\u001b[0msol\u001b[0m\u001b[1;33m.\u001b[0m\u001b[0mlith_block\u001b[0m\u001b[1;33m[\u001b[0m\u001b[0mself\u001b[0m\u001b[1;33m.\u001b[0m\u001b[0mmask\u001b[0m\u001b[1;33m]\u001b[0m\u001b[1;33m\u001b[0m\u001b[1;33m\u001b[0m\u001b[0m\n\u001b[0;32m     85\u001b[0m         \u001b[0mself\u001b[0m\u001b[1;33m.\u001b[0m\u001b[0mkrig_grid\u001b[0m \u001b[1;33m=\u001b[0m \u001b[0mself\u001b[0m\u001b[1;33m.\u001b[0m\u001b[0msol\u001b[0m\u001b[1;33m.\u001b[0m\u001b[0mgrid\u001b[0m\u001b[1;33m.\u001b[0m\u001b[0mvalues\u001b[0m\u001b[1;33m[\u001b[0m\u001b[0mself\u001b[0m\u001b[1;33m.\u001b[0m\u001b[0mmask\u001b[0m\u001b[1;33m]\u001b[0m\u001b[1;33m\u001b[0m\u001b[1;33m\u001b[0m\u001b[0m\n\u001b[1;32m---> 86\u001b[1;33m         \u001b[0mself\u001b[0m\u001b[1;33m.\u001b[0m\u001b[0mkrig_scal\u001b[0m \u001b[1;33m=\u001b[0m \u001b[0mself\u001b[0m\u001b[1;33m.\u001b[0m\u001b[0msol\u001b[0m\u001b[1;33m.\u001b[0m\u001b[0mscalar_field_matrix\u001b[0m\u001b[1;33m[\u001b[0m\u001b[1;36m2\u001b[0m\u001b[1;33m]\u001b[0m\u001b[1;33m[\u001b[0m\u001b[0mself\u001b[0m\u001b[1;33m.\u001b[0m\u001b[0mmask\u001b[0m\u001b[1;33m]\u001b[0m \u001b[1;31m# does not work, why is that different\u001b[0m\u001b[1;33m\u001b[0m\u001b[1;33m\u001b[0m\u001b[0m\n\u001b[0m\u001b[0;32m     87\u001b[0m         \u001b[0mself\u001b[0m\u001b[1;33m.\u001b[0m\u001b[0mkrig_scalmax\u001b[0m \u001b[1;33m=\u001b[0m \u001b[0mself\u001b[0m\u001b[1;33m.\u001b[0m\u001b[0mkrig_scal\u001b[0m\u001b[1;33m.\u001b[0m\u001b[0mmax\u001b[0m\u001b[1;33m(\u001b[0m\u001b[1;33m)\u001b[0m\u001b[1;33m\u001b[0m\u001b[1;33m\u001b[0m\u001b[0m\n\u001b[0;32m     88\u001b[0m         \u001b[0mself\u001b[0m\u001b[1;33m.\u001b[0m\u001b[0mkrig_scalmin\u001b[0m \u001b[1;33m=\u001b[0m \u001b[0mself\u001b[0m\u001b[1;33m.\u001b[0m\u001b[0mkrig_scal\u001b[0m\u001b[1;33m.\u001b[0m\u001b[0mmin\u001b[0m\u001b[1;33m(\u001b[0m\u001b[1;33m)\u001b[0m\u001b[1;33m\u001b[0m\u001b[1;33m\u001b[0m\u001b[0m\n",
      "\u001b[1;31mIndexError\u001b[0m: index 2 is out of bounds for axis 0 with size 1"
     ]
    }
   ],
   "source": [
    "# Kriging\n",
    "domain = kriging.domain(model=sol, domain=[2], data=cond_data)\n",
    "variogram_model = kriging.variogram_model(theoretical_model = 'exponential', range_=100, sill=np.var(cond_data[:,3]))\n",
    "\n",
    "#solution = kriging.create_kriged_field(domain, variogram_model)\n",
    "solution = kriging.create_kriged_field(domain, variogram_model)"
   ]
  },
  {
   "cell_type": "code",
   "execution_count": 13,
   "metadata": {},
   "outputs": [
    {
     "ename": "NameError",
     "evalue": "name 'solution' is not defined",
     "output_type": "error",
     "traceback": [
      "\u001b[1;31m---------------------------------------------------------------------------\u001b[0m",
      "\u001b[1;31mNameError\u001b[0m                                 Traceback (most recent call last)",
      "\u001b[1;32m<ipython-input-13-4a34426d0666>\u001b[0m in \u001b[0;36m<module>\u001b[1;34m\u001b[0m\n\u001b[1;32m----> 1\u001b[1;33m solution.plot_results(geo_data=geo_data, prop='val', contour=False, direction='y', cell_number=0, alpha=0.7,\n\u001b[0m\u001b[0;32m      2\u001b[0m                           show_data=False, legend=True)\n",
      "\u001b[1;31mNameError\u001b[0m: name 'solution' is not defined"
     ]
    }
   ],
   "source": [
    "solution.plot_results(geo_data=geo_data, prop='val', contour=False, direction='y', cell_number=0, alpha=0.7,\n",
    "                          show_data=False, legend=True)"
   ]
  },
  {
   "cell_type": "code",
   "execution_count": 14,
   "metadata": {},
   "outputs": [],
   "source": [
    "import ipyvolume as ipv\n",
    "import numpy as np\n",
    "\n",
    "from matplotlib.cm import ScalarMappable as SM"
   ]
  },
  {
   "cell_type": "code",
   "execution_count": 15,
   "metadata": {},
   "outputs": [],
   "source": [
    "def plot_3D_blocks(threshold):\n",
    "    \n",
    "    x = solution.results_df['X'].values\n",
    "    y = solution.results_df['Y'].values\n",
    "    z = solution.results_df['Z'].values\n",
    "    \n",
    "    vals = solution.results_df['estimated value'].values\n",
    "    vals_color = SM(cmap='viridis').to_rgba(vals)\n",
    "    \n",
    "    mask = vals > threshold\n",
    "    \n",
    "    x = x[mask]\n",
    "    y = y[mask]\n",
    "    z = z[mask]\n",
    "    vals = vals[mask]\n",
    "    \n",
    "    block_size = (domain.sol.grid.regular_grid.extent[1]\n",
    "                  -domain.sol.grid.regular_grid.extent[0])/(domain.sol.grid.regular_grid.resolution[0])/10\n",
    "    \n",
    "    ipv.figure()\n",
    "    ipv.pylab.scatter(x, y, z, color=vals_color[mask], size=block_size, marker=\"box\")\n",
    "\n",
    "    ipv.xlim(domain.sol.grid.regular_grid.extent[0], domain.sol.grid.regular_grid.extent[1])\n",
    "    ipv.ylim(domain.sol.grid.regular_grid.extent[2], domain.sol.grid.regular_grid.extent[3])\n",
    "    ipv.zlim(domain.sol.grid.regular_grid.extent[4], domain.sol.grid.regular_grid.extent[3])\n",
    "    ipv.show()"
   ]
  },
  {
   "cell_type": "code",
   "execution_count": 16,
   "metadata": {},
   "outputs": [],
   "source": [
    "import ipywidgets as widgets\n",
    "from ipywidgets import interact, interactive, fixed, interact_manual"
   ]
  },
  {
   "cell_type": "code",
   "execution_count": 17,
   "metadata": {},
   "outputs": [
    {
     "data": {
      "application/vnd.jupyter.widget-view+json": {
       "model_id": "0fe09c6575d04a928177fe044fbc5d07",
       "version_major": 2,
       "version_minor": 0
      },
      "text/plain": [
       "interactive(children=(FloatSlider(value=1.8, description='threshold', max=2.6, min=1.0), Output()), _dom_class…"
      ]
     },
     "metadata": {},
     "output_type": "display_data"
    }
   ],
   "source": [
    "interact(plot_3D_blocks, threshold=(1,2.6,0.1));"
   ]
  },
  {
   "cell_type": "code",
   "execution_count": null,
   "metadata": {},
   "outputs": [],
   "source": []
  },
  {
   "cell_type": "code",
   "execution_count": null,
   "metadata": {},
   "outputs": [],
   "source": []
  },
  {
   "cell_type": "code",
   "execution_count": null,
   "metadata": {},
   "outputs": [],
   "source": []
  }
 ],
 "metadata": {
  "kernelspec": {
   "display_name": "Python 3",
   "language": "python",
   "name": "python3"
  },
  "language_info": {
   "codemirror_mode": {
    "name": "ipython",
    "version": 3
   },
   "file_extension": ".py",
   "mimetype": "text/x-python",
   "name": "python",
   "nbconvert_exporter": "python",
   "pygments_lexer": "ipython3",
   "version": "3.7.5"
  }
 },
 "nbformat": 4,
 "nbformat_minor": 2
}
