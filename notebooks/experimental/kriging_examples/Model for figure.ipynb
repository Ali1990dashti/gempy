{
 "cells": [
  {
   "cell_type": "code",
   "execution_count": 1,
   "metadata": {},
   "outputs": [],
   "source": [
    "# These two lines are necessary only if GemPy is not installed\n",
    "import sys, os\n",
    "sys.path.append(\"../../..\")\n",
    "# just here as it is subfolder in experimental\n",
    "os.pardir = '../..'\n",
    "\n",
    "# Importing GemPy\n",
    "import gempy as gp\n",
    "\n",
    "# Embedding matplotlib figures in the notebooks\n",
    "%matplotlib inline\n",
    "\n",
    "# Importing auxiliary libraries\n",
    "import numpy as np\n",
    "import matplotlib.pyplot as plt\n",
    "\n",
    "# new for this\n",
    "import importlib\n",
    "from gempy.assets import kriging"
   ]
  },
  {
   "cell_type": "code",
   "execution_count": 6,
   "metadata": {},
   "outputs": [
    {
     "name": "stdout",
     "output_type": "stream",
     "text": [
      "Active grids: ['regular']\n"
     ]
    }
   ],
   "source": [
    "path_to_data = os.pardir+\"/data/input_data/jan_models/\"\n",
    "\n",
    "geo_data = gp.create_data([0,1000,0,10,0,1000],resolution=[200,2,200], \n",
    "                        path_o = path_to_data + \"model2_orientations.csv\",\n",
    "                        path_i = path_to_data + \"model2_surface_points.csv\") "
   ]
  },
  {
   "cell_type": "code",
   "execution_count": 7,
   "metadata": {},
   "outputs": [],
   "source": [
    "#geo_data.get_data('kriging')\n",
    "#geo_data.additional_data.kriging_data.modify_kriging_parameters('nugget grad', 0)\n",
    "#geo_data.additional_data.kriging_data.modify_kriging_parameters('nugget scalar', 0)\n",
    "#gp.update_additional_data"
   ]
  },
  {
   "cell_type": "code",
   "execution_count": 10,
   "metadata": {
    "scrolled": true
   },
   "outputs": [
    {
     "data": {
      "text/html": [
       "<style  type=\"text/css\" >\n",
       "    #T_3ecd791c_1806_11ea_9aeb_d8cb8aeeb072row0_col4 {\n",
       "            background-color:  #015482;\n",
       "        }    #T_3ecd791c_1806_11ea_9aeb_d8cb8aeeb072row1_col4 {\n",
       "            background-color:  #9f0052;\n",
       "        }    #T_3ecd791c_1806_11ea_9aeb_d8cb8aeeb072row2_col4 {\n",
       "            background-color:  #ffbe00;\n",
       "        }</style><table id=\"T_3ecd791c_1806_11ea_9aeb_d8cb8aeeb072\" ><thead>    <tr>        <th class=\"blank level0\" ></th>        <th class=\"col_heading level0 col0\" >surface</th>        <th class=\"col_heading level0 col1\" >series</th>        <th class=\"col_heading level0 col2\" >order_surfaces</th>        <th class=\"col_heading level0 col3\" >isBasement</th>        <th class=\"col_heading level0 col4\" >color</th>        <th class=\"col_heading level0 col5\" >id</th>    </tr></thead><tbody>\n",
       "                <tr>\n",
       "                        <th id=\"T_3ecd791c_1806_11ea_9aeb_d8cb8aeeb072level0_row0\" class=\"row_heading level0 row0\" >0</th>\n",
       "                        <td id=\"T_3ecd791c_1806_11ea_9aeb_d8cb8aeeb072row0_col0\" class=\"data row0 col0\" >rock1</td>\n",
       "                        <td id=\"T_3ecd791c_1806_11ea_9aeb_d8cb8aeeb072row0_col1\" class=\"data row0 col1\" >Strat_Series</td>\n",
       "                        <td id=\"T_3ecd791c_1806_11ea_9aeb_d8cb8aeeb072row0_col2\" class=\"data row0 col2\" >1</td>\n",
       "                        <td id=\"T_3ecd791c_1806_11ea_9aeb_d8cb8aeeb072row0_col3\" class=\"data row0 col3\" >False</td>\n",
       "                        <td id=\"T_3ecd791c_1806_11ea_9aeb_d8cb8aeeb072row0_col4\" class=\"data row0 col4\" >#015482</td>\n",
       "                        <td id=\"T_3ecd791c_1806_11ea_9aeb_d8cb8aeeb072row0_col5\" class=\"data row0 col5\" >1</td>\n",
       "            </tr>\n",
       "            <tr>\n",
       "                        <th id=\"T_3ecd791c_1806_11ea_9aeb_d8cb8aeeb072level0_row1\" class=\"row_heading level0 row1\" >1</th>\n",
       "                        <td id=\"T_3ecd791c_1806_11ea_9aeb_d8cb8aeeb072row1_col0\" class=\"data row1 col0\" >rock2</td>\n",
       "                        <td id=\"T_3ecd791c_1806_11ea_9aeb_d8cb8aeeb072row1_col1\" class=\"data row1 col1\" >Strat_Series</td>\n",
       "                        <td id=\"T_3ecd791c_1806_11ea_9aeb_d8cb8aeeb072row1_col2\" class=\"data row1 col2\" >2</td>\n",
       "                        <td id=\"T_3ecd791c_1806_11ea_9aeb_d8cb8aeeb072row1_col3\" class=\"data row1 col3\" >False</td>\n",
       "                        <td id=\"T_3ecd791c_1806_11ea_9aeb_d8cb8aeeb072row1_col4\" class=\"data row1 col4\" >#9f0052</td>\n",
       "                        <td id=\"T_3ecd791c_1806_11ea_9aeb_d8cb8aeeb072row1_col5\" class=\"data row1 col5\" >2</td>\n",
       "            </tr>\n",
       "            <tr>\n",
       "                        <th id=\"T_3ecd791c_1806_11ea_9aeb_d8cb8aeeb072level0_row2\" class=\"row_heading level0 row2\" >2</th>\n",
       "                        <td id=\"T_3ecd791c_1806_11ea_9aeb_d8cb8aeeb072row2_col0\" class=\"data row2 col0\" >basement</td>\n",
       "                        <td id=\"T_3ecd791c_1806_11ea_9aeb_d8cb8aeeb072row2_col1\" class=\"data row2 col1\" >Basement_Series</td>\n",
       "                        <td id=\"T_3ecd791c_1806_11ea_9aeb_d8cb8aeeb072row2_col2\" class=\"data row2 col2\" >1</td>\n",
       "                        <td id=\"T_3ecd791c_1806_11ea_9aeb_d8cb8aeeb072row2_col3\" class=\"data row2 col3\" >True</td>\n",
       "                        <td id=\"T_3ecd791c_1806_11ea_9aeb_d8cb8aeeb072row2_col4\" class=\"data row2 col4\" >#ffbe00</td>\n",
       "                        <td id=\"T_3ecd791c_1806_11ea_9aeb_d8cb8aeeb072row2_col5\" class=\"data row2 col5\" >3</td>\n",
       "            </tr>\n",
       "    </tbody></table>"
      ],
      "text/plain": [
       "    surface           series  order_surfaces  isBasement    color vertices edges  id\n",
       "0     rock1     Strat_Series               1       False  #015482      NaN   NaN   1\n",
       "1     rock2     Strat_Series               2       False  #9f0052      NaN   NaN   2\n",
       "2  basement  Basement_Series               1        True  #ffbe00      NaN   NaN   3"
      ]
     },
     "execution_count": 10,
     "metadata": {},
     "output_type": "execute_result"
    }
   ],
   "source": [
    "#gp.map_series_to_surfaces(geo_data, {\"Fault_Series\": ('fault'), \"Strat_Series1\": ('rock3'),\n",
    "#                                     \"Strat_Series2\": ('rock2','rock1'),\n",
    "#                                     \"Basement_Series\":('basement')})\n",
    "\n",
    "gp.map_series_to_surfaces(geo_data, {\"Strat_Series\": ('rock2','rock1'),\n",
    "                                        \"Basement_Series\":('basement')})\n",
    "\n",
    "#geo_data.set_is_fault(['Fault_Series'])"
   ]
  },
  {
   "cell_type": "code",
   "execution_count": 11,
   "metadata": {},
   "outputs": [
    {
     "data": {
      "text/html": [
       "<style  type=\"text/css\" >\n",
       "    #T_49c5f61c_1806_11ea_9116_d8cb8aeeb072row0_col4 {\n",
       "            background-color:  #015482;\n",
       "        }    #T_49c5f61c_1806_11ea_9116_d8cb8aeeb072row1_col4 {\n",
       "            background-color:  #9f0052;\n",
       "        }    #T_49c5f61c_1806_11ea_9116_d8cb8aeeb072row2_col4 {\n",
       "            background-color:  #ffbe00;\n",
       "        }</style><table id=\"T_49c5f61c_1806_11ea_9116_d8cb8aeeb072\" ><thead>    <tr>        <th class=\"blank level0\" ></th>        <th class=\"col_heading level0 col0\" >surface</th>        <th class=\"col_heading level0 col1\" >series</th>        <th class=\"col_heading level0 col2\" >order_surfaces</th>        <th class=\"col_heading level0 col3\" >isBasement</th>        <th class=\"col_heading level0 col4\" >color</th>        <th class=\"col_heading level0 col5\" >id</th>    </tr></thead><tbody>\n",
       "                <tr>\n",
       "                        <th id=\"T_49c5f61c_1806_11ea_9116_d8cb8aeeb072level0_row0\" class=\"row_heading level0 row0\" >0</th>\n",
       "                        <td id=\"T_49c5f61c_1806_11ea_9116_d8cb8aeeb072row0_col0\" class=\"data row0 col0\" >rock1</td>\n",
       "                        <td id=\"T_49c5f61c_1806_11ea_9116_d8cb8aeeb072row0_col1\" class=\"data row0 col1\" >Strat_Series</td>\n",
       "                        <td id=\"T_49c5f61c_1806_11ea_9116_d8cb8aeeb072row0_col2\" class=\"data row0 col2\" >1</td>\n",
       "                        <td id=\"T_49c5f61c_1806_11ea_9116_d8cb8aeeb072row0_col3\" class=\"data row0 col3\" >False</td>\n",
       "                        <td id=\"T_49c5f61c_1806_11ea_9116_d8cb8aeeb072row0_col4\" class=\"data row0 col4\" >#015482</td>\n",
       "                        <td id=\"T_49c5f61c_1806_11ea_9116_d8cb8aeeb072row0_col5\" class=\"data row0 col5\" >1</td>\n",
       "            </tr>\n",
       "            <tr>\n",
       "                        <th id=\"T_49c5f61c_1806_11ea_9116_d8cb8aeeb072level0_row1\" class=\"row_heading level0 row1\" >1</th>\n",
       "                        <td id=\"T_49c5f61c_1806_11ea_9116_d8cb8aeeb072row1_col0\" class=\"data row1 col0\" >rock2</td>\n",
       "                        <td id=\"T_49c5f61c_1806_11ea_9116_d8cb8aeeb072row1_col1\" class=\"data row1 col1\" >Strat_Series</td>\n",
       "                        <td id=\"T_49c5f61c_1806_11ea_9116_d8cb8aeeb072row1_col2\" class=\"data row1 col2\" >2</td>\n",
       "                        <td id=\"T_49c5f61c_1806_11ea_9116_d8cb8aeeb072row1_col3\" class=\"data row1 col3\" >False</td>\n",
       "                        <td id=\"T_49c5f61c_1806_11ea_9116_d8cb8aeeb072row1_col4\" class=\"data row1 col4\" >#9f0052</td>\n",
       "                        <td id=\"T_49c5f61c_1806_11ea_9116_d8cb8aeeb072row1_col5\" class=\"data row1 col5\" >2</td>\n",
       "            </tr>\n",
       "            <tr>\n",
       "                        <th id=\"T_49c5f61c_1806_11ea_9116_d8cb8aeeb072level0_row2\" class=\"row_heading level0 row2\" >2</th>\n",
       "                        <td id=\"T_49c5f61c_1806_11ea_9116_d8cb8aeeb072row2_col0\" class=\"data row2 col0\" >basement</td>\n",
       "                        <td id=\"T_49c5f61c_1806_11ea_9116_d8cb8aeeb072row2_col1\" class=\"data row2 col1\" >Basement_Series</td>\n",
       "                        <td id=\"T_49c5f61c_1806_11ea_9116_d8cb8aeeb072row2_col2\" class=\"data row2 col2\" >1</td>\n",
       "                        <td id=\"T_49c5f61c_1806_11ea_9116_d8cb8aeeb072row2_col3\" class=\"data row2 col3\" >True</td>\n",
       "                        <td id=\"T_49c5f61c_1806_11ea_9116_d8cb8aeeb072row2_col4\" class=\"data row2 col4\" >#ffbe00</td>\n",
       "                        <td id=\"T_49c5f61c_1806_11ea_9116_d8cb8aeeb072row2_col5\" class=\"data row2 col5\" >3</td>\n",
       "            </tr>\n",
       "    </tbody></table>"
      ],
      "text/plain": [
       "    surface           series  order_surfaces  isBasement    color vertices edges  id\n",
       "0     rock1     Strat_Series               1       False  #015482      NaN   NaN   1\n",
       "1     rock2     Strat_Series               2       False  #9f0052      NaN   NaN   2\n",
       "2  basement  Basement_Series               1        True  #ffbe00      NaN   NaN   3"
      ]
     },
     "execution_count": 11,
     "metadata": {},
     "output_type": "execute_result"
    }
   ],
   "source": [
    "#geo_data.surfaces.colors.change_colors({'fault': '#000000', 'rock1': '#CC081F', 'rock2': '#FFAA00',\n",
    "#                                        'rock3': '#006C8C', 'basement': '#097703'})\n",
    "\n",
    "#geo_data.surfaces.colors.change_colors({'fault': '#000000', 'rock1': '#E1E1E1', 'rock2': '#B1B1B1',\n",
    "                                        #'rock3': '#4B4B4B', 'basement': '#7B7B7B'})\n",
    "    \n",
    "geo_data.surfaces"
   ]
  },
  {
   "cell_type": "code",
   "execution_count": 12,
   "metadata": {},
   "outputs": [
    {
     "data": {
      "text/plain": [
       "<gempy.plot.visualization_2d.PlotData2D at 0x2927a0aa088>"
      ]
     },
     "execution_count": 12,
     "metadata": {},
     "output_type": "execute_result"
    },
    {
     "data": {
      "image/png": "[encoded data removed]",
      "text/plain": [
       "<Figure size 1440x720 with 1 Axes>"
      ]
     },
     "metadata": {
      "needs_background": "light"
     },
     "output_type": "display_data"
    }
   ],
   "source": [
    "%matplotlib inline\n",
    "gp.plot.plot_data(geo_data, direction='y')"
   ]
  },
  {
   "cell_type": "code",
   "execution_count": 13,
   "metadata": {},
   "outputs": [
    {
     "name": "stdout",
     "output_type": "stream",
     "text": [
      "Compiling theano function...\n",
      "Level of Optimization:  fast_compile\n",
      "Device:  cpu\n",
      "Precision:  float64\n",
      "Number of faults:  0\n",
      "Compilation Done!\n"
     ]
    }
   ],
   "source": [
    "interp_data = gp.set_interpolation_data(geo_data, theano_optimizer='fast_compile')"
   ]
  },
  {
   "cell_type": "code",
   "execution_count": 14,
   "metadata": {},
   "outputs": [
    {
     "name": "stderr",
     "output_type": "stream",
     "text": [
      "../../..\\gempy\\core\\solution.py:257: UserWarning: Attribute error. Using non masked marching cubesmarching_cubes_lewiner() got an unexpected keyword argument 'mask'.\n",
      "  warnings.warn('Attribute error. Using non masked marching cubes' + str(e)+'.')\n"
     ]
    }
   ],
   "source": [
    "sol = gp.compute_model(geo_data)"
   ]
  },
  {
   "cell_type": "code",
   "execution_count": 15,
   "metadata": {},
   "outputs": [],
   "source": [
    "#geo_data.add_topography(source='random')"
   ]
  },
  {
   "cell_type": "code",
   "execution_count": 16,
   "metadata": {},
   "outputs": [
    {
     "data": {
      "text/plain": [
       "<gempy.plot.visualization_2d.PlotSolution at 0x2927a5682c8>"
      ]
     },
     "execution_count": 16,
     "metadata": {},
     "output_type": "execute_result"
    },
    {
     "data": {
      "image/png": "[encoded data removed]",
      "text/plain": [
       "<Figure size 432x288 with 1 Axes>"
      ]
     },
     "metadata": {
      "needs_background": "light"
     },
     "output_type": "display_data"
    }
   ],
   "source": [
    "%matplotlib inline\n",
    "gp.plot.plot_section(geo_data, cell_number=1,\n",
    "                         direction='y', show_data=True)"
   ]
  },
  {
   "cell_type": "markdown",
   "metadata": {},
   "source": [
    "# Kriging test"
   ]
  },
  {
   "cell_type": "code",
   "execution_count": 17,
   "metadata": {},
   "outputs": [
    {
     "ename": "IndexError",
     "evalue": "index 2 is out of bounds for axis 0 with size 1",
     "output_type": "error",
     "traceback": [
      "\u001b[1;31m---------------------------------------------------------------------------\u001b[0m",
      "\u001b[1;31mIndexError\u001b[0m                                Traceback (most recent call last)",
      "\u001b[1;32m<ipython-input-17-8c2cede8815f>\u001b[0m in \u001b[0;36m<module>\u001b[1;34m\u001b[0m\n\u001b[0;32m      2\u001b[0m \u001b[0mcond_data\u001b[0m \u001b[1;33m=\u001b[0m \u001b[0mnp\u001b[0m\u001b[1;33m.\u001b[0m\u001b[0marray\u001b[0m\u001b[1;33m(\u001b[0m\u001b[1;33m[\u001b[0m\u001b[1;33m[\u001b[0m\u001b[1;36m100\u001b[0m\u001b[1;33m,\u001b[0m\u001b[1;36m.5\u001b[0m\u001b[1;33m,\u001b[0m\u001b[1;36m500\u001b[0m\u001b[1;33m,\u001b[0m\u001b[1;36m20\u001b[0m\u001b[1;33m]\u001b[0m\u001b[1;33m,\u001b[0m\u001b[1;33m[\u001b[0m\u001b[1;36m900\u001b[0m\u001b[1;33m,\u001b[0m\u001b[1;36m.5\u001b[0m\u001b[1;33m,\u001b[0m\u001b[1;36m500\u001b[0m\u001b[1;33m,\u001b[0m\u001b[1;36m20\u001b[0m\u001b[1;33m]\u001b[0m\u001b[1;33m,\u001b[0m\u001b[1;33m[\u001b[0m\u001b[1;36m500\u001b[0m\u001b[1;33m,\u001b[0m\u001b[1;36m.5\u001b[0m\u001b[1;33m,\u001b[0m\u001b[1;36m550\u001b[0m\u001b[1;33m,\u001b[0m\u001b[1;36m20\u001b[0m\u001b[1;33m]\u001b[0m\u001b[1;33m,\u001b[0m\u001b[1;33m[\u001b[0m\u001b[1;36m300\u001b[0m\u001b[1;33m,\u001b[0m\u001b[1;36m.5\u001b[0m\u001b[1;33m,\u001b[0m\u001b[1;36m400\u001b[0m\u001b[1;33m,\u001b[0m\u001b[1;36m20\u001b[0m\u001b[1;33m]\u001b[0m\u001b[1;33m]\u001b[0m\u001b[1;33m)\u001b[0m\u001b[1;33m\u001b[0m\u001b[1;33m\u001b[0m\u001b[0m\n\u001b[0;32m      3\u001b[0m \u001b[1;33m\u001b[0m\u001b[0m\n\u001b[1;32m----> 4\u001b[1;33m \u001b[0mdomain\u001b[0m \u001b[1;33m=\u001b[0m \u001b[0mkriging\u001b[0m\u001b[1;33m.\u001b[0m\u001b[0mdomain\u001b[0m\u001b[1;33m(\u001b[0m\u001b[0mmodel\u001b[0m\u001b[1;33m=\u001b[0m\u001b[0msol\u001b[0m\u001b[1;33m,\u001b[0m \u001b[0mdomain\u001b[0m\u001b[1;33m=\u001b[0m\u001b[1;33m[\u001b[0m\u001b[1;36m4\u001b[0m\u001b[1;33m]\u001b[0m\u001b[1;33m,\u001b[0m \u001b[0mdata\u001b[0m\u001b[1;33m=\u001b[0m\u001b[0mcond_data\u001b[0m\u001b[1;33m)\u001b[0m\u001b[1;33m\u001b[0m\u001b[1;33m\u001b[0m\u001b[0m\n\u001b[0m\u001b[0;32m      5\u001b[0m \u001b[1;33m\u001b[0m\u001b[0m\n\u001b[0;32m      6\u001b[0m variogram_model = kriging.variogram_model(theoretical_model = 'exponential', \n",
      "\u001b[1;32m~\\gempy\\gempy\\assets\\kriging.py\u001b[0m in \u001b[0;36m__init__\u001b[1;34m(self, model, domain, data, set_mean, fault)\u001b[0m\n\u001b[0;32m     40\u001b[0m         \u001b[1;32mif\u001b[0m \u001b[0mdomain\u001b[0m \u001b[1;32mis\u001b[0m \u001b[1;32mNone\u001b[0m\u001b[1;33m:\u001b[0m\u001b[1;33m\u001b[0m\u001b[1;33m\u001b[0m\u001b[0m\n\u001b[0;32m     41\u001b[0m             \u001b[0mdomain\u001b[0m \u001b[1;33m=\u001b[0m \u001b[0mnp\u001b[0m\u001b[1;33m.\u001b[0m\u001b[0munique\u001b[0m\u001b[1;33m(\u001b[0m\u001b[0mself\u001b[0m\u001b[1;33m.\u001b[0m\u001b[0msol\u001b[0m\u001b[1;33m.\u001b[0m\u001b[0mlith_block\u001b[0m\u001b[1;33m)\u001b[0m\u001b[1;33m\u001b[0m\u001b[1;33m\u001b[0m\u001b[0m\n\u001b[1;32m---> 42\u001b[1;33m         \u001b[0mself\u001b[0m\u001b[1;33m.\u001b[0m\u001b[0mset_domain\u001b[0m\u001b[1;33m(\u001b[0m\u001b[0mdomain\u001b[0m\u001b[1;33m)\u001b[0m\u001b[1;33m\u001b[0m\u001b[1;33m\u001b[0m\u001b[0m\n\u001b[0m\u001b[0;32m     43\u001b[0m \u001b[1;33m\u001b[0m\u001b[0m\n\u001b[0;32m     44\u001b[0m         \u001b[1;31m# set data, default is None\u001b[0m\u001b[1;33m\u001b[0m\u001b[1;33m\u001b[0m\u001b[1;33m\u001b[0m\u001b[0m\n",
      "\u001b[1;32m~\\gempy\\gempy\\assets\\kriging.py\u001b[0m in \u001b[0;36mset_domain\u001b[1;34m(self, domain)\u001b[0m\n\u001b[0;32m     84\u001b[0m         \u001b[0mself\u001b[0m\u001b[1;33m.\u001b[0m\u001b[0mkrig_lith\u001b[0m \u001b[1;33m=\u001b[0m \u001b[0mself\u001b[0m\u001b[1;33m.\u001b[0m\u001b[0msol\u001b[0m\u001b[1;33m.\u001b[0m\u001b[0mlith_block\u001b[0m\u001b[1;33m[\u001b[0m\u001b[0mself\u001b[0m\u001b[1;33m.\u001b[0m\u001b[0mmask\u001b[0m\u001b[1;33m]\u001b[0m\u001b[1;33m\u001b[0m\u001b[1;33m\u001b[0m\u001b[0m\n\u001b[0;32m     85\u001b[0m         \u001b[0mself\u001b[0m\u001b[1;33m.\u001b[0m\u001b[0mkrig_grid\u001b[0m \u001b[1;33m=\u001b[0m \u001b[0mself\u001b[0m\u001b[1;33m.\u001b[0m\u001b[0msol\u001b[0m\u001b[1;33m.\u001b[0m\u001b[0mgrid\u001b[0m\u001b[1;33m.\u001b[0m\u001b[0mvalues\u001b[0m\u001b[1;33m[\u001b[0m\u001b[0mself\u001b[0m\u001b[1;33m.\u001b[0m\u001b[0mmask\u001b[0m\u001b[1;33m]\u001b[0m\u001b[1;33m\u001b[0m\u001b[1;33m\u001b[0m\u001b[0m\n\u001b[1;32m---> 86\u001b[1;33m         \u001b[0mself\u001b[0m\u001b[1;33m.\u001b[0m\u001b[0mkrig_scal\u001b[0m \u001b[1;33m=\u001b[0m \u001b[0mself\u001b[0m\u001b[1;33m.\u001b[0m\u001b[0msol\u001b[0m\u001b[1;33m.\u001b[0m\u001b[0mscalar_field_matrix\u001b[0m\u001b[1;33m[\u001b[0m\u001b[1;36m2\u001b[0m\u001b[1;33m]\u001b[0m\u001b[1;33m[\u001b[0m\u001b[0mself\u001b[0m\u001b[1;33m.\u001b[0m\u001b[0mmask\u001b[0m\u001b[1;33m]\u001b[0m \u001b[1;31m# does not work, why is that different\u001b[0m\u001b[1;33m\u001b[0m\u001b[1;33m\u001b[0m\u001b[0m\n\u001b[0m\u001b[0;32m     87\u001b[0m         \u001b[0mself\u001b[0m\u001b[1;33m.\u001b[0m\u001b[0mkrig_scalmax\u001b[0m \u001b[1;33m=\u001b[0m \u001b[0mself\u001b[0m\u001b[1;33m.\u001b[0m\u001b[0mkrig_scal\u001b[0m\u001b[1;33m.\u001b[0m\u001b[0mmax\u001b[0m\u001b[1;33m(\u001b[0m\u001b[1;33m)\u001b[0m\u001b[1;33m\u001b[0m\u001b[1;33m\u001b[0m\u001b[0m\n\u001b[0;32m     88\u001b[0m         \u001b[0mself\u001b[0m\u001b[1;33m.\u001b[0m\u001b[0mkrig_scalmin\u001b[0m \u001b[1;33m=\u001b[0m \u001b[0mself\u001b[0m\u001b[1;33m.\u001b[0m\u001b[0mkrig_scal\u001b[0m\u001b[1;33m.\u001b[0m\u001b[0mmin\u001b[0m\u001b[1;33m(\u001b[0m\u001b[1;33m)\u001b[0m\u001b[1;33m\u001b[0m\u001b[1;33m\u001b[0m\u001b[0m\n",
      "\u001b[1;31mIndexError\u001b[0m: index 2 is out of bounds for axis 0 with size 1"
     ]
    }
   ],
   "source": [
    "# conditioning data (data measured at locations)\n",
    "cond_data = np.array([[100,.5,500,20],[900,.5,500,20],[500,.5,550,20],[300,.5,400,20]])\n",
    "\n",
    "domain = kriging.domain(model=sol, domain=[4], data=cond_data)\n",
    "\n",
    "variogram_model = kriging.variogram_model(theoretical_model = 'exponential', \n",
    "                                          range_=300, sill=10, nugget=0.1)"
   ]
  },
  {
   "cell_type": "code",
   "execution_count": 18,
   "metadata": {},
   "outputs": [
    {
     "ename": "NameError",
     "evalue": "name 'domain' is not defined",
     "output_type": "error",
     "traceback": [
      "\u001b[1;31m---------------------------------------------------------------------------\u001b[0m",
      "\u001b[1;31mNameError\u001b[0m                                 Traceback (most recent call last)",
      "\u001b[1;32m<ipython-input-18-9722d5e2618f>\u001b[0m in \u001b[0;36m<module>\u001b[1;34m\u001b[0m\n\u001b[1;32m----> 1\u001b[1;33m \u001b[0msolution\u001b[0m \u001b[1;33m=\u001b[0m \u001b[0mkriging\u001b[0m\u001b[1;33m.\u001b[0m\u001b[0mcreate_kriged_field\u001b[0m\u001b[1;33m(\u001b[0m\u001b[0mdomain\u001b[0m\u001b[1;33m,\u001b[0m \u001b[0mvariogram_model\u001b[0m\u001b[1;33m)\u001b[0m\u001b[1;33m\u001b[0m\u001b[1;33m\u001b[0m\u001b[0m\n\u001b[0m",
      "\u001b[1;31mNameError\u001b[0m: name 'domain' is not defined"
     ]
    }
   ],
   "source": [
    "solution = kriging.create_kriged_field(domain, variogram_model)"
   ]
  },
  {
   "cell_type": "code",
   "execution_count": 116,
   "metadata": {},
   "outputs": [
    {
     "data": {
      "image/png": "[encoded data removed]",
      "text/plain": [
       "<Figure size 490.909x216 with 2 Axes>"
      ]
     },
     "metadata": {
      "needs_background": "light"
     },
     "output_type": "display_data"
    }
   ],
   "source": [
    "solution.plot_results(geo_data=geo_data, prop='val', contour=False, direction='y', cell_number=0, alpha=0.7,\n",
    "                          show_data=False, legend=True)"
   ]
  },
  {
   "cell_type": "markdown",
   "metadata": {},
   "source": [
    "# SGS non-eucl?"
   ]
  },
  {
   "cell_type": "code",
   "execution_count": 442,
   "metadata": {},
   "outputs": [
    {
     "data": {
      "text/plain": [
       "<module 'gempy.assets.kriging' from '../../..\\\\gempy\\\\assets\\\\kriging.py'>"
      ]
     },
     "execution_count": 442,
     "metadata": {},
     "output_type": "execute_result"
    }
   ],
   "source": [
    "importlib.reload(kriging)"
   ]
  },
  {
   "cell_type": "code",
   "execution_count": 443,
   "metadata": {},
   "outputs": [],
   "source": [
    "domain = kriging.domain(model=sol, domain=[4], data=cond_data, fault=True)"
   ]
  },
  {
   "cell_type": "code",
   "execution_count": 444,
   "metadata": {},
   "outputs": [
    {
     "name": "stdout",
     "output_type": "stream",
     "text": [
      "Active grids: ['regular' 'custom']\n"
     ]
    },
    {
     "data": {
      "text/plain": [
       "array([ True, False, False, False, False])"
      ]
     },
     "execution_count": 444,
     "metadata": {},
     "output_type": "execute_result"
    }
   ],
   "source": [
    "np.random.seed(10340)\n",
    "# Manual way to input sgs stuff with scalar field values for non euclidian distance \n",
    "# nit nice but good enough for figure\n",
    "\n",
    "geo_data.set_custom_grid(domain.data[:,:3])\n",
    "gp.compute_model(geo_data, compute_mesh=False)\n",
    "\n",
    "locs = np.hstack((domain.krig_grid, domain.krig_scal.reshape((len(domain.krig_grid),1)),domain.fault_model.reshape((len(domain.krig_grid),1))))\n",
    "np.random.shuffle(locs)\n",
    "\n",
    "sgs_locations = np.vstack((domain.data[:,:3], locs[:,:3]))\n",
    "sgs_gradients = np.vstack((geo_data.solutions.custom[1][2].reshape((4,1)), locs[:,3].reshape((len(domain.krig_grid),1))))\n",
    "sgs_fault_block = np.vstack((np.round(geo_data.solutions.custom[1][0].reshape((4,1))), locs[:,4].reshape((len(domain.krig_grid),1))))\n",
    "\n",
    "sgs_grid = np.hstack((sgs_locations, sgs_gradients))\n",
    "sol.grid.set_inactive('custom')"
   ]
  },
  {
   "cell_type": "code",
   "execution_count": 445,
   "metadata": {
    "scrolled": true
   },
   "outputs": [
    {
     "name": "stdout",
     "output_type": "stream",
     "text": [
      "(521, 521)\n",
      "0.0\n"
     ]
    }
   ],
   "source": [
    "solution_sim = kriging.create_gaussian_field(domain, variogram_model, distance_type='deformed', \n",
    "                                             moving_neighbourhood='n_closest', sgs_grid=sgs_grid, shuffled_grid=locs,\n",
    "                                            sgs_fault_block=sgs_fault_block)"
   ]
  },
  {
   "cell_type": "code",
   "execution_count": 446,
   "metadata": {},
   "outputs": [
    {
     "data": {
      "image/png": "[encoded data removed]",
      "text/plain": [
       "<Figure size 432x288 with 2 Axes>"
      ]
     },
     "metadata": {
      "needs_background": "light"
     },
     "output_type": "display_data"
    }
   ],
   "source": [
    "#solution_sim.plot_results(geo_data=geo_data, prop='val', contour=True, direction='y', cell_number=1, alpha=0.9,\n",
    "                          #show_data=False, legend=True)\n",
    "\n",
    "#plt.savefig('test_figure5.svg')"
   ]
  },
  {
   "cell_type": "code",
   "execution_count": 447,
   "metadata": {},
   "outputs": [
    {
     "data": {
      "text/plain": [
       "array([910.        ,  39.84      , 630.82962963])"
      ]
     },
     "execution_count": 447,
     "metadata": {},
     "output_type": "execute_result"
    }
   ],
   "source": [
    "sgs_locations[16]"
   ]
  },
  {
   "cell_type": "code",
   "execution_count": 448,
   "metadata": {},
   "outputs": [
    {
     "data": {
      "text/plain": [
       "array([500.        , 500.        , 550.        , ..., 448.96296296,\n",
       "       691.45185185, 267.0962963 ])"
      ]
     },
     "execution_count": 448,
     "metadata": {},
     "output_type": "execute_result"
    }
   ],
   "source": [
    "sgs_locations[:,2]"
   ]
  },
  {
   "cell_type": "code",
   "execution_count": 449,
   "metadata": {},
   "outputs": [
    {
     "data": {
      "text/plain": [
       "(array([  22,  224,  307,  322,  427,  573,  778,  854,  865,  941, 1032,\n",
       "        1267, 1387, 1422, 1444, 1497, 1619, 1623, 1666, 1698, 1720, 1726,\n",
       "        1762, 1805], dtype=int64),)"
      ]
     },
     "execution_count": 449,
     "metadata": {},
     "output_type": "execute_result"
    }
   ],
   "source": [
    "np.where(sgs_locations[:,0]==790)"
   ]
  },
  {
   "cell_type": "code",
   "execution_count": 450,
   "metadata": {},
   "outputs": [
    {
     "data": {
      "image/png": "[encoded data removed]",
      "text/plain": [
       "<Figure size 432x288 with 2 Axes>"
      ]
     },
     "metadata": {
      "needs_background": "light"
     },
     "output_type": "display_data"
    }
   ],
   "source": [
    "point=423\n",
    "\n",
    "solution_sim.plot_distances(geo_data=geo_data, direction='y', cell_number=1, point=point,\n",
    "                            contour=True, alpha=0.5,  interpolation='nearest', legend=True)\n",
    "\n",
    "plt.scatter(sgs_locations[point+4][0], sgs_locations[point+4][2], color='black', s=5)\n",
    "\n",
    "plt.savefig('test_figure4.svg')"
   ]
  },
  {
   "cell_type": "code",
   "execution_count": null,
   "metadata": {},
   "outputs": [],
   "source": []
  },
  {
   "cell_type": "code",
   "execution_count": null,
   "metadata": {},
   "outputs": [],
   "source": []
  },
  {
   "cell_type": "code",
   "execution_count": null,
   "metadata": {},
   "outputs": [],
   "source": []
  },
  {
   "cell_type": "code",
   "execution_count": null,
   "metadata": {},
   "outputs": [],
   "source": []
  }
 ],
 "metadata": {
  "kernelspec": {
   "display_name": "Python 3",
   "language": "python",
   "name": "python3"
  },
  "language_info": {
   "codemirror_mode": {
    "name": "ipython",
    "version": 3
   },
   "file_extension": ".py",
   "mimetype": "text/x-python",
   "name": "python",
   "nbconvert_exporter": "python",
   "pygments_lexer": "ipython3",
   "version": "3.7.5"
  }
 },
 "nbformat": 4,
 "nbformat_minor": 2
}
