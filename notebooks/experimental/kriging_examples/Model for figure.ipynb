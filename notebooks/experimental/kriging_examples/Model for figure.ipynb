{
 "cells": [
  {
   "cell_type": "code",
   "execution_count": 1,
   "metadata": {},
   "outputs": [
    {
     "name": "stderr",
     "output_type": "stream",
     "text": [
      "WARNING (theano.tensor.blas): Using NumPy C-API based implementation for BLAS functions.\n",
      "Can not use cuDNN on context None: cannot compile with cuDNN. We got this error:\n",
      "b'/tmp/try_flags_ivir1bg4.c:4:10: fatal error: cudnn.h: No such file or directory\\n #include <cudnn.h>\\n          ^~~~~~~~~\\ncompilation terminated.\\n'\n",
      "Mapped name None to device cuda: GeForce RTX 2080 (0000:01:00.0)\n"
     ]
    }
   ],
   "source": [
    "import os\n",
    "os.environ[\"THEANO_FLAGS\"] = \"mode=FAST_RUN,device=cuda\"\n",
    "import theano"
   ]
  },
  {
   "cell_type": "code",
   "execution_count": 2,
   "metadata": {},
   "outputs": [],
   "source": [
    "# These two lines are necessary only if GemPy is not installed\n",
    "import sys, os\n",
    "sys.path.append(\"../../..\")\n",
    "# just here as it is subfolder in experimental\n",
    "os.pardir = '../..'\n",
    "\n",
    "# Importing GemPy\n",
    "import gempy as gp\n",
    "\n",
    "# Embedding matplotlib figures in the notebooks\n",
    "%matplotlib inline\n",
    "\n",
    "# Importing auxiliary libraries\n",
    "import numpy as np\n",
    "import matplotlib.pyplot as plt\n",
    "\n",
    "# new for this\n",
    "import importlib\n",
    "from gempy.assets import kriging"
   ]
  },
  {
   "cell_type": "code",
   "execution_count": 3,
   "metadata": {},
   "outputs": [
    {
     "name": "stdout",
     "output_type": "stream",
     "text": [
      "Active grids: ['regular']\n"
     ]
    }
   ],
   "source": [
    "path_to_data = os.pardir+\"/data/input_data/jan_models/\"\n",
    "f=3\n",
    "geo_data = gp.create_data([0,2500,0,int(40),0,1100],resolution=[int(125*f),4,int(55*f)], \n",
    "                        path_o = path_to_data + \"model7b_orientations_fault.csv\",\n",
    "                        path_i = path_to_data + \"model7b_surface_points_fault.csv\") "
   ]
  },
  {
   "cell_type": "code",
   "execution_count": 4,
   "metadata": {},
   "outputs": [],
   "source": [
    "#geo_data.get_data('kriging')\n",
    "#geo_data.additional_data.kriging_data.modify_kriging_parameters('nugget grad', 0)\n",
    "#geo_data.additional_data.kriging_data.modify_kriging_parameters('nugget scalar', 0)\n",
    "#gp.update_additional_data"
   ]
  },
  {
   "cell_type": "code",
   "execution_count": 5,
   "metadata": {},
   "outputs": [],
   "source": [
    "#geo_data.get_data('kriging')"
   ]
  },
  {
   "cell_type": "code",
   "execution_count": 6,
   "metadata": {},
   "outputs": [
    {
     "data": {
      "text/html": [
       "<table border=\"1\" class=\"dataframe\">\n",
       "  <thead>\n",
       "    <tr style=\"text-align: right;\">\n",
       "      <th></th>\n",
       "      <th>values</th>\n",
       "    </tr>\n",
       "  </thead>\n",
       "  <tbody>\n",
       "    <tr>\n",
       "      <th>range</th>\n",
       "      <td>2731.59</td>\n",
       "    </tr>\n",
       "    <tr>\n",
       "      <th>$C_o$</th>\n",
       "      <td>177657</td>\n",
       "    </tr>\n",
       "    <tr>\n",
       "      <th>drift equations</th>\n",
       "      <td>[3, 0]</td>\n",
       "    </tr>\n",
       "    <tr>\n",
       "      <th>nugget grad</th>\n",
       "      <td>0.01</td>\n",
       "    </tr>\n",
       "    <tr>\n",
       "      <th>nugget scalar</th>\n",
       "      <td>1e-06</td>\n",
       "    </tr>\n",
       "  </tbody>\n",
       "</table>"
      ],
      "text/plain": [
       "                  values\n",
       "range            2731.59\n",
       "$C_o$             177657\n",
       "drift equations   [3, 0]\n",
       "nugget grad         0.01\n",
       "nugget scalar      1e-06"
      ]
     },
     "execution_count": 6,
     "metadata": {},
     "output_type": "execute_result"
    }
   ],
   "source": [
    "geo_data.get_data('kriging')"
   ]
  },
  {
   "cell_type": "code",
   "execution_count": 7,
   "metadata": {
    "scrolled": true
   },
   "outputs": [
    {
     "name": "stdout",
     "output_type": "stream",
     "text": [
      "Fault colors changed. If you do not like this behavior, set change_color to False.\n"
     ]
    },
    {
     "data": {
      "text/html": [
       "<table border=\"1\" class=\"dataframe\">\n",
       "  <thead>\n",
       "    <tr style=\"text-align: right;\">\n",
       "      <th></th>\n",
       "      <th>isFault</th>\n",
       "      <th>isFinite</th>\n",
       "    </tr>\n",
       "  </thead>\n",
       "  <tbody>\n",
       "    <tr>\n",
       "      <th>Fault_Series</th>\n",
       "      <td>True</td>\n",
       "      <td>False</td>\n",
       "    </tr>\n",
       "    <tr>\n",
       "      <th>Strat_Series1</th>\n",
       "      <td>False</td>\n",
       "      <td>False</td>\n",
       "    </tr>\n",
       "    <tr>\n",
       "      <th>Strat_Series2</th>\n",
       "      <td>False</td>\n",
       "      <td>False</td>\n",
       "    </tr>\n",
       "    <tr>\n",
       "      <th>Basement_Series</th>\n",
       "      <td>False</td>\n",
       "      <td>False</td>\n",
       "    </tr>\n",
       "  </tbody>\n",
       "</table>"
      ],
      "text/plain": [
       "                 isFault  isFinite\n",
       "Fault_Series        True     False\n",
       "Strat_Series1      False     False\n",
       "Strat_Series2      False     False\n",
       "Basement_Series    False     False"
      ]
     },
     "execution_count": 7,
     "metadata": {},
     "output_type": "execute_result"
    }
   ],
   "source": [
    "gp.map_series_to_surfaces(geo_data, {\"Fault_Series\": ('fault'), \"Strat_Series1\": ('rock3'),\n",
    "                                     \"Strat_Series2\": ('rock2','rock1'),\n",
    "                                     \"Basement_Series\":('basement')})\n",
    "\n",
    "geo_data.set_is_fault(['Fault_Series'])"
   ]
  },
  {
   "cell_type": "code",
   "execution_count": 8,
   "metadata": {},
   "outputs": [
    {
     "data": {
      "text/html": [
       "<style  type=\"text/css\" >\n",
       "    #T_67817336_151c_11ea_bff0_659761707786row0_col4 {\n",
       "            background-color:  #000000;\n",
       "        }    #T_67817336_151c_11ea_bff0_659761707786row1_col4 {\n",
       "            background-color:  #4B4B4B;\n",
       "        }    #T_67817336_151c_11ea_bff0_659761707786row2_col4 {\n",
       "            background-color:  #B1B1B1;\n",
       "        }    #T_67817336_151c_11ea_bff0_659761707786row3_col4 {\n",
       "            background-color:  #E1E1E1;\n",
       "        }    #T_67817336_151c_11ea_bff0_659761707786row4_col4 {\n",
       "            background-color:  #7B7B7B;\n",
       "        }</style><table id=\"T_67817336_151c_11ea_bff0_659761707786\" ><thead>    <tr>        <th class=\"blank level0\" ></th>        <th class=\"col_heading level0 col0\" >surface</th>        <th class=\"col_heading level0 col1\" >series</th>        <th class=\"col_heading level0 col2\" >order_surfaces</th>        <th class=\"col_heading level0 col3\" >isBasement</th>        <th class=\"col_heading level0 col4\" >color</th>        <th class=\"col_heading level0 col5\" >id</th>    </tr></thead><tbody>\n",
       "                <tr>\n",
       "                        <th id=\"T_67817336_151c_11ea_bff0_659761707786level0_row0\" class=\"row_heading level0 row0\" >3</th>\n",
       "                        <td id=\"T_67817336_151c_11ea_bff0_659761707786row0_col0\" class=\"data row0 col0\" >fault</td>\n",
       "                        <td id=\"T_67817336_151c_11ea_bff0_659761707786row0_col1\" class=\"data row0 col1\" >Fault_Series</td>\n",
       "                        <td id=\"T_67817336_151c_11ea_bff0_659761707786row0_col2\" class=\"data row0 col2\" >1</td>\n",
       "                        <td id=\"T_67817336_151c_11ea_bff0_659761707786row0_col3\" class=\"data row0 col3\" >False</td>\n",
       "                        <td id=\"T_67817336_151c_11ea_bff0_659761707786row0_col4\" class=\"data row0 col4\" >#000000</td>\n",
       "                        <td id=\"T_67817336_151c_11ea_bff0_659761707786row0_col5\" class=\"data row0 col5\" >1</td>\n",
       "            </tr>\n",
       "            <tr>\n",
       "                        <th id=\"T_67817336_151c_11ea_bff0_659761707786level0_row1\" class=\"row_heading level0 row1\" >0</th>\n",
       "                        <td id=\"T_67817336_151c_11ea_bff0_659761707786row1_col0\" class=\"data row1 col0\" >rock3</td>\n",
       "                        <td id=\"T_67817336_151c_11ea_bff0_659761707786row1_col1\" class=\"data row1 col1\" >Strat_Series1</td>\n",
       "                        <td id=\"T_67817336_151c_11ea_bff0_659761707786row1_col2\" class=\"data row1 col2\" >1</td>\n",
       "                        <td id=\"T_67817336_151c_11ea_bff0_659761707786row1_col3\" class=\"data row1 col3\" >False</td>\n",
       "                        <td id=\"T_67817336_151c_11ea_bff0_659761707786row1_col4\" class=\"data row1 col4\" >#4B4B4B</td>\n",
       "                        <td id=\"T_67817336_151c_11ea_bff0_659761707786row1_col5\" class=\"data row1 col5\" >2</td>\n",
       "            </tr>\n",
       "            <tr>\n",
       "                        <th id=\"T_67817336_151c_11ea_bff0_659761707786level0_row2\" class=\"row_heading level0 row2\" >1</th>\n",
       "                        <td id=\"T_67817336_151c_11ea_bff0_659761707786row2_col0\" class=\"data row2 col0\" >rock2</td>\n",
       "                        <td id=\"T_67817336_151c_11ea_bff0_659761707786row2_col1\" class=\"data row2 col1\" >Strat_Series2</td>\n",
       "                        <td id=\"T_67817336_151c_11ea_bff0_659761707786row2_col2\" class=\"data row2 col2\" >1</td>\n",
       "                        <td id=\"T_67817336_151c_11ea_bff0_659761707786row2_col3\" class=\"data row2 col3\" >False</td>\n",
       "                        <td id=\"T_67817336_151c_11ea_bff0_659761707786row2_col4\" class=\"data row2 col4\" >#B1B1B1</td>\n",
       "                        <td id=\"T_67817336_151c_11ea_bff0_659761707786row2_col5\" class=\"data row2 col5\" >3</td>\n",
       "            </tr>\n",
       "            <tr>\n",
       "                        <th id=\"T_67817336_151c_11ea_bff0_659761707786level0_row3\" class=\"row_heading level0 row3\" >2</th>\n",
       "                        <td id=\"T_67817336_151c_11ea_bff0_659761707786row3_col0\" class=\"data row3 col0\" >rock1</td>\n",
       "                        <td id=\"T_67817336_151c_11ea_bff0_659761707786row3_col1\" class=\"data row3 col1\" >Strat_Series2</td>\n",
       "                        <td id=\"T_67817336_151c_11ea_bff0_659761707786row3_col2\" class=\"data row3 col2\" >2</td>\n",
       "                        <td id=\"T_67817336_151c_11ea_bff0_659761707786row3_col3\" class=\"data row3 col3\" >False</td>\n",
       "                        <td id=\"T_67817336_151c_11ea_bff0_659761707786row3_col4\" class=\"data row3 col4\" >#E1E1E1</td>\n",
       "                        <td id=\"T_67817336_151c_11ea_bff0_659761707786row3_col5\" class=\"data row3 col5\" >4</td>\n",
       "            </tr>\n",
       "            <tr>\n",
       "                        <th id=\"T_67817336_151c_11ea_bff0_659761707786level0_row4\" class=\"row_heading level0 row4\" >4</th>\n",
       "                        <td id=\"T_67817336_151c_11ea_bff0_659761707786row4_col0\" class=\"data row4 col0\" >basement</td>\n",
       "                        <td id=\"T_67817336_151c_11ea_bff0_659761707786row4_col1\" class=\"data row4 col1\" >Basement_Series</td>\n",
       "                        <td id=\"T_67817336_151c_11ea_bff0_659761707786row4_col2\" class=\"data row4 col2\" >1</td>\n",
       "                        <td id=\"T_67817336_151c_11ea_bff0_659761707786row4_col3\" class=\"data row4 col3\" >True</td>\n",
       "                        <td id=\"T_67817336_151c_11ea_bff0_659761707786row4_col4\" class=\"data row4 col4\" >#7B7B7B</td>\n",
       "                        <td id=\"T_67817336_151c_11ea_bff0_659761707786row4_col5\" class=\"data row4 col5\" >5</td>\n",
       "            </tr>\n",
       "    </tbody></table>"
      ],
      "text/plain": [
       "    surface           series  order_surfaces  isBasement    color vertices edges  id\n",
       "3     fault     Fault_Series               1       False  #000000      NaN   NaN   1\n",
       "0     rock3    Strat_Series1               1       False  #4B4B4B      NaN   NaN   2\n",
       "1     rock2    Strat_Series2               1       False  #B1B1B1      NaN   NaN   3\n",
       "2     rock1    Strat_Series2               2       False  #E1E1E1      NaN   NaN   4\n",
       "4  basement  Basement_Series               1        True  #7B7B7B      NaN   NaN   5"
      ]
     },
     "execution_count": 8,
     "metadata": {},
     "output_type": "execute_result"
    }
   ],
   "source": [
    "#geo_data.surfaces.colors.change_colors({'fault': '#000000', 'rock1': '#CC081F', 'rock2': '#FFAA00',\n",
    "#                                        'rock3': '#006C8C', 'basement': '#097703'})\n",
    "\n",
    "geo_data.surfaces.colors.change_colors({'fault': '#000000', 'rock1': '#E1E1E1', 'rock2': '#B1B1B1',\n",
    "                                        'rock3': '#4B4B4B', 'basement': '#7B7B7B'})"
   ]
  },
  {
   "cell_type": "code",
   "execution_count": 9,
   "metadata": {},
   "outputs": [
    {
     "data": {
      "text/plain": [
       "<gempy.plot.visualization_2d.PlotData2D at 0x7f9c92e0c2e8>"
      ]
     },
     "execution_count": 9,
     "metadata": {},
     "output_type": "execute_result"
    },
    {
     "data": {
      "image/png": "[encoded data removed]",
      "text/plain": [
       "<Figure size 1440x720 with 1 Axes>"
      ]
     },
     "metadata": {
      "needs_background": "light"
     },
     "output_type": "display_data"
    }
   ],
   "source": [
    "%matplotlib inline\n",
    "gp.plot.plot_data(geo_data, direction='y')"
   ]
  },
  {
   "cell_type": "code",
   "execution_count": 10,
   "metadata": {},
   "outputs": [
    {
     "name": "stdout",
     "output_type": "stream",
     "text": [
      "Compiling theano function...\n",
      "Level of Optimization:  fast_compile\n",
      "Device:  cuda\n",
      "Precision:  float64\n",
      "Number of faults:  1\n",
      "Compilation Done!\n"
     ]
    },
    {
     "data": {
      "text/plain": [
       "<gempy.core.interpolator.InterpolatorModel at 0x7f9c32466128>"
      ]
     },
     "execution_count": 10,
     "metadata": {},
     "output_type": "execute_result"
    }
   ],
   "source": [
    "gp.set_interpolation_data(geo_data,\n",
    "                          output='geology', compile_theano=True,\n",
    "                          theano_optimizer='fast_compile',\n",
    "                          verbose=[],\n",
    "                         dtype='float64')"
   ]
  },
  {
   "cell_type": "code",
   "execution_count": 11,
   "metadata": {},
   "outputs": [],
   "source": [
    "sol=gp.compute_model(geo_data, compute_mesh=True)"
   ]
  },
  {
   "cell_type": "code",
   "execution_count": 12,
   "metadata": {},
   "outputs": [],
   "source": [
    "#geo_data.add_topography(source='random')"
   ]
  },
  {
   "cell_type": "code",
   "execution_count": 13,
   "metadata": {},
   "outputs": [
    {
     "data": {
      "text/plain": [
       "<gempy.plot.visualization_2d.PlotSolution at 0x7f9c3247a0f0>"
      ]
     },
     "execution_count": 13,
     "metadata": {},
     "output_type": "execute_result"
    },
    {
     "data": {
      "image/png": "[encoded data removed]",
      "text/plain": [
       "<Figure size 432x288 with 1 Axes>"
      ]
     },
     "metadata": {
      "needs_background": "light"
     },
     "output_type": "display_data"
    }
   ],
   "source": [
    "%matplotlib inline\n",
    "gp.plot.plot_section(geo_data, cell_number=1,\n",
    "                         direction='y', show_data=True)"
   ]
  },
  {
   "cell_type": "markdown",
   "metadata": {},
   "source": [
    "# Kriging test"
   ]
  },
  {
   "cell_type": "code",
   "execution_count": 14,
   "metadata": {},
   "outputs": [],
   "source": [
    "# conditioning data (data measured at locations)\n",
    "cond_data = np.array([[100,.5,500,20],[900,.5,500,20],[500,.5,550,20],[300,.5,400,20]])\n",
    "\n",
    "domain = kriging.domain(model=sol, domain=[4], data=cond_data)\n",
    "\n",
    "variogram_model = kriging.variogram_model(theoretical_model = 'exponential', \n",
    "                                          range_=300, sill=10, nugget=0.1)"
   ]
  },
  {
   "cell_type": "code",
   "execution_count": 15,
   "metadata": {},
   "outputs": [],
   "source": [
    "solution = kriging.create_kriged_field(domain, variogram_model)"
   ]
  },
  {
   "cell_type": "code",
   "execution_count": 16,
   "metadata": {},
   "outputs": [
    {
     "data": {
      "image/png": "[encoded data removed]",
      "text/plain": [
       "<Figure size 490.909x216 with 2 Axes>"
      ]
     },
     "metadata": {
      "needs_background": "light"
     },
     "output_type": "display_data"
    }
   ],
   "source": [
    "solution.plot_results(geo_data=geo_data, prop='val', contour=False, direction='y', cell_number=0, alpha=0.7,\n",
    "                          show_data=False, legend=True)"
   ]
  },
  {
   "cell_type": "markdown",
   "metadata": {},
   "source": [
    "# SGS non-eucl?"
   ]
  },
  {
   "cell_type": "code",
   "execution_count": 17,
   "metadata": {},
   "outputs": [
    {
     "data": {
      "text/plain": [
       "<module 'gempy.assets.kriging' from '../../../gempy/assets/kriging.py'>"
      ]
     },
     "execution_count": 17,
     "metadata": {},
     "output_type": "execute_result"
    }
   ],
   "source": [
    "importlib.reload(kriging)"
   ]
  },
  {
   "cell_type": "code",
   "execution_count": 18,
   "metadata": {},
   "outputs": [],
   "source": [
    "domain = kriging.domain(model=sol, domain=[4], data=cond_data, fault=True)"
   ]
  },
  {
   "cell_type": "code",
   "execution_count": 19,
   "metadata": {},
   "outputs": [
    {
     "name": "stdout",
     "output_type": "stream",
     "text": [
      "Active grids: ['regular' 'custom']\n"
     ]
    },
    {
     "data": {
      "text/plain": [
       "array([ True, False, False, False, False])"
      ]
     },
     "execution_count": 19,
     "metadata": {},
     "output_type": "execute_result"
    }
   ],
   "source": [
    "np.random.seed(10340)\n",
    "# Manual way to input sgs stuff with scalar field values for non euclidian distance \n",
    "# nit nice but good enough for figure\n",
    "\n",
    "geo_data.set_custom_grid(domain.data[:,:3])\n",
    "gp.compute_model(geo_data, compute_mesh=False)\n",
    "\n",
    "locs = np.hstack((domain.krig_grid, domain.krig_scal.reshape((len(domain.krig_grid),1)),domain.fault_model.reshape((len(domain.krig_grid),1))))\n",
    "np.random.shuffle(locs)\n",
    "\n",
    "sgs_locations = np.vstack((domain.data[:,:3], locs[:,:3]))\n",
    "sgs_gradients = np.vstack((geo_data.solutions.custom[1][2].reshape((4,1)), locs[:,3].reshape((len(domain.krig_grid),1))))\n",
    "sgs_fault_block = np.vstack((np.round(geo_data.solutions.custom[1][0].reshape((4,1))), locs[:,4].reshape((len(domain.krig_grid),1))))\n",
    "\n",
    "sgs_grid = np.hstack((sgs_locations, sgs_gradients))\n",
    "sol.grid.set_inactive('custom')"
   ]
  },
  {
   "cell_type": "code",
   "execution_count": 32,
   "metadata": {},
   "outputs": [],
   "source": [
    "distance_type='euclidian'"
   ]
  },
  {
   "cell_type": "code",
   "execution_count": 33,
   "metadata": {
    "scrolled": true
   },
   "outputs": [],
   "source": [
    "solution_sim = kriging.create_gaussian_field(domain, variogram_model, distance_type=distance_type, \n",
    "                                             moving_neighbourhood='n_closest', sgs_grid=sgs_grid, shuffled_grid=locs,\n",
    "                                            sgs_fault_block=sgs_fault_block)"
   ]
  },
  {
   "cell_type": "code",
   "execution_count": 34,
   "metadata": {},
   "outputs": [],
   "source": [
    "#solution_sim.plot_results(geo_data=geo_data, prop='val', contour=True, direction='y', cell_number=1, alpha=0.9,\n",
    "                          #show_data=False, legend=True)\n",
    "\n",
    "#plt.savefig('test_figure5.svg')"
   ]
  },
  {
   "cell_type": "code",
   "execution_count": 35,
   "metadata": {},
   "outputs": [
    {
     "data": {
      "text/plain": [
       "array([4.36666667e+02, 5.33333333e-02, 5.23242276e+02])"
      ]
     },
     "execution_count": 35,
     "metadata": {},
     "output_type": "execute_result"
    }
   ],
   "source": [
    "sgs_locations[16]"
   ]
  },
  {
   "cell_type": "code",
   "execution_count": 36,
   "metadata": {},
   "outputs": [
    {
     "data": {
      "text/plain": [
       "array([500.        , 500.        , 550.        , ..., 416.21138211,\n",
       "       376.07479675, 402.83252033])"
      ]
     },
     "execution_count": 36,
     "metadata": {},
     "output_type": "execute_result"
    }
   ],
   "source": [
    "sgs_locations[:,2]"
   ]
  },
  {
   "cell_type": "code",
   "execution_count": 37,
   "metadata": {},
   "outputs": [
    {
     "data": {
      "text/plain": [
       "(array([  121,   564,   775,  1017,  1056,  1364,  1922,  2286,  2408,\n",
       "         2847,  3164,  3430,  3780,  4281,  4516,  4620,  4734,  4763,\n",
       "         4825,  5114,  5848,  6184,  6486,  6503,  6534,  6983,  7034,\n",
       "         7657,  7934,  8208,  8236,  8890,  9367,  9526, 10001, 10078,\n",
       "        10083, 10442, 10544, 10563, 10612, 10626, 11031, 11188, 11492,\n",
       "        11686, 11697, 11987, 12331, 12372, 12401, 12493, 12576, 12606,\n",
       "        12707, 13291, 13506, 13883, 13912, 14072, 14317, 14445, 14510,\n",
       "        15041, 15212, 15278, 15326, 15526, 15594, 15711, 15727, 15823,\n",
       "        16433, 17047, 17116, 17296, 17386, 17395, 17762, 17785, 17980,\n",
       "        18050, 18100, 18232, 18381, 18530, 18548, 18913, 19361, 19618,\n",
       "        19632, 19664, 19822, 20079, 20152, 20265, 20336, 20476, 20940,\n",
       "        21216, 22307, 22331, 22655, 22726, 23010, 23481, 23691, 23849,\n",
       "        23860, 24086, 24093, 24359, 24544, 24687, 24773, 25165, 25365,\n",
       "        25766, 25780, 26051, 26149, 26172, 26215, 26696, 26797, 27254,\n",
       "        27438, 27823, 27835, 28173, 28208, 28226, 28252, 28333, 29092,\n",
       "        29239, 29375, 29381, 29752, 29790, 29866, 30150, 30411, 30612,\n",
       "        30752, 31113, 31266, 31420, 31618, 31671, 31776, 32141, 32288,\n",
       "        32461, 32857]),)"
      ]
     },
     "execution_count": 37,
     "metadata": {},
     "output_type": "execute_result"
    }
   ],
   "source": [
    "np.where(sgs_locations[:,0]==810)"
   ]
  },
  {
   "cell_type": "code",
   "execution_count": 38,
   "metadata": {},
   "outputs": [
    {
     "data": {
      "image/png": "[encoded data removed]",
      "text/plain": [
       "<Figure size 432x288 with 2 Axes>"
      ]
     },
     "metadata": {
      "needs_background": "light"
     },
     "output_type": "display_data"
    }
   ],
   "source": [
    "point=560\n",
    "\n",
    "solution_sim.plot_distances(geo_data=geo_data, direction='y', cell_number=1, point=point,\n",
    "                            contour=True, alpha=0.5,  interpolation='nearest', legend=True)\n",
    "\n",
    "plt.scatter(sgs_locations[point+4][0], sgs_locations[point+4][2], color='black', s=5)\n",
    "\n",
    "plt.savefig(distance_type+'figure.svg')"
   ]
  },
  {
   "cell_type": "code",
   "execution_count": null,
   "metadata": {},
   "outputs": [],
   "source": []
  },
  {
   "cell_type": "code",
   "execution_count": null,
   "metadata": {},
   "outputs": [],
   "source": []
  },
  {
   "cell_type": "code",
   "execution_count": null,
   "metadata": {},
   "outputs": [],
   "source": []
  },
  {
   "cell_type": "code",
   "execution_count": null,
   "metadata": {},
   "outputs": [],
   "source": []
  },
  {
   "cell_type": "code",
   "execution_count": null,
   "metadata": {},
   "outputs": [],
   "source": []
  },
  {
   "cell_type": "code",
   "execution_count": null,
   "metadata": {},
   "outputs": [],
   "source": []
  }
 ],
 "metadata": {
  "kernelspec": {
   "display_name": "Python 3",
   "language": "python",
   "name": "python3"
  },
  "language_info": {
   "codemirror_mode": {
    "name": "ipython",
    "version": 3
   },
   "file_extension": ".py",
   "mimetype": "text/x-python",
   "name": "python",
   "nbconvert_exporter": "python",
   "pygments_lexer": "ipython3",
   "version": "3.7.3"
  }
 },
 "nbformat": 4,
 "nbformat_minor": 2
}
