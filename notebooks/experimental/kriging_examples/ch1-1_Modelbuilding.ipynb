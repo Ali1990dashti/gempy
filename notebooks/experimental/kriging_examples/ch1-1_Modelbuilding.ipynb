{
 "cells": [
  {
   "cell_type": "markdown",
   "metadata": {},
   "source": [
    "# Chapter 1: Basics of geological modeling with GemPy\n",
    "***\n",
    "In this first chapter, we will guide through the most important steps of modeling with GemPy on the base of a relatively simple geological model, while introducing essential objects and functions. We will illustrate how to:\n",
    "- import and create input data for modeling in GemPy\n",
    "- return and visualize input data\n",
    "- generate a 3D geological model in GemPy\n",
    "- visualize a model directly in GemPy\n",
    "***\n",
    "The final modeling results should look somewhat like this, depending on the type of visualization:\n",
    "\n",
    "![2D and 3D visualizations of our example model.](../../../docs/readme_images/model_example_duo.png \"2D and 3D visualizations of our example model\")\n"
   ]
  },
  {
   "cell_type": "code",
   "execution_count": 1,
   "metadata": {
    "pycharm": {
     "is_executing": false
    }
   },
   "outputs": [],
   "source": [
    "# These two lines are necessary only if GemPy is not installed\n",
    "import sys, os\n",
    "sys.path.append(\"../../..\")\n",
    "# just here as it is subfolder in experimental\n",
    "os.pardir = '../..'\n",
    "\n",
    "# Importing GemPy\n",
    "import gempy as gp\n",
    "\n",
    "# Embedding matplotlib figures in the notebooks\n",
    "%matplotlib inline\n",
    "\n",
    "# Importing auxiliary libraries\n",
    "import numpy as np\n",
    "import matplotlib.pyplot as plt"
   ]
  },
  {
   "cell_type": "code",
   "execution_count": 14,
   "metadata": {
    "pycharm": {
     "is_executing": false
    }
   },
   "outputs": [],
   "source": [
    "geo_model = gp.create_model('Model0')"
   ]
  },
  {
   "cell_type": "code",
   "execution_count": 15,
   "metadata": {},
   "outputs": [
    {
     "name": "stdout",
     "output_type": "stream",
     "text": [
      "Active grids: ['regular']\n"
     ]
    }
   ],
   "source": [
    "path_to_data = os.pardir+\"/data/input_data/jan_models/\"\n",
    "\n",
    "geo_model = gp.create_data([3496300, 3500200, 7510550, 7514450,-1500,500],resolution=[10,10,10], \n",
    "                        path_o = path_to_data + \"model0_orientations.csv\",\n",
    "                        path_i = path_to_data + \"model0_points.csv\") "
   ]
  },
  {
   "cell_type": "code",
   "execution_count": 16,
   "metadata": {
    "pycharm": {
     "is_executing": false
    },
    "scrolled": false
   },
   "outputs": [],
   "source": [
    "#data_path= '../'\n",
    "#gp.init_data(geo_model, [3496300, 3500200, 7510550, 7514450,-1500,500],[10,10,10], \n",
    "#      path_i = data_path+\"/input_data/model0_points.csv\", path_o = data_path+\"/input_data/model0_orientations.csv\",default_values=True); #%%"
   ]
  },
  {
   "cell_type": "code",
   "execution_count": 17,
   "metadata": {},
   "outputs": [
    {
     "data": {
      "text/html": [
       "<div>\n",
       "<style scoped>\n",
       "    .dataframe tbody tr th:only-of-type {\n",
       "        vertical-align: middle;\n",
       "    }\n",
       "\n",
       "    .dataframe tbody tr th {\n",
       "        vertical-align: top;\n",
       "    }\n",
       "\n",
       "    .dataframe thead th {\n",
       "        text-align: right;\n",
       "    }\n",
       "</style>\n",
       "<table border=\"1\" class=\"dataframe\">\n",
       "  <thead>\n",
       "    <tr style=\"text-align: right;\">\n",
       "      <th></th>\n",
       "      <th>X</th>\n",
       "      <th>Y</th>\n",
       "      <th>Z</th>\n",
       "      <th>X_r</th>\n",
       "      <th>Y_r</th>\n",
       "      <th>Z_r</th>\n",
       "      <th>surface</th>\n",
       "      <th>series</th>\n",
       "      <th>id</th>\n",
       "      <th>order_series</th>\n",
       "      <th>smooth</th>\n",
       "    </tr>\n",
       "  </thead>\n",
       "  <tbody>\n",
       "    <tr>\n",
       "      <th>0</th>\n",
       "      <td>3498947.536</td>\n",
       "      <td>7511205.00</td>\n",
       "      <td>216.891738</td>\n",
       "      <td>0.614296</td>\n",
       "      <td>0.318996</td>\n",
       "      <td>0.597356</td>\n",
       "      <td>Overburden</td>\n",
       "      <td>Default series</td>\n",
       "      <td>1</td>\n",
       "      <td>1</td>\n",
       "      <td>0.000001</td>\n",
       "    </tr>\n",
       "    <tr>\n",
       "      <th>1</th>\n",
       "      <td>3499105.544</td>\n",
       "      <td>7512650.19</td>\n",
       "      <td>225.544273</td>\n",
       "      <td>0.636393</td>\n",
       "      <td>0.521102</td>\n",
       "      <td>0.598566</td>\n",
       "      <td>Overburden</td>\n",
       "      <td>Default series</td>\n",
       "      <td>1</td>\n",
       "      <td>1</td>\n",
       "      <td>0.000001</td>\n",
       "    </tr>\n",
       "    <tr>\n",
       "      <th>2</th>\n",
       "      <td>3497796.033</td>\n",
       "      <td>7512150.19</td>\n",
       "      <td>193.525047</td>\n",
       "      <td>0.453261</td>\n",
       "      <td>0.451178</td>\n",
       "      <td>0.594089</td>\n",
       "      <td>Overburden</td>\n",
       "      <td>Default series</td>\n",
       "      <td>1</td>\n",
       "      <td>1</td>\n",
       "      <td>0.000001</td>\n",
       "    </tr>\n",
       "    <tr>\n",
       "      <th>3</th>\n",
       "      <td>3498449.498</td>\n",
       "      <td>7511750.12</td>\n",
       "      <td>201.201443</td>\n",
       "      <td>0.544647</td>\n",
       "      <td>0.395230</td>\n",
       "      <td>0.595162</td>\n",
       "      <td>Overburden</td>\n",
       "      <td>Default series</td>\n",
       "      <td>1</td>\n",
       "      <td>1</td>\n",
       "      <td>0.000001</td>\n",
       "    </tr>\n",
       "    <tr>\n",
       "      <th>4</th>\n",
       "      <td>3496999.182</td>\n",
       "      <td>7510800.05</td>\n",
       "      <td>216.613121</td>\n",
       "      <td>0.341823</td>\n",
       "      <td>0.262364</td>\n",
       "      <td>0.597317</td>\n",
       "      <td>Overburden</td>\n",
       "      <td>Default series</td>\n",
       "      <td>1</td>\n",
       "      <td>1</td>\n",
       "      <td>0.000001</td>\n",
       "    </tr>\n",
       "  </tbody>\n",
       "</table>\n",
       "</div>"
      ],
      "text/plain": [
       "             X           Y           Z       X_r       Y_r       Z_r  \\\n",
       "0  3498947.536  7511205.00  216.891738  0.614296  0.318996  0.597356   \n",
       "1  3499105.544  7512650.19  225.544273  0.636393  0.521102  0.598566   \n",
       "2  3497796.033  7512150.19  193.525047  0.453261  0.451178  0.594089   \n",
       "3  3498449.498  7511750.12  201.201443  0.544647  0.395230  0.595162   \n",
       "4  3496999.182  7510800.05  216.613121  0.341823  0.262364  0.597317   \n",
       "\n",
       "      surface          series  id  order_series    smooth  \n",
       "0  Overburden  Default series   1             1  0.000001  \n",
       "1  Overburden  Default series   1             1  0.000001  \n",
       "2  Overburden  Default series   1             1  0.000001  \n",
       "3  Overburden  Default series   1             1  0.000001  \n",
       "4  Overburden  Default series   1             1  0.000001  "
      ]
     },
     "execution_count": 17,
     "metadata": {},
     "output_type": "execute_result"
    }
   ],
   "source": [
    "gp.get_data(geo_model, 'surface_points').head() #to see order"
   ]
  },
  {
   "cell_type": "code",
   "execution_count": 18,
   "metadata": {
    "pycharm": {
     "is_executing": false
    },
    "scrolled": false
   },
   "outputs": [],
   "source": [
    "gp.map_series_to_surfaces(geo_model,\n",
    "                            {\"OVB_Series\": ('Overburden'), \"UPXO_Series\": ('Olivine Pyroxenite'), \"Basement_Series\" :('Basement')}, remove_unused_series=True);"
   ]
  },
  {
   "cell_type": "code",
   "execution_count": 19,
   "metadata": {},
   "outputs": [
    {
     "data": {
      "text/html": [
       "<style  type=\"text/css\" >\n",
       "    #T_e7826fac_168e_11ea_8ba3_d8cb8aeeb072row0_col4 {\n",
       "            background-color:  #9f0052;\n",
       "        }    #T_e7826fac_168e_11ea_8ba3_d8cb8aeeb072row1_col4 {\n",
       "            background-color:  #015482;\n",
       "        }    #T_e7826fac_168e_11ea_8ba3_d8cb8aeeb072row2_col4 {\n",
       "            background-color:  #ffbe00;\n",
       "        }</style><table id=\"T_e7826fac_168e_11ea_8ba3_d8cb8aeeb072\" ><thead>    <tr>        <th class=\"blank level0\" ></th>        <th class=\"col_heading level0 col0\" >surface</th>        <th class=\"col_heading level0 col1\" >series</th>        <th class=\"col_heading level0 col2\" >order_surfaces</th>        <th class=\"col_heading level0 col3\" >isBasement</th>        <th class=\"col_heading level0 col4\" >color</th>        <th class=\"col_heading level0 col5\" >id</th>    </tr></thead><tbody>\n",
       "                <tr>\n",
       "                        <th id=\"T_e7826fac_168e_11ea_8ba3_d8cb8aeeb072level0_row0\" class=\"row_heading level0 row0\" >1</th>\n",
       "                        <td id=\"T_e7826fac_168e_11ea_8ba3_d8cb8aeeb072row0_col0\" class=\"data row0 col0\" >Olivine_Pyroxenite</td>\n",
       "                        <td id=\"T_e7826fac_168e_11ea_8ba3_d8cb8aeeb072row0_col1\" class=\"data row0 col1\" >Default series</td>\n",
       "                        <td id=\"T_e7826fac_168e_11ea_8ba3_d8cb8aeeb072row0_col2\" class=\"data row0 col2\" >1</td>\n",
       "                        <td id=\"T_e7826fac_168e_11ea_8ba3_d8cb8aeeb072row0_col3\" class=\"data row0 col3\" >False</td>\n",
       "                        <td id=\"T_e7826fac_168e_11ea_8ba3_d8cb8aeeb072row0_col4\" class=\"data row0 col4\" >#9f0052</td>\n",
       "                        <td id=\"T_e7826fac_168e_11ea_8ba3_d8cb8aeeb072row0_col5\" class=\"data row0 col5\" >1</td>\n",
       "            </tr>\n",
       "            <tr>\n",
       "                        <th id=\"T_e7826fac_168e_11ea_8ba3_d8cb8aeeb072level0_row1\" class=\"row_heading level0 row1\" >0</th>\n",
       "                        <td id=\"T_e7826fac_168e_11ea_8ba3_d8cb8aeeb072row1_col0\" class=\"data row1 col0\" >Overburden</td>\n",
       "                        <td id=\"T_e7826fac_168e_11ea_8ba3_d8cb8aeeb072row1_col1\" class=\"data row1 col1\" >OVB_Series</td>\n",
       "                        <td id=\"T_e7826fac_168e_11ea_8ba3_d8cb8aeeb072row1_col2\" class=\"data row1 col2\" >1</td>\n",
       "                        <td id=\"T_e7826fac_168e_11ea_8ba3_d8cb8aeeb072row1_col3\" class=\"data row1 col3\" >False</td>\n",
       "                        <td id=\"T_e7826fac_168e_11ea_8ba3_d8cb8aeeb072row1_col4\" class=\"data row1 col4\" >#015482</td>\n",
       "                        <td id=\"T_e7826fac_168e_11ea_8ba3_d8cb8aeeb072row1_col5\" class=\"data row1 col5\" >2</td>\n",
       "            </tr>\n",
       "            <tr>\n",
       "                        <th id=\"T_e7826fac_168e_11ea_8ba3_d8cb8aeeb072level0_row2\" class=\"row_heading level0 row2\" >2</th>\n",
       "                        <td id=\"T_e7826fac_168e_11ea_8ba3_d8cb8aeeb072row2_col0\" class=\"data row2 col0\" >basement</td>\n",
       "                        <td id=\"T_e7826fac_168e_11ea_8ba3_d8cb8aeeb072row2_col1\" class=\"data row2 col1\" >Basement</td>\n",
       "                        <td id=\"T_e7826fac_168e_11ea_8ba3_d8cb8aeeb072row2_col2\" class=\"data row2 col2\" >1</td>\n",
       "                        <td id=\"T_e7826fac_168e_11ea_8ba3_d8cb8aeeb072row2_col3\" class=\"data row2 col3\" >True</td>\n",
       "                        <td id=\"T_e7826fac_168e_11ea_8ba3_d8cb8aeeb072row2_col4\" class=\"data row2 col4\" >#ffbe00</td>\n",
       "                        <td id=\"T_e7826fac_168e_11ea_8ba3_d8cb8aeeb072row2_col5\" class=\"data row2 col5\" >3</td>\n",
       "            </tr>\n",
       "    </tbody></table>"
      ],
      "text/plain": [
       "              surface          series  order_surfaces  isBasement    color vertices edges  id\n",
       "1  Olivine_Pyroxenite  Default series               1       False  #9f0052      NaN   NaN   1\n",
       "0          Overburden      OVB_Series               1       False  #015482      NaN   NaN   2\n",
       "2            basement        Basement               1        True  #ffbe00      NaN   NaN   3"
      ]
     },
     "execution_count": 19,
     "metadata": {},
     "output_type": "execute_result"
    }
   ],
   "source": [
    "geo_model.surfaces #set_order_formations??"
   ]
  },
  {
   "cell_type": "code",
   "execution_count": 20,
   "metadata": {
    "pycharm": {
     "is_executing": false
    }
   },
   "outputs": [
    {
     "data": {
      "text/html": [
       "<table border=\"1\" class=\"dataframe\">\n",
       "  <thead>\n",
       "    <tr style=\"text-align: right;\">\n",
       "      <th></th>\n",
       "      <th>order_series</th>\n",
       "      <th>BottomRelation</th>\n",
       "    </tr>\n",
       "  </thead>\n",
       "  <tbody>\n",
       "    <tr>\n",
       "      <th>Default series</th>\n",
       "      <td>1</td>\n",
       "      <td>Erosion</td>\n",
       "    </tr>\n",
       "    <tr>\n",
       "      <th>OVB_Series</th>\n",
       "      <td>2</td>\n",
       "      <td>Erosion</td>\n",
       "    </tr>\n",
       "    <tr>\n",
       "      <th>Basement</th>\n",
       "      <td>3</td>\n",
       "      <td>Erosion</td>\n",
       "    </tr>\n",
       "  </tbody>\n",
       "</table>"
      ],
      "text/plain": [
       "                order_series BottomRelation\n",
       "Default series             1        Erosion\n",
       "OVB_Series                 2        Erosion\n",
       "Basement                   3        Erosion"
      ]
     },
     "execution_count": 20,
     "metadata": {},
     "output_type": "execute_result"
    }
   ],
   "source": [
    "geo_model.series"
   ]
  },
  {
   "cell_type": "code",
   "execution_count": 21,
   "metadata": {},
   "outputs": [
    {
     "data": {
      "text/plain": [
       "array([[ 3.496495e+06,  7.510745e+06, -1.400000e+03],\n",
       "       [ 3.496495e+06,  7.510745e+06, -1.200000e+03],\n",
       "       [ 3.496495e+06,  7.510745e+06, -1.000000e+03],\n",
       "       ...,\n",
       "       [ 3.500005e+06,  7.514255e+06,  0.000000e+00],\n",
       "       [ 3.500005e+06,  7.514255e+06,  2.000000e+02],\n",
       "       [ 3.500005e+06,  7.514255e+06,  4.000000e+02]])"
      ]
     },
     "execution_count": 21,
     "metadata": {},
     "output_type": "execute_result"
    }
   ],
   "source": [
    "geo_model.grid.values"
   ]
  },
  {
   "cell_type": "code",
   "execution_count": 22,
   "metadata": {
    "pycharm": {
     "is_executing": false
    }
   },
   "outputs": [
    {
     "data": {
      "text/html": [
       "<table border=\"1\" class=\"dataframe\">\n",
       "  <thead>\n",
       "    <tr style=\"text-align: right;\">\n",
       "      <th></th>\n",
       "      <th>start</th>\n",
       "      <th>stop</th>\n",
       "      <th>resolution</th>\n",
       "      <th>dist</th>\n",
       "    </tr>\n",
       "  </thead>\n",
       "  <tbody>\n",
       "    <tr>\n",
       "      <th>E5</th>\n",
       "      <td>[3497244, 7509822]</td>\n",
       "      <td>[3499717, 7513578]</td>\n",
       "      <td>[100, 100]</td>\n",
       "      <td>4497.028463</td>\n",
       "    </tr>\n",
       "  </tbody>\n",
       "</table>"
      ],
      "text/plain": [
       "<gempy.core.grid_modules.grid_types.Sections at 0x1d08fb86c08>"
      ]
     },
     "execution_count": 22,
     "metadata": {},
     "output_type": "execute_result"
    }
   ],
   "source": [
    "#FOR SECTION\n",
    "geo_model.grid.set_section_grid({\"E5\": ([3497244,7509822], #first point xy\n",
    "                                           [3499717, 7513578],\n",
    "                                           [100,100])}) # resolution "
   ]
  },
  {
   "cell_type": "code",
   "execution_count": 23,
   "metadata": {
    "pycharm": {
     "is_executing": false
    }
   },
   "outputs": [
    {
     "data": {
      "image/png": "[encoded data removed]",
      "text/plain": [
       "<Figure size 1440x720 with 1 Axes>"
      ]
     },
     "metadata": {
      "needs_background": "light"
     },
     "output_type": "display_data"
    }
   ],
   "source": [
    "#geo_model.set_is_fault(['Fault_Series'])\n",
    "%matplotlib inline\n",
    "gp.plot.plot_data(geo_model, cell_number=0, direction='y');"
   ]
  },
  {
   "cell_type": "code",
   "execution_count": 24,
   "metadata": {
    "pycharm": {
     "is_executing": false
    },
    "scrolled": true
   },
   "outputs": [
    {
     "name": "stdout",
     "output_type": "stream",
     "text": [
      "Compiling theano function...\n",
      "Level of Optimization:  fast_compile\n",
      "Device:  cpu\n",
      "Precision:  float64\n",
      "Number of faults:  0\n",
      "Compilation Done!\n"
     ]
    },
    {
     "data": {
      "text/plain": [
       "<gempy.core.interpolator.InterpolatorModel at 0x1d08ef8d108>"
      ]
     },
     "execution_count": 24,
     "metadata": {},
     "output_type": "execute_result"
    }
   ],
   "source": [
    "gp.set_interpolation_data(geo_model,\n",
    "                          compile_theano=True,\n",
    "                          theano_optimizer='fast_compile',\n",
    "                          verbose=[])\n"
   ]
  },
  {
   "cell_type": "code",
   "execution_count": 25,
   "metadata": {},
   "outputs": [
    {
     "data": {
      "text/html": [
       "<table border=\"1\" class=\"dataframe\">\n",
       "  <thead>\n",
       "    <tr style=\"text-align: right;\">\n",
       "      <th></th>\n",
       "      <th>values</th>\n",
       "    </tr>\n",
       "  </thead>\n",
       "  <tbody>\n",
       "    <tr>\n",
       "      <th>isLith</th>\n",
       "      <td>True</td>\n",
       "    </tr>\n",
       "    <tr>\n",
       "      <th>isFault</th>\n",
       "      <td>False</td>\n",
       "    </tr>\n",
       "    <tr>\n",
       "      <th>number faults</th>\n",
       "      <td>0</td>\n",
       "    </tr>\n",
       "    <tr>\n",
       "      <th>number surfaces</th>\n",
       "      <td>2</td>\n",
       "    </tr>\n",
       "    <tr>\n",
       "      <th>number series</th>\n",
       "      <td>3</td>\n",
       "    </tr>\n",
       "    <tr>\n",
       "      <th>number surfaces per series</th>\n",
       "      <td>[1, 1, 0]</td>\n",
       "    </tr>\n",
       "    <tr>\n",
       "      <th>len surfaces surface_points</th>\n",
       "      <td>[32, 11]</td>\n",
       "    </tr>\n",
       "    <tr>\n",
       "      <th>len series surface_points</th>\n",
       "      <td>[32, 11, 0]</td>\n",
       "    </tr>\n",
       "    <tr>\n",
       "      <th>len series orientations</th>\n",
       "      <td>[5, 3, 0]</td>\n",
       "    </tr>\n",
       "  </tbody>\n",
       "</table>"
      ],
      "text/plain": [
       "                                  values\n",
       "isLith                              True\n",
       "isFault                            False\n",
       "number faults                          0\n",
       "number surfaces                        2\n",
       "number series                          3\n",
       "number surfaces per series     [1, 1, 0]\n",
       "len surfaces surface_points     [32, 11]\n",
       "len series surface_points    [32, 11, 0]\n",
       "len series orientations        [5, 3, 0]"
      ]
     },
     "execution_count": 25,
     "metadata": {},
     "output_type": "execute_result"
    }
   ],
   "source": [
    "geo_model.additional_data.structure_data"
   ]
  },
  {
   "cell_type": "code",
   "execution_count": 29,
   "metadata": {
    "pycharm": {
     "is_executing": false
    },
    "scrolled": false
   },
   "outputs": [],
   "source": [
    "sol = gp.compute_model(geo_model, compute_mesh=False)"
   ]
  },
  {
   "cell_type": "code",
   "execution_count": 30,
   "metadata": {
    "scrolled": true,
    "tags": [
     "nbval-check-output"
    ]
   },
   "outputs": [
    {
     "data": {
      "text/plain": [
       "<Figure size 1080x1080 with 0 Axes>"
      ]
     },
     "metadata": {},
     "output_type": "display_data"
    },
    {
     "data": {
      "image/png": "[encoded data removed]",
      "text/plain": [
       "<Figure size 1440x720 with 1 Axes>"
      ]
     },
     "metadata": {
      "needs_background": "light"
     },
     "output_type": "display_data"
    }
   ],
   "source": [
    "plt.figure(figsize=(15,15))\n",
    "gp.plot.plot_section_by_name(geo_model, \"E5\")\n",
    "plt.savefig('Model0')\n",
    "\n",
    "#%matplotlib inline\n",
    "#gp.plot.plot_data(geo_model, direction='y');"
   ]
  },
  {
   "cell_type": "code",
   "execution_count": 28,
   "metadata": {},
   "outputs": [
    {
     "data": {
      "text/html": [
       "<style  type=\"text/css\" >\n",
       "    #T_f398acca_168e_11ea_a0f1_d8cb8aeeb072row0_col4 {\n",
       "            background-color:  #9f0052;\n",
       "        }    #T_f398acca_168e_11ea_a0f1_d8cb8aeeb072row1_col4 {\n",
       "            background-color:  #015482;\n",
       "        }    #T_f398acca_168e_11ea_a0f1_d8cb8aeeb072row2_col4 {\n",
       "            background-color:  #ffbe00;\n",
       "        }</style><table id=\"T_f398acca_168e_11ea_a0f1_d8cb8aeeb072\" ><thead>    <tr>        <th class=\"blank level0\" ></th>        <th class=\"col_heading level0 col0\" >surface</th>        <th class=\"col_heading level0 col1\" >series</th>        <th class=\"col_heading level0 col2\" >order_surfaces</th>        <th class=\"col_heading level0 col3\" >isBasement</th>        <th class=\"col_heading level0 col4\" >color</th>        <th class=\"col_heading level0 col5\" >id</th>    </tr></thead><tbody>\n",
       "                <tr>\n",
       "                        <th id=\"T_f398acca_168e_11ea_a0f1_d8cb8aeeb072level0_row0\" class=\"row_heading level0 row0\" >1</th>\n",
       "                        <td id=\"T_f398acca_168e_11ea_a0f1_d8cb8aeeb072row0_col0\" class=\"data row0 col0\" >Olivine_Pyroxenite</td>\n",
       "                        <td id=\"T_f398acca_168e_11ea_a0f1_d8cb8aeeb072row0_col1\" class=\"data row0 col1\" >Default series</td>\n",
       "                        <td id=\"T_f398acca_168e_11ea_a0f1_d8cb8aeeb072row0_col2\" class=\"data row0 col2\" >1</td>\n",
       "                        <td id=\"T_f398acca_168e_11ea_a0f1_d8cb8aeeb072row0_col3\" class=\"data row0 col3\" >False</td>\n",
       "                        <td id=\"T_f398acca_168e_11ea_a0f1_d8cb8aeeb072row0_col4\" class=\"data row0 col4\" >#9f0052</td>\n",
       "                        <td id=\"T_f398acca_168e_11ea_a0f1_d8cb8aeeb072row0_col5\" class=\"data row0 col5\" >1</td>\n",
       "            </tr>\n",
       "            <tr>\n",
       "                        <th id=\"T_f398acca_168e_11ea_a0f1_d8cb8aeeb072level0_row1\" class=\"row_heading level0 row1\" >0</th>\n",
       "                        <td id=\"T_f398acca_168e_11ea_a0f1_d8cb8aeeb072row1_col0\" class=\"data row1 col0\" >Overburden</td>\n",
       "                        <td id=\"T_f398acca_168e_11ea_a0f1_d8cb8aeeb072row1_col1\" class=\"data row1 col1\" >OVB_Series</td>\n",
       "                        <td id=\"T_f398acca_168e_11ea_a0f1_d8cb8aeeb072row1_col2\" class=\"data row1 col2\" >1</td>\n",
       "                        <td id=\"T_f398acca_168e_11ea_a0f1_d8cb8aeeb072row1_col3\" class=\"data row1 col3\" >False</td>\n",
       "                        <td id=\"T_f398acca_168e_11ea_a0f1_d8cb8aeeb072row1_col4\" class=\"data row1 col4\" >#015482</td>\n",
       "                        <td id=\"T_f398acca_168e_11ea_a0f1_d8cb8aeeb072row1_col5\" class=\"data row1 col5\" >2</td>\n",
       "            </tr>\n",
       "            <tr>\n",
       "                        <th id=\"T_f398acca_168e_11ea_a0f1_d8cb8aeeb072level0_row2\" class=\"row_heading level0 row2\" >2</th>\n",
       "                        <td id=\"T_f398acca_168e_11ea_a0f1_d8cb8aeeb072row2_col0\" class=\"data row2 col0\" >basement</td>\n",
       "                        <td id=\"T_f398acca_168e_11ea_a0f1_d8cb8aeeb072row2_col1\" class=\"data row2 col1\" >Basement</td>\n",
       "                        <td id=\"T_f398acca_168e_11ea_a0f1_d8cb8aeeb072row2_col2\" class=\"data row2 col2\" >1</td>\n",
       "                        <td id=\"T_f398acca_168e_11ea_a0f1_d8cb8aeeb072row2_col3\" class=\"data row2 col3\" >True</td>\n",
       "                        <td id=\"T_f398acca_168e_11ea_a0f1_d8cb8aeeb072row2_col4\" class=\"data row2 col4\" >#ffbe00</td>\n",
       "                        <td id=\"T_f398acca_168e_11ea_a0f1_d8cb8aeeb072row2_col5\" class=\"data row2 col5\" >3</td>\n",
       "            </tr>\n",
       "    </tbody></table>"
      ],
      "text/plain": [
       "              surface          series  order_surfaces  isBasement    color                                           vertices                                              edges  id\n",
       "1  Olivine_Pyroxenite  Default series               1       False  #9f0052  [[3496300.0, 7510550.0, -150.6795883178711], [...  [[2, 1, 0], [3, 1, 2], [4, 3, 2], [5, 3, 4], [...   1\n",
       "0          Overburden      OVB_Series               1       False  #015482  [[3496612.0471936464, 7510550.0, 100.0], [3496...  [[2, 1, 0], [0, 1, 3], [0, 5, 4], [0, 4, 2], [...   2\n",
       "2            basement        Basement               1        True  #ffbe00                                                NaN                                                NaN   3"
      ]
     },
     "execution_count": 28,
     "metadata": {},
     "output_type": "execute_result"
    }
   ],
   "source": [
    "geo_model.surfaces"
   ]
  },
  {
   "cell_type": "markdown",
   "metadata": {},
   "source": [
    "### Direct model visualization in GemPy\n",
    "\n",
    "Model solutions can be easily visualized in 2D sections in GemPy directly. Let's take a look at our lithology block:"
   ]
  },
  {
   "cell_type": "code",
   "execution_count": null,
   "metadata": {},
   "outputs": [],
   "source": [
    "gp.compute_model(geo_model, compute_mesh=False)"
   ]
  },
  {
   "cell_type": "code",
   "execution_count": null,
   "metadata": {
    "pycharm": {
     "is_executing": false
    },
    "slideshow": {
     "slide_type": "subslide"
    }
   },
   "outputs": [],
   "source": [
    "%matplotlib inline\n",
    "gp.plot.plot_section(geo_model, cell_number=0,\n",
    "                     direction='y', show_data=True) #cell_nonumber of cells in direction=.."
   ]
  },
  {
   "cell_type": "code",
   "execution_count": null,
   "metadata": {
    "pycharm": {
     "is_executing": false
    }
   },
   "outputs": [],
   "source": [
    "geo_model.surfaces"
   ]
  },
  {
   "cell_type": "markdown",
   "metadata": {},
   "source": [
    "### Save the model"
   ]
  },
  {
   "cell_type": "markdown",
   "metadata": {},
   "source": [
    "GemPy uses  Python [pickle] for fast storing temporary objects (https://docs.python.org/3/library/pickle.html). However, module version consistency is required. For loading a pickle into GemPy, you have to make sure that you are using the same version of pickle and dependent modules (e.g.: `Pandas`, `NumPy`) as were used when the data was originally stored.\n",
    "\n",
    "For long term-safer storage we can export the `pandas.DataFrames` to csv by using:"
   ]
  },
  {
   "cell_type": "code",
   "execution_count": null,
   "metadata": {},
   "outputs": [],
   "source": [
    "gp.save_model(geo_model, path=data_path+'/data/gempy_models')"
   ]
  },
  {
   "cell_type": "code",
   "execution_count": null,
   "metadata": {},
   "outputs": [],
   "source": [
    "from gempy.core.grid_modules.grid_types import CenteredGrid"
   ]
  },
  {
   "cell_type": "code",
   "execution_count": null,
   "metadata": {},
   "outputs": [],
   "source": []
  }
 ],
 "metadata": {
  "celltoolbar": "Tags",
  "kernelspec": {
   "display_name": "Python 3",
   "language": "python",
   "name": "python3"
  },
  "language_info": {
   "codemirror_mode": {
    "name": "ipython",
    "version": 3
   },
   "file_extension": ".py",
   "mimetype": "text/x-python",
   "name": "python",
   "nbconvert_exporter": "python",
   "pygments_lexer": "ipython3",
   "version": "3.7.5"
  },
  "latex_envs": {
   "LaTeX_envs_menu_present": true,
   "autocomplete": true,
   "bibliofile": "biblio.bib",
   "cite_by": "apalike",
   "current_citInitial": 1,
   "eqLabelWithNumbers": true,
   "eqNumInitial": 1,
   "hotkeys": {
    "equation": "Ctrl-E",
    "itemize": "Ctrl-I"
   },
   "labels_anchors": false,
   "latex_user_defs": false,
   "report_style_numbering": false,
   "user_envs_cfg": false
  },
  "pycharm": {
   "stem_cell": {
    "cell_type": "raw",
    "metadata": {
     "collapsed": false
    },
    "source": []
   }
  },
  "toc": {
   "colors": {
    "hover_highlight": "#DAA520",
    "running_highlight": "#FF0000",
    "selected_highlight": "#FFD700"
   },
   "moveMenuLeft": true,
   "nav_menu": {
    "height": "67px",
    "width": "252px"
   },
   "navigate_menu": true,
   "number_sections": true,
   "sideBar": true,
   "threshold": 4,
   "toc_cell": false,
   "toc_section_display": "block",
   "toc_window_display": false,
   "widenNotebook": false
  }
 },
 "nbformat": 4,
 "nbformat_minor": 2
}
