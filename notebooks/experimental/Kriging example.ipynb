{
 "cells": [
  {
   "cell_type": "markdown",
   "metadata": {},
   "source": [
    "# Model 1 - Horizontal stratigraphic"
   ]
  },
  {
   "cell_type": "markdown",
   "metadata": {},
   "source": [
    "This is the most simpel model of horizontally stacked layers. We start by importing the necessary dependencies:"
   ]
  },
  {
   "cell_type": "code",
   "execution_count": 1,
   "metadata": {},
   "outputs": [],
   "source": [
    "# These two lines are necessary only if GemPy is not installed\n",
    "import sys, os\n",
    "sys.path.append(\"../..\")\n",
    "\n",
    "# Importing GemPy\n",
    "import gempy as gp\n",
    "\n",
    "# Embedding matplotlib figures in the notebooks\n",
    "%matplotlib inline\n",
    "\n",
    "# Importing auxiliary libraries\n",
    "import numpy as np\n",
    "import matplotlib.pyplot as plt\n",
    "\n",
    "# new for this\n",
    "import importlib\n",
    "from gempy.assets import kriging"
   ]
  },
  {
   "cell_type": "markdown",
   "metadata": {},
   "source": [
    "Creating the model by importing the input data and displaying it:"
   ]
  },
  {
   "cell_type": "code",
   "execution_count": 2,
   "metadata": {
    "scrolled": false
   },
   "outputs": [
    {
     "name": "stdout",
     "output_type": "stream",
     "text": [
      "Active grids: ['regular']\n"
     ]
    }
   ],
   "source": [
    "geo_data = gp.create_data([0,1000,0,50,0,1000],resolution=[50,1,50], \n",
    "                        path_o = os.pardir+\"/data/input_data/jan_models/model1_orientations.csv\",\n",
    "                        path_i = os.pardir+\"/data/input_data/jan_models/model1_surface_points.csv\") "
   ]
  },
  {
   "cell_type": "code",
   "execution_count": 3,
   "metadata": {},
   "outputs": [],
   "source": [
    "#geo_data.get_data()"
   ]
  },
  {
   "cell_type": "markdown",
   "metadata": {},
   "source": [
    "Setting and ordering the units and series:"
   ]
  },
  {
   "cell_type": "code",
   "execution_count": 4,
   "metadata": {},
   "outputs": [
    {
     "data": {
      "text/html": [
       "<style  type=\"text/css\" >\n",
       "    #T_ea2a6102_d624_11e9_afc0_d8cb8aeeb072row0_col4 {\n",
       "            background-color:  #015482;\n",
       "        }    #T_ea2a6102_d624_11e9_afc0_d8cb8aeeb072row1_col4 {\n",
       "            background-color:  #9f0052;\n",
       "        }    #T_ea2a6102_d624_11e9_afc0_d8cb8aeeb072row2_col4 {\n",
       "            background-color:  #ffbe00;\n",
       "        }</style><table id=\"T_ea2a6102_d624_11e9_afc0_d8cb8aeeb072\" ><thead>    <tr>        <th class=\"blank level0\" ></th>        <th class=\"col_heading level0 col0\" >surface</th>        <th class=\"col_heading level0 col1\" >series</th>        <th class=\"col_heading level0 col2\" >order_surfaces</th>        <th class=\"col_heading level0 col3\" >isBasement</th>        <th class=\"col_heading level0 col4\" >color</th>        <th class=\"col_heading level0 col5\" >id</th>    </tr></thead><tbody>\n",
       "                <tr>\n",
       "                        <th id=\"T_ea2a6102_d624_11e9_afc0_d8cb8aeeb072level0_row0\" class=\"row_heading level0 row0\" >0</th>\n",
       "                        <td id=\"T_ea2a6102_d624_11e9_afc0_d8cb8aeeb072row0_col0\" class=\"data row0 col0\" >rock2</td>\n",
       "                        <td id=\"T_ea2a6102_d624_11e9_afc0_d8cb8aeeb072row0_col1\" class=\"data row0 col1\" >Strat_Series</td>\n",
       "                        <td id=\"T_ea2a6102_d624_11e9_afc0_d8cb8aeeb072row0_col2\" class=\"data row0 col2\" >1</td>\n",
       "                        <td id=\"T_ea2a6102_d624_11e9_afc0_d8cb8aeeb072row0_col3\" class=\"data row0 col3\" >False</td>\n",
       "                        <td id=\"T_ea2a6102_d624_11e9_afc0_d8cb8aeeb072row0_col4\" class=\"data row0 col4\" >#015482</td>\n",
       "                        <td id=\"T_ea2a6102_d624_11e9_afc0_d8cb8aeeb072row0_col5\" class=\"data row0 col5\" >1</td>\n",
       "            </tr>\n",
       "            <tr>\n",
       "                        <th id=\"T_ea2a6102_d624_11e9_afc0_d8cb8aeeb072level0_row1\" class=\"row_heading level0 row1\" >1</th>\n",
       "                        <td id=\"T_ea2a6102_d624_11e9_afc0_d8cb8aeeb072row1_col0\" class=\"data row1 col0\" >rock1</td>\n",
       "                        <td id=\"T_ea2a6102_d624_11e9_afc0_d8cb8aeeb072row1_col1\" class=\"data row1 col1\" >Strat_Series</td>\n",
       "                        <td id=\"T_ea2a6102_d624_11e9_afc0_d8cb8aeeb072row1_col2\" class=\"data row1 col2\" >2</td>\n",
       "                        <td id=\"T_ea2a6102_d624_11e9_afc0_d8cb8aeeb072row1_col3\" class=\"data row1 col3\" >False</td>\n",
       "                        <td id=\"T_ea2a6102_d624_11e9_afc0_d8cb8aeeb072row1_col4\" class=\"data row1 col4\" >#9f0052</td>\n",
       "                        <td id=\"T_ea2a6102_d624_11e9_afc0_d8cb8aeeb072row1_col5\" class=\"data row1 col5\" >2</td>\n",
       "            </tr>\n",
       "            <tr>\n",
       "                        <th id=\"T_ea2a6102_d624_11e9_afc0_d8cb8aeeb072level0_row2\" class=\"row_heading level0 row2\" >2</th>\n",
       "                        <td id=\"T_ea2a6102_d624_11e9_afc0_d8cb8aeeb072row2_col0\" class=\"data row2 col0\" >basement</td>\n",
       "                        <td id=\"T_ea2a6102_d624_11e9_afc0_d8cb8aeeb072row2_col1\" class=\"data row2 col1\" >Basement_Series</td>\n",
       "                        <td id=\"T_ea2a6102_d624_11e9_afc0_d8cb8aeeb072row2_col2\" class=\"data row2 col2\" >1</td>\n",
       "                        <td id=\"T_ea2a6102_d624_11e9_afc0_d8cb8aeeb072row2_col3\" class=\"data row2 col3\" >True</td>\n",
       "                        <td id=\"T_ea2a6102_d624_11e9_afc0_d8cb8aeeb072row2_col4\" class=\"data row2 col4\" >#ffbe00</td>\n",
       "                        <td id=\"T_ea2a6102_d624_11e9_afc0_d8cb8aeeb072row2_col5\" class=\"data row2 col5\" >3</td>\n",
       "            </tr>\n",
       "    </tbody></table>"
      ],
      "text/plain": [
       "    surface           series  order_surfaces  isBasement    color vertices edges  id\n",
       "0     rock2     Strat_Series               1       False  #015482      NaN   NaN   1\n",
       "1     rock1     Strat_Series               2       False  #9f0052      NaN   NaN   2\n",
       "2  basement  Basement_Series               1        True  #ffbe00      NaN   NaN   3"
      ]
     },
     "execution_count": 4,
     "metadata": {},
     "output_type": "execute_result"
    }
   ],
   "source": [
    "gp.map_series_to_surfaces(geo_data, {\"Strat_Series\": ('rock2','rock1'),\"Basement_Series\":('basement')})"
   ]
  },
  {
   "cell_type": "code",
   "execution_count": 5,
   "metadata": {},
   "outputs": [],
   "source": [
    "#%matplotlib inline\n",
    "#gp.plot.plot_data(geo_data, direction='y')"
   ]
  },
  {
   "cell_type": "markdown",
   "metadata": {},
   "source": [
    "Calculating the model:"
   ]
  },
  {
   "cell_type": "code",
   "execution_count": 6,
   "metadata": {
    "scrolled": true
   },
   "outputs": [
    {
     "name": "stdout",
     "output_type": "stream",
     "text": [
      "Compiling theano function...\n",
      "Level of Optimization:  fast_compile\n",
      "Device:  cpu\n",
      "Precision:  float64\n",
      "Number of faults:  0\n",
      "Compilation Done!\n"
     ]
    }
   ],
   "source": [
    "interp_data = gp.set_interpolation_data(geo_data, compile_theano=True,\n",
    "                                        theano_optimizer='fast_compile')"
   ]
  },
  {
   "cell_type": "code",
   "execution_count": 7,
   "metadata": {
    "scrolled": false
   },
   "outputs": [
    {
     "name": "stderr",
     "output_type": "stream",
     "text": [
      "../..\\gempy\\core\\solution.py:253: UserWarning: Attribute error. Using non masked marching cubesmarching_cubes_lewiner() got an unexpected keyword argument 'mask'.\n",
      "  warnings.warn('Attribute error. Using non masked marching cubes' + str(e)+'.')\n"
     ]
    },
    {
     "ename": "ValueError",
     "evalue": "Input array must be at least 2x2x2.",
     "output_type": "error",
     "traceback": [
      "\u001b[1;31m---------------------------------------------------------------------------\u001b[0m",
      "\u001b[1;31mTypeError\u001b[0m                                 Traceback (most recent call last)",
      "\u001b[1;32m~\\gempy\\gempy\\core\\solution.py\u001b[0m in \u001b[0;36mcompute_all_surfaces\u001b[1;34m(self, **kwargs)\u001b[0m\n\u001b[0;32m    249\u001b[0m                 \u001b[1;32mtry\u001b[0m\u001b[1;33m:\u001b[0m\u001b[1;33m\u001b[0m\u001b[1;33m\u001b[0m\u001b[0m\n\u001b[1;32m--> 250\u001b[1;33m                     \u001b[0mv\u001b[0m\u001b[1;33m,\u001b[0m \u001b[0ms\u001b[0m\u001b[1;33m,\u001b[0m \u001b[0mnorm\u001b[0m\u001b[1;33m,\u001b[0m \u001b[0mval\u001b[0m \u001b[1;33m=\u001b[0m \u001b[0mself\u001b[0m\u001b[1;33m.\u001b[0m\u001b[0mcompute_surface_regular_grid\u001b[0m\u001b[1;33m(\u001b[0m\u001b[0mlevel\u001b[0m\u001b[1;33m,\u001b[0m \u001b[0mscalar_field\u001b[0m\u001b[1;33m,\u001b[0m \u001b[0mmask_array\u001b[0m\u001b[1;33m,\u001b[0m \u001b[1;33m**\u001b[0m\u001b[0mkwargs\u001b[0m\u001b[1;33m)\u001b[0m\u001b[1;33m\u001b[0m\u001b[1;33m\u001b[0m\u001b[0m\n\u001b[0m\u001b[0;32m    251\u001b[0m \u001b[1;33m\u001b[0m\u001b[0m\n",
      "\u001b[1;32m~\\gempy\\gempy\\core\\solution.py\u001b[0m in \u001b[0;36mcompute_surface_regular_grid\u001b[1;34m(self, level, scalar_field, mask_array, classic, **kwargs)\u001b[0m\n\u001b[0;32m    184\u001b[0m                 \u001b[0mmask\u001b[0m\u001b[1;33m=\u001b[0m\u001b[0mmask_array\u001b[0m\u001b[1;33m,\u001b[0m\u001b[1;33m\u001b[0m\u001b[1;33m\u001b[0m\u001b[0m\n\u001b[1;32m--> 185\u001b[1;33m                 \u001b[1;33m**\u001b[0m\u001b[0mkwargs\u001b[0m\u001b[1;33m\u001b[0m\u001b[1;33m\u001b[0m\u001b[0m\n\u001b[0m\u001b[0;32m    186\u001b[0m             )\n",
      "\u001b[1;31mTypeError\u001b[0m: marching_cubes_lewiner() got an unexpected keyword argument 'mask'",
      "\nDuring handling of the above exception, another exception occurred:\n",
      "\u001b[1;31mValueError\u001b[0m                                Traceback (most recent call last)",
      "\u001b[1;32m<ipython-input-7-26ed893f25db>\u001b[0m in \u001b[0;36m<module>\u001b[1;34m\u001b[0m\n\u001b[1;32m----> 1\u001b[1;33m \u001b[0msol\u001b[0m \u001b[1;33m=\u001b[0m \u001b[0mgp\u001b[0m\u001b[1;33m.\u001b[0m\u001b[0mcompute_model\u001b[0m\u001b[1;33m(\u001b[0m\u001b[0mgeo_data\u001b[0m\u001b[1;33m)\u001b[0m\u001b[1;33m\u001b[0m\u001b[1;33m\u001b[0m\u001b[0m\n\u001b[0m",
      "\u001b[1;32m~\\gempy\\gempy\\core\\gempy_api.py\u001b[0m in \u001b[0;36mcompute_model\u001b[1;34m(model, output, compute_mesh, reset_weights, reset_scalar, reset_block, sort_surfaces, debug, set_solutions)\u001b[0m\n\u001b[0;32m    262\u001b[0m     \u001b[1;32melif\u001b[0m \u001b[0mset_solutions\u001b[0m \u001b[1;32mis\u001b[0m \u001b[1;32mTrue\u001b[0m\u001b[1;33m:\u001b[0m\u001b[1;33m\u001b[0m\u001b[1;33m\u001b[0m\u001b[0m\n\u001b[0;32m    263\u001b[0m         \u001b[1;32mif\u001b[0m \u001b[0mmodel\u001b[0m\u001b[1;33m.\u001b[0m\u001b[0mgrid\u001b[0m\u001b[1;33m.\u001b[0m\u001b[0mactive_grids\u001b[0m\u001b[1;33m[\u001b[0m\u001b[1;36m0\u001b[0m\u001b[1;33m]\u001b[0m \u001b[1;32mis\u001b[0m \u001b[0mnp\u001b[0m\u001b[1;33m.\u001b[0m\u001b[0mTrue_\u001b[0m\u001b[1;33m:\u001b[0m\u001b[1;33m\u001b[0m\u001b[1;33m\u001b[0m\u001b[0m\n\u001b[1;32m--> 264\u001b[1;33m             \u001b[0mmodel\u001b[0m\u001b[1;33m.\u001b[0m\u001b[0msolutions\u001b[0m\u001b[1;33m.\u001b[0m\u001b[0mset_solution_to_regular_grid\u001b[0m\u001b[1;33m(\u001b[0m\u001b[0msol\u001b[0m\u001b[1;33m,\u001b[0m \u001b[0mcompute_mesh\u001b[0m\u001b[1;33m=\u001b[0m\u001b[0mcompute_mesh\u001b[0m\u001b[1;33m)\u001b[0m\u001b[1;33m\u001b[0m\u001b[1;33m\u001b[0m\u001b[0m\n\u001b[0m\u001b[0;32m    265\u001b[0m         \u001b[1;32mif\u001b[0m \u001b[0mmodel\u001b[0m\u001b[1;33m.\u001b[0m\u001b[0mgrid\u001b[0m\u001b[1;33m.\u001b[0m\u001b[0mactive_grids\u001b[0m\u001b[1;33m[\u001b[0m\u001b[1;36m1\u001b[0m\u001b[1;33m]\u001b[0m \u001b[1;32mis\u001b[0m \u001b[0mnp\u001b[0m\u001b[1;33m.\u001b[0m\u001b[0mTrue_\u001b[0m\u001b[1;33m:\u001b[0m\u001b[1;33m\u001b[0m\u001b[1;33m\u001b[0m\u001b[0m\n\u001b[0;32m    266\u001b[0m             \u001b[0ml0\u001b[0m\u001b[1;33m,\u001b[0m \u001b[0ml1\u001b[0m \u001b[1;33m=\u001b[0m \u001b[0mmodel\u001b[0m\u001b[1;33m.\u001b[0m\u001b[0mgrid\u001b[0m\u001b[1;33m.\u001b[0m\u001b[0mget_grid_args\u001b[0m\u001b[1;33m(\u001b[0m\u001b[1;34m'custom'\u001b[0m\u001b[1;33m)\u001b[0m\u001b[1;33m\u001b[0m\u001b[1;33m\u001b[0m\u001b[0m\n",
      "\u001b[1;32m~\\gempy\\gempy\\core\\solution.py\u001b[0m in \u001b[0;36mset_solution_to_regular_grid\u001b[1;34m(self, values, compute_mesh)\u001b[0m\n\u001b[0;32m    105\u001b[0m         \u001b[0mself\u001b[0m\u001b[1;33m.\u001b[0m\u001b[0mset_values_to_regular_grid\u001b[0m\u001b[1;33m(\u001b[0m\u001b[0mvalues\u001b[0m\u001b[1;33m)\u001b[0m\u001b[1;33m\u001b[0m\u001b[1;33m\u001b[0m\u001b[0m\n\u001b[0;32m    106\u001b[0m         \u001b[1;32mif\u001b[0m \u001b[0mcompute_mesh\u001b[0m \u001b[1;32mis\u001b[0m \u001b[1;32mTrue\u001b[0m\u001b[1;33m:\u001b[0m\u001b[1;33m\u001b[0m\u001b[1;33m\u001b[0m\u001b[0m\n\u001b[1;32m--> 107\u001b[1;33m             \u001b[0mself\u001b[0m\u001b[1;33m.\u001b[0m\u001b[0mcompute_all_surfaces\u001b[0m\u001b[1;33m(\u001b[0m\u001b[1;33m)\u001b[0m\u001b[1;33m\u001b[0m\u001b[1;33m\u001b[0m\u001b[0m\n\u001b[0m\u001b[0;32m    108\u001b[0m \u001b[1;33m\u001b[0m\u001b[0m\n\u001b[0;32m    109\u001b[0m         \u001b[1;32mreturn\u001b[0m \u001b[0mself\u001b[0m\u001b[1;33m\u001b[0m\u001b[1;33m\u001b[0m\u001b[0m\n",
      "\u001b[1;32m~\\gempy\\gempy\\core\\solution.py\u001b[0m in \u001b[0;36mcompute_all_surfaces\u001b[1;34m(self, **kwargs)\u001b[0m\n\u001b[0;32m    253\u001b[0m                     \u001b[0mwarnings\u001b[0m\u001b[1;33m.\u001b[0m\u001b[0mwarn\u001b[0m\u001b[1;33m(\u001b[0m\u001b[1;34m'Attribute error. Using non masked marching cubes'\u001b[0m \u001b[1;33m+\u001b[0m \u001b[0mstr\u001b[0m\u001b[1;33m(\u001b[0m\u001b[0me\u001b[0m\u001b[1;33m)\u001b[0m\u001b[1;33m+\u001b[0m\u001b[1;34m'.'\u001b[0m\u001b[1;33m)\u001b[0m\u001b[1;33m\u001b[0m\u001b[1;33m\u001b[0m\u001b[0m\n\u001b[0;32m    254\u001b[0m                     v, s, norm, val = self.compute_surface_regular_grid(level, scalar_field, mask_array,\n\u001b[1;32m--> 255\u001b[1;33m                                                                         classic=True, **kwargs)\n\u001b[0m\u001b[0;32m    256\u001b[0m \u001b[1;33m\u001b[0m\u001b[0m\n\u001b[0;32m    257\u001b[0m                 \u001b[1;32mexcept\u001b[0m \u001b[0mException\u001b[0m \u001b[1;32mas\u001b[0m \u001b[0me\u001b[0m\u001b[1;33m:\u001b[0m\u001b[1;33m\u001b[0m\u001b[1;33m\u001b[0m\u001b[0m\n",
      "\u001b[1;32m~\\gempy\\gempy\\core\\solution.py\u001b[0m in \u001b[0;36mcompute_surface_regular_grid\u001b[1;34m(self, level, scalar_field, mask_array, classic, **kwargs)\u001b[0m\n\u001b[0;32m    172\u001b[0m                 \u001b[0mlevel\u001b[0m\u001b[1;33m,\u001b[0m\u001b[1;33m\u001b[0m\u001b[1;33m\u001b[0m\u001b[0m\n\u001b[0;32m    173\u001b[0m                 \u001b[0mspacing\u001b[0m\u001b[1;33m=\u001b[0m\u001b[0mself\u001b[0m\u001b[1;33m.\u001b[0m\u001b[0mgrid\u001b[0m\u001b[1;33m.\u001b[0m\u001b[0mregular_grid\u001b[0m\u001b[1;33m.\u001b[0m\u001b[0mget_dx_dy_dz\u001b[0m\u001b[1;33m(\u001b[0m\u001b[1;33m)\u001b[0m\u001b[1;33m,\u001b[0m\u001b[1;33m\u001b[0m\u001b[1;33m\u001b[0m\u001b[0m\n\u001b[1;32m--> 174\u001b[1;33m                 \u001b[1;33m**\u001b[0m\u001b[0mkwargs\u001b[0m\u001b[1;33m\u001b[0m\u001b[1;33m\u001b[0m\u001b[0m\n\u001b[0m\u001b[0;32m    175\u001b[0m             )\n\u001b[0;32m    176\u001b[0m \u001b[1;33m\u001b[0m\u001b[0m\n",
      "\u001b[1;32m~\\Anaconda3\\envs\\gempy_env\\lib\\site-packages\\skimage\\measure\\_marching_cubes_lewiner.py\u001b[0m in \u001b[0;36mmarching_cubes_lewiner\u001b[1;34m(volume, level, spacing, gradient_direction, step_size, allow_degenerate, use_classic)\u001b[0m\n\u001b[0;32m    123\u001b[0m         \u001b[1;32mraise\u001b[0m \u001b[0mValueError\u001b[0m\u001b[1;33m(\u001b[0m\u001b[1;34m'Input volume should be a 3D numpy array.'\u001b[0m\u001b[1;33m)\u001b[0m\u001b[1;33m\u001b[0m\u001b[1;33m\u001b[0m\u001b[0m\n\u001b[0;32m    124\u001b[0m     \u001b[1;32mif\u001b[0m \u001b[0mvolume\u001b[0m\u001b[1;33m.\u001b[0m\u001b[0mshape\u001b[0m\u001b[1;33m[\u001b[0m\u001b[1;36m0\u001b[0m\u001b[1;33m]\u001b[0m \u001b[1;33m<\u001b[0m \u001b[1;36m2\u001b[0m \u001b[1;32mor\u001b[0m \u001b[0mvolume\u001b[0m\u001b[1;33m.\u001b[0m\u001b[0mshape\u001b[0m\u001b[1;33m[\u001b[0m\u001b[1;36m1\u001b[0m\u001b[1;33m]\u001b[0m \u001b[1;33m<\u001b[0m \u001b[1;36m2\u001b[0m \u001b[1;32mor\u001b[0m \u001b[0mvolume\u001b[0m\u001b[1;33m.\u001b[0m\u001b[0mshape\u001b[0m\u001b[1;33m[\u001b[0m\u001b[1;36m2\u001b[0m\u001b[1;33m]\u001b[0m \u001b[1;33m<\u001b[0m \u001b[1;36m2\u001b[0m\u001b[1;33m:\u001b[0m\u001b[1;33m\u001b[0m\u001b[1;33m\u001b[0m\u001b[0m\n\u001b[1;32m--> 125\u001b[1;33m         \u001b[1;32mraise\u001b[0m \u001b[0mValueError\u001b[0m\u001b[1;33m(\u001b[0m\u001b[1;34m\"Input array must be at least 2x2x2.\"\u001b[0m\u001b[1;33m)\u001b[0m\u001b[1;33m\u001b[0m\u001b[1;33m\u001b[0m\u001b[0m\n\u001b[0m\u001b[0;32m    126\u001b[0m     \u001b[0mvolume\u001b[0m \u001b[1;33m=\u001b[0m \u001b[0mnp\u001b[0m\u001b[1;33m.\u001b[0m\u001b[0mascontiguousarray\u001b[0m\u001b[1;33m(\u001b[0m\u001b[0mvolume\u001b[0m\u001b[1;33m,\u001b[0m \u001b[0mnp\u001b[0m\u001b[1;33m.\u001b[0m\u001b[0mfloat32\u001b[0m\u001b[1;33m)\u001b[0m  \u001b[1;31m# no copy if not necessary\u001b[0m\u001b[1;33m\u001b[0m\u001b[1;33m\u001b[0m\u001b[0m\n\u001b[0;32m    127\u001b[0m \u001b[1;33m\u001b[0m\u001b[0m\n",
      "\u001b[1;31mValueError\u001b[0m: Input array must be at least 2x2x2."
     ]
    }
   ],
   "source": [
    "sol = gp.compute_model(geo_data)"
   ]
  },
  {
   "cell_type": "markdown",
   "metadata": {},
   "source": [
    "Displaying the result in x and y direction:"
   ]
  },
  {
   "cell_type": "code",
   "execution_count": null,
   "metadata": {},
   "outputs": [],
   "source": [
    "import gempy as gp\n",
    "importlib.reload(kriging)"
   ]
  },
  {
   "cell_type": "code",
   "execution_count": null,
   "metadata": {},
   "outputs": [],
   "source": [
    "test_data = np.array([[100,.5,500,2],[900,.5,500,1],[500,.5,550,1],[300,.5,400,5]])"
   ]
  },
  {
   "cell_type": "code",
   "execution_count": null,
   "metadata": {},
   "outputs": [],
   "source": [
    "sol.grid.values[:,1]"
   ]
  },
  {
   "cell_type": "code",
   "execution_count": null,
   "metadata": {
    "scrolled": true
   },
   "outputs": [],
   "source": [
    "kriging_model = kriging.kriging_model(model=sol, domain=[2],data=test_data)"
   ]
  },
  {
   "cell_type": "code",
   "execution_count": null,
   "metadata": {},
   "outputs": [],
   "source": [
    "kriging_model.range_ = 500\n",
    "kriging_model.moving_neighbourhood  = 'all'\n",
    "kriging_model.set_kriging_type('SK')\n",
    "kriging_model.nugget = 0"
   ]
  },
  {
   "cell_type": "code",
   "execution_count": null,
   "metadata": {},
   "outputs": [],
   "source": [
    "kriging_model.create_kriged_field()"
   ]
  },
  {
   "cell_type": "code",
   "execution_count": null,
   "metadata": {},
   "outputs": [],
   "source": []
  },
  {
   "cell_type": "markdown",
   "metadata": {},
   "source": [
    "## Plotting Options"
   ]
  },
  {
   "cell_type": "code",
   "execution_count": null,
   "metadata": {},
   "outputs": [],
   "source": [
    "x = kriging_model.results_df['X'].values\n",
    "y = kriging_model.results_df['Z'].values\n",
    "prop = kriging_model.results_df['est_value'].values\n",
    "var = kriging_model.results_df['est_variance'].values"
   ]
  },
  {
   "cell_type": "code",
   "execution_count": null,
   "metadata": {},
   "outputs": [],
   "source": [
    "import matplotlib.tri as tri\n",
    "import matplotlib.pyplot as plt\n",
    "from scipy.interpolate import griddata\n",
    "\n",
    "def plot_contour(x,y,z,resolution = 50,contour_method='linear'):\n",
    "    resolution = str(resolution)+'j'\n",
    "    X,Y = np.mgrid[min(x):max(x):complex(resolution),   min(y):max(y):complex(resolution)]\n",
    "    points = [[a,b] for a,b in zip(x,y)]\n",
    "    Z = griddata(points, z, (X, Y), method=contour_method)\n",
    "    return X,Y,Z\n"
   ]
  },
  {
   "cell_type": "code",
   "execution_count": null,
   "metadata": {},
   "outputs": [],
   "source": [
    "fig1, ax1 = plt.subplots()\n",
    "ax1.axis('equal')\n",
    "tcf = ax1.tricontourf(x, y, prop, 20, cmap='viridis')\n",
    "tcf_lines = ax1.tricontour(x, y, prop, 20, linewidths=0.5, colors='k')\n",
    "fig1.colorbar(tcf)\n",
    "\n",
    "plt.show()"
   ]
  },
  {
   "cell_type": "code",
   "execution_count": null,
   "metadata": {},
   "outputs": [],
   "source": [
    "#plt.tricontour(x, y, var, 10, linewidths=0.5, colors='k')\n",
    "#plt.tricontourf(x, y, var, 10, cmap='viridis')\n",
    "#plt.axis('equal')"
   ]
  },
  {
   "cell_type": "code",
   "execution_count": null,
   "metadata": {},
   "outputs": [],
   "source": [
    "fig2, ax2 = plt.subplots()\n",
    "ax2.axis('equal')\n",
    "tcf_var = ax2.tricontourf(x, y, var, 10, cmap='viridis')\n",
    "tcf_lines_var = ax2.tricontour(x, y, var, 10, linewidths=0.5, colors='k')\n",
    "fig2.colorbar(tcf_var)\n",
    "\n",
    "plt.show()"
   ]
  },
  {
   "cell_type": "code",
   "execution_count": null,
   "metadata": {},
   "outputs": [],
   "source": [
    "kriging_model.create_gaussian_field()"
   ]
  },
  {
   "cell_type": "code",
   "execution_count": null,
   "metadata": {},
   "outputs": [],
   "source": [
    "x = kriging_model.results_sim_df['X'].values\n",
    "y = kriging_model.results_sim_df['Z'].values\n",
    "prop = kriging_model.results_sim_df['sim_value'].values\n",
    "var = kriging_model.results_sim_df['est_variance'].values"
   ]
  },
  {
   "cell_type": "code",
   "execution_count": null,
   "metadata": {},
   "outputs": [],
   "source": [
    "fig3, ax3 = plt.subplots()\n",
    "ax3.axis('equal')\n",
    "tcf = ax3.tricontourf(x, y, prop, 20, cmap='viridis')\n",
    "tcf_lines = ax3.tricontour(x, y, prop, 20, linewidths=0.5, colors='k')\n",
    "fig3.colorbar(tcf)\n",
    "\n",
    "plt.show()"
   ]
  },
  {
   "cell_type": "code",
   "execution_count": null,
   "metadata": {},
   "outputs": [],
   "source": [
    "z = prop\n",
    "X,Y,Z = plot_contour(x,y,z,resolution = 100,contour_method='linear')\n",
    "\n",
    "fig, ax = plt.subplots(figsize=(13,8))\n",
    "#ax.scatter(x,y, color=\"black\", linewidth=1, s=2, zorder = 2)\n",
    "cs = ax.contourf(X,Y,Z, levels=20, cmap='viridis')\n",
    "cs_line = ax.contour(X,Y,Z, levels=20, colors='black', linewidths=0.5)\n",
    "#ax.contour(X,Y,Z, levels=15, colors='black')\n",
    "ax.axis('equal')\n",
    "fig.colorbar(cs)\n",
    "plt.show()\n"
   ]
  },
  {
   "cell_type": "code",
   "execution_count": null,
   "metadata": {},
   "outputs": [],
   "source": []
  },
  {
   "cell_type": "code",
   "execution_count": null,
   "metadata": {},
   "outputs": [],
   "source": []
  },
  {
   "cell_type": "code",
   "execution_count": null,
   "metadata": {},
   "outputs": [],
   "source": [
    "fig4, ax4 = plt.subplots()\n",
    "ax4.axis('equal')\n",
    "tcf_var = ax4.tricontourf(x, y, var, 10, cmap='viridis')\n",
    "tcf_lines_var = ax4.tricontour(x, y, var, 10, linewidths=0.5, colors='k')\n",
    "fig4.colorbar(tcf_var)\n",
    "\n",
    "plt.show()"
   ]
  },
  {
   "cell_type": "code",
   "execution_count": null,
   "metadata": {},
   "outputs": [],
   "source": [
    "z = prop\n",
    "from scipy.interpolate import griddata"
   ]
  },
  {
   "cell_type": "code",
   "execution_count": null,
   "metadata": {},
   "outputs": [],
   "source": [
    "X,Y,Z = plot_contour(x,y,z,resolution = 50,contour_method='linear')\n",
    "\n",
    "fig, ax = plt.subplots(figsize=(13,8))\n",
    "#ax.scatter(x,y, color=\"black\", linewidth=1, edgecolor=\"ivory\", s=50)\n",
    "ax.contourf(X,Y,Z, levels=10, cmap='viridis')\n",
    "ax.axis('equal')"
   ]
  },
  {
   "cell_type": "markdown",
   "metadata": {},
   "source": [
    "## Comparison with GStools (Simulation)"
   ]
  },
  {
   "cell_type": "code",
   "execution_count": null,
   "metadata": {},
   "outputs": [],
   "source": [
    "#print(kriging_model.inp_var)\n",
    "#print(kriging_model.inp_mean)\n",
    "#print(np.var(cond_val))\n",
    "#print(np.mean(cond_val))"
   ]
  },
  {
   "cell_type": "code",
   "execution_count": null,
   "metadata": {},
   "outputs": [],
   "source": [
    "from gstools import SRF, Exponential\n",
    "import matplotlib.pyplot as plt\n",
    "import gstools as gs"
   ]
  },
  {
   "cell_type": "code",
   "execution_count": null,
   "metadata": {
    "scrolled": true
   },
   "outputs": [],
   "source": [
    "print(kriging_model.krig_grid.shape)\n",
    "\n",
    "kriging_model.krig_grid[150]"
   ]
  },
  {
   "cell_type": "code",
   "execution_count": null,
   "metadata": {},
   "outputs": [],
   "source": []
  },
  {
   "cell_type": "code",
   "execution_count": 166,
   "metadata": {},
   "outputs": [],
   "source": [
    "test_data = np.array([[110,0,510,2],[910,0,510,1],[510,0,530,1],[310,0,410,5]])\n",
    "\n",
    "x_cond = test_data[:,0]\n",
    "y_cond = test_data[:,2]\n",
    "cond_val = test_data[:,3]\n",
    "x = range(0,1000,20)\n",
    "y = range(400,600,20)"
   ]
  },
  {
   "cell_type": "code",
   "execution_count": 167,
   "metadata": {},
   "outputs": [
    {
     "data": {
      "text/plain": [
       "<matplotlib.collections.PathCollection at 0x2a950b2f2b0>"
      ]
     },
     "execution_count": 167,
     "metadata": {},
     "output_type": "execute_result"
    },
    {
     "data": {
      "image/png": "[encoded data removed]",
      "text/plain": [
       "<Figure size 432x288 with 2 Axes>"
      ]
     },
     "metadata": {
      "needs_background": "light"
     },
     "output_type": "display_data"
    }
   ],
   "source": [
    "#Gaussian field (SGS)\n",
    "model = Exponential(dim=2, var=np.var(cond_val), len_scale=200)\n",
    "\n",
    "srf = SRF(model, mean=np.mean(cond_val))\n",
    "srf.set_condition((x_cond, y_cond),cond_val)\n",
    "field = srf((x, y), mesh_type='structured')\n",
    "\n",
    "fig, ax = plt.subplots()\n",
    "ax.axis('equal')\n",
    "srf.plot(fig=fig, ax=ax)\n",
    "ax.scatter(x_cond, y_cond)\n"
   ]
  },
  {
   "cell_type": "code",
   "execution_count": 168,
   "metadata": {
    "scrolled": true
   },
   "outputs": [
    {
     "data": {
      "text/plain": [
       "[<matplotlib.lines.Line2D at 0x2a950b82c88>]"
      ]
     },
     "execution_count": 168,
     "metadata": {},
     "output_type": "execute_result"
    },
    {
     "data": {
      "image/png": "[encoded data removed]",
      "text/plain": [
       "<Figure size 432x288 with 1 Axes>"
      ]
     },
     "metadata": {
      "needs_background": "light"
     },
     "output_type": "display_data"
    }
   ],
   "source": [
    "# Wow s varigoram exactly the same (sweet)\n",
    "d = np.arange(0,1000,1)\n",
    "test_vario = kriging_model.exponential_variogram_model(d)\n",
    "\n",
    "fig7, ax7 = plt.subplots()\n",
    "\n",
    "gs.covmodel.plot.plot_variogram(model, ax=ax7)\n",
    "ax7.plot(d, test_vario,'--')"
   ]
  },
  {
   "cell_type": "markdown",
   "metadata": {},
   "source": [
    "## Comparison to GStools (Kriging)"
   ]
  },
  {
   "cell_type": "code",
   "execution_count": 169,
   "metadata": {},
   "outputs": [
    {
     "data": {
      "text/plain": [
       "<module 'gempy.assets.kriging' from '../..\\\\gempy\\\\assets\\\\kriging.py'>"
      ]
     },
     "execution_count": 169,
     "metadata": {},
     "output_type": "execute_result"
    }
   ],
   "source": [
    "from gstools import krige\n",
    "import gempy as gp\n",
    "importlib.reload(kriging)"
   ]
  },
  {
   "cell_type": "code",
   "execution_count": 170,
   "metadata": {},
   "outputs": [],
   "source": [
    "test_data = np.array([[100,.5,500,2],[900,.5,500,1],[500,.5,550,1],[300,.5,400,5]])\n",
    "#test_data = np.array([[110,0,510,2],[910,0,510,1],[510,0,530,1],[310,0,410,5]])\n",
    "\n",
    "x_cond = test_data[:,0]\n",
    "y_cond = test_data[:,2]\n",
    "cond_val = test_data[:,3]\n",
    "x = range(0,1000,20)\n",
    "y = range(400,600,20)"
   ]
  },
  {
   "cell_type": "code",
   "execution_count": 171,
   "metadata": {},
   "outputs": [
    {
     "ename": "ValueError",
     "evalue": "len(x) = 50 != len(y) = 10 for unstructured grids",
     "output_type": "error",
     "traceback": [
      "\u001b[1;31m---------------------------------------------------------------------------\u001b[0m",
      "\u001b[1;31mValueError\u001b[0m                                Traceback (most recent call last)",
      "\u001b[1;32m<ipython-input-171-c8f97e0b55dd>\u001b[0m in \u001b[0;36m<module>\u001b[1;34m\u001b[0m\n\u001b[0;32m      6\u001b[0m \u001b[1;33m\u001b[0m\u001b[0m\n\u001b[0;32m      7\u001b[0m \u001b[0msrf\u001b[0m \u001b[1;33m=\u001b[0m \u001b[0mkrige\u001b[0m\u001b[1;33m.\u001b[0m\u001b[0mOrdinary\u001b[0m\u001b[1;33m(\u001b[0m\u001b[0mmodel\u001b[0m\u001b[1;33m,\u001b[0m \u001b[0mcond_pos\u001b[0m\u001b[1;33m=\u001b[0m\u001b[1;33m(\u001b[0m\u001b[0mx_cond\u001b[0m\u001b[1;33m,\u001b[0m \u001b[0my_cond\u001b[0m\u001b[1;33m)\u001b[0m\u001b[1;33m,\u001b[0m \u001b[0mcond_val\u001b[0m\u001b[1;33m=\u001b[0m\u001b[0mcond_val\u001b[0m\u001b[1;33m)\u001b[0m\u001b[1;33m\u001b[0m\u001b[1;33m\u001b[0m\u001b[0m\n\u001b[1;32m----> 8\u001b[1;33m \u001b[0mfield\u001b[0m \u001b[1;33m=\u001b[0m \u001b[0msrf\u001b[0m\u001b[1;33m(\u001b[0m\u001b[1;33m(\u001b[0m\u001b[0mx\u001b[0m\u001b[1;33m,\u001b[0m \u001b[0my\u001b[0m\u001b[1;33m)\u001b[0m\u001b[1;33m,\u001b[0m \u001b[0mmesh_type\u001b[0m\u001b[1;33m=\u001b[0m\u001b[1;34m'unstructured'\u001b[0m\u001b[1;33m)\u001b[0m\u001b[1;33m\u001b[0m\u001b[1;33m\u001b[0m\u001b[0m\n\u001b[0m\u001b[0;32m      9\u001b[0m \u001b[1;33m\u001b[0m\u001b[0m\n\u001b[0;32m     10\u001b[0m \u001b[0mfig\u001b[0m\u001b[1;33m,\u001b[0m \u001b[0max\u001b[0m \u001b[1;33m=\u001b[0m \u001b[0mplt\u001b[0m\u001b[1;33m.\u001b[0m\u001b[0msubplots\u001b[0m\u001b[1;33m(\u001b[0m\u001b[1;33m)\u001b[0m\u001b[1;33m\u001b[0m\u001b[1;33m\u001b[0m\u001b[0m\n",
      "\u001b[1;32m~\\Anaconda3\\envs\\gempy_env\\lib\\site-packages\\gstools\\krige\\ordinary.py\u001b[0m in \u001b[0;36m__call__\u001b[1;34m(self, pos, mesh_type)\u001b[0m\n\u001b[0;32m     85\u001b[0m         \u001b[0mself\u001b[0m\u001b[1;33m.\u001b[0m\u001b[0mmesh_type\u001b[0m \u001b[1;33m=\u001b[0m \u001b[0mmesh_type\u001b[0m\u001b[1;33m\u001b[0m\u001b[1;33m\u001b[0m\u001b[0m\n\u001b[0;32m     86\u001b[0m         \u001b[1;31m# format the positional arguments of the mesh\u001b[0m\u001b[1;33m\u001b[0m\u001b[1;33m\u001b[0m\u001b[1;33m\u001b[0m\u001b[0m\n\u001b[1;32m---> 87\u001b[1;33m         \u001b[0mcheck_mesh\u001b[0m\u001b[1;33m(\u001b[0m\u001b[0mself\u001b[0m\u001b[1;33m.\u001b[0m\u001b[0mmodel\u001b[0m\u001b[1;33m.\u001b[0m\u001b[0mdim\u001b[0m\u001b[1;33m,\u001b[0m \u001b[0mx\u001b[0m\u001b[1;33m,\u001b[0m \u001b[0my\u001b[0m\u001b[1;33m,\u001b[0m \u001b[0mz\u001b[0m\u001b[1;33m,\u001b[0m \u001b[0mmesh_type\u001b[0m\u001b[1;33m)\u001b[0m\u001b[1;33m\u001b[0m\u001b[1;33m\u001b[0m\u001b[0m\n\u001b[0m\u001b[0;32m     88\u001b[0m         \u001b[0mmesh_type_changed\u001b[0m \u001b[1;33m=\u001b[0m \u001b[1;32mFalse\u001b[0m\u001b[1;33m\u001b[0m\u001b[1;33m\u001b[0m\u001b[0m\n\u001b[0;32m     89\u001b[0m         \u001b[1;32mif\u001b[0m \u001b[0mmesh_type\u001b[0m \u001b[1;33m==\u001b[0m \u001b[1;34m\"structured\"\u001b[0m\u001b[1;33m:\u001b[0m\u001b[1;33m\u001b[0m\u001b[1;33m\u001b[0m\u001b[0m\n",
      "\u001b[1;32m~\\Anaconda3\\envs\\gempy_env\\lib\\site-packages\\gstools\\field\\tools.py\u001b[0m in \u001b[0;36mcheck_mesh\u001b[1;34m(dim, x, y, z, mesh_type)\u001b[0m\n\u001b[0;32m     90\u001b[0m                     raise ValueError(\n\u001b[0;32m     91\u001b[0m                         \u001b[1;34m\"len(x) = {0} != len(y) = {1} \"\u001b[0m\u001b[1;33m\u001b[0m\u001b[1;33m\u001b[0m\u001b[0m\n\u001b[1;32m---> 92\u001b[1;33m                         \u001b[1;34m\"for unstructured grids\"\u001b[0m\u001b[1;33m.\u001b[0m\u001b[0mformat\u001b[0m\u001b[1;33m(\u001b[0m\u001b[0mlen\u001b[0m\u001b[1;33m(\u001b[0m\u001b[0mx\u001b[0m\u001b[1;33m)\u001b[0m\u001b[1;33m,\u001b[0m \u001b[0mlen\u001b[0m\u001b[1;33m(\u001b[0m\u001b[0my\u001b[0m\u001b[1;33m)\u001b[0m\u001b[1;33m)\u001b[0m\u001b[1;33m\u001b[0m\u001b[1;33m\u001b[0m\u001b[0m\n\u001b[0m\u001b[0;32m     93\u001b[0m                     )\n\u001b[0;32m     94\u001b[0m             \u001b[1;32mexcept\u001b[0m \u001b[0mTypeError\u001b[0m\u001b[1;33m:\u001b[0m\u001b[1;33m\u001b[0m\u001b[1;33m\u001b[0m\u001b[0m\n",
      "\u001b[1;31mValueError\u001b[0m: len(x) = 50 != len(y) = 10 for unstructured grids"
     ]
    }
   ],
   "source": [
    "# Kriged field\n",
    "\n",
    "# they use other sill - increase with nugget effect\n",
    "\n",
    "model = Exponential(dim=2, var=np.var(cond_val)-2 , len_scale=200, nugget=2)\n",
    "\n",
    "srf = krige.Ordinary(model, cond_pos=(x_cond, y_cond), cond_val=cond_val)\n",
    "field = srf((x, y), mesh_type='unstructured')\n",
    "\n",
    "fig, ax = plt.subplots()\n",
    "ax.axis('equal')\n",
    "srf.plot(fig=fig, ax=ax)\n",
    "ax.scatter(x_cond, y_cond)"
   ]
  },
  {
   "cell_type": "code",
   "execution_count": 172,
   "metadata": {},
   "outputs": [],
   "source": [
    "# My calc:\n",
    "kriging_model = kriging.kriging_model(model=sol, domain=[2],data=test_data)\n",
    "\n",
    "kriging_model.krig_grid = np.round(kriging_model.krig_grid,0)\n",
    "\n",
    "kriging_model.range_ = 500\n",
    "kriging_model.moving_neighbourhood  = 'all'\n",
    "kriging_model.set_kriging_type('OK')\n",
    "kriging_model.nugget = 0\n",
    "kriging_model.sill = np.var(cond_val)\n",
    "\n",
    "kriging_model.create_kriged_field()\n",
    "prop = kriging_model.results_df['est_value'].values\n",
    "var = kriging_model.results_df['est_variance'].values"
   ]
  },
  {
   "cell_type": "code",
   "execution_count": 173,
   "metadata": {},
   "outputs": [
    {
     "name": "stdout",
     "output_type": "stream",
     "text": [
      "[2. 1. 1. 5.]\n",
      "[100. 900. 500. 300.]\n",
      "[500. 500. 550. 400.]\n",
      "       X    Y      Z  property\n",
      "0  100.0  0.5  500.0       2.0\n",
      "1  900.0  0.5  500.0       1.0\n",
      "2  500.0  0.5  550.0       1.0\n",
      "3  300.0  0.5  400.0       5.0\n"
     ]
    }
   ],
   "source": [
    "print(cond_val)\n",
    "print(x_cond)\n",
    "print(y_cond)\n",
    "print(kriging_model.data_df)"
   ]
  },
  {
   "cell_type": "code",
   "execution_count": 174,
   "metadata": {},
   "outputs": [
    {
     "name": "stdout",
     "output_type": "stream",
     "text": [
      "2.6875\n"
     ]
    }
   ],
   "source": [
    "# check effect of range on mean\n",
    "ranges = np.arange(10,900,10)\n",
    "means_me = np.zeros(len(ranges))\n",
    "means_them = np.zeros(len(ranges))\n",
    "count = 0\n",
    "\n",
    "print(kriging_model.sill)\n",
    "\n",
    "for i in ranges:\n",
    "    kriging_model.range_ = i\n",
    "    kriging_model.nugget = 0\n",
    "    kriging_model.create_kriged_field()\n",
    "    means_me[count]=np.mean(kriging_model.results_df['est_value'].values)\n",
    "    \n",
    "    model = Exponential(dim=2, var=np.var(cond_val) , len_scale=i, nugget=0)\n",
    "    #srf = krige.Simple(model, mean=np.mean(cond_val), cond_pos=(x_cond, y_cond), cond_val=cond_val)\n",
    "    srf = krige.Ordinary(model, cond_pos=(x_cond, y_cond), cond_val=cond_val)\n",
    "    field = srf((x, y), mesh_type='structured')\n",
    "    means_them[count]=np.mean(field[0])\n",
    "    count+=1"
   ]
  },
  {
   "cell_type": "code",
   "execution_count": 175,
   "metadata": {},
   "outputs": [
    {
     "data": {
      "text/plain": [
       "Text(0.5, 1.02, '(Nugget = 0, Input mean = 2.25, Input variance = 2.6875, Exponential Model)')"
      ]
     },
     "execution_count": 175,
     "metadata": {},
     "output_type": "execute_result"
    },
    {
     "data": {
      "image/png": "[encoded data removed]",
      "text/plain": [
       "<Figure size 432x288 with 1 Axes>"
      ]
     },
     "metadata": {
      "needs_background": "light"
     },
     "output_type": "display_data"
    }
   ],
   "source": [
    "plt.plot(ranges, means_me, label='Jan')\n",
    "plt.plot(ranges, means_them, label='GStools')\n",
    "plt.legend()\n",
    "plt.xlabel('range[]')\n",
    "plt.ylabel('mean of estimation[]')\n",
    "plt.suptitle('Mean of results of kriging interpolation', y=1.05, fontsize=14)\n",
    "plt.title('(Nugget = 0, Input mean = 2.25, Input variance = 2.6875, Exponential Model)', y=1.02, fontsize=12)"
   ]
  },
  {
   "cell_type": "code",
   "execution_count": 176,
   "metadata": {},
   "outputs": [
    {
     "name": "stdout",
     "output_type": "stream",
     "text": [
      "My mean: 1.939009343193377\n",
      "Their mean: 2.006419138449953\n"
     ]
    }
   ],
   "source": [
    "#print(field.shape)\n",
    "print(\"My mean:\", np.mean(kriging_model.results_df['est_value'].values))\n",
    "print(\"Their mean:\", np.mean(field[0]))"
   ]
  },
  {
   "cell_type": "code",
   "execution_count": 177,
   "metadata": {},
   "outputs": [
    {
     "name": "stdout",
     "output_type": "stream",
     "text": [
      "4.763829126871681\n",
      "5.000000000000001\n"
     ]
    }
   ],
   "source": [
    "print(np.max(kriging_model.results_df['est_value'].values))\n",
    "print(np.max(field[0]))"
   ]
  },
  {
   "cell_type": "code",
   "execution_count": 178,
   "metadata": {},
   "outputs": [],
   "source": [
    "# Now I have to find the reason for this"
   ]
  },
  {
   "cell_type": "code",
   "execution_count": 179,
   "metadata": {},
   "outputs": [],
   "source": [
    "# check effect of range on mean\n",
    "ranges = np.arange(0,2.5,0.1)\n",
    "means_me = np.zeros(len(ranges))\n",
    "means_them = np.zeros(len(ranges))\n",
    "count = 0\n",
    "\n",
    "\n",
    "for i in ranges:\n",
    "    kriging_model.range_ = 400\n",
    "    kriging_model.nugget = i\n",
    "    kriging_model.sill= np.var(cond_val)\n",
    "    kriging_model.create_kriged_field()\n",
    "    means_me[count]=np.mean(kriging_model.results_df['est_value'].values)\n",
    "    \n",
    "    model = Exponential(dim=2, var=np.var(cond_val)-i , len_scale=400, nugget=i)\n",
    "    #srf = krige.Simple(model, mean=np.mean(cond_val), cond_pos=(x_cond, y_cond), cond_val=cond_val)\n",
    "    srf = krige.Ordinary(model, cond_pos=(x_cond, y_cond), cond_val=cond_val)\n",
    "    field = srf((x, y), mesh_type='structured')\n",
    "    means_them[count]=field[0].mean()\n",
    "    count+=1"
   ]
  },
  {
   "cell_type": "code",
   "execution_count": null,
   "metadata": {
    "scrolled": true
   },
   "outputs": [],
   "source": []
  },
  {
   "cell_type": "code",
   "execution_count": 180,
   "metadata": {},
   "outputs": [
    {
     "data": {
      "text/plain": [
       "<matplotlib.collections.PathCollection at 0x2a950eba9b0>"
      ]
     },
     "execution_count": 180,
     "metadata": {},
     "output_type": "execute_result"
    },
    {
     "data": {
      "image/png": "[encoded data removed]",
      "text/plain": [
       "<Figure size 432x288 with 2 Axes>"
      ]
     },
     "metadata": {
      "needs_background": "light"
     },
     "output_type": "display_data"
    }
   ],
   "source": [
    "fig, ax = plt.subplots()\n",
    "ax.axis('equal')\n",
    "srf.plot(fig=fig, ax=ax)\n",
    "ax.scatter(x_cond, y_cond)"
   ]
  },
  {
   "cell_type": "code",
   "execution_count": 181,
   "metadata": {},
   "outputs": [
    {
     "data": {
      "text/plain": [
       "Text(0.5, 1.02, '(Nugget = 0, Input mean = 2.25, Input variance = 2.6875, Exponential Model)')"
      ]
     },
     "execution_count": 181,
     "metadata": {},
     "output_type": "execute_result"
    },
    {
     "data": {
      "image/png": "[encoded data removed]",
      "text/plain": [
       "<Figure size 432x288 with 1 Axes>"
      ]
     },
     "metadata": {
      "needs_background": "light"
     },
     "output_type": "display_data"
    }
   ],
   "source": [
    "plt.plot(ranges, means_me, label='Jan')\n",
    "plt.plot(ranges, means_them, label='GStools')\n",
    "plt.legend()\n",
    "plt.xlabel('nugget')\n",
    "plt.ylabel('mean of estimation[]')\n",
    "plt.suptitle('Mean of results of kriging interpolation', y=1.05, fontsize=14)\n",
    "plt.title('(Nugget = 0, Input mean = 2.25, Input variance = 2.6875, Exponential Model)', y=1.02, fontsize=12)"
   ]
  },
  {
   "cell_type": "code",
   "execution_count": 146,
   "metadata": {},
   "outputs": [
    {
     "data": {
      "text/plain": [
       "2.2301709799883165"
      ]
     },
     "execution_count": 146,
     "metadata": {},
     "output_type": "execute_result"
    }
   ],
   "source": [
    "np.max(means_me)"
   ]
  },
  {
   "cell_type": "code",
   "execution_count": 82,
   "metadata": {},
   "outputs": [
    {
     "data": {
      "text/plain": [
       "2.158468966464617"
      ]
     },
     "execution_count": 82,
     "metadata": {},
     "output_type": "execute_result"
    }
   ],
   "source": [
    "np.max(means_them)"
   ]
  },
  {
   "cell_type": "markdown",
   "metadata": {},
   "source": [
    "## Testing more variogram models and options"
   ]
  },
  {
   "cell_type": "code",
   "execution_count": null,
   "metadata": {},
   "outputs": [],
   "source": []
  },
  {
   "cell_type": "code",
   "execution_count": null,
   "metadata": {},
   "outputs": [],
   "source": []
  },
  {
   "cell_type": "code",
   "execution_count": null,
   "metadata": {},
   "outputs": [],
   "source": []
  },
  {
   "cell_type": "code",
   "execution_count": null,
   "metadata": {},
   "outputs": [],
   "source": []
  },
  {
   "cell_type": "code",
   "execution_count": 83,
   "metadata": {},
   "outputs": [],
   "source": [
    "d = np.arange(0,5000,1)\n",
    "test_cov = kriging_model.exponential_covariance_model(d)\n",
    "test_vario = kriging_model.exponential_variogram_model(d)\n",
    "\n",
    "test_relation = kriging_model.sill-test_vario"
   ]
  },
  {
   "cell_type": "code",
   "execution_count": 84,
   "metadata": {},
   "outputs": [
    {
     "data": {
      "text/plain": [
       "[<matplotlib.lines.Line2D at 0x2a94ccfdcf8>]"
      ]
     },
     "execution_count": 84,
     "metadata": {},
     "output_type": "execute_result"
    },
    {
     "data": {
      "image/png": "[encoded data removed]",
      "text/plain": [
       "<Figure size 432x288 with 1 Axes>"
      ]
     },
     "metadata": {
      "needs_background": "light"
     },
     "output_type": "display_data"
    }
   ],
   "source": [
    "plt.plot(d, test_vario)\n",
    "plt.plot(d, test_relation)\n",
    "plt.plot(d, test_cov)"
   ]
  },
  {
   "cell_type": "code",
   "execution_count": 85,
   "metadata": {},
   "outputs": [],
   "source": [
    "from scipy import special"
   ]
  },
  {
   "cell_type": "code",
   "execution_count": 86,
   "metadata": {},
   "outputs": [],
   "source": [
    "\n",
    "def matern(d, range_=1, c0=1, s=0.5, nugget=0):\n",
    "    r\"\"\"Matérn Variogram function\n",
    "    Implementation of the Matérn variogram function. Calculates the\n",
    "    dependent variable for a given lag (h). The nugget (b) defaults to be 0.\n",
    "    Parameters\n",
    "    ----------\n",
    "    h : float\n",
    "        Specifies the lag of separating distances that the dependent variable\n",
    "        shall be calculated for. It has to be a positive real number.\n",
    "    r : float\n",
    "        The effective range. Note this is not the range parameter! For the\n",
    "        Matérn variogram function the range parameter a is defined to be\n",
    "        :math:`a = \\frac{r}{2}`. The effective range is the lag\n",
    "        where 95% of the sill are exceeded. This is needed as the sill is\n",
    "        only approached asymptotically by Matérn model.\n",
    "    c0 : float\n",
    "        The sill of the variogram, where it will flatten out. The function\n",
    "        will not return a value higher than C0 + b.\n",
    "    s : float\n",
    "        Smoothness parameter. The smoothness parameter can shape a smooth or\n",
    "        rough variogram function. A value of 0.5 will yield the exponential\n",
    "        function, while a smoothness of +inf is exactly the Gaussian model.\n",
    "        Typically a value of 10 is close enough to Gaussian shape to simulate\n",
    "        its behaviour. Low values are considered to be 'smooth', while larger\n",
    "        values are considered to describe a 'rough' random field.\n",
    "    b : float\n",
    "        The nugget of the variogram. This is the value of independent\n",
    "        variable at the distance of zero. This is usually attributed to\n",
    "        non-spatial variance.\n",
    "    Returns\n",
    "    -------\n",
    "    gamma : numpy.float64\n",
    "        Unlike in most variogram function formulas, which define the function\n",
    "        for :math:`2*\\gamma`, this function will return :math:`\\gamma` only.\n",
    "    Notes\n",
    "    -----\n",
    "    The formula and references will follow.\n",
    "    \"\"\"\n",
    "    # prepare parameters\n",
    "    # TODO: depend a on s, for 0.5 should be 3, above 10 should be 3\n",
    "    #a = range_ / 2. # effective range ?\n",
    "    a = range_\n",
    "    \n",
    "    # calculate\n",
    "    gamma = nugget + c0 * (1. - (1/(2**(s-1) * special.gamma(s))) * ((np.absolute(d)/a)**s) *\n",
    "                          special.kv(1,(np.absolute(d)/a)))\n",
    "    \n",
    "    return gamma\n",
    "    \n",
    "    #return nugget + c0 * (1. - (2 / special.gamma(s)) *\n",
    "     #                np.power((h * np.sqrt(s)) / a, s) *\n",
    "     ##                special.kv(s, 2 * ((h * np.sqrt(s)) / a))\n",
    "     #                )"
   ]
  },
  {
   "cell_type": "code",
   "execution_count": 87,
   "metadata": {},
   "outputs": [],
   "source": [
    "d = np.arange(0,2.5,0.1)"
   ]
  },
  {
   "cell_type": "code",
   "execution_count": 51,
   "metadata": {},
   "outputs": [],
   "source": [
    "test_matern1 = matern(d=d, s=3)\n",
    "test_matern2 = matern(d=d, s=0)\n",
    "test_matern3 = matern(d=d, s=10)"
   ]
  },
  {
   "cell_type": "code",
   "execution_count": 52,
   "metadata": {},
   "outputs": [
    {
     "data": {
      "text/plain": [
       "[<matplotlib.lines.Line2D at 0x2a94b4e7b38>]"
      ]
     },
     "execution_count": 52,
     "metadata": {},
     "output_type": "execute_result"
    },
    {
     "data": {
      "image/png": "[encoded data removed]",
      "text/plain": [
       "<Figure size 432x288 with 1 Axes>"
      ]
     },
     "metadata": {
      "needs_background": "light"
     },
     "output_type": "display_data"
    }
   ],
   "source": [
    "# effective range instead of overall range?\n",
    "#plt.plot(d, test_vario)\n",
    "#plt.plot(d, test_relation)\n",
    "#plt.plot(d, test_cov)\n",
    "plt.plot(d, test_matern1) # nugget effect and matern class wrong\n",
    "plt.plot(d, test_matern2)\n",
    "plt.plot(d, test_matern3)"
   ]
  },
  {
   "cell_type": "code",
   "execution_count": 53,
   "metadata": {},
   "outputs": [
    {
     "data": {
      "text/plain": [
       "'Wackernagel (2003, pp. 57{58) noted that in contrast to the Linear and the Spherical\\nmodel, which reach the speci\\x0ced sill value b exactly at the \\x0cnite range a, i.e. \\nlin\\na;b (a) =\\n\\nsph\\na;b (a) = b, the Exponential and the Gaussian model approach the sill asymptotically\\nfor jhj ! 1, which has a non zero covariance as consequence. In this case, the practical\\nrange equals approximately 3a for the Exponential and\\np\\n3a for the Gaussian variogram\\nmodel, i.e. \\nexp\\na;b (3a) \\x19 0:95b and \\ngau\\na;b (\\np\\n3a) \\x19 0:95b (cf. Webster and Oliver 2007, pp.\\n88{93; Pebesma 2001, p. 38).'"
      ]
     },
     "execution_count": 53,
     "metadata": {},
     "output_type": "execute_result"
    }
   ],
   "source": [
    "'''Wackernagel (2003, pp. 57{58) noted that in contrast to the Linear and the Spherical\n",
    "model, which reach the speci\f",
    "ed sill value b exactly at the \f",
    "nite range a, i.e. \n",
    "lin\n",
    "a;b (a) =\n",
    "\n",
    "sph\n",
    "a;b (a) = b, the Exponential and the Gaussian model approach the sill asymptotically\n",
    "for jhj ! 1, which has a non zero covariance as consequence. In this case, the practical\n",
    "range equals approximately 3a for the Exponential and\n",
    "p\n",
    "3a for the Gaussian variogram\n",
    "model, i.e. \n",
    "exp\n",
    "a;b (3a) \u0019 0:95b and \n",
    "gau\n",
    "a;b (\n",
    "p\n",
    "3a) \u0019 0:95b (cf. Webster and Oliver 2007, pp.\n",
    "88{93; Pebesma 2001, p. 38).'''"
   ]
  }
 ],
 "metadata": {
  "kernelspec": {
   "display_name": "Python 3",
   "language": "python",
   "name": "python3"
  },
  "language_info": {
   "codemirror_mode": {
    "name": "ipython",
    "version": 3
   },
   "file_extension": ".py",
   "mimetype": "text/x-python",
   "name": "python",
   "nbconvert_exporter": "python",
   "pygments_lexer": "ipython3",
   "version": "3.7.3"
  }
 },
 "nbformat": 4,
 "nbformat_minor": 2
}
