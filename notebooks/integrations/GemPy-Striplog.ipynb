{
 "cells": [
  {
   "cell_type": "markdown",
   "metadata": {},
   "source": [
    "## Transform 2019: Integrating Striplog and GemPy"
   ]
  },
  {
   "cell_type": "code",
   "execution_count": 1,
   "metadata": {
    "scrolled": true
   },
   "outputs": [
    {
     "name": "stdout",
     "output_type": "stream",
     "text": [
      "Requirement already satisfied: welly in /anaconda3/lib/python3.7/site-packages (0.4.2)\n",
      "Requirement already satisfied: striplog in /anaconda3/lib/python3.7/site-packages (0.8.1)\n",
      "Requirement already satisfied: lasio in /anaconda3/lib/python3.7/site-packages (from welly) (0.24.1)\n",
      "Requirement already satisfied: scipy in /anaconda3/lib/python3.7/site-packages (from welly) (1.1.0)\n",
      "Requirement already satisfied: tqdm in /anaconda3/lib/python3.7/site-packages (from welly) (4.28.1)\n",
      "Requirement already satisfied: numpy in /anaconda3/lib/python3.7/site-packages (from welly) (1.15.4)\n",
      "Requirement already satisfied: matplotlib in /anaconda3/lib/python3.7/site-packages (from welly) (3.0.2)\n",
      "Requirement already satisfied: cycler>=0.10 in /anaconda3/lib/python3.7/site-packages (from matplotlib->welly) (0.10.0)\n",
      "Requirement already satisfied: kiwisolver>=1.0.1 in /anaconda3/lib/python3.7/site-packages (from matplotlib->welly) (1.0.1)\n",
      "Requirement already satisfied: pyparsing!=2.0.4,!=2.1.2,!=2.1.6,>=2.0.1 in /anaconda3/lib/python3.7/site-packages (from matplotlib->welly) (2.3.0)\n",
      "Requirement already satisfied: python-dateutil>=2.1 in /anaconda3/lib/python3.7/site-packages (from matplotlib->welly) (2.7.5)\n",
      "Requirement already satisfied: six in /anaconda3/lib/python3.7/site-packages (from cycler>=0.10->matplotlib->welly) (1.12.0)\n",
      "Requirement already satisfied: setuptools in /anaconda3/lib/python3.7/site-packages (from kiwisolver>=1.0.1->matplotlib->welly) (40.6.3)\n"
     ]
    }
   ],
   "source": [
    "! pip install welly striplog"
   ]
  },
  {
   "cell_type": "code",
   "execution_count": 2,
   "metadata": {},
   "outputs": [],
   "source": [
    "# Authors: M. de la Varga, Evan Bianco, Brian Burnham and Dieter Werthmüller\n",
    "\n",
    "# These two lines are necessary only if GemPy is not installed\n",
    "import sys, os\n",
    "sys.path.append(\"../../\")\n",
    "\n",
    "# Importing GemPy\n",
    "import gempy as gp\n",
    "\n",
    "\n",
    "# Embedding matplotlib figures in the notebooks\n",
    "%matplotlib inline\n",
    "\n",
    "# Importing auxiliary libraries\n",
    "import numpy as np\n",
    "import pandas as pn\n",
    "import matplotlib.pyplot as plt\n",
    "\n",
    "import welly\n",
    "from welly import Location, Project\n",
    "import glob\n",
    "from striplog import Striplog, Legend, Decor\n"
   ]
  },
  {
   "cell_type": "markdown",
   "metadata": {},
   "source": [
    "#### Creating striplog object\n",
    "----"
   ]
  },
  {
   "cell_type": "code",
   "execution_count": 3,
   "metadata": {},
   "outputs": [],
   "source": [
    "# get well header coordinates\n",
    "well_heads = {'alpha': {'kb_coords':(0,0,0)},\n",
    "              'beta': {'kb_coords':(10,10,0)}, \n",
    "              'gamma': {'kb_coords':(12,0,0)}, \n",
    "              'epsilon': {'kb_coords':(20,0,0)}}"
   ]
  },
  {
   "cell_type": "code",
   "execution_count": 4,
   "metadata": {},
   "outputs": [
    {
     "data": {
      "text/plain": [
       "['../data/input_data/striplog_integration/epsilon_strip.tops',\n",
       " '../data/input_data/striplog_integration/alpha_strip.tops',\n",
       " '../data/input_data/striplog_integration/beta_strip.tops',\n",
       " '../data/input_data/striplog_integration/gamma_strip.tops']"
      ]
     },
     "execution_count": 4,
     "metadata": {},
     "output_type": "execute_result"
    }
   ],
   "source": [
    "# Reading tops file\n",
    "topsfiles = glob.glob('../data/input_data/striplog_integration/*.tops')\n",
    "topsfiles"
   ]
  },
  {
   "cell_type": "code",
   "execution_count": 5,
   "metadata": {},
   "outputs": [
    {
     "data": {
      "text/html": [
       "<table><tr><td style=\"width:2em; background-color:#DDDDDD\" rowspan=\"6\"></td><td><strong>top</strong></td><td>0.0</td></tr><tr><td><strong>primary</strong></td><td><table><tr><td><strong>lith</strong></td><td>overburden</td></tr></table></td></tr><tr><td><strong>summary</strong></td><td>50.00 m of overburden</td></tr><tr><td><strong>description</strong></td><td></td></tr><tr><td><strong>data</strong></td><td><table></table></td></tr><tr><td><strong>base</strong></td><td>50.0</td></tr></table>"
      ],
      "text/plain": [
       "Interval({'top': Position({'middle': 0.0, 'upper': 0.0, 'lower': 0.0, 'units': 'm'}), 'base': Position({'middle': 50.0, 'units': 'm'}), 'description': '', 'data': {}, 'components': [Component({'lith': 'overburden'})]})"
      ]
     },
     "execution_count": 5,
     "metadata": {},
     "output_type": "execute_result"
    }
   ],
   "source": [
    "# Creating striplog object\n",
    "my_striplogs = []\n",
    "\n",
    "for file in topsfiles:\n",
    "    with open(file) as f:\n",
    "        text = f.read()\n",
    "        striplog = Striplog.from_csv(text=text)\n",
    "        my_striplogs.append(striplog)\n",
    "        \n",
    "striplog_dict = {'alpha': my_striplogs[1],\n",
    "          'beta': my_striplogs[2],  \n",
    "          'gamma': my_striplogs[3], \n",
    "          'epsilon': my_striplogs[0]}\n",
    "striplog_dict['alpha'][0]"
   ]
  },
  {
   "cell_type": "code",
   "execution_count": 6,
   "metadata": {},
   "outputs": [
    {
     "data": {
      "image/png": "[encoded data removed]",
      "text/plain": [
       "<Figure size 432x288 with 4 Axes>"
      ]
     },
     "metadata": {
      "needs_background": "light"
     },
     "output_type": "display_data"
    }
   ],
   "source": [
    "# Plot striplog\n",
    "f, a = plt.subplots(ncols=4, sharey=True)\n",
    "\n",
    "for e, log in enumerate(striplog_dict.items()):\n",
    "    log[1].plot(ax=a[e], legend=None)\n",
    "f.tight_layout()\n"
   ]
  },
  {
   "cell_type": "code",
   "execution_count": 7,
   "metadata": {},
   "outputs": [
    {
     "data": {
      "text/html": [
       "<div>\n",
       "<style scoped>\n",
       "    .dataframe tbody tr th:only-of-type {\n",
       "        vertical-align: middle;\n",
       "    }\n",
       "\n",
       "    .dataframe tbody tr th {\n",
       "        vertical-align: top;\n",
       "    }\n",
       "\n",
       "    .dataframe thead th {\n",
       "        text-align: right;\n",
       "    }\n",
       "</style>\n",
       "<table border=\"1\" class=\"dataframe\">\n",
       "  <thead>\n",
       "    <tr style=\"text-align: right;\">\n",
       "      <th></th>\n",
       "      <th>X</th>\n",
       "      <th>Y</th>\n",
       "      <th>Z</th>\n",
       "      <th>surface</th>\n",
       "      <th>series</th>\n",
       "      <th>wellname</th>\n",
       "    </tr>\n",
       "  </thead>\n",
       "  <tbody>\n",
       "    <tr>\n",
       "      <th>0</th>\n",
       "      <td>0</td>\n",
       "      <td>0</td>\n",
       "      <td>50.0</td>\n",
       "      <td>overburden</td>\n",
       "      <td>1</td>\n",
       "      <td>alpha</td>\n",
       "    </tr>\n",
       "    <tr>\n",
       "      <th>1</th>\n",
       "      <td>0</td>\n",
       "      <td>0</td>\n",
       "      <td>75.0</td>\n",
       "      <td>miguel</td>\n",
       "      <td>1</td>\n",
       "      <td>alpha</td>\n",
       "    </tr>\n",
       "    <tr>\n",
       "      <th>2</th>\n",
       "      <td>0</td>\n",
       "      <td>0</td>\n",
       "      <td>100.0</td>\n",
       "      <td>evan</td>\n",
       "      <td>1</td>\n",
       "      <td>alpha</td>\n",
       "    </tr>\n",
       "    <tr>\n",
       "      <th>3</th>\n",
       "      <td>0</td>\n",
       "      <td>0</td>\n",
       "      <td>120.0</td>\n",
       "      <td>brian</td>\n",
       "      <td>1</td>\n",
       "      <td>alpha</td>\n",
       "    </tr>\n",
       "    <tr>\n",
       "      <th>4</th>\n",
       "      <td>0</td>\n",
       "      <td>0</td>\n",
       "      <td>121.0</td>\n",
       "      <td>dieter</td>\n",
       "      <td>1</td>\n",
       "      <td>alpha</td>\n",
       "    </tr>\n",
       "    <tr>\n",
       "      <th>5</th>\n",
       "      <td>10</td>\n",
       "      <td>10</td>\n",
       "      <td>50.0</td>\n",
       "      <td>overburden</td>\n",
       "      <td>1</td>\n",
       "      <td>beta</td>\n",
       "    </tr>\n",
       "    <tr>\n",
       "      <th>6</th>\n",
       "      <td>10</td>\n",
       "      <td>10</td>\n",
       "      <td>80.0</td>\n",
       "      <td>miguel</td>\n",
       "      <td>1</td>\n",
       "      <td>beta</td>\n",
       "    </tr>\n",
       "    <tr>\n",
       "      <th>7</th>\n",
       "      <td>10</td>\n",
       "      <td>10</td>\n",
       "      <td>100.0</td>\n",
       "      <td>evan</td>\n",
       "      <td>1</td>\n",
       "      <td>beta</td>\n",
       "    </tr>\n",
       "    <tr>\n",
       "      <th>8</th>\n",
       "      <td>10</td>\n",
       "      <td>10</td>\n",
       "      <td>130.0</td>\n",
       "      <td>brian</td>\n",
       "      <td>1</td>\n",
       "      <td>beta</td>\n",
       "    </tr>\n",
       "    <tr>\n",
       "      <th>9</th>\n",
       "      <td>10</td>\n",
       "      <td>10</td>\n",
       "      <td>131.0</td>\n",
       "      <td>dieter</td>\n",
       "      <td>1</td>\n",
       "      <td>beta</td>\n",
       "    </tr>\n",
       "    <tr>\n",
       "      <th>10</th>\n",
       "      <td>12</td>\n",
       "      <td>0</td>\n",
       "      <td>50.0</td>\n",
       "      <td>overburden</td>\n",
       "      <td>1</td>\n",
       "      <td>gamma</td>\n",
       "    </tr>\n",
       "    <tr>\n",
       "      <th>11</th>\n",
       "      <td>12</td>\n",
       "      <td>0</td>\n",
       "      <td>75.0</td>\n",
       "      <td>miguel</td>\n",
       "      <td>1</td>\n",
       "      <td>gamma</td>\n",
       "    </tr>\n",
       "    <tr>\n",
       "      <th>12</th>\n",
       "      <td>12</td>\n",
       "      <td>0</td>\n",
       "      <td>100.0</td>\n",
       "      <td>evan</td>\n",
       "      <td>1</td>\n",
       "      <td>gamma</td>\n",
       "    </tr>\n",
       "    <tr>\n",
       "      <th>13</th>\n",
       "      <td>12</td>\n",
       "      <td>0</td>\n",
       "      <td>130.0</td>\n",
       "      <td>brian</td>\n",
       "      <td>1</td>\n",
       "      <td>gamma</td>\n",
       "    </tr>\n",
       "    <tr>\n",
       "      <th>14</th>\n",
       "      <td>12</td>\n",
       "      <td>0</td>\n",
       "      <td>131.0</td>\n",
       "      <td>dieter</td>\n",
       "      <td>1</td>\n",
       "      <td>gamma</td>\n",
       "    </tr>\n",
       "    <tr>\n",
       "      <th>15</th>\n",
       "      <td>20</td>\n",
       "      <td>0</td>\n",
       "      <td>50.0</td>\n",
       "      <td>overburden</td>\n",
       "      <td>1</td>\n",
       "      <td>epsilon</td>\n",
       "    </tr>\n",
       "    <tr>\n",
       "      <th>16</th>\n",
       "      <td>20</td>\n",
       "      <td>0</td>\n",
       "      <td>75.0</td>\n",
       "      <td>miguel</td>\n",
       "      <td>1</td>\n",
       "      <td>epsilon</td>\n",
       "    </tr>\n",
       "    <tr>\n",
       "      <th>17</th>\n",
       "      <td>20</td>\n",
       "      <td>0</td>\n",
       "      <td>110.0</td>\n",
       "      <td>brian</td>\n",
       "      <td>1</td>\n",
       "      <td>epsilon</td>\n",
       "    </tr>\n",
       "    <tr>\n",
       "      <th>18</th>\n",
       "      <td>20</td>\n",
       "      <td>0</td>\n",
       "      <td>111.0</td>\n",
       "      <td>dieter</td>\n",
       "      <td>1</td>\n",
       "      <td>epsilon</td>\n",
       "    </tr>\n",
       "  </tbody>\n",
       "</table>\n",
       "</div>"
      ],
      "text/plain": [
       "     X   Y      Z     surface  series wellname\n",
       "0    0   0   50.0  overburden       1    alpha\n",
       "1    0   0   75.0      miguel       1    alpha\n",
       "2    0   0  100.0        evan       1    alpha\n",
       "3    0   0  120.0       brian       1    alpha\n",
       "4    0   0  121.0      dieter       1    alpha\n",
       "5   10  10   50.0  overburden       1     beta\n",
       "6   10  10   80.0      miguel       1     beta\n",
       "7   10  10  100.0        evan       1     beta\n",
       "8   10  10  130.0       brian       1     beta\n",
       "9   10  10  131.0      dieter       1     beta\n",
       "10  12   0   50.0  overburden       1    gamma\n",
       "11  12   0   75.0      miguel       1    gamma\n",
       "12  12   0  100.0        evan       1    gamma\n",
       "13  12   0  130.0       brian       1    gamma\n",
       "14  12   0  131.0      dieter       1    gamma\n",
       "15  20   0   50.0  overburden       1  epsilon\n",
       "16  20   0   75.0      miguel       1  epsilon\n",
       "17  20   0  110.0       brian       1  epsilon\n",
       "18  20   0  111.0      dieter       1  epsilon"
      ]
     },
     "execution_count": 7,
     "metadata": {},
     "output_type": "execute_result"
    }
   ],
   "source": [
    "# Striplog to pandas df of bottoms\n",
    "rows = []\n",
    "for wellname in striplog_dict.keys():\n",
    "    for i, interval in enumerate(striplog_dict[wellname]):\n",
    "            surface_name = interval.primary.lith\n",
    "            surface_base = interval.base.middle\n",
    "            x,y = well_heads[wellname]['kb_coords'][:-1]\n",
    "            series = 1\n",
    "            rows.append([x, y, surface_base, surface_name, series, wellname])\n",
    "column_names = ['X','Y','Z','surface', 'series','wellname']\n",
    "df = pn.DataFrame(rows, columns=column_names)\n",
    "df"
   ]
  },
  {
   "cell_type": "markdown",
   "metadata": {},
   "source": [
    "#### GemPy model\n",
    "-----"
   ]
  },
  {
   "cell_type": "code",
   "execution_count": 8,
   "metadata": {},
   "outputs": [
    {
     "name": "stdout",
     "output_type": "stream",
     "text": [
      "Active grids: ['regular']\n"
     ]
    },
    {
     "data": {
      "text/plain": [
       "welly_integration  2019-07-12 14:04"
      ]
     },
     "execution_count": 8,
     "metadata": {},
     "output_type": "execute_result"
    }
   ],
   "source": [
    "# Create gempy model object\n",
    "geo_model = gp.create_model('welly_integration')\n",
    "\n",
    "extent = [-100, 300, -100, 200, -150, 0]\n",
    "res = [60, 60, 60]\n",
    "\n",
    "# Initializting model using the striplog df\n",
    "gp.init_data(geo_model, extent, res, surface_points_df = df)"
   ]
  },
  {
   "cell_type": "code",
   "execution_count": 9,
   "metadata": {},
   "outputs": [
    {
     "data": {
      "text/html": [
       "<div>\n",
       "<style scoped>\n",
       "    .dataframe tbody tr th:only-of-type {\n",
       "        vertical-align: middle;\n",
       "    }\n",
       "\n",
       "    .dataframe tbody tr th {\n",
       "        vertical-align: top;\n",
       "    }\n",
       "\n",
       "    .dataframe thead th {\n",
       "        text-align: right;\n",
       "    }\n",
       "</style>\n",
       "<table border=\"1\" class=\"dataframe\">\n",
       "  <thead>\n",
       "    <tr style=\"text-align: right;\">\n",
       "      <th></th>\n",
       "      <th>X</th>\n",
       "      <th>Y</th>\n",
       "      <th>Z</th>\n",
       "      <th>X_r</th>\n",
       "      <th>Y_r</th>\n",
       "      <th>Z_r</th>\n",
       "      <th>surface</th>\n",
       "      <th>series</th>\n",
       "      <th>id</th>\n",
       "      <th>order_series</th>\n",
       "      <th>smooth</th>\n",
       "    </tr>\n",
       "  </thead>\n",
       "  <tbody>\n",
       "    <tr>\n",
       "      <th>0</th>\n",
       "      <td>0</td>\n",
       "      <td>0</td>\n",
       "      <td>50.0</td>\n",
       "      <td>0.438372</td>\n",
       "      <td>0.469236</td>\n",
       "      <td>0.250100</td>\n",
       "      <td>overburden</td>\n",
       "      <td>Default series</td>\n",
       "      <td>1</td>\n",
       "      <td>1</td>\n",
       "      <td>1.000000e-08</td>\n",
       "    </tr>\n",
       "    <tr>\n",
       "      <th>1</th>\n",
       "      <td>0</td>\n",
       "      <td>0</td>\n",
       "      <td>75.0</td>\n",
       "      <td>0.438372</td>\n",
       "      <td>0.469236</td>\n",
       "      <td>0.404421</td>\n",
       "      <td>miguel</td>\n",
       "      <td>Default series</td>\n",
       "      <td>2</td>\n",
       "      <td>1</td>\n",
       "      <td>1.000000e-08</td>\n",
       "    </tr>\n",
       "    <tr>\n",
       "      <th>2</th>\n",
       "      <td>0</td>\n",
       "      <td>0</td>\n",
       "      <td>100.0</td>\n",
       "      <td>0.438372</td>\n",
       "      <td>0.469236</td>\n",
       "      <td>0.558742</td>\n",
       "      <td>evan</td>\n",
       "      <td>Default series</td>\n",
       "      <td>3</td>\n",
       "      <td>1</td>\n",
       "      <td>1.000000e-08</td>\n",
       "    </tr>\n",
       "    <tr>\n",
       "      <th>3</th>\n",
       "      <td>0</td>\n",
       "      <td>0</td>\n",
       "      <td>120.0</td>\n",
       "      <td>0.438372</td>\n",
       "      <td>0.469236</td>\n",
       "      <td>0.682199</td>\n",
       "      <td>brian</td>\n",
       "      <td>Default series</td>\n",
       "      <td>4</td>\n",
       "      <td>1</td>\n",
       "      <td>1.000000e-08</td>\n",
       "    </tr>\n",
       "    <tr>\n",
       "      <th>4</th>\n",
       "      <td>0</td>\n",
       "      <td>0</td>\n",
       "      <td>121.0</td>\n",
       "      <td>0.438372</td>\n",
       "      <td>0.469236</td>\n",
       "      <td>0.688372</td>\n",
       "      <td>dieter</td>\n",
       "      <td>Default series</td>\n",
       "      <td>5</td>\n",
       "      <td>1</td>\n",
       "      <td>1.000000e-08</td>\n",
       "    </tr>\n",
       "  </tbody>\n",
       "</table>\n",
       "</div>"
      ],
      "text/plain": [
       "   X  Y      Z       X_r       Y_r       Z_r     surface          series  id  \\\n",
       "0  0  0   50.0  0.438372  0.469236  0.250100  overburden  Default series   1   \n",
       "1  0  0   75.0  0.438372  0.469236  0.404421      miguel  Default series   2   \n",
       "2  0  0  100.0  0.438372  0.469236  0.558742        evan  Default series   3   \n",
       "3  0  0  120.0  0.438372  0.469236  0.682199       brian  Default series   4   \n",
       "4  0  0  121.0  0.438372  0.469236  0.688372      dieter  Default series   5   \n",
       "\n",
       "   order_series        smooth  \n",
       "0             1  1.000000e-08  \n",
       "1             1  1.000000e-08  \n",
       "2             1  1.000000e-08  \n",
       "3             1  1.000000e-08  \n",
       "4             1  1.000000e-08  "
      ]
     },
     "execution_count": 9,
     "metadata": {},
     "output_type": "execute_result"
    }
   ],
   "source": [
    "geo_model.surface_points.df.head()"
   ]
  },
  {
   "cell_type": "code",
   "execution_count": 10,
   "metadata": {},
   "outputs": [
    {
     "data": {
      "text/html": [
       "<style  type=\"text/css\" >\n",
       "    #T_25bb009c_a49d_11e9_9dae_a0cec8c80106row0_col4 {\n",
       "            background-color:  #015482;\n",
       "        }    #T_25bb009c_a49d_11e9_9dae_a0cec8c80106row1_col4 {\n",
       "            background-color:  #9f0052;\n",
       "        }    #T_25bb009c_a49d_11e9_9dae_a0cec8c80106row2_col4 {\n",
       "            background-color:  #ffbe00;\n",
       "        }    #T_25bb009c_a49d_11e9_9dae_a0cec8c80106row3_col4 {\n",
       "            background-color:  #728f02;\n",
       "        }    #T_25bb009c_a49d_11e9_9dae_a0cec8c80106row4_col4 {\n",
       "            background-color:  #443988;\n",
       "        }</style><table id=\"T_25bb009c_a49d_11e9_9dae_a0cec8c80106\" ><thead>    <tr>        <th class=\"blank level0\" ></th>        <th class=\"col_heading level0 col0\" >surface</th>        <th class=\"col_heading level0 col1\" >series</th>        <th class=\"col_heading level0 col2\" >order_surfaces</th>        <th class=\"col_heading level0 col3\" >isBasement</th>        <th class=\"col_heading level0 col4\" >color</th>        <th class=\"col_heading level0 col5\" >id</th>    </tr></thead><tbody>\n",
       "                <tr>\n",
       "                        <th id=\"T_25bb009c_a49d_11e9_9dae_a0cec8c80106level0_row0\" class=\"row_heading level0 row0\" >0</th>\n",
       "                        <td id=\"T_25bb009c_a49d_11e9_9dae_a0cec8c80106row0_col0\" class=\"data row0 col0\" >overburden</td>\n",
       "                        <td id=\"T_25bb009c_a49d_11e9_9dae_a0cec8c80106row0_col1\" class=\"data row0 col1\" >Default series</td>\n",
       "                        <td id=\"T_25bb009c_a49d_11e9_9dae_a0cec8c80106row0_col2\" class=\"data row0 col2\" >1</td>\n",
       "                        <td id=\"T_25bb009c_a49d_11e9_9dae_a0cec8c80106row0_col3\" class=\"data row0 col3\" >False</td>\n",
       "                        <td id=\"T_25bb009c_a49d_11e9_9dae_a0cec8c80106row0_col4\" class=\"data row0 col4\" >#015482</td>\n",
       "                        <td id=\"T_25bb009c_a49d_11e9_9dae_a0cec8c80106row0_col5\" class=\"data row0 col5\" >1</td>\n",
       "            </tr>\n",
       "            <tr>\n",
       "                        <th id=\"T_25bb009c_a49d_11e9_9dae_a0cec8c80106level0_row1\" class=\"row_heading level0 row1\" >1</th>\n",
       "                        <td id=\"T_25bb009c_a49d_11e9_9dae_a0cec8c80106row1_col0\" class=\"data row1 col0\" >miguel</td>\n",
       "                        <td id=\"T_25bb009c_a49d_11e9_9dae_a0cec8c80106row1_col1\" class=\"data row1 col1\" >Default series</td>\n",
       "                        <td id=\"T_25bb009c_a49d_11e9_9dae_a0cec8c80106row1_col2\" class=\"data row1 col2\" >2</td>\n",
       "                        <td id=\"T_25bb009c_a49d_11e9_9dae_a0cec8c80106row1_col3\" class=\"data row1 col3\" >False</td>\n",
       "                        <td id=\"T_25bb009c_a49d_11e9_9dae_a0cec8c80106row1_col4\" class=\"data row1 col4\" >#9f0052</td>\n",
       "                        <td id=\"T_25bb009c_a49d_11e9_9dae_a0cec8c80106row1_col5\" class=\"data row1 col5\" >2</td>\n",
       "            </tr>\n",
       "            <tr>\n",
       "                        <th id=\"T_25bb009c_a49d_11e9_9dae_a0cec8c80106level0_row2\" class=\"row_heading level0 row2\" >2</th>\n",
       "                        <td id=\"T_25bb009c_a49d_11e9_9dae_a0cec8c80106row2_col0\" class=\"data row2 col0\" >evan</td>\n",
       "                        <td id=\"T_25bb009c_a49d_11e9_9dae_a0cec8c80106row2_col1\" class=\"data row2 col1\" >Default series</td>\n",
       "                        <td id=\"T_25bb009c_a49d_11e9_9dae_a0cec8c80106row2_col2\" class=\"data row2 col2\" >3</td>\n",
       "                        <td id=\"T_25bb009c_a49d_11e9_9dae_a0cec8c80106row2_col3\" class=\"data row2 col3\" >False</td>\n",
       "                        <td id=\"T_25bb009c_a49d_11e9_9dae_a0cec8c80106row2_col4\" class=\"data row2 col4\" >#ffbe00</td>\n",
       "                        <td id=\"T_25bb009c_a49d_11e9_9dae_a0cec8c80106row2_col5\" class=\"data row2 col5\" >3</td>\n",
       "            </tr>\n",
       "            <tr>\n",
       "                        <th id=\"T_25bb009c_a49d_11e9_9dae_a0cec8c80106level0_row3\" class=\"row_heading level0 row3\" >3</th>\n",
       "                        <td id=\"T_25bb009c_a49d_11e9_9dae_a0cec8c80106row3_col0\" class=\"data row3 col0\" >brian</td>\n",
       "                        <td id=\"T_25bb009c_a49d_11e9_9dae_a0cec8c80106row3_col1\" class=\"data row3 col1\" >Default series</td>\n",
       "                        <td id=\"T_25bb009c_a49d_11e9_9dae_a0cec8c80106row3_col2\" class=\"data row3 col2\" >4</td>\n",
       "                        <td id=\"T_25bb009c_a49d_11e9_9dae_a0cec8c80106row3_col3\" class=\"data row3 col3\" >False</td>\n",
       "                        <td id=\"T_25bb009c_a49d_11e9_9dae_a0cec8c80106row3_col4\" class=\"data row3 col4\" >#728f02</td>\n",
       "                        <td id=\"T_25bb009c_a49d_11e9_9dae_a0cec8c80106row3_col5\" class=\"data row3 col5\" >4</td>\n",
       "            </tr>\n",
       "            <tr>\n",
       "                        <th id=\"T_25bb009c_a49d_11e9_9dae_a0cec8c80106level0_row4\" class=\"row_heading level0 row4\" >4</th>\n",
       "                        <td id=\"T_25bb009c_a49d_11e9_9dae_a0cec8c80106row4_col0\" class=\"data row4 col0\" >dieter</td>\n",
       "                        <td id=\"T_25bb009c_a49d_11e9_9dae_a0cec8c80106row4_col1\" class=\"data row4 col1\" >Default series</td>\n",
       "                        <td id=\"T_25bb009c_a49d_11e9_9dae_a0cec8c80106row4_col2\" class=\"data row4 col2\" >5</td>\n",
       "                        <td id=\"T_25bb009c_a49d_11e9_9dae_a0cec8c80106row4_col3\" class=\"data row4 col3\" >True</td>\n",
       "                        <td id=\"T_25bb009c_a49d_11e9_9dae_a0cec8c80106row4_col4\" class=\"data row4 col4\" >#443988</td>\n",
       "                        <td id=\"T_25bb009c_a49d_11e9_9dae_a0cec8c80106row4_col5\" class=\"data row4 col5\" >5</td>\n",
       "            </tr>\n",
       "    </tbody></table>"
      ],
      "text/plain": [
       "      surface          series  order_surfaces  isBasement    color vertices edges  id\n",
       "0  overburden  Default series               1       False  #015482      NaN   NaN   1\n",
       "1      miguel  Default series               2       False  #9f0052      NaN   NaN   2\n",
       "2        evan  Default series               3       False  #ffbe00      NaN   NaN   3\n",
       "3       brian  Default series               4       False  #728f02      NaN   NaN   4\n",
       "4      dieter  Default series               5        True  #443988      NaN   NaN   5"
      ]
     },
     "execution_count": 10,
     "metadata": {},
     "output_type": "execute_result"
    }
   ],
   "source": [
    "geo_model.surfaces"
   ]
  },
  {
   "cell_type": "code",
   "execution_count": 11,
   "metadata": {},
   "outputs": [],
   "source": [
    "dec_list =[]\n",
    "for e, i in enumerate(striplog_dict['alpha']):\n",
    "    dec_list.append(Decor({'_colour': geo_model.surfaces.df.loc[e, 'color'],\n",
    "  'width': None,\n",
    "  'component': i.primary,\n",
    "  'hatch': None}))"
   ]
  },
  {
   "cell_type": "code",
   "execution_count": null,
   "metadata": {},
   "outputs": [],
   "source": []
  },
  {
   "cell_type": "code",
   "execution_count": 12,
   "metadata": {},
   "outputs": [
    {
     "data": {
      "text/html": [
       "<table><tr><th>hatch</th><th>width</th><th>component</th><th>colour</th></tr><tr><td style=\"color:black; background-color:white\">None</td><td style=\"color:black; background-color:white\">None</td><td style=\"color:black; background-color:white\"><table><tr><td><strong>lith</strong></td><td>overburden</td></tr></table></td><td style=\"color:#ffffff; background-color:#015482\">#015482</td></tr><tr><td style=\"color:black; background-color:white\">None</td><td style=\"color:black; background-color:white\">None</td><td style=\"color:black; background-color:white\"><table><tr><td><strong>lith</strong></td><td>miguel</td></tr></table></td><td style=\"color:#ffffff; background-color:#9f0052\">#9f0052</td></tr><tr><td style=\"color:black; background-color:white\">None</td><td style=\"color:black; background-color:white\">None</td><td style=\"color:black; background-color:white\"><table><tr><td><strong>lith</strong></td><td>evan</td></tr></table></td><td style=\"color:#000000; background-color:#ffbe00\">#ffbe00</td></tr><tr><td style=\"color:black; background-color:white\">None</td><td style=\"color:black; background-color:white\">None</td><td style=\"color:black; background-color:white\"><table><tr><td><strong>lith</strong></td><td>brian</td></tr></table></td><td style=\"color:#ffffff; background-color:#728f02\">#728f02</td></tr><tr><td style=\"color:black; background-color:white\">None</td><td style=\"color:black; background-color:white\">None</td><td style=\"color:black; background-color:white\"><table><tr><td><strong>lith</strong></td><td>dieter</td></tr></table></td><td style=\"color:#ffffff; background-color:#443988\">#443988</td></tr></table>"
      ],
      "text/plain": [
       "Legend(Decor({'_colour': '#015482', 'width': None, 'component': Component({'lith': 'overburden'}), 'hatch': None})\n",
       "Decor({'_colour': '#9f0052', 'width': None, 'component': Component({'lith': 'miguel'}), 'hatch': None})\n",
       "Decor({'_colour': '#ffbe00', 'width': None, 'component': Component({'lith': 'evan'}), 'hatch': None})\n",
       "Decor({'_colour': '#728f02', 'width': None, 'component': Component({'lith': 'brian'}), 'hatch': None})\n",
       "Decor({'_colour': '#443988', 'width': None, 'component': Component({'lith': 'dieter'}), 'hatch': None}))"
      ]
     },
     "execution_count": 12,
     "metadata": {},
     "output_type": "execute_result"
    }
   ],
   "source": [
    "# welly plot with gempy colors\n",
    "# Create Decor list\n",
    "dec_list =[]\n",
    "for e, i in enumerate(striplog_dict['alpha']):\n",
    "    dec_list.append(Decor({'_colour': geo_model.surfaces.df.loc[e, 'color'],\n",
    "  'width': None,\n",
    "  'component': i.primary,\n",
    "  'hatch': None}))\n",
    "    \n",
    "# Create legend\n",
    "legend = Legend(dec_list)\n",
    "legend"
   ]
  },
  {
   "cell_type": "code",
   "execution_count": 13,
   "metadata": {},
   "outputs": [
    {
     "data": {
      "image/png": "[encoded data removed]",
      "text/plain": [
       "<Figure size 432x288 with 4 Axes>"
      ]
     },
     "metadata": {
      "needs_background": "light"
     },
     "output_type": "display_data"
    }
   ],
   "source": [
    "# Plot striplogs:\n",
    "# Plot striplog\n",
    "f, a = plt.subplots(ncols=4, sharey=True)\n",
    "\n",
    "for e, log in enumerate(striplog_dict.items()):\n",
    "    log[1].plot(ax=a[e], legend=legend)\n",
    "f.tight_layout()"
   ]
  },
  {
   "cell_type": "code",
   "execution_count": 14,
   "metadata": {},
   "outputs": [],
   "source": [
    "# Modifying the coordinates to make more sense\n",
    "geo_model.surface_points.df[['X', 'Y']] = geo_model.surface_points.df[['X', 'Y']] * 10 \n",
    "geo_model.surface_points.df['Z'] *= -1"
   ]
  },
  {
   "cell_type": "code",
   "execution_count": 15,
   "metadata": {},
   "outputs": [
    {
     "data": {
      "text/plain": [
       "True"
      ]
     },
     "execution_count": 15,
     "metadata": {},
     "output_type": "execute_result"
    }
   ],
   "source": [
    "# Delete points of the basement surface since we are intepolating bottoms (that surface wont exit).\n",
    "geo_model.delete_surface_points_basement()"
   ]
  },
  {
   "cell_type": "code",
   "execution_count": 16,
   "metadata": {},
   "outputs": [
    {
     "data": {
      "text/html": [
       "<table border=\"1\" class=\"dataframe\">\n",
       "  <thead>\n",
       "    <tr style=\"text-align: right;\">\n",
       "      <th></th>\n",
       "      <th>X</th>\n",
       "      <th>Y</th>\n",
       "      <th>Z</th>\n",
       "      <th>X_r</th>\n",
       "      <th>Y_r</th>\n",
       "      <th>Z_r</th>\n",
       "      <th>G_x</th>\n",
       "      <th>G_y</th>\n",
       "      <th>G_z</th>\n",
       "      <th>dip</th>\n",
       "      <th>azimuth</th>\n",
       "      <th>polarity</th>\n",
       "      <th>surface</th>\n",
       "      <th>series</th>\n",
       "      <th>id</th>\n",
       "      <th>order_series</th>\n",
       "      <th>smooth</th>\n",
       "    </tr>\n",
       "  </thead>\n",
       "  <tbody>\n",
       "    <tr>\n",
       "      <th>0</th>\n",
       "      <td>-500</td>\n",
       "      <td>0.00001</td>\n",
       "      <td>0.00001</td>\n",
       "      <td>-0.9999</td>\n",
       "      <td>0.3751</td>\n",
       "      <td>0.6626</td>\n",
       "      <td>0.0</td>\n",
       "      <td>0.0</td>\n",
       "      <td>1.0</td>\n",
       "      <td>0.0</td>\n",
       "      <td>0.0</td>\n",
       "      <td>1.0</td>\n",
       "      <td>overburden</td>\n",
       "      <td>Default series</td>\n",
       "      <td>1</td>\n",
       "      <td>1</td>\n",
       "      <td>0.01</td>\n",
       "    </tr>\n",
       "  </tbody>\n",
       "</table>"
      ],
      "text/plain": [
       "     X        Y        Z     X_r     Y_r     Z_r  G_x  G_y  G_z  dip  azimuth  polarity     surface          series  id  order_series  smooth\n",
       "0 -500  0.00001  0.00001 -0.9999  0.3751  0.6626  0.0  0.0  1.0  0.0      0.0       1.0  overburden  Default series   1             1    0.01"
      ]
     },
     "execution_count": 16,
     "metadata": {},
     "output_type": "execute_result"
    }
   ],
   "source": [
    "# Adding an arbitrary orientation. Remember gempy need an orientation per series\n",
    "geo_model.set_default_orientation()\n",
    "geo_model.modify_orientations(0, X=-500)"
   ]
  },
  {
   "cell_type": "code",
   "execution_count": 17,
   "metadata": {},
   "outputs": [
    {
     "data": {
      "text/plain": [
       "<gempy.plot.visualization_2d.PlotData2D at 0x7ff0a8de2278>"
      ]
     },
     "execution_count": 17,
     "metadata": {},
     "output_type": "execute_result"
    },
    {
     "data": {
      "image/png": "[encoded data removed]",
      "text/plain": [
       "<Figure size 960x360 with 1 Axes>"
      ]
     },
     "metadata": {},
     "output_type": "display_data"
    }
   ],
   "source": [
    "gp.plot.plot_data(geo_model)"
   ]
  },
  {
   "cell_type": "code",
   "execution_count": 18,
   "metadata": {},
   "outputs": [],
   "source": [
    "# vtk_obj = gp.plot.plot_3D(geo_model, silent=False)"
   ]
  },
  {
   "cell_type": "code",
   "execution_count": 19,
   "metadata": {},
   "outputs": [
    {
     "name": "stdout",
     "output_type": "stream",
     "text": [
      "Compiling theano function...\n",
      "Compilation Done!\n"
     ]
    },
    {
     "data": {
      "text/plain": [
       "<gempy.core.interpolator.InterpolatorModel at 0x7ff0c95edbe0>"
      ]
     },
     "execution_count": 19,
     "metadata": {},
     "output_type": "execute_result"
    }
   ],
   "source": [
    "gp.set_interpolation_data(geo_model)"
   ]
  },
  {
   "cell_type": "code",
   "execution_count": 20,
   "metadata": {},
   "outputs": [
    {
     "data": {
      "text/plain": [
       "\n",
       "Lithology ids \n",
       "  [5. 5. 5. ... 1. 1. 1.] "
      ]
     },
     "execution_count": 20,
     "metadata": {},
     "output_type": "execute_result"
    }
   ],
   "source": [
    "gp.compute_model(geo_model)"
   ]
  },
  {
   "cell_type": "code",
   "execution_count": 21,
   "metadata": {
    "scrolled": false
   },
   "outputs": [
    {
     "data": {
      "image/png": "[encoded data removed]",
      "text/plain": [
       "<Figure size 960x360 with 5 Axes>"
      ]
     },
     "metadata": {},
     "output_type": "display_data"
    }
   ],
   "source": [
    "# Plotting the interpolated model with the well logs below. Placing the wells in the same coordinate system need\n",
    "# quite a bit of love yet.\n",
    "\n",
    "p = gp.plot.plot_section(geo_model, 30,  show_data=True)\n",
    "axs = p.fig.axes[0]\n",
    "axis_to_data = axs.transAxes + axs.transData.inverted() \n",
    "data_to_axis = axis_to_data.inverted()\n",
    "\n",
    "for e, log in enumerate(striplog_dict.items()):\n",
    "    # X coordinates of heads, times 10 because we are rescaling all data. \n",
    "    X = (np.array(well_heads[log[0]]['kb_coords'])[[0]] * 10).astype('float')\n",
    "\n",
    "    # y scale we use the model  height but it is quite arbitrary\n",
    "    x, y, width, height = data_to_axis.transform((X[0], -230, 1, 1))\n",
    "    p.fig.add_axes([x, y,0.03, 0.5])\n",
    "    log[1].plot(ax=p.fig.axes[-1],width=10, legend=legend)\n",
    "\n",
    "\n",
    "\n"
   ]
  },
  {
   "cell_type": "code",
   "execution_count": 22,
   "metadata": {},
   "outputs": [],
   "source": [
    "# vp = gp.plot.plot_3D(geo_model)"
   ]
  },
  {
   "cell_type": "markdown",
   "metadata": {},
   "source": [
    "## Pinch out model\n",
    "----\n",
    "As we can see the 3D model generated above does not honor the forth well lets fix it. First lets add an unconformity: between the yellow and green layer:\n"
   ]
  },
  {
   "cell_type": "code",
   "execution_count": 23,
   "metadata": {},
   "outputs": [
    {
     "data": {
      "text/html": [
       "<table border=\"1\" class=\"dataframe\">\n",
       "  <thead>\n",
       "    <tr style=\"text-align: right;\">\n",
       "      <th></th>\n",
       "      <th>order_series</th>\n",
       "      <th>BottomRelation</th>\n",
       "    </tr>\n",
       "  </thead>\n",
       "  <tbody>\n",
       "    <tr>\n",
       "      <th>Default series</th>\n",
       "      <td>1</td>\n",
       "      <td>Erosion</td>\n",
       "    </tr>\n",
       "    <tr>\n",
       "      <th>Unconformity</th>\n",
       "      <td>2</td>\n",
       "      <td>Erosion</td>\n",
       "    </tr>\n",
       "  </tbody>\n",
       "</table>"
      ],
      "text/plain": [
       "                order_series BottomRelation\n",
       "Default series             1        Erosion\n",
       "Unconformity               2        Erosion"
      ]
     },
     "execution_count": 23,
     "metadata": {},
     "output_type": "execute_result"
    }
   ],
   "source": [
    "geo_model.add_series('Unconformity')"
   ]
  },
  {
   "cell_type": "markdown",
   "metadata": {},
   "source": [
    "Now we set the green layer in the second series"
   ]
  },
  {
   "cell_type": "code",
   "execution_count": 24,
   "metadata": {},
   "outputs": [
    {
     "data": {
      "text/html": [
       "<style  type=\"text/css\" >\n",
       "    #T_305a0dc2_a49d_11e9_9dae_a0cec8c80106row0_col4 {\n",
       "            background-color:  #015482;\n",
       "        }    #T_305a0dc2_a49d_11e9_9dae_a0cec8c80106row1_col4 {\n",
       "            background-color:  #9f0052;\n",
       "        }    #T_305a0dc2_a49d_11e9_9dae_a0cec8c80106row2_col4 {\n",
       "            background-color:  #ffbe00;\n",
       "        }    #T_305a0dc2_a49d_11e9_9dae_a0cec8c80106row3_col4 {\n",
       "            background-color:  #728f02;\n",
       "        }    #T_305a0dc2_a49d_11e9_9dae_a0cec8c80106row4_col4 {\n",
       "            background-color:  #443988;\n",
       "        }</style><table id=\"T_305a0dc2_a49d_11e9_9dae_a0cec8c80106\" ><thead>    <tr>        <th class=\"blank level0\" ></th>        <th class=\"col_heading level0 col0\" >surface</th>        <th class=\"col_heading level0 col1\" >series</th>        <th class=\"col_heading level0 col2\" >order_surfaces</th>        <th class=\"col_heading level0 col3\" >isBasement</th>        <th class=\"col_heading level0 col4\" >color</th>        <th class=\"col_heading level0 col5\" >id</th>    </tr></thead><tbody>\n",
       "                <tr>\n",
       "                        <th id=\"T_305a0dc2_a49d_11e9_9dae_a0cec8c80106level0_row0\" class=\"row_heading level0 row0\" >0</th>\n",
       "                        <td id=\"T_305a0dc2_a49d_11e9_9dae_a0cec8c80106row0_col0\" class=\"data row0 col0\" >overburden</td>\n",
       "                        <td id=\"T_305a0dc2_a49d_11e9_9dae_a0cec8c80106row0_col1\" class=\"data row0 col1\" >Default series</td>\n",
       "                        <td id=\"T_305a0dc2_a49d_11e9_9dae_a0cec8c80106row0_col2\" class=\"data row0 col2\" >1</td>\n",
       "                        <td id=\"T_305a0dc2_a49d_11e9_9dae_a0cec8c80106row0_col3\" class=\"data row0 col3\" >False</td>\n",
       "                        <td id=\"T_305a0dc2_a49d_11e9_9dae_a0cec8c80106row0_col4\" class=\"data row0 col4\" >#015482</td>\n",
       "                        <td id=\"T_305a0dc2_a49d_11e9_9dae_a0cec8c80106row0_col5\" class=\"data row0 col5\" >1</td>\n",
       "            </tr>\n",
       "            <tr>\n",
       "                        <th id=\"T_305a0dc2_a49d_11e9_9dae_a0cec8c80106level0_row1\" class=\"row_heading level0 row1\" >1</th>\n",
       "                        <td id=\"T_305a0dc2_a49d_11e9_9dae_a0cec8c80106row1_col0\" class=\"data row1 col0\" >miguel</td>\n",
       "                        <td id=\"T_305a0dc2_a49d_11e9_9dae_a0cec8c80106row1_col1\" class=\"data row1 col1\" >Default series</td>\n",
       "                        <td id=\"T_305a0dc2_a49d_11e9_9dae_a0cec8c80106row1_col2\" class=\"data row1 col2\" >2</td>\n",
       "                        <td id=\"T_305a0dc2_a49d_11e9_9dae_a0cec8c80106row1_col3\" class=\"data row1 col3\" >False</td>\n",
       "                        <td id=\"T_305a0dc2_a49d_11e9_9dae_a0cec8c80106row1_col4\" class=\"data row1 col4\" >#9f0052</td>\n",
       "                        <td id=\"T_305a0dc2_a49d_11e9_9dae_a0cec8c80106row1_col5\" class=\"data row1 col5\" >2</td>\n",
       "            </tr>\n",
       "            <tr>\n",
       "                        <th id=\"T_305a0dc2_a49d_11e9_9dae_a0cec8c80106level0_row2\" class=\"row_heading level0 row2\" >2</th>\n",
       "                        <td id=\"T_305a0dc2_a49d_11e9_9dae_a0cec8c80106row2_col0\" class=\"data row2 col0\" >evan</td>\n",
       "                        <td id=\"T_305a0dc2_a49d_11e9_9dae_a0cec8c80106row2_col1\" class=\"data row2 col1\" >Uncomformity</td>\n",
       "                        <td id=\"T_305a0dc2_a49d_11e9_9dae_a0cec8c80106row2_col2\" class=\"data row2 col2\" >1</td>\n",
       "                        <td id=\"T_305a0dc2_a49d_11e9_9dae_a0cec8c80106row2_col3\" class=\"data row2 col3\" >False</td>\n",
       "                        <td id=\"T_305a0dc2_a49d_11e9_9dae_a0cec8c80106row2_col4\" class=\"data row2 col4\" >#ffbe00</td>\n",
       "                        <td id=\"T_305a0dc2_a49d_11e9_9dae_a0cec8c80106row2_col5\" class=\"data row2 col5\" >3</td>\n",
       "            </tr>\n",
       "            <tr>\n",
       "                        <th id=\"T_305a0dc2_a49d_11e9_9dae_a0cec8c80106level0_row3\" class=\"row_heading level0 row3\" >3</th>\n",
       "                        <td id=\"T_305a0dc2_a49d_11e9_9dae_a0cec8c80106row3_col0\" class=\"data row3 col0\" >brian</td>\n",
       "                        <td id=\"T_305a0dc2_a49d_11e9_9dae_a0cec8c80106row3_col1\" class=\"data row3 col1\" >Uncomformity</td>\n",
       "                        <td id=\"T_305a0dc2_a49d_11e9_9dae_a0cec8c80106row3_col2\" class=\"data row3 col2\" >2</td>\n",
       "                        <td id=\"T_305a0dc2_a49d_11e9_9dae_a0cec8c80106row3_col3\" class=\"data row3 col3\" >False</td>\n",
       "                        <td id=\"T_305a0dc2_a49d_11e9_9dae_a0cec8c80106row3_col4\" class=\"data row3 col4\" >#728f02</td>\n",
       "                        <td id=\"T_305a0dc2_a49d_11e9_9dae_a0cec8c80106row3_col5\" class=\"data row3 col5\" >4</td>\n",
       "            </tr>\n",
       "            <tr>\n",
       "                        <th id=\"T_305a0dc2_a49d_11e9_9dae_a0cec8c80106level0_row4\" class=\"row_heading level0 row4\" >4</th>\n",
       "                        <td id=\"T_305a0dc2_a49d_11e9_9dae_a0cec8c80106row4_col0\" class=\"data row4 col0\" >dieter</td>\n",
       "                        <td id=\"T_305a0dc2_a49d_11e9_9dae_a0cec8c80106row4_col1\" class=\"data row4 col1\" >Uncomformity</td>\n",
       "                        <td id=\"T_305a0dc2_a49d_11e9_9dae_a0cec8c80106row4_col2\" class=\"data row4 col2\" >3</td>\n",
       "                        <td id=\"T_305a0dc2_a49d_11e9_9dae_a0cec8c80106row4_col3\" class=\"data row4 col3\" >True</td>\n",
       "                        <td id=\"T_305a0dc2_a49d_11e9_9dae_a0cec8c80106row4_col4\" class=\"data row4 col4\" >#443988</td>\n",
       "                        <td id=\"T_305a0dc2_a49d_11e9_9dae_a0cec8c80106row4_col5\" class=\"data row4 col5\" >5</td>\n",
       "            </tr>\n",
       "    </tbody></table>"
      ],
      "text/plain": [
       "      surface          series  order_surfaces  isBasement    color                                           vertices                                              edges  id\n",
       "0  overburden  Default series               1       False  #015482  [[-100.0, -100.0, -63.57046127319336], [-100.0...  [[2, 1, 0], [3, 1, 2], [3, 4, 1], [5, 4, 3], [...   1\n",
       "1      miguel  Default series               2       False  #9f0052  [[-100.0, -100.0, -79.41488265991211], [-100.0...  [[2, 1, 0], [3, 1, 2], [3, 4, 1], [5, 4, 3], [...   2\n",
       "2        evan    Uncomformity               1       False  #ffbe00  [[-100.0, -100.0, -90.76181411743164], [-100.0...  [[2, 1, 0], [3, 1, 2], [3, 4, 1], [5, 4, 3], [...   3\n",
       "3       brian    Uncomformity               2       False  #728f02  [[-100.0, -100.0, -102.78228282928467], [-100....  [[2, 1, 0], [3, 1, 2], [3, 4, 1], [5, 4, 3], [...   4\n",
       "4      dieter    Uncomformity               3        True  #443988                                                NaN                                                NaN   5"
      ]
     },
     "execution_count": 24,
     "metadata": {},
     "output_type": "execute_result"
    }
   ],
   "source": [
    "geo_model.map_series_to_surfaces({'Uncomformity':['brian', 'evan', 'dieter']})"
   ]
  },
  {
   "cell_type": "markdown",
   "metadata": {},
   "source": [
    "Lastly we need to add a dummy orientation to the new series:"
   ]
  },
  {
   "cell_type": "code",
   "execution_count": 25,
   "metadata": {},
   "outputs": [
    {
     "data": {
      "text/html": [
       "<table border=\"1\" class=\"dataframe\">\n",
       "  <thead>\n",
       "    <tr style=\"text-align: right;\">\n",
       "      <th></th>\n",
       "      <th>X</th>\n",
       "      <th>Y</th>\n",
       "      <th>Z</th>\n",
       "      <th>X_r</th>\n",
       "      <th>Y_r</th>\n",
       "      <th>Z_r</th>\n",
       "      <th>G_x</th>\n",
       "      <th>G_y</th>\n",
       "      <th>G_z</th>\n",
       "      <th>dip</th>\n",
       "      <th>azimuth</th>\n",
       "      <th>polarity</th>\n",
       "      <th>surface</th>\n",
       "      <th>series</th>\n",
       "      <th>id</th>\n",
       "      <th>order_series</th>\n",
       "      <th>smooth</th>\n",
       "    </tr>\n",
       "  </thead>\n",
       "  <tbody>\n",
       "    <tr>\n",
       "      <th>0</th>\n",
       "      <td>-500.0</td>\n",
       "      <td>0.00001</td>\n",
       "      <td>0.00001</td>\n",
       "      <td>0.2501</td>\n",
       "      <td>0.464386</td>\n",
       "      <td>0.546529</td>\n",
       "      <td>0.0</td>\n",
       "      <td>0.0</td>\n",
       "      <td>1.0</td>\n",
       "      <td>0.0</td>\n",
       "      <td>0.0</td>\n",
       "      <td>1.0</td>\n",
       "      <td>overburden</td>\n",
       "      <td>Default series</td>\n",
       "      <td>1.0</td>\n",
       "      <td>1.0</td>\n",
       "      <td>0.01</td>\n",
       "    </tr>\n",
       "    <tr>\n",
       "      <th>1</th>\n",
       "      <td>-500.0</td>\n",
       "      <td>0.00000</td>\n",
       "      <td>-100.00000</td>\n",
       "      <td>0.2501</td>\n",
       "      <td>0.464386</td>\n",
       "      <td>0.475100</td>\n",
       "      <td>0.0</td>\n",
       "      <td>0.0</td>\n",
       "      <td>1.0</td>\n",
       "      <td>0.0</td>\n",
       "      <td>0.0</td>\n",
       "      <td>1.0</td>\n",
       "      <td>dieter</td>\n",
       "      <td>Uncomformity</td>\n",
       "      <td>5.0</td>\n",
       "      <td>2.0</td>\n",
       "      <td>0.01</td>\n",
       "    </tr>\n",
       "  </tbody>\n",
       "</table>"
      ],
      "text/plain": [
       "       X        Y          Z     X_r       Y_r       Z_r  G_x  G_y  G_z  dip  azimuth  polarity     surface          series   id  order_series  smooth\n",
       "0 -500.0  0.00001    0.00001  0.2501  0.464386  0.546529  0.0  0.0  1.0  0.0      0.0       1.0  overburden  Default series  1.0           1.0    0.01\n",
       "1 -500.0  0.00000 -100.00000  0.2501  0.464386  0.475100  0.0  0.0  1.0  0.0      0.0       1.0      dieter    Uncomformity  5.0           2.0    0.01"
      ]
     },
     "execution_count": 25,
     "metadata": {},
     "output_type": "execute_result"
    }
   ],
   "source": [
    "geo_model.add_orientations(-500, 0, -100, 'dieter', [0, 0 , 1])"
   ]
  },
  {
   "cell_type": "code",
   "execution_count": 26,
   "metadata": {},
   "outputs": [
    {
     "data": {
      "text/plain": [
       "array([0.01, 0.01, 0.01, 0.01, 0.01, 0.01])"
      ]
     },
     "execution_count": 26,
     "metadata": {},
     "output_type": "execute_result"
    }
   ],
   "source": [
    "geo_model.interpolator.theano_graph.nugget_effect_grad_T.get_value()"
   ]
  },
  {
   "cell_type": "markdown",
   "metadata": {},
   "source": [
    "Now we can compute:"
   ]
  },
  {
   "cell_type": "code",
   "execution_count": 27,
   "metadata": {
    "scrolled": false
   },
   "outputs": [
    {
     "data": {
      "text/plain": [
       "\n",
       "Lithology ids \n",
       "  [5. 5. 5. ... 1. 1. 1.] "
      ]
     },
     "execution_count": 27,
     "metadata": {},
     "output_type": "execute_result"
    }
   ],
   "source": [
    "gp.compute_model(geo_model)"
   ]
  },
  {
   "cell_type": "code",
   "execution_count": 28,
   "metadata": {},
   "outputs": [
    {
     "data": {
      "image/png": "[encoded data removed]",
      "text/plain": [
       "<Figure size 960x360 with 5 Axes>"
      ]
     },
     "metadata": {},
     "output_type": "display_data"
    }
   ],
   "source": [
    "p = gp.plot.plot_section(geo_model, 30,  show_data=True)\n",
    "axs = p.fig.axes[0]\n",
    "axis_to_data = axs.transAxes + axs.transData.inverted() \n",
    "data_to_axis = axis_to_data.inverted()\n",
    "\n",
    "for e, log in enumerate(striplog_dict.items()):\n",
    "    # X coordinates of heads, times 10 because we are rescaling all data. \n",
    "    X = (np.array(well_heads[log[0]]['kb_coords'])[[0]] * 10).astype('float')\n",
    "\n",
    "    # y scale we use the model  height but it is quite arbitrary\n",
    "    x, y, width, height = data_to_axis.transform((X[0], -230, 1, 1))\n",
    "    p.fig.add_axes([x, y,0.03, 0.5])\n",
    "    log[1].plot(ax=p.fig.axes[-1],width=10, legend=legend)\n"
   ]
  },
  {
   "cell_type": "markdown",
   "metadata": {},
   "source": [
    "Getting better but not quite there yet. Since the yellow does not show up in the last well the pinch out has to happen somewhere before so lets add an artifial point to get that shape:"
   ]
  },
  {
   "cell_type": "code",
   "execution_count": 29,
   "metadata": {},
   "outputs": [],
   "source": [
    "geo_model.add_surface_points(200, 0, -75, 'evan');"
   ]
  },
  {
   "cell_type": "code",
   "execution_count": 30,
   "metadata": {},
   "outputs": [
    {
     "data": {
      "image/png": "[encoded data removed]",
      "text/plain": [
       "<Figure size 960x360 with 5 Axes>"
      ]
     },
     "metadata": {},
     "output_type": "display_data"
    }
   ],
   "source": [
    "gp.compute_model(geo_model)\n",
    "p = gp.plot.plot_section(geo_model, 30,  show_data=True)\n",
    "axs = p.fig.axes[0]\n",
    "axis_to_data = axs.transAxes + axs.transData.inverted() \n",
    "data_to_axis = axis_to_data.inverted()\n",
    "\n",
    "for e, log in enumerate(striplog_dict.items()):\n",
    "    # X coordinates of heads, times 10 because we are rescaling all data. \n",
    "    X = (np.array(well_heads[log[0]]['kb_coords'])[[0]] * 10).astype('float')\n",
    "\n",
    "    # y scale we use the model  height but it is quite arbitrary\n",
    "    x, y, width, height = data_to_axis.transform((X[0], -230, 1, 1))\n",
    "    p.fig.add_axes([x, y,0.03, 0.5])\n",
    "    log[1].plot(ax=p.fig.axes[-1],width=10, legend=legend)\n"
   ]
  },
  {
   "cell_type": "code",
   "execution_count": 31,
   "metadata": {},
   "outputs": [],
   "source": [
    "# gp.save_model(geo_model)"
   ]
  }
 ],
 "metadata": {
  "hide_input": false,
  "kernelspec": {
   "display_name": "Python 3",
   "language": "python",
   "name": "python3"
  },
  "language_info": {
   "codemirror_mode": {
    "name": "ipython",
    "version": 3
   },
   "file_extension": ".py",
   "mimetype": "text/x-python",
   "name": "python",
   "nbconvert_exporter": "python",
   "pygments_lexer": "ipython3",
   "version": "3.6.8"
  },
  "varInspector": {
   "cols": {
    "lenName": 16,
    "lenType": 16,
    "lenVar": 40
   },
   "kernels_config": {
    "python": {
     "delete_cmd_postfix": "",
     "delete_cmd_prefix": "del ",
     "library": "var_list.py",
     "varRefreshCmd": "print(var_dic_list())"
    },
    "r": {
     "delete_cmd_postfix": ") ",
     "delete_cmd_prefix": "rm(",
     "library": "var_list.r",
     "varRefreshCmd": "cat(var_dic_list()) "
    }
   },
   "types_to_exclude": [
    "module",
    "function",
    "builtin_function_or_method",
    "instance",
    "_Feature"
   ],
   "window_display": false
  }
 },
 "nbformat": 4,
 "nbformat_minor": 2
}
