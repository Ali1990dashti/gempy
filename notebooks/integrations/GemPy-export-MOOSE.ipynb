{
 "cells": [
  {
   "cell_type": "markdown",
   "metadata": {},
   "source": [
    "# Export a geological model from GemPy to use in MOOSE\n",
    "_implemented by [Jan Niederau](https://github.com/Japhiolite)_\n",
    "\n",
    "This is a small example notebook guiding you through the process of exporting a geological model generated in [GemPy](https://www.gempy.org/) (Tutorial Chapter 1-1 therein) so it is usable as a Mesh in the [MOOSE](https://mooseframework.org/) framework.  \n",
    "\n"
   ]
  },
  {
   "cell_type": "code",
   "execution_count": 33,
   "metadata": {},
   "outputs": [],
   "source": [
    "# These two lines are necessary only if GemPy is not installed \n",
    "import sys, os\n",
    "sys.path.append(\"../..\")\n",
    "\n",
    "import gempy as gp\n",
    "\n",
    "import matplotlib.pyplot as plt\n",
    "%matplotlib inline"
   ]
  },
  {
   "cell_type": "markdown",
   "metadata": {},
   "source": [
    "## Creating a geological model  \n",
    "\n",
    "The procedure of generating a geological model is presented in detail in [Chapter 1-1](https://nbviewer.jupyter.org/github/cgre-aachen/gempy/blob/master/notebooks/tutorials/ch1-1_Basics.ipynb) of the GemPy tutorials, so it will only be briefly presented here"
   ]
  },
  {
   "cell_type": "code",
   "execution_count": 5,
   "metadata": {},
   "outputs": [],
   "source": [
    "# Initiate a model\n",
    "geo_model = gp.create_model('tutorial_moose_exp')"
   ]
  },
  {
   "cell_type": "code",
   "execution_count": 11,
   "metadata": {},
   "outputs": [
    {
     "name": "stdout",
     "output_type": "stream",
     "text": [
      "Active grids: ['regular']\n"
     ]
    }
   ],
   "source": [
    "# Import data from CSV-files with setting the resolution and model extent\n",
    "gp.init_data(geo_model, [0,2000., 0,2000., 0,2000.], [50, 50, 80],\n",
    "            path_o = os.pardir+\"/data/input_data/tut_chapter1/simple_fault_model_orientations.csv\",\n",
    "            path_i = os.pardir+\"/data/input_data/tut_chapter1/simple_fault_model_points.csv\",\n",
    "            default_values = True);"
   ]
  },
  {
   "cell_type": "code",
   "execution_count": 12,
   "metadata": {},
   "outputs": [
    {
     "data": {
      "text/html": [
       "<style  type=\"text/css\" >\n",
       "    #T_ff52995a_bf5a_11e9_954e_f01898ee72bcrow0_col4 {\n",
       "            background-color:  #015482;\n",
       "        }    #T_ff52995a_bf5a_11e9_954e_f01898ee72bcrow1_col4 {\n",
       "            background-color:  #9f0052;\n",
       "        }    #T_ff52995a_bf5a_11e9_954e_f01898ee72bcrow2_col4 {\n",
       "            background-color:  #ffbe00;\n",
       "        }    #T_ff52995a_bf5a_11e9_954e_f01898ee72bcrow3_col4 {\n",
       "            background-color:  #728f02;\n",
       "        }    #T_ff52995a_bf5a_11e9_954e_f01898ee72bcrow4_col4 {\n",
       "            background-color:  #443988;\n",
       "        }    #T_ff52995a_bf5a_11e9_954e_f01898ee72bcrow5_col4 {\n",
       "            background-color:  #ff3f20;\n",
       "        }</style><table id=\"T_ff52995a_bf5a_11e9_954e_f01898ee72bc\" ><thead>    <tr>        <th class=\"blank level0\" ></th>        <th class=\"col_heading level0 col0\" >surface</th>        <th class=\"col_heading level0 col1\" >series</th>        <th class=\"col_heading level0 col2\" >order_surfaces</th>        <th class=\"col_heading level0 col3\" >isBasement</th>        <th class=\"col_heading level0 col4\" >color</th>        <th class=\"col_heading level0 col5\" >id</th>    </tr></thead><tbody>\n",
       "                <tr>\n",
       "                        <th id=\"T_ff52995a_bf5a_11e9_954e_f01898ee72bclevel0_row0\" class=\"row_heading level0 row0\" >0</th>\n",
       "                        <td id=\"T_ff52995a_bf5a_11e9_954e_f01898ee72bcrow0_col0\" class=\"data row0 col0\" >Shale</td>\n",
       "                        <td id=\"T_ff52995a_bf5a_11e9_954e_f01898ee72bcrow0_col1\" class=\"data row0 col1\" >Default series</td>\n",
       "                        <td id=\"T_ff52995a_bf5a_11e9_954e_f01898ee72bcrow0_col2\" class=\"data row0 col2\" >1</td>\n",
       "                        <td id=\"T_ff52995a_bf5a_11e9_954e_f01898ee72bcrow0_col3\" class=\"data row0 col3\" >False</td>\n",
       "                        <td id=\"T_ff52995a_bf5a_11e9_954e_f01898ee72bcrow0_col4\" class=\"data row0 col4\" >#015482</td>\n",
       "                        <td id=\"T_ff52995a_bf5a_11e9_954e_f01898ee72bcrow0_col5\" class=\"data row0 col5\" >1</td>\n",
       "            </tr>\n",
       "            <tr>\n",
       "                        <th id=\"T_ff52995a_bf5a_11e9_954e_f01898ee72bclevel0_row1\" class=\"row_heading level0 row1\" >1</th>\n",
       "                        <td id=\"T_ff52995a_bf5a_11e9_954e_f01898ee72bcrow1_col0\" class=\"data row1 col0\" >Sandstone_1</td>\n",
       "                        <td id=\"T_ff52995a_bf5a_11e9_954e_f01898ee72bcrow1_col1\" class=\"data row1 col1\" >Default series</td>\n",
       "                        <td id=\"T_ff52995a_bf5a_11e9_954e_f01898ee72bcrow1_col2\" class=\"data row1 col2\" >2</td>\n",
       "                        <td id=\"T_ff52995a_bf5a_11e9_954e_f01898ee72bcrow1_col3\" class=\"data row1 col3\" >False</td>\n",
       "                        <td id=\"T_ff52995a_bf5a_11e9_954e_f01898ee72bcrow1_col4\" class=\"data row1 col4\" >#9f0052</td>\n",
       "                        <td id=\"T_ff52995a_bf5a_11e9_954e_f01898ee72bcrow1_col5\" class=\"data row1 col5\" >2</td>\n",
       "            </tr>\n",
       "            <tr>\n",
       "                        <th id=\"T_ff52995a_bf5a_11e9_954e_f01898ee72bclevel0_row2\" class=\"row_heading level0 row2\" >2</th>\n",
       "                        <td id=\"T_ff52995a_bf5a_11e9_954e_f01898ee72bcrow2_col0\" class=\"data row2 col0\" >Siltstone</td>\n",
       "                        <td id=\"T_ff52995a_bf5a_11e9_954e_f01898ee72bcrow2_col1\" class=\"data row2 col1\" >Default series</td>\n",
       "                        <td id=\"T_ff52995a_bf5a_11e9_954e_f01898ee72bcrow2_col2\" class=\"data row2 col2\" >3</td>\n",
       "                        <td id=\"T_ff52995a_bf5a_11e9_954e_f01898ee72bcrow2_col3\" class=\"data row2 col3\" >False</td>\n",
       "                        <td id=\"T_ff52995a_bf5a_11e9_954e_f01898ee72bcrow2_col4\" class=\"data row2 col4\" >#ffbe00</td>\n",
       "                        <td id=\"T_ff52995a_bf5a_11e9_954e_f01898ee72bcrow2_col5\" class=\"data row2 col5\" >3</td>\n",
       "            </tr>\n",
       "            <tr>\n",
       "                        <th id=\"T_ff52995a_bf5a_11e9_954e_f01898ee72bclevel0_row3\" class=\"row_heading level0 row3\" >3</th>\n",
       "                        <td id=\"T_ff52995a_bf5a_11e9_954e_f01898ee72bcrow3_col0\" class=\"data row3 col0\" >Sandstone_2</td>\n",
       "                        <td id=\"T_ff52995a_bf5a_11e9_954e_f01898ee72bcrow3_col1\" class=\"data row3 col1\" >Default series</td>\n",
       "                        <td id=\"T_ff52995a_bf5a_11e9_954e_f01898ee72bcrow3_col2\" class=\"data row3 col2\" >4</td>\n",
       "                        <td id=\"T_ff52995a_bf5a_11e9_954e_f01898ee72bcrow3_col3\" class=\"data row3 col3\" >False</td>\n",
       "                        <td id=\"T_ff52995a_bf5a_11e9_954e_f01898ee72bcrow3_col4\" class=\"data row3 col4\" >#728f02</td>\n",
       "                        <td id=\"T_ff52995a_bf5a_11e9_954e_f01898ee72bcrow3_col5\" class=\"data row3 col5\" >4</td>\n",
       "            </tr>\n",
       "            <tr>\n",
       "                        <th id=\"T_ff52995a_bf5a_11e9_954e_f01898ee72bclevel0_row4\" class=\"row_heading level0 row4\" >4</th>\n",
       "                        <td id=\"T_ff52995a_bf5a_11e9_954e_f01898ee72bcrow4_col0\" class=\"data row4 col0\" >Main_Fault</td>\n",
       "                        <td id=\"T_ff52995a_bf5a_11e9_954e_f01898ee72bcrow4_col1\" class=\"data row4 col1\" >Default series</td>\n",
       "                        <td id=\"T_ff52995a_bf5a_11e9_954e_f01898ee72bcrow4_col2\" class=\"data row4 col2\" >5</td>\n",
       "                        <td id=\"T_ff52995a_bf5a_11e9_954e_f01898ee72bcrow4_col3\" class=\"data row4 col3\" >False</td>\n",
       "                        <td id=\"T_ff52995a_bf5a_11e9_954e_f01898ee72bcrow4_col4\" class=\"data row4 col4\" >#443988</td>\n",
       "                        <td id=\"T_ff52995a_bf5a_11e9_954e_f01898ee72bcrow4_col5\" class=\"data row4 col5\" >5</td>\n",
       "            </tr>\n",
       "            <tr>\n",
       "                        <th id=\"T_ff52995a_bf5a_11e9_954e_f01898ee72bclevel0_row5\" class=\"row_heading level0 row5\" >5</th>\n",
       "                        <td id=\"T_ff52995a_bf5a_11e9_954e_f01898ee72bcrow5_col0\" class=\"data row5 col0\" >basement</td>\n",
       "                        <td id=\"T_ff52995a_bf5a_11e9_954e_f01898ee72bcrow5_col1\" class=\"data row5 col1\" >Basement</td>\n",
       "                        <td id=\"T_ff52995a_bf5a_11e9_954e_f01898ee72bcrow5_col2\" class=\"data row5 col2\" >1</td>\n",
       "                        <td id=\"T_ff52995a_bf5a_11e9_954e_f01898ee72bcrow5_col3\" class=\"data row5 col3\" >True</td>\n",
       "                        <td id=\"T_ff52995a_bf5a_11e9_954e_f01898ee72bcrow5_col4\" class=\"data row5 col4\" >#ff3f20</td>\n",
       "                        <td id=\"T_ff52995a_bf5a_11e9_954e_f01898ee72bcrow5_col5\" class=\"data row5 col5\" >6</td>\n",
       "            </tr>\n",
       "    </tbody></table>"
      ],
      "text/plain": [
       "       surface          series  order_surfaces  isBasement    color vertices edges  id\n",
       "0        Shale  Default series               1       False  #015482      NaN   NaN   1\n",
       "1  Sandstone_1  Default series               2       False  #9f0052      NaN   NaN   2\n",
       "2    Siltstone  Default series               3       False  #ffbe00      NaN   NaN   3\n",
       "3  Sandstone_2  Default series               4       False  #728f02      NaN   NaN   4\n",
       "4   Main_Fault  Default series               5       False  #443988      NaN   NaN   5\n",
       "5     basement        Basement               1        True  #ff3f20      NaN   NaN   6"
      ]
     },
     "execution_count": 12,
     "metadata": {},
     "output_type": "execute_result"
    }
   ],
   "source": [
    "# present the units and series\n",
    "geo_model.surfaces"
   ]
  },
  {
   "cell_type": "code",
   "execution_count": 16,
   "metadata": {},
   "outputs": [
    {
     "data": {
      "text/html": [
       "<table border=\"1\" class=\"dataframe\">\n",
       "  <thead>\n",
       "    <tr style=\"text-align: right;\">\n",
       "      <th></th>\n",
       "      <th>isFault</th>\n",
       "      <th>isFinite</th>\n",
       "    </tr>\n",
       "  </thead>\n",
       "  <tbody>\n",
       "    <tr>\n",
       "      <th>Fault_Series</th>\n",
       "      <td>True</td>\n",
       "      <td>False</td>\n",
       "    </tr>\n",
       "    <tr>\n",
       "      <th>Strat_Series</th>\n",
       "      <td>False</td>\n",
       "      <td>False</td>\n",
       "    </tr>\n",
       "  </tbody>\n",
       "</table>"
      ],
      "text/plain": [
       "              isFault  isFinite\n",
       "Fault_Series     True     False\n",
       "Strat_Series    False     False"
      ]
     },
     "execution_count": 16,
     "metadata": {},
     "output_type": "execute_result"
    }
   ],
   "source": [
    "# combine units in series and make two series, as the fault needs its own\n",
    "gp.map_series_to_surfaces(geo_model,\n",
    "                         {\"Fault_Series\" : 'Main_Fault',\n",
    "                          \"Strat_Series\" : ('Sandstone_2', 'Siltstone', 'Shale', 'Sandstone_1', 'basement')},\n",
    "                         remove_unused_series=True);\n",
    "\n",
    "# set the fault series to be fault object\n",
    "geo_model.set_is_fault(['Fault_Series'], change_color=False)"
   ]
  },
  {
   "cell_type": "code",
   "execution_count": 17,
   "metadata": {},
   "outputs": [
    {
     "data": {
      "text/html": [
       "<style  type=\"text/css\" >\n",
       "    #T_6e9a8162_bf5b_11e9_bb37_f01898ee72bcrow0_col4 {\n",
       "            background-color:  #443988;\n",
       "        }    #T_6e9a8162_bf5b_11e9_bb37_f01898ee72bcrow1_col4 {\n",
       "            background-color:  #015482;\n",
       "        }    #T_6e9a8162_bf5b_11e9_bb37_f01898ee72bcrow2_col4 {\n",
       "            background-color:  #9f0052;\n",
       "        }    #T_6e9a8162_bf5b_11e9_bb37_f01898ee72bcrow3_col4 {\n",
       "            background-color:  #ffbe00;\n",
       "        }    #T_6e9a8162_bf5b_11e9_bb37_f01898ee72bcrow4_col4 {\n",
       "            background-color:  #728f02;\n",
       "        }    #T_6e9a8162_bf5b_11e9_bb37_f01898ee72bcrow5_col4 {\n",
       "            background-color:  #ff3f20;\n",
       "        }</style><table id=\"T_6e9a8162_bf5b_11e9_bb37_f01898ee72bc\" ><thead>    <tr>        <th class=\"blank level0\" ></th>        <th class=\"col_heading level0 col0\" >surface</th>        <th class=\"col_heading level0 col1\" >series</th>        <th class=\"col_heading level0 col2\" >order_surfaces</th>        <th class=\"col_heading level0 col3\" >isBasement</th>        <th class=\"col_heading level0 col4\" >color</th>        <th class=\"col_heading level0 col5\" >id</th>    </tr></thead><tbody>\n",
       "                <tr>\n",
       "                        <th id=\"T_6e9a8162_bf5b_11e9_bb37_f01898ee72bclevel0_row0\" class=\"row_heading level0 row0\" >4</th>\n",
       "                        <td id=\"T_6e9a8162_bf5b_11e9_bb37_f01898ee72bcrow0_col0\" class=\"data row0 col0\" >Main_Fault</td>\n",
       "                        <td id=\"T_6e9a8162_bf5b_11e9_bb37_f01898ee72bcrow0_col1\" class=\"data row0 col1\" >Fault_Series</td>\n",
       "                        <td id=\"T_6e9a8162_bf5b_11e9_bb37_f01898ee72bcrow0_col2\" class=\"data row0 col2\" >1</td>\n",
       "                        <td id=\"T_6e9a8162_bf5b_11e9_bb37_f01898ee72bcrow0_col3\" class=\"data row0 col3\" >False</td>\n",
       "                        <td id=\"T_6e9a8162_bf5b_11e9_bb37_f01898ee72bcrow0_col4\" class=\"data row0 col4\" >#443988</td>\n",
       "                        <td id=\"T_6e9a8162_bf5b_11e9_bb37_f01898ee72bcrow0_col5\" class=\"data row0 col5\" >1</td>\n",
       "            </tr>\n",
       "            <tr>\n",
       "                        <th id=\"T_6e9a8162_bf5b_11e9_bb37_f01898ee72bclevel0_row1\" class=\"row_heading level0 row1\" >0</th>\n",
       "                        <td id=\"T_6e9a8162_bf5b_11e9_bb37_f01898ee72bcrow1_col0\" class=\"data row1 col0\" >Shale</td>\n",
       "                        <td id=\"T_6e9a8162_bf5b_11e9_bb37_f01898ee72bcrow1_col1\" class=\"data row1 col1\" >Strat_Series</td>\n",
       "                        <td id=\"T_6e9a8162_bf5b_11e9_bb37_f01898ee72bcrow1_col2\" class=\"data row1 col2\" >1</td>\n",
       "                        <td id=\"T_6e9a8162_bf5b_11e9_bb37_f01898ee72bcrow1_col3\" class=\"data row1 col3\" >False</td>\n",
       "                        <td id=\"T_6e9a8162_bf5b_11e9_bb37_f01898ee72bcrow1_col4\" class=\"data row1 col4\" >#015482</td>\n",
       "                        <td id=\"T_6e9a8162_bf5b_11e9_bb37_f01898ee72bcrow1_col5\" class=\"data row1 col5\" >2</td>\n",
       "            </tr>\n",
       "            <tr>\n",
       "                        <th id=\"T_6e9a8162_bf5b_11e9_bb37_f01898ee72bclevel0_row2\" class=\"row_heading level0 row2\" >1</th>\n",
       "                        <td id=\"T_6e9a8162_bf5b_11e9_bb37_f01898ee72bcrow2_col0\" class=\"data row2 col0\" >Sandstone_1</td>\n",
       "                        <td id=\"T_6e9a8162_bf5b_11e9_bb37_f01898ee72bcrow2_col1\" class=\"data row2 col1\" >Strat_Series</td>\n",
       "                        <td id=\"T_6e9a8162_bf5b_11e9_bb37_f01898ee72bcrow2_col2\" class=\"data row2 col2\" >2</td>\n",
       "                        <td id=\"T_6e9a8162_bf5b_11e9_bb37_f01898ee72bcrow2_col3\" class=\"data row2 col3\" >False</td>\n",
       "                        <td id=\"T_6e9a8162_bf5b_11e9_bb37_f01898ee72bcrow2_col4\" class=\"data row2 col4\" >#9f0052</td>\n",
       "                        <td id=\"T_6e9a8162_bf5b_11e9_bb37_f01898ee72bcrow2_col5\" class=\"data row2 col5\" >3</td>\n",
       "            </tr>\n",
       "            <tr>\n",
       "                        <th id=\"T_6e9a8162_bf5b_11e9_bb37_f01898ee72bclevel0_row3\" class=\"row_heading level0 row3\" >2</th>\n",
       "                        <td id=\"T_6e9a8162_bf5b_11e9_bb37_f01898ee72bcrow3_col0\" class=\"data row3 col0\" >Siltstone</td>\n",
       "                        <td id=\"T_6e9a8162_bf5b_11e9_bb37_f01898ee72bcrow3_col1\" class=\"data row3 col1\" >Strat_Series</td>\n",
       "                        <td id=\"T_6e9a8162_bf5b_11e9_bb37_f01898ee72bcrow3_col2\" class=\"data row3 col2\" >3</td>\n",
       "                        <td id=\"T_6e9a8162_bf5b_11e9_bb37_f01898ee72bcrow3_col3\" class=\"data row3 col3\" >False</td>\n",
       "                        <td id=\"T_6e9a8162_bf5b_11e9_bb37_f01898ee72bcrow3_col4\" class=\"data row3 col4\" >#ffbe00</td>\n",
       "                        <td id=\"T_6e9a8162_bf5b_11e9_bb37_f01898ee72bcrow3_col5\" class=\"data row3 col5\" >4</td>\n",
       "            </tr>\n",
       "            <tr>\n",
       "                        <th id=\"T_6e9a8162_bf5b_11e9_bb37_f01898ee72bclevel0_row4\" class=\"row_heading level0 row4\" >3</th>\n",
       "                        <td id=\"T_6e9a8162_bf5b_11e9_bb37_f01898ee72bcrow4_col0\" class=\"data row4 col0\" >Sandstone_2</td>\n",
       "                        <td id=\"T_6e9a8162_bf5b_11e9_bb37_f01898ee72bcrow4_col1\" class=\"data row4 col1\" >Strat_Series</td>\n",
       "                        <td id=\"T_6e9a8162_bf5b_11e9_bb37_f01898ee72bcrow4_col2\" class=\"data row4 col2\" >4</td>\n",
       "                        <td id=\"T_6e9a8162_bf5b_11e9_bb37_f01898ee72bcrow4_col3\" class=\"data row4 col3\" >False</td>\n",
       "                        <td id=\"T_6e9a8162_bf5b_11e9_bb37_f01898ee72bcrow4_col4\" class=\"data row4 col4\" >#728f02</td>\n",
       "                        <td id=\"T_6e9a8162_bf5b_11e9_bb37_f01898ee72bcrow4_col5\" class=\"data row4 col5\" >5</td>\n",
       "            </tr>\n",
       "            <tr>\n",
       "                        <th id=\"T_6e9a8162_bf5b_11e9_bb37_f01898ee72bclevel0_row5\" class=\"row_heading level0 row5\" >5</th>\n",
       "                        <td id=\"T_6e9a8162_bf5b_11e9_bb37_f01898ee72bcrow5_col0\" class=\"data row5 col0\" >basement</td>\n",
       "                        <td id=\"T_6e9a8162_bf5b_11e9_bb37_f01898ee72bcrow5_col1\" class=\"data row5 col1\" >Strat_Series</td>\n",
       "                        <td id=\"T_6e9a8162_bf5b_11e9_bb37_f01898ee72bcrow5_col2\" class=\"data row5 col2\" >5</td>\n",
       "                        <td id=\"T_6e9a8162_bf5b_11e9_bb37_f01898ee72bcrow5_col3\" class=\"data row5 col3\" >True</td>\n",
       "                        <td id=\"T_6e9a8162_bf5b_11e9_bb37_f01898ee72bcrow5_col4\" class=\"data row5 col4\" >#ff3f20</td>\n",
       "                        <td id=\"T_6e9a8162_bf5b_11e9_bb37_f01898ee72bcrow5_col5\" class=\"data row5 col5\" >6</td>\n",
       "            </tr>\n",
       "    </tbody></table>"
      ],
      "text/plain": [
       "       surface        series  order_surfaces  isBasement    color vertices edges  id\n",
       "4   Main_Fault  Fault_Series               1       False  #443988      NaN   NaN   1\n",
       "0        Shale  Strat_Series               1       False  #015482      NaN   NaN   2\n",
       "1  Sandstone_1  Strat_Series               2       False  #9f0052      NaN   NaN   3\n",
       "2    Siltstone  Strat_Series               3       False  #ffbe00      NaN   NaN   4\n",
       "3  Sandstone_2  Strat_Series               4       False  #728f02      NaN   NaN   5\n",
       "5     basement  Strat_Series               5        True  #ff3f20      NaN   NaN   6"
      ]
     },
     "execution_count": 17,
     "metadata": {},
     "output_type": "execute_result"
    }
   ],
   "source": [
    "# check whether series were assigned correctly\n",
    "geo_model.surfaces"
   ]
  },
  {
   "cell_type": "markdown",
   "metadata": {},
   "source": [
    "## Model generation\n",
    "After loading in the data, we set it up for interpolation and compute the model."
   ]
  },
  {
   "cell_type": "code",
   "execution_count": 18,
   "metadata": {},
   "outputs": [
    {
     "name": "stdout",
     "output_type": "stream",
     "text": [
      "Compiling theano function...\n",
      "Compilation Done!\n"
     ]
    },
    {
     "data": {
      "text/plain": [
       "<gempy.core.interpolator.InterpolatorModel at 0x7f81e8be3eb8>"
      ]
     },
     "execution_count": 18,
     "metadata": {},
     "output_type": "execute_result"
    }
   ],
   "source": [
    "# set up interpolator\n",
    "gp.set_interpolation_data(geo_model,\n",
    "                          compile_theano=True, \n",
    "                          theano_optimizer='fast_compile',\n",
    "                          verbose=[])"
   ]
  },
  {
   "cell_type": "code",
   "execution_count": 20,
   "metadata": {},
   "outputs": [],
   "source": [
    "# compute the model\n",
    "gp.compute_model(geo_model, compute_mesh=False);"
   ]
  },
  {
   "cell_type": "code",
   "execution_count": 32,
   "metadata": {},
   "outputs": [
    {
     "data": {
      "text/plain": [
       "<gempy.plot.visualization_2d.PlotData2D at 0x7f8150156f98>"
      ]
     },
     "execution_count": 32,
     "metadata": {},
     "output_type": "execute_result"
    },
    {
     "data": {
      "image/png": "[encoded data removed]",
      "text/plain": [
       "<Figure size 360x360 with 1 Axes>"
      ]
     },
     "metadata": {},
     "output_type": "display_data"
    }
   ],
   "source": [
    "# have a look at the data and computed model\n",
    "gp.plot.plot_data(geo_model, direction='y')"
   ]
  },
  {
   "cell_type": "code",
   "execution_count": 30,
   "metadata": {},
   "outputs": [
    {
     "data": {
      "text/plain": [
       "<gempy.plot.visualization_2d.PlotData2D at 0x7f81581439b0>"
      ]
     },
     "execution_count": 30,
     "metadata": {},
     "output_type": "execute_result"
    },
    {
     "data": {
      "image/png": "[encoded data removed]",
      "text/plain": [
       "<Figure size 748.8x514.8 with 1 Axes>"
      ]
     },
     "metadata": {},
     "output_type": "display_data"
    }
   ],
   "source": [
    "gp.plot.plot_section(geo_model, cell_number=24, direction='y',\n",
    "                     show_data=False, show_legend=True)"
   ]
  },
  {
   "cell_type": "markdown",
   "metadata": {},
   "source": [
    "## Exporting the Model to MOOSE  \n",
    "The voxel-model above already is the same as a model discretized in a hexahedral grid, so my immediately be used as input in a simulation tool, e.g. [MOOSE](https://mooseframework.org/). For this, we need to access to the unit IDs assigned to each voxel in GemPy. The array containing these IDs is called `lith_block`. "
   ]
  },
  {
   "cell_type": "code",
   "execution_count": 34,
   "metadata": {},
   "outputs": [
    {
     "name": "stdout",
     "output_type": "stream",
     "text": [
      "[6. 6. 6. ... 2. 2. 2.]\n"
     ]
    }
   ],
   "source": [
    "ids = geo_model.solutions.lith_block\n",
    "print(ids)"
   ]
  },
  {
   "cell_type": "markdown",
   "metadata": {},
   "source": [
    "This array has the shape of `(x,)` and would be immediately useful, if GemPy and the chosen simulation code would _populate_ a grid in the same way. Of course, however, that is not the case. This is why we have to restructure the `lith_block` array, so it can be read correctly by MOOSE."
   ]
  },
  {
   "cell_type": "code",
   "execution_count": 39,
   "metadata": {},
   "outputs": [],
   "source": [
    "# model resolution\n",
    "nx, ny, nz = geo_model.grid.regular_grid.resolution\n",
    "\n",
    "# model extent\n",
    "xmin, xmax, ymin, ymax, zmin, zmax = geo_model.grid.regular_grid.extent"
   ]
  },
  {
   "cell_type": "markdown",
   "metadata": {},
   "source": [
    "These two parameters are important to, a) restructure `lith_block`, and b) write the input file for MOOSE correctly. \n",
    "For a), we need to reshape `lith_block` again to its three dimensions and _re-flatten_ it in a _MOOSE-conform_ way."
   ]
  },
  {
   "cell_type": "code",
   "execution_count": 40,
   "metadata": {},
   "outputs": [],
   "source": [
    "# reshape to 3D array\n",
    "units = ids.reshape((nx, ny, nz))\n",
    "# flatten MOOSE conform\n",
    "units = units.flatten('F')"
   ]
  },
  {
   "cell_type": "markdown",
   "metadata": {},
   "source": [
    "The importance of `nx, ny, nz` is apparent from the cell above. But what about `xmin`, ..., `zmax`?  \n",
    "A MOOSE input-file for mesh generation has the following syntax:  \n",
    "\n",
    "```python\n",
    "[MeshGenerators]\n",
    "  [./gmg]\n",
    "    type = GeneratedMeshGenerator\n",
    "    dim = 3\n",
    "    nx = 50\n",
    "    ny = 50\n",
    "    nz = 80\n",
    "    xmin = 0.0\n",
    "    xmax = 2000.0\n",
    "    yim = 0.0\n",
    "    ymax = 2000.0\n",
    "    zmin = 0.0\n",
    "    zmax = 2000.0\n",
    "    block_id = '1 2 3 4 5 6'\n",
    "    block_name = 'Main_Fault Sandstone_2 Siltstone Shale Sandstone_1 basement'\n",
    "  [../]\n",
    "\n",
    "  [./subdomains]\n",
    "    type = ElementSubdomainIDGenerator\n",
    "    input = gmg\n",
    "    subdomain_ids = ' ' # here you paste the transformed lith_block vector\n",
    "  [../]\n",
    "[]\n",
    "\n",
    "[Mesh]\n",
    "  type = MeshGeneratorMesh\n",
    "[]\n",
    "```\n",
    "\n",
    "So these parameters are required inputs in the `[MeshGenerators]` object in the MOOSE input file. `GemPy` has a method to directly create such an input file, stored in `gempy.utils.export.py`.  \n",
    "\n",
    "The following cell shows how to call the method:"
   ]
  },
  {
   "cell_type": "code",
   "execution_count": 42,
   "metadata": {},
   "outputs": [
    {
     "name": "stdout",
     "output_type": "stream",
     "text": [
      "Successfully exported geological model as moose input to ./\n"
     ]
    }
   ],
   "source": [
    "import gempy.utils.export as export\n",
    "export.export_moose_input(geo_model, path='')"
   ]
  },
  {
   "cell_type": "markdown",
   "metadata": {},
   "source": [
    "This method automatically stores a file `geo_model_units_moose_input.i` at the specified path. Either this input file could be extended with parameters to directly run a simulation, or it is used just for creating a mesh. In the latter case, the next step would be, to run the compiled MOOSE executable witch the optional flag `--mesh-only`.  \n",
    "\n",
    "E.g. with using the [PorousFlow module](https://mooseframework.inl.gov/modules/porous_flow/):\n",
    "\n",
    "```bash\n",
    "$path_to_moose/moose/modules/porous_flow/porous_flow-opt -i pct_voxel_mesh.i --mesh-only\n",
    "```\n",
    "\n",
    "How to compile MOOSE is described in their [documentation](https://mooseframework.inl.gov/getting_started/index.html). \n",
    "\n",
    "The now generated mesh with the name `geo_model_units_moose_input_in.e` can be used as input for another MOOSE input file, which contains the main simulation parameters. To call the file with the grid, the following part has to be added in the MOOSE simulation input file:  \n",
    "\n",
    "```python\n",
    "[Mesh]\n",
    "  file = geo_model_units_moose_input_in.e\n",
    "[]\n",
    "```\n",
    "\n",
    "<hr>\n",
    "\n",
    "The final output of the simulation may also be such an `.e`, which can, for instance, be opened with [paraview](https://www.paraview.org/). A simulated temperature field (purely conductive) of the created model would look like this:  \n",
    "\n",
    "![gempy_temperature](https://raw.githubusercontent.com/Japhiolite/a-Moose-and-you/master/imgs/GemPy_model_combined.png)"
   ]
  }
 ],
 "metadata": {
  "hide_input": false,
  "kernelspec": {
   "display_name": "Python 3",
   "language": "python",
   "name": "python3"
  },
  "language_info": {
   "codemirror_mode": {
    "name": "ipython",
    "version": 3
   },
   "file_extension": ".py",
   "mimetype": "text/x-python",
   "name": "python",
   "nbconvert_exporter": "python",
   "pygments_lexer": "ipython3",
   "version": "3.6.8"
  },
  "varInspector": {
   "cols": {
    "lenName": 16,
    "lenType": 16,
    "lenVar": 40
   },
   "kernels_config": {
    "python": {
     "delete_cmd_postfix": "",
     "delete_cmd_prefix": "del ",
     "library": "var_list.py",
     "varRefreshCmd": "print(var_dic_list())"
    },
    "r": {
     "delete_cmd_postfix": ") ",
     "delete_cmd_prefix": "rm(",
     "library": "var_list.r",
     "varRefreshCmd": "cat(var_dic_list()) "
    }
   },
   "types_to_exclude": [
    "module",
    "function",
    "builtin_function_or_method",
    "instance",
    "_Feature"
   ],
   "window_display": false
  }
 },
 "nbformat": 4,
 "nbformat_minor": 2
}
