{
 "cells": [
  {
   "cell_type": "code",
   "execution_count": 1,
   "metadata": {},
   "outputs": [
    {
     "name": "stdout",
     "output_type": "stream",
     "text": [
      "Devito is not working\n"
     ]
    },
    {
     "name": "stderr",
     "output_type": "stream",
     "text": [
      "/home/bl9/gempy/gempy/plotting/visualization.py:36: UserWarning: Steno 3D package is not installed. No 3D online visualization available.\n",
      "  warnings.warn('Steno 3D package is not installed. No 3D online visualization available.')\n"
     ]
    },
    {
     "name": "stdout",
     "output_type": "stream",
     "text": [
      "Freenect is not installed. Sandbox wont work. Good luck\n"
     ]
    }
   ],
   "source": [
    "import os\n",
    "import cv2\n",
    "import imutils\n",
    "from PIL import Image\n",
    "import matplotlib.pyplot as plt\n",
    "import numpy as np\n",
    "from IPython.core.pylabtools import figsize\n",
    "from scipy.spatial import distance\n",
    "import ipywidgets as widgets\n",
    "figsize(15, 6)\n",
    "%matplotlib inline\n",
    "\n",
    "import sys\n",
    "sys.path.insert(0, '/home/bl9/gempy')\n",
    "\n",
    "import gempy.hackathon as hk"
   ]
  },
  {
   "cell_type": "code",
   "execution_count": 2,
   "metadata": {
    "collapsed": true
   },
   "outputs": [],
   "source": [
    "images = []\n",
    "for img in os.listdir(\"test_images/\"):\n",
    "    im = cv2.imread(\"test_images/\"+img)\n",
    "    images.append(im)\n",
    "  \n",
    "images = np.array(images)[:, 80:240 ,230:450]"
   ]
  },
  {
   "cell_type": "code",
   "execution_count": 6,
   "metadata": {
    "collapsed": true
   },
   "outputs": [],
   "source": [
    "def where_shapes(image, min_area=30):\n",
    "    bilateral_filtered_image = cv2.bilateralFilter(image, 5, 175, 175)\n",
    "    \n",
    "    gray = cv2.cvtColor(bilateral_filtered_image, cv2.COLOR_BGR2GRAY)\n",
    "    blurred = cv2.GaussianBlur(gray, (5, 5), 0)\n",
    "    thresh = cv2.threshold(blurred, 80, 255, cv2.THRESH_BINARY)[1]\n",
    "    edge_detected_image = cv2.Canny(thresh, 75, 200)\n",
    "    \n",
    "    _, contours, hierarchy = cv2.findContours(edge_detected_image, cv2.RETR_EXTERNAL, cv2.CHAIN_APPROX_SIMPLE)\n",
    "    \n",
    "    contour_list = []\n",
    "    contour_coords = []\n",
    "    for contour in contours:\n",
    "        M = cv2.moments(contour)\n",
    "        if M[\"m00\"] != 0:\n",
    "            cX = int(M[\"m10\"] / M[\"m00\"])\n",
    "            cY = int(M[\"m01\"] / M[\"m00\"])\n",
    "        else:\n",
    "            cX = 0\n",
    "            cY = 0\n",
    "        \n",
    "        approx = cv2.approxPolyDP(contour,0.01*cv2.arcLength(contour,True),True)\n",
    "        area = cv2.contourArea(contour)\n",
    "        if ((len(approx) > 8) & (len(approx) < 23) & (area > min_area) ):\n",
    "            contour_list.append(contour)\n",
    "            contour_coords.append([cX,cY])\n",
    "            \n",
    "    return np.array(contour_coords)\n",
    "\n",
    "\n",
    "def where_circles(image, thresh_value=80):\n",
    "    output = image.copy()\n",
    "    gray = cv2.cvtColor(image, cv2.COLOR_BGR2GRAY)\n",
    "    blurred = cv2.GaussianBlur(gray, (5, 5), 0)\n",
    "    thresh = cv2.threshold(blurred, thresh_value, 255, cv2.THRESH_BINARY)[1]\n",
    "    #circles = cv2.HoughCircles(gray, cv2.HOUGH_GRADIENT, 1.2 100)\n",
    "    circles = cv2.HoughCircles(thresh, cv2.HOUGH_GRADIENT, 1, 2, np.array([]), 200, 8, 4, 8)\n",
    "    \n",
    "    if circles is not None:\n",
    "        # convert the (x, y) coordinates and radius of the circles to integers\n",
    "        circles = np.round(circles[0, :]).astype(\"int\")\n",
    "        #print(circles)\n",
    "        circle_coords = np.array(circles)[:,:2]\n",
    "        dist = distance.cdist(circle_coords, circle_coords, 'euclidean')\n",
    "        minima = np.min(dist, axis=1)\n",
    "        dist_bool = (dist > 0) & (dist < 5)\n",
    "        pos = np.where(dist_bool==True)[0]\n",
    "        grouped = circle_coords[pos]\n",
    "        mean_grouped = (np.sum(grouped, axis=0)/2).astype(int)\n",
    "        circle_coords = np.delete(circle_coords,list(pos), axis=0)\n",
    "        circle_coords = np.vstack((circle_coords, mean_grouped))\n",
    "        \n",
    "        return circle_coords\n",
    "\n",
    "def filter_circles(shape_coords, circle_coords):\n",
    "    dist = distance.cdist(shape_coords, circle_coords, 'euclidean')\n",
    "    minima = np.min(dist, axis=1)\n",
    "    non_circle_pos = np.where(minima>10)\n",
    "    return non_circle_pos\n",
    "\n",
    "def where_non_circles(image):\n",
    "    shape_coords = where_shapes(image)\n",
    "    circle_coords = where_circles(image)\n",
    "    non_circles = filter_circles(shape_coords, circle_coords)\n",
    "    return shape_coords[non_circles]\n",
    "    \n",
    "def get_shape_coords(image):\n",
    "    non_circles = where_non_circles(image)\n",
    "    circles = where_circles(image)\n",
    "    return non_circles.tolist(), circles\n",
    "\n",
    "def plot_all_shapes(image):\n",
    "    output = image.copy()\n",
    "    non_circles, circles = get_shape_coords(image)\n",
    "    for (x, y) in circles:\n",
    "        cv2.circle(output, (x, y), 5, (0, 255, 0), 3)\n",
    "            #cv2.rectangle(output, (x - 5, y - 5), (x + 5, y + 5), (0, 128, 255), -1)\n",
    "    for (x, y) in non_circles:\n",
    "        cv2.rectangle(output, (x - 5, y - 5), (x + 5, y + 5), (0, 128, 255), -1)\n",
    "    out_image=np.hstack([image, output])   \n",
    "    plt.imshow(out_image)  "
   ]
  },
  {
   "cell_type": "code",
   "execution_count": null,
   "metadata": {
    "collapsed": true
   },
   "outputs": [],
   "source": [
    "circles = get_shape_coords(images[5])[1]\n",
    "non_circles = get_shape_coords(images[5])[0]"
   ]
  },
  {
   "cell_type": "code",
   "execution_count": null,
   "metadata": {},
   "outputs": [],
   "source": [
    "type(non_circles)"
   ]
  },
  {
   "cell_type": "code",
   "execution_count": null,
   "metadata": {},
   "outputs": [],
   "source": [
    "figsize(15,6)\n",
    "plot_all_shapes(images[0])"
   ]
  },
  {
   "cell_type": "code",
   "execution_count": null,
   "metadata": {},
   "outputs": [],
   "source": [
    "hk.plot_all_shapes(images[5], thresh_value=80)"
   ]
  },
  {
   "cell_type": "code",
   "execution_count": null,
   "metadata": {},
   "outputs": [],
   "source": [
    "thresh_widget = widgets.interactive(plot_all_shapes,\n",
    "                                                 thresh_value=widgets.IntSlider(\n",
    "                                                     value=80, min=0, max=150, step=1,continuous_update=False))"
   ]
  },
  {
   "cell_type": "code",
   "execution_count": null,
   "metadata": {},
   "outputs": [],
   "source": [
    "display(thresh_widget)"
   ]
  },
  {
   "cell_type": "code",
   "execution_count": null,
   "metadata": {
    "collapsed": true
   },
   "outputs": [],
   "source": [
    "w = widgets.IntSlider(\n",
    "    value=80,\n",
    "    min=0,\n",
    "    max=150,\n",
    "    step=1,\n",
    "    description='Treshold Value:',\n",
    "    disabled=False,\n",
    "    continuous_update=False,\n",
    "    orientation='horizontal',\n",
    "    readout=True,\n",
    "    readout_format='d'\n",
    ")"
   ]
  },
  {
   "cell_type": "code",
   "execution_count": null,
   "metadata": {},
   "outputs": [],
   "source": [
    "display(w)"
   ]
  },
  {
   "cell_type": "code",
   "execution_count": null,
   "metadata": {},
   "outputs": [],
   "source": [
    "thresh_value=80\n",
    "min_area = 30\n",
    "\n",
    "bilateral_filtered_image = cv2.bilateralFilter(images[5], 5, 175, 175)\n",
    "    \n",
    "gray = cv2.cvtColor(bilateral_filtered_image, cv2.COLOR_BGR2GRAY)\n",
    "blurred = cv2.GaussianBlur(gray, (5, 5), 0)\n",
    "thresh = cv2.threshold(blurred, 80, 255, cv2.THRESH_BINARY)[1]\n",
    "edge_detected_image = cv2.Canny(thresh, 75, 200)\n",
    "\n",
    "_, contours, hierarchy = cv2.findContours(edge_detected_image, cv2.RETR_EXTERNAL, cv2.CHAIN_APPROX_SIMPLE)\n",
    "\n",
    "M_list = []\n",
    "contour_list = []\n",
    "contour_coords = []\n",
    "for contour in contours:\n",
    "    M = cv2.moments(contour)\n",
    "    if M[\"m00\"] != 0:\n",
    "        cX = int(M[\"m10\"] / M[\"m00\"])\n",
    "        cY = int(M[\"m01\"] / M[\"m00\"])\n",
    "    else:\n",
    "        cX = 0\n",
    "        cY = 0\n",
    "    \n",
    "    approx = cv2.approxPolyDP(contour,0.01*cv2.arcLength(contour,True),True)\n",
    "    area = cv2.contourArea(contour)\n",
    "    if ((len(approx) > 8) & (len(approx) < 23) & (area > min_area) ):\n",
    "        contour_list.append(contour)\n",
    "        contour_coords.append([cX,cY])"
   ]
  },
  {
   "cell_type": "code",
   "execution_count": null,
   "metadata": {
    "collapsed": true
   },
   "outputs": [],
   "source": [
    "cv2.drawContours?"
   ]
  },
  {
   "cell_type": "code",
   "execution_count": null,
   "metadata": {},
   "outputs": [],
   "source": [
    "np.array(contour_list).shape"
   ]
  },
  {
   "cell_type": "code",
   "execution_count": 19,
   "metadata": {},
   "outputs": [
    {
     "data": {
      "image/png": "[encoded data removed]",
      "text/plain": [
       "<Figure size 748.8x514.8 with 1 Axes>"
      ]
     },
     "metadata": {},
     "output_type": "display_data"
    }
   ],
   "source": [
    "imcopy = images[5].copy()\n",
    "bilateral_filtered_image = cv2.bilateralFilter(imcopy, 5, 175, 175)\n",
    "gray = cv2.cvtColor(bilateral_filtered_image, cv2.COLOR_BGR2GRAY)\n",
    "blurred = cv2.GaussianBlur(gray, (5, 5), 0)\n",
    "thresh = cv2.threshold(blurred, 60, 1, cv2.THRESH_BINARY)[1]\n",
    "threshcopy = thresh.copy()\n",
    "circle_coords = where_circles(images[5], thresh_value=80)\n",
    "for (x, y) in circle_coords:\n",
    "        cv2.circle(threshcopy, (x, y), 20, 1, -1)\n",
    "\n",
    "\n",
    "plt.imshow(np.invert(threshcopy.astype(bool)))\n",
    "plt.show()"
   ]
  },
  {
   "cell_type": "code",
   "execution_count": null,
   "metadata": {},
   "outputs": [],
   "source": [
    "np.unique(np.invert(threshcopy.astype(bool)))"
   ]
  },
  {
   "cell_type": "code",
   "execution_count": 9,
   "metadata": {},
   "outputs": [
    {
     "data": {
      "text/plain": [
       "array([[False, False, False, ..., False, False, False],\n",
       "       [False, False, False, ..., False, False, False],\n",
       "       [False, False, False, ..., False, False, False],\n",
       "       ..., \n",
       "       [False, False, False, ..., False, False, False],\n",
       "       [False, False, False, ..., False, False, False],\n",
       "       [False, False, False, ..., False, False, False]], dtype=bool)"
      ]
     },
     "execution_count": 9,
     "metadata": {},
     "output_type": "execute_result"
    }
   ],
   "source": [
    "hk.non_circles_fillmask(images[5],th1=60, th2=80)"
   ]
  },
  {
   "cell_type": "code",
   "execution_count": 8,
   "metadata": {},
   "outputs": [
    {
     "data": {
      "image/png": "[encoded data removed]",
      "text/plain": [
       "<Figure size 748.8x514.8 with 1 Axes>"
      ]
     },
     "metadata": {},
     "output_type": "display_data"
    }
   ],
   "source": [
    "plt.imshow(hk.non_circles_fillmask(images[5],th1=60, th2=80))\n",
    "plt.show()"
   ]
  },
  {
   "cell_type": "code",
   "execution_count": null,
   "metadata": {
    "collapsed": true
   },
   "outputs": [],
   "source": []
  }
 ],
 "metadata": {
  "kernelspec": {
   "display_name": "Python 3",
   "language": "python",
   "name": "python3"
  },
  "language_info": {
   "codemirror_mode": {
    "name": "ipython",
    "version": 3
   },
   "file_extension": ".py",
   "mimetype": "text/x-python",
   "name": "python",
   "nbconvert_exporter": "python",
   "pygments_lexer": "ipython3",
   "version": "3.5.5"
  }
 },
 "nbformat": 4,
 "nbformat_minor": 2
}
