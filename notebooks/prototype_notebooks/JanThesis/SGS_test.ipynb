{
 "cells": [
  {
   "cell_type": "markdown",
   "metadata": {},
   "source": [
    "# Sequential Gaussian Simulation\n",
    "\n",
    "## Loading input data\n",
    "\n",
    "The first step will be to include all the necessary data to perform the interpolation which we have been calculated in the previous chapter. This parameters will be:\n",
    "\n",
    "- Domain property data: This is the XYZ position as well as the values we want to interpolate with the label of the domain that it belongs to.\n",
    "\n",
    "- The discretized geomodel: The GeMpy model with the segmented lithologies. We use this to know where we have to interpolate what\n",
    "\n",
    "- Experimental variogram: We use it to compute the analytical variogram. At the moment is not supported to import directly the analytical variogram\n",
    "\n",
    "- Grid: The XYZ coordinates of the points to be interpolated. The GeMpy model is only a 3D array. At some point it would make sense to pass the GeMpy object that contains all the model properties.\n",
    "\n",
    "All this data can be passed to the SGS object by either the init or set methods"
   ]
  },
  {
   "cell_type": "code",
   "execution_count": 1,
   "metadata": {
    "code_folding": [
     0
    ]
   },
   "outputs": [
    {
     "name": "stderr",
     "output_type": "stream",
     "text": [
      "C:\\Users\\Jan\\Anaconda3\\lib\\site-packages\\h5py\\__init__.py:36: FutureWarning: Conversion of the second argument of issubdtype from `float` to `np.floating` is deprecated. In future, it will be treated as `np.float64 == np.dtype(float).type`.\n",
      "  from ._conv import register_converters as _register_converters\n",
      "WARNING (theano.tensor.blas): We did not find a dynamic library in the library_dir of the library we use for blas. If you use ATLAS, make sure to compile it with dynamics library.\n"
     ]
    }
   ],
   "source": [
    "import sys, os\n",
    "sys.path.append(\"../../..\")\n",
    "os.environ['CUDA_LAUNCH_BLOCKING'] = '1'\n",
    "os.environ['MKL_THREADING_LAYER'] = 'GNU'\n",
    "\n",
    "# Embedding matplotlib figures in the notebooks\n",
    "%matplotlib inline\n",
    "\n",
    "# Importing auxiliary libraries\n",
    "import numpy as np\n",
    "import matplotlib.pyplot as plt\n",
    "import pandas as pn\n",
    "import gempy as gp\n",
    "from gempy import coKriging\n",
    "from gempy import GridClass\n",
    "import pymc3 as pm\n",
    "from numpy import random\n"
   ]
  },
  {
   "cell_type": "code",
   "execution_count": 2,
   "metadata": {},
   "outputs": [],
   "source": [
    "# Read data\n",
    "data = pn.read_pickle(\"C:/Users/Jan/Desktop/CSIRO/CSIRO/Domained_data.pkl\")\n",
    "geomodel = np.load(\"C:/Users/Jan/Desktop/CSIRO/CSIRO/3Dmodel.npy\")\n",
    "exp_variogram = pn.read_pickle(\"C:/Users/Jan/Desktop/CSIRO/CSIRO/experimental_variogram.p\")\n",
    "\n",
    "\n",
    "grid = GridClass\n",
    "grid.create_regular_grid_3d(grid,[422050, 423090, 8429400, 8432100, -500, 332],\n",
    "                            [50, 50, 50]);"
   ]
  },
  {
   "cell_type": "code",
   "execution_count": null,
   "metadata": {},
   "outputs": [],
   "source": [
    "sgs.plot_cross_covariance"
   ]
  },
  {
   "cell_type": "code",
   "execution_count": null,
   "metadata": {},
   "outputs": [
    {
     "name": "stderr",
     "output_type": "stream",
     "text": [
      "logp = 1,384.8, ||grad|| = 0.67627: 100%|█████████████████████████████████████████| 2824/2824 [00:16<00:00, 176.38it/s]\n",
      "Sequential sampling (2 chains in 1 job)\n",
      "CompoundStep\n",
      ">Metropolis: [weights_interval__]\n",
      ">Metropolis: [range]\n",
      ">Metropolis: [sill]\n",
      ">Metropolis: [sigma_log__]\n",
      "100%|█████████████████████████████████████████████████████████████████████████████| 2500/2500 [00:11<00:00, 210.54it/s]\n",
      " 94%|████████████████████████████████████████████████████████████████████████▋    | 2359/2500 [00:10<00:00, 215.54it/s]"
     ]
    }
   ],
   "source": [
    "# Compute analytical variograms\n",
    "sgs = gp.coKriging.SGS(\n",
    "    exp_var=exp_variogram, n_exp=5\n",
    ")  # properties=['Al_ppm-Al_ppm', 'Ca_ppm-Al_ppm', 'Al_ppm-Ca_ppm', 'Ca_ppm-Ca_ppm']\n",
    "\n",
    "sgs.set_data(data)\n",
    "sgs.set_lithology('opx')\n",
    "sgs.set_geomodel(geomodel)\n",
    "\n",
    "sgs.choose_lithology_elements(elem=[\n",
    "    'Al_ppm',\n",
    "    'Ca_ppm',\n",
    "    'Co_ppm',\n",
    "    'Fe_ppm',\n",
    "    'Mg_ppm',\n",
    "])\n",
    "\n",
    "sgs.set_grid_to_inter(grid) #originally select_segemented_grid\n",
    "model = sgs.fit_cross_cov(n_exp=5)\n",
    "if True:\n",
    "    with model:\n",
    "        start = pm.find_MAP()  # Find starting value by optimization\n",
    "        step = pm.Metropolis()\n",
    "        #db = pm.backends.SQLite('SQtry.sqlite')\n",
    "        trace = pm.sample(2000, step, init=start, progressbar=True, njobs=1)\n",
    "sgs.set_trace(trace)\n",
    "\n",
    "if False:\n",
    "    sgs.plot_cross_covariance(iter_plot=1800)"
   ]
  },
  {
   "cell_type": "code",
   "execution_count": null,
   "metadata": {},
   "outputs": [],
   "source": [
    "#sgs.plot_cross_covariance(iter_plot=1800)"
   ]
  },
  {
   "cell_type": "code",
   "execution_count": null,
   "metadata": {},
   "outputs": [],
   "source": [
    "print(trace['range'].shape)"
   ]
  },
  {
   "cell_type": "code",
   "execution_count": null,
   "metadata": {
    "scrolled": true
   },
   "outputs": [],
   "source": [
    "print(sgs.n_exp)\n",
    "print(sgs.n_gauss)"
   ]
  },
  {
   "cell_type": "code",
   "execution_count": null,
   "metadata": {},
   "outputs": [],
   "source": [
    "sgs.nuggets.values"
   ]
  },
  {
   "cell_type": "markdown",
   "metadata": {},
   "source": [
    "## Kriging at one point\n",
    "\n",
    "For testing we just perform the ordinary cokring at one point."
   ]
  },
  {
   "cell_type": "code",
   "execution_count": null,
   "metadata": {
    "run_control": {
     "marked": false
    }
   },
   "outputs": [],
   "source": [
    "# We compile the euclidean distances function\n",
    "SED_f = gp.coKriging.theano_sed()"
   ]
  },
  {
   "cell_type": "code",
   "execution_count": null,
   "metadata": {},
   "outputs": [],
   "source": [
    "# We extract the XYZ coordinates from the input data\n",
    "df = sgs.data_to_inter[['X', 'Y', 'Z']]"
   ]
  },
  {
   "cell_type": "code",
   "execution_count": null,
   "metadata": {},
   "outputs": [],
   "source": [
    "# We select the point 5000 of our grid\n",
    "selected_cluster_grid = grid.values[5000] # originally sgs.grid_to_inter\n",
    "selected_cluster_grid"
   ]
  },
  {
   "cell_type": "code",
   "execution_count": null,
   "metadata": {},
   "outputs": [],
   "source": [
    "# We compute the distance from all our input data to that point\n",
    "dist = SED_f(df, [selected_cluster_grid])\n",
    "\n",
    "#Here lies one problem: selcetion a ist completely false, no close values are selected\n",
    "\n",
    "# We choose at least the 50 closer points to the simulated point\n",
    "for r in range(100, 5000, 100):\n",
    "    select_A = (dist < r).any(axis=1)\n",
    "    if select_A.sum() > 50:\n",
    "        break\n",
    "        \n",
    "select_b = np.zeros(grid.values.shape[0], dtype=bool) #originally sgs.grid_to_inter.shape\n",
    "select_b[4000] = True\n"
   ]
  },
  {
   "cell_type": "code",
   "execution_count": null,
   "metadata": {},
   "outputs": [],
   "source": [
    "np.set_printoptions(threshold=np.inf)"
   ]
  },
  {
   "cell_type": "markdown",
   "metadata": {},
   "source": [
    "The function solve_kriging is called with two boolean arrays to select the input data we want to use and the points in the grid we want to compute. The idea is to compute more than one point at the same time.\n",
    "\n",
    "To capture the uncertainty of the cross-covariance we sample randomly from the Bayesian inferece trace. This may lead to eventual invalid values that are corrected iterative recursively by checking if the kriging result is valid. \n",
    "\n",
    "At the moment only Ordinary kriging is implemented. Ideally, we should aim for universal kriging.\n"
   ]
  },
  {
   "cell_type": "markdown",
   "metadata": {},
   "source": [
    "Checking ordinary kriging works. The sum of the weight to each property must be one:"
   ]
  },
  {
   "cell_type": "code",
   "execution_count": null,
   "metadata": {
    "run_control": {
     "marked": false
    }
   },
   "outputs": [],
   "source": [
    "h = sgs.solve_kriging(select_A, select_b) #originally j instead of select_b\n",
    "h[-2][:-5].sum(axis=0)"
   ]
  },
  {
   "cell_type": "code",
   "execution_count": null,
   "metadata": {},
   "outputs": [],
   "source": [
    "print(cov_h)"
   ]
  },
  {
   "cell_type": "code",
   "execution_count": null,
   "metadata": {
    "scrolled": true
   },
   "outputs": [],
   "source": [
    "%debug"
   ]
  },
  {
   "cell_type": "markdown",
   "metadata": {},
   "source": [
    "Checking the kriging mean is within a range of possible values given the cross-variogram fitting."
   ]
  },
  {
   "cell_type": "code",
   "execution_count": null,
   "metadata": {},
   "outputs": [],
   "source": [
    "l1 = [sgs.solve_kriging(select_A, select_b)[0][0] for i in range(100)]\n",
    "l2 = [sgs.solve_kriging(select_A, select_b)[0][1] for i in range(100)]"
   ]
  },
  {
   "cell_type": "markdown",
   "metadata": {},
   "source": [
    "The figure below show the kriging mean for the Aluminum and Calcium."
   ]
  },
  {
   "cell_type": "code",
   "execution_count": null,
   "metadata": {},
   "outputs": [],
   "source": [
    "plt.plot(l1, '.')\n",
    "plt.plot(l2, '.')"
   ]
  },
  {
   "cell_type": "markdown",
   "metadata": {},
   "source": [
    "Comparing the values of the elements used as input in the interpolation."
   ]
  },
  {
   "cell_type": "code",
   "execution_count": null,
   "metadata": {},
   "outputs": [],
   "source": [
    "sgs.data_to_inter[select_A][['Al_ppm', 'Ca_ppm']].hist(); sgs.data_to_inter[select_A][['Al_ppm', 'Ca_ppm']].mean()"
   ]
  },
  {
   "cell_type": "markdown",
   "metadata": {},
   "source": [
    "Checking the range of values of the random interpolation at the given point. The uncertainty comes from the fitting and the kriging variance."
   ]
  },
  {
   "cell_type": "code",
   "execution_count": null,
   "metadata": {},
   "outputs": [],
   "source": [
    "sol = [sgs.solve_kriging(select_A, select_b) for i in range(10)]\n",
    "gh = []\n",
    "for i in range(10):\n",
    "    gh = np.append(gh, np.random.normal(sol[i][0], sol[i][1]))"
   ]
  },
  {
   "cell_type": "code",
   "execution_count": null,
   "metadata": {},
   "outputs": [],
   "source": [
    "gh"
   ]
  },
  {
   "cell_type": "code",
   "execution_count": null,
   "metadata": {
    "scrolled": true
   },
   "outputs": [],
   "source": [
    "plt.hist(gh[::2], range=(-30000, 30000)), plt.hist(gh[1::2], range=(-30000, 30000), alpha=0.5);"
   ]
  },
  {
   "cell_type": "code",
   "execution_count": null,
   "metadata": {},
   "outputs": [],
   "source": []
  }
 ],
 "metadata": {
  "kernelspec": {
   "display_name": "Python 3",
   "language": "python",
   "name": "python3"
  },
  "language_info": {
   "codemirror_mode": {
    "name": "ipython",
    "version": 3
   },
   "file_extension": ".py",
   "mimetype": "text/x-python",
   "name": "python",
   "nbconvert_exporter": "python",
   "pygments_lexer": "ipython3",
   "version": "3.6.4"
  },
  "latex_envs": {
   "LaTeX_envs_menu_present": true,
   "autocomplete": true,
   "bibliofile": "biblio.bib",
   "cite_by": "apalike",
   "current_citInitial": 1,
   "eqLabelWithNumbers": true,
   "eqNumInitial": 1,
   "hotkeys": {
    "equation": "Ctrl-E",
    "itemize": "Ctrl-I"
   },
   "labels_anchors": false,
   "latex_user_defs": false,
   "report_style_numbering": false,
   "user_envs_cfg": false
  },
  "toc": {
   "colors": {
    "hover_highlight": "#DAA520",
    "running_highlight": "#FF0000",
    "selected_highlight": "#FFD700"
   },
   "moveMenuLeft": true,
   "nav_menu": {
    "height": "12px",
    "width": "252px"
   },
   "navigate_menu": true,
   "number_sections": true,
   "sideBar": true,
   "threshold": 4,
   "toc_cell": false,
   "toc_section_display": "block",
   "toc_window_display": false,
   "widenNotebook": false
  }
 },
 "nbformat": 4,
 "nbformat_minor": 2
}
