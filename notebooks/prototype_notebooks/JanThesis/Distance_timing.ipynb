{
 "cells": [
  {
   "cell_type": "markdown",
   "metadata": {},
   "source": [
    "# Timing distance calculations"
   ]
  },
  {
   "cell_type": "markdown",
   "metadata": {},
   "source": [
    "I want to create 3-4 simple models in order to show the effect of the distance algorithm for Kriging and how it can be applied to Gempy models. In general I think 3 Layers should be fine, cutting out the central one. Keeping all in the same size around max 5000 grid points gives reasonable calculation times.\n",
    "1) flat horizontal \n",
    "2) anticline \n",
    "3) recumbent anticline\n",
    "4) layer pinching out ?\n",
    "5) should be something like a fault"
   ]
  },
  {
   "cell_type": "code",
   "execution_count": 1,
   "metadata": {},
   "outputs": [
    {
     "name": "stderr",
     "output_type": "stream",
     "text": [
      "C:\\Users\\Jan\\Anaconda3\\lib\\site-packages\\h5py\\__init__.py:36: FutureWarning: Conversion of the second argument of issubdtype from `float` to `np.floating` is deprecated. In future, it will be treated as `np.float64 == np.dtype(float).type`.\n",
      "  from ._conv import register_converters as _register_converters\n"
     ]
    }
   ],
   "source": [
    "# These lines are necessary only if GemPy is not installed\n",
    "import sys, os\n",
    "sys.path.append(\"../../..\")\n",
    "os.environ['CUDA_LAUNCH_BLOCKING'] = '1'\n",
    "os.environ['MKL_THREADING_LAYER'] = 'GNU'\n",
    "\n",
    "# Importing GemPy, which takes really long\n",
    "import gempy as gp\n",
    "\n",
    "# Importing auxiliary libraries\n",
    "import numpy as np\n",
    "import matplotlib \n",
    "from mpl_toolkits.mplot3d import Axes3D\n",
    "from matplotlib import pyplot as plt\n",
    "import pandas as pd"
   ]
  },
  {
   "cell_type": "code",
   "execution_count": 56,
   "metadata": {},
   "outputs": [],
   "source": [
    "geo_data = gp.create_data([0,1000,0,20,0,1000],resolution=[100,5,100], \n",
    "                        path_o = \"C:/Users/Jan/gempy/notebooks/prototype_notebooks/JanThesis/Jan_thesis_model1_orientations_slice.csv\", path_i = \"C:/Users/Jan/gempy/notebooks/prototype_notebooks/JanThesis/Jan_thesis_model1_interfaces_slice.csv\")\n"
   ]
  },
  {
   "cell_type": "code",
   "execution_count": 57,
   "metadata": {},
   "outputs": [],
   "source": [
    "gp.set_series(geo_data, {\"Strat_Series\": ('rock2','rock1'),\"Basement_Series\":('basement')},order_series = ['Strat_Series','Basement_Series'],\n",
    "                       order_formations=np.array(['rock2','rock1','basement']), verbose=0)"
   ]
  },
  {
   "cell_type": "code",
   "execution_count": 58,
   "metadata": {},
   "outputs": [],
   "source": [
    "colormodel = {'basement':'#ffa700','rock1':'#d62d20','rock2':'#0057e7','rock3':'#008744','fault':'#17202a'}\n",
    "geo_data.set_colors(colormodel)\n",
    "cmap = matplotlib.colors.ListedColormap(list(geo_data.formations['color']))\n",
    "#geo_data.formations"
   ]
  },
  {
   "cell_type": "code",
   "execution_count": 59,
   "metadata": {},
   "outputs": [
    {
     "data": {
      "text/html": [
       "<style  type=\"text/css\" >\n",
       "    #T_fa4650de_352b_11e9_a64a_d8cb8aeeb072row0_col2 {\n",
       "            background-color:  #0057e7;\n",
       "        }    #T_fa4650de_352b_11e9_a64a_d8cb8aeeb072row1_col2 {\n",
       "            background-color:  #d62d20;\n",
       "        }    #T_fa4650de_352b_11e9_a64a_d8cb8aeeb072row2_col2 {\n",
       "            background-color:  #ffa700;\n",
       "        }</style>  \n",
       "<table id=\"T_fa4650de_352b_11e9_a64a_d8cb8aeeb072\" > \n",
       "<thead>    <tr> \n",
       "        <th class=\"blank level0\" ></th> \n",
       "        <th class=\"col_heading level0 col0\" >value</th> \n",
       "        <th class=\"col_heading level0 col1\" >formation_number</th> \n",
       "        <th class=\"col_heading level0 col2\" >color</th> \n",
       "    </tr></thead> \n",
       "<tbody>    <tr> \n",
       "        <th id=\"T_fa4650de_352b_11e9_a64a_d8cb8aeeb072level0_row0\" class=\"row_heading level0 row0\" >rock2</th> \n",
       "        <td id=\"T_fa4650de_352b_11e9_a64a_d8cb8aeeb072row0_col0\" class=\"data row0 col0\" >1</td> \n",
       "        <td id=\"T_fa4650de_352b_11e9_a64a_d8cb8aeeb072row0_col1\" class=\"data row0 col1\" >1</td> \n",
       "        <td id=\"T_fa4650de_352b_11e9_a64a_d8cb8aeeb072row0_col2\" class=\"data row0 col2\" >#0057e7</td> \n",
       "    </tr>    <tr> \n",
       "        <th id=\"T_fa4650de_352b_11e9_a64a_d8cb8aeeb072level0_row1\" class=\"row_heading level0 row1\" >rock1</th> \n",
       "        <td id=\"T_fa4650de_352b_11e9_a64a_d8cb8aeeb072row1_col0\" class=\"data row1 col0\" >2</td> \n",
       "        <td id=\"T_fa4650de_352b_11e9_a64a_d8cb8aeeb072row1_col1\" class=\"data row1 col1\" >2</td> \n",
       "        <td id=\"T_fa4650de_352b_11e9_a64a_d8cb8aeeb072row1_col2\" class=\"data row1 col2\" >#d62d20</td> \n",
       "    </tr>    <tr> \n",
       "        <th id=\"T_fa4650de_352b_11e9_a64a_d8cb8aeeb072level0_row2\" class=\"row_heading level0 row2\" >basement</th> \n",
       "        <td id=\"T_fa4650de_352b_11e9_a64a_d8cb8aeeb072row2_col0\" class=\"data row2 col0\" >3</td> \n",
       "        <td id=\"T_fa4650de_352b_11e9_a64a_d8cb8aeeb072row2_col1\" class=\"data row2 col1\" >3</td> \n",
       "        <td id=\"T_fa4650de_352b_11e9_a64a_d8cb8aeeb072row2_col2\" class=\"data row2 col2\" >#ffa700</td> \n",
       "    </tr></tbody> \n",
       "</table> "
      ],
      "text/plain": [
       "<pandas.io.formats.style.Styler at 0x1e1763256d8>"
      ]
     },
     "execution_count": 59,
     "metadata": {},
     "output_type": "execute_result"
    }
   ],
   "source": [
    "geo_data.set_colors(colormodel)"
   ]
  },
  {
   "cell_type": "code",
   "execution_count": 60,
   "metadata": {},
   "outputs": [],
   "source": [
    "#%matplotlib inline\n",
    "#gp.get_sequential_pile(geo_data)"
   ]
  },
  {
   "cell_type": "code",
   "execution_count": 61,
   "metadata": {},
   "outputs": [],
   "source": [
    "#%matplotlib inline\n",
    "#gp.plotting.plot_data(geo_data, direction='y')"
   ]
  },
  {
   "cell_type": "code",
   "execution_count": 62,
   "metadata": {
    "scrolled": true
   },
   "outputs": [
    {
     "name": "stdout",
     "output_type": "stream",
     "text": [
      "Compiling theano function...\n",
      "Compilation Done!\n",
      "Level of Optimization:  fast_compile\n",
      "Device:  cpu\n",
      "Precision:  float32\n",
      "Number of faults:  0\n"
     ]
    }
   ],
   "source": [
    "interp_data = gp.InterpolatorData(geo_data, u_grade=[1], output='geology', compile_theano=True, theano_optimizer='fast_compile')"
   ]
  },
  {
   "cell_type": "code",
   "execution_count": 63,
   "metadata": {
    "scrolled": true
   },
   "outputs": [
    {
     "name": "stderr",
     "output_type": "stream",
     "text": [
      "C:\\Users\\Jan\\Anaconda3\\lib\\site-packages\\theano\\tensor\\subtensor.py:2320: FutureWarning: Using a non-tuple sequence for multidimensional indexing is deprecated; use `arr[tuple(seq)]` instead of `arr[seq]`. In the future this will be interpreted as an array index, `arr[np.array(seq)]`, which will result either in an error or a different result.\n",
      "  out[0][inputs[2:]] = inputs[1]\n"
     ]
    }
   ],
   "source": [
    "lith_block, fault_block = gp.compute_model(interp_data)"
   ]
  },
  {
   "cell_type": "code",
   "execution_count": 64,
   "metadata": {
    "scrolled": true
   },
   "outputs": [
    {
     "data": {
      "image/png": "[encoded data removed]",
      "text/plain": [
       "<matplotlib.figure.Figure at 0x1e176fa8be0>"
      ]
     },
     "metadata": {},
     "output_type": "display_data"
    }
   ],
   "source": [
    "%matplotlib inline\n",
    "gp.plotting.plot_section(geo_data, lith_block[0], cell_number=0,\n",
    "                         direction='y', plot_data=True, cmap=cmap, norm=None)\n",
    "\n",
    "plt.savefig(fname='Model1_pure', edgecolor='black')"
   ]
  },
  {
   "cell_type": "code",
   "execution_count": 65,
   "metadata": {},
   "outputs": [],
   "source": [
    "import gempy.utils.Kriging_Jan as krige"
   ]
  },
  {
   "cell_type": "code",
   "execution_count": 66,
   "metadata": {
    "scrolled": true
   },
   "outputs": [
    {
     "name": "stdout",
     "output_type": "stream",
     "text": [
      "     X   Y    Z  Property\n",
      "0  500  10  500        20\n",
      "1  500  10  500        20\n"
     ]
    }
   ],
   "source": [
    "d = {'X': [500, 500], 'Y': [10, 10], 'Z': [500,500], 'Property': [20, 20]}\n",
    "data_field = pd.DataFrame(data=d)\n",
    "print(data_field)"
   ]
  },
  {
   "cell_type": "code",
   "execution_count": 67,
   "metadata": {
    "scrolled": true
   },
   "outputs": [
    {
     "name": "stdout",
     "output_type": "stream",
     "text": [
      "initializing: 0.008549213409423828\n",
      "Step1 0.004007577896118164\n",
      "Step2 -0.7510621547698975\n",
      "Step3 -1.4982120990753174\n",
      "Step4 -3.687464475631714\n",
      "distance precalculation: 5.950853586196899\n",
      "submatrix extraction: 0.01673412322998047\n",
      "distance Matrices: 1.7789952754974365\n",
      "kriging calculation: 2.2646262645721436\n",
      "Negative Variances: 0\n",
      "Out of: 10001\n"
     ]
    }
   ],
   "source": [
    "test = krige.Kriging(data_field, lith_block, geo_data, formation_number=2, kriging_type='OK', distance_type='deformed_B', an_factor=1, var_par=(200,50,1))"
   ]
  },
  {
   "cell_type": "code",
   "execution_count": 68,
   "metadata": {},
   "outputs": [
    {
     "name": "stdout",
     "output_type": "stream",
     "text": [
      "10000\n"
     ]
    }
   ],
   "source": [
    "print(len(test.grid_dataframe))"
   ]
  },
  {
   "cell_type": "code",
   "execution_count": 69,
   "metadata": {},
   "outputs": [],
   "source": [
    "coord = test.result_coord[:3]\n",
    "result = test.kriging_result[1]\n",
    "combined = np.vstack((coord, result))\n",
    "combined = np.swapaxes(combined,0,1)\n",
    "\n",
    "combined_cut = np.where(combined[:,1]<10)[0]\n",
    "combined_cut = combined[combined_cut]\n",
    "combined_cut = combined_cut[:,[0,2,3]]"
   ]
  },
  {
   "cell_type": "code",
   "execution_count": 47,
   "metadata": {},
   "outputs": [
    {
     "data": {
      "text/html": [
       "<div>\n",
       "<style scoped>\n",
       "    .dataframe tbody tr th:only-of-type {\n",
       "        vertical-align: middle;\n",
       "    }\n",
       "\n",
       "    .dataframe tbody tr th {\n",
       "        vertical-align: top;\n",
       "    }\n",
       "\n",
       "    .dataframe thead th {\n",
       "        text-align: right;\n",
       "    }\n",
       "</style>\n",
       "<table border=\"1\" class=\"dataframe\">\n",
       "  <thead>\n",
       "    <tr style=\"text-align: right;\">\n",
       "      <th></th>\n",
       "      <th>value</th>\n",
       "      <th>formation_number</th>\n",
       "      <th>color</th>\n",
       "    </tr>\n",
       "  </thead>\n",
       "  <tbody>\n",
       "    <tr>\n",
       "      <th>rock2</th>\n",
       "      <td>1</td>\n",
       "      <td>1</td>\n",
       "      <td>#BEBEBE</td>\n",
       "    </tr>\n",
       "    <tr>\n",
       "      <th>rock1</th>\n",
       "      <td>2</td>\n",
       "      <td>2</td>\n",
       "      <td>#A0A0A0</td>\n",
       "    </tr>\n",
       "    <tr>\n",
       "      <th>basement</th>\n",
       "      <td>3</td>\n",
       "      <td>3</td>\n",
       "      <td>#696969</td>\n",
       "    </tr>\n",
       "  </tbody>\n",
       "</table>\n",
       "</div>"
      ],
      "text/plain": [
       "          value  formation_number    color\n",
       "rock2         1                 1  #BEBEBE\n",
       "rock1         2                 2  #A0A0A0\n",
       "basement      3                 3  #696969"
      ]
     },
     "execution_count": 47,
     "metadata": {},
     "output_type": "execute_result"
    }
   ],
   "source": [
    "colormodel = {'basement':'#696969','rock1':'#A0A0A0','rock2':'#BEBEBE','rock3':'#008744','fault':'#17202a'}\n",
    "\n",
    "geo_data.set_colors(colormodel)\n",
    "\n",
    "cmap = matplotlib.colors.ListedColormap(list(geo_data.formations['color']))\n",
    "\n",
    "geo_data.formations"
   ]
  },
  {
   "cell_type": "code",
   "execution_count": 48,
   "metadata": {},
   "outputs": [],
   "source": [
    "from numpy import linspace, meshgrid\n",
    "from matplotlib.mlab import griddata\n",
    "\n",
    "def grid(x, y, z, resX=100, resY=100):\n",
    "    \"Convert 3 column data to matplotlib grid\"\n",
    "    xi = linspace(min(x), max(x), resX)\n",
    "    yi = linspace(min(y), max(y), resY)\n",
    "    Z = griddata(x, y, z, xi, yi, interp='linear')\n",
    "    X, Y = meshgrid(xi, yi)\n",
    "    return X, Y, Z"
   ]
  },
  {
   "cell_type": "code",
   "execution_count": 49,
   "metadata": {
    "scrolled": true
   },
   "outputs": [
    {
     "data": {
      "text/plain": [
       "<matplotlib.colorbar.Colorbar at 0x1e17620bc88>"
      ]
     },
     "execution_count": 49,
     "metadata": {},
     "output_type": "execute_result"
    },
    {
     "data": {
      "image/png": "[encoded data removed]",
      "text/plain": [
       "<matplotlib.figure.Figure at 0x1e17928f438>"
      ]
     },
     "metadata": {},
     "output_type": "display_data"
    }
   ],
   "source": [
    "X, Y, Z = grid(combined_cut[:,0], combined_cut[:,1], combined_cut[:,2])\n",
    "\n",
    "norm=matplotlib.colors.Normalize(vmin=0, vmax=40)\n",
    "v = np.linspace(0, 40,11, endpoint=True)\n",
    "\n",
    "a = plt.contourf(X, Y, Z, v, cmap='viridis', norm=norm)\n",
    "\n",
    "gp.plotting.plot_section(geo_data, lith_block[0], cell_number=1,\n",
    "                         direction='y', plot_data=False, cmap=cmap, norm=None)\n",
    "\n",
    "plt.axis('equal')\n",
    "plt.xlim(0,1000)\n",
    "plt.ylim(200,800)\n",
    "\n",
    "plt.colorbar(a, orientation='vertical', fraction=0.022, pad=0.05)\n",
    "\n",
    "#plt.savefig(fname='Basic_SGSfield_200_50_1_deformedB', edgecolor='black', bbox_inches='tight')\n",
    "#fig.tight_layout()"
   ]
  },
  {
   "cell_type": "code",
   "execution_count": 50,
   "metadata": {},
   "outputs": [],
   "source": [
    "mean = np.mean(test.kriging_result[1])\n",
    "max_val = np.max(test.kriging_result[1])\n",
    "min_val = np.min(test.kriging_result[1])\n",
    "variance = np.var(test.kriging_result[1])\n",
    "std = np.sqrt(variance)\n"
   ]
  },
  {
   "cell_type": "code",
   "execution_count": 51,
   "metadata": {},
   "outputs": [
    {
     "data": {
      "text/plain": [
       "Text(0.5,1,'Histogram using 50 bins')"
      ]
     },
     "execution_count": 51,
     "metadata": {},
     "output_type": "execute_result"
    },
    {
     "data": {
      "image/png": "[encoded data removed]",
      "text/plain": [
       "<matplotlib.figure.Figure at 0x1e1761e0588>"
      ]
     },
     "metadata": {},
     "output_type": "display_data"
    }
   ],
   "source": [
    "import scipy\n",
    "\n",
    "fig = plt.figure(figsize = (6, 6)) \n",
    "#show histogram (normal and cumulative)\n",
    "bin_amount = 50\n",
    "\n",
    "x_vals = np.arange(min_val, max_val, 0.1)\n",
    "\n",
    "plt.hist(test.kriging_result[1], bins=bin_amount, normed=True);\n",
    "plt.plot(x_vals, scipy.stats.norm.pdf(x_vals, mean, std), lw = 3)\n",
    "plt.xlabel(\"Property value\")\n",
    "plt.ylabel(\"frequency\")\n",
    "plt.title('Histogram using %i bins' %bin_amount)\n",
    "\n",
    "#plt.savefig(fname='Basic_SGSfield_200_50_1_deformedB_hist', edgecolor='black', bbox_inches='tight')"
   ]
  },
  {
   "cell_type": "code",
   "execution_count": 52,
   "metadata": {},
   "outputs": [
    {
     "data": {
      "text/plain": [
       "\"\\ncoord_dist = test.result_coord[:3]\\ndist_plt = test.dist_matrix_plt[:,1]\\ncombined = np.vstack((coord_dist, dist_plt))\\ncombined = np.swapaxes(combined,0,1)\\ncombined_cut = np.where(combined[:,1]<10)[0]\\ncombined_cut = combined[combined_cut]\\ncombined_cut = combined_cut[:,[0,2,3]]\\n\\nX, Y, Z = grid(combined_cut[:,0], combined_cut[:,1], combined_cut[:,2])\\n\\nnorm=matplotlib.colors.Normalize(vmin=0, vmax=600)\\nv = np.linspace(0, 600,11, endpoint=True)\\n\\nc = plt.scatter(x=coord_dist[0,0], y=coord_dist[2,0], c='black', s=50, marker='o',zorder=3)\\n\\na = plt.contourf(X, Y, Z, v, cmap='plasma_r', norm=norm)\\nb = plt.contourf(X, Y, Z, v, cmap='plasma_r', norm=norm)\\n\\ngp.plotting.plot_section(geo_data, lith_block[0], cell_number=1,\\n                         direction='y', plot_data=False, cmap=cmap, norm=None)\\n\\nplt.colorbar(a, orientation='vertical', fraction=0.019, pad=0.06)\\n\\nplt.axis('equal')\\nplt.xlim(0,1000)\\nplt.ylim(200,800)\\n\\nplt.savefig(fname='Distancefield__deformedA_modelA_an=1', edgecolor='black', bbox_inches='tight')\\n\""
      ]
     },
     "execution_count": 52,
     "metadata": {},
     "output_type": "execute_result"
    }
   ],
   "source": [
    "'''\n",
    "coord_dist = test.result_coord[:3]\n",
    "dist_plt = test.dist_matrix_plt[:,1]\n",
    "combined = np.vstack((coord_dist, dist_plt))\n",
    "combined = np.swapaxes(combined,0,1)\n",
    "combined_cut = np.where(combined[:,1]<10)[0]\n",
    "combined_cut = combined[combined_cut]\n",
    "combined_cut = combined_cut[:,[0,2,3]]\n",
    "\n",
    "X, Y, Z = grid(combined_cut[:,0], combined_cut[:,1], combined_cut[:,2])\n",
    "\n",
    "norm=matplotlib.colors.Normalize(vmin=0, vmax=600)\n",
    "v = np.linspace(0, 600,11, endpoint=True)\n",
    "\n",
    "c = plt.scatter(x=coord_dist[0,0], y=coord_dist[2,0], c='black', s=50, marker='o',zorder=3)\n",
    "\n",
    "a = plt.contourf(X, Y, Z, v, cmap='plasma_r', norm=norm)\n",
    "b = plt.contourf(X, Y, Z, v, cmap='plasma_r', norm=norm)\n",
    "\n",
    "gp.plotting.plot_section(geo_data, lith_block[0], cell_number=1,\n",
    "                         direction='y', plot_data=False, cmap=cmap, norm=None)\n",
    "\n",
    "plt.colorbar(a, orientation='vertical', fraction=0.019, pad=0.06)\n",
    "\n",
    "plt.axis('equal')\n",
    "plt.xlim(0,1000)\n",
    "plt.ylim(200,800)\n",
    "\n",
    "plt.savefig(fname='Distancefield__deformedA_modelA_an=1', edgecolor='black', bbox_inches='tight')\n",
    "'''"
   ]
  },
  {
   "cell_type": "code",
   "execution_count": 53,
   "metadata": {},
   "outputs": [],
   "source": [
    "# Sampling\n",
    "def random_sampling(data):\n",
    "    #print(len(data))\n",
    "    rand_pos = np.random.randint(0,len(data),50)\n",
    "    #print(rand_pos)\n",
    "    #print(rand_pos.shape)\n",
    "    samples = data[rand_pos]\n",
    "    return samples"
   ]
  },
  {
   "cell_type": "code",
   "execution_count": 54,
   "metadata": {},
   "outputs": [],
   "source": [
    "samples = random_sampling(combined)"
   ]
  },
  {
   "cell_type": "code",
   "execution_count": 55,
   "metadata": {},
   "outputs": [
    {
     "data": {
      "image/png": "[encoded data removed]",
      "text/plain": [
       "<matplotlib.figure.Figure at 0x1e17627b080>"
      ]
     },
     "metadata": {},
     "output_type": "display_data"
    }
   ],
   "source": [
    "gp.plotting.plot_section(geo_data, lith_block[0], cell_number=1,\n",
    "                         direction='y', plot_data=False, cmap=cmap, norm=None)\n",
    "\n",
    "plt.scatter(x=samples[:,0], y=samples[:,2], c=samples[:,3], s=50, cmap='viridis', linewidths=1, edgecolors='black')\n",
    "\n",
    "plt.axis('equal')\n",
    "plt.xlim(0,1000)\n",
    "plt.ylim(200,800)\n",
    "\n",
    "plt.colorbar(a, orientation='vertical', fraction=0.022, pad=0.05)\n",
    "\n",
    "plt.savefig(fname='Basic_SGSfield_200_50_1_samples', edgecolor='black')"
   ]
  },
  {
   "cell_type": "code",
   "execution_count": 25,
   "metadata": {},
   "outputs": [],
   "source": [
    "d = {'X': samples[:,0], 'Y': samples[:,1], 'Z': samples[:,2], 'Property': samples[:,3]}\n",
    "data_field = pd.DataFrame(data=d)\n",
    "#print(data_field)"
   ]
  },
  {
   "cell_type": "code",
   "execution_count": 26,
   "metadata": {},
   "outputs": [
    {
     "name": "stdout",
     "output_type": "stream",
     "text": [
      "WARNING: No variogram parameters passed, arbitrarily set to (100,10,1)\n",
      "initializing: 0.014101982116699219\n",
      "Step1 0.0\n",
      "Step2 -0.10424017906188965\n",
      "Step3 -0.0697793960571289\n",
      "Step4 -0.03962397575378418\n",
      "distance precalculation: 0.22384285926818848\n",
      "submatrix extraction: 0.005509614944458008\n",
      "distance Matrices: 0.10416364669799805\n",
      "kriging calculation: 0.24770140647888184\n",
      "Negative Variances: 0\n",
      "Out of: 640\n"
     ]
    }
   ],
   "source": [
    "simulation = krige.Kriging(data_field, lith_block, geo_data, formation_number=2, kriging_type='UK', distance_type='deformed_A')"
   ]
  },
  {
   "cell_type": "code",
   "execution_count": 27,
   "metadata": {},
   "outputs": [],
   "source": [
    "coord = simulation.result_coord[:3]\n",
    "result = simulation.kriging_result[1]\n",
    "combined = np.vstack((coord, result))\n",
    "combined = np.swapaxes(combined,0,1)\n",
    "\n",
    "combined_cut = np.where(combined[:,1]<10)[0]\n",
    "combined_cut = combined[combined_cut]\n",
    "combined_cut = combined_cut[:,[0,2,3]]"
   ]
  },
  {
   "cell_type": "code",
   "execution_count": 28,
   "metadata": {},
   "outputs": [
    {
     "data": {
      "image/png": "[encoded data removed]",
      "text/plain": [
       "<matplotlib.figure.Figure at 0x1e16da40f60>"
      ]
     },
     "metadata": {},
     "output_type": "display_data"
    }
   ],
   "source": [
    "X, Y, Z = grid(combined_cut[:,0], combined_cut[:,1], combined_cut[:,2])\n",
    "\n",
    "fig = plt.figure(figsize=(10, 7))\n",
    "\n",
    "plt.contourf(X, Y, Z, cmap='viridis')\n",
    "\n",
    "plt.axis('equal')\n",
    "plt.xlim(0,1000)\n",
    "plt.ylim(300,700)\n",
    "\n",
    "fig.colorbar(a, orientation='horizontal')\n",
    "fig.tight_layout()"
   ]
  },
  {
   "cell_type": "code",
   "execution_count": 29,
   "metadata": {},
   "outputs": [
    {
     "name": "stdout",
     "output_type": "stream",
     "text": [
      "      X     Y      Z  lith     scalar  fault\n",
      "0  12.5  0.25  412.5   2.0  41.125198    0.0\n",
      "1  12.5  0.25  437.5   2.0  41.152977    0.0\n",
      "2  12.5  0.25  462.5   2.0  41.180756    0.0\n",
      "3  12.5  0.25  487.5   2.0  41.208534    0.0\n",
      "4  12.5  0.25  512.5   2.0  41.236309    0.0\n"
     ]
    }
   ],
   "source": [
    "print(test.grid_dataframe.head())"
   ]
  },
  {
   "cell_type": "code",
   "execution_count": 30,
   "metadata": {
    "scrolled": true
   },
   "outputs": [
    {
     "name": "stdout",
     "output_type": "stream",
     "text": [
      "(3200,)\n",
      "(3200,)\n"
     ]
    }
   ],
   "source": [
    "print(lith_block[0].shape)\n",
    "\n",
    "print(geo_data.grid.values[:, 0].shape)"
   ]
  },
  {
   "cell_type": "code",
   "execution_count": 31,
   "metadata": {},
   "outputs": [
    {
     "name": "stdout",
     "output_type": "stream",
     "text": [
      "      X     Y      Z  lithology  scalar field value\n",
      "0  12.5  0.25   12.5        3.0           40.680756\n",
      "1  12.5  0.25   37.5        3.0           40.708534\n",
      "2  12.5  0.25   62.5        3.0           40.736309\n",
      "3  12.5  0.25   87.5        3.0           40.764088\n",
      "4  12.5  0.25  112.5        3.0           40.791866\n"
     ]
    }
   ],
   "source": [
    "d = {'X': geo_data.grid.values[:, 0], 'Y': geo_data.grid.values[:, 1], 'Z': geo_data.grid.values[:, 2],\n",
    "     'lithology': lith_block[0], 'scalar field value': lith_block[1]}\n",
    "dataframe = pd.DataFrame(data=d)\n",
    "print(dataframe.head())"
   ]
  },
  {
   "cell_type": "code",
   "execution_count": 32,
   "metadata": {},
   "outputs": [
    {
     "ename": "IndexError",
     "evalue": "index 0 is out of bounds for axis 0 with size 0",
     "output_type": "error",
     "traceback": [
      "\u001b[1;31m---------------------------------------------------------------------------\u001b[0m",
      "\u001b[1;31mIndexError\u001b[0m                                Traceback (most recent call last)",
      "\u001b[1;32m<ipython-input-32-72cf1e8b9288>\u001b[0m in \u001b[0;36m<module>\u001b[1;34m()\u001b[0m\n\u001b[0;32m      1\u001b[0m \u001b[1;31m# create the dataframe and populate with data\u001b[0m\u001b[1;33m\u001b[0m\u001b[1;33m\u001b[0m\u001b[0m\n\u001b[0;32m      2\u001b[0m d = {'X': geo_data.grid.values[:, 0], 'Y': geo_data.grid.values[:, 1], 'Z': geo_data.grid.values[:, 2],\n\u001b[1;32m----> 3\u001b[1;33m     'lithology': lith_block[0], 'scalar field value': lith_block[1], 'fault block': fault_block[0]}\n\u001b[0m\u001b[0;32m      4\u001b[0m \u001b[1;33m\u001b[0m\u001b[0m\n\u001b[0;32m      5\u001b[0m \u001b[1;33m\u001b[0m\u001b[0m\n",
      "\u001b[1;31mIndexError\u001b[0m: index 0 is out of bounds for axis 0 with size 0"
     ]
    }
   ],
   "source": [
    "# create the dataframe and populate with data\n",
    "d = {'X': geo_data.grid.values[:, 0], 'Y': geo_data.grid.values[:, 1], 'Z': geo_data.grid.values[:, 2],\n",
    "    'lithology': lith_block[0], 'scalar field value': lith_block[1], 'fault block': fault_block[0]}\n",
    "\n",
    "\n",
    "dataframe = pd.DataFrame(data=d)"
   ]
  },
  {
   "cell_type": "code",
   "execution_count": null,
   "metadata": {},
   "outputs": [],
   "source": []
  },
  {
   "cell_type": "code",
   "execution_count": null,
   "metadata": {},
   "outputs": [],
   "source": []
  }
 ],
 "metadata": {
  "kernelspec": {
   "display_name": "Python 3",
   "language": "python",
   "name": "python3"
  }
 },
 "nbformat": 4,
 "nbformat_minor": 2
}
