{
 "cells": [
  {
   "cell_type": "markdown",
   "metadata": {},
   "source": [
    "# Timing distance calculations"
   ]
  },
  {
   "cell_type": "markdown",
   "metadata": {},
   "source": [
    "I want to create 3-4 simple models in order to show the effect of the distance algorithm for Kriging and how it can be applied to Gempy models. In general I think 3 Layers should be fine, cutting out the central one. Keeping all in the same size around max 5000 grid points gives reasonable calculation times.\n",
    "1) flat horizontal \n",
    "2) anticline \n",
    "3) recumbent anticline\n",
    "4) layer pinching out ?\n",
    "5) should be something like a fault"
   ]
  },
  {
   "cell_type": "code",
   "execution_count": 1,
   "metadata": {},
   "outputs": [
    {
     "name": "stderr",
     "output_type": "stream",
     "text": [
      "C:\\Users\\Jan\\Anaconda3\\lib\\site-packages\\h5py\\__init__.py:36: FutureWarning: Conversion of the second argument of issubdtype from `float` to `np.floating` is deprecated. In future, it will be treated as `np.float64 == np.dtype(float).type`.\n",
      "  from ._conv import register_converters as _register_converters\n"
     ]
    }
   ],
   "source": [
    "# These lines are necessary only if GemPy is not installed\n",
    "import sys, os\n",
    "sys.path.append(\"../../..\")\n",
    "os.environ['CUDA_LAUNCH_BLOCKING'] = '1'\n",
    "os.environ['MKL_THREADING_LAYER'] = 'GNU'\n",
    "\n",
    "# Importing GemPy, which takes really long\n",
    "import gempy as gp\n",
    "\n",
    "# Importing auxiliary libraries\n",
    "import numpy as np\n",
    "import matplotlib \n",
    "from mpl_toolkits.mplot3d import Axes3D\n",
    "from matplotlib import pyplot as plt\n",
    "import pandas as pd\n",
    "\n",
    "import gempy.utils.Kriging_Jan as krige\n",
    "import psutil"
   ]
  },
  {
   "cell_type": "code",
   "execution_count": 2,
   "metadata": {},
   "outputs": [],
   "source": [
    "d = {'X': [500, 500], 'Y': [10, 10], 'Z': [500,500], 'Property': [20, 20]}\n",
    "data_field = pd.DataFrame(data=d)"
   ]
  },
  {
   "cell_type": "code",
   "execution_count": 3,
   "metadata": {},
   "outputs": [
    {
     "name": "stdout",
     "output_type": "stream",
     "text": [
      "[2 3 4 5 6 7 8]\n"
     ]
    }
   ],
   "source": [
    "x = np.arange(2,9,1)\n",
    "print(x)"
   ]
  },
  {
   "cell_type": "code",
   "execution_count": 4,
   "metadata": {},
   "outputs": [],
   "source": [
    "number_gridpoints = np.zeros(len(x))\n",
    "maxmem = np.zeros(len(x))\n",
    "step1 = np.zeros(len(x))\n",
    "step2 = np.zeros(len(x))\n",
    "step3 = np.zeros(len(x))\n",
    "step4 = np.zeros(len(x))\n",
    "dist_total = np.zeros(len(x))\n",
    "matrix_extr = np.zeros(len(x))\n",
    "krig_calc = np.zeros(len(x))"
   ]
  },
  {
   "cell_type": "code",
   "execution_count": 5,
   "metadata": {},
   "outputs": [
    {
     "name": "stdout",
     "output_type": "stream",
     "text": [
      "[0. 0. 0. 0. 0. 0. 0.]\n",
      "[0. 0. 1. 0. 0. 0. 0.]\n"
     ]
    }
   ],
   "source": [
    "print(maxmem)\n",
    "maxmem[:][2]=1\n",
    "print(maxmem)"
   ]
  },
  {
   "cell_type": "code",
   "execution_count": 13,
   "metadata": {},
   "outputs": [
    {
     "name": "stdout",
     "output_type": "stream",
     "text": [
      "Compiling theano function...\n",
      "Compilation Done!\n",
      "Level of Optimization:  fast_compile\n",
      "Device:  cpu\n",
      "Precision:  float32\n",
      "Number of faults:  0\n"
     ]
    },
    {
     "name": "stderr",
     "output_type": "stream",
     "text": [
      "C:\\Users\\Jan\\Anaconda3\\lib\\site-packages\\theano\\tensor\\subtensor.py:2320: FutureWarning: Using a non-tuple sequence for multidimensional indexing is deprecated; use `arr[tuple(seq)]` instead of `arr[seq]`. In the future this will be interpreted as an array index, `arr[np.array(seq)]`, which will result either in an error or a different result.\n",
      "  out[0][inputs[2:]] = inputs[1]\n"
     ]
    },
    {
     "name": "stdout",
     "output_type": "stream",
     "text": [
      "initializing: 0.06696343421936035\n",
      "distance precalculation: 1.0116002559661865\n",
      "submatrix extraction: 0.004995584487915039\n",
      "distance Matrices: 0.32389187812805176\n",
      "kriging calculation: 0.5276157855987549\n",
      "Negative Variances: 0\n",
      "Out of: 4001\n",
      "Compiling theano function...\n",
      "Compilation Done!\n",
      "Level of Optimization:  fast_compile\n",
      "Device:  cpu\n",
      "Precision:  float32\n",
      "Number of faults:  0\n",
      "initializing: 0.0029993057250976562\n",
      "distance precalculation: 1.2729175090789795\n",
      "submatrix extraction: 0.013001441955566406\n",
      "distance Matrices: 0.4926891326904297\n",
      "kriging calculation: 0.7781517505645752\n",
      "Negative Variances: 0\n",
      "Out of: 6001\n",
      "Compiling theano function...\n",
      "Compilation Done!\n",
      "Level of Optimization:  fast_compile\n",
      "Device:  cpu\n",
      "Precision:  float32\n",
      "Number of faults:  0\n",
      "initializing: 0.007994651794433594\n",
      "distance precalculation: 2.1682801246643066\n",
      "submatrix extraction: 0.011997699737548828\n",
      "distance Matrices: 0.7473094463348389\n",
      "kriging calculation: 1.0126745700836182\n",
      "Negative Variances: 0\n",
      "Out of: 8001\n",
      "Compiling theano function...\n",
      "Compilation Done!\n",
      "Level of Optimization:  fast_compile\n",
      "Device:  cpu\n",
      "Precision:  float32\n",
      "Number of faults:  0\n",
      "initializing: 0.008994579315185547\n",
      "distance precalculation: 3.037248373031616\n",
      "submatrix extraction: 0.033972740173339844\n",
      "distance Matrices: 1.0374650955200195\n",
      "kriging calculation: 1.3673653602600098\n",
      "Negative Variances: 0\n",
      "Out of: 10001\n",
      "Compiling theano function...\n",
      "Compilation Done!\n",
      "Level of Optimization:  fast_compile\n",
      "Device:  cpu\n",
      "Precision:  float32\n",
      "Number of faults:  0\n",
      "initializing: 0.0049970149993896484\n",
      "distance precalculation: 4.265782356262207\n",
      "submatrix extraction: 0.039969444274902344\n",
      "distance Matrices: 1.5708224773406982\n",
      "kriging calculation: 1.7223379611968994\n",
      "Negative Variances: 0\n",
      "Out of: 12001\n",
      "Compiling theano function...\n",
      "Compilation Done!\n",
      "Level of Optimization:  fast_compile\n",
      "Device:  cpu\n",
      "Precision:  float32\n",
      "Number of faults:  0\n",
      "initializing: 0.01099395751953125\n",
      "distance precalculation: 6.255269289016724\n",
      "submatrix extraction: 0.029967784881591797\n",
      "distance Matrices: 1.7975337505340576\n",
      "kriging calculation: 1.8780016899108887\n",
      "Negative Variances: 0\n",
      "Out of: 14001\n",
      "Compiling theano function...\n",
      "Compilation Done!\n",
      "Level of Optimization:  fast_compile\n",
      "Device:  cpu\n",
      "Precision:  float32\n",
      "Number of faults:  0\n",
      "initializing: 0.006995677947998047\n",
      "distance precalculation: 7.422610282897949\n",
      "submatrix extraction: 0.04498291015625\n",
      "distance Matrices: 2.3423280715942383\n",
      "kriging calculation: 2.1785123348236084\n",
      "Negative Variances: 0\n",
      "Out of: 16001\n"
     ]
    }
   ],
   "source": [
    "for i in range(len(x)):\n",
    "    geo_data = gp.create_data([0,1000,0,20,0,1000],resolution=[100,x[i],100], \n",
    "                            path_o = \"C:/Users/Jan/gempy/notebooks/prototype_notebooks/JanThesis/Jan_thesis_model1_orientations_slice.csv\", path_i = \"C:/Users/Jan/gempy/notebooks/prototype_notebooks/JanThesis/Jan_thesis_model1_interfaces_slice.csv\")\n",
    "    gp.set_series(geo_data, {\"Strat_Series\": ('rock2','rock1'),\"Basement_Series\":('basement')},order_series = ['Strat_Series','Basement_Series'],\n",
    "                       order_formations=np.array(['rock2','rock1','basement']), verbose=0)\n",
    "    interp_data = gp.InterpolatorData(geo_data, u_grade=[1], output='geology', compile_theano=True, theano_optimizer='fast_compile')\n",
    "    lith_block, fault_block = gp.compute_model(interp_data)\n",
    "    process = psutil.Process(os.getpid())\n",
    "    test = krige.Kriging(data_field, lith_block, geo_data, formation_number=2, kriging_type='OK', distance_type='deformed_B', an_factor=1, var_par=(200,50,1))\n",
    "    number_gridpoints[:][i] = len(test.grid_dataframe)\n",
    "    maxmem[:][i] = process.memory_info().rss/1000/1000\n",
    "    step1[:][i] = test.tstep1\n",
    "    step2[:][i] = test.tstep2\n",
    "    step3[:][i] = test.tstep3\n",
    "    step4[:][i] = test.tstep4\n",
    "    dist_total[:][i] = test.tstep1+test.tstep2+test.tstep3+test.tstep4\n",
    "    matrix_extr[:][i] = test.time_sub+test.time_dist\n",
    "    krig_calc[:][i] = test.time_krig"
   ]
  },
  {
   "cell_type": "code",
   "execution_count": 14,
   "metadata": {},
   "outputs": [],
   "source": [
    "# create the dataframe and populate with data\n",
    "da = {'#gridpoints': number_gridpoints, 'maxmem': maxmem, 'step1': step1, 'step2': step2,\n",
    "      'step3': step3,'step4': step4,'total': dist_total, 'matrix_extr': matrix_extr, 'krig_calc': krig_calc}\n",
    "df_time_mem = pd.DataFrame(data=da)\n"
   ]
  },
  {
   "cell_type": "code",
   "execution_count": 15,
   "metadata": {},
   "outputs": [
    {
     "name": "stdout",
     "output_type": "stream",
     "text": [
      "   #gridpoints       maxmem     step1     step2     step3     step4     total  \\\n",
      "0       4000.0   476.667904  0.024046  0.075005  0.390837  0.521713  1.011600   \n",
      "1       6000.0   645.001216  0.003995  0.133119  0.328000  0.806811  1.271925   \n",
      "2       8000.0   873.783296  0.003993  0.170915  0.668134  1.324238  2.167280   \n",
      "3      10000.0  1167.732736  0.002997  0.268844  1.038400  1.725006  3.035247   \n",
      "4      12000.0  1530.408960  0.003997  0.290255  1.285691  2.682843  4.262785   \n",
      "5      14000.0  1938.624512  0.006995  0.448741  2.127772  3.667768  6.251276   \n",
      "6      16000.0  2419.253248  0.004996  0.413993  2.405707  4.593918  7.418614   \n",
      "\n",
      "   matrix_extr  krig_calc  \n",
      "0     0.328887   0.527616  \n",
      "1     0.505691   0.778152  \n",
      "2     0.759307   1.012675  \n",
      "3     1.071438   1.367365  \n",
      "4     1.610792   1.722338  \n",
      "5     1.827502   1.878002  \n",
      "6     2.387311   2.178512  \n"
     ]
    }
   ],
   "source": [
    "print(df_time_mem)"
   ]
  },
  {
   "cell_type": "code",
   "execution_count": 16,
   "metadata": {},
   "outputs": [
    {
     "data": {
      "text/plain": [
       "array([0.32888746, 0.50569057, 0.75930715, 1.07143784, 1.61079192,\n",
       "       1.82750154, 2.38731098])"
      ]
     },
     "execution_count": 16,
     "metadata": {},
     "output_type": "execute_result"
    }
   ],
   "source": [
    "df_time_mem['matrix_extr'].values"
   ]
  },
  {
   "cell_type": "code",
   "execution_count": 23,
   "metadata": {},
   "outputs": [
    {
     "data": {
      "image/png": "[encoded data removed]",
      "text/plain": [
       "<matplotlib.figure.Figure at 0x1e90d8d6438>"
      ]
     },
     "metadata": {},
     "output_type": "display_data"
    }
   ],
   "source": [
    "N = len(x)\n",
    "ind = np.arange(N)    # the x locations for the groups\n",
    "width = 0.4       # the width of the bars: can also be len(x) sequence\n",
    "\n",
    "p1 = plt.bar(ind, step1, width)\n",
    "p2 = plt.bar(ind, step2, width,\n",
    "             bottom=step1)\n",
    "p3 = plt.bar(ind, step3, width,\n",
    "             bottom=step2)\n",
    "p4 = plt.bar(ind, step4, width,\n",
    "             bottom=step3)\n",
    "\n",
    "plt.grid()\n",
    "plt.ylabel('Time [s]')\n",
    "plt.xlabel('Number of grid points in domain')\n",
    "plt.title('Total computation time \\n for non-euclidian distances matrix')\n",
    "plt.xticks(ind, ('4,000', '6,000', '8,000', '10,000', '12,000', '14,000', '16,000'))\n",
    "plt.yticks(np.arange(0, 10, 2))\n",
    "plt.legend((p1[0], p2[0], p3[0], p4[0]), ('Step 1', 'Step 2', 'Step 3', 'Step 4'))\n",
    "plt.savefig(fname='Plot_time_dist', edgecolor='black', bbox_inches='tight')\n",
    "plt.show()"
   ]
  },
  {
   "cell_type": "code",
   "execution_count": 22,
   "metadata": {},
   "outputs": [
    {
     "data": {
      "image/png": "[encoded data removed]",
      "text/plain": [
       "<matplotlib.figure.Figure at 0x1e92060ae10>"
      ]
     },
     "metadata": {},
     "output_type": "display_data"
    }
   ],
   "source": [
    "N = len(x)\n",
    "ind = np.arange(N)    # the x locations for the groups\n",
    "width = 0.4      # the width of the bars: can also be len(x) sequence\n",
    "\n",
    "p1 = plt.bar(ind, maxmem/1000, width)\n",
    "\n",
    "plt.grid()\n",
    "plt.ylabel('Maximum memory usage [GB]')\n",
    "plt.xlabel('Number of grid points in domain')\n",
    "plt.title('Maximum memory usage for \\n non-euclidian distance calculation', loc='center')\n",
    "plt.xticks(ind, ('4,000', '6,000', '8,000', '10,000', '12,000', '14,000', '16,000'))\n",
    "plt.yticks(np.arange(0, 3, .5))\n",
    "\n",
    "plt.savefig(fname='Plot_memory', edgecolor='black', bbox_inches='tight')\n",
    "plt.show()"
   ]
  },
  {
   "cell_type": "code",
   "execution_count": 21,
   "metadata": {},
   "outputs": [
    {
     "data": {
      "image/png": "[encoded data removed]",
      "text/plain": [
       "<matplotlib.figure.Figure at 0x1e9188dac88>"
      ]
     },
     "metadata": {},
     "output_type": "display_data"
    }
   ],
   "source": [
    "N = len(x)\n",
    "ind = np.arange(N)    # the x locations for the groups\n",
    "width = 0.4       # the width of the bars: can also be len(x) sequence\n",
    "\n",
    "p11 = plt.bar(ind, dist_total, width)\n",
    "\n",
    "p22 = plt.bar(ind, matrix_extr, width,\n",
    "             bottom=dist_total)\n",
    "\n",
    "p33 = plt.bar(ind, krig_calc, width,\n",
    "            bottom=matrix_extr+dist_total)\n",
    "\n",
    "plt.grid()\n",
    "plt.ylabel('Time [s]')\n",
    "plt.xlabel('Number of grid points in domain')\n",
    "plt.title('Total computation time for SGS run \\n using non-euclidian distances')\n",
    "plt.xticks(ind, ('4,000', '6,000', '8,000', '10,000', '12,000', '14,000', '16,000'))\n",
    "plt.yticks(np.arange(0, 14, 2))\n",
    "plt.legend((p11[0], p22[0], p33[0]), ('distance calculation', 'matrix extraction', 'kriging calculation'))\n",
    "plt.savefig(fname='Plot_time_SGS', edgecolor='black', bbox_inches='tight')\n",
    "plt.show()\n"
   ]
  },
  {
   "cell_type": "code",
   "execution_count": null,
   "metadata": {},
   "outputs": [],
   "source": []
  },
  {
   "cell_type": "code",
   "execution_count": null,
   "metadata": {},
   "outputs": [],
   "source": []
  }
 ],
 "metadata": {
  "kernelspec": {
   "display_name": "Python 3",
   "language": "python",
   "name": "python3"
  },
  "language_info": {
   "codemirror_mode": {
    "name": "ipython",
    "version": 3
   },
   "file_extension": ".py",
   "mimetype": "text/x-python",
   "name": "python",
   "nbconvert_exporter": "python",
   "pygments_lexer": "ipython3",
   "version": "3.6.4"
  }
 },
 "nbformat": 4,
 "nbformat_minor": 2
}
