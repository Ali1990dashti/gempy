{
 "cells": [
  {
   "cell_type": "markdown",
   "metadata": {},
   "source": [
    "# Step 7 - Towards Cokriging"
   ]
  },
  {
   "cell_type": "code",
   "execution_count": 1,
   "metadata": {},
   "outputs": [],
   "source": [
    "# These lines are necessary only if GemPy is not installed\n",
    "import sys, os\n",
    "sys.path.append(\"../../..\")\n",
    "os.environ['CUDA_LAUNCH_BLOCKING'] = '1'\n",
    "os.environ['MKL_THREADING_LAYER'] = 'GNU'\n",
    "\n",
    "# Importing GemPy, which takes really long\n",
    "import gempy as gp\n",
    "\n",
    "# Importing auxiliary libraries\n",
    "import numpy as np\n",
    "from matplotlib import pyplot as plt\n",
    "import matplotlib as mpl\n",
    "from mpl_toolkits.mplot3d import Axes3D\n",
    "import pandas as pd\n",
    "from scipy import spatial"
   ]
  },
  {
   "cell_type": "code",
   "execution_count": 2,
   "metadata": {},
   "outputs": [],
   "source": [
    "domain = pd.read_csv(\"domain3d.csv\")\n",
    "data = pd.read_csv(\"data3d.csv\")\n",
    "variogram_fit = pd.read_csv(\"variogram_fit.csv\")\n",
    "range_ = variogram_fit.iloc[0][0]\n",
    "sill = variogram_fit.iloc[0][1]\n",
    "nugget = 5 # have to figure out a real way to do this"
   ]
  },
  {
   "cell_type": "code",
   "execution_count": 1,
   "metadata": {},
   "outputs": [],
   "source": [
    "def gaussian_variogram_model(d):\n",
    "    global range_\n",
    "    global sill\n",
    "    global nugget\n",
    "    psill =sill-nugget\n",
    "    gamma = psill * (1. - np.exp(-d**2./(range_)**2.))+nugget\n",
    "    return gamma"
   ]
  },
  {
   "cell_type": "code",
   "execution_count": 2,
   "metadata": {},
   "outputs": [],
   "source": [
    "def exponential_model(d):\n",
    "    global range_\n",
    "    global sill\n",
    "    global nugget\n",
    "    psill =sill-nugget\n",
    "    gamma = psill * (1. - np.exp(-d/(range_)))+nugget\n",
    "    return gamma"
   ]
  },
  {
   "cell_type": "code",
   "execution_count": 3,
   "metadata": {},
   "outputs": [],
   "source": [
    "def spherical_variogram_model(h):\n",
    "    global range_\n",
    "    global sill\n",
    "    global nugget\n",
    "    psill =sill-nugget\n",
    "    if 0 <= abs(h) <= range_:\n",
    "        gamma = psill * ((3/2*abs(h)/range_)-(1/2*(abs(h)/range_)**3))+nugget\n",
    "    else:\n",
    "        gamma = psill + nugget\n",
    "    return gamma"
   ]
  },
  {
   "cell_type": "code",
   "execution_count": 4,
   "metadata": {},
   "outputs": [],
   "source": [
    "def create_synthetic_Input_data(n_samples, grid, mean, std):\n",
    "    '''\n",
    "    This Part is used to create synthetic Input data. It is possible to vary the number of properties\n",
    "    and the number of samples. Right now every assigned value is a random value between 0 and 100.\n",
    "    Data is thus in no way spatially correlated, which makes the Kriging kind of useless, but works for\n",
    "    testing purposes. Only an isotopic case is realized. Max 10 properties can be used due to a.\n",
    "    Args: \n",
    "        n_prop (int): Number of properties that we have data for\n",
    "        n_samples (int): Number of sample locations, were we have data for every property (isotopic)\n",
    "        grid (pandas.dataframe): grid from which the coordinates for the data points are taken\n",
    "    Returns:\n",
    "        df_prop(pandas.dataframe): dataframe containing x,y,z coordinates and data for n properties\n",
    "    '''\n",
    "    # this case only for one property\n",
    "    n_prop = 2\n",
    "    # copy to leave original grid intact\n",
    "    data_loc_aux = grid.copy()\n",
    "\n",
    "    # create dataframe with coordinates and n properties\n",
    "    d = ['X', 'Y', 'Z', 'Property1', 'Property2']\n",
    "    df_prop = pd.DataFrame(columns=d)\n",
    "    \n",
    "    for i in range(n_samples):\n",
    "            # choose random point from df_sgs_grid_calc\n",
    "            rand_pos = np.random.randint(0,len(data_loc_aux))\n",
    "            random_coord = np.array([data_loc_aux.loc[rand_pos,'X'],data_loc_aux.loc[rand_pos,'Y'],data_loc_aux.loc[rand_pos,'Z']])\n",
    "            \n",
    "            # delete point from the df sgs_grid_calc\n",
    "            data_loc_aux = data_loc_aux.drop([rand_pos])\n",
    "            data_loc_aux = data_loc_aux.reset_index() # reset indicies\n",
    "            del data_loc_aux['index'] #reset indices\n",
    "            \n",
    "            # pick random coordinate from grid\n",
    "            data_point=([random_coord[0], random_coord[1], random_coord[2]])\n",
    "            \n",
    "            if df_prop.empty:\n",
    "                # create starting point\n",
    "                data_values = np.random.normal(mean, scale=std)\n",
    "            else:\n",
    "                # create a value based on covariance function\n",
    "                # mean, std = kriging()\n",
    "                data_value = simple_kriging(data_point, mean, df_prop, std)\n",
    "            \n",
    "            # add calculated data value\n",
    "            data_point.append(data_value)\n",
    "        \n",
    "            # put it into the dataframe\n",
    "            df_prop.loc[i]=data_point\n",
    "\n",
    "    return df_prop"
   ]
  },
  {
   "cell_type": "code",
   "execution_count": 5,
   "metadata": {},
   "outputs": [
    {
     "ename": "NameError",
     "evalue": "name 'domain' is not defined",
     "output_type": "error",
     "traceback": [
      "\u001b[1;31m---------------------------------------------------------------------------\u001b[0m",
      "\u001b[1;31mNameError\u001b[0m                                 Traceback (most recent call last)",
      "\u001b[1;32m<ipython-input-5-dafc6aa8dc02>\u001b[0m in \u001b[0;36m<module>\u001b[1;34m()\u001b[0m\n\u001b[1;32m----> 1\u001b[1;33m \u001b[0mdata\u001b[0m \u001b[1;33m=\u001b[0m \u001b[0mcreate_synthetic_Input_data\u001b[0m\u001b[1;33m(\u001b[0m\u001b[0mn_samples\u001b[0m\u001b[1;33m=\u001b[0m\u001b[1;36m200\u001b[0m\u001b[1;33m,\u001b[0m \u001b[0mgrid\u001b[0m\u001b[1;33m=\u001b[0m\u001b[0mdomain\u001b[0m\u001b[1;33m,\u001b[0m \u001b[0mmean\u001b[0m\u001b[1;33m=\u001b[0m\u001b[1;36m20\u001b[0m\u001b[1;33m,\u001b[0m \u001b[0mstd\u001b[0m\u001b[1;33m=\u001b[0m\u001b[1;36m5\u001b[0m\u001b[1;33m)\u001b[0m\u001b[1;33m\u001b[0m\u001b[0m\n\u001b[0m",
      "\u001b[1;31mNameError\u001b[0m: name 'domain' is not defined"
     ]
    }
   ],
   "source": [
    "data = create_synthetic_Input_data(n_samples=200, grid=domain, mean=20, std=5)"
   ]
  },
  {
   "cell_type": "code",
   "execution_count": null,
   "metadata": {},
   "outputs": [],
   "source": [
    "fig = plt.figure(figsize=(16,12))\n",
    "ax = Axes3D(fig)\n",
    "ax.axes.set_zlim3d(0,2000)\n",
    "ax.axes.set_xlim3d(0,3000)\n",
    "ax.axes.set_ylim3d(0,200)\n",
    "ax.scatter3D(xs=domain.X,ys=domain.Y,zs=domain.Z, c='red', s=1)\n",
    "ax.scatter3D(xs=data.X,ys=data.Y,zs=data.Z, c=data.Property, s=50, cmap='prism')"
   ]
  }
 ],
 "metadata": {
  "kernelspec": {
   "display_name": "Python 3",
   "language": "python",
   "name": "python3"
  },
  "language_info": {
   "codemirror_mode": {
    "name": "ipython",
    "version": 3
   },
   "file_extension": ".py",
   "mimetype": "text/x-python",
   "name": "python",
   "nbconvert_exporter": "python",
   "pygments_lexer": "ipython3",
   "version": "3.6.4"
  }
 },
 "nbformat": 4,
 "nbformat_minor": 2
}
