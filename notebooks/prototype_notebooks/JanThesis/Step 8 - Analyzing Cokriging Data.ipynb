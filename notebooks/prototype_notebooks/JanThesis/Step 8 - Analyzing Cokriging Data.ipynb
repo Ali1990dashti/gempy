{
 "cells": [
  {
   "cell_type": "markdown",
   "metadata": {},
   "source": [
    "# Step 9 - Analyzing Cokriging data"
   ]
  },
  {
   "cell_type": "code",
   "execution_count": 1,
   "metadata": {},
   "outputs": [],
   "source": [
    "# These lines are necessary only if GemPy is not installed\n",
    "import sys, os\n",
    "sys.path.append(\"../../..\")\n",
    "os.environ['CUDA_LAUNCH_BLOCKING'] = '1'\n",
    "os.environ['MKL_THREADING_LAYER'] = 'GNU'\n",
    "\n",
    "# Importing GemPy, which takes really long\n",
    "import gempy as gp\n",
    "\n",
    "# Importing auxiliary libraries\n",
    "import numpy as np\n",
    "from matplotlib import pyplot as plt\n",
    "from mpl_toolkits.mplot3d import Axes3D\n",
    "import pandas as pd\n",
    "import scipy.stats\n",
    "from scipy import spatial\n",
    "from scipy import optimize\n",
    "from scipy import special"
   ]
  },
  {
   "cell_type": "code",
   "execution_count": 2,
   "metadata": {},
   "outputs": [],
   "source": [
    "domain = pd.read_csv(\"domain3d.csv\")\n",
    "data = pd.read_csv(\"data3d_2prop.csv\")"
   ]
  },
  {
   "cell_type": "code",
   "execution_count": 3,
   "metadata": {},
   "outputs": [
    {
     "data": {
      "text/html": [
       "<div>\n",
       "<style scoped>\n",
       "    .dataframe tbody tr th:only-of-type {\n",
       "        vertical-align: middle;\n",
       "    }\n",
       "\n",
       "    .dataframe tbody tr th {\n",
       "        vertical-align: top;\n",
       "    }\n",
       "\n",
       "    .dataframe thead th {\n",
       "        text-align: right;\n",
       "    }\n",
       "</style>\n",
       "<table border=\"1\" class=\"dataframe\">\n",
       "  <thead>\n",
       "    <tr style=\"text-align: right;\">\n",
       "      <th></th>\n",
       "      <th>X</th>\n",
       "      <th>Y</th>\n",
       "      <th>Z</th>\n",
       "      <th>Property1</th>\n",
       "      <th>Property2</th>\n",
       "    </tr>\n",
       "  </thead>\n",
       "  <tbody>\n",
       "    <tr>\n",
       "      <th>0</th>\n",
       "      <td>2562.5</td>\n",
       "      <td>133.055560</td>\n",
       "      <td>786.6034</td>\n",
       "      <td>26.049291</td>\n",
       "      <td>16.721250</td>\n",
       "    </tr>\n",
       "    <tr>\n",
       "      <th>1</th>\n",
       "      <td>787.5</td>\n",
       "      <td>66.944440</td>\n",
       "      <td>1037.6582</td>\n",
       "      <td>18.065101</td>\n",
       "      <td>12.405189</td>\n",
       "    </tr>\n",
       "    <tr>\n",
       "      <th>2</th>\n",
       "      <td>1987.5</td>\n",
       "      <td>66.944440</td>\n",
       "      <td>1188.2911</td>\n",
       "      <td>24.162205</td>\n",
       "      <td>5.809222</td>\n",
       "    </tr>\n",
       "    <tr>\n",
       "      <th>3</th>\n",
       "      <td>1312.5</td>\n",
       "      <td>199.166670</td>\n",
       "      <td>1163.1857</td>\n",
       "      <td>20.047621</td>\n",
       "      <td>15.210557</td>\n",
       "    </tr>\n",
       "    <tr>\n",
       "      <th>4</th>\n",
       "      <td>1537.5</td>\n",
       "      <td>0.833333</td>\n",
       "      <td>1188.2911</td>\n",
       "      <td>14.062078</td>\n",
       "      <td>23.221005</td>\n",
       "    </tr>\n",
       "  </tbody>\n",
       "</table>\n",
       "</div>"
      ],
      "text/plain": [
       "        X           Y          Z  Property1  Property2\n",
       "0  2562.5  133.055560   786.6034  26.049291  16.721250\n",
       "1   787.5   66.944440  1037.6582  18.065101  12.405189\n",
       "2  1987.5   66.944440  1188.2911  24.162205   5.809222\n",
       "3  1312.5  199.166670  1163.1857  20.047621  15.210557\n",
       "4  1537.5    0.833333  1188.2911  14.062078  23.221005"
      ]
     },
     "execution_count": 3,
     "metadata": {},
     "output_type": "execute_result"
    }
   ],
   "source": [
    "data.head()"
   ]
  },
  {
   "cell_type": "code",
   "execution_count": 7,
   "metadata": {},
   "outputs": [
    {
     "name": "stdout",
     "output_type": "stream",
     "text": [
      "mean prop1 = 16.503079\n",
      "max prop1 = 33.728846\n",
      "min prop1= 2.193862\n",
      "std prop1 = 5.535134\n",
      "mean prop2 = 14.218185\n",
      "max prop2 = 30.685637\n",
      "min prop2= -2.996917\n",
      "std prop2 = 6.217606\n"
     ]
    }
   ],
   "source": [
    "mean = np.mean(data['Property1'])\n",
    "max_val = np.max(data['Property1'])\n",
    "min_val = np.min(data['Property1'])\n",
    "print(\"mean prop1 = %f\" %mean)\n",
    "print(\"max prop1 = %f\" %max_val)\n",
    "print(\"min prop1= %f\" %min_val)\n",
    "variance = np.var(data['Property1'])\n",
    "std = np.sqrt(variance)\n",
    "print(\"std prop1 = %f\" %std)\n",
    "\n",
    "mean = np.mean(data['Property2'])\n",
    "max_val = np.max(data['Property2'])\n",
    "min_val = np.min(data['Property2'])\n",
    "print(\"mean prop2 = %f\" %mean)\n",
    "print(\"max prop2 = %f\" %max_val)\n",
    "print(\"min prop2= %f\" %min_val)\n",
    "variance = np.var(data['Property2'])\n",
    "std = np.sqrt(variance)\n",
    "print(\"std prop2 = %f\" %std)"
   ]
  },
  {
   "cell_type": "code",
   "execution_count": null,
   "metadata": {},
   "outputs": [],
   "source": []
  }
 ],
 "metadata": {
  "kernelspec": {
   "display_name": "Python 3",
   "language": "python",
   "name": "python3"
  },
  "language_info": {
   "codemirror_mode": {
    "name": "ipython",
    "version": 3
   },
   "file_extension": ".py",
   "mimetype": "text/x-python",
   "name": "python",
   "nbconvert_exporter": "python",
   "pygments_lexer": "ipython3",
   "version": "3.6.4"
  }
 },
 "nbformat": 4,
 "nbformat_minor": 2
}
