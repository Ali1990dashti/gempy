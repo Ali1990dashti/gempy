{
 "cells": [
  {
   "cell_type": "markdown",
   "metadata": {},
   "source": [
    "# Step 3: Analyzing the data"
   ]
  },
  {
   "cell_type": "code",
   "execution_count": 1,
   "metadata": {},
   "outputs": [],
   "source": [
    "# These lines are necessary only if GemPy is not installed\n",
    "import sys, os\n",
    "sys.path.append(\"../../..\")\n",
    "os.environ['CUDA_LAUNCH_BLOCKING'] = '1'\n",
    "os.environ['MKL_THREADING_LAYER'] = 'GNU'\n",
    "\n",
    "# Importing GemPy, which takes really long\n",
    "import gempy as gp\n",
    "\n",
    "# Importing auxiliary libraries\n",
    "import numpy as np\n",
    "from matplotlib import pyplot as plt\n",
    "from mpl_toolkits.mplot3d import Axes3D\n",
    "import pandas as pd\n",
    "import scipy.stats\n",
    "from scipy import spatial\n",
    "from scipy import optimize\n",
    "from scipy import special"
   ]
  },
  {
   "cell_type": "code",
   "execution_count": 2,
   "metadata": {},
   "outputs": [],
   "source": [
    "domain = pd.read_csv(\"domain3d.csv\")\n",
    "data = pd.read_csv(\"data3d.csv\")"
   ]
  },
  {
   "cell_type": "code",
   "execution_count": 3,
   "metadata": {},
   "outputs": [
    {
     "data": {
      "text/html": [
       "<div>\n",
       "<style scoped>\n",
       "    .dataframe tbody tr th:only-of-type {\n",
       "        vertical-align: middle;\n",
       "    }\n",
       "\n",
       "    .dataframe tbody tr th {\n",
       "        vertical-align: top;\n",
       "    }\n",
       "\n",
       "    .dataframe thead th {\n",
       "        text-align: right;\n",
       "    }\n",
       "</style>\n",
       "<table border=\"1\" class=\"dataframe\">\n",
       "  <thead>\n",
       "    <tr style=\"text-align: right;\">\n",
       "      <th></th>\n",
       "      <th>X</th>\n",
       "      <th>Y</th>\n",
       "      <th>Z</th>\n",
       "      <th>Property</th>\n",
       "    </tr>\n",
       "  </thead>\n",
       "  <tbody>\n",
       "    <tr>\n",
       "      <th>0</th>\n",
       "      <td>2037.5</td>\n",
       "      <td>199.16667</td>\n",
       "      <td>1138.0802</td>\n",
       "      <td>22.308119</td>\n",
       "    </tr>\n",
       "    <tr>\n",
       "      <th>1</th>\n",
       "      <td>1062.5</td>\n",
       "      <td>66.94444</td>\n",
       "      <td>1188.2911</td>\n",
       "      <td>21.838218</td>\n",
       "    </tr>\n",
       "    <tr>\n",
       "      <th>2</th>\n",
       "      <td>87.5</td>\n",
       "      <td>133.05556</td>\n",
       "      <td>585.7595</td>\n",
       "      <td>20.663617</td>\n",
       "    </tr>\n",
       "    <tr>\n",
       "      <th>3</th>\n",
       "      <td>1062.5</td>\n",
       "      <td>66.94444</td>\n",
       "      <td>1087.8691</td>\n",
       "      <td>26.171619</td>\n",
       "    </tr>\n",
       "    <tr>\n",
       "      <th>4</th>\n",
       "      <td>1337.5</td>\n",
       "      <td>199.16667</td>\n",
       "      <td>1238.5021</td>\n",
       "      <td>29.369300</td>\n",
       "    </tr>\n",
       "  </tbody>\n",
       "</table>\n",
       "</div>"
      ],
      "text/plain": [
       "        X          Y          Z   Property\n",
       "0  2037.5  199.16667  1138.0802  22.308119\n",
       "1  1062.5   66.94444  1188.2911  21.838218\n",
       "2    87.5  133.05556   585.7595  20.663617\n",
       "3  1062.5   66.94444  1087.8691  26.171619\n",
       "4  1337.5  199.16667  1238.5021  29.369300"
      ]
     },
     "execution_count": 3,
     "metadata": {},
     "output_type": "execute_result"
    }
   ],
   "source": [
    "data.head()"
   ]
  },
  {
   "cell_type": "code",
   "execution_count": 4,
   "metadata": {},
   "outputs": [
    {
     "name": "stdout",
     "output_type": "stream",
     "text": [
      "mean = 20.810656\n",
      "max = 38.031110\n",
      "min = 2.775717\n",
      "standard deviation = 6.734521\n"
     ]
    }
   ],
   "source": [
    "mean = np.mean(data['Property'])\n",
    "max_val = np.max(data['Property'])\n",
    "min_val = np.min(data['Property'])\n",
    "print(\"mean = %f\" %mean)\n",
    "print(\"max = %f\" %max_val)\n",
    "print(\"min = %f\" %min_val)\n",
    "variance = np.var(data['Property'])\n",
    "std = np.sqrt(variance)\n",
    "print(\"standard deviation = %f\" %std)"
   ]
  },
  {
   "cell_type": "code",
   "execution_count": 5,
   "metadata": {},
   "outputs": [
    {
     "data": {
      "text/plain": [
       "Text(0.5,1,'(b) Cumulative histogram using 50 bins')"
      ]
     },
     "execution_count": 5,
     "metadata": {},
     "output_type": "execute_result"
    },
    {
     "data": {
      "image/png": "[encoded data removed]",
      "text/plain": [
       "<matplotlib.figure.Figure at 0x233392eb208>"
      ]
     },
     "metadata": {},
     "output_type": "display_data"
    }
   ],
   "source": [
    "#show histogram (normal and cumulative)\n",
    "fig4 = plt.figure(figsize = (14, 6)) \n",
    "fig4.subplots_adjust(wspace=.5)\n",
    "bin_amount = 50\n",
    "\n",
    "ax41 = fig4.add_subplot(121)\n",
    "ax42 = fig4.add_subplot(122)\n",
    "\n",
    "x_vals = np.arange(min_val, max_val, 0.1)\n",
    "\n",
    "ax41.hist(data['Property'], bins=bin_amount, normed=True);\n",
    "ax41.plot(x_vals, scipy.stats.norm.pdf(x_vals, mean, std), lw = 3)\n",
    "ax41.set_xlabel(\"Property value\")\n",
    "ax41.set_ylabel(\"frequency\")\n",
    "ax41.set_title('(a) Histogram using %i bins' %bin_amount)\n",
    "\n",
    "ax42.hist(data['Property'], bins=bin_amount, normed=True, cumulative=True);\n",
    "ax42.set_xlabel(\"Property value\")\n",
    "ax42.set_ylabel(\"cumulative frequency\")\n",
    "ax42.set_title('(b) Cumulative histogram using %i bins' %bin_amount)"
   ]
  },
  {
   "cell_type": "code",
   "execution_count": 6,
   "metadata": {},
   "outputs": [],
   "source": [
    "pos = 0\n",
    "h = np.empty((len(data), len(data)))\n",
    "gamma = np.empty((len(data), len(data)))\n",
    "\n",
    "data_m = data.as_matrix(('X','Y','Z'))\n",
    "data_v = data['Property'].values\n",
    "\n",
    "\n",
    "for pos in range (len(data)):\n",
    "    for i in range (len(data)):\n",
    "        gamma[pos, i] = ((data_v[i]-data_v[pos])**2)/2\n",
    "        h[pos, i] = spatial.distance.euclidean(data_m[i], data_m[pos])"
   ]
  },
  {
   "cell_type": "code",
   "execution_count": 7,
   "metadata": {},
   "outputs": [],
   "source": [
    "bins = bin_amount\n",
    "maxim = 2000\n",
    "bin_size = maxim/bins\n",
    "a = 0\n",
    "\n",
    "h_bins = np.empty(bins)\n",
    "ave_vals = np.empty(bins)\n",
    "\n",
    "for j in range (bins):\n",
    "    bi = np.where((h > a)*(h < (a+bin_size)))\n",
    "    ave_vals[j] = np.average(gamma[bi])\n",
    "    h_bins[j] = (a+a+bin_size)/2\n",
    "    a += bin_size"
   ]
  },
  {
   "cell_type": "code",
   "execution_count": 8,
   "metadata": {},
   "outputs": [],
   "source": [
    "def gaussian_variogram_model(d, range_, sill):\n",
    "    nugget = 10\n",
    "    psill = sill\n",
    "    gamma = psill * (1. - np.exp(-d**2./(range_)**2.)) + nugget\n",
    "    return gamma"
   ]
  },
  {
   "cell_type": "code",
   "execution_count": null,
   "metadata": {},
   "outputs": [],
   "source": []
  },
  {
   "cell_type": "code",
   "execution_count": 9,
   "metadata": {},
   "outputs": [],
   "source": [
    "# fitting best gaussian variogram model, have to find a generic way to determine the bounds, probably half size of domain\n",
    "gaussian_fit = scipy.optimize.curve_fit(gaussian_variogram_model, h_bins, ave_vals, bounds=(0,2000))"
   ]
  },
  {
   "cell_type": "code",
   "execution_count": 10,
   "metadata": {
    "scrolled": true
   },
   "outputs": [
    {
     "name": "stdout",
     "output_type": "stream",
     "text": [
      "169.36528444850867\n",
      "38.15827598216441\n"
     ]
    }
   ],
   "source": [
    "gaussian_range = gaussian_fit[0][0]\n",
    "gaussian_sill = gaussian_fit[0][1]\n",
    "print(gaussian_range)\n",
    "print(gaussian_sill)\n",
    "h = np.arange(0, 2000, 0.1)"
   ]
  },
  {
   "cell_type": "code",
   "execution_count": 11,
   "metadata": {},
   "outputs": [
    {
     "data": {
      "text/plain": [
       "(0, 65.92741673961574)"
      ]
     },
     "execution_count": 11,
     "metadata": {},
     "output_type": "execute_result"
    },
    {
     "data": {
      "image/png": "[encoded data removed]",
      "text/plain": [
       "<matplotlib.figure.Figure at 0x23339489668>"
      ]
     },
     "metadata": {},
     "output_type": "display_data"
    }
   ],
   "source": [
    "#plot figure\n",
    "plt.figure(figsize=(8,6))\n",
    "plt.plot(h_bins, ave_vals,'o')\n",
    "plt.xlabel(\"h\")\n",
    "plt.ylabel(\"y(h)\")\n",
    "plt.title('Experimental variogram')\n",
    "plt.plot(h, gaussian_variogram_model(h, gaussian_range, gaussian_sill),'-',label='Gaussian')\n",
    "plt.legend(loc ='best')\n",
    "plt.ylim(0)"
   ]
  },
  {
   "cell_type": "code",
   "execution_count": 12,
   "metadata": {},
   "outputs": [],
   "source": [
    "a= gaussian_range\n",
    "b = gaussian_sill"
   ]
  },
  {
   "cell_type": "code",
   "execution_count": 13,
   "metadata": {},
   "outputs": [
    {
     "data": {
      "text/html": [
       "<div>\n",
       "<style scoped>\n",
       "    .dataframe tbody tr th:only-of-type {\n",
       "        vertical-align: middle;\n",
       "    }\n",
       "\n",
       "    .dataframe tbody tr th {\n",
       "        vertical-align: top;\n",
       "    }\n",
       "\n",
       "    .dataframe thead th {\n",
       "        text-align: right;\n",
       "    }\n",
       "</style>\n",
       "<table border=\"1\" class=\"dataframe\">\n",
       "  <thead>\n",
       "    <tr style=\"text-align: right;\">\n",
       "      <th></th>\n",
       "      <th>Range</th>\n",
       "      <th>Sill</th>\n",
       "    </tr>\n",
       "  </thead>\n",
       "  <tbody>\n",
       "    <tr>\n",
       "      <th>0</th>\n",
       "      <td>169.365284</td>\n",
       "      <td>38.158276</td>\n",
       "    </tr>\n",
       "  </tbody>\n",
       "</table>\n",
       "</div>"
      ],
      "text/plain": [
       "        Range       Sill\n",
       "0  169.365284  38.158276"
      ]
     },
     "execution_count": 13,
     "metadata": {},
     "output_type": "execute_result"
    }
   ],
   "source": [
    "d = {'Range': [a], 'Sill': [b]}\n",
    "variogram_fit = pd.DataFrame(data=d)\n",
    "variogram_fit.head()"
   ]
  },
  {
   "cell_type": "code",
   "execution_count": 14,
   "metadata": {},
   "outputs": [],
   "source": [
    "variogram_fit.to_csv(\"variogram_fit.csv\", index=False)"
   ]
  },
  {
   "cell_type": "code",
   "execution_count": null,
   "metadata": {},
   "outputs": [],
   "source": []
  }
 ],
 "metadata": {
  "kernelspec": {
   "display_name": "Python 3",
   "language": "python",
   "name": "python3"
  },
  "language_info": {
   "codemirror_mode": {
    "name": "ipython",
    "version": 3
   },
   "file_extension": ".py",
   "mimetype": "text/x-python",
   "name": "python",
   "nbconvert_exporter": "python",
   "pygments_lexer": "ipython3",
   "version": "3.6.4"
  }
 },
 "nbformat": 4,
 "nbformat_minor": 2
}
