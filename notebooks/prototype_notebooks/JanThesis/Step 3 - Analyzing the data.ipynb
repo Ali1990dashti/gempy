{
 "cells": [
  {
   "cell_type": "markdown",
   "metadata": {},
   "source": [
    "# Step 3: Analyzing the data"
   ]
  },
  {
   "cell_type": "code",
   "execution_count": 1,
   "metadata": {},
   "outputs": [],
   "source": [
    "# These lines are necessary only if GemPy is not installed\n",
    "import sys, os\n",
    "sys.path.append(\"../../..\")\n",
    "os.environ['CUDA_LAUNCH_BLOCKING'] = '1'\n",
    "os.environ['MKL_THREADING_LAYER'] = 'GNU'\n",
    "\n",
    "# Importing GemPy, which takes really long\n",
    "import gempy as gp\n",
    "\n",
    "# Importing auxiliary libraries\n",
    "import numpy as np\n",
    "from matplotlib import pyplot as plt\n",
    "from mpl_toolkits.mplot3d import Axes3D\n",
    "import pandas as pd\n",
    "import scipy.stats\n",
    "from scipy import spatial\n",
    "from scipy import optimize"
   ]
  },
  {
   "cell_type": "code",
   "execution_count": 2,
   "metadata": {},
   "outputs": [],
   "source": [
    "domain = pd.read_csv(\"domain3d.csv\")\n",
    "data = pd.read_csv(\"data3d.csv\")"
   ]
  },
  {
   "cell_type": "code",
   "execution_count": 3,
   "metadata": {},
   "outputs": [
    {
     "data": {
      "text/html": [
       "<div>\n",
       "<style scoped>\n",
       "    .dataframe tbody tr th:only-of-type {\n",
       "        vertical-align: middle;\n",
       "    }\n",
       "\n",
       "    .dataframe tbody tr th {\n",
       "        vertical-align: top;\n",
       "    }\n",
       "\n",
       "    .dataframe thead th {\n",
       "        text-align: right;\n",
       "    }\n",
       "</style>\n",
       "<table border=\"1\" class=\"dataframe\">\n",
       "  <thead>\n",
       "    <tr style=\"text-align: right;\">\n",
       "      <th></th>\n",
       "      <th>X</th>\n",
       "      <th>Y</th>\n",
       "      <th>Z</th>\n",
       "      <th>Property</th>\n",
       "    </tr>\n",
       "  </thead>\n",
       "  <tbody>\n",
       "    <tr>\n",
       "      <th>0</th>\n",
       "      <td>2212.5</td>\n",
       "      <td>0.833333</td>\n",
       "      <td>1087.86910</td>\n",
       "      <td>24.074607</td>\n",
       "    </tr>\n",
       "    <tr>\n",
       "      <th>1</th>\n",
       "      <td>1187.5</td>\n",
       "      <td>133.055560</td>\n",
       "      <td>1238.50210</td>\n",
       "      <td>18.591354</td>\n",
       "    </tr>\n",
       "    <tr>\n",
       "      <th>2</th>\n",
       "      <td>1587.5</td>\n",
       "      <td>199.166670</td>\n",
       "      <td>1188.29110</td>\n",
       "      <td>20.730945</td>\n",
       "    </tr>\n",
       "    <tr>\n",
       "      <th>3</th>\n",
       "      <td>337.5</td>\n",
       "      <td>199.166670</td>\n",
       "      <td>836.81433</td>\n",
       "      <td>19.816417</td>\n",
       "    </tr>\n",
       "    <tr>\n",
       "      <th>4</th>\n",
       "      <td>987.5</td>\n",
       "      <td>133.055560</td>\n",
       "      <td>1213.39660</td>\n",
       "      <td>15.567339</td>\n",
       "    </tr>\n",
       "  </tbody>\n",
       "</table>\n",
       "</div>"
      ],
      "text/plain": [
       "        X           Y           Z   Property\n",
       "0  2212.5    0.833333  1087.86910  24.074607\n",
       "1  1187.5  133.055560  1238.50210  18.591354\n",
       "2  1587.5  199.166670  1188.29110  20.730945\n",
       "3   337.5  199.166670   836.81433  19.816417\n",
       "4   987.5  133.055560  1213.39660  15.567339"
      ]
     },
     "execution_count": 3,
     "metadata": {},
     "output_type": "execute_result"
    }
   ],
   "source": [
    "data.head()"
   ]
  },
  {
   "cell_type": "code",
   "execution_count": 4,
   "metadata": {},
   "outputs": [
    {
     "name": "stdout",
     "output_type": "stream",
     "text": [
      "mean = 20.839910\n",
      "max = 34.496079\n",
      "min = 3.184256\n",
      "standard deviation = 5.675909\n"
     ]
    }
   ],
   "source": [
    "mean = np.mean(data['Property'])\n",
    "max_val = np.max(data['Property'])\n",
    "min_val = np.min(data['Property'])\n",
    "print(\"mean = %f\" %mean)\n",
    "print(\"max = %f\" %max_val)\n",
    "print(\"min = %f\" %min_val)\n",
    "variance = np.var(data['Property'])\n",
    "std = np.sqrt(variance)\n",
    "print(\"standard deviation = %f\" %std)"
   ]
  },
  {
   "cell_type": "code",
   "execution_count": 5,
   "metadata": {},
   "outputs": [
    {
     "data": {
      "text/plain": [
       "Text(0.5,1,'(b) Cumulative histogram using 50 bins')"
      ]
     },
     "execution_count": 5,
     "metadata": {},
     "output_type": "execute_result"
    },
    {
     "data": {
      "image/png": "[encoded data removed]",
      "text/plain": [
       "<matplotlib.figure.Figure at 0x2b13803b240>"
      ]
     },
     "metadata": {},
     "output_type": "display_data"
    }
   ],
   "source": [
    "#show histogram (normal and cumulative)\n",
    "fig4 = plt.figure(figsize = (14, 6)) \n",
    "fig4.subplots_adjust(wspace=.5)\n",
    "bin_amount = 50\n",
    "\n",
    "ax41 = fig4.add_subplot(121)\n",
    "ax42 = fig4.add_subplot(122)\n",
    "\n",
    "x_vals = np.arange(min_val, max_val, 0.1)\n",
    "\n",
    "ax41.hist(data['Property'], bins=bin_amount, normed=True);\n",
    "ax41.plot(x_vals, scipy.stats.norm.pdf(x_vals, mean, std), lw = 3)\n",
    "ax41.set_xlabel(\"Property value\")\n",
    "ax41.set_ylabel(\"frequency\")\n",
    "ax41.set_title('(a) Histogram using %i bins' %bin_amount)\n",
    "\n",
    "ax42.hist(data['Property'], bins=bin_amount, normed=True, cumulative=True);\n",
    "ax42.set_xlabel(\"Property value\")\n",
    "ax42.set_ylabel(\"cumulative frequency\")\n",
    "ax42.set_title('(b) Cumulative histogram using %i bins' %bin_amount)"
   ]
  },
  {
   "cell_type": "code",
   "execution_count": 6,
   "metadata": {},
   "outputs": [],
   "source": [
    "pos = 0\n",
    "h = np.empty((len(data), len(data)))\n",
    "gamma = np.empty((len(data), len(data)))\n",
    "\n",
    "data_m = data.as_matrix(('X','Y','Z'))\n",
    "data_v = data['Property'].values\n",
    "\n",
    "\n",
    "for pos in range (len(data)):\n",
    "    for i in range (len(data)):\n",
    "        gamma[pos, i] = ((data_v[i]-data_v[pos])**2)/2\n",
    "        h[pos, i] = spatial.distance.euclidean(data_m[i], data_m[pos])"
   ]
  },
  {
   "cell_type": "code",
   "execution_count": 7,
   "metadata": {},
   "outputs": [],
   "source": [
    "bins = bin_amount\n",
    "maxim = 2000\n",
    "bin_size = maxim/bins\n",
    "a = 0\n",
    "\n",
    "h_bins = np.empty(bins)\n",
    "ave_vals = np.empty(bins)\n",
    "\n",
    "for j in range (bins):\n",
    "    bi = np.where((h > a)*(h < (a+bin_size)))\n",
    "    ave_vals[j] = np.average(gamma[bi])\n",
    "    h_bins[j] = (a+a+bin_size)/2\n",
    "    a += bin_size"
   ]
  },
  {
   "cell_type": "code",
   "execution_count": 8,
   "metadata": {},
   "outputs": [],
   "source": [
    "#methods for the three different variogram models discussed in the lecture\n",
    "def gaussian (h, a, b):\n",
    "    gau = b*(1-np.exp((-3*(h/a)**2)))\n",
    "    return gau\n",
    "\n",
    "def exponential (h, a, b):\n",
    "    exp = b*(1-np.exp(-3*h/a))\n",
    "    return exp"
   ]
  },
  {
   "cell_type": "code",
   "execution_count": 9,
   "metadata": {},
   "outputs": [],
   "source": [
    "gaussian_fit = scipy.optimize.curve_fit(gaussian, h_bins, ave_vals, bounds=(0, 2000))\n",
    "exponential_fit = scipy.optimize.curve_fit(exponential, h_bins, ave_vals, bounds=(0, 2000))"
   ]
  },
  {
   "cell_type": "code",
   "execution_count": 10,
   "metadata": {
    "scrolled": true
   },
   "outputs": [],
   "source": [
    "gaussian_range = gaussian_fit[0][0]\n",
    "gaussian_sill = gaussian_fit[0][1]\n",
    "exponential_range = exponential_fit[0][0]\n",
    "exponential_sill = exponential_fit[0][1]\n",
    "h = np.arange(0, 2000, 0.1)"
   ]
  },
  {
   "cell_type": "code",
   "execution_count": 11,
   "metadata": {},
   "outputs": [
    {
     "data": {
      "text/plain": [
       "<matplotlib.legend.Legend at 0x2b138202ba8>"
      ]
     },
     "execution_count": 11,
     "metadata": {},
     "output_type": "execute_result"
    },
    {
     "data": {
      "image/png": "[encoded data removed]",
      "text/plain": [
       "<matplotlib.figure.Figure at 0x2b138104780>"
      ]
     },
     "metadata": {},
     "output_type": "display_data"
    }
   ],
   "source": [
    "#plot figure\n",
    "plt.figure(figsize=(8,6))\n",
    "plt.plot(h_bins, ave_vals,'o')\n",
    "plt.xlabel(\"h\")\n",
    "plt.ylabel(\"y(h)\")\n",
    "plt.title('Experimental variogram')\n",
    "plt.plot(h, gaussian(h, gaussian_range, gaussian_sill),'-',label='Gaussian')\n",
    "plt.plot(h, exponential(h, exponential_range, exponential_sill),'-', label='Exponential')\n",
    "plt.legend(loc ='best')\n",
    "\n"
   ]
  },
  {
   "cell_type": "code",
   "execution_count": null,
   "metadata": {},
   "outputs": [],
   "source": []
  }
 ],
 "metadata": {
  "kernelspec": {
   "display_name": "Python 3",
   "language": "python",
   "name": "python3"
  },
  "language_info": {
   "codemirror_mode": {
    "name": "ipython",
    "version": 3
   },
   "file_extension": ".py",
   "mimetype": "text/x-python",
   "name": "python",
   "nbconvert_exporter": "python",
   "pygments_lexer": "ipython3",
   "version": "3.6.4"
  }
 },
 "nbformat": 4,
 "nbformat_minor": 2
}
