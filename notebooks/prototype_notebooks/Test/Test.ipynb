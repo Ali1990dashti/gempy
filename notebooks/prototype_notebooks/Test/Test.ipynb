{
 "cells": [
  {
   "cell_type": "markdown",
   "metadata": {},
   "source": [
    "Test model:"
   ]
  },
  {
   "cell_type": "code",
   "execution_count": 1,
   "metadata": {
    "scrolled": false
   },
   "outputs": [
    {
     "name": "stderr",
     "output_type": "stream",
     "text": [
      "../../..\\gempy\\posterior_analysis.py:28: UserWarning: pymc (v3) package is not installed. No support for stochastic simulation posterior analysis.\n",
      "  warnings.warn(\"pymc (v3) package is not installed. No support for stochastic simulation posterior analysis.\")\n"
     ]
    }
   ],
   "source": [
    "# These two lines are necessary only if GemPy is not installed\n",
    "import sys, os\n",
    "sys.path.append(\"../../..\")\n",
    "\n",
    "# Importing GemPy\n",
    "import gempy as gp\n",
    "\n",
    "# Embedding matplotlib figures in the notebooks\n",
    "%matplotlib inline\n",
    "\n",
    "# Importing auxiliary libraries\n",
    "import numpy as np\n",
    "import matplotlib.pyplot as plt"
   ]
  },
  {
   "cell_type": "code",
   "execution_count": 2,
   "metadata": {
    "scrolled": false
   },
   "outputs": [
    {
     "name": "stdout",
     "output_type": "stream",
     "text": [
      "creating fautls\n"
     ]
    },
    {
     "name": "stderr",
     "output_type": "stream",
     "text": [
      "../../..\\gempy\\data_management.py:1266: FutureWarning: arrays to stack must be passed as a \"sequence\" type such as list or tuple. Support for non-sequence iterables such as generators is deprecated as of NumPy 1.16 and will raise an error in the future.\n",
      "  values = np.vstack(map(np.ravel, g)).T.astype(\"float32\")\n"
     ]
    }
   ],
   "source": [
    "geo_data = gp.create_data([0,10000,0,10000,-5000,1000],[50,50,50],\n",
    "                          # importing orientation (foliation) data\n",
    "                          path_o = os.pardir+\"/Test/Model_orientations.csv\",\n",
    "                          # importing point-positional interface data\n",
    "                          path_i = os.pardir+\"/Test/Model_points.csv\") \n",
    "                          \n"
   ]
  },
  {
   "cell_type": "code",
   "execution_count": 3,
   "metadata": {},
   "outputs": [],
   "source": [
    "gp.set_series(geo_data, {\"PFZ1_Series\": 'PFZ1',\n",
    "                         \"PFZ2_Series\": 'PFZ2',\n",
    "                         \"PFZ3_Series\": 'PFZ3',\n",
    "                         \"Strat_Series\": ('Metam1', 'Metam2')},\n",
    "                         order_series = ['PFZ1_Series', \n",
    "                                         'PFZ2_Series', \n",
    "                                         'PFZ3_Series', \n",
    "                                         'Strat_Series'],\n",
    "                         verbose=0)"
   ]
  },
  {
   "cell_type": "code",
   "execution_count": 4,
   "metadata": {},
   "outputs": [
    {
     "data": {
      "text/plain": [
       "<gempy.plotting.sequential_pile.StratigraphicPile at 0x28aa4cb84a8>"
      ]
     },
     "execution_count": 4,
     "metadata": {},
     "output_type": "execute_result"
    },
    {
     "data": {
      "image/png": "[encoded data removed]",
      "text/plain": [
       "<Figure size 432x288 with 1 Axes>"
      ]
     },
     "metadata": {
      "needs_background": "light"
     },
     "output_type": "display_data"
    }
   ],
   "source": [
    "%matplotlib inline\n",
    "gp.get_sequential_pile(geo_data)"
   ]
  },
  {
   "cell_type": "markdown",
   "metadata": {},
   "source": [
    "This is how you set your series as (please the gempy master again):"
   ]
  },
  {
   "cell_type": "code",
   "execution_count": 5,
   "metadata": {},
   "outputs": [
    {
     "data": {
      "text/html": [
       "<div>\n",
       "<style scoped>\n",
       "    .dataframe tbody tr th:only-of-type {\n",
       "        vertical-align: middle;\n",
       "    }\n",
       "\n",
       "    .dataframe tbody tr th {\n",
       "        vertical-align: top;\n",
       "    }\n",
       "\n",
       "    .dataframe thead th {\n",
       "        text-align: right;\n",
       "    }\n",
       "</style>\n",
       "<table border=\"1\" class=\"dataframe\">\n",
       "  <thead>\n",
       "    <tr style=\"text-align: right;\">\n",
       "      <th></th>\n",
       "      <th>isFault</th>\n",
       "    </tr>\n",
       "  </thead>\n",
       "  <tbody>\n",
       "    <tr>\n",
       "      <th>PFZ1_Series</th>\n",
       "      <td>True</td>\n",
       "    </tr>\n",
       "    <tr>\n",
       "      <th>PFZ2_Series</th>\n",
       "      <td>True</td>\n",
       "    </tr>\n",
       "    <tr>\n",
       "      <th>PFZ3_Series</th>\n",
       "      <td>True</td>\n",
       "    </tr>\n",
       "    <tr>\n",
       "      <th>Strat_Series</th>\n",
       "      <td>False</td>\n",
       "    </tr>\n",
       "  </tbody>\n",
       "</table>\n",
       "</div>"
      ],
      "text/plain": [
       "              isFault\n",
       "PFZ1_Series      True\n",
       "PFZ2_Series      True\n",
       "PFZ3_Series      True\n",
       "Strat_Series    False"
      ]
     },
     "execution_count": 5,
     "metadata": {},
     "output_type": "execute_result"
    }
   ],
   "source": [
    "geo_data.set_faults(['PFZ1_Series', 'PFZ2_Series','PFZ3_Series'])\n",
    "\n",
    "geo_data.faults"
   ]
  },
  {
   "cell_type": "code",
   "execution_count": 6,
   "metadata": {},
   "outputs": [
    {
     "data": {
      "text/plain": [
       "3"
      ]
     },
     "execution_count": 6,
     "metadata": {},
     "output_type": "execute_result"
    }
   ],
   "source": [
    "geo_data.n_faults"
   ]
  },
  {
   "cell_type": "code",
   "execution_count": 7,
   "metadata": {
    "scrolled": true
   },
   "outputs": [
    {
     "data": {
      "text/html": [
       "<div>\n",
       "<style scoped>\n",
       "    .dataframe tbody tr th:only-of-type {\n",
       "        vertical-align: middle;\n",
       "    }\n",
       "\n",
       "    .dataframe tbody tr th {\n",
       "        vertical-align: top;\n",
       "    }\n",
       "\n",
       "    .dataframe thead th {\n",
       "        text-align: right;\n",
       "    }\n",
       "</style>\n",
       "<table border=\"1\" class=\"dataframe\">\n",
       "  <thead>\n",
       "    <tr style=\"text-align: right;\">\n",
       "      <th></th>\n",
       "      <th>X</th>\n",
       "      <th>Y</th>\n",
       "      <th>Z</th>\n",
       "      <th>G_x</th>\n",
       "      <th>G_y</th>\n",
       "      <th>G_z</th>\n",
       "      <th>dip</th>\n",
       "      <th>azimuth</th>\n",
       "      <th>polarity</th>\n",
       "      <th>formation</th>\n",
       "      <th>series</th>\n",
       "      <th>formation_number</th>\n",
       "      <th>order_series</th>\n",
       "      <th>isFault</th>\n",
       "      <th>annotations</th>\n",
       "      <th>formation_value</th>\n",
       "    </tr>\n",
       "  </thead>\n",
       "  <tbody>\n",
       "    <tr>\n",
       "      <th>0</th>\n",
       "      <td>3000</td>\n",
       "      <td>5000</td>\n",
       "      <td>-2200</td>\n",
       "      <td>0.866025</td>\n",
       "      <td>1.000053e-12</td>\n",
       "      <td>0.500000</td>\n",
       "      <td>60</td>\n",
       "      <td>90</td>\n",
       "      <td>1</td>\n",
       "      <td>PFZ1</td>\n",
       "      <td>PFZ1_Series</td>\n",
       "      <td>1</td>\n",
       "      <td>1</td>\n",
       "      <td>True</td>\n",
       "      <td>${\\bf{x}}_{\\beta \\,{\\bf{1}},0}$</td>\n",
       "      <td>1</td>\n",
       "    </tr>\n",
       "    <tr>\n",
       "      <th>1</th>\n",
       "      <td>4500</td>\n",
       "      <td>5000</td>\n",
       "      <td>-2200</td>\n",
       "      <td>0.866025</td>\n",
       "      <td>1.000053e-12</td>\n",
       "      <td>0.500000</td>\n",
       "      <td>60</td>\n",
       "      <td>90</td>\n",
       "      <td>1</td>\n",
       "      <td>PFZ2</td>\n",
       "      <td>PFZ2_Series</td>\n",
       "      <td>2</td>\n",
       "      <td>2</td>\n",
       "      <td>True</td>\n",
       "      <td>${\\bf{x}}_{\\beta \\,{\\bf{2}},0}$</td>\n",
       "      <td>2</td>\n",
       "    </tr>\n",
       "    <tr>\n",
       "      <th>2</th>\n",
       "      <td>6500</td>\n",
       "      <td>5000</td>\n",
       "      <td>-2200</td>\n",
       "      <td>0.866025</td>\n",
       "      <td>1.000053e-12</td>\n",
       "      <td>0.500000</td>\n",
       "      <td>60</td>\n",
       "      <td>90</td>\n",
       "      <td>1</td>\n",
       "      <td>PFZ3</td>\n",
       "      <td>PFZ3_Series</td>\n",
       "      <td>3</td>\n",
       "      <td>3</td>\n",
       "      <td>True</td>\n",
       "      <td>${\\bf{x}}_{\\beta \\,{\\bf{3}},0}$</td>\n",
       "      <td>3</td>\n",
       "    </tr>\n",
       "    <tr>\n",
       "      <th>3</th>\n",
       "      <td>2500</td>\n",
       "      <td>5000</td>\n",
       "      <td>-10</td>\n",
       "      <td>-0.087156</td>\n",
       "      <td>9.999840e-13</td>\n",
       "      <td>0.996195</td>\n",
       "      <td>5</td>\n",
       "      <td>270</td>\n",
       "      <td>1</td>\n",
       "      <td>Metam1</td>\n",
       "      <td>Strat_Series</td>\n",
       "      <td>4</td>\n",
       "      <td>4</td>\n",
       "      <td>False</td>\n",
       "      <td>${\\bf{x}}_{\\beta \\,{\\bf{4}},0}$</td>\n",
       "      <td>4</td>\n",
       "    </tr>\n",
       "    <tr>\n",
       "      <th>4</th>\n",
       "      <td>4000</td>\n",
       "      <td>5000</td>\n",
       "      <td>-350</td>\n",
       "      <td>-0.087156</td>\n",
       "      <td>9.999840e-13</td>\n",
       "      <td>0.996195</td>\n",
       "      <td>5</td>\n",
       "      <td>270</td>\n",
       "      <td>1</td>\n",
       "      <td>Metam1</td>\n",
       "      <td>Strat_Series</td>\n",
       "      <td>4</td>\n",
       "      <td>4</td>\n",
       "      <td>False</td>\n",
       "      <td>${\\bf{x}}_{\\beta \\,{\\bf{4}},1}$</td>\n",
       "      <td>4</td>\n",
       "    </tr>\n",
       "    <tr>\n",
       "      <th>5</th>\n",
       "      <td>8000</td>\n",
       "      <td>5000</td>\n",
       "      <td>-800</td>\n",
       "      <td>-0.087156</td>\n",
       "      <td>9.999840e-13</td>\n",
       "      <td>0.996195</td>\n",
       "      <td>5</td>\n",
       "      <td>270</td>\n",
       "      <td>1</td>\n",
       "      <td>Metam1</td>\n",
       "      <td>Strat_Series</td>\n",
       "      <td>4</td>\n",
       "      <td>4</td>\n",
       "      <td>False</td>\n",
       "      <td>${\\bf{x}}_{\\beta \\,{\\bf{4}},2}$</td>\n",
       "      <td>4</td>\n",
       "    </tr>\n",
       "    <tr>\n",
       "      <th>6</th>\n",
       "      <td>2501</td>\n",
       "      <td>5000</td>\n",
       "      <td>-100</td>\n",
       "      <td>-0.087156</td>\n",
       "      <td>9.999840e-13</td>\n",
       "      <td>0.996195</td>\n",
       "      <td>5</td>\n",
       "      <td>270</td>\n",
       "      <td>1</td>\n",
       "      <td>Metam2</td>\n",
       "      <td>Strat_Series</td>\n",
       "      <td>5</td>\n",
       "      <td>4</td>\n",
       "      <td>False</td>\n",
       "      <td>${\\bf{x}}_{\\beta \\,{\\bf{5}},0}$</td>\n",
       "      <td>5</td>\n",
       "    </tr>\n",
       "    <tr>\n",
       "      <th>7</th>\n",
       "      <td>4001</td>\n",
       "      <td>5000</td>\n",
       "      <td>-440</td>\n",
       "      <td>-0.087156</td>\n",
       "      <td>9.999840e-13</td>\n",
       "      <td>0.996195</td>\n",
       "      <td>5</td>\n",
       "      <td>270</td>\n",
       "      <td>1</td>\n",
       "      <td>Metam2</td>\n",
       "      <td>Strat_Series</td>\n",
       "      <td>5</td>\n",
       "      <td>4</td>\n",
       "      <td>False</td>\n",
       "      <td>${\\bf{x}}_{\\beta \\,{\\bf{5}},1}$</td>\n",
       "      <td>5</td>\n",
       "    </tr>\n",
       "    <tr>\n",
       "      <th>8</th>\n",
       "      <td>8001</td>\n",
       "      <td>5000</td>\n",
       "      <td>-890</td>\n",
       "      <td>-0.087156</td>\n",
       "      <td>9.999840e-13</td>\n",
       "      <td>0.996195</td>\n",
       "      <td>5</td>\n",
       "      <td>270</td>\n",
       "      <td>1</td>\n",
       "      <td>Metam2</td>\n",
       "      <td>Strat_Series</td>\n",
       "      <td>5</td>\n",
       "      <td>4</td>\n",
       "      <td>False</td>\n",
       "      <td>${\\bf{x}}_{\\beta \\,{\\bf{5}},2}$</td>\n",
       "      <td>5</td>\n",
       "    </tr>\n",
       "  </tbody>\n",
       "</table>\n",
       "</div>"
      ],
      "text/plain": [
       "      X     Y     Z       G_x           G_y       G_z  dip  azimuth  polarity  \\\n",
       "0  3000  5000 -2200  0.866025  1.000053e-12  0.500000   60       90         1   \n",
       "1  4500  5000 -2200  0.866025  1.000053e-12  0.500000   60       90         1   \n",
       "2  6500  5000 -2200  0.866025  1.000053e-12  0.500000   60       90         1   \n",
       "3  2500  5000   -10 -0.087156  9.999840e-13  0.996195    5      270         1   \n",
       "4  4000  5000  -350 -0.087156  9.999840e-13  0.996195    5      270         1   \n",
       "5  8000  5000  -800 -0.087156  9.999840e-13  0.996195    5      270         1   \n",
       "6  2501  5000  -100 -0.087156  9.999840e-13  0.996195    5      270         1   \n",
       "7  4001  5000  -440 -0.087156  9.999840e-13  0.996195    5      270         1   \n",
       "8  8001  5000  -890 -0.087156  9.999840e-13  0.996195    5      270         1   \n",
       "\n",
       "  formation        series  formation_number  order_series  isFault  \\\n",
       "0      PFZ1   PFZ1_Series                 1             1     True   \n",
       "1      PFZ2   PFZ2_Series                 2             2     True   \n",
       "2      PFZ3   PFZ3_Series                 3             3     True   \n",
       "3    Metam1  Strat_Series                 4             4    False   \n",
       "4    Metam1  Strat_Series                 4             4    False   \n",
       "5    Metam1  Strat_Series                 4             4    False   \n",
       "6    Metam2  Strat_Series                 5             4    False   \n",
       "7    Metam2  Strat_Series                 5             4    False   \n",
       "8    Metam2  Strat_Series                 5             4    False   \n",
       "\n",
       "                       annotations  formation_value  \n",
       "0  ${\\bf{x}}_{\\beta \\,{\\bf{1}},0}$                1  \n",
       "1  ${\\bf{x}}_{\\beta \\,{\\bf{2}},0}$                2  \n",
       "2  ${\\bf{x}}_{\\beta \\,{\\bf{3}},0}$                3  \n",
       "3  ${\\bf{x}}_{\\beta \\,{\\bf{4}},0}$                4  \n",
       "4  ${\\bf{x}}_{\\beta \\,{\\bf{4}},1}$                4  \n",
       "5  ${\\bf{x}}_{\\beta \\,{\\bf{4}},2}$                4  \n",
       "6  ${\\bf{x}}_{\\beta \\,{\\bf{5}},0}$                5  \n",
       "7  ${\\bf{x}}_{\\beta \\,{\\bf{5}},1}$                5  \n",
       "8  ${\\bf{x}}_{\\beta \\,{\\bf{5}},2}$                5  "
      ]
     },
     "execution_count": 7,
     "metadata": {},
     "output_type": "execute_result"
    }
   ],
   "source": [
    "geo_data.orientations"
   ]
  },
  {
   "cell_type": "code",
   "execution_count": 8,
   "metadata": {},
   "outputs": [
    {
     "data": {
      "text/html": [
       "<div>\n",
       "<style scoped>\n",
       "    .dataframe tbody tr th:only-of-type {\n",
       "        vertical-align: middle;\n",
       "    }\n",
       "\n",
       "    .dataframe tbody tr th {\n",
       "        vertical-align: top;\n",
       "    }\n",
       "\n",
       "    .dataframe thead th {\n",
       "        text-align: right;\n",
       "    }\n",
       "</style>\n",
       "<table border=\"1\" class=\"dataframe\">\n",
       "  <thead>\n",
       "    <tr style=\"text-align: right;\">\n",
       "      <th></th>\n",
       "      <th>X</th>\n",
       "      <th>Y</th>\n",
       "      <th>Z</th>\n",
       "      <th>formation</th>\n",
       "      <th>series</th>\n",
       "      <th>formation_number</th>\n",
       "      <th>order_series</th>\n",
       "      <th>isFault</th>\n",
       "      <th>annotations</th>\n",
       "      <th>formation_value</th>\n",
       "    </tr>\n",
       "  </thead>\n",
       "  <tbody>\n",
       "    <tr>\n",
       "      <th>0</th>\n",
       "      <td>2000.0</td>\n",
       "      <td>5000.0</td>\n",
       "      <td>-200.0</td>\n",
       "      <td>PFZ1</td>\n",
       "      <td>PFZ1_Series</td>\n",
       "      <td>1</td>\n",
       "      <td>1</td>\n",
       "      <td>True</td>\n",
       "      <td>${\\bf{x}}_{\\alpha \\,{\\bf{1}},0}$</td>\n",
       "      <td>1</td>\n",
       "    </tr>\n",
       "    <tr>\n",
       "      <th>1</th>\n",
       "      <td>2500.0</td>\n",
       "      <td>5000.0</td>\n",
       "      <td>-1200.0</td>\n",
       "      <td>PFZ1</td>\n",
       "      <td>PFZ1_Series</td>\n",
       "      <td>1</td>\n",
       "      <td>1</td>\n",
       "      <td>True</td>\n",
       "      <td>${\\bf{x}}_{\\alpha \\,{\\bf{1}},1}$</td>\n",
       "      <td>1</td>\n",
       "    </tr>\n",
       "    <tr>\n",
       "      <th>2</th>\n",
       "      <td>3000.0</td>\n",
       "      <td>5000.0</td>\n",
       "      <td>-2200.0</td>\n",
       "      <td>PFZ1</td>\n",
       "      <td>PFZ1_Series</td>\n",
       "      <td>1</td>\n",
       "      <td>1</td>\n",
       "      <td>True</td>\n",
       "      <td>${\\bf{x}}_{\\alpha \\,{\\bf{1}},2}$</td>\n",
       "      <td>1</td>\n",
       "    </tr>\n",
       "    <tr>\n",
       "      <th>3</th>\n",
       "      <td>3500.0</td>\n",
       "      <td>5000.0</td>\n",
       "      <td>-3200.0</td>\n",
       "      <td>PFZ1</td>\n",
       "      <td>PFZ1_Series</td>\n",
       "      <td>1</td>\n",
       "      <td>1</td>\n",
       "      <td>True</td>\n",
       "      <td>${\\bf{x}}_{\\alpha \\,{\\bf{1}},3}$</td>\n",
       "      <td>1</td>\n",
       "    </tr>\n",
       "    <tr>\n",
       "      <th>4</th>\n",
       "      <td>4000.0</td>\n",
       "      <td>5000.0</td>\n",
       "      <td>-4200.0</td>\n",
       "      <td>PFZ1</td>\n",
       "      <td>PFZ1_Series</td>\n",
       "      <td>1</td>\n",
       "      <td>1</td>\n",
       "      <td>True</td>\n",
       "      <td>${\\bf{x}}_{\\alpha \\,{\\bf{1}},4}$</td>\n",
       "      <td>1</td>\n",
       "    </tr>\n",
       "    <tr>\n",
       "      <th>8</th>\n",
       "      <td>5000.0</td>\n",
       "      <td>5000.0</td>\n",
       "      <td>-3200.0</td>\n",
       "      <td>PFZ2</td>\n",
       "      <td>PFZ2_Series</td>\n",
       "      <td>2</td>\n",
       "      <td>2</td>\n",
       "      <td>True</td>\n",
       "      <td>${\\bf{x}}_{\\alpha \\,{\\bf{2}},0}$</td>\n",
       "      <td>2</td>\n",
       "    </tr>\n",
       "    <tr>\n",
       "      <th>9</th>\n",
       "      <td>5500.0</td>\n",
       "      <td>5000.0</td>\n",
       "      <td>-4200.0</td>\n",
       "      <td>PFZ2</td>\n",
       "      <td>PFZ2_Series</td>\n",
       "      <td>2</td>\n",
       "      <td>2</td>\n",
       "      <td>True</td>\n",
       "      <td>${\\bf{x}}_{\\alpha \\,{\\bf{2}},1}$</td>\n",
       "      <td>2</td>\n",
       "    </tr>\n",
       "    <tr>\n",
       "      <th>5</th>\n",
       "      <td>3500.0</td>\n",
       "      <td>5000.0</td>\n",
       "      <td>-200.0</td>\n",
       "      <td>PFZ2</td>\n",
       "      <td>PFZ2_Series</td>\n",
       "      <td>2</td>\n",
       "      <td>2</td>\n",
       "      <td>True</td>\n",
       "      <td>${\\bf{x}}_{\\alpha \\,{\\bf{2}},2}$</td>\n",
       "      <td>2</td>\n",
       "    </tr>\n",
       "    <tr>\n",
       "      <th>6</th>\n",
       "      <td>4000.0</td>\n",
       "      <td>5000.0</td>\n",
       "      <td>-1200.0</td>\n",
       "      <td>PFZ2</td>\n",
       "      <td>PFZ2_Series</td>\n",
       "      <td>2</td>\n",
       "      <td>2</td>\n",
       "      <td>True</td>\n",
       "      <td>${\\bf{x}}_{\\alpha \\,{\\bf{2}},3}$</td>\n",
       "      <td>2</td>\n",
       "    </tr>\n",
       "    <tr>\n",
       "      <th>7</th>\n",
       "      <td>4500.0</td>\n",
       "      <td>5000.0</td>\n",
       "      <td>-2200.0</td>\n",
       "      <td>PFZ2</td>\n",
       "      <td>PFZ2_Series</td>\n",
       "      <td>2</td>\n",
       "      <td>2</td>\n",
       "      <td>True</td>\n",
       "      <td>${\\bf{x}}_{\\alpha \\,{\\bf{2}},4}$</td>\n",
       "      <td>2</td>\n",
       "    </tr>\n",
       "    <tr>\n",
       "      <th>14</th>\n",
       "      <td>7500.0</td>\n",
       "      <td>5000.0</td>\n",
       "      <td>-4200.0</td>\n",
       "      <td>PFZ3</td>\n",
       "      <td>PFZ3_Series</td>\n",
       "      <td>3</td>\n",
       "      <td>3</td>\n",
       "      <td>True</td>\n",
       "      <td>${\\bf{x}}_{\\alpha \\,{\\bf{3}},0}$</td>\n",
       "      <td>3</td>\n",
       "    </tr>\n",
       "    <tr>\n",
       "      <th>13</th>\n",
       "      <td>7000.0</td>\n",
       "      <td>5000.0</td>\n",
       "      <td>-3200.0</td>\n",
       "      <td>PFZ3</td>\n",
       "      <td>PFZ3_Series</td>\n",
       "      <td>3</td>\n",
       "      <td>3</td>\n",
       "      <td>True</td>\n",
       "      <td>${\\bf{x}}_{\\alpha \\,{\\bf{3}},1}$</td>\n",
       "      <td>3</td>\n",
       "    </tr>\n",
       "    <tr>\n",
       "      <th>12</th>\n",
       "      <td>6500.0</td>\n",
       "      <td>5000.0</td>\n",
       "      <td>-2200.0</td>\n",
       "      <td>PFZ3</td>\n",
       "      <td>PFZ3_Series</td>\n",
       "      <td>3</td>\n",
       "      <td>3</td>\n",
       "      <td>True</td>\n",
       "      <td>${\\bf{x}}_{\\alpha \\,{\\bf{3}},2}$</td>\n",
       "      <td>3</td>\n",
       "    </tr>\n",
       "    <tr>\n",
       "      <th>11</th>\n",
       "      <td>6000.0</td>\n",
       "      <td>5000.0</td>\n",
       "      <td>-1200.0</td>\n",
       "      <td>PFZ3</td>\n",
       "      <td>PFZ3_Series</td>\n",
       "      <td>3</td>\n",
       "      <td>3</td>\n",
       "      <td>True</td>\n",
       "      <td>${\\bf{x}}_{\\alpha \\,{\\bf{3}},3}$</td>\n",
       "      <td>3</td>\n",
       "    </tr>\n",
       "    <tr>\n",
       "      <th>10</th>\n",
       "      <td>5500.0</td>\n",
       "      <td>5000.0</td>\n",
       "      <td>-200.0</td>\n",
       "      <td>PFZ3</td>\n",
       "      <td>PFZ3_Series</td>\n",
       "      <td>3</td>\n",
       "      <td>3</td>\n",
       "      <td>True</td>\n",
       "      <td>${\\bf{x}}_{\\alpha \\,{\\bf{3}},4}$</td>\n",
       "      <td>3</td>\n",
       "    </tr>\n",
       "    <tr>\n",
       "      <th>17</th>\n",
       "      <td>4000.0</td>\n",
       "      <td>3000.0</td>\n",
       "      <td>-500.0</td>\n",
       "      <td>Metam1</td>\n",
       "      <td>Strat_Series</td>\n",
       "      <td>4</td>\n",
       "      <td>4</td>\n",
       "      <td>False</td>\n",
       "      <td>${\\bf{x}}_{\\alpha \\,{\\bf{4}},0}$</td>\n",
       "      <td>4</td>\n",
       "    </tr>\n",
       "    <tr>\n",
       "      <th>15</th>\n",
       "      <td>2500.0</td>\n",
       "      <td>3000.0</td>\n",
       "      <td>-10.0</td>\n",
       "      <td>Metam1</td>\n",
       "      <td>Strat_Series</td>\n",
       "      <td>4</td>\n",
       "      <td>4</td>\n",
       "      <td>False</td>\n",
       "      <td>${\\bf{x}}_{\\alpha \\,{\\bf{4}},1}$</td>\n",
       "      <td>4</td>\n",
       "    </tr>\n",
       "    <tr>\n",
       "      <th>19</th>\n",
       "      <td>8000.0</td>\n",
       "      <td>3000.0</td>\n",
       "      <td>-1000.0</td>\n",
       "      <td>Metam1</td>\n",
       "      <td>Strat_Series</td>\n",
       "      <td>4</td>\n",
       "      <td>4</td>\n",
       "      <td>False</td>\n",
       "      <td>${\\bf{x}}_{\\alpha \\,{\\bf{4}},2}$</td>\n",
       "      <td>4</td>\n",
       "    </tr>\n",
       "    <tr>\n",
       "      <th>16</th>\n",
       "      <td>2500.0</td>\n",
       "      <td>7000.0</td>\n",
       "      <td>-10.0</td>\n",
       "      <td>Metam2</td>\n",
       "      <td>Strat_Series</td>\n",
       "      <td>5</td>\n",
       "      <td>4</td>\n",
       "      <td>False</td>\n",
       "      <td>${\\bf{x}}_{\\alpha \\,{\\bf{5}},0}$</td>\n",
       "      <td>5</td>\n",
       "    </tr>\n",
       "    <tr>\n",
       "      <th>20</th>\n",
       "      <td>8000.0</td>\n",
       "      <td>7000.0</td>\n",
       "      <td>-1000.0</td>\n",
       "      <td>Metam2</td>\n",
       "      <td>Strat_Series</td>\n",
       "      <td>5</td>\n",
       "      <td>4</td>\n",
       "      <td>False</td>\n",
       "      <td>${\\bf{x}}_{\\alpha \\,{\\bf{5}},1}$</td>\n",
       "      <td>5</td>\n",
       "    </tr>\n",
       "    <tr>\n",
       "      <th>18</th>\n",
       "      <td>4000.0</td>\n",
       "      <td>7000.0</td>\n",
       "      <td>-500.0</td>\n",
       "      <td>Metam2</td>\n",
       "      <td>Strat_Series</td>\n",
       "      <td>5</td>\n",
       "      <td>4</td>\n",
       "      <td>False</td>\n",
       "      <td>${\\bf{x}}_{\\alpha \\,{\\bf{5}},2}$</td>\n",
       "      <td>5</td>\n",
       "    </tr>\n",
       "    <tr>\n",
       "      <th>21</th>\n",
       "      <td>0.0</td>\n",
       "      <td>0.0</td>\n",
       "      <td>-5000.0</td>\n",
       "      <td>basement</td>\n",
       "      <td>Strat_Series</td>\n",
       "      <td>6</td>\n",
       "      <td>4</td>\n",
       "      <td>False</td>\n",
       "      <td>${\\bf{x}}_{\\alpha \\,{\\bf{6}},0}$</td>\n",
       "      <td>6</td>\n",
       "    </tr>\n",
       "  </tbody>\n",
       "</table>\n",
       "</div>"
      ],
      "text/plain": [
       "         X       Y       Z formation        series  formation_number  \\\n",
       "0   2000.0  5000.0  -200.0      PFZ1   PFZ1_Series                 1   \n",
       "1   2500.0  5000.0 -1200.0      PFZ1   PFZ1_Series                 1   \n",
       "2   3000.0  5000.0 -2200.0      PFZ1   PFZ1_Series                 1   \n",
       "3   3500.0  5000.0 -3200.0      PFZ1   PFZ1_Series                 1   \n",
       "4   4000.0  5000.0 -4200.0      PFZ1   PFZ1_Series                 1   \n",
       "8   5000.0  5000.0 -3200.0      PFZ2   PFZ2_Series                 2   \n",
       "9   5500.0  5000.0 -4200.0      PFZ2   PFZ2_Series                 2   \n",
       "5   3500.0  5000.0  -200.0      PFZ2   PFZ2_Series                 2   \n",
       "6   4000.0  5000.0 -1200.0      PFZ2   PFZ2_Series                 2   \n",
       "7   4500.0  5000.0 -2200.0      PFZ2   PFZ2_Series                 2   \n",
       "14  7500.0  5000.0 -4200.0      PFZ3   PFZ3_Series                 3   \n",
       "13  7000.0  5000.0 -3200.0      PFZ3   PFZ3_Series                 3   \n",
       "12  6500.0  5000.0 -2200.0      PFZ3   PFZ3_Series                 3   \n",
       "11  6000.0  5000.0 -1200.0      PFZ3   PFZ3_Series                 3   \n",
       "10  5500.0  5000.0  -200.0      PFZ3   PFZ3_Series                 3   \n",
       "17  4000.0  3000.0  -500.0    Metam1  Strat_Series                 4   \n",
       "15  2500.0  3000.0   -10.0    Metam1  Strat_Series                 4   \n",
       "19  8000.0  3000.0 -1000.0    Metam1  Strat_Series                 4   \n",
       "16  2500.0  7000.0   -10.0    Metam2  Strat_Series                 5   \n",
       "20  8000.0  7000.0 -1000.0    Metam2  Strat_Series                 5   \n",
       "18  4000.0  7000.0  -500.0    Metam2  Strat_Series                 5   \n",
       "21     0.0     0.0 -5000.0  basement  Strat_Series                 6   \n",
       "\n",
       "    order_series  isFault                       annotations  formation_value  \n",
       "0              1     True  ${\\bf{x}}_{\\alpha \\,{\\bf{1}},0}$                1  \n",
       "1              1     True  ${\\bf{x}}_{\\alpha \\,{\\bf{1}},1}$                1  \n",
       "2              1     True  ${\\bf{x}}_{\\alpha \\,{\\bf{1}},2}$                1  \n",
       "3              1     True  ${\\bf{x}}_{\\alpha \\,{\\bf{1}},3}$                1  \n",
       "4              1     True  ${\\bf{x}}_{\\alpha \\,{\\bf{1}},4}$                1  \n",
       "8              2     True  ${\\bf{x}}_{\\alpha \\,{\\bf{2}},0}$                2  \n",
       "9              2     True  ${\\bf{x}}_{\\alpha \\,{\\bf{2}},1}$                2  \n",
       "5              2     True  ${\\bf{x}}_{\\alpha \\,{\\bf{2}},2}$                2  \n",
       "6              2     True  ${\\bf{x}}_{\\alpha \\,{\\bf{2}},3}$                2  \n",
       "7              2     True  ${\\bf{x}}_{\\alpha \\,{\\bf{2}},4}$                2  \n",
       "14             3     True  ${\\bf{x}}_{\\alpha \\,{\\bf{3}},0}$                3  \n",
       "13             3     True  ${\\bf{x}}_{\\alpha \\,{\\bf{3}},1}$                3  \n",
       "12             3     True  ${\\bf{x}}_{\\alpha \\,{\\bf{3}},2}$                3  \n",
       "11             3     True  ${\\bf{x}}_{\\alpha \\,{\\bf{3}},3}$                3  \n",
       "10             3     True  ${\\bf{x}}_{\\alpha \\,{\\bf{3}},4}$                3  \n",
       "17             4    False  ${\\bf{x}}_{\\alpha \\,{\\bf{4}},0}$                4  \n",
       "15             4    False  ${\\bf{x}}_{\\alpha \\,{\\bf{4}},1}$                4  \n",
       "19             4    False  ${\\bf{x}}_{\\alpha \\,{\\bf{4}},2}$                4  \n",
       "16             4    False  ${\\bf{x}}_{\\alpha \\,{\\bf{5}},0}$                5  \n",
       "20             4    False  ${\\bf{x}}_{\\alpha \\,{\\bf{5}},1}$                5  \n",
       "18             4    False  ${\\bf{x}}_{\\alpha \\,{\\bf{5}},2}$                5  \n",
       "21             4    False  ${\\bf{x}}_{\\alpha \\,{\\bf{6}},0}$                6  "
      ]
     },
     "execution_count": 8,
     "metadata": {},
     "output_type": "execute_result"
    }
   ],
   "source": [
    "geo_data.interfaces"
   ]
  },
  {
   "cell_type": "code",
   "execution_count": 9,
   "metadata": {},
   "outputs": [
    {
     "name": "stdout",
     "output_type": "stream",
     "text": [
      "Compiling theano function...\n",
      "Compilation Done!\n",
      "Level of Optimization:  fast_compile\n",
      "Device:  cpu\n",
      "Precision:  float32\n",
      "Number of faults:  3\n"
     ]
    }
   ],
   "source": [
    "interp_data = gp.InterpolatorData(geo_data, u_grade=[1,1], output='geology', compile_theano=True, \n",
    "                                  theano_optimizer='fast_compile')"
   ]
  },
  {
   "cell_type": "code",
   "execution_count": 10,
   "metadata": {},
   "outputs": [
    {
     "name": "stderr",
     "output_type": "stream",
     "text": [
      "C:\\Users\\Jan\\Anaconda3\\lib\\site-packages\\theano\\tensor\\subtensor.py:2339: FutureWarning: Using a non-tuple sequence for multidimensional indexing is deprecated; use `arr[tuple(seq)]` instead of `arr[seq]`. In the future this will be interpreted as an array index, `arr[np.array(seq)]`, which will result either in an error or a different result.\n",
      "  out[0][inputs[2:]] = inputs[1]\n"
     ]
    }
   ],
   "source": [
    "lith_block, fault_block = gp.compute_model(interp_data)"
   ]
  },
  {
   "cell_type": "code",
   "execution_count": 11,
   "metadata": {},
   "outputs": [
    {
     "name": "stdout",
     "output_type": "stream",
     "text": [
      "[[ 6.        6.        6.       ...  4.        4.        4.      ]\n",
      " [10.359863 10.374802 10.389744 ... 10.955227 10.970169 10.985107]]\n"
     ]
    }
   ],
   "source": [
    "print(lith_block)"
   ]
  },
  {
   "cell_type": "code",
   "execution_count": 12,
   "metadata": {},
   "outputs": [
    {
     "data": {
      "image/png": "[encoded data removed]",
      "text/plain": [
       "<Figure size 600x360 with 1 Axes>"
      ]
     },
     "metadata": {},
     "output_type": "display_data"
    }
   ],
   "source": [
    "gp.plotting.plot_data(geo_data, direction='x')"
   ]
  },
  {
   "cell_type": "code",
   "execution_count": 13,
   "metadata": {},
   "outputs": [
    {
     "data": {
      "image/png": "[encoded data removed]",
      "text/plain": [
       "<Figure size 748.8x514.8 with 1 Axes>"
      ]
     },
     "metadata": {},
     "output_type": "display_data"
    }
   ],
   "source": [
    "gp.plotting.plot_section(geo_data, lith_block[0], cell_number=25,\n",
    "                         direction='y', plot_data=False)\n",
    "\n"
   ]
  },
  {
   "cell_type": "markdown",
   "metadata": {},
   "source": [
    "VTK visualization:"
   ]
  },
  {
   "cell_type": "code",
   "execution_count": 16,
   "metadata": {},
   "outputs": [],
   "source": [
    "ver , sim = gp.get_surfaces(interp_data, lith_block[1], fault_block[1::2])"
   ]
  },
  {
   "cell_type": "code",
   "execution_count": 17,
   "metadata": {},
   "outputs": [
    {
     "data": {
      "text/plain": [
       "<gempy.plotting.plot.vtkPlot at 0x28a9a304cc0>"
      ]
     },
     "execution_count": 17,
     "metadata": {},
     "output_type": "execute_result"
    }
   ],
   "source": [
    "gp.plotting.plot_surfaces_3D(geo_data, ver, sim)"
   ]
  },
  {
   "cell_type": "code",
   "execution_count": null,
   "metadata": {},
   "outputs": [],
   "source": []
  }
 ],
 "metadata": {
  "kernelspec": {
   "display_name": "Python 3",
   "language": "python",
   "name": "python3"
  },
  "language_info": {
   "codemirror_mode": {
    "name": "ipython",
    "version": 3
   },
   "file_extension": ".py",
   "mimetype": "text/x-python",
   "name": "python",
   "nbconvert_exporter": "python",
   "pygments_lexer": "ipython3",
   "version": "3.6.4"
  },
  "latex_envs": {
   "LaTeX_envs_menu_present": true,
   "autocomplete": true,
   "bibliofile": "biblio.bib",
   "cite_by": "apalike",
   "current_citInitial": 1,
   "eqLabelWithNumbers": true,
   "eqNumInitial": 1,
   "hotkeys": {
    "equation": "Ctrl-E",
    "itemize": "Ctrl-I"
   },
   "labels_anchors": false,
   "latex_user_defs": false,
   "report_style_numbering": false,
   "user_envs_cfg": false
  },
  "toc": {
   "colors": {
    "hover_highlight": "#DAA520",
    "running_highlight": "#FF0000",
    "selected_highlight": "#FFD700"
   },
   "moveMenuLeft": true,
   "nav_menu": {
    "height": "67px",
    "width": "252px"
   },
   "navigate_menu": true,
   "number_sections": true,
   "sideBar": true,
   "threshold": 4,
   "toc_cell": false,
   "toc_section_display": "block",
   "toc_window_display": false,
   "widenNotebook": false
  }
 },
 "nbformat": 4,
 "nbformat_minor": 2
}
