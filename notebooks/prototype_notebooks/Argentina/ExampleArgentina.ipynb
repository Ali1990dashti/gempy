{
 "cells": [
  {
   "cell_type": "markdown",
   "metadata": {},
   "source": [
    "In this example we\n",
    "- download a source file\n",
    "- access netCDF grids\n",
    "- perform a mesh decimation to reduce point numbers"
   ]
  },
  {
   "cell_type": "code",
   "execution_count": null,
   "metadata": {},
   "outputs": [],
   "source": [
    "# Download the data from source\n",
    "import urllib.request\n",
    "import tarfile\n",
    "import os.path\n",
    "\n",
    "fileout = 'data.tar.gz'\n",
    "\n",
    "if not os.path.isfile(fileout):\n",
    "  url='http://onlinelibrary.wiley.com/store/10.1002/2017JB014296/asset/supinfo/2017JB014296-sup-0002-Data_Set_SI-S01_AA.gz?v=1&s=867faff69e418861f269b9e4b4feaf9268154f65'\n",
    "  print(\"Downloading source file\")\n",
    "  urllib.request.urlretrieve(url, 'data.tar.gz')\n",
    "else:\n",
    "  print(\"File exists.\")\n",
    "\n",
    "print(\"Extracting to local folder\")\n",
    "f = tarfile.open(name='data.tar.gz', mode='r').extractall()"
   ]
  },
  {
   "cell_type": "code",
   "execution_count": null,
   "metadata": {},
   "outputs": [],
   "source": [
    "# Access netCDF and create a vtkPoints oject with the data\n",
    "import netCDF4\n",
    "import vtk\n",
    "\n",
    "vexag = 1\n",
    "\n",
    "colors = vtk.vtkNamedColors()\n",
    "interface = netCDF4.Dataset(\"grids/Crust.nc\")\n",
    "nx = interface.variables['x'].shape[0]\n",
    "ny = interface.variables['y'].shape[0]\n",
    "points = vtk.vtkPoints()\n",
    "print(\"Creating vtkPoints\")\n",
    "for px in range(nx):\n",
    "    for py in range(ny):\n",
    "        zval = interface.variables['z'][py, px]*vexag\n",
    "        if zval > 0:\n",
    "          zval = 0\n",
    "        points.InsertNextPoint(interface.variables['x'][px],\n",
    "                               interface.variables['y'][py],\n",
    "                               zval)\n",
    "\n",
    "pointPD = vtk.vtkPolyData()\n",
    "pointPD.SetPoints(points)"
   ]
  },
  {
   "cell_type": "code",
   "execution_count": null,
   "metadata": {},
   "outputs": [],
   "source": [
    "# Perform delaunay triangulation\n",
    "delny = vtk.vtkDelaunay2D()\n",
    "delny.SetInputData(pointPD)\n",
    "delny.Update()"
   ]
  },
  {
   "cell_type": "code",
   "execution_count": null,
   "metadata": {},
   "outputs": [],
   "source": [
    "# Optional plot of the triangulation\n",
    "if False:\n",
    "  aCellArray = vtk.vtkCellArray()\n",
    "  boundary = vtk.vtkPolyData()\n",
    "  boundary.SetPoints(pointPD.GetPoints())\n",
    "  boundary.SetPolys(aCellArray)\n",
    "\n",
    "  meshMapper = vtk.vtkPolyDataMapper()\n",
    "  meshMapper.SetInputConnection(delny.GetOutputPort())\n",
    "\n",
    "  meshActor = vtk.vtkActor()\n",
    "  meshActor.SetMapper(meshMapper)\n",
    "  meshActor.GetProperty().SetEdgeColor(0, 0, 1)\n",
    "  meshActor.GetProperty().SetInterpolationToFlat()\n",
    "  meshActor.GetProperty().SetRepresentationToWireframe()\n",
    "\n",
    "  boundaryMapper = vtk.vtkPolyDataMapper()\n",
    "  if vtk.VTK_MAJOR_VERSION <= 5:\n",
    "      boundaryMapper.SetInputConnection(boundary.GetProducerPort())\n",
    "  else:\n",
    "      boundaryMapper.SetInputData(boundary)\n",
    "\n",
    "  boundaryActor = vtk.vtkActor()\n",
    "  boundaryActor.SetMapper(boundaryMapper)\n",
    "  boundaryActor.GetProperty().SetColor(1, 0, 0)\n",
    "\n",
    "  renderer = vtk.vtkRenderer()\n",
    "  renderWindow = vtk.vtkRenderWindow()\n",
    "  renderWindow.AddRenderer(renderer)\n",
    "  renderWindowInteractor = vtk.vtkRenderWindowInteractor()\n",
    "  renderWindowInteractor.SetRenderWindow(renderWindow)\n",
    "  renderer.AddActor(meshActor)\n",
    "  renderer.AddActor(boundaryActor)\n",
    "  renderer.SetBackground(.3, .6, .3)\n",
    "\n",
    "  renderWindowInteractor.Initialize()\n",
    "  renderWindow.Render()\n",
    "  renderWindowInteractor.Start()"
   ]
  },
  {
   "cell_type": "code",
   "execution_count": null,
   "metadata": {},
   "outputs": [],
   "source": [
    "# Decimate triangulation\n",
    "print(\"Decimate\")\n",
    "AbsoluteError=1. # Don't know if that works?!\n",
    "print(\"Absolute error:\", AbsoluteError)\n",
    "deci = vtk.vtkDecimatePro()\n",
    "deci.SetInputConnection(delny.GetOutputPort())\n",
    "deci.SetErrorIsAbsolute(1) # Read from SetAbsoluteError\n",
    "#deci.SetAbsoluteError(AbsoluteError) # What is the difference to max error?\n",
    "deci.SetMaximumError(AbsoluteError)\n",
    "deci.SetTargetReduction(0.9)\n",
    "deci.PreserveTopologyOn()\n",
    "deci.SetFeatureAngle(19)\n",
    "deci.Update()"
   ]
  },
  {
   "cell_type": "code",
   "execution_count": null,
   "metadata": {},
   "outputs": [],
   "source": [
    "# Save decimated points to file\n",
    "import numpy as np\n",
    "decimatedPoly = vtk.vtkPolyData()\n",
    "decimatedPoly.ShallowCopy(deci.GetOutput())\n",
    "for i in range(decimatedPoly.GetNumberOfPoints()):\n",
    "    if i is 0:\n",
    "        final_points = np.array(decimatedPoly.GetPoint(i))\n",
    "    else:\n",
    "        final_points = np.vstack((final_points, decimatedPoly.GetPoint(i)))\n",
    "np.savetxt('DecimatedCrust.csv', final_points, fmt='%f', delimiter=',')"
   ]
  },
  {
   "cell_type": "code",
   "execution_count": null,
   "metadata": {},
   "outputs": [],
   "source": [
    "# Create point plot\n",
    "final_points.shape\n",
    "%matplotlib inline\n",
    "import matplotlib.pyplot as plt\n",
    "plt.figure()\n",
    "plt.scatter(final_points[:,0], final_points[:,1], c=final_points[:,2])\n",
    "plt.show()"
   ]
  }
 ],
 "metadata": {
  "kernelspec": {
   "display_name": "Python 3",
   "language": "python",
   "name": "python3"
  },
  "language_info": {
   "codemirror_mode": {
    "name": "ipython",
    "version": 3
   },
   "file_extension": ".py",
   "mimetype": "text/x-python",
   "name": "python",
   "nbconvert_exporter": "python",
   "pygments_lexer": "ipython3",
   "version": "3.6.2"
  }
 },
 "nbformat": 4,
 "nbformat_minor": 2
}
