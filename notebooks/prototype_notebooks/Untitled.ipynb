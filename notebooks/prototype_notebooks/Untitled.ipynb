{
 "cells": [
  {
   "cell_type": "code",
   "execution_count": 3,
   "metadata": {},
   "outputs": [],
   "source": [
    "import vtk\n",
    "\n",
    "\n",
    "def main():\n",
    "    colors = vtk.vtkNamedColors()\n",
    "\n",
    "    fileName1, fileName2 = get_program_parameters()\n",
    "\n",
    "    # This example shows how to use decimation to reduce a polygonal mesh. We also\n",
    "    # use mesh smoothing and generate surface normals to give a pleasing result.\n",
    "    #\n",
    "\n",
    "    # We start by reading some data that was originally captured from\n",
    "    # a Cyberware laser digitizing system.\n",
    "    #\n",
    "    fran = vtk.vtkPolyDataReader()\n",
    "    fran.SetFileName(fileName1)\n",
    "\n",
    "    # Read the corresponding texture.\n",
    "    textureReader = vtk.vtkPNGReader()\n",
    "    textureReader.SetFileName(fileName2)\n",
    "\n",
    "    texture = vtk.vtkTexture()\n",
    "    texture.InterpolateOn()\n",
    "    texture.SetInputConnection(textureReader.GetOutputPort())\n",
    "\n",
    "    # We want to preserve topology (not let any cracks form). This may limit\n",
    "    # the total reduction possible, which we have specified at 90%.\n",
    "    #\n",
    "    deci = vtk.vtkDecimatePro()\n",
    "    deci.SetInputConnection(fran.GetOutputPort())\n",
    "    deci.SetTargetReduction(0.9)\n",
    "    deci.PreserveTopologyOn()\n",
    "\n",
    "    decimatedNormals = vtk.vtkPolyDataNormals()\n",
    "    decimatedNormals.SetInputConnection(deci.GetOutputPort())\n",
    "    decimatedNormals.FlipNormalsOn()\n",
    "    decimatedNormals.SetFeatureAngle(60)\n",
    "\n",
    "    originalNormals = vtk.vtkPolyDataNormals()\n",
    "    originalNormals.SetInputConnection(fran.GetOutputPort())\n",
    "    originalNormals.FlipNormalsOn()\n",
    "    originalNormals.SetFeatureAngle(60)\n",
    "\n",
    "    decimatedMapper = vtk.vtkPolyDataMapper()\n",
    "    decimatedMapper.SetInputConnection(decimatedNormals.GetOutputPort())\n",
    "\n",
    "    decimatedActor = vtk.vtkActor()\n",
    "    decimatedActor.SetMapper(decimatedMapper)\n",
    "    decimatedActor.GetProperty().SetAmbient(.5)\n",
    "    decimatedActor.GetProperty().SetDiffuse(.5)\n",
    "    decimatedActor.SetTexture(texture)\n",
    "\n",
    "    originalMapper = vtk.vtkPolyDataMapper()\n",
    "    originalMapper.SetInputConnection(originalNormals.GetOutputPort())\n",
    "\n",
    "    originalActor = vtk.vtkActor()\n",
    "    originalActor.SetMapper(originalMapper)\n",
    "    originalActor.GetProperty().SetAmbient(.5)\n",
    "    originalActor.GetProperty().SetDiffuse(.5)\n",
    "    originalActor.SetTexture(texture)\n",
    "\n",
    "    # Create the RenderWindow, Renderer and Interactor.\n",
    "    #\n",
    "    renderer1 = vtk.vtkRenderer()\n",
    "    renderer1.SetViewport(0., 0.0, 0.5, 1.0)\n",
    "\n",
    "    renderer2 = vtk.vtkRenderer()\n",
    "    renderer2.SetViewport(0.5, 0.0, 1.0, 1.0)\n",
    "\n",
    "    renderWindow = vtk.vtkRenderWindow()\n",
    "    renderWindow.AddRenderer(renderer1)\n",
    "    renderWindow.AddRenderer(renderer2)\n",
    "\n",
    "    interactor = vtk.vtkRenderWindowInteractor()\n",
    "    interactor.SetRenderWindow(renderWindow)\n",
    "\n",
    "    # Add the actors to the renderer, set the background and size.\n",
    "    #\n",
    "    renderer1.AddActor(originalActor)\n",
    "    renderer2.AddActor(decimatedActor)\n",
    "    renderer1.SetBackground(colors.GetColor3d(\"Wheat\"))\n",
    "    renderer2.SetBackground(colors.GetColor3d(\"Papaya_Whip\"))\n",
    "    renderWindow.SetSize(800, 400)\n",
    "\n",
    "    # Render the image.\n",
    "    #\n",
    "    cam1 = vtk.vtkCamera()\n",
    "    cam1.SetClippingRange(0.0475572, 2.37786)\n",
    "    cam1.SetFocalPoint(0.052665, -0.129454, -0.0573973)\n",
    "    cam1.SetPosition(0.327637, -0.116299, -0.256418)\n",
    "    cam1.SetViewUp(-0.0225386, 0.999137, 0.034901)\n",
    "    renderer1.SetActiveCamera(cam1)\n",
    "    renderer2.SetActiveCamera(cam1)\n",
    "\n",
    "    renderWindow.Render()\n",
    "    interactor.Start()\n",
    "\n",
    "\n",
    "def get_program_parameters():\n",
    "    import argparse\n",
    "    description = 'Examples of the decimation algorithm.'\n",
    "    epilogue = '''\n",
    "    (a) Decimation of laser digitizer.\n",
    "   '''\n",
    "    parser = argparse.ArgumentParser(description=description, epilog=epilogue,\n",
    "                                     formatter_class=argparse.RawDescriptionHelpFormatter)\n",
    "    parser.add_argument('filename1', help='fran_cut.vtk.')\n",
    "    parser.add_argument('filename2', help='fran_cut.png.')\n",
    "    args = parser.parse_args()\n",
    "    return args.filename1, args.filename2\n",
    "\n",
    "\n"
   ]
  },
  {
   "cell_type": "code",
   "execution_count": 4,
   "metadata": {},
   "outputs": [
    {
     "name": "stderr",
     "output_type": "stream",
     "text": [
      "usage: ipykernel_launcher.py [-h] filename1 filename2\n",
      "ipykernel_launcher.py: error: the following arguments are required: filename2\n"
     ]
    },
    {
     "ename": "SystemExit",
     "evalue": "2",
     "output_type": "error",
     "traceback": [
      "An exception has occurred, use %tb to see the full traceback.\n",
      "\u001b[0;31mSystemExit\u001b[0m\u001b[0;31m:\u001b[0m 2\n"
     ]
    },
    {
     "name": "stderr",
     "output_type": "stream",
     "text": [
      "/home/miguel/anaconda3/lib/python3.6/site-packages/IPython/core/interactiveshell.py:2918: UserWarning: To exit: use 'exit', 'quit', or Ctrl-D.\n",
      "  warn(\"To exit: use 'exit', 'quit', or Ctrl-D.\", stacklevel=1)\n"
     ]
    }
   ],
   "source": [
    "main()"
   ]
  },
  {
   "cell_type": "code",
   "execution_count": null,
   "metadata": {},
   "outputs": [],
   "source": []
  }
 ],
 "metadata": {
  "kernelspec": {
   "display_name": "Python 3",
   "language": "python",
   "name": "python3"
  },
  "language_info": {
   "codemirror_mode": {
    "name": "ipython",
    "version": 3
   },
   "file_extension": ".py",
   "mimetype": "text/x-python",
   "name": "python",
   "nbconvert_exporter": "python",
   "pygments_lexer": "ipython3",
   "version": "3.6.3"
  }
 },
 "nbformat": 4,
 "nbformat_minor": 2
}
