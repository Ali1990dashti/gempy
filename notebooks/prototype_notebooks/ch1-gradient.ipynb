{
 "cells": [
  {
   "cell_type": "markdown",
   "metadata": {},
   "source": [
    "# Chapter 1: GemPy Basic\n",
    "\n",
    "In this first example, we will show how to construct a first basic model and the main objects and functions. First we import gempy:"
   ]
  },
  {
   "cell_type": "code",
   "execution_count": 1,
   "metadata": {},
   "outputs": [
    {
     "name": "stderr",
     "output_type": "stream",
     "text": [
      "WARNING (theano.tensor.blas): Using NumPy C-API based implementation for BLAS functions.\n"
     ]
    }
   ],
   "source": [
    "# These two lines are necessary only if gempy is not installed\n",
    "import sys, os\n",
    "sys.path.append(\"../..\")\n",
    "\n",
    "# Importing gempy\n",
    "import gempy as gp\n",
    "\n",
    "# Embedding matplotlib figures into the notebooks\n",
    "%matplotlib inline\n",
    "\n",
    "# Aux imports\n",
    "import numpy as np"
   ]
  },
  {
   "cell_type": "code",
   "execution_count": null,
   "metadata": {
    "scrolled": true
   },
   "outputs": [],
   "source": []
  },
  {
   "cell_type": "markdown",
   "metadata": {},
   "source": [
    "All data get stored in a python object InputData.  This object can be easily stored in a Python pickle. However, these files have the limitation that all dependecies must have the same versions as those when the pickle were created. For these reason to have more stable tutorials we will generate the InputData from raw data---i.e. csv files exported from Geomodeller.\n",
    "\n",
    "These csv files can be found in the input_data folder in the root folder of GemPy. These tables contains uniquely the XYZ (and poles, azimuth and polarity in the foliation case) as well as their respective formation name (but not necessary the formation order).\n"
   ]
  },
  {
   "cell_type": "code",
   "execution_count": 2,
   "metadata": {},
   "outputs": [
    {
     "name": "stdout",
     "output_type": "stream",
     "text": [
      "here\n",
      "there\n"
     ]
    },
    {
     "name": "stderr",
     "output_type": "stream",
     "text": [
      "../../gempy/data_management.py:61: UserWarning: path_f is deprecated use instead path_o\n",
      "  warnings.warn('path_f is deprecated use instead path_o')\n"
     ]
    }
   ],
   "source": [
    "# Importing the data from csv files and settign extent and resolution\n",
    "geo_data = gp.create_data([0,2000,0,2000,-2000,0],[ 60,60,60],\n",
    "                         path_f = os.pardir+\"/input_data/FabLessPoints_Foliations.csv\",\n",
    "                         path_i = os.pardir+\"/input_data/FabLessPoints_Points.csv\")"
   ]
  },
  {
   "cell_type": "code",
   "execution_count": 3,
   "metadata": {},
   "outputs": [
    {
     "name": "stdout",
     "output_type": "stream",
     "text": [
      "there\n",
      "there\n"
     ]
    }
   ],
   "source": [
    "# Assigning series to formations as well as their order (timewise)\n",
    "gp.set_series(geo_data, {\"fault\":'MainFault', \n",
    "                      \"Rest\": ('SecondaryReservoir','Seal', 'Reservoir', 'Overlying'), \n",
    "                               },\n",
    "                       order_series = [\"fault\", 'Rest'],\n",
    "                       order_formations=['MainFault', \n",
    "                                         'SecondaryReservoir', 'Seal','Reservoir', 'Overlying',\n",
    "                                         ]) \n",
    "\n"
   ]
  },
  {
   "cell_type": "code",
   "execution_count": 25,
   "metadata": {},
   "outputs": [],
   "source": [
    "# import pandas as pn\n",
    "# gp.set_orientations(geo_data,pn.DataFrame(geo_data.orientations.iloc[0,:]).T, append=True)\n",
    "# geo_data.orientations.set_value(2, 'formation', 'Overlying')"
   ]
  },
  {
   "cell_type": "code",
   "execution_count": 26,
   "metadata": {
    "scrolled": false
   },
   "outputs": [],
   "source": [
    "# # Assigning series to formations as well as their order (timewise)\n",
    "# gp.set_series(geo_data, {\"fault\":'MainFault', \n",
    "#                       \"Rest\": ('SecondaryReservoir','Seal', 'Reservoir'), \n",
    "#                                \"Rist\": ('Overlying')},\n",
    "#                        order_series = [\"fault\", 'Rest', 'Rist'],\n",
    "#                        order_formations=['MainFault', \n",
    "#                                          'SecondaryReservoir', 'Seal','Reservoir', 'Overlying',\n",
    "#                                          ]) \n",
    "\n",
    "# geo_data =gp.select_series(geo_data,['Rest', 'Rist'])"
   ]
  },
  {
   "cell_type": "code",
   "execution_count": 27,
   "metadata": {},
   "outputs": [
    {
     "data": {
      "text/html": [
       "<div>\n",
       "<style scoped>\n",
       "    .dataframe tbody tr th:only-of-type {\n",
       "        vertical-align: middle;\n",
       "    }\n",
       "\n",
       "    .dataframe tbody tr th {\n",
       "        vertical-align: top;\n",
       "    }\n",
       "\n",
       "    .dataframe thead th {\n",
       "        text-align: right;\n",
       "    }\n",
       "</style>\n",
       "<table border=\"1\" class=\"dataframe\">\n",
       "  <thead>\n",
       "    <tr style=\"text-align: right;\">\n",
       "      <th></th>\n",
       "      <th>X</th>\n",
       "      <th>Y</th>\n",
       "      <th>Z</th>\n",
       "      <th>G_x</th>\n",
       "      <th>G_y</th>\n",
       "      <th>G_z</th>\n",
       "      <th>dip</th>\n",
       "      <th>azimuth</th>\n",
       "      <th>polarity</th>\n",
       "      <th>formation</th>\n",
       "      <th>series</th>\n",
       "      <th>X_std</th>\n",
       "      <th>Y_std</th>\n",
       "      <th>Z_std</th>\n",
       "      <th>dip_std</th>\n",
       "      <th>azimuth_std</th>\n",
       "      <th>order_series</th>\n",
       "      <th>isFault</th>\n",
       "      <th>formation_number</th>\n",
       "      <th>annotations</th>\n",
       "    </tr>\n",
       "  </thead>\n",
       "  <tbody>\n",
       "    <tr>\n",
       "      <th>0</th>\n",
       "      <td>917.45</td>\n",
       "      <td>1000.0</td>\n",
       "      <td>-1135.398</td>\n",
       "      <td>-0.948683</td>\n",
       "      <td>1.000000e-07</td>\n",
       "      <td>0.316229</td>\n",
       "      <td>71.565</td>\n",
       "      <td>270.0</td>\n",
       "      <td>1</td>\n",
       "      <td>MainFault</td>\n",
       "      <td>fault</td>\n",
       "      <td>NaN</td>\n",
       "      <td>NaN</td>\n",
       "      <td>NaN</td>\n",
       "      <td>NaN</td>\n",
       "      <td>NaN</td>\n",
       "      <td>1</td>\n",
       "      <td>True</td>\n",
       "      <td>1</td>\n",
       "      <td>${\\bf{x}}_{\\beta \\,{\\bf{1}},0}$</td>\n",
       "    </tr>\n",
       "    <tr>\n",
       "      <th>1</th>\n",
       "      <td>1450.00</td>\n",
       "      <td>1000.0</td>\n",
       "      <td>-1150.000</td>\n",
       "      <td>0.316229</td>\n",
       "      <td>1.000000e-07</td>\n",
       "      <td>0.948683</td>\n",
       "      <td>18.435</td>\n",
       "      <td>90.0</td>\n",
       "      <td>1</td>\n",
       "      <td>Reservoir</td>\n",
       "      <td>Rest</td>\n",
       "      <td>NaN</td>\n",
       "      <td>NaN</td>\n",
       "      <td>NaN</td>\n",
       "      <td>NaN</td>\n",
       "      <td>NaN</td>\n",
       "      <td>2</td>\n",
       "      <td>False</td>\n",
       "      <td>4</td>\n",
       "      <td>${\\bf{x}}_{\\beta \\,{\\bf{4}},0}$</td>\n",
       "    </tr>\n",
       "  </tbody>\n",
       "</table>\n",
       "</div>"
      ],
      "text/plain": [
       "         X       Y         Z       G_x           G_y       G_z     dip  \\\n",
       "0   917.45  1000.0 -1135.398 -0.948683  1.000000e-07  0.316229  71.565   \n",
       "1  1450.00  1000.0 -1150.000  0.316229  1.000000e-07  0.948683  18.435   \n",
       "\n",
       "   azimuth  polarity  formation series X_std Y_std Z_std dip_std azimuth_std  \\\n",
       "0    270.0         1  MainFault  fault   NaN   NaN   NaN     NaN         NaN   \n",
       "1     90.0         1  Reservoir   Rest   NaN   NaN   NaN     NaN         NaN   \n",
       "\n",
       "   order_series  isFault  formation_number                      annotations  \n",
       "0             1     True                 1  ${\\bf{x}}_{\\beta \\,{\\bf{1}},0}$  \n",
       "1             2    False                 4  ${\\bf{x}}_{\\beta \\,{\\bf{4}},0}$  "
      ]
     },
     "execution_count": 27,
     "metadata": {},
     "output_type": "execute_result"
    }
   ],
   "source": [
    "geo_data.orientations"
   ]
  },
  {
   "cell_type": "code",
   "execution_count": 4,
   "metadata": {},
   "outputs": [
    {
     "data": {
      "text/plain": [
       "<gempy.sequential_pile.StratigraphicPile at 0x7f6d8c64efd0>"
      ]
     },
     "execution_count": 4,
     "metadata": {},
     "output_type": "execute_result"
    },
    {
     "data": {
      "image/png": "[encoded data removed]",
      "text/plain": [
       "<matplotlib.figure.Figure at 0x7f6d8c15bf28>"
      ]
     },
     "metadata": {},
     "output_type": "display_data"
    }
   ],
   "source": [
    "gp.get_sequential_pile(geo_data)"
   ]
  },
  {
   "cell_type": "markdown",
   "metadata": {},
   "source": [
    "## The ins and outs of Input data objects\n",
    "\n",
    "As we have seen objects DataManagement.InputData (usually called geo_data in the tutorials) aim to have all the original geological properties, measurements and geological relations stored. \n",
    "\n",
    "Once we have the data ready to generate a model, we will need to create the next object type towards the final geological model:"
   ]
  },
  {
   "cell_type": "code",
   "execution_count": 45,
   "metadata": {},
   "outputs": [],
   "source": [
    "geo_data.interfaces.drop(39, inplace=True)"
   ]
  },
  {
   "cell_type": "code",
   "execution_count": 4,
   "metadata": {
    "scrolled": false
   },
   "outputs": [
    {
     "name": "stdout",
     "output_type": "stream",
     "text": [
      "Compiling theano function...\n",
      "Compilation Done!\n",
      "Level of Optimization:  fast_compile\n",
      "Device:  cpu\n",
      "Precision:  float64\n",
      "Number of faults:  1\n"
     ]
    }
   ],
   "source": [
    "import theano.tensor as T\n",
    "import theano\n",
    "interp_data = gp.InterpolatorData(geo_data, u_grade=[1, 1],\n",
    "                                  output='geology', dtype='float64',\n",
    "                                   verbose=['scalar_field_iter', 'block_series', 'yet_simulated'],\n",
    "                                  compile_theano=True)\n"
   ]
  },
  {
   "cell_type": "code",
   "execution_count": 11,
   "metadata": {},
   "outputs": [
    {
     "data": {
      "text/plain": [
       "array([ 0,  4, 34], dtype=int32)"
      ]
     },
     "execution_count": 11,
     "metadata": {},
     "output_type": "execute_result"
    }
   ],
   "source": [
    "interp_data.interpolator.tg.len_series_i.get_value()"
   ]
  },
  {
   "cell_type": "code",
   "execution_count": null,
   "metadata": {},
   "outputs": [],
   "source": []
  },
  {
   "cell_type": "code",
   "execution_count": 10,
   "metadata": {},
   "outputs": [
    {
     "data": {
      "text/plain": [
       "array([0, 1, 6], dtype=int32)"
      ]
     },
     "execution_count": 10,
     "metadata": {},
     "output_type": "execute_result"
    }
   ],
   "source": [
    "interp_data.interpolator.tg.n_formations_per_serie.get_value()"
   ]
  },
  {
   "cell_type": "code",
   "execution_count": 11,
   "metadata": {},
   "outputs": [],
   "source": [
    "interp_data.interpolator.tg.n_formations_per_serie.set_value(np.array([0, 3, 4], dtype='int32'))"
   ]
  },
  {
   "cell_type": "code",
   "execution_count": 12,
   "metadata": {},
   "outputs": [
    {
     "data": {
      "text/plain": [
       "array([ 0,  5, 10, 23, 30], dtype=int32)"
      ]
     },
     "execution_count": 12,
     "metadata": {},
     "output_type": "execute_result"
    }
   ],
   "source": [
    "interp_data.interpolator.tg.npf.get_value()"
   ]
  },
  {
   "cell_type": "code",
   "execution_count": null,
   "metadata": {},
   "outputs": [],
   "source": []
  },
  {
   "cell_type": "code",
   "execution_count": 13,
   "metadata": {},
   "outputs": [
    {
     "data": {
      "text/plain": [
       "(34, 12)"
      ]
     },
     "execution_count": 13,
     "metadata": {},
     "output_type": "execute_result"
    }
   ],
   "source": [
    "geo_data.interfaces.shape"
   ]
  },
  {
   "cell_type": "code",
   "execution_count": 59,
   "metadata": {},
   "outputs": [
    {
     "data": {
      "text/plain": [
       "array([ 0,  4,  9, 14, 27, 34], dtype=int32)"
      ]
     },
     "execution_count": 59,
     "metadata": {},
     "output_type": "execute_result"
    }
   ],
   "source": [
    "interp_data.interpolator.tg.npf.get_value()"
   ]
  },
  {
   "cell_type": "code",
   "execution_count": 15,
   "metadata": {},
   "outputs": [
    {
     "data": {
      "text/plain": [
       "[<matplotlib.lines.Line2D at 0x7fe18caceac8>]"
      ]
     },
     "execution_count": 15,
     "metadata": {},
     "output_type": "execute_result"
    },
    {
     "data": {
      "image/png": "[encoded data removed]",
      "text/plain": [
       "<matplotlib.figure.Figure at 0x7fe18e942198>"
      ]
     },
     "metadata": {},
     "output_type": "display_data"
    }
   ],
   "source": [
    "import matplotlib.pyplot as plt\n",
    "x = np.linspace(-10,50)\n",
    "sigm = 1. / (1 + np.exp(-1 * (x - 0))) + 1. / (1 + np.exp(1 * (x - 30))) -1\n",
    "plt.plot(x, sigm)"
   ]
  },
  {
   "cell_type": "code",
   "execution_count": 16,
   "metadata": {},
   "outputs": [],
   "source": [
    "interp_data.update_interpolator(geo_data)"
   ]
  },
  {
   "cell_type": "code",
   "execution_count": 9,
   "metadata": {},
   "outputs": [
    {
     "data": {
      "text/plain": [
       "array([ 1.,  2.,  3.,  4.,  5.,  6.], dtype=float32)"
      ]
     },
     "execution_count": 9,
     "metadata": {},
     "output_type": "execute_result"
    }
   ],
   "source": [
    "interp_data.interpolator.tg.n_formation_float.get_value()"
   ]
  },
  {
   "cell_type": "code",
   "execution_count": 56,
   "metadata": {},
   "outputs": [],
   "source": [
    "interp_data.interpolator.tg.n_formation_float.set_value(np.array([ 1.,  2.,  3.,  4.,  5., 6.], dtype='float32'))"
   ]
  },
  {
   "cell_type": "code",
   "execution_count": 5,
   "metadata": {
    "scrolled": true
   },
   "outputs": [
    {
     "name": "stdout",
     "output_type": "stream",
     "text": [
      "scalar_field_iter __str__ = [ 45.18608017  39.44039536  34.02227898]\n",
      "The chunk of block model of a specific series __str__ = [ 1.  1.  1. ...,  0.  0.  0.]\n",
      "yet_simulated __str__ = [     0      1      2 ..., 216065 216066 216067]\n",
      "yet_simulated __str__ = [     0      1      2 ..., 216065 216066 216067]\n",
      "scalar_field_iter __str__ = [ 45.18608017  39.44039536  34.02227898]\n",
      "The chunk of block model of a specific series __str__ = [ 1.  1.  1. ...,  0.  0.  0.]\n",
      "scalar_field_iter __str__ = [ 34.78730698  30.48407173  30.46197701  30.34900284  30.26904297\n",
      "  26.22854347]\n",
      "The chunk of block model of a specific series __str__ = [ 6.          6.          6.         ...,  5.49713901  5.49713901\n",
      "  5.49713901]\n"
     ]
    }
   ],
   "source": [
    "sol = gp.compute_model(interp_data)"
   ]
  },
  {
   "cell_type": "code",
   "execution_count": 6,
   "metadata": {
    "run_control": {
     "marked": true
    },
    "scrolled": false
   },
   "outputs": [
    {
     "data": {
      "application/javascript": [
       "/* Put everything inside the global mpl namespace */\n",
       "window.mpl = {};\n",
       "\n",
       "\n",
       "mpl.get_websocket_type = function() {\n",
       "    if (typeof(WebSocket) !== 'undefined') {\n",
       "        return WebSocket;\n",
       "    } else if (typeof(MozWebSocket) !== 'undefined') {\n",
       "        return MozWebSocket;\n",
       "    } else {\n",
       "        alert('Your browser does not have WebSocket support.' +\n",
       "              'Please try Chrome, Safari or Firefox ≥ 6. ' +\n",
       "              'Firefox 4 and 5 are also supported but you ' +\n",
       "              'have to enable WebSockets in about:config.');\n",
       "    };\n",
       "}\n",
       "\n",
       "mpl.figure = function(figure_id, websocket, ondownload, parent_element) {\n",
       "    this.id = figure_id;\n",
       "\n",
       "    this.ws = websocket;\n",
       "\n",
       "    this.supports_binary = (this.ws.binaryType != undefined);\n",
       "\n",
       "    if (!this.supports_binary) {\n",
       "        var warnings = document.getElementById(\"mpl-warnings\");\n",
       "        if (warnings) {\n",
       "            warnings.style.display = 'block';\n",
       "            warnings.textContent = (\n",
       "                \"This browser does not support binary websocket messages. \" +\n",
       "                    \"Performance may be slow.\");\n",
       "        }\n",
       "    }\n",
       "\n",
       "    this.imageObj = new Image();\n",
       "\n",
       "    this.context = undefined;\n",
       "    this.message = undefined;\n",
       "    this.canvas = undefined;\n",
       "    this.rubberband_canvas = undefined;\n",
       "    this.rubberband_context = undefined;\n",
       "    this.format_dropdown = undefined;\n",
       "\n",
       "    this.image_mode = 'full';\n",
       "\n",
       "    this.root = $('<div/>');\n",
       "    this._root_extra_style(this.root)\n",
       "    this.root.attr('style', 'display: inline-block');\n",
       "\n",
       "    $(parent_element).append(this.root);\n",
       "\n",
       "    this._init_header(this);\n",
       "    this._init_canvas(this);\n",
       "    this._init_toolbar(this);\n",
       "\n",
       "    var fig = this;\n",
       "\n",
       "    this.waiting = false;\n",
       "\n",
       "    this.ws.onopen =  function () {\n",
       "            fig.send_message(\"supports_binary\", {value: fig.supports_binary});\n",
       "            fig.send_message(\"send_image_mode\", {});\n",
       "            if (mpl.ratio != 1) {\n",
       "                fig.send_message(\"set_dpi_ratio\", {'dpi_ratio': mpl.ratio});\n",
       "            }\n",
       "            fig.send_message(\"refresh\", {});\n",
       "        }\n",
       "\n",
       "    this.imageObj.onload = function() {\n",
       "            if (fig.image_mode == 'full') {\n",
       "                // Full images could contain transparency (where diff images\n",
       "                // almost always do), so we need to clear the canvas so that\n",
       "                // there is no ghosting.\n",
       "                fig.context.clearRect(0, 0, fig.canvas.width, fig.canvas.height);\n",
       "            }\n",
       "            fig.context.drawImage(fig.imageObj, 0, 0);\n",
       "        };\n",
       "\n",
       "    this.imageObj.onunload = function() {\n",
       "        fig.ws.close();\n",
       "    }\n",
       "\n",
       "    this.ws.onmessage = this._make_on_message_function(this);\n",
       "\n",
       "    this.ondownload = ondownload;\n",
       "}\n",
       "\n",
       "mpl.figure.prototype._init_header = function() {\n",
       "    var titlebar = $(\n",
       "        '<div class=\"ui-dialog-titlebar ui-widget-header ui-corner-all ' +\n",
       "        'ui-helper-clearfix\"/>');\n",
       "    var titletext = $(\n",
       "        '<div class=\"ui-dialog-title\" style=\"width: 100%; ' +\n",
       "        'text-align: center; padding: 3px;\"/>');\n",
       "    titlebar.append(titletext)\n",
       "    this.root.append(titlebar);\n",
       "    this.header = titletext[0];\n",
       "}\n",
       "\n",
       "\n",
       "\n",
       "mpl.figure.prototype._canvas_extra_style = function(canvas_div) {\n",
       "\n",
       "}\n",
       "\n",
       "\n",
       "mpl.figure.prototype._root_extra_style = function(canvas_div) {\n",
       "\n",
       "}\n",
       "\n",
       "mpl.figure.prototype._init_canvas = function() {\n",
       "    var fig = this;\n",
       "\n",
       "    var canvas_div = $('<div/>');\n",
       "\n",
       "    canvas_div.attr('style', 'position: relative; clear: both; outline: 0');\n",
       "\n",
       "    function canvas_keyboard_event(event) {\n",
       "        return fig.key_event(event, event['data']);\n",
       "    }\n",
       "\n",
       "    canvas_div.keydown('key_press', canvas_keyboard_event);\n",
       "    canvas_div.keyup('key_release', canvas_keyboard_event);\n",
       "    this.canvas_div = canvas_div\n",
       "    this._canvas_extra_style(canvas_div)\n",
       "    this.root.append(canvas_div);\n",
       "\n",
       "    var canvas = $('<canvas/>');\n",
       "    canvas.addClass('mpl-canvas');\n",
       "    canvas.attr('style', \"left: 0; top: 0; z-index: 0; outline: 0\")\n",
       "\n",
       "    this.canvas = canvas[0];\n",
       "    this.context = canvas[0].getContext(\"2d\");\n",
       "\n",
       "    var backingStore = this.context.backingStorePixelRatio ||\n",
       "\tthis.context.webkitBackingStorePixelRatio ||\n",
       "\tthis.context.mozBackingStorePixelRatio ||\n",
       "\tthis.context.msBackingStorePixelRatio ||\n",
       "\tthis.context.oBackingStorePixelRatio ||\n",
       "\tthis.context.backingStorePixelRatio || 1;\n",
       "\n",
       "    mpl.ratio = (window.devicePixelRatio || 1) / backingStore;\n",
       "\n",
       "    var rubberband = $('<canvas/>');\n",
       "    rubberband.attr('style', \"position: absolute; left: 0; top: 0; z-index: 1;\")\n",
       "\n",
       "    var pass_mouse_events = true;\n",
       "\n",
       "    canvas_div.resizable({\n",
       "        start: function(event, ui) {\n",
       "            pass_mouse_events = false;\n",
       "        },\n",
       "        resize: function(event, ui) {\n",
       "            fig.request_resize(ui.size.width, ui.size.height);\n",
       "        },\n",
       "        stop: function(event, ui) {\n",
       "            pass_mouse_events = true;\n",
       "            fig.request_resize(ui.size.width, ui.size.height);\n",
       "        },\n",
       "    });\n",
       "\n",
       "    function mouse_event_fn(event) {\n",
       "        if (pass_mouse_events)\n",
       "            return fig.mouse_event(event, event['data']);\n",
       "    }\n",
       "\n",
       "    rubberband.mousedown('button_press', mouse_event_fn);\n",
       "    rubberband.mouseup('button_release', mouse_event_fn);\n",
       "    // Throttle sequential mouse events to 1 every 20ms.\n",
       "    rubberband.mousemove('motion_notify', mouse_event_fn);\n",
       "\n",
       "    rubberband.mouseenter('figure_enter', mouse_event_fn);\n",
       "    rubberband.mouseleave('figure_leave', mouse_event_fn);\n",
       "\n",
       "    canvas_div.on(\"wheel\", function (event) {\n",
       "        event = event.originalEvent;\n",
       "        event['data'] = 'scroll'\n",
       "        if (event.deltaY < 0) {\n",
       "            event.step = 1;\n",
       "        } else {\n",
       "            event.step = -1;\n",
       "        }\n",
       "        mouse_event_fn(event);\n",
       "    });\n",
       "\n",
       "    canvas_div.append(canvas);\n",
       "    canvas_div.append(rubberband);\n",
       "\n",
       "    this.rubberband = rubberband;\n",
       "    this.rubberband_canvas = rubberband[0];\n",
       "    this.rubberband_context = rubberband[0].getContext(\"2d\");\n",
       "    this.rubberband_context.strokeStyle = \"#000000\";\n",
       "\n",
       "    this._resize_canvas = function(width, height) {\n",
       "        // Keep the size of the canvas, canvas container, and rubber band\n",
       "        // canvas in synch.\n",
       "        canvas_div.css('width', width)\n",
       "        canvas_div.css('height', height)\n",
       "\n",
       "        canvas.attr('width', width * mpl.ratio);\n",
       "        canvas.attr('height', height * mpl.ratio);\n",
       "        canvas.attr('style', 'width: ' + width + 'px; height: ' + height + 'px;');\n",
       "\n",
       "        rubberband.attr('width', width);\n",
       "        rubberband.attr('height', height);\n",
       "    }\n",
       "\n",
       "    // Set the figure to an initial 600x600px, this will subsequently be updated\n",
       "    // upon first draw.\n",
       "    this._resize_canvas(600, 600);\n",
       "\n",
       "    // Disable right mouse context menu.\n",
       "    $(this.rubberband_canvas).bind(\"contextmenu\",function(e){\n",
       "        return false;\n",
       "    });\n",
       "\n",
       "    function set_focus () {\n",
       "        canvas.focus();\n",
       "        canvas_div.focus();\n",
       "    }\n",
       "\n",
       "    window.setTimeout(set_focus, 100);\n",
       "}\n",
       "\n",
       "mpl.figure.prototype._init_toolbar = function() {\n",
       "    var fig = this;\n",
       "\n",
       "    var nav_element = $('<div/>')\n",
       "    nav_element.attr('style', 'width: 100%');\n",
       "    this.root.append(nav_element);\n",
       "\n",
       "    // Define a callback function for later on.\n",
       "    function toolbar_event(event) {\n",
       "        return fig.toolbar_button_onclick(event['data']);\n",
       "    }\n",
       "    function toolbar_mouse_event(event) {\n",
       "        return fig.toolbar_button_onmouseover(event['data']);\n",
       "    }\n",
       "\n",
       "    for(var toolbar_ind in mpl.toolbar_items) {\n",
       "        var name = mpl.toolbar_items[toolbar_ind][0];\n",
       "        var tooltip = mpl.toolbar_items[toolbar_ind][1];\n",
       "        var image = mpl.toolbar_items[toolbar_ind][2];\n",
       "        var method_name = mpl.toolbar_items[toolbar_ind][3];\n",
       "\n",
       "        if (!name) {\n",
       "            // put a spacer in here.\n",
       "            continue;\n",
       "        }\n",
       "        var button = $('<button/>');\n",
       "        button.addClass('ui-button ui-widget ui-state-default ui-corner-all ' +\n",
       "                        'ui-button-icon-only');\n",
       "        button.attr('role', 'button');\n",
       "        button.attr('aria-disabled', 'false');\n",
       "        button.click(method_name, toolbar_event);\n",
       "        button.mouseover(tooltip, toolbar_mouse_event);\n",
       "\n",
       "        var icon_img = $('<span/>');\n",
       "        icon_img.addClass('ui-button-icon-primary ui-icon');\n",
       "        icon_img.addClass(image);\n",
       "        icon_img.addClass('ui-corner-all');\n",
       "\n",
       "        var tooltip_span = $('<span/>');\n",
       "        tooltip_span.addClass('ui-button-text');\n",
       "        tooltip_span.html(tooltip);\n",
       "\n",
       "        button.append(icon_img);\n",
       "        button.append(tooltip_span);\n",
       "\n",
       "        nav_element.append(button);\n",
       "    }\n",
       "\n",
       "    var fmt_picker_span = $('<span/>');\n",
       "\n",
       "    var fmt_picker = $('<select/>');\n",
       "    fmt_picker.addClass('mpl-toolbar-option ui-widget ui-widget-content');\n",
       "    fmt_picker_span.append(fmt_picker);\n",
       "    nav_element.append(fmt_picker_span);\n",
       "    this.format_dropdown = fmt_picker[0];\n",
       "\n",
       "    for (var ind in mpl.extensions) {\n",
       "        var fmt = mpl.extensions[ind];\n",
       "        var option = $(\n",
       "            '<option/>', {selected: fmt === mpl.default_extension}).html(fmt);\n",
       "        fmt_picker.append(option)\n",
       "    }\n",
       "\n",
       "    // Add hover states to the ui-buttons\n",
       "    $( \".ui-button\" ).hover(\n",
       "        function() { $(this).addClass(\"ui-state-hover\");},\n",
       "        function() { $(this).removeClass(\"ui-state-hover\");}\n",
       "    );\n",
       "\n",
       "    var status_bar = $('<span class=\"mpl-message\"/>');\n",
       "    nav_element.append(status_bar);\n",
       "    this.message = status_bar[0];\n",
       "}\n",
       "\n",
       "mpl.figure.prototype.request_resize = function(x_pixels, y_pixels) {\n",
       "    // Request matplotlib to resize the figure. Matplotlib will then trigger a resize in the client,\n",
       "    // which will in turn request a refresh of the image.\n",
       "    this.send_message('resize', {'width': x_pixels, 'height': y_pixels});\n",
       "}\n",
       "\n",
       "mpl.figure.prototype.send_message = function(type, properties) {\n",
       "    properties['type'] = type;\n",
       "    properties['figure_id'] = this.id;\n",
       "    this.ws.send(JSON.stringify(properties));\n",
       "}\n",
       "\n",
       "mpl.figure.prototype.send_draw_message = function() {\n",
       "    if (!this.waiting) {\n",
       "        this.waiting = true;\n",
       "        this.ws.send(JSON.stringify({type: \"draw\", figure_id: this.id}));\n",
       "    }\n",
       "}\n",
       "\n",
       "\n",
       "mpl.figure.prototype.handle_save = function(fig, msg) {\n",
       "    var format_dropdown = fig.format_dropdown;\n",
       "    var format = format_dropdown.options[format_dropdown.selectedIndex].value;\n",
       "    fig.ondownload(fig, format);\n",
       "}\n",
       "\n",
       "\n",
       "mpl.figure.prototype.handle_resize = function(fig, msg) {\n",
       "    var size = msg['size'];\n",
       "    if (size[0] != fig.canvas.width || size[1] != fig.canvas.height) {\n",
       "        fig._resize_canvas(size[0], size[1]);\n",
       "        fig.send_message(\"refresh\", {});\n",
       "    };\n",
       "}\n",
       "\n",
       "mpl.figure.prototype.handle_rubberband = function(fig, msg) {\n",
       "    var x0 = msg['x0'] / mpl.ratio;\n",
       "    var y0 = (fig.canvas.height - msg['y0']) / mpl.ratio;\n",
       "    var x1 = msg['x1'] / mpl.ratio;\n",
       "    var y1 = (fig.canvas.height - msg['y1']) / mpl.ratio;\n",
       "    x0 = Math.floor(x0) + 0.5;\n",
       "    y0 = Math.floor(y0) + 0.5;\n",
       "    x1 = Math.floor(x1) + 0.5;\n",
       "    y1 = Math.floor(y1) + 0.5;\n",
       "    var min_x = Math.min(x0, x1);\n",
       "    var min_y = Math.min(y0, y1);\n",
       "    var width = Math.abs(x1 - x0);\n",
       "    var height = Math.abs(y1 - y0);\n",
       "\n",
       "    fig.rubberband_context.clearRect(\n",
       "        0, 0, fig.canvas.width, fig.canvas.height);\n",
       "\n",
       "    fig.rubberband_context.strokeRect(min_x, min_y, width, height);\n",
       "}\n",
       "\n",
       "mpl.figure.prototype.handle_figure_label = function(fig, msg) {\n",
       "    // Updates the figure title.\n",
       "    fig.header.textContent = msg['label'];\n",
       "}\n",
       "\n",
       "mpl.figure.prototype.handle_cursor = function(fig, msg) {\n",
       "    var cursor = msg['cursor'];\n",
       "    switch(cursor)\n",
       "    {\n",
       "    case 0:\n",
       "        cursor = 'pointer';\n",
       "        break;\n",
       "    case 1:\n",
       "        cursor = 'default';\n",
       "        break;\n",
       "    case 2:\n",
       "        cursor = 'crosshair';\n",
       "        break;\n",
       "    case 3:\n",
       "        cursor = 'move';\n",
       "        break;\n",
       "    }\n",
       "    fig.rubberband_canvas.style.cursor = cursor;\n",
       "}\n",
       "\n",
       "mpl.figure.prototype.handle_message = function(fig, msg) {\n",
       "    fig.message.textContent = msg['message'];\n",
       "}\n",
       "\n",
       "mpl.figure.prototype.handle_draw = function(fig, msg) {\n",
       "    // Request the server to send over a new figure.\n",
       "    fig.send_draw_message();\n",
       "}\n",
       "\n",
       "mpl.figure.prototype.handle_image_mode = function(fig, msg) {\n",
       "    fig.image_mode = msg['mode'];\n",
       "}\n",
       "\n",
       "mpl.figure.prototype.updated_canvas_event = function() {\n",
       "    // Called whenever the canvas gets updated.\n",
       "    this.send_message(\"ack\", {});\n",
       "}\n",
       "\n",
       "// A function to construct a web socket function for onmessage handling.\n",
       "// Called in the figure constructor.\n",
       "mpl.figure.prototype._make_on_message_function = function(fig) {\n",
       "    return function socket_on_message(evt) {\n",
       "        if (evt.data instanceof Blob) {\n",
       "            /* FIXME: We get \"Resource interpreted as Image but\n",
       "             * transferred with MIME type text/plain:\" errors on\n",
       "             * Chrome.  But how to set the MIME type?  It doesn't seem\n",
       "             * to be part of the websocket stream */\n",
       "            evt.data.type = \"image/png\";\n",
       "\n",
       "            /* Free the memory for the previous frames */\n",
       "            if (fig.imageObj.src) {\n",
       "                (window.URL || window.webkitURL).revokeObjectURL(\n",
       "                    fig.imageObj.src);\n",
       "            }\n",
       "\n",
       "            fig.imageObj.src = (window.URL || window.webkitURL).createObjectURL(\n",
       "                evt.data);\n",
       "            fig.updated_canvas_event();\n",
       "            fig.waiting = false;\n",
       "            return;\n",
       "        }\n",
       "        else if (typeof evt.data === 'string' && evt.data.slice(0, 21) == \"data:image/png;base64\") {\n",
       "            fig.imageObj.src = evt.data;\n",
       "            fig.updated_canvas_event();\n",
       "            fig.waiting = false;\n",
       "            return;\n",
       "        }\n",
       "\n",
       "        var msg = JSON.parse(evt.data);\n",
       "        var msg_type = msg['type'];\n",
       "\n",
       "        // Call the  \"handle_{type}\" callback, which takes\n",
       "        // the figure and JSON message as its only arguments.\n",
       "        try {\n",
       "            var callback = fig[\"handle_\" + msg_type];\n",
       "        } catch (e) {\n",
       "            console.log(\"No handler for the '\" + msg_type + \"' message type: \", msg);\n",
       "            return;\n",
       "        }\n",
       "\n",
       "        if (callback) {\n",
       "            try {\n",
       "                // console.log(\"Handling '\" + msg_type + \"' message: \", msg);\n",
       "                callback(fig, msg);\n",
       "            } catch (e) {\n",
       "                console.log(\"Exception inside the 'handler_\" + msg_type + \"' callback:\", e, e.stack, msg);\n",
       "            }\n",
       "        }\n",
       "    };\n",
       "}\n",
       "\n",
       "// from http://stackoverflow.com/questions/1114465/getting-mouse-location-in-canvas\n",
       "mpl.findpos = function(e) {\n",
       "    //this section is from http://www.quirksmode.org/js/events_properties.html\n",
       "    var targ;\n",
       "    if (!e)\n",
       "        e = window.event;\n",
       "    if (e.target)\n",
       "        targ = e.target;\n",
       "    else if (e.srcElement)\n",
       "        targ = e.srcElement;\n",
       "    if (targ.nodeType == 3) // defeat Safari bug\n",
       "        targ = targ.parentNode;\n",
       "\n",
       "    // jQuery normalizes the pageX and pageY\n",
       "    // pageX,Y are the mouse positions relative to the document\n",
       "    // offset() returns the position of the element relative to the document\n",
       "    var x = e.pageX - $(targ).offset().left;\n",
       "    var y = e.pageY - $(targ).offset().top;\n",
       "\n",
       "    return {\"x\": x, \"y\": y};\n",
       "};\n",
       "\n",
       "/*\n",
       " * return a copy of an object with only non-object keys\n",
       " * we need this to avoid circular references\n",
       " * http://stackoverflow.com/a/24161582/3208463\n",
       " */\n",
       "function simpleKeys (original) {\n",
       "  return Object.keys(original).reduce(function (obj, key) {\n",
       "    if (typeof original[key] !== 'object')\n",
       "        obj[key] = original[key]\n",
       "    return obj;\n",
       "  }, {});\n",
       "}\n",
       "\n",
       "mpl.figure.prototype.mouse_event = function(event, name) {\n",
       "    var canvas_pos = mpl.findpos(event)\n",
       "\n",
       "    if (name === 'button_press')\n",
       "    {\n",
       "        this.canvas.focus();\n",
       "        this.canvas_div.focus();\n",
       "    }\n",
       "\n",
       "    var x = canvas_pos.x * mpl.ratio;\n",
       "    var y = canvas_pos.y * mpl.ratio;\n",
       "\n",
       "    this.send_message(name, {x: x, y: y, button: event.button,\n",
       "                             step: event.step,\n",
       "                             guiEvent: simpleKeys(event)});\n",
       "\n",
       "    /* This prevents the web browser from automatically changing to\n",
       "     * the text insertion cursor when the button is pressed.  We want\n",
       "     * to control all of the cursor setting manually through the\n",
       "     * 'cursor' event from matplotlib */\n",
       "    event.preventDefault();\n",
       "    return false;\n",
       "}\n",
       "\n",
       "mpl.figure.prototype._key_event_extra = function(event, name) {\n",
       "    // Handle any extra behaviour associated with a key event\n",
       "}\n",
       "\n",
       "mpl.figure.prototype.key_event = function(event, name) {\n",
       "\n",
       "    // Prevent repeat events\n",
       "    if (name == 'key_press')\n",
       "    {\n",
       "        if (event.which === this._key)\n",
       "            return;\n",
       "        else\n",
       "            this._key = event.which;\n",
       "    }\n",
       "    if (name == 'key_release')\n",
       "        this._key = null;\n",
       "\n",
       "    var value = '';\n",
       "    if (event.ctrlKey && event.which != 17)\n",
       "        value += \"ctrl+\";\n",
       "    if (event.altKey && event.which != 18)\n",
       "        value += \"alt+\";\n",
       "    if (event.shiftKey && event.which != 16)\n",
       "        value += \"shift+\";\n",
       "\n",
       "    value += 'k';\n",
       "    value += event.which.toString();\n",
       "\n",
       "    this._key_event_extra(event, name);\n",
       "\n",
       "    this.send_message(name, {key: value,\n",
       "                             guiEvent: simpleKeys(event)});\n",
       "    return false;\n",
       "}\n",
       "\n",
       "mpl.figure.prototype.toolbar_button_onclick = function(name) {\n",
       "    if (name == 'download') {\n",
       "        this.handle_save(this, null);\n",
       "    } else {\n",
       "        this.send_message(\"toolbar_button\", {name: name});\n",
       "    }\n",
       "};\n",
       "\n",
       "mpl.figure.prototype.toolbar_button_onmouseover = function(tooltip) {\n",
       "    this.message.textContent = tooltip;\n",
       "};\n",
       "mpl.toolbar_items = [[\"Home\", \"Reset original view\", \"fa fa-home icon-home\", \"home\"], [\"Back\", \"Back to  previous view\", \"fa fa-arrow-left icon-arrow-left\", \"back\"], [\"Forward\", \"Forward to next view\", \"fa fa-arrow-right icon-arrow-right\", \"forward\"], [\"\", \"\", \"\", \"\"], [\"Pan\", \"Pan axes with left mouse, zoom with right\", \"fa fa-arrows icon-move\", \"pan\"], [\"Zoom\", \"Zoom to rectangle\", \"fa fa-square-o icon-check-empty\", \"zoom\"], [\"\", \"\", \"\", \"\"], [\"Download\", \"Download plot\", \"fa fa-floppy-o icon-save\", \"download\"]];\n",
       "\n",
       "mpl.extensions = [\"eps\", \"jpeg\", \"pdf\", \"png\", \"ps\", \"raw\", \"svg\", \"tif\"];\n",
       "\n",
       "mpl.default_extension = \"png\";var comm_websocket_adapter = function(comm) {\n",
       "    // Create a \"websocket\"-like object which calls the given IPython comm\n",
       "    // object with the appropriate methods. Currently this is a non binary\n",
       "    // socket, so there is still some room for performance tuning.\n",
       "    var ws = {};\n",
       "\n",
       "    ws.close = function() {\n",
       "        comm.close()\n",
       "    };\n",
       "    ws.send = function(m) {\n",
       "        //console.log('sending', m);\n",
       "        comm.send(m);\n",
       "    };\n",
       "    // Register the callback with on_msg.\n",
       "    comm.on_msg(function(msg) {\n",
       "        //console.log('receiving', msg['content']['data'], msg);\n",
       "        // Pass the mpl event to the overriden (by mpl) onmessage function.\n",
       "        ws.onmessage(msg['content']['data'])\n",
       "    });\n",
       "    return ws;\n",
       "}\n",
       "\n",
       "mpl.mpl_figure_comm = function(comm, msg) {\n",
       "    // This is the function which gets called when the mpl process\n",
       "    // starts-up an IPython Comm through the \"matplotlib\" channel.\n",
       "\n",
       "    var id = msg.content.data.id;\n",
       "    // Get hold of the div created by the display call when the Comm\n",
       "    // socket was opened in Python.\n",
       "    var element = $(\"#\" + id);\n",
       "    var ws_proxy = comm_websocket_adapter(comm)\n",
       "\n",
       "    function ondownload(figure, format) {\n",
       "        window.open(figure.imageObj.src);\n",
       "    }\n",
       "\n",
       "    var fig = new mpl.figure(id, ws_proxy,\n",
       "                           ondownload,\n",
       "                           element.get(0));\n",
       "\n",
       "    // Call onopen now - mpl needs it, as it is assuming we've passed it a real\n",
       "    // web socket which is closed, not our websocket->open comm proxy.\n",
       "    ws_proxy.onopen();\n",
       "\n",
       "    fig.parent_element = element.get(0);\n",
       "    fig.cell_info = mpl.find_output_cell(\"<div id='\" + id + \"'></div>\");\n",
       "    if (!fig.cell_info) {\n",
       "        console.error(\"Failed to find cell for figure\", id, fig);\n",
       "        return;\n",
       "    }\n",
       "\n",
       "    var output_index = fig.cell_info[2]\n",
       "    var cell = fig.cell_info[0];\n",
       "\n",
       "};\n",
       "\n",
       "mpl.figure.prototype.handle_close = function(fig, msg) {\n",
       "    var width = fig.canvas.width/mpl.ratio\n",
       "    fig.root.unbind('remove')\n",
       "\n",
       "    // Update the output cell to use the data from the current canvas.\n",
       "    fig.push_to_output();\n",
       "    var dataURL = fig.canvas.toDataURL();\n",
       "    // Re-enable the keyboard manager in IPython - without this line, in FF,\n",
       "    // the notebook keyboard shortcuts fail.\n",
       "    IPython.keyboard_manager.enable()\n",
       "    $(fig.parent_element).html('<img src=\"' + dataURL + '\" width=\"' + width + '\">');\n",
       "    fig.close_ws(fig, msg);\n",
       "}\n",
       "\n",
       "mpl.figure.prototype.close_ws = function(fig, msg){\n",
       "    fig.send_message('closing', msg);\n",
       "    // fig.ws.close()\n",
       "}\n",
       "\n",
       "mpl.figure.prototype.push_to_output = function(remove_interactive) {\n",
       "    // Turn the data on the canvas into data in the output cell.\n",
       "    var width = this.canvas.width/mpl.ratio\n",
       "    var dataURL = this.canvas.toDataURL();\n",
       "    this.cell_info[1]['text/html'] = '<img src=\"' + dataURL + '\" width=\"' + width + '\">';\n",
       "}\n",
       "\n",
       "mpl.figure.prototype.updated_canvas_event = function() {\n",
       "    // Tell IPython that the notebook contents must change.\n",
       "    IPython.notebook.set_dirty(true);\n",
       "    this.send_message(\"ack\", {});\n",
       "    var fig = this;\n",
       "    // Wait a second, then push the new image to the DOM so\n",
       "    // that it is saved nicely (might be nice to debounce this).\n",
       "    setTimeout(function () { fig.push_to_output() }, 1000);\n",
       "}\n",
       "\n",
       "mpl.figure.prototype._init_toolbar = function() {\n",
       "    var fig = this;\n",
       "\n",
       "    var nav_element = $('<div/>')\n",
       "    nav_element.attr('style', 'width: 100%');\n",
       "    this.root.append(nav_element);\n",
       "\n",
       "    // Define a callback function for later on.\n",
       "    function toolbar_event(event) {\n",
       "        return fig.toolbar_button_onclick(event['data']);\n",
       "    }\n",
       "    function toolbar_mouse_event(event) {\n",
       "        return fig.toolbar_button_onmouseover(event['data']);\n",
       "    }\n",
       "\n",
       "    for(var toolbar_ind in mpl.toolbar_items){\n",
       "        var name = mpl.toolbar_items[toolbar_ind][0];\n",
       "        var tooltip = mpl.toolbar_items[toolbar_ind][1];\n",
       "        var image = mpl.toolbar_items[toolbar_ind][2];\n",
       "        var method_name = mpl.toolbar_items[toolbar_ind][3];\n",
       "\n",
       "        if (!name) { continue; };\n",
       "\n",
       "        var button = $('<button class=\"btn btn-default\" href=\"#\" title=\"' + name + '\"><i class=\"fa ' + image + ' fa-lg\"></i></button>');\n",
       "        button.click(method_name, toolbar_event);\n",
       "        button.mouseover(tooltip, toolbar_mouse_event);\n",
       "        nav_element.append(button);\n",
       "    }\n",
       "\n",
       "    // Add the status bar.\n",
       "    var status_bar = $('<span class=\"mpl-message\" style=\"text-align:right; float: right;\"/>');\n",
       "    nav_element.append(status_bar);\n",
       "    this.message = status_bar[0];\n",
       "\n",
       "    // Add the close button to the window.\n",
       "    var buttongrp = $('<div class=\"btn-group inline pull-right\"></div>');\n",
       "    var button = $('<button class=\"btn btn-mini btn-primary\" href=\"#\" title=\"Stop Interaction\"><i class=\"fa fa-power-off icon-remove icon-large\"></i></button>');\n",
       "    button.click(function (evt) { fig.handle_close(fig, {}); } );\n",
       "    button.mouseover('Stop Interaction', toolbar_mouse_event);\n",
       "    buttongrp.append(button);\n",
       "    var titlebar = this.root.find($('.ui-dialog-titlebar'));\n",
       "    titlebar.prepend(buttongrp);\n",
       "}\n",
       "\n",
       "mpl.figure.prototype._root_extra_style = function(el){\n",
       "    var fig = this\n",
       "    el.on(\"remove\", function(){\n",
       "\tfig.close_ws(fig, {});\n",
       "    });\n",
       "}\n",
       "\n",
       "mpl.figure.prototype._canvas_extra_style = function(el){\n",
       "    // this is important to make the div 'focusable\n",
       "    el.attr('tabindex', 0)\n",
       "    // reach out to IPython and tell the keyboard manager to turn it's self\n",
       "    // off when our div gets focus\n",
       "\n",
       "    // location in version 3\n",
       "    if (IPython.notebook.keyboard_manager) {\n",
       "        IPython.notebook.keyboard_manager.register_events(el);\n",
       "    }\n",
       "    else {\n",
       "        // location in version 2\n",
       "        IPython.keyboard_manager.register_events(el);\n",
       "    }\n",
       "\n",
       "}\n",
       "\n",
       "mpl.figure.prototype._key_event_extra = function(event, name) {\n",
       "    var manager = IPython.notebook.keyboard_manager;\n",
       "    if (!manager)\n",
       "        manager = IPython.keyboard_manager;\n",
       "\n",
       "    // Check for shift+enter\n",
       "    if (event.shiftKey && event.which == 13) {\n",
       "        this.canvas_div.blur();\n",
       "        event.shiftKey = false;\n",
       "        // Send a \"J\" for go to next cell\n",
       "        event.which = 74;\n",
       "        event.keyCode = 74;\n",
       "        manager.command_mode();\n",
       "        manager.handle_keydown(event);\n",
       "    }\n",
       "}\n",
       "\n",
       "mpl.figure.prototype.handle_save = function(fig, msg) {\n",
       "    fig.ondownload(fig, null);\n",
       "}\n",
       "\n",
       "\n",
       "mpl.find_output_cell = function(html_output) {\n",
       "    // Return the cell and output element which can be found *uniquely* in the notebook.\n",
       "    // Note - this is a bit hacky, but it is done because the \"notebook_saving.Notebook\"\n",
       "    // IPython event is triggered only after the cells have been serialised, which for\n",
       "    // our purposes (turning an active figure into a static one), is too late.\n",
       "    var cells = IPython.notebook.get_cells();\n",
       "    var ncells = cells.length;\n",
       "    for (var i=0; i<ncells; i++) {\n",
       "        var cell = cells[i];\n",
       "        if (cell.cell_type === 'code'){\n",
       "            for (var j=0; j<cell.output_area.outputs.length; j++) {\n",
       "                var data = cell.output_area.outputs[j];\n",
       "                if (data.data) {\n",
       "                    // IPython >= 3 moved mimebundle to data attribute of output\n",
       "                    data = data.data;\n",
       "                }\n",
       "                if (data['text/html'] == html_output) {\n",
       "                    return [cell, data, j];\n",
       "                }\n",
       "            }\n",
       "        }\n",
       "    }\n",
       "}\n",
       "\n",
       "// Register the function which deals with the matplotlib target/channel.\n",
       "// The kernel may be null if the page has been refreshed.\n",
       "if (IPython.notebook.kernel != null) {\n",
       "    IPython.notebook.kernel.comm_manager.register_target('matplotlib', mpl.mpl_figure_comm);\n",
       "}\n"
      ],
      "text/plain": [
       "<IPython.core.display.Javascript object>"
      ]
     },
     "metadata": {},
     "output_type": "display_data"
    },
    {
     "data": {
      "text/html": [
       "<img src=\"data:image/png;base64,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\" width=\"360\">"
      ],
      "text/plain": [
       "<IPython.core.display.HTML object>"
      ]
     },
     "metadata": {},
     "output_type": "display_data"
    },
    {
     "name": "stdout",
     "output_type": "stream",
     "text": [
      "[[ 6.  6.  6. ...,  6.  6.  6.]\n",
      " [ 6.  6.  6. ...,  6.  6.  6.]\n",
      " [ 6.  6.  6. ...,  6.  6.  6.]\n",
      " ..., \n",
      " [ 2.  2.  2. ...,  2.  2.  2.]\n",
      " [ 2.  2.  2. ...,  2.  2.  2.]\n",
      " [ 2.  2.  2. ...,  2.  2.  2.]] <class 'numpy.ndarray'>\n"
     ]
    }
   ],
   "source": [
    "%matplotlib notebook\n",
    "gp.plot_section(geo_data,sol[0][0].astype(float), 30, plot_data = True, direction='y')"
   ]
  },
  {
   "cell_type": "code",
   "execution_count": null,
   "metadata": {},
   "outputs": [],
   "source": [
    "interp_data.interpolator.tg.n_formation_float.set_value(np.array([ 1.,  2.,  3.,  4.,  5., 6.], dtype='float32'))"
   ]
  },
  {
   "cell_type": "code",
   "execution_count": 20,
   "metadata": {},
   "outputs": [
    {
     "data": {
      "text/plain": [
       "array([0, 1, 6], dtype=int32)"
      ]
     },
     "execution_count": 20,
     "metadata": {},
     "output_type": "execute_result"
    }
   ],
   "source": [
    "interp_data.interpolator.tg.n_formations_per_serie.get_value()"
   ]
  },
  {
   "cell_type": "code",
   "execution_count": 48,
   "metadata": {},
   "outputs": [],
   "source": [
    "interp_data.interpolator.tg.len_series_i.set_value(np.array([ 0,  4, 35], dtype='int32'))"
   ]
  },
  {
   "cell_type": "code",
   "execution_count": 25,
   "metadata": {},
   "outputs": [
    {
     "data": {
      "text/plain": [
       "array([ 0,  4, 34], dtype=int32)"
      ]
     },
     "execution_count": 25,
     "metadata": {},
     "output_type": "execute_result"
    }
   ],
   "source": [
    "interp_data.interpolator.tg.len_series_i.get_value()"
   ]
  },
  {
   "cell_type": "code",
   "execution_count": 50,
   "metadata": {},
   "outputs": [
    {
     "data": {
      "text/plain": [
       "array([ 0,  4,  9, 14, 27, 34], dtype=int32)"
      ]
     },
     "execution_count": 50,
     "metadata": {},
     "output_type": "execute_result"
    }
   ],
   "source": [
    "interp_data.interpolator.tg.npf.get_value()"
   ]
  },
  {
   "cell_type": "code",
   "execution_count": 47,
   "metadata": {},
   "outputs": [],
   "source": [
    "asa = interp_data.get_input_data()"
   ]
  },
  {
   "cell_type": "code",
   "execution_count": 49,
   "metadata": {},
   "outputs": [
    {
     "ename": "AttributeError",
     "evalue": "'InterpolatorData' object has no attribute 'th_fn'",
     "output_type": "error",
     "traceback": [
      "\u001b[0;31m---------------------------------------------------------------------------\u001b[0m",
      "\u001b[0;31mAttributeError\u001b[0m                            Traceback (most recent call last)",
      "\u001b[0;32m<ipython-input-49-3c16b9621b58>\u001b[0m in \u001b[0;36m<module>\u001b[0;34m()\u001b[0m\n\u001b[0;32m----> 1\u001b[0;31m \u001b[0minterp_data\u001b[0m\u001b[0;34m.\u001b[0m\u001b[0mth_fn\u001b[0m\u001b[0;34m(\u001b[0m\u001b[0;34m*\u001b[0m\u001b[0masa\u001b[0m\u001b[0;34m)\u001b[0m\u001b[0;34m\u001b[0m\u001b[0m\n\u001b[0m",
      "\u001b[0;31mAttributeError\u001b[0m: 'InterpolatorData' object has no attribute 'th_fn'"
     ]
    }
   ],
   "source": [
    "interp_data.th_fn(*asa)"
   ]
  },
  {
   "cell_type": "code",
   "execution_count": 36,
   "metadata": {},
   "outputs": [
    {
     "data": {
      "text/html": [
       "<div>\n",
       "<style scoped>\n",
       "    .dataframe tbody tr th:only-of-type {\n",
       "        vertical-align: middle;\n",
       "    }\n",
       "\n",
       "    .dataframe tbody tr th {\n",
       "        vertical-align: top;\n",
       "    }\n",
       "\n",
       "    .dataframe thead th {\n",
       "        text-align: right;\n",
       "    }\n",
       "</style>\n",
       "<table border=\"1\" class=\"dataframe\">\n",
       "  <thead>\n",
       "    <tr style=\"text-align: right;\">\n",
       "      <th></th>\n",
       "      <th>X</th>\n",
       "      <th>Y</th>\n",
       "      <th>Z</th>\n",
       "      <th>formation</th>\n",
       "      <th>series</th>\n",
       "      <th>X_std</th>\n",
       "      <th>Y_std</th>\n",
       "      <th>Z_std</th>\n",
       "      <th>order_series</th>\n",
       "      <th>isFault</th>\n",
       "      <th>formation_number</th>\n",
       "      <th>annotations</th>\n",
       "    </tr>\n",
       "  </thead>\n",
       "  <tbody>\n",
       "    <tr>\n",
       "      <th>0</th>\n",
       "      <td>0.435997</td>\n",
       "      <td>0.5001</td>\n",
       "      <td>0.423177</td>\n",
       "      <td>MainFault</td>\n",
       "      <td>fault</td>\n",
       "      <td>NaN</td>\n",
       "      <td>NaN</td>\n",
       "      <td>NaN</td>\n",
       "      <td>1</td>\n",
       "      <td>True</td>\n",
       "      <td>1</td>\n",
       "      <td>${\\bf{x}}_{\\alpha \\,{\\bf{1}},0}$</td>\n",
       "    </tr>\n",
       "    <tr>\n",
       "      <th>5</th>\n",
       "      <td>0.718049</td>\n",
       "      <td>0.5001</td>\n",
       "      <td>0.557792</td>\n",
       "      <td>SecondaryReservoir</td>\n",
       "      <td>Rest</td>\n",
       "      <td>NaN</td>\n",
       "      <td>NaN</td>\n",
       "      <td>NaN</td>\n",
       "      <td>2</td>\n",
       "      <td>False</td>\n",
       "      <td>2</td>\n",
       "      <td>${\\bf{x}}_{\\alpha \\,{\\bf{2}},0}$</td>\n",
       "    </tr>\n",
       "    <tr>\n",
       "      <th>11</th>\n",
       "      <td>0.435997</td>\n",
       "      <td>0.5001</td>\n",
       "      <td>0.564203</td>\n",
       "      <td>Seal</td>\n",
       "      <td>Rest</td>\n",
       "      <td>NaN</td>\n",
       "      <td>NaN</td>\n",
       "      <td>NaN</td>\n",
       "      <td>2</td>\n",
       "      <td>False</td>\n",
       "      <td>3</td>\n",
       "      <td>${\\bf{x}}_{\\alpha \\,{\\bf{3}},0}$</td>\n",
       "    </tr>\n",
       "    <tr>\n",
       "      <th>17</th>\n",
       "      <td>0.410356</td>\n",
       "      <td>0.294972</td>\n",
       "      <td>0.397536</td>\n",
       "      <td>Reservoir</td>\n",
       "      <td>Rest</td>\n",
       "      <td>NaN</td>\n",
       "      <td>NaN</td>\n",
       "      <td>NaN</td>\n",
       "      <td>2</td>\n",
       "      <td>False</td>\n",
       "      <td>4</td>\n",
       "      <td>${\\bf{x}}_{\\alpha \\,{\\bf{4}},0}$</td>\n",
       "    </tr>\n",
       "    <tr>\n",
       "      <th>31</th>\n",
       "      <td>0.718049</td>\n",
       "      <td>0.5001</td>\n",
       "      <td>0.352664</td>\n",
       "      <td>Overlying</td>\n",
       "      <td>Rest</td>\n",
       "      <td>NaN</td>\n",
       "      <td>NaN</td>\n",
       "      <td>NaN</td>\n",
       "      <td>2</td>\n",
       "      <td>False</td>\n",
       "      <td>5</td>\n",
       "      <td>${\\bf{x}}_{\\alpha \\,{\\bf{5}},0}$</td>\n",
       "    </tr>\n",
       "    <tr>\n",
       "      <th>39</th>\n",
       "      <td>NaN</td>\n",
       "      <td>NaN</td>\n",
       "      <td>NaN</td>\n",
       "      <td>basement</td>\n",
       "      <td>Rest</td>\n",
       "      <td>NaN</td>\n",
       "      <td>NaN</td>\n",
       "      <td>NaN</td>\n",
       "      <td>2</td>\n",
       "      <td>False</td>\n",
       "      <td>6</td>\n",
       "      <td>${\\bf{x}}_{\\alpha \\,{\\bf{6}},0}$</td>\n",
       "    </tr>\n",
       "  </tbody>\n",
       "</table>\n",
       "</div>"
      ],
      "text/plain": [
       "           X         Y         Z           formation series X_std Y_std Z_std  \\\n",
       "0   0.435997    0.5001  0.423177           MainFault  fault   NaN   NaN   NaN   \n",
       "5   0.718049    0.5001  0.557792  SecondaryReservoir   Rest   NaN   NaN   NaN   \n",
       "11  0.435997    0.5001  0.564203                Seal   Rest   NaN   NaN   NaN   \n",
       "17  0.410356  0.294972  0.397536           Reservoir   Rest   NaN   NaN   NaN   \n",
       "31  0.718049    0.5001  0.352664           Overlying   Rest   NaN   NaN   NaN   \n",
       "39       NaN       NaN       NaN            basement   Rest   NaN   NaN   NaN   \n",
       "\n",
       "    order_series  isFault  formation_number                       annotations  \n",
       "0              1     True                 1  ${\\bf{x}}_{\\alpha \\,{\\bf{1}},0}$  \n",
       "5              2    False                 2  ${\\bf{x}}_{\\alpha \\,{\\bf{2}},0}$  \n",
       "11             2    False                 3  ${\\bf{x}}_{\\alpha \\,{\\bf{3}},0}$  \n",
       "17             2    False                 4  ${\\bf{x}}_{\\alpha \\,{\\bf{4}},0}$  \n",
       "31             2    False                 5  ${\\bf{x}}_{\\alpha \\,{\\bf{5}},0}$  \n",
       "39             2    False                 6  ${\\bf{x}}_{\\alpha \\,{\\bf{6}},0}$  "
      ]
     },
     "execution_count": 36,
     "metadata": {},
     "output_type": "execute_result"
    }
   ],
   "source": [
    "interp_data.interpolator.pandas_ref_layer_points"
   ]
  },
  {
   "cell_type": "code",
   "execution_count": 40,
   "metadata": {},
   "outputs": [],
   "source": [
    "\n",
    "interp_data.geo_data_res.interfaces.drop(39, inplace=True)"
   ]
  },
  {
   "cell_type": "code",
   "execution_count": null,
   "metadata": {},
   "outputs": [],
   "source": []
  }
 ],
 "metadata": {
  "kernelspec": {
   "display_name": "Python 3",
   "language": "python",
   "name": "python3"
  },
  "language_info": {
   "codemirror_mode": {
    "name": "ipython",
    "version": 3
   },
   "file_extension": ".py",
   "mimetype": "text/x-python",
   "name": "python",
   "nbconvert_exporter": "python",
   "pygments_lexer": "ipython3",
   "version": "3.6.3"
  },
  "latex_envs": {
   "LaTeX_envs_menu_present": true,
   "autocomplete": true,
   "bibliofile": "biblio.bib",
   "cite_by": "apalike",
   "current_citInitial": 1,
   "eqLabelWithNumbers": true,
   "eqNumInitial": 1,
   "hotkeys": {
    "equation": "Ctrl-E",
    "itemize": "Ctrl-I"
   },
   "labels_anchors": false,
   "latex_user_defs": false,
   "report_style_numbering": false,
   "user_envs_cfg": false
  },
  "toc": {
   "colors": {
    "hover_highlight": "#DAA520",
    "running_highlight": "#FF0000",
    "selected_highlight": "#FFD700"
   },
   "moveMenuLeft": true,
   "nav_menu": {
    "height": "67px",
    "width": "252px"
   },
   "navigate_menu": true,
   "number_sections": true,
   "sideBar": true,
   "threshold": 4,
   "toc_cell": false,
   "toc_section_display": "block",
   "toc_window_display": false,
   "widenNotebook": false
  }
 },
 "nbformat": 4,
 "nbformat_minor": 2
}
