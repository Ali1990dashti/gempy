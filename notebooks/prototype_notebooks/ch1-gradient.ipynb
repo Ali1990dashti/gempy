{
 "cells": [
  {
   "cell_type": "markdown",
   "metadata": {},
   "source": [
    "# Chapter 1: GemPy Basic\n",
    "\n",
    "In this first example, we will show how to construct a first basic model and the main objects and functions. First we import gempy:"
   ]
  },
  {
   "cell_type": "code",
   "execution_count": 1,
   "metadata": {},
   "outputs": [
    {
     "name": "stderr",
     "output_type": "stream",
     "text": [
      "WARNING (theano.tensor.blas): Using NumPy C-API based implementation for BLAS functions.\n"
     ]
    }
   ],
   "source": [
    "# These two lines are necessary only if gempy is not installed\n",
    "import sys, os\n",
    "sys.path.append(\"../..\")\n",
    "\n",
    "# Importing gempy\n",
    "import gempy as gp\n",
    "\n",
    "# Embedding matplotlib figures into the notebooks\n",
    "%matplotlib inline\n",
    "\n",
    "# Aux imports\n",
    "import numpy as np"
   ]
  },
  {
   "cell_type": "code",
   "execution_count": null,
   "metadata": {
    "collapsed": true,
    "scrolled": true
   },
   "outputs": [],
   "source": []
  },
  {
   "cell_type": "markdown",
   "metadata": {},
   "source": [
    "All data get stored in a python object InputData.  This object can be easily stored in a Python pickle. However, these files have the limitation that all dependecies must have the same versions as those when the pickle were created. For these reason to have more stable tutorials we will generate the InputData from raw data---i.e. csv files exported from Geomodeller.\n",
    "\n",
    "These csv files can be found in the input_data folder in the root folder of GemPy. These tables contains uniquely the XYZ (and poles, azimuth and polarity in the foliation case) as well as their respective formation name (but not necessary the formation order).\n"
   ]
  },
  {
   "cell_type": "code",
   "execution_count": 2,
   "metadata": {},
   "outputs": [
    {
     "name": "stdout",
     "output_type": "stream",
     "text": [
      "here\n",
      "2\n",
      "3\n",
      "there\n"
     ]
    },
    {
     "name": "stderr",
     "output_type": "stream",
     "text": [
      "../../gempy/data_management.py:66: UserWarning: path_f is deprecated use instead path_o\n",
      "  warnings.warn('path_f is deprecated use instead path_o')\n"
     ]
    }
   ],
   "source": [
    "# Importing the data from csv files and settign extent and resolution\n",
    "geo_data = gp.create_data([0,2000,0,2000,-2000,0],[ 10,10,10],\n",
    "                         path_f = os.pardir+\"/input_data/FabLessPoints_Foliations.csv\",\n",
    "                         path_i = os.pardir+\"/input_data/FabLessPoints_Points.csv\")"
   ]
  },
  {
   "cell_type": "code",
   "execution_count": 3,
   "metadata": {},
   "outputs": [
    {
     "name": "stdout",
     "output_type": "stream",
     "text": [
      "1\n",
      "there\n"
     ]
    }
   ],
   "source": [
    "# Assigning series to formations as well as their order (timewise)\n",
    "gp.set_series(geo_data, {\"fault\":'MainFault', \n",
    "                      \"Rest\": ('SecondaryReservoir','Seal', 'Reservoir', 'Overlying'), \n",
    "                               },\n",
    "                       order_series = [\"fault\", 'Rest'],\n",
    "                       order_formations=['MainFault', \n",
    "                                         'SecondaryReservoir', 'Seal','Reservoir', 'Overlying',\n",
    "                                         ]) \n",
    "#geo_data = gp.select_series(geo_data, ['Rest'])\n"
   ]
  },
  {
   "cell_type": "code",
   "execution_count": 4,
   "metadata": {},
   "outputs": [
    {
     "name": "stderr",
     "output_type": "stream",
     "text": [
      "ERROR:root:No traceback has been produced, nothing to debug.\n"
     ]
    }
   ],
   "source": [
    "%debug"
   ]
  },
  {
   "cell_type": "code",
   "execution_count": 5,
   "metadata": {},
   "outputs": [
    {
     "name": "stdout",
     "output_type": "stream",
     "text": [
      "<gempy.interpolator.InterpolatorData object at 0x7f6d2a39a748>\n"
     ]
    }
   ],
   "source": [
    "import theano.tensor as T\n",
    "import theano\n",
    "interp_data = gp.InterpolatorData(geo_data, u_grade=[1],\n",
    "                                  output='geology', dtype='float64', compile_theano=False)\n",
    "print(interp_data)\n",
    "the = interp_data.interpolator.tg"
   ]
  },
  {
   "cell_type": "code",
   "execution_count": 6,
   "metadata": {},
   "outputs": [
    {
     "data": {
      "text/plain": [
       "[Position of the dips,\n",
       " Angle of every dip,\n",
       " Azimuth,\n",
       " Polarity,\n",
       " Reference points for every layer,\n",
       " Rest of the points of the layers]"
      ]
     },
     "execution_count": 6,
     "metadata": {},
     "output_type": "execute_result"
    }
   ],
   "source": [
    "input_data_T = the.input_parameters_list()\n",
    "input_data_T"
   ]
  },
  {
   "cell_type": "code",
   "execution_count": 7,
   "metadata": {},
   "outputs": [
    {
     "data": {
      "text/html": [
       "<div>\n",
       "<style scoped>\n",
       "    .dataframe tbody tr th:only-of-type {\n",
       "        vertical-align: middle;\n",
       "    }\n",
       "\n",
       "    .dataframe tbody tr th {\n",
       "        vertical-align: top;\n",
       "    }\n",
       "\n",
       "    .dataframe thead th {\n",
       "        text-align: right;\n",
       "    }\n",
       "</style>\n",
       "<table border=\"1\" class=\"dataframe\">\n",
       "  <thead>\n",
       "    <tr style=\"text-align: right;\">\n",
       "      <th></th>\n",
       "      <th>X</th>\n",
       "      <th>Y</th>\n",
       "      <th>Z</th>\n",
       "      <th>formation</th>\n",
       "      <th>series</th>\n",
       "      <th>formation_number</th>\n",
       "      <th>order_series</th>\n",
       "      <th>isFault</th>\n",
       "      <th>annotations</th>\n",
       "      <th>formation_value</th>\n",
       "    </tr>\n",
       "  </thead>\n",
       "  <tbody>\n",
       "    <tr>\n",
       "      <th>0</th>\n",
       "      <td>1000.0</td>\n",
       "      <td>1000.0</td>\n",
       "      <td>-1000.0</td>\n",
       "      <td>MainFault</td>\n",
       "      <td>fault</td>\n",
       "      <td>1</td>\n",
       "      <td>1</td>\n",
       "      <td>True</td>\n",
       "      <td>${\\bf{x}}_{\\alpha \\,{\\bf{1}},0}$</td>\n",
       "      <td>1</td>\n",
       "    </tr>\n",
       "    <tr>\n",
       "      <th>1</th>\n",
       "      <td>900.0</td>\n",
       "      <td>1000.0</td>\n",
       "      <td>-1300.0</td>\n",
       "      <td>MainFault</td>\n",
       "      <td>fault</td>\n",
       "      <td>1</td>\n",
       "      <td>1</td>\n",
       "      <td>True</td>\n",
       "      <td>${\\bf{x}}_{\\alpha \\,{\\bf{1}},1}$</td>\n",
       "      <td>1</td>\n",
       "    </tr>\n",
       "    <tr>\n",
       "      <th>2</th>\n",
       "      <td>1100.0</td>\n",
       "      <td>1000.0</td>\n",
       "      <td>-700.0</td>\n",
       "      <td>MainFault</td>\n",
       "      <td>fault</td>\n",
       "      <td>1</td>\n",
       "      <td>1</td>\n",
       "      <td>True</td>\n",
       "      <td>${\\bf{x}}_{\\alpha \\,{\\bf{1}},2}$</td>\n",
       "      <td>1</td>\n",
       "    </tr>\n",
       "    <tr>\n",
       "      <th>3</th>\n",
       "      <td>1200.0</td>\n",
       "      <td>1000.0</td>\n",
       "      <td>-400.0</td>\n",
       "      <td>MainFault</td>\n",
       "      <td>fault</td>\n",
       "      <td>1</td>\n",
       "      <td>1</td>\n",
       "      <td>True</td>\n",
       "      <td>${\\bf{x}}_{\\alpha \\,{\\bf{1}},3}$</td>\n",
       "      <td>1</td>\n",
       "    </tr>\n",
       "    <tr>\n",
       "      <th>4</th>\n",
       "      <td>800.0</td>\n",
       "      <td>1000.0</td>\n",
       "      <td>-1600.0</td>\n",
       "      <td>MainFault</td>\n",
       "      <td>fault</td>\n",
       "      <td>1</td>\n",
       "      <td>1</td>\n",
       "      <td>True</td>\n",
       "      <td>${\\bf{x}}_{\\alpha \\,{\\bf{1}},4}$</td>\n",
       "      <td>1</td>\n",
       "    </tr>\n",
       "  </tbody>\n",
       "</table>\n",
       "</div>"
      ],
      "text/plain": [
       "        X       Y       Z  formation series  formation_number  order_series  \\\n",
       "0  1000.0  1000.0 -1000.0  MainFault  fault                 1             1   \n",
       "1   900.0  1000.0 -1300.0  MainFault  fault                 1             1   \n",
       "2  1100.0  1000.0  -700.0  MainFault  fault                 1             1   \n",
       "3  1200.0  1000.0  -400.0  MainFault  fault                 1             1   \n",
       "4   800.0  1000.0 -1600.0  MainFault  fault                 1             1   \n",
       "\n",
       "   isFault                       annotations  formation_value  \n",
       "0     True  ${\\bf{x}}_{\\alpha \\,{\\bf{1}},0}$                1  \n",
       "1     True  ${\\bf{x}}_{\\alpha \\,{\\bf{1}},1}$                1  \n",
       "2     True  ${\\bf{x}}_{\\alpha \\,{\\bf{1}},2}$                1  \n",
       "3     True  ${\\bf{x}}_{\\alpha \\,{\\bf{1}},3}$                1  \n",
       "4     True  ${\\bf{x}}_{\\alpha \\,{\\bf{1}},4}$                1  "
      ]
     },
     "execution_count": 7,
     "metadata": {},
     "output_type": "execute_result"
    }
   ],
   "source": [
    "geo_data.interfaces.head()"
   ]
  },
  {
   "cell_type": "code",
   "execution_count": 13,
   "metadata": {},
   "outputs": [
    {
     "data": {
      "text/html": [
       "<div>\n",
       "<style scoped>\n",
       "    .dataframe tbody tr th:only-of-type {\n",
       "        vertical-align: middle;\n",
       "    }\n",
       "\n",
       "    .dataframe tbody tr th {\n",
       "        vertical-align: top;\n",
       "    }\n",
       "\n",
       "    .dataframe thead tr th {\n",
       "        text-align: left;\n",
       "    }\n",
       "</style>\n",
       "<table border=\"1\" class=\"dataframe\">\n",
       "  <thead>\n",
       "    <tr>\n",
       "      <th></th>\n",
       "      <th>value</th>\n",
       "      <th>formation_number</th>\n",
       "    </tr>\n",
       "  </thead>\n",
       "  <tbody>\n",
       "    <tr>\n",
       "      <th>MainFault</th>\n",
       "      <td>1</td>\n",
       "      <td>1</td>\n",
       "    </tr>\n",
       "    <tr>\n",
       "      <th>SecondaryReservoir</th>\n",
       "      <td>5</td>\n",
       "      <td>2</td>\n",
       "    </tr>\n",
       "    <tr>\n",
       "      <th>Seal</th>\n",
       "      <td>4</td>\n",
       "      <td>3</td>\n",
       "    </tr>\n",
       "    <tr>\n",
       "      <th>Reservoir</th>\n",
       "      <td>3</td>\n",
       "      <td>4</td>\n",
       "    </tr>\n",
       "    <tr>\n",
       "      <th>Overlying</th>\n",
       "      <td>2</td>\n",
       "      <td>5</td>\n",
       "    </tr>\n",
       "    <tr>\n",
       "      <th>basement</th>\n",
       "      <td>6</td>\n",
       "      <td>6</td>\n",
       "    </tr>\n",
       "  </tbody>\n",
       "</table>\n",
       "</div>"
      ],
      "text/plain": [
       "                   value formation_number\n",
       "MainFault              1                1\n",
       "SecondaryReservoir     5                2\n",
       "Seal                   4                3\n",
       "Reservoir              3                4\n",
       "Overlying              2                5\n",
       "basement               6                6"
      ]
     },
     "execution_count": 13,
     "metadata": {},
     "output_type": "execute_result"
    }
   ],
   "source": [
    "geo_data.formations"
   ]
  },
  {
   "cell_type": "code",
   "execution_count": 8,
   "metadata": {
    "collapsed": true
   },
   "outputs": [],
   "source": [
    "th_fn = theano.function(input_data_T,\n",
    "                         the.compute_grad3(0),\n",
    "#                         mode=theano.compile.MonitorMode(\n",
    "#                         pre_func=inspect_inputs,\n",
    "#                         post_func=inspect_outputs),\n",
    "                                    on_unused_input='ignore',\n",
    "                                    allow_input_downcast=False,\n",
    "                                    profile=False)"
   ]
  },
  {
   "cell_type": "code",
   "execution_count": 9,
   "metadata": {},
   "outputs": [
    {
     "name": "stderr",
     "output_type": "stream",
     "text": [
      "../../gempy/interpolator.py:540: VisibleDeprecationWarning: boolean index did not match indexed array along dimension 0; dimension is 2 but corresponding boolean dimension is 1\n",
      "  n_universal_eq[u_grade == 0] = 0\n",
      "../../gempy/interpolator.py:541: VisibleDeprecationWarning: boolean index did not match indexed array along dimension 0; dimension is 2 but corresponding boolean dimension is 1\n",
      "  n_universal_eq[u_grade == 1] = 3\n",
      "../../gempy/interpolator.py:542: VisibleDeprecationWarning: boolean index did not match indexed array along dimension 0; dimension is 2 but corresponding boolean dimension is 1\n",
      "  n_universal_eq[u_grade == 2] = 9\n"
     ]
    }
   ],
   "source": [
    "i = interp_data.get_input_data()"
   ]
  },
  {
   "cell_type": "code",
   "execution_count": 10,
   "metadata": {
    "scrolled": false
   },
   "outputs": [
    {
     "data": {
      "text/plain": [
       "array([[  1.92552315e-02,  -2.36644032e-14,  -6.41840941e-03],\n",
       "       [  3.03174740e-05,  -5.24590301e-16,  -1.01058092e-05],\n",
       "       [ -4.62130055e-03,   1.37863103e-16,   1.54043347e-03],\n",
       "       [ -9.41962683e-03,   8.15806916e-17,   3.13987587e-03],\n",
       "       [ -8.37078725e+01,  -4.01847982e-02,   1.48841720e+03],\n",
       "       [ -1.20723989e+02,   4.20941082e-01,  -6.80151404e+01],\n",
       "       [  6.42377209e+02,  -5.89352691e-01,   1.10233970e+03],\n",
       "       [ -1.42001964e+02,  -6.10399369e-02,  -1.37066931e+03],\n",
       "       [ -1.57088757e+01,   8.07863692e-01,  -1.42619743e+02],\n",
       "       [  3.24091780e+02,  -1.99503598e+00,   1.02381677e+03],\n",
       "       [  1.38868247e+01,   1.77832071e+00,  -2.44967788e+02],\n",
       "       [ -3.97948925e+01,  -2.33363247e-01,   1.03641122e+02],\n",
       "       [  2.07434496e+02,   2.82546013e-01,  -2.99163353e+02],\n",
       "       [ -9.14938175e+02,   6.08468828e-01,  -1.80492916e+03],\n",
       "       [ -1.66740335e+01,  -1.55102429e+02,   1.81010885e+02],\n",
       "       [  3.30048427e+02,   1.32589787e+02,  -2.34810303e+02],\n",
       "       [  4.53085963e+02,  -1.94421110e+02,  -2.74620311e+02],\n",
       "       [  3.28530916e+01,  -1.77273883e+00,   2.69200615e+02],\n",
       "       [ -9.57202409e+02,   8.51666406e-01,  -2.60917811e+03],\n",
       "       [ -7.46075667e+02,  -3.65257546e-02,  -2.45906923e+03],\n",
       "       [ -1.04417940e+03,  -1.08220933e+03,   1.32646984e+03],\n",
       "       [ -1.03956145e+03,   1.07850055e+03,   1.32558735e+03],\n",
       "       [ -3.49033214e+02,  -5.42503535e-02,  -1.83980106e+03],\n",
       "       [  6.80604179e+02,  -3.07471485e-01,   1.55308859e+03],\n",
       "       [ -3.00887267e+02,  -7.31703712e+00,   1.68652852e+03],\n",
       "       [ -3.39715597e+01,   1.33081004e+01,  -1.64228745e+03],\n",
       "       [ -4.20307084e+02,  -5.07065457e+00,  -8.80098599e+02],\n",
       "       [ -4.49088954e+03,   9.83180546e-01,  -1.17373610e+04],\n",
       "       [  3.33679946e+03,  -6.29631663e+00,  -9.16639617e+03],\n",
       "       [  1.38346781e+02,   9.81763812e+00,   1.64654983e+04],\n",
       "       [  1.75148070e+03,   2.84399809e+00,   5.14664164e+03],\n",
       "       [ -4.12120537e+03,  -8.07785752e+00,  -1.00136153e+04],\n",
       "       [ -2.42852365e+02,  -1.73848401e+00,  -2.90541686e+03],\n",
       "       [  2.86639408e+03,   4.42647910e+00,   7.76858878e+03]])"
      ]
     },
     "execution_count": 10,
     "metadata": {},
     "output_type": "execute_result"
    }
   ],
   "source": [
    "th_fn(*i)\n"
   ]
  },
  {
   "cell_type": "code",
   "execution_count": 11,
   "metadata": {},
   "outputs": [
    {
     "ename": "NameError",
     "evalue": "name 'tyito' is not defined",
     "output_type": "error",
     "traceback": [
      "\u001b[0;31m---------------------------------------------------------------------------\u001b[0m",
      "\u001b[0;31mNameError\u001b[0m                                 Traceback (most recent call last)",
      "\u001b[0;32m<ipython-input-11-7c74a601cf22>\u001b[0m in \u001b[0;36m<module>\u001b[0;34m()\u001b[0m\n\u001b[0;32m----> 1\u001b[0;31m \u001b[0mtyito\u001b[0m\u001b[0;34m\u001b[0m\u001b[0m\n\u001b[0m",
      "\u001b[0;31mNameError\u001b[0m: name 'tyito' is not defined"
     ]
    }
   ],
   "source": [
    "tyito"
   ]
  },
  {
   "cell_type": "code",
   "execution_count": null,
   "metadata": {
    "collapsed": true
   },
   "outputs": [],
   "source": [
    "# import pandas as pn\n",
    "# gp.set_orientations(geo_data,pn.DataFrame(geo_data.orientations.iloc[0,:]).T, append=True)\n",
    "# geo_data.orientations.set_value(2, 'formation', 'Overlying')"
   ]
  },
  {
   "cell_type": "code",
   "execution_count": null,
   "metadata": {
    "collapsed": true,
    "scrolled": false
   },
   "outputs": [],
   "source": [
    "# # Assigning series to formations as well as their order (timewise)\n",
    "# gp.set_series(geo_data, {\"fault\":'MainFault', \n",
    "#                       \"Rest\": ('SecondaryReservoir','Seal', 'Reservoir'), \n",
    "#                                \"Rist\": ('Overlying')},\n",
    "#                        order_series = [\"fault\", 'Rest', 'Rist'],\n",
    "#                        order_formations=['MainFault', \n",
    "#                                          'SecondaryReservoir', 'Seal','Reservoir', 'Overlying',\n",
    "#                                          ]) \n",
    "\n",
    "# geo_data =gp.select_series(geo_data,['Rest', 'Rist'])"
   ]
  },
  {
   "cell_type": "code",
   "execution_count": null,
   "metadata": {
    "collapsed": true
   },
   "outputs": [],
   "source": [
    "geo_data.orientations"
   ]
  },
  {
   "cell_type": "code",
   "execution_count": null,
   "metadata": {
    "collapsed": true
   },
   "outputs": [],
   "source": [
    "gp.get_sequential_pile(geo_data)"
   ]
  },
  {
   "cell_type": "markdown",
   "metadata": {},
   "source": [
    "## The ins and outs of Input data objects\n",
    "\n",
    "As we have seen objects DataManagement.InputData (usually called geo_data in the tutorials) aim to have all the original geological properties, measurements and geological relations stored. \n",
    "\n",
    "Once we have the data ready to generate a model, we will need to create the next object type towards the final geological model:"
   ]
  },
  {
   "cell_type": "code",
   "execution_count": null,
   "metadata": {
    "collapsed": true
   },
   "outputs": [],
   "source": [
    "geo_data.interfaces.drop(39, inplace=True)"
   ]
  },
  {
   "cell_type": "code",
   "execution_count": null,
   "metadata": {
    "collapsed": true,
    "scrolled": false
   },
   "outputs": [],
   "source": [
    "import theano.tensor as T\n",
    "import theano\n",
    "interp_data = gp.InterpolatorData(geo_data, u_grade=[1, 1],\n",
    "                                  output='geology', dtype='float64',\n",
    "                                   verbose=['scalar_field_iter', 'block_series', 'yet_simulated'],\n",
    "                                  compile_theano=True)\n"
   ]
  },
  {
   "cell_type": "code",
   "execution_count": null,
   "metadata": {
    "collapsed": true
   },
   "outputs": [],
   "source": [
    "interp_data.interpolator.tg.len_series_i.get_value()"
   ]
  },
  {
   "cell_type": "code",
   "execution_count": null,
   "metadata": {
    "collapsed": true
   },
   "outputs": [],
   "source": []
  },
  {
   "cell_type": "code",
   "execution_count": null,
   "metadata": {
    "collapsed": true
   },
   "outputs": [],
   "source": [
    "interp_data.interpolator.tg.n_formations_per_serie.get_value()"
   ]
  },
  {
   "cell_type": "code",
   "execution_count": null,
   "metadata": {
    "collapsed": true
   },
   "outputs": [],
   "source": [
    "interp_data.interpolator.tg.n_formations_per_serie.set_value(np.array([0, 3, 4], dtype='int32'))"
   ]
  },
  {
   "cell_type": "code",
   "execution_count": null,
   "metadata": {
    "collapsed": true
   },
   "outputs": [],
   "source": [
    "interp_data.interpolator.tg.npf.get_value()"
   ]
  },
  {
   "cell_type": "code",
   "execution_count": null,
   "metadata": {
    "collapsed": true
   },
   "outputs": [],
   "source": []
  },
  {
   "cell_type": "code",
   "execution_count": null,
   "metadata": {
    "collapsed": true
   },
   "outputs": [],
   "source": [
    "geo_data.interfaces.shape"
   ]
  },
  {
   "cell_type": "code",
   "execution_count": null,
   "metadata": {
    "collapsed": true
   },
   "outputs": [],
   "source": [
    "interp_data.interpolator.tg.npf.get_value()"
   ]
  },
  {
   "cell_type": "code",
   "execution_count": 31,
   "metadata": {},
   "outputs": [
    {
     "data": {
      "text/plain": [
       "[<matplotlib.lines.Line2D at 0x197fc4a75f8>]"
      ]
     },
     "execution_count": 31,
     "metadata": {},
     "output_type": "execute_result"
    },
    {
     "data": {
      "image/png": "[encoded data removed]",
      "text/plain": [
       "<matplotlib.figure.Figure at 0x197fc4346a0>"
      ]
     },
     "metadata": {},
     "output_type": "display_data"
    }
   ],
   "source": [
    "%matplotlib inline\n",
    "import matplotlib.pyplot as plt\n",
    "import numpy as np\n",
    "x = np.linspace(-10,50)\n",
    "sigm = (1. / (1 + np.exp(-1 * (x - 0)))) *5 - (-1. / (1 + np.exp(1 * (x - 30))) +1) *0\n",
    "plt.plot(x, sigm)"
   ]
  },
  {
   "cell_type": "code",
   "execution_count": null,
   "metadata": {
    "collapsed": true
   },
   "outputs": [],
   "source": [
    "interp_data.update_interpolator(geo_data)"
   ]
  },
  {
   "cell_type": "code",
   "execution_count": null,
   "metadata": {
    "collapsed": true
   },
   "outputs": [],
   "source": [
    "interp_data.interpolator.tg.n_formation_float.get_value()"
   ]
  },
  {
   "cell_type": "code",
   "execution_count": null,
   "metadata": {
    "collapsed": true
   },
   "outputs": [],
   "source": [
    "interp_data.interpolator.tg.n_formation_float.set_value(np.array([ 1.,  2.,  3.,  4.,  5., 6.], dtype='float32'))"
   ]
  },
  {
   "cell_type": "code",
   "execution_count": null,
   "metadata": {
    "collapsed": true,
    "scrolled": true
   },
   "outputs": [],
   "source": [
    "sol = gp.compute_model(interp_data)"
   ]
  },
  {
   "cell_type": "code",
   "execution_count": null,
   "metadata": {
    "collapsed": true,
    "run_control": {
     "marked": true
    },
    "scrolled": false
   },
   "outputs": [],
   "source": [
    "%matplotlib notebook\n",
    "gp.plot_section(geo_data,sol[0][0].astype(float), 30, plot_data = True, direction='y')"
   ]
  },
  {
   "cell_type": "code",
   "execution_count": null,
   "metadata": {
    "collapsed": true
   },
   "outputs": [],
   "source": [
    "interp_data.interpolator.tg.n_formation_float.set_value(np.array([ 1.,  2.,  3.,  4.,  5., 6.], dtype='float32'))"
   ]
  },
  {
   "cell_type": "code",
   "execution_count": null,
   "metadata": {
    "collapsed": true
   },
   "outputs": [],
   "source": [
    "interp_data.interpolator.tg.n_formations_per_serie.get_value()"
   ]
  },
  {
   "cell_type": "code",
   "execution_count": null,
   "metadata": {
    "collapsed": true
   },
   "outputs": [],
   "source": [
    "interp_data.interpolator.tg.len_series_i.set_value(np.array([ 0,  4, 35], dtype='int32'))"
   ]
  },
  {
   "cell_type": "code",
   "execution_count": null,
   "metadata": {
    "collapsed": true
   },
   "outputs": [],
   "source": [
    "interp_data.interpolator.tg.len_series_i.get_value()"
   ]
  },
  {
   "cell_type": "code",
   "execution_count": null,
   "metadata": {
    "collapsed": true
   },
   "outputs": [],
   "source": [
    "interp_data.interpolator.tg.npf.get_value()"
   ]
  },
  {
   "cell_type": "code",
   "execution_count": null,
   "metadata": {
    "collapsed": true
   },
   "outputs": [],
   "source": [
    "asa = interp_data.get_input_data()"
   ]
  },
  {
   "cell_type": "code",
   "execution_count": null,
   "metadata": {
    "collapsed": true
   },
   "outputs": [],
   "source": [
    "interp_data.th_fn(*asa)"
   ]
  },
  {
   "cell_type": "code",
   "execution_count": null,
   "metadata": {
    "collapsed": true
   },
   "outputs": [],
   "source": [
    "interp_data.interpolator.pandas_ref_layer_points"
   ]
  },
  {
   "cell_type": "code",
   "execution_count": null,
   "metadata": {
    "collapsed": true
   },
   "outputs": [],
   "source": [
    "\n",
    "interp_data.geo_data_res.interfaces.drop(39, inplace=True)"
   ]
  },
  {
   "cell_type": "code",
   "execution_count": null,
   "metadata": {
    "collapsed": true
   },
   "outputs": [],
   "source": []
  }
 ],
 "metadata": {
  "kernelspec": {
   "display_name": "Python 3",
   "language": "python",
   "name": "python3"
  },
  "language_info": {
   "codemirror_mode": {
    "name": "ipython",
    "version": 3
   },
   "file_extension": ".py",
   "mimetype": "text/x-python",
   "name": "python",
   "nbconvert_exporter": "python",
   "pygments_lexer": "ipython3",
   "version": "3.6.3"
  },
  "latex_envs": {
   "LaTeX_envs_menu_present": true,
   "autocomplete": true,
   "bibliofile": "biblio.bib",
   "cite_by": "apalike",
   "current_citInitial": 1,
   "eqLabelWithNumbers": true,
   "eqNumInitial": 1,
   "hotkeys": {
    "equation": "Ctrl-E",
    "itemize": "Ctrl-I"
   },
   "labels_anchors": false,
   "latex_user_defs": false,
   "report_style_numbering": false,
   "user_envs_cfg": false
  },
  "toc": {
   "colors": {
    "hover_highlight": "#DAA520",
    "running_highlight": "#FF0000",
    "selected_highlight": "#FFD700"
   },
   "moveMenuLeft": true,
   "nav_menu": {
    "height": "67px",
    "width": "252px"
   },
   "navigate_menu": true,
   "number_sections": true,
   "sideBar": true,
   "threshold": 4,
   "toc_cell": false,
   "toc_section_display": "block",
   "toc_window_display": false,
   "widenNotebook": false
  }
 },
 "nbformat": 4,
 "nbformat_minor": 2
}
