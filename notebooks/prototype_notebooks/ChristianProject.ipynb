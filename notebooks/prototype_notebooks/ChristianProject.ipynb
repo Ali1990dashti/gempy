{
 "cells": [
  {
   "cell_type": "code",
   "execution_count": 1,
   "metadata": {
    "collapsed": true
   },
   "outputs": [],
   "source": [
    "import pandas as pn\n",
    "import matplotlib.pyplot as plt\n",
    "from mpl_toolkits.mplot3d import Axes3D"
   ]
  },
  {
   "cell_type": "code",
   "execution_count": 2,
   "metadata": {
    "collapsed": true
   },
   "outputs": [],
   "source": [
    "raw_data = pn.read_csv('Argentina/Data/Crust.xyz', sep='\\t', header=None)"
   ]
  },
  {
   "cell_type": "code",
   "execution_count": 5,
   "metadata": {
    "collapsed": true
   },
   "outputs": [],
   "source": [
    "raw_data = raw_data.iloc[::4]"
   ]
  },
  {
   "cell_type": "code",
   "execution_count": 4,
   "metadata": {
    "collapsed": true
   },
   "outputs": [],
   "source": [
    "from scipy.spatial import Delaunay\n",
    "tri = Delaunay(raw_data.iloc[:,:2])"
   ]
  },
  {
   "cell_type": "code",
   "execution_count": 5,
   "metadata": {},
   "outputs": [
    {
     "data": {
      "text/plain": [
       "(2448, 3)"
      ]
     },
     "execution_count": 5,
     "metadata": {},
     "output_type": "execute_result"
    }
   ],
   "source": [
    "tri.simplices.shape"
   ]
  },
  {
   "cell_type": "code",
   "execution_count": 6,
   "metadata": {
    "collapsed": true
   },
   "outputs": [],
   "source": [
    "%matplotlib qt5\n",
    "if False:\n",
    "    fig = plt.figure()\n",
    "    ax = fig.add_subplot(111, projection='3d')\n",
    "\n",
    "    ax.scatter(raw_data.values[:,0], raw_data.values[:,1], raw_data.values[:,2], c=raw_data.values[:,2], cmap='viridis',)"
   ]
  },
  {
   "cell_type": "code",
   "execution_count": 7,
   "metadata": {
    "collapsed": true
   },
   "outputs": [],
   "source": [
    "import vtk\n",
    "vertices = raw_data\n",
    "simplices = tri.simplices\n",
    "\n",
    "\n",
    "# setup points and vertices\n",
    "Points = vtk.vtkPoints()\n",
    "Triangles = vtk.vtkCellArray()\n",
    "Triangle = vtk.vtkTriangle()\n",
    "for p in vertices.values:\n",
    "    Points.InsertNextPoint(p)\n",
    "\n",
    "# Unfortunately in this simple example the following lines are ambiguous.\n",
    "# The first 0 is the index of the triangle vertex which is ALWAYS 0-2.\n",
    "# The second 0 is the index into the point (geometry) array, so this can range from 0-(NumPoints-1)\n",
    "# i.e. a more general statement is triangle->GetPointIds()->SetId(0, PointId);\n",
    "for i in simplices:\n",
    "    Triangle.GetPointIds().SetId(0, i[0])\n",
    "    Triangle.GetPointIds().SetId(1, i[1])\n",
    "    Triangle.GetPointIds().SetId(2, i[2])\n",
    "\n",
    "    Triangles.InsertNextCell(Triangle)\n",
    "\n",
    "polydata = vtk.vtkPolyData()\n",
    "polydata.SetPoints(Points)\n",
    "polydata.SetPolys(Triangles)\n",
    "\n",
    "polydata.Modified()\n",
    "if vtk.VTK_MAJOR_VERSION <= 5:\n",
    "    polydata.Update()\n"
   ]
  },
  {
   "cell_type": "code",
   "execution_count": 8,
   "metadata": {},
   "outputs": [
    {
     "name": "stdout",
     "output_type": "stream",
     "text": [
      "Before decimation\n",
      "-----------------\n",
      "There are 1260points.\n",
      "There are 2448polygons.\n",
      "\n",
      "After decimation \n",
      "-----------------\n",
      "There are 138points.\n",
      "There are 243polygons.\n",
      "\n"
     ]
    }
   ],
   "source": [
    "from vtk import (vtkSphereSource, vtkPolyData, vtkDecimatePro)\n",
    "inputPoly = vtkPolyData()\n",
    "inputPoly.ShallowCopy(polydata)\n",
    "\n",
    "print(\"Before decimation\\n\"\n",
    "      \"-----------------\\n\"\n",
    "      \"There are \" + str(inputPoly.GetNumberOfPoints()) + \"points.\\n\"\n",
    "      \"There are \" + str(inputPoly.GetNumberOfPolys()) + \"polygons.\\n\")\n",
    "\n",
    "decimate = vtkDecimatePro()\n",
    "decimate.SetInputData(inputPoly)\n",
    "decimate.SetTargetReduction(.80)\n",
    "#decimate.SetMaximumError(.055)\n",
    "decimate.Update()\n",
    "\n",
    "decimatedPoly = vtkPolyData()\n",
    "decimatedPoly.ShallowCopy(decimate.GetOutput())\n",
    "\n",
    "print(\"After decimation \\n\"\n",
    "      \"-----------------\\n\"\n",
    "      \"There are \" + str(decimatedPoly.GetNumberOfPoints()) + \"points.\\n\"\n",
    "      \"There are \" + str(decimatedPoly.GetNumberOfPolys()) + \"polygons.\\n\")\n",
    "\n"
   ]
  },
  {
   "cell_type": "code",
   "execution_count": 9,
   "metadata": {
    "collapsed": true
   },
   "outputs": [],
   "source": [
    "import numpy as np\n",
    "\n",
    "for i in range(decimatedPoly.GetNumberOfPoints()):\n",
    "    if i is 0:\n",
    "        final_points = np.array(decimatedPoly.GetPoint(i))\n",
    "    else:\n",
    "        final_points = np.vstack((final_points, decimatedPoly.GetPoint(i)))"
   ]
  },
  {
   "cell_type": "code",
   "execution_count": 10,
   "metadata": {},
   "outputs": [
    {
     "data": {
      "text/plain": [
       "(138, 3)"
      ]
     },
     "execution_count": 10,
     "metadata": {},
     "output_type": "execute_result"
    }
   ],
   "source": [
    "final_points.shape"
   ]
  },
  {
   "cell_type": "code",
   "execution_count": null,
   "metadata": {
    "collapsed": true
   },
   "outputs": [],
   "source": [
    "if False:\n",
    "%matplotlib qt5\n",
    "    fig = plt.figure()\n",
    "    ax = fig.add_subplot(111, projection='3d')\n",
    "\n",
    "\n",
    "    ax.scatter(raw_data.values[:,0], raw_data.values[:,1], raw_data.values[:,2], c=raw_data.values[:,2], cmap='inferno', alpha=0.5, s=.5)\n",
    "    ax.scatter(final_points[:,0], final_points[:,1], final_points[:,2], c=final_points[:,2], cmap='viridis', s=50)"
   ]
  },
  {
   "cell_type": "code",
   "execution_count": 11,
   "metadata": {},
   "outputs": [
    {
     "name": "stderr",
     "output_type": "stream",
     "text": [
      "WARNING (theano.tensor.blas): Using NumPy C-API based implementation for BLAS functions.\n"
     ]
    }
   ],
   "source": [
    "# These two lines are necessary only if GemPy is not installed\n",
    "import sys, os\n",
    "sys.path.append(\"../..\")\n",
    "\n",
    "# Importing GemPy\n",
    "import gempy as gp\n",
    "\n",
    "# Embedding matplotlib figures in the notebooks\n",
    "%matplotlib inline\n",
    "\n",
    "# Importing auxiliary libraries\n",
    "import numpy as np\n",
    "import matplotlib.pyplot as pltmodeling"
   ]
  },
  {
   "cell_type": "code",
   "execution_count": 12,
   "metadata": {},
   "outputs": [
    {
     "data": {
      "text/plain": [
       "(array([  4.88043478e+05,   7.21413043e+06,  -1.17648965e+02]),\n",
       " array([ -250000.        ,  6000000.        ,    -6353.87939453]))"
      ]
     },
     "execution_count": 12,
     "metadata": {},
     "output_type": "execute_result"
    }
   ],
   "source": [
    "final_points.mean(axis=0), final_points.min(axis=0)"
   ]
  },
  {
   "cell_type": "code",
   "execution_count": 13,
   "metadata": {
    "collapsed": true
   },
   "outputs": [],
   "source": [
    "# Importing the data from CSV-files and setting extent and resolution\n",
    "geo_data = gp.create_data([-250000,1.45000000e+06,6000000.,7.80000000e+06,-6353.87939453*100,4.34525244e+03*100],[50,50,50])"
   ]
  },
  {
   "cell_type": "code",
   "execution_count": 16,
   "metadata": {
    "collapsed": true
   },
   "outputs": [],
   "source": [
    "input_points = pn.DataFrame(final_points, columns=['X', 'Y', 'Z'])\n",
    "input_points['formation'] = 'basement'\n",
    "input_points['X_std'] = 0\n",
    "input_points['Y_std'] = 0\n",
    "input_points['Z_std'] = 0"
   ]
  },
  {
   "cell_type": "code",
   "execution_count": 18,
   "metadata": {
    "collapsed": true
   },
   "outputs": [],
   "source": [
    "gp.set_interfaces(geo_data, input_points)\n",
    "geo_data.interfaces['Z'] *= 10e1"
   ]
  },
  {
   "cell_type": "code",
   "execution_count": 20,
   "metadata": {},
   "outputs": [
    {
     "data": {
      "text/html": [
       "<div>\n",
       "<style scoped>\n",
       "    .dataframe tbody tr th:only-of-type {\n",
       "        vertical-align: middle;\n",
       "    }\n",
       "\n",
       "    .dataframe tbody tr th {\n",
       "        vertical-align: top;\n",
       "    }\n",
       "\n",
       "    .dataframe thead th {\n",
       "        text-align: right;\n",
       "    }\n",
       "</style>\n",
       "<table border=\"1\" class=\"dataframe\">\n",
       "  <thead>\n",
       "    <tr style=\"text-align: right;\">\n",
       "      <th></th>\n",
       "      <th>X</th>\n",
       "      <th>Y</th>\n",
       "      <th>Z</th>\n",
       "      <th>formation</th>\n",
       "      <th>X_std</th>\n",
       "      <th>Y_std</th>\n",
       "      <th>Z_std</th>\n",
       "      <th>series</th>\n",
       "      <th>order_series</th>\n",
       "      <th>isFault</th>\n",
       "      <th>formation number</th>\n",
       "      <th>annotations</th>\n",
       "    </tr>\n",
       "  </thead>\n",
       "  <tbody>\n",
       "    <tr>\n",
       "      <th>0</th>\n",
       "      <td>-250000.0</td>\n",
       "      <td>7800000.0</td>\n",
       "      <td>-36095.950317</td>\n",
       "      <td>basement</td>\n",
       "      <td>0</td>\n",
       "      <td>0</td>\n",
       "      <td>0</td>\n",
       "      <td>Default serie</td>\n",
       "      <td>1</td>\n",
       "      <td>False</td>\n",
       "      <td>1</td>\n",
       "      <td>${\\bf{x}}_{\\alpha \\,{\\bf{1}},0}$</td>\n",
       "    </tr>\n",
       "    <tr>\n",
       "      <th>1</th>\n",
       "      <td>-200000.0</td>\n",
       "      <td>6850000.0</td>\n",
       "      <td>226280.761719</td>\n",
       "      <td>basement</td>\n",
       "      <td>0</td>\n",
       "      <td>0</td>\n",
       "      <td>0</td>\n",
       "      <td>Default serie</td>\n",
       "      <td>1</td>\n",
       "      <td>False</td>\n",
       "      <td>1</td>\n",
       "      <td>${\\bf{x}}_{\\alpha \\,{\\bf{1}},1}$</td>\n",
       "    </tr>\n",
       "    <tr>\n",
       "      <th>2</th>\n",
       "      <td>1225000.0</td>\n",
       "      <td>6875000.0</td>\n",
       "      <td>-230965.649414</td>\n",
       "      <td>basement</td>\n",
       "      <td>0</td>\n",
       "      <td>0</td>\n",
       "      <td>0</td>\n",
       "      <td>Default serie</td>\n",
       "      <td>1</td>\n",
       "      <td>False</td>\n",
       "      <td>1</td>\n",
       "      <td>${\\bf{x}}_{\\alpha \\,{\\bf{1}},2}$</td>\n",
       "    </tr>\n",
       "    <tr>\n",
       "      <th>3</th>\n",
       "      <td>925000.0</td>\n",
       "      <td>6875000.0</td>\n",
       "      <td>-215677.832031</td>\n",
       "      <td>basement</td>\n",
       "      <td>0</td>\n",
       "      <td>0</td>\n",
       "      <td>0</td>\n",
       "      <td>Default serie</td>\n",
       "      <td>1</td>\n",
       "      <td>False</td>\n",
       "      <td>1</td>\n",
       "      <td>${\\bf{x}}_{\\alpha \\,{\\bf{1}},3}$</td>\n",
       "    </tr>\n",
       "    <tr>\n",
       "      <th>4</th>\n",
       "      <td>1450000.0</td>\n",
       "      <td>6900000.0</td>\n",
       "      <td>-231876.660156</td>\n",
       "      <td>basement</td>\n",
       "      <td>0</td>\n",
       "      <td>0</td>\n",
       "      <td>0</td>\n",
       "      <td>Default serie</td>\n",
       "      <td>1</td>\n",
       "      <td>False</td>\n",
       "      <td>1</td>\n",
       "      <td>${\\bf{x}}_{\\alpha \\,{\\bf{1}},4}$</td>\n",
       "    </tr>\n",
       "  </tbody>\n",
       "</table>\n",
       "</div>"
      ],
      "text/plain": [
       "           X          Y              Z formation  X_std  Y_std  Z_std  \\\n",
       "0  -250000.0  7800000.0  -36095.950317  basement      0      0      0   \n",
       "1  -200000.0  6850000.0  226280.761719  basement      0      0      0   \n",
       "2  1225000.0  6875000.0 -230965.649414  basement      0      0      0   \n",
       "3   925000.0  6875000.0 -215677.832031  basement      0      0      0   \n",
       "4  1450000.0  6900000.0 -231876.660156  basement      0      0      0   \n",
       "\n",
       "          series  order_series  isFault  formation number  \\\n",
       "0  Default serie             1    False                 1   \n",
       "1  Default serie             1    False                 1   \n",
       "2  Default serie             1    False                 1   \n",
       "3  Default serie             1    False                 1   \n",
       "4  Default serie             1    False                 1   \n",
       "\n",
       "                        annotations  \n",
       "0  ${\\bf{x}}_{\\alpha \\,{\\bf{1}},0}$  \n",
       "1  ${\\bf{x}}_{\\alpha \\,{\\bf{1}},1}$  \n",
       "2  ${\\bf{x}}_{\\alpha \\,{\\bf{1}},2}$  \n",
       "3  ${\\bf{x}}_{\\alpha \\,{\\bf{1}},3}$  \n",
       "4  ${\\bf{x}}_{\\alpha \\,{\\bf{1}},4}$  "
      ]
     },
     "execution_count": 20,
     "metadata": {},
     "output_type": "execute_result"
    }
   ],
   "source": [
    "geo_data.interfaces.head()"
   ]
  },
  {
   "cell_type": "code",
   "execution_count": 43,
   "metadata": {
    "collapsed": true
   },
   "outputs": [],
   "source": [
    "def plane_fit(point_list):\n",
    "    \"\"\"Fit plane to points in PointSet\n",
    "    Fit an d-dimensional plane to the points in a point set\n",
    "    Return a point, p, on the plane (the point-cloud centroid),\n",
    "    and the normal, n.\n",
    "    adjusted from: http://stackoverflow.com/questions/12299540/plane-fitting-to-4-or-more-xyz-points\n",
    "    \"\"\"\n",
    "    import numpy as np\n",
    "\n",
    "#     points = np.empty((3, len(point_list)))\n",
    "#     for i, point in enumerate(point_list):\n",
    "#         points[0, i] = point.x\n",
    "#         points[1, i] = point.y\n",
    "#         points[2, i] = point.z\n",
    "    points = point_list\n",
    "    \n",
    "    from numpy.linalg import svd\n",
    "    points = np.reshape(points, (np.shape(points)[0], -1))  # Collapse trialing dimensions\n",
    "    assert points.shape[0] <= points.shape[1], \"There are only {} points in {} dimensions.\".format(points.shape[1],\n",
    "                                                                                                   points.shape[0])\n",
    "    ctr = points.mean(axis=1)\n",
    "    x = points - ctr[:, np.newaxis]\n",
    "    M = np.dot(x, x.T)  # Could also use np.cov(x) here.\n",
    "\n",
    "    #ctr = Point(x=ctr[0], y=ctr[1], z=ctr[2], type='utm', zone=self.points[0].zone)\n",
    "    normal = svd(M)[0][:, -1]\n",
    "    # return ctr, svd(M)[0][:, -1]\n",
    "    if normal[2] < 0:\n",
    "       normal = - normal\n",
    "    \n",
    "    def get_orientation(ctr, normal):\n",
    "    \"\"\"Get orientation (dip_direction, dip) for points in all point set\"\"\"\n",
    "#    if \"normal\" not in dir(self):\n",
    "#        self.plane_fit()\n",
    "\n",
    "        # calculate dip\n",
    "        dip = np.arccos(normal[2]) / np.pi * 180.\n",
    "\n",
    "        # calculate dip direction\n",
    "        # +/+\n",
    "        if normal[0] >= 0 and normal[1] > 0:\n",
    "            dip_direction = np.arctan(normal[0]/normal[1]) / np.pi * 180.\n",
    "        # border cases where arctan not defined:\n",
    "        elif normal[0] > 0 and normal[1] == 0:\n",
    "            dip_direction = 90\n",
    "        elif normal[0] < 0 and normal[1] == 0:\n",
    "            dip_direction = 270\n",
    "        # +-/-\n",
    "        elif normal[1] < 0:\n",
    "            dip_direction = 180 + np.arctan(normal[0]/normal[1]) / np.pi * 180.\n",
    "        # -/-\n",
    "        elif normal[0] < 0 and normal[1] >= 0:\n",
    "            dip_direction = 360 + np.arctan(normal[0]/normal[1]) / np.pi * 180.\n",
    "        \n",
    "        azimuth= dip_direction\n",
    "        \n",
    "        if -90 < dip < 90:\n",
    "            polarity = 1\n",
    "        else:\n",
    "            polarity = -1\n",
    "        \n",
    "        return dip, dip_direction, polarity\n",
    "    \n",
    "    \n",
    "    return ctr, normal\n",
    "\n",
    "\n",
    "\n",
    "        "
   ]
  },
  {
   "cell_type": "code",
   "execution_count": 45,
   "metadata": {
    "collapsed": true
   },
   "outputs": [],
   "source": [
    "a = geo_data.interfaces[['X', 'Y', 'Z']][8:11]"
   ]
  },
  {
   "cell_type": "code",
   "execution_count": 46,
   "metadata": {
    "collapsed": true
   },
   "outputs": [],
   "source": [
    "ctr, normal = plane_fit(a.values.T)"
   ]
  },
  {
   "cell_type": "code",
   "execution_count": 47,
   "metadata": {},
   "outputs": [
    {
     "data": {
      "text/plain": [
       "(84.053803763596122, 358.84241616082761)"
      ]
     },
     "execution_count": 47,
     "metadata": {},
     "output_type": "execute_result"
    }
   ],
   "source": [
    "get_orientation(ctr, normal)"
   ]
  },
  {
   "cell_type": "code",
   "execution_count": 53,
   "metadata": {
    "collapsed": true
   },
   "outputs": [],
   "source": [
    "input_orientation = pn.DataFrame([[4.88043478e+05,   7.21413043e+06,  -1.17648965e+02, 0.01,0.01,1.5]], columns=['X', 'Y', 'Z', 'dip', 'azimuth', 'polarity'])"
   ]
  },
  {
   "cell_type": "code",
   "execution_count": 54,
   "metadata": {},
   "outputs": [
    {
     "data": {
      "text/html": [
       "<div>\n",
       "<style scoped>\n",
       "    .dataframe tbody tr th:only-of-type {\n",
       "        vertical-align: middle;\n",
       "    }\n",
       "\n",
       "    .dataframe tbody tr th {\n",
       "        vertical-align: top;\n",
       "    }\n",
       "\n",
       "    .dataframe thead th {\n",
       "        text-align: right;\n",
       "    }\n",
       "</style>\n",
       "<table border=\"1\" class=\"dataframe\">\n",
       "  <thead>\n",
       "    <tr style=\"text-align: right;\">\n",
       "      <th></th>\n",
       "      <th>X</th>\n",
       "      <th>Y</th>\n",
       "      <th>Z</th>\n",
       "      <th>G_x</th>\n",
       "      <th>G_y</th>\n",
       "      <th>G_z</th>\n",
       "      <th>dip</th>\n",
       "      <th>azimuth</th>\n",
       "      <th>polarity</th>\n",
       "      <th>formation</th>\n",
       "      <th>series</th>\n",
       "      <th>X_std</th>\n",
       "      <th>Y_std</th>\n",
       "      <th>Z_std</th>\n",
       "      <th>dip_std</th>\n",
       "      <th>azimuth_std</th>\n",
       "      <th>order_series</th>\n",
       "      <th>isFault</th>\n",
       "      <th>formation number</th>\n",
       "      <th>annotations</th>\n",
       "    </tr>\n",
       "  </thead>\n",
       "  <tbody>\n",
       "  </tbody>\n",
       "</table>\n",
       "</div>"
      ],
      "text/plain": [
       "Empty DataFrame\n",
       "Columns: [X, Y, Z, G_x, G_y, G_z, dip, azimuth, polarity, formation, series, X_std, Y_std, Z_std, dip_std, azimuth_std, order_series, isFault, formation number, annotations]\n",
       "Index: []"
      ]
     },
     "execution_count": 54,
     "metadata": {},
     "output_type": "execute_result"
    }
   ],
   "source": [
    "geo_data.orientations"
   ]
  },
  {
   "cell_type": "code",
   "execution_count": 55,
   "metadata": {
    "collapsed": true
   },
   "outputs": [],
   "source": [
    "input_orientation['formation'] = 'basement'\n",
    "input_orientation['X_std'] = 0\n",
    "input_orientation['Y_std'] = 0\n",
    "input_orientation['Z_std'] = 0"
   ]
  },
  {
   "cell_type": "code",
   "execution_count": 57,
   "metadata": {
    "collapsed": true
   },
   "outputs": [],
   "source": [
    "gp.set_orientations(geo_data, input_orientation, append=False)"
   ]
  },
  {
   "cell_type": "code",
   "execution_count": 58,
   "metadata": {
    "collapsed": true
   },
   "outputs": [],
   "source": [
    "geo_data.add_orientation(X = -2.88043478e+04, Y =  6.21413043e+06, Z = -1.17648965e+02, dip=0, azimuth=0, polarity=1, formation='basement' )\n",
    "geo_data.add_orientation(X = -1.88043478e+02, Y =  6.01413043e+06, Z = -1.17648965e+04, dip=0, azimuth=0, polarity=1, formation='basement' )\n",
    "geo_data.add_orientation(X = 12.88043478e+05, Y =  7.01413043e+06, Z = -1.17648965e+02, dip=0, azimuth=0, polarity=1, formation='basement' )"
   ]
  },
  {
   "cell_type": "code",
   "execution_count": 59,
   "metadata": {},
   "outputs": [
    {
     "data": {
      "text/html": [
       "<div>\n",
       "<style scoped>\n",
       "    .dataframe tbody tr th:only-of-type {\n",
       "        vertical-align: middle;\n",
       "    }\n",
       "\n",
       "    .dataframe tbody tr th {\n",
       "        vertical-align: top;\n",
       "    }\n",
       "\n",
       "    .dataframe thead th {\n",
       "        text-align: right;\n",
       "    }\n",
       "</style>\n",
       "<table border=\"1\" class=\"dataframe\">\n",
       "  <thead>\n",
       "    <tr style=\"text-align: right;\">\n",
       "      <th></th>\n",
       "      <th>X</th>\n",
       "      <th>Y</th>\n",
       "      <th>Z</th>\n",
       "      <th>dip</th>\n",
       "      <th>azimuth</th>\n",
       "      <th>polarity</th>\n",
       "      <th>formation</th>\n",
       "      <th>X_std</th>\n",
       "      <th>Y_std</th>\n",
       "      <th>Z_std</th>\n",
       "      <th>series</th>\n",
       "      <th>order_series</th>\n",
       "      <th>isFault</th>\n",
       "      <th>formation number</th>\n",
       "      <th>annotations</th>\n",
       "      <th>G_x</th>\n",
       "      <th>G_y</th>\n",
       "      <th>G_z</th>\n",
       "    </tr>\n",
       "  </thead>\n",
       "  <tbody>\n",
       "    <tr>\n",
       "      <th>0</th>\n",
       "      <td>4.880435e+05</td>\n",
       "      <td>7214130.43</td>\n",
       "      <td>-117.648965</td>\n",
       "      <td>0.0</td>\n",
       "      <td>0.0</td>\n",
       "      <td>1.5</td>\n",
       "      <td>basement</td>\n",
       "      <td>0.0</td>\n",
       "      <td>0.0</td>\n",
       "      <td>0.0</td>\n",
       "      <td>Default serie</td>\n",
       "      <td>1</td>\n",
       "      <td>False</td>\n",
       "      <td>1</td>\n",
       "      <td>${\\bf{x}}_{\\beta \\,{\\bf{1}},0}$</td>\n",
       "      <td>0.00001</td>\n",
       "      <td>0.00001</td>\n",
       "      <td>1.50001</td>\n",
       "    </tr>\n",
       "    <tr>\n",
       "      <th>1</th>\n",
       "      <td>-2.880435e+04</td>\n",
       "      <td>6214130.43</td>\n",
       "      <td>-117.648965</td>\n",
       "      <td>0.0</td>\n",
       "      <td>0.0</td>\n",
       "      <td>1.0</td>\n",
       "      <td>basement</td>\n",
       "      <td>NaN</td>\n",
       "      <td>NaN</td>\n",
       "      <td>NaN</td>\n",
       "      <td>Default serie</td>\n",
       "      <td>1</td>\n",
       "      <td>False</td>\n",
       "      <td>1</td>\n",
       "      <td>${\\bf{x}}_{\\beta \\,{\\bf{1}},1}$</td>\n",
       "      <td>0.00001</td>\n",
       "      <td>0.00001</td>\n",
       "      <td>1.00001</td>\n",
       "    </tr>\n",
       "    <tr>\n",
       "      <th>2</th>\n",
       "      <td>-1.880435e+02</td>\n",
       "      <td>6014130.43</td>\n",
       "      <td>-11764.896500</td>\n",
       "      <td>0.0</td>\n",
       "      <td>0.0</td>\n",
       "      <td>1.0</td>\n",
       "      <td>basement</td>\n",
       "      <td>NaN</td>\n",
       "      <td>NaN</td>\n",
       "      <td>NaN</td>\n",
       "      <td>Default serie</td>\n",
       "      <td>1</td>\n",
       "      <td>False</td>\n",
       "      <td>1</td>\n",
       "      <td>${\\bf{x}}_{\\beta \\,{\\bf{1}},2}$</td>\n",
       "      <td>0.00001</td>\n",
       "      <td>0.00001</td>\n",
       "      <td>1.00001</td>\n",
       "    </tr>\n",
       "    <tr>\n",
       "      <th>3</th>\n",
       "      <td>1.288043e+06</td>\n",
       "      <td>7014130.43</td>\n",
       "      <td>-117.648965</td>\n",
       "      <td>0.0</td>\n",
       "      <td>0.0</td>\n",
       "      <td>1.0</td>\n",
       "      <td>basement</td>\n",
       "      <td>NaN</td>\n",
       "      <td>NaN</td>\n",
       "      <td>NaN</td>\n",
       "      <td>Default serie</td>\n",
       "      <td>1</td>\n",
       "      <td>False</td>\n",
       "      <td>1</td>\n",
       "      <td>${\\bf{x}}_{\\beta \\,{\\bf{1}},3}$</td>\n",
       "      <td>0.00001</td>\n",
       "      <td>0.00001</td>\n",
       "      <td>1.00001</td>\n",
       "    </tr>\n",
       "  </tbody>\n",
       "</table>\n",
       "</div>"
      ],
      "text/plain": [
       "              X           Y             Z  dip  azimuth  polarity formation  \\\n",
       "0  4.880435e+05  7214130.43   -117.648965  0.0      0.0       1.5  basement   \n",
       "1 -2.880435e+04  6214130.43   -117.648965  0.0      0.0       1.0  basement   \n",
       "2 -1.880435e+02  6014130.43 -11764.896500  0.0      0.0       1.0  basement   \n",
       "3  1.288043e+06  7014130.43   -117.648965  0.0      0.0       1.0  basement   \n",
       "\n",
       "   X_std  Y_std  Z_std         series  order_series  isFault  \\\n",
       "0    0.0    0.0    0.0  Default serie             1    False   \n",
       "1    NaN    NaN    NaN  Default serie             1    False   \n",
       "2    NaN    NaN    NaN  Default serie             1    False   \n",
       "3    NaN    NaN    NaN  Default serie             1    False   \n",
       "\n",
       "   formation number                      annotations      G_x      G_y  \\\n",
       "0                 1  ${\\bf{x}}_{\\beta \\,{\\bf{1}},0}$  0.00001  0.00001   \n",
       "1                 1  ${\\bf{x}}_{\\beta \\,{\\bf{1}},1}$  0.00001  0.00001   \n",
       "2                 1  ${\\bf{x}}_{\\beta \\,{\\bf{1}},2}$  0.00001  0.00001   \n",
       "3                 1  ${\\bf{x}}_{\\beta \\,{\\bf{1}},3}$  0.00001  0.00001   \n",
       "\n",
       "       G_z  \n",
       "0  1.50001  \n",
       "1  1.00001  \n",
       "2  1.00001  \n",
       "3  1.00001  "
      ]
     },
     "execution_count": 59,
     "metadata": {},
     "output_type": "execute_result"
    }
   ],
   "source": [
    "geo_data.orientations"
   ]
  },
  {
   "cell_type": "code",
   "execution_count": 60,
   "metadata": {},
   "outputs": [
    {
     "data": {
      "image/png": "[encoded data removed]",
      "text/plain": [
       "<matplotlib.figure.Figure at 0x7f83a6bd22b0>"
      ]
     },
     "metadata": {},
     "output_type": "display_data"
    }
   ],
   "source": [
    "gp.plot_data(geo_data, direction='y')"
   ]
  },
  {
   "cell_type": "code",
   "execution_count": 61,
   "metadata": {
    "collapsed": true
   },
   "outputs": [],
   "source": [
    "gp.plot_data_3D(geo_data)"
   ]
  },
  {
   "cell_type": "code",
   "execution_count": 62,
   "metadata": {},
   "outputs": [
    {
     "name": "stdout",
     "output_type": "stream",
     "text": [
      "Compiling theano function...\n",
      "Compilation Done!\n",
      "Level of Optimization:  fast_compile\n",
      "Device:  cpu\n",
      "Precision:  float32\n"
     ]
    }
   ],
   "source": [
    "interp_data = gp.InterpolatorData(geo_data, compile_theano=True)"
   ]
  },
  {
   "cell_type": "code",
   "execution_count": 63,
   "metadata": {},
   "outputs": [
    {
     "name": "stderr",
     "output_type": "stream",
     "text": [
      "/home/miguel/anaconda3/lib/python3.6/site-packages/scipy/linalg/basic.py:223: RuntimeWarning: scipy.linalg.solve\n",
      "Ill-conditioned matrix detected. Result is not guaranteed to be accurate.\n",
      "Reciprocal condition number: 4.292542432615676e-10\n",
      "  ' condition number: {}'.format(rcond), RuntimeWarning)\n"
     ]
    }
   ],
   "source": [
    "lith, fault = gp.compute_model(interp_data)"
   ]
  },
  {
   "cell_type": "code",
   "execution_count": 66,
   "metadata": {},
   "outputs": [
    {
     "data": {
      "image/png": "[encoded data removed]",
      "text/plain": [
       "<matplotlib.figure.Figure at 0x7f83a232ecf8>"
      ]
     },
     "metadata": {},
     "output_type": "display_data"
    }
   ],
   "source": [
    "gp.plot_scalar_field(geo_data, lith[1], 25)"
   ]
  },
  {
   "cell_type": "code",
   "execution_count": null,
   "metadata": {
    "collapsed": true
   },
   "outputs": [],
   "source": [
    "gp.plot_section(geo_data, lith[])"
   ]
  },
  {
   "cell_type": "code",
   "execution_count": 64,
   "metadata": {
    "collapsed": true
   },
   "outputs": [],
   "source": [
    "ver, sim = gp.get_surfaces(interp_data, lith[1], None, original_scale=False)"
   ]
  },
  {
   "cell_type": "code",
   "execution_count": 67,
   "metadata": {
    "collapsed": true
   },
   "outputs": [],
   "source": [
    "gp.plot_surfaces_3D_real_time(interp_data, ver, sim)"
   ]
  },
  {
   "cell_type": "markdown",
   "metadata": {},
   "source": [
    "# Relative extrema"
   ]
  },
  {
   "cell_type": "code",
   "execution_count": 12,
   "metadata": {
    "collapsed": true
   },
   "outputs": [],
   "source": [
    "from scipy.signal import argrelextrema\n",
    "import matplotlib.pyplot as plt\n",
    "import pandas as pn\n",
    "import numpy as np\n",
    "# These two lines are necessary only if GemPy is not installed\n",
    "import sys, os\n",
    "sys.path.append(\"../..\")\n",
    "\n",
    "# Importing GemPy\n",
    "import gempy as gp"
   ]
  },
  {
   "cell_type": "code",
   "execution_count": 13,
   "metadata": {},
   "outputs": [],
   "source": [
    "raw_data = pn.read_csv('Argentina/Data/Crust.xyz', sep='\\t', header=None)"
   ]
  },
  {
   "cell_type": "code",
   "execution_count": 79,
   "metadata": {},
   "outputs": [
    {
     "data": {
      "text/plain": [
       "<matplotlib.contour.QuadContourSet at 0x7f0276b435c0>"
      ]
     },
     "execution_count": 79,
     "metadata": {},
     "output_type": "execute_result"
    },
    {
     "data": {
      "image/png": "[encoded data removed]",
      "text/plain": [
       "<matplotlib.figure.Figure at 0x7f02764f9780>"
      ]
     },
     "metadata": {},
     "output_type": "display_data"
    }
   ],
   "source": [
    "xvals = np.unique(raw_data[0])\n",
    "yvals = np.unique(raw_data[1]) # Required later on\n",
    "data_arr = raw_data[2].values.reshape(-1, xvals.shape[0])\n",
    "%matplotlib inline\n",
    "plt.contourf(data_arr, origin='upper')"
   ]
  },
  {
   "cell_type": "code",
   "execution_count": 15,
   "metadata": {},
   "outputs": [
    {
     "data": {
      "text/plain": [
       "<matplotlib.contour.QuadContourSet at 0x7f0276c10c88>"
      ]
     },
     "execution_count": 15,
     "metadata": {},
     "output_type": "execute_result"
    },
    {
     "data": {
      "image/png": "[encoded data removed]",
      "text/plain": [
       "<matplotlib.figure.Figure at 0x7f0276d407f0>"
      ]
     },
     "metadata": {},
     "output_type": "display_data"
    }
   ],
   "source": [
    "# Modeling Bouguer, therefore if z > 0: z:=0\n",
    "data_arr[data_arr>0] = 0\n",
    "data_arr.max()\n",
    "plt.contourf(data_arr, origin='upper')"
   ]
  },
  {
   "cell_type": "code",
   "execution_count": 98,
   "metadata": {},
   "outputs": [
    {
     "data": {
      "image/png": "[encoded data removed]",
      "text/plain": [
       "<matplotlib.figure.Figure at 0x7f02766aee48>"
      ]
     },
     "metadata": {},
     "output_type": "display_data"
    }
   ],
   "source": [
    "# Compute local minima\n",
    "\n",
    "# x-direction\n",
    "idy_minX, idx_minX = argrelextrema(data_arr, np.less, axis=1)\n",
    "data_minX = np.zeros_like(data_arr)\n",
    "data_minX[idy_minX, idx_minX] = 1\n",
    "\n",
    "# y-direction\n",
    "idy_minY, idx_minY = argrelextrema(data_arr, np.less, axis=0)\n",
    "data_minY = np.zeros_like(data_arr)\n",
    "data_minY[idy_minY, idx_minY] = 1\n",
    "\n",
    "if False:\n",
    "    plt.figure()\n",
    "    plt.title('Minima in x-direction')\n",
    "    plt.contourf(data_minX, origin='upper')\n",
    "    plt.figure()\n",
    "    plt.title('Minima in y-direction')\n",
    "    plt.contourf(data_minY, origin='upper')\n",
    "\n",
    "# Join directional minima to bidirectional minima\n",
    "data_min = data_minX + data_minY\n",
    "data_min[data_min==1] = 0\n",
    "if True:\n",
    "    plt.contourf(data_min, origin='upper')"
   ]
  },
  {
   "cell_type": "code",
   "execution_count": 99,
   "metadata": {},
   "outputs": [
    {
     "data": {
      "image/png": "[encoded data removed]",
      "text/plain": [
       "<matplotlib.figure.Figure at 0x7f0276b2ba58>"
      ]
     },
     "metadata": {},
     "output_type": "display_data"
    }
   ],
   "source": [
    "# Compute local maxima\n",
    "# x-direction\n",
    "idy_maxX, idx_maxX = argrelextrema(data_arr, np.greater, axis=1)\n",
    "data_maxX = np.zeros_like(data_arr)\n",
    "data_maxX[idy_maxX, idx_maxX] = 1\n",
    "\n",
    "# y-direction\n",
    "idy_maxY, idx_maxY = argrelextrema(data_arr, np.greater, axis=0)\n",
    "data_maxY = np.zeros_like(data_arr)\n",
    "data_maxY[idy_maxY, idx_maxY] = 1\n",
    "\n",
    "# Join the directional maxima to bidirectional maxima\n",
    "data_max = data_maxX + data_maxY\n",
    "data_max[data_max==1] = 0\n",
    "if True:\n",
    "    plt.contourf(data_max, origin='upper')"
   ]
  },
  {
   "cell_type": "code",
   "execution_count": 76,
   "metadata": {},
   "outputs": [],
   "source": [
    "# Transfer back to XYZ table\n",
    "data_max_indices = np.indices(data_max.shape)\n",
    "indices_max_y = data_max_indices[0][data_max==2]\n",
    "indices_max_x = data_max_indices[1][data_max==2]"
   ]
  },
  {
   "cell_type": "code",
   "execution_count": 94,
   "metadata": {},
   "outputs": [],
   "source": [
    "gp_in_x = []\n",
    "gp_in_y = []\n",
    "gp_in_z = []\n",
    "for i in range(indices_max_y.shape[0]):\n",
    "    pidx_x = indices_max_x[i]\n",
    "    pidx_y = indices_max_y[i]\n",
    "    gp_in_z.append(data_arr[pidx_y][pidx_x])\n",
    "    gp_in_x.append(xvals[pidx_x])\n",
    "    gp_in_y.append(yvals[pidx_y])"
   ]
  },
  {
   "cell_type": "code",
   "execution_count": null,
   "metadata": {
    "collapsed": true
   },
   "outputs": [],
   "source": []
  },
  {
   "cell_type": "code",
   "execution_count": 97,
   "metadata": {},
   "outputs": [
    {
     "data": {
      "text/plain": [
       "43"
      ]
     },
     "execution_count": 97,
     "metadata": {},
     "output_type": "execute_result"
    }
   ],
   "source": [
    "len(gp_in_z)"
   ]
  },
  {
   "cell_type": "code",
   "execution_count": 92,
   "metadata": {},
   "outputs": [],
   "source": [
    "# Create the gempy model\n",
    "xmin = np.min(raw_data[0])\n",
    "xmax = np.max(raw_data[0])\n",
    "ymin = np.min(raw_data[1])\n",
    "ymax = np.max(raw_data[1])\n",
    "zmin = np.min(raw_data[2])\n",
    "zmin = np.floor(zmin/1000)*1000\n",
    "zmax = 0\n",
    "nx = int((xmax - xmin)/25000)\n",
    "ny = int((ymax - ymin)/25000)\n",
    "nz = int((zmax - zmin)/500)\n",
    "extent = [xmin, xmax, ymin, ymax, zmin, zmax]\n",
    "resolution = [nx, ny, nz]\n",
    "geo_data = gp.create_data(extent, resolution)"
   ]
  },
  {
   "cell_type": "code",
   "execution_count": 112,
   "metadata": {},
   "outputs": [
    {
     "data": {
      "text/html": [
       "<div>\n",
       "<style scoped>\n",
       "    .dataframe tbody tr th:only-of-type {\n",
       "        vertical-align: middle;\n",
       "    }\n",
       "\n",
       "    .dataframe tbody tr th {\n",
       "        vertical-align: top;\n",
       "    }\n",
       "\n",
       "    .dataframe thead th {\n",
       "        text-align: right;\n",
       "    }\n",
       "</style>\n",
       "<table border=\"1\" class=\"dataframe\">\n",
       "  <thead>\n",
       "    <tr style=\"text-align: right;\">\n",
       "      <th></th>\n",
       "      <th>X</th>\n",
       "      <th>Y</th>\n",
       "      <th>Z</th>\n",
       "      <th>G_x</th>\n",
       "      <th>G_y</th>\n",
       "      <th>G_z</th>\n",
       "      <th>dip</th>\n",
       "      <th>azimuth</th>\n",
       "      <th>polarity</th>\n",
       "      <th>formation</th>\n",
       "      <th>series</th>\n",
       "      <th>X_std</th>\n",
       "      <th>Y_std</th>\n",
       "      <th>Z_std</th>\n",
       "      <th>dip_std</th>\n",
       "      <th>azimuth_std</th>\n",
       "      <th>order_series</th>\n",
       "      <th>isFault</th>\n",
       "      <th>formation number</th>\n",
       "      <th>annotations</th>\n",
       "    </tr>\n",
       "  </thead>\n",
       "  <tbody>\n",
       "  </tbody>\n",
       "</table>\n",
       "</div>"
      ],
      "text/plain": [
       "Empty DataFrame\n",
       "Columns: [X, Y, Z, G_x, G_y, G_z, dip, azimuth, polarity, formation, series, X_std, Y_std, Z_std, dip_std, azimuth_std, order_series, isFault, formation number, annotations]\n",
       "Index: []"
      ]
     },
     "execution_count": 112,
     "metadata": {},
     "output_type": "execute_result"
    }
   ],
   "source": [
    "geo_data.orientations"
   ]
  },
  {
   "cell_type": "code",
   "execution_count": 102,
   "metadata": {
    "collapsed": true
   },
   "outputs": [],
   "source": [
    "gp.set_interfaces?"
   ]
  },
  {
   "cell_type": "code",
   "execution_count": 110,
   "metadata": {},
   "outputs": [],
   "source": [
    "a = pn.DataFrame(data=np.array([gp_in_x, gp_in_y, gp_in_z]).T,\n",
    "             columns=['X', 'Y', 'Z'])\n",
    "a['formation'] = 'Default'\n",
    "gp.set_interfaces(geo_data, a)"
   ]
  },
  {
   "cell_type": "code",
   "execution_count": 115,
   "metadata": {},
   "outputs": [
    {
     "data": {
      "text/plain": [
       "(43, 11)"
      ]
     },
     "execution_count": 115,
     "metadata": {},
     "output_type": "execute_result"
    }
   ],
   "source": [
    "gp.get_data(geo_data).shape"
   ]
  },
  {
   "cell_type": "code",
   "execution_count": 117,
   "metadata": {
    "scrolled": false
   },
   "outputs": [],
   "source": [
    "gp.plot_data_3D(geo_data)"
   ]
  },
  {
   "cell_type": "code",
   "execution_count": 119,
   "metadata": {},
   "outputs": [],
   "source": [
    "\n",
    "gp.data_to_pickle(geo_data)"
   ]
  },
  {
   "cell_type": "code",
   "execution_count": null,
   "metadata": {
    "collapsed": true
   },
   "outputs": [],
   "source": []
  }
 ],
 "metadata": {
  "kernelspec": {
   "display_name": "Python 3",
   "language": "python",
   "name": "python3"
  },
  "language_info": {
   "codemirror_mode": {
    "name": "ipython",
    "version": 3
   },
   "file_extension": ".py",
   "mimetype": "text/x-python",
   "name": "python",
   "nbconvert_exporter": "python",
   "pygments_lexer": "ipython3",
   "version": "3.6.3"
  },
  "latex_envs": {
   "LaTeX_envs_menu_present": true,
   "autocomplete": true,
   "bibliofile": "biblio.bib",
   "cite_by": "apalike",
   "current_citInitial": 1,
   "eqLabelWithNumbers": true,
   "eqNumInitial": 1,
   "hotkeys": {
    "equation": "Ctrl-E",
    "itemize": "Ctrl-I"
   },
   "labels_anchors": false,
   "latex_user_defs": false,
   "report_style_numbering": false,
   "user_envs_cfg": false
  },
  "toc": {
   "colors": {
    "hover_highlight": "#DAA520",
    "running_highlight": "#FF0000",
    "selected_highlight": "#FFD700"
   },
   "moveMenuLeft": true,
   "nav_menu": {
    "height": "67px",
    "width": "252px"
   },
   "navigate_menu": true,
   "number_sections": true,
   "sideBar": true,
   "threshold": 4,
   "toc_cell": false,
   "toc_section_display": "block",
   "toc_window_display": false,
   "widenNotebook": false
  }
 },
 "nbformat": 4,
 "nbformat_minor": 2
}
