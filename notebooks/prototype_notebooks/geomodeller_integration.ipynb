{
 "cells": [
  {
   "cell_type": "code",
   "execution_count": 1,
   "metadata": {},
   "outputs": [],
   "source": [
    "import sys, os\n",
    "sys.path.append(\"../..\")\n",
    "\n",
    "# import gempy\n",
    "import gempy as gp\n",
    "\n",
    "# inline figures in jupyter notebooks\n",
    "import matplotlib.pyplot as plt\n",
    "%matplotlib inline\n",
    "\n",
    "import numpy as np\n",
    "import pandas as pn\n",
    "from importlib import reload"
   ]
  },
  {
   "cell_type": "code",
   "execution_count": 2,
   "metadata": {
    "collapsed": true
   },
   "outputs": [],
   "source": [
    "import gempy.utils.geomodeller_integration as gi"
   ]
  },
  {
   "cell_type": "code",
   "execution_count": 3,
   "metadata": {},
   "outputs": [
    {
     "data": {
      "text/plain": [
       "<module 'gempy.utils.geomodeller_integration' from '../..\\\\gempy\\\\utils\\\\geomodeller_integration.py'>"
      ]
     },
     "execution_count": 3,
     "metadata": {},
     "output_type": "execute_result"
    }
   ],
   "source": [
    "gi"
   ]
  },
  {
   "cell_type": "code",
   "execution_count": 4,
   "metadata": {},
   "outputs": [],
   "source": [
    "geoM = gi.GeomodellerClass()"
   ]
  },
  {
   "cell_type": "code",
   "execution_count": 5,
   "metadata": {},
   "outputs": [],
   "source": [
    "geoM.load_geomodeller_file('../../test/GeoModeller/test_d/test_d.xml')"
   ]
  },
  {
   "cell_type": "code",
   "execution_count": 6,
   "metadata": {},
   "outputs": [
    {
     "data": {
      "text/plain": [
       "[<Element '{http://www.geomodeller.com/geo}Section' at 0x0000017568B94868>,\n",
       " <Element '{http://www.geomodeller.com/geo}Section' at 0x0000017568B9F188>]"
      ]
     },
     "execution_count": 6,
     "metadata": {},
     "output_type": "execute_result"
    }
   ],
   "source": [
    "geoM.get_sections()"
   ]
  },
  {
   "cell_type": "code",
   "execution_count": 7,
   "metadata": {},
   "outputs": [
    {
     "data": {
      "text/plain": [
       "[<Element '{http://www.geomodeller.com/geo}Fault' at 0x0000017568B94638>]"
      ]
     },
     "execution_count": 7,
     "metadata": {},
     "output_type": "execute_result"
    }
   ],
   "source": [
    "geoM.get_faults()"
   ]
  },
  {
   "cell_type": "code",
   "execution_count": 8,
   "metadata": {},
   "outputs": [
    {
     "data": {
      "text/plain": [
       "'f1'"
      ]
     },
     "execution_count": 8,
     "metadata": {},
     "output_type": "execute_result"
    }
   ],
   "source": [
    "geoM.faults[0].get(\"Name\")"
   ]
  },
  {
   "cell_type": "code",
   "execution_count": 9,
   "metadata": {
    "collapsed": true
   },
   "outputs": [],
   "source": [
    "geoM.get_formations()"
   ]
  },
  {
   "cell_type": "code",
   "execution_count": 10,
   "metadata": {},
   "outputs": [
    {
     "data": {
      "text/plain": [
       "[<Element '{http://www.geomodeller.com/geo}Formation' at 0x0000017568B789F8>,\n",
       " <Element '{http://www.geomodeller.com/geo}Formation' at 0x0000017568B8C3B8>]"
      ]
     },
     "execution_count": 10,
     "metadata": {},
     "output_type": "execute_result"
    }
   ],
   "source": [
    "geoM.formations"
   ]
  },
  {
   "cell_type": "code",
   "execution_count": 11,
   "metadata": {},
   "outputs": [
    {
     "data": {
      "text/plain": [
       "['A', 'B']"
      ]
     },
     "execution_count": 11,
     "metadata": {},
     "output_type": "execute_result"
    }
   ],
   "source": [
    "geoM.get_formation_names()"
   ]
  },
  {
   "cell_type": "code",
   "execution_count": 12,
   "metadata": {},
   "outputs": [
    {
     "data": {
      "text/plain": [
       "<bound method GeomodellerClass.get_fault_names of <gempy.utils.geomodeller_integration.GeomodellerClass object at 0x0000017568A23B70>>"
      ]
     },
     "execution_count": 12,
     "metadata": {},
     "output_type": "execute_result"
    }
   ],
   "source": [
    "geoM.get_fault_names"
   ]
  },
  {
   "cell_type": "code",
   "execution_count": 13,
   "metadata": {},
   "outputs": [
    {
     "data": {
      "text/plain": [
       "['B', 'A']"
      ]
     },
     "execution_count": 13,
     "metadata": {},
     "output_type": "execute_result"
    }
   ],
   "source": [
    "geoM.get_stratigraphy_list()"
   ]
  },
  {
   "cell_type": "code",
   "execution_count": 14,
   "metadata": {},
   "outputs": [
    {
     "ename": "AttributeError",
     "evalue": "'GeomodellerClass' object has no attribute 'get_fault_parameters'",
     "output_type": "error",
     "traceback": [
      "\u001b[1;31m---------------------------------------------------------------------------\u001b[0m",
      "\u001b[1;31mAttributeError\u001b[0m                            Traceback (most recent call last)",
      "\u001b[1;32m<ipython-input-14-6506f7146087>\u001b[0m in \u001b[0;36m<module>\u001b[1;34m()\u001b[0m\n\u001b[1;32m----> 1\u001b[1;33m \u001b[0mgeoM\u001b[0m\u001b[1;33m.\u001b[0m\u001b[0mget_fault_parameters\u001b[0m\u001b[1;33m(\u001b[0m\u001b[1;33m)\u001b[0m\u001b[1;33m\u001b[0m\u001b[0m\n\u001b[0m",
      "\u001b[1;31mAttributeError\u001b[0m: 'GeomodellerClass' object has no attribute 'get_fault_parameters'"
     ]
    }
   ],
   "source": [
    "geoM.get_fault_parameters()"
   ]
  },
  {
   "cell_type": "code",
   "execution_count": 15,
   "metadata": {},
   "outputs": [
    {
     "data": {
      "text/plain": [
       "{'A': <Element '{http://www.geomodeller.com/geo}Formation' at 0x0000017568B789F8>,\n",
       " 'B': <Element '{http://www.geomodeller.com/geo}Formation' at 0x0000017568B8C3B8>}"
      ]
     },
     "execution_count": 15,
     "metadata": {},
     "output_type": "execute_result"
    }
   ],
   "source": [
    "geoM.create_formation_dict()"
   ]
  },
  {
   "cell_type": "code",
   "execution_count": 22,
   "metadata": {},
   "outputs": [
    {
     "data": {
      "text/plain": [
       "{'f1': <Element '{http://www.geomodeller.com/geo}Fault' at 0x7fa938261818>}"
      ]
     },
     "execution_count": 22,
     "metadata": {},
     "output_type": "execute_result"
    }
   ],
   "source": [
    "geoM.create_fault_dict()"
   ]
  },
  {
   "cell_type": "code",
   "execution_count": 23,
   "metadata": {
    "collapsed": true
   },
   "outputs": [
    {
     "data": {
      "text/plain": [
       "(0.0, 10.0, 0.0, 10.0, -10.0, 0.0)"
      ]
     },
     "execution_count": 23,
     "metadata": {},
     "output_type": "execute_result"
    }
   ],
   "source": [
    "geoM.get_model_extent()"
   ]
  },
  {
   "cell_type": "code",
   "execution_count": 31,
   "metadata": {},
   "outputs": [
    {
     "data": {
      "text/plain": [
       "'-10.0'"
      ]
     },
     "execution_count": 31,
     "metadata": {},
     "output_type": "execute_result"
    }
   ],
   "source": [
    "geoM.rootelement.find(\"{\"+geoM.xmlns+\"}GeologicalModel\").find(\"{\"+geoM.xmlns+\"}Extent3D\").find(\"{\"+geoM.xmlns+\"}ExtentZ\").get(\"Zmin\")"
   ]
  },
  {
   "cell_type": "code",
   "execution_count": 33,
   "metadata": {},
   "outputs": [],
   "source": [
    "stc =geoM.rootelement.find(\"{\"+geoM.xmlns+\"}GeologicalModel\").find(\"{\"+geoM.xmlns+\"}ProjectStratigraphicColumn\")"
   ]
  },
  {
   "cell_type": "code",
   "execution_count": 35,
   "metadata": {},
   "outputs": [],
   "source": [
    "stc.find(\"{\"+geoM.gml+\"}coord\")"
   ]
  },
  {
   "cell_type": "code",
   "execution_count": 40,
   "metadata": {},
   "outputs": [],
   "source": [
    "inter = stc.find(\"{\"+geoM.xmlns+\"}Series\").find(\"{\"+geoM.xmlns+\"}PotentialField\").find(\"{\"+geoM.xmlns+\"}Points\")"
   ]
  },
  {
   "cell_type": "code",
   "execution_count": 50,
   "metadata": {},
   "outputs": [],
   "source": [
    "p = inter.find(\"{\"+geoM.gml+\"}coord\").findtext(\"{\"+geoM.gml+\"}X\")"
   ]
  },
  {
   "cell_type": "code",
   "execution_count": 49,
   "metadata": {},
   "outputs": [
    {
     "data": {
      "text/plain": [
       "'2.0477319587628866059958454570733010768890380859375'"
      ]
     },
     "execution_count": 49,
     "metadata": {},
     "output_type": "execute_result"
    }
   ],
   "source": [
    "p.text"
   ]
  },
  {
   "cell_type": "code",
   "execution_count": 51,
   "metadata": {},
   "outputs": [
    {
     "data": {
      "text/plain": [
       "'2.0477319587628866059958454570733010768890380859375'"
      ]
     },
     "execution_count": 51,
     "metadata": {},
     "output_type": "execute_result"
    }
   ],
   "source": [
    "p"
   ]
  },
  {
   "cell_type": "markdown",
   "metadata": {},
   "source": [
    "---\n",
    "\n",
    "# ReadGeoModellerXML class"
   ]
  },
  {
   "cell_type": "code",
   "execution_count": 17,
   "metadata": {},
   "outputs": [],
   "source": [
    "reload(gp.utils.geomodeller_integration);\n",
    "gmx = gp.utils.geomodeller_integration.ReadGeoModellerXML(\"NorthPerthBasin_rev.xml\")"
   ]
  },
  {
   "cell_type": "markdown",
   "metadata": {},
   "source": [
    "The **ElementTree** root of the read-in xml file is accessible via:"
   ]
  },
  {
   "cell_type": "code",
   "execution_count": 231,
   "metadata": {},
   "outputs": [
    {
     "data": {
      "text/plain": [
       "<Element '{http://www.geomodeller.com/geo}Project3DEdit' at 0x000002067548E048>"
      ]
     },
     "execution_count": 231,
     "metadata": {},
     "output_type": "execute_result"
    }
   ],
   "source": [
    "gmx.root"
   ]
  },
  {
   "cell_type": "markdown",
   "metadata": {},
   "source": [
    "**Interfaces** dataframe:"
   ]
  },
  {
   "cell_type": "code",
   "execution_count": 10,
   "metadata": {},
   "outputs": [
    {
     "data": {
      "text/html": [
       "<div>\n",
       "<style>\n",
       "    .dataframe thead tr:only-child th {\n",
       "        text-align: right;\n",
       "    }\n",
       "\n",
       "    .dataframe thead th {\n",
       "        text-align: left;\n",
       "    }\n",
       "\n",
       "    .dataframe tbody tr th {\n",
       "        vertical-align: top;\n",
       "    }\n",
       "</style>\n",
       "<table border=\"1\" class=\"dataframe\">\n",
       "  <thead>\n",
       "    <tr style=\"text-align: right;\">\n",
       "      <th></th>\n",
       "      <th>X</th>\n",
       "      <th>Y</th>\n",
       "      <th>Z</th>\n",
       "      <th>formation</th>\n",
       "      <th>series</th>\n",
       "    </tr>\n",
       "  </thead>\n",
       "  <tbody>\n",
       "    <tr>\n",
       "      <th>11306</th>\n",
       "      <td>328362.0</td>\n",
       "      <td>6758890.0</td>\n",
       "      <td>0.0</td>\n",
       "      <td>Fault_Transverse_03</td>\n",
       "      <td>Fault_Transverse_03</td>\n",
       "    </tr>\n",
       "    <tr>\n",
       "      <th>11307</th>\n",
       "      <td>337144.0</td>\n",
       "      <td>6751190.0</td>\n",
       "      <td>0.0</td>\n",
       "      <td>Fault_Transverse_03</td>\n",
       "      <td>Fault_Transverse_03</td>\n",
       "    </tr>\n",
       "    <tr>\n",
       "      <th>11308</th>\n",
       "      <td>347951.0</td>\n",
       "      <td>6741460.0</td>\n",
       "      <td>0.0</td>\n",
       "      <td>Fault_Transverse_03</td>\n",
       "      <td>Fault_Transverse_03</td>\n",
       "    </tr>\n",
       "    <tr>\n",
       "      <th>11309</th>\n",
       "      <td>359483.0</td>\n",
       "      <td>6730450.0</td>\n",
       "      <td>0.0</td>\n",
       "      <td>Fault_Transverse_03</td>\n",
       "      <td>Fault_Transverse_03</td>\n",
       "    </tr>\n",
       "    <tr>\n",
       "      <th>11310</th>\n",
       "      <td>364864.0</td>\n",
       "      <td>6725480.0</td>\n",
       "      <td>0.0</td>\n",
       "      <td>Fault_Transverse_03</td>\n",
       "      <td>Fault_Transverse_03</td>\n",
       "    </tr>\n",
       "  </tbody>\n",
       "</table>\n",
       "</div>"
      ],
      "text/plain": [
       "              X          Y    Z            formation               series\n",
       "11306  328362.0  6758890.0  0.0  Fault_Transverse_03  Fault_Transverse_03\n",
       "11307  337144.0  6751190.0  0.0  Fault_Transverse_03  Fault_Transverse_03\n",
       "11308  347951.0  6741460.0  0.0  Fault_Transverse_03  Fault_Transverse_03\n",
       "11309  359483.0  6730450.0  0.0  Fault_Transverse_03  Fault_Transverse_03\n",
       "11310  364864.0  6725480.0  0.0  Fault_Transverse_03  Fault_Transverse_03"
      ]
     },
     "execution_count": 10,
     "metadata": {},
     "output_type": "execute_result"
    }
   ],
   "source": [
    "gmx.get_interfaces_df().tail()"
   ]
  },
  {
   "cell_type": "markdown",
   "metadata": {},
   "source": [
    "**Orientations** dataframe:"
   ]
  },
  {
   "cell_type": "code",
   "execution_count": 18,
   "metadata": {},
   "outputs": [
    {
     "data": {
      "text/html": [
       "<div>\n",
       "<style>\n",
       "    .dataframe thead tr:only-child th {\n",
       "        text-align: right;\n",
       "    }\n",
       "\n",
       "    .dataframe thead th {\n",
       "        text-align: left;\n",
       "    }\n",
       "\n",
       "    .dataframe tbody tr th {\n",
       "        vertical-align: top;\n",
       "    }\n",
       "</style>\n",
       "<table border=\"1\" class=\"dataframe\">\n",
       "  <thead>\n",
       "    <tr style=\"text-align: right;\">\n",
       "      <th></th>\n",
       "      <th>X</th>\n",
       "      <th>Y</th>\n",
       "      <th>Z</th>\n",
       "      <th>dip</th>\n",
       "      <th>azimuth</th>\n",
       "      <th>polarity</th>\n",
       "      <th>formation</th>\n",
       "      <th>series</th>\n",
       "    </tr>\n",
       "  </thead>\n",
       "  <tbody>\n",
       "    <tr>\n",
       "      <th>100</th>\n",
       "      <td>354192.0742</td>\n",
       "      <td>6804450.074</td>\n",
       "      <td>-30735.74609</td>\n",
       "      <td>3.56591</td>\n",
       "      <td>228.5130</td>\n",
       "      <td>1</td>\n",
       "      <td>Moho</td>\n",
       "      <td>Moho_Serie</td>\n",
       "    </tr>\n",
       "    <tr>\n",
       "      <th>101</th>\n",
       "      <td>289338.0957</td>\n",
       "      <td>6598540.672</td>\n",
       "      <td>-10028.23730</td>\n",
       "      <td>13.75430</td>\n",
       "      <td>51.8948</td>\n",
       "      <td>1</td>\n",
       "      <td>Lower_crust</td>\n",
       "      <td>Lower_crust_Serie</td>\n",
       "    </tr>\n",
       "    <tr>\n",
       "      <th>102</th>\n",
       "      <td>398679.2813</td>\n",
       "      <td>6629800.047</td>\n",
       "      <td>-15358.76563</td>\n",
       "      <td>1.27821</td>\n",
       "      <td>156.4510</td>\n",
       "      <td>1</td>\n",
       "      <td>Lower_crust</td>\n",
       "      <td>Lower_crust_Serie</td>\n",
       "    </tr>\n",
       "    <tr>\n",
       "      <th>103</th>\n",
       "      <td>307179.2813</td>\n",
       "      <td>6736300.070</td>\n",
       "      <td>-14392.41309</td>\n",
       "      <td>3.72760</td>\n",
       "      <td>62.6046</td>\n",
       "      <td>1</td>\n",
       "      <td>Lower_crust</td>\n",
       "      <td>Lower_crust_Serie</td>\n",
       "    </tr>\n",
       "    <tr>\n",
       "      <th>104</th>\n",
       "      <td>354192.0742</td>\n",
       "      <td>6804450.074</td>\n",
       "      <td>-14920.71973</td>\n",
       "      <td>0.18586</td>\n",
       "      <td>289.6310</td>\n",
       "      <td>1</td>\n",
       "      <td>Lower_crust</td>\n",
       "      <td>Lower_crust_Serie</td>\n",
       "    </tr>\n",
       "  </tbody>\n",
       "</table>\n",
       "</div>"
      ],
      "text/plain": [
       "               X            Y            Z       dip   azimuth  polarity  \\\n",
       "100  354192.0742  6804450.074 -30735.74609   3.56591  228.5130         1   \n",
       "101  289338.0957  6598540.672 -10028.23730  13.75430   51.8948         1   \n",
       "102  398679.2813  6629800.047 -15358.76563   1.27821  156.4510         1   \n",
       "103  307179.2813  6736300.070 -14392.41309   3.72760   62.6046         1   \n",
       "104  354192.0742  6804450.074 -14920.71973   0.18586  289.6310         1   \n",
       "\n",
       "       formation             series  \n",
       "100         Moho         Moho_Serie  \n",
       "101  Lower_crust  Lower_crust_Serie  \n",
       "102  Lower_crust  Lower_crust_Serie  \n",
       "103  Lower_crust  Lower_crust_Serie  \n",
       "104  Lower_crust  Lower_crust_Serie  "
      ]
     },
     "execution_count": 18,
     "metadata": {},
     "output_type": "execute_result"
    }
   ],
   "source": [
    "gmx.get_orientation_df().tail()"
   ]
  },
  {
   "cell_type": "markdown",
   "metadata": {},
   "source": [
    "**Extent**:"
   ]
  },
  {
   "cell_type": "code",
   "execution_count": 224,
   "metadata": {},
   "outputs": [
    {
     "data": {
      "text/plain": [
       "(259000.0, 415000.0, 6568000.0, 6848000.0, -45000.0, 500.0)"
      ]
     },
     "execution_count": 224,
     "metadata": {},
     "output_type": "execute_result"
    }
   ],
   "source": [
    "gmx.extent"
   ]
  },
  {
   "cell_type": "markdown",
   "metadata": {},
   "source": [
    "The **stratigraphic column** as found in the xml (ordered from old to young):"
   ]
  },
  {
   "cell_type": "code",
   "execution_count": 225,
   "metadata": {},
   "outputs": [
    {
     "data": {
      "text/plain": [
       "('Moho_Serie',\n",
       " 'Lower_crust_Serie',\n",
       " 'Yigarn_Series',\n",
       " 'Precambrian',\n",
       " 'Permian',\n",
       " 'Triassic-Jurassic',\n",
       " 'Neocomian_Unconformity',\n",
       " 'Topo_and_bathy_Series',\n",
       " 'Sea_level_Series')"
      ]
     },
     "execution_count": 225,
     "metadata": {},
     "output_type": "execute_result"
    }
   ],
   "source": [
    "gmx.strat_column"
   ]
  },
  {
   "cell_type": "markdown",
   "metadata": {},
   "source": [
    "**Faults** ordered as found in the xml:"
   ]
  },
  {
   "cell_type": "code",
   "execution_count": 226,
   "metadata": {},
   "outputs": [
    {
     "data": {
      "text/plain": [
       "('Fault_01',\n",
       " 'Fault_02_Beagle',\n",
       " 'Fault_03_Wedge',\n",
       " 'Fault_04',\n",
       " 'Fault_05',\n",
       " 'Fault_06_Peron',\n",
       " 'Fault_08_Coomallo',\n",
       " 'Fault_09',\n",
       " 'Fault_10_Eneabba',\n",
       " 'Fault_11',\n",
       " 'Fault_12_Urella',\n",
       " 'Fault_13_Darling',\n",
       " 'Fault_14_Peron',\n",
       " 'Fault_Transverse_01',\n",
       " 'Fault_Transverse_02_Abrolhos',\n",
       " 'Fault_Transverse_03')"
      ]
     },
     "execution_count": 226,
     "metadata": {},
     "output_type": "execute_result"
    }
   ],
   "source": [
    "gmx.faults"
   ]
  },
  {
   "cell_type": "markdown",
   "metadata": {},
   "source": [
    "Which formations belongs to which series encoded in a dictionary:"
   ]
  },
  {
   "cell_type": "code",
   "execution_count": 290,
   "metadata": {},
   "outputs": [
    {
     "data": {
      "text/plain": [
       "{'Lower_crust_Serie': 'Lower_crust',\n",
       " 'Moho_Serie': 'Moho',\n",
       " 'Neocomian_Unconformity': 'Neocomian_Unc',\n",
       " 'Permian': 'Late_Permian',\n",
       " 'Precambrian': 'Basement',\n",
       " 'Sea_level_Series': 'Sea_level',\n",
       " 'Topo_and_bathy_Series': 'Topo_and_bathy',\n",
       " 'Triassic-Jurassic': ('Kockatea_Shale',\n",
       "  'Woodada_Fm',\n",
       "  'Lesueur_Ss',\n",
       "  'Eneabba_Fm',\n",
       "  'Cattamarra_Coal_Measures',\n",
       "  'Yarragadee_Fm'),\n",
       " 'Yigarn_Series': 'Yigarn'}"
      ]
     },
     "execution_count": 290,
     "metadata": {},
     "output_type": "execute_result"
    }
   ],
   "source": [
    "gmx.series_distribution"
   ]
  },
  {
   "cell_type": "markdown",
   "metadata": {},
   "source": [
    "Getting the **fault matrix**, where **1** means the fault stops at the other fault:"
   ]
  },
  {
   "cell_type": "code",
   "execution_count": 292,
   "metadata": {},
   "outputs": [
    {
     "name": "stdout",
     "output_type": "stream",
     "text": [
      "[[ 0.  0.  0.  0.  0.  0.  0.  0.  0.  0.  0.  0.  0.  1.  1.  0.]\n",
      " [ 1.  0.  0.  0.  0.  0.  0.  0.  0.  0.  0.  0.  0.  1.  0.  0.]\n",
      " [ 0.  0.  0.  0.  0.  0.  0.  0.  0.  0.  0.  0.  0.  1.  1.  0.]\n",
      " [ 0.  0.  0.  0.  0.  0.  0.  0.  0.  0.  0.  0.  0.  0.  1.  1.]\n",
      " [ 0.  0.  0.  0.  0.  0.  0.  0.  0.  0.  0.  0.  0.  0.  0.  1.]\n",
      " [ 0.  0.  1.  0.  0.  0.  0.  0.  0.  0.  0.  0.  0.  0.  1.  0.]\n",
      " [ 0.  0.  0.  0.  0.  0.  0.  0.  0.  0.  0.  0.  0.  0.  1.  0.]\n",
      " [ 0.  0.  0.  0.  0.  0.  0.  0.  0.  0.  0.  0.  0.  0.  1.  1.]\n",
      " [ 0.  0.  0.  0.  0.  0.  1.  0.  0.  0.  0.  0.  0.  0.  1.  0.]\n",
      " [ 0.  0.  0.  0.  0.  0.  0.  0.  0.  0.  0.  0.  0.  0.  1.  1.]\n",
      " [ 0.  0.  0.  0.  0.  0.  0.  0.  0.  0.  0.  0.  0.  0.  0.  0.]\n",
      " [ 0.  0.  0.  0.  0.  0.  0.  0.  0.  0.  0.  0.  0.  0.  0.  0.]\n",
      " [ 0.  0.  0.  0.  0.  0.  0.  0.  0.  0.  0.  0.  0.  0.  1.  1.]\n",
      " [ 0.  0.  0.  0.  0.  0.  0.  0.  0.  0.  0.  0.  0.  0.  0.  0.]\n",
      " [ 0.  0.  0.  0.  0.  0.  0.  0.  0.  0.  0.  1.  0.  0.  0.  0.]\n",
      " [ 0.  0.  0.  0.  0.  0.  0.  0.  0.  0.  1.  0.  0.  0.  0.  0.]]\n"
     ]
    }
   ],
   "source": [
    "print(gmx.get_fault_matrix())"
   ]
  },
  {
   "cell_type": "code",
   "execution_count": 309,
   "metadata": {},
   "outputs": [
    {
     "data": {
      "text/plain": [
       "['Moho',\n",
       " 'Lower_crust',\n",
       " 'Yigarn',\n",
       " 'Basement',\n",
       " 'Late_Permian',\n",
       " 'Kockatea_Shale',\n",
       " 'Woodada_Fm',\n",
       " 'Lesueur_Ss',\n",
       " 'Eneabba_Fm',\n",
       " 'Cattamarra_Coal_Measures',\n",
       " 'Yarragadee_Fm',\n",
       " 'Neocomian_Unc',\n",
       " 'Topo_and_bathy',\n",
       " 'Sea_level']"
      ]
     },
     "execution_count": 309,
     "metadata": {},
     "output_type": "execute_result"
    }
   ],
   "source": [
    "gmx.get_order_formations()"
   ]
  },
  {
   "cell_type": "markdown",
   "metadata": {},
   "source": [
    "## Dev"
   ]
  },
  {
   "cell_type": "code",
   "execution_count": 4,
   "metadata": {},
   "outputs": [
    {
     "data": {
      "text/plain": [
       "['Moho',\n",
       " 'Lower_crust',\n",
       " 'Yigarn',\n",
       " 'Basement',\n",
       " 'Late_Permian',\n",
       " 'Kockatea_Shale',\n",
       " 'Woodada_Fm',\n",
       " 'Lesueur_Ss',\n",
       " 'Eneabba_Fm',\n",
       " 'Cattamarra_Coal_Measures',\n",
       " 'Yarragadee_Fm',\n",
       " 'Neocomian_Unc',\n",
       " 'Topo_and_bathy',\n",
       " 'Sea_level']"
      ]
     },
     "execution_count": 4,
     "metadata": {},
     "output_type": "execute_result"
    }
   ],
   "source": [
    "gmx.get_order_formations()"
   ]
  },
  {
   "cell_type": "code",
   "execution_count": 21,
   "metadata": {},
   "outputs": [
    {
     "data": {
      "text/plain": [
       "('Moho_Serie',\n",
       " 'Lower_crust_Serie',\n",
       " 'Yigarn_Series',\n",
       " 'Precambrian',\n",
       " 'Permian',\n",
       " 'Triassic-Jurassic',\n",
       " 'Neocomian_Unconformity',\n",
       " 'Topo_and_bathy_Series',\n",
       " 'Sea_level_Series')"
      ]
     },
     "execution_count": 21,
     "metadata": {},
     "output_type": "execute_result"
    }
   ],
   "source": [
    "gmx.strat_column"
   ]
  },
  {
   "cell_type": "code",
   "execution_count": 2,
   "metadata": {},
   "outputs": [],
   "source": [
    "geo_data, gmx = gp.create_from_geomodeller_xml(\"NorthPerthBasin_rev.xml\")"
   ]
  },
  {
   "cell_type": "code",
   "execution_count": null,
   "metadata": {},
   "outputs": [],
   "source": []
  }
 ],
 "metadata": {
  "kernelspec": {
   "display_name": "Python 3",
   "language": "python",
   "name": "python3"
  },
  "language_info": {
   "codemirror_mode": {
    "name": "ipython",
    "version": 3
   },
   "file_extension": ".py",
   "mimetype": "text/x-python",
   "name": "python",
   "nbconvert_exporter": "python",
   "pygments_lexer": "ipython3",
   "version": "3.6.4"
  }
 },
 "nbformat": 4,
 "nbformat_minor": 2
}
