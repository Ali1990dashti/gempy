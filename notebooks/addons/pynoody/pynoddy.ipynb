{
 "cells": [
  {
   "cell_type": "markdown",
   "metadata": {
    "collapsed": true
   },
   "source": [
    "# Importing Kinematic modelling into GemPy using pynoddy"
   ]
  },
  {
   "cell_type": "code",
   "execution_count": 1,
   "metadata": {},
   "outputs": [
    {
     "name": "stderr",
     "output_type": "stream",
     "text": [
      "WARNING (theano.tensor.blas): Using NumPy C-API based implementation for BLAS functions.\n"
     ]
    }
   ],
   "source": [
    "import sys, os\n",
    "# Path to development gempy\n",
    "sys.path.append('../../..')\n",
    "\n",
    "# Path to development pynoddy\n",
    "sys.path.append('../../../../pynoddy')\n",
    "\n",
    "import matplotlib.pyplot as plt\n",
    "import numpy as np\n",
    "import pandas as pn\n",
    "# adjust some settings for matplotlib\n",
    "from matplotlib import rcParams\n",
    "# print rcParams\n",
    "rcParams['font.size'] = 15\n",
    "# determine path of repository to set paths corretly below\n",
    "repo_path = os.path.realpath('../..')\n",
    "import gempy as gp\n",
    "import pynoddy\n",
    "import pynoddy.history\n",
    "import pynoddy.output\n",
    "%matplotlib inline"
   ]
  },
  {
   "cell_type": "markdown",
   "metadata": {},
   "source": [
    "## Making your favorite model in pynoddy\n",
    "### Loading noddy model"
   ]
  },
  {
   "cell_type": "code",
   "execution_count": 2,
   "metadata": {},
   "outputs": [],
   "source": [
    "#reload(pynoddy.history)\n",
    "# Downloading a model\n",
    "his = pynoddy.history.NoddyHistory(url = \\\n",
    "            \"http://tectonique.net/asg/ch2/ch2_2/ch2_2_1/his/normal.his\")\n",
    "\n",
    "his.determine_model_stratigraphy()"
   ]
  },
  {
   "cell_type": "code",
   "execution_count": 3,
   "metadata": {},
   "outputs": [],
   "source": [
    "# Choosing resolution\n",
    "his.change_cube_size(200)"
   ]
  },
  {
   "cell_type": "code",
   "execution_count": 4,
   "metadata": {},
   "outputs": [],
   "source": [
    "# Writing history file\n",
    "history_name = \"fold_thrust.his\"\n",
    "his.write_history(history_name)"
   ]
  },
  {
   "cell_type": "code",
   "execution_count": 5,
   "metadata": {},
   "outputs": [
    {
     "data": {
      "text/plain": [
       "''"
      ]
     },
     "execution_count": 5,
     "metadata": {},
     "output_type": "execute_result"
    }
   ],
   "source": [
    "# Computing history file\n",
    "output = \"fold_thrust_out\"\n",
    "pynoddy.compute_model(history_name, output, sim_type='TOPOLOGY')"
   ]
  },
  {
   "cell_type": "code",
   "execution_count": 6,
   "metadata": {},
   "outputs": [],
   "source": [
    "# load and visualise model\n",
    "h_out = pynoddy.output.NoddyOutput(output)"
   ]
  },
  {
   "cell_type": "code",
   "execution_count": 7,
   "metadata": {},
   "outputs": [
    {
     "data": {
      "image/png": "[encoded data removed]",
      "text/plain": [
       "<matplotlib.figure.Figure at 0x7f3564c40518>"
      ]
     },
     "metadata": {},
     "output_type": "display_data"
    }
   ],
   "source": [
    "# his.determine_model_stratigraphy()\n",
    "h_out.plot_section('x', \n",
    "                   layer_labels = his.model_stratigraphy, \n",
    "                   colorbar_orientation = 'horizontal', \n",
    "                   colorbar=False,\n",
    "                   title = '',\n",
    "#                   savefig=True, fig_filename = 'fold_thrust_NS_section.eps',\n",
    "                   cmap = 'YlOrRd')"
   ]
  },
  {
   "cell_type": "code",
   "execution_count": 11,
   "metadata": {},
   "outputs": [],
   "source": [
    "extent = [0, 30000.0,\n",
    "          0, 30000.0,\n",
    "          0, 3000.0  ]# h_out.extent_x, h_out.extent_y, h_out.extent_z\n",
    "\n",
    "cs = 200 #h_out.delx\n",
    "\n",
    "resolution = [int(extent[1]/cs), \n",
    "              int(extent[3]/cs), \n",
    "              int(extent[5]/cs)]\n",
    "\n",
    "noddy_grid = gp.GridClass.create_regular_grid_3d(extent, resolution)"
   ]
  },
  {
   "cell_type": "code",
   "execution_count": 9,
   "metadata": {},
   "outputs": [],
   "source": [
    "# Checkpoint. Saving noddy litholody block\n",
    "np.save('noddy_block', h_out.block)"
   ]
  },
  {
   "cell_type": "code",
   "execution_count": 10,
   "metadata": {},
   "outputs": [
    {
     "data": {
      "text/plain": [
       "[150, 150, 15]"
      ]
     },
     "execution_count": 10,
     "metadata": {},
     "output_type": "execute_result"
    }
   ],
   "source": [
    "resolution"
   ]
  },
  {
   "cell_type": "markdown",
   "metadata": {},
   "source": [
    "## GemPy finding interface points"
   ]
  },
  {
   "cell_type": "code",
   "execution_count": 8,
   "metadata": {},
   "outputs": [],
   "source": [
    "# Creating geo_data with the same data extent and resolution as the noddy model\n",
    "\n",
    "# initialize geo_data object\n",
    "geo_data = gp.create_data([-8000, 38000, \n",
    "                           -8000, 38000, \n",
    "                           -5000, 3000],\n",
    "                          resolution=[80, 80, 80])\n",
    "block = np.load('noddy_block.npy')"
   ]
  },
  {
   "cell_type": "code",
   "execution_count": 12,
   "metadata": {},
   "outputs": [
    {
     "data": {
      "text/plain": [
       "<gempy.data_management.InputData at 0x7f35643d0358>"
      ]
     },
     "execution_count": 12,
     "metadata": {},
     "output_type": "execute_result"
    }
   ],
   "source": [
    "# Importing some points at the interface\n",
    "gp.utils.set_interfaces_from_block(geo_data, block, noddy_grid, reset_index=True)"
   ]
  },
  {
   "cell_type": "code",
   "execution_count": 13,
   "metadata": {},
   "outputs": [
    {
     "data": {
      "image/png": "[encoded data removed]",
      "text/plain": [
       "<matplotlib.figure.Figure at 0x7f3564322908>"
      ]
     },
     "metadata": {},
     "output_type": "display_data"
    }
   ],
   "source": [
    "# Visualiziing\n",
    "%matplotlib inline\n",
    "gp.plotting.plot_data(geo_data)"
   ]
  },
  {
   "cell_type": "code",
   "execution_count": 14,
   "metadata": {},
   "outputs": [
    {
     "data": {
      "text/html": [
       "<div>\n",
       "<style scoped>\n",
       "    .dataframe tbody tr th:only-of-type {\n",
       "        vertical-align: middle;\n",
       "    }\n",
       "\n",
       "    .dataframe tbody tr th {\n",
       "        vertical-align: top;\n",
       "    }\n",
       "\n",
       "    .dataframe thead th {\n",
       "        text-align: right;\n",
       "    }\n",
       "</style>\n",
       "<table border=\"1\" class=\"dataframe\">\n",
       "  <thead>\n",
       "    <tr style=\"text-align: right;\">\n",
       "      <th></th>\n",
       "      <th>X</th>\n",
       "      <th>Y</th>\n",
       "      <th>Z</th>\n",
       "      <th>annotations</th>\n",
       "      <th>formation</th>\n",
       "      <th>formation_number</th>\n",
       "      <th>formation_value</th>\n",
       "      <th>isFault</th>\n",
       "      <th>order_series</th>\n",
       "      <th>series</th>\n",
       "    </tr>\n",
       "  </thead>\n",
       "  <tbody>\n",
       "    <tr>\n",
       "      <th>0</th>\n",
       "      <td>26700.0</td>\n",
       "      <td>13500.0</td>\n",
       "      <td>648.571411</td>\n",
       "      <td>${\\bf{x}}_{\\alpha \\,{\\bf{0}},0}$</td>\n",
       "      <td>formation_0</td>\n",
       "      <td>1</td>\n",
       "      <td>1</td>\n",
       "      <td>False</td>\n",
       "      <td>1</td>\n",
       "      <td>Default series</td>\n",
       "    </tr>\n",
       "    <tr>\n",
       "      <th>1</th>\n",
       "      <td>12500.0</td>\n",
       "      <td>14300.0</td>\n",
       "      <td>1925.714233</td>\n",
       "      <td>${\\bf{x}}_{\\alpha \\,{\\bf{0}},18}$</td>\n",
       "      <td>formation_0</td>\n",
       "      <td>1</td>\n",
       "      <td>1</td>\n",
       "      <td>False</td>\n",
       "      <td>1</td>\n",
       "      <td>Default series</td>\n",
       "    </tr>\n",
       "    <tr>\n",
       "      <th>2</th>\n",
       "      <td>100.0</td>\n",
       "      <td>13300.0</td>\n",
       "      <td>10.000000</td>\n",
       "      <td>${\\bf{x}}_{\\alpha \\,{\\bf{0}},17}$</td>\n",
       "      <td>formation_0</td>\n",
       "      <td>1</td>\n",
       "      <td>1</td>\n",
       "      <td>False</td>\n",
       "      <td>1</td>\n",
       "      <td>Default series</td>\n",
       "    </tr>\n",
       "    <tr>\n",
       "      <th>3</th>\n",
       "      <td>1500.0</td>\n",
       "      <td>14500.0</td>\n",
       "      <td>2351.428467</td>\n",
       "      <td>${\\bf{x}}_{\\alpha \\,{\\bf{0}},16}$</td>\n",
       "      <td>formation_0</td>\n",
       "      <td>1</td>\n",
       "      <td>1</td>\n",
       "      <td>False</td>\n",
       "      <td>1</td>\n",
       "      <td>Default series</td>\n",
       "    </tr>\n",
       "    <tr>\n",
       "      <th>4</th>\n",
       "      <td>3100.0</td>\n",
       "      <td>14300.0</td>\n",
       "      <td>1925.714233</td>\n",
       "      <td>${\\bf{x}}_{\\alpha \\,{\\bf{0}},15}$</td>\n",
       "      <td>formation_0</td>\n",
       "      <td>1</td>\n",
       "      <td>1</td>\n",
       "      <td>False</td>\n",
       "      <td>1</td>\n",
       "      <td>Default series</td>\n",
       "    </tr>\n",
       "  </tbody>\n",
       "</table>\n",
       "</div>"
      ],
      "text/plain": [
       "         X        Y            Z                        annotations  \\\n",
       "0  26700.0  13500.0   648.571411   ${\\bf{x}}_{\\alpha \\,{\\bf{0}},0}$   \n",
       "1  12500.0  14300.0  1925.714233  ${\\bf{x}}_{\\alpha \\,{\\bf{0}},18}$   \n",
       "2    100.0  13300.0    10.000000  ${\\bf{x}}_{\\alpha \\,{\\bf{0}},17}$   \n",
       "3   1500.0  14500.0  2351.428467  ${\\bf{x}}_{\\alpha \\,{\\bf{0}},16}$   \n",
       "4   3100.0  14300.0  1925.714233  ${\\bf{x}}_{\\alpha \\,{\\bf{0}},15}$   \n",
       "\n",
       "     formation  formation_number  formation_value  isFault  order_series  \\\n",
       "0  formation_0                 1                1    False             1   \n",
       "1  formation_0                 1                1    False             1   \n",
       "2  formation_0                 1                1    False             1   \n",
       "3  formation_0                 1                1    False             1   \n",
       "4  formation_0                 1                1    False             1   \n",
       "\n",
       "           series  \n",
       "0  Default series  \n",
       "1  Default series  \n",
       "2  Default series  \n",
       "3  Default series  \n",
       "4  Default series  "
      ]
     },
     "execution_count": 14,
     "metadata": {},
     "output_type": "execute_result"
    }
   ],
   "source": [
    "geo_data.interfaces.head()"
   ]
  },
  {
   "cell_type": "code",
   "execution_count": 113,
   "metadata": {},
   "outputs": [
    {
     "data": {
      "text/plain": [
       "array([-8000, 38000, -8000, 38000, -5000,  3000])"
      ]
     },
     "execution_count": 113,
     "metadata": {},
     "output_type": "execute_result"
    }
   ],
   "source": [
    "geo_data.extent"
   ]
  },
  {
   "cell_type": "code",
   "execution_count": 15,
   "metadata": {},
   "outputs": [
    {
     "name": "stdout",
     "output_type": "stream",
     "text": [
      "\n"
     ]
    },
    {
     "data": {
      "text/html": [
       "<div>\n",
       "<style scoped>\n",
       "    .dataframe tbody tr th:only-of-type {\n",
       "        vertical-align: middle;\n",
       "    }\n",
       "\n",
       "    .dataframe tbody tr th {\n",
       "        vertical-align: top;\n",
       "    }\n",
       "\n",
       "    .dataframe thead th {\n",
       "        text-align: right;\n",
       "    }\n",
       "</style>\n",
       "<table border=\"1\" class=\"dataframe\">\n",
       "  <thead>\n",
       "    <tr style=\"text-align: right;\">\n",
       "      <th></th>\n",
       "      <th>X</th>\n",
       "      <th>Y</th>\n",
       "      <th>Z</th>\n",
       "      <th>G_x</th>\n",
       "      <th>G_y</th>\n",
       "      <th>G_z</th>\n",
       "      <th>dip</th>\n",
       "      <th>azimuth</th>\n",
       "      <th>polarity</th>\n",
       "      <th>formation</th>\n",
       "      <th>series</th>\n",
       "      <th>formation_number</th>\n",
       "      <th>order_series</th>\n",
       "      <th>isFault</th>\n",
       "      <th>annotations</th>\n",
       "      <th>formation_value</th>\n",
       "    </tr>\n",
       "  </thead>\n",
       "  <tbody>\n",
       "    <tr>\n",
       "      <th>0</th>\n",
       "      <td>14125.0</td>\n",
       "      <td>13900.0</td>\n",
       "      <td>1180.714283</td>\n",
       "      <td>-0.003451</td>\n",
       "      <td>-0.875319</td>\n",
       "      <td>0.483534</td>\n",
       "      <td>61.083522</td>\n",
       "      <td>180.225899</td>\n",
       "      <td>1.0</td>\n",
       "      <td>formation_0</td>\n",
       "      <td>Default series</td>\n",
       "      <td>1</td>\n",
       "      <td>1</td>\n",
       "      <td>False</td>\n",
       "      <td>${\\bf{x}}_{\\beta \\,{\\bf{1}},0}$</td>\n",
       "      <td>1</td>\n",
       "    </tr>\n",
       "  </tbody>\n",
       "</table>\n",
       "</div>"
      ],
      "text/plain": [
       "         X        Y            Z       G_x       G_y       G_z        dip  \\\n",
       "0  14125.0  13900.0  1180.714283 -0.003451 -0.875319  0.483534  61.083522   \n",
       "\n",
       "      azimuth  polarity    formation          series  formation_number  \\\n",
       "0  180.225899       1.0  formation_0  Default series                 1   \n",
       "\n",
       "   order_series  isFault                      annotations  formation_value  \n",
       "0             1    False  ${\\bf{x}}_{\\beta \\,{\\bf{1}},0}$                1  "
      ]
     },
     "execution_count": 15,
     "metadata": {},
     "output_type": "execute_result"
    }
   ],
   "source": [
    "# Setting orientation from interfaces\n",
    "gp.set_orientation_from_interfaces(geo_data, [5,6,7,8,9,10,11,12])"
   ]
  },
  {
   "cell_type": "code",
   "execution_count": 115,
   "metadata": {},
   "outputs": [],
   "source": [
    "#gp.plotting.plot_data_3D(geo_data)"
   ]
  },
  {
   "cell_type": "code",
   "execution_count": 116,
   "metadata": {},
   "outputs": [
    {
     "data": {
      "image/png": "[encoded data removed]",
      "text/plain": [
       "<matplotlib.figure.Figure at 0x7f8442a52b38>"
      ]
     },
     "metadata": {},
     "output_type": "display_data"
    }
   ],
   "source": [
    "gp.plotting.plot_data(geo_data, direction='z')"
   ]
  },
  {
   "cell_type": "markdown",
   "metadata": {},
   "source": [
    "### Computing and visualizing gempy model"
   ]
  },
  {
   "cell_type": "code",
   "execution_count": 16,
   "metadata": {},
   "outputs": [
    {
     "name": "stdout",
     "output_type": "stream",
     "text": [
      "Compiling theano function...\n",
      "Compilation Done!\n",
      "Level of Optimization:  fast_compile\n",
      "Device:  cpu\n",
      "Precision:  float32\n",
      "Number of faults:  0\n"
     ]
    }
   ],
   "source": [
    "interp_data = gp.InterpolatorData(geo_data, compile_theano=True)"
   ]
  },
  {
   "cell_type": "code",
   "execution_count": 17,
   "metadata": {},
   "outputs": [],
   "source": [
    "lith, fault = gp.compute_model(interp_data)"
   ]
  },
  {
   "cell_type": "code",
   "execution_count": 18,
   "metadata": {},
   "outputs": [
    {
     "data": {
      "image/png": "[encoded data removed]",
      "text/plain": [
       "<matplotlib.figure.Figure at 0x7f3536c7bb38>"
      ]
     },
     "metadata": {},
     "output_type": "display_data"
    }
   ],
   "source": [
    "%matplotlib inline\n",
    "gp.plotting.plot_section(geo_data, lith[0], 25, direction='x', plot_data= True)"
   ]
  },
  {
   "cell_type": "code",
   "execution_count": 21,
   "metadata": {
    "run_control": {
     "marked": true
    }
   },
   "outputs": [
    {
     "name": "stdout",
     "output_type": "stream",
     "text": [
      "closing vtk\n"
     ]
    },
    {
     "data": {
      "text/plain": [
       "<gempy.plotting.plot.vtkPlot at 0x7f848300bb70>"
      ]
     },
     "execution_count": 21,
     "metadata": {},
     "output_type": "execute_result"
    }
   ],
   "source": [
    "ver, sim = gp.get_surfaces(interp_data, lith[1], None)\n",
    "#gp.plotting.plot_surfaces_3D_real_time(geo_data, interp_data, ver, sim)"
   ]
  },
  {
   "cell_type": "markdown",
   "metadata": {},
   "source": [
    "## Comparing physics\n",
    "### pynoddy gravity\n",
    "\n",
    "Density is 2.5 and 3.5"
   ]
  },
  {
   "cell_type": "code",
   "execution_count": 22,
   "metadata": {},
   "outputs": [
    {
     "data": {
      "text/plain": [
       "''"
      ]
     },
     "execution_count": 22,
     "metadata": {},
     "output_type": "execute_result"
    }
   ],
   "source": [
    "pynoddy.compute_model(history_name, output, sim_type = 'GEOPHYSICS')"
   ]
  },
  {
   "cell_type": "code",
   "execution_count": 23,
   "metadata": {},
   "outputs": [],
   "source": [
    "geophys1 = pynoddy.output.NoddyGeophysics(output)"
   ]
  },
  {
   "cell_type": "code",
   "execution_count": 24,
   "metadata": {},
   "outputs": [
    {
     "data": {
      "text/plain": [
       "<matplotlib.colorbar.Colorbar at 0x7f849f4e63c8>"
      ]
     },
     "execution_count": 24,
     "metadata": {},
     "output_type": "execute_result"
    },
    {
     "data": {
      "image/png": "[encoded data removed]",
      "text/plain": [
       "<matplotlib.figure.Figure at 0x7f847393f048>"
      ]
     },
     "metadata": {},
     "output_type": "display_data"
    }
   ],
   "source": [
    "import matplotlib.pyplot as plt\n",
    "\n",
    "plt.imshow(geophys1.grv_data, cmap='viridis', origin='lower',\n",
    "           extent=extent[:-2] )\n",
    "plt.colorbar()"
   ]
  },
  {
   "cell_type": "markdown",
   "metadata": {},
   "source": [
    "### GemPy Gravity"
   ]
  },
  {
   "cell_type": "code",
   "execution_count": 117,
   "metadata": {},
   "outputs": [
    {
     "data": {
      "text/html": [
       "<div>\n",
       "<style scoped>\n",
       "    .dataframe tbody tr th:only-of-type {\n",
       "        vertical-align: middle;\n",
       "    }\n",
       "\n",
       "    .dataframe tbody tr th {\n",
       "        vertical-align: top;\n",
       "    }\n",
       "\n",
       "    .dataframe thead th {\n",
       "        text-align: right;\n",
       "    }\n",
       "</style>\n",
       "<table border=\"1\" class=\"dataframe\">\n",
       "  <thead>\n",
       "    <tr style=\"text-align: right;\">\n",
       "      <th></th>\n",
       "      <th>value</th>\n",
       "      <th>formation_number</th>\n",
       "    </tr>\n",
       "  </thead>\n",
       "  <tbody>\n",
       "    <tr>\n",
       "      <th>formation_0</th>\n",
       "      <td>1</td>\n",
       "      <td>1</td>\n",
       "    </tr>\n",
       "    <tr>\n",
       "      <th>basement</th>\n",
       "      <td>2</td>\n",
       "      <td>2</td>\n",
       "    </tr>\n",
       "  </tbody>\n",
       "</table>\n",
       "</div>"
      ],
      "text/plain": [
       "             value  formation_number\n",
       "formation_0      1                 1\n",
       "basement         2                 2"
      ]
     },
     "execution_count": 117,
     "metadata": {},
     "output_type": "execute_result"
    }
   ],
   "source": [
    "gp.get_data(geo_data, 'formations')"
   ]
  },
  {
   "cell_type": "code",
   "execution_count": 19,
   "metadata": {},
   "outputs": [
    {
     "data": {
      "text/html": [
       "<div>\n",
       "<style scoped>\n",
       "    .dataframe tbody tr th:only-of-type {\n",
       "        vertical-align: middle;\n",
       "    }\n",
       "\n",
       "    .dataframe tbody tr th {\n",
       "        vertical-align: top;\n",
       "    }\n",
       "\n",
       "    .dataframe thead th {\n",
       "        text-align: right;\n",
       "    }\n",
       "</style>\n",
       "<table border=\"1\" class=\"dataframe\">\n",
       "  <thead>\n",
       "    <tr style=\"text-align: right;\">\n",
       "      <th></th>\n",
       "      <th>value</th>\n",
       "      <th>formation_number</th>\n",
       "    </tr>\n",
       "  </thead>\n",
       "  <tbody>\n",
       "    <tr>\n",
       "      <th>formation_0</th>\n",
       "      <td>2.5</td>\n",
       "      <td>1</td>\n",
       "    </tr>\n",
       "    <tr>\n",
       "      <th>basement</th>\n",
       "      <td>3.5</td>\n",
       "      <td>2</td>\n",
       "    </tr>\n",
       "  </tbody>\n",
       "</table>\n",
       "</div>"
      ],
      "text/plain": [
       "             value  formation_number\n",
       "formation_0    2.5                 1\n",
       "basement       3.5                 2"
      ]
     },
     "execution_count": 19,
     "metadata": {},
     "output_type": "execute_result"
    }
   ],
   "source": [
    "gp.set_formations(geo_data, formations_values=[2.5, 3.5])"
   ]
  },
  {
   "cell_type": "code",
   "execution_count": 20,
   "metadata": {},
   "outputs": [
    {
     "name": "stdout",
     "output_type": "stream",
     "text": [
      "Compiling theano function...\n",
      "Compilation Done!\n",
      "Level of Optimization:  fast_compile\n",
      "Device:  cpu\n",
      "Precision:  float32\n",
      "Number of faults:  0\n"
     ]
    }
   ],
   "source": [
    "interp_data_grav = gp.InterpolatorData(geo_data, output='gravity',\n",
    "                                       compile_theano=True)"
   ]
  },
  {
   "cell_type": "code",
   "execution_count": 21,
   "metadata": {},
   "outputs": [
    {
     "ename": "NameError",
     "evalue": "name 'geophys1' is not defined",
     "output_type": "error",
     "traceback": [
      "\u001b[0;31m---------------------------------------------------------------------------\u001b[0m",
      "\u001b[0;31mNameError\u001b[0m                                 Traceback (most recent call last)",
      "\u001b[0;32m<ipython-input-21-0a54d7510ffd>\u001b[0m in \u001b[0;36m<module>\u001b[0;34m()\u001b[0m\n\u001b[0;32m----> 1\u001b[0;31m \u001b[0mgeophys1\u001b[0m\u001b[0;34m.\u001b[0m\u001b[0mgrv_data\u001b[0m\u001b[0;34m.\u001b[0m\u001b[0mshape\u001b[0m\u001b[0;34m\u001b[0m\u001b[0m\n\u001b[0m",
      "\u001b[0;31mNameError\u001b[0m: name 'geophys1' is not defined"
     ]
    }
   ],
   "source": [
    "geophys1.grv_data.shape"
   ]
  },
  {
   "cell_type": "code",
   "execution_count": 22,
   "metadata": {},
   "outputs": [
    {
     "data": {
      "text/plain": [
       "<gempy.geophysics.GravityPreprocessing at 0x7f350e17f160>"
      ]
     },
     "execution_count": 22,
     "metadata": {},
     "output_type": "execute_result"
    }
   ],
   "source": [
    "gp.set_geophysics_obj(interp_data_grav,\n",
    "                      extent,\n",
    "                      [50, 50])\n"
   ]
  },
  {
   "cell_type": "code",
   "execution_count": 23,
   "metadata": {},
   "outputs": [
    {
     "data": {
      "text/plain": [
       "16000.0"
      ]
     },
     "execution_count": 23,
     "metadata": {},
     "output_type": "execute_result"
    }
   ],
   "source": [
    "100*100*40/25"
   ]
  },
  {
   "cell_type": "code",
   "execution_count": 24,
   "metadata": {},
   "outputs": [],
   "source": [
    "gp.precomputations_gravity(interp_data_grav, 20);"
   ]
  },
  {
   "cell_type": "code",
   "execution_count": 133,
   "metadata": {},
   "outputs": [],
   "source": [
    "interp_data_grav.update_interpolator(geo_data)"
   ]
  },
  {
   "cell_type": "code",
   "execution_count": 36,
   "metadata": {},
   "outputs": [
    {
     "data": {
      "text/plain": [
       "0.094297082228116669"
      ]
     },
     "execution_count": 36,
     "metadata": {},
     "output_type": "execute_result"
    }
   ],
   "source": [
    "interp_data_grav.geophy.range_max"
   ]
  },
  {
   "cell_type": "code",
   "execution_count": 39,
   "metadata": {},
   "outputs": [
    {
     "data": {
      "text/plain": [
       "0.1061007957559682"
      ]
     },
     "execution_count": 39,
     "metadata": {},
     "output_type": "execute_result"
    }
   ],
   "source": [
    "interp_data_grav.geo_data_res.extent[5]-interp_data_grav.geo_data_res.extent[4]"
   ]
  },
  {
   "cell_type": "code",
   "execution_count": 40,
   "metadata": {},
   "outputs": [
    {
     "data": {
      "text/plain": [
       "array([ 0.2501    ,  0.86017958,  0.3495695 ,  0.95964907,  0.44852743,\n",
       "        0.55462823])"
      ]
     },
     "execution_count": 40,
     "metadata": {},
     "output_type": "execute_result"
    }
   ],
   "source": [
    "interp_data_grav.geo_data_res.extent"
   ]
  },
  {
   "cell_type": "code",
   "execution_count": 134,
   "metadata": {},
   "outputs": [
    {
     "data": {
      "text/plain": [
       "0.68249464"
      ]
     },
     "execution_count": 134,
     "metadata": {},
     "output_type": "execute_result"
    }
   ],
   "source": [
    "interp_data_grav.interpolator.tg.tz.get_value()[0].sum()"
   ]
  },
  {
   "cell_type": "code",
   "execution_count": 25,
   "metadata": {},
   "outputs": [],
   "source": [
    "lith2, fault, grav = gp.compute_model(interp_data_grav, 'gravity')"
   ]
  },
  {
   "cell_type": "code",
   "execution_count": 26,
   "metadata": {},
   "outputs": [
    {
     "data": {
      "text/plain": [
       "<matplotlib.colorbar.Colorbar at 0x7f350d27f160>"
      ]
     },
     "execution_count": 26,
     "metadata": {},
     "output_type": "execute_result"
    },
    {
     "data": {
      "image/png": "[encoded data removed]",
      "text/plain": [
       "<matplotlib.figure.Figure at 0x7f350e55d4a8>"
      ]
     },
     "metadata": {},
     "output_type": "display_data"
    }
   ],
   "source": [
    "import matplotlib.pyplot as plt\n",
    "\n",
    "plt.imshow(grav.reshape(50, 50), cmap='viridis', origin='lower',\n",
    "           extent=extent[:-2] )\n",
    "plt.colorbar()"
   ]
  },
  {
   "cell_type": "markdown",
   "metadata": {},
   "source": [
    "### Comparing gravities\n",
    "\n",
    "We set gempy values to to noddys"
   ]
  },
  {
   "cell_type": "code",
   "execution_count": 147,
   "metadata": {},
   "outputs": [],
   "source": [
    "G = grav.reshape(50, 50)\n",
    "N = geophys1.grv_data\n",
    "\n",
    "# rs_min, rs_max = np.min(grav_real['G']), np.max(grav_real['G'])\n",
    "# rs_range = rs_max - rs_min\n",
    "# rs_mid = 0.5*(rs_max+rs_min)\n",
    "\n",
    "# Calibration parameters\n",
    "G_min, G_max =  np.min(G), np.max(G)   #36.630742, 36.651496    #30.159309, 30.174104#\n",
    "N_min, N_max = np.min(N), np.max(N)\n",
    "\n",
    "# Average\n",
    "G_mid = 0.5 * (G_max + G_min)\n",
    "N_mid = 0.5 * (N_max + N_min)\n",
    "\n",
    "# Shifting\n",
    "G_range = G_max - G_min\n",
    "N_range = N_max - N_min\n",
    " \n",
    "\n",
    "# Rescaling\n",
    "Reescaled_G = N_mid + (G - G_mid) / G_range * N_range\n",
    "\n",
    "# e_sq = T.sqrt(T.sum(T.square(Reescaled_G - (grav_real_th))))"
   ]
  },
  {
   "cell_type": "code",
   "execution_count": 148,
   "metadata": {},
   "outputs": [
    {
     "data": {
      "text/plain": [
       "(376.189, 376.18897500000003, 278.55212, 278.55208800000003)"
      ]
     },
     "execution_count": 148,
     "metadata": {},
     "output_type": "execute_result"
    },
    {
     "data": {
      "image/png": "[encoded data removed]",
      "text/plain": [
       "<matplotlib.figure.Figure at 0x7f84345f1dd8>"
      ]
     },
     "metadata": {},
     "output_type": "display_data"
    }
   ],
   "source": [
    "import matplotlib.pyplot as plt\n",
    "\n",
    "plt.imshow(Reescaled_G.reshape(50, 50), cmap='viridis', origin='lower',\n",
    "           extent=extent[:-2] )\n",
    "plt.colorbar()\n",
    "Reescaled_G.max(), N.max(), Reescaled_G.min(), N.min()"
   ]
  },
  {
   "cell_type": "markdown",
   "metadata": {},
   "source": [
    "### Dif plot"
   ]
  },
  {
   "cell_type": "code",
   "execution_count": 140,
   "metadata": {},
   "outputs": [
    {
     "data": {
      "text/plain": [
       "<matplotlib.colorbar.Colorbar at 0x7f8436deb320>"
      ]
     },
     "execution_count": 140,
     "metadata": {},
     "output_type": "execute_result"
    },
    {
     "data": {
      "image/png": "[encoded data removed]",
      "text/plain": [
       "<matplotlib.figure.Figure at 0x7f84390b4cf8>"
      ]
     },
     "metadata": {},
     "output_type": "display_data"
    }
   ],
   "source": [
    "plt.imshow(Reescaled_G - N, cmap='bwr', origin='R',\n",
    "           extent=extent[:-2], vmin=-50, vmax=50)\n",
    "plt.colorbar()"
   ]
  },
  {
   "cell_type": "code",
   "execution_count": 150,
   "metadata": {},
   "outputs": [
    {
     "data": {
      "text/plain": [
       "<matplotlib.legend.Legend at 0x7f843446bda0>"
      ]
     },
     "execution_count": 150,
     "metadata": {},
     "output_type": "execute_result"
    },
    {
     "data": {
      "image/png": "[encoded data removed]",
      "text/plain": [
       "<matplotlib.figure.Figure at 0x7f84344df198>"
      ]
     },
     "metadata": {},
     "output_type": "display_data"
    }
   ],
   "source": [
    "# # his.determine_model_stratigraphy()\n",
    "# h_out.plot_section('x', \n",
    "#                    layer_labels = his.model_stratigraphy, \n",
    "#                    colorbar_orientation = 'horizontal', \n",
    "#                    colorbar=False,\n",
    "#                    title = '',\n",
    "# #                   savefig=True, fig_filename = 'fold_thrust_NS_section.eps',\n",
    "#                    cmap = 'YlOrRd')\n",
    "\n",
    "gp.plotting.plot_section(geo_data, lith[0], 30, direction='x', plot_data= True)\n",
    "plt.plot(np.linspace(0,30000, 50),\n",
    "         (geophys1.grv_data[:,25] - geophys1.grv_data[:,0].min()) * 30, linewidth = 5, label = 'noddy', c='black')\n",
    "plt.plot(np.linspace(0,30000, 50),\n",
    "          (Reescaled_G[:, 0] - Reescaled_G[:, 25].min()) * 30,  linewidth = 5, label = 'gempy', c = 'white')\n",
    "plt.legend()"
   ]
  },
  {
   "cell_type": "code",
   "execution_count": 30,
   "metadata": {},
   "outputs": [
    {
     "data": {
      "text/plain": [
       "array([ 1.74333119,  1.74333119,  1.74333119,  1.74333119,  1.74333119,\n",
       "        1.74333119,  1.74333119,  1.74333119,  1.74333119,  1.74342871,\n",
       "        1.75033331,  1.76679206,  1.79112649,  1.82364154,  1.86370587,\n",
       "        1.91272306,  1.97329605,  2.13619423,  2.24294043,  2.36975527,\n",
       "        2.51510119,  2.6642108 ,  2.74467134,  2.71150923,  2.64108276,\n",
       "        2.59232497,  2.55815768,  2.53238177,  2.51216555,  2.49623895,\n",
       "        2.48189807,  2.47007823,  2.45945096,  2.44456005,  2.44114304,\n",
       "        2.44066358,  2.44066358,  2.44066358,  2.44066358,  2.44066358,\n",
       "        2.44066358,  2.44066358,  2.44066358,  2.44066358,  2.44066358,\n",
       "        2.44066358,  2.44066358,  2.44066358,  2.44066358,  2.44066358], dtype=float32)"
      ]
     },
     "execution_count": 30,
     "metadata": {},
     "output_type": "execute_result"
    }
   ],
   "source": [
    "grav.reshape(50, 50)[:, 0] "
   ]
  },
  {
   "cell_type": "code",
   "execution_count": 31,
   "metadata": {},
   "outputs": [
    {
     "data": {
      "text/plain": [
       "<matplotlib.legend.Legend at 0x7f350d15dac8>"
      ]
     },
     "execution_count": 31,
     "metadata": {},
     "output_type": "execute_result"
    },
    {
     "data": {
      "image/png": "[encoded data removed]",
      "text/plain": [
       "<matplotlib.figure.Figure at 0x7f350d1ce5c0>"
      ]
     },
     "metadata": {},
     "output_type": "display_data"
    }
   ],
   "source": [
    "gp.plotting.plot_section(geo_data, lith[0], 30, direction='x', plot_data= True)\n",
    "\n",
    "plt.plot(np.linspace(0,30000, 50),\n",
    "          (grav.reshape(50, 50)[:, 25] - grav.reshape(50, 50)[:, 25].min()) * 3000,  linewidth = 5, label = 'gempy', c = 'white')\n",
    "plt.legend()\n"
   ]
  },
  {
   "cell_type": "code",
   "execution_count": 42,
   "metadata": {},
   "outputs": [
    {
     "data": {
      "application/javascript": [
       "/* Put everything inside the global mpl namespace */\n",
       "window.mpl = {};\n",
       "\n",
       "\n",
       "mpl.get_websocket_type = function() {\n",
       "    if (typeof(WebSocket) !== 'undefined') {\n",
       "        return WebSocket;\n",
       "    } else if (typeof(MozWebSocket) !== 'undefined') {\n",
       "        return MozWebSocket;\n",
       "    } else {\n",
       "        alert('Your browser does not have WebSocket support.' +\n",
       "              'Please try Chrome, Safari or Firefox ≥ 6. ' +\n",
       "              'Firefox 4 and 5 are also supported but you ' +\n",
       "              'have to enable WebSockets in about:config.');\n",
       "    };\n",
       "}\n",
       "\n",
       "mpl.figure = function(figure_id, websocket, ondownload, parent_element) {\n",
       "    this.id = figure_id;\n",
       "\n",
       "    this.ws = websocket;\n",
       "\n",
       "    this.supports_binary = (this.ws.binaryType != undefined);\n",
       "\n",
       "    if (!this.supports_binary) {\n",
       "        var warnings = document.getElementById(\"mpl-warnings\");\n",
       "        if (warnings) {\n",
       "            warnings.style.display = 'block';\n",
       "            warnings.textContent = (\n",
       "                \"This browser does not support binary websocket messages. \" +\n",
       "                    \"Performance may be slow.\");\n",
       "        }\n",
       "    }\n",
       "\n",
       "    this.imageObj = new Image();\n",
       "\n",
       "    this.context = undefined;\n",
       "    this.message = undefined;\n",
       "    this.canvas = undefined;\n",
       "    this.rubberband_canvas = undefined;\n",
       "    this.rubberband_context = undefined;\n",
       "    this.format_dropdown = undefined;\n",
       "\n",
       "    this.image_mode = 'full';\n",
       "\n",
       "    this.root = $('<div/>');\n",
       "    this._root_extra_style(this.root)\n",
       "    this.root.attr('style', 'display: inline-block');\n",
       "\n",
       "    $(parent_element).append(this.root);\n",
       "\n",
       "    this._init_header(this);\n",
       "    this._init_canvas(this);\n",
       "    this._init_toolbar(this);\n",
       "\n",
       "    var fig = this;\n",
       "\n",
       "    this.waiting = false;\n",
       "\n",
       "    this.ws.onopen =  function () {\n",
       "            fig.send_message(\"supports_binary\", {value: fig.supports_binary});\n",
       "            fig.send_message(\"send_image_mode\", {});\n",
       "            if (mpl.ratio != 1) {\n",
       "                fig.send_message(\"set_dpi_ratio\", {'dpi_ratio': mpl.ratio});\n",
       "            }\n",
       "            fig.send_message(\"refresh\", {});\n",
       "        }\n",
       "\n",
       "    this.imageObj.onload = function() {\n",
       "            if (fig.image_mode == 'full') {\n",
       "                // Full images could contain transparency (where diff images\n",
       "                // almost always do), so we need to clear the canvas so that\n",
       "                // there is no ghosting.\n",
       "                fig.context.clearRect(0, 0, fig.canvas.width, fig.canvas.height);\n",
       "            }\n",
       "            fig.context.drawImage(fig.imageObj, 0, 0);\n",
       "        };\n",
       "\n",
       "    this.imageObj.onunload = function() {\n",
       "        fig.ws.close();\n",
       "    }\n",
       "\n",
       "    this.ws.onmessage = this._make_on_message_function(this);\n",
       "\n",
       "    this.ondownload = ondownload;\n",
       "}\n",
       "\n",
       "mpl.figure.prototype._init_header = function() {\n",
       "    var titlebar = $(\n",
       "        '<div class=\"ui-dialog-titlebar ui-widget-header ui-corner-all ' +\n",
       "        'ui-helper-clearfix\"/>');\n",
       "    var titletext = $(\n",
       "        '<div class=\"ui-dialog-title\" style=\"width: 100%; ' +\n",
       "        'text-align: center; padding: 3px;\"/>');\n",
       "    titlebar.append(titletext)\n",
       "    this.root.append(titlebar);\n",
       "    this.header = titletext[0];\n",
       "}\n",
       "\n",
       "\n",
       "\n",
       "mpl.figure.prototype._canvas_extra_style = function(canvas_div) {\n",
       "\n",
       "}\n",
       "\n",
       "\n",
       "mpl.figure.prototype._root_extra_style = function(canvas_div) {\n",
       "\n",
       "}\n",
       "\n",
       "mpl.figure.prototype._init_canvas = function() {\n",
       "    var fig = this;\n",
       "\n",
       "    var canvas_div = $('<div/>');\n",
       "\n",
       "    canvas_div.attr('style', 'position: relative; clear: both; outline: 0');\n",
       "\n",
       "    function canvas_keyboard_event(event) {\n",
       "        return fig.key_event(event, event['data']);\n",
       "    }\n",
       "\n",
       "    canvas_div.keydown('key_press', canvas_keyboard_event);\n",
       "    canvas_div.keyup('key_release', canvas_keyboard_event);\n",
       "    this.canvas_div = canvas_div\n",
       "    this._canvas_extra_style(canvas_div)\n",
       "    this.root.append(canvas_div);\n",
       "\n",
       "    var canvas = $('<canvas/>');\n",
       "    canvas.addClass('mpl-canvas');\n",
       "    canvas.attr('style', \"left: 0; top: 0; z-index: 0; outline: 0\")\n",
       "\n",
       "    this.canvas = canvas[0];\n",
       "    this.context = canvas[0].getContext(\"2d\");\n",
       "\n",
       "    var backingStore = this.context.backingStorePixelRatio ||\n",
       "\tthis.context.webkitBackingStorePixelRatio ||\n",
       "\tthis.context.mozBackingStorePixelRatio ||\n",
       "\tthis.context.msBackingStorePixelRatio ||\n",
       "\tthis.context.oBackingStorePixelRatio ||\n",
       "\tthis.context.backingStorePixelRatio || 1;\n",
       "\n",
       "    mpl.ratio = (window.devicePixelRatio || 1) / backingStore;\n",
       "\n",
       "    var rubberband = $('<canvas/>');\n",
       "    rubberband.attr('style', \"position: absolute; left: 0; top: 0; z-index: 1;\")\n",
       "\n",
       "    var pass_mouse_events = true;\n",
       "\n",
       "    canvas_div.resizable({\n",
       "        start: function(event, ui) {\n",
       "            pass_mouse_events = false;\n",
       "        },\n",
       "        resize: function(event, ui) {\n",
       "            fig.request_resize(ui.size.width, ui.size.height);\n",
       "        },\n",
       "        stop: function(event, ui) {\n",
       "            pass_mouse_events = true;\n",
       "            fig.request_resize(ui.size.width, ui.size.height);\n",
       "        },\n",
       "    });\n",
       "\n",
       "    function mouse_event_fn(event) {\n",
       "        if (pass_mouse_events)\n",
       "            return fig.mouse_event(event, event['data']);\n",
       "    }\n",
       "\n",
       "    rubberband.mousedown('button_press', mouse_event_fn);\n",
       "    rubberband.mouseup('button_release', mouse_event_fn);\n",
       "    // Throttle sequential mouse events to 1 every 20ms.\n",
       "    rubberband.mousemove('motion_notify', mouse_event_fn);\n",
       "\n",
       "    rubberband.mouseenter('figure_enter', mouse_event_fn);\n",
       "    rubberband.mouseleave('figure_leave', mouse_event_fn);\n",
       "\n",
       "    canvas_div.on(\"wheel\", function (event) {\n",
       "        event = event.originalEvent;\n",
       "        event['data'] = 'scroll'\n",
       "        if (event.deltaY < 0) {\n",
       "            event.step = 1;\n",
       "        } else {\n",
       "            event.step = -1;\n",
       "        }\n",
       "        mouse_event_fn(event);\n",
       "    });\n",
       "\n",
       "    canvas_div.append(canvas);\n",
       "    canvas_div.append(rubberband);\n",
       "\n",
       "    this.rubberband = rubberband;\n",
       "    this.rubberband_canvas = rubberband[0];\n",
       "    this.rubberband_context = rubberband[0].getContext(\"2d\");\n",
       "    this.rubberband_context.strokeStyle = \"#000000\";\n",
       "\n",
       "    this._resize_canvas = function(width, height) {\n",
       "        // Keep the size of the canvas, canvas container, and rubber band\n",
       "        // canvas in synch.\n",
       "        canvas_div.css('width', width)\n",
       "        canvas_div.css('height', height)\n",
       "\n",
       "        canvas.attr('width', width * mpl.ratio);\n",
       "        canvas.attr('height', height * mpl.ratio);\n",
       "        canvas.attr('style', 'width: ' + width + 'px; height: ' + height + 'px;');\n",
       "\n",
       "        rubberband.attr('width', width);\n",
       "        rubberband.attr('height', height);\n",
       "    }\n",
       "\n",
       "    // Set the figure to an initial 600x600px, this will subsequently be updated\n",
       "    // upon first draw.\n",
       "    this._resize_canvas(600, 600);\n",
       "\n",
       "    // Disable right mouse context menu.\n",
       "    $(this.rubberband_canvas).bind(\"contextmenu\",function(e){\n",
       "        return false;\n",
       "    });\n",
       "\n",
       "    function set_focus () {\n",
       "        canvas.focus();\n",
       "        canvas_div.focus();\n",
       "    }\n",
       "\n",
       "    window.setTimeout(set_focus, 100);\n",
       "}\n",
       "\n",
       "mpl.figure.prototype._init_toolbar = function() {\n",
       "    var fig = this;\n",
       "\n",
       "    var nav_element = $('<div/>')\n",
       "    nav_element.attr('style', 'width: 100%');\n",
       "    this.root.append(nav_element);\n",
       "\n",
       "    // Define a callback function for later on.\n",
       "    function toolbar_event(event) {\n",
       "        return fig.toolbar_button_onclick(event['data']);\n",
       "    }\n",
       "    function toolbar_mouse_event(event) {\n",
       "        return fig.toolbar_button_onmouseover(event['data']);\n",
       "    }\n",
       "\n",
       "    for(var toolbar_ind in mpl.toolbar_items) {\n",
       "        var name = mpl.toolbar_items[toolbar_ind][0];\n",
       "        var tooltip = mpl.toolbar_items[toolbar_ind][1];\n",
       "        var image = mpl.toolbar_items[toolbar_ind][2];\n",
       "        var method_name = mpl.toolbar_items[toolbar_ind][3];\n",
       "\n",
       "        if (!name) {\n",
       "            // put a spacer in here.\n",
       "            continue;\n",
       "        }\n",
       "        var button = $('<button/>');\n",
       "        button.addClass('ui-button ui-widget ui-state-default ui-corner-all ' +\n",
       "                        'ui-button-icon-only');\n",
       "        button.attr('role', 'button');\n",
       "        button.attr('aria-disabled', 'false');\n",
       "        button.click(method_name, toolbar_event);\n",
       "        button.mouseover(tooltip, toolbar_mouse_event);\n",
       "\n",
       "        var icon_img = $('<span/>');\n",
       "        icon_img.addClass('ui-button-icon-primary ui-icon');\n",
       "        icon_img.addClass(image);\n",
       "        icon_img.addClass('ui-corner-all');\n",
       "\n",
       "        var tooltip_span = $('<span/>');\n",
       "        tooltip_span.addClass('ui-button-text');\n",
       "        tooltip_span.html(tooltip);\n",
       "\n",
       "        button.append(icon_img);\n",
       "        button.append(tooltip_span);\n",
       "\n",
       "        nav_element.append(button);\n",
       "    }\n",
       "\n",
       "    var fmt_picker_span = $('<span/>');\n",
       "\n",
       "    var fmt_picker = $('<select/>');\n",
       "    fmt_picker.addClass('mpl-toolbar-option ui-widget ui-widget-content');\n",
       "    fmt_picker_span.append(fmt_picker);\n",
       "    nav_element.append(fmt_picker_span);\n",
       "    this.format_dropdown = fmt_picker[0];\n",
       "\n",
       "    for (var ind in mpl.extensions) {\n",
       "        var fmt = mpl.extensions[ind];\n",
       "        var option = $(\n",
       "            '<option/>', {selected: fmt === mpl.default_extension}).html(fmt);\n",
       "        fmt_picker.append(option)\n",
       "    }\n",
       "\n",
       "    // Add hover states to the ui-buttons\n",
       "    $( \".ui-button\" ).hover(\n",
       "        function() { $(this).addClass(\"ui-state-hover\");},\n",
       "        function() { $(this).removeClass(\"ui-state-hover\");}\n",
       "    );\n",
       "\n",
       "    var status_bar = $('<span class=\"mpl-message\"/>');\n",
       "    nav_element.append(status_bar);\n",
       "    this.message = status_bar[0];\n",
       "}\n",
       "\n",
       "mpl.figure.prototype.request_resize = function(x_pixels, y_pixels) {\n",
       "    // Request matplotlib to resize the figure. Matplotlib will then trigger a resize in the client,\n",
       "    // which will in turn request a refresh of the image.\n",
       "    this.send_message('resize', {'width': x_pixels, 'height': y_pixels});\n",
       "}\n",
       "\n",
       "mpl.figure.prototype.send_message = function(type, properties) {\n",
       "    properties['type'] = type;\n",
       "    properties['figure_id'] = this.id;\n",
       "    this.ws.send(JSON.stringify(properties));\n",
       "}\n",
       "\n",
       "mpl.figure.prototype.send_draw_message = function() {\n",
       "    if (!this.waiting) {\n",
       "        this.waiting = true;\n",
       "        this.ws.send(JSON.stringify({type: \"draw\", figure_id: this.id}));\n",
       "    }\n",
       "}\n",
       "\n",
       "\n",
       "mpl.figure.prototype.handle_save = function(fig, msg) {\n",
       "    var format_dropdown = fig.format_dropdown;\n",
       "    var format = format_dropdown.options[format_dropdown.selectedIndex].value;\n",
       "    fig.ondownload(fig, format);\n",
       "}\n",
       "\n",
       "\n",
       "mpl.figure.prototype.handle_resize = function(fig, msg) {\n",
       "    var size = msg['size'];\n",
       "    if (size[0] != fig.canvas.width || size[1] != fig.canvas.height) {\n",
       "        fig._resize_canvas(size[0], size[1]);\n",
       "        fig.send_message(\"refresh\", {});\n",
       "    };\n",
       "}\n",
       "\n",
       "mpl.figure.prototype.handle_rubberband = function(fig, msg) {\n",
       "    var x0 = msg['x0'] / mpl.ratio;\n",
       "    var y0 = (fig.canvas.height - msg['y0']) / mpl.ratio;\n",
       "    var x1 = msg['x1'] / mpl.ratio;\n",
       "    var y1 = (fig.canvas.height - msg['y1']) / mpl.ratio;\n",
       "    x0 = Math.floor(x0) + 0.5;\n",
       "    y0 = Math.floor(y0) + 0.5;\n",
       "    x1 = Math.floor(x1) + 0.5;\n",
       "    y1 = Math.floor(y1) + 0.5;\n",
       "    var min_x = Math.min(x0, x1);\n",
       "    var min_y = Math.min(y0, y1);\n",
       "    var width = Math.abs(x1 - x0);\n",
       "    var height = Math.abs(y1 - y0);\n",
       "\n",
       "    fig.rubberband_context.clearRect(\n",
       "        0, 0, fig.canvas.width, fig.canvas.height);\n",
       "\n",
       "    fig.rubberband_context.strokeRect(min_x, min_y, width, height);\n",
       "}\n",
       "\n",
       "mpl.figure.prototype.handle_figure_label = function(fig, msg) {\n",
       "    // Updates the figure title.\n",
       "    fig.header.textContent = msg['label'];\n",
       "}\n",
       "\n",
       "mpl.figure.prototype.handle_cursor = function(fig, msg) {\n",
       "    var cursor = msg['cursor'];\n",
       "    switch(cursor)\n",
       "    {\n",
       "    case 0:\n",
       "        cursor = 'pointer';\n",
       "        break;\n",
       "    case 1:\n",
       "        cursor = 'default';\n",
       "        break;\n",
       "    case 2:\n",
       "        cursor = 'crosshair';\n",
       "        break;\n",
       "    case 3:\n",
       "        cursor = 'move';\n",
       "        break;\n",
       "    }\n",
       "    fig.rubberband_canvas.style.cursor = cursor;\n",
       "}\n",
       "\n",
       "mpl.figure.prototype.handle_message = function(fig, msg) {\n",
       "    fig.message.textContent = msg['message'];\n",
       "}\n",
       "\n",
       "mpl.figure.prototype.handle_draw = function(fig, msg) {\n",
       "    // Request the server to send over a new figure.\n",
       "    fig.send_draw_message();\n",
       "}\n",
       "\n",
       "mpl.figure.prototype.handle_image_mode = function(fig, msg) {\n",
       "    fig.image_mode = msg['mode'];\n",
       "}\n",
       "\n",
       "mpl.figure.prototype.updated_canvas_event = function() {\n",
       "    // Called whenever the canvas gets updated.\n",
       "    this.send_message(\"ack\", {});\n",
       "}\n",
       "\n",
       "// A function to construct a web socket function for onmessage handling.\n",
       "// Called in the figure constructor.\n",
       "mpl.figure.prototype._make_on_message_function = function(fig) {\n",
       "    return function socket_on_message(evt) {\n",
       "        if (evt.data instanceof Blob) {\n",
       "            /* FIXME: We get \"Resource interpreted as Image but\n",
       "             * transferred with MIME type text/plain:\" errors on\n",
       "             * Chrome.  But how to set the MIME type?  It doesn't seem\n",
       "             * to be part of the websocket stream */\n",
       "            evt.data.type = \"image/png\";\n",
       "\n",
       "            /* Free the memory for the previous frames */\n",
       "            if (fig.imageObj.src) {\n",
       "                (window.URL || window.webkitURL).revokeObjectURL(\n",
       "                    fig.imageObj.src);\n",
       "            }\n",
       "\n",
       "            fig.imageObj.src = (window.URL || window.webkitURL).createObjectURL(\n",
       "                evt.data);\n",
       "            fig.updated_canvas_event();\n",
       "            fig.waiting = false;\n",
       "            return;\n",
       "        }\n",
       "        else if (typeof evt.data === 'string' && evt.data.slice(0, 21) == \"data:image/png;base64\") {\n",
       "            fig.imageObj.src = evt.data;\n",
       "            fig.updated_canvas_event();\n",
       "            fig.waiting = false;\n",
       "            return;\n",
       "        }\n",
       "\n",
       "        var msg = JSON.parse(evt.data);\n",
       "        var msg_type = msg['type'];\n",
       "\n",
       "        // Call the  \"handle_{type}\" callback, which takes\n",
       "        // the figure and JSON message as its only arguments.\n",
       "        try {\n",
       "            var callback = fig[\"handle_\" + msg_type];\n",
       "        } catch (e) {\n",
       "            console.log(\"No handler for the '\" + msg_type + \"' message type: \", msg);\n",
       "            return;\n",
       "        }\n",
       "\n",
       "        if (callback) {\n",
       "            try {\n",
       "                // console.log(\"Handling '\" + msg_type + \"' message: \", msg);\n",
       "                callback(fig, msg);\n",
       "            } catch (e) {\n",
       "                console.log(\"Exception inside the 'handler_\" + msg_type + \"' callback:\", e, e.stack, msg);\n",
       "            }\n",
       "        }\n",
       "    };\n",
       "}\n",
       "\n",
       "// from http://stackoverflow.com/questions/1114465/getting-mouse-location-in-canvas\n",
       "mpl.findpos = function(e) {\n",
       "    //this section is from http://www.quirksmode.org/js/events_properties.html\n",
       "    var targ;\n",
       "    if (!e)\n",
       "        e = window.event;\n",
       "    if (e.target)\n",
       "        targ = e.target;\n",
       "    else if (e.srcElement)\n",
       "        targ = e.srcElement;\n",
       "    if (targ.nodeType == 3) // defeat Safari bug\n",
       "        targ = targ.parentNode;\n",
       "\n",
       "    // jQuery normalizes the pageX and pageY\n",
       "    // pageX,Y are the mouse positions relative to the document\n",
       "    // offset() returns the position of the element relative to the document\n",
       "    var x = e.pageX - $(targ).offset().left;\n",
       "    var y = e.pageY - $(targ).offset().top;\n",
       "\n",
       "    return {\"x\": x, \"y\": y};\n",
       "};\n",
       "\n",
       "/*\n",
       " * return a copy of an object with only non-object keys\n",
       " * we need this to avoid circular references\n",
       " * http://stackoverflow.com/a/24161582/3208463\n",
       " */\n",
       "function simpleKeys (original) {\n",
       "  return Object.keys(original).reduce(function (obj, key) {\n",
       "    if (typeof original[key] !== 'object')\n",
       "        obj[key] = original[key]\n",
       "    return obj;\n",
       "  }, {});\n",
       "}\n",
       "\n",
       "mpl.figure.prototype.mouse_event = function(event, name) {\n",
       "    var canvas_pos = mpl.findpos(event)\n",
       "\n",
       "    if (name === 'button_press')\n",
       "    {\n",
       "        this.canvas.focus();\n",
       "        this.canvas_div.focus();\n",
       "    }\n",
       "\n",
       "    var x = canvas_pos.x * mpl.ratio;\n",
       "    var y = canvas_pos.y * mpl.ratio;\n",
       "\n",
       "    this.send_message(name, {x: x, y: y, button: event.button,\n",
       "                             step: event.step,\n",
       "                             guiEvent: simpleKeys(event)});\n",
       "\n",
       "    /* This prevents the web browser from automatically changing to\n",
       "     * the text insertion cursor when the button is pressed.  We want\n",
       "     * to control all of the cursor setting manually through the\n",
       "     * 'cursor' event from matplotlib */\n",
       "    event.preventDefault();\n",
       "    return false;\n",
       "}\n",
       "\n",
       "mpl.figure.prototype._key_event_extra = function(event, name) {\n",
       "    // Handle any extra behaviour associated with a key event\n",
       "}\n",
       "\n",
       "mpl.figure.prototype.key_event = function(event, name) {\n",
       "\n",
       "    // Prevent repeat events\n",
       "    if (name == 'key_press')\n",
       "    {\n",
       "        if (event.which === this._key)\n",
       "            return;\n",
       "        else\n",
       "            this._key = event.which;\n",
       "    }\n",
       "    if (name == 'key_release')\n",
       "        this._key = null;\n",
       "\n",
       "    var value = '';\n",
       "    if (event.ctrlKey && event.which != 17)\n",
       "        value += \"ctrl+\";\n",
       "    if (event.altKey && event.which != 18)\n",
       "        value += \"alt+\";\n",
       "    if (event.shiftKey && event.which != 16)\n",
       "        value += \"shift+\";\n",
       "\n",
       "    value += 'k';\n",
       "    value += event.which.toString();\n",
       "\n",
       "    this._key_event_extra(event, name);\n",
       "\n",
       "    this.send_message(name, {key: value,\n",
       "                             guiEvent: simpleKeys(event)});\n",
       "    return false;\n",
       "}\n",
       "\n",
       "mpl.figure.prototype.toolbar_button_onclick = function(name) {\n",
       "    if (name == 'download') {\n",
       "        this.handle_save(this, null);\n",
       "    } else {\n",
       "        this.send_message(\"toolbar_button\", {name: name});\n",
       "    }\n",
       "};\n",
       "\n",
       "mpl.figure.prototype.toolbar_button_onmouseover = function(tooltip) {\n",
       "    this.message.textContent = tooltip;\n",
       "};\n",
       "mpl.toolbar_items = [[\"Home\", \"Reset original view\", \"fa fa-home icon-home\", \"home\"], [\"Back\", \"Back to  previous view\", \"fa fa-arrow-left icon-arrow-left\", \"back\"], [\"Forward\", \"Forward to next view\", \"fa fa-arrow-right icon-arrow-right\", \"forward\"], [\"\", \"\", \"\", \"\"], [\"Pan\", \"Pan axes with left mouse, zoom with right\", \"fa fa-arrows icon-move\", \"pan\"], [\"Zoom\", \"Zoom to rectangle\", \"fa fa-square-o icon-check-empty\", \"zoom\"], [\"\", \"\", \"\", \"\"], [\"Download\", \"Download plot\", \"fa fa-floppy-o icon-save\", \"download\"]];\n",
       "\n",
       "mpl.extensions = [\"eps\", \"jpeg\", \"pdf\", \"png\", \"ps\", \"raw\", \"svg\", \"tif\"];\n",
       "\n",
       "mpl.default_extension = \"png\";var comm_websocket_adapter = function(comm) {\n",
       "    // Create a \"websocket\"-like object which calls the given IPython comm\n",
       "    // object with the appropriate methods. Currently this is a non binary\n",
       "    // socket, so there is still some room for performance tuning.\n",
       "    var ws = {};\n",
       "\n",
       "    ws.close = function() {\n",
       "        comm.close()\n",
       "    };\n",
       "    ws.send = function(m) {\n",
       "        //console.log('sending', m);\n",
       "        comm.send(m);\n",
       "    };\n",
       "    // Register the callback with on_msg.\n",
       "    comm.on_msg(function(msg) {\n",
       "        //console.log('receiving', msg['content']['data'], msg);\n",
       "        // Pass the mpl event to the overriden (by mpl) onmessage function.\n",
       "        ws.onmessage(msg['content']['data'])\n",
       "    });\n",
       "    return ws;\n",
       "}\n",
       "\n",
       "mpl.mpl_figure_comm = function(comm, msg) {\n",
       "    // This is the function which gets called when the mpl process\n",
       "    // starts-up an IPython Comm through the \"matplotlib\" channel.\n",
       "\n",
       "    var id = msg.content.data.id;\n",
       "    // Get hold of the div created by the display call when the Comm\n",
       "    // socket was opened in Python.\n",
       "    var element = $(\"#\" + id);\n",
       "    var ws_proxy = comm_websocket_adapter(comm)\n",
       "\n",
       "    function ondownload(figure, format) {\n",
       "        window.open(figure.imageObj.src);\n",
       "    }\n",
       "\n",
       "    var fig = new mpl.figure(id, ws_proxy,\n",
       "                           ondownload,\n",
       "                           element.get(0));\n",
       "\n",
       "    // Call onopen now - mpl needs it, as it is assuming we've passed it a real\n",
       "    // web socket which is closed, not our websocket->open comm proxy.\n",
       "    ws_proxy.onopen();\n",
       "\n",
       "    fig.parent_element = element.get(0);\n",
       "    fig.cell_info = mpl.find_output_cell(\"<div id='\" + id + \"'></div>\");\n",
       "    if (!fig.cell_info) {\n",
       "        console.error(\"Failed to find cell for figure\", id, fig);\n",
       "        return;\n",
       "    }\n",
       "\n",
       "    var output_index = fig.cell_info[2]\n",
       "    var cell = fig.cell_info[0];\n",
       "\n",
       "};\n",
       "\n",
       "mpl.figure.prototype.handle_close = function(fig, msg) {\n",
       "    var width = fig.canvas.width/mpl.ratio\n",
       "    fig.root.unbind('remove')\n",
       "\n",
       "    // Update the output cell to use the data from the current canvas.\n",
       "    fig.push_to_output();\n",
       "    var dataURL = fig.canvas.toDataURL();\n",
       "    // Re-enable the keyboard manager in IPython - without this line, in FF,\n",
       "    // the notebook keyboard shortcuts fail.\n",
       "    IPython.keyboard_manager.enable()\n",
       "    $(fig.parent_element).html('<img src=\"' + dataURL + '\" width=\"' + width + '\">');\n",
       "    fig.close_ws(fig, msg);\n",
       "}\n",
       "\n",
       "mpl.figure.prototype.close_ws = function(fig, msg){\n",
       "    fig.send_message('closing', msg);\n",
       "    // fig.ws.close()\n",
       "}\n",
       "\n",
       "mpl.figure.prototype.push_to_output = function(remove_interactive) {\n",
       "    // Turn the data on the canvas into data in the output cell.\n",
       "    var width = this.canvas.width/mpl.ratio\n",
       "    var dataURL = this.canvas.toDataURL();\n",
       "    this.cell_info[1]['text/html'] = '<img src=\"' + dataURL + '\" width=\"' + width + '\">';\n",
       "}\n",
       "\n",
       "mpl.figure.prototype.updated_canvas_event = function() {\n",
       "    // Tell IPython that the notebook contents must change.\n",
       "    IPython.notebook.set_dirty(true);\n",
       "    this.send_message(\"ack\", {});\n",
       "    var fig = this;\n",
       "    // Wait a second, then push the new image to the DOM so\n",
       "    // that it is saved nicely (might be nice to debounce this).\n",
       "    setTimeout(function () { fig.push_to_output() }, 1000);\n",
       "}\n",
       "\n",
       "mpl.figure.prototype._init_toolbar = function() {\n",
       "    var fig = this;\n",
       "\n",
       "    var nav_element = $('<div/>')\n",
       "    nav_element.attr('style', 'width: 100%');\n",
       "    this.root.append(nav_element);\n",
       "\n",
       "    // Define a callback function for later on.\n",
       "    function toolbar_event(event) {\n",
       "        return fig.toolbar_button_onclick(event['data']);\n",
       "    }\n",
       "    function toolbar_mouse_event(event) {\n",
       "        return fig.toolbar_button_onmouseover(event['data']);\n",
       "    }\n",
       "\n",
       "    for(var toolbar_ind in mpl.toolbar_items){\n",
       "        var name = mpl.toolbar_items[toolbar_ind][0];\n",
       "        var tooltip = mpl.toolbar_items[toolbar_ind][1];\n",
       "        var image = mpl.toolbar_items[toolbar_ind][2];\n",
       "        var method_name = mpl.toolbar_items[toolbar_ind][3];\n",
       "\n",
       "        if (!name) { continue; };\n",
       "\n",
       "        var button = $('<button class=\"btn btn-default\" href=\"#\" title=\"' + name + '\"><i class=\"fa ' + image + ' fa-lg\"></i></button>');\n",
       "        button.click(method_name, toolbar_event);\n",
       "        button.mouseover(tooltip, toolbar_mouse_event);\n",
       "        nav_element.append(button);\n",
       "    }\n",
       "\n",
       "    // Add the status bar.\n",
       "    var status_bar = $('<span class=\"mpl-message\" style=\"text-align:right; float: right;\"/>');\n",
       "    nav_element.append(status_bar);\n",
       "    this.message = status_bar[0];\n",
       "\n",
       "    // Add the close button to the window.\n",
       "    var buttongrp = $('<div class=\"btn-group inline pull-right\"></div>');\n",
       "    var button = $('<button class=\"btn btn-mini btn-primary\" href=\"#\" title=\"Stop Interaction\"><i class=\"fa fa-power-off icon-remove icon-large\"></i></button>');\n",
       "    button.click(function (evt) { fig.handle_close(fig, {}); } );\n",
       "    button.mouseover('Stop Interaction', toolbar_mouse_event);\n",
       "    buttongrp.append(button);\n",
       "    var titlebar = this.root.find($('.ui-dialog-titlebar'));\n",
       "    titlebar.prepend(buttongrp);\n",
       "}\n",
       "\n",
       "mpl.figure.prototype._root_extra_style = function(el){\n",
       "    var fig = this\n",
       "    el.on(\"remove\", function(){\n",
       "\tfig.close_ws(fig, {});\n",
       "    });\n",
       "}\n",
       "\n",
       "mpl.figure.prototype._canvas_extra_style = function(el){\n",
       "    // this is important to make the div 'focusable\n",
       "    el.attr('tabindex', 0)\n",
       "    // reach out to IPython and tell the keyboard manager to turn it's self\n",
       "    // off when our div gets focus\n",
       "\n",
       "    // location in version 3\n",
       "    if (IPython.notebook.keyboard_manager) {\n",
       "        IPython.notebook.keyboard_manager.register_events(el);\n",
       "    }\n",
       "    else {\n",
       "        // location in version 2\n",
       "        IPython.keyboard_manager.register_events(el);\n",
       "    }\n",
       "\n",
       "}\n",
       "\n",
       "mpl.figure.prototype._key_event_extra = function(event, name) {\n",
       "    var manager = IPython.notebook.keyboard_manager;\n",
       "    if (!manager)\n",
       "        manager = IPython.keyboard_manager;\n",
       "\n",
       "    // Check for shift+enter\n",
       "    if (event.shiftKey && event.which == 13) {\n",
       "        this.canvas_div.blur();\n",
       "        event.shiftKey = false;\n",
       "        // Send a \"J\" for go to next cell\n",
       "        event.which = 74;\n",
       "        event.keyCode = 74;\n",
       "        manager.command_mode();\n",
       "        manager.handle_keydown(event);\n",
       "    }\n",
       "}\n",
       "\n",
       "mpl.figure.prototype.handle_save = function(fig, msg) {\n",
       "    fig.ondownload(fig, null);\n",
       "}\n",
       "\n",
       "\n",
       "mpl.find_output_cell = function(html_output) {\n",
       "    // Return the cell and output element which can be found *uniquely* in the notebook.\n",
       "    // Note - this is a bit hacky, but it is done because the \"notebook_saving.Notebook\"\n",
       "    // IPython event is triggered only after the cells have been serialised, which for\n",
       "    // our purposes (turning an active figure into a static one), is too late.\n",
       "    var cells = IPython.notebook.get_cells();\n",
       "    var ncells = cells.length;\n",
       "    for (var i=0; i<ncells; i++) {\n",
       "        var cell = cells[i];\n",
       "        if (cell.cell_type === 'code'){\n",
       "            for (var j=0; j<cell.output_area.outputs.length; j++) {\n",
       "                var data = cell.output_area.outputs[j];\n",
       "                if (data.data) {\n",
       "                    // IPython >= 3 moved mimebundle to data attribute of output\n",
       "                    data = data.data;\n",
       "                }\n",
       "                if (data['text/html'] == html_output) {\n",
       "                    return [cell, data, j];\n",
       "                }\n",
       "            }\n",
       "        }\n",
       "    }\n",
       "}\n",
       "\n",
       "// Register the function which deals with the matplotlib target/channel.\n",
       "// The kernel may be null if the page has been refreshed.\n",
       "if (IPython.notebook.kernel != null) {\n",
       "    IPython.notebook.kernel.comm_manager.register_target('matplotlib', mpl.mpl_figure_comm);\n",
       "}\n"
      ],
      "text/plain": [
       "<IPython.core.display.Javascript object>"
      ]
     },
     "metadata": {},
     "output_type": "display_data"
    },
    {
     "data": {
      "text/html": [
       "<img src=\"data:image/png;base64,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\" width=\"1605.9166666666667\">"
      ],
      "text/plain": [
       "<IPython.core.display.HTML object>"
      ]
     },
     "metadata": {},
     "output_type": "display_data"
    }
   ],
   "source": [
    "%matplotlib notebook\n",
    "gp.plotting.plot_section(geo_data, lith2[0], 30, direction='x', plot_data= True)\n"
   ]
  },
  {
   "cell_type": "code",
   "execution_count": 55,
   "metadata": {},
   "outputs": [
    {
     "data": {
      "application/javascript": [
       "/* Put everything inside the global mpl namespace */\n",
       "window.mpl = {};\n",
       "\n",
       "\n",
       "mpl.get_websocket_type = function() {\n",
       "    if (typeof(WebSocket) !== 'undefined') {\n",
       "        return WebSocket;\n",
       "    } else if (typeof(MozWebSocket) !== 'undefined') {\n",
       "        return MozWebSocket;\n",
       "    } else {\n",
       "        alert('Your browser does not have WebSocket support.' +\n",
       "              'Please try Chrome, Safari or Firefox ≥ 6. ' +\n",
       "              'Firefox 4 and 5 are also supported but you ' +\n",
       "              'have to enable WebSockets in about:config.');\n",
       "    };\n",
       "}\n",
       "\n",
       "mpl.figure = function(figure_id, websocket, ondownload, parent_element) {\n",
       "    this.id = figure_id;\n",
       "\n",
       "    this.ws = websocket;\n",
       "\n",
       "    this.supports_binary = (this.ws.binaryType != undefined);\n",
       "\n",
       "    if (!this.supports_binary) {\n",
       "        var warnings = document.getElementById(\"mpl-warnings\");\n",
       "        if (warnings) {\n",
       "            warnings.style.display = 'block';\n",
       "            warnings.textContent = (\n",
       "                \"This browser does not support binary websocket messages. \" +\n",
       "                    \"Performance may be slow.\");\n",
       "        }\n",
       "    }\n",
       "\n",
       "    this.imageObj = new Image();\n",
       "\n",
       "    this.context = undefined;\n",
       "    this.message = undefined;\n",
       "    this.canvas = undefined;\n",
       "    this.rubberband_canvas = undefined;\n",
       "    this.rubberband_context = undefined;\n",
       "    this.format_dropdown = undefined;\n",
       "\n",
       "    this.image_mode = 'full';\n",
       "\n",
       "    this.root = $('<div/>');\n",
       "    this._root_extra_style(this.root)\n",
       "    this.root.attr('style', 'display: inline-block');\n",
       "\n",
       "    $(parent_element).append(this.root);\n",
       "\n",
       "    this._init_header(this);\n",
       "    this._init_canvas(this);\n",
       "    this._init_toolbar(this);\n",
       "\n",
       "    var fig = this;\n",
       "\n",
       "    this.waiting = false;\n",
       "\n",
       "    this.ws.onopen =  function () {\n",
       "            fig.send_message(\"supports_binary\", {value: fig.supports_binary});\n",
       "            fig.send_message(\"send_image_mode\", {});\n",
       "            if (mpl.ratio != 1) {\n",
       "                fig.send_message(\"set_dpi_ratio\", {'dpi_ratio': mpl.ratio});\n",
       "            }\n",
       "            fig.send_message(\"refresh\", {});\n",
       "        }\n",
       "\n",
       "    this.imageObj.onload = function() {\n",
       "            if (fig.image_mode == 'full') {\n",
       "                // Full images could contain transparency (where diff images\n",
       "                // almost always do), so we need to clear the canvas so that\n",
       "                // there is no ghosting.\n",
       "                fig.context.clearRect(0, 0, fig.canvas.width, fig.canvas.height);\n",
       "            }\n",
       "            fig.context.drawImage(fig.imageObj, 0, 0);\n",
       "        };\n",
       "\n",
       "    this.imageObj.onunload = function() {\n",
       "        fig.ws.close();\n",
       "    }\n",
       "\n",
       "    this.ws.onmessage = this._make_on_message_function(this);\n",
       "\n",
       "    this.ondownload = ondownload;\n",
       "}\n",
       "\n",
       "mpl.figure.prototype._init_header = function() {\n",
       "    var titlebar = $(\n",
       "        '<div class=\"ui-dialog-titlebar ui-widget-header ui-corner-all ' +\n",
       "        'ui-helper-clearfix\"/>');\n",
       "    var titletext = $(\n",
       "        '<div class=\"ui-dialog-title\" style=\"width: 100%; ' +\n",
       "        'text-align: center; padding: 3px;\"/>');\n",
       "    titlebar.append(titletext)\n",
       "    this.root.append(titlebar);\n",
       "    this.header = titletext[0];\n",
       "}\n",
       "\n",
       "\n",
       "\n",
       "mpl.figure.prototype._canvas_extra_style = function(canvas_div) {\n",
       "\n",
       "}\n",
       "\n",
       "\n",
       "mpl.figure.prototype._root_extra_style = function(canvas_div) {\n",
       "\n",
       "}\n",
       "\n",
       "mpl.figure.prototype._init_canvas = function() {\n",
       "    var fig = this;\n",
       "\n",
       "    var canvas_div = $('<div/>');\n",
       "\n",
       "    canvas_div.attr('style', 'position: relative; clear: both; outline: 0');\n",
       "\n",
       "    function canvas_keyboard_event(event) {\n",
       "        return fig.key_event(event, event['data']);\n",
       "    }\n",
       "\n",
       "    canvas_div.keydown('key_press', canvas_keyboard_event);\n",
       "    canvas_div.keyup('key_release', canvas_keyboard_event);\n",
       "    this.canvas_div = canvas_div\n",
       "    this._canvas_extra_style(canvas_div)\n",
       "    this.root.append(canvas_div);\n",
       "\n",
       "    var canvas = $('<canvas/>');\n",
       "    canvas.addClass('mpl-canvas');\n",
       "    canvas.attr('style', \"left: 0; top: 0; z-index: 0; outline: 0\")\n",
       "\n",
       "    this.canvas = canvas[0];\n",
       "    this.context = canvas[0].getContext(\"2d\");\n",
       "\n",
       "    var backingStore = this.context.backingStorePixelRatio ||\n",
       "\tthis.context.webkitBackingStorePixelRatio ||\n",
       "\tthis.context.mozBackingStorePixelRatio ||\n",
       "\tthis.context.msBackingStorePixelRatio ||\n",
       "\tthis.context.oBackingStorePixelRatio ||\n",
       "\tthis.context.backingStorePixelRatio || 1;\n",
       "\n",
       "    mpl.ratio = (window.devicePixelRatio || 1) / backingStore;\n",
       "\n",
       "    var rubberband = $('<canvas/>');\n",
       "    rubberband.attr('style', \"position: absolute; left: 0; top: 0; z-index: 1;\")\n",
       "\n",
       "    var pass_mouse_events = true;\n",
       "\n",
       "    canvas_div.resizable({\n",
       "        start: function(event, ui) {\n",
       "            pass_mouse_events = false;\n",
       "        },\n",
       "        resize: function(event, ui) {\n",
       "            fig.request_resize(ui.size.width, ui.size.height);\n",
       "        },\n",
       "        stop: function(event, ui) {\n",
       "            pass_mouse_events = true;\n",
       "            fig.request_resize(ui.size.width, ui.size.height);\n",
       "        },\n",
       "    });\n",
       "\n",
       "    function mouse_event_fn(event) {\n",
       "        if (pass_mouse_events)\n",
       "            return fig.mouse_event(event, event['data']);\n",
       "    }\n",
       "\n",
       "    rubberband.mousedown('button_press', mouse_event_fn);\n",
       "    rubberband.mouseup('button_release', mouse_event_fn);\n",
       "    // Throttle sequential mouse events to 1 every 20ms.\n",
       "    rubberband.mousemove('motion_notify', mouse_event_fn);\n",
       "\n",
       "    rubberband.mouseenter('figure_enter', mouse_event_fn);\n",
       "    rubberband.mouseleave('figure_leave', mouse_event_fn);\n",
       "\n",
       "    canvas_div.on(\"wheel\", function (event) {\n",
       "        event = event.originalEvent;\n",
       "        event['data'] = 'scroll'\n",
       "        if (event.deltaY < 0) {\n",
       "            event.step = 1;\n",
       "        } else {\n",
       "            event.step = -1;\n",
       "        }\n",
       "        mouse_event_fn(event);\n",
       "    });\n",
       "\n",
       "    canvas_div.append(canvas);\n",
       "    canvas_div.append(rubberband);\n",
       "\n",
       "    this.rubberband = rubberband;\n",
       "    this.rubberband_canvas = rubberband[0];\n",
       "    this.rubberband_context = rubberband[0].getContext(\"2d\");\n",
       "    this.rubberband_context.strokeStyle = \"#000000\";\n",
       "\n",
       "    this._resize_canvas = function(width, height) {\n",
       "        // Keep the size of the canvas, canvas container, and rubber band\n",
       "        // canvas in synch.\n",
       "        canvas_div.css('width', width)\n",
       "        canvas_div.css('height', height)\n",
       "\n",
       "        canvas.attr('width', width * mpl.ratio);\n",
       "        canvas.attr('height', height * mpl.ratio);\n",
       "        canvas.attr('style', 'width: ' + width + 'px; height: ' + height + 'px;');\n",
       "\n",
       "        rubberband.attr('width', width);\n",
       "        rubberband.attr('height', height);\n",
       "    }\n",
       "\n",
       "    // Set the figure to an initial 600x600px, this will subsequently be updated\n",
       "    // upon first draw.\n",
       "    this._resize_canvas(600, 600);\n",
       "\n",
       "    // Disable right mouse context menu.\n",
       "    $(this.rubberband_canvas).bind(\"contextmenu\",function(e){\n",
       "        return false;\n",
       "    });\n",
       "\n",
       "    function set_focus () {\n",
       "        canvas.focus();\n",
       "        canvas_div.focus();\n",
       "    }\n",
       "\n",
       "    window.setTimeout(set_focus, 100);\n",
       "}\n",
       "\n",
       "mpl.figure.prototype._init_toolbar = function() {\n",
       "    var fig = this;\n",
       "\n",
       "    var nav_element = $('<div/>')\n",
       "    nav_element.attr('style', 'width: 100%');\n",
       "    this.root.append(nav_element);\n",
       "\n",
       "    // Define a callback function for later on.\n",
       "    function toolbar_event(event) {\n",
       "        return fig.toolbar_button_onclick(event['data']);\n",
       "    }\n",
       "    function toolbar_mouse_event(event) {\n",
       "        return fig.toolbar_button_onmouseover(event['data']);\n",
       "    }\n",
       "\n",
       "    for(var toolbar_ind in mpl.toolbar_items) {\n",
       "        var name = mpl.toolbar_items[toolbar_ind][0];\n",
       "        var tooltip = mpl.toolbar_items[toolbar_ind][1];\n",
       "        var image = mpl.toolbar_items[toolbar_ind][2];\n",
       "        var method_name = mpl.toolbar_items[toolbar_ind][3];\n",
       "\n",
       "        if (!name) {\n",
       "            // put a spacer in here.\n",
       "            continue;\n",
       "        }\n",
       "        var button = $('<button/>');\n",
       "        button.addClass('ui-button ui-widget ui-state-default ui-corner-all ' +\n",
       "                        'ui-button-icon-only');\n",
       "        button.attr('role', 'button');\n",
       "        button.attr('aria-disabled', 'false');\n",
       "        button.click(method_name, toolbar_event);\n",
       "        button.mouseover(tooltip, toolbar_mouse_event);\n",
       "\n",
       "        var icon_img = $('<span/>');\n",
       "        icon_img.addClass('ui-button-icon-primary ui-icon');\n",
       "        icon_img.addClass(image);\n",
       "        icon_img.addClass('ui-corner-all');\n",
       "\n",
       "        var tooltip_span = $('<span/>');\n",
       "        tooltip_span.addClass('ui-button-text');\n",
       "        tooltip_span.html(tooltip);\n",
       "\n",
       "        button.append(icon_img);\n",
       "        button.append(tooltip_span);\n",
       "\n",
       "        nav_element.append(button);\n",
       "    }\n",
       "\n",
       "    var fmt_picker_span = $('<span/>');\n",
       "\n",
       "    var fmt_picker = $('<select/>');\n",
       "    fmt_picker.addClass('mpl-toolbar-option ui-widget ui-widget-content');\n",
       "    fmt_picker_span.append(fmt_picker);\n",
       "    nav_element.append(fmt_picker_span);\n",
       "    this.format_dropdown = fmt_picker[0];\n",
       "\n",
       "    for (var ind in mpl.extensions) {\n",
       "        var fmt = mpl.extensions[ind];\n",
       "        var option = $(\n",
       "            '<option/>', {selected: fmt === mpl.default_extension}).html(fmt);\n",
       "        fmt_picker.append(option)\n",
       "    }\n",
       "\n",
       "    // Add hover states to the ui-buttons\n",
       "    $( \".ui-button\" ).hover(\n",
       "        function() { $(this).addClass(\"ui-state-hover\");},\n",
       "        function() { $(this).removeClass(\"ui-state-hover\");}\n",
       "    );\n",
       "\n",
       "    var status_bar = $('<span class=\"mpl-message\"/>');\n",
       "    nav_element.append(status_bar);\n",
       "    this.message = status_bar[0];\n",
       "}\n",
       "\n",
       "mpl.figure.prototype.request_resize = function(x_pixels, y_pixels) {\n",
       "    // Request matplotlib to resize the figure. Matplotlib will then trigger a resize in the client,\n",
       "    // which will in turn request a refresh of the image.\n",
       "    this.send_message('resize', {'width': x_pixels, 'height': y_pixels});\n",
       "}\n",
       "\n",
       "mpl.figure.prototype.send_message = function(type, properties) {\n",
       "    properties['type'] = type;\n",
       "    properties['figure_id'] = this.id;\n",
       "    this.ws.send(JSON.stringify(properties));\n",
       "}\n",
       "\n",
       "mpl.figure.prototype.send_draw_message = function() {\n",
       "    if (!this.waiting) {\n",
       "        this.waiting = true;\n",
       "        this.ws.send(JSON.stringify({type: \"draw\", figure_id: this.id}));\n",
       "    }\n",
       "}\n",
       "\n",
       "\n",
       "mpl.figure.prototype.handle_save = function(fig, msg) {\n",
       "    var format_dropdown = fig.format_dropdown;\n",
       "    var format = format_dropdown.options[format_dropdown.selectedIndex].value;\n",
       "    fig.ondownload(fig, format);\n",
       "}\n",
       "\n",
       "\n",
       "mpl.figure.prototype.handle_resize = function(fig, msg) {\n",
       "    var size = msg['size'];\n",
       "    if (size[0] != fig.canvas.width || size[1] != fig.canvas.height) {\n",
       "        fig._resize_canvas(size[0], size[1]);\n",
       "        fig.send_message(\"refresh\", {});\n",
       "    };\n",
       "}\n",
       "\n",
       "mpl.figure.prototype.handle_rubberband = function(fig, msg) {\n",
       "    var x0 = msg['x0'] / mpl.ratio;\n",
       "    var y0 = (fig.canvas.height - msg['y0']) / mpl.ratio;\n",
       "    var x1 = msg['x1'] / mpl.ratio;\n",
       "    var y1 = (fig.canvas.height - msg['y1']) / mpl.ratio;\n",
       "    x0 = Math.floor(x0) + 0.5;\n",
       "    y0 = Math.floor(y0) + 0.5;\n",
       "    x1 = Math.floor(x1) + 0.5;\n",
       "    y1 = Math.floor(y1) + 0.5;\n",
       "    var min_x = Math.min(x0, x1);\n",
       "    var min_y = Math.min(y0, y1);\n",
       "    var width = Math.abs(x1 - x0);\n",
       "    var height = Math.abs(y1 - y0);\n",
       "\n",
       "    fig.rubberband_context.clearRect(\n",
       "        0, 0, fig.canvas.width, fig.canvas.height);\n",
       "\n",
       "    fig.rubberband_context.strokeRect(min_x, min_y, width, height);\n",
       "}\n",
       "\n",
       "mpl.figure.prototype.handle_figure_label = function(fig, msg) {\n",
       "    // Updates the figure title.\n",
       "    fig.header.textContent = msg['label'];\n",
       "}\n",
       "\n",
       "mpl.figure.prototype.handle_cursor = function(fig, msg) {\n",
       "    var cursor = msg['cursor'];\n",
       "    switch(cursor)\n",
       "    {\n",
       "    case 0:\n",
       "        cursor = 'pointer';\n",
       "        break;\n",
       "    case 1:\n",
       "        cursor = 'default';\n",
       "        break;\n",
       "    case 2:\n",
       "        cursor = 'crosshair';\n",
       "        break;\n",
       "    case 3:\n",
       "        cursor = 'move';\n",
       "        break;\n",
       "    }\n",
       "    fig.rubberband_canvas.style.cursor = cursor;\n",
       "}\n",
       "\n",
       "mpl.figure.prototype.handle_message = function(fig, msg) {\n",
       "    fig.message.textContent = msg['message'];\n",
       "}\n",
       "\n",
       "mpl.figure.prototype.handle_draw = function(fig, msg) {\n",
       "    // Request the server to send over a new figure.\n",
       "    fig.send_draw_message();\n",
       "}\n",
       "\n",
       "mpl.figure.prototype.handle_image_mode = function(fig, msg) {\n",
       "    fig.image_mode = msg['mode'];\n",
       "}\n",
       "\n",
       "mpl.figure.prototype.updated_canvas_event = function() {\n",
       "    // Called whenever the canvas gets updated.\n",
       "    this.send_message(\"ack\", {});\n",
       "}\n",
       "\n",
       "// A function to construct a web socket function for onmessage handling.\n",
       "// Called in the figure constructor.\n",
       "mpl.figure.prototype._make_on_message_function = function(fig) {\n",
       "    return function socket_on_message(evt) {\n",
       "        if (evt.data instanceof Blob) {\n",
       "            /* FIXME: We get \"Resource interpreted as Image but\n",
       "             * transferred with MIME type text/plain:\" errors on\n",
       "             * Chrome.  But how to set the MIME type?  It doesn't seem\n",
       "             * to be part of the websocket stream */\n",
       "            evt.data.type = \"image/png\";\n",
       "\n",
       "            /* Free the memory for the previous frames */\n",
       "            if (fig.imageObj.src) {\n",
       "                (window.URL || window.webkitURL).revokeObjectURL(\n",
       "                    fig.imageObj.src);\n",
       "            }\n",
       "\n",
       "            fig.imageObj.src = (window.URL || window.webkitURL).createObjectURL(\n",
       "                evt.data);\n",
       "            fig.updated_canvas_event();\n",
       "            fig.waiting = false;\n",
       "            return;\n",
       "        }\n",
       "        else if (typeof evt.data === 'string' && evt.data.slice(0, 21) == \"data:image/png;base64\") {\n",
       "            fig.imageObj.src = evt.data;\n",
       "            fig.updated_canvas_event();\n",
       "            fig.waiting = false;\n",
       "            return;\n",
       "        }\n",
       "\n",
       "        var msg = JSON.parse(evt.data);\n",
       "        var msg_type = msg['type'];\n",
       "\n",
       "        // Call the  \"handle_{type}\" callback, which takes\n",
       "        // the figure and JSON message as its only arguments.\n",
       "        try {\n",
       "            var callback = fig[\"handle_\" + msg_type];\n",
       "        } catch (e) {\n",
       "            console.log(\"No handler for the '\" + msg_type + \"' message type: \", msg);\n",
       "            return;\n",
       "        }\n",
       "\n",
       "        if (callback) {\n",
       "            try {\n",
       "                // console.log(\"Handling '\" + msg_type + \"' message: \", msg);\n",
       "                callback(fig, msg);\n",
       "            } catch (e) {\n",
       "                console.log(\"Exception inside the 'handler_\" + msg_type + \"' callback:\", e, e.stack, msg);\n",
       "            }\n",
       "        }\n",
       "    };\n",
       "}\n",
       "\n",
       "// from http://stackoverflow.com/questions/1114465/getting-mouse-location-in-canvas\n",
       "mpl.findpos = function(e) {\n",
       "    //this section is from http://www.quirksmode.org/js/events_properties.html\n",
       "    var targ;\n",
       "    if (!e)\n",
       "        e = window.event;\n",
       "    if (e.target)\n",
       "        targ = e.target;\n",
       "    else if (e.srcElement)\n",
       "        targ = e.srcElement;\n",
       "    if (targ.nodeType == 3) // defeat Safari bug\n",
       "        targ = targ.parentNode;\n",
       "\n",
       "    // jQuery normalizes the pageX and pageY\n",
       "    // pageX,Y are the mouse positions relative to the document\n",
       "    // offset() returns the position of the element relative to the document\n",
       "    var x = e.pageX - $(targ).offset().left;\n",
       "    var y = e.pageY - $(targ).offset().top;\n",
       "\n",
       "    return {\"x\": x, \"y\": y};\n",
       "};\n",
       "\n",
       "/*\n",
       " * return a copy of an object with only non-object keys\n",
       " * we need this to avoid circular references\n",
       " * http://stackoverflow.com/a/24161582/3208463\n",
       " */\n",
       "function simpleKeys (original) {\n",
       "  return Object.keys(original).reduce(function (obj, key) {\n",
       "    if (typeof original[key] !== 'object')\n",
       "        obj[key] = original[key]\n",
       "    return obj;\n",
       "  }, {});\n",
       "}\n",
       "\n",
       "mpl.figure.prototype.mouse_event = function(event, name) {\n",
       "    var canvas_pos = mpl.findpos(event)\n",
       "\n",
       "    if (name === 'button_press')\n",
       "    {\n",
       "        this.canvas.focus();\n",
       "        this.canvas_div.focus();\n",
       "    }\n",
       "\n",
       "    var x = canvas_pos.x * mpl.ratio;\n",
       "    var y = canvas_pos.y * mpl.ratio;\n",
       "\n",
       "    this.send_message(name, {x: x, y: y, button: event.button,\n",
       "                             step: event.step,\n",
       "                             guiEvent: simpleKeys(event)});\n",
       "\n",
       "    /* This prevents the web browser from automatically changing to\n",
       "     * the text insertion cursor when the button is pressed.  We want\n",
       "     * to control all of the cursor setting manually through the\n",
       "     * 'cursor' event from matplotlib */\n",
       "    event.preventDefault();\n",
       "    return false;\n",
       "}\n",
       "\n",
       "mpl.figure.prototype._key_event_extra = function(event, name) {\n",
       "    // Handle any extra behaviour associated with a key event\n",
       "}\n",
       "\n",
       "mpl.figure.prototype.key_event = function(event, name) {\n",
       "\n",
       "    // Prevent repeat events\n",
       "    if (name == 'key_press')\n",
       "    {\n",
       "        if (event.which === this._key)\n",
       "            return;\n",
       "        else\n",
       "            this._key = event.which;\n",
       "    }\n",
       "    if (name == 'key_release')\n",
       "        this._key = null;\n",
       "\n",
       "    var value = '';\n",
       "    if (event.ctrlKey && event.which != 17)\n",
       "        value += \"ctrl+\";\n",
       "    if (event.altKey && event.which != 18)\n",
       "        value += \"alt+\";\n",
       "    if (event.shiftKey && event.which != 16)\n",
       "        value += \"shift+\";\n",
       "\n",
       "    value += 'k';\n",
       "    value += event.which.toString();\n",
       "\n",
       "    this._key_event_extra(event, name);\n",
       "\n",
       "    this.send_message(name, {key: value,\n",
       "                             guiEvent: simpleKeys(event)});\n",
       "    return false;\n",
       "}\n",
       "\n",
       "mpl.figure.prototype.toolbar_button_onclick = function(name) {\n",
       "    if (name == 'download') {\n",
       "        this.handle_save(this, null);\n",
       "    } else {\n",
       "        this.send_message(\"toolbar_button\", {name: name});\n",
       "    }\n",
       "};\n",
       "\n",
       "mpl.figure.prototype.toolbar_button_onmouseover = function(tooltip) {\n",
       "    this.message.textContent = tooltip;\n",
       "};\n",
       "mpl.toolbar_items = [[\"Home\", \"Reset original view\", \"fa fa-home icon-home\", \"home\"], [\"Back\", \"Back to  previous view\", \"fa fa-arrow-left icon-arrow-left\", \"back\"], [\"Forward\", \"Forward to next view\", \"fa fa-arrow-right icon-arrow-right\", \"forward\"], [\"\", \"\", \"\", \"\"], [\"Pan\", \"Pan axes with left mouse, zoom with right\", \"fa fa-arrows icon-move\", \"pan\"], [\"Zoom\", \"Zoom to rectangle\", \"fa fa-square-o icon-check-empty\", \"zoom\"], [\"\", \"\", \"\", \"\"], [\"Download\", \"Download plot\", \"fa fa-floppy-o icon-save\", \"download\"]];\n",
       "\n",
       "mpl.extensions = [\"eps\", \"jpeg\", \"pdf\", \"png\", \"ps\", \"raw\", \"svg\", \"tif\"];\n",
       "\n",
       "mpl.default_extension = \"png\";var comm_websocket_adapter = function(comm) {\n",
       "    // Create a \"websocket\"-like object which calls the given IPython comm\n",
       "    // object with the appropriate methods. Currently this is a non binary\n",
       "    // socket, so there is still some room for performance tuning.\n",
       "    var ws = {};\n",
       "\n",
       "    ws.close = function() {\n",
       "        comm.close()\n",
       "    };\n",
       "    ws.send = function(m) {\n",
       "        //console.log('sending', m);\n",
       "        comm.send(m);\n",
       "    };\n",
       "    // Register the callback with on_msg.\n",
       "    comm.on_msg(function(msg) {\n",
       "        //console.log('receiving', msg['content']['data'], msg);\n",
       "        // Pass the mpl event to the overriden (by mpl) onmessage function.\n",
       "        ws.onmessage(msg['content']['data'])\n",
       "    });\n",
       "    return ws;\n",
       "}\n",
       "\n",
       "mpl.mpl_figure_comm = function(comm, msg) {\n",
       "    // This is the function which gets called when the mpl process\n",
       "    // starts-up an IPython Comm through the \"matplotlib\" channel.\n",
       "\n",
       "    var id = msg.content.data.id;\n",
       "    // Get hold of the div created by the display call when the Comm\n",
       "    // socket was opened in Python.\n",
       "    var element = $(\"#\" + id);\n",
       "    var ws_proxy = comm_websocket_adapter(comm)\n",
       "\n",
       "    function ondownload(figure, format) {\n",
       "        window.open(figure.imageObj.src);\n",
       "    }\n",
       "\n",
       "    var fig = new mpl.figure(id, ws_proxy,\n",
       "                           ondownload,\n",
       "                           element.get(0));\n",
       "\n",
       "    // Call onopen now - mpl needs it, as it is assuming we've passed it a real\n",
       "    // web socket which is closed, not our websocket->open comm proxy.\n",
       "    ws_proxy.onopen();\n",
       "\n",
       "    fig.parent_element = element.get(0);\n",
       "    fig.cell_info = mpl.find_output_cell(\"<div id='\" + id + \"'></div>\");\n",
       "    if (!fig.cell_info) {\n",
       "        console.error(\"Failed to find cell for figure\", id, fig);\n",
       "        return;\n",
       "    }\n",
       "\n",
       "    var output_index = fig.cell_info[2]\n",
       "    var cell = fig.cell_info[0];\n",
       "\n",
       "};\n",
       "\n",
       "mpl.figure.prototype.handle_close = function(fig, msg) {\n",
       "    var width = fig.canvas.width/mpl.ratio\n",
       "    fig.root.unbind('remove')\n",
       "\n",
       "    // Update the output cell to use the data from the current canvas.\n",
       "    fig.push_to_output();\n",
       "    var dataURL = fig.canvas.toDataURL();\n",
       "    // Re-enable the keyboard manager in IPython - without this line, in FF,\n",
       "    // the notebook keyboard shortcuts fail.\n",
       "    IPython.keyboard_manager.enable()\n",
       "    $(fig.parent_element).html('<img src=\"' + dataURL + '\" width=\"' + width + '\">');\n",
       "    fig.close_ws(fig, msg);\n",
       "}\n",
       "\n",
       "mpl.figure.prototype.close_ws = function(fig, msg){\n",
       "    fig.send_message('closing', msg);\n",
       "    // fig.ws.close()\n",
       "}\n",
       "\n",
       "mpl.figure.prototype.push_to_output = function(remove_interactive) {\n",
       "    // Turn the data on the canvas into data in the output cell.\n",
       "    var width = this.canvas.width/mpl.ratio\n",
       "    var dataURL = this.canvas.toDataURL();\n",
       "    this.cell_info[1]['text/html'] = '<img src=\"' + dataURL + '\" width=\"' + width + '\">';\n",
       "}\n",
       "\n",
       "mpl.figure.prototype.updated_canvas_event = function() {\n",
       "    // Tell IPython that the notebook contents must change.\n",
       "    IPython.notebook.set_dirty(true);\n",
       "    this.send_message(\"ack\", {});\n",
       "    var fig = this;\n",
       "    // Wait a second, then push the new image to the DOM so\n",
       "    // that it is saved nicely (might be nice to debounce this).\n",
       "    setTimeout(function () { fig.push_to_output() }, 1000);\n",
       "}\n",
       "\n",
       "mpl.figure.prototype._init_toolbar = function() {\n",
       "    var fig = this;\n",
       "\n",
       "    var nav_element = $('<div/>')\n",
       "    nav_element.attr('style', 'width: 100%');\n",
       "    this.root.append(nav_element);\n",
       "\n",
       "    // Define a callback function for later on.\n",
       "    function toolbar_event(event) {\n",
       "        return fig.toolbar_button_onclick(event['data']);\n",
       "    }\n",
       "    function toolbar_mouse_event(event) {\n",
       "        return fig.toolbar_button_onmouseover(event['data']);\n",
       "    }\n",
       "\n",
       "    for(var toolbar_ind in mpl.toolbar_items){\n",
       "        var name = mpl.toolbar_items[toolbar_ind][0];\n",
       "        var tooltip = mpl.toolbar_items[toolbar_ind][1];\n",
       "        var image = mpl.toolbar_items[toolbar_ind][2];\n",
       "        var method_name = mpl.toolbar_items[toolbar_ind][3];\n",
       "\n",
       "        if (!name) { continue; };\n",
       "\n",
       "        var button = $('<button class=\"btn btn-default\" href=\"#\" title=\"' + name + '\"><i class=\"fa ' + image + ' fa-lg\"></i></button>');\n",
       "        button.click(method_name, toolbar_event);\n",
       "        button.mouseover(tooltip, toolbar_mouse_event);\n",
       "        nav_element.append(button);\n",
       "    }\n",
       "\n",
       "    // Add the status bar.\n",
       "    var status_bar = $('<span class=\"mpl-message\" style=\"text-align:right; float: right;\"/>');\n",
       "    nav_element.append(status_bar);\n",
       "    this.message = status_bar[0];\n",
       "\n",
       "    // Add the close button to the window.\n",
       "    var buttongrp = $('<div class=\"btn-group inline pull-right\"></div>');\n",
       "    var button = $('<button class=\"btn btn-mini btn-primary\" href=\"#\" title=\"Stop Interaction\"><i class=\"fa fa-power-off icon-remove icon-large\"></i></button>');\n",
       "    button.click(function (evt) { fig.handle_close(fig, {}); } );\n",
       "    button.mouseover('Stop Interaction', toolbar_mouse_event);\n",
       "    buttongrp.append(button);\n",
       "    var titlebar = this.root.find($('.ui-dialog-titlebar'));\n",
       "    titlebar.prepend(buttongrp);\n",
       "}\n",
       "\n",
       "mpl.figure.prototype._root_extra_style = function(el){\n",
       "    var fig = this\n",
       "    el.on(\"remove\", function(){\n",
       "\tfig.close_ws(fig, {});\n",
       "    });\n",
       "}\n",
       "\n",
       "mpl.figure.prototype._canvas_extra_style = function(el){\n",
       "    // this is important to make the div 'focusable\n",
       "    el.attr('tabindex', 0)\n",
       "    // reach out to IPython and tell the keyboard manager to turn it's self\n",
       "    // off when our div gets focus\n",
       "\n",
       "    // location in version 3\n",
       "    if (IPython.notebook.keyboard_manager) {\n",
       "        IPython.notebook.keyboard_manager.register_events(el);\n",
       "    }\n",
       "    else {\n",
       "        // location in version 2\n",
       "        IPython.keyboard_manager.register_events(el);\n",
       "    }\n",
       "\n",
       "}\n",
       "\n",
       "mpl.figure.prototype._key_event_extra = function(event, name) {\n",
       "    var manager = IPython.notebook.keyboard_manager;\n",
       "    if (!manager)\n",
       "        manager = IPython.keyboard_manager;\n",
       "\n",
       "    // Check for shift+enter\n",
       "    if (event.shiftKey && event.which == 13) {\n",
       "        this.canvas_div.blur();\n",
       "        event.shiftKey = false;\n",
       "        // Send a \"J\" for go to next cell\n",
       "        event.which = 74;\n",
       "        event.keyCode = 74;\n",
       "        manager.command_mode();\n",
       "        manager.handle_keydown(event);\n",
       "    }\n",
       "}\n",
       "\n",
       "mpl.figure.prototype.handle_save = function(fig, msg) {\n",
       "    fig.ondownload(fig, null);\n",
       "}\n",
       "\n",
       "\n",
       "mpl.find_output_cell = function(html_output) {\n",
       "    // Return the cell and output element which can be found *uniquely* in the notebook.\n",
       "    // Note - this is a bit hacky, but it is done because the \"notebook_saving.Notebook\"\n",
       "    // IPython event is triggered only after the cells have been serialised, which for\n",
       "    // our purposes (turning an active figure into a static one), is too late.\n",
       "    var cells = IPython.notebook.get_cells();\n",
       "    var ncells = cells.length;\n",
       "    for (var i=0; i<ncells; i++) {\n",
       "        var cell = cells[i];\n",
       "        if (cell.cell_type === 'code'){\n",
       "            for (var j=0; j<cell.output_area.outputs.length; j++) {\n",
       "                var data = cell.output_area.outputs[j];\n",
       "                if (data.data) {\n",
       "                    // IPython >= 3 moved mimebundle to data attribute of output\n",
       "                    data = data.data;\n",
       "                }\n",
       "                if (data['text/html'] == html_output) {\n",
       "                    return [cell, data, j];\n",
       "                }\n",
       "            }\n",
       "        }\n",
       "    }\n",
       "}\n",
       "\n",
       "// Register the function which deals with the matplotlib target/channel.\n",
       "// The kernel may be null if the page has been refreshed.\n",
       "if (IPython.notebook.kernel != null) {\n",
       "    IPython.notebook.kernel.comm_manager.register_target('matplotlib', mpl.mpl_figure_comm);\n",
       "}\n"
      ],
      "text/plain": [
       "<IPython.core.display.Javascript object>"
      ]
     },
     "metadata": {},
     "output_type": "display_data"
    },
    {
     "data": {
      "text/html": [
       "<img src=\"data:image/png;base64,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\" width=\"359.9166666666667\">"
      ],
      "text/plain": [
       "<IPython.core.display.HTML object>"
      ]
     },
     "metadata": {},
     "output_type": "display_data"
    }
   ],
   "source": [
    "gp.plotting.plot_section(geo_data, lith2[0], 0, direction='z', plot_data= True)\n"
   ]
  },
  {
   "cell_type": "code",
   "execution_count": null,
   "metadata": {},
   "outputs": [],
   "source": [
    "plt.plot()"
   ]
  },
  {
   "cell_type": "code",
   "execution_count": null,
   "metadata": {},
   "outputs": [],
   "source": [
    "plt.plot(geophys.grv_data[:,0])\n",
    "plt.plot(geophys2.grv_data[:,0])\n",
    "plt.plot(geophys3.grv_data[:,0])\n",
    "plt.plot(grav.reshape(50,50)[:,0])"
   ]
  },
  {
   "cell_type": "code",
   "execution_count": 129,
   "metadata": {},
   "outputs": [
    {
     "data": {
      "text/plain": [
       "[<matplotlib.lines.Line2D at 0x7f8436451668>]"
      ]
     },
     "execution_count": 129,
     "metadata": {},
     "output_type": "execute_result"
    },
    {
     "data": {
      "image/png": "[encoded data removed]",
      "text/plain": [
       "<matplotlib.figure.Figure at 0x7f843656f390>"
      ]
     },
     "metadata": {},
     "output_type": "display_data"
    }
   ],
   "source": [
    "plt.plot(grav.reshape(40,40)[:,0])"
   ]
  },
  {
   "cell_type": "code",
   "execution_count": null,
   "metadata": {},
   "outputs": [],
   "source": []
  }
 ],
 "metadata": {
  "kernelspec": {
   "display_name": "Python 3",
   "language": "python",
   "name": "python3"
  },
  "language_info": {
   "codemirror_mode": {
    "name": "ipython",
    "version": 3
   },
   "file_extension": ".py",
   "mimetype": "text/x-python",
   "name": "python",
   "nbconvert_exporter": "python",
   "pygments_lexer": "ipython3",
   "version": "3.6.3"
  },
  "latex_envs": {
   "LaTeX_envs_menu_present": true,
   "autocomplete": true,
   "bibliofile": "biblio.bib",
   "cite_by": "apalike",
   "current_citInitial": 1,
   "eqLabelWithNumbers": true,
   "eqNumInitial": 1,
   "hotkeys": {
    "equation": "Ctrl-E",
    "itemize": "Ctrl-I"
   },
   "labels_anchors": false,
   "latex_user_defs": false,
   "report_style_numbering": false,
   "user_envs_cfg": false
  },
  "toc": {
   "colors": {
    "hover_highlight": "#DAA520",
    "running_highlight": "#FF0000",
    "selected_highlight": "#FFD700"
   },
   "moveMenuLeft": true,
   "nav_menu": {
    "height": "60px",
    "width": "251px"
   },
   "navigate_menu": true,
   "number_sections": true,
   "sideBar": true,
   "threshold": 4,
   "toc_cell": false,
   "toc_section_display": "block",
   "toc_window_display": false,
   "widenNotebook": false
  }
 },
 "nbformat": 4,
 "nbformat_minor": 1
}
