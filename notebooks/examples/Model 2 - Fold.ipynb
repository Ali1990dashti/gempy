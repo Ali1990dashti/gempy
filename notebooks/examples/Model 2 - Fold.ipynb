{
 "cells": [
  {
   "cell_type": "markdown",
   "metadata": {},
   "source": [
    "# Model 2 - Anticline"
   ]
  },
  {
   "cell_type": "markdown",
   "metadata": {},
   "source": [
    "A simple anticline structure. We start by importing the necessary dependencies:"
   ]
  },
  {
   "cell_type": "code",
   "execution_count": 1,
   "metadata": {},
   "outputs": [
    {
     "name": "stderr",
     "output_type": "stream",
     "text": [
      "WARNING (theano.configdefaults): install mkl with `conda install mkl-service`: No module named 'mkl'\n"
     ]
    }
   ],
   "source": [
    "# These two lines are necessary only if GemPy is not installed\n",
    "import sys, os\n",
    "sys.path.append(\"../..\")\n",
    "\n",
    "# Importing GemPy\n",
    "import gempy as gp\n",
    "\n",
    "# Embedding matplotlib figures in the notebooks\n",
    "%matplotlib inline\n",
    "\n",
    "# Importing auxiliary libraries\n",
    "import numpy as np\n",
    "import matplotlib.pyplot as plt"
   ]
  },
  {
   "cell_type": "markdown",
   "metadata": {},
   "source": [
    "Creating the model by importing the input data and displaying it:"
   ]
  },
  {
   "cell_type": "code",
   "execution_count": 2,
   "metadata": {},
   "outputs": [
    {
     "name": "stdout",
     "output_type": "stream",
     "text": [
      "Active grids: ['regular']\n"
     ]
    }
   ],
   "source": [
    "path_to_data = os.pardir+\"/data/input_data/jan_models/\"\n",
    "\n",
    "geo_data = gp.create_data([0,1000,0,1000,0,1000],resolution=[50,50,50], \n",
    "                          path_o = path_to_data + \"model2_orientations.csv\",\n",
    "                          path_i = path_to_data + \"model2_surface_points.csv\") "
   ]
  },
  {
   "cell_type": "code",
   "execution_count": 3,
   "metadata": {},
   "outputs": [
    {
     "data": {
      "text/html": [
       "<div>\n",
       "<style scoped>\n",
       "    .dataframe tbody tr th:only-of-type {\n",
       "        vertical-align: middle;\n",
       "    }\n",
       "\n",
       "    .dataframe tbody tr th {\n",
       "        vertical-align: top;\n",
       "    }\n",
       "\n",
       "    .dataframe thead th {\n",
       "        text-align: right;\n",
       "    }\n",
       "</style>\n",
       "<table border=\"1\" class=\"dataframe\">\n",
       "  <thead>\n",
       "    <tr style=\"text-align: right;\">\n",
       "      <th></th>\n",
       "      <th></th>\n",
       "      <th>X</th>\n",
       "      <th>Y</th>\n",
       "      <th>Z</th>\n",
       "      <th>X_r</th>\n",
       "      <th>Y_r</th>\n",
       "      <th>Z_r</th>\n",
       "      <th>surface</th>\n",
       "      <th>series</th>\n",
       "      <th>id</th>\n",
       "      <th>order_series</th>\n",
       "      <th>smooth</th>\n",
       "      <th>G_x</th>\n",
       "      <th>G_y</th>\n",
       "      <th>G_z</th>\n",
       "      <th>dip</th>\n",
       "      <th>azimuth</th>\n",
       "      <th>polarity</th>\n",
       "    </tr>\n",
       "  </thead>\n",
       "  <tbody>\n",
       "    <tr>\n",
       "      <th rowspan=\"5\" valign=\"top\">surface_points</th>\n",
       "      <th>0</th>\n",
       "      <td>0</td>\n",
       "      <td>100</td>\n",
       "      <td>200</td>\n",
       "      <td>0.2501</td>\n",
       "      <td>0.3001</td>\n",
       "      <td>0.3451</td>\n",
       "      <td>rock1</td>\n",
       "      <td>Default series</td>\n",
       "      <td>1</td>\n",
       "      <td>1</td>\n",
       "      <td>0.000001</td>\n",
       "      <td>NaN</td>\n",
       "      <td>NaN</td>\n",
       "      <td>NaN</td>\n",
       "      <td>NaN</td>\n",
       "      <td>NaN</td>\n",
       "      <td>NaN</td>\n",
       "    </tr>\n",
       "    <tr>\n",
       "      <th>1</th>\n",
       "      <td>0</td>\n",
       "      <td>500</td>\n",
       "      <td>200</td>\n",
       "      <td>0.2501</td>\n",
       "      <td>0.5001</td>\n",
       "      <td>0.3451</td>\n",
       "      <td>rock1</td>\n",
       "      <td>Default series</td>\n",
       "      <td>1</td>\n",
       "      <td>1</td>\n",
       "      <td>0.000001</td>\n",
       "      <td>NaN</td>\n",
       "      <td>NaN</td>\n",
       "      <td>NaN</td>\n",
       "      <td>NaN</td>\n",
       "      <td>NaN</td>\n",
       "      <td>NaN</td>\n",
       "    </tr>\n",
       "    <tr>\n",
       "      <th>2</th>\n",
       "      <td>0</td>\n",
       "      <td>900</td>\n",
       "      <td>200</td>\n",
       "      <td>0.2501</td>\n",
       "      <td>0.7001</td>\n",
       "      <td>0.3451</td>\n",
       "      <td>rock1</td>\n",
       "      <td>Default series</td>\n",
       "      <td>1</td>\n",
       "      <td>1</td>\n",
       "      <td>0.000001</td>\n",
       "      <td>NaN</td>\n",
       "      <td>NaN</td>\n",
       "      <td>NaN</td>\n",
       "      <td>NaN</td>\n",
       "      <td>NaN</td>\n",
       "      <td>NaN</td>\n",
       "    </tr>\n",
       "    <tr>\n",
       "      <th>3</th>\n",
       "      <td>400</td>\n",
       "      <td>100</td>\n",
       "      <td>600</td>\n",
       "      <td>0.4501</td>\n",
       "      <td>0.3001</td>\n",
       "      <td>0.5451</td>\n",
       "      <td>rock1</td>\n",
       "      <td>Default series</td>\n",
       "      <td>1</td>\n",
       "      <td>1</td>\n",
       "      <td>0.000001</td>\n",
       "      <td>NaN</td>\n",
       "      <td>NaN</td>\n",
       "      <td>NaN</td>\n",
       "      <td>NaN</td>\n",
       "      <td>NaN</td>\n",
       "      <td>NaN</td>\n",
       "    </tr>\n",
       "    <tr>\n",
       "      <th>4</th>\n",
       "      <td>400</td>\n",
       "      <td>500</td>\n",
       "      <td>600</td>\n",
       "      <td>0.4501</td>\n",
       "      <td>0.5001</td>\n",
       "      <td>0.5451</td>\n",
       "      <td>rock1</td>\n",
       "      <td>Default series</td>\n",
       "      <td>1</td>\n",
       "      <td>1</td>\n",
       "      <td>0.000001</td>\n",
       "      <td>NaN</td>\n",
       "      <td>NaN</td>\n",
       "      <td>NaN</td>\n",
       "      <td>NaN</td>\n",
       "      <td>NaN</td>\n",
       "      <td>NaN</td>\n",
       "    </tr>\n",
       "  </tbody>\n",
       "</table>\n",
       "</div>"
      ],
      "text/plain": [
       "                    X    Y    Z     X_r     Y_r     Z_r surface  \\\n",
       "surface_points 0    0  100  200  0.2501  0.3001  0.3451   rock1   \n",
       "               1    0  500  200  0.2501  0.5001  0.3451   rock1   \n",
       "               2    0  900  200  0.2501  0.7001  0.3451   rock1   \n",
       "               3  400  100  600  0.4501  0.3001  0.5451   rock1   \n",
       "               4  400  500  600  0.4501  0.5001  0.5451   rock1   \n",
       "\n",
       "                          series  id  order_series    smooth  G_x  G_y  G_z  \\\n",
       "surface_points 0  Default series   1             1  0.000001  NaN  NaN  NaN   \n",
       "               1  Default series   1             1  0.000001  NaN  NaN  NaN   \n",
       "               2  Default series   1             1  0.000001  NaN  NaN  NaN   \n",
       "               3  Default series   1             1  0.000001  NaN  NaN  NaN   \n",
       "               4  Default series   1             1  0.000001  NaN  NaN  NaN   \n",
       "\n",
       "                  dip  azimuth  polarity  \n",
       "surface_points 0  NaN      NaN       NaN  \n",
       "               1  NaN      NaN       NaN  \n",
       "               2  NaN      NaN       NaN  \n",
       "               3  NaN      NaN       NaN  \n",
       "               4  NaN      NaN       NaN  "
      ]
     },
     "execution_count": 3,
     "metadata": {},
     "output_type": "execute_result"
    }
   ],
   "source": [
    "geo_data.get_data().head()"
   ]
  },
  {
   "cell_type": "markdown",
   "metadata": {},
   "source": [
    "Setting and ordering the units and series:"
   ]
  },
  {
   "cell_type": "code",
   "execution_count": 4,
   "metadata": {},
   "outputs": [
    {
     "data": {
      "text/html": [
       "<style  type=\"text/css\" >\n",
       "    #T_7646e6fe_5936_11ea_948a_8c8590bd2191row0_col4 {\n",
       "            background-color:  #015482;\n",
       "        }    #T_7646e6fe_5936_11ea_948a_8c8590bd2191row1_col4 {\n",
       "            background-color:  #9f0052;\n",
       "        }    #T_7646e6fe_5936_11ea_948a_8c8590bd2191row2_col4 {\n",
       "            background-color:  #ffbe00;\n",
       "        }</style><table id=\"T_7646e6fe_5936_11ea_948a_8c8590bd2191\" ><thead>    <tr>        <th class=\"blank level0\" ></th>        <th class=\"col_heading level0 col0\" >surface</th>        <th class=\"col_heading level0 col1\" >series</th>        <th class=\"col_heading level0 col2\" >order_surfaces</th>        <th class=\"col_heading level0 col3\" >isActive</th>        <th class=\"col_heading level0 col4\" >color</th>        <th class=\"col_heading level0 col5\" >id</th>    </tr></thead><tbody>\n",
       "                <tr>\n",
       "                        <th id=\"T_7646e6fe_5936_11ea_948a_8c8590bd2191level0_row0\" class=\"row_heading level0 row0\" >0</th>\n",
       "                        <td id=\"T_7646e6fe_5936_11ea_948a_8c8590bd2191row0_col0\" class=\"data row0 col0\" >rock1</td>\n",
       "                        <td id=\"T_7646e6fe_5936_11ea_948a_8c8590bd2191row0_col1\" class=\"data row0 col1\" >Strat_Series</td>\n",
       "                        <td id=\"T_7646e6fe_5936_11ea_948a_8c8590bd2191row0_col2\" class=\"data row0 col2\" >1</td>\n",
       "                        <td id=\"T_7646e6fe_5936_11ea_948a_8c8590bd2191row0_col3\" class=\"data row0 col3\" >True</td>\n",
       "                        <td id=\"T_7646e6fe_5936_11ea_948a_8c8590bd2191row0_col4\" class=\"data row0 col4\" >#015482</td>\n",
       "                        <td id=\"T_7646e6fe_5936_11ea_948a_8c8590bd2191row0_col5\" class=\"data row0 col5\" >1</td>\n",
       "            </tr>\n",
       "            <tr>\n",
       "                        <th id=\"T_7646e6fe_5936_11ea_948a_8c8590bd2191level0_row1\" class=\"row_heading level0 row1\" >1</th>\n",
       "                        <td id=\"T_7646e6fe_5936_11ea_948a_8c8590bd2191row1_col0\" class=\"data row1 col0\" >rock2</td>\n",
       "                        <td id=\"T_7646e6fe_5936_11ea_948a_8c8590bd2191row1_col1\" class=\"data row1 col1\" >Strat_Series</td>\n",
       "                        <td id=\"T_7646e6fe_5936_11ea_948a_8c8590bd2191row1_col2\" class=\"data row1 col2\" >2</td>\n",
       "                        <td id=\"T_7646e6fe_5936_11ea_948a_8c8590bd2191row1_col3\" class=\"data row1 col3\" >True</td>\n",
       "                        <td id=\"T_7646e6fe_5936_11ea_948a_8c8590bd2191row1_col4\" class=\"data row1 col4\" >#9f0052</td>\n",
       "                        <td id=\"T_7646e6fe_5936_11ea_948a_8c8590bd2191row1_col5\" class=\"data row1 col5\" >2</td>\n",
       "            </tr>\n",
       "            <tr>\n",
       "                        <th id=\"T_7646e6fe_5936_11ea_948a_8c8590bd2191level0_row2\" class=\"row_heading level0 row2\" >2</th>\n",
       "                        <td id=\"T_7646e6fe_5936_11ea_948a_8c8590bd2191row2_col0\" class=\"data row2 col0\" >basement</td>\n",
       "                        <td id=\"T_7646e6fe_5936_11ea_948a_8c8590bd2191row2_col1\" class=\"data row2 col1\" >Basement_Series</td>\n",
       "                        <td id=\"T_7646e6fe_5936_11ea_948a_8c8590bd2191row2_col2\" class=\"data row2 col2\" >1</td>\n",
       "                        <td id=\"T_7646e6fe_5936_11ea_948a_8c8590bd2191row2_col3\" class=\"data row2 col3\" >True</td>\n",
       "                        <td id=\"T_7646e6fe_5936_11ea_948a_8c8590bd2191row2_col4\" class=\"data row2 col4\" >#ffbe00</td>\n",
       "                        <td id=\"T_7646e6fe_5936_11ea_948a_8c8590bd2191row2_col5\" class=\"data row2 col5\" >3</td>\n",
       "            </tr>\n",
       "    </tbody></table>"
      ],
      "text/plain": [
       "    surface           series  order_surfaces  isActive    color  id\n",
       "0     rock1     Strat_Series               1      True  #015482   1\n",
       "1     rock2     Strat_Series               2      True  #9f0052   2\n",
       "2  basement  Basement_Series               1      True  #ffbe00   3"
      ]
     },
     "execution_count": 4,
     "metadata": {},
     "output_type": "execute_result"
    }
   ],
   "source": [
    "gp.map_series_to_surfaces(geo_data, {\"Strat_Series\": ('rock2','rock1'),\"Basement_Series\":('basement')})"
   ]
  },
  {
   "cell_type": "code",
   "execution_count": 5,
   "metadata": {},
   "outputs": [
    {
     "data": {
      "text/plain": [
       "<gempy.plot.visualization_2d.PlotData2D at 0x133d56a50>"
      ]
     },
     "execution_count": 5,
     "metadata": {},
     "output_type": "execute_result"
    },
    {
     "data": {
      "image/png": "[encoded data removed]",
      "text/plain": [
       "<Figure size 432x432 with 1 Axes>"
      ]
     },
     "metadata": {
      "needs_background": "light"
     },
     "output_type": "display_data"
    }
   ],
   "source": [
    "%matplotlib inline\n",
    "gp.plot.plot_data(geo_data, direction='y')"
   ]
  },
  {
   "cell_type": "markdown",
   "metadata": {},
   "source": [
    "Calculating the model:"
   ]
  },
  {
   "cell_type": "code",
   "execution_count": 6,
   "metadata": {
    "scrolled": true
   },
   "outputs": [
    {
     "name": "stdout",
     "output_type": "stream",
     "text": [
      "Compiling theano function...\n",
      "Level of Optimization:  fast_compile\n",
      "Device:  cpu\n",
      "Precision:  float64\n",
      "Number of faults:  0\n",
      "Compilation Done!\n"
     ]
    }
   ],
   "source": [
    "interp_data = gp.set_interpolation_data(geo_data, theano_optimizer='fast_compile')"
   ]
  },
  {
   "cell_type": "code",
   "execution_count": 7,
   "metadata": {},
   "outputs": [
    {
     "data": {
      "text/plain": [
       "True"
      ]
     },
     "execution_count": 7,
     "metadata": {},
     "output_type": "execute_result"
    }
   ],
   "source": [
    "geo_data.update_to_interpolator()"
   ]
  },
  {
   "cell_type": "code",
   "execution_count": 8,
   "metadata": {},
   "outputs": [
    {
     "data": {
      "text/html": [
       "<table border=\"1\" class=\"dataframe\">\n",
       "  <thead>\n",
       "    <tr style=\"text-align: right;\">\n",
       "      <th></th>\n",
       "      <th>X</th>\n",
       "      <th>Y</th>\n",
       "      <th>Z</th>\n",
       "      <th>X_r</th>\n",
       "      <th>Y_r</th>\n",
       "      <th>Z_r</th>\n",
       "      <th>G_x</th>\n",
       "      <th>G_y</th>\n",
       "      <th>G_z</th>\n",
       "      <th>dip</th>\n",
       "      <th>azimuth</th>\n",
       "      <th>polarity</th>\n",
       "      <th>surface</th>\n",
       "      <th>series</th>\n",
       "      <th>id</th>\n",
       "      <th>order_series</th>\n",
       "      <th>smooth</th>\n",
       "    </tr>\n",
       "  </thead>\n",
       "  <tbody>\n",
       "    <tr>\n",
       "      <th>1</th>\n",
       "      <td>500</td>\n",
       "      <td>500</td>\n",
       "      <td>620</td>\n",
       "      <td>0.5001</td>\n",
       "      <td>0.5001</td>\n",
       "      <td>0.5551</td>\n",
       "      <td>1.000000e-12</td>\n",
       "      <td>1.000000e-12</td>\n",
       "      <td>1.0</td>\n",
       "      <td>0</td>\n",
       "      <td>90</td>\n",
       "      <td>1</td>\n",
       "      <td>rock1</td>\n",
       "      <td>Strat_Series</td>\n",
       "      <td>1</td>\n",
       "      <td>1</td>\n",
       "      <td>0.01</td>\n",
       "    </tr>\n",
       "    <tr>\n",
       "      <th>0</th>\n",
       "      <td>500</td>\n",
       "      <td>500</td>\n",
       "      <td>820</td>\n",
       "      <td>0.5001</td>\n",
       "      <td>0.5001</td>\n",
       "      <td>0.6551</td>\n",
       "      <td>1.000000e-12</td>\n",
       "      <td>1.000000e-12</td>\n",
       "      <td>1.0</td>\n",
       "      <td>0</td>\n",
       "      <td>90</td>\n",
       "      <td>1</td>\n",
       "      <td>rock2</td>\n",
       "      <td>Strat_Series</td>\n",
       "      <td>2</td>\n",
       "      <td>1</td>\n",
       "      <td>0.01</td>\n",
       "    </tr>\n",
       "  </tbody>\n",
       "</table>"
      ],
      "text/plain": [
       "     X    Y    Z     X_r     Y_r     Z_r           G_x           G_y  G_z  dip  azimuth  polarity surface        series  id  order_series  smooth\n",
       "1  500  500  620  0.5001  0.5001  0.5551  1.000000e-12  1.000000e-12  1.0    0       90         1   rock1  Strat_Series   1             1    0.01\n",
       "0  500  500  820  0.5001  0.5001  0.6551  1.000000e-12  1.000000e-12  1.0    0       90         1   rock2  Strat_Series   2             1    0.01"
      ]
     },
     "execution_count": 8,
     "metadata": {},
     "output_type": "execute_result"
    }
   ],
   "source": [
    "geo_data.orientations"
   ]
  },
  {
   "cell_type": "code",
   "execution_count": 9,
   "metadata": {},
   "outputs": [
    {
     "data": {
      "text/plain": [
       "array([0.01, 0.01, 0.01, 0.01, 0.01, 0.01])"
      ]
     },
     "execution_count": 9,
     "metadata": {},
     "output_type": "execute_result"
    }
   ],
   "source": [
    "geo_data.interpolator.theano_graph.nugget_effect_grad_T.get_value()"
   ]
  },
  {
   "cell_type": "code",
   "execution_count": 10,
   "metadata": {
    "scrolled": false
   },
   "outputs": [
    {
     "name": "stderr",
     "output_type": "stream",
     "text": [
      "../../gempy/core/solution.py:266: UserWarning: Attribute error. Using non masked marching cubesmarching_cubes_lewiner() got an unexpected keyword argument 'mask'.\n",
      "  warnings.warn('Attribute error. Using non masked marching cubes' + str(e)+'.')\n"
     ]
    }
   ],
   "source": [
    "sol = gp.compute_model(geo_data)"
   ]
  },
  {
   "cell_type": "code",
   "execution_count": null,
   "metadata": {},
   "outputs": [],
   "source": []
  },
  {
   "cell_type": "markdown",
   "metadata": {},
   "source": [
    "Displaying the result in y and x direction:"
   ]
  },
  {
   "cell_type": "code",
   "execution_count": 11,
   "metadata": {
    "scrolled": false
   },
   "outputs": [
    {
     "data": {
      "text/plain": [
       "<gempy.plot.visualization_2d.PlotSolution at 0x135998e10>"
      ]
     },
     "execution_count": 11,
     "metadata": {},
     "output_type": "execute_result"
    },
    {
     "data": {
      "image/png": "[encoded data removed]",
      "text/plain": [
       "<Figure size 432x288 with 1 Axes>"
      ]
     },
     "metadata": {
      "needs_background": "light"
     },
     "output_type": "display_data"
    }
   ],
   "source": [
    "%matplotlib inline\n",
    "gp.plot.plot_section(geo_data, cell_number=15,\n",
    "                         direction='y', show_data=True)"
   ]
  },
  {
   "cell_type": "code",
   "execution_count": 12,
   "metadata": {},
   "outputs": [
    {
     "data": {
      "text/plain": [
       "<gempy.plot.visualization_2d.PlotSolution at 0x1358fd2d0>"
      ]
     },
     "execution_count": 12,
     "metadata": {},
     "output_type": "execute_result"
    },
    {
     "data": {
      "image/png": "[encoded data removed]",
      "text/plain": [
       "<Figure size 432x288 with 1 Axes>"
      ]
     },
     "metadata": {
      "needs_background": "light"
     },
     "output_type": "display_data"
    }
   ],
   "source": [
    "%matplotlib inline\n",
    "gp.plot.plot_section(geo_data, cell_number=25,\n",
    "                         direction='x', show_data=True)"
   ]
  },
  {
   "cell_type": "code",
   "execution_count": 13,
   "metadata": {},
   "outputs": [],
   "source": [
    "from gempy.addons import gempy_to_rexfile as rex"
   ]
  },
  {
   "cell_type": "code",
   "execution_count": 15,
   "metadata": {},
   "outputs": [
    {
     "ename": "AttributeError",
     "evalue": "'InterpolatorModel' object has no attribute 'solutions'",
     "output_type": "error",
     "traceback": [
      "\u001b[0;31m---------------------------------------------------------------------------\u001b[0m",
      "\u001b[0;31mAttributeError\u001b[0m                            Traceback (most recent call last)",
      "\u001b[0;32m<ipython-input-15-1cba9097455b>\u001b[0m in \u001b[0;36m<module>\u001b[0;34m\u001b[0m\n\u001b[0;32m----> 1\u001b[0;31m \u001b[0mrex\u001b[0m\u001b[0;34m.\u001b[0m\u001b[0mgeo_model_to_res\u001b[0m\u001b[0;34m(\u001b[0m\u001b[0minterp_data\u001b[0m\u001b[0;34m)\u001b[0m\u001b[0;34m\u001b[0m\u001b[0;34m\u001b[0m\u001b[0m\n\u001b[0m",
      "\u001b[0;32m~/Documents/coding/git/gempy/gempy/addons/gempy_to_rexfile.py\u001b[0m in \u001b[0;36mgeo_model_to_res\u001b[0;34m(geo_model, path)\u001b[0m\n\u001b[1;32m    213\u001b[0m     \u001b[0mfile_header_size\u001b[0m \u001b[0;34m=\u001b[0m \u001b[0;36m86\u001b[0m\u001b[0;34m\u001b[0m\u001b[0;34m\u001b[0m\u001b[0m\n\u001b[1;32m    214\u001b[0m     \u001b[0me\u001b[0m \u001b[0;34m=\u001b[0m \u001b[0;36m0\u001b[0m\u001b[0;34m\u001b[0m\u001b[0;34m\u001b[0m\u001b[0m\n\u001b[0;32m--> 215\u001b[0;31m     \u001b[0;32mfor\u001b[0m \u001b[0mver\u001b[0m\u001b[0;34m,\u001b[0m \u001b[0mtri\u001b[0m \u001b[0;32min\u001b[0m \u001b[0mzip\u001b[0m\u001b[0;34m(\u001b[0m\u001b[0mgeo_model\u001b[0m\u001b[0;34m.\u001b[0m\u001b[0msolutions\u001b[0m\u001b[0;34m.\u001b[0m\u001b[0mvertices\u001b[0m\u001b[0;34m,\u001b[0m \u001b[0mgeo_model\u001b[0m\u001b[0;34m.\u001b[0m\u001b[0msolutions\u001b[0m\u001b[0;34m.\u001b[0m\u001b[0medges\u001b[0m\u001b[0;34m)\u001b[0m\u001b[0;34m:\u001b[0m\u001b[0;34m\u001b[0m\u001b[0;34m\u001b[0m\u001b[0m\n\u001b[0m\u001b[1;32m    216\u001b[0m \u001b[0;34m\u001b[0m\u001b[0m\n\u001b[1;32m    217\u001b[0m         \u001b[0mcolors\u001b[0m \u001b[0;34m=\u001b[0m \u001b[0mnp\u001b[0m\u001b[0;34m.\u001b[0m\u001b[0mones_like\u001b[0m\u001b[0;34m(\u001b[0m\u001b[0mver\u001b[0m\u001b[0;34m)\u001b[0m \u001b[0;34m*\u001b[0m \u001b[0;36m200\u001b[0m\u001b[0;34m\u001b[0m\u001b[0;34m\u001b[0m\u001b[0m\n",
      "\u001b[0;31mAttributeError\u001b[0m: 'InterpolatorModel' object has no attribute 'solutions'"
     ]
    }
   ],
   "source": [
    "rex.geo_model_to_res(interp_data)"
   ]
  },
  {
   "cell_type": "code",
   "execution_count": null,
   "metadata": {},
   "outputs": [],
   "source": []
  }
 ],
 "metadata": {
  "kernelspec": {
   "display_name": "Python 3",
   "language": "python",
   "name": "python3"
  },
  "language_info": {
   "codemirror_mode": {
    "name": "ipython",
    "version": 3
   },
   "file_extension": ".py",
   "mimetype": "text/x-python",
   "name": "python",
   "nbconvert_exporter": "python",
   "pygments_lexer": "ipython3",
   "version": "3.7.6"
  }
 },
 "nbformat": 4,
 "nbformat_minor": 2
}
