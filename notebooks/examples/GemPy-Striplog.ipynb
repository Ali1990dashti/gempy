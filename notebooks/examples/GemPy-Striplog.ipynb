{
 "cells": [
  {
   "cell_type": "markdown",
   "metadata": {},
   "source": [
    "## Transform 2019: Integrating Striplog and GemPy"
   ]
  },
  {
   "cell_type": "code",
   "execution_count": 8,
   "metadata": {},
   "outputs": [],
   "source": [
    "# Authors: M. de la Varga, Evan Bianco, Brian Burnham and Dieter Werthmüller\n",
    "\n",
    "# These two lines are necessary only if GemPy is not installed\n",
    "import sys, os\n",
    "sys.path.append(\"../../\")\n",
    "\n",
    "# Importing GemPy\n",
    "import gempy as gp\n",
    "\n",
    "\n",
    "# Embedding matplotlib figures in the notebooks\n",
    "%matplotlib inline\n",
    "\n",
    "# Importing auxiliary libraries\n",
    "import numpy as np\n",
    "import pandas as pn\n",
    "import matplotlib.pyplot as plt\n",
    "\n",
    "import welly\n",
    "from welly import Location, Project\n",
    "import glob\n",
    "from striplog import Striplog, Legend, Decor\n"
   ]
  },
  {
   "cell_type": "code",
   "execution_count": 15,
   "metadata": {},
   "outputs": [
    {
     "data": {
      "text/plain": [
       "<module 'gempy' (namespace)>"
      ]
     },
     "execution_count": 15,
     "metadata": {},
     "output_type": "execute_result"
    }
   ],
   "source": [
    "gp."
   ]
  },
  {
   "cell_type": "markdown",
   "metadata": {},
   "source": [
    "#### Creating striplog object\n",
    "----"
   ]
  },
  {
   "cell_type": "code",
   "execution_count": 9,
   "metadata": {},
   "outputs": [],
   "source": [
    "# get well header coordinates\n",
    "well_heads = {'alpha': {'kb_coords':(0,0,0)},\n",
    "              'beta': {'kb_coords':(10,10,0)}, \n",
    "              'gamma': {'kb_coords':(12,0,0)}, \n",
    "              'epsilon': {'kb_coords':(20,0,0)}}"
   ]
  },
  {
   "cell_type": "code",
   "execution_count": 10,
   "metadata": {},
   "outputs": [
    {
     "data": {
      "text/plain": [
       "['../data/input_data/striplog_integration/epsilon_strip.tops',\n",
       " '../data/input_data/striplog_integration/alpha_strip.tops',\n",
       " '../data/input_data/striplog_integration/beta_strip.tops',\n",
       " '../data/input_data/striplog_integration/gamma_strip.tops']"
      ]
     },
     "execution_count": 10,
     "metadata": {},
     "output_type": "execute_result"
    }
   ],
   "source": [
    "# Reading tops file\n",
    "topsfiles = glob.glob('../data/input_data/striplog_integration/*.tops')\n",
    "topsfiles"
   ]
  },
  {
   "cell_type": "code",
   "execution_count": 11,
   "metadata": {},
   "outputs": [
    {
     "data": {
      "text/html": [
       "<table><tr><td style=\"width:2em; background-color:#DDDDDD\" rowspan=\"6\"></td><td><strong>top</strong></td><td>0.0</td></tr><tr><td><strong>primary</strong></td><td><table><tr><td><strong>lith</strong></td><td>overburden</td></tr></table></td></tr><tr><td><strong>summary</strong></td><td>50.00 m of overburden</td></tr><tr><td><strong>description</strong></td><td></td></tr><tr><td><strong>data</strong></td><td><table></table></td></tr><tr><td><strong>base</strong></td><td>50.0</td></tr></table>"
      ],
      "text/plain": [
       "Interval({'top': Position({'middle': 0.0, 'upper': 0.0, 'lower': 0.0, 'units': 'm'}), 'base': Position({'middle': 50.0, 'units': 'm'}), 'description': '', 'data': {}, 'components': [Component({'lith': 'overburden'})]})"
      ]
     },
     "execution_count": 11,
     "metadata": {},
     "output_type": "execute_result"
    }
   ],
   "source": [
    "# Creating striplog object\n",
    "my_striplogs = []\n",
    "\n",
    "for file in topsfiles:\n",
    "    with open(file) as f:\n",
    "        text = f.read()\n",
    "        striplog = Striplog.from_csv(text=text)\n",
    "        my_striplogs.append(striplog)\n",
    "        \n",
    "striplog_dict = {'alpha': my_striplogs[1],\n",
    "          'beta': my_striplogs[2],  \n",
    "          'gamma': my_striplogs[3], \n",
    "          'epsilon': my_striplogs[0]}\n",
    "striplog_dict['alpha'][0]"
   ]
  },
  {
   "cell_type": "code",
   "execution_count": 12,
   "metadata": {},
   "outputs": [
    {
     "data": {
      "image/png": "[encoded data removed]",
      "text/plain": [
       "<Figure size 432x288 with 4 Axes>"
      ]
     },
     "metadata": {
      "needs_background": "light"
     },
     "output_type": "display_data"
    }
   ],
   "source": [
    "# Plot striplog\n",
    "f, a = plt.subplots(ncols=4, sharey=True)\n",
    "\n",
    "for e, log in enumerate(striplog_dict.items()):\n",
    "    log[1].plot(ax=a[e], legend=None)\n",
    "f.tight_layout()\n"
   ]
  },
  {
   "cell_type": "code",
   "execution_count": 13,
   "metadata": {},
   "outputs": [
    {
     "data": {
      "text/html": [
       "<div>\n",
       "<style scoped>\n",
       "    .dataframe tbody tr th:only-of-type {\n",
       "        vertical-align: middle;\n",
       "    }\n",
       "\n",
       "    .dataframe tbody tr th {\n",
       "        vertical-align: top;\n",
       "    }\n",
       "\n",
       "    .dataframe thead th {\n",
       "        text-align: right;\n",
       "    }\n",
       "</style>\n",
       "<table border=\"1\" class=\"dataframe\">\n",
       "  <thead>\n",
       "    <tr style=\"text-align: right;\">\n",
       "      <th></th>\n",
       "      <th>X</th>\n",
       "      <th>Y</th>\n",
       "      <th>Z</th>\n",
       "      <th>surface</th>\n",
       "      <th>series</th>\n",
       "      <th>wellname</th>\n",
       "    </tr>\n",
       "  </thead>\n",
       "  <tbody>\n",
       "    <tr>\n",
       "      <th>0</th>\n",
       "      <td>0</td>\n",
       "      <td>0</td>\n",
       "      <td>50.0</td>\n",
       "      <td>overburden</td>\n",
       "      <td>1</td>\n",
       "      <td>alpha</td>\n",
       "    </tr>\n",
       "    <tr>\n",
       "      <th>1</th>\n",
       "      <td>0</td>\n",
       "      <td>0</td>\n",
       "      <td>75.0</td>\n",
       "      <td>miguel</td>\n",
       "      <td>1</td>\n",
       "      <td>alpha</td>\n",
       "    </tr>\n",
       "    <tr>\n",
       "      <th>2</th>\n",
       "      <td>0</td>\n",
       "      <td>0</td>\n",
       "      <td>100.0</td>\n",
       "      <td>evan</td>\n",
       "      <td>1</td>\n",
       "      <td>alpha</td>\n",
       "    </tr>\n",
       "    <tr>\n",
       "      <th>3</th>\n",
       "      <td>0</td>\n",
       "      <td>0</td>\n",
       "      <td>120.0</td>\n",
       "      <td>brian</td>\n",
       "      <td>1</td>\n",
       "      <td>alpha</td>\n",
       "    </tr>\n",
       "    <tr>\n",
       "      <th>4</th>\n",
       "      <td>0</td>\n",
       "      <td>0</td>\n",
       "      <td>121.0</td>\n",
       "      <td>dieter</td>\n",
       "      <td>1</td>\n",
       "      <td>alpha</td>\n",
       "    </tr>\n",
       "    <tr>\n",
       "      <th>5</th>\n",
       "      <td>10</td>\n",
       "      <td>10</td>\n",
       "      <td>50.0</td>\n",
       "      <td>overburden</td>\n",
       "      <td>1</td>\n",
       "      <td>beta</td>\n",
       "    </tr>\n",
       "    <tr>\n",
       "      <th>6</th>\n",
       "      <td>10</td>\n",
       "      <td>10</td>\n",
       "      <td>80.0</td>\n",
       "      <td>miguel</td>\n",
       "      <td>1</td>\n",
       "      <td>beta</td>\n",
       "    </tr>\n",
       "    <tr>\n",
       "      <th>7</th>\n",
       "      <td>10</td>\n",
       "      <td>10</td>\n",
       "      <td>100.0</td>\n",
       "      <td>evan</td>\n",
       "      <td>1</td>\n",
       "      <td>beta</td>\n",
       "    </tr>\n",
       "    <tr>\n",
       "      <th>8</th>\n",
       "      <td>10</td>\n",
       "      <td>10</td>\n",
       "      <td>130.0</td>\n",
       "      <td>brian</td>\n",
       "      <td>1</td>\n",
       "      <td>beta</td>\n",
       "    </tr>\n",
       "    <tr>\n",
       "      <th>9</th>\n",
       "      <td>10</td>\n",
       "      <td>10</td>\n",
       "      <td>131.0</td>\n",
       "      <td>dieter</td>\n",
       "      <td>1</td>\n",
       "      <td>beta</td>\n",
       "    </tr>\n",
       "    <tr>\n",
       "      <th>10</th>\n",
       "      <td>12</td>\n",
       "      <td>0</td>\n",
       "      <td>50.0</td>\n",
       "      <td>overburden</td>\n",
       "      <td>1</td>\n",
       "      <td>gamma</td>\n",
       "    </tr>\n",
       "    <tr>\n",
       "      <th>11</th>\n",
       "      <td>12</td>\n",
       "      <td>0</td>\n",
       "      <td>75.0</td>\n",
       "      <td>miguel</td>\n",
       "      <td>1</td>\n",
       "      <td>gamma</td>\n",
       "    </tr>\n",
       "    <tr>\n",
       "      <th>12</th>\n",
       "      <td>12</td>\n",
       "      <td>0</td>\n",
       "      <td>100.0</td>\n",
       "      <td>evan</td>\n",
       "      <td>1</td>\n",
       "      <td>gamma</td>\n",
       "    </tr>\n",
       "    <tr>\n",
       "      <th>13</th>\n",
       "      <td>12</td>\n",
       "      <td>0</td>\n",
       "      <td>130.0</td>\n",
       "      <td>brian</td>\n",
       "      <td>1</td>\n",
       "      <td>gamma</td>\n",
       "    </tr>\n",
       "    <tr>\n",
       "      <th>14</th>\n",
       "      <td>12</td>\n",
       "      <td>0</td>\n",
       "      <td>131.0</td>\n",
       "      <td>dieter</td>\n",
       "      <td>1</td>\n",
       "      <td>gamma</td>\n",
       "    </tr>\n",
       "    <tr>\n",
       "      <th>15</th>\n",
       "      <td>20</td>\n",
       "      <td>0</td>\n",
       "      <td>50.0</td>\n",
       "      <td>overburden</td>\n",
       "      <td>1</td>\n",
       "      <td>epsilon</td>\n",
       "    </tr>\n",
       "    <tr>\n",
       "      <th>16</th>\n",
       "      <td>20</td>\n",
       "      <td>0</td>\n",
       "      <td>75.0</td>\n",
       "      <td>miguel</td>\n",
       "      <td>1</td>\n",
       "      <td>epsilon</td>\n",
       "    </tr>\n",
       "    <tr>\n",
       "      <th>17</th>\n",
       "      <td>20</td>\n",
       "      <td>0</td>\n",
       "      <td>110.0</td>\n",
       "      <td>brian</td>\n",
       "      <td>1</td>\n",
       "      <td>epsilon</td>\n",
       "    </tr>\n",
       "    <tr>\n",
       "      <th>18</th>\n",
       "      <td>20</td>\n",
       "      <td>0</td>\n",
       "      <td>111.0</td>\n",
       "      <td>dieter</td>\n",
       "      <td>1</td>\n",
       "      <td>epsilon</td>\n",
       "    </tr>\n",
       "  </tbody>\n",
       "</table>\n",
       "</div>"
      ],
      "text/plain": [
       "     X   Y      Z     surface  series wellname\n",
       "0    0   0   50.0  overburden       1    alpha\n",
       "1    0   0   75.0      miguel       1    alpha\n",
       "2    0   0  100.0        evan       1    alpha\n",
       "3    0   0  120.0       brian       1    alpha\n",
       "4    0   0  121.0      dieter       1    alpha\n",
       "5   10  10   50.0  overburden       1     beta\n",
       "6   10  10   80.0      miguel       1     beta\n",
       "7   10  10  100.0        evan       1     beta\n",
       "8   10  10  130.0       brian       1     beta\n",
       "9   10  10  131.0      dieter       1     beta\n",
       "10  12   0   50.0  overburden       1    gamma\n",
       "11  12   0   75.0      miguel       1    gamma\n",
       "12  12   0  100.0        evan       1    gamma\n",
       "13  12   0  130.0       brian       1    gamma\n",
       "14  12   0  131.0      dieter       1    gamma\n",
       "15  20   0   50.0  overburden       1  epsilon\n",
       "16  20   0   75.0      miguel       1  epsilon\n",
       "17  20   0  110.0       brian       1  epsilon\n",
       "18  20   0  111.0      dieter       1  epsilon"
      ]
     },
     "execution_count": 13,
     "metadata": {},
     "output_type": "execute_result"
    }
   ],
   "source": [
    "# Striplog to pandas df of bottoms\n",
    "rows = []\n",
    "for wellname in striplog_dict.keys():\n",
    "    for i, interval in enumerate(striplog_dict[wellname]):\n",
    "            surface_name = interval.primary.lith\n",
    "            surface_base = interval.base.middle\n",
    "            x,y = well_heads[wellname]['kb_coords'][:-1]\n",
    "            series = 1\n",
    "            rows.append([x, y, surface_base, surface_name, series, wellname])\n",
    "column_names = ['X','Y','Z','surface', 'series','wellname']\n",
    "df = pn.DataFrame(rows, columns=column_names)\n",
    "df"
   ]
  },
  {
   "cell_type": "markdown",
   "metadata": {},
   "source": [
    "#### GemPy model\n",
    "-----"
   ]
  },
  {
   "cell_type": "code",
   "execution_count": 14,
   "metadata": {},
   "outputs": [
    {
     "ename": "AttributeError",
     "evalue": "module 'gempy' has no attribute 'create_model'",
     "output_type": "error",
     "traceback": [
      "\u001b[0;31m---------------------------------------------------------------------------\u001b[0m",
      "\u001b[0;31mAttributeError\u001b[0m                            Traceback (most recent call last)",
      "\u001b[0;32m<ipython-input-14-cec785e1e9b2>\u001b[0m in \u001b[0;36m<module>\u001b[0;34m\u001b[0m\n\u001b[1;32m      1\u001b[0m \u001b[0;31m# Create gempy model object\u001b[0m\u001b[0;34m\u001b[0m\u001b[0;34m\u001b[0m\u001b[0;34m\u001b[0m\u001b[0m\n\u001b[0;32m----> 2\u001b[0;31m \u001b[0mgeo_model\u001b[0m \u001b[0;34m=\u001b[0m \u001b[0mgp\u001b[0m\u001b[0;34m.\u001b[0m\u001b[0mcreate_model\u001b[0m\u001b[0;34m(\u001b[0m\u001b[0;34m'welly_integration'\u001b[0m\u001b[0;34m)\u001b[0m\u001b[0;34m\u001b[0m\u001b[0;34m\u001b[0m\u001b[0m\n\u001b[0m\u001b[1;32m      3\u001b[0m \u001b[0;34m\u001b[0m\u001b[0m\n\u001b[1;32m      4\u001b[0m \u001b[0mextent\u001b[0m \u001b[0;34m=\u001b[0m \u001b[0;34m[\u001b[0m\u001b[0;34m-\u001b[0m\u001b[0;36m100\u001b[0m\u001b[0;34m,\u001b[0m \u001b[0;36m300\u001b[0m\u001b[0;34m,\u001b[0m \u001b[0;34m-\u001b[0m\u001b[0;36m100\u001b[0m\u001b[0;34m,\u001b[0m \u001b[0;36m200\u001b[0m\u001b[0;34m,\u001b[0m \u001b[0;34m-\u001b[0m\u001b[0;36m150\u001b[0m\u001b[0;34m,\u001b[0m \u001b[0;36m0\u001b[0m\u001b[0;34m]\u001b[0m\u001b[0;34m\u001b[0m\u001b[0;34m\u001b[0m\u001b[0m\n\u001b[1;32m      5\u001b[0m \u001b[0mres\u001b[0m \u001b[0;34m=\u001b[0m \u001b[0;34m[\u001b[0m\u001b[0;36m60\u001b[0m\u001b[0;34m,\u001b[0m \u001b[0;36m60\u001b[0m\u001b[0;34m,\u001b[0m \u001b[0;36m60\u001b[0m\u001b[0;34m]\u001b[0m\u001b[0;34m\u001b[0m\u001b[0;34m\u001b[0m\u001b[0m\n",
      "\u001b[0;31mAttributeError\u001b[0m: module 'gempy' has no attribute 'create_model'"
     ]
    }
   ],
   "source": [
    "# Create gempy model object\n",
    "geo_model = gp.create_model('welly_integration')\n",
    "\n",
    "extent = [-100, 300, -100, 200, -150, 0]\n",
    "res = [60, 60, 60]\n",
    "\n",
    "# Initializting model using the striplog df\n",
    "gp.init_data(geo_model, extent, res, surface_points_df = df)"
   ]
  },
  {
   "cell_type": "code",
   "execution_count": null,
   "metadata": {},
   "outputs": [],
   "source": [
    "geo_model.surface_points.df.head()"
   ]
  },
  {
   "cell_type": "code",
   "execution_count": null,
   "metadata": {},
   "outputs": [],
   "source": [
    "geo_model.surfaces"
   ]
  },
  {
   "cell_type": "code",
   "execution_count": null,
   "metadata": {},
   "outputs": [],
   "source": [
    "dec_list =[]\n",
    "for e, i in enumerate(striplog_dict['alpha']):\n",
    "    dec_list.append(Decor({'_colour': geo_model.surfaces.df.loc[e, 'color'],\n",
    "  'width': None,\n",
    "  'component': i.primary,\n",
    "  'hatch': None}))"
   ]
  },
  {
   "cell_type": "code",
   "execution_count": null,
   "metadata": {},
   "outputs": [],
   "source": []
  },
  {
   "cell_type": "code",
   "execution_count": null,
   "metadata": {},
   "outputs": [],
   "source": [
    "# welly plot with gempy colors\n",
    "# Create Decor list\n",
    "dec_list =[]\n",
    "for e, i in enumerate(striplog_dict['alpha']):\n",
    "    dec_list.append(Decor({'_colour': geo_model.surfaces.df.loc[e, 'color'],\n",
    "  'width': None,\n",
    "  'component': i.primary,\n",
    "  'hatch': None}))\n",
    "    \n",
    "# Create legend\n",
    "legend = Legend(dec_list)\n",
    "legend"
   ]
  },
  {
   "cell_type": "code",
   "execution_count": null,
   "metadata": {},
   "outputs": [],
   "source": [
    "# Plot striplogs:\n",
    "# Plot striplog\n",
    "f, a = plt.subplots(ncols=4, sharey=True)\n",
    "\n",
    "for e, log in enumerate(striplog_dict.items()):\n",
    "    log[1].plot(ax=a[e], legend=legend)\n",
    "f.tight_layout()"
   ]
  },
  {
   "cell_type": "code",
   "execution_count": null,
   "metadata": {},
   "outputs": [],
   "source": [
    "# Modifying the coordinates to make more sense\n",
    "geo_model.surface_points.df[['X', 'Y']] = geo_model.surface_points.df[['X', 'Y']] * 10 \n",
    "geo_model.surface_points.df['Z'] *= -1"
   ]
  },
  {
   "cell_type": "code",
   "execution_count": null,
   "metadata": {},
   "outputs": [],
   "source": [
    "# Delete points of the basement surface since we are intepolating bottoms (that surface wont exit).\n",
    "geo_model.delete_surface_points_basement()"
   ]
  },
  {
   "cell_type": "code",
   "execution_count": null,
   "metadata": {},
   "outputs": [],
   "source": [
    "# Adding an arbitrary orientation. Remember gempy need an orientation per series\n",
    "geo_model.set_default_orientation()\n",
    "geo_model.modify_orientations(0, X=-500)"
   ]
  },
  {
   "cell_type": "code",
   "execution_count": null,
   "metadata": {},
   "outputs": [],
   "source": [
    "gp.plot.plot_data(geo_model)"
   ]
  },
  {
   "cell_type": "code",
   "execution_count": null,
   "metadata": {},
   "outputs": [],
   "source": [
    "# vtk_obj = gp.plot.plot_3D(geo_model, silent=False)"
   ]
  },
  {
   "cell_type": "code",
   "execution_count": null,
   "metadata": {},
   "outputs": [],
   "source": [
    "gp.set_interpolation_data(geo_model)"
   ]
  },
  {
   "cell_type": "code",
   "execution_count": null,
   "metadata": {},
   "outputs": [],
   "source": [
    "gp.compute_model(geo_model)"
   ]
  },
  {
   "cell_type": "code",
   "execution_count": null,
   "metadata": {
    "scrolled": false
   },
   "outputs": [],
   "source": [
    "# Plotting the interpolated model with the well logs below. Placing the wells in the same coordinate system need\n",
    "# quite a bit of love yet.\n",
    "\n",
    "p = gp.plot.plot_section(geo_model, 30,  show_data=True)\n",
    "axs = p.fig.axes[0]\n",
    "axis_to_data = axs.transAxes + axs.transData.inverted() \n",
    "data_to_axis = axis_to_data.inverted()\n",
    "\n",
    "for e, log in enumerate(striplog_dict.items()):\n",
    "    # X coordinates of heads, times 10 because we are rescaling all data. \n",
    "    X = (np.array(well_heads[log[0]]['kb_coords'])[[0]] * 10).astype('float')\n",
    "\n",
    "    # y scale we use the model  height but it is quite arbitrary\n",
    "    x, y, width, height = data_to_axis.transform((X[0], -230, 1, 1))\n",
    "    p.fig.add_axes([x, y,0.03, 0.5])\n",
    "    log[1].plot(ax=p.fig.axes[-1],width=10, legend=legend)\n",
    "\n",
    "\n",
    "\n"
   ]
  },
  {
   "cell_type": "code",
   "execution_count": null,
   "metadata": {},
   "outputs": [],
   "source": [
    "# vp = gp.plot.plot_3D(geo_model)"
   ]
  },
  {
   "cell_type": "markdown",
   "metadata": {},
   "source": [
    "## Pinch out model\n",
    "----\n",
    "As we can see the 3D model generated above does not honor the forth well lets fix it. First lets add an unconformity: between the yellow and green layer:\n"
   ]
  },
  {
   "cell_type": "code",
   "execution_count": null,
   "metadata": {},
   "outputs": [],
   "source": [
    "geo_model.add_series('Unconformity')"
   ]
  },
  {
   "cell_type": "markdown",
   "metadata": {},
   "source": [
    "Now we set the green layer in the second series"
   ]
  },
  {
   "cell_type": "code",
   "execution_count": null,
   "metadata": {},
   "outputs": [],
   "source": [
    "geo_model.map_series_to_surfaces({'Uncomformity':['brian', 'evan', 'dieter']})"
   ]
  },
  {
   "cell_type": "markdown",
   "metadata": {},
   "source": [
    "Lastly we need to add a dummy orientation to the new series:"
   ]
  },
  {
   "cell_type": "code",
   "execution_count": null,
   "metadata": {},
   "outputs": [],
   "source": [
    "geo_model.add_orientations(-500, 0, -100, 'dieter', [0, 0 , 1])"
   ]
  },
  {
   "cell_type": "markdown",
   "metadata": {},
   "source": [
    "Now we can compute:"
   ]
  },
  {
   "cell_type": "code",
   "execution_count": null,
   "metadata": {},
   "outputs": [],
   "source": [
    "gp.compute_model(geo_model)"
   ]
  },
  {
   "cell_type": "code",
   "execution_count": null,
   "metadata": {},
   "outputs": [],
   "source": [
    "p = gp.plot.plot_section(geo_model, 30,  show_data=True)\n",
    "axs = p.fig.axes[0]\n",
    "axis_to_data = axs.transAxes + axs.transData.inverted() \n",
    "data_to_axis = axis_to_data.inverted()\n",
    "\n",
    "for e, log in enumerate(striplog_dict.items()):\n",
    "    # X coordinates of heads, times 10 because we are rescaling all data. \n",
    "    X = (np.array(well_heads[log[0]]['kb_coords'])[[0]] * 10).astype('float')\n",
    "\n",
    "    # y scale we use the model  height but it is quite arbitrary\n",
    "    x, y, width, height = data_to_axis.transform((X[0], -230, 1, 1))\n",
    "    p.fig.add_axes([x, y,0.03, 0.5])\n",
    "    log[1].plot(ax=p.fig.axes[-1],width=10, legend=legend)\n"
   ]
  },
  {
   "cell_type": "markdown",
   "metadata": {},
   "source": [
    "Getting better but not quite there yet. Since the yellow does not show up in the last well the pinch out has to happen somewhere before so lets add an artifial point to get that shape:"
   ]
  },
  {
   "cell_type": "code",
   "execution_count": null,
   "metadata": {},
   "outputs": [],
   "source": [
    "geo_model.add_surface_points(200, 0, -75, 'evan');"
   ]
  },
  {
   "cell_type": "code",
   "execution_count": null,
   "metadata": {},
   "outputs": [],
   "source": [
    "gp.compute_model(geo_model)\n",
    "p = gp.plot.plot_section(geo_model, 30,  show_data=True)\n",
    "axs = p.fig.axes[0]\n",
    "axis_to_data = axs.transAxes + axs.transData.inverted() \n",
    "data_to_axis = axis_to_data.inverted()\n",
    "\n",
    "for e, log in enumerate(striplog_dict.items()):\n",
    "    # X coordinates of heads, times 10 because we are rescaling all data. \n",
    "    X = (np.array(well_heads[log[0]]['kb_coords'])[[0]] * 10).astype('float')\n",
    "\n",
    "    # y scale we use the model  height but it is quite arbitrary\n",
    "    x, y, width, height = data_to_axis.transform((X[0], -230, 1, 1))\n",
    "    p.fig.add_axes([x, y,0.03, 0.5])\n",
    "    log[1].plot(ax=p.fig.axes[-1],width=10, legend=legend)\n"
   ]
  },
  {
   "cell_type": "code",
   "execution_count": null,
   "metadata": {},
   "outputs": [],
   "source": [
    "# gp.save_model(geo_model)"
   ]
  }
 ],
 "metadata": {
  "kernelspec": {
   "display_name": "Python 3",
   "language": "python",
   "name": "python3"
  },
  "language_info": {
   "codemirror_mode": {
    "name": "ipython",
    "version": 3
   },
   "file_extension": ".py",
   "mimetype": "text/x-python",
   "name": "python",
   "nbconvert_exporter": "python",
   "pygments_lexer": "ipython3",
   "version": "3.7.3"
  }
 },
 "nbformat": 4,
 "nbformat_minor": 2
}
