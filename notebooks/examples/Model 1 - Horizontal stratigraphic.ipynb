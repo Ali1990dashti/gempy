{
 "cells": [
  {
   "cell_type": "markdown",
   "metadata": {},
   "source": [
    "# Model 1 - Horizontal stratigraphic"
   ]
  },
  {
   "cell_type": "markdown",
   "metadata": {},
   "source": [
    "This is the most simpel model of horizontally stacked layers. We start by importing the necessary dependencies:"
   ]
  },
  {
   "cell_type": "code",
   "execution_count": 1,
   "metadata": {},
   "outputs": [
    {
     "name": "stderr",
     "output_type": "stream",
     "text": [
      "WARNING (theano.tensor.blas): Using NumPy C-API based implementation for BLAS functions.\n"
     ]
    }
   ],
   "source": [
    "# These two lines are necessary only if GemPy is not installed\n",
    "import sys, os\n",
    "sys.path.append(\"../..\")\n",
    "os.environ[\"THEANO_FLAGS\"] = \"mode=FAST_RUN,device=cpu\"\n",
    "\n",
    "# Importing GemPy\n",
    "import gempy as gp\n",
    "\n",
    "# Embedding matplotlib figures in the notebooks\n",
    "%matplotlib inline\n",
    "\n",
    "# Importing auxiliary libraries\n",
    "import numpy as np\n",
    "import matplotlib.pyplot as plt"
   ]
  },
  {
   "cell_type": "markdown",
   "metadata": {},
   "source": [
    "Creating the model by importing the input data and displaying it:"
   ]
  },
  {
   "cell_type": "code",
   "execution_count": 2,
   "metadata": {
    "scrolled": false
   },
   "outputs": [
    {
     "name": "stdout",
     "output_type": "stream",
     "text": [
      "Active grids: ['regular']\n"
     ]
    }
   ],
   "source": [
    "geo_data = gp.create_data([0,1000,0,1000,0,1000],resolution=[50,50,50], \n",
    "                        path_o = os.pardir+\"/data/input_data/jan_models/model3_orientations.csv\",\n",
    "                        path_i = os.pardir+\"/data/input_data/jan_models/model3_surface_points.csv\") "
   ]
  },
  {
   "cell_type": "markdown",
   "metadata": {},
   "source": [
    "Setting and ordering the units and series:"
   ]
  },
  {
   "cell_type": "code",
   "execution_count": 3,
   "metadata": {},
   "outputs": [
    {
     "data": {
      "text/html": [
       "<style  type=\"text/css\" >\n",
       "    #T_5e690e80_c738_11e9_9221_c5d90825d4adrow0_col4 {\n",
       "            background-color:  #015482;\n",
       "        }    #T_5e690e80_c738_11e9_9221_c5d90825d4adrow1_col4 {\n",
       "            background-color:  #9f0052;\n",
       "        }    #T_5e690e80_c738_11e9_9221_c5d90825d4adrow2_col4 {\n",
       "            background-color:  #ffbe00;\n",
       "        }</style><table id=\"T_5e690e80_c738_11e9_9221_c5d90825d4ad\" ><thead>    <tr>        <th class=\"blank level0\" ></th>        <th class=\"col_heading level0 col0\" >surface</th>        <th class=\"col_heading level0 col1\" >series</th>        <th class=\"col_heading level0 col2\" >order_surfaces</th>        <th class=\"col_heading level0 col3\" >isBasement</th>        <th class=\"col_heading level0 col4\" >color</th>        <th class=\"col_heading level0 col5\" >id</th>    </tr></thead><tbody>\n",
       "                <tr>\n",
       "                        <th id=\"T_5e690e80_c738_11e9_9221_c5d90825d4adlevel0_row0\" class=\"row_heading level0 row0\" >0</th>\n",
       "                        <td id=\"T_5e690e80_c738_11e9_9221_c5d90825d4adrow0_col0\" class=\"data row0 col0\" >rock1</td>\n",
       "                        <td id=\"T_5e690e80_c738_11e9_9221_c5d90825d4adrow0_col1\" class=\"data row0 col1\" >Strat_Series</td>\n",
       "                        <td id=\"T_5e690e80_c738_11e9_9221_c5d90825d4adrow0_col2\" class=\"data row0 col2\" >1</td>\n",
       "                        <td id=\"T_5e690e80_c738_11e9_9221_c5d90825d4adrow0_col3\" class=\"data row0 col3\" >False</td>\n",
       "                        <td id=\"T_5e690e80_c738_11e9_9221_c5d90825d4adrow0_col4\" class=\"data row0 col4\" >#015482</td>\n",
       "                        <td id=\"T_5e690e80_c738_11e9_9221_c5d90825d4adrow0_col5\" class=\"data row0 col5\" >1</td>\n",
       "            </tr>\n",
       "            <tr>\n",
       "                        <th id=\"T_5e690e80_c738_11e9_9221_c5d90825d4adlevel0_row1\" class=\"row_heading level0 row1\" >1</th>\n",
       "                        <td id=\"T_5e690e80_c738_11e9_9221_c5d90825d4adrow1_col0\" class=\"data row1 col0\" >rock2</td>\n",
       "                        <td id=\"T_5e690e80_c738_11e9_9221_c5d90825d4adrow1_col1\" class=\"data row1 col1\" >Strat_Series</td>\n",
       "                        <td id=\"T_5e690e80_c738_11e9_9221_c5d90825d4adrow1_col2\" class=\"data row1 col2\" >2</td>\n",
       "                        <td id=\"T_5e690e80_c738_11e9_9221_c5d90825d4adrow1_col3\" class=\"data row1 col3\" >False</td>\n",
       "                        <td id=\"T_5e690e80_c738_11e9_9221_c5d90825d4adrow1_col4\" class=\"data row1 col4\" >#9f0052</td>\n",
       "                        <td id=\"T_5e690e80_c738_11e9_9221_c5d90825d4adrow1_col5\" class=\"data row1 col5\" >2</td>\n",
       "            </tr>\n",
       "            <tr>\n",
       "                        <th id=\"T_5e690e80_c738_11e9_9221_c5d90825d4adlevel0_row2\" class=\"row_heading level0 row2\" >2</th>\n",
       "                        <td id=\"T_5e690e80_c738_11e9_9221_c5d90825d4adrow2_col0\" class=\"data row2 col0\" >basement</td>\n",
       "                        <td id=\"T_5e690e80_c738_11e9_9221_c5d90825d4adrow2_col1\" class=\"data row2 col1\" >Basement_Series</td>\n",
       "                        <td id=\"T_5e690e80_c738_11e9_9221_c5d90825d4adrow2_col2\" class=\"data row2 col2\" >1</td>\n",
       "                        <td id=\"T_5e690e80_c738_11e9_9221_c5d90825d4adrow2_col3\" class=\"data row2 col3\" >True</td>\n",
       "                        <td id=\"T_5e690e80_c738_11e9_9221_c5d90825d4adrow2_col4\" class=\"data row2 col4\" >#ffbe00</td>\n",
       "                        <td id=\"T_5e690e80_c738_11e9_9221_c5d90825d4adrow2_col5\" class=\"data row2 col5\" >3</td>\n",
       "            </tr>\n",
       "    </tbody></table>"
      ],
      "text/plain": [
       "    surface           series  order_surfaces  isBasement    color vertices edges  id\n",
       "0     rock1     Strat_Series               1       False  #015482      NaN   NaN   1\n",
       "1     rock2     Strat_Series               2       False  #9f0052      NaN   NaN   2\n",
       "2  basement  Basement_Series               1        True  #ffbe00      NaN   NaN   3"
      ]
     },
     "execution_count": 3,
     "metadata": {},
     "output_type": "execute_result"
    }
   ],
   "source": [
    "gp.map_series_to_surfaces(geo_data, {\"Strat_Series\": ('rock2','rock1'),\"Basement_Series\":('basement')})"
   ]
  },
  {
   "cell_type": "code",
   "execution_count": 4,
   "metadata": {},
   "outputs": [
    {
     "data": {
      "text/plain": [
       "<gempy.plot.visualization_2d.PlotData2D at 0x7f887f362470>"
      ]
     },
     "execution_count": 4,
     "metadata": {},
     "output_type": "execute_result"
    },
    {
     "data": {
      "image/png": "[encoded data removed]",
      "text/plain": [
       "<Figure size 360x360 with 1 Axes>"
      ]
     },
     "metadata": {},
     "output_type": "display_data"
    }
   ],
   "source": [
    "%matplotlib inline\n",
    "gp.plot.plot_data(geo_data, direction='y')"
   ]
  },
  {
   "cell_type": "markdown",
   "metadata": {},
   "source": [
    "Calculating the model:"
   ]
  },
  {
   "cell_type": "code",
   "execution_count": 10,
   "metadata": {
    "scrolled": false
   },
   "outputs": [
    {
     "name": "stdout",
     "output_type": "stream",
     "text": [
      "Compiling theano function...\n",
      "Compilation Done!\n"
     ]
    }
   ],
   "source": [
    "interp_data = gp.set_interpolation_data(geo_data, compile_theano=True,\n",
    "                                        theano_optimizer='fast_compile')"
   ]
  },
  {
   "cell_type": "code",
   "execution_count": 6,
   "metadata": {
    "scrolled": false
   },
   "outputs": [
    {
     "name": "stdout",
     "output_type": "stream",
     "text": [
      "Compiling theano function...\n",
      "Compilation Done!\n"
     ]
    }
   ],
   "source": [
    "from gempy.core.interpolator import InterpolatorWeights, InterpolatorScalar\n",
    "geo_model = geo_data\n",
    "iw = InterpolatorScalar(geo_model.surface_points, geo_model.orientations, geo_model.grid, geo_model.surfaces,\n",
    "                                              geo_model.series, geo_model.faults, geo_model.additional_data)\n",
    "th_f = iw.compile_th_fn()\n",
    "\n",
    "Z_x = th_f(*geo_model.interpolator.get_python_input_block(append_control=True, fault_drift=None)[:7])"
   ]
  },
  {
   "cell_type": "code",
   "execution_count": 7,
   "metadata": {},
   "outputs": [
    {
     "data": {
      "text/plain": [
       "<matplotlib.contour.QuadContourSet at 0x7f883fa918d0>"
      ]
     },
     "execution_count": 7,
     "metadata": {},
     "output_type": "execute_result"
    },
    {
     "data": {
      "image/png": "[encoded data removed]",
      "text/plain": [
       "<Figure size 748.8x514.8 with 1 Axes>"
      ]
     },
     "metadata": {},
     "output_type": "display_data"
    }
   ],
   "source": [
    "plt.contourf(Z_x[:125000].reshape(50,50,50).T[:,25,:], cmap='viridis')"
   ]
  },
  {
   "cell_type": "code",
   "execution_count": 8,
   "metadata": {},
   "outputs": [
    {
     "data": {
      "text/plain": [
       "<gempy.core.theano.theano_graph_pro.SolveSparse object at 0x7f8872425a20>.0"
      ]
     },
     "execution_count": 8,
     "metadata": {},
     "output_type": "execute_result"
    }
   ],
   "source": [
    "a = interp_data.theano_graph.solve_kriging()\n",
    "a"
   ]
  },
  {
   "cell_type": "code",
   "execution_count": 9,
   "metadata": {},
   "outputs": [
    {
     "ename": "AttributeError",
     "evalue": "'TheanoGraphPro' object has no attribute 's'",
     "output_type": "error",
     "traceback": [
      "\u001b[0;31m---------------------------------------------------------------------------\u001b[0m",
      "\u001b[0;31mAttributeError\u001b[0m                            Traceback (most recent call last)",
      "\u001b[0;32m<ipython-input-9-f01c8716d274>\u001b[0m in \u001b[0;36m<module>\u001b[0;34m\u001b[0m\n\u001b[1;32m      5\u001b[0m \u001b[0;34m\u001b[0m\u001b[0m\n\u001b[1;32m      6\u001b[0m th_fn = theano.function(input_data_T,\n\u001b[0;32m----> 7\u001b[0;31m                                 \u001b[0minterp_data\u001b[0m\u001b[0;34m.\u001b[0m\u001b[0mtheano_graph\u001b[0m\u001b[0;34m.\u001b[0m\u001b[0ms\u001b[0m\u001b[0;34m(\u001b[0m\u001b[0;34m)\u001b[0m\u001b[0;34m,\u001b[0m\u001b[0;34m\u001b[0m\u001b[0;34m\u001b[0m\u001b[0m\n\u001b[0m\u001b[1;32m      8\u001b[0m                                 \u001b[0;31m# mode=NanGuardMode(nan_is_error=True),\u001b[0m\u001b[0;34m\u001b[0m\u001b[0;34m\u001b[0m\u001b[0;34m\u001b[0m\u001b[0m\n\u001b[1;32m      9\u001b[0m                                 \u001b[0mon_unused_input\u001b[0m\u001b[0;34m=\u001b[0m\u001b[0;34m'ignore'\u001b[0m\u001b[0;34m,\u001b[0m\u001b[0;34m\u001b[0m\u001b[0;34m\u001b[0m\u001b[0m\n",
      "\u001b[0;31mAttributeError\u001b[0m: 'TheanoGraphPro' object has no attribute 's'"
     ]
    }
   ],
   "source": [
    "import theano\n",
    "from theano import sparse\n",
    "geo_model = geo_data\n",
    "input_data_T = interp_data.theano_graph.input_parameters_kriging_export\n",
    "\n",
    "th_fn = theano.function(input_data_T,\n",
    "                                interp_data.theano_graph.s(),\n",
    "                                # mode=NanGuardMode(nan_is_error=True),\n",
    "                                on_unused_input='ignore',\n",
    "                                allow_input_downcast=False,\n",
    "                                profile=False)\n"
   ]
  },
  {
   "cell_type": "code",
   "execution_count": null,
   "metadata": {},
   "outputs": [],
   "source": [
    "th_fn(*geo_model.interpolator.get_python_input_block(append_control=True, fault_drift=None)[:7])"
   ]
  },
  {
   "cell_type": "code",
   "execution_count": null,
   "metadata": {},
   "outputs": [],
   "source": [
    "break"
   ]
  },
  {
   "cell_type": "code",
   "execution_count": null,
   "metadata": {
    "scrolled": false
   },
   "outputs": [],
   "source": [
    "th_fn(*geo_model.interpolator.get_python_input_block(append_control=True, fault_drift=None)[:7])"
   ]
  },
  {
   "cell_type": "code",
   "execution_count": null,
   "metadata": {
    "scrolled": true
   },
   "outputs": [],
   "source": [
    "break"
   ]
  },
  {
   "cell_type": "code",
   "execution_count": null,
   "metadata": {},
   "outputs": [],
   "source": [
    "break"
   ]
  },
  {
   "cell_type": "code",
   "execution_count": 11,
   "metadata": {
    "scrolled": true
   },
   "outputs": [],
   "source": [
    "sol = gp.compute_model(geo_data)"
   ]
  },
  {
   "cell_type": "code",
   "execution_count": null,
   "metadata": {},
   "outputs": [],
   "source": [
    "%debug"
   ]
  },
  {
   "cell_type": "code",
   "execution_count": null,
   "metadata": {},
   "outputs": [],
   "source": [
    "geo_model.interpolator.get_python_input_block(append_control=True, fault_drift=None)[:7]"
   ]
  },
  {
   "cell_type": "code",
   "execution_count": null,
   "metadata": {},
   "outputs": [],
   "source": [
    "from gempy.core.interpolator import InterpolatorWeights\n",
    "geo_model = geo_data\n",
    "iw = InterpolatorWeights(geo_model.surface_points, geo_model.orientations, geo_model.grid, geo_model.surfaces,\n",
    "                                              geo_model.series, geo_model.faults, geo_model.additional_data)\n",
    "th_f = iw.compile_th_fn()\n",
    "\n",
    "th_f(*geo_model.interpolator.get_python_input_block(append_control=True, fault_drift=None)[:6])"
   ]
  },
  {
   "cell_type": "code",
   "execution_count": null,
   "metadata": {},
   "outputs": [],
   "source": []
  },
  {
   "cell_type": "code",
   "execution_count": null,
   "metadata": {},
   "outputs": [],
   "source": [
    "interp_data.theano_graph.number_of_points_per_surface_T.get_value()"
   ]
  },
  {
   "cell_type": "code",
   "execution_count": null,
   "metadata": {
    "scrolled": false
   },
   "outputs": [],
   "source": [
    "sol = gp.compute_model(geo_data)"
   ]
  },
  {
   "cell_type": "markdown",
   "metadata": {},
   "source": [
    "Displaying the result in x and y direction:"
   ]
  },
  {
   "cell_type": "code",
   "execution_count": 12,
   "metadata": {
    "scrolled": false
   },
   "outputs": [
    {
     "data": {
      "text/plain": [
       "<gempy.plot.visualization_2d.PlotData2D at 0x7f883ee4fe48>"
      ]
     },
     "execution_count": 12,
     "metadata": {},
     "output_type": "execute_result"
    },
    {
     "data": {
      "image/png": "[encoded data removed]",
      "text/plain": [
       "<Figure size 360x360 with 1 Axes>"
      ]
     },
     "metadata": {},
     "output_type": "display_data"
    }
   ],
   "source": [
    "%matplotlib inline\n",
    "gp.plot.plot_section(geo_data, cell_number=25,\n",
    "                         direction='x', show_data=True)"
   ]
  },
  {
   "cell_type": "code",
   "execution_count": 13,
   "metadata": {},
   "outputs": [
    {
     "data": {
      "text/plain": [
       "<gempy.plot.visualization_2d.PlotData2D at 0x7f88ec5e18d0>"
      ]
     },
     "execution_count": 13,
     "metadata": {},
     "output_type": "execute_result"
    },
    {
     "data": {
      "image/png": "[encoded data removed]",
      "text/plain": [
       "<Figure size 360x360 with 1 Axes>"
      ]
     },
     "metadata": {},
     "output_type": "display_data"
    }
   ],
   "source": [
    "%matplotlib inline\n",
    "gp.plot.plot_section(geo_data, cell_number=25,\n",
    "                    direction='y', show_data=True)"
   ]
  },
  {
   "cell_type": "code",
   "execution_count": null,
   "metadata": {},
   "outputs": [],
   "source": []
  },
  {
   "cell_type": "code",
   "execution_count": null,
   "metadata": {},
   "outputs": [],
   "source": []
  }
 ],
 "metadata": {
  "kernelspec": {
   "display_name": "Python 3",
   "language": "python",
   "name": "python3"
  },
  "language_info": {
   "codemirror_mode": {
    "name": "ipython",
    "version": 3
   },
   "file_extension": ".py",
   "mimetype": "text/x-python",
   "name": "python",
   "nbconvert_exporter": "python",
   "pygments_lexer": "ipython3",
   "version": "3.7.3"
  }
 },
 "nbformat": 4,
 "nbformat_minor": 2
}
