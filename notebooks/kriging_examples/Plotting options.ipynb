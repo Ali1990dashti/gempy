{
 "cells": [
  {
   "cell_type": "code",
   "execution_count": 1,
   "metadata": {},
   "outputs": [],
   "source": []
  },
  {
   "cell_type": "code",
   "execution_count": null,
   "metadata": {},
   "outputs": [],
   "source": [
    "# These two lines are necessary only if GemPy is not installed\n",
    "import sys, os\n",
    "sys.path.append(\"../..\")\n",
    "# Importing GemPy\n",
    "import gempy as gp\n",
    "# Embedding matplotlib figures in the notebooks\n",
    "%matplotlib inline\n",
    "# Importing auxiliary libraries\n",
    "import numpy as np\n",
    "import matplotlib.pyplot as plt\n"
   ]
  },
  {
   "cell_type": "code",
   "execution_count": 9,
   "metadata": {},
   "outputs": [
    {
     "name": "stdout",
     "output_type": "stream",
     "text": [
      "Active grids: ['regular']\n"
     ]
    }
   ],
   "source": [
    "# set resolution, extent and input data\n",
    "geo_data = gp.create_data([0,1000,0,50,0,1000],resolution=[50,1,50], \n",
    "                        path_o = os.pardir+\"/data/input_data/jan_models/model1_orientations.csv\",\n",
    "                        path_i = os.pardir+\"/data/input_data/jan_models/model1_surface_points.csv\") "
   ]
  },
  {
   "cell_type": "code",
   "execution_count": 10,
   "metadata": {},
   "outputs": [
    {
     "data": {
      "text/html": [
       "<style  type=\"text/css\" >\n",
       "    #T_68ecde86_cf0b_11e9_afc9_d8cb8aeeb072row0_col4 {\n",
       "            background-color:  #015482;\n",
       "        }    #T_68ecde86_cf0b_11e9_afc9_d8cb8aeeb072row1_col4 {\n",
       "            background-color:  #9f0052;\n",
       "        }    #T_68ecde86_cf0b_11e9_afc9_d8cb8aeeb072row2_col4 {\n",
       "            background-color:  #ffbe00;\n",
       "        }</style><table id=\"T_68ecde86_cf0b_11e9_afc9_d8cb8aeeb072\" ><thead>    <tr>        <th class=\"blank level0\" ></th>        <th class=\"col_heading level0 col0\" >surface</th>        <th class=\"col_heading level0 col1\" >series</th>        <th class=\"col_heading level0 col2\" >order_surfaces</th>        <th class=\"col_heading level0 col3\" >isBasement</th>        <th class=\"col_heading level0 col4\" >color</th>        <th class=\"col_heading level0 col5\" >id</th>    </tr></thead><tbody>\n",
       "                <tr>\n",
       "                        <th id=\"T_68ecde86_cf0b_11e9_afc9_d8cb8aeeb072level0_row0\" class=\"row_heading level0 row0\" >0</th>\n",
       "                        <td id=\"T_68ecde86_cf0b_11e9_afc9_d8cb8aeeb072row0_col0\" class=\"data row0 col0\" >rock2</td>\n",
       "                        <td id=\"T_68ecde86_cf0b_11e9_afc9_d8cb8aeeb072row0_col1\" class=\"data row0 col1\" >Strat_Series</td>\n",
       "                        <td id=\"T_68ecde86_cf0b_11e9_afc9_d8cb8aeeb072row0_col2\" class=\"data row0 col2\" >1</td>\n",
       "                        <td id=\"T_68ecde86_cf0b_11e9_afc9_d8cb8aeeb072row0_col3\" class=\"data row0 col3\" >False</td>\n",
       "                        <td id=\"T_68ecde86_cf0b_11e9_afc9_d8cb8aeeb072row0_col4\" class=\"data row0 col4\" >#015482</td>\n",
       "                        <td id=\"T_68ecde86_cf0b_11e9_afc9_d8cb8aeeb072row0_col5\" class=\"data row0 col5\" >1</td>\n",
       "            </tr>\n",
       "            <tr>\n",
       "                        <th id=\"T_68ecde86_cf0b_11e9_afc9_d8cb8aeeb072level0_row1\" class=\"row_heading level0 row1\" >1</th>\n",
       "                        <td id=\"T_68ecde86_cf0b_11e9_afc9_d8cb8aeeb072row1_col0\" class=\"data row1 col0\" >rock1</td>\n",
       "                        <td id=\"T_68ecde86_cf0b_11e9_afc9_d8cb8aeeb072row1_col1\" class=\"data row1 col1\" >Strat_Series</td>\n",
       "                        <td id=\"T_68ecde86_cf0b_11e9_afc9_d8cb8aeeb072row1_col2\" class=\"data row1 col2\" >2</td>\n",
       "                        <td id=\"T_68ecde86_cf0b_11e9_afc9_d8cb8aeeb072row1_col3\" class=\"data row1 col3\" >False</td>\n",
       "                        <td id=\"T_68ecde86_cf0b_11e9_afc9_d8cb8aeeb072row1_col4\" class=\"data row1 col4\" >#9f0052</td>\n",
       "                        <td id=\"T_68ecde86_cf0b_11e9_afc9_d8cb8aeeb072row1_col5\" class=\"data row1 col5\" >2</td>\n",
       "            </tr>\n",
       "            <tr>\n",
       "                        <th id=\"T_68ecde86_cf0b_11e9_afc9_d8cb8aeeb072level0_row2\" class=\"row_heading level0 row2\" >2</th>\n",
       "                        <td id=\"T_68ecde86_cf0b_11e9_afc9_d8cb8aeeb072row2_col0\" class=\"data row2 col0\" >basement</td>\n",
       "                        <td id=\"T_68ecde86_cf0b_11e9_afc9_d8cb8aeeb072row2_col1\" class=\"data row2 col1\" >Basement_Series</td>\n",
       "                        <td id=\"T_68ecde86_cf0b_11e9_afc9_d8cb8aeeb072row2_col2\" class=\"data row2 col2\" >1</td>\n",
       "                        <td id=\"T_68ecde86_cf0b_11e9_afc9_d8cb8aeeb072row2_col3\" class=\"data row2 col3\" >True</td>\n",
       "                        <td id=\"T_68ecde86_cf0b_11e9_afc9_d8cb8aeeb072row2_col4\" class=\"data row2 col4\" >#ffbe00</td>\n",
       "                        <td id=\"T_68ecde86_cf0b_11e9_afc9_d8cb8aeeb072row2_col5\" class=\"data row2 col5\" >3</td>\n",
       "            </tr>\n",
       "    </tbody></table>"
      ],
      "text/plain": [
       "    surface           series  order_surfaces  isBasement    color vertices edges  id\n",
       "0     rock2     Strat_Series               1       False  #015482      NaN   NaN   1\n",
       "1     rock1     Strat_Series               2       False  #9f0052      NaN   NaN   2\n",
       "2  basement  Basement_Series               1        True  #ffbe00      NaN   NaN   3"
      ]
     },
     "execution_count": 10,
     "metadata": {},
     "output_type": "execute_result"
    }
   ],
   "source": [
    "# define series and assign surfaces\n",
    "gp.map_series_to_surfaces(geo_data, {\"Strat_Series\": ('rock2','rock1'),\"Basement_Series\":('basement')})"
   ]
  },
  {
   "cell_type": "code",
   "execution_count": 11,
   "metadata": {},
   "outputs": [
    {
     "name": "stdout",
     "output_type": "stream",
     "text": [
      "Compiling theano function...\n",
      "Compilation Done!\n"
     ]
    }
   ],
   "source": [
    "# define the interpolator\n",
    "interp_data = gp.set_interpolation_data(geo_data, compile_theano=True,\n",
    "                                        theano_optimizer='fast_compile')"
   ]
  },
  {
   "cell_type": "code",
   "execution_count": 13,
   "metadata": {},
   "outputs": [
    {
     "name": "stderr",
     "output_type": "stream",
     "text": [
      "../..\\gempy\\core\\solution.py:258: UserWarning: Surfaces not computed due to: marching_cubes_lewiner() got an unexpected keyword argument 'mask'\n",
      "  warnings.warn('Surfaces not computed due to: ' + str(e))\n"
     ]
    }
   ],
   "source": [
    "#calcualte the solution\n",
    "sol = gp.compute_model(geo_data)"
   ]
  },
  {
   "cell_type": "code",
   "execution_count": 14,
   "metadata": {},
   "outputs": [
    {
     "data": {
      "text/plain": [
       "<gempy.plot.visualization_2d.PlotData2D at 0x287f8a24d68>"
      ]
     },
     "execution_count": 14,
     "metadata": {},
     "output_type": "execute_result"
    },
    {
     "data": {
      "image/png": "[encoded data removed]",
      "text/plain": [
       "<Figure size 748.8x514.8 with 1 Axes>"
      ]
     },
     "metadata": {},
     "output_type": "display_data"
    }
   ],
   "source": [
    "# Plot cross section, which is basically the whole model in this example\n",
    "gp.plot.plot_section(geo_data, cell_number=0)"
   ]
  },
  {
   "cell_type": "code",
   "execution_count": 15,
   "metadata": {},
   "outputs": [
    {
     "data": {
      "text/plain": [
       "<module 'gempy.assets.kriging' from '../..\\\\gempy\\\\assets\\\\kriging.py'>"
      ]
     },
     "execution_count": 15,
     "metadata": {},
     "output_type": "execute_result"
    }
   ],
   "source": [
    "import gempy as gp\n",
    "importlib.reload(kriging)"
   ]
  },
  {
   "cell_type": "code",
   "execution_count": 16,
   "metadata": {},
   "outputs": [],
   "source": [
    "test_data = np.array([[110,0,510,2],[910,0,510,1],[510,0,530,1],[310,0,410,5]])"
   ]
  },
  {
   "cell_type": "code",
   "execution_count": 32,
   "metadata": {},
   "outputs": [
    {
     "data": {
      "text/html": [
       "<div>\n",
       "<style scoped>\n",
       "    .dataframe tbody tr th:only-of-type {\n",
       "        vertical-align: middle;\n",
       "    }\n",
       "\n",
       "    .dataframe tbody tr th {\n",
       "        vertical-align: top;\n",
       "    }\n",
       "\n",
       "    .dataframe thead th {\n",
       "        text-align: right;\n",
       "    }\n",
       "</style>\n",
       "<table border=\"1\" class=\"dataframe\">\n",
       "  <thead>\n",
       "    <tr style=\"text-align: right;\">\n",
       "      <th></th>\n",
       "      <th>X</th>\n",
       "      <th>Y</th>\n",
       "      <th>Z</th>\n",
       "      <th>est_value</th>\n",
       "      <th>est_variance</th>\n",
       "    </tr>\n",
       "  </thead>\n",
       "  <tbody>\n",
       "    <tr>\n",
       "      <th>0</th>\n",
       "      <td>10.0</td>\n",
       "      <td>0.0</td>\n",
       "      <td>410.0</td>\n",
       "      <td>2.287830</td>\n",
       "      <td>3.144759</td>\n",
       "    </tr>\n",
       "    <tr>\n",
       "      <th>1</th>\n",
       "      <td>10.0</td>\n",
       "      <td>0.0</td>\n",
       "      <td>430.0</td>\n",
       "      <td>2.283226</td>\n",
       "      <td>3.128987</td>\n",
       "    </tr>\n",
       "    <tr>\n",
       "      <th>2</th>\n",
       "      <td>10.0</td>\n",
       "      <td>0.0</td>\n",
       "      <td>450.0</td>\n",
       "      <td>2.277921</td>\n",
       "      <td>3.114867</td>\n",
       "    </tr>\n",
       "    <tr>\n",
       "      <th>3</th>\n",
       "      <td>10.0</td>\n",
       "      <td>0.0</td>\n",
       "      <td>470.0</td>\n",
       "      <td>2.272237</td>\n",
       "      <td>3.103669</td>\n",
       "    </tr>\n",
       "    <tr>\n",
       "      <th>4</th>\n",
       "      <td>10.0</td>\n",
       "      <td>0.0</td>\n",
       "      <td>490.0</td>\n",
       "      <td>2.266556</td>\n",
       "      <td>3.096867</td>\n",
       "    </tr>\n",
       "  </tbody>\n",
       "</table>\n",
       "</div>"
      ],
      "text/plain": [
       "      X    Y      Z  est_value  est_variance\n",
       "0  10.0  0.0  410.0   2.287830      3.144759\n",
       "1  10.0  0.0  430.0   2.283226      3.128987\n",
       "2  10.0  0.0  450.0   2.277921      3.114867\n",
       "3  10.0  0.0  470.0   2.272237      3.103669\n",
       "4  10.0  0.0  490.0   2.266556      3.096867"
      ]
     },
     "execution_count": 32,
     "metadata": {},
     "output_type": "execute_result"
    }
   ],
   "source": [
    "# Creating a kriging object with model solution and input domain (by id) and conditioning data\n",
    "kriging_model = kriging.kriging_model(model=sol, domain=[2],data=test_data)\n",
    "\n",
    "kriging_model.krig_grid = np.round(kriging_model.krig_grid,0)\n",
    "\n",
    "# set some parameters, not final yet\n",
    "kriging_model.range_ = 200\n",
    "kriging_model.moving_neighbourhood  = 'all'\n",
    "kriging_model.set_kriging_type('OK')\n",
    "kriging_model.nugget = 2\n",
    "kriging_model.sill = np.var(test_data[:,3])\n",
    "\n",
    "kriging_model.create_kriged_field()\n",
    "\n",
    "kriging_model.results_df.head()"
   ]
  },
  {
   "cell_type": "code",
   "execution_count": 33,
   "metadata": {},
   "outputs": [
    {
     "data": {
      "image/png": "[encoded data removed]",
      "text/plain": [
       "<Figure size 748.8x514.8 with 2 Axes>"
      ]
     },
     "metadata": {},
     "output_type": "display_data"
    }
   ],
   "source": [
    "x = kriging_model.results_df['X'].values\n",
    "y = kriging_model.results_df['Z'].values\n",
    "prop = kriging_model.results_df['est_value'].values\n",
    "var = kriging_model.results_df['est_variance'].values\n",
    "\n",
    "\n",
    "fig1, ax1 = plt.subplots()\n",
    "ax1.axis('equal')\n",
    "\n",
    "\n",
    "tcf = ax1.tricontourf(x, y, prop, 20, cmap='viridis')\n",
    "tcf_lines = ax1.tricontour(x, y, prop, 20, linewidths=0.5, colors='k')\n",
    "fig1.colorbar(tcf)\n",
    "\n",
    "plt.show()"
   ]
  },
  {
   "cell_type": "code",
   "execution_count": 36,
   "metadata": {},
   "outputs": [
    {
     "data": {
      "text/html": [
       "<div>\n",
       "<style scoped>\n",
       "    .dataframe tbody tr th:only-of-type {\n",
       "        vertical-align: middle;\n",
       "    }\n",
       "\n",
       "    .dataframe tbody tr th {\n",
       "        vertical-align: top;\n",
       "    }\n",
       "\n",
       "    .dataframe thead th {\n",
       "        text-align: right;\n",
       "    }\n",
       "</style>\n",
       "<table border=\"1\" class=\"dataframe\">\n",
       "  <thead>\n",
       "    <tr style=\"text-align: right;\">\n",
       "      <th></th>\n",
       "      <th>X</th>\n",
       "      <th>Y</th>\n",
       "      <th>Z</th>\n",
       "      <th>sim_value</th>\n",
       "      <th>est_variance</th>\n",
       "    </tr>\n",
       "  </thead>\n",
       "  <tbody>\n",
       "    <tr>\n",
       "      <th>0</th>\n",
       "      <td>650.0</td>\n",
       "      <td>0.0</td>\n",
       "      <td>470.0</td>\n",
       "      <td>3.121114</td>\n",
       "      <td>3.089526</td>\n",
       "    </tr>\n",
       "    <tr>\n",
       "      <th>1</th>\n",
       "      <td>230.0</td>\n",
       "      <td>0.0</td>\n",
       "      <td>410.0</td>\n",
       "      <td>4.208958</td>\n",
       "      <td>2.873021</td>\n",
       "    </tr>\n",
       "    <tr>\n",
       "      <th>2</th>\n",
       "      <td>910.0</td>\n",
       "      <td>0.0</td>\n",
       "      <td>430.0</td>\n",
       "      <td>2.173077</td>\n",
       "      <td>2.921382</td>\n",
       "    </tr>\n",
       "    <tr>\n",
       "      <th>3</th>\n",
       "      <td>10.0</td>\n",
       "      <td>0.0</td>\n",
       "      <td>450.0</td>\n",
       "      <td>2.480378</td>\n",
       "      <td>2.911834</td>\n",
       "    </tr>\n",
       "    <tr>\n",
       "      <th>4</th>\n",
       "      <td>590.0</td>\n",
       "      <td>0.0</td>\n",
       "      <td>530.0</td>\n",
       "      <td>2.406172</td>\n",
       "      <td>2.697007</td>\n",
       "    </tr>\n",
       "  </tbody>\n",
       "</table>\n",
       "</div>"
      ],
      "text/plain": [
       "       X    Y      Z  sim_value  est_variance\n",
       "0  650.0  0.0  470.0   3.121114      3.089526\n",
       "1  230.0  0.0  410.0   4.208958      2.873021\n",
       "2  910.0  0.0  430.0   2.173077      2.921382\n",
       "3   10.0  0.0  450.0   2.480378      2.911834\n",
       "4  590.0  0.0  530.0   2.406172      2.697007"
      ]
     },
     "execution_count": 36,
     "metadata": {},
     "output_type": "execute_result"
    }
   ],
   "source": [
    "# Creating a kriging object with model solution and input domain (by id) and conditioning data\n",
    "#kriging_model = kriging.kriging_model(model=sol, domain=[2],data=test_data)\n",
    "\n",
    "#kriging_model.krig_grid = np.round(kriging_model.krig_grid,0)\n",
    "\n",
    "# change moving neighbourhood for simulation\n",
    "kriging_model.moving_neighbourhood  = 'n_closest'\n",
    "\n",
    "\n",
    "kriging_model.create_gaussian_field()\n",
    "\n",
    "kriging_model.results_sim_df.head()"
   ]
  },
  {
   "cell_type": "code",
   "execution_count": 35,
   "metadata": {},
   "outputs": [],
   "source": [
    "# results_df and results_sim_df are basically all you need for plotting I guess (hope)\n",
    "# (plus maybe the solution (sol) that I pass to the object)\n",
    "\n",
    "# 2D section plotting:\n",
    "# - as for gempy section\n",
    "# - either value or variance\n",
    "# - either results or simulation results (if calculated)\n",
    "# - either contourf or block\n",
    "# - plot on section of model (maybe change colors of background model)\n",
    "# - allow to plot on subplot if thats not automatically possible\n",
    "\n",
    "# 3D Plotting\n",
    "# - Most useful and cool for first run would be block model\n",
    "# - allow threshhold to show only certain blocks\n",
    "\n",
    "# variogram/covariance function plotting (Jan)\n",
    "# - easily plot used function \n",
    "# - show nugget range and sill \n",
    "# - allow to plot on subplot if thats not automatically possible\n"
   ]
  },
  {
   "cell_type": "code",
   "execution_count": null,
   "metadata": {},
   "outputs": [],
   "source": []
  }
 ],
 "metadata": {
  "kernelspec": {
   "display_name": "Python 3",
   "language": "python",
   "name": "python3"
  },
  "language_info": {
   "codemirror_mode": {
    "name": "ipython",
    "version": 3
   },
   "file_extension": ".py",
   "mimetype": "text/x-python",
   "name": "python",
   "nbconvert_exporter": "python",
   "pygments_lexer": "ipython3",
   "version": "3.7.3"
  }
 },
 "nbformat": 4,
 "nbformat_minor": 2
}
