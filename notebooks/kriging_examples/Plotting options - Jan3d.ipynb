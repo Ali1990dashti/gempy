{
 "cells": [
  {
   "cell_type": "code",
   "execution_count": null,
   "metadata": {},
   "outputs": [],
   "source": []
  },
  {
   "cell_type": "code",
   "execution_count": 1,
   "metadata": {},
   "outputs": [],
   "source": [
    "# These two lines are necessary only if GemPy is not installed\n",
    "import sys, os\n",
    "sys.path.append(\"../..\")\n",
    "# Importing GemPy\n",
    "import gempy as gp\n",
    "# Embedding matplotlib figures in the notebooks\n",
    "%matplotlib inline\n",
    "# Importing auxiliary libraries\n",
    "import numpy as np\n",
    "import matplotlib.pyplot as plt\n"
   ]
  },
  {
   "cell_type": "code",
   "execution_count": 25,
   "metadata": {},
   "outputs": [
    {
     "name": "stdout",
     "output_type": "stream",
     "text": [
      "Active grids: ['regular']\n"
     ]
    }
   ],
   "source": [
    "# set resolution, extent and input data\n",
    "geo_data = gp.create_data([0,1000,0,1000,0,1000],resolution=[25,25,25], \n",
    "                        path_o = os.pardir+\"/data/input_data/jan_models/model2_orientations.csv\",\n",
    "                        path_i = os.pardir+\"/data/input_data/jan_models/model2_surface_points.csv\") "
   ]
  },
  {
   "cell_type": "code",
   "execution_count": 86,
   "metadata": {},
   "outputs": [
    {
     "data": {
      "text/html": [
       "<style  type=\"text/css\" >\n",
       "    #T_324fb702_d3a3_11e9_823d_d8cb8aeeb072row0_col4 {\n",
       "            background-color:  #9f0052;\n",
       "        }    #T_324fb702_d3a3_11e9_823d_d8cb8aeeb072row1_col4 {\n",
       "            background-color:  #ff0080;\n",
       "        }    #T_324fb702_d3a3_11e9_823d_d8cb8aeeb072row2_col4 {\n",
       "            background-color:  #ff80ff;\n",
       "        }</style><table id=\"T_324fb702_d3a3_11e9_823d_d8cb8aeeb072\" ><thead>    <tr>        <th class=\"blank level0\" ></th>        <th class=\"col_heading level0 col0\" >surface</th>        <th class=\"col_heading level0 col1\" >series</th>        <th class=\"col_heading level0 col2\" >order_surfaces</th>        <th class=\"col_heading level0 col3\" >isBasement</th>        <th class=\"col_heading level0 col4\" >color</th>        <th class=\"col_heading level0 col5\" >id</th>    </tr></thead><tbody>\n",
       "                <tr>\n",
       "                        <th id=\"T_324fb702_d3a3_11e9_823d_d8cb8aeeb072level0_row0\" class=\"row_heading level0 row0\" >1</th>\n",
       "                        <td id=\"T_324fb702_d3a3_11e9_823d_d8cb8aeeb072row0_col0\" class=\"data row0 col0\" >rock2</td>\n",
       "                        <td id=\"T_324fb702_d3a3_11e9_823d_d8cb8aeeb072row0_col1\" class=\"data row0 col1\" >Strat_Series</td>\n",
       "                        <td id=\"T_324fb702_d3a3_11e9_823d_d8cb8aeeb072row0_col2\" class=\"data row0 col2\" >1</td>\n",
       "                        <td id=\"T_324fb702_d3a3_11e9_823d_d8cb8aeeb072row0_col3\" class=\"data row0 col3\" >False</td>\n",
       "                        <td id=\"T_324fb702_d3a3_11e9_823d_d8cb8aeeb072row0_col4\" class=\"data row0 col4\" >#9f0052</td>\n",
       "                        <td id=\"T_324fb702_d3a3_11e9_823d_d8cb8aeeb072row0_col5\" class=\"data row0 col5\" >1</td>\n",
       "            </tr>\n",
       "            <tr>\n",
       "                        <th id=\"T_324fb702_d3a3_11e9_823d_d8cb8aeeb072level0_row1\" class=\"row_heading level0 row1\" >0</th>\n",
       "                        <td id=\"T_324fb702_d3a3_11e9_823d_d8cb8aeeb072row1_col0\" class=\"data row1 col0\" >rock1</td>\n",
       "                        <td id=\"T_324fb702_d3a3_11e9_823d_d8cb8aeeb072row1_col1\" class=\"data row1 col1\" >Strat_Series</td>\n",
       "                        <td id=\"T_324fb702_d3a3_11e9_823d_d8cb8aeeb072row1_col2\" class=\"data row1 col2\" >2</td>\n",
       "                        <td id=\"T_324fb702_d3a3_11e9_823d_d8cb8aeeb072row1_col3\" class=\"data row1 col3\" >False</td>\n",
       "                        <td id=\"T_324fb702_d3a3_11e9_823d_d8cb8aeeb072row1_col4\" class=\"data row1 col4\" >#ff0080</td>\n",
       "                        <td id=\"T_324fb702_d3a3_11e9_823d_d8cb8aeeb072row1_col5\" class=\"data row1 col5\" >2</td>\n",
       "            </tr>\n",
       "            <tr>\n",
       "                        <th id=\"T_324fb702_d3a3_11e9_823d_d8cb8aeeb072level0_row2\" class=\"row_heading level0 row2\" >2</th>\n",
       "                        <td id=\"T_324fb702_d3a3_11e9_823d_d8cb8aeeb072row2_col0\" class=\"data row2 col0\" >basement</td>\n",
       "                        <td id=\"T_324fb702_d3a3_11e9_823d_d8cb8aeeb072row2_col1\" class=\"data row2 col1\" >Basement_Series</td>\n",
       "                        <td id=\"T_324fb702_d3a3_11e9_823d_d8cb8aeeb072row2_col2\" class=\"data row2 col2\" >1</td>\n",
       "                        <td id=\"T_324fb702_d3a3_11e9_823d_d8cb8aeeb072row2_col3\" class=\"data row2 col3\" >True</td>\n",
       "                        <td id=\"T_324fb702_d3a3_11e9_823d_d8cb8aeeb072row2_col4\" class=\"data row2 col4\" >#ff80ff</td>\n",
       "                        <td id=\"T_324fb702_d3a3_11e9_823d_d8cb8aeeb072row2_col5\" class=\"data row2 col5\" >3</td>\n",
       "            </tr>\n",
       "    </tbody></table>"
      ],
      "text/plain": [
       "    surface           series  order_surfaces  isBasement    color vertices edges  id\n",
       "1     rock2     Strat_Series               1       False  #9f0052      NaN   NaN   1\n",
       "0     rock1     Strat_Series               2       False  #ff0080      NaN   NaN   2\n",
       "2  basement  Basement_Series               1        True  #ff80ff      NaN   NaN   3"
      ]
     },
     "execution_count": 86,
     "metadata": {},
     "output_type": "execute_result"
    }
   ],
   "source": [
    "# define series and assign surfaces\n",
    "gp.map_series_to_surfaces(geo_data, {\"Strat_Series\": ('rock2','rock1'),\"Basement_Series\":('basement')})"
   ]
  },
  {
   "cell_type": "code",
   "execution_count": 27,
   "metadata": {},
   "outputs": [
    {
     "name": "stdout",
     "output_type": "stream",
     "text": [
      "Compiling theano function...\n",
      "Compilation Done!\n"
     ]
    }
   ],
   "source": [
    "# define the interpolator\n",
    "interp_data = gp.set_interpolation_data(geo_data, compile_theano=True,\n",
    "                                        theano_optimizer='fast_compile')"
   ]
  },
  {
   "cell_type": "code",
   "execution_count": 28,
   "metadata": {},
   "outputs": [
    {
     "name": "stderr",
     "output_type": "stream",
     "text": [
      "../..\\gempy\\core\\solution.py:258: UserWarning: Surfaces not computed due to: marching_cubes_lewiner() got an unexpected keyword argument 'mask'\n",
      "  warnings.warn('Surfaces not computed due to: ' + str(e))\n"
     ]
    }
   ],
   "source": [
    "#calcualte the solution\n",
    "sol = gp.compute_model(geo_data)"
   ]
  },
  {
   "cell_type": "code",
   "execution_count": 90,
   "metadata": {},
   "outputs": [
    {
     "name": "stdout",
     "output_type": "stream",
     "text": [
      "Click to select new colors.\n"
     ]
    },
    {
     "data": {
      "application/vnd.jupyter.widget-view+json": {
       "model_id": "48ffcd0944db47ec85046d4b6aacc59b",
       "version_major": 2,
       "version_minor": 0
      },
      "text/plain": [
       "VBox(children=(ColorPicker(value='#DB4437', description='rock1'), ColorPicker(value='#4285F4', description='ro…"
      ]
     },
     "metadata": {},
     "output_type": "display_data"
    }
   ],
   "source": [
    "geo_data.surfaces.colors.change_colors()"
   ]
  },
  {
   "cell_type": "code",
   "execution_count": 91,
   "metadata": {},
   "outputs": [
    {
     "data": {
      "text/plain": [
       "<gempy.plot.visualization_2d.PlotData2D at 0x1a94e3a2978>"
      ]
     },
     "execution_count": 91,
     "metadata": {},
     "output_type": "execute_result"
    },
    {
     "data": {
      "image/png": "[encoded data removed]",
      "text/plain": [
       "<Figure size 748.8x514.8 with 1 Axes>"
      ]
     },
     "metadata": {},
     "output_type": "display_data"
    }
   ],
   "source": [
    "# Plot cross section, which is basically the whole model in this example\n",
    "gp.plot.plot_section(geo_data, cell_number=0)"
   ]
  },
  {
   "cell_type": "code",
   "execution_count": 92,
   "metadata": {},
   "outputs": [
    {
     "data": {
      "text/html": [
       "<style  type=\"text/css\" >\n",
       "    #T_9009fe0c_d3a3_11e9_97b8_d8cb8aeeb072row0_col4 {\n",
       "            background-color:  #4285F4;\n",
       "        }    #T_9009fe0c_d3a3_11e9_97b8_d8cb8aeeb072row1_col4 {\n",
       "            background-color:  #DB4437;\n",
       "        }    #T_9009fe0c_d3a3_11e9_97b8_d8cb8aeeb072row2_col4 {\n",
       "            background-color:  #F4B400;\n",
       "        }</style><table id=\"T_9009fe0c_d3a3_11e9_97b8_d8cb8aeeb072\" ><thead>    <tr>        <th class=\"blank level0\" ></th>        <th class=\"col_heading level0 col0\" >surface</th>        <th class=\"col_heading level0 col1\" >series</th>        <th class=\"col_heading level0 col2\" >order_surfaces</th>        <th class=\"col_heading level0 col3\" >isBasement</th>        <th class=\"col_heading level0 col4\" >color</th>        <th class=\"col_heading level0 col5\" >id</th>    </tr></thead><tbody>\n",
       "                <tr>\n",
       "                        <th id=\"T_9009fe0c_d3a3_11e9_97b8_d8cb8aeeb072level0_row0\" class=\"row_heading level0 row0\" >1</th>\n",
       "                        <td id=\"T_9009fe0c_d3a3_11e9_97b8_d8cb8aeeb072row0_col0\" class=\"data row0 col0\" >rock2</td>\n",
       "                        <td id=\"T_9009fe0c_d3a3_11e9_97b8_d8cb8aeeb072row0_col1\" class=\"data row0 col1\" >Strat_Series</td>\n",
       "                        <td id=\"T_9009fe0c_d3a3_11e9_97b8_d8cb8aeeb072row0_col2\" class=\"data row0 col2\" >1</td>\n",
       "                        <td id=\"T_9009fe0c_d3a3_11e9_97b8_d8cb8aeeb072row0_col3\" class=\"data row0 col3\" >False</td>\n",
       "                        <td id=\"T_9009fe0c_d3a3_11e9_97b8_d8cb8aeeb072row0_col4\" class=\"data row0 col4\" >#4285F4</td>\n",
       "                        <td id=\"T_9009fe0c_d3a3_11e9_97b8_d8cb8aeeb072row0_col5\" class=\"data row0 col5\" >1</td>\n",
       "            </tr>\n",
       "            <tr>\n",
       "                        <th id=\"T_9009fe0c_d3a3_11e9_97b8_d8cb8aeeb072level0_row1\" class=\"row_heading level0 row1\" >0</th>\n",
       "                        <td id=\"T_9009fe0c_d3a3_11e9_97b8_d8cb8aeeb072row1_col0\" class=\"data row1 col0\" >rock1</td>\n",
       "                        <td id=\"T_9009fe0c_d3a3_11e9_97b8_d8cb8aeeb072row1_col1\" class=\"data row1 col1\" >Strat_Series</td>\n",
       "                        <td id=\"T_9009fe0c_d3a3_11e9_97b8_d8cb8aeeb072row1_col2\" class=\"data row1 col2\" >2</td>\n",
       "                        <td id=\"T_9009fe0c_d3a3_11e9_97b8_d8cb8aeeb072row1_col3\" class=\"data row1 col3\" >False</td>\n",
       "                        <td id=\"T_9009fe0c_d3a3_11e9_97b8_d8cb8aeeb072row1_col4\" class=\"data row1 col4\" >#DB4437</td>\n",
       "                        <td id=\"T_9009fe0c_d3a3_11e9_97b8_d8cb8aeeb072row1_col5\" class=\"data row1 col5\" >2</td>\n",
       "            </tr>\n",
       "            <tr>\n",
       "                        <th id=\"T_9009fe0c_d3a3_11e9_97b8_d8cb8aeeb072level0_row2\" class=\"row_heading level0 row2\" >2</th>\n",
       "                        <td id=\"T_9009fe0c_d3a3_11e9_97b8_d8cb8aeeb072row2_col0\" class=\"data row2 col0\" >basement</td>\n",
       "                        <td id=\"T_9009fe0c_d3a3_11e9_97b8_d8cb8aeeb072row2_col1\" class=\"data row2 col1\" >Basement_Series</td>\n",
       "                        <td id=\"T_9009fe0c_d3a3_11e9_97b8_d8cb8aeeb072row2_col2\" class=\"data row2 col2\" >1</td>\n",
       "                        <td id=\"T_9009fe0c_d3a3_11e9_97b8_d8cb8aeeb072row2_col3\" class=\"data row2 col3\" >True</td>\n",
       "                        <td id=\"T_9009fe0c_d3a3_11e9_97b8_d8cb8aeeb072row2_col4\" class=\"data row2 col4\" >#F4B400</td>\n",
       "                        <td id=\"T_9009fe0c_d3a3_11e9_97b8_d8cb8aeeb072row2_col5\" class=\"data row2 col5\" >3</td>\n",
       "            </tr>\n",
       "    </tbody></table>"
      ],
      "text/plain": [
       "    surface           series  order_surfaces  isBasement    color vertices edges  id\n",
       "1     rock2     Strat_Series               1       False  #4285F4      NaN   NaN   1\n",
       "0     rock1     Strat_Series               2       False  #DB4437      NaN   NaN   2\n",
       "2  basement  Basement_Series               1        True  #F4B400      NaN   NaN   3"
      ]
     },
     "execution_count": 92,
     "metadata": {},
     "output_type": "execute_result"
    }
   ],
   "source": [
    "geo_data.surfaces"
   ]
  },
  {
   "cell_type": "code",
   "execution_count": 93,
   "metadata": {},
   "outputs": [],
   "source": [
    "import gempy as gp\n",
    "#importlib.reload(kriging)\n",
    "from gempy.assets import kriging"
   ]
  },
  {
   "cell_type": "code",
   "execution_count": 32,
   "metadata": {},
   "outputs": [],
   "source": [
    "test_data = np.array([[110,0,510,2],[910,0,510,1],[510,0,530,1],[310,0,410,5],\n",
    "                     [110,500,510,2],[910,500,510,1],[510,500,530,1],[310,500,410,5]])"
   ]
  },
  {
   "cell_type": "code",
   "execution_count": 41,
   "metadata": {},
   "outputs": [
    {
     "data": {
      "text/html": [
       "<div>\n",
       "<style scoped>\n",
       "    .dataframe tbody tr th:only-of-type {\n",
       "        vertical-align: middle;\n",
       "    }\n",
       "\n",
       "    .dataframe tbody tr th {\n",
       "        vertical-align: top;\n",
       "    }\n",
       "\n",
       "    .dataframe thead th {\n",
       "        text-align: right;\n",
       "    }\n",
       "</style>\n",
       "<table border=\"1\" class=\"dataframe\">\n",
       "  <thead>\n",
       "    <tr style=\"text-align: right;\">\n",
       "      <th></th>\n",
       "      <th>X</th>\n",
       "      <th>Y</th>\n",
       "      <th>Z</th>\n",
       "      <th>est_value</th>\n",
       "      <th>est_variance</th>\n",
       "    </tr>\n",
       "  </thead>\n",
       "  <tbody>\n",
       "    <tr>\n",
       "      <th>0</th>\n",
       "      <td>20.0</td>\n",
       "      <td>20.0</td>\n",
       "      <td>260.0</td>\n",
       "      <td>2.319185</td>\n",
       "      <td>2.888915</td>\n",
       "    </tr>\n",
       "    <tr>\n",
       "      <th>1</th>\n",
       "      <td>20.0</td>\n",
       "      <td>20.0</td>\n",
       "      <td>300.0</td>\n",
       "      <td>2.325383</td>\n",
       "      <td>2.826717</td>\n",
       "    </tr>\n",
       "    <tr>\n",
       "      <th>2</th>\n",
       "      <td>20.0</td>\n",
       "      <td>20.0</td>\n",
       "      <td>340.0</td>\n",
       "      <td>2.318082</td>\n",
       "      <td>2.745554</td>\n",
       "    </tr>\n",
       "    <tr>\n",
       "      <th>3</th>\n",
       "      <td>20.0</td>\n",
       "      <td>20.0</td>\n",
       "      <td>380.0</td>\n",
       "      <td>2.293718</td>\n",
       "      <td>2.639707</td>\n",
       "    </tr>\n",
       "    <tr>\n",
       "      <th>4</th>\n",
       "      <td>20.0</td>\n",
       "      <td>60.0</td>\n",
       "      <td>260.0</td>\n",
       "      <td>2.321757</td>\n",
       "      <td>2.891730</td>\n",
       "    </tr>\n",
       "  </tbody>\n",
       "</table>\n",
       "</div>"
      ],
      "text/plain": [
       "      X     Y      Z  est_value  est_variance\n",
       "0  20.0  20.0  260.0   2.319185      2.888915\n",
       "1  20.0  20.0  300.0   2.325383      2.826717\n",
       "2  20.0  20.0  340.0   2.318082      2.745554\n",
       "3  20.0  20.0  380.0   2.293718      2.639707\n",
       "4  20.0  60.0  260.0   2.321757      2.891730"
      ]
     },
     "execution_count": 41,
     "metadata": {},
     "output_type": "execute_result"
    }
   ],
   "source": [
    "# Creating a kriging object with model solution and input domain (by id) and conditioning data\n",
    "kriging_model = kriging.kriging_model(model=sol, domain=[2],data=test_data)\n",
    "\n",
    "#kriging_model.krig_grid = np.round(kriging_model.krig_grid,0)\n",
    "\n",
    "# set some parameters, not final yet\n",
    "kriging_model.range_ = 150\n",
    "kriging_model.moving_neighbourhood  = 'all'\n",
    "kriging_model.set_kriging_type('OK')\n",
    "kriging_model.nugget = 0.5\n",
    "kriging_model.sill = np.var(test_data[:,3])\n",
    "\n",
    "kriging_model.create_kriged_field()\n",
    "\n",
    "kriging_model.results_df.head()"
   ]
  },
  {
   "cell_type": "code",
   "execution_count": 42,
   "metadata": {},
   "outputs": [
    {
     "data": {
      "image/png": "[encoded data removed]",
      "text/plain": [
       "<Figure size 748.8x514.8 with 2 Axes>"
      ]
     },
     "metadata": {},
     "output_type": "display_data"
    }
   ],
   "source": [
    "x = kriging_model.results_df['X'].values\n",
    "y = kriging_model.results_df['Z'].values\n",
    "prop = kriging_model.results_df['est_value'].values\n",
    "var = kriging_model.results_df['est_variance'].values\n",
    "\n",
    "\n",
    "fig1, ax1 = plt.subplots()\n",
    "ax1.axis('equal')\n",
    "\n",
    "\n",
    "tcf = ax1.tricontourf(x, y, prop, 20, cmap='viridis')\n",
    "tcf_lines = ax1.tricontour(x, y, prop, 20, linewidths=0.5, colors='k')\n",
    "fig1.colorbar(tcf)\n",
    "\n",
    "plt.show()"
   ]
  },
  {
   "cell_type": "code",
   "execution_count": 43,
   "metadata": {},
   "outputs": [
    {
     "data": {
      "text/html": [
       "<div>\n",
       "<style scoped>\n",
       "    .dataframe tbody tr th:only-of-type {\n",
       "        vertical-align: middle;\n",
       "    }\n",
       "\n",
       "    .dataframe tbody tr th {\n",
       "        vertical-align: top;\n",
       "    }\n",
       "\n",
       "    .dataframe thead th {\n",
       "        text-align: right;\n",
       "    }\n",
       "</style>\n",
       "<table border=\"1\" class=\"dataframe\">\n",
       "  <thead>\n",
       "    <tr style=\"text-align: right;\">\n",
       "      <th></th>\n",
       "      <th>X</th>\n",
       "      <th>Y</th>\n",
       "      <th>Z</th>\n",
       "      <th>sim_value</th>\n",
       "      <th>est_variance</th>\n",
       "    </tr>\n",
       "  </thead>\n",
       "  <tbody>\n",
       "    <tr>\n",
       "      <th>0</th>\n",
       "      <td>60.0</td>\n",
       "      <td>500.0</td>\n",
       "      <td>420.0</td>\n",
       "      <td>3.395752</td>\n",
       "      <td>2.329164</td>\n",
       "    </tr>\n",
       "    <tr>\n",
       "      <th>1</th>\n",
       "      <td>500.0</td>\n",
       "      <td>300.0</td>\n",
       "      <td>780.0</td>\n",
       "      <td>0.138206</td>\n",
       "      <td>2.894108</td>\n",
       "    </tr>\n",
       "    <tr>\n",
       "      <th>2</th>\n",
       "      <td>820.0</td>\n",
       "      <td>140.0</td>\n",
       "      <td>460.0</td>\n",
       "      <td>3.097794</td>\n",
       "      <td>2.613191</td>\n",
       "    </tr>\n",
       "    <tr>\n",
       "      <th>3</th>\n",
       "      <td>820.0</td>\n",
       "      <td>580.0</td>\n",
       "      <td>420.0</td>\n",
       "      <td>3.174516</td>\n",
       "      <td>2.564142</td>\n",
       "    </tr>\n",
       "    <tr>\n",
       "      <th>4</th>\n",
       "      <td>60.0</td>\n",
       "      <td>60.0</td>\n",
       "      <td>300.0</td>\n",
       "      <td>2.712215</td>\n",
       "      <td>2.731562</td>\n",
       "    </tr>\n",
       "  </tbody>\n",
       "</table>\n",
       "</div>"
      ],
      "text/plain": [
       "       X      Y      Z  sim_value  est_variance\n",
       "0   60.0  500.0  420.0   3.395752      2.329164\n",
       "1  500.0  300.0  780.0   0.138206      2.894108\n",
       "2  820.0  140.0  460.0   3.097794      2.613191\n",
       "3  820.0  580.0  420.0   3.174516      2.564142\n",
       "4   60.0   60.0  300.0   2.712215      2.731562"
      ]
     },
     "execution_count": 43,
     "metadata": {},
     "output_type": "execute_result"
    }
   ],
   "source": [
    "# Creating a kriging object with model solution and input domain (by id) and conditioning data\n",
    "#kriging_model = kriging.kriging_model(model=sol, domain=[2],data=test_data)\n",
    "\n",
    "#kriging_model.krig_grid = np.round(kriging_model.krig_grid,0)\n",
    "\n",
    "# change moving neighbourhood for simulation\n",
    "kriging_model.moving_neighbourhood  = 'n_closest'\n",
    "\n",
    "\n",
    "kriging_model.create_gaussian_field()\n",
    "\n",
    "kriging_model.results_sim_df.head()"
   ]
  },
  {
   "cell_type": "code",
   "execution_count": 44,
   "metadata": {},
   "outputs": [],
   "source": [
    "# results_df and results_sim_df are basically all you need for plotting I guess (hope)\n",
    "# (plus maybe the solution (sol) that I pass to the object)\n",
    "\n",
    "# 2D section plotting:\n",
    "# - as for gempy section\n",
    "# - either value or variance\n",
    "# - either results or simulation results (if calculated)\n",
    "# - either contourf or block\n",
    "# - plot on section of model (maybe change colors of background model)\n",
    "# - allow to plot on subplot if thats not automatically possible\n",
    "# - plot data true/false\n",
    "\n",
    "# 3D Plotting (blocks)\n",
    "# - Miguel suggests Pyvista for this \n",
    "#    (Testing in Ipyvolume worked but has limits)\n",
    "# - Most useful and cool for first run would be block model\n",
    "# - allow threshhold to show only certain blocks\n",
    "\n",
    "# variogram/covariance function plotting (Jan)\n",
    "# - easily plot used function \n",
    "# - show nugget range and sill \n",
    "# - allow to plot on subplot if thats not automatically possible\n"
   ]
  },
  {
   "cell_type": "code",
   "execution_count": null,
   "metadata": {},
   "outputs": [],
   "source": []
  },
  {
   "cell_type": "code",
   "execution_count": 45,
   "metadata": {},
   "outputs": [],
   "source": [
    "import ipyvolume as ipv\n",
    "import numpy as np\n",
    "\n",
    "from matplotlib.cm import ScalarMappable as SM"
   ]
  },
  {
   "cell_type": "code",
   "execution_count": 46,
   "metadata": {},
   "outputs": [],
   "source": [
    "def plot_3D_blocks(model, threshold):\n",
    "    \n",
    "    x = kriging_model.results_df['X'].values\n",
    "    y = kriging_model.results_df['Y'].values\n",
    "    z = kriging_model.results_df['Z'].values\n",
    "    \n",
    "    vals = kriging_model.results_df['est_value'].values\n",
    "    vals_color = SM(cmap='viridis').to_rgba(vals)\n",
    "    \n",
    "    mask = vals > threshold\n",
    "    \n",
    "    x = x[mask]\n",
    "    y = y[mask]\n",
    "    z = z[mask]\n",
    "    vals = vals[mask]\n",
    "    \n",
    "    block_size = (kriging_model.sol.grid.regular_grid.extent[1]\n",
    "                  -kriging_model.sol.grid.regular_grid.extent[0])/(kriging_model.sol.grid.regular_grid.resolution[0])/10\n",
    "    \n",
    "    ipv.figure()\n",
    "    ipv.pylab.scatter(x, y, z, color=vals_color[mask], size=block_size, marker=\"box\")\n",
    "\n",
    "    ipv.xlim(kriging_model.sol.grid.regular_grid.extent[0], kriging_model.sol.grid.regular_grid.extent[1])\n",
    "    ipv.ylim(kriging_model.sol.grid.regular_grid.extent[2], kriging_model.sol.grid.regular_grid.extent[3])\n",
    "    ipv.zlim(kriging_model.sol.grid.regular_grid.extent[4], kriging_model.sol.grid.regular_grid.extent[3])\n",
    "    ipv.show()"
   ]
  },
  {
   "cell_type": "code",
   "execution_count": 47,
   "metadata": {},
   "outputs": [],
   "source": [
    "import ipywidgets as widgets\n",
    "from ipywidgets import interact, interactive, fixed, interact_manual"
   ]
  },
  {
   "cell_type": "code",
   "execution_count": 48,
   "metadata": {},
   "outputs": [
    {
     "data": {
      "application/vnd.jupyter.widget-view+json": {
       "model_id": "d4731f67277b4885b38b81d6114d8a5a",
       "version_major": 2,
       "version_minor": 0
      },
      "text/plain": [
       "interactive(children=(FloatSlider(value=1.8, description='threshold', max=2.8, min=1.0), Output()), _dom_class…"
      ]
     },
     "metadata": {},
     "output_type": "display_data"
    }
   ],
   "source": [
    "interact(plot_3D_blocks, model=fixed(kriging_model), threshold=(1,2.8,0.1));"
   ]
  },
  {
   "cell_type": "code",
   "execution_count": 94,
   "metadata": {},
   "outputs": [],
   "source": [
    "from gempy.plot import visualization_2d"
   ]
  },
  {
   "cell_type": "code",
   "execution_count": 95,
   "metadata": {},
   "outputs": [],
   "source": [
    "plot = visualization_2d.PlotData2D(geo_data)"
   ]
  },
  {
   "cell_type": "code",
   "execution_count": 96,
   "metadata": {},
   "outputs": [
    {
     "data": {
      "text/plain": [
       "<matplotlib.colors.ListedColormap at 0x1a94e76cda0>"
      ]
     },
     "execution_count": 96,
     "metadata": {},
     "output_type": "execute_result"
    }
   ],
   "source": [
    "plot._cmap"
   ]
  },
  {
   "cell_type": "code",
   "execution_count": 99,
   "metadata": {},
   "outputs": [
    {
     "data": {
      "application/vnd.jupyter.widget-view+json": {
       "model_id": "3361e0fe8e0d436589643b0c9d194eaf",
       "version_major": 2,
       "version_minor": 0
      },
      "text/plain": [
       "VBox(children=(Figure(camera=PerspectiveCamera(fov=46.0, position=(0.0, 0.0, 2.0), quaternion=(0.0, 0.0, 0.0, …"
      ]
     },
     "metadata": {},
     "output_type": "display_data"
    }
   ],
   "source": [
    "\n",
    "x = sol.grid.regular_grid.values[:,0]\n",
    "y = sol.grid.regular_grid.values[:,1]\n",
    "z = sol.grid.regular_grid.values[:,2]\n",
    "    \n",
    "vals = np.round(sol.lith_block, 0)\n",
    "#vals_color = SM(cmap='viridis').to_rgba(vals)\n",
    "\n",
    "vals_color = SM(cmap=plot._cmap).to_rgba(vals)\n",
    "    \n",
    "mask = vals > 0\n",
    "x = x[mask]\n",
    "y = y[mask]\n",
    "z = z[mask]\n",
    "vals = vals[mask]\n",
    "    \n",
    "block_size = (kriging_model.sol.grid.regular_grid.extent[1]\n",
    "                  -kriging_model.sol.grid.regular_grid.extent[0])/(kriging_model.sol.grid.regular_grid.resolution[0])/10\n",
    "    \n",
    "ipv.figure()\n",
    "ipv.pylab.scatter(x, y, z, color=vals_color[mask], size=block_size, marker=\"box\")\n",
    "\n",
    "ipv.xlim(kriging_model.sol.grid.regular_grid.extent[0], kriging_model.sol.grid.regular_grid.extent[1])\n",
    "ipv.ylim(kriging_model.sol.grid.regular_grid.extent[2], kriging_model.sol.grid.regular_grid.extent[3])\n",
    "ipv.zlim(kriging_model.sol.grid.regular_grid.extent[4], kriging_model.sol.grid.regular_grid.extent[3])\n",
    "ipv.show()"
   ]
  },
  {
   "cell_type": "code",
   "execution_count": null,
   "metadata": {},
   "outputs": [],
   "source": []
  },
  {
   "cell_type": "code",
   "execution_count": null,
   "metadata": {},
   "outputs": [],
   "source": []
  },
  {
   "cell_type": "code",
   "execution_count": null,
   "metadata": {},
   "outputs": [],
   "source": []
  },
  {
   "cell_type": "code",
   "execution_count": null,
   "metadata": {},
   "outputs": [],
   "source": []
  },
  {
   "cell_type": "code",
   "execution_count": null,
   "metadata": {},
   "outputs": [],
   "source": []
  },
  {
   "cell_type": "code",
   "execution_count": 18,
   "metadata": {},
   "outputs": [],
   "source": [
    "#Pyvista testrun"
   ]
  },
  {
   "cell_type": "code",
   "execution_count": 19,
   "metadata": {},
   "outputs": [],
   "source": [
    "# sphinx_gallery_thumbnail_number = 4\n",
    "import numpy as np\n",
    "import pyvista as pv\n",
    "from pyvista import examples"
   ]
  },
  {
   "cell_type": "code",
   "execution_count": 20,
   "metadata": {},
   "outputs": [],
   "source": [
    "# Load a simple example mesh\n",
    "dataset = examples.load_uniform()\n",
    "dataset.set_active_scalar(\"Spatial Cell Data\")"
   ]
  },
  {
   "cell_type": "code",
   "execution_count": 21,
   "metadata": {},
   "outputs": [
    {
     "data": {
      "text/html": [
       "<table><tr><th>Header</th><th>Data Arrays</th></tr><tr><td>\n",
       "<table>\n",
       "<tr><th>UniformGrid</th><th>Information</th></tr>\n",
       "<tr><td>N Cells</td><td>729</td></tr>\n",
       "<tr><td>N Points</td><td>1000</td></tr>\n",
       "<tr><td>X Bounds</td><td>0.000e+00, 9.000e+00</td></tr>\n",
       "<tr><td>Y Bounds</td><td>0.000e+00, 9.000e+00</td></tr>\n",
       "<tr><td>Z Bounds</td><td>0.000e+00, 9.000e+00</td></tr>\n",
       "<tr><td>Dimensions</td><td>10, 10, 10</td></tr>\n",
       "<tr><td>Spacing</td><td>1.000e+00, 1.000e+00, 1.000e+00</td></tr>\n",
       "<tr><td>N Arrays</td><td>2</td></tr>\n",
       "</table>\n",
       "\n",
       "</td><td>\n",
       "<table>\n",
       "<tr><th>Name</th><th>Field</th><th>Type</th><th>N Comp</th><th>Min</th><th>Max</th></tr>\n",
       "<tr><td>Spatial Point Data</td><td>Points</td><td>float64</td><td>1</td><td>0.000e+00</td><td>7.290e+02</td></tr>\n",
       "<tr><td><b>Spatial Cell Data</b></td><td>Cells</td><td>float64</td><td>1</td><td>0.000e+00</td><td>5.120e+02</td></tr>\n",
       "</table>\n",
       "\n",
       "</td></tr> </table>"
      ],
      "text/plain": [
       "UniformGrid (0x1a901bb4228)\n",
       "  N Cells:\t729\n",
       "  N Points:\t1000\n",
       "  X Bounds:\t0.000e+00, 9.000e+00\n",
       "  Y Bounds:\t0.000e+00, 9.000e+00\n",
       "  Z Bounds:\t0.000e+00, 9.000e+00\n",
       "  Dimensions:\t10, 10, 10\n",
       "  Spacing:\t1.000e+00, 1.000e+00, 1.000e+00\n",
       "  N Arrays:\t2"
      ]
     },
     "execution_count": 21,
     "metadata": {},
     "output_type": "execute_result"
    }
   ],
   "source": [
    "dataset"
   ]
  },
  {
   "cell_type": "code",
   "execution_count": null,
   "metadata": {},
   "outputs": [],
   "source": []
  },
  {
   "cell_type": "code",
   "execution_count": null,
   "metadata": {},
   "outputs": [],
   "source": []
  },
  {
   "cell_type": "code",
   "execution_count": null,
   "metadata": {},
   "outputs": [],
   "source": []
  },
  {
   "cell_type": "code",
   "execution_count": 22,
   "metadata": {},
   "outputs": [],
   "source": [
    "# Compute volumes and areas\n",
    "sized = dataset.compute_cell_sizes()\n",
    "\n",
    "# Grab volumes for all cells in the mesh\n",
    "cell_volumes = sized.cell_arrays[\"Volume\"]"
   ]
  },
  {
   "cell_type": "code",
   "execution_count": 23,
   "metadata": {},
   "outputs": [],
   "source": [
    "# Compute the total volume of the mesh\n",
    "volume = dataset.volume"
   ]
  },
  {
   "cell_type": "code",
   "execution_count": 24,
   "metadata": {},
   "outputs": [
    {
     "data": {
      "image/png": "[encoded data removed]",
      "text/plain": [
       "<PIL.Image.Image image mode=RGB size=1024x768 at 0x1A901BBD908>"
      ]
     },
     "metadata": {},
     "output_type": "display_data"
    }
   ],
   "source": [
    "threshed = dataset.threshold_percent([0.05, 0.40], invert=True)\n",
    "threshed.plot(show_grid=True, cpos=[-2, 5, 3])"
   ]
  },
  {
   "cell_type": "code",
   "execution_count": null,
   "metadata": {},
   "outputs": [],
   "source": []
  }
 ],
 "metadata": {
  "kernelspec": {
   "display_name": "Python 3",
   "language": "python",
   "name": "python3"
  },
  "language_info": {
   "codemirror_mode": {
    "name": "ipython",
    "version": 3
   },
   "file_extension": ".py",
   "mimetype": "text/x-python",
   "name": "python",
   "nbconvert_exporter": "python",
   "pygments_lexer": "ipython3",
   "version": "3.7.3"
  }
 },
 "nbformat": 4,
 "nbformat_minor": 2
}
