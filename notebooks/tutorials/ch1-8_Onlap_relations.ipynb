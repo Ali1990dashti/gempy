{
 "cells": [
  {
   "cell_type": "markdown",
   "metadata": {},
   "source": [
    "## Chapter 1.8: Onlap relationships\n",
    "***\n",
    "In some geologic cases we want to represent an onlap relationship, where layers deposited onto an erosive surface. This is also useful to model subduction zones as layers onlap the dipping plate. While surfaces in GemPy normally define the bottom of a unit, onlap surfaces represent the top surface, directly followed by other units.\n",
    "\n",
    "Let's start as always by importing the necessary dependencies:"
   ]
  },
  {
   "cell_type": "code",
   "execution_count": 1,
   "metadata": {},
   "outputs": [
    {
     "name": "stderr",
     "output_type": "stream",
     "text": [
      "WARNING (theano.tensor.blas): Using NumPy C-API based implementation for BLAS functions.\n"
     ]
    }
   ],
   "source": [
    "# These two lines are necessary only if gempy is not installed\n",
    "import sys, os\n",
    "sys.path.append(\"../..\")\n",
    "#sys.path.insert(0, '/home/miguel/anaconda3/lib/python3.6/site-packages/scikit_image-0.15.dev0-py3.6-linux-x86_64.egg/')\n",
    "import skimage\n",
    "# Importing gempy\n",
    "import gempy as gp\n",
    "import matplotlib.pyplot as plt\n",
    "# Embedding matplotlib figures into the notebooks\n",
    "#%matplotlib inline\n",
    "\n",
    "\n",
    "# Aux imports\n",
    "import numpy as np\n",
    "import pandas as pn\n",
    "import matplotlib\n",
    "import theano\n",
    "import qgrid\n",
    "\n",
    "#%matplotlib widget"
   ]
  },
  {
   "cell_type": "code",
   "execution_count": 2,
   "metadata": {},
   "outputs": [
    {
     "data": {
      "text/plain": [
       "'0.15.dev0'"
      ]
     },
     "execution_count": 2,
     "metadata": {},
     "output_type": "execute_result"
    }
   ],
   "source": [
    "skimage.__version__"
   ]
  },
  {
   "cell_type": "markdown",
   "metadata": {},
   "source": [
    "We import a model from an existing folder, representing a subduction zone with onlap relationships.\n",
    "The theano function is automatically recombiled to allow changes."
   ]
  },
  {
   "cell_type": "code",
   "execution_count": 3,
   "metadata": {},
   "outputs": [],
   "source": [
    "geo_model = gp.load_model('Tutorial_ch1-8_Onlap_relations', recompile=False)"
   ]
  },
  {
   "cell_type": "code",
   "execution_count": 4,
   "metadata": {},
   "outputs": [],
   "source": [
    "geo_model.update_from_series()"
   ]
  },
  {
   "cell_type": "code",
   "execution_count": 5,
   "metadata": {},
   "outputs": [
    {
     "data": {
      "text/html": [
       "<table border=\"1\" class=\"dataframe\">\n",
       "  <thead>\n",
       "    <tr style=\"text-align: right;\">\n",
       "      <th></th>\n",
       "      <th></th>\n",
       "      <th>values</th>\n",
       "    </tr>\n",
       "  </thead>\n",
       "  <tbody>\n",
       "    <tr>\n",
       "      <th rowspan=\"9\" valign=\"top\">Structure</th>\n",
       "      <th>isLith</th>\n",
       "      <td>True</td>\n",
       "    </tr>\n",
       "    <tr>\n",
       "      <th>isFault</th>\n",
       "      <td>False</td>\n",
       "    </tr>\n",
       "    <tr>\n",
       "      <th>number faults</th>\n",
       "      <td>0</td>\n",
       "    </tr>\n",
       "    <tr>\n",
       "      <th>number surfaces</th>\n",
       "      <td>5</td>\n",
       "    </tr>\n",
       "    <tr>\n",
       "      <th>number series</th>\n",
       "      <td>4</td>\n",
       "    </tr>\n",
       "    <tr>\n",
       "      <th>number surfaces per series</th>\n",
       "      <td>[1, 2, 1, 1]</td>\n",
       "    </tr>\n",
       "    <tr>\n",
       "      <th>len surfaces surface_points</th>\n",
       "      <td>[6, 4, 4, 6, 6]</td>\n",
       "    </tr>\n",
       "    <tr>\n",
       "      <th>len series surface_points</th>\n",
       "      <td>[6, 8, 6, 6]</td>\n",
       "    </tr>\n",
       "    <tr>\n",
       "      <th>len series orientations</th>\n",
       "      <td>[3, 4, 3, 3]</td>\n",
       "    </tr>\n",
       "    <tr>\n",
       "      <th rowspan=\"5\" valign=\"top\">Options</th>\n",
       "      <th>dtype</th>\n",
       "      <td>float64</td>\n",
       "    </tr>\n",
       "    <tr>\n",
       "      <th>output</th>\n",
       "      <td>geology</td>\n",
       "    </tr>\n",
       "    <tr>\n",
       "      <th>theano_optimizer</th>\n",
       "      <td>fast_compile</td>\n",
       "    </tr>\n",
       "    <tr>\n",
       "      <th>device</th>\n",
       "      <td>cpu</td>\n",
       "    </tr>\n",
       "    <tr>\n",
       "      <th>verbosity</th>\n",
       "      <td>[]</td>\n",
       "    </tr>\n",
       "    <tr>\n",
       "      <th rowspan=\"5\" valign=\"top\">Kriging</th>\n",
       "      <th>range</th>\n",
       "      <td>1417.74</td>\n",
       "    </tr>\n",
       "    <tr>\n",
       "      <th>$C_o$</th>\n",
       "      <td>47857.1</td>\n",
       "    </tr>\n",
       "    <tr>\n",
       "      <th>drift equations</th>\n",
       "      <td>[3, 3, 3, 3]</td>\n",
       "    </tr>\n",
       "    <tr>\n",
       "      <th>nugget grad</th>\n",
       "      <td>0.01</td>\n",
       "    </tr>\n",
       "    <tr>\n",
       "      <th>nugget scalar</th>\n",
       "      <td>1e-06</td>\n",
       "    </tr>\n",
       "    <tr>\n",
       "      <th rowspan=\"2\" valign=\"top\">Rescaling</th>\n",
       "      <th>rescaling factor</th>\n",
       "      <td>NaN</td>\n",
       "    </tr>\n",
       "    <tr>\n",
       "      <th>centers</th>\n",
       "      <td>[nan, nan, nan]</td>\n",
       "    </tr>\n",
       "  </tbody>\n",
       "</table>"
      ],
      "text/plain": [
       "                                                values\n",
       "Structure isLith                                  True\n",
       "          isFault                                False\n",
       "          number faults                              0\n",
       "          number surfaces                            5\n",
       "          number series                              4\n",
       "          number surfaces per series      [1, 2, 1, 1]\n",
       "          len surfaces surface_points  [6, 4, 4, 6, 6]\n",
       "          len series surface_points       [6, 8, 6, 6]\n",
       "          len series orientations         [3, 4, 3, 3]\n",
       "Options   dtype                                float64\n",
       "          output                               geology\n",
       "          theano_optimizer                fast_compile\n",
       "          device                                   cpu\n",
       "          verbosity                                 []\n",
       "Kriging   range                                1417.74\n",
       "          $C_o$                                47857.1\n",
       "          drift equations                 [3, 3, 3, 3]\n",
       "          nugget grad                             0.01\n",
       "          nugget scalar                          1e-06\n",
       "Rescaling rescaling factor                         NaN\n",
       "          centers                      [nan, nan, nan]"
      ]
     },
     "execution_count": 5,
     "metadata": {},
     "output_type": "execute_result"
    }
   ],
   "source": [
    "geo_model.additional_data"
   ]
  },
  {
   "cell_type": "code",
   "execution_count": 6,
   "metadata": {},
   "outputs": [
    {
     "data": {
      "text/html": [
       "<style  type=\"text/css\" >\n",
       "    #T_ea3bd7f6_593f_11e9_b9e7_3b4276446c44row0_col4 {\n",
       "            background-color:  #015482;\n",
       "        }    #T_ea3bd7f6_593f_11e9_b9e7_3b4276446c44row1_col4 {\n",
       "            background-color:  #728f02;\n",
       "        }    #T_ea3bd7f6_593f_11e9_b9e7_3b4276446c44row2_col4 {\n",
       "            background-color:  #443988;\n",
       "        }    #T_ea3bd7f6_593f_11e9_b9e7_3b4276446c44row3_col4 {\n",
       "            background-color:  #ffbe00;\n",
       "        }    #T_ea3bd7f6_593f_11e9_b9e7_3b4276446c44row4_col4 {\n",
       "            background-color:  #9f0052;\n",
       "        }    #T_ea3bd7f6_593f_11e9_b9e7_3b4276446c44row5_col4 {\n",
       "            background-color:  #ff3f20;\n",
       "        }</style>  \n",
       "<table id=\"T_ea3bd7f6_593f_11e9_b9e7_3b4276446c44\" > \n",
       "<thead>    <tr> \n",
       "        <th class=\"blank level0\" ></th> \n",
       "        <th class=\"col_heading level0 col0\" >surface</th> \n",
       "        <th class=\"col_heading level0 col1\" >series</th> \n",
       "        <th class=\"col_heading level0 col2\" >order_surfaces</th> \n",
       "        <th class=\"col_heading level0 col3\" >isBasement</th> \n",
       "        <th class=\"col_heading level0 col4\" >color</th> \n",
       "        <th class=\"col_heading level0 col5\" >id</th> \n",
       "    </tr></thead> \n",
       "<tbody>    <tr> \n",
       "        <th id=\"T_ea3bd7f6_593f_11e9_b9e7_3b4276446c44level0_row0\" class=\"row_heading level0 row0\" >0</th> \n",
       "        <td id=\"T_ea3bd7f6_593f_11e9_b9e7_3b4276446c44row0_col0\" class=\"data row0 col0\" >seafloor</td> \n",
       "        <td id=\"T_ea3bd7f6_593f_11e9_b9e7_3b4276446c44row0_col1\" class=\"data row0 col1\" >seafloor_series</td> \n",
       "        <td id=\"T_ea3bd7f6_593f_11e9_b9e7_3b4276446c44row0_col2\" class=\"data row0 col2\" >1</td> \n",
       "        <td id=\"T_ea3bd7f6_593f_11e9_b9e7_3b4276446c44row0_col3\" class=\"data row0 col3\" >False</td> \n",
       "        <td id=\"T_ea3bd7f6_593f_11e9_b9e7_3b4276446c44row0_col4\" class=\"data row0 col4\" >#015482</td> \n",
       "        <td id=\"T_ea3bd7f6_593f_11e9_b9e7_3b4276446c44row0_col5\" class=\"data row0 col5\" >1</td> \n",
       "    </tr>    <tr> \n",
       "        <th id=\"T_ea3bd7f6_593f_11e9_b9e7_3b4276446c44level0_row1\" class=\"row_heading level0 row1\" >1</th> \n",
       "        <td id=\"T_ea3bd7f6_593f_11e9_b9e7_3b4276446c44row1_col0\" class=\"data row1 col0\" >rock1</td> \n",
       "        <td id=\"T_ea3bd7f6_593f_11e9_b9e7_3b4276446c44row1_col1\" class=\"data row1 col1\" >right_series</td> \n",
       "        <td id=\"T_ea3bd7f6_593f_11e9_b9e7_3b4276446c44row1_col2\" class=\"data row1 col2\" >1</td> \n",
       "        <td id=\"T_ea3bd7f6_593f_11e9_b9e7_3b4276446c44row1_col3\" class=\"data row1 col3\" >False</td> \n",
       "        <td id=\"T_ea3bd7f6_593f_11e9_b9e7_3b4276446c44row1_col4\" class=\"data row1 col4\" >#728f02</td> \n",
       "        <td id=\"T_ea3bd7f6_593f_11e9_b9e7_3b4276446c44row1_col5\" class=\"data row1 col5\" >2</td> \n",
       "    </tr>    <tr> \n",
       "        <th id=\"T_ea3bd7f6_593f_11e9_b9e7_3b4276446c44level0_row2\" class=\"row_heading level0 row2\" >2</th> \n",
       "        <td id=\"T_ea3bd7f6_593f_11e9_b9e7_3b4276446c44row2_col0\" class=\"data row2 col0\" >rock2</td> \n",
       "        <td id=\"T_ea3bd7f6_593f_11e9_b9e7_3b4276446c44row2_col1\" class=\"data row2 col1\" >right_series</td> \n",
       "        <td id=\"T_ea3bd7f6_593f_11e9_b9e7_3b4276446c44row2_col2\" class=\"data row2 col2\" >2</td> \n",
       "        <td id=\"T_ea3bd7f6_593f_11e9_b9e7_3b4276446c44row2_col3\" class=\"data row2 col3\" >False</td> \n",
       "        <td id=\"T_ea3bd7f6_593f_11e9_b9e7_3b4276446c44row2_col4\" class=\"data row2 col4\" >#443988</td> \n",
       "        <td id=\"T_ea3bd7f6_593f_11e9_b9e7_3b4276446c44row2_col5\" class=\"data row2 col5\" >3</td> \n",
       "    </tr>    <tr> \n",
       "        <th id=\"T_ea3bd7f6_593f_11e9_b9e7_3b4276446c44level0_row3\" class=\"row_heading level0 row3\" >5</th> \n",
       "        <td id=\"T_ea3bd7f6_593f_11e9_b9e7_3b4276446c44row3_col0\" class=\"data row3 col0\" >onlap_surface</td> \n",
       "        <td id=\"T_ea3bd7f6_593f_11e9_b9e7_3b4276446c44row3_col1\" class=\"data row3 col1\" >onlap_series</td> \n",
       "        <td id=\"T_ea3bd7f6_593f_11e9_b9e7_3b4276446c44row3_col2\" class=\"data row3 col2\" >1</td> \n",
       "        <td id=\"T_ea3bd7f6_593f_11e9_b9e7_3b4276446c44row3_col3\" class=\"data row3 col3\" >False</td> \n",
       "        <td id=\"T_ea3bd7f6_593f_11e9_b9e7_3b4276446c44row3_col4\" class=\"data row3 col4\" >#ffbe00</td> \n",
       "        <td id=\"T_ea3bd7f6_593f_11e9_b9e7_3b4276446c44row3_col5\" class=\"data row3 col5\" >4</td> \n",
       "    </tr>    <tr> \n",
       "        <th id=\"T_ea3bd7f6_593f_11e9_b9e7_3b4276446c44level0_row4\" class=\"row_heading level0 row4\" >3</th> \n",
       "        <td id=\"T_ea3bd7f6_593f_11e9_b9e7_3b4276446c44row4_col0\" class=\"data row4 col0\" >rock3</td> \n",
       "        <td id=\"T_ea3bd7f6_593f_11e9_b9e7_3b4276446c44row4_col1\" class=\"data row4 col1\" >left_series</td> \n",
       "        <td id=\"T_ea3bd7f6_593f_11e9_b9e7_3b4276446c44row4_col2\" class=\"data row4 col2\" >1</td> \n",
       "        <td id=\"T_ea3bd7f6_593f_11e9_b9e7_3b4276446c44row4_col3\" class=\"data row4 col3\" >False</td> \n",
       "        <td id=\"T_ea3bd7f6_593f_11e9_b9e7_3b4276446c44row4_col4\" class=\"data row4 col4\" >#9f0052</td> \n",
       "        <td id=\"T_ea3bd7f6_593f_11e9_b9e7_3b4276446c44row4_col5\" class=\"data row4 col5\" >5</td> \n",
       "    </tr>    <tr> \n",
       "        <th id=\"T_ea3bd7f6_593f_11e9_b9e7_3b4276446c44level0_row5\" class=\"row_heading level0 row5\" >4</th> \n",
       "        <td id=\"T_ea3bd7f6_593f_11e9_b9e7_3b4276446c44row5_col0\" class=\"data row5 col0\" >basement</td> \n",
       "        <td id=\"T_ea3bd7f6_593f_11e9_b9e7_3b4276446c44row5_col1\" class=\"data row5 col1\" >basement</td> \n",
       "        <td id=\"T_ea3bd7f6_593f_11e9_b9e7_3b4276446c44row5_col2\" class=\"data row5 col2\" >1</td> \n",
       "        <td id=\"T_ea3bd7f6_593f_11e9_b9e7_3b4276446c44row5_col3\" class=\"data row5 col3\" >True</td> \n",
       "        <td id=\"T_ea3bd7f6_593f_11e9_b9e7_3b4276446c44row5_col4\" class=\"data row5 col4\" >#ff3f20</td> \n",
       "        <td id=\"T_ea3bd7f6_593f_11e9_b9e7_3b4276446c44row5_col5\" class=\"data row5 col5\" >6</td> \n",
       "    </tr></tbody> \n",
       "</table> "
      ],
      "text/plain": [
       "         surface           series  order_surfaces  isBasement    color  id\n",
       "0       seafloor  seafloor_series               1       False  #015482   1\n",
       "1          rock1     right_series               1       False  #728f02   2\n",
       "2          rock2     right_series               2       False  #443988   3\n",
       "5  onlap_surface     onlap_series               1       False  #ffbe00   4\n",
       "3          rock3      left_series               1       False  #9f0052   5\n",
       "4       basement         basement               1        True  #ff3f20   6"
      ]
     },
     "execution_count": 6,
     "metadata": {},
     "output_type": "execute_result"
    }
   ],
   "source": [
    "geo_model.surfaces"
   ]
  },
  {
   "cell_type": "markdown",
   "metadata": {},
   "source": [
    "Displaying the input data:"
   ]
  },
  {
   "cell_type": "code",
   "execution_count": 7,
   "metadata": {
    "scrolled": true
   },
   "outputs": [
    {
     "data": {
      "text/html": [
       "<table border=\"1\" class=\"dataframe\">\n",
       "  <thead>\n",
       "    <tr style=\"text-align: right;\">\n",
       "      <th></th>\n",
       "      <th>order_series</th>\n",
       "      <th>BottomRelation</th>\n",
       "    </tr>\n",
       "  </thead>\n",
       "  <tbody>\n",
       "    <tr>\n",
       "      <th>seafloor_series</th>\n",
       "      <td>1</td>\n",
       "      <td>Erosion</td>\n",
       "    </tr>\n",
       "    <tr>\n",
       "      <th>right_series</th>\n",
       "      <td>2</td>\n",
       "      <td>Onlap</td>\n",
       "    </tr>\n",
       "    <tr>\n",
       "      <th>onlap_series</th>\n",
       "      <td>3</td>\n",
       "      <td>Erosion</td>\n",
       "    </tr>\n",
       "    <tr>\n",
       "      <th>left_series</th>\n",
       "      <td>4</td>\n",
       "      <td>Erosion</td>\n",
       "    </tr>\n",
       "    <tr>\n",
       "      <th>basement</th>\n",
       "      <td>5</td>\n",
       "      <td>Erosion</td>\n",
       "    </tr>\n",
       "  </tbody>\n",
       "</table>"
      ],
      "text/plain": [
       "                 order_series BottomRelation\n",
       "seafloor_series             1        Erosion\n",
       "right_series                2          Onlap\n",
       "onlap_series                3        Erosion\n",
       "left_series                 4        Erosion\n",
       "basement                    5        Erosion"
      ]
     },
     "execution_count": 7,
     "metadata": {},
     "output_type": "execute_result"
    }
   ],
   "source": [
    "geo_model.series"
   ]
  },
  {
   "cell_type": "code",
   "execution_count": 8,
   "metadata": {
    "scrolled": false
   },
   "outputs": [
    {
     "data": {
      "text/plain": [
       "<gempy.core.qgrid_integration.QgridModelIntegration at 0x7f37b2ae77b8>"
      ]
     },
     "execution_count": 8,
     "metadata": {},
     "output_type": "execute_result"
    }
   ],
   "source": [
    "gp.activate_interactive_df(geo_model)"
   ]
  },
  {
   "cell_type": "code",
   "execution_count": 9,
   "metadata": {},
   "outputs": [],
   "source": [
    "#geo_model.qi.get('orientations')"
   ]
  },
  {
   "cell_type": "code",
   "execution_count": 10,
   "metadata": {},
   "outputs": [],
   "source": [
    "#geo_model.qi.get('surface_points')"
   ]
  },
  {
   "cell_type": "code",
   "execution_count": 11,
   "metadata": {},
   "outputs": [
    {
     "data": {
      "application/vnd.jupyter.widget-view+json": {
       "model_id": "391a9079c4f645e9ab4986dab8514c20",
       "version_major": 2,
       "version_minor": 0
      },
      "text/plain": [
       "QgridWidget(grid_options={'fullWidthRows': True, 'syncColumnCellResize': True, 'forceFitColumns': True, 'defau…"
      ]
     },
     "metadata": {},
     "output_type": "display_data"
    }
   ],
   "source": [
    "geo_model.qi.get('surface_points')"
   ]
  },
  {
   "cell_type": "code",
   "execution_count": 12,
   "metadata": {},
   "outputs": [
    {
     "data": {
      "application/vnd.jupyter.widget-view+json": {
       "model_id": "ac15553665584c948561defa8d06f393",
       "version_major": 2,
       "version_minor": 0
      },
      "text/plain": [
       "QgridWidget(grid_options={'fullWidthRows': True, 'syncColumnCellResize': True, 'forceFitColumns': True, 'defau…"
      ]
     },
     "metadata": {},
     "output_type": "display_data"
    }
   ],
   "source": [
    "geo_model.qi.get('series')"
   ]
  },
  {
   "cell_type": "code",
   "execution_count": 13,
   "metadata": {},
   "outputs": [
    {
     "data": {
      "image/png": "[encoded data removed]",
      "text/plain": [
       "<Figure size 360x360 with 1 Axes>"
      ]
     },
     "metadata": {},
     "output_type": "display_data"
    }
   ],
   "source": [
    "gp.plot.plot_data(geo_model, direction='y')"
   ]
  },
  {
   "cell_type": "code",
   "execution_count": 14,
   "metadata": {},
   "outputs": [
    {
     "name": "stdout",
     "output_type": "stream",
     "text": [
      "Compiling theano function...\n",
      "Compilation Done!\n"
     ]
    },
    {
     "data": {
      "text/html": [
       "<table border=\"1\" class=\"dataframe\">\n",
       "  <thead>\n",
       "    <tr style=\"text-align: right;\">\n",
       "      <th></th>\n",
       "      <th>values</th>\n",
       "    </tr>\n",
       "  </thead>\n",
       "  <tbody>\n",
       "    <tr>\n",
       "      <th>dtype</th>\n",
       "      <td>float64</td>\n",
       "    </tr>\n",
       "    <tr>\n",
       "      <th>output</th>\n",
       "      <td>geology</td>\n",
       "    </tr>\n",
       "    <tr>\n",
       "      <th>theano_optimizer</th>\n",
       "      <td>fast_compile</td>\n",
       "    </tr>\n",
       "    <tr>\n",
       "      <th>device</th>\n",
       "      <td>cpu</td>\n",
       "    </tr>\n",
       "    <tr>\n",
       "      <th>verbosity</th>\n",
       "      <td>[]</td>\n",
       "    </tr>\n",
       "  </tbody>\n",
       "</table>"
      ],
      "text/plain": [
       "                        values\n",
       "dtype                  float64\n",
       "output                 geology\n",
       "theano_optimizer  fast_compile\n",
       "device                     cpu\n",
       "verbosity                   []"
      ]
     },
     "execution_count": 14,
     "metadata": {},
     "output_type": "execute_result"
    }
   ],
   "source": [
    "gp.set_interpolation_data(geo_model, verbose=[])"
   ]
  },
  {
   "cell_type": "code",
   "execution_count": 15,
   "metadata": {},
   "outputs": [],
   "source": [
    "geo_model.set_regular_grid([-200,1000,-500,500,-1000,0], [100,100,100])"
   ]
  },
  {
   "cell_type": "code",
   "execution_count": 16,
   "metadata": {},
   "outputs": [],
   "source": [
    "geo_model.update_to_interpolator()"
   ]
  },
  {
   "cell_type": "code",
   "execution_count": 17,
   "metadata": {
    "scrolled": true
   },
   "outputs": [
    {
     "data": {
      "text/plain": [
       "\n",
       "Lithology ids \n",
       "  [0. 0. 0. ... 1. 1. 1.] "
      ]
     },
     "execution_count": 17,
     "metadata": {},
     "output_type": "execute_result"
    }
   ],
   "source": [
    "gp.compute_model(geo_model, compute_mesh=True)"
   ]
  },
  {
   "cell_type": "code",
   "execution_count": 18,
   "metadata": {},
   "outputs": [
    {
     "name": "stderr",
     "output_type": "stream",
     "text": [
      "../../gempy/plot/visualization.py:305: FutureWarning: Passing the block directly will get deprecated in the next version. Please use Solutionand block_type instead\n",
      "  'and block_type instead', FutureWarning)\n"
     ]
    },
    {
     "data": {
      "image/png": "[encoded data removed]",
      "text/plain": [
       "<Figure size 432x360 with 1 Axes>"
      ]
     },
     "metadata": {},
     "output_type": "display_data"
    }
   ],
   "source": [
    "gp.plot.plot_section(geo_model, 2, block_type=geo_model.solutions.lith_block, plot_data=True)"
   ]
  },
  {
   "cell_type": "code",
   "execution_count": 19,
   "metadata": {},
   "outputs": [
    {
     "data": {
      "text/html": [
       "<style  type=\"text/css\" >\n",
       "    #T_fc8ae6b8_593f_11e9_b9e7_3b4276446c44row0_col4 {\n",
       "            background-color:  #015482;\n",
       "        }    #T_fc8ae6b8_593f_11e9_b9e7_3b4276446c44row1_col4 {\n",
       "            background-color:  #728f02;\n",
       "        }    #T_fc8ae6b8_593f_11e9_b9e7_3b4276446c44row2_col4 {\n",
       "            background-color:  #443988;\n",
       "        }    #T_fc8ae6b8_593f_11e9_b9e7_3b4276446c44row3_col4 {\n",
       "            background-color:  #ffbe00;\n",
       "        }    #T_fc8ae6b8_593f_11e9_b9e7_3b4276446c44row4_col4 {\n",
       "            background-color:  #9f0052;\n",
       "        }    #T_fc8ae6b8_593f_11e9_b9e7_3b4276446c44row5_col4 {\n",
       "            background-color:  #ff3f20;\n",
       "        }</style>  \n",
       "<table id=\"T_fc8ae6b8_593f_11e9_b9e7_3b4276446c44\" > \n",
       "<thead>    <tr> \n",
       "        <th class=\"blank level0\" ></th> \n",
       "        <th class=\"col_heading level0 col0\" >surface</th> \n",
       "        <th class=\"col_heading level0 col1\" >series</th> \n",
       "        <th class=\"col_heading level0 col2\" >order_surfaces</th> \n",
       "        <th class=\"col_heading level0 col3\" >isBasement</th> \n",
       "        <th class=\"col_heading level0 col4\" >color</th> \n",
       "        <th class=\"col_heading level0 col5\" >id</th> \n",
       "    </tr></thead> \n",
       "<tbody>    <tr> \n",
       "        <th id=\"T_fc8ae6b8_593f_11e9_b9e7_3b4276446c44level0_row0\" class=\"row_heading level0 row0\" >0</th> \n",
       "        <td id=\"T_fc8ae6b8_593f_11e9_b9e7_3b4276446c44row0_col0\" class=\"data row0 col0\" >seafloor</td> \n",
       "        <td id=\"T_fc8ae6b8_593f_11e9_b9e7_3b4276446c44row0_col1\" class=\"data row0 col1\" >seafloor_series</td> \n",
       "        <td id=\"T_fc8ae6b8_593f_11e9_b9e7_3b4276446c44row0_col2\" class=\"data row0 col2\" >1</td> \n",
       "        <td id=\"T_fc8ae6b8_593f_11e9_b9e7_3b4276446c44row0_col3\" class=\"data row0 col3\" >False</td> \n",
       "        <td id=\"T_fc8ae6b8_593f_11e9_b9e7_3b4276446c44row0_col4\" class=\"data row0 col4\" >#015482</td> \n",
       "        <td id=\"T_fc8ae6b8_593f_11e9_b9e7_3b4276446c44row0_col5\" class=\"data row0 col5\" >1</td> \n",
       "    </tr>    <tr> \n",
       "        <th id=\"T_fc8ae6b8_593f_11e9_b9e7_3b4276446c44level0_row1\" class=\"row_heading level0 row1\" >1</th> \n",
       "        <td id=\"T_fc8ae6b8_593f_11e9_b9e7_3b4276446c44row1_col0\" class=\"data row1 col0\" >rock1</td> \n",
       "        <td id=\"T_fc8ae6b8_593f_11e9_b9e7_3b4276446c44row1_col1\" class=\"data row1 col1\" >right_series</td> \n",
       "        <td id=\"T_fc8ae6b8_593f_11e9_b9e7_3b4276446c44row1_col2\" class=\"data row1 col2\" >1</td> \n",
       "        <td id=\"T_fc8ae6b8_593f_11e9_b9e7_3b4276446c44row1_col3\" class=\"data row1 col3\" >False</td> \n",
       "        <td id=\"T_fc8ae6b8_593f_11e9_b9e7_3b4276446c44row1_col4\" class=\"data row1 col4\" >#728f02</td> \n",
       "        <td id=\"T_fc8ae6b8_593f_11e9_b9e7_3b4276446c44row1_col5\" class=\"data row1 col5\" >2</td> \n",
       "    </tr>    <tr> \n",
       "        <th id=\"T_fc8ae6b8_593f_11e9_b9e7_3b4276446c44level0_row2\" class=\"row_heading level0 row2\" >2</th> \n",
       "        <td id=\"T_fc8ae6b8_593f_11e9_b9e7_3b4276446c44row2_col0\" class=\"data row2 col0\" >rock2</td> \n",
       "        <td id=\"T_fc8ae6b8_593f_11e9_b9e7_3b4276446c44row2_col1\" class=\"data row2 col1\" >right_series</td> \n",
       "        <td id=\"T_fc8ae6b8_593f_11e9_b9e7_3b4276446c44row2_col2\" class=\"data row2 col2\" >2</td> \n",
       "        <td id=\"T_fc8ae6b8_593f_11e9_b9e7_3b4276446c44row2_col3\" class=\"data row2 col3\" >False</td> \n",
       "        <td id=\"T_fc8ae6b8_593f_11e9_b9e7_3b4276446c44row2_col4\" class=\"data row2 col4\" >#443988</td> \n",
       "        <td id=\"T_fc8ae6b8_593f_11e9_b9e7_3b4276446c44row2_col5\" class=\"data row2 col5\" >3</td> \n",
       "    </tr>    <tr> \n",
       "        <th id=\"T_fc8ae6b8_593f_11e9_b9e7_3b4276446c44level0_row3\" class=\"row_heading level0 row3\" >5</th> \n",
       "        <td id=\"T_fc8ae6b8_593f_11e9_b9e7_3b4276446c44row3_col0\" class=\"data row3 col0\" >onlap_surface</td> \n",
       "        <td id=\"T_fc8ae6b8_593f_11e9_b9e7_3b4276446c44row3_col1\" class=\"data row3 col1\" >onlap_series</td> \n",
       "        <td id=\"T_fc8ae6b8_593f_11e9_b9e7_3b4276446c44row3_col2\" class=\"data row3 col2\" >1</td> \n",
       "        <td id=\"T_fc8ae6b8_593f_11e9_b9e7_3b4276446c44row3_col3\" class=\"data row3 col3\" >False</td> \n",
       "        <td id=\"T_fc8ae6b8_593f_11e9_b9e7_3b4276446c44row3_col4\" class=\"data row3 col4\" >#ffbe00</td> \n",
       "        <td id=\"T_fc8ae6b8_593f_11e9_b9e7_3b4276446c44row3_col5\" class=\"data row3 col5\" >4</td> \n",
       "    </tr>    <tr> \n",
       "        <th id=\"T_fc8ae6b8_593f_11e9_b9e7_3b4276446c44level0_row4\" class=\"row_heading level0 row4\" >3</th> \n",
       "        <td id=\"T_fc8ae6b8_593f_11e9_b9e7_3b4276446c44row4_col0\" class=\"data row4 col0\" >rock3</td> \n",
       "        <td id=\"T_fc8ae6b8_593f_11e9_b9e7_3b4276446c44row4_col1\" class=\"data row4 col1\" >left_series</td> \n",
       "        <td id=\"T_fc8ae6b8_593f_11e9_b9e7_3b4276446c44row4_col2\" class=\"data row4 col2\" >1</td> \n",
       "        <td id=\"T_fc8ae6b8_593f_11e9_b9e7_3b4276446c44row4_col3\" class=\"data row4 col3\" >False</td> \n",
       "        <td id=\"T_fc8ae6b8_593f_11e9_b9e7_3b4276446c44row4_col4\" class=\"data row4 col4\" >#9f0052</td> \n",
       "        <td id=\"T_fc8ae6b8_593f_11e9_b9e7_3b4276446c44row4_col5\" class=\"data row4 col5\" >5</td> \n",
       "    </tr>    <tr> \n",
       "        <th id=\"T_fc8ae6b8_593f_11e9_b9e7_3b4276446c44level0_row5\" class=\"row_heading level0 row5\" >4</th> \n",
       "        <td id=\"T_fc8ae6b8_593f_11e9_b9e7_3b4276446c44row5_col0\" class=\"data row5 col0\" >basement</td> \n",
       "        <td id=\"T_fc8ae6b8_593f_11e9_b9e7_3b4276446c44row5_col1\" class=\"data row5 col1\" >basement</td> \n",
       "        <td id=\"T_fc8ae6b8_593f_11e9_b9e7_3b4276446c44row5_col2\" class=\"data row5 col2\" >1</td> \n",
       "        <td id=\"T_fc8ae6b8_593f_11e9_b9e7_3b4276446c44row5_col3\" class=\"data row5 col3\" >True</td> \n",
       "        <td id=\"T_fc8ae6b8_593f_11e9_b9e7_3b4276446c44row5_col4\" class=\"data row5 col4\" >#ff3f20</td> \n",
       "        <td id=\"T_fc8ae6b8_593f_11e9_b9e7_3b4276446c44row5_col5\" class=\"data row5 col5\" >6</td> \n",
       "    </tr></tbody> \n",
       "</table> "
      ],
      "text/plain": [
       "         surface           series  order_surfaces  isBasement    color  id\n",
       "0       seafloor  seafloor_series               1       False  #015482   1\n",
       "1          rock1     right_series               1       False  #728f02   2\n",
       "2          rock2     right_series               2       False  #443988   3\n",
       "5  onlap_surface     onlap_series               1       False  #ffbe00   4\n",
       "3          rock3      left_series               1       False  #9f0052   5\n",
       "4       basement         basement               1        True  #ff3f20   6"
      ]
     },
     "execution_count": 19,
     "metadata": {},
     "output_type": "execute_result"
    }
   ],
   "source": [
    "geo_model.surfaces"
   ]
  },
  {
   "cell_type": "code",
   "execution_count": 22,
   "metadata": {},
   "outputs": [
    {
     "name": "stdout",
     "output_type": "stream",
     "text": [
      "closing vtk\n"
     ]
    },
    {
     "data": {
      "text/plain": [
       "<gempy.plot.plot.vtkPlot at 0x7f37abb8aba8>"
      ]
     },
     "execution_count": 22,
     "metadata": {},
     "output_type": "execute_result"
    }
   ],
   "source": [
    "gp.plot.plot_surfaces_3D(geo_model, geo_model.solutions.vertices, geo_model.solutions.edges)"
   ]
  },
  {
   "cell_type": "markdown",
   "metadata": {},
   "source": [
    "Update if any changes were made:"
   ]
  },
  {
   "cell_type": "code",
   "execution_count": null,
   "metadata": {},
   "outputs": [],
   "source": [
    "#geo_model.update_to_interpolator()\n",
    "#gp.compute_model(geo_model, compute_mesh=False)"
   ]
  },
  {
   "cell_type": "markdown",
   "metadata": {},
   "source": [
    "Save model if any changes were made:"
   ]
  },
  {
   "cell_type": "code",
   "execution_count": 24,
   "metadata": {},
   "outputs": [
    {
     "name": "stdout",
     "output_type": "stream",
     "text": [
      "Directory already exists, files will be overwritten\n"
     ]
    },
    {
     "data": {
      "text/plain": [
       "True"
      ]
     },
     "execution_count": 24,
     "metadata": {},
     "output_type": "execute_result"
    }
   ],
   "source": [
    "#geo_model.save_model('Tutorial_ch1-8_Onlap_relations')"
   ]
  },
  {
   "cell_type": "code",
   "execution_count": null,
   "metadata": {},
   "outputs": [],
   "source": []
  }
 ],
 "metadata": {
  "kernelspec": {
   "display_name": "Python 3",
   "language": "python",
   "name": "python3"
  },
  "language_info": {
   "codemirror_mode": {
    "name": "ipython",
    "version": 3
   },
   "file_extension": ".py",
   "mimetype": "text/x-python",
   "name": "python",
   "nbconvert_exporter": "python",
   "pygments_lexer": "ipython3",
   "version": "3.6.8"
  },
  "latex_envs": {
   "LaTeX_envs_menu_present": true,
   "autocomplete": true,
   "bibliofile": "biblio.bib",
   "cite_by": "apalike",
   "current_citInitial": 1,
   "eqLabelWithNumbers": true,
   "eqNumInitial": 1,
   "hotkeys": {
    "equation": "Ctrl-E",
    "itemize": "Ctrl-I"
   },
   "labels_anchors": false,
   "latex_user_defs": false,
   "report_style_numbering": false,
   "user_envs_cfg": false
  },
  "toc": {
   "colors": {
    "hover_highlight": "#DAA520",
    "running_highlight": "#FF0000",
    "selected_highlight": "#FFD700"
   },
   "moveMenuLeft": true,
   "nav_menu": {
    "height": "11px",
    "width": "251px"
   },
   "navigate_menu": true,
   "number_sections": true,
   "sideBar": true,
   "threshold": 4,
   "toc_cell": false,
   "toc_section_display": "block",
   "toc_window_display": false,
   "widenNotebook": false
  }
 },
 "nbformat": 4,
 "nbformat_minor": 2
}
