{
 "cells": [
  {
   "cell_type": "markdown",
   "metadata": {},
   "source": [
    "# Chapter 1: Basics of geological modeling with GemPy\n",
    "***\n",
    "In this first chapter, we will guide through the most important steps of modeling with GemPy on the base of a relatively simple geological model, while introducing essential objects and functions. We will illustrate how to:\n",
    "- import and create input data for modeling in GemPy\n",
    "- return and visualize input data\n",
    "- generate a 3D geological model in GemPy\n",
    "- visualize a model directly in GemPy\n",
    "***\n",
    "\n",
    "## The example model: Simple stratigraphy and one fault\n",
    "\n",
    "Our synthetic example model is defined to be cubic, with an extent of 2000 m in every direction of the 3D space. Lithologically, it includes five stratigraphic units of sedimentary origin. Here, we list them from top (youngest) to bottom (oldest):\n",
    "\n",
    "- Sandstone (2)\n",
    "- Siltstone\n",
    "- Shale\n",
    "- Sandstone (1)\n",
    "- Basement (undefined, default by GemPy)\n",
    "\n",
    "We assume that these were simply deposited in consequential order and deformed (tilted and folded) afterwards. Additionally, they are displaced by a continuous normal fault.\n",
    "The final modeling results should look somewhat like this, depending on the type of visualization:\n",
    "\n",
    "![2D and 3D visualizations of our example model.](../../docs/readme_images/model_example_duo.png \"2D and 3D visualizations of our example model\")\n",
    "\n",
    "As this example involves a simple sequence of layers and only one fault, it provides an adequate level of complexity to introduce the basics of modeling with GemPy. At the end of this chapter, we will show some model variations and how the modeling workflow has to be adapted accordingly.\n",
    "\n",
    "## Preparing the Python environment\n",
    "\n",
    "For modeling with GemPy, we first need to import it. We should also import any other packages we want to utilize in our Python environment.Typically, we will also require `NumPy` and `Matplotlib` when working with GemPy. At this point, we can further customize some settings as desired, e.g. the size of figures or, as we do here, the way that `Matplotlib` figures are displayed in our notebook (`%matplotlib inline`)."
   ]
  },
  {
   "cell_type": "code",
   "execution_count": 1,
   "metadata": {},
   "outputs": [],
   "source": [
    "# These two lines are necessary only if GemPy is not installed\n",
    "import sys, os\n",
    "sys.path.append(\"../..\")\n",
    "\n",
    "# Importing GemPy\n",
    "import gempy as gp\n",
    "\n",
    "# Embedding matplotlib figures in the notebooks\n",
    "%matplotlib inline\n",
    "\n",
    "# Importing auxiliary libraries\n",
    "import numpy as np\n",
    "import matplotlib.pyplot as plt\n"
   ]
  },
  {
   "cell_type": "markdown",
   "metadata": {},
   "source": [
    "## Importing and creating a set of input data\n",
    "\n",
    "The data used for the construction of a model in GemPy is stored in Python objects. The main data classes are:\n",
    "\n",
    "    -  Interfaces\n",
    "    -  Orientations\n",
    "    -  Grid\n",
    "    -  Formations\n",
    "    -  Series\n",
    "    -  Additional data\n",
    "    -  Faults\n",
    "    \n",
    "We will see each of this class in further detail in the future.\n",
    "\n",
    "GemPy uses  Python [pickle] for fast storing of objects (https://docs.python.org/3/library/pickle.html). However, module version consistency is required. For loading a pickle into GemPy, you have to make sure that you are using the same version of pickle and dependent modules (e.g.: `Pandas`, `NumPy`) as were used when the data was originally stored.\n",
    "\n",
    "Most of data can also be generated from raw data that comes in the form of CSV-files (CSV = comma-separated values). Such files might be attained by exporting model data from a different program such as GeoModeller or by simply creating it in spreadsheet software such as Microsoft Excel or LibreOffice Calc.\n",
    "\n",
    "In this tutorial, all input data is created by importing such CSV-files. These exemplary files can be found in the `input_data` folder in the root folder of GemPy. \n",
    "The data comprises $x$-, $y$- and $z$-positional values for all surface points and orientation measurements. For the latter, poles, azimuth and polarity are additionally included. Surface points are furthermore assigned a formation. This might be a lithological unit such as \"Sandstone\" or a structural feature such as \"Main Fault\". It is decisive to remember that, in GemPy, interface position points mark the **bottom** of a layer. If such points are needed to resemble a top of a formation (e.g. when modeling an intrusion), this can be achieved by defining a respectively inverted orientation measurement.\n",
    "\n",
    "As we generate our `Data` from CSV-files, we also have to define our model's real extent in $x$, $y$ and $z$, as well as declare a desired resolution for each axis. This resolution will in turn determine the number of voxels used during modeling. Here, we rely on a medium resolution of 50x50x50, amounting to 125,000 voxels. The model extent should be chosen in a way that it contains all relevant data in a representative space. As our model voxels are not cubes, but prisms, the resolution can take a different shape than the extent. We don't recommend going much higher than 100 cells in every direction (1,000,000 voxels), as higher resolutions will become increasingly difficult to compute."
   ]
  },
  {
   "cell_type": "code",
   "execution_count": 2,
   "metadata": {},
   "outputs": [],
   "source": [
    "geo_model = gp.create_model('Model_Tuto1-1')"
   ]
  },
  {
   "cell_type": "code",
   "execution_count": 3,
   "metadata": {
    "scrolled": false
   },
   "outputs": [],
   "source": [
    "# Importing the data from CSV-files and setting extent and resolution\n",
    "gp.init_data(geo_model, [0,2000.,0,2000.,0,2000.],[50,50,50], \n",
    "      path_o = os.pardir+\"/input_data/tut_chapter1/simple_fault_model_orientations.csv\",\n",
    "      path_i = os.pardir+\"/input_data/tut_chapter1/simple_fault_model_points.csv\", default_values=True); "
   ]
  },
  {
   "cell_type": "markdown",
   "metadata": {},
   "source": [
    "The input data can then be listed using the command `get_data`. Note that the order of formations and respective allocation to series is still completely arbitrary. We will fix this in the following."
   ]
  },
  {
   "cell_type": "code",
   "execution_count": 4,
   "metadata": {},
   "outputs": [
    {
     "data": {
      "text/html": [
       "<div>\n",
       "<style scoped>\n",
       "    .dataframe tbody tr th:only-of-type {\n",
       "        vertical-align: middle;\n",
       "    }\n",
       "\n",
       "    .dataframe tbody tr th {\n",
       "        vertical-align: top;\n",
       "    }\n",
       "\n",
       "    .dataframe thead th {\n",
       "        text-align: right;\n",
       "    }\n",
       "</style>\n",
       "<table border=\"1\" class=\"dataframe\">\n",
       "  <thead>\n",
       "    <tr style=\"text-align: right;\">\n",
       "      <th></th>\n",
       "      <th>X</th>\n",
       "      <th>Y</th>\n",
       "      <th>Z</th>\n",
       "      <th>X_r</th>\n",
       "      <th>Y_r</th>\n",
       "      <th>Z_r</th>\n",
       "      <th>surface</th>\n",
       "      <th>series</th>\n",
       "      <th>id</th>\n",
       "      <th>order_series</th>\n",
       "    </tr>\n",
       "  </thead>\n",
       "  <tbody>\n",
       "    <tr>\n",
       "      <th>0</th>\n",
       "      <td>800</td>\n",
       "      <td>50</td>\n",
       "      <td>750</td>\n",
       "      <td>0.486942</td>\n",
       "      <td>0.250100</td>\n",
       "      <td>0.460626</td>\n",
       "      <td>Shale</td>\n",
       "      <td>Default series</td>\n",
       "      <td>NaN</td>\n",
       "      <td>1</td>\n",
       "    </tr>\n",
       "    <tr>\n",
       "      <th>1</th>\n",
       "      <td>800</td>\n",
       "      <td>150</td>\n",
       "      <td>700</td>\n",
       "      <td>0.486942</td>\n",
       "      <td>0.276416</td>\n",
       "      <td>0.447468</td>\n",
       "      <td>Shale</td>\n",
       "      <td>Default series</td>\n",
       "      <td>NaN</td>\n",
       "      <td>1</td>\n",
       "    </tr>\n",
       "    <tr>\n",
       "      <th>2</th>\n",
       "      <td>800</td>\n",
       "      <td>300</td>\n",
       "      <td>700</td>\n",
       "      <td>0.486942</td>\n",
       "      <td>0.315889</td>\n",
       "      <td>0.447468</td>\n",
       "      <td>Shale</td>\n",
       "      <td>Default series</td>\n",
       "      <td>NaN</td>\n",
       "      <td>1</td>\n",
       "    </tr>\n",
       "    <tr>\n",
       "      <th>3</th>\n",
       "      <td>800</td>\n",
       "      <td>500</td>\n",
       "      <td>800</td>\n",
       "      <td>0.486942</td>\n",
       "      <td>0.368521</td>\n",
       "      <td>0.473784</td>\n",
       "      <td>Shale</td>\n",
       "      <td>Default series</td>\n",
       "      <td>NaN</td>\n",
       "      <td>1</td>\n",
       "    </tr>\n",
       "    <tr>\n",
       "      <th>4</th>\n",
       "      <td>800</td>\n",
       "      <td>1000</td>\n",
       "      <td>1000</td>\n",
       "      <td>0.486942</td>\n",
       "      <td>0.500100</td>\n",
       "      <td>0.526416</td>\n",
       "      <td>Shale</td>\n",
       "      <td>Default series</td>\n",
       "      <td>NaN</td>\n",
       "      <td>1</td>\n",
       "    </tr>\n",
       "  </tbody>\n",
       "</table>\n",
       "</div>"
      ],
      "text/plain": [
       "     X     Y     Z       X_r       Y_r       Z_r surface          series  id  \\\n",
       "0  800    50   750  0.486942  0.250100  0.460626   Shale  Default series NaN   \n",
       "1  800   150   700  0.486942  0.276416  0.447468   Shale  Default series NaN   \n",
       "2  800   300   700  0.486942  0.315889  0.447468   Shale  Default series NaN   \n",
       "3  800   500   800  0.486942  0.368521  0.473784   Shale  Default series NaN   \n",
       "4  800  1000  1000  0.486942  0.500100  0.526416   Shale  Default series NaN   \n",
       "\n",
       "   order_series  \n",
       "0             1  \n",
       "1             1  \n",
       "2             1  \n",
       "3             1  \n",
       "4             1  "
      ]
     },
     "execution_count": 4,
     "metadata": {},
     "output_type": "execute_result"
    }
   ],
   "source": [
    "gp.get_data(geo_model, 'surface_points').head()"
   ]
  },
  {
   "cell_type": "code",
   "execution_count": 5,
   "metadata": {},
   "outputs": [
    {
     "data": {
      "text/html": [
       "<div>\n",
       "<style scoped>\n",
       "    .dataframe tbody tr th:only-of-type {\n",
       "        vertical-align: middle;\n",
       "    }\n",
       "\n",
       "    .dataframe tbody tr th {\n",
       "        vertical-align: top;\n",
       "    }\n",
       "\n",
       "    .dataframe thead th {\n",
       "        text-align: right;\n",
       "    }\n",
       "</style>\n",
       "<table border=\"1\" class=\"dataframe\">\n",
       "  <thead>\n",
       "    <tr style=\"text-align: right;\">\n",
       "      <th></th>\n",
       "      <th>X</th>\n",
       "      <th>Y</th>\n",
       "      <th>Z</th>\n",
       "      <th>X_r</th>\n",
       "      <th>Y_r</th>\n",
       "      <th>Z_r</th>\n",
       "      <th>G_x</th>\n",
       "      <th>G_y</th>\n",
       "      <th>G_z</th>\n",
       "      <th>dip</th>\n",
       "      <th>azimuth</th>\n",
       "      <th>polarity</th>\n",
       "      <th>surface</th>\n",
       "      <th>series</th>\n",
       "      <th>id</th>\n",
       "      <th>order_series</th>\n",
       "    </tr>\n",
       "  </thead>\n",
       "  <tbody>\n",
       "    <tr>\n",
       "      <th>0</th>\n",
       "      <td>1000</td>\n",
       "      <td>1000</td>\n",
       "      <td>950.000</td>\n",
       "      <td>0.539574</td>\n",
       "      <td>0.5001</td>\n",
       "      <td>0.513258</td>\n",
       "      <td>0.316229</td>\n",
       "      <td>1.000019e-12</td>\n",
       "      <td>0.948683</td>\n",
       "      <td>18.435</td>\n",
       "      <td>90.0</td>\n",
       "      <td>1.0</td>\n",
       "      <td>Shale</td>\n",
       "      <td>Default series</td>\n",
       "      <td>NaN</td>\n",
       "      <td>1</td>\n",
       "    </tr>\n",
       "    <tr>\n",
       "      <th>1</th>\n",
       "      <td>400</td>\n",
       "      <td>1000</td>\n",
       "      <td>1400.000</td>\n",
       "      <td>0.381679</td>\n",
       "      <td>0.5001</td>\n",
       "      <td>0.631679</td>\n",
       "      <td>0.316229</td>\n",
       "      <td>1.000019e-12</td>\n",
       "      <td>0.948683</td>\n",
       "      <td>18.435</td>\n",
       "      <td>90.0</td>\n",
       "      <td>1.0</td>\n",
       "      <td>Sandstone_2</td>\n",
       "      <td>Default series</td>\n",
       "      <td>NaN</td>\n",
       "      <td>1</td>\n",
       "    </tr>\n",
       "    <tr>\n",
       "      <th>2</th>\n",
       "      <td>500</td>\n",
       "      <td>1000</td>\n",
       "      <td>864.602</td>\n",
       "      <td>0.407995</td>\n",
       "      <td>0.5001</td>\n",
       "      <td>0.490785</td>\n",
       "      <td>-0.948683</td>\n",
       "      <td>9.998257e-13</td>\n",
       "      <td>0.316229</td>\n",
       "      <td>71.565</td>\n",
       "      <td>270.0</td>\n",
       "      <td>1.0</td>\n",
       "      <td>Main_Fault</td>\n",
       "      <td>Default series</td>\n",
       "      <td>NaN</td>\n",
       "      <td>1</td>\n",
       "    </tr>\n",
       "  </tbody>\n",
       "</table>\n",
       "</div>"
      ],
      "text/plain": [
       "      X     Y         Z       X_r     Y_r       Z_r       G_x           G_y  \\\n",
       "0  1000  1000   950.000  0.539574  0.5001  0.513258  0.316229  1.000019e-12   \n",
       "1   400  1000  1400.000  0.381679  0.5001  0.631679  0.316229  1.000019e-12   \n",
       "2   500  1000   864.602  0.407995  0.5001  0.490785 -0.948683  9.998257e-13   \n",
       "\n",
       "        G_z     dip  azimuth  polarity      surface          series  id  \\\n",
       "0  0.948683  18.435     90.0       1.0        Shale  Default series NaN   \n",
       "1  0.948683  18.435     90.0       1.0  Sandstone_2  Default series NaN   \n",
       "2  0.316229  71.565    270.0       1.0   Main_Fault  Default series NaN   \n",
       "\n",
       "   order_series  \n",
       "0             1  \n",
       "1             1  \n",
       "2             1  "
      ]
     },
     "execution_count": 5,
     "metadata": {},
     "output_type": "execute_result"
    }
   ],
   "source": [
    "gp.get_data(geo_model, 'orientations').head()"
   ]
  },
  {
   "cell_type": "markdown",
   "metadata": {},
   "source": [
    "## Declaring the sequential order of geological formations\n",
    "\n",
    "We want our geological units to appear in the correct order relative to age. Such order might for example be given by a depositional sequence of stratigraphy, unconformities due to erosion or other lithological genesis events such as igneous intrusions. A similar age-related order is to be declared for the faults in our model.\n",
    "In GemPy, the function *set_series* is used to assign formations to different sequential series via declaration in a Python dictionary.\n",
    "\n",
    "Defining the correct order of series is vital to the construction of the model! If you are using Python 3.6, the age-related order will already be defined by the order of key entries, i.e. the first entry is the youngest series, the last one the oldest. For older versions of Python, you will have to specify the correct order as a separate list attribute \"*order_series*\" (see cell below).\n",
    "\n",
    "You can assign several formations to one series. The order of the units within such as series is only relevant for the color code, thus we recommend to be consistent. You can define this order via another attribute \"*order_formations*\" or by using the specific command *set_order_formations*. (If the order of the pile differs from the final result the color of the interfaces and input data will be different. ?)\n",
    "\n",
    "Every fault is treated as an independent series and have to be at set at the **top of the pile**. The relative order between the distinct faults defines the tectonic relation between them (first entry is the youngest).\n",
    "\n",
    "In a model with simple sequential stratigraphy, all layer formations can be assigned to one single series without a problem. All unit boundaries and their order would then be given by interface points. However, to model more complex lithostratigraphical relations and interactions, the definition of separate series becomes important. For example, you would need to declare a \"newer\" series to model an unconformity or an intrusion that disturbs older stratigraphy.\n",
    "\n",
    "By default we create a simple sequence infered by the data:"
   ]
  },
  {
   "cell_type": "code",
   "execution_count": 6,
   "metadata": {},
   "outputs": [
    {
     "data": {
      "text/html": [
       "<style  type=\"text/css\" >\n",
       "    #T_63753fe2_65cb_11e9_9d3e_e82a44a18926row0_col4 {\n",
       "            background-color:  #015482;\n",
       "        }    #T_63753fe2_65cb_11e9_9d3e_e82a44a18926row1_col4 {\n",
       "            background-color:  #9f0052;\n",
       "        }    #T_63753fe2_65cb_11e9_9d3e_e82a44a18926row2_col4 {\n",
       "            background-color:  #ffbe00;\n",
       "        }    #T_63753fe2_65cb_11e9_9d3e_e82a44a18926row3_col4 {\n",
       "            background-color:  #728f02;\n",
       "        }    #T_63753fe2_65cb_11e9_9d3e_e82a44a18926row4_col4 {\n",
       "            background-color:  #443988;\n",
       "        }    #T_63753fe2_65cb_11e9_9d3e_e82a44a18926row5_col4 {\n",
       "            background-color:  #ff3f20;\n",
       "        }</style>  \n",
       "<table id=\"T_63753fe2_65cb_11e9_9d3e_e82a44a18926\" > \n",
       "<thead>    <tr> \n",
       "        <th class=\"blank level0\" ></th> \n",
       "        <th class=\"col_heading level0 col0\" >surface</th> \n",
       "        <th class=\"col_heading level0 col1\" >series</th> \n",
       "        <th class=\"col_heading level0 col2\" >order_surfaces</th> \n",
       "        <th class=\"col_heading level0 col3\" >isBasement</th> \n",
       "        <th class=\"col_heading level0 col4\" >color</th> \n",
       "        <th class=\"col_heading level0 col5\" >id</th> \n",
       "    </tr></thead> \n",
       "<tbody>    <tr> \n",
       "        <th id=\"T_63753fe2_65cb_11e9_9d3e_e82a44a18926level0_row0\" class=\"row_heading level0 row0\" >0</th> \n",
       "        <td id=\"T_63753fe2_65cb_11e9_9d3e_e82a44a18926row0_col0\" class=\"data row0 col0\" >Shale</td> \n",
       "        <td id=\"T_63753fe2_65cb_11e9_9d3e_e82a44a18926row0_col1\" class=\"data row0 col1\" >Default series</td> \n",
       "        <td id=\"T_63753fe2_65cb_11e9_9d3e_e82a44a18926row0_col2\" class=\"data row0 col2\" >1</td> \n",
       "        <td id=\"T_63753fe2_65cb_11e9_9d3e_e82a44a18926row0_col3\" class=\"data row0 col3\" >False</td> \n",
       "        <td id=\"T_63753fe2_65cb_11e9_9d3e_e82a44a18926row0_col4\" class=\"data row0 col4\" >#015482</td> \n",
       "        <td id=\"T_63753fe2_65cb_11e9_9d3e_e82a44a18926row0_col5\" class=\"data row0 col5\" >1</td> \n",
       "    </tr>    <tr> \n",
       "        <th id=\"T_63753fe2_65cb_11e9_9d3e_e82a44a18926level0_row1\" class=\"row_heading level0 row1\" >1</th> \n",
       "        <td id=\"T_63753fe2_65cb_11e9_9d3e_e82a44a18926row1_col0\" class=\"data row1 col0\" >Sandstone_1</td> \n",
       "        <td id=\"T_63753fe2_65cb_11e9_9d3e_e82a44a18926row1_col1\" class=\"data row1 col1\" >Default series</td> \n",
       "        <td id=\"T_63753fe2_65cb_11e9_9d3e_e82a44a18926row1_col2\" class=\"data row1 col2\" >2</td> \n",
       "        <td id=\"T_63753fe2_65cb_11e9_9d3e_e82a44a18926row1_col3\" class=\"data row1 col3\" >False</td> \n",
       "        <td id=\"T_63753fe2_65cb_11e9_9d3e_e82a44a18926row1_col4\" class=\"data row1 col4\" >#9f0052</td> \n",
       "        <td id=\"T_63753fe2_65cb_11e9_9d3e_e82a44a18926row1_col5\" class=\"data row1 col5\" >2</td> \n",
       "    </tr>    <tr> \n",
       "        <th id=\"T_63753fe2_65cb_11e9_9d3e_e82a44a18926level0_row2\" class=\"row_heading level0 row2\" >2</th> \n",
       "        <td id=\"T_63753fe2_65cb_11e9_9d3e_e82a44a18926row2_col0\" class=\"data row2 col0\" >Siltstone</td> \n",
       "        <td id=\"T_63753fe2_65cb_11e9_9d3e_e82a44a18926row2_col1\" class=\"data row2 col1\" >Default series</td> \n",
       "        <td id=\"T_63753fe2_65cb_11e9_9d3e_e82a44a18926row2_col2\" class=\"data row2 col2\" >3</td> \n",
       "        <td id=\"T_63753fe2_65cb_11e9_9d3e_e82a44a18926row2_col3\" class=\"data row2 col3\" >False</td> \n",
       "        <td id=\"T_63753fe2_65cb_11e9_9d3e_e82a44a18926row2_col4\" class=\"data row2 col4\" >#ffbe00</td> \n",
       "        <td id=\"T_63753fe2_65cb_11e9_9d3e_e82a44a18926row2_col5\" class=\"data row2 col5\" >3</td> \n",
       "    </tr>    <tr> \n",
       "        <th id=\"T_63753fe2_65cb_11e9_9d3e_e82a44a18926level0_row3\" class=\"row_heading level0 row3\" >3</th> \n",
       "        <td id=\"T_63753fe2_65cb_11e9_9d3e_e82a44a18926row3_col0\" class=\"data row3 col0\" >Sandstone_2</td> \n",
       "        <td id=\"T_63753fe2_65cb_11e9_9d3e_e82a44a18926row3_col1\" class=\"data row3 col1\" >Default series</td> \n",
       "        <td id=\"T_63753fe2_65cb_11e9_9d3e_e82a44a18926row3_col2\" class=\"data row3 col2\" >4</td> \n",
       "        <td id=\"T_63753fe2_65cb_11e9_9d3e_e82a44a18926row3_col3\" class=\"data row3 col3\" >False</td> \n",
       "        <td id=\"T_63753fe2_65cb_11e9_9d3e_e82a44a18926row3_col4\" class=\"data row3 col4\" >#728f02</td> \n",
       "        <td id=\"T_63753fe2_65cb_11e9_9d3e_e82a44a18926row3_col5\" class=\"data row3 col5\" >4</td> \n",
       "    </tr>    <tr> \n",
       "        <th id=\"T_63753fe2_65cb_11e9_9d3e_e82a44a18926level0_row4\" class=\"row_heading level0 row4\" >4</th> \n",
       "        <td id=\"T_63753fe2_65cb_11e9_9d3e_e82a44a18926row4_col0\" class=\"data row4 col0\" >Main_Fault</td> \n",
       "        <td id=\"T_63753fe2_65cb_11e9_9d3e_e82a44a18926row4_col1\" class=\"data row4 col1\" >Default series</td> \n",
       "        <td id=\"T_63753fe2_65cb_11e9_9d3e_e82a44a18926row4_col2\" class=\"data row4 col2\" >5</td> \n",
       "        <td id=\"T_63753fe2_65cb_11e9_9d3e_e82a44a18926row4_col3\" class=\"data row4 col3\" >False</td> \n",
       "        <td id=\"T_63753fe2_65cb_11e9_9d3e_e82a44a18926row4_col4\" class=\"data row4 col4\" >#443988</td> \n",
       "        <td id=\"T_63753fe2_65cb_11e9_9d3e_e82a44a18926row4_col5\" class=\"data row4 col5\" >5</td> \n",
       "    </tr>    <tr> \n",
       "        <th id=\"T_63753fe2_65cb_11e9_9d3e_e82a44a18926level0_row5\" class=\"row_heading level0 row5\" >5</th> \n",
       "        <td id=\"T_63753fe2_65cb_11e9_9d3e_e82a44a18926row5_col0\" class=\"data row5 col0\" >basement</td> \n",
       "        <td id=\"T_63753fe2_65cb_11e9_9d3e_e82a44a18926row5_col1\" class=\"data row5 col1\" >Default series</td> \n",
       "        <td id=\"T_63753fe2_65cb_11e9_9d3e_e82a44a18926row5_col2\" class=\"data row5 col2\" >6</td> \n",
       "        <td id=\"T_63753fe2_65cb_11e9_9d3e_e82a44a18926row5_col3\" class=\"data row5 col3\" >True</td> \n",
       "        <td id=\"T_63753fe2_65cb_11e9_9d3e_e82a44a18926row5_col4\" class=\"data row5 col4\" >#ff3f20</td> \n",
       "        <td id=\"T_63753fe2_65cb_11e9_9d3e_e82a44a18926row5_col5\" class=\"data row5 col5\" >6</td> \n",
       "    </tr></tbody> \n",
       "</table> "
      ],
      "text/plain": [
       "       surface          series  order_surfaces  isBasement    color vertices edges  id\n",
       "0        Shale  Default series               1       False  #015482      NaN   NaN   1\n",
       "1  Sandstone_1  Default series               2       False  #9f0052      NaN   NaN   2\n",
       "2    Siltstone  Default series               3       False  #ffbe00      NaN   NaN   3\n",
       "3  Sandstone_2  Default series               4       False  #728f02      NaN   NaN   4\n",
       "4   Main_Fault  Default series               5       False  #443988      NaN   NaN   5\n",
       "5     basement  Default series               6        True  #ff3f20      NaN   NaN   6"
      ]
     },
     "execution_count": 6,
     "metadata": {},
     "output_type": "execute_result"
    }
   ],
   "source": [
    "geo_model.surfaces"
   ]
  },
  {
   "cell_type": "code",
   "execution_count": 7,
   "metadata": {},
   "outputs": [
    {
     "data": {
      "image/png": "[encoded data removed]",
      "text/plain": [
       "<Figure size 432x288 with 1 Axes>"
      ]
     },
     "execution_count": 7,
     "metadata": {},
     "output_type": "execute_result"
    }
   ],
   "source": [
    "gp.get_sequential_pile(geo_model)"
   ]
  },
  {
   "cell_type": "markdown",
   "metadata": {},
   "source": [
    "Our example model comprises four main layers (plus an underlying basement that is automatically generated by GemPy) and one main normal fault displacing those layers. Assuming a simple stratigraphy where each younger unit was deposited onto the underlying older one, we can assign these layer formations to one series called \"Strat_Series\". For the fault, we declare a respective \"Fault_Series\" as the first key entry in the `set_series` dictionary. We could give any other names to these series, the formations however have to be referred to as named in the input data."
   ]
  },
  {
   "cell_type": "code",
   "execution_count": 8,
   "metadata": {},
   "outputs": [
    {
     "data": {
      "text/html": [
       "<style  type=\"text/css\" >\n",
       "    #T_638ab3ca_65cb_11e9_8603_e82a44a18926row0_col4 {\n",
       "            background-color:  #015482;\n",
       "        }    #T_638ab3ca_65cb_11e9_8603_e82a44a18926row1_col4 {\n",
       "            background-color:  #9f0052;\n",
       "        }    #T_638ab3ca_65cb_11e9_8603_e82a44a18926row2_col4 {\n",
       "            background-color:  #ffbe00;\n",
       "        }    #T_638ab3ca_65cb_11e9_8603_e82a44a18926row3_col4 {\n",
       "            background-color:  #728f02;\n",
       "        }    #T_638ab3ca_65cb_11e9_8603_e82a44a18926row4_col4 {\n",
       "            background-color:  #443988;\n",
       "        }    #T_638ab3ca_65cb_11e9_8603_e82a44a18926row5_col4 {\n",
       "            background-color:  #ff3f20;\n",
       "        }</style>  \n",
       "<table id=\"T_638ab3ca_65cb_11e9_8603_e82a44a18926\" > \n",
       "<thead>    <tr> \n",
       "        <th class=\"blank level0\" ></th> \n",
       "        <th class=\"col_heading level0 col0\" >surface</th> \n",
       "        <th class=\"col_heading level0 col1\" >series</th> \n",
       "        <th class=\"col_heading level0 col2\" >order_surfaces</th> \n",
       "        <th class=\"col_heading level0 col3\" >isBasement</th> \n",
       "        <th class=\"col_heading level0 col4\" >color</th> \n",
       "        <th class=\"col_heading level0 col5\" >id</th> \n",
       "    </tr></thead> \n",
       "<tbody>    <tr> \n",
       "        <th id=\"T_638ab3ca_65cb_11e9_8603_e82a44a18926level0_row0\" class=\"row_heading level0 row0\" >0</th> \n",
       "        <td id=\"T_638ab3ca_65cb_11e9_8603_e82a44a18926row0_col0\" class=\"data row0 col0\" >Shale</td> \n",
       "        <td id=\"T_638ab3ca_65cb_11e9_8603_e82a44a18926row0_col1\" class=\"data row0 col1\" >Default series</td> \n",
       "        <td id=\"T_638ab3ca_65cb_11e9_8603_e82a44a18926row0_col2\" class=\"data row0 col2\" >1</td> \n",
       "        <td id=\"T_638ab3ca_65cb_11e9_8603_e82a44a18926row0_col3\" class=\"data row0 col3\" >False</td> \n",
       "        <td id=\"T_638ab3ca_65cb_11e9_8603_e82a44a18926row0_col4\" class=\"data row0 col4\" >#015482</td> \n",
       "        <td id=\"T_638ab3ca_65cb_11e9_8603_e82a44a18926row0_col5\" class=\"data row0 col5\" >1</td> \n",
       "    </tr>    <tr> \n",
       "        <th id=\"T_638ab3ca_65cb_11e9_8603_e82a44a18926level0_row1\" class=\"row_heading level0 row1\" >1</th> \n",
       "        <td id=\"T_638ab3ca_65cb_11e9_8603_e82a44a18926row1_col0\" class=\"data row1 col0\" >Sandstone_1</td> \n",
       "        <td id=\"T_638ab3ca_65cb_11e9_8603_e82a44a18926row1_col1\" class=\"data row1 col1\" >Default series</td> \n",
       "        <td id=\"T_638ab3ca_65cb_11e9_8603_e82a44a18926row1_col2\" class=\"data row1 col2\" >2</td> \n",
       "        <td id=\"T_638ab3ca_65cb_11e9_8603_e82a44a18926row1_col3\" class=\"data row1 col3\" >False</td> \n",
       "        <td id=\"T_638ab3ca_65cb_11e9_8603_e82a44a18926row1_col4\" class=\"data row1 col4\" >#9f0052</td> \n",
       "        <td id=\"T_638ab3ca_65cb_11e9_8603_e82a44a18926row1_col5\" class=\"data row1 col5\" >2</td> \n",
       "    </tr>    <tr> \n",
       "        <th id=\"T_638ab3ca_65cb_11e9_8603_e82a44a18926level0_row2\" class=\"row_heading level0 row2\" >2</th> \n",
       "        <td id=\"T_638ab3ca_65cb_11e9_8603_e82a44a18926row2_col0\" class=\"data row2 col0\" >Siltstone</td> \n",
       "        <td id=\"T_638ab3ca_65cb_11e9_8603_e82a44a18926row2_col1\" class=\"data row2 col1\" >Default series</td> \n",
       "        <td id=\"T_638ab3ca_65cb_11e9_8603_e82a44a18926row2_col2\" class=\"data row2 col2\" >3</td> \n",
       "        <td id=\"T_638ab3ca_65cb_11e9_8603_e82a44a18926row2_col3\" class=\"data row2 col3\" >False</td> \n",
       "        <td id=\"T_638ab3ca_65cb_11e9_8603_e82a44a18926row2_col4\" class=\"data row2 col4\" >#ffbe00</td> \n",
       "        <td id=\"T_638ab3ca_65cb_11e9_8603_e82a44a18926row2_col5\" class=\"data row2 col5\" >3</td> \n",
       "    </tr>    <tr> \n",
       "        <th id=\"T_638ab3ca_65cb_11e9_8603_e82a44a18926level0_row3\" class=\"row_heading level0 row3\" >3</th> \n",
       "        <td id=\"T_638ab3ca_65cb_11e9_8603_e82a44a18926row3_col0\" class=\"data row3 col0\" >Sandstone_2</td> \n",
       "        <td id=\"T_638ab3ca_65cb_11e9_8603_e82a44a18926row3_col1\" class=\"data row3 col1\" >Default series</td> \n",
       "        <td id=\"T_638ab3ca_65cb_11e9_8603_e82a44a18926row3_col2\" class=\"data row3 col2\" >4</td> \n",
       "        <td id=\"T_638ab3ca_65cb_11e9_8603_e82a44a18926row3_col3\" class=\"data row3 col3\" >False</td> \n",
       "        <td id=\"T_638ab3ca_65cb_11e9_8603_e82a44a18926row3_col4\" class=\"data row3 col4\" >#728f02</td> \n",
       "        <td id=\"T_638ab3ca_65cb_11e9_8603_e82a44a18926row3_col5\" class=\"data row3 col5\" >4</td> \n",
       "    </tr>    <tr> \n",
       "        <th id=\"T_638ab3ca_65cb_11e9_8603_e82a44a18926level0_row4\" class=\"row_heading level0 row4\" >4</th> \n",
       "        <td id=\"T_638ab3ca_65cb_11e9_8603_e82a44a18926row4_col0\" class=\"data row4 col0\" >Main_Fault</td> \n",
       "        <td id=\"T_638ab3ca_65cb_11e9_8603_e82a44a18926row4_col1\" class=\"data row4 col1\" >Default series</td> \n",
       "        <td id=\"T_638ab3ca_65cb_11e9_8603_e82a44a18926row4_col2\" class=\"data row4 col2\" >5</td> \n",
       "        <td id=\"T_638ab3ca_65cb_11e9_8603_e82a44a18926row4_col3\" class=\"data row4 col3\" >False</td> \n",
       "        <td id=\"T_638ab3ca_65cb_11e9_8603_e82a44a18926row4_col4\" class=\"data row4 col4\" >#443988</td> \n",
       "        <td id=\"T_638ab3ca_65cb_11e9_8603_e82a44a18926row4_col5\" class=\"data row4 col5\" >5</td> \n",
       "    </tr>    <tr> \n",
       "        <th id=\"T_638ab3ca_65cb_11e9_8603_e82a44a18926level0_row5\" class=\"row_heading level0 row5\" >5</th> \n",
       "        <td id=\"T_638ab3ca_65cb_11e9_8603_e82a44a18926row5_col0\" class=\"data row5 col0\" >basement</td> \n",
       "        <td id=\"T_638ab3ca_65cb_11e9_8603_e82a44a18926row5_col1\" class=\"data row5 col1\" >Default series</td> \n",
       "        <td id=\"T_638ab3ca_65cb_11e9_8603_e82a44a18926row5_col2\" class=\"data row5 col2\" >6</td> \n",
       "        <td id=\"T_638ab3ca_65cb_11e9_8603_e82a44a18926row5_col3\" class=\"data row5 col3\" >True</td> \n",
       "        <td id=\"T_638ab3ca_65cb_11e9_8603_e82a44a18926row5_col4\" class=\"data row5 col4\" >#ff3f20</td> \n",
       "        <td id=\"T_638ab3ca_65cb_11e9_8603_e82a44a18926row5_col5\" class=\"data row5 col5\" >6</td> \n",
       "    </tr></tbody> \n",
       "</table> "
      ],
      "text/plain": [
       "       surface          series  order_surfaces  isBasement    color vertices edges  id\n",
       "0        Shale  Default series               1       False  #015482      NaN   NaN   1\n",
       "1  Sandstone_1  Default series               2       False  #9f0052      NaN   NaN   2\n",
       "2    Siltstone  Default series               3       False  #ffbe00      NaN   NaN   3\n",
       "3  Sandstone_2  Default series               4       False  #728f02      NaN   NaN   4\n",
       "4   Main_Fault  Default series               5       False  #443988      NaN   NaN   5\n",
       "5     basement  Default series               6        True  #ff3f20      NaN   NaN   6"
      ]
     },
     "execution_count": 8,
     "metadata": {},
     "output_type": "execute_result"
    }
   ],
   "source": [
    "geo_model.surfaces"
   ]
  },
  {
   "cell_type": "code",
   "execution_count": 9,
   "metadata": {
    "scrolled": false
   },
   "outputs": [
    {
     "data": {
      "image/png": "[encoded data removed]",
      "text/plain": [
       "<Figure size 432x288 with 1 Axes>"
      ]
     },
     "execution_count": 9,
     "metadata": {},
     "output_type": "execute_result"
    }
   ],
   "source": [
    "gp.map_series_to_surfaces(geo_model,\n",
    "                            {\"Fault_Series\":'Main_Fault', \n",
    "                             \"Strat_Series\": ('Sandstone_2','Siltstone',\n",
    "                                              'Shale', 'Sandstone_1', 'basement')}, remove_unused_series=True)"
   ]
  },
  {
   "cell_type": "code",
   "execution_count": 10,
   "metadata": {},
   "outputs": [
    {
     "data": {
      "text/html": [
       "<style  type=\"text/css\" >\n",
       "    #T_63c3e8b8_65cb_11e9_bd1e_e82a44a18926row0_col4 {\n",
       "            background-color:  #443988;\n",
       "        }    #T_63c3e8b8_65cb_11e9_bd1e_e82a44a18926row1_col4 {\n",
       "            background-color:  #015482;\n",
       "        }    #T_63c3e8b8_65cb_11e9_bd1e_e82a44a18926row2_col4 {\n",
       "            background-color:  #9f0052;\n",
       "        }    #T_63c3e8b8_65cb_11e9_bd1e_e82a44a18926row3_col4 {\n",
       "            background-color:  #ffbe00;\n",
       "        }    #T_63c3e8b8_65cb_11e9_bd1e_e82a44a18926row4_col4 {\n",
       "            background-color:  #728f02;\n",
       "        }    #T_63c3e8b8_65cb_11e9_bd1e_e82a44a18926row5_col4 {\n",
       "            background-color:  #ff3f20;\n",
       "        }</style>  \n",
       "<table id=\"T_63c3e8b8_65cb_11e9_bd1e_e82a44a18926\" > \n",
       "<thead>    <tr> \n",
       "        <th class=\"blank level0\" ></th> \n",
       "        <th class=\"col_heading level0 col0\" >surface</th> \n",
       "        <th class=\"col_heading level0 col1\" >series</th> \n",
       "        <th class=\"col_heading level0 col2\" >order_surfaces</th> \n",
       "        <th class=\"col_heading level0 col3\" >isBasement</th> \n",
       "        <th class=\"col_heading level0 col4\" >color</th> \n",
       "        <th class=\"col_heading level0 col5\" >id</th> \n",
       "    </tr></thead> \n",
       "<tbody>    <tr> \n",
       "        <th id=\"T_63c3e8b8_65cb_11e9_bd1e_e82a44a18926level0_row0\" class=\"row_heading level0 row0\" >4</th> \n",
       "        <td id=\"T_63c3e8b8_65cb_11e9_bd1e_e82a44a18926row0_col0\" class=\"data row0 col0\" >Main_Fault</td> \n",
       "        <td id=\"T_63c3e8b8_65cb_11e9_bd1e_e82a44a18926row0_col1\" class=\"data row0 col1\" >Fault_Series</td> \n",
       "        <td id=\"T_63c3e8b8_65cb_11e9_bd1e_e82a44a18926row0_col2\" class=\"data row0 col2\" >1</td> \n",
       "        <td id=\"T_63c3e8b8_65cb_11e9_bd1e_e82a44a18926row0_col3\" class=\"data row0 col3\" >False</td> \n",
       "        <td id=\"T_63c3e8b8_65cb_11e9_bd1e_e82a44a18926row0_col4\" class=\"data row0 col4\" >#443988</td> \n",
       "        <td id=\"T_63c3e8b8_65cb_11e9_bd1e_e82a44a18926row0_col5\" class=\"data row0 col5\" >1</td> \n",
       "    </tr>    <tr> \n",
       "        <th id=\"T_63c3e8b8_65cb_11e9_bd1e_e82a44a18926level0_row1\" class=\"row_heading level0 row1\" >0</th> \n",
       "        <td id=\"T_63c3e8b8_65cb_11e9_bd1e_e82a44a18926row1_col0\" class=\"data row1 col0\" >Shale</td> \n",
       "        <td id=\"T_63c3e8b8_65cb_11e9_bd1e_e82a44a18926row1_col1\" class=\"data row1 col1\" >Strat_Series</td> \n",
       "        <td id=\"T_63c3e8b8_65cb_11e9_bd1e_e82a44a18926row1_col2\" class=\"data row1 col2\" >1</td> \n",
       "        <td id=\"T_63c3e8b8_65cb_11e9_bd1e_e82a44a18926row1_col3\" class=\"data row1 col3\" >False</td> \n",
       "        <td id=\"T_63c3e8b8_65cb_11e9_bd1e_e82a44a18926row1_col4\" class=\"data row1 col4\" >#015482</td> \n",
       "        <td id=\"T_63c3e8b8_65cb_11e9_bd1e_e82a44a18926row1_col5\" class=\"data row1 col5\" >2</td> \n",
       "    </tr>    <tr> \n",
       "        <th id=\"T_63c3e8b8_65cb_11e9_bd1e_e82a44a18926level0_row2\" class=\"row_heading level0 row2\" >1</th> \n",
       "        <td id=\"T_63c3e8b8_65cb_11e9_bd1e_e82a44a18926row2_col0\" class=\"data row2 col0\" >Sandstone_1</td> \n",
       "        <td id=\"T_63c3e8b8_65cb_11e9_bd1e_e82a44a18926row2_col1\" class=\"data row2 col1\" >Strat_Series</td> \n",
       "        <td id=\"T_63c3e8b8_65cb_11e9_bd1e_e82a44a18926row2_col2\" class=\"data row2 col2\" >2</td> \n",
       "        <td id=\"T_63c3e8b8_65cb_11e9_bd1e_e82a44a18926row2_col3\" class=\"data row2 col3\" >False</td> \n",
       "        <td id=\"T_63c3e8b8_65cb_11e9_bd1e_e82a44a18926row2_col4\" class=\"data row2 col4\" >#9f0052</td> \n",
       "        <td id=\"T_63c3e8b8_65cb_11e9_bd1e_e82a44a18926row2_col5\" class=\"data row2 col5\" >3</td> \n",
       "    </tr>    <tr> \n",
       "        <th id=\"T_63c3e8b8_65cb_11e9_bd1e_e82a44a18926level0_row3\" class=\"row_heading level0 row3\" >2</th> \n",
       "        <td id=\"T_63c3e8b8_65cb_11e9_bd1e_e82a44a18926row3_col0\" class=\"data row3 col0\" >Siltstone</td> \n",
       "        <td id=\"T_63c3e8b8_65cb_11e9_bd1e_e82a44a18926row3_col1\" class=\"data row3 col1\" >Strat_Series</td> \n",
       "        <td id=\"T_63c3e8b8_65cb_11e9_bd1e_e82a44a18926row3_col2\" class=\"data row3 col2\" >3</td> \n",
       "        <td id=\"T_63c3e8b8_65cb_11e9_bd1e_e82a44a18926row3_col3\" class=\"data row3 col3\" >False</td> \n",
       "        <td id=\"T_63c3e8b8_65cb_11e9_bd1e_e82a44a18926row3_col4\" class=\"data row3 col4\" >#ffbe00</td> \n",
       "        <td id=\"T_63c3e8b8_65cb_11e9_bd1e_e82a44a18926row3_col5\" class=\"data row3 col5\" >4</td> \n",
       "    </tr>    <tr> \n",
       "        <th id=\"T_63c3e8b8_65cb_11e9_bd1e_e82a44a18926level0_row4\" class=\"row_heading level0 row4\" >3</th> \n",
       "        <td id=\"T_63c3e8b8_65cb_11e9_bd1e_e82a44a18926row4_col0\" class=\"data row4 col0\" >Sandstone_2</td> \n",
       "        <td id=\"T_63c3e8b8_65cb_11e9_bd1e_e82a44a18926row4_col1\" class=\"data row4 col1\" >Strat_Series</td> \n",
       "        <td id=\"T_63c3e8b8_65cb_11e9_bd1e_e82a44a18926row4_col2\" class=\"data row4 col2\" >4</td> \n",
       "        <td id=\"T_63c3e8b8_65cb_11e9_bd1e_e82a44a18926row4_col3\" class=\"data row4 col3\" >False</td> \n",
       "        <td id=\"T_63c3e8b8_65cb_11e9_bd1e_e82a44a18926row4_col4\" class=\"data row4 col4\" >#728f02</td> \n",
       "        <td id=\"T_63c3e8b8_65cb_11e9_bd1e_e82a44a18926row4_col5\" class=\"data row4 col5\" >5</td> \n",
       "    </tr>    <tr> \n",
       "        <th id=\"T_63c3e8b8_65cb_11e9_bd1e_e82a44a18926level0_row5\" class=\"row_heading level0 row5\" >5</th> \n",
       "        <td id=\"T_63c3e8b8_65cb_11e9_bd1e_e82a44a18926row5_col0\" class=\"data row5 col0\" >basement</td> \n",
       "        <td id=\"T_63c3e8b8_65cb_11e9_bd1e_e82a44a18926row5_col1\" class=\"data row5 col1\" >Strat_Series</td> \n",
       "        <td id=\"T_63c3e8b8_65cb_11e9_bd1e_e82a44a18926row5_col2\" class=\"data row5 col2\" >5</td> \n",
       "        <td id=\"T_63c3e8b8_65cb_11e9_bd1e_e82a44a18926row5_col3\" class=\"data row5 col3\" >True</td> \n",
       "        <td id=\"T_63c3e8b8_65cb_11e9_bd1e_e82a44a18926row5_col4\" class=\"data row5 col4\" >#ff3f20</td> \n",
       "        <td id=\"T_63c3e8b8_65cb_11e9_bd1e_e82a44a18926row5_col5\" class=\"data row5 col5\" >6</td> \n",
       "    </tr></tbody> \n",
       "</table> "
      ],
      "text/plain": [
       "       surface        series  order_surfaces  isBasement    color vertices edges  id\n",
       "4   Main_Fault  Fault_Series               1       False  #443988      NaN   NaN   1\n",
       "0        Shale  Strat_Series               1       False  #015482      NaN   NaN   2\n",
       "1  Sandstone_1  Strat_Series               2       False  #9f0052      NaN   NaN   3\n",
       "2    Siltstone  Strat_Series               3       False  #ffbe00      NaN   NaN   4\n",
       "3  Sandstone_2  Strat_Series               4       False  #728f02      NaN   NaN   5\n",
       "5     basement  Strat_Series               5        True  #ff3f20      NaN   NaN   6"
      ]
     },
     "execution_count": 10,
     "metadata": {},
     "output_type": "execute_result"
    }
   ],
   "source": [
    "geo_model.surfaces"
   ]
  },
  {
   "cell_type": "code",
   "execution_count": 11,
   "metadata": {},
   "outputs": [
    {
     "data": {
      "text/html": [
       "<table border=\"1\" class=\"dataframe\">\n",
       "  <thead>\n",
       "    <tr style=\"text-align: right;\">\n",
       "      <th></th>\n",
       "      <th>order_series</th>\n",
       "      <th>BottomRelation</th>\n",
       "    </tr>\n",
       "  </thead>\n",
       "  <tbody>\n",
       "    <tr>\n",
       "      <th>Fault_Series</th>\n",
       "      <td>1</td>\n",
       "      <td>Erosion</td>\n",
       "    </tr>\n",
       "    <tr>\n",
       "      <th>Strat_Series</th>\n",
       "      <td>2</td>\n",
       "      <td>Erosion</td>\n",
       "    </tr>\n",
       "  </tbody>\n",
       "</table>"
      ],
      "text/plain": [
       "              order_series BottomRelation\n",
       "Fault_Series             1        Erosion\n",
       "Strat_Series             2        Erosion"
      ]
     },
     "execution_count": 11,
     "metadata": {},
     "output_type": "execute_result"
    }
   ],
   "source": [
    "geo_model.series"
   ]
  },
  {
   "cell_type": "code",
   "execution_count": 12,
   "metadata": {},
   "outputs": [
    {
     "name": "stdout",
     "output_type": "stream",
     "text": [
      "Fault colors changed. If you do not like this behavior, set change_color to False.\n"
     ]
    },
    {
     "data": {
      "text/html": [
       "<table border=\"1\" class=\"dataframe\">\n",
       "  <thead>\n",
       "    <tr style=\"text-align: right;\">\n",
       "      <th></th>\n",
       "      <th>isFault</th>\n",
       "      <th>isFinite</th>\n",
       "    </tr>\n",
       "  </thead>\n",
       "  <tbody>\n",
       "    <tr>\n",
       "      <th>Fault_Series</th>\n",
       "      <td>True</td>\n",
       "      <td>False</td>\n",
       "    </tr>\n",
       "    <tr>\n",
       "      <th>Strat_Series</th>\n",
       "      <td>False</td>\n",
       "      <td>False</td>\n",
       "    </tr>\n",
       "  </tbody>\n",
       "</table>"
      ],
      "text/plain": [
       "              isFault  isFinite\n",
       "Fault_Series     True     False\n",
       "Strat_Series    False     False"
      ]
     },
     "execution_count": 12,
     "metadata": {},
     "output_type": "execute_result"
    }
   ],
   "source": [
    "geo_model.set_is_fault(['Fault_Series'])"
   ]
  },
  {
   "cell_type": "code",
   "execution_count": 13,
   "metadata": {},
   "outputs": [
    {
     "data": {
      "text/html": [
       "<div>\n",
       "<style scoped>\n",
       "    .dataframe tbody tr th:only-of-type {\n",
       "        vertical-align: middle;\n",
       "    }\n",
       "\n",
       "    .dataframe tbody tr th {\n",
       "        vertical-align: top;\n",
       "    }\n",
       "\n",
       "    .dataframe thead th {\n",
       "        text-align: right;\n",
       "    }\n",
       "</style>\n",
       "<table border=\"1\" class=\"dataframe\">\n",
       "  <thead>\n",
       "    <tr style=\"text-align: right;\">\n",
       "      <th></th>\n",
       "      <th>Fault_Series</th>\n",
       "      <th>Strat_Series</th>\n",
       "    </tr>\n",
       "  </thead>\n",
       "  <tbody>\n",
       "    <tr>\n",
       "      <th>Fault_Series</th>\n",
       "      <td>False</td>\n",
       "      <td>True</td>\n",
       "    </tr>\n",
       "    <tr>\n",
       "      <th>Strat_Series</th>\n",
       "      <td>False</td>\n",
       "      <td>False</td>\n",
       "    </tr>\n",
       "  </tbody>\n",
       "</table>\n",
       "</div>"
      ],
      "text/plain": [
       "              Fault_Series  Strat_Series\n",
       "Fault_Series         False          True\n",
       "Strat_Series         False         False"
      ]
     },
     "execution_count": 13,
     "metadata": {},
     "output_type": "execute_result"
    }
   ],
   "source": [
    "geo_model.faults.faults_relations_df"
   ]
  },
  {
   "cell_type": "markdown",
   "metadata": {},
   "source": [
    "The sequence of geoligical series and assigned formations can be visualized using the function `get_sequential_pile`. Using a backend such as `%matplotlib notebook` or `%matplotlib qt5`, the figure generated by this function becomes interactive, i.e. you can change the order of series and formations by hand (via `%matplotlib inline`, the figure remains static). You can also re-assign a formation to a different series.\n",
    "\n",
    "If the backend doen't seem to work properly right away, try executing the cell twice."
   ]
  },
  {
   "cell_type": "code",
   "execution_count": 14,
   "metadata": {
    "scrolled": false
   },
   "outputs": [
    {
     "data": {
      "image/png": "[encoded data removed]",
      "text/plain": [
       "<Figure size 432x288 with 1 Axes>"
      ]
     },
     "execution_count": 14,
     "metadata": {},
     "output_type": "execute_result"
    }
   ],
   "source": [
    "%matplotlib inline\n",
    "gp.get_sequential_pile(geo_model)"
   ]
  },
  {
   "cell_type": "markdown",
   "metadata": {},
   "source": [
    "Notice that the colors are order-dependent, i.e. they will remain in the same order every time the cell is executed, irrespective of re-assignment of formations. \n",
    "To make sure that every unit is in its right place, take a look at the legend on the right. If it doesn't show at first, try dragging the right edge to resize the figure. The legend will always show you the color currently assigned to a formation (in the future, every color will have the annotation within its rectangle to avoid confusion)."
   ]
  },
  {
   "cell_type": "markdown",
   "metadata": {},
   "source": [
    "### Returning information from our input data\n",
    "\n",
    "Our model input data, here named \"*geo_model*\", contains all the information that is essential for the construction of our model. You can access different types of information by using correspondent \"*get*\" functions.\n",
    "\n",
    "We can, for example, return the coordinates of our modeling grid via *get_grid* and check its attribute values:"
   ]
  },
  {
   "cell_type": "code",
   "execution_count": 15,
   "metadata": {},
   "outputs": [
    {
     "name": "stdout",
     "output_type": "stream",
     "text": [
      "Grid Object. Values: \n",
      "[[   20.    20.    20.]\n",
      " [   20.    20.    60.]\n",
      " [   20.    20.   100.]\n",
      " ..., \n",
      " [ 1980.  1980.  1900.]\n",
      " [ 1980.  1980.  1940.]\n",
      " [ 1980.  1980.  1980.]]\n"
     ]
    }
   ],
   "source": [
    "print(geo_model.grid)"
   ]
  },
  {
   "cell_type": "markdown",
   "metadata": {},
   "source": [
    "As mentioned before, GemPy's core algorithm is based on interpolation of two types of data:\n",
    "- interface (or surface) points\n",
    "and\n",
    "- orientation measurements\n",
    "\n",
    "(if you want to know more on how this this interpolation algorithm works, checkout our chapter on the theory behind GemPy).\n",
    "\n",
    "We introduced the function *get_data* above. You can also specify which kind of data you want to call, by declaring the string attribute \"*dtype*\" to be either \"interfaces\" (surface points) or \"foliations\" (orientation measurements). \n",
    "\n",
    "#### Interfaces Dataframe:"
   ]
  },
  {
   "cell_type": "code",
   "execution_count": 16,
   "metadata": {
    "scrolled": false
   },
   "outputs": [
    {
     "data": {
      "text/html": [
       "<div>\n",
       "<style scoped>\n",
       "    .dataframe tbody tr th:only-of-type {\n",
       "        vertical-align: middle;\n",
       "    }\n",
       "\n",
       "    .dataframe tbody tr th {\n",
       "        vertical-align: top;\n",
       "    }\n",
       "\n",
       "    .dataframe thead th {\n",
       "        text-align: right;\n",
       "    }\n",
       "</style>\n",
       "<table border=\"1\" class=\"dataframe\">\n",
       "  <thead>\n",
       "    <tr style=\"text-align: right;\">\n",
       "      <th></th>\n",
       "      <th>X</th>\n",
       "      <th>Y</th>\n",
       "      <th>Z</th>\n",
       "      <th>X_r</th>\n",
       "      <th>Y_r</th>\n",
       "      <th>Z_r</th>\n",
       "      <th>surface</th>\n",
       "      <th>series</th>\n",
       "      <th>id</th>\n",
       "      <th>order_series</th>\n",
       "    </tr>\n",
       "  </thead>\n",
       "  <tbody>\n",
       "    <tr>\n",
       "      <th>52</th>\n",
       "      <td>700</td>\n",
       "      <td>1000</td>\n",
       "      <td>900</td>\n",
       "      <td>0.460626</td>\n",
       "      <td>0.5001</td>\n",
       "      <td>0.500100</td>\n",
       "      <td>Main_Fault</td>\n",
       "      <td>Fault_Series</td>\n",
       "      <td>1</td>\n",
       "      <td>1</td>\n",
       "    </tr>\n",
       "    <tr>\n",
       "      <th>53</th>\n",
       "      <td>600</td>\n",
       "      <td>1000</td>\n",
       "      <td>600</td>\n",
       "      <td>0.434311</td>\n",
       "      <td>0.5001</td>\n",
       "      <td>0.421153</td>\n",
       "      <td>Main_Fault</td>\n",
       "      <td>Fault_Series</td>\n",
       "      <td>1</td>\n",
       "      <td>1</td>\n",
       "    </tr>\n",
       "    <tr>\n",
       "      <th>54</th>\n",
       "      <td>500</td>\n",
       "      <td>1000</td>\n",
       "      <td>300</td>\n",
       "      <td>0.407995</td>\n",
       "      <td>0.5001</td>\n",
       "      <td>0.342205</td>\n",
       "      <td>Main_Fault</td>\n",
       "      <td>Fault_Series</td>\n",
       "      <td>1</td>\n",
       "      <td>1</td>\n",
       "    </tr>\n",
       "    <tr>\n",
       "      <th>55</th>\n",
       "      <td>800</td>\n",
       "      <td>1000</td>\n",
       "      <td>1200</td>\n",
       "      <td>0.486942</td>\n",
       "      <td>0.5001</td>\n",
       "      <td>0.579047</td>\n",
       "      <td>Main_Fault</td>\n",
       "      <td>Fault_Series</td>\n",
       "      <td>1</td>\n",
       "      <td>1</td>\n",
       "    </tr>\n",
       "    <tr>\n",
       "      <th>56</th>\n",
       "      <td>900</td>\n",
       "      <td>1000</td>\n",
       "      <td>1500</td>\n",
       "      <td>0.513258</td>\n",
       "      <td>0.5001</td>\n",
       "      <td>0.657995</td>\n",
       "      <td>Main_Fault</td>\n",
       "      <td>Fault_Series</td>\n",
       "      <td>1</td>\n",
       "      <td>1</td>\n",
       "    </tr>\n",
       "  </tbody>\n",
       "</table>\n",
       "</div>"
      ],
      "text/plain": [
       "      X     Y     Z       X_r     Y_r       Z_r     surface        series  id  \\\n",
       "52  700  1000   900  0.460626  0.5001  0.500100  Main_Fault  Fault_Series   1   \n",
       "53  600  1000   600  0.434311  0.5001  0.421153  Main_Fault  Fault_Series   1   \n",
       "54  500  1000   300  0.407995  0.5001  0.342205  Main_Fault  Fault_Series   1   \n",
       "55  800  1000  1200  0.486942  0.5001  0.579047  Main_Fault  Fault_Series   1   \n",
       "56  900  1000  1500  0.513258  0.5001  0.657995  Main_Fault  Fault_Series   1   \n",
       "\n",
       "    order_series  \n",
       "52             1  \n",
       "53             1  \n",
       "54             1  \n",
       "55             1  \n",
       "56             1  "
      ]
     },
     "execution_count": 16,
     "metadata": {},
     "output_type": "execute_result"
    }
   ],
   "source": [
    "gp.get_data(geo_model, 'surface_points').head()"
   ]
  },
  {
   "cell_type": "markdown",
   "metadata": {},
   "source": [
    "#### Foliations Dataframe:"
   ]
  },
  {
   "cell_type": "code",
   "execution_count": 17,
   "metadata": {
    "scrolled": true
   },
   "outputs": [
    {
     "data": {
      "text/html": [
       "<div>\n",
       "<style scoped>\n",
       "    .dataframe tbody tr th:only-of-type {\n",
       "        vertical-align: middle;\n",
       "    }\n",
       "\n",
       "    .dataframe tbody tr th {\n",
       "        vertical-align: top;\n",
       "    }\n",
       "\n",
       "    .dataframe thead th {\n",
       "        text-align: right;\n",
       "    }\n",
       "</style>\n",
       "<table border=\"1\" class=\"dataframe\">\n",
       "  <thead>\n",
       "    <tr style=\"text-align: right;\">\n",
       "      <th></th>\n",
       "      <th>X</th>\n",
       "      <th>Y</th>\n",
       "      <th>Z</th>\n",
       "      <th>X_r</th>\n",
       "      <th>Y_r</th>\n",
       "      <th>Z_r</th>\n",
       "      <th>G_x</th>\n",
       "      <th>G_y</th>\n",
       "      <th>G_z</th>\n",
       "      <th>dip</th>\n",
       "      <th>azimuth</th>\n",
       "      <th>polarity</th>\n",
       "      <th>surface</th>\n",
       "      <th>series</th>\n",
       "      <th>id</th>\n",
       "      <th>order_series</th>\n",
       "    </tr>\n",
       "  </thead>\n",
       "  <tbody>\n",
       "    <tr>\n",
       "      <th>2</th>\n",
       "      <td>500</td>\n",
       "      <td>1000</td>\n",
       "      <td>864.602</td>\n",
       "      <td>0.407995</td>\n",
       "      <td>0.5001</td>\n",
       "      <td>0.490785</td>\n",
       "      <td>-0.948683</td>\n",
       "      <td>9.998257e-13</td>\n",
       "      <td>0.316229</td>\n",
       "      <td>71.565</td>\n",
       "      <td>270.0</td>\n",
       "      <td>1.0</td>\n",
       "      <td>Main_Fault</td>\n",
       "      <td>Fault_Series</td>\n",
       "      <td>1</td>\n",
       "      <td>1</td>\n",
       "    </tr>\n",
       "    <tr>\n",
       "      <th>0</th>\n",
       "      <td>1000</td>\n",
       "      <td>1000</td>\n",
       "      <td>950.000</td>\n",
       "      <td>0.539574</td>\n",
       "      <td>0.5001</td>\n",
       "      <td>0.513258</td>\n",
       "      <td>0.316229</td>\n",
       "      <td>1.000019e-12</td>\n",
       "      <td>0.948683</td>\n",
       "      <td>18.435</td>\n",
       "      <td>90.0</td>\n",
       "      <td>1.0</td>\n",
       "      <td>Shale</td>\n",
       "      <td>Strat_Series</td>\n",
       "      <td>2</td>\n",
       "      <td>2</td>\n",
       "    </tr>\n",
       "    <tr>\n",
       "      <th>1</th>\n",
       "      <td>400</td>\n",
       "      <td>1000</td>\n",
       "      <td>1400.000</td>\n",
       "      <td>0.381679</td>\n",
       "      <td>0.5001</td>\n",
       "      <td>0.631679</td>\n",
       "      <td>0.316229</td>\n",
       "      <td>1.000019e-12</td>\n",
       "      <td>0.948683</td>\n",
       "      <td>18.435</td>\n",
       "      <td>90.0</td>\n",
       "      <td>1.0</td>\n",
       "      <td>Sandstone_2</td>\n",
       "      <td>Strat_Series</td>\n",
       "      <td>5</td>\n",
       "      <td>2</td>\n",
       "    </tr>\n",
       "  </tbody>\n",
       "</table>\n",
       "</div>"
      ],
      "text/plain": [
       "      X     Y         Z       X_r     Y_r       Z_r       G_x           G_y  \\\n",
       "2   500  1000   864.602  0.407995  0.5001  0.490785 -0.948683  9.998257e-13   \n",
       "0  1000  1000   950.000  0.539574  0.5001  0.513258  0.316229  1.000019e-12   \n",
       "1   400  1000  1400.000  0.381679  0.5001  0.631679  0.316229  1.000019e-12   \n",
       "\n",
       "        G_z     dip  azimuth  polarity      surface        series  id  \\\n",
       "2  0.316229  71.565    270.0       1.0   Main_Fault  Fault_Series   1   \n",
       "0  0.948683  18.435     90.0       1.0        Shale  Strat_Series   2   \n",
       "1  0.948683  18.435     90.0       1.0  Sandstone_2  Strat_Series   5   \n",
       "\n",
       "   order_series  \n",
       "2             1  \n",
       "0             2  \n",
       "1             2  "
      ]
     },
     "execution_count": 17,
     "metadata": {},
     "output_type": "execute_result"
    }
   ],
   "source": [
    "gp.get_data(geo_model, 'orientations')"
   ]
  },
  {
   "cell_type": "markdown",
   "metadata": {},
   "source": [
    "Notice that now all **formations** have been assigned to a **series** and are displayed in the correct order (from young to old).\n",
    "\n",
    "### Visualizing input data\n",
    "\n",
    "We can also visualize our input data. This might for example be useful to check if all points and measurements are defined the way we want them to. Using the function *plot_data*, we attain a 2D projection of our data points onto a plane of chosen *direction* (we can choose this attribute to be either $x$, $y$ or $z$). "
   ]
  },
  {
   "cell_type": "code",
   "execution_count": 18,
   "metadata": {},
   "outputs": [
    {
     "data": {
      "image/png": "[encoded data removed]",
      "text/plain": [
       "<Figure size 360x360 with 1 Axes>"
      ]
     },
     "metadata": {},
     "output_type": "display_data"
    }
   ],
   "source": [
    "%matplotlib inline\n",
    "gp.plot.plot_data(geo_model, direction='y')"
   ]
  },
  {
   "cell_type": "markdown",
   "metadata": {},
   "source": [
    "Using *plot_data_3D*, we can also visualize this data in 3D. Note that direct 3D visualization in GemPy requires [the Visualization Toolkit](https://www.vtk.org/) (VTK) to be installed.\n",
    "\n",
    "All 3D VTK plots in GemPy are interactive. This means that we can drag and drop any data poit and measurement. The perpendicular axis views in VTK are particularly useful to move points solely on a desired 2D plane. Any changes will then be stored permanently in the \"InputData\" dataframe. If we want to reset our data points, we will then need to reload our original input data.\n",
    "\n",
    "Executing the cell below will open a new window with a 3D interactive plot of our data."
   ]
  },
  {
   "cell_type": "code",
   "execution_count": 19,
   "metadata": {},
   "outputs": [
    {
     "name": "stdout",
     "output_type": "stream",
     "text": [
      "closing vtk\n"
     ]
    }
   ],
   "source": [
    "gp.plot.plot_3D(geo_model, render_surfaces=True);"
   ]
  },
  {
   "cell_type": "markdown",
   "metadata": {},
   "source": [
    "### Model generation\n",
    "\n",
    "Once we have made sure that we have defined all our primary information as desired in our object `DataManagement.InputData` (named `geo_data` in these tutorials), we can continue with the next step towards creating our geological model: preparing the input data for interpolation.\n",
    "\n",
    "This is done by generating an `InterpolatorData` object (named `interp_data` in these tutorials) from our `InputData` object via the following function:"
   ]
  },
  {
   "cell_type": "code",
   "execution_count": 20,
   "metadata": {
    "scrolled": false
   },
   "outputs": [
    {
     "name": "stdout",
     "output_type": "stream",
     "text": [
      "Compiling theano function...\n",
      "Compilation Done!\n"
     ]
    },
    {
     "data": {
      "text/html": [
       "<table border=\"1\" class=\"dataframe\">\n",
       "  <thead>\n",
       "    <tr style=\"text-align: right;\">\n",
       "      <th></th>\n",
       "      <th>values</th>\n",
       "    </tr>\n",
       "  </thead>\n",
       "  <tbody>\n",
       "    <tr>\n",
       "      <th>dtype</th>\n",
       "      <td>float64</td>\n",
       "    </tr>\n",
       "    <tr>\n",
       "      <th>output</th>\n",
       "      <td>geology</td>\n",
       "    </tr>\n",
       "    <tr>\n",
       "      <th>theano_optimizer</th>\n",
       "      <td>fast_compile</td>\n",
       "    </tr>\n",
       "    <tr>\n",
       "      <th>device</th>\n",
       "      <td>cpu</td>\n",
       "    </tr>\n",
       "    <tr>\n",
       "      <th>verbosity</th>\n",
       "      <td>[]</td>\n",
       "    </tr>\n",
       "  </tbody>\n",
       "</table>"
      ],
      "text/plain": [
       "                        values\n",
       "dtype                  float64\n",
       "output                 geology\n",
       "theano_optimizer  fast_compile\n",
       "device                     cpu\n",
       "verbosity                   []"
      ]
     },
     "execution_count": 20,
     "metadata": {},
     "output_type": "execute_result"
    }
   ],
   "source": [
    "gp.set_interpolation_data(geo_model,\n",
    "                          compile_theano=True,\n",
    "                          theano_optimizer='fast_compile',\n",
    "                          verbose=[])\n"
   ]
  },
  {
   "cell_type": "markdown",
   "metadata": {},
   "source": [
    "This function rescales the extent and coordinates of the original data (and store it in the attribute `geo_data_res` which behaves as a usual `InputData` object) and adds mathematical parameters that are needed for conducting the interpolation. The computation of this step may take a while, as it also compiles a theano function which is required for the model computation. However, should this not be needed, we can skip it by declaring `compile_theano = False` in the function.\n",
    "\n",
    "Furthermore, this preparation process includes an assignment of numbers to each formation. Note that GemPy's always creates a default basement formation as the last formation number. Afterwards, numbers are allocated from youngest to oldest as defined by the sequence of series and formations. On the property `formations` on our interpolation data, we can find out which number has been assigned to which formation:"
   ]
  },
  {
   "cell_type": "markdown",
   "metadata": {},
   "source": [
    "The parameters used for the interpolation can be returned using the function `get_kriging_parameters`. These are generated automatically from the orginal data, but can be changed if needed. However, users should be careful doing so, if they do not fully understand their significance."
   ]
  },
  {
   "cell_type": "code",
   "execution_count": 21,
   "metadata": {},
   "outputs": [
    {
     "data": {
      "text/html": [
       "<table border=\"1\" class=\"dataframe\">\n",
       "  <thead>\n",
       "    <tr style=\"text-align: right;\">\n",
       "      <th></th>\n",
       "      <th>values</th>\n",
       "    </tr>\n",
       "  </thead>\n",
       "  <tbody>\n",
       "    <tr>\n",
       "      <th>range</th>\n",
       "      <td>3464.1</td>\n",
       "    </tr>\n",
       "    <tr>\n",
       "      <th>$C_o$</th>\n",
       "      <td>285714</td>\n",
       "    </tr>\n",
       "    <tr>\n",
       "      <th>drift equations</th>\n",
       "      <td>[3, 3]</td>\n",
       "    </tr>\n",
       "    <tr>\n",
       "      <th>nugget grad</th>\n",
       "      <td>0.01</td>\n",
       "    </tr>\n",
       "    <tr>\n",
       "      <th>nugget scalar</th>\n",
       "      <td>1e-06</td>\n",
       "    </tr>\n",
       "  </tbody>\n",
       "</table>"
      ],
      "text/plain": [
       "                 values\n",
       "range            3464.1\n",
       "$C_o$            285714\n",
       "drift equations  [3, 3]\n",
       "nugget grad        0.01\n",
       "nugget scalar     1e-06"
      ]
     },
     "execution_count": 21,
     "metadata": {},
     "output_type": "execute_result"
    }
   ],
   "source": [
    "gp.get_data(geo_model, 'kriging')"
   ]
  },
  {
   "cell_type": "markdown",
   "metadata": {},
   "source": [
    "At this point, we have all we need to compute our full model via `compute_model`. By default, this will return two separate solutions in the form of arrays. The first gives information on the lithological formations, the second on the fault network in the model. These arrays consist of two subarrays as entries each:\n",
    "\n",
    "1. Lithology block model solution:\n",
    "    + Entry [0]: This array shows what kind of lithological formation is found in each voxel, as indicated by a respective formation_number.\n",
    "    + Entry [1]: Potential field array that represents the orientation of lithological units and layers in the block model.\n",
    "2. Fault network block model solution:\n",
    "    + Entry [0]: Array in which all fault-separated areas of the model are represented by a distinct number contained in each voxel.\n",
    "    + Entry [1}: Potential field array related to the fault network in the block model.\n",
    "    \n",
    "Below, we illustrate these different model solutions and how they can be used."
   ]
  },
  {
   "cell_type": "code",
   "execution_count": 22,
   "metadata": {},
   "outputs": [
    {
     "data": {
      "text/html": [
       "<table border=\"1\" class=\"dataframe\">\n",
       "  <thead>\n",
       "    <tr style=\"text-align: right;\">\n",
       "      <th></th>\n",
       "      <th>values</th>\n",
       "    </tr>\n",
       "  </thead>\n",
       "  <tbody>\n",
       "    <tr>\n",
       "      <th>isLith</th>\n",
       "      <td>True</td>\n",
       "    </tr>\n",
       "    <tr>\n",
       "      <th>isFault</th>\n",
       "      <td>True</td>\n",
       "    </tr>\n",
       "    <tr>\n",
       "      <th>number faults</th>\n",
       "      <td>1</td>\n",
       "    </tr>\n",
       "    <tr>\n",
       "      <th>number surfaces</th>\n",
       "      <td>5</td>\n",
       "    </tr>\n",
       "    <tr>\n",
       "      <th>number series</th>\n",
       "      <td>2</td>\n",
       "    </tr>\n",
       "    <tr>\n",
       "      <th>number surfaces per series</th>\n",
       "      <td>[1, 4]</td>\n",
       "    </tr>\n",
       "    <tr>\n",
       "      <th>len surfaces surface_points</th>\n",
       "      <td>[5, 16, 15, 13, 8]</td>\n",
       "    </tr>\n",
       "    <tr>\n",
       "      <th>len series surface_points</th>\n",
       "      <td>[5, 52]</td>\n",
       "    </tr>\n",
       "    <tr>\n",
       "      <th>len series orientations</th>\n",
       "      <td>[1, 2]</td>\n",
       "    </tr>\n",
       "  </tbody>\n",
       "</table>"
      ],
      "text/plain": [
       "                                         values\n",
       "isLith                                     True\n",
       "isFault                                    True\n",
       "number faults                                 1\n",
       "number surfaces                               5\n",
       "number series                                 2\n",
       "number surfaces per series               [1, 4]\n",
       "len surfaces surface_points  [5, 16, 15, 13, 8]\n",
       "len series surface_points               [5, 52]\n",
       "len series orientations                  [1, 2]"
      ]
     },
     "execution_count": 22,
     "metadata": {},
     "output_type": "execute_result"
    }
   ],
   "source": [
    "geo_model.additional_data.structure_data"
   ]
  },
  {
   "cell_type": "code",
   "execution_count": 23,
   "metadata": {},
   "outputs": [],
   "source": [
    "geo_model.update_structure()"
   ]
  },
  {
   "cell_type": "code",
   "execution_count": 30,
   "metadata": {
    "scrolled": false
   },
   "outputs": [],
   "source": [
    "sol = gp.compute_model(geo_model, compute_mesh=True)"
   ]
  },
  {
   "cell_type": "code",
   "execution_count": 25,
   "metadata": {},
   "outputs": [
    {
     "name": "stdout",
     "output_type": "stream",
     "text": [
      "len sereies i [ 0  4 52]\n",
      "len sereies o [0 1 3]\n",
      "len sereies w [ 0 10 68]\n",
      "n surfaces per series [0 1 5]\n",
      "n universal eq [3 3]\n",
      "is finite [0 0]\n",
      "is erosion [0 0]\n",
      "is onlap [0 0]\n"
     ]
    }
   ],
   "source": [
    "geo_model.interpolator.print_theano_shared()"
   ]
  },
  {
   "cell_type": "code",
   "execution_count": 26,
   "metadata": {},
   "outputs": [
    {
     "data": {
      "text/plain": [
       "array([[False, False, False, ..., False, False, False],\n",
       "       [ True,  True,  True, ...,  True,  True,  True]], dtype=bool)"
      ]
     },
     "execution_count": 26,
     "metadata": {},
     "output_type": "execute_result"
    }
   ],
   "source": [
    "geo_model.solutions.mask_matrix"
   ]
  },
  {
   "cell_type": "code",
   "execution_count": 29,
   "metadata": {},
   "outputs": [
    {
     "name": "stdout",
     "output_type": "stream",
     "text": [
      "Click to select new colors.\n"
     ]
    },
    {
     "data": {
      "application/vnd.jupyter.widget-view+json": {
       "model_id": "a9fe736cc94d4b33afc1f56b84ed7282",
       "version_major": 2,
       "version_minor": 0
      },
      "text/plain": [
       "VBox(children=(ColorPicker(value='#015482', description='Shale'), ColorPicker(value='#9f0052', description='Sa…"
      ]
     },
     "metadata": {},
     "output_type": "display_data"
    }
   ],
   "source": [
    "geo_model.surfaces.colors.change_colors()"
   ]
  },
  {
   "cell_type": "markdown",
   "metadata": {},
   "source": [
    "### Direct model visualization in GemPy\n",
    "\n",
    "Model solutions can be easily visualized in 2D sections in GemPy directly. Let's take a look at our lithology block:"
   ]
  },
  {
   "cell_type": "code",
   "execution_count": 31,
   "metadata": {},
   "outputs": [
    {
     "ename": "AttributeError",
     "evalue": "'DataFrame' object has no attribute 'form_series'",
     "output_type": "error",
     "traceback": [
      "\u001b[1;31m---------------------------------------------------------------------------\u001b[0m",
      "\u001b[1;31mAttributeError\u001b[0m                            Traceback (most recent call last)",
      "\u001b[1;32m<ipython-input-31-583fa3a0490e>\u001b[0m in \u001b[0;36m<module>\u001b[1;34m()\u001b[0m\n\u001b[0;32m      1\u001b[0m \u001b[0mget_ipython\u001b[0m\u001b[1;33m(\u001b[0m\u001b[1;33m)\u001b[0m\u001b[1;33m.\u001b[0m\u001b[0mmagic\u001b[0m\u001b[1;33m(\u001b[0m\u001b[1;34m'matplotlib inline'\u001b[0m\u001b[1;33m)\u001b[0m\u001b[1;33m\u001b[0m\u001b[0m\n\u001b[0;32m      2\u001b[0m gp.plot.plot_section(geo_model, cell_number=25,block_type='lithology',\n\u001b[1;32m----> 3\u001b[1;33m                          direction='y', plot_data=True)\n\u001b[0m",
      "\u001b[1;32m~\\Documents\\git\\gempy\\gempy\\plot\\plot.py\u001b[0m in \u001b[0;36mplot_section\u001b[1;34m(model, cell_number, block_type, direction, **kwargs)\u001b[0m\n\u001b[0;32m    198\u001b[0m     \"\"\"\n\u001b[0;32m    199\u001b[0m     \u001b[0mplot\u001b[0m \u001b[1;33m=\u001b[0m \u001b[0mPlotData2D\u001b[0m\u001b[1;33m(\u001b[0m\u001b[0mmodel\u001b[0m\u001b[1;33m)\u001b[0m\u001b[1;33m\u001b[0m\u001b[0m\n\u001b[1;32m--> 200\u001b[1;33m     \u001b[0mplot\u001b[0m\u001b[1;33m.\u001b[0m\u001b[0mplot_block_section\u001b[0m\u001b[1;33m(\u001b[0m\u001b[0mmodel\u001b[0m\u001b[1;33m.\u001b[0m\u001b[0msolutions\u001b[0m\u001b[1;33m,\u001b[0m \u001b[0mcell_number\u001b[0m\u001b[1;33m,\u001b[0m \u001b[0mblock\u001b[0m\u001b[1;33m=\u001b[0m\u001b[0mblock_type\u001b[0m\u001b[1;33m,\u001b[0m \u001b[0mdirection\u001b[0m\u001b[1;33m=\u001b[0m\u001b[0mdirection\u001b[0m\u001b[1;33m,\u001b[0m \u001b[1;33m**\u001b[0m\u001b[0mkwargs\u001b[0m\u001b[1;33m)\u001b[0m\u001b[1;33m\u001b[0m\u001b[0m\n\u001b[0m\u001b[0;32m    201\u001b[0m     \u001b[1;31m# TODO saving options\u001b[0m\u001b[1;33m\u001b[0m\u001b[1;33m\u001b[0m\u001b[0m\n\u001b[0;32m    202\u001b[0m \u001b[1;33m\u001b[0m\u001b[0m\n",
      "\u001b[1;32m~\\Documents\\git\\gempy\\gempy\\plot\\visualization_2d.py\u001b[0m in \u001b[0;36mplot_block_section\u001b[1;34m(self, solution, cell_number, block, direction, interpolation, plot_data, block_type, ve, show_faults, **kwargs)\u001b[0m\n\u001b[0;32m    300\u001b[0m         \u001b[1;32mif\u001b[0m \u001b[0mshow_faults\u001b[0m\u001b[1;33m:\u001b[0m\u001b[1;33m\u001b[0m\u001b[0m\n\u001b[0;32m    301\u001b[0m             \u001b[1;31m#raise NotImplementedError\u001b[0m\u001b[1;33m\u001b[0m\u001b[1;33m\u001b[0m\u001b[0m\n\u001b[1;32m--> 302\u001b[1;33m             \u001b[0mself\u001b[0m\u001b[1;33m.\u001b[0m\u001b[0mextract_fault_lines\u001b[0m\u001b[1;33m(\u001b[0m\u001b[0mcell_number\u001b[0m\u001b[1;33m,\u001b[0m \u001b[0mdirection\u001b[0m\u001b[1;33m)\u001b[0m\u001b[1;33m\u001b[0m\u001b[0m\n\u001b[0m\u001b[0;32m    303\u001b[0m         \u001b[1;32mif\u001b[0m \u001b[1;32mnot\u001b[0m \u001b[0mplot_data\u001b[0m\u001b[1;33m:\u001b[0m\u001b[1;33m\u001b[0m\u001b[0m\n\u001b[0;32m    304\u001b[0m             \u001b[1;32mimport\u001b[0m \u001b[0mmatplotlib\u001b[0m\u001b[1;33m.\u001b[0m\u001b[0mpatches\u001b[0m \u001b[1;32mas\u001b[0m \u001b[0mmpatches\u001b[0m\u001b[1;33m\u001b[0m\u001b[0m\n",
      "\u001b[1;32m~\\Documents\\git\\gempy\\gempy\\plot\\visualization_2d.py\u001b[0m in \u001b[0;36mextract_fault_lines\u001b[1;34m(self, cell_number, direction)\u001b[0m\n\u001b[0;32m    228\u001b[0m     \u001b[1;32mdef\u001b[0m \u001b[0mextract_fault_lines\u001b[0m\u001b[1;33m(\u001b[0m\u001b[0mself\u001b[0m\u001b[1;33m,\u001b[0m \u001b[0mcell_number\u001b[0m\u001b[1;33m=\u001b[0m\u001b[1;36m25\u001b[0m\u001b[1;33m,\u001b[0m \u001b[0mdirection\u001b[0m\u001b[1;33m=\u001b[0m\u001b[1;34m'y'\u001b[0m\u001b[1;33m)\u001b[0m\u001b[1;33m:\u001b[0m\u001b[1;33m\u001b[0m\u001b[0m\n\u001b[0;32m    229\u001b[0m \u001b[1;33m\u001b[0m\u001b[0m\n\u001b[1;32m--> 230\u001b[1;33m         faults = list(self.model.faults.faults_relations_df.form_series[\n\u001b[0m\u001b[0;32m    231\u001b[0m                           self.model.faults.faults_relations_df.form_series == True].index)\n\u001b[0;32m    232\u001b[0m         \u001b[0m_slice\u001b[0m\u001b[1;33m,\u001b[0m \u001b[0mextent\u001b[0m \u001b[1;33m=\u001b[0m \u001b[0mself\u001b[0m\u001b[1;33m.\u001b[0m\u001b[0m_slice2D\u001b[0m\u001b[1;33m(\u001b[0m\u001b[0mcell_number\u001b[0m\u001b[1;33m,\u001b[0m \u001b[0mdirection\u001b[0m\u001b[1;33m)\u001b[0m\u001b[1;33m\u001b[0m\u001b[0m\n",
      "\u001b[1;32m~\\Anaconda3\\envs\\rootclone\\lib\\site-packages\\pandas\\core\\generic.py\u001b[0m in \u001b[0;36m__getattr__\u001b[1;34m(self, name)\u001b[0m\n\u001b[0;32m   4374\u001b[0m             \u001b[1;32mif\u001b[0m \u001b[0mself\u001b[0m\u001b[1;33m.\u001b[0m\u001b[0m_info_axis\u001b[0m\u001b[1;33m.\u001b[0m\u001b[0m_can_hold_identifiers_and_holds_name\u001b[0m\u001b[1;33m(\u001b[0m\u001b[0mname\u001b[0m\u001b[1;33m)\u001b[0m\u001b[1;33m:\u001b[0m\u001b[1;33m\u001b[0m\u001b[0m\n\u001b[0;32m   4375\u001b[0m                 \u001b[1;32mreturn\u001b[0m \u001b[0mself\u001b[0m\u001b[1;33m[\u001b[0m\u001b[0mname\u001b[0m\u001b[1;33m]\u001b[0m\u001b[1;33m\u001b[0m\u001b[0m\n\u001b[1;32m-> 4376\u001b[1;33m             \u001b[1;32mreturn\u001b[0m \u001b[0mobject\u001b[0m\u001b[1;33m.\u001b[0m\u001b[0m__getattribute__\u001b[0m\u001b[1;33m(\u001b[0m\u001b[0mself\u001b[0m\u001b[1;33m,\u001b[0m \u001b[0mname\u001b[0m\u001b[1;33m)\u001b[0m\u001b[1;33m\u001b[0m\u001b[0m\n\u001b[0m\u001b[0;32m   4377\u001b[0m \u001b[1;33m\u001b[0m\u001b[0m\n\u001b[0;32m   4378\u001b[0m     \u001b[1;32mdef\u001b[0m \u001b[0m__setattr__\u001b[0m\u001b[1;33m(\u001b[0m\u001b[0mself\u001b[0m\u001b[1;33m,\u001b[0m \u001b[0mname\u001b[0m\u001b[1;33m,\u001b[0m \u001b[0mvalue\u001b[0m\u001b[1;33m)\u001b[0m\u001b[1;33m:\u001b[0m\u001b[1;33m\u001b[0m\u001b[0m\n",
      "\u001b[1;31mAttributeError\u001b[0m: 'DataFrame' object has no attribute 'form_series'"
     ]
    },
    {
     "data": {
      "image/png": "[encoded data removed]",
      "text/plain": [
       "<Figure size 360x360 with 1 Axes>"
      ]
     },
     "metadata": {},
     "output_type": "display_data"
    }
   ],
   "source": [
    "%matplotlib inline\n",
    "gp.plot.plot_section(geo_model, cell_number=25,block_type='lithology',\n",
    "                         direction='y', plot_data=True)"
   ]
  },
  {
   "cell_type": "code",
   "execution_count": null,
   "metadata": {},
   "outputs": [],
   "source": [
    "gp.plot.plot_3D(geo_model, render_surfaces=True)"
   ]
  },
  {
   "cell_type": "code",
   "execution_count": null,
   "metadata": {},
   "outputs": [],
   "source": [
    "geo_model.surfaces"
   ]
  },
  {
   "cell_type": "code",
   "execution_count": null,
   "metadata": {},
   "outputs": [],
   "source": [
    "geo_model.solutions.block_matrix"
   ]
  },
  {
   "cell_type": "code",
   "execution_count": null,
   "metadata": {},
   "outputs": [],
   "source": [
    "%matplotlib inline\n",
    "gp.plot.plot_section(geo_model, cell_number=25, block_type=geo_model.solutions.block_matrix[1],\n",
    "                         direction='y', plot_data=True)\n"
   ]
  },
  {
   "cell_type": "code",
   "execution_count": null,
   "metadata": {},
   "outputs": [],
   "source": [
    "break"
   ]
  },
  {
   "cell_type": "code",
   "execution_count": null,
   "metadata": {},
   "outputs": [],
   "source": [
    "from discretize import TensorMesh"
   ]
  },
  {
   "cell_type": "code",
   "execution_count": null,
   "metadata": {},
   "outputs": [],
   "source": [
    "dx = 20.\n",
    "dy = 20.\n",
    "dz = 20.\n",
    "\n",
    "# Number of core cells in each direction\n",
    "nCoreX = 50.\n",
    "nCoreY = 50.\n",
    "nCoreZ = 50.\n",
    "\n",
    "# Cell widths\n",
    "hx = [(dx,nCoreX)]\n",
    "hy = [(dy,nCoreY)]\n",
    "hz = [(dz,nCoreZ)]\n",
    "\n",
    "# Desired Core mesh origin (Bottom SW corner)\n",
    "x0 = 0\n",
    "y0 = 0\n",
    "z0 = 0\n",
    "\n",
    "mesh = TensorMesh([hx, hy, hz],[x0,y0,z0])\n",
    "print(mesh.nC)"
   ]
  },
  {
   "cell_type": "code",
   "execution_count": null,
   "metadata": {},
   "outputs": [],
   "source": [
    "X = mesh.gridCC[:,0]\n",
    "Y = mesh.gridCC[:,1]\n",
    "Z = mesh.gridCC[:,2]\n",
    "U = -1 - X**2 + Y + Z\n",
    "V = 1 + X - Y**2 + Z\n",
    "W = 1 + X + Y - Z**2\n",
    "dataVec = np.hstack([U,V,W])\n",
    "X.shape"
   ]
  },
  {
   "cell_type": "code",
   "execution_count": null,
   "metadata": {},
   "outputs": [],
   "source": [
    "geo_model.solutions.block_matrix[:,0].reshape(-1, 50,50,50).shape"
   ]
  },
  {
   "cell_type": "code",
   "execution_count": null,
   "metadata": {},
   "outputs": [],
   "source": [
    "fig = plt.figure()\n",
    "ax = plt.subplot(111)\n",
    "fig.set_figheight(10)\n",
    "fig.set_figwidth(10)\n",
    "labelsize = 30.\n",
    "ticksize = 30.\n",
    "\n",
    "# # Create data vector\n",
    "# dataVec = np.hstack([U,V,W])\n",
    "# print(dataVec.shape)\n",
    "\n",
    "# Set streamline plotting options\n",
    "streamOpts = {'color':'b', 'density':.5}\n",
    "pcolorOpts = {\"cmap\":\"viridis\"}\n",
    "\n",
    "dat = mesh.plotSlice(geo_model.solutions.lith_block.reshape(50,50,50), ax=ax, grid=True, streamOpts=streamOpts,\n",
    "                     pcolorOpts=pcolorOpts,\n",
    "                     view='real',\n",
    "                     vType='CCv',\n",
    "                     ind=5, normal='Y')"
   ]
  },
  {
   "cell_type": "code",
   "execution_count": null,
   "metadata": {},
   "outputs": [],
   "source": [
    "mesh.plot_3d_slicer(geo_model.solutions.lith_block.reshape(50,50,50))"
   ]
  },
  {
   "cell_type": "code",
   "execution_count": null,
   "metadata": {},
   "outputs": [],
   "source": []
  },
  {
   "cell_type": "code",
   "execution_count": null,
   "metadata": {},
   "outputs": [],
   "source": []
  },
  {
   "cell_type": "markdown",
   "metadata": {},
   "source": [
    "With `cell_number=25` and remembering that we defined our resolution to be 50 cells in each direction, we have chosen a section going through the middle of our block. We have moved 25 cells in `direction='y'`, the plot thus depicts a plane parallel to the $x$- and $y$-axes. Setting `plot_data=True`, we could plot original data together with the results. Changing the values for `cell_number`and `direction`, we can move through our 3D block model and explore it by looking at different 2D planes.\n",
    "\n",
    "We can do the same with out lithological scalar-field solution:"
   ]
  },
  {
   "cell_type": "code",
   "execution_count": null,
   "metadata": {},
   "outputs": [],
   "source": [
    "gp.plot.plot_scalar_field(geo_model, cell_number=25, N=15, series=1, \n",
    "                              direction='y', plot_data=True)"
   ]
  },
  {
   "cell_type": "markdown",
   "metadata": {},
   "source": [
    "This illustrates well the fold-related deformation of the stratigraphy, as well as the way the layers are influenced by the fault.\n",
    "\n",
    "The fault network modeling solutions can be visualized in the same way:"
   ]
  },
  {
   "cell_type": "code",
   "execution_count": null,
   "metadata": {},
   "outputs": [],
   "source": [
    "gp.plot.plot_section(geo_model, cell_number=25, plot_data=False)\n"
   ]
  },
  {
   "cell_type": "markdown",
   "metadata": {},
   "source": [
    "### Marching cubes and vtk visualization\n",
    "\n",
    "In addition to 2D sections we can extract surfaces to visualize in 3D renderers. Surfaces can be visualized as 3D triangle complexes in VTK (see function plot_surfaces_3D below). To create these triangles, we need to extract respective vertices and simplices from the potential fields of lithologies and faults. This process is automatized in GemPy with the function get_surface"
   ]
  },
  {
   "cell_type": "code",
   "execution_count": null,
   "metadata": {},
   "outputs": [],
   "source": [
    "ver , sim = gp.get_surfaces(geo_model)"
   ]
  },
  {
   "cell_type": "code",
   "execution_count": null,
   "metadata": {},
   "outputs": [],
   "source": [
    "gp.plot.plot_3D(geo_model)"
   ]
  },
  {
   "cell_type": "code",
   "execution_count": null,
   "metadata": {},
   "outputs": [],
   "source": [
    "%debug"
   ]
  },
  {
   "cell_type": "code",
   "execution_count": null,
   "metadata": {},
   "outputs": [],
   "source": [
    "#gp.plot.plot_surfaces_3D(geo_model, list(ver.values()), list(sim.values()))"
   ]
  },
  {
   "cell_type": "markdown",
   "metadata": {},
   "source": [
    "Using the rescaled interpolation data, we can also run our 3D VTK visualization in an interactive mode which allows us to alter and update our model in real time. Similarly to the interactive 3D visualization of our input data, the changes are permamently saved (in the InterpolationInput dataframe object). Addtionally, the resulting changes in the geological models are re-computed in real time."
   ]
  },
  {
   "cell_type": "code",
   "execution_count": null,
   "metadata": {},
   "outputs": [],
   "source": [
    "# gp.plot.plot_surfaces_3D_real_time(geo_model, geo_model.interpolator, ver, sim)"
   ]
  },
  {
   "cell_type": "markdown",
   "metadata": {},
   "source": [
    "### Compute at a given location\n",
    "\n",
    "This is done by modifing the grid to a custom grid and recomputing"
   ]
  },
  {
   "cell_type": "code",
   "execution_count": null,
   "metadata": {},
   "outputs": [],
   "source": [
    "# gp.compute_model_at(np.array([[3,5,6]]), geo_model)"
   ]
  },
  {
   "cell_type": "code",
   "execution_count": null,
   "metadata": {},
   "outputs": [],
   "source": []
  }
 ],
 "metadata": {
  "kernelspec": {
   "display_name": "Python 3",
   "language": "python",
   "name": "python3"
  },
  "language_info": {
   "codemirror_mode": {
    "name": "ipython",
    "version": 3
   },
   "file_extension": ".py",
   "mimetype": "text/x-python",
   "name": "python",
   "nbconvert_exporter": "python",
   "pygments_lexer": "ipython3",
   "version": "3.6.6"
  },
  "latex_envs": {
   "LaTeX_envs_menu_present": true,
   "autocomplete": true,
   "bibliofile": "biblio.bib",
   "cite_by": "apalike",
   "current_citInitial": 1,
   "eqLabelWithNumbers": true,
   "eqNumInitial": 1,
   "hotkeys": {
    "equation": "Ctrl-E",
    "itemize": "Ctrl-I"
   },
   "labels_anchors": false,
   "latex_user_defs": false,
   "report_style_numbering": false,
   "user_envs_cfg": false
  },
  "toc": {
   "colors": {
    "hover_highlight": "#DAA520",
    "running_highlight": "#FF0000",
    "selected_highlight": "#FFD700"
   },
   "moveMenuLeft": true,
   "nav_menu": {
    "height": "67px",
    "width": "252px"
   },
   "navigate_menu": true,
   "number_sections": true,
   "sideBar": true,
   "threshold": 4,
   "toc_cell": false,
   "toc_section_display": "block",
   "toc_window_display": false,
   "widenNotebook": false
  }
 },
 "nbformat": 4,
 "nbformat_minor": 2
}
