{
 "cells": [
  {
   "cell_type": "markdown",
   "metadata": {},
   "source": [
    "## Chapter 1.2: Creating models from scratch in GemPy\n",
    "***\n",
    "So far we have shown the basics to create geological models by importing data from an external source (in especial GeoModeller 3D). In this chapter, we will explore the option available in GemPy to create the data directly in GemPy or to modify existing one. In this respect we will delve into the pandas DataFrames that contain the necessary data.\n",
    "\n",
    "Let's start as always by importing the necessary dependencies:"
   ]
  },
  {
   "cell_type": "code",
   "execution_count": 1,
   "metadata": {},
   "outputs": [
    {
     "name": "stderr",
     "output_type": "stream",
     "text": [
      "WARNING (theano.tensor.blas): Using NumPy C-API based implementation for BLAS functions.\n"
     ]
    }
   ],
   "source": [
    "# These two lines are necessary only if gempy is not installed\n",
    "import sys, os\n",
    "sys.path.append(\"../..\")\n",
    "\n",
    "# Importing gempy\n",
    "import gempy as gp\n",
    "\n",
    "# Embedding matplotlib figures into the notebooks\n",
    "#%matplotlib inline\n",
    "\n",
    "\n",
    "# Aux imports\n",
    "import numpy as np\n",
    "import pandas as pn"
   ]
  },
  {
   "cell_type": "markdown",
   "metadata": {},
   "source": [
    "### GemPy DataFrames\n",
    "\n",
    "The class `gempy.InputData` works as the parent container of our project. Therefore the main step of any project is to create an instance of this class. In the official documentation we use normally geo_data as name of this instance. We will need to pass at least the extent (boundaries) of the project to instantiate the class:"
   ]
  },
  {
   "cell_type": "code",
   "execution_count": 2,
   "metadata": {},
   "outputs": [],
   "source": [
    "geo_data = gp.InputData([0, 1000, 0, 1000, -1000, 0], [50, 50, 50])"
   ]
  },
  {
   "cell_type": "markdown",
   "metadata": {},
   "source": [
    "Once we create the object, we will generate a number of `pandas.DataFrame` that will contain specific data structures. Lets go through these tables:\n",
    "\n",
    "**1) Interfaces and orientations**\n",
    "\n",
    "These two DataFrames (df from now on) will contain the individual information of each point at an interface or orientation. Some properties of this table are mapped from the *df* below."
   ]
  },
  {
   "cell_type": "code",
   "execution_count": 3,
   "metadata": {},
   "outputs": [
    {
     "data": {
      "text/html": [
       "<div>\n",
       "<style scoped>\n",
       "    .dataframe tbody tr th:only-of-type {\n",
       "        vertical-align: middle;\n",
       "    }\n",
       "\n",
       "    .dataframe tbody tr th {\n",
       "        vertical-align: top;\n",
       "    }\n",
       "\n",
       "    .dataframe thead th {\n",
       "        text-align: right;\n",
       "    }\n",
       "</style>\n",
       "<table border=\"1\" class=\"dataframe\">\n",
       "  <thead>\n",
       "    <tr style=\"text-align: right;\">\n",
       "      <th></th>\n",
       "      <th>X</th>\n",
       "      <th>Y</th>\n",
       "      <th>Z</th>\n",
       "      <th>formation</th>\n",
       "      <th>series</th>\n",
       "      <th>formation_number</th>\n",
       "      <th>order_series</th>\n",
       "      <th>isFault</th>\n",
       "    </tr>\n",
       "  </thead>\n",
       "  <tbody>\n",
       "    <tr>\n",
       "      <th>0</th>\n",
       "      <td>0</td>\n",
       "      <td>0</td>\n",
       "      <td>-1000</td>\n",
       "      <td>basement</td>\n",
       "      <td>Default series</td>\n",
       "      <td>1</td>\n",
       "      <td>1</td>\n",
       "      <td>False</td>\n",
       "    </tr>\n",
       "  </tbody>\n",
       "</table>\n",
       "</div>"
      ],
      "text/plain": [
       "   X  Y      Z formation          series  formation_number  order_series  \\\n",
       "0  0  0  -1000  basement  Default series                 1             1   \n",
       "\n",
       "   isFault  \n",
       "0    False  "
      ]
     },
     "execution_count": 3,
     "metadata": {},
     "output_type": "execute_result"
    }
   ],
   "source": [
    "# Basement is generated automatically and wont interfere with the computation\n",
    "# of the model\n",
    "gp.get_data(geo_data, 'interfaces')"
   ]
  },
  {
   "cell_type": "code",
   "execution_count": 4,
   "metadata": {},
   "outputs": [
    {
     "data": {
      "text/html": [
       "<div>\n",
       "<style scoped>\n",
       "    .dataframe tbody tr th:only-of-type {\n",
       "        vertical-align: middle;\n",
       "    }\n",
       "\n",
       "    .dataframe tbody tr th {\n",
       "        vertical-align: top;\n",
       "    }\n",
       "\n",
       "    .dataframe thead th {\n",
       "        text-align: right;\n",
       "    }\n",
       "</style>\n",
       "<table border=\"1\" class=\"dataframe\">\n",
       "  <thead>\n",
       "    <tr style=\"text-align: right;\">\n",
       "      <th></th>\n",
       "      <th>X</th>\n",
       "      <th>Y</th>\n",
       "      <th>Z</th>\n",
       "      <th>G_x</th>\n",
       "      <th>G_y</th>\n",
       "      <th>G_z</th>\n",
       "      <th>dip</th>\n",
       "      <th>azimuth</th>\n",
       "      <th>polarity</th>\n",
       "      <th>formation</th>\n",
       "      <th>series</th>\n",
       "      <th>formation_number</th>\n",
       "      <th>order_series</th>\n",
       "      <th>isFault</th>\n",
       "    </tr>\n",
       "  </thead>\n",
       "  <tbody>\n",
       "  </tbody>\n",
       "</table>\n",
       "</div>"
      ],
      "text/plain": [
       "Empty DataFrame\n",
       "Columns: [X, Y, Z, G_x, G_y, G_z, dip, azimuth, polarity, formation, series, formation_number, order_series, isFault]\n",
       "Index: []"
      ]
     },
     "execution_count": 4,
     "metadata": {},
     "output_type": "execute_result"
    }
   ],
   "source": [
    "gp.get_data(geo_data, 'orientations')"
   ]
  },
  {
   "cell_type": "markdown",
   "metadata": {},
   "source": [
    "**2) Formations and series**\n",
    "\n",
    "The *df* formation contain two properties. *Formation number* refers to the order of the formation on the sequential pile, i.e. the strict order of computation. *value* on the other hand is the final value that each voxel will have after discretization. This may be useful for example in the case we want to map a specific geophysical property (such as density) to a given unity. By default both are the same since to discretize lithological units the value is arbitrary."
   ]
  },
  {
   "cell_type": "code",
   "execution_count": 5,
   "metadata": {},
   "outputs": [
    {
     "data": {
      "text/html": [
       "<div>\n",
       "<style scoped>\n",
       "    .dataframe tbody tr th:only-of-type {\n",
       "        vertical-align: middle;\n",
       "    }\n",
       "\n",
       "    .dataframe tbody tr th {\n",
       "        vertical-align: top;\n",
       "    }\n",
       "\n",
       "    .dataframe thead th {\n",
       "        text-align: right;\n",
       "    }\n",
       "</style>\n",
       "<table border=\"1\" class=\"dataframe\">\n",
       "  <thead>\n",
       "    <tr style=\"text-align: right;\">\n",
       "      <th></th>\n",
       "      <th>value</th>\n",
       "      <th>formation_number</th>\n",
       "    </tr>\n",
       "  </thead>\n",
       "  <tbody>\n",
       "    <tr>\n",
       "      <th>basement</th>\n",
       "      <td>1</td>\n",
       "      <td>1</td>\n",
       "    </tr>\n",
       "  </tbody>\n",
       "</table>\n",
       "</div>"
      ],
      "text/plain": [
       "          value  formation_number\n",
       "basement      1                 1"
      ]
     },
     "execution_count": 5,
     "metadata": {},
     "output_type": "execute_result"
    }
   ],
   "source": [
    "gp.get_data(geo_data, 'formations')"
   ]
  },
  {
   "cell_type": "markdown",
   "metadata": {},
   "source": [
    "Series is used to define which formations (layer) belongs to which *series*. Notice that the name *series* in GemPy not only refers to stratigraphic series to model uncomformities but also faults since computationally they also require it own interpolation step."
   ]
  },
  {
   "cell_type": "code",
   "execution_count": 6,
   "metadata": {},
   "outputs": [
    {
     "data": {
      "text/html": [
       "<div>\n",
       "<style scoped>\n",
       "    .dataframe tbody tr th:only-of-type {\n",
       "        vertical-align: middle;\n",
       "    }\n",
       "\n",
       "    .dataframe tbody tr th {\n",
       "        vertical-align: top;\n",
       "    }\n",
       "\n",
       "    .dataframe thead th {\n",
       "        text-align: right;\n",
       "    }\n",
       "</style>\n",
       "<table border=\"1\" class=\"dataframe\">\n",
       "  <thead>\n",
       "    <tr style=\"text-align: right;\">\n",
       "      <th></th>\n",
       "      <th>Default series</th>\n",
       "    </tr>\n",
       "  </thead>\n",
       "  <tbody>\n",
       "    <tr>\n",
       "      <th>0</th>\n",
       "      <td>basement</td>\n",
       "    </tr>\n",
       "  </tbody>\n",
       "</table>\n",
       "</div>"
      ],
      "text/plain": [
       "  Default series\n",
       "0       basement"
      ]
     },
     "execution_count": 6,
     "metadata": {},
     "output_type": "execute_result"
    }
   ],
   "source": [
    "gp.get_data(geo_data, 'series')"
   ]
  },
  {
   "cell_type": "markdown",
   "metadata": {},
   "source": [
    "The *series df* can be directly visualized and manipulated with the sequential pile:"
   ]
  },
  {
   "cell_type": "code",
   "execution_count": 7,
   "metadata": {},
   "outputs": [
    {
     "data": {
      "text/plain": [
       "<gempy.plotting.sequential_pile.StratigraphicPile at 0x7f1164fb5208>"
      ]
     },
     "execution_count": 7,
     "metadata": {},
     "output_type": "execute_result"
    },
    {
     "data": {
      "image/png": "[encoded data removed]",
      "text/plain": [
       "<matplotlib.figure.Figure at 0x7f1164fb5550>"
      ]
     },
     "metadata": {},
     "output_type": "display_data"
    }
   ],
   "source": [
    "gp.get_sequential_pile(geo_data)"
   ]
  },
  {
   "cell_type": "markdown",
   "metadata": {},
   "source": [
    "**3) Faults**\n",
    "\n",
    "The *df faults* is used to charectirize which *mathematical series* behave as fault and if mentioned faults are finite or infinite:"
   ]
  },
  {
   "cell_type": "code",
   "execution_count": 8,
   "metadata": {},
   "outputs": [
    {
     "data": {
      "text/html": [
       "<div>\n",
       "<style scoped>\n",
       "    .dataframe tbody tr th:only-of-type {\n",
       "        vertical-align: middle;\n",
       "    }\n",
       "\n",
       "    .dataframe tbody tr th {\n",
       "        vertical-align: top;\n",
       "    }\n",
       "\n",
       "    .dataframe thead th {\n",
       "        text-align: right;\n",
       "    }\n",
       "</style>\n",
       "<table border=\"1\" class=\"dataframe\">\n",
       "  <thead>\n",
       "    <tr style=\"text-align: right;\">\n",
       "      <th></th>\n",
       "      <th>isFault</th>\n",
       "    </tr>\n",
       "  </thead>\n",
       "  <tbody>\n",
       "    <tr>\n",
       "      <th>Default series</th>\n",
       "      <td>False</td>\n",
       "    </tr>\n",
       "  </tbody>\n",
       "</table>\n",
       "</div>"
      ],
      "text/plain": [
       "                isFault\n",
       "Default series    False"
      ]
     },
     "execution_count": 8,
     "metadata": {},
     "output_type": "execute_result"
    }
   ],
   "source": [
    "gp.get_data(geo_data, 'faults')"
   ]
  },
  {
   "cell_type": "markdown",
   "metadata": {},
   "source": [
    "Finally we have the *faults relations df* which captures which *mathematical series* a given fault offset in order to reproduce complex faulting networks"
   ]
  },
  {
   "cell_type": "code",
   "execution_count": 9,
   "metadata": {},
   "outputs": [
    {
     "data": {
      "text/html": [
       "<div>\n",
       "<style scoped>\n",
       "    .dataframe tbody tr th:only-of-type {\n",
       "        vertical-align: middle;\n",
       "    }\n",
       "\n",
       "    .dataframe tbody tr th {\n",
       "        vertical-align: top;\n",
       "    }\n",
       "\n",
       "    .dataframe thead th {\n",
       "        text-align: right;\n",
       "    }\n",
       "</style>\n",
       "<table border=\"1\" class=\"dataframe\">\n",
       "  <thead>\n",
       "    <tr style=\"text-align: right;\">\n",
       "      <th></th>\n",
       "      <th>Default series</th>\n",
       "    </tr>\n",
       "  </thead>\n",
       "  <tbody>\n",
       "    <tr>\n",
       "      <th>Default series</th>\n",
       "      <td>False</td>\n",
       "    </tr>\n",
       "  </tbody>\n",
       "</table>\n",
       "</div>"
      ],
      "text/plain": [
       "                Default series\n",
       "Default series           False"
      ]
     },
     "execution_count": 9,
     "metadata": {},
     "output_type": "execute_result"
    }
   ],
   "source": [
    "gp.get_data(geo_data, 'faults_relations')"
   ]
  },
  {
   "cell_type": "markdown",
   "metadata": {},
   "source": [
    "`pandas` offers a rich number of functions to manipulate these *df* accordingly to our needs and produce any type of model. However, we are not in 2016 anymore. Welcome to Qgrid:"
   ]
  },
  {
   "cell_type": "markdown",
   "metadata": {},
   "source": [
    "### Using Qgrid for interactive DataFrames\n",
    "\n",
    "From its documentation :\n",
    "\n",
    "> Qgrid is a Jupyter notebook widget which uses SlickGrid to render pandas DataFrames within a Jupyter notebook. This allows you to explore your DataFrames with intuitive scrolling, sorting, and filtering controls, as well as edit your DataFrames by double clicking cells.\n",
    "\n",
    "In practice these library allows us to use `pandas.DataFrames` in Jupyter Notebooks as an excel table. Be aware that `Qgrid` requires of enabling nbextensions so it is important to test that the installation (https://github.com/quantopian/qgrid) was successful before trying to execute the rest of the notebook.\n",
    "\n",
    "By calling `gempy.interactive_df_open` and passing the dataframe we want to modify we can manipulate the *df* interactivelly. But first we need to define some *formations* since basement\n",
    "does not get involved in the computation of the model:"
   ]
  },
  {
   "cell_type": "code",
   "execution_count": 10,
   "metadata": {},
   "outputs": [],
   "source": [
    "gp.set_formations(geo_data, formations=['layer1', 'layer2'])"
   ]
  },
  {
   "cell_type": "code",
   "execution_count": 11,
   "metadata": {},
   "outputs": [
    {
     "data": {
      "application/vnd.jupyter.widget-view+json": {
       "model_id": "abfd05eeed5b4c8f9f193f6f959bb916",
       "version_major": 2,
       "version_minor": 0
      },
      "text/html": [
       "<p>Failed to display Jupyter Widget of type <code>QgridWidget</code>.</p>\n",
       "<p>\n",
       "  If you're reading this message in the Jupyter Notebook or JupyterLab Notebook, it may mean\n",
       "  that the widgets JavaScript is still loading. If this message persists, it\n",
       "  likely means that the widgets JavaScript library is either not installed or\n",
       "  not enabled. See the <a href=\"https://ipywidgets.readthedocs.io/en/stable/user_install.html\">Jupyter\n",
       "  Widgets Documentation</a> for setup instructions.\n",
       "</p>\n",
       "<p>\n",
       "  If you're reading this message in another frontend (for example, a static\n",
       "  rendering on GitHub or <a href=\"https://nbviewer.jupyter.org/\">NBViewer</a>),\n",
       "  it may mean that your frontend doesn't currently support widgets.\n",
       "</p>\n"
      ],
      "text/plain": [
       "QgridWidget(grid_options={'fullWidthRows': True, 'syncColumnCellResize': True, 'forceFitColumns': True, 'defaultColumnWidth': 150, 'rowHeight': 28, 'enableColumnReorder': False, 'enableTextSelectionOnCells': True, 'editable': True, 'autoEdit': False, 'explicitInitialization': True, 'maxVisibleRows': 15, 'minVisibleRows': 8, 'sortable': True, 'filterable': True, 'highlightSelectedCell': False, 'highlightSelectedRow': True}, precision=5, show_toolbar=True)"
      ]
     },
     "metadata": {},
     "output_type": "display_data"
    }
   ],
   "source": [
    "gp.interactive_df_open(geo_data, 'interfaces')"
   ]
  },
  {
   "cell_type": "markdown",
   "metadata": {},
   "source": [
    "Couple of things to notice:\n",
    "\n",
    "1) The *df* does not display all the changes that happen when we modify a field (i.e. if we change the formation to layer 1, the formation_number should be 1). However, under the hood these changes are happening and if you save the *df* you will see all as it is supossed to be.\n",
    "\n",
    "2) The *df* in geo_data does not get updated in real time. If you want to save the changes you need to use the following function. This returns a copy of the modified *df*"
   ]
  },
  {
   "cell_type": "code",
   "execution_count": 14,
   "metadata": {},
   "outputs": [],
   "source": [
    "# To set the new df we use the function set_interfaces\n",
    "gp.set_interfaces(geo_data, gp.interactive_df_change_df(geo_data))"
   ]
  },
  {
   "cell_type": "code",
   "execution_count": 15,
   "metadata": {},
   "outputs": [
    {
     "data": {
      "application/javascript": [
       "/* Put everything inside the global mpl namespace */\n",
       "window.mpl = {};\n",
       "\n",
       "\n",
       "mpl.get_websocket_type = function() {\n",
       "    if (typeof(WebSocket) !== 'undefined') {\n",
       "        return WebSocket;\n",
       "    } else if (typeof(MozWebSocket) !== 'undefined') {\n",
       "        return MozWebSocket;\n",
       "    } else {\n",
       "        alert('Your browser does not have WebSocket support.' +\n",
       "              'Please try Chrome, Safari or Firefox ≥ 6. ' +\n",
       "              'Firefox 4 and 5 are also supported but you ' +\n",
       "              'have to enable WebSockets in about:config.');\n",
       "    };\n",
       "}\n",
       "\n",
       "mpl.figure = function(figure_id, websocket, ondownload, parent_element) {\n",
       "    this.id = figure_id;\n",
       "\n",
       "    this.ws = websocket;\n",
       "\n",
       "    this.supports_binary = (this.ws.binaryType != undefined);\n",
       "\n",
       "    if (!this.supports_binary) {\n",
       "        var warnings = document.getElementById(\"mpl-warnings\");\n",
       "        if (warnings) {\n",
       "            warnings.style.display = 'block';\n",
       "            warnings.textContent = (\n",
       "                \"This browser does not support binary websocket messages. \" +\n",
       "                    \"Performance may be slow.\");\n",
       "        }\n",
       "    }\n",
       "\n",
       "    this.imageObj = new Image();\n",
       "\n",
       "    this.context = undefined;\n",
       "    this.message = undefined;\n",
       "    this.canvas = undefined;\n",
       "    this.rubberband_canvas = undefined;\n",
       "    this.rubberband_context = undefined;\n",
       "    this.format_dropdown = undefined;\n",
       "\n",
       "    this.image_mode = 'full';\n",
       "\n",
       "    this.root = $('<div/>');\n",
       "    this._root_extra_style(this.root)\n",
       "    this.root.attr('style', 'display: inline-block');\n",
       "\n",
       "    $(parent_element).append(this.root);\n",
       "\n",
       "    this._init_header(this);\n",
       "    this._init_canvas(this);\n",
       "    this._init_toolbar(this);\n",
       "\n",
       "    var fig = this;\n",
       "\n",
       "    this.waiting = false;\n",
       "\n",
       "    this.ws.onopen =  function () {\n",
       "            fig.send_message(\"supports_binary\", {value: fig.supports_binary});\n",
       "            fig.send_message(\"send_image_mode\", {});\n",
       "            if (mpl.ratio != 1) {\n",
       "                fig.send_message(\"set_dpi_ratio\", {'dpi_ratio': mpl.ratio});\n",
       "            }\n",
       "            fig.send_message(\"refresh\", {});\n",
       "        }\n",
       "\n",
       "    this.imageObj.onload = function() {\n",
       "            if (fig.image_mode == 'full') {\n",
       "                // Full images could contain transparency (where diff images\n",
       "                // almost always do), so we need to clear the canvas so that\n",
       "                // there is no ghosting.\n",
       "                fig.context.clearRect(0, 0, fig.canvas.width, fig.canvas.height);\n",
       "            }\n",
       "            fig.context.drawImage(fig.imageObj, 0, 0);\n",
       "        };\n",
       "\n",
       "    this.imageObj.onunload = function() {\n",
       "        fig.ws.close();\n",
       "    }\n",
       "\n",
       "    this.ws.onmessage = this._make_on_message_function(this);\n",
       "\n",
       "    this.ondownload = ondownload;\n",
       "}\n",
       "\n",
       "mpl.figure.prototype._init_header = function() {\n",
       "    var titlebar = $(\n",
       "        '<div class=\"ui-dialog-titlebar ui-widget-header ui-corner-all ' +\n",
       "        'ui-helper-clearfix\"/>');\n",
       "    var titletext = $(\n",
       "        '<div class=\"ui-dialog-title\" style=\"width: 100%; ' +\n",
       "        'text-align: center; padding: 3px;\"/>');\n",
       "    titlebar.append(titletext)\n",
       "    this.root.append(titlebar);\n",
       "    this.header = titletext[0];\n",
       "}\n",
       "\n",
       "\n",
       "\n",
       "mpl.figure.prototype._canvas_extra_style = function(canvas_div) {\n",
       "\n",
       "}\n",
       "\n",
       "\n",
       "mpl.figure.prototype._root_extra_style = function(canvas_div) {\n",
       "\n",
       "}\n",
       "\n",
       "mpl.figure.prototype._init_canvas = function() {\n",
       "    var fig = this;\n",
       "\n",
       "    var canvas_div = $('<div/>');\n",
       "\n",
       "    canvas_div.attr('style', 'position: relative; clear: both; outline: 0');\n",
       "\n",
       "    function canvas_keyboard_event(event) {\n",
       "        return fig.key_event(event, event['data']);\n",
       "    }\n",
       "\n",
       "    canvas_div.keydown('key_press', canvas_keyboard_event);\n",
       "    canvas_div.keyup('key_release', canvas_keyboard_event);\n",
       "    this.canvas_div = canvas_div\n",
       "    this._canvas_extra_style(canvas_div)\n",
       "    this.root.append(canvas_div);\n",
       "\n",
       "    var canvas = $('<canvas/>');\n",
       "    canvas.addClass('mpl-canvas');\n",
       "    canvas.attr('style', \"left: 0; top: 0; z-index: 0; outline: 0\")\n",
       "\n",
       "    this.canvas = canvas[0];\n",
       "    this.context = canvas[0].getContext(\"2d\");\n",
       "\n",
       "    var backingStore = this.context.backingStorePixelRatio ||\n",
       "\tthis.context.webkitBackingStorePixelRatio ||\n",
       "\tthis.context.mozBackingStorePixelRatio ||\n",
       "\tthis.context.msBackingStorePixelRatio ||\n",
       "\tthis.context.oBackingStorePixelRatio ||\n",
       "\tthis.context.backingStorePixelRatio || 1;\n",
       "\n",
       "    mpl.ratio = (window.devicePixelRatio || 1) / backingStore;\n",
       "\n",
       "    var rubberband = $('<canvas/>');\n",
       "    rubberband.attr('style', \"position: absolute; left: 0; top: 0; z-index: 1;\")\n",
       "\n",
       "    var pass_mouse_events = true;\n",
       "\n",
       "    canvas_div.resizable({\n",
       "        start: function(event, ui) {\n",
       "            pass_mouse_events = false;\n",
       "        },\n",
       "        resize: function(event, ui) {\n",
       "            fig.request_resize(ui.size.width, ui.size.height);\n",
       "        },\n",
       "        stop: function(event, ui) {\n",
       "            pass_mouse_events = true;\n",
       "            fig.request_resize(ui.size.width, ui.size.height);\n",
       "        },\n",
       "    });\n",
       "\n",
       "    function mouse_event_fn(event) {\n",
       "        if (pass_mouse_events)\n",
       "            return fig.mouse_event(event, event['data']);\n",
       "    }\n",
       "\n",
       "    rubberband.mousedown('button_press', mouse_event_fn);\n",
       "    rubberband.mouseup('button_release', mouse_event_fn);\n",
       "    // Throttle sequential mouse events to 1 every 20ms.\n",
       "    rubberband.mousemove('motion_notify', mouse_event_fn);\n",
       "\n",
       "    rubberband.mouseenter('figure_enter', mouse_event_fn);\n",
       "    rubberband.mouseleave('figure_leave', mouse_event_fn);\n",
       "\n",
       "    canvas_div.on(\"wheel\", function (event) {\n",
       "        event = event.originalEvent;\n",
       "        event['data'] = 'scroll'\n",
       "        if (event.deltaY < 0) {\n",
       "            event.step = 1;\n",
       "        } else {\n",
       "            event.step = -1;\n",
       "        }\n",
       "        mouse_event_fn(event);\n",
       "    });\n",
       "\n",
       "    canvas_div.append(canvas);\n",
       "    canvas_div.append(rubberband);\n",
       "\n",
       "    this.rubberband = rubberband;\n",
       "    this.rubberband_canvas = rubberband[0];\n",
       "    this.rubberband_context = rubberband[0].getContext(\"2d\");\n",
       "    this.rubberband_context.strokeStyle = \"#000000\";\n",
       "\n",
       "    this._resize_canvas = function(width, height) {\n",
       "        // Keep the size of the canvas, canvas container, and rubber band\n",
       "        // canvas in synch.\n",
       "        canvas_div.css('width', width)\n",
       "        canvas_div.css('height', height)\n",
       "\n",
       "        canvas.attr('width', width * mpl.ratio);\n",
       "        canvas.attr('height', height * mpl.ratio);\n",
       "        canvas.attr('style', 'width: ' + width + 'px; height: ' + height + 'px;');\n",
       "\n",
       "        rubberband.attr('width', width);\n",
       "        rubberband.attr('height', height);\n",
       "    }\n",
       "\n",
       "    // Set the figure to an initial 600x600px, this will subsequently be updated\n",
       "    // upon first draw.\n",
       "    this._resize_canvas(600, 600);\n",
       "\n",
       "    // Disable right mouse context menu.\n",
       "    $(this.rubberband_canvas).bind(\"contextmenu\",function(e){\n",
       "        return false;\n",
       "    });\n",
       "\n",
       "    function set_focus () {\n",
       "        canvas.focus();\n",
       "        canvas_div.focus();\n",
       "    }\n",
       "\n",
       "    window.setTimeout(set_focus, 100);\n",
       "}\n",
       "\n",
       "mpl.figure.prototype._init_toolbar = function() {\n",
       "    var fig = this;\n",
       "\n",
       "    var nav_element = $('<div/>')\n",
       "    nav_element.attr('style', 'width: 100%');\n",
       "    this.root.append(nav_element);\n",
       "\n",
       "    // Define a callback function for later on.\n",
       "    function toolbar_event(event) {\n",
       "        return fig.toolbar_button_onclick(event['data']);\n",
       "    }\n",
       "    function toolbar_mouse_event(event) {\n",
       "        return fig.toolbar_button_onmouseover(event['data']);\n",
       "    }\n",
       "\n",
       "    for(var toolbar_ind in mpl.toolbar_items) {\n",
       "        var name = mpl.toolbar_items[toolbar_ind][0];\n",
       "        var tooltip = mpl.toolbar_items[toolbar_ind][1];\n",
       "        var image = mpl.toolbar_items[toolbar_ind][2];\n",
       "        var method_name = mpl.toolbar_items[toolbar_ind][3];\n",
       "\n",
       "        if (!name) {\n",
       "            // put a spacer in here.\n",
       "            continue;\n",
       "        }\n",
       "        var button = $('<button/>');\n",
       "        button.addClass('ui-button ui-widget ui-state-default ui-corner-all ' +\n",
       "                        'ui-button-icon-only');\n",
       "        button.attr('role', 'button');\n",
       "        button.attr('aria-disabled', 'false');\n",
       "        button.click(method_name, toolbar_event);\n",
       "        button.mouseover(tooltip, toolbar_mouse_event);\n",
       "\n",
       "        var icon_img = $('<span/>');\n",
       "        icon_img.addClass('ui-button-icon-primary ui-icon');\n",
       "        icon_img.addClass(image);\n",
       "        icon_img.addClass('ui-corner-all');\n",
       "\n",
       "        var tooltip_span = $('<span/>');\n",
       "        tooltip_span.addClass('ui-button-text');\n",
       "        tooltip_span.html(tooltip);\n",
       "\n",
       "        button.append(icon_img);\n",
       "        button.append(tooltip_span);\n",
       "\n",
       "        nav_element.append(button);\n",
       "    }\n",
       "\n",
       "    var fmt_picker_span = $('<span/>');\n",
       "\n",
       "    var fmt_picker = $('<select/>');\n",
       "    fmt_picker.addClass('mpl-toolbar-option ui-widget ui-widget-content');\n",
       "    fmt_picker_span.append(fmt_picker);\n",
       "    nav_element.append(fmt_picker_span);\n",
       "    this.format_dropdown = fmt_picker[0];\n",
       "\n",
       "    for (var ind in mpl.extensions) {\n",
       "        var fmt = mpl.extensions[ind];\n",
       "        var option = $(\n",
       "            '<option/>', {selected: fmt === mpl.default_extension}).html(fmt);\n",
       "        fmt_picker.append(option)\n",
       "    }\n",
       "\n",
       "    // Add hover states to the ui-buttons\n",
       "    $( \".ui-button\" ).hover(\n",
       "        function() { $(this).addClass(\"ui-state-hover\");},\n",
       "        function() { $(this).removeClass(\"ui-state-hover\");}\n",
       "    );\n",
       "\n",
       "    var status_bar = $('<span class=\"mpl-message\"/>');\n",
       "    nav_element.append(status_bar);\n",
       "    this.message = status_bar[0];\n",
       "}\n",
       "\n",
       "mpl.figure.prototype.request_resize = function(x_pixels, y_pixels) {\n",
       "    // Request matplotlib to resize the figure. Matplotlib will then trigger a resize in the client,\n",
       "    // which will in turn request a refresh of the image.\n",
       "    this.send_message('resize', {'width': x_pixels, 'height': y_pixels});\n",
       "}\n",
       "\n",
       "mpl.figure.prototype.send_message = function(type, properties) {\n",
       "    properties['type'] = type;\n",
       "    properties['figure_id'] = this.id;\n",
       "    this.ws.send(JSON.stringify(properties));\n",
       "}\n",
       "\n",
       "mpl.figure.prototype.send_draw_message = function() {\n",
       "    if (!this.waiting) {\n",
       "        this.waiting = true;\n",
       "        this.ws.send(JSON.stringify({type: \"draw\", figure_id: this.id}));\n",
       "    }\n",
       "}\n",
       "\n",
       "\n",
       "mpl.figure.prototype.handle_save = function(fig, msg) {\n",
       "    var format_dropdown = fig.format_dropdown;\n",
       "    var format = format_dropdown.options[format_dropdown.selectedIndex].value;\n",
       "    fig.ondownload(fig, format);\n",
       "}\n",
       "\n",
       "\n",
       "mpl.figure.prototype.handle_resize = function(fig, msg) {\n",
       "    var size = msg['size'];\n",
       "    if (size[0] != fig.canvas.width || size[1] != fig.canvas.height) {\n",
       "        fig._resize_canvas(size[0], size[1]);\n",
       "        fig.send_message(\"refresh\", {});\n",
       "    };\n",
       "}\n",
       "\n",
       "mpl.figure.prototype.handle_rubberband = function(fig, msg) {\n",
       "    var x0 = msg['x0'] / mpl.ratio;\n",
       "    var y0 = (fig.canvas.height - msg['y0']) / mpl.ratio;\n",
       "    var x1 = msg['x1'] / mpl.ratio;\n",
       "    var y1 = (fig.canvas.height - msg['y1']) / mpl.ratio;\n",
       "    x0 = Math.floor(x0) + 0.5;\n",
       "    y0 = Math.floor(y0) + 0.5;\n",
       "    x1 = Math.floor(x1) + 0.5;\n",
       "    y1 = Math.floor(y1) + 0.5;\n",
       "    var min_x = Math.min(x0, x1);\n",
       "    var min_y = Math.min(y0, y1);\n",
       "    var width = Math.abs(x1 - x0);\n",
       "    var height = Math.abs(y1 - y0);\n",
       "\n",
       "    fig.rubberband_context.clearRect(\n",
       "        0, 0, fig.canvas.width, fig.canvas.height);\n",
       "\n",
       "    fig.rubberband_context.strokeRect(min_x, min_y, width, height);\n",
       "}\n",
       "\n",
       "mpl.figure.prototype.handle_figure_label = function(fig, msg) {\n",
       "    // Updates the figure title.\n",
       "    fig.header.textContent = msg['label'];\n",
       "}\n",
       "\n",
       "mpl.figure.prototype.handle_cursor = function(fig, msg) {\n",
       "    var cursor = msg['cursor'];\n",
       "    switch(cursor)\n",
       "    {\n",
       "    case 0:\n",
       "        cursor = 'pointer';\n",
       "        break;\n",
       "    case 1:\n",
       "        cursor = 'default';\n",
       "        break;\n",
       "    case 2:\n",
       "        cursor = 'crosshair';\n",
       "        break;\n",
       "    case 3:\n",
       "        cursor = 'move';\n",
       "        break;\n",
       "    }\n",
       "    fig.rubberband_canvas.style.cursor = cursor;\n",
       "}\n",
       "\n",
       "mpl.figure.prototype.handle_message = function(fig, msg) {\n",
       "    fig.message.textContent = msg['message'];\n",
       "}\n",
       "\n",
       "mpl.figure.prototype.handle_draw = function(fig, msg) {\n",
       "    // Request the server to send over a new figure.\n",
       "    fig.send_draw_message();\n",
       "}\n",
       "\n",
       "mpl.figure.prototype.handle_image_mode = function(fig, msg) {\n",
       "    fig.image_mode = msg['mode'];\n",
       "}\n",
       "\n",
       "mpl.figure.prototype.updated_canvas_event = function() {\n",
       "    // Called whenever the canvas gets updated.\n",
       "    this.send_message(\"ack\", {});\n",
       "}\n",
       "\n",
       "// A function to construct a web socket function for onmessage handling.\n",
       "// Called in the figure constructor.\n",
       "mpl.figure.prototype._make_on_message_function = function(fig) {\n",
       "    return function socket_on_message(evt) {\n",
       "        if (evt.data instanceof Blob) {\n",
       "            /* FIXME: We get \"Resource interpreted as Image but\n",
       "             * transferred with MIME type text/plain:\" errors on\n",
       "             * Chrome.  But how to set the MIME type?  It doesn't seem\n",
       "             * to be part of the websocket stream */\n",
       "            evt.data.type = \"image/png\";\n",
       "\n",
       "            /* Free the memory for the previous frames */\n",
       "            if (fig.imageObj.src) {\n",
       "                (window.URL || window.webkitURL).revokeObjectURL(\n",
       "                    fig.imageObj.src);\n",
       "            }\n",
       "\n",
       "            fig.imageObj.src = (window.URL || window.webkitURL).createObjectURL(\n",
       "                evt.data);\n",
       "            fig.updated_canvas_event();\n",
       "            fig.waiting = false;\n",
       "            return;\n",
       "        }\n",
       "        else if (typeof evt.data === 'string' && evt.data.slice(0, 21) == \"data:image/png;base64\") {\n",
       "            fig.imageObj.src = evt.data;\n",
       "            fig.updated_canvas_event();\n",
       "            fig.waiting = false;\n",
       "            return;\n",
       "        }\n",
       "\n",
       "        var msg = JSON.parse(evt.data);\n",
       "        var msg_type = msg['type'];\n",
       "\n",
       "        // Call the  \"handle_{type}\" callback, which takes\n",
       "        // the figure and JSON message as its only arguments.\n",
       "        try {\n",
       "            var callback = fig[\"handle_\" + msg_type];\n",
       "        } catch (e) {\n",
       "            console.log(\"No handler for the '\" + msg_type + \"' message type: \", msg);\n",
       "            return;\n",
       "        }\n",
       "\n",
       "        if (callback) {\n",
       "            try {\n",
       "                // console.log(\"Handling '\" + msg_type + \"' message: \", msg);\n",
       "                callback(fig, msg);\n",
       "            } catch (e) {\n",
       "                console.log(\"Exception inside the 'handler_\" + msg_type + \"' callback:\", e, e.stack, msg);\n",
       "            }\n",
       "        }\n",
       "    };\n",
       "}\n",
       "\n",
       "// from http://stackoverflow.com/questions/1114465/getting-mouse-location-in-canvas\n",
       "mpl.findpos = function(e) {\n",
       "    //this section is from http://www.quirksmode.org/js/events_properties.html\n",
       "    var targ;\n",
       "    if (!e)\n",
       "        e = window.event;\n",
       "    if (e.target)\n",
       "        targ = e.target;\n",
       "    else if (e.srcElement)\n",
       "        targ = e.srcElement;\n",
       "    if (targ.nodeType == 3) // defeat Safari bug\n",
       "        targ = targ.parentNode;\n",
       "\n",
       "    // jQuery normalizes the pageX and pageY\n",
       "    // pageX,Y are the mouse positions relative to the document\n",
       "    // offset() returns the position of the element relative to the document\n",
       "    var x = e.pageX - $(targ).offset().left;\n",
       "    var y = e.pageY - $(targ).offset().top;\n",
       "\n",
       "    return {\"x\": x, \"y\": y};\n",
       "};\n",
       "\n",
       "/*\n",
       " * return a copy of an object with only non-object keys\n",
       " * we need this to avoid circular references\n",
       " * http://stackoverflow.com/a/24161582/3208463\n",
       " */\n",
       "function simpleKeys (original) {\n",
       "  return Object.keys(original).reduce(function (obj, key) {\n",
       "    if (typeof original[key] !== 'object')\n",
       "        obj[key] = original[key]\n",
       "    return obj;\n",
       "  }, {});\n",
       "}\n",
       "\n",
       "mpl.figure.prototype.mouse_event = function(event, name) {\n",
       "    var canvas_pos = mpl.findpos(event)\n",
       "\n",
       "    if (name === 'button_press')\n",
       "    {\n",
       "        this.canvas.focus();\n",
       "        this.canvas_div.focus();\n",
       "    }\n",
       "\n",
       "    var x = canvas_pos.x * mpl.ratio;\n",
       "    var y = canvas_pos.y * mpl.ratio;\n",
       "\n",
       "    this.send_message(name, {x: x, y: y, button: event.button,\n",
       "                             step: event.step,\n",
       "                             guiEvent: simpleKeys(event)});\n",
       "\n",
       "    /* This prevents the web browser from automatically changing to\n",
       "     * the text insertion cursor when the button is pressed.  We want\n",
       "     * to control all of the cursor setting manually through the\n",
       "     * 'cursor' event from matplotlib */\n",
       "    event.preventDefault();\n",
       "    return false;\n",
       "}\n",
       "\n",
       "mpl.figure.prototype._key_event_extra = function(event, name) {\n",
       "    // Handle any extra behaviour associated with a key event\n",
       "}\n",
       "\n",
       "mpl.figure.prototype.key_event = function(event, name) {\n",
       "\n",
       "    // Prevent repeat events\n",
       "    if (name == 'key_press')\n",
       "    {\n",
       "        if (event.which === this._key)\n",
       "            return;\n",
       "        else\n",
       "            this._key = event.which;\n",
       "    }\n",
       "    if (name == 'key_release')\n",
       "        this._key = null;\n",
       "\n",
       "    var value = '';\n",
       "    if (event.ctrlKey && event.which != 17)\n",
       "        value += \"ctrl+\";\n",
       "    if (event.altKey && event.which != 18)\n",
       "        value += \"alt+\";\n",
       "    if (event.shiftKey && event.which != 16)\n",
       "        value += \"shift+\";\n",
       "\n",
       "    value += 'k';\n",
       "    value += event.which.toString();\n",
       "\n",
       "    this._key_event_extra(event, name);\n",
       "\n",
       "    this.send_message(name, {key: value,\n",
       "                             guiEvent: simpleKeys(event)});\n",
       "    return false;\n",
       "}\n",
       "\n",
       "mpl.figure.prototype.toolbar_button_onclick = function(name) {\n",
       "    if (name == 'download') {\n",
       "        this.handle_save(this, null);\n",
       "    } else {\n",
       "        this.send_message(\"toolbar_button\", {name: name});\n",
       "    }\n",
       "};\n",
       "\n",
       "mpl.figure.prototype.toolbar_button_onmouseover = function(tooltip) {\n",
       "    this.message.textContent = tooltip;\n",
       "};\n",
       "mpl.toolbar_items = [[\"Home\", \"Reset original view\", \"fa fa-home icon-home\", \"home\"], [\"Back\", \"Back to  previous view\", \"fa fa-arrow-left icon-arrow-left\", \"back\"], [\"Forward\", \"Forward to next view\", \"fa fa-arrow-right icon-arrow-right\", \"forward\"], [\"\", \"\", \"\", \"\"], [\"Pan\", \"Pan axes with left mouse, zoom with right\", \"fa fa-arrows icon-move\", \"pan\"], [\"Zoom\", \"Zoom to rectangle\", \"fa fa-square-o icon-check-empty\", \"zoom\"], [\"\", \"\", \"\", \"\"], [\"Download\", \"Download plot\", \"fa fa-floppy-o icon-save\", \"download\"]];\n",
       "\n",
       "mpl.extensions = [\"eps\", \"jpeg\", \"pdf\", \"png\", \"ps\", \"raw\", \"svg\", \"tif\"];\n",
       "\n",
       "mpl.default_extension = \"png\";var comm_websocket_adapter = function(comm) {\n",
       "    // Create a \"websocket\"-like object which calls the given IPython comm\n",
       "    // object with the appropriate methods. Currently this is a non binary\n",
       "    // socket, so there is still some room for performance tuning.\n",
       "    var ws = {};\n",
       "\n",
       "    ws.close = function() {\n",
       "        comm.close()\n",
       "    };\n",
       "    ws.send = function(m) {\n",
       "        //console.log('sending', m);\n",
       "        comm.send(m);\n",
       "    };\n",
       "    // Register the callback with on_msg.\n",
       "    comm.on_msg(function(msg) {\n",
       "        //console.log('receiving', msg['content']['data'], msg);\n",
       "        // Pass the mpl event to the overriden (by mpl) onmessage function.\n",
       "        ws.onmessage(msg['content']['data'])\n",
       "    });\n",
       "    return ws;\n",
       "}\n",
       "\n",
       "mpl.mpl_figure_comm = function(comm, msg) {\n",
       "    // This is the function which gets called when the mpl process\n",
       "    // starts-up an IPython Comm through the \"matplotlib\" channel.\n",
       "\n",
       "    var id = msg.content.data.id;\n",
       "    // Get hold of the div created by the display call when the Comm\n",
       "    // socket was opened in Python.\n",
       "    var element = $(\"#\" + id);\n",
       "    var ws_proxy = comm_websocket_adapter(comm)\n",
       "\n",
       "    function ondownload(figure, format) {\n",
       "        window.open(figure.imageObj.src);\n",
       "    }\n",
       "\n",
       "    var fig = new mpl.figure(id, ws_proxy,\n",
       "                           ondownload,\n",
       "                           element.get(0));\n",
       "\n",
       "    // Call onopen now - mpl needs it, as it is assuming we've passed it a real\n",
       "    // web socket which is closed, not our websocket->open comm proxy.\n",
       "    ws_proxy.onopen();\n",
       "\n",
       "    fig.parent_element = element.get(0);\n",
       "    fig.cell_info = mpl.find_output_cell(\"<div id='\" + id + \"'></div>\");\n",
       "    if (!fig.cell_info) {\n",
       "        console.error(\"Failed to find cell for figure\", id, fig);\n",
       "        return;\n",
       "    }\n",
       "\n",
       "    var output_index = fig.cell_info[2]\n",
       "    var cell = fig.cell_info[0];\n",
       "\n",
       "};\n",
       "\n",
       "mpl.figure.prototype.handle_close = function(fig, msg) {\n",
       "    var width = fig.canvas.width/mpl.ratio\n",
       "    fig.root.unbind('remove')\n",
       "\n",
       "    // Update the output cell to use the data from the current canvas.\n",
       "    fig.push_to_output();\n",
       "    var dataURL = fig.canvas.toDataURL();\n",
       "    // Re-enable the keyboard manager in IPython - without this line, in FF,\n",
       "    // the notebook keyboard shortcuts fail.\n",
       "    IPython.keyboard_manager.enable()\n",
       "    $(fig.parent_element).html('<img src=\"' + dataURL + '\" width=\"' + width + '\">');\n",
       "    fig.close_ws(fig, msg);\n",
       "}\n",
       "\n",
       "mpl.figure.prototype.close_ws = function(fig, msg){\n",
       "    fig.send_message('closing', msg);\n",
       "    // fig.ws.close()\n",
       "}\n",
       "\n",
       "mpl.figure.prototype.push_to_output = function(remove_interactive) {\n",
       "    // Turn the data on the canvas into data in the output cell.\n",
       "    var width = this.canvas.width/mpl.ratio\n",
       "    var dataURL = this.canvas.toDataURL();\n",
       "    this.cell_info[1]['text/html'] = '<img src=\"' + dataURL + '\" width=\"' + width + '\">';\n",
       "}\n",
       "\n",
       "mpl.figure.prototype.updated_canvas_event = function() {\n",
       "    // Tell IPython that the notebook contents must change.\n",
       "    IPython.notebook.set_dirty(true);\n",
       "    this.send_message(\"ack\", {});\n",
       "    var fig = this;\n",
       "    // Wait a second, then push the new image to the DOM so\n",
       "    // that it is saved nicely (might be nice to debounce this).\n",
       "    setTimeout(function () { fig.push_to_output() }, 1000);\n",
       "}\n",
       "\n",
       "mpl.figure.prototype._init_toolbar = function() {\n",
       "    var fig = this;\n",
       "\n",
       "    var nav_element = $('<div/>')\n",
       "    nav_element.attr('style', 'width: 100%');\n",
       "    this.root.append(nav_element);\n",
       "\n",
       "    // Define a callback function for later on.\n",
       "    function toolbar_event(event) {\n",
       "        return fig.toolbar_button_onclick(event['data']);\n",
       "    }\n",
       "    function toolbar_mouse_event(event) {\n",
       "        return fig.toolbar_button_onmouseover(event['data']);\n",
       "    }\n",
       "\n",
       "    for(var toolbar_ind in mpl.toolbar_items){\n",
       "        var name = mpl.toolbar_items[toolbar_ind][0];\n",
       "        var tooltip = mpl.toolbar_items[toolbar_ind][1];\n",
       "        var image = mpl.toolbar_items[toolbar_ind][2];\n",
       "        var method_name = mpl.toolbar_items[toolbar_ind][3];\n",
       "\n",
       "        if (!name) { continue; };\n",
       "\n",
       "        var button = $('<button class=\"btn btn-default\" href=\"#\" title=\"' + name + '\"><i class=\"fa ' + image + ' fa-lg\"></i></button>');\n",
       "        button.click(method_name, toolbar_event);\n",
       "        button.mouseover(tooltip, toolbar_mouse_event);\n",
       "        nav_element.append(button);\n",
       "    }\n",
       "\n",
       "    // Add the status bar.\n",
       "    var status_bar = $('<span class=\"mpl-message\" style=\"text-align:right; float: right;\"/>');\n",
       "    nav_element.append(status_bar);\n",
       "    this.message = status_bar[0];\n",
       "\n",
       "    // Add the close button to the window.\n",
       "    var buttongrp = $('<div class=\"btn-group inline pull-right\"></div>');\n",
       "    var button = $('<button class=\"btn btn-mini btn-primary\" href=\"#\" title=\"Stop Interaction\"><i class=\"fa fa-power-off icon-remove icon-large\"></i></button>');\n",
       "    button.click(function (evt) { fig.handle_close(fig, {}); } );\n",
       "    button.mouseover('Stop Interaction', toolbar_mouse_event);\n",
       "    buttongrp.append(button);\n",
       "    var titlebar = this.root.find($('.ui-dialog-titlebar'));\n",
       "    titlebar.prepend(buttongrp);\n",
       "}\n",
       "\n",
       "mpl.figure.prototype._root_extra_style = function(el){\n",
       "    var fig = this\n",
       "    el.on(\"remove\", function(){\n",
       "\tfig.close_ws(fig, {});\n",
       "    });\n",
       "}\n",
       "\n",
       "mpl.figure.prototype._canvas_extra_style = function(el){\n",
       "    // this is important to make the div 'focusable\n",
       "    el.attr('tabindex', 0)\n",
       "    // reach out to IPython and tell the keyboard manager to turn it's self\n",
       "    // off when our div gets focus\n",
       "\n",
       "    // location in version 3\n",
       "    if (IPython.notebook.keyboard_manager) {\n",
       "        IPython.notebook.keyboard_manager.register_events(el);\n",
       "    }\n",
       "    else {\n",
       "        // location in version 2\n",
       "        IPython.keyboard_manager.register_events(el);\n",
       "    }\n",
       "\n",
       "}\n",
       "\n",
       "mpl.figure.prototype._key_event_extra = function(event, name) {\n",
       "    var manager = IPython.notebook.keyboard_manager;\n",
       "    if (!manager)\n",
       "        manager = IPython.keyboard_manager;\n",
       "\n",
       "    // Check for shift+enter\n",
       "    if (event.shiftKey && event.which == 13) {\n",
       "        this.canvas_div.blur();\n",
       "        event.shiftKey = false;\n",
       "        // Send a \"J\" for go to next cell\n",
       "        event.which = 74;\n",
       "        event.keyCode = 74;\n",
       "        manager.command_mode();\n",
       "        manager.handle_keydown(event);\n",
       "    }\n",
       "}\n",
       "\n",
       "mpl.figure.prototype.handle_save = function(fig, msg) {\n",
       "    fig.ondownload(fig, null);\n",
       "}\n",
       "\n",
       "\n",
       "mpl.find_output_cell = function(html_output) {\n",
       "    // Return the cell and output element which can be found *uniquely* in the notebook.\n",
       "    // Note - this is a bit hacky, but it is done because the \"notebook_saving.Notebook\"\n",
       "    // IPython event is triggered only after the cells have been serialised, which for\n",
       "    // our purposes (turning an active figure into a static one), is too late.\n",
       "    var cells = IPython.notebook.get_cells();\n",
       "    var ncells = cells.length;\n",
       "    for (var i=0; i<ncells; i++) {\n",
       "        var cell = cells[i];\n",
       "        if (cell.cell_type === 'code'){\n",
       "            for (var j=0; j<cell.output_area.outputs.length; j++) {\n",
       "                var data = cell.output_area.outputs[j];\n",
       "                if (data.data) {\n",
       "                    // IPython >= 3 moved mimebundle to data attribute of output\n",
       "                    data = data.data;\n",
       "                }\n",
       "                if (data['text/html'] == html_output) {\n",
       "                    return [cell, data, j];\n",
       "                }\n",
       "            }\n",
       "        }\n",
       "    }\n",
       "}\n",
       "\n",
       "// Register the function which deals with the matplotlib target/channel.\n",
       "// The kernel may be null if the page has been refreshed.\n",
       "if (IPython.notebook.kernel != null) {\n",
       "    IPython.notebook.kernel.comm_manager.register_target('matplotlib', mpl.mpl_figure_comm);\n",
       "}\n"
      ],
      "text/plain": [
       "<IPython.core.display.Javascript object>"
      ]
     },
     "metadata": {},
     "output_type": "display_data"
    },
    {
     "data": {
      "text/html": [
       "<img src=\"data:image/png;base64,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\" width=\"500\">"
      ],
      "text/plain": [
       "<IPython.core.display.HTML object>"
      ]
     },
     "metadata": {},
     "output_type": "display_data"
    }
   ],
   "source": [
    "%matplotlib notebook\n",
    "gp.plotting.plot_data(geo_data)"
   ]
  },
  {
   "cell_type": "markdown",
   "metadata": {},
   "source": [
    "Cool isn't it. Now writing new data and in special editing it is not so tiresome... however... we are not in 2017. Welcome to interactive *df* with interactive plotting:"
   ]
  },
  {
   "cell_type": "code",
   "execution_count": 27,
   "metadata": {},
   "outputs": [
    {
     "data": {
      "text/plain": [
       "array([ True,  True,  True], dtype=bool)"
      ]
     },
     "execution_count": 27,
     "metadata": {},
     "output_type": "execute_result"
    }
   ],
   "source": [
    "geo_data.formations.index.isin(['layer1', 'layer2', 'basement', 'bu'])"
   ]
  },
  {
   "cell_type": "code",
   "execution_count": 42,
   "metadata": {},
   "outputs": [
    {
     "data": {
      "text/plain": [
       "array([2, 5, 'layer1', 'layer2', 'basement'], dtype=object)"
      ]
     },
     "execution_count": 42,
     "metadata": {},
     "output_type": "execute_result"
    }
   ],
   "source": [
    "a = geo_data.formations.index\n",
    "\n",
    "np.insert(a.get_values(), 0, [2,5])"
   ]
  },
  {
   "cell_type": "code",
   "execution_count": 30,
   "metadata": {},
   "outputs": [
    {
     "data": {
      "text/plain": [
       "array([ True,  True,  True, False], dtype=bool)"
      ]
     },
     "execution_count": 30,
     "metadata": {},
     "output_type": "execute_result"
    }
   ],
   "source": [
    "~np.in1d(['layer1', 'layer2', 'basement', 'bu'], geo_data.formations.index)"
   ]
  },
  {
   "cell_type": "code",
   "execution_count": 34,
   "metadata": {},
   "outputs": [
    {
     "data": {
      "text/plain": [
       "Index(['layer1', 'layer2', 'basement'], dtype='object')"
      ]
     },
     "execution_count": 34,
     "metadata": {},
     "output_type": "execute_result"
    }
   ],
   "source": [
    "a.cat.add_categories([]).cat.categories"
   ]
  },
  {
   "cell_type": "markdown",
   "metadata": {},
   "source": [
    "### Bringing all together: Real time plotting- Real time DataFrames"
   ]
  },
  {
   "cell_type": "code",
   "execution_count": null,
   "metadata": {
    "scrolled": false
   },
   "outputs": [],
   "source": [
    "interp_data = gp.InterpolatorData(geo_data, compile_theano=True)"
   ]
  },
  {
   "cell_type": "code",
   "execution_count": null,
   "metadata": {},
   "outputs": [],
   "source": [
    "gp.compute_model(interp_data)"
   ]
  },
  {
   "cell_type": "code",
   "execution_count": null,
   "metadata": {},
   "outputs": [],
   "source": [
    "vtk_plot = gp.plotting.vtkPlot(geo_data)"
   ]
  },
  {
   "cell_type": "code",
   "execution_count": null,
   "metadata": {
    "scrolled": false
   },
   "outputs": [],
   "source": [
    "vtk_plot.plot_surfaces_3D_real_time(interp_data)"
   ]
  },
  {
   "cell_type": "code",
   "execution_count": null,
   "metadata": {},
   "outputs": [],
   "source": [
    "vtk_plot.observe_df(geo_data, itype='interfaces')"
   ]
  },
  {
   "cell_type": "code",
   "execution_count": null,
   "metadata": {},
   "outputs": [],
   "source": [
    "vtk_plot.observe_df(geo_data, itype='orientations')"
   ]
  },
  {
   "cell_type": "code",
   "execution_count": null,
   "metadata": {},
   "outputs": [],
   "source": [
    "vtk_plot.resume()"
   ]
  },
  {
   "cell_type": "code",
   "execution_count": null,
   "metadata": {},
   "outputs": [],
   "source": [
    "vtk_plot.plot_data_3D()"
   ]
  },
  {
   "cell_type": "code",
   "execution_count": null,
   "metadata": {},
   "outputs": [],
   "source": [
    "vtk_plot.close()"
   ]
  },
  {
   "cell_type": "code",
   "execution_count": null,
   "metadata": {},
   "outputs": [],
   "source": []
  }
 ],
 "metadata": {
  "kernelspec": {
   "display_name": "Python 3",
   "language": "python",
   "name": "python3"
  },
  "language_info": {
   "codemirror_mode": {
    "name": "ipython",
    "version": 3
   },
   "file_extension": ".py",
   "mimetype": "text/x-python",
   "name": "python",
   "nbconvert_exporter": "python",
   "pygments_lexer": "ipython3",
   "version": "3.6.3"
  },
  "latex_envs": {
   "LaTeX_envs_menu_present": true,
   "autocomplete": true,
   "bibliofile": "biblio.bib",
   "cite_by": "apalike",
   "current_citInitial": 1,
   "eqLabelWithNumbers": true,
   "eqNumInitial": 1,
   "hotkeys": {
    "equation": "Ctrl-E",
    "itemize": "Ctrl-I"
   },
   "labels_anchors": false,
   "latex_user_defs": false,
   "report_style_numbering": false,
   "user_envs_cfg": false
  },
  "toc": {
   "colors": {
    "hover_highlight": "#DAA520",
    "running_highlight": "#FF0000",
    "selected_highlight": "#FFD700"
   },
   "moveMenuLeft": true,
   "nav_menu": {
    "height": "11px",
    "width": "251px"
   },
   "navigate_menu": true,
   "number_sections": true,
   "sideBar": true,
   "threshold": 4,
   "toc_cell": false,
   "toc_section_display": "block",
   "toc_window_display": false,
   "widenNotebook": false
  }
 },
 "nbformat": 4,
 "nbformat_minor": 2
}
