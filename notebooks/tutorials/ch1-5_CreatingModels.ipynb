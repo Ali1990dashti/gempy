{
 "cells": [
  {
   "cell_type": "markdown",
   "metadata": {},
   "source": [
    "## Chapter 1.5: Creating models from scratch\n",
    "***\n",
    "So far we have shown the basics to create geological models by importing data from an external source (in especial GeoModeller 3D). In this chapter, we will explore the option available in GemPy to create the data directly in GemPy or to modify existing one. In this respect we will delve into the pandas DataFrames that contain the necessary data.\n",
    "\n",
    "Let's start as always by importing the necessary dependencies:"
   ]
  },
  {
   "cell_type": "code",
   "execution_count": 1,
   "metadata": {},
   "outputs": [
    {
     "name": "stderr",
     "output_type": "stream",
     "text": [
      "WARNING (theano.tensor.blas): Using NumPy C-API based implementation for BLAS functions.\n"
     ]
    }
   ],
   "source": [
    "# These two lines are necessary only if gempy is not installed\n",
    "import sys, os\n",
    "sys.path.append(\"../..\")\n",
    "\n",
    "# Importing gempy\n",
    "import gempy as gp\n",
    "\n",
    "# Embedding matplotlib figures into the notebooks\n",
    "#%matplotlib inline\n",
    "\n",
    "\n",
    "# Aux imports\n",
    "import numpy as np\n",
    "import pandas as pn\n",
    "import matplotlib.pyplot as plt\n",
    "import theano\n",
    "import qgrid\n",
    "\n",
    "#%matplotlib widget\n"
   ]
  },
  {
   "cell_type": "code",
   "execution_count": 2,
   "metadata": {},
   "outputs": [],
   "source": [
    "#gp.save_model(geo_model)"
   ]
  },
  {
   "cell_type": "code",
   "execution_count": null,
   "metadata": {},
   "outputs": [],
   "source": [
    "\n"
   ]
  },
  {
   "cell_type": "code",
   "execution_count": 3,
   "metadata": {},
   "outputs": [],
   "source": [
    "if False:\n",
    "    geo_model = gp.load_model('CreateModelTuto5.pickle')\n",
    "else:\n",
    "    geo_model = gp.create_model('CreateModelTuto5')\n",
    "    gp.init_data(geo_model, [0, 1000, 0, 1000, -1000, 0], [50, 50, 50])\n",
    "    geo_model.set_default_surfaces()\n",
    "    geo_model.add_surface_points(400, 300, -500, 'surface1')\n",
    "    geo_model.add_surface_points(600, 300, -500, 'surface1')\n",
    "    geo_model.set_default_orientation()"
   ]
  },
  {
   "cell_type": "markdown",
   "metadata": {},
   "source": [
    "- check pickle works\n",
    "- when we set an is fault change the BottomRelation"
   ]
  },
  {
   "cell_type": "code",
   "execution_count": 4,
   "metadata": {},
   "outputs": [],
   "source": [
    "#geo_model.set_default_surfaces()\n"
   ]
  },
  {
   "cell_type": "markdown",
   "metadata": {},
   "source": [
    "Some default values but to make the model a bit faster but they are not necessary:"
   ]
  },
  {
   "cell_type": "code",
   "execution_count": 5,
   "metadata": {},
   "outputs": [],
   "source": [
    "# #geo_model.add_formations(['surface1', 'basement'])\n",
    "# geo_model.set_default_formations()\n",
    "# geo_model.add_interfaces(400, 300, -500, 'surface1')\n",
    "# geo_model.add_interfaces(600, 300, -500, 'surface1')\n",
    "# #geo_model.set_default_orientation()"
   ]
  },
  {
   "cell_type": "code",
   "execution_count": 6,
   "metadata": {},
   "outputs": [
    {
     "name": "stdout",
     "output_type": "stream",
     "text": [
      "Compiling theano function...\n",
      "Compilation Done!\n"
     ]
    },
    {
     "data": {
      "text/html": [
       "<table border=\"1\" class=\"dataframe\">\n",
       "  <thead>\n",
       "    <tr style=\"text-align: right;\">\n",
       "      <th></th>\n",
       "      <th>values</th>\n",
       "    </tr>\n",
       "  </thead>\n",
       "  <tbody>\n",
       "    <tr>\n",
       "      <th>dtype</th>\n",
       "      <td>float64</td>\n",
       "    </tr>\n",
       "    <tr>\n",
       "      <th>output</th>\n",
       "      <td>geology</td>\n",
       "    </tr>\n",
       "    <tr>\n",
       "      <th>theano_optimizer</th>\n",
       "      <td>fast_compile</td>\n",
       "    </tr>\n",
       "    <tr>\n",
       "      <th>device</th>\n",
       "      <td>cpu</td>\n",
       "    </tr>\n",
       "    <tr>\n",
       "      <th>verbosity</th>\n",
       "      <td>[]</td>\n",
       "    </tr>\n",
       "  </tbody>\n",
       "</table>"
      ],
      "text/plain": [
       "                        values\n",
       "dtype                  float64\n",
       "output                 geology\n",
       "theano_optimizer  fast_compile\n",
       "device                     cpu\n",
       "verbosity                   []"
      ]
     },
     "execution_count": 6,
     "metadata": {},
     "output_type": "execute_result"
    }
   ],
   "source": [
    "gp.set_interpolation_data(geo_model,  verbose=[])"
   ]
  },
  {
   "cell_type": "code",
   "execution_count": 7,
   "metadata": {},
   "outputs": [
    {
     "data": {
      "text/html": [
       "<table border=\"1\" class=\"dataframe\">\n",
       "  <thead>\n",
       "    <tr style=\"text-align: right;\">\n",
       "      <th></th>\n",
       "      <th>X</th>\n",
       "      <th>Y</th>\n",
       "      <th>Z</th>\n",
       "      <th>X_r</th>\n",
       "      <th>Y_r</th>\n",
       "      <th>Z_r</th>\n",
       "      <th>surface</th>\n",
       "      <th>series</th>\n",
       "      <th>id</th>\n",
       "      <th>order_series</th>\n",
       "    </tr>\n",
       "  </thead>\n",
       "  <tbody>\n",
       "    <tr>\n",
       "      <th>0</th>\n",
       "      <td>400.0</td>\n",
       "      <td>300.0</td>\n",
       "      <td>-500.0</td>\n",
       "      <td>0.583433</td>\n",
       "      <td>0.6251</td>\n",
       "      <td>0.291767</td>\n",
       "      <td>surface1</td>\n",
       "      <td>Default series</td>\n",
       "      <td>1.0</td>\n",
       "      <td>1.0</td>\n",
       "    </tr>\n",
       "    <tr>\n",
       "      <th>1</th>\n",
       "      <td>600.0</td>\n",
       "      <td>300.0</td>\n",
       "      <td>-500.0</td>\n",
       "      <td>0.750100</td>\n",
       "      <td>0.6251</td>\n",
       "      <td>0.291767</td>\n",
       "      <td>surface1</td>\n",
       "      <td>Default series</td>\n",
       "      <td>1.0</td>\n",
       "      <td>1.0</td>\n",
       "    </tr>\n",
       "  </tbody>\n",
       "</table>"
      ],
      "text/plain": [
       "       X      Y      Z       X_r     Y_r       Z_r   surface          series   id  order_series\n",
       "0  400.0  300.0 -500.0  0.583433  0.6251  0.291767  surface1  Default series  1.0           1.0\n",
       "1  600.0  300.0 -500.0  0.750100  0.6251  0.291767  surface1  Default series  1.0           1.0"
      ]
     },
     "execution_count": 7,
     "metadata": {},
     "output_type": "execute_result"
    }
   ],
   "source": [
    "geo_model.surface_points"
   ]
  },
  {
   "cell_type": "code",
   "execution_count": 8,
   "metadata": {},
   "outputs": [
    {
     "data": {
      "text/html": [
       "<table border=\"1\" class=\"dataframe\">\n",
       "  <thead>\n",
       "    <tr style=\"text-align: right;\">\n",
       "      <th></th>\n",
       "      <th></th>\n",
       "      <th>values</th>\n",
       "    </tr>\n",
       "  </thead>\n",
       "  <tbody>\n",
       "    <tr>\n",
       "      <th rowspan=\"9\" valign=\"top\">Structure</th>\n",
       "      <th>isLith</th>\n",
       "      <td>True</td>\n",
       "    </tr>\n",
       "    <tr>\n",
       "      <th>isFault</th>\n",
       "      <td>False</td>\n",
       "    </tr>\n",
       "    <tr>\n",
       "      <th>number faults</th>\n",
       "      <td>0</td>\n",
       "    </tr>\n",
       "    <tr>\n",
       "      <th>number surfaces</th>\n",
       "      <td>1</td>\n",
       "    </tr>\n",
       "    <tr>\n",
       "      <th>number series</th>\n",
       "      <td>1</td>\n",
       "    </tr>\n",
       "    <tr>\n",
       "      <th>number surfaces per series</th>\n",
       "      <td>[1]</td>\n",
       "    </tr>\n",
       "    <tr>\n",
       "      <th>len surfaces surface_points</th>\n",
       "      <td>[2]</td>\n",
       "    </tr>\n",
       "    <tr>\n",
       "      <th>len series surface_points</th>\n",
       "      <td>[2]</td>\n",
       "    </tr>\n",
       "    <tr>\n",
       "      <th>len series orientations</th>\n",
       "      <td>[1]</td>\n",
       "    </tr>\n",
       "    <tr>\n",
       "      <th rowspan=\"5\" valign=\"top\">Options</th>\n",
       "      <th>dtype</th>\n",
       "      <td>float64</td>\n",
       "    </tr>\n",
       "    <tr>\n",
       "      <th>output</th>\n",
       "      <td>geology</td>\n",
       "    </tr>\n",
       "    <tr>\n",
       "      <th>theano_optimizer</th>\n",
       "      <td>fast_compile</td>\n",
       "    </tr>\n",
       "    <tr>\n",
       "      <th>device</th>\n",
       "      <td>cpu</td>\n",
       "    </tr>\n",
       "    <tr>\n",
       "      <th>verbosity</th>\n",
       "      <td>[]</td>\n",
       "    </tr>\n",
       "    <tr>\n",
       "      <th rowspan=\"5\" valign=\"top\">Kriging</th>\n",
       "      <th>range</th>\n",
       "      <td>1732.05</td>\n",
       "    </tr>\n",
       "    <tr>\n",
       "      <th>$C_o$</th>\n",
       "      <td>71428.6</td>\n",
       "    </tr>\n",
       "    <tr>\n",
       "      <th>drift equations</th>\n",
       "      <td>[3]</td>\n",
       "    </tr>\n",
       "    <tr>\n",
       "      <th>nugget grad</th>\n",
       "      <td>0.01</td>\n",
       "    </tr>\n",
       "    <tr>\n",
       "      <th>nugget scalar</th>\n",
       "      <td>1e-06</td>\n",
       "    </tr>\n",
       "    <tr>\n",
       "      <th rowspan=\"2\" valign=\"top\">Rescaling</th>\n",
       "      <th>rescaling factor</th>\n",
       "      <td>1200</td>\n",
       "    </tr>\n",
       "    <tr>\n",
       "      <th>centers</th>\n",
       "      <td>[300.000005, 150.000005, -249.999995]</td>\n",
       "    </tr>\n",
       "  </tbody>\n",
       "</table>"
      ],
      "text/plain": [
       "                                                                      values\n",
       "Structure isLith                                                        True\n",
       "          isFault                                                      False\n",
       "          number faults                                                    0\n",
       "          number surfaces                                                  1\n",
       "          number series                                                    1\n",
       "          number surfaces per series                                     [1]\n",
       "          len surfaces surface_points                                    [2]\n",
       "          len series surface_points                                      [2]\n",
       "          len series orientations                                        [1]\n",
       "Options   dtype                                                      float64\n",
       "          output                                                     geology\n",
       "          theano_optimizer                                      fast_compile\n",
       "          device                                                         cpu\n",
       "          verbosity                                                       []\n",
       "Kriging   range                                                      1732.05\n",
       "          $C_o$                                                      71428.6\n",
       "          drift equations                                                [3]\n",
       "          nugget grad                                                   0.01\n",
       "          nugget scalar                                                1e-06\n",
       "Rescaling rescaling factor                                              1200\n",
       "          centers                      [300.000005, 150.000005, -249.999995]"
      ]
     },
     "execution_count": 8,
     "metadata": {},
     "output_type": "execute_result"
    }
   ],
   "source": [
    "geo_model.additional_data"
   ]
  },
  {
   "cell_type": "code",
   "execution_count": 9,
   "metadata": {},
   "outputs": [
    {
     "data": {
      "text/plain": [
       "(1, 125002)"
      ]
     },
     "execution_count": 9,
     "metadata": {},
     "output_type": "execute_result"
    }
   ],
   "source": [
    "geo_model.interpolator.theano_graph.scalar_fields_matrix.get_value().shape"
   ]
  },
  {
   "cell_type": "code",
   "execution_count": 10,
   "metadata": {},
   "outputs": [
    {
     "name": "stdout",
     "output_type": "stream",
     "text": [
      "len sereies i [0 1]\n",
      "len sereies o [0 1]\n",
      "len sereies w [0 7]\n",
      "n surfaces per series [0 1]\n",
      "n universal eq [3]\n",
      "is finite [0]\n",
      "is erosion [0]\n",
      "is onlap [0]\n"
     ]
    }
   ],
   "source": [
    "geo_model.interpolator.print_theano_shared()"
   ]
  },
  {
   "cell_type": "code",
   "execution_count": 20,
   "metadata": {},
   "outputs": [],
   "source": [
    "geo_model.interpolator.set_initial_results()"
   ]
  },
  {
   "cell_type": "code",
   "execution_count": 25,
   "metadata": {
    "scrolled": true
   },
   "outputs": [
    {
     "data": {
      "text/plain": [
       "\n",
       "Lithology ids \n",
       "  [3. 3. 3. ... 1. 1. 1.] "
      ]
     },
     "execution_count": 25,
     "metadata": {},
     "output_type": "execute_result"
    }
   ],
   "source": [
    "gp.compute_model(geo_model)"
   ]
  },
  {
   "cell_type": "code",
   "execution_count": 26,
   "metadata": {},
   "outputs": [
    {
     "data": {
      "text/html": [
       "<style  type=\"text/css\" >\n",
       "    #T_83507bb0_5ec0_11e9_8fe5_0950bd25051erow0_col4 {\n",
       "            background-color:  #9f0052;\n",
       "        }    #T_83507bb0_5ec0_11e9_8fe5_0950bd25051erow1_col4 {\n",
       "            background-color:  #015482;\n",
       "        }    #T_83507bb0_5ec0_11e9_8fe5_0950bd25051erow2_col4 {\n",
       "            background-color:  #ffbe00;\n",
       "        }</style>  \n",
       "<table id=\"T_83507bb0_5ec0_11e9_8fe5_0950bd25051e\" > \n",
       "<thead>    <tr> \n",
       "        <th class=\"blank level0\" ></th> \n",
       "        <th class=\"col_heading level0 col0\" >surface</th> \n",
       "        <th class=\"col_heading level0 col1\" >series</th> \n",
       "        <th class=\"col_heading level0 col2\" >order_surfaces</th> \n",
       "        <th class=\"col_heading level0 col3\" >isBasement</th> \n",
       "        <th class=\"col_heading level0 col4\" >color</th> \n",
       "        <th class=\"col_heading level0 col5\" >id</th> \n",
       "    </tr></thead> \n",
       "<tbody>    <tr> \n",
       "        <th id=\"T_83507bb0_5ec0_11e9_8fe5_0950bd25051elevel0_row0\" class=\"row_heading level0 row0\" >1</th> \n",
       "        <td id=\"T_83507bb0_5ec0_11e9_8fe5_0950bd25051erow0_col0\" class=\"data row0 col0\" >surface2</td> \n",
       "        <td id=\"T_83507bb0_5ec0_11e9_8fe5_0950bd25051erow0_col1\" class=\"data row0 col1\" >Default series</td> \n",
       "        <td id=\"T_83507bb0_5ec0_11e9_8fe5_0950bd25051erow0_col2\" class=\"data row0 col2\" >1</td> \n",
       "        <td id=\"T_83507bb0_5ec0_11e9_8fe5_0950bd25051erow0_col3\" class=\"data row0 col3\" >False</td> \n",
       "        <td id=\"T_83507bb0_5ec0_11e9_8fe5_0950bd25051erow0_col4\" class=\"data row0 col4\" >#9f0052</td> \n",
       "        <td id=\"T_83507bb0_5ec0_11e9_8fe5_0950bd25051erow0_col5\" class=\"data row0 col5\" >1</td> \n",
       "    </tr>    <tr> \n",
       "        <th id=\"T_83507bb0_5ec0_11e9_8fe5_0950bd25051elevel0_row1\" class=\"row_heading level0 row1\" >0</th> \n",
       "        <td id=\"T_83507bb0_5ec0_11e9_8fe5_0950bd25051erow1_col0\" class=\"data row1 col0\" >surface1</td> \n",
       "        <td id=\"T_83507bb0_5ec0_11e9_8fe5_0950bd25051erow1_col1\" class=\"data row1 col1\" >Default series</td> \n",
       "        <td id=\"T_83507bb0_5ec0_11e9_8fe5_0950bd25051erow1_col2\" class=\"data row1 col2\" >2</td> \n",
       "        <td id=\"T_83507bb0_5ec0_11e9_8fe5_0950bd25051erow1_col3\" class=\"data row1 col3\" >False</td> \n",
       "        <td id=\"T_83507bb0_5ec0_11e9_8fe5_0950bd25051erow1_col4\" class=\"data row1 col4\" >#015482</td> \n",
       "        <td id=\"T_83507bb0_5ec0_11e9_8fe5_0950bd25051erow1_col5\" class=\"data row1 col5\" >2</td> \n",
       "    </tr>    <tr> \n",
       "        <th id=\"T_83507bb0_5ec0_11e9_8fe5_0950bd25051elevel0_row2\" class=\"row_heading level0 row2\" >2</th> \n",
       "        <td id=\"T_83507bb0_5ec0_11e9_8fe5_0950bd25051erow2_col0\" class=\"data row2 col0\" >surface3</td> \n",
       "        <td id=\"T_83507bb0_5ec0_11e9_8fe5_0950bd25051erow2_col1\" class=\"data row2 col1\" >Default series</td> \n",
       "        <td id=\"T_83507bb0_5ec0_11e9_8fe5_0950bd25051erow2_col2\" class=\"data row2 col2\" >3</td> \n",
       "        <td id=\"T_83507bb0_5ec0_11e9_8fe5_0950bd25051erow2_col3\" class=\"data row2 col3\" >True</td> \n",
       "        <td id=\"T_83507bb0_5ec0_11e9_8fe5_0950bd25051erow2_col4\" class=\"data row2 col4\" >#ffbe00</td> \n",
       "        <td id=\"T_83507bb0_5ec0_11e9_8fe5_0950bd25051erow2_col5\" class=\"data row2 col5\" >3</td> \n",
       "    </tr></tbody> \n",
       "</table> "
      ],
      "text/plain": [
       "    surface          series  order_surfaces  isBasement    color  id\n",
       "1  surface2  Default series               1       False  #9f0052   1\n",
       "0  surface1  Default series               2       False  #015482   2\n",
       "2  surface3  Default series               3        True  #ffbe00   3"
      ]
     },
     "execution_count": 26,
     "metadata": {},
     "output_type": "execute_result"
    }
   ],
   "source": [
    "geo_model.solutions.set_model_order()"
   ]
  },
  {
   "cell_type": "code",
   "execution_count": 27,
   "metadata": {},
   "outputs": [
    {
     "data": {
      "text/html": [
       "<style  type=\"text/css\" >\n",
       "    #T_84595aae_5ec0_11e9_8fe5_0950bd25051erow0_col4 {\n",
       "            background-color:  #9f0052;\n",
       "        }    #T_84595aae_5ec0_11e9_8fe5_0950bd25051erow1_col4 {\n",
       "            background-color:  #015482;\n",
       "        }    #T_84595aae_5ec0_11e9_8fe5_0950bd25051erow2_col4 {\n",
       "            background-color:  #ffbe00;\n",
       "        }</style>  \n",
       "<table id=\"T_84595aae_5ec0_11e9_8fe5_0950bd25051e\" > \n",
       "<thead>    <tr> \n",
       "        <th class=\"blank level0\" ></th> \n",
       "        <th class=\"col_heading level0 col0\" >surface</th> \n",
       "        <th class=\"col_heading level0 col1\" >series</th> \n",
       "        <th class=\"col_heading level0 col2\" >order_surfaces</th> \n",
       "        <th class=\"col_heading level0 col3\" >isBasement</th> \n",
       "        <th class=\"col_heading level0 col4\" >color</th> \n",
       "        <th class=\"col_heading level0 col5\" >id</th> \n",
       "    </tr></thead> \n",
       "<tbody>    <tr> \n",
       "        <th id=\"T_84595aae_5ec0_11e9_8fe5_0950bd25051elevel0_row0\" class=\"row_heading level0 row0\" >1</th> \n",
       "        <td id=\"T_84595aae_5ec0_11e9_8fe5_0950bd25051erow0_col0\" class=\"data row0 col0\" >surface2</td> \n",
       "        <td id=\"T_84595aae_5ec0_11e9_8fe5_0950bd25051erow0_col1\" class=\"data row0 col1\" >Default series</td> \n",
       "        <td id=\"T_84595aae_5ec0_11e9_8fe5_0950bd25051erow0_col2\" class=\"data row0 col2\" >1</td> \n",
       "        <td id=\"T_84595aae_5ec0_11e9_8fe5_0950bd25051erow0_col3\" class=\"data row0 col3\" >False</td> \n",
       "        <td id=\"T_84595aae_5ec0_11e9_8fe5_0950bd25051erow0_col4\" class=\"data row0 col4\" >#9f0052</td> \n",
       "        <td id=\"T_84595aae_5ec0_11e9_8fe5_0950bd25051erow0_col5\" class=\"data row0 col5\" >1</td> \n",
       "    </tr>    <tr> \n",
       "        <th id=\"T_84595aae_5ec0_11e9_8fe5_0950bd25051elevel0_row1\" class=\"row_heading level0 row1\" >0</th> \n",
       "        <td id=\"T_84595aae_5ec0_11e9_8fe5_0950bd25051erow1_col0\" class=\"data row1 col0\" >surface1</td> \n",
       "        <td id=\"T_84595aae_5ec0_11e9_8fe5_0950bd25051erow1_col1\" class=\"data row1 col1\" >Default series</td> \n",
       "        <td id=\"T_84595aae_5ec0_11e9_8fe5_0950bd25051erow1_col2\" class=\"data row1 col2\" >2</td> \n",
       "        <td id=\"T_84595aae_5ec0_11e9_8fe5_0950bd25051erow1_col3\" class=\"data row1 col3\" >False</td> \n",
       "        <td id=\"T_84595aae_5ec0_11e9_8fe5_0950bd25051erow1_col4\" class=\"data row1 col4\" >#015482</td> \n",
       "        <td id=\"T_84595aae_5ec0_11e9_8fe5_0950bd25051erow1_col5\" class=\"data row1 col5\" >2</td> \n",
       "    </tr>    <tr> \n",
       "        <th id=\"T_84595aae_5ec0_11e9_8fe5_0950bd25051elevel0_row2\" class=\"row_heading level0 row2\" >2</th> \n",
       "        <td id=\"T_84595aae_5ec0_11e9_8fe5_0950bd25051erow2_col0\" class=\"data row2 col0\" >surface3</td> \n",
       "        <td id=\"T_84595aae_5ec0_11e9_8fe5_0950bd25051erow2_col1\" class=\"data row2 col1\" >Default series</td> \n",
       "        <td id=\"T_84595aae_5ec0_11e9_8fe5_0950bd25051erow2_col2\" class=\"data row2 col2\" >3</td> \n",
       "        <td id=\"T_84595aae_5ec0_11e9_8fe5_0950bd25051erow2_col3\" class=\"data row2 col3\" >True</td> \n",
       "        <td id=\"T_84595aae_5ec0_11e9_8fe5_0950bd25051erow2_col4\" class=\"data row2 col4\" >#ffbe00</td> \n",
       "        <td id=\"T_84595aae_5ec0_11e9_8fe5_0950bd25051erow2_col5\" class=\"data row2 col5\" >3</td> \n",
       "    </tr></tbody> \n",
       "</table> "
      ],
      "text/plain": [
       "    surface          series  order_surfaces  isBasement    color  id\n",
       "1  surface2  Default series               1       False  #9f0052   1\n",
       "0  surface1  Default series               2       False  #015482   2\n",
       "2  surface3  Default series               3        True  #ffbe00   3"
      ]
     },
     "execution_count": 27,
     "metadata": {},
     "output_type": "execute_result"
    }
   ],
   "source": [
    "geo_model.surfaces"
   ]
  },
  {
   "cell_type": "code",
   "execution_count": 28,
   "metadata": {},
   "outputs": [
    {
     "name": "stderr",
     "output_type": "stream",
     "text": [
      "../../gempy/plot/visualization_2d.py:287: FutureWarning: Passing the block directly will get deprecated in the next version. Please use Solutionand block_type instead\n",
      "  'and block_type instead', FutureWarning)\n"
     ]
    },
    {
     "data": {
      "image/png": "[encoded data removed]",
      "text/plain": [
       "<Figure size 360x360 with 1 Axes>"
      ]
     },
     "metadata": {},
     "output_type": "display_data"
    }
   ],
   "source": [
    "gp.plot.plot_section(geo_model, cell_number=25, block_type=geo_model.solutions.lith_block,\n",
    "                         direction='y', plot_data=True)"
   ]
  },
  {
   "cell_type": "code",
   "execution_count": 17,
   "metadata": {},
   "outputs": [
    {
     "name": "stdout",
     "output_type": "stream",
     "text": [
      "closing vtk\n"
     ]
    }
   ],
   "source": [
    "vtk_object = gp.plot.plot_data_3D(geo_model)"
   ]
  },
  {
   "cell_type": "code",
   "execution_count": 18,
   "metadata": {},
   "outputs": [],
   "source": [
    "#vtk_object.set_surface_points()"
   ]
  },
  {
   "cell_type": "code",
   "execution_count": 16,
   "metadata": {
    "scrolled": false
   },
   "outputs": [
    {
     "data": {
      "text/plain": [
       "<gempy.core.qgrid_integration.QgridModelIntegration at 0x7f7b60a67898>"
      ]
     },
     "execution_count": 16,
     "metadata": {},
     "output_type": "execute_result"
    }
   ],
   "source": [
    "gp.activate_interactive_df(geo_model)"
   ]
  },
  {
   "cell_type": "markdown",
   "metadata": {},
   "source": [
    "It is important to get df with get to update the models sinde the `activate_interactive` method is called"
   ]
  },
  {
   "cell_type": "code",
   "execution_count": 17,
   "metadata": {},
   "outputs": [
    {
     "data": {
      "application/vnd.jupyter.widget-view+json": {
       "model_id": "670b21e1874b4fd880806cb5194f74b5",
       "version_major": 2,
       "version_minor": 0
      },
      "text/plain": [
       "QgridWidget(grid_options={'fullWidthRows': True, 'syncColumnCellResize': True, 'forceFitColumns': True, 'defau…"
      ]
     },
     "metadata": {},
     "output_type": "display_data"
    }
   ],
   "source": [
    "geo_model.qi.get('orientations')"
   ]
  },
  {
   "cell_type": "code",
   "execution_count": 18,
   "metadata": {
    "scrolled": false
   },
   "outputs": [
    {
     "data": {
      "application/vnd.jupyter.widget-view+json": {
       "model_id": "347596407e234cd292ad36e9ed5dc340",
       "version_major": 2,
       "version_minor": 0
      },
      "text/plain": [
       "QgridWidget(grid_options={'fullWidthRows': True, 'syncColumnCellResize': True, 'forceFitColumns': True, 'defau…"
      ]
     },
     "metadata": {},
     "output_type": "display_data"
    }
   ],
   "source": [
    "geo_model.qi.get('surface_points')"
   ]
  },
  {
   "cell_type": "code",
   "execution_count": 22,
   "metadata": {},
   "outputs": [
    {
     "ename": "SyntaxError",
     "evalue": "'break' outside loop (cell_name, line 4)",
     "output_type": "error",
     "traceback": [
      "\u001b[0;36m  File \u001b[0;32m\"cell_name\"\u001b[0;36m, line \u001b[0;32m4\u001b[0m\n\u001b[0;31mSyntaxError\u001b[0m\u001b[0;31m:\u001b[0m 'break' outside loop\n"
     ]
    }
   ],
   "source": [
    "break"
   ]
  },
  {
   "cell_type": "code",
   "execution_count": 19,
   "metadata": {},
   "outputs": [
    {
     "data": {
      "application/vnd.jupyter.widget-view+json": {
       "model_id": "246b578f8443412cabc49ed56d593ab2",
       "version_major": 2,
       "version_minor": 0
      },
      "text/plain": [
       "QgridWidget(grid_options={'fullWidthRows': True, 'syncColumnCellResize': True, 'forceFitColumns': True, 'defau…"
      ]
     },
     "metadata": {},
     "output_type": "display_data"
    }
   ],
   "source": [
    "geo_model.qi.get('surfaces')"
   ]
  },
  {
   "cell_type": "code",
   "execution_count": null,
   "metadata": {},
   "outputs": [],
   "source": [
    "geo_model.qi.get('series')"
   ]
  },
  {
   "cell_type": "code",
   "execution_count": null,
   "metadata": {},
   "outputs": [],
   "source": [
    "geo_model.series"
   ]
  },
  {
   "cell_type": "code",
   "execution_count": null,
   "metadata": {},
   "outputs": [],
   "source": [
    "geo_model.faults"
   ]
  },
  {
   "cell_type": "code",
   "execution_count": null,
   "metadata": {},
   "outputs": [],
   "source": [
    "geo_model.qi.get('faults')"
   ]
  },
  {
   "cell_type": "code",
   "execution_count": null,
   "metadata": {},
   "outputs": [],
   "source": [
    "geo_model.qi.get('faults_relations')"
   ]
  },
  {
   "cell_type": "code",
   "execution_count": null,
   "metadata": {},
   "outputs": [],
   "source": [
    "geo_model.additional_data"
   ]
  },
  {
   "cell_type": "code",
   "execution_count": null,
   "metadata": {},
   "outputs": [],
   "source": [
    "geo_model.additional_data.update_structure()"
   ]
  },
  {
   "cell_type": "code",
   "execution_count": null,
   "metadata": {},
   "outputs": [],
   "source": [
    "geo_model.update_to_interpolator()"
   ]
  },
  {
   "cell_type": "code",
   "execution_count": null,
   "metadata": {},
   "outputs": [],
   "source": [
    "geo_model.interpolator.print_theano_shared()"
   ]
  },
  {
   "cell_type": "code",
   "execution_count": null,
   "metadata": {},
   "outputs": [],
   "source": []
  },
  {
   "cell_type": "code",
   "execution_count": null,
   "metadata": {},
   "outputs": [],
   "source": [
    "geo_model.interpolator.additional_data.structure_data.df.loc['values', 'len series orientations']"
   ]
  },
  {
   "cell_type": "code",
   "execution_count": null,
   "metadata": {},
   "outputs": [],
   "source": [
    "geo_model.interpolator.reset_flow_control()"
   ]
  },
  {
   "cell_type": "code",
   "execution_count": null,
   "metadata": {},
   "outputs": [],
   "source": [
    "geo_model.interpolator.theano_graph.mask_matrix.get_value()"
   ]
  },
  {
   "cell_type": "code",
   "execution_count": null,
   "metadata": {},
   "outputs": [],
   "source": [
    "geo_model.interpolator.theano_graph.is_onlap.set_value([0])\n",
    "geo_model.interpolator.theano_graph.is_erosion.set_value([0])"
   ]
  },
  {
   "cell_type": "code",
   "execution_count": null,
   "metadata": {},
   "outputs": [],
   "source": [
    "geo_model.interpolator.theano_graph.is_fault.get_value()"
   ]
  },
  {
   "cell_type": "code",
   "execution_count": null,
   "metadata": {
    "scrolled": false
   },
   "outputs": [],
   "source": [
    "#geo_model.update_to_interpolator()\n",
    "gp.compute_model(geo_model, compute_mesh=False)"
   ]
  },
  {
   "cell_type": "code",
   "execution_count": null,
   "metadata": {},
   "outputs": [],
   "source": [
    "gp.plot.plot_section(geo_model, cell_number=25, block_type=geo_model.solutions.block_matrix[0],\n",
    "                         direction='y', plot_data=True)\n"
   ]
  },
  {
   "cell_type": "code",
   "execution_count": null,
   "metadata": {},
   "outputs": [],
   "source": [
    "import matplotlib.pyplot as plt\n",
    "plt.imshow(geo_model.solutions.mask_matrix.reshape(50,50,50)[:,25,:].T, origin='bottom')"
   ]
  },
  {
   "cell_type": "code",
   "execution_count": null,
   "metadata": {},
   "outputs": [],
   "source": [
    "import matplotlib.pyplot as plt\n",
    "plt.imshow(geo_model.solutions.lith_block.reshape(50,50,50)[:,25,:].T, origin='bottom')"
   ]
  },
  {
   "cell_type": "code",
   "execution_count": null,
   "metadata": {},
   "outputs": [],
   "source": [
    "gp.compute_model(geo_model, compute_mesh=False)\n",
    "gp.plot.plot_section(geo_model, cell_number=25, block_type=geo_model.solutions.lith_block,\n",
    "                         direction='y', plot_data=True)"
   ]
  },
  {
   "cell_type": "code",
   "execution_count": null,
   "metadata": {},
   "outputs": [],
   "source": [
    "gp.plot.plot_section(geo_model, 15, plot_data=True)"
   ]
  },
  {
   "cell_type": "code",
   "execution_count": null,
   "metadata": {},
   "outputs": [],
   "source": [
    "gp.plot.plot_scalar_field(geo_model, 25, series=0)"
   ]
  },
  {
   "cell_type": "code",
   "execution_count": null,
   "metadata": {},
   "outputs": [],
   "source": [
    "geo_model.series"
   ]
  },
  {
   "cell_type": "code",
   "execution_count": null,
   "metadata": {},
   "outputs": [],
   "source": [
    "geo_model.solutions.block_matrix"
   ]
  },
  {
   "cell_type": "code",
   "execution_count": null,
   "metadata": {},
   "outputs": [],
   "source": [
    "geo_model.solutions.scalar_field_at_interfaces.sum(axis=0)"
   ]
  },
  {
   "cell_type": "code",
   "execution_count": null,
   "metadata": {},
   "outputs": [],
   "source": [
    "geo_model.additional_data.structure_data.df"
   ]
  },
  {
   "cell_type": "code",
   "execution_count": null,
   "metadata": {},
   "outputs": [],
   "source": []
  },
  {
   "cell_type": "code",
   "execution_count": null,
   "metadata": {},
   "outputs": [],
   "source": []
  }
 ],
 "metadata": {
  "kernelspec": {
   "display_name": "Python 3",
   "language": "python",
   "name": "python3"
  },
  "language_info": {
   "codemirror_mode": {
    "name": "ipython",
    "version": 3
   },
   "file_extension": ".py",
   "mimetype": "text/x-python",
   "name": "python",
   "nbconvert_exporter": "python",
   "pygments_lexer": "ipython3",
   "version": "3.6.8"
  },
  "latex_envs": {
   "LaTeX_envs_menu_present": true,
   "autocomplete": true,
   "bibliofile": "biblio.bib",
   "cite_by": "apalike",
   "current_citInitial": 1,
   "eqLabelWithNumbers": true,
   "eqNumInitial": 1,
   "hotkeys": {
    "equation": "Ctrl-E",
    "itemize": "Ctrl-I"
   },
   "labels_anchors": false,
   "latex_user_defs": false,
   "report_style_numbering": false,
   "user_envs_cfg": false
  },
  "toc": {
   "colors": {
    "hover_highlight": "#DAA520",
    "running_highlight": "#FF0000",
    "selected_highlight": "#FFD700"
   },
   "moveMenuLeft": true,
   "nav_menu": {
    "height": "11px",
    "width": "251px"
   },
   "navigate_menu": true,
   "number_sections": true,
   "sideBar": true,
   "threshold": 4,
   "toc_cell": false,
   "toc_section_display": "block",
   "toc_window_display": false,
   "widenNotebook": false
  }
 },
 "nbformat": 4,
 "nbformat_minor": 2
}
