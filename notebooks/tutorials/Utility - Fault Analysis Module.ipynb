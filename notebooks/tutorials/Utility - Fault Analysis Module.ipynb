{
 "cells": [
  {
   "cell_type": "markdown",
   "metadata": {},
   "source": [
    "# Utility Tutorial: Using the Fault Analysis Module\n",
    "***\n",
    "In this tutorial, we guide you through the use of the GemPy utility `fault_analysis`. This module provides a mostly voxel-based approach to analyze the effect of faults on lithologies in our model. The most important functions return information or visualizations on:\n",
    "- the contact of lithologies with the fault surface on hanging or footwall side\n",
    "    - this includes top and bottom edges of the contact, thichkness of the contact, peaks of the contact, etc.\n",
    "- fault throw\n",
    "    - this also allows for a simple calculation of the Shale Smear Factor (SSF)\n",
    "- juxtaposition of lithologies with themselves or other lithologies of interest\n",
    "    - this includes visualizations in form of a simplified Allan Diagram plot\n",
    "\n",
    "Such knowledge can be useful to understand fault-related complexities in our models. Especially fault throw magnitudes and juxtapositional situations might be of relevance for several fields of applications, as they may return valuable information on cross-fault sealing potential and fluid migration pathways. These are important aspects to consider regarding reservoir models in general (aquifers, hydrocarbon accumulations, CCS prospects).\n",
    "\n",
    "Note: All the functions presented here are deemed to be working realiably in most cases. However, some still require refinement, especially visualization methods, or can be easily adapted for particular utilizations.\n",
    "\n",
    "We look at three examples:\n",
    "- Example I: An anticlinal structure cut by one infinite normal fault.\n",
    "- Example II: The same model with a finite fault.\n",
    "- Example III: A more complex model including several faults with different strike angles.\n",
    "***"
   ]
  },
  {
   "cell_type": "code",
   "execution_count": null,
   "metadata": {
    "collapsed": true
   },
   "outputs": [],
   "source": []
  }
 ],
 "metadata": {
  "kernelspec": {
   "display_name": "Python 3",
   "language": "python",
   "name": "python3"
  },
  "language_info": {
   "codemirror_mode": {
    "name": "ipython",
    "version": 3
   },
   "file_extension": ".py",
   "mimetype": "text/x-python",
   "name": "python",
   "nbconvert_exporter": "python",
   "pygments_lexer": "ipython3",
   "version": "3.6.2"
  }
 },
 "nbformat": 4,
 "nbformat_minor": 2
}
