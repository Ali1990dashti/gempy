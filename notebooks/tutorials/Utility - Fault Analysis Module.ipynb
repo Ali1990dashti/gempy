{
 "cells": [
  {
   "cell_type": "markdown",
   "metadata": {},
   "source": [
    "# Utility Tutorial: Using the Fault Analysis Module\n",
    "***\n",
    "In this tutorial, we guide you through the use of the GemPy utility `fault_analysis`. This module provides a mostly voxel-based approach to analyze the effect of faults on lithologies in our model. The most important functions return information or visualizations on:\n",
    "- the contact of lithologies with the fault surface on hanging or footwall side\n",
    "    - this includes top and bottom edges of the contact, thichkness of the contact, peaks of the contact, etc.\n",
    "- fault throw\n",
    "    - this also allows for a simple calculation of the Shale Smear Factor (SSF)\n",
    "- juxtaposition of lithologies with themselves or other lithologies of interest\n",
    "    - this includes visualizations in form of a simplified Allan Diagram plot\n",
    "\n",
    "Such knowledge can be useful to understand fault-related complexities in our models. Especially fault throw magnitudes and juxtapositional situations might be of relevance for several fields of applications, as they may return valuable information on cross-fault sealing potential and fluid migration pathways. These are important aspects to consider regarding reservoir models in general (aquifers, hydrocarbon accumulations, CCS prospects).\n",
    "\n",
    "Note: All the functions presented here are deemed to be working realiably in most cases. However, some still require refinement, especially visualization methods, or can be easily adapted for particular utilizations.\n",
    "\n",
    "We look at three (?) examples:\n",
    "- Example I: An anticlinal structure cut by one infinite normal fault.\n",
    "- Example II: The same model with a finite fault. (?)\n",
    "- Example III: A more complex model including several faults with different strike angles. (?)\n",
    "***"
   ]
  },
  {
   "cell_type": "code",
   "execution_count": 1,
   "metadata": {},
   "outputs": [
    {
     "name": "stderr",
     "output_type": "stream",
     "text": [
      "../..\\gempy\\plotting\\visualization.py:31: UserWarning: Vtk package is not installed. No vtk visualization available.\n",
      "  warnings.warn('Vtk package is not installed. No vtk visualization available.')\n",
      "../..\\gempy\\plotting\\visualization.py:36: UserWarning: Steno 3D package is not installed. No 3D online visualization available.\n",
      "  warnings.warn('Steno 3D package is not installed. No 3D online visualization available.')\n",
      "../..\\gempy\\data_management.py:34: UserWarning: qgrid package is not installed. No interactive dataframes available.\n",
      "  warnings.warn('qgrid package is not installed. No interactive dataframes available.')\n",
      "../..\\gempy\\posterior_analysis.py:24: UserWarning: pymc (v2) package is not installed. No support for stochastic simulation posterior analysis.\n",
      "  warnings.warn(\"pymc (v2) package is not installed. No support for stochastic simulation posterior analysis.\")\n"
     ]
    }
   ],
   "source": [
    "# These two lines are necessary only if GemPy is not installed\n",
    "import sys, os\n",
    "sys.path.append(\"../..\")\n",
    "\n",
    "# Importing GemPy\n",
    "import gempy as gp\n",
    "\n",
    "# Embedding matplotlib figures in the notebooks\n",
    "%matplotlib inline\n",
    "\n",
    "# Importing auxiliary libraries\n",
    "import numpy as np\n",
    "import matplotlib.pyplot as plt\n",
    "\n",
    "from IPython.core.pylabtools import figsize\n",
    "figsize(15, 6)\n",
    "\n",
    "# Import the utility module\n",
    "import gempy.utils.fault_analysis as fa"
   ]
  },
  {
   "cell_type": "markdown",
   "metadata": {},
   "source": [
    "## Example I: Normal faulted and anticlinally deformed lithologies\n",
    "This ynthetic model comprises several lithological units in one series, presenting anticlinal deformation and normal faulting. A reservoir trap could be defined by seal dipping on one side and by the fault, i.e. juxtaposition with a sealing unit, on the other side.\n",
    "\n",
    "We construct and compute the model as usual:"
   ]
  },
  {
   "cell_type": "code",
   "execution_count": null,
   "metadata": {},
   "outputs": [],
   "source": [
    "# Importing the data from CSV-files and setting extent and resolution\n",
    "geo_data = gp.create_data([0,2000,0,2000,0,2000],[50,50,50],\n",
    "                         path_o = os.pardir+\"/input_data/NormalFault_AnticlinalTrap_O.csv\",\n",
    "                         path_i = os.pardir+\"/input_data/NormalFault_AnticlinalTrap_P.csv\")\n",
    "\n",
    "# Define that we have one fault in our model\n",
    "geo_data.n_faults = 1\n",
    "\n",
    "# Assigning series to formations and orders \n",
    "gp.set_series(geo_data, {\"fault\":'NormalFault', \n",
    "                      \"Rest\":('Overlying', 'Sandstone2', 'Shale', 'Sandstone')},\n",
    "                       order_series = [\"fault\",\"Rest\",], order_formations=['NormalFault', \n",
    "                                         'Overlying', 'Sandstone2', 'Shale', 'Sandstone',\n",
    "                                         ])"
   ]
  },
  {
   "cell_type": "code",
   "execution_count": null,
   "metadata": {},
   "outputs": [
    {
     "name": "stdout",
     "output_type": "stream",
     "text": [
      "Compiling theano function...\n"
     ]
    }
   ],
   "source": [
    "# INTERPOLATION\n",
    "interp_data = gp.InterpolatorData(geo_data, u_grade = [1, 1], dtype ='float64',\n",
    "                                 compile_theano=True)"
   ]
  },
  {
   "cell_type": "code",
   "execution_count": null,
   "metadata": {},
   "outputs": [],
   "source": [
    "# COMPUTATION OF THE MODEL\n",
    "lith_sol, fault_sol = gp.compute_model(interp_data)"
   ]
  },
  {
   "cell_type": "code",
   "execution_count": null,
   "metadata": {},
   "outputs": [],
   "source": [
    "lith_block   = lith_sol[0] # lithology block\n",
    "lith_scalar  = lith_sol[1] # lithology scalar field \n",
    "\n",
    "fault_block  = fault_sol[0] # fault block  \n",
    "fault_scalar = fault_sol[1] # faultscalar field \n",
    "\n",
    "# Getting the fault formation number\n",
    "fault_n = geo_data.formations.loc['NormalFault','formation_number']\n",
    "shale_n = geo_data.formations.loc['Shale','formation_number']\n",
    "sst_n   = geo_data.formations.loc['Sandstone','formation_number']"
   ]
  },
  {
   "cell_type": "code",
   "execution_count": null,
   "metadata": {},
   "outputs": [],
   "source": [
    "# Plotting sections of our lithology block (lith_sol[0])\n",
    "figsize(18,18)\n",
    "\n",
    "plt.subplot(321)\n",
    "plt.title('A1 - Lithology block section')\n",
    "gp.plotting.plot_section(geo_data, lith_block, 25, direction='y')\n",
    "\n",
    "plt.subplot(322)\n",
    "plt.title('A2 - Fault block section')\n",
    "gp.plotting.plot_section(geo_data, fault_block-1, 25, direction='y')\n",
    "\n",
    "plt.subplot(323)\n",
    "plt.title('A3 - Fault contact mask')\n",
    "mask = fa.get_fault_mask(geo_data, fault_sol, fault_n, fault_side='both')\n",
    "gp.plotting.plot_section(geo_data, mask, 25, direction='y')\n",
    "\n",
    "plt.subplot(324)\n",
    "plt.title('A4 - Lithology contact mask')\n",
    "lith_block = np.round(lith_block)\n",
    "lith_cond = lith_block.reshape(geo_data.resolution[0], geo_data.resolution[1], geo_data.resolution[1]) == sst_n\n",
    "lith_contact_bool = np.logical_and(lith_cond, mask)\n",
    "gp.plotting.plot_section(geo_data, lith_contact_bool, 25, direction='y')"
   ]
  },
  {
   "cell_type": "code",
   "execution_count": null,
   "metadata": {},
   "outputs": [],
   "source": [
    "contact0 = fa.get_LF_contact_VOX(geo_data, lith_sol, fault_sol, lith_n=sst_n, fault_n=fault_n, fault_side='footwall')\n",
    "maxline = fa.get_extrema_line_voxels(contact0, extrema_type='max')\n",
    "minline = fa.get_extrema_line_voxels(contact0, extrema_type='min')\n",
    "contact_proj = (fa.project_voxels(contact0))"
   ]
  },
  {
   "cell_type": "code",
   "execution_count": null,
   "metadata": {},
   "outputs": [],
   "source": [
    "figsize(5,5)\n",
    "im_array = np.zeros_like(contact_proj).astype(int)\n",
    "im_array[contact_proj] = 150\n",
    "im_array[maxline] = 100\n",
    "im_array[minline] = 50"
   ]
  },
  {
   "cell_type": "code",
   "execution_count": null,
   "metadata": {},
   "outputs": [],
   "source": [
    "plt.imshow(im_array.T, origin='bottom', cmap='seismic');"
   ]
  },
  {
   "cell_type": "code",
   "execution_count": null,
   "metadata": {},
   "outputs": [],
   "source": [
    "fault_plot = fa.PlotFault2D(geo_data)\n",
    "\n",
    "figsize(18,18)\n",
    "\n",
    "plt.subplot(321)\n",
    "plt.title('B1- Full lithology-fault contact')\n",
    "fault_plot.plot_lith_fault_contact_full(lith_sol, fault_sol, fault_n, fault_side='footwall')\n",
    "\n",
    "plt.subplot(322)\n",
    "plt.title('B2 - Contact of chosen lithologies')\n",
    "fault_plot.plot_lith_fault_contact(lith_sol, fault_sol, fault_n, lith_n=[shale_n, sst_n], fault_side='footwall')\n",
    "\n",
    "plt.subplot(323)\n",
    "plt.title('B3 - Conceptual Allan Diagram')\n",
    "fault_plot.plot_AllanDiagram(lith_sol, fault_sol, fault_n, lith_target=[sst_n], lith_jux=[sst_n], target_side='fw')\n",
    "\n",
    "plt.subplot(324)\n",
    "plt.title('B4 - Juxtapositions')\n",
    "fault_plot.plot_juxtapositions(lith_sol, fault_sol, fault_n, lith_target=[sst_n], lith_jux=[sst_n], target_side='fw');"
   ]
  },
  {
   "cell_type": "code",
   "execution_count": null,
   "metadata": {},
   "outputs": [],
   "source": [
    "contact_peaks = fa.get_contact_peaks_VOX(geo_data, lith_sol, fault_sol, lith_n=sst_n, fault_n=fault_n, fault_side='footwall', \\\n",
    "                              order = 40) \n",
    "print(contact_peaks.T)"
   ]
  },
  {
   "cell_type": "code",
   "execution_count": null,
   "metadata": {},
   "outputs": [],
   "source": [
    "peak_faultthrows = fa.get_faultthrow_at(geo_data, lith_sol, fault_sol, lith_n=sst_n, fault_n=fault_n, \\\n",
    "                           position='faultmax_argrelmax', order = 40)\n",
    "print(peak_faultthrows)"
   ]
  },
  {
   "cell_type": "code",
   "execution_count": null,
   "metadata": {},
   "outputs": [],
   "source": [
    "peak_thicknesses = fa.get_lithcontact_thickness_at(geo_data, lith_sol, fault_sol, lith_n=sst_n, fault_n=fault_n, \\\n",
    "                           fault_side='fw', position='faultmax_argrelmax', order = 40)\n",
    "print(peak_thicknesses)"
   ]
  }
 ],
 "metadata": {
  "kernelspec": {
   "display_name": "Python 3",
   "language": "python",
   "name": "python3"
  },
  "language_info": {
   "codemirror_mode": {
    "name": "ipython",
    "version": 3
   },
   "file_extension": ".py",
   "mimetype": "text/x-python",
   "name": "python",
   "nbconvert_exporter": "python",
   "pygments_lexer": "ipython3",
   "version": "3.6.8"
  }
 },
 "nbformat": 4,
 "nbformat_minor": 2
}
