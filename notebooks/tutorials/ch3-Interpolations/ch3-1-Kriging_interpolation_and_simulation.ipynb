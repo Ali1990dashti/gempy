{
 "cells": [
  {
   "cell_type": "markdown",
   "metadata": {},
   "source": [
    "## Simple example of kriging in gempy"
   ]
  },
  {
   "cell_type": "markdown",
   "metadata": {},
   "source": [
    "In this notebook it will be shown how to create a kriged or simulated field in a simple geological model in gempy. We start by creating a simple model with three horizontally layered units, as shown in the gempy examples."
   ]
  },
  {
   "cell_type": "code",
   "execution_count": 1,
   "metadata": {},
   "outputs": [],
   "source": [
    "# These two lines are necessary only if GemPy is not installed\n",
    "import sys, os\n",
    "sys.path.append(\"../../..\")\n",
    "\n",
    "\n",
    "# Importing GemPy\n",
    "import gempy as gp\n",
    "\n",
    "# Embedding matplotlib figures in the notebooks\n",
    "%matplotlib inline\n",
    "\n",
    "# Importing auxiliary libraries\n",
    "import numpy as np\n",
    "import matplotlib.pyplot as plt\n",
    "\n",
    "# new for this\n",
    "import importlib\n",
    "from gempy.assets import kriging\n",
    "\n",
    "np.random.seed(5555)"
   ]
  },
  {
   "cell_type": "markdown",
   "metadata": {},
   "source": [
    "Creating the model by importing the input data and displaying it:"
   ]
  },
  {
   "cell_type": "code",
   "execution_count": 2,
   "metadata": {
    "scrolled": false
   },
   "outputs": [
    {
     "name": "stdout",
     "output_type": "stream",
     "text": [
      "Active grids: ['regular']\n"
     ]
    }
   ],
   "source": [
    "data_path= '../..'\n",
    "\n",
    "geo_data = gp.create_data([0,1000,0,50,0,1000],resolution=[50,1,50], \n",
    "                        path_o = data_path+\"/data/input_data/jan_models/model1_orientations.csv\",\n",
    "                        path_i = data_path+\"/data/input_data/jan_models/model1_surface_points.csv\") "
   ]
  },
  {
   "cell_type": "markdown",
   "metadata": {},
   "source": [
    "Setting and ordering the units and series:"
   ]
  },
  {
   "cell_type": "code",
   "execution_count": 3,
   "metadata": {},
   "outputs": [
    {
     "data": {
      "text/html": [
       "<style  type=\"text/css\" >\n",
       "    #T_b099924a_09dd_11ea_aa96_d8cb8aeeb072row0_col4 {\n",
       "            background-color:  #015482;\n",
       "        }    #T_b099924a_09dd_11ea_aa96_d8cb8aeeb072row1_col4 {\n",
       "            background-color:  #9f0052;\n",
       "        }    #T_b099924a_09dd_11ea_aa96_d8cb8aeeb072row2_col4 {\n",
       "            background-color:  #ffbe00;\n",
       "        }</style><table id=\"T_b099924a_09dd_11ea_aa96_d8cb8aeeb072\" ><thead>    <tr>        <th class=\"blank level0\" ></th>        <th class=\"col_heading level0 col0\" >surface</th>        <th class=\"col_heading level0 col1\" >series</th>        <th class=\"col_heading level0 col2\" >order_surfaces</th>        <th class=\"col_heading level0 col3\" >isBasement</th>        <th class=\"col_heading level0 col4\" >color</th>        <th class=\"col_heading level0 col5\" >id</th>    </tr></thead><tbody>\n",
       "                <tr>\n",
       "                        <th id=\"T_b099924a_09dd_11ea_aa96_d8cb8aeeb072level0_row0\" class=\"row_heading level0 row0\" >0</th>\n",
       "                        <td id=\"T_b099924a_09dd_11ea_aa96_d8cb8aeeb072row0_col0\" class=\"data row0 col0\" >rock2</td>\n",
       "                        <td id=\"T_b099924a_09dd_11ea_aa96_d8cb8aeeb072row0_col1\" class=\"data row0 col1\" >Strat_Series</td>\n",
       "                        <td id=\"T_b099924a_09dd_11ea_aa96_d8cb8aeeb072row0_col2\" class=\"data row0 col2\" >1</td>\n",
       "                        <td id=\"T_b099924a_09dd_11ea_aa96_d8cb8aeeb072row0_col3\" class=\"data row0 col3\" >False</td>\n",
       "                        <td id=\"T_b099924a_09dd_11ea_aa96_d8cb8aeeb072row0_col4\" class=\"data row0 col4\" >#015482</td>\n",
       "                        <td id=\"T_b099924a_09dd_11ea_aa96_d8cb8aeeb072row0_col5\" class=\"data row0 col5\" >1</td>\n",
       "            </tr>\n",
       "            <tr>\n",
       "                        <th id=\"T_b099924a_09dd_11ea_aa96_d8cb8aeeb072level0_row1\" class=\"row_heading level0 row1\" >1</th>\n",
       "                        <td id=\"T_b099924a_09dd_11ea_aa96_d8cb8aeeb072row1_col0\" class=\"data row1 col0\" >rock1</td>\n",
       "                        <td id=\"T_b099924a_09dd_11ea_aa96_d8cb8aeeb072row1_col1\" class=\"data row1 col1\" >Strat_Series</td>\n",
       "                        <td id=\"T_b099924a_09dd_11ea_aa96_d8cb8aeeb072row1_col2\" class=\"data row1 col2\" >2</td>\n",
       "                        <td id=\"T_b099924a_09dd_11ea_aa96_d8cb8aeeb072row1_col3\" class=\"data row1 col3\" >False</td>\n",
       "                        <td id=\"T_b099924a_09dd_11ea_aa96_d8cb8aeeb072row1_col4\" class=\"data row1 col4\" >#9f0052</td>\n",
       "                        <td id=\"T_b099924a_09dd_11ea_aa96_d8cb8aeeb072row1_col5\" class=\"data row1 col5\" >2</td>\n",
       "            </tr>\n",
       "            <tr>\n",
       "                        <th id=\"T_b099924a_09dd_11ea_aa96_d8cb8aeeb072level0_row2\" class=\"row_heading level0 row2\" >2</th>\n",
       "                        <td id=\"T_b099924a_09dd_11ea_aa96_d8cb8aeeb072row2_col0\" class=\"data row2 col0\" >basement</td>\n",
       "                        <td id=\"T_b099924a_09dd_11ea_aa96_d8cb8aeeb072row2_col1\" class=\"data row2 col1\" >Basement_Series</td>\n",
       "                        <td id=\"T_b099924a_09dd_11ea_aa96_d8cb8aeeb072row2_col2\" class=\"data row2 col2\" >1</td>\n",
       "                        <td id=\"T_b099924a_09dd_11ea_aa96_d8cb8aeeb072row2_col3\" class=\"data row2 col3\" >True</td>\n",
       "                        <td id=\"T_b099924a_09dd_11ea_aa96_d8cb8aeeb072row2_col4\" class=\"data row2 col4\" >#ffbe00</td>\n",
       "                        <td id=\"T_b099924a_09dd_11ea_aa96_d8cb8aeeb072row2_col5\" class=\"data row2 col5\" >3</td>\n",
       "            </tr>\n",
       "    </tbody></table>"
      ],
      "text/plain": [
       "    surface           series  order_surfaces  isBasement    color vertices edges  id\n",
       "0     rock2     Strat_Series               1       False  #015482      NaN   NaN   1\n",
       "1     rock1     Strat_Series               2       False  #9f0052      NaN   NaN   2\n",
       "2  basement  Basement_Series               1        True  #ffbe00      NaN   NaN   3"
      ]
     },
     "execution_count": 3,
     "metadata": {},
     "output_type": "execute_result"
    }
   ],
   "source": [
    "gp.map_series_to_surfaces(geo_data, {\"Strat_Series\": ('rock2','rock1'),\"Basement_Series\":('basement')})"
   ]
  },
  {
   "cell_type": "code",
   "execution_count": 4,
   "metadata": {},
   "outputs": [],
   "source": [
    "#%matplotlib inline\n",
    "#gp.plot.plot_data(geo_data, direction='y')"
   ]
  },
  {
   "cell_type": "markdown",
   "metadata": {},
   "source": [
    "Calculating the model:"
   ]
  },
  {
   "cell_type": "code",
   "execution_count": 5,
   "metadata": {
    "scrolled": true
   },
   "outputs": [
    {
     "name": "stdout",
     "output_type": "stream",
     "text": [
      "Compiling theano function...\n",
      "Level of Optimization:  fast_compile\n",
      "Device:  cpu\n",
      "Precision:  float64\n",
      "Number of faults:  0\n",
      "Compilation Done!\n"
     ]
    }
   ],
   "source": [
    "interp_data = gp.set_interpolation_data(geo_data, compile_theano=True,\n",
    "                                        theano_optimizer='fast_compile')"
   ]
  },
  {
   "cell_type": "code",
   "execution_count": 6,
   "metadata": {
    "scrolled": false
   },
   "outputs": [],
   "source": [
    "# no mesh computed as basically 2D model\n",
    "sol = gp.compute_model(geo_data, compute_mesh=False)"
   ]
  },
  {
   "cell_type": "markdown",
   "metadata": {},
   "source": [
    "So here is the very simple, basically 2D model that we created:"
   ]
  },
  {
   "cell_type": "code",
   "execution_count": 7,
   "metadata": {},
   "outputs": [
    {
     "data": {
      "text/plain": [
       "<gempy.plot.visualization_2d.PlotSolution at 0x27c34b1fe08>"
      ]
     },
     "execution_count": 7,
     "metadata": {},
     "output_type": "execute_result"
    },
    {
     "data": {
      "image/png": "[encoded data removed]",
      "text/plain": [
       "<Figure size 432x288 with 1 Axes>"
      ]
     },
     "metadata": {
      "needs_background": "light"
     },
     "output_type": "display_data"
    }
   ],
   "source": [
    "gp.plot.plot_section(geo_data, cell_number=0, show_legend=True, show_data=False)"
   ]
  },
  {
   "cell_type": "markdown",
   "metadata": {},
   "source": [
    "## 1) Creating domain\n",
    "\n",
    "Let us assume we have a couple of measurements in a domain of interest within our model. In our case the unit of interest is the central rock layer (\"rock1\"). In the kriging module we can define the domain by handing over a number of surfaces by id - in this case the id of rock1 is 2. In addition we define four input data points in cond_data, each defined by x,y,z coordinate and a measurement value."
   ]
  },
  {
   "cell_type": "code",
   "execution_count": 8,
   "metadata": {},
   "outputs": [],
   "source": [
    "# conditioning data (data measured at locations)\n",
    "cond_data = np.array([[100,.5,500,2],[900,.5,500,1],[500,.5,550,1],[300,.5,400,5]])"
   ]
  },
  {
   "cell_type": "code",
   "execution_count": 9,
   "metadata": {},
   "outputs": [],
   "source": [
    "# creating a domain object from the gempy solution, a defined domainand conditioning data\n",
    "domain = kriging.domain(model=sol, domain=[2], data=cond_data)"
   ]
  },
  {
   "cell_type": "markdown",
   "metadata": {},
   "source": [
    "## 2) Creating a variogram model"
   ]
  },
  {
   "cell_type": "code",
   "execution_count": 10,
   "metadata": {},
   "outputs": [],
   "source": [
    "variogram_model = kriging.variogram_model(theoretical_model = 'exponential', range_=200, sill=np.var(cond_data[:,3]))"
   ]
  },
  {
   "cell_type": "code",
   "execution_count": 11,
   "metadata": {},
   "outputs": [
    {
     "data": {
      "image/png": "[encoded data removed]",
      "text/plain": [
       "<Figure size 432x288 with 1 Axes>"
      ]
     },
     "metadata": {
      "needs_background": "light"
     },
     "output_type": "display_data"
    }
   ],
   "source": [
    "variogram_model.plot(type_='both', show_parameters = True)"
   ]
  },
  {
   "cell_type": "markdown",
   "metadata": {},
   "source": [
    "## 3) Kriging interpolation"
   ]
  },
  {
   "cell_type": "markdown",
   "metadata": {},
   "source": [
    "In the following we define an object called kriging_model and set all input parameters. Finally we generate the kriged field."
   ]
  },
  {
   "cell_type": "code",
   "execution_count": 12,
   "metadata": {
    "scrolled": true
   },
   "outputs": [],
   "source": [
    "solution = kriging.create_kriged_field(domain, variogram_model)"
   ]
  },
  {
   "cell_type": "markdown",
   "metadata": {},
   "source": [
    "The result of our calculation is saved in the following dataframe, containing an estimated value and the kriging variance for each point in the grid:"
   ]
  },
  {
   "cell_type": "code",
   "execution_count": 13,
   "metadata": {},
   "outputs": [
    {
     "data": {
      "text/html": [
       "<div>\n",
       "<style scoped>\n",
       "    .dataframe tbody tr th:only-of-type {\n",
       "        vertical-align: middle;\n",
       "    }\n",
       "\n",
       "    .dataframe tbody tr th {\n",
       "        vertical-align: top;\n",
       "    }\n",
       "\n",
       "    .dataframe thead th {\n",
       "        text-align: right;\n",
       "    }\n",
       "</style>\n",
       "<table border=\"1\" class=\"dataframe\">\n",
       "  <thead>\n",
       "    <tr style=\"text-align: right;\">\n",
       "      <th></th>\n",
       "      <th>X</th>\n",
       "      <th>Y</th>\n",
       "      <th>Z</th>\n",
       "      <th>estimated value</th>\n",
       "      <th>estimation variance</th>\n",
       "    </tr>\n",
       "  </thead>\n",
       "  <tbody>\n",
       "    <tr>\n",
       "      <th>0</th>\n",
       "      <td>10.0</td>\n",
       "      <td>0.5</td>\n",
       "      <td>410.0</td>\n",
       "      <td>2.241527</td>\n",
       "      <td>2.103574</td>\n",
       "    </tr>\n",
       "    <tr>\n",
       "      <th>1</th>\n",
       "      <td>10.0</td>\n",
       "      <td>0.5</td>\n",
       "      <td>430.0</td>\n",
       "      <td>2.193533</td>\n",
       "      <td>1.979653</td>\n",
       "    </tr>\n",
       "    <tr>\n",
       "      <th>2</th>\n",
       "      <td>10.0</td>\n",
       "      <td>0.5</td>\n",
       "      <td>450.0</td>\n",
       "      <td>2.144314</td>\n",
       "      <td>1.865246</td>\n",
       "    </tr>\n",
       "    <tr>\n",
       "      <th>3</th>\n",
       "      <td>10.0</td>\n",
       "      <td>0.5</td>\n",
       "      <td>470.0</td>\n",
       "      <td>2.097843</td>\n",
       "      <td>1.774740</td>\n",
       "    </tr>\n",
       "    <tr>\n",
       "      <th>4</th>\n",
       "      <td>10.0</td>\n",
       "      <td>0.5</td>\n",
       "      <td>490.0</td>\n",
       "      <td>2.058490</td>\n",
       "      <td>1.724742</td>\n",
       "    </tr>\n",
       "  </tbody>\n",
       "</table>\n",
       "</div>"
      ],
      "text/plain": [
       "      X    Y      Z  estimated value  estimation variance\n",
       "0  10.0  0.5  410.0         2.241527             2.103574\n",
       "1  10.0  0.5  430.0         2.193533             1.979653\n",
       "2  10.0  0.5  450.0         2.144314             1.865246\n",
       "3  10.0  0.5  470.0         2.097843             1.774740\n",
       "4  10.0  0.5  490.0         2.058490             1.724742"
      ]
     },
     "execution_count": 13,
     "metadata": {},
     "output_type": "execute_result"
    }
   ],
   "source": [
    "solution.results_df.head()"
   ]
  },
  {
   "cell_type": "markdown",
   "metadata": {},
   "source": [
    "It is also possible to plot the results in cross section similar to the way gempy models are plotted."
   ]
  },
  {
   "cell_type": "code",
   "execution_count": 14,
   "metadata": {},
   "outputs": [
    {
     "data": {
      "image/png": "[encoded data removed]",
      "text/plain": [
       "<Figure size 432x288 with 2 Axes>"
      ]
     },
     "metadata": {
      "needs_background": "light"
     },
     "output_type": "display_data"
    }
   ],
   "source": [
    "solution.plot_results(geo_data=geo_data, prop='val', contour=False, direction='y', cell_number=0, alpha=0.7,\n",
    "                          show_data=False, legend=True)"
   ]
  },
  {
   "cell_type": "code",
   "execution_count": 15,
   "metadata": {},
   "outputs": [
    {
     "data": {
      "image/png": "[encoded data removed]",
      "text/plain": [
       "<Figure size 432x288 with 4 Axes>"
      ]
     },
     "metadata": {
      "needs_background": "light"
     },
     "output_type": "display_data"
    }
   ],
   "source": [
    "solution.plot_results(geo_data=geo_data, prop='both', contour=False, direction='y', cell_number=0, alpha=0,\n",
    "                          interpolation='bilinear', show_data=False)"
   ]
  },
  {
   "cell_type": "markdown",
   "metadata": {},
   "source": [
    "## 4) Simulated field\n",
    "\n",
    "Based on the same objects (domain and varigoram model) also a simulated field (stationary Gaussian Field) can be generated. A Sequential Gaussian Simulation approach is applied in this module:"
   ]
  },
  {
   "cell_type": "code",
   "execution_count": 16,
   "metadata": {},
   "outputs": [],
   "source": [
    "solution_sim = kriging.create_gaussian_field(domain, variogram_model)"
   ]
  },
  {
   "cell_type": "code",
   "execution_count": 17,
   "metadata": {},
   "outputs": [
    {
     "data": {
      "text/html": [
       "<div>\n",
       "<style scoped>\n",
       "    .dataframe tbody tr th:only-of-type {\n",
       "        vertical-align: middle;\n",
       "    }\n",
       "\n",
       "    .dataframe tbody tr th {\n",
       "        vertical-align: top;\n",
       "    }\n",
       "\n",
       "    .dataframe thead th {\n",
       "        text-align: right;\n",
       "    }\n",
       "</style>\n",
       "<table border=\"1\" class=\"dataframe\">\n",
       "  <thead>\n",
       "    <tr style=\"text-align: right;\">\n",
       "      <th></th>\n",
       "      <th>X</th>\n",
       "      <th>Y</th>\n",
       "      <th>Z</th>\n",
       "      <th>estimated value</th>\n",
       "      <th>estimation variance</th>\n",
       "    </tr>\n",
       "  </thead>\n",
       "  <tbody>\n",
       "    <tr>\n",
       "      <th>16</th>\n",
       "      <td>10.0</td>\n",
       "      <td>0.5</td>\n",
       "      <td>410.0</td>\n",
       "      <td>2.642725</td>\n",
       "      <td>1.480064</td>\n",
       "    </tr>\n",
       "    <tr>\n",
       "      <th>157</th>\n",
       "      <td>10.0</td>\n",
       "      <td>0.5</td>\n",
       "      <td>430.0</td>\n",
       "      <td>2.414133</td>\n",
       "      <td>0.281501</td>\n",
       "    </tr>\n",
       "    <tr>\n",
       "      <th>276</th>\n",
       "      <td>10.0</td>\n",
       "      <td>0.5</td>\n",
       "      <td>450.0</td>\n",
       "      <td>4.019788</td>\n",
       "      <td>0.238778</td>\n",
       "    </tr>\n",
       "    <tr>\n",
       "      <th>25</th>\n",
       "      <td>10.0</td>\n",
       "      <td>0.5</td>\n",
       "      <td>470.0</td>\n",
       "      <td>2.585805</td>\n",
       "      <td>0.528127</td>\n",
       "    </tr>\n",
       "    <tr>\n",
       "      <th>267</th>\n",
       "      <td>10.0</td>\n",
       "      <td>0.5</td>\n",
       "      <td>490.0</td>\n",
       "      <td>0.809643</td>\n",
       "      <td>0.281643</td>\n",
       "    </tr>\n",
       "  </tbody>\n",
       "</table>\n",
       "</div>"
      ],
      "text/plain": [
       "        X    Y      Z  estimated value  estimation variance\n",
       "16   10.0  0.5  410.0         2.642725             1.480064\n",
       "157  10.0  0.5  430.0         2.414133             0.281501\n",
       "276  10.0  0.5  450.0         4.019788             0.238778\n",
       "25   10.0  0.5  470.0         2.585805             0.528127\n",
       "267  10.0  0.5  490.0         0.809643             0.281643"
      ]
     },
     "execution_count": 17,
     "metadata": {},
     "output_type": "execute_result"
    }
   ],
   "source": [
    "solution_sim.results_df.head()"
   ]
  },
  {
   "cell_type": "code",
   "execution_count": 18,
   "metadata": {
    "tags": [
     "nbval-check-output"
    ]
   },
   "outputs": [
    {
     "data": {
      "text/plain": [
       "16     2.642725\n",
       "157    2.414133\n",
       "276    4.019788\n",
       "25     2.585805\n",
       "267    0.809643\n",
       "481    0.524439\n",
       "184    0.150723\n",
       "424   -0.799371\n",
       "84     0.081723\n",
       "376    0.517850\n",
       "369    2.126173\n",
       "92     2.597314\n",
       "129    3.458446\n",
       "415    1.685619\n",
       "14     1.550341\n",
       "256    0.863639\n",
       "437    1.209301\n",
       "120   -0.405240\n",
       "4      0.456935\n",
       "159    1.725151\n",
       "245    1.755836\n",
       "131    2.219214\n",
       "385    2.079305\n",
       "378    1.493618\n",
       "351    2.205196\n",
       "443    1.602555\n",
       "453    1.479129\n",
       "50     1.682184\n",
       "139    2.002079\n",
       "420    2.421079\n",
       "         ...   \n",
       "292    1.917281\n",
       "356    1.745136\n",
       "132    2.342710\n",
       "403    2.108304\n",
       "35     2.322587\n",
       "295    2.483762\n",
       "152    3.465020\n",
       "250    2.117275\n",
       "494    1.001908\n",
       "422    1.069882\n",
       "21     2.302120\n",
       "91     1.927553\n",
       "257    2.835414\n",
       "309    2.904920\n",
       "48     3.384884\n",
       "449    4.048059\n",
       "124    3.037036\n",
       "313    2.272841\n",
       "382    2.015106\n",
       "466    0.412165\n",
       "39     1.472486\n",
       "96     2.644132\n",
       "13     1.858980\n",
       "242    3.062386\n",
       "191    4.395441\n",
       "55     3.762014\n",
       "165    3.332039\n",
       "427    2.028748\n",
       "303    1.981516\n",
       "187    2.068681\n",
       "Name: estimated value, Length: 500, dtype: float64"
      ]
     },
     "execution_count": 18,
     "metadata": {},
     "output_type": "execute_result"
    }
   ],
   "source": [
    "solution_sim.results_df['estimated value']"
   ]
  },
  {
   "cell_type": "code",
   "execution_count": 19,
   "metadata": {},
   "outputs": [
    {
     "data": {
      "image/png": "[encoded data removed]",
      "text/plain": [
       "<Figure size 432x288 with 2 Axes>"
      ]
     },
     "metadata": {
      "needs_background": "light"
     },
     "output_type": "display_data"
    }
   ],
   "source": [
    "solution_sim.plot_results(geo_data=geo_data, prop='val', contour=False, direction='y', cell_number=0, alpha=0.7,\n",
    "                          show_data=True, legend=True)"
   ]
  },
  {
   "cell_type": "code",
   "execution_count": 20,
   "metadata": {},
   "outputs": [
    {
     "data": {
      "image/png": "[encoded data removed]",
      "text/plain": [
       "<Figure size 432x288 with 4 Axes>"
      ]
     },
     "metadata": {
      "needs_background": "light"
     },
     "output_type": "display_data"
    }
   ],
   "source": [
    "solution_sim.plot_results(geo_data=geo_data, prop='both', contour=False, direction='y', cell_number=0, alpha=0,\n",
    "                          interpolation='bilinear', show_data=False)"
   ]
  }
 ],
 "metadata": {
  "celltoolbar": "Tags",
  "kernelspec": {
   "display_name": "Python 3",
   "language": "python",
   "name": "python3"
  },
  "language_info": {
   "codemirror_mode": {
    "name": "ipython",
    "version": 3
   },
   "file_extension": ".py",
   "mimetype": "text/x-python",
   "name": "python",
   "nbconvert_exporter": "python",
   "pygments_lexer": "ipython3",
   "version": "3.7.5"
  }
 },
 "nbformat": 4,
 "nbformat_minor": 2
}
