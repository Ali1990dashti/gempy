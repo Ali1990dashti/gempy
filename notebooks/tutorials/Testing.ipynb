{
 "cells": [
  {
   "cell_type": "code",
   "execution_count": 1,
   "metadata": {},
   "outputs": [],
   "source": [
    "# These two lines are necessary only if GemPy is not installed\n",
    "import sys, os\n",
    "sys.path.append(\"../..\")\n",
    "os.environ['CUDA_LAUNCH_BLOCKING'] = '1'\n",
    "os.environ['MKL_THREADING_LAYER'] = 'GNU'\n",
    "\n",
    "# Importing GemPy\n",
    "import gempy as gp\n",
    "\n",
    "# Embedding matplotlib figures in the notebooks\n",
    "%matplotlib inline\n",
    "\n",
    "# Importing auxiliary libraries\n",
    "import numpy as np\n",
    "import matplotlib.pyplot as plt"
   ]
  },
  {
   "cell_type": "code",
   "execution_count": 53,
   "metadata": {},
   "outputs": [],
   "source": [
    "x_1 = np.array([10, 1, 1]).reshape((3,1))"
   ]
  },
  {
   "cell_type": "code",
   "execution_count": 54,
   "metadata": {},
   "outputs": [],
   "source": [
    "x_2 = np.array([1, 1, 3]).reshape((3,1))"
   ]
  },
  {
   "cell_type": "code",
   "execution_count": 55,
   "metadata": {},
   "outputs": [
    {
     "name": "stdout",
     "output_type": "stream",
     "text": [
      "[[10]\n",
      " [ 1]\n",
      " [ 1]] [[1]\n",
      " [1]\n",
      " [3]]\n"
     ]
    }
   ],
   "source": [
    "print(x_1, x_2)"
   ]
  },
  {
   "cell_type": "code",
   "execution_count": 64,
   "metadata": {},
   "outputs": [],
   "source": [
    "import theano.tensor as T\n",
    "import theano as theano"
   ]
  },
  {
   "cell_type": "code",
   "execution_count": 72,
   "metadata": {},
   "outputs": [],
   "source": [
    "def theano_sed():\n",
    "    \"\"\"\n",
    "    Function to create a theano function to compute the euclidian distances efficiently\n",
    "    Returns:\n",
    "        theano.compile.function_module.Function: Compiled function\n",
    "\n",
    "    \"\"\"\n",
    "\n",
    "    theano.config.compute_test_value = \"ignore\"\n",
    "\n",
    "    # Set symbolic variable as matrix (with the XYZ coords)\n",
    "    coord_T_x1 = T.dmatrix()\n",
    "    coord_T_x2 = T.dmatrix()\n",
    "\n",
    "    def squared_euclidean_distances(x_1, x_2):\n",
    "        sqd = T.sqrt(T.maximum(\n",
    "            (x_1 ** 2).sum(1).reshape((x_1.shape[0], 1)) +\n",
    "            (x_2 ** 2).sum(1).reshape((1, x_2.shape[0])) -\n",
    "            2 * x_1.dot(x_2.T), 0\n",
    "        ))\n",
    "        print(sqd)\n",
    "        return sqd\n",
    "    \n",
    "\n",
    "    # Compiling function\n",
    "    f = theano.function([coord_T_x1, coord_T_x2],\n",
    "                        squared_euclidean_distances(coord_T_x1, coord_T_x2),\n",
    "                        allow_input_downcast=False)\n",
    "    return f"
   ]
  },
  {
   "cell_type": "code",
   "execution_count": 73,
   "metadata": {},
   "outputs": [],
   "source": [
    "distance = squared_euclidean_distances(x_1, x_2)"
   ]
  },
  {
   "cell_type": "code",
   "execution_count": 74,
   "metadata": {},
   "outputs": [
    {
     "name": "stdout",
     "output_type": "stream",
     "text": [
      "Elemwise{sqrt,no_inplace}.0\n"
     ]
    }
   ],
   "source": [
    "print(distance)"
   ]
  },
  {
   "cell_type": "code",
   "execution_count": null,
   "metadata": {},
   "outputs": [],
   "source": []
  }
 ],
 "metadata": {
  "kernelspec": {
   "display_name": "Python 3",
   "language": "python",
   "name": "python3"
  },
  "language_info": {
   "codemirror_mode": {
    "name": "ipython",
    "version": 3
   },
   "file_extension": ".py",
   "mimetype": "text/x-python",
   "name": "python",
   "nbconvert_exporter": "python",
   "pygments_lexer": "ipython3",
   "version": "3.6.4"
  }
 },
 "nbformat": 4,
 "nbformat_minor": 2
}
