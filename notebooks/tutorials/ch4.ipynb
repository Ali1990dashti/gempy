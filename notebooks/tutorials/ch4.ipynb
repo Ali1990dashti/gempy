{
 "cells": [
  {
   "cell_type": "markdown",
   "metadata": {},
   "source": [
    "# Chapter 4: Bayesian Statistics in pymc3 (Working in progress proof of concept)"
   ]
  },
  {
   "cell_type": "code",
   "execution_count": 1,
   "metadata": {},
   "outputs": [
    {
     "name": "stderr",
     "output_type": "stream",
     "text": [
      "WARNING (theano.tensor.blas): Using NumPy C-API based implementation for BLAS functions.\n"
     ]
    }
   ],
   "source": [
    "# These two lines are necessary only if gempy is not installed\n",
    "import sys, os\n",
    "sys.path.append(\"../..\")\n",
    "\n",
    "# Importing gempy\n",
    "import gempy as gp\n",
    "\n",
    "\n",
    "# Embedding matplotlib figures into the notebooks\n",
    "%matplotlib notebook\n",
    "\n",
    "# Aux imports\n",
    "import numpy as np"
   ]
  },
  {
   "cell_type": "code",
   "execution_count": 2,
   "metadata": {},
   "outputs": [
    {
     "name": "stderr",
     "output_type": "stream",
     "text": [
      "../../gempy/data_management.py:66: UserWarning: path_f is deprecated use instead path_o\n",
      "  warnings.warn('path_f is deprecated use instead path_o')\n"
     ]
    },
    {
     "name": "stdout",
     "output_type": "stream",
     "text": [
      "here\n",
      "2\n",
      "3\n",
      "there\n"
     ]
    }
   ],
   "source": [
    "# Importing the data from csv files and settign extent and resolution\n",
    "geo_data = gp.create_data([696000-10000,747000 + 20600,6863000 - 20600,6950000 + 20600,-20000, 600],\n",
    "                          [30,30,30],\n",
    "                         path_f = os.pardir+\"/input_data/a_Foliations.csv\",\n",
    "                         path_i = os.pardir+\"/input_data/a_Points.csv\")"
   ]
  },
  {
   "cell_type": "code",
   "execution_count": 3,
   "metadata": {},
   "outputs": [
    {
     "name": "stdout",
     "output_type": "stream",
     "text": [
      "1\n",
      "there\n"
     ]
    },
    {
     "data": {
      "text/plain": [
       "<gempy.sequential_pile.StratigraphicPile at 0x7f014c30ca58>"
      ]
     },
     "execution_count": 3,
     "metadata": {},
     "output_type": "execute_result"
    },
    {
     "data": {
      "image/png": "[encoded data removed]",
      "text/plain": [
       "<matplotlib.figure.Figure at 0x7f00b82f5668>"
      ]
     },
     "metadata": {},
     "output_type": "display_data"
    }
   ],
   "source": [
    "# Assigning series to formations as well as their order (timewise)\n",
    "gp.set_series(geo_data, {\"EarlyGranite_Series\": 'EarlyGranite', \n",
    "                              \"BIF_Series\":('SimpleMafic2', 'SimpleBIF'),\n",
    "                              \"SimpleMafic_Series\":'SimpleMafic1'}, \n",
    "                      order_series = [\"EarlyGranite_Series\",\n",
    "                                      \"BIF_Series\",\n",
    "                                      \"SimpleMafic_Series\"],\n",
    "                      order_formations= ['EarlyGranite', 'SimpleMafic2', 'SimpleBIF', 'SimpleMafic1'],\n",
    "              verbose=1)"
   ]
  },
  {
   "cell_type": "code",
   "execution_count": 4,
   "metadata": {},
   "outputs": [
    {
     "name": "stdout",
     "output_type": "stream",
     "text": [
      "I am changing formations3\n"
     ]
    }
   ],
   "source": [
    "geo_data.set_formation_values([2.61, 2.92, 3.1, 2.91, 2.61])"
   ]
  },
  {
   "cell_type": "code",
   "execution_count": 5,
   "metadata": {},
   "outputs": [
    {
     "data": {
      "text/html": [
       "<div>\n",
       "<style scoped>\n",
       "    .dataframe tbody tr th:only-of-type {\n",
       "        vertical-align: middle;\n",
       "    }\n",
       "\n",
       "    .dataframe tbody tr th {\n",
       "        vertical-align: top;\n",
       "    }\n",
       "\n",
       "    .dataframe thead tr th {\n",
       "        text-align: left;\n",
       "    }\n",
       "</style>\n",
       "<table border=\"1\" class=\"dataframe\">\n",
       "  <thead>\n",
       "    <tr>\n",
       "      <th></th>\n",
       "      <th>value</th>\n",
       "      <th>formation_number</th>\n",
       "    </tr>\n",
       "  </thead>\n",
       "  <tbody>\n",
       "    <tr>\n",
       "      <th>EarlyGranite</th>\n",
       "      <td>2.61</td>\n",
       "      <td>1</td>\n",
       "    </tr>\n",
       "    <tr>\n",
       "      <th>SimpleMafic2</th>\n",
       "      <td>2.92</td>\n",
       "      <td>2</td>\n",
       "    </tr>\n",
       "    <tr>\n",
       "      <th>SimpleBIF</th>\n",
       "      <td>3.10</td>\n",
       "      <td>3</td>\n",
       "    </tr>\n",
       "    <tr>\n",
       "      <th>SimpleMafic1</th>\n",
       "      <td>2.91</td>\n",
       "      <td>4</td>\n",
       "    </tr>\n",
       "    <tr>\n",
       "      <th>basement</th>\n",
       "      <td>2.61</td>\n",
       "      <td>5</td>\n",
       "    </tr>\n",
       "  </tbody>\n",
       "</table>\n",
       "</div>"
      ],
      "text/plain": [
       "             value formation_number\n",
       "EarlyGranite  2.61                1\n",
       "SimpleMafic2  2.92                2\n",
       "SimpleBIF     3.10                3\n",
       "SimpleMafic1  2.91                4\n",
       "basement      2.61                5"
      ]
     },
     "execution_count": 5,
     "metadata": {},
     "output_type": "execute_result"
    }
   ],
   "source": [
    "geo_data.formations"
   ]
  },
  {
   "cell_type": "code",
   "execution_count": 6,
   "metadata": {},
   "outputs": [
    {
     "name": "stdout",
     "output_type": "stream",
     "text": [
      "1\n",
      "there\n"
     ]
    }
   ],
   "source": [
    "geo_data.update_df()"
   ]
  },
  {
   "cell_type": "markdown",
   "metadata": {},
   "source": [
    "Setting uncertainties adding the values to the Dataframe."
   ]
  },
  {
   "cell_type": "code",
   "execution_count": 7,
   "metadata": {},
   "outputs": [
    {
     "data": {
      "text/html": [
       "<div>\n",
       "<style scoped>\n",
       "    .dataframe tbody tr th:only-of-type {\n",
       "        vertical-align: middle;\n",
       "    }\n",
       "\n",
       "    .dataframe tbody tr th {\n",
       "        vertical-align: top;\n",
       "    }\n",
       "\n",
       "    .dataframe thead th {\n",
       "        text-align: right;\n",
       "    }\n",
       "</style>\n",
       "<table border=\"1\" class=\"dataframe\">\n",
       "  <thead>\n",
       "    <tr style=\"text-align: right;\">\n",
       "      <th></th>\n",
       "      <th>X</th>\n",
       "      <th>Y</th>\n",
       "      <th>Z</th>\n",
       "      <th>G_x</th>\n",
       "      <th>G_y</th>\n",
       "      <th>G_z</th>\n",
       "      <th>dip</th>\n",
       "      <th>azimuth</th>\n",
       "      <th>polarity</th>\n",
       "      <th>formation</th>\n",
       "      <th>...</th>\n",
       "      <th>formation_number</th>\n",
       "      <th>order_series</th>\n",
       "      <th>isFault</th>\n",
       "      <th>annotations</th>\n",
       "      <th>formation_value</th>\n",
       "      <th>X_std</th>\n",
       "      <th>Y_std</th>\n",
       "      <th>Z_std</th>\n",
       "      <th>dip_std</th>\n",
       "      <th>azimuth_std</th>\n",
       "    </tr>\n",
       "  </thead>\n",
       "  <tbody>\n",
       "    <tr>\n",
       "      <th>0</th>\n",
       "      <td>732683.4690</td>\n",
       "      <td>6882332.75</td>\n",
       "      <td>481.711952</td>\n",
       "      <td>0.310842</td>\n",
       "      <td>-0.934464</td>\n",
       "      <td>0.173648</td>\n",
       "      <td>80.0</td>\n",
       "      <td>161.600709</td>\n",
       "      <td>1</td>\n",
       "      <td>EarlyGranite</td>\n",
       "      <td>...</td>\n",
       "      <td>1</td>\n",
       "      <td>1</td>\n",
       "      <td>False</td>\n",
       "      <td>${\\bf{x}}_{\\beta \\,{\\bf{1}},0}$</td>\n",
       "      <td>2.61</td>\n",
       "      <td>None</td>\n",
       "      <td>0</td>\n",
       "      <td>100</td>\n",
       "      <td>10</td>\n",
       "      <td>10</td>\n",
       "    </tr>\n",
       "    <tr>\n",
       "      <th>1</th>\n",
       "      <td>730627.5315</td>\n",
       "      <td>6880472.50</td>\n",
       "      <td>477.402658</td>\n",
       "      <td>0.844266</td>\n",
       "      <td>-0.507012</td>\n",
       "      <td>0.173648</td>\n",
       "      <td>80.0</td>\n",
       "      <td>120.986348</td>\n",
       "      <td>1</td>\n",
       "      <td>EarlyGranite</td>\n",
       "      <td>...</td>\n",
       "      <td>1</td>\n",
       "      <td>1</td>\n",
       "      <td>False</td>\n",
       "      <td>${\\bf{x}}_{\\beta \\,{\\bf{1}},1}$</td>\n",
       "      <td>2.61</td>\n",
       "      <td>None</td>\n",
       "      <td>0</td>\n",
       "      <td>100</td>\n",
       "      <td>10</td>\n",
       "      <td>10</td>\n",
       "    </tr>\n",
       "    <tr>\n",
       "      <th>2</th>\n",
       "      <td>728767.4065</td>\n",
       "      <td>6878759.25</td>\n",
       "      <td>470.031623</td>\n",
       "      <td>0.238570</td>\n",
       "      <td>-0.955474</td>\n",
       "      <td>0.173648</td>\n",
       "      <td>80.0</td>\n",
       "      <td>165.980598</td>\n",
       "      <td>1</td>\n",
       "      <td>EarlyGranite</td>\n",
       "      <td>...</td>\n",
       "      <td>1</td>\n",
       "      <td>1</td>\n",
       "      <td>False</td>\n",
       "      <td>${\\bf{x}}_{\\beta \\,{\\bf{1}},2}$</td>\n",
       "      <td>2.61</td>\n",
       "      <td>None</td>\n",
       "      <td>0</td>\n",
       "      <td>100</td>\n",
       "      <td>10</td>\n",
       "      <td>10</td>\n",
       "    </tr>\n",
       "    <tr>\n",
       "      <th>3</th>\n",
       "      <td>728571.5940</td>\n",
       "      <td>6879934.25</td>\n",
       "      <td>472.536776</td>\n",
       "      <td>-0.862410</td>\n",
       "      <td>0.475494</td>\n",
       "      <td>0.173648</td>\n",
       "      <td>80.0</td>\n",
       "      <td>298.870347</td>\n",
       "      <td>1</td>\n",
       "      <td>EarlyGranite</td>\n",
       "      <td>...</td>\n",
       "      <td>1</td>\n",
       "      <td>1</td>\n",
       "      <td>False</td>\n",
       "      <td>${\\bf{x}}_{\\beta \\,{\\bf{1}},3}$</td>\n",
       "      <td>2.61</td>\n",
       "      <td>None</td>\n",
       "      <td>0</td>\n",
       "      <td>100</td>\n",
       "      <td>10</td>\n",
       "      <td>10</td>\n",
       "    </tr>\n",
       "    <tr>\n",
       "      <th>4</th>\n",
       "      <td>729256.9065</td>\n",
       "      <td>6882724.50</td>\n",
       "      <td>471.722924</td>\n",
       "      <td>-0.982254</td>\n",
       "      <td>-0.070879</td>\n",
       "      <td>0.173648</td>\n",
       "      <td>80.0</td>\n",
       "      <td>265.872737</td>\n",
       "      <td>1</td>\n",
       "      <td>EarlyGranite</td>\n",
       "      <td>...</td>\n",
       "      <td>1</td>\n",
       "      <td>1</td>\n",
       "      <td>False</td>\n",
       "      <td>${\\bf{x}}_{\\beta \\,{\\bf{1}},4}$</td>\n",
       "      <td>2.61</td>\n",
       "      <td>None</td>\n",
       "      <td>0</td>\n",
       "      <td>100</td>\n",
       "      <td>10</td>\n",
       "      <td>10</td>\n",
       "    </tr>\n",
       "  </tbody>\n",
       "</table>\n",
       "<p>5 rows × 21 columns</p>\n",
       "</div>"
      ],
      "text/plain": [
       "             X           Y           Z       G_x       G_y       G_z   dip  \\\n",
       "0  732683.4690  6882332.75  481.711952  0.310842 -0.934464  0.173648  80.0   \n",
       "1  730627.5315  6880472.50  477.402658  0.844266 -0.507012  0.173648  80.0   \n",
       "2  728767.4065  6878759.25  470.031623  0.238570 -0.955474  0.173648  80.0   \n",
       "3  728571.5940  6879934.25  472.536776 -0.862410  0.475494  0.173648  80.0   \n",
       "4  729256.9065  6882724.50  471.722924 -0.982254 -0.070879  0.173648  80.0   \n",
       "\n",
       "      azimuth  polarity     formation     ...      formation_number  \\\n",
       "0  161.600709         1  EarlyGranite     ...                     1   \n",
       "1  120.986348         1  EarlyGranite     ...                     1   \n",
       "2  165.980598         1  EarlyGranite     ...                     1   \n",
       "3  298.870347         1  EarlyGranite     ...                     1   \n",
       "4  265.872737         1  EarlyGranite     ...                     1   \n",
       "\n",
       "   order_series  isFault                      annotations formation_value  \\\n",
       "0             1    False  ${\\bf{x}}_{\\beta \\,{\\bf{1}},0}$            2.61   \n",
       "1             1    False  ${\\bf{x}}_{\\beta \\,{\\bf{1}},1}$            2.61   \n",
       "2             1    False  ${\\bf{x}}_{\\beta \\,{\\bf{1}},2}$            2.61   \n",
       "3             1    False  ${\\bf{x}}_{\\beta \\,{\\bf{1}},3}$            2.61   \n",
       "4             1    False  ${\\bf{x}}_{\\beta \\,{\\bf{1}},4}$            2.61   \n",
       "\n",
       "   X_std Y_std  Z_std  dip_std  azimuth_std  \n",
       "0   None     0    100       10           10  \n",
       "1   None     0    100       10           10  \n",
       "2   None     0    100       10           10  \n",
       "3   None     0    100       10           10  \n",
       "4   None     0    100       10           10  \n",
       "\n",
       "[5 rows x 21 columns]"
      ]
     },
     "execution_count": 7,
     "metadata": {},
     "output_type": "execute_result"
    }
   ],
   "source": [
    "geo_data.interfaces['X_std'] = None\n",
    "geo_data.interfaces['Y_std'] = 0\n",
    "geo_data.interfaces['Z_std'] = 100\n",
    "\n",
    "geo_data.orientations['X_std'] = None\n",
    "geo_data.orientations['Y_std'] = 0\n",
    "geo_data.orientations['Z_std'] = 100\n",
    "\n",
    "geo_data.orientations['dip_std'] = 10\n",
    "geo_data.orientations['azimuth_std'] = 10\n",
    "geo_data.orientations.head()"
   ]
  },
  {
   "cell_type": "markdown",
   "metadata": {},
   "source": [
    "## Real gravity"
   ]
  },
  {
   "cell_type": "code",
   "execution_count": 9,
   "metadata": {},
   "outputs": [
    {
     "data": {
      "image/png": "[encoded data removed]",
      "text/plain": [
       "<matplotlib.figure.Figure at 0x7f0939e14cf8>"
      ]
     },
     "metadata": {},
     "output_type": "display_data"
    }
   ],
   "source": [
    "import matplotlib.pyplot as plt\n",
    "import pandas as pn\n",
    "grav_real = pn.read_csv('../input_data/Sst_grav_2000.xyz', header=None, names = ['X', 'Y', 'N', 'G'], delim_whitespace=True)\n",
    "plt.imshow(grav_real['G'].values.reshape(31,21), extent=[7.050000e+05,747000,6863000,6950000], origin='lower', cmap='viridis')\n",
    "fig = plt.gcf()\n",
    "fig.set_size_inches(18.5, 10.5)"
   ]
  },
  {
   "cell_type": "code",
   "execution_count": 10,
   "metadata": {},
   "outputs": [],
   "source": [
    "# Calibration parameters\n",
    "# F_min, F_max =  np.min(Forw), np.max(Forw)   #36.630742, 36.651496    #30.159309, 30.174104#\n",
    "# F_range = F_max - F_min\n",
    "# F_mid = 0.5*(F_max+F_min)\n",
    "\n",
    "rs_min, rs_max = np.min(grav_real['G']), np.max(grav_real['G'])\n",
    "rs_range = rs_max - rs_min\n",
    "rs_mid = 0.5*(rs_max+rs_min)\n",
    "\n",
    "#Rescaling\n",
    "\n",
    "# rs_mid + (grid - m_mid) / m_range * rs_range\n",
    "# Reescaled_forw = rs_mid + (Forw - F_mid) / F_range * rs_range"
   ]
  },
  {
   "cell_type": "code",
   "execution_count": 11,
   "metadata": {},
   "outputs": [],
   "source": [
    "import theano\n",
    "grav_real_mid = theano.shared(rs_mid, 'Grav_real_mid')\n",
    "grav_real_range = theano.shared(rs_range, 'Grav_real_range')\n",
    "grav_real_th = theano.shared(grav_real['G'].as_matrix())"
   ]
  },
  {
   "cell_type": "code",
   "execution_count": 12,
   "metadata": {},
   "outputs": [
    {
     "data": {
      "text/plain": [
       "(651,)"
      ]
     },
     "execution_count": 12,
     "metadata": {},
     "output_type": "execute_result"
    }
   ],
   "source": [
    "grav_real_th.get_value().shape"
   ]
  },
  {
   "cell_type": "code",
   "execution_count": 13,
   "metadata": {},
   "outputs": [],
   "source": [
    "# input_data_T = interp_data.interpolator.tg.input_parameters_list()\n",
    "# input_data_P = interp_data.get_input_data(u_grade=[3, 3])\n",
    "# select = interp_data.interpolator.pandas_rest_layer_points['formation'] == 'Reservoir'"
   ]
  },
  {
   "cell_type": "code",
   "execution_count": 14,
   "metadata": {
    "scrolled": false
   },
   "outputs": [
    {
     "data": {
      "text/plain": [
       "(array([[  4.38731560e-04,   4.01484841e-04,   3.59367023e-04, ...,\n",
       "           1.48898222e-04,   8.87480008e-05,   2.72122954e-05],\n",
       "        [  4.38731560e-04,   4.01484841e-04,   3.59367023e-04, ...,\n",
       "           1.48898222e-04,   8.87480008e-05,   2.72122954e-05],\n",
       "        [  4.38731560e-04,   4.01484841e-04,   3.59367023e-04, ...,\n",
       "           1.48898222e-04,   8.87480008e-05,   2.72122954e-05],\n",
       "        ..., \n",
       "        [  4.38731560e-04,   4.01484841e-04,   3.59367023e-04, ...,\n",
       "           1.48898222e-04,   8.87480008e-05,   2.72122954e-05],\n",
       "        [  4.38731560e-04,   4.01484841e-04,   3.59367023e-04, ...,\n",
       "           1.48898222e-04,   8.87480008e-05,   2.72122954e-05],\n",
       "        [  4.38731560e-04,   4.01484841e-04,   3.59367023e-04, ...,\n",
       "           1.48898222e-04,   8.87480008e-05,   2.72122954e-05]]),\n",
       " array([False, False, False, ..., False, False, False], dtype=bool))"
      ]
     },
     "execution_count": 14,
     "metadata": {},
     "output_type": "execute_result"
    }
   ],
   "source": [
    "interp_data_grav = gp.InterpolatorData(geo_data, output='gravity',\n",
    "                                       compile_theano=False, dtype='float64',\n",
    "                                       theano_optimizer='fast_compile',\n",
    "                                       u_grade=[1,1,1], verbose=[])\n",
    "\n",
    "gp.set_geophysics_obj(interp_data_grav,  [7.050000e+05,747000,6863000,6925000,-20000, 200],\n",
    "                                             [31,21])\n",
    "\n",
    "gp.precomputations_gravity(interp_data_grav, 25, \n",
    "                           [2.92, 3.1, 2.92, 2.61, 2.61])"
   ]
  },
  {
   "cell_type": "code",
   "execution_count": 15,
   "metadata": {},
   "outputs": [
    {
     "data": {
      "text/plain": [
       "array([[ 0.31239727,  0.26427238,  0.43420065],\n",
       "       [ 0.31239727,  0.26427238,  0.43875562],\n",
       "       [ 0.31239727,  0.26427238,  0.44331059],\n",
       "       ..., \n",
       "       [ 0.83564421,  1.08633658,  0.55718491],\n",
       "       [ 0.83564421,  1.08633658,  0.56173988],\n",
       "       [ 0.83564421,  1.08633658,  0.56629485]])"
      ]
     },
     "execution_count": 15,
     "metadata": {},
     "output_type": "execute_result"
    }
   ],
   "source": [
    "interp_data_grav.geo_data_res.x_to_interp_given"
   ]
  },
  {
   "cell_type": "code",
   "execution_count": null,
   "metadata": {},
   "outputs": [],
   "source": []
  },
  {
   "cell_type": "code",
   "execution_count": null,
   "metadata": {},
   "outputs": [],
   "source": []
  },
  {
   "cell_type": "code",
   "execution_count": 16,
   "metadata": {},
   "outputs": [],
   "source": [
    "#a,b = gp.precomputations_gravity(interp_data_grav, 24, [2.92, 3.1, 2.92, 2.61, 2.61])"
   ]
  },
  {
   "cell_type": "code",
   "execution_count": 17,
   "metadata": {
    "run_control": {
     "marked": true
    }
   },
   "outputs": [],
   "source": [
    "#sol[0][1]"
   ]
  },
  {
   "cell_type": "code",
   "execution_count": 18,
   "metadata": {
    "scrolled": false
   },
   "outputs": [
    {
     "name": "stdout",
     "output_type": "stream",
     "text": [
      "Compiling theano function...\n",
      "Compilation Done!\n",
      "Level of Optimization:  fast_compile\n",
      "Device:  cpu\n",
      "Precision:  float64\n",
      "Number of faults:  0\n",
      "density block __str__ = [ 2.61  2.61  2.61 ...,  2.61  2.61  2.61]\n"
     ]
    }
   ],
   "source": [
    "#theano.config.compute_test_value = 'off'\n",
    "\n",
    "sol = gp.compute_model(interp_data_grav, output='gravity')"
   ]
  },
  {
   "cell_type": "code",
   "execution_count": 17,
   "metadata": {
    "scrolled": false
   },
   "outputs": [
    {
     "name": "stdout",
     "output_type": "stream",
     "text": [
      "[[ 2.61        2.61        2.61       ...,  2.61        2.61        2.61      ]\n",
      " [ 2.61        2.61        2.61       ...,  2.61        2.61        2.61      ]\n",
      " [ 2.61        2.61        2.61       ...,  2.61        2.61        2.61      ]\n",
      " ..., \n",
      " [ 2.61        2.61        2.61       ...,  3.0994998   3.09950877\n",
      "   3.09952532]\n",
      " [ 2.61        2.61        2.61       ...,  3.09979512  3.09979937\n",
      "   3.09980669]\n",
      " [ 2.61        2.61        2.61       ...,  3.09991573  3.09991772\n",
      "   3.09992095]] <class 'numpy.ndarray'>\n"
     ]
    },
    {
     "data": {
      "application/javascript": [
       "/* Put everything inside the global mpl namespace */\n",
       "window.mpl = {};\n",
       "\n",
       "\n",
       "mpl.get_websocket_type = function() {\n",
       "    if (typeof(WebSocket) !== 'undefined') {\n",
       "        return WebSocket;\n",
       "    } else if (typeof(MozWebSocket) !== 'undefined') {\n",
       "        return MozWebSocket;\n",
       "    } else {\n",
       "        alert('Your browser does not have WebSocket support.' +\n",
       "              'Please try Chrome, Safari or Firefox ≥ 6. ' +\n",
       "              'Firefox 4 and 5 are also supported but you ' +\n",
       "              'have to enable WebSockets in about:config.');\n",
       "    };\n",
       "}\n",
       "\n",
       "mpl.figure = function(figure_id, websocket, ondownload, parent_element) {\n",
       "    this.id = figure_id;\n",
       "\n",
       "    this.ws = websocket;\n",
       "\n",
       "    this.supports_binary = (this.ws.binaryType != undefined);\n",
       "\n",
       "    if (!this.supports_binary) {\n",
       "        var warnings = document.getElementById(\"mpl-warnings\");\n",
       "        if (warnings) {\n",
       "            warnings.style.display = 'block';\n",
       "            warnings.textContent = (\n",
       "                \"This browser does not support binary websocket messages. \" +\n",
       "                    \"Performance may be slow.\");\n",
       "        }\n",
       "    }\n",
       "\n",
       "    this.imageObj = new Image();\n",
       "\n",
       "    this.context = undefined;\n",
       "    this.message = undefined;\n",
       "    this.canvas = undefined;\n",
       "    this.rubberband_canvas = undefined;\n",
       "    this.rubberband_context = undefined;\n",
       "    this.format_dropdown = undefined;\n",
       "\n",
       "    this.image_mode = 'full';\n",
       "\n",
       "    this.root = $('<div/>');\n",
       "    this._root_extra_style(this.root)\n",
       "    this.root.attr('style', 'display: inline-block');\n",
       "\n",
       "    $(parent_element).append(this.root);\n",
       "\n",
       "    this._init_header(this);\n",
       "    this._init_canvas(this);\n",
       "    this._init_toolbar(this);\n",
       "\n",
       "    var fig = this;\n",
       "\n",
       "    this.waiting = false;\n",
       "\n",
       "    this.ws.onopen =  function () {\n",
       "            fig.send_message(\"supports_binary\", {value: fig.supports_binary});\n",
       "            fig.send_message(\"send_image_mode\", {});\n",
       "            if (mpl.ratio != 1) {\n",
       "                fig.send_message(\"set_dpi_ratio\", {'dpi_ratio': mpl.ratio});\n",
       "            }\n",
       "            fig.send_message(\"refresh\", {});\n",
       "        }\n",
       "\n",
       "    this.imageObj.onload = function() {\n",
       "            if (fig.image_mode == 'full') {\n",
       "                // Full images could contain transparency (where diff images\n",
       "                // almost always do), so we need to clear the canvas so that\n",
       "                // there is no ghosting.\n",
       "                fig.context.clearRect(0, 0, fig.canvas.width, fig.canvas.height);\n",
       "            }\n",
       "            fig.context.drawImage(fig.imageObj, 0, 0);\n",
       "        };\n",
       "\n",
       "    this.imageObj.onunload = function() {\n",
       "        fig.ws.close();\n",
       "    }\n",
       "\n",
       "    this.ws.onmessage = this._make_on_message_function(this);\n",
       "\n",
       "    this.ondownload = ondownload;\n",
       "}\n",
       "\n",
       "mpl.figure.prototype._init_header = function() {\n",
       "    var titlebar = $(\n",
       "        '<div class=\"ui-dialog-titlebar ui-widget-header ui-corner-all ' +\n",
       "        'ui-helper-clearfix\"/>');\n",
       "    var titletext = $(\n",
       "        '<div class=\"ui-dialog-title\" style=\"width: 100%; ' +\n",
       "        'text-align: center; padding: 3px;\"/>');\n",
       "    titlebar.append(titletext)\n",
       "    this.root.append(titlebar);\n",
       "    this.header = titletext[0];\n",
       "}\n",
       "\n",
       "\n",
       "\n",
       "mpl.figure.prototype._canvas_extra_style = function(canvas_div) {\n",
       "\n",
       "}\n",
       "\n",
       "\n",
       "mpl.figure.prototype._root_extra_style = function(canvas_div) {\n",
       "\n",
       "}\n",
       "\n",
       "mpl.figure.prototype._init_canvas = function() {\n",
       "    var fig = this;\n",
       "\n",
       "    var canvas_div = $('<div/>');\n",
       "\n",
       "    canvas_div.attr('style', 'position: relative; clear: both; outline: 0');\n",
       "\n",
       "    function canvas_keyboard_event(event) {\n",
       "        return fig.key_event(event, event['data']);\n",
       "    }\n",
       "\n",
       "    canvas_div.keydown('key_press', canvas_keyboard_event);\n",
       "    canvas_div.keyup('key_release', canvas_keyboard_event);\n",
       "    this.canvas_div = canvas_div\n",
       "    this._canvas_extra_style(canvas_div)\n",
       "    this.root.append(canvas_div);\n",
       "\n",
       "    var canvas = $('<canvas/>');\n",
       "    canvas.addClass('mpl-canvas');\n",
       "    canvas.attr('style', \"left: 0; top: 0; z-index: 0; outline: 0\")\n",
       "\n",
       "    this.canvas = canvas[0];\n",
       "    this.context = canvas[0].getContext(\"2d\");\n",
       "\n",
       "    var backingStore = this.context.backingStorePixelRatio ||\n",
       "\tthis.context.webkitBackingStorePixelRatio ||\n",
       "\tthis.context.mozBackingStorePixelRatio ||\n",
       "\tthis.context.msBackingStorePixelRatio ||\n",
       "\tthis.context.oBackingStorePixelRatio ||\n",
       "\tthis.context.backingStorePixelRatio || 1;\n",
       "\n",
       "    mpl.ratio = (window.devicePixelRatio || 1) / backingStore;\n",
       "\n",
       "    var rubberband = $('<canvas/>');\n",
       "    rubberband.attr('style', \"position: absolute; left: 0; top: 0; z-index: 1;\")\n",
       "\n",
       "    var pass_mouse_events = true;\n",
       "\n",
       "    canvas_div.resizable({\n",
       "        start: function(event, ui) {\n",
       "            pass_mouse_events = false;\n",
       "        },\n",
       "        resize: function(event, ui) {\n",
       "            fig.request_resize(ui.size.width, ui.size.height);\n",
       "        },\n",
       "        stop: function(event, ui) {\n",
       "            pass_mouse_events = true;\n",
       "            fig.request_resize(ui.size.width, ui.size.height);\n",
       "        },\n",
       "    });\n",
       "\n",
       "    function mouse_event_fn(event) {\n",
       "        if (pass_mouse_events)\n",
       "            return fig.mouse_event(event, event['data']);\n",
       "    }\n",
       "\n",
       "    rubberband.mousedown('button_press', mouse_event_fn);\n",
       "    rubberband.mouseup('button_release', mouse_event_fn);\n",
       "    // Throttle sequential mouse events to 1 every 20ms.\n",
       "    rubberband.mousemove('motion_notify', mouse_event_fn);\n",
       "\n",
       "    rubberband.mouseenter('figure_enter', mouse_event_fn);\n",
       "    rubberband.mouseleave('figure_leave', mouse_event_fn);\n",
       "\n",
       "    canvas_div.on(\"wheel\", function (event) {\n",
       "        event = event.originalEvent;\n",
       "        event['data'] = 'scroll'\n",
       "        if (event.deltaY < 0) {\n",
       "            event.step = 1;\n",
       "        } else {\n",
       "            event.step = -1;\n",
       "        }\n",
       "        mouse_event_fn(event);\n",
       "    });\n",
       "\n",
       "    canvas_div.append(canvas);\n",
       "    canvas_div.append(rubberband);\n",
       "\n",
       "    this.rubberband = rubberband;\n",
       "    this.rubberband_canvas = rubberband[0];\n",
       "    this.rubberband_context = rubberband[0].getContext(\"2d\");\n",
       "    this.rubberband_context.strokeStyle = \"#000000\";\n",
       "\n",
       "    this._resize_canvas = function(width, height) {\n",
       "        // Keep the size of the canvas, canvas container, and rubber band\n",
       "        // canvas in synch.\n",
       "        canvas_div.css('width', width)\n",
       "        canvas_div.css('height', height)\n",
       "\n",
       "        canvas.attr('width', width * mpl.ratio);\n",
       "        canvas.attr('height', height * mpl.ratio);\n",
       "        canvas.attr('style', 'width: ' + width + 'px; height: ' + height + 'px;');\n",
       "\n",
       "        rubberband.attr('width', width);\n",
       "        rubberband.attr('height', height);\n",
       "    }\n",
       "\n",
       "    // Set the figure to an initial 600x600px, this will subsequently be updated\n",
       "    // upon first draw.\n",
       "    this._resize_canvas(600, 600);\n",
       "\n",
       "    // Disable right mouse context menu.\n",
       "    $(this.rubberband_canvas).bind(\"contextmenu\",function(e){\n",
       "        return false;\n",
       "    });\n",
       "\n",
       "    function set_focus () {\n",
       "        canvas.focus();\n",
       "        canvas_div.focus();\n",
       "    }\n",
       "\n",
       "    window.setTimeout(set_focus, 100);\n",
       "}\n",
       "\n",
       "mpl.figure.prototype._init_toolbar = function() {\n",
       "    var fig = this;\n",
       "\n",
       "    var nav_element = $('<div/>')\n",
       "    nav_element.attr('style', 'width: 100%');\n",
       "    this.root.append(nav_element);\n",
       "\n",
       "    // Define a callback function for later on.\n",
       "    function toolbar_event(event) {\n",
       "        return fig.toolbar_button_onclick(event['data']);\n",
       "    }\n",
       "    function toolbar_mouse_event(event) {\n",
       "        return fig.toolbar_button_onmouseover(event['data']);\n",
       "    }\n",
       "\n",
       "    for(var toolbar_ind in mpl.toolbar_items) {\n",
       "        var name = mpl.toolbar_items[toolbar_ind][0];\n",
       "        var tooltip = mpl.toolbar_items[toolbar_ind][1];\n",
       "        var image = mpl.toolbar_items[toolbar_ind][2];\n",
       "        var method_name = mpl.toolbar_items[toolbar_ind][3];\n",
       "\n",
       "        if (!name) {\n",
       "            // put a spacer in here.\n",
       "            continue;\n",
       "        }\n",
       "        var button = $('<button/>');\n",
       "        button.addClass('ui-button ui-widget ui-state-default ui-corner-all ' +\n",
       "                        'ui-button-icon-only');\n",
       "        button.attr('role', 'button');\n",
       "        button.attr('aria-disabled', 'false');\n",
       "        button.click(method_name, toolbar_event);\n",
       "        button.mouseover(tooltip, toolbar_mouse_event);\n",
       "\n",
       "        var icon_img = $('<span/>');\n",
       "        icon_img.addClass('ui-button-icon-primary ui-icon');\n",
       "        icon_img.addClass(image);\n",
       "        icon_img.addClass('ui-corner-all');\n",
       "\n",
       "        var tooltip_span = $('<span/>');\n",
       "        tooltip_span.addClass('ui-button-text');\n",
       "        tooltip_span.html(tooltip);\n",
       "\n",
       "        button.append(icon_img);\n",
       "        button.append(tooltip_span);\n",
       "\n",
       "        nav_element.append(button);\n",
       "    }\n",
       "\n",
       "    var fmt_picker_span = $('<span/>');\n",
       "\n",
       "    var fmt_picker = $('<select/>');\n",
       "    fmt_picker.addClass('mpl-toolbar-option ui-widget ui-widget-content');\n",
       "    fmt_picker_span.append(fmt_picker);\n",
       "    nav_element.append(fmt_picker_span);\n",
       "    this.format_dropdown = fmt_picker[0];\n",
       "\n",
       "    for (var ind in mpl.extensions) {\n",
       "        var fmt = mpl.extensions[ind];\n",
       "        var option = $(\n",
       "            '<option/>', {selected: fmt === mpl.default_extension}).html(fmt);\n",
       "        fmt_picker.append(option)\n",
       "    }\n",
       "\n",
       "    // Add hover states to the ui-buttons\n",
       "    $( \".ui-button\" ).hover(\n",
       "        function() { $(this).addClass(\"ui-state-hover\");},\n",
       "        function() { $(this).removeClass(\"ui-state-hover\");}\n",
       "    );\n",
       "\n",
       "    var status_bar = $('<span class=\"mpl-message\"/>');\n",
       "    nav_element.append(status_bar);\n",
       "    this.message = status_bar[0];\n",
       "}\n",
       "\n",
       "mpl.figure.prototype.request_resize = function(x_pixels, y_pixels) {\n",
       "    // Request matplotlib to resize the figure. Matplotlib will then trigger a resize in the client,\n",
       "    // which will in turn request a refresh of the image.\n",
       "    this.send_message('resize', {'width': x_pixels, 'height': y_pixels});\n",
       "}\n",
       "\n",
       "mpl.figure.prototype.send_message = function(type, properties) {\n",
       "    properties['type'] = type;\n",
       "    properties['figure_id'] = this.id;\n",
       "    this.ws.send(JSON.stringify(properties));\n",
       "}\n",
       "\n",
       "mpl.figure.prototype.send_draw_message = function() {\n",
       "    if (!this.waiting) {\n",
       "        this.waiting = true;\n",
       "        this.ws.send(JSON.stringify({type: \"draw\", figure_id: this.id}));\n",
       "    }\n",
       "}\n",
       "\n",
       "\n",
       "mpl.figure.prototype.handle_save = function(fig, msg) {\n",
       "    var format_dropdown = fig.format_dropdown;\n",
       "    var format = format_dropdown.options[format_dropdown.selectedIndex].value;\n",
       "    fig.ondownload(fig, format);\n",
       "}\n",
       "\n",
       "\n",
       "mpl.figure.prototype.handle_resize = function(fig, msg) {\n",
       "    var size = msg['size'];\n",
       "    if (size[0] != fig.canvas.width || size[1] != fig.canvas.height) {\n",
       "        fig._resize_canvas(size[0], size[1]);\n",
       "        fig.send_message(\"refresh\", {});\n",
       "    };\n",
       "}\n",
       "\n",
       "mpl.figure.prototype.handle_rubberband = function(fig, msg) {\n",
       "    var x0 = msg['x0'] / mpl.ratio;\n",
       "    var y0 = (fig.canvas.height - msg['y0']) / mpl.ratio;\n",
       "    var x1 = msg['x1'] / mpl.ratio;\n",
       "    var y1 = (fig.canvas.height - msg['y1']) / mpl.ratio;\n",
       "    x0 = Math.floor(x0) + 0.5;\n",
       "    y0 = Math.floor(y0) + 0.5;\n",
       "    x1 = Math.floor(x1) + 0.5;\n",
       "    y1 = Math.floor(y1) + 0.5;\n",
       "    var min_x = Math.min(x0, x1);\n",
       "    var min_y = Math.min(y0, y1);\n",
       "    var width = Math.abs(x1 - x0);\n",
       "    var height = Math.abs(y1 - y0);\n",
       "\n",
       "    fig.rubberband_context.clearRect(\n",
       "        0, 0, fig.canvas.width, fig.canvas.height);\n",
       "\n",
       "    fig.rubberband_context.strokeRect(min_x, min_y, width, height);\n",
       "}\n",
       "\n",
       "mpl.figure.prototype.handle_figure_label = function(fig, msg) {\n",
       "    // Updates the figure title.\n",
       "    fig.header.textContent = msg['label'];\n",
       "}\n",
       "\n",
       "mpl.figure.prototype.handle_cursor = function(fig, msg) {\n",
       "    var cursor = msg['cursor'];\n",
       "    switch(cursor)\n",
       "    {\n",
       "    case 0:\n",
       "        cursor = 'pointer';\n",
       "        break;\n",
       "    case 1:\n",
       "        cursor = 'default';\n",
       "        break;\n",
       "    case 2:\n",
       "        cursor = 'crosshair';\n",
       "        break;\n",
       "    case 3:\n",
       "        cursor = 'move';\n",
       "        break;\n",
       "    }\n",
       "    fig.rubberband_canvas.style.cursor = cursor;\n",
       "}\n",
       "\n",
       "mpl.figure.prototype.handle_message = function(fig, msg) {\n",
       "    fig.message.textContent = msg['message'];\n",
       "}\n",
       "\n",
       "mpl.figure.prototype.handle_draw = function(fig, msg) {\n",
       "    // Request the server to send over a new figure.\n",
       "    fig.send_draw_message();\n",
       "}\n",
       "\n",
       "mpl.figure.prototype.handle_image_mode = function(fig, msg) {\n",
       "    fig.image_mode = msg['mode'];\n",
       "}\n",
       "\n",
       "mpl.figure.prototype.updated_canvas_event = function() {\n",
       "    // Called whenever the canvas gets updated.\n",
       "    this.send_message(\"ack\", {});\n",
       "}\n",
       "\n",
       "// A function to construct a web socket function for onmessage handling.\n",
       "// Called in the figure constructor.\n",
       "mpl.figure.prototype._make_on_message_function = function(fig) {\n",
       "    return function socket_on_message(evt) {\n",
       "        if (evt.data instanceof Blob) {\n",
       "            /* FIXME: We get \"Resource interpreted as Image but\n",
       "             * transferred with MIME type text/plain:\" errors on\n",
       "             * Chrome.  But how to set the MIME type?  It doesn't seem\n",
       "             * to be part of the websocket stream */\n",
       "            evt.data.type = \"image/png\";\n",
       "\n",
       "            /* Free the memory for the previous frames */\n",
       "            if (fig.imageObj.src) {\n",
       "                (window.URL || window.webkitURL).revokeObjectURL(\n",
       "                    fig.imageObj.src);\n",
       "            }\n",
       "\n",
       "            fig.imageObj.src = (window.URL || window.webkitURL).createObjectURL(\n",
       "                evt.data);\n",
       "            fig.updated_canvas_event();\n",
       "            fig.waiting = false;\n",
       "            return;\n",
       "        }\n",
       "        else if (typeof evt.data === 'string' && evt.data.slice(0, 21) == \"data:image/png;base64\") {\n",
       "            fig.imageObj.src = evt.data;\n",
       "            fig.updated_canvas_event();\n",
       "            fig.waiting = false;\n",
       "            return;\n",
       "        }\n",
       "\n",
       "        var msg = JSON.parse(evt.data);\n",
       "        var msg_type = msg['type'];\n",
       "\n",
       "        // Call the  \"handle_{type}\" callback, which takes\n",
       "        // the figure and JSON message as its only arguments.\n",
       "        try {\n",
       "            var callback = fig[\"handle_\" + msg_type];\n",
       "        } catch (e) {\n",
       "            console.log(\"No handler for the '\" + msg_type + \"' message type: \", msg);\n",
       "            return;\n",
       "        }\n",
       "\n",
       "        if (callback) {\n",
       "            try {\n",
       "                // console.log(\"Handling '\" + msg_type + \"' message: \", msg);\n",
       "                callback(fig, msg);\n",
       "            } catch (e) {\n",
       "                console.log(\"Exception inside the 'handler_\" + msg_type + \"' callback:\", e, e.stack, msg);\n",
       "            }\n",
       "        }\n",
       "    };\n",
       "}\n",
       "\n",
       "// from http://stackoverflow.com/questions/1114465/getting-mouse-location-in-canvas\n",
       "mpl.findpos = function(e) {\n",
       "    //this section is from http://www.quirksmode.org/js/events_properties.html\n",
       "    var targ;\n",
       "    if (!e)\n",
       "        e = window.event;\n",
       "    if (e.target)\n",
       "        targ = e.target;\n",
       "    else if (e.srcElement)\n",
       "        targ = e.srcElement;\n",
       "    if (targ.nodeType == 3) // defeat Safari bug\n",
       "        targ = targ.parentNode;\n",
       "\n",
       "    // jQuery normalizes the pageX and pageY\n",
       "    // pageX,Y are the mouse positions relative to the document\n",
       "    // offset() returns the position of the element relative to the document\n",
       "    var x = e.pageX - $(targ).offset().left;\n",
       "    var y = e.pageY - $(targ).offset().top;\n",
       "\n",
       "    return {\"x\": x, \"y\": y};\n",
       "};\n",
       "\n",
       "/*\n",
       " * return a copy of an object with only non-object keys\n",
       " * we need this to avoid circular references\n",
       " * http://stackoverflow.com/a/24161582/3208463\n",
       " */\n",
       "function simpleKeys (original) {\n",
       "  return Object.keys(original).reduce(function (obj, key) {\n",
       "    if (typeof original[key] !== 'object')\n",
       "        obj[key] = original[key]\n",
       "    return obj;\n",
       "  }, {});\n",
       "}\n",
       "\n",
       "mpl.figure.prototype.mouse_event = function(event, name) {\n",
       "    var canvas_pos = mpl.findpos(event)\n",
       "\n",
       "    if (name === 'button_press')\n",
       "    {\n",
       "        this.canvas.focus();\n",
       "        this.canvas_div.focus();\n",
       "    }\n",
       "\n",
       "    var x = canvas_pos.x * mpl.ratio;\n",
       "    var y = canvas_pos.y * mpl.ratio;\n",
       "\n",
       "    this.send_message(name, {x: x, y: y, button: event.button,\n",
       "                             step: event.step,\n",
       "                             guiEvent: simpleKeys(event)});\n",
       "\n",
       "    /* This prevents the web browser from automatically changing to\n",
       "     * the text insertion cursor when the button is pressed.  We want\n",
       "     * to control all of the cursor setting manually through the\n",
       "     * 'cursor' event from matplotlib */\n",
       "    event.preventDefault();\n",
       "    return false;\n",
       "}\n",
       "\n",
       "mpl.figure.prototype._key_event_extra = function(event, name) {\n",
       "    // Handle any extra behaviour associated with a key event\n",
       "}\n",
       "\n",
       "mpl.figure.prototype.key_event = function(event, name) {\n",
       "\n",
       "    // Prevent repeat events\n",
       "    if (name == 'key_press')\n",
       "    {\n",
       "        if (event.which === this._key)\n",
       "            return;\n",
       "        else\n",
       "            this._key = event.which;\n",
       "    }\n",
       "    if (name == 'key_release')\n",
       "        this._key = null;\n",
       "\n",
       "    var value = '';\n",
       "    if (event.ctrlKey && event.which != 17)\n",
       "        value += \"ctrl+\";\n",
       "    if (event.altKey && event.which != 18)\n",
       "        value += \"alt+\";\n",
       "    if (event.shiftKey && event.which != 16)\n",
       "        value += \"shift+\";\n",
       "\n",
       "    value += 'k';\n",
       "    value += event.which.toString();\n",
       "\n",
       "    this._key_event_extra(event, name);\n",
       "\n",
       "    this.send_message(name, {key: value,\n",
       "                             guiEvent: simpleKeys(event)});\n",
       "    return false;\n",
       "}\n",
       "\n",
       "mpl.figure.prototype.toolbar_button_onclick = function(name) {\n",
       "    if (name == 'download') {\n",
       "        this.handle_save(this, null);\n",
       "    } else {\n",
       "        this.send_message(\"toolbar_button\", {name: name});\n",
       "    }\n",
       "};\n",
       "\n",
       "mpl.figure.prototype.toolbar_button_onmouseover = function(tooltip) {\n",
       "    this.message.textContent = tooltip;\n",
       "};\n",
       "mpl.toolbar_items = [[\"Home\", \"Reset original view\", \"fa fa-home icon-home\", \"home\"], [\"Back\", \"Back to  previous view\", \"fa fa-arrow-left icon-arrow-left\", \"back\"], [\"Forward\", \"Forward to next view\", \"fa fa-arrow-right icon-arrow-right\", \"forward\"], [\"\", \"\", \"\", \"\"], [\"Pan\", \"Pan axes with left mouse, zoom with right\", \"fa fa-arrows icon-move\", \"pan\"], [\"Zoom\", \"Zoom to rectangle\", \"fa fa-square-o icon-check-empty\", \"zoom\"], [\"\", \"\", \"\", \"\"], [\"Download\", \"Download plot\", \"fa fa-floppy-o icon-save\", \"download\"]];\n",
       "\n",
       "mpl.extensions = [\"eps\", \"jpeg\", \"pdf\", \"png\", \"ps\", \"raw\", \"svg\", \"tif\"];\n",
       "\n",
       "mpl.default_extension = \"png\";var comm_websocket_adapter = function(comm) {\n",
       "    // Create a \"websocket\"-like object which calls the given IPython comm\n",
       "    // object with the appropriate methods. Currently this is a non binary\n",
       "    // socket, so there is still some room for performance tuning.\n",
       "    var ws = {};\n",
       "\n",
       "    ws.close = function() {\n",
       "        comm.close()\n",
       "    };\n",
       "    ws.send = function(m) {\n",
       "        //console.log('sending', m);\n",
       "        comm.send(m);\n",
       "    };\n",
       "    // Register the callback with on_msg.\n",
       "    comm.on_msg(function(msg) {\n",
       "        //console.log('receiving', msg['content']['data'], msg);\n",
       "        // Pass the mpl event to the overriden (by mpl) onmessage function.\n",
       "        ws.onmessage(msg['content']['data'])\n",
       "    });\n",
       "    return ws;\n",
       "}\n",
       "\n",
       "mpl.mpl_figure_comm = function(comm, msg) {\n",
       "    // This is the function which gets called when the mpl process\n",
       "    // starts-up an IPython Comm through the \"matplotlib\" channel.\n",
       "\n",
       "    var id = msg.content.data.id;\n",
       "    // Get hold of the div created by the display call when the Comm\n",
       "    // socket was opened in Python.\n",
       "    var element = $(\"#\" + id);\n",
       "    var ws_proxy = comm_websocket_adapter(comm)\n",
       "\n",
       "    function ondownload(figure, format) {\n",
       "        window.open(figure.imageObj.src);\n",
       "    }\n",
       "\n",
       "    var fig = new mpl.figure(id, ws_proxy,\n",
       "                           ondownload,\n",
       "                           element.get(0));\n",
       "\n",
       "    // Call onopen now - mpl needs it, as it is assuming we've passed it a real\n",
       "    // web socket which is closed, not our websocket->open comm proxy.\n",
       "    ws_proxy.onopen();\n",
       "\n",
       "    fig.parent_element = element.get(0);\n",
       "    fig.cell_info = mpl.find_output_cell(\"<div id='\" + id + \"'></div>\");\n",
       "    if (!fig.cell_info) {\n",
       "        console.error(\"Failed to find cell for figure\", id, fig);\n",
       "        return;\n",
       "    }\n",
       "\n",
       "    var output_index = fig.cell_info[2]\n",
       "    var cell = fig.cell_info[0];\n",
       "\n",
       "};\n",
       "\n",
       "mpl.figure.prototype.handle_close = function(fig, msg) {\n",
       "    var width = fig.canvas.width/mpl.ratio\n",
       "    fig.root.unbind('remove')\n",
       "\n",
       "    // Update the output cell to use the data from the current canvas.\n",
       "    fig.push_to_output();\n",
       "    var dataURL = fig.canvas.toDataURL();\n",
       "    // Re-enable the keyboard manager in IPython - without this line, in FF,\n",
       "    // the notebook keyboard shortcuts fail.\n",
       "    IPython.keyboard_manager.enable()\n",
       "    $(fig.parent_element).html('<img src=\"' + dataURL + '\" width=\"' + width + '\">');\n",
       "    fig.close_ws(fig, msg);\n",
       "}\n",
       "\n",
       "mpl.figure.prototype.close_ws = function(fig, msg){\n",
       "    fig.send_message('closing', msg);\n",
       "    // fig.ws.close()\n",
       "}\n",
       "\n",
       "mpl.figure.prototype.push_to_output = function(remove_interactive) {\n",
       "    // Turn the data on the canvas into data in the output cell.\n",
       "    var width = this.canvas.width/mpl.ratio\n",
       "    var dataURL = this.canvas.toDataURL();\n",
       "    this.cell_info[1]['text/html'] = '<img src=\"' + dataURL + '\" width=\"' + width + '\">';\n",
       "}\n",
       "\n",
       "mpl.figure.prototype.updated_canvas_event = function() {\n",
       "    // Tell IPython that the notebook contents must change.\n",
       "    IPython.notebook.set_dirty(true);\n",
       "    this.send_message(\"ack\", {});\n",
       "    var fig = this;\n",
       "    // Wait a second, then push the new image to the DOM so\n",
       "    // that it is saved nicely (might be nice to debounce this).\n",
       "    setTimeout(function () { fig.push_to_output() }, 1000);\n",
       "}\n",
       "\n",
       "mpl.figure.prototype._init_toolbar = function() {\n",
       "    var fig = this;\n",
       "\n",
       "    var nav_element = $('<div/>')\n",
       "    nav_element.attr('style', 'width: 100%');\n",
       "    this.root.append(nav_element);\n",
       "\n",
       "    // Define a callback function for later on.\n",
       "    function toolbar_event(event) {\n",
       "        return fig.toolbar_button_onclick(event['data']);\n",
       "    }\n",
       "    function toolbar_mouse_event(event) {\n",
       "        return fig.toolbar_button_onmouseover(event['data']);\n",
       "    }\n",
       "\n",
       "    for(var toolbar_ind in mpl.toolbar_items){\n",
       "        var name = mpl.toolbar_items[toolbar_ind][0];\n",
       "        var tooltip = mpl.toolbar_items[toolbar_ind][1];\n",
       "        var image = mpl.toolbar_items[toolbar_ind][2];\n",
       "        var method_name = mpl.toolbar_items[toolbar_ind][3];\n",
       "\n",
       "        if (!name) { continue; };\n",
       "\n",
       "        var button = $('<button class=\"btn btn-default\" href=\"#\" title=\"' + name + '\"><i class=\"fa ' + image + ' fa-lg\"></i></button>');\n",
       "        button.click(method_name, toolbar_event);\n",
       "        button.mouseover(tooltip, toolbar_mouse_event);\n",
       "        nav_element.append(button);\n",
       "    }\n",
       "\n",
       "    // Add the status bar.\n",
       "    var status_bar = $('<span class=\"mpl-message\" style=\"text-align:right; float: right;\"/>');\n",
       "    nav_element.append(status_bar);\n",
       "    this.message = status_bar[0];\n",
       "\n",
       "    // Add the close button to the window.\n",
       "    var buttongrp = $('<div class=\"btn-group inline pull-right\"></div>');\n",
       "    var button = $('<button class=\"btn btn-mini btn-primary\" href=\"#\" title=\"Stop Interaction\"><i class=\"fa fa-power-off icon-remove icon-large\"></i></button>');\n",
       "    button.click(function (evt) { fig.handle_close(fig, {}); } );\n",
       "    button.mouseover('Stop Interaction', toolbar_mouse_event);\n",
       "    buttongrp.append(button);\n",
       "    var titlebar = this.root.find($('.ui-dialog-titlebar'));\n",
       "    titlebar.prepend(buttongrp);\n",
       "}\n",
       "\n",
       "mpl.figure.prototype._root_extra_style = function(el){\n",
       "    var fig = this\n",
       "    el.on(\"remove\", function(){\n",
       "\tfig.close_ws(fig, {});\n",
       "    });\n",
       "}\n",
       "\n",
       "mpl.figure.prototype._canvas_extra_style = function(el){\n",
       "    // this is important to make the div 'focusable\n",
       "    el.attr('tabindex', 0)\n",
       "    // reach out to IPython and tell the keyboard manager to turn it's self\n",
       "    // off when our div gets focus\n",
       "\n",
       "    // location in version 3\n",
       "    if (IPython.notebook.keyboard_manager) {\n",
       "        IPython.notebook.keyboard_manager.register_events(el);\n",
       "    }\n",
       "    else {\n",
       "        // location in version 2\n",
       "        IPython.keyboard_manager.register_events(el);\n",
       "    }\n",
       "\n",
       "}\n",
       "\n",
       "mpl.figure.prototype._key_event_extra = function(event, name) {\n",
       "    var manager = IPython.notebook.keyboard_manager;\n",
       "    if (!manager)\n",
       "        manager = IPython.keyboard_manager;\n",
       "\n",
       "    // Check for shift+enter\n",
       "    if (event.shiftKey && event.which == 13) {\n",
       "        this.canvas_div.blur();\n",
       "        event.shiftKey = false;\n",
       "        // Send a \"J\" for go to next cell\n",
       "        event.which = 74;\n",
       "        event.keyCode = 74;\n",
       "        manager.command_mode();\n",
       "        manager.handle_keydown(event);\n",
       "    }\n",
       "}\n",
       "\n",
       "mpl.figure.prototype.handle_save = function(fig, msg) {\n",
       "    fig.ondownload(fig, null);\n",
       "}\n",
       "\n",
       "\n",
       "mpl.find_output_cell = function(html_output) {\n",
       "    // Return the cell and output element which can be found *uniquely* in the notebook.\n",
       "    // Note - this is a bit hacky, but it is done because the \"notebook_saving.Notebook\"\n",
       "    // IPython event is triggered only after the cells have been serialised, which for\n",
       "    // our purposes (turning an active figure into a static one), is too late.\n",
       "    var cells = IPython.notebook.get_cells();\n",
       "    var ncells = cells.length;\n",
       "    for (var i=0; i<ncells; i++) {\n",
       "        var cell = cells[i];\n",
       "        if (cell.cell_type === 'code'){\n",
       "            for (var j=0; j<cell.output_area.outputs.length; j++) {\n",
       "                var data = cell.output_area.outputs[j];\n",
       "                if (data.data) {\n",
       "                    // IPython >= 3 moved mimebundle to data attribute of output\n",
       "                    data = data.data;\n",
       "                }\n",
       "                if (data['text/html'] == html_output) {\n",
       "                    return [cell, data, j];\n",
       "                }\n",
       "            }\n",
       "        }\n",
       "    }\n",
       "}\n",
       "\n",
       "// Register the function which deals with the matplotlib target/channel.\n",
       "// The kernel may be null if the page has been refreshed.\n",
       "if (IPython.notebook.kernel != null) {\n",
       "    IPython.notebook.kernel.comm_manager.register_target('matplotlib', mpl.mpl_figure_comm);\n",
       "}\n"
      ],
      "text/plain": [
       "<IPython.core.display.Javascript object>"
      ]
     },
     "metadata": {},
     "output_type": "display_data"
    },
    {
     "data": {
      "text/html": [
       "<img src=\"data:image/png;base64,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\" width=\"1040\">"
      ],
      "text/plain": [
       "<IPython.core.display.HTML object>"
      ]
     },
     "metadata": {},
     "output_type": "display_data"
    }
   ],
   "source": [
    "%matplotlib notebook\n",
    "gp.plot.plot_section(geo_data, sol[0][0], 20)"
   ]
  },
  {
   "cell_type": "code",
   "execution_count": 34,
   "metadata": {},
   "outputs": [
    {
     "data": {
      "text/plain": [
       "<matplotlib.image.AxesImage at 0x7fe2565e3668>"
      ]
     },
     "execution_count": 34,
     "metadata": {},
     "output_type": "execute_result"
    },
    {
     "data": {
      "image/png": "[encoded data removed]",
      "text/plain": [
       "<matplotlib.figure.Figure at 0x7fe2566292b0>"
      ]
     },
     "metadata": {},
     "output_type": "display_data"
    }
   ],
   "source": [
    "plt.imshow(sol[2].reshape(21,31), cmap='viridis', origin='lower', extent=[7.050000e+05,747000,6863000,6950000] )\n"
   ]
  },
  {
   "cell_type": "markdown",
   "metadata": {},
   "source": [
    "Now the generation of the geomodel will be an operation embedded in a larger tree."
   ]
  },
  {
   "cell_type": "code",
   "execution_count": 26,
   "metadata": {},
   "outputs": [],
   "source": [
    "import theano\n",
    "import theano.tensor as T\n",
    "geomodel = theano.OpFromGraph(interp_data_grav.interpolator.tg.input_parameters_list(),\n",
    "                              [interp_data_grav.interpolator.tg.covariance_matrix()],\n",
    "                              on_unused_input='ignore',\n",
    "                            )"
   ]
  },
  {
   "cell_type": "code",
   "execution_count": 27,
   "metadata": {},
   "outputs": [],
   "source": [
    "input_sh = []\n",
    "for i in interp_data_grav.get_input_data():\n",
    "    input_sh.append(theano.shared(i))"
   ]
  },
  {
   "cell_type": "code",
   "execution_count": 28,
   "metadata": {},
   "outputs": [
    {
     "data": {
      "text/plain": [
       "[<TensorType(float64, matrix)>,\n",
       " <TensorType(float64, vector)>,\n",
       " <TensorType(float64, vector)>,\n",
       " <TensorType(float64, vector)>,\n",
       " <TensorType(float64, matrix)>,\n",
       " <TensorType(float64, matrix)>]"
      ]
     },
     "execution_count": 28,
     "metadata": {},
     "output_type": "execute_result"
    }
   ],
   "source": [
    "input_sh"
   ]
  },
  {
   "cell_type": "code",
   "execution_count": 29,
   "metadata": {},
   "outputs": [
    {
     "ename": "DisconnectedInputError",
     "evalue": " \nBacktrace when that variable is created:\n\n  File \"/home/miguel/anaconda3/lib/python3.6/site-packages/ipykernel/kernelbase.py\", line 233, in dispatch_shell\n    handler(stream, idents, msg)\n  File \"/home/miguel/anaconda3/lib/python3.6/site-packages/ipykernel/kernelbase.py\", line 399, in execute_request\n    user_expressions, allow_stdin)\n  File \"/home/miguel/anaconda3/lib/python3.6/site-packages/ipykernel/ipkernel.py\", line 208, in do_execute\n    res = shell.run_cell(code, store_history=store_history, silent=silent)\n  File \"/home/miguel/anaconda3/lib/python3.6/site-packages/ipykernel/zmqshell.py\", line 537, in run_cell\n    return super(ZMQInteractiveShell, self).run_cell(*args, **kwargs)\n  File \"/home/miguel/anaconda3/lib/python3.6/site-packages/IPython/core/interactiveshell.py\", line 2728, in run_cell\n    interactivity=interactivity, compiler=compiler, result=result)\n  File \"/home/miguel/anaconda3/lib/python3.6/site-packages/IPython/core/interactiveshell.py\", line 2850, in run_ast_nodes\n    if self.run_code(code, result):\n  File \"/home/miguel/anaconda3/lib/python3.6/site-packages/IPython/core/interactiveshell.py\", line 2910, in run_code\n    exec(code_obj, self.user_global_ns, self.user_ns)\n  File \"<ipython-input-27-b19de8e243c7>\", line 3, in <module>\n    input_sh.append(theano.shared(i))\n",
     "output_type": "error",
     "traceback": [
      "\u001b[0;31m---------------------------------------------------------------------------\u001b[0m",
      "\u001b[0;31mDisconnectedInputError\u001b[0m                    Traceback (most recent call last)",
      "\u001b[0;32m<ipython-input-29-2287b1d06c5d>\u001b[0m in \u001b[0;36m<module>\u001b[0;34m()\u001b[0m\n\u001b[1;32m      1\u001b[0m \u001b[0me\u001b[0m \u001b[0;34m=\u001b[0m \u001b[0mgeomodel\u001b[0m\u001b[0;34m(\u001b[0m\u001b[0;34m*\u001b[0m\u001b[0minput_sh\u001b[0m\u001b[0;34m)\u001b[0m\u001b[0;34m\u001b[0m\u001b[0m\n\u001b[0;32m----> 2\u001b[0;31m \u001b[0mder\u001b[0m \u001b[0;34m=\u001b[0m \u001b[0mtheano\u001b[0m\u001b[0;34m.\u001b[0m\u001b[0mgrad\u001b[0m\u001b[0;34m(\u001b[0m\u001b[0me\u001b[0m\u001b[0;34m[\u001b[0m\u001b[0;36m0\u001b[0m\u001b[0;34m,\u001b[0m\u001b[0;36m0\u001b[0m\u001b[0;34m]\u001b[0m\u001b[0;34m,\u001b[0m \u001b[0minput_sh\u001b[0m\u001b[0;34m[\u001b[0m\u001b[0;34m-\u001b[0m\u001b[0;36m3\u001b[0m\u001b[0;34m]\u001b[0m\u001b[0;34m)\u001b[0m\u001b[0;34m\u001b[0m\u001b[0m\n\u001b[0m",
      "\u001b[0;32m~/anaconda3/lib/python3.6/site-packages/theano/gradient.py\u001b[0m in \u001b[0;36mgrad\u001b[0;34m(cost, wrt, consider_constant, disconnected_inputs, add_names, known_grads, return_disconnected, null_gradients)\u001b[0m\n\u001b[1;32m    587\u001b[0m         \u001b[0;32mif\u001b[0m \u001b[0melem\u001b[0m \u001b[0;32mnot\u001b[0m \u001b[0;32min\u001b[0m \u001b[0mvar_to_app_to_idx\u001b[0m \u001b[0;32mand\u001b[0m \u001b[0melem\u001b[0m \u001b[0;32mis\u001b[0m \u001b[0;32mnot\u001b[0m \u001b[0mcost\u001b[0m\u001b[0;31m \u001b[0m\u001b[0;31m\\\u001b[0m\u001b[0;34m\u001b[0m\u001b[0m\n\u001b[1;32m    588\u001b[0m                 \u001b[0;32mand\u001b[0m \u001b[0melem\u001b[0m \u001b[0;32mnot\u001b[0m \u001b[0;32min\u001b[0m \u001b[0mgrad_dict\u001b[0m\u001b[0;34m:\u001b[0m\u001b[0;34m\u001b[0m\u001b[0m\n\u001b[0;32m--> 589\u001b[0;31m             \u001b[0mhandle_disconnected\u001b[0m\u001b[0;34m(\u001b[0m\u001b[0melem\u001b[0m\u001b[0;34m)\u001b[0m\u001b[0;34m\u001b[0m\u001b[0m\n\u001b[0m\u001b[1;32m    590\u001b[0m             \u001b[0mgrad_dict\u001b[0m\u001b[0;34m[\u001b[0m\u001b[0melem\u001b[0m\u001b[0;34m]\u001b[0m \u001b[0;34m=\u001b[0m \u001b[0mdisconnected_type\u001b[0m\u001b[0;34m(\u001b[0m\u001b[0;34m)\u001b[0m\u001b[0;34m\u001b[0m\u001b[0m\n\u001b[1;32m    591\u001b[0m \u001b[0;34m\u001b[0m\u001b[0m\n",
      "\u001b[0;32m~/anaconda3/lib/python3.6/site-packages/theano/gradient.py\u001b[0m in \u001b[0;36mhandle_disconnected\u001b[0;34m(var)\u001b[0m\n\u001b[1;32m    574\u001b[0m             \u001b[0;32melif\u001b[0m \u001b[0mdisconnected_inputs\u001b[0m \u001b[0;34m==\u001b[0m \u001b[0;34m'raise'\u001b[0m\u001b[0;34m:\u001b[0m\u001b[0;34m\u001b[0m\u001b[0m\n\u001b[1;32m    575\u001b[0m                 \u001b[0mmessage\u001b[0m \u001b[0;34m=\u001b[0m \u001b[0mutils\u001b[0m\u001b[0;34m.\u001b[0m\u001b[0mget_variable_trace_string\u001b[0m\u001b[0;34m(\u001b[0m\u001b[0mvar\u001b[0m\u001b[0;34m)\u001b[0m\u001b[0;34m\u001b[0m\u001b[0m\n\u001b[0;32m--> 576\u001b[0;31m                 \u001b[0;32mraise\u001b[0m \u001b[0mDisconnectedInputError\u001b[0m\u001b[0;34m(\u001b[0m\u001b[0mmessage\u001b[0m\u001b[0;34m)\u001b[0m\u001b[0;34m\u001b[0m\u001b[0m\n\u001b[0m\u001b[1;32m    577\u001b[0m             \u001b[0;32melse\u001b[0m\u001b[0;34m:\u001b[0m\u001b[0;34m\u001b[0m\u001b[0m\n\u001b[1;32m    578\u001b[0m                 raise ValueError(\"Invalid value for keyword \"\n",
      "\u001b[0;31mDisconnectedInputError\u001b[0m:  \nBacktrace when that variable is created:\n\n  File \"/home/miguel/anaconda3/lib/python3.6/site-packages/ipykernel/kernelbase.py\", line 233, in dispatch_shell\n    handler(stream, idents, msg)\n  File \"/home/miguel/anaconda3/lib/python3.6/site-packages/ipykernel/kernelbase.py\", line 399, in execute_request\n    user_expressions, allow_stdin)\n  File \"/home/miguel/anaconda3/lib/python3.6/site-packages/ipykernel/ipkernel.py\", line 208, in do_execute\n    res = shell.run_cell(code, store_history=store_history, silent=silent)\n  File \"/home/miguel/anaconda3/lib/python3.6/site-packages/ipykernel/zmqshell.py\", line 537, in run_cell\n    return super(ZMQInteractiveShell, self).run_cell(*args, **kwargs)\n  File \"/home/miguel/anaconda3/lib/python3.6/site-packages/IPython/core/interactiveshell.py\", line 2728, in run_cell\n    interactivity=interactivity, compiler=compiler, result=result)\n  File \"/home/miguel/anaconda3/lib/python3.6/site-packages/IPython/core/interactiveshell.py\", line 2850, in run_ast_nodes\n    if self.run_code(code, result):\n  File \"/home/miguel/anaconda3/lib/python3.6/site-packages/IPython/core/interactiveshell.py\", line 2910, in run_code\n    exec(code_obj, self.user_global_ns, self.user_ns)\n  File \"<ipython-input-27-b19de8e243c7>\", line 3, in <module>\n    input_sh.append(theano.shared(i))\n"
     ]
    }
   ],
   "source": [
    "e = geomodel(*input_sh)\n",
    "der = theano.grad(e[0,0], input_sh[-3])"
   ]
  },
  {
   "cell_type": "code",
   "execution_count": 22,
   "metadata": {
    "scrolled": false
   },
   "outputs": [],
   "source": [
    "a = theano.function(interp_data_grav.interpolator.tg.input_parameters_list(), [e], on_unused_input='ignore')"
   ]
  },
  {
   "cell_type": "code",
   "execution_count": 25,
   "metadata": {
    "scrolled": false
   },
   "outputs": [
    {
     "data": {
      "text/plain": [
       "array([  2.61      ,   2.61      ,   2.61      , ...,  24.33333969,\n",
       "        24.33493233,  24.33651733])"
      ]
     },
     "execution_count": 25,
     "metadata": {},
     "output_type": "execute_result"
    }
   ],
   "source": [
    "np.unique(a(*interp_data_grav.get_input_data())[0])"
   ]
  },
  {
   "cell_type": "code",
   "execution_count": 24,
   "metadata": {
    "scrolled": false
   },
   "outputs": [
    {
     "ename": "ValueError",
     "evalue": "total size of new array must be unchanged",
     "output_type": "error",
     "traceback": [
      "\u001b[0;31m---------------------------------------------------------------------------\u001b[0m",
      "\u001b[0;31mValueError\u001b[0m                                Traceback (most recent call last)",
      "\u001b[0;32m<ipython-input-24-d2edde261754>\u001b[0m in \u001b[0;36m<module>\u001b[0;34m()\u001b[0m\n\u001b[0;32m----> 1\u001b[0;31m \u001b[0mplt\u001b[0m\u001b[0;34m.\u001b[0m\u001b[0mimshow\u001b[0m\u001b[0;34m(\u001b[0m\u001b[0ma\u001b[0m\u001b[0;34m(\u001b[0m\u001b[0;34m*\u001b[0m\u001b[0minterp_data_grav\u001b[0m\u001b[0;34m.\u001b[0m\u001b[0mget_input_data\u001b[0m\u001b[0;34m(\u001b[0m\u001b[0;34m)\u001b[0m\u001b[0;34m)\u001b[0m\u001b[0;34m[\u001b[0m\u001b[0;36m0\u001b[0m\u001b[0;34m]\u001b[0m\u001b[0;34m.\u001b[0m\u001b[0mreshape\u001b[0m\u001b[0;34m(\u001b[0m\u001b[0;36m21\u001b[0m\u001b[0;34m,\u001b[0m\u001b[0;36m31\u001b[0m\u001b[0;34m)\u001b[0m\u001b[0;34m,\u001b[0m \u001b[0mcmap\u001b[0m\u001b[0;34m=\u001b[0m\u001b[0;34m'viridis'\u001b[0m\u001b[0;34m,\u001b[0m \u001b[0morigin\u001b[0m\u001b[0;34m=\u001b[0m\u001b[0;34m'lower'\u001b[0m\u001b[0;34m,\u001b[0m \u001b[0mextent\u001b[0m\u001b[0;34m=\u001b[0m\u001b[0;34m[\u001b[0m\u001b[0;36m7.050000e+05\u001b[0m\u001b[0;34m,\u001b[0m\u001b[0;36m747000\u001b[0m\u001b[0;34m,\u001b[0m\u001b[0;36m6863000\u001b[0m\u001b[0;34m,\u001b[0m\u001b[0;36m6950000\u001b[0m\u001b[0;34m]\u001b[0m \u001b[0;34m)\u001b[0m\u001b[0;34m\u001b[0m\u001b[0m\n\u001b[0m\u001b[1;32m      2\u001b[0m \u001b[0;34m\u001b[0m\u001b[0m\n",
      "\u001b[0;31mValueError\u001b[0m: total size of new array must be unchanged"
     ]
    }
   ],
   "source": [
    "plt.imshow(a(*interp_data_grav.get_input_data())[0].reshape(21,31), cmap='viridis', origin='lower', extent=[7.050000e+05,747000,6863000,6950000] )\n",
    "\n"
   ]
  },
  {
   "cell_type": "markdown",
   "metadata": {},
   "source": [
    "Because now the GeMpy model is a theano operation and not a theano function, to call it we need to use theano variables (with theano functions we call them with python variables). This is very easy to modify, we just need to use theano shared to convert our python input data into theano variables.\n",
    "\n",
    "The pymc3 objects are already theano variables (pm.Normal and so on). Now the trick is that using the theano function T.set_subtensor, we can change one deterministic value of the input arrays(the ones printed in the cell above) by a stochastic pymc3 object. Then with the new arrays we just have to call the theano operation and pymc will do the rest"
   ]
  },
  {
   "cell_type": "code",
   "execution_count": null,
   "metadata": {
    "scrolled": false
   },
   "outputs": [],
   "source": [
    "# This is the creation of the model\n",
    "import pymc3 as pm\n",
    "\n",
    "theano.config.compute_test_value = 'warn'\n",
    "dtype='float64'\n",
    "#theano.config.warn_float64 = 'warn'\n",
    "model = pm.Model()\n",
    "with model:\n",
    "    # We create the Stochastic parameters. In this case only the Z position\n",
    "    # of the interfaces\n",
    "    Z_rest = pm.Normal('Z_unc_rest',\n",
    "       interp_data_grav.interpolator.pandas_rest_layer_points['Z'].as_matrix().astype('float32'),\n",
    "       interp_data_grav.interpolator.pandas_rest_layer_points['Z_std'].as_matrix().astype('float32'),\n",
    "                  dtype=dtype, shape = (66))\n",
    "    \n",
    "    Z_ref = pm.Normal('Z_unc_ref', interp_data_grav.interpolator.pandas_ref_layer_points_rep['Z'].as_matrix().astype('float32'),\n",
    "              interp_data_grav.interpolator.pandas_ref_layer_points_rep['Z_std'].as_matrix().astype('float32'),\n",
    "              dtype=dtype, shape = (66))\n",
    "    \n",
    "    dip_unc = pm.Normal('dip_unc', interp_data_grav.geo_data_res.orientations['dip'].as_matrix(),\n",
    "                        interp_data_grav.geo_data_res.orientations['dip_std'].as_matrix(),\n",
    "                       dtype=dtype, shape = (41))\n",
    "    \n",
    "    azimuth_unc = pm.Normal('azimuth_unc', interp_data_grav.geo_data_res.orientations['azimuth'].as_matrix(), \n",
    "                            interp_data_grav.geo_data_res.orientations['azimuth_std'].as_matrix(),\n",
    "                       dtype=dtype, shape = (41))\n",
    "    \n",
    "#     Z_unc = pm.Normal('Z_unc', interp_data_grav.geo_data_res.interfaces['Z'].astype('float32'),\n",
    "#                       interp_data_grav.geo_data_res.interfaces['Z_std'].astype('float32'), dtype='float32', shape= (70))\n",
    "    \n",
    "#     interp_data_grav.geo_data_res.interfaces['Z'] = Z_unc\n",
    "    \n",
    "    # We convert a python variable to theano.shared\n",
    "    input_sh = []\n",
    "    for i in interp_data_grav.get_input_data():\n",
    "        input_sh.append(theano.shared(i))\n",
    "    \n",
    "    # We add the stochastic value to the correspondant array. rest array is\n",
    "    # a n_points*3 (XYZ) array. We only want to change Z in this case.\n",
    "    input_sh[4] = T.set_subtensor(\n",
    "    input_sh[4][:, 2], Z_ref)\n",
    "\n",
    "    input_sh[5] = T.set_subtensor(\n",
    "    input_sh[5][:, 2], Z_rest)\n",
    "    \n",
    "    # With the stochastic parameters we create the geomodel result:\n",
    "    Forw = pm.Deterministic('GemPy', geomodel(input_sh[0], input_sh[1], input_sh[2],\n",
    "                                                   input_sh[3], input_sh[4], input_sh[5]))\n",
    "    \n",
    "    # Calibration parameters\n",
    "    F_min, F_max =  T.min(Forw), T.max(Forw)   #36.630742, 36.651496    #30.159309, 30.174104#\n",
    "    F_range = F_max - F_min\n",
    "    F_mid = 0.5*(F_max+F_min)\n",
    "    \n",
    "    Reescaled_forw = grav_real_mid + (Forw - F_mid) / F_range * grav_real_range\n",
    "    \n",
    "    e_sq = T.sqrt(T.sum(T.square(Reescaled_forw - (grav_real_th))))\n",
    "\n",
    "    Y_obs = pm.HalfCauchy('Y_obs', beta=e_sq, observed=1000)"
   ]
  },
  {
   "cell_type": "code",
   "execution_count": null,
   "metadata": {},
   "outputs": [],
   "source": []
  },
  {
   "cell_type": "code",
   "execution_count": null,
   "metadata": {},
   "outputs": [],
   "source": [
    "#import theano.tensor as T\n",
    "#import pymc3 as pm\n",
    "#pm.HalfCauchy?"
   ]
  },
  {
   "cell_type": "code",
   "execution_count": null,
   "metadata": {
    "scrolled": false
   },
   "outputs": [],
   "source": [
    "theano.config.compute_test_value = 'off'\n",
    "# This is the sampling\n",
    "# BEFORE RUN THIS FOR LONG CHECK IN THE MODULE THEANOGRAF THAT THE FLAG \n",
    "# THEANO OPTIMIZER IS IN 'fast_run'!!\n",
    "with model:\n",
    "   # backend = pm.backends.ndarray.NDArray('geomodels')\n",
    "    #step = pm.NUTS()\n",
    "    trace = pm.sample(30, tune=10, n_init=10, live_plot=True, refresh_every=1, cores=1 )"
   ]
  },
  {
   "cell_type": "code",
   "execution_count": null,
   "metadata": {
    "scrolled": false
   },
   "outputs": [],
   "source": [
    "trace.get_values('GemPy')[5].shape, 31*21"
   ]
  },
  {
   "cell_type": "code",
   "execution_count": null,
   "metadata": {},
   "outputs": [],
   "source": [
    "trace.varnames"
   ]
  },
  {
   "cell_type": "code",
   "execution_count": null,
   "metadata": {
    "scrolled": false
   },
   "outputs": [],
   "source": [
    "%matplotlib inline\n",
    "pm.plot_posterior(trace, varnames=['Z_unc_rest'])"
   ]
  },
  {
   "cell_type": "code",
   "execution_count": null,
   "metadata": {},
   "outputs": [],
   "source": [
    "trace.get_values('GemPy')[5] -  trace.get_values('GemPy')[15]"
   ]
  },
  {
   "cell_type": "code",
   "execution_count": null,
   "metadata": {},
   "outputs": [],
   "source": [
    "import matplotlib.pyplot as plt\n",
    "plt.imshow(trace.get_values('GemPy')[-10].reshape(50,50), cmap='viridis', origin='lower', extent=[7.050000e+05,747000,6863000,6950000] )\n",
    "plt.colorbar()"
   ]
  },
  {
   "cell_type": "code",
   "execution_count": null,
   "metadata": {
    "scrolled": false
   },
   "outputs": [],
   "source": [
    "import matplotlib.pyplot as plt\n",
    "for i in range(100):\n",
    "    gp.plot_section(geo_data, trace.get_values('GemPy')[i][0, :], 18,\n",
    "                       direction='y', plot_data=False)\n",
    "    plt.show()"
   ]
  },
  {
   "cell_type": "code",
   "execution_count": null,
   "metadata": {},
   "outputs": [],
   "source": [
    "from theano.printing import pydotprint\n",
    "\n",
    "pydotprint(model.logpt)"
   ]
  },
  {
   "cell_type": "code",
   "execution_count": null,
   "metadata": {},
   "outputs": [],
   "source": []
  }
 ],
 "metadata": {
  "kernelspec": {
   "display_name": "Python 3",
   "language": "python",
   "name": "python3"
  },
  "language_info": {
   "codemirror_mode": {
    "name": "ipython",
    "version": 3
   },
   "file_extension": ".py",
   "mimetype": "text/x-python",
   "name": "python",
   "nbconvert_exporter": "python",
   "pygments_lexer": "ipython3",
   "version": "3.6.3"
  },
  "latex_envs": {
   "LaTeX_envs_menu_present": true,
   "autocomplete": true,
   "bibliofile": "biblio.bib",
   "cite_by": "apalike",
   "current_citInitial": 1,
   "eqLabelWithNumbers": true,
   "eqNumInitial": 1,
   "hotkeys": {
    "equation": "Ctrl-E",
    "itemize": "Ctrl-I"
   },
   "labels_anchors": false,
   "latex_user_defs": false,
   "report_style_numbering": false,
   "user_envs_cfg": false
  },
  "toc": {
   "colors": {
    "hover_highlight": "#DAA520",
    "running_highlight": "#FF0000",
    "selected_highlight": "#FFD700"
   },
   "moveMenuLeft": true,
   "nav_menu": {
    "height": "39px",
    "width": "252px"
   },
   "navigate_menu": true,
   "number_sections": true,
   "sideBar": true,
   "threshold": 4,
   "toc_cell": false,
   "toc_section_display": "block",
   "toc_window_display": false,
   "widenNotebook": false
  }
 },
 "nbformat": 4,
 "nbformat_minor": 2
}
