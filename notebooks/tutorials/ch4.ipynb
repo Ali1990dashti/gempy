{
 "cells": [
  {
   "cell_type": "markdown",
   "metadata": {},
   "source": [
    "# Chapter 4: Bayesian Statistics in pymc3 (Working in progress proof of concept)"
   ]
  },
  {
   "cell_type": "code",
   "execution_count": 1,
   "metadata": {},
   "outputs": [],
   "source": [
    "# These two lines are necessary only if gempy is not installed\n",
    "import sys, os\n",
    "sys.path.append(\"../..\")\n",
    "os.environ['MKL_THREADING_LAYER'] = 'GNU'\n",
    "\n",
    "# Importing gempy\n",
    "import gempy as gp\n",
    "\n",
    "\n",
    "# Embedding matplotlib figures into the notebooks\n",
    "%matplotlib inline\n",
    "\n",
    "# Aux imports\n",
    "import numpy as np"
   ]
  },
  {
   "cell_type": "code",
   "execution_count": 2,
   "metadata": {},
   "outputs": [],
   "source": [
    "# Importing the data from csv files and settign extent and resolution\n",
    "geo_data = gp.create_data([696000-10000,747000 + 20600,6863000 - 20600,6950000 + 20600,-20000, 600],[10, 10, 10],\n",
    "                         path_o = os.pardir+\"/input_data/a_Foliations.csv\",\n",
    "                         path_i = os.pardir+\"/input_data/a_Points.csv\")"
   ]
  },
  {
   "cell_type": "code",
   "execution_count": 3,
   "metadata": {},
   "outputs": [
    {
     "data": {
      "text/plain": [
       "<gempy.sequential_pile.StratigraphicPile at 0x213f73ea3c8>"
      ]
     },
     "execution_count": 3,
     "metadata": {},
     "output_type": "execute_result"
    },
    {
     "data": {
      "image/png": "[encoded data removed]",
      "text/plain": [
       "<matplotlib.figure.Figure at 0x213ffbca128>"
      ]
     },
     "metadata": {},
     "output_type": "display_data"
    }
   ],
   "source": [
    "# Assigning series to formations as well as their order (timewise)\n",
    "gp.set_series(geo_data, {\"EarlyGranite_Series\": 'EarlyGranite', \n",
    "                              \"BIF_Series\":('SimpleMafic2', 'SimpleBIF'),\n",
    "                              \"SimpleMafic_Series\":'SimpleMafic1'}, \n",
    "                      order_series = [\"EarlyGranite_Series\",\n",
    "                                      \"BIF_Series\",\n",
    "                                      \"SimpleMafic_Series\"],\n",
    "                      order_formations= ['EarlyGranite', 'SimpleMafic2', 'SimpleBIF', 'SimpleMafic1'],\n",
    "              verbose=1)"
   ]
  },
  {
   "cell_type": "markdown",
   "metadata": {},
   "source": [
    "Setting uncertainties adding the values to the Dataframe."
   ]
  },
  {
   "cell_type": "code",
   "execution_count": 5,
   "metadata": {},
   "outputs": [
    {
     "data": {
      "text/html": [
       "<div>\n",
       "<style scoped>\n",
       "    .dataframe tbody tr th:only-of-type {\n",
       "        vertical-align: middle;\n",
       "    }\n",
       "\n",
       "    .dataframe tbody tr th {\n",
       "        vertical-align: top;\n",
       "    }\n",
       "\n",
       "    .dataframe thead th {\n",
       "        text-align: right;\n",
       "    }\n",
       "</style>\n",
       "<table border=\"1\" class=\"dataframe\">\n",
       "  <thead>\n",
       "    <tr style=\"text-align: right;\">\n",
       "      <th></th>\n",
       "      <th>X</th>\n",
       "      <th>Y</th>\n",
       "      <th>Z</th>\n",
       "      <th>G_x</th>\n",
       "      <th>G_y</th>\n",
       "      <th>G_z</th>\n",
       "      <th>dip</th>\n",
       "      <th>azimuth</th>\n",
       "      <th>polarity</th>\n",
       "      <th>formation</th>\n",
       "      <th>series</th>\n",
       "      <th>X_std</th>\n",
       "      <th>Y_std</th>\n",
       "      <th>Z_std</th>\n",
       "      <th>dip_std</th>\n",
       "      <th>azimuth_std</th>\n",
       "      <th>order_series</th>\n",
       "      <th>isFault</th>\n",
       "      <th>formation number</th>\n",
       "      <th>annotations</th>\n",
       "    </tr>\n",
       "  </thead>\n",
       "  <tbody>\n",
       "    <tr>\n",
       "      <th>0</th>\n",
       "      <td>722403.8130</td>\n",
       "      <td>6880913.25</td>\n",
       "      <td>470.707065</td>\n",
       "      <td>0.819295</td>\n",
       "      <td>-0.546444</td>\n",
       "      <td>0.173648</td>\n",
       "      <td>80.0</td>\n",
       "      <td>123.702047</td>\n",
       "      <td>1</td>\n",
       "      <td>EarlyGranite</td>\n",
       "      <td>EarlyGranite_Series</td>\n",
       "      <td>None</td>\n",
       "      <td>0</td>\n",
       "      <td>100</td>\n",
       "      <td>10</td>\n",
       "      <td>10</td>\n",
       "      <td>1</td>\n",
       "      <td>False</td>\n",
       "      <td>1</td>\n",
       "      <td>${\\bf{x}}_{\\beta \\,{\\bf{1}},0}$</td>\n",
       "    </tr>\n",
       "    <tr>\n",
       "      <th>1</th>\n",
       "      <td>718928.3440</td>\n",
       "      <td>6883605.50</td>\n",
       "      <td>509.462245</td>\n",
       "      <td>0.063997</td>\n",
       "      <td>-0.982726</td>\n",
       "      <td>0.173648</td>\n",
       "      <td>80.0</td>\n",
       "      <td>176.274084</td>\n",
       "      <td>1</td>\n",
       "      <td>EarlyGranite</td>\n",
       "      <td>EarlyGranite_Series</td>\n",
       "      <td>None</td>\n",
       "      <td>0</td>\n",
       "      <td>100</td>\n",
       "      <td>10</td>\n",
       "      <td>10</td>\n",
       "      <td>1</td>\n",
       "      <td>False</td>\n",
       "      <td>1</td>\n",
       "      <td>${\\bf{x}}_{\\beta \\,{\\bf{1}},1}$</td>\n",
       "    </tr>\n",
       "    <tr>\n",
       "      <th>2</th>\n",
       "      <td>720690.5630</td>\n",
       "      <td>6882822.25</td>\n",
       "      <td>489.909423</td>\n",
       "      <td>-0.948735</td>\n",
       "      <td>-0.264099</td>\n",
       "      <td>0.173648</td>\n",
       "      <td>80.0</td>\n",
       "      <td>254.444427</td>\n",
       "      <td>1</td>\n",
       "      <td>EarlyGranite</td>\n",
       "      <td>EarlyGranite_Series</td>\n",
       "      <td>None</td>\n",
       "      <td>0</td>\n",
       "      <td>100</td>\n",
       "      <td>10</td>\n",
       "      <td>10</td>\n",
       "      <td>1</td>\n",
       "      <td>False</td>\n",
       "      <td>1</td>\n",
       "      <td>${\\bf{x}}_{\\beta \\,{\\bf{1}},2}$</td>\n",
       "    </tr>\n",
       "    <tr>\n",
       "      <th>3</th>\n",
       "      <td>721229.0005</td>\n",
       "      <td>6880766.25</td>\n",
       "      <td>477.680894</td>\n",
       "      <td>-0.955039</td>\n",
       "      <td>-0.240305</td>\n",
       "      <td>0.173648</td>\n",
       "      <td>80.0</td>\n",
       "      <td>255.876557</td>\n",
       "      <td>1</td>\n",
       "      <td>EarlyGranite</td>\n",
       "      <td>EarlyGranite_Series</td>\n",
       "      <td>None</td>\n",
       "      <td>0</td>\n",
       "      <td>100</td>\n",
       "      <td>10</td>\n",
       "      <td>10</td>\n",
       "      <td>1</td>\n",
       "      <td>False</td>\n",
       "      <td>1</td>\n",
       "      <td>${\\bf{x}}_{\\beta \\,{\\bf{1}},3}$</td>\n",
       "    </tr>\n",
       "    <tr>\n",
       "      <th>4</th>\n",
       "      <td>710459.8440</td>\n",
       "      <td>6880521.50</td>\n",
       "      <td>511.839758</td>\n",
       "      <td>-0.782956</td>\n",
       "      <td>-0.597348</td>\n",
       "      <td>0.173648</td>\n",
       "      <td>80.0</td>\n",
       "      <td>232.658556</td>\n",
       "      <td>1</td>\n",
       "      <td>EarlyGranite</td>\n",
       "      <td>EarlyGranite_Series</td>\n",
       "      <td>None</td>\n",
       "      <td>0</td>\n",
       "      <td>100</td>\n",
       "      <td>10</td>\n",
       "      <td>10</td>\n",
       "      <td>1</td>\n",
       "      <td>False</td>\n",
       "      <td>1</td>\n",
       "      <td>${\\bf{x}}_{\\beta \\,{\\bf{1}},4}$</td>\n",
       "    </tr>\n",
       "  </tbody>\n",
       "</table>\n",
       "</div>"
      ],
      "text/plain": [
       "             X           Y           Z       G_x       G_y       G_z   dip  \\\n",
       "0  722403.8130  6880913.25  470.707065  0.819295 -0.546444  0.173648  80.0   \n",
       "1  718928.3440  6883605.50  509.462245  0.063997 -0.982726  0.173648  80.0   \n",
       "2  720690.5630  6882822.25  489.909423 -0.948735 -0.264099  0.173648  80.0   \n",
       "3  721229.0005  6880766.25  477.680894 -0.955039 -0.240305  0.173648  80.0   \n",
       "4  710459.8440  6880521.50  511.839758 -0.782956 -0.597348  0.173648  80.0   \n",
       "\n",
       "      azimuth  polarity     formation               series X_std  Y_std  \\\n",
       "0  123.702047         1  EarlyGranite  EarlyGranite_Series  None      0   \n",
       "1  176.274084         1  EarlyGranite  EarlyGranite_Series  None      0   \n",
       "2  254.444427         1  EarlyGranite  EarlyGranite_Series  None      0   \n",
       "3  255.876557         1  EarlyGranite  EarlyGranite_Series  None      0   \n",
       "4  232.658556         1  EarlyGranite  EarlyGranite_Series  None      0   \n",
       "\n",
       "   Z_std  dip_std  azimuth_std  order_series  isFault  formation number  \\\n",
       "0    100       10           10             1    False                 1   \n",
       "1    100       10           10             1    False                 1   \n",
       "2    100       10           10             1    False                 1   \n",
       "3    100       10           10             1    False                 1   \n",
       "4    100       10           10             1    False                 1   \n",
       "\n",
       "                       annotations  \n",
       "0  ${\\bf{x}}_{\\beta \\,{\\bf{1}},0}$  \n",
       "1  ${\\bf{x}}_{\\beta \\,{\\bf{1}},1}$  \n",
       "2  ${\\bf{x}}_{\\beta \\,{\\bf{1}},2}$  \n",
       "3  ${\\bf{x}}_{\\beta \\,{\\bf{1}},3}$  \n",
       "4  ${\\bf{x}}_{\\beta \\,{\\bf{1}},4}$  "
      ]
     },
     "execution_count": 5,
     "metadata": {},
     "output_type": "execute_result"
    }
   ],
   "source": [
    "geo_data.interfaces['X_std'] = None\n",
    "geo_data.interfaces['Y_std'] = 0\n",
    "geo_data.interfaces['Z_std'] = 100\n",
    "\n",
    "geo_data.orientations['X_std'] = None\n",
    "geo_data.orientations['Y_std'] = 0\n",
    "geo_data.orientations['Z_std'] = 100\n",
    "\n",
    "geo_data.orientations['dip_std'] = 10\n",
    "geo_data.orientations['azimuth_std'] = 10\n",
    "geo_data.orientations.head()"
   ]
  },
  {
   "cell_type": "markdown",
   "metadata": {},
   "source": [
    "## Real gravity"
   ]
  },
  {
   "cell_type": "code",
   "execution_count": 6,
   "metadata": {},
   "outputs": [
    {
     "data": {
      "image/png": "[encoded data removed]",
      "text/plain": [
       "<matplotlib.figure.Figure at 0x213ffc27470>"
      ]
     },
     "metadata": {},
     "output_type": "display_data"
    }
   ],
   "source": [
    "import matplotlib.pyplot as plt\n",
    "import pandas as pn\n",
    "grav_real = pn.read_csv('../input_data/Sst_grav_2000.xyz', header=None, names = ['X', 'Y', 'N', 'G'], delim_whitespace=True)\n",
    "plt.imshow(grav_real['G'].values.reshape(31,21), extent=[7.050000e+05,747000,6863000,6950000], origin='lower', cmap='viridis')\n",
    "fig = plt.gcf()\n",
    "fig.set_size_inches(18.5, 10.5)"
   ]
  },
  {
   "cell_type": "code",
   "execution_count": 7,
   "metadata": {},
   "outputs": [],
   "source": [
    "# Calibration parameters\n",
    "# F_min, F_max =  np.min(Forw), np.max(Forw)   #36.630742, 36.651496    #30.159309, 30.174104#\n",
    "# F_range = F_max - F_min\n",
    "# F_mid = 0.5*(F_max+F_min)\n",
    "\n",
    "rs_min, rs_max = np.min(grav_real['G']), np.max(grav_real['G'])\n",
    "rs_range = rs_max - rs_min\n",
    "rs_mid = 0.5*(rs_max+rs_min)\n",
    "\n",
    "#Rescaling\n",
    "\n",
    "# rs_mid + (grid - m_mid) / m_range * rs_range\n",
    "# Reescaled_forw = rs_mid + (Forw - F_mid) / F_range * rs_range"
   ]
  },
  {
   "cell_type": "code",
   "execution_count": 8,
   "metadata": {},
   "outputs": [],
   "source": [
    "import theano\n",
    "grav_real_mid = theano.shared(rs_mid, 'Grav_real_mid')\n",
    "grav_real_range = theano.shared(rs_range, 'Grav_real_range')\n",
    "grav_real_th = theano.shared(grav_real['G'].as_matrix())"
   ]
  },
  {
   "cell_type": "code",
   "execution_count": 9,
   "metadata": {},
   "outputs": [
    {
     "data": {
      "text/plain": [
       "(651,)"
      ]
     },
     "execution_count": 9,
     "metadata": {},
     "output_type": "execute_result"
    }
   ],
   "source": [
    "grav_real_th.get_value().shape"
   ]
  },
  {
   "cell_type": "code",
   "execution_count": 10,
   "metadata": {},
   "outputs": [],
   "source": [
    "# input_data_T = interp_data.interpolator.tg.input_parameters_list()\n",
    "# input_data_P = interp_data.get_input_data(u_grade=[3, 3])\n",
    "# select = interp_data.interpolator.pandas_rest_layer_points['formation'] == 'Reservoir'"
   ]
  },
  {
   "cell_type": "code",
   "execution_count": 11,
   "metadata": {
    "scrolled": false
   },
   "outputs": [
    {
     "ename": "AttributeError",
     "evalue": "module 'gempy' has no attribute 'InterpolatorInput'",
     "output_type": "error",
     "traceback": [
      "\u001b[1;31m---------------------------------------------------------------------------\u001b[0m",
      "\u001b[1;31mAttributeError\u001b[0m                            Traceback (most recent call last)",
      "\u001b[1;32m<ipython-input-11-356dff8b012b>\u001b[0m in \u001b[0;36m<module>\u001b[1;34m()\u001b[0m\n\u001b[1;32m----> 1\u001b[1;33m interp_data_grav = gp.InterpolatorInput(geo_data, output='gravity', compile_theano=False, dtype='float64',\n\u001b[0m\u001b[0;32m      2\u001b[0m                                    u_grade=[3, 3, 3])\n",
      "\u001b[1;31mAttributeError\u001b[0m: module 'gempy' has no attribute 'InterpolatorInput'"
     ]
    }
   ],
   "source": [
    "interp_data_grav = gp.InterpolatorInput(geo_data, output='gravity', compile_theano=False, dtype='float64',\n",
    "                                   u_grade=[3, 3, 3])"
   ]
  },
  {
   "cell_type": "code",
   "execution_count": 20,
   "metadata": {},
   "outputs": [
    {
     "ename": "NameError",
     "evalue": "name 'interp_data_grav' is not defined",
     "output_type": "error",
     "traceback": [
      "\u001b[1;31m---------------------------------------------------------------------------\u001b[0m",
      "\u001b[1;31mNameError\u001b[0m                                 Traceback (most recent call last)",
      "\u001b[1;32m<ipython-input-20-cd9128e67eda>\u001b[0m in \u001b[0;36m<module>\u001b[1;34m()\u001b[0m\n\u001b[1;32m----> 1\u001b[1;33m gp.set_geophysics_obj(interp_data_grav,  [7.050000e+05,747000,6863000,6925000,-20000, 200],\n\u001b[0m\u001b[0;32m      2\u001b[0m                                              [31,21])\n",
      "\u001b[1;31mNameError\u001b[0m: name 'interp_data_grav' is not defined"
     ]
    }
   ],
   "source": [
    "gp.set_geophysics_obj(interp_data_grav,  [7.050000e+05,747000,6863000,6925000,-20000, 200],\n",
    "                                             [31,21])"
   ]
  },
  {
   "cell_type": "code",
   "execution_count": 12,
   "metadata": {},
   "outputs": [],
   "source": [
    "a,b = gp.precomputations_gravity(interp_data_grav, 24, [2.92, 3.1, 2.92, 2.61, 2.61])"
   ]
  },
  {
   "cell_type": "markdown",
   "metadata": {},
   "source": [
    "Now the generation of the geomodel will be an operation embedded in a larger tree."
   ]
  },
  {
   "cell_type": "code",
   "execution_count": 13,
   "metadata": {
    "scrolled": false
   },
   "outputs": [],
   "source": [
    "# import theano\n",
    "# import theano.tensor as T\n",
    "# geomodel = theano.OpFromGraph(interp_data_grav.interpolator.tg.input_parameters_list(),\n",
    "#                               interp_data_grav.interpolator.tg.compute_geological_model(n_faults=0, compute_all=True),\n",
    "#                               on_unused_input='ignore',\n",
    "#                             )"
   ]
  },
  {
   "cell_type": "code",
   "execution_count": 14,
   "metadata": {},
   "outputs": [
    {
     "data": {
      "text/plain": [
       "TensorType(float64, matrix)"
      ]
     },
     "execution_count": 14,
     "metadata": {},
     "output_type": "execute_result"
    }
   ],
   "source": [
    "g = interp_data_grav.interpolator.tg.input_parameters_list()[0]\n",
    "g.type"
   ]
  },
  {
   "cell_type": "code",
   "execution_count": 15,
   "metadata": {},
   "outputs": [
    {
     "data": {
      "text/plain": [
       "dtype('int64')"
      ]
     },
     "execution_count": 15,
     "metadata": {},
     "output_type": "execute_result"
    }
   ],
   "source": [
    "interp_data_grav.interpolator.tg.n_formation.get_value().dtype"
   ]
  },
  {
   "cell_type": "code",
   "execution_count": 11,
   "metadata": {},
   "outputs": [],
   "source": [
    "import theano\n",
    "import theano.tensor as T\n",
    "geomodel = theano.OpFromGraph(interp_data_grav.interpolator.tg.input_parameters_list(),\n",
    "                              [interp_data_grav.interpolator.tg.compute_forward_gravity(n_faults=0, compute_all=True)],\n",
    "                              on_unused_input='ignore',\n",
    "                            )"
   ]
  },
  {
   "cell_type": "markdown",
   "metadata": {},
   "source": [
    "Because now the GeMpy model is a theano operation and not a theano function, to call it we need to use theano variables (with theano functions we call them with python variables). This is very easy to modify, we just need to use theano shared to convert our python input data into theano variables.\n",
    "\n",
    "The pymc3 objects are already theano variables (pm.Normal and so on). Now the trick is that using the theano function T.set_subtensor, we can change one deterministic value of the input arrays(the ones printed in the cell above) by a stochastic pymc3 object. Then with the new arrays we just have to call the theano operation and pymc will do the rest"
   ]
  },
  {
   "cell_type": "code",
   "execution_count": null,
   "metadata": {
    "scrolled": false
   },
   "outputs": [],
   "source": [
    "# This is the creation of the model\n",
    "import pymc3 as pm\n",
    "\n",
    "theano.config.compute_test_value = 'warn'\n",
    "dtype='float64'\n",
    "#theano.config.warn_float64 = 'warn'\n",
    "model = pm.Model()\n",
    "with model:\n",
    "    # We create the Stochastic parameters. In this case only the Z position\n",
    "    # of the interfaces\n",
    "    Z_rest = pm.Normal('Z_unc_rest',\n",
    "       interp_data_grav.interpolator.pandas_rest_layer_points['Z'].as_matrix().astype('float32'),\n",
    "       interp_data_grav.interpolator.pandas_rest_layer_points['Z_std'].as_matrix().astype('float32'),\n",
    "                  dtype=dtype, shape = (66))\n",
    "    \n",
    "    Z_ref = pm.Normal('Z_unc_ref', interp_data_grav.interpolator.pandas_ref_layer_points_rep['Z'].as_matrix().astype('float32'),\n",
    "              interp_data_grav.interpolator.pandas_ref_layer_points_rep['Z_std'].as_matrix().astype('float32'),\n",
    "              dtype=dtype, shape = (66))\n",
    "    \n",
    "    dip_unc = pm.Normal('dip_unc', interp_data_grav.geo_data_res.foliations['dip'].as_matrix(),\n",
    "                        interp_data_grav.geo_data_res.foliations['dip_std'].as_matrix(),\n",
    "                       dtype=dtype, shape = (41))\n",
    "    \n",
    "    azimuth_unc = pm.Normal('azimuth_unc', interp_data_grav.geo_data_res.foliations['azimuth'].as_matrix(), \n",
    "                            interp_data_grav.geo_data_res.foliations['azimuth_std'].as_matrix(),\n",
    "                       dtype=dtype, shape = (41))\n",
    "    \n",
    "#     Z_unc = pm.Normal('Z_unc', interp_data_grav.geo_data_res.interfaces['Z'].astype('float32'),\n",
    "#                       interp_data_grav.geo_data_res.interfaces['Z_std'].astype('float32'), dtype='float32', shape= (70))\n",
    "    \n",
    "#     interp_data_grav.geo_data_res.interfaces['Z'] = Z_unc\n",
    "    \n",
    "    # We convert a python variable to theano.shared\n",
    "    input_sh = []\n",
    "    for i in interp_data_grav.get_input_data():\n",
    "        input_sh.append(theano.shared(i))\n",
    "    \n",
    "    # We add the stochastic value to the correspondant array. rest array is\n",
    "    # a n_points*3 (XYZ) array. We only want to change Z in this case.\n",
    "    input_sh[4] = T.set_subtensor(\n",
    "    input_sh[4][:, 2], Z_ref)\n",
    "\n",
    "    input_sh[5] = T.set_subtensor(\n",
    "    input_sh[5][:, 2], Z_rest)\n",
    "    \n",
    "    # With the stochastic parameters we create the geomodel result:\n",
    "    Forw = pm.Deterministic('GemPy', geomodel(input_sh[0], input_sh[1], input_sh[2],\n",
    "                                                   input_sh[3], input_sh[4], input_sh[5]))\n",
    "    \n",
    "    # Calibration parameters\n",
    "    F_min, F_max =  T.min(Forw), T.max(Forw)   #36.630742, 36.651496    #30.159309, 30.174104#\n",
    "    F_range = F_max - F_min\n",
    "    F_mid = 0.5*(F_max+F_min)\n",
    "    \n",
    "    Reescaled_forw = grav_real_mid + (Forw - F_mid) / F_range * grav_real_range\n",
    "    \n",
    "    e_sq = T.sqrt(T.sum(T.square(Reescaled_forw - (grav_real_th))))\n",
    "\n",
    "    Y_obs = pm.HalfCauchy('Y_obs', beta=e_sq, observed=1000)"
   ]
  },
  {
   "cell_type": "code",
   "execution_count": null,
   "metadata": {},
   "outputs": [],
   "source": [
    "%debug"
   ]
  },
  {
   "cell_type": "code",
   "execution_count": null,
   "metadata": {},
   "outputs": [],
   "source": [
    "#import theano.tensor as T\n",
    "#import pymc3 as pm\n",
    "#pm.HalfCauchy?"
   ]
  },
  {
   "cell_type": "code",
   "execution_count": null,
   "metadata": {
    "scrolled": false
   },
   "outputs": [],
   "source": [
    "theano.config.compute_test_value = 'off'\n",
    "# This is the sampling\n",
    "# BEFORE RUN THIS FOR LONG CHECK IN THE MODULE THEANOGRAF THAT THE FLAG \n",
    "# THEANO OPTIMIZER IS IN 'fast_run'!!\n",
    "with model:\n",
    "   # backend = pm.backends.ndarray.NDArray('geomodels')\n",
    "    step = pm.NUTS()\n",
    "    trace = pm.sample(30, tune=10, init=None, step=step, )"
   ]
  },
  {
   "cell_type": "code",
   "execution_count": null,
   "metadata": {},
   "outputs": [],
   "source": [
    "%debug"
   ]
  },
  {
   "cell_type": "code",
   "execution_count": null,
   "metadata": {},
   "outputs": [],
   "source": [
    "trace.get_values('GemPy')[5] -  trace.get_values('GemPy')[15]"
   ]
  },
  {
   "cell_type": "code",
   "execution_count": null,
   "metadata": {},
   "outputs": [],
   "source": [
    "import matplotlib.pyplot as plt\n",
    "plt.imshow(trace.get_values('GemPy')[-10].reshape(50,50), cmap='viridis', origin='lower', extent=[7.050000e+05,747000,6863000,6950000] )\n",
    "plt.colorbar()"
   ]
  },
  {
   "cell_type": "code",
   "execution_count": null,
   "metadata": {
    "scrolled": false
   },
   "outputs": [],
   "source": [
    "import matplotlib.pyplot as plt\n",
    "for i in range(100):\n",
    "    gp.plot_section(geo_data, trace.get_values('GemPy')[i][0, :], 18,\n",
    "                       direction='y', plot_data=False)\n",
    "    plt.show()"
   ]
  },
  {
   "cell_type": "code",
   "execution_count": null,
   "metadata": {},
   "outputs": [],
   "source": [
    "from theano.printing import pydotprint\n",
    "\n",
    "pydotprint(model.logpt)"
   ]
  },
  {
   "cell_type": "code",
   "execution_count": null,
   "metadata": {},
   "outputs": [],
   "source": []
  }
 ],
 "metadata": {
  "kernelspec": {
   "display_name": "Python 3",
   "language": "python",
   "name": "python3"
  },
  "language_info": {
   "codemirror_mode": {
    "name": "ipython",
    "version": 3
   },
   "file_extension": ".py",
   "mimetype": "text/x-python",
   "name": "python",
   "nbconvert_exporter": "python",
   "pygments_lexer": "ipython3",
   "version": "3.6.4"
  },
  "latex_envs": {
   "LaTeX_envs_menu_present": true,
   "autocomplete": true,
   "bibliofile": "biblio.bib",
   "cite_by": "apalike",
   "current_citInitial": 1,
   "eqLabelWithNumbers": true,
   "eqNumInitial": 1,
   "hotkeys": {
    "equation": "Ctrl-E",
    "itemize": "Ctrl-I"
   },
   "labels_anchors": false,
   "latex_user_defs": false,
   "report_style_numbering": false,
   "user_envs_cfg": false
  },
  "toc": {
   "colors": {
    "hover_highlight": "#DAA520",
    "running_highlight": "#FF0000",
    "selected_highlight": "#FFD700"
   },
   "moveMenuLeft": true,
   "nav_menu": {
    "height": "39px",
    "width": "252px"
   },
   "navigate_menu": true,
   "number_sections": true,
   "sideBar": true,
   "threshold": 4,
   "toc_cell": false,
   "toc_section_display": "block",
   "toc_window_display": false,
   "widenNotebook": false
  }
 },
 "nbformat": 4,
 "nbformat_minor": 2
}
