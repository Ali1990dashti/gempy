{
 "cells": [
  {
   "cell_type": "markdown",
   "metadata": {},
   "source": [
    "# Chapter 4: Bayesian Statistics in pymc3 (Working in progress proof of concept)"
   ]
  },
  {
   "cell_type": "code",
   "execution_count": 1,
   "metadata": {},
   "outputs": [
    {
     "name": "stderr",
     "output_type": "stream",
     "text": [
      "WARNING (theano.tensor.blas): Using NumPy C-API based implementation for BLAS functions.\n"
     ]
    }
   ],
   "source": [
    "# These two lines are necessary only if gempy is not installed\n",
    "import sys, os\n",
    "sys.path.append(\"../..\")\n",
    "\n",
    "# Importing gempy\n",
    "import gempy as gp\n",
    "\n",
    "\n",
    "# Embedding matplotlib figures into the notebooks\n",
    "%matplotlib notebook\n",
    "\n",
    "# Aux imports\n",
    "import numpy as np"
   ]
  },
  {
   "cell_type": "code",
   "execution_count": 2,
   "metadata": {},
   "outputs": [
    {
     "name": "stderr",
     "output_type": "stream",
     "text": [
      "../../gempy/data_management.py:61: UserWarning: path_f is deprecated use instead path_o\n",
      "  warnings.warn('path_f is deprecated use instead path_o')\n"
     ]
    }
   ],
   "source": [
    "# Importing the data from csv files and settign extent and resolution\n",
    "geo_data = gp.create_data([696000-10000,747000 + 20600,6863000 - 20600,6950000 + 20600,-20000, 600],[10, 10, 10],\n",
    "                         path_f = os.pardir+\"/input_data/a_Foliations.csv\",\n",
    "                         path_i = os.pardir+\"/input_data/a_Points.csv\")"
   ]
  },
  {
   "cell_type": "code",
   "execution_count": 3,
   "metadata": {},
   "outputs": [
    {
     "data": {
      "text/plain": [
       "<gempy.sequential_pile.StratigraphicPile at 0x7f7eb836ddd8>"
      ]
     },
     "execution_count": 3,
     "metadata": {},
     "output_type": "execute_result"
    },
    {
     "data": {
      "image/png": "[encoded data removed]",
      "text/plain": [
       "<matplotlib.figure.Figure at 0x7f7eb839dc50>"
      ]
     },
     "metadata": {},
     "output_type": "display_data"
    }
   ],
   "source": [
    "# Assigning series to formations as well as their order (timewise)\n",
    "gp.set_series(geo_data, {\"EarlyGranite_Series\": 'EarlyGranite', \n",
    "                              \"BIF_Series\":('SimpleMafic2', 'SimpleBIF'),\n",
    "                              \"SimpleMafic_Series\":'SimpleMafic1'}, \n",
    "                      order_series = [\"EarlyGranite_Series\",\n",
    "                                      \"BIF_Series\",\n",
    "                                      \"SimpleMafic_Series\"],\n",
    "                      order_formations= ['EarlyGranite', 'SimpleMafic2', 'SimpleBIF', 'SimpleMafic1'],\n",
    "              verbose=1)"
   ]
  },
  {
   "cell_type": "markdown",
   "metadata": {},
   "source": [
    "Setting uncertainties adding the values to the Dataframe."
   ]
  },
  {
   "cell_type": "code",
   "execution_count": 4,
   "metadata": {},
   "outputs": [
    {
     "data": {
      "text/html": [
       "<div>\n",
       "<style scoped>\n",
       "    .dataframe tbody tr th:only-of-type {\n",
       "        vertical-align: middle;\n",
       "    }\n",
       "\n",
       "    .dataframe tbody tr th {\n",
       "        vertical-align: top;\n",
       "    }\n",
       "\n",
       "    .dataframe thead th {\n",
       "        text-align: right;\n",
       "    }\n",
       "</style>\n",
       "<table border=\"1\" class=\"dataframe\">\n",
       "  <thead>\n",
       "    <tr style=\"text-align: right;\">\n",
       "      <th></th>\n",
       "      <th>X</th>\n",
       "      <th>Y</th>\n",
       "      <th>Z</th>\n",
       "      <th>G_x</th>\n",
       "      <th>G_y</th>\n",
       "      <th>G_z</th>\n",
       "      <th>dip</th>\n",
       "      <th>azimuth</th>\n",
       "      <th>polarity</th>\n",
       "      <th>formation</th>\n",
       "      <th>series</th>\n",
       "      <th>X_std</th>\n",
       "      <th>Y_std</th>\n",
       "      <th>Z_std</th>\n",
       "      <th>dip_std</th>\n",
       "      <th>azimuth_std</th>\n",
       "      <th>order_series</th>\n",
       "      <th>isFault</th>\n",
       "      <th>formation number</th>\n",
       "      <th>annotations</th>\n",
       "    </tr>\n",
       "  </thead>\n",
       "  <tbody>\n",
       "    <tr>\n",
       "      <th>0</th>\n",
       "      <td>722403.8130</td>\n",
       "      <td>6880913.25</td>\n",
       "      <td>470.707065</td>\n",
       "      <td>0.819295</td>\n",
       "      <td>-0.546444</td>\n",
       "      <td>0.173648</td>\n",
       "      <td>80.0</td>\n",
       "      <td>123.702047</td>\n",
       "      <td>1</td>\n",
       "      <td>EarlyGranite</td>\n",
       "      <td>EarlyGranite_Series</td>\n",
       "      <td>None</td>\n",
       "      <td>0</td>\n",
       "      <td>100</td>\n",
       "      <td>10</td>\n",
       "      <td>10</td>\n",
       "      <td>1</td>\n",
       "      <td>False</td>\n",
       "      <td>1</td>\n",
       "      <td>${\\bf{x}}_{\\beta \\,{\\bf{1}},0}$</td>\n",
       "    </tr>\n",
       "    <tr>\n",
       "      <th>1</th>\n",
       "      <td>718928.3440</td>\n",
       "      <td>6883605.50</td>\n",
       "      <td>509.462245</td>\n",
       "      <td>0.063997</td>\n",
       "      <td>-0.982726</td>\n",
       "      <td>0.173648</td>\n",
       "      <td>80.0</td>\n",
       "      <td>176.274084</td>\n",
       "      <td>1</td>\n",
       "      <td>EarlyGranite</td>\n",
       "      <td>EarlyGranite_Series</td>\n",
       "      <td>None</td>\n",
       "      <td>0</td>\n",
       "      <td>100</td>\n",
       "      <td>10</td>\n",
       "      <td>10</td>\n",
       "      <td>1</td>\n",
       "      <td>False</td>\n",
       "      <td>1</td>\n",
       "      <td>${\\bf{x}}_{\\beta \\,{\\bf{1}},1}$</td>\n",
       "    </tr>\n",
       "    <tr>\n",
       "      <th>2</th>\n",
       "      <td>720690.5630</td>\n",
       "      <td>6882822.25</td>\n",
       "      <td>489.909423</td>\n",
       "      <td>-0.948735</td>\n",
       "      <td>-0.264099</td>\n",
       "      <td>0.173648</td>\n",
       "      <td>80.0</td>\n",
       "      <td>254.444427</td>\n",
       "      <td>1</td>\n",
       "      <td>EarlyGranite</td>\n",
       "      <td>EarlyGranite_Series</td>\n",
       "      <td>None</td>\n",
       "      <td>0</td>\n",
       "      <td>100</td>\n",
       "      <td>10</td>\n",
       "      <td>10</td>\n",
       "      <td>1</td>\n",
       "      <td>False</td>\n",
       "      <td>1</td>\n",
       "      <td>${\\bf{x}}_{\\beta \\,{\\bf{1}},2}$</td>\n",
       "    </tr>\n",
       "    <tr>\n",
       "      <th>3</th>\n",
       "      <td>721229.0005</td>\n",
       "      <td>6880766.25</td>\n",
       "      <td>477.680894</td>\n",
       "      <td>-0.955039</td>\n",
       "      <td>-0.240305</td>\n",
       "      <td>0.173648</td>\n",
       "      <td>80.0</td>\n",
       "      <td>255.876557</td>\n",
       "      <td>1</td>\n",
       "      <td>EarlyGranite</td>\n",
       "      <td>EarlyGranite_Series</td>\n",
       "      <td>None</td>\n",
       "      <td>0</td>\n",
       "      <td>100</td>\n",
       "      <td>10</td>\n",
       "      <td>10</td>\n",
       "      <td>1</td>\n",
       "      <td>False</td>\n",
       "      <td>1</td>\n",
       "      <td>${\\bf{x}}_{\\beta \\,{\\bf{1}},3}$</td>\n",
       "    </tr>\n",
       "    <tr>\n",
       "      <th>4</th>\n",
       "      <td>710459.8440</td>\n",
       "      <td>6880521.50</td>\n",
       "      <td>511.839758</td>\n",
       "      <td>-0.782956</td>\n",
       "      <td>-0.597348</td>\n",
       "      <td>0.173648</td>\n",
       "      <td>80.0</td>\n",
       "      <td>232.658556</td>\n",
       "      <td>1</td>\n",
       "      <td>EarlyGranite</td>\n",
       "      <td>EarlyGranite_Series</td>\n",
       "      <td>None</td>\n",
       "      <td>0</td>\n",
       "      <td>100</td>\n",
       "      <td>10</td>\n",
       "      <td>10</td>\n",
       "      <td>1</td>\n",
       "      <td>False</td>\n",
       "      <td>1</td>\n",
       "      <td>${\\bf{x}}_{\\beta \\,{\\bf{1}},4}$</td>\n",
       "    </tr>\n",
       "  </tbody>\n",
       "</table>\n",
       "</div>"
      ],
      "text/plain": [
       "             X           Y           Z       G_x       G_y       G_z   dip  \\\n",
       "0  722403.8130  6880913.25  470.707065  0.819295 -0.546444  0.173648  80.0   \n",
       "1  718928.3440  6883605.50  509.462245  0.063997 -0.982726  0.173648  80.0   \n",
       "2  720690.5630  6882822.25  489.909423 -0.948735 -0.264099  0.173648  80.0   \n",
       "3  721229.0005  6880766.25  477.680894 -0.955039 -0.240305  0.173648  80.0   \n",
       "4  710459.8440  6880521.50  511.839758 -0.782956 -0.597348  0.173648  80.0   \n",
       "\n",
       "      azimuth  polarity     formation               series X_std  Y_std  \\\n",
       "0  123.702047         1  EarlyGranite  EarlyGranite_Series  None      0   \n",
       "1  176.274084         1  EarlyGranite  EarlyGranite_Series  None      0   \n",
       "2  254.444427         1  EarlyGranite  EarlyGranite_Series  None      0   \n",
       "3  255.876557         1  EarlyGranite  EarlyGranite_Series  None      0   \n",
       "4  232.658556         1  EarlyGranite  EarlyGranite_Series  None      0   \n",
       "\n",
       "   Z_std  dip_std  azimuth_std  order_series  isFault  formation number  \\\n",
       "0    100       10           10             1    False                 1   \n",
       "1    100       10           10             1    False                 1   \n",
       "2    100       10           10             1    False                 1   \n",
       "3    100       10           10             1    False                 1   \n",
       "4    100       10           10             1    False                 1   \n",
       "\n",
       "                       annotations  \n",
       "0  ${\\bf{x}}_{\\beta \\,{\\bf{1}},0}$  \n",
       "1  ${\\bf{x}}_{\\beta \\,{\\bf{1}},1}$  \n",
       "2  ${\\bf{x}}_{\\beta \\,{\\bf{1}},2}$  \n",
       "3  ${\\bf{x}}_{\\beta \\,{\\bf{1}},3}$  \n",
       "4  ${\\bf{x}}_{\\beta \\,{\\bf{1}},4}$  "
      ]
     },
     "execution_count": 4,
     "metadata": {},
     "output_type": "execute_result"
    }
   ],
   "source": [
    "geo_data.interfaces['X_std'] = None\n",
    "geo_data.interfaces['Y_std'] = 0\n",
    "geo_data.interfaces['Z_std'] = 100\n",
    "\n",
    "geo_data.orientations['X_std'] = None\n",
    "geo_data.orientations['Y_std'] = 0\n",
    "geo_data.orientations['Z_std'] = 100\n",
    "\n",
    "geo_data.orientations['dip_std'] = 10\n",
    "geo_data.orientations['azimuth_std'] = 10\n",
    "geo_data.orientations.head()"
   ]
  },
  {
   "cell_type": "markdown",
   "metadata": {},
   "source": [
    "## Real gravity"
   ]
  },
  {
   "cell_type": "code",
   "execution_count": 5,
   "metadata": {},
   "outputs": [
    {
     "data": {
      "image/png": "[encoded data removed]",
      "text/plain": [
       "<matplotlib.figure.Figure at 0x7f7eb82467b8>"
      ]
     },
     "metadata": {},
     "output_type": "display_data"
    }
   ],
   "source": [
    "import matplotlib.pyplot as plt\n",
    "import pandas as pn\n",
    "grav_real = pn.read_csv('../input_data/Sst_grav_2000.xyz', header=None, names = ['X', 'Y', 'N', 'G'], delim_whitespace=True)\n",
    "plt.imshow(grav_real['G'].values.reshape(31,21), extent=[7.050000e+05,747000,6863000,6950000], origin='lower', cmap='viridis')\n",
    "fig = plt.gcf()\n",
    "fig.set_size_inches(18.5, 10.5)"
   ]
  },
  {
   "cell_type": "code",
   "execution_count": 6,
   "metadata": {},
   "outputs": [],
   "source": [
    "# Calibration parameters\n",
    "# F_min, F_max =  np.min(Forw), np.max(Forw)   #36.630742, 36.651496    #30.159309, 30.174104#\n",
    "# F_range = F_max - F_min\n",
    "# F_mid = 0.5*(F_max+F_min)\n",
    "\n",
    "rs_min, rs_max = np.min(grav_real['G']), np.max(grav_real['G'])\n",
    "rs_range = rs_max - rs_min\n",
    "rs_mid = 0.5*(rs_max+rs_min)\n",
    "\n",
    "#Rescaling\n",
    "\n",
    "# rs_mid + (grid - m_mid) / m_range * rs_range\n",
    "# Reescaled_forw = rs_mid + (Forw - F_mid) / F_range * rs_range"
   ]
  },
  {
   "cell_type": "code",
   "execution_count": 7,
   "metadata": {},
   "outputs": [],
   "source": [
    "import theano\n",
    "grav_real_mid = theano.shared(rs_mid, 'Grav_real_mid')\n",
    "grav_real_range = theano.shared(rs_range, 'Grav_real_range')\n",
    "grav_real_th = theano.shared(grav_real['G'].as_matrix())"
   ]
  },
  {
   "cell_type": "code",
   "execution_count": 8,
   "metadata": {},
   "outputs": [
    {
     "data": {
      "text/plain": [
       "(651,)"
      ]
     },
     "execution_count": 8,
     "metadata": {},
     "output_type": "execute_result"
    }
   ],
   "source": [
    "grav_real_th.get_value().shape"
   ]
  },
  {
   "cell_type": "code",
   "execution_count": 9,
   "metadata": {},
   "outputs": [],
   "source": [
    "# input_data_T = interp_data.interpolator.tg.input_parameters_list()\n",
    "# input_data_P = interp_data.get_input_data(u_grade=[3, 3])\n",
    "# select = interp_data.interpolator.pandas_rest_layer_points['formation'] == 'Reservoir'"
   ]
  },
  {
   "cell_type": "code",
   "execution_count": 10,
   "metadata": {
    "scrolled": false
   },
   "outputs": [],
   "source": [
    "interp_data_grav = gp.InterpolatorData(geo_data, output='geology', compile_theano=False, dtype='float64', theano_optimizer='fast_compile',\n",
    "                                   u_grade=[1,1,1], verbose=['scalar_field_iter', 'block_series'])"
   ]
  },
  {
   "cell_type": "code",
   "execution_count": 11,
   "metadata": {},
   "outputs": [
    {
     "data": {
      "text/plain": [
       "<gempy.geophysics.GravityPreprocessing at 0x7fa63069a278>"
      ]
     },
     "execution_count": 11,
     "metadata": {},
     "output_type": "execute_result"
    }
   ],
   "source": [
    "gp.set_geophysics_obj(interp_data_grav,  [7.050000e+05,747000,6863000,6925000,-20000, 200],\n",
    "                                             [31,21])"
   ]
  },
  {
   "cell_type": "code",
   "execution_count": 12,
   "metadata": {},
   "outputs": [],
   "source": [
    "#a,b = gp.precomputations_gravity(interp_data_grav, 24, [2.92, 3.1, 2.92, 2.61, 2.61])"
   ]
  },
  {
   "cell_type": "code",
   "execution_count": 13,
   "metadata": {
    "run_control": {
     "marked": true
    }
   },
   "outputs": [],
   "source": [
    "#sol[0][1]"
   ]
  },
  {
   "cell_type": "code",
   "execution_count": 18,
   "metadata": {
    "scrolled": false
   },
   "outputs": [
    {
     "name": "stdout",
     "output_type": "stream",
     "text": [
      "scalar_field_iter __str__ = [ 40.22350311  35.22350311]\n",
      "middle point __str__ = [ 1.  1.  1. ...,  1.  1.  1.]\n",
      "The chunk of block model of a specific series __str__ = [ 1.  1.  1. ...,  1.  1.  1.]\n",
      "scalar_field_iter __str__ = [ 30.58366966  30.57885361  25.57885361]\n",
      "middle point __str__ = [  4.05864447e-01   6.75169230e-01   5.14110625e-01   2.39838615e-01\n",
      "   9.23406109e-02   6.18990138e-02   9.82316077e-01   1.41090855e-01\n",
      "   7.22695231e-01   2.97550508e-03   2.54095392e-03   1.62774604e-02\n",
      "   1.83589105e-02   3.93690914e-01   8.51263702e-02   1.01515492e-02\n",
      "   2.39688065e-02   1.72796920e-01   2.10013464e-01   1.75595507e-01\n",
      "   8.15612543e-03   2.07837496e-04   5.02297981e-03   6.41818821e-01\n",
      "   3.55941243e-02   7.96387263e-04   6.18171930e-01   5.86108387e-01\n",
      "   5.84534287e-01   5.66831708e-01   5.81752419e-01   5.68891108e-01\n",
      "   5.88604629e-01   5.77662885e-01   5.61015666e-01   5.91372967e-01\n",
      "   3.81918103e-01   3.47813964e-01   3.61960739e-01   3.59761208e-01\n",
      "   3.50067168e-01   3.51544082e-01   3.59761208e-01   3.76529992e-01\n",
      "   3.59936923e-01   3.53808373e-01   3.38015676e-01   3.60200673e-01\n",
      "   3.58093470e-01   3.56341660e-01   5.20329149e-06   6.02243934e-04\n",
      "   2.40159017e-04   1.59423280e-07   6.75962400e-03   1.56895500e-02\n",
      "   3.34140001e-04   7.85533804e-04   7.43098557e-03   2.77055315e-05\n",
      "   3.24747874e-03   2.18630861e-03   3.25613399e-03   3.12737197e-01\n",
      "   2.11274091e-04   8.79028380e-01   4.03199613e-01   4.03199613e-01\n",
      "   4.03199613e-01   4.03199613e-01   4.03199613e-01   4.03199613e-01\n",
      "   4.03199613e-01   4.03199613e-01   4.03199613e-01   4.03199613e-01\n",
      "   4.03199613e-01   4.03199613e-01   4.03199613e-01   4.03199613e-01\n",
      "   4.03199613e-01   4.03199613e-01   4.03199613e-01   4.03199613e-01\n",
      "   4.03199613e-01   4.03199613e-01   4.03199613e-01   4.03199613e-01\n",
      "   4.03199613e-01   4.03199613e-01   4.03199613e-01   4.03199613e-01\n",
      "   5.83236754e-01   5.83236754e-01   5.83236754e-01   5.83236754e-01\n",
      "   5.83236754e-01   5.83236754e-01   5.83236754e-01   5.83236754e-01\n",
      "   5.83236754e-01   5.83236754e-01   3.57304692e-01   3.57304692e-01\n",
      "   3.57304692e-01   3.57304692e-01   3.57304692e-01   3.57304692e-01\n",
      "   3.57304692e-01   3.57304692e-01   3.57304692e-01   3.57304692e-01\n",
      "   3.57304692e-01   3.57304692e-01   3.57304692e-01   3.57304692e-01\n",
      "   1.20741746e-03   1.20741746e-03   1.20741746e-03   1.20741746e-03\n",
      "   1.20741746e-03   1.20741746e-03   1.20741746e-03   1.20741746e-03\n",
      "   1.20741746e-03   1.20741746e-03   1.20741746e-03   1.20741746e-03\n",
      "   1.20741746e-03   1.20741746e-03   1.20741746e-03   1.20741746e-03]\n",
      "middle point __str__ = [ 1.  1.  1.  1.  1.  1.  1.  1.  1.  1.  1.  1.  1.  1.  1.  1.  1.  1.\n",
      "  1.  1.  1.  1.  1.  1.  1.  1.  1.  1.  1.  1.  1.  1.  1.  1.  1.  1.\n",
      "  1.  1.  1.  1.  1.  1.  1.  1.  1.  1.  1.  1.  1.  1.  1.  1.  1.  1.\n",
      "  1.  1.  1.  1.  1.  1.  1.  1.  1.  1.  1.  1.  1.  1.  1.  1.  1.  1.\n",
      "  1.  1.  1.  1.  1.  1.  1.  1.  1.  1.  1.  1.  1.  1.  1.  1.  1.  1.\n",
      "  1.  1.  1.  1.  1.  1.  1.  1.  1.  1.  1.  1.  1.  1.  1.  1.  1.  1.\n",
      "  1.  1.  1.  1.  1.  1.  1.  1.  1.  1.  1.  1.  1.  1.  1.  1.  1.  1.\n",
      "  1.  1.  1.  1.  1.  1.]\n",
      "The chunk of block model of a specific series __str__ = [ 3.81172895  4.35033846  4.02822113  3.4796772   3.18468118  3.12379813\n",
      "  4.96463203  3.28218174  4.4453907   3.00595093  3.00508189  3.03255486\n",
      "  3.03671789  3.78738189  3.1702528   3.02030301  3.04793763  3.34559393\n",
      "  3.42002702  3.35119104  3.01631236  3.00041556  3.01004601  4.28363752\n",
      "  3.07118821  3.00159287  4.23634386  4.17221689  4.16906834  4.13366318\n",
      "  4.1635046   4.1377821   4.17720938  4.15532589  4.12203121  4.18274593\n",
      "  3.76383615  3.69562793  3.72392154  3.71952248  3.70013428  3.70308828\n",
      "  3.71952248  3.75305986  3.71987391  3.70761681  3.67603135  3.72040129\n",
      "  3.716187    3.7126832   3.00001049  3.00120449  3.00048041  3.00000024\n",
      "  3.01351929  3.03137898  3.00066829  3.00157118  3.01486206  3.00005531\n",
      "  3.006495    3.0043726   3.00651217  3.62547445  3.00042248  4.75805664\n",
      "  3.80639935  3.80639935  3.80639935  3.80639935  3.80639935  3.80639935\n",
      "  3.80639935  3.80639935  3.80639935  3.80639935  3.80639935  3.80639935\n",
      "  3.80639935  3.80639935  3.80639935  3.80639935  3.80639935  3.80639935\n",
      "  3.80639935  3.80639935  3.80639935  3.80639935  3.80639935  3.80639935\n",
      "  3.80639935  3.80639935  4.16647339  4.16647339  4.16647339  4.16647339\n",
      "  4.16647339  4.16647339  4.16647339  4.16647339  4.16647339  4.16647339\n",
      "  3.71460938  3.71460938  3.71460938  3.71460938  3.71460938  3.71460938\n",
      "  3.71460938  3.71460938  3.71460938  3.71460938  3.71460938  3.71460938\n",
      "  3.71460938  3.71460938  3.00241494  3.00241494  3.00241494  3.00241494\n",
      "  3.00241494  3.00241494  3.00241494  3.00241494  3.00241494  3.00241494\n",
      "  3.00241494  3.00241494  3.00241494  3.00241494  3.00241494  3.00241494]\n",
      "scalar_field_iter __str__ = [ 10.9311285   5.9311285]\n",
      "middle point __str__ = [ 1.  1.  1.  1.  1.  1.  1.  1.  1.  1.  1.  1.  1.  1.  1.  1.  1.  1.\n",
      "  1.  1.  1.  1.  1.  1.  1.  1.  1.  1.  1.  1.  1.  1.  1.  1.  1.  1.\n",
      "  1.  1.  1.  1.  1.  1.  1.  1.  1.  1.  1.  1.  1.  1.  1.  1.  1.  1.\n",
      "  1.  1.  1.  1.  1.  1.  1.  1.  1.  1.  1.  1.  1.  1.  1.  1.  1.  1.\n",
      "  1.  1.  1.  1.  1.  1.  1.  1.  1.  1.  1.  1.  1.  1.  1.  1.  1.  1.\n",
      "  1.  1.  1.  1.  1.  1.  1.  1.  1.  1.  1.  1.  1.  1.  1.  1.  1.  1.\n",
      "  1.  1.  1.  1.  1.  1.  1.  1.  1.  1.  1.  1.  1.  1.  1.  1.  1.  1.\n",
      "  1.  1.  1.  1.  1.  1.]\n",
      "The chunk of block model of a specific series __str__ = [ 4.  4.  4.  4.  4.  4.  4.  4.  4.  4.  4.  4.  4.  4.  4.  4.  4.  4.\n",
      "  4.  4.  4.  4.  4.  4.  4.  4.  4.  4.  4.  4.  4.  4.  4.  4.  4.  4.\n",
      "  4.  4.  4.  4.  4.  4.  4.  4.  4.  4.  4.  4.  4.  4.  4.  4.  4.  4.\n",
      "  4.  4.  4.  4.  4.  4.  4.  4.  4.  4.  4.  4.  4.  4.  4.  4.  4.  4.\n",
      "  4.  4.  4.  4.  4.  4.  4.  4.  4.  4.  4.  4.  4.  4.  4.  4.  4.  4.\n",
      "  4.  4.  4.  4.  4.  4.  4.  4.  4.  4.  4.  4.  4.  4.  4.  4.  4.  4.\n",
      "  4.  4.  4.  4.  4.  4.  4.  4.  4.  4.  4.  4.  4.  4.  4.  4.  4.  4.\n",
      "  4.  4.  4.  4.  4.  4.]\n"
     ]
    }
   ],
   "source": [
    "theano.config.compute_test_value = 'off'\n",
    "\n",
    "sol = gp.compute_model(interp_data_grav, output='geology')"
   ]
  },
  {
   "cell_type": "code",
   "execution_count": 15,
   "metadata": {
    "scrolled": true
   },
   "outputs": [
    {
     "data": {
      "text/plain": [
       "array([ 1.,  1.,  1.,  1.,  1.,  1.,  1.,  1.,  1.,  1.,  1.,  1.,  1.,\n",
       "        1.,  1.,  1.,  1.,  1.,  1.,  1.,  1.,  1.,  1.,  1.,  1.,  1.,\n",
       "        1.,  1.,  1.,  1.,  1.,  1.,  1.,  1.,  1.,  1.,  1.,  1.,  1.,\n",
       "        1.,  1.,  1.,  1.,  1.,  1.,  1.,  1.,  1.,  1.,  1.,  1.,  1.,\n",
       "        1.,  1.,  1.,  1.,  1.,  1.,  1.,  1.,  1.,  1.,  1.,  1.,  1.,\n",
       "        1.,  1.,  1.,  1.,  1.,  1.,  1.,  1.,  1.,  1.,  1.,  1.,  1.,\n",
       "        1.,  1.,  1.,  1.,  1.,  1.,  1.,  1.,  1.,  1.,  1.,  1.,  1.,\n",
       "        1.,  1.,  1.,  1.,  1.,  1.,  1.,  1.,  1.,  1.,  1.,  1.,  1.,\n",
       "        1.,  1.,  1.,  1.,  1.,  1.,  1.,  1.,  1.,  1.,  1.,  1.,  1.,\n",
       "        1.,  1.,  1.,  1.,  1.,  1.,  1.,  1.,  1.,  1.,  1.,  1.,  1.,\n",
       "        1.,  1.,  1.,  1.,  1.,  1.,  1.,  1.,  1.,  1.,  1.,  1.,  1.,\n",
       "        1.,  1.,  1.,  1.,  1.,  1.,  1.,  1.,  1.,  1.,  1.,  1.,  1.,\n",
       "        1.,  1.,  1.,  1.,  1.,  1.,  1.,  1.,  1.,  1.,  1.,  1.,  1.,\n",
       "        1.,  1.,  1.,  1.,  1.,  1.,  1.,  1.,  1.,  1.,  1.,  1.,  1.,\n",
       "        1.,  1.,  1.,  1.,  1.,  1.,  1.,  1.,  1.,  1.,  1.,  1.,  1.,\n",
       "        1.,  1.,  1.,  1.,  1.,  1.,  1.,  1.,  1.,  1.,  1.,  1.,  1.,\n",
       "        1.,  1.,  1.,  1.,  1.,  1.,  1.,  1.,  1.,  1.,  1.,  1.,  1.,\n",
       "        1.,  1.,  1.,  1.,  1.,  1.,  1.,  1.,  1.,  1.,  1.,  1.,  1.,\n",
       "        1.,  1.,  1.,  1.,  1.,  1.,  1.,  1.,  1.,  1.,  1.,  1.,  1.,\n",
       "        1.,  1.,  1.,  1.,  1.,  1.,  1.,  1.,  1.,  1.,  1.,  1.,  1.,\n",
       "        1.,  1.,  1.,  1.,  1.,  1.,  1.,  1.,  1.,  1.,  1.,  1.,  1.,\n",
       "        1.,  1.,  1.,  1.,  1.,  1.,  1.,  1.,  1.,  1.,  1.,  1.,  1.,\n",
       "        1.,  1.,  1.,  1.,  1.,  1.,  1.,  1.,  1.,  1.,  1.,  1.,  1.,\n",
       "        1.,  1.,  1.,  1.,  1.,  1.,  1.,  1.,  1.,  1.,  1.,  1.,  1.,\n",
       "        1.,  1.,  1.,  1.,  1.,  1.,  1.,  1.,  1.,  1.,  1.,  1.,  1.,\n",
       "        1.,  1.,  1.,  1.,  1.,  1.,  1.,  1.,  1.,  1.,  1.,  1.,  1.,\n",
       "        1.,  1.,  1.,  1.,  1.,  1.,  1.,  1.,  1.,  1.,  1.,  1.,  1.,\n",
       "        1.,  1.,  1.,  1.,  1.,  1.,  1.,  1.,  1.,  1.,  1.,  1.,  1.,\n",
       "        1.,  1.,  1.,  1.,  1.,  1.,  1.,  1.,  1.,  1.,  1.,  1.,  1.,\n",
       "        1.,  1.,  1.,  1.,  1.,  1.,  1.,  1.,  1.,  1.,  1.,  1.,  1.,\n",
       "        1.,  1.,  1.,  1.,  1.,  1.,  1.,  1.,  1.,  1.,  1.,  1.,  1.,\n",
       "        1.,  1.,  1.,  1.,  1.,  1.,  1.,  1.,  1.,  1.,  1.,  1.,  1.,\n",
       "        1.,  1.,  1.,  1.,  1.,  1.,  1.,  1.,  1.,  1.,  1.,  1.,  1.,\n",
       "        1.,  1.,  1.,  1.,  1.,  1.,  1.,  1.,  1.,  1.,  1.,  1.,  1.,\n",
       "        1.,  1.,  1.,  1.,  1.,  1.,  1.,  1.,  1.,  1.,  1.,  1.,  1.,\n",
       "        1.,  1.,  1.,  1.,  1.,  1.,  1.,  1.,  1.,  1.,  1.,  1.,  1.,\n",
       "        1.,  1.,  1.,  1.,  1.,  1.,  1.,  1.,  1.,  1.,  1.,  1.,  1.,\n",
       "        1.,  1.,  1.,  1.,  1.,  1.,  1.,  1.,  1.,  1.,  1.,  1.,  1.,\n",
       "        1.,  1.,  1.,  1.,  1.,  1.,  1.,  1.,  1.,  1.,  1.,  1.,  1.,\n",
       "        1.,  1.,  1.,  1.,  1.,  1.,  1.,  1.,  1.,  1.,  1.,  1.,  1.,\n",
       "        1.,  1.,  1.,  1.,  1.,  1.,  1.,  1.,  1.,  1.,  1.,  1.,  1.,\n",
       "        1.,  1.,  1.,  1.,  1.,  1.,  1.,  1.,  1.,  1.,  1.,  1.,  1.,\n",
       "        1.,  1.,  1.,  1.,  1.,  1.,  1.,  1.,  1.,  1.,  1.,  1.,  1.,\n",
       "        1.,  1.,  1.,  1.,  1.,  1.,  1.,  1.,  1.,  1.,  1.,  1.,  1.,\n",
       "        1.,  1.,  1.,  1.,  1.,  1.,  1.,  1.,  1.,  1.,  1.,  1.,  1.,\n",
       "        1.,  1.,  1.,  1.,  1.,  1.,  1.,  1.,  1.,  1.,  1.,  1.,  1.,\n",
       "        1.,  1.,  1.,  1.,  1.,  1.,  1.,  1.,  1.,  1.,  1.,  1.,  1.,\n",
       "        1.,  1.,  1.,  1.,  1.,  1.,  1.,  1.,  1.,  1.,  1.,  1.,  1.,\n",
       "        1.,  1.,  1.,  1.,  1.,  1.,  1.,  1.,  1.,  1.,  1.,  1.,  1.,\n",
       "        1.,  1.,  1.,  1.,  1.,  1.,  1.,  1.,  1.,  1.,  1.,  1.,  1.,\n",
       "        1.,  1.,  1.,  1.,  1.,  1.,  1.,  1.,  1.,  1.,  1.,  1.,  1.,\n",
       "        1.,  1.,  1.,  1.,  1.,  1.,  1.,  1.,  1.,  1.,  1.,  1.,  1.,\n",
       "        1.,  1.,  1.,  1.,  1.,  1.,  1.,  1.,  1.,  1.,  1.,  1.,  1.,\n",
       "        1.,  1.,  1.,  1.,  1.,  1.,  1.,  1.,  1.,  1.,  1.,  1.,  1.,\n",
       "        1.,  1.,  1.,  1.,  1.,  1.,  1.,  1.,  1.,  1.,  1.,  1.,  1.,\n",
       "        1.,  1.,  1.,  1.,  1.,  1.,  1.,  1.,  1.,  1.,  1.,  1.,  1.,\n",
       "        1.,  1.,  1.,  1.,  1.,  1.,  1.,  1.,  1.,  1.,  1.,  1.,  1.,\n",
       "        1.,  1.,  1.,  1.,  1.,  1.,  1.,  1.,  1.,  1.,  1.,  1.,  1.,\n",
       "        1.,  1.,  1.,  1.,  1.,  1.,  1.,  1.,  1.,  1.,  1.,  1.,  1.,\n",
       "        1.,  1.,  1.,  1.,  1.,  1.,  1.,  1.,  1.,  1.,  1.,  1.,  1.,\n",
       "        1.,  1.,  1.,  1.,  1.,  1.,  1.,  1.,  1.,  1.,  1.,  1.,  1.,\n",
       "        1.,  1.,  1.,  1.,  1.,  1.,  1.,  1.,  1.,  1.,  1.,  1.,  1.,\n",
       "        1.,  1.,  1.,  1.,  1.,  1.,  1.,  1.,  1.,  1.,  1.,  1.,  1.,\n",
       "        1.,  1.,  1.,  1.,  1.,  1.,  1.,  1.,  1.,  1.,  1.,  1.,  1.,\n",
       "        1.,  1.,  1.,  1.,  1.,  1.,  1.,  1.,  1.,  1.,  1.,  1.,  1.,\n",
       "        1.,  1.,  1.,  1.,  1.,  1.,  1.,  1.,  1.,  1.,  1.,  1.,  1.,\n",
       "        1.,  1.,  1.,  1.,  1.,  1.,  1.,  1.,  1.,  1.,  1.,  1.,  1.,\n",
       "        1.,  1.,  1.,  1.,  1.,  1.,  1.,  1.,  1.,  1.,  1.,  1.,  1.,\n",
       "        1.,  1.,  1.,  1.,  1.,  1.,  1.,  1.,  1.,  1.,  1.,  1.,  1.,\n",
       "        1.,  1.,  1.,  1.,  1.,  1.,  1.,  1.,  1.,  1.,  1.,  1.,  1.,\n",
       "        1.,  1.,  1.,  1.,  1.,  1.,  1.,  1.,  1.,  1.,  1.,  1.,  1.,\n",
       "        1.,  1.,  1.,  1.,  1.,  1.,  1.,  1.,  1.,  1.,  1.,  1.,  1.,\n",
       "        1.,  1.,  1.,  1.,  1.,  1.,  1.,  1.,  1.,  1.,  1.,  1.,  1.,\n",
       "        1.,  1.,  1.,  1.,  1.,  1.,  1.,  1.,  1.,  1.,  1.,  1.,  1.,\n",
       "        1.,  1.,  1.,  1.,  1.,  1.,  1.,  1.,  1.,  1.,  1.,  1.,  1.,\n",
       "        1.,  1.,  1.,  1.,  1.,  1.,  1.,  1.,  1.,  1.,  1.,  1.,  1.,\n",
       "        1.,  1.,  1.,  1.,  1.,  1.,  1.,  1.,  1.,  1.,  1.,  1.])"
      ]
     },
     "execution_count": 15,
     "metadata": {},
     "output_type": "execute_result"
    }
   ],
   "source": [
    "sol[0][0]"
   ]
  },
  {
   "cell_type": "code",
   "execution_count": 16,
   "metadata": {},
   "outputs": [
    {
     "data": {
      "text/plain": [
       "array([[ 40.22350311,   0.        ,   0.        ,   0.        ],\n",
       "       [  0.        ,  30.58366966,  30.57885361,   0.        ],\n",
       "       [  0.        ,   0.        ,   0.        ,  10.9311285 ]])"
      ]
     },
     "execution_count": 16,
     "metadata": {},
     "output_type": "execute_result"
    }
   ],
   "source": [
    "interp_data_grav.potential_at_interfaces"
   ]
  },
  {
   "cell_type": "code",
   "execution_count": 17,
   "metadata": {},
   "outputs": [
    {
     "ename": "SyntaxError",
     "evalue": "'break' outside loop (<ipython-input-17-6aaf1f276005>, line 1)",
     "output_type": "error",
     "traceback": [
      "\u001b[0;36m  File \u001b[0;32m\"<ipython-input-17-6aaf1f276005>\"\u001b[0;36m, line \u001b[0;32m1\u001b[0m\n\u001b[0;31m    break\u001b[0m\n\u001b[0m         ^\u001b[0m\n\u001b[0;31mSyntaxError\u001b[0m\u001b[0;31m:\u001b[0m 'break' outside loop\n"
     ]
    }
   ],
   "source": [
    "break"
   ]
  },
  {
   "cell_type": "code",
   "execution_count": null,
   "metadata": {},
   "outputs": [],
   "source": [
    "sol[0][0].max(), interp_data_grav.interpolator.tg.n_formation_float.get_value()"
   ]
  },
  {
   "cell_type": "code",
   "execution_count": null,
   "metadata": {},
   "outputs": [],
   "source": [
    "gp.plot_section(geo_data, sol[0][1], direction='z', cell_number=-1, plot_data=True)"
   ]
  },
  {
   "cell_type": "code",
   "execution_count": null,
   "metadata": {
    "scrolled": false
   },
   "outputs": [],
   "source": [
    "gp.plot_scalar_field(geo_data, sol[0][1], direction='z', cell_number=-1, plot_data=True)"
   ]
  },
  {
   "cell_type": "code",
   "execution_count": null,
   "metadata": {
    "scrolled": false
   },
   "outputs": [],
   "source": [
    "sol[0][1];"
   ]
  },
  {
   "cell_type": "code",
   "execution_count": 25,
   "metadata": {},
   "outputs": [
    {
     "data": {
      "text/plain": [
       "2.9922153204220199e-11"
      ]
     },
     "execution_count": 25,
     "metadata": {},
     "output_type": "execute_result"
    }
   ],
   "source": [
    "segm = 1. / (1 + np.exp(-200 * (90.3 - mid_pot)))\n",
    "segm"
   ]
  },
  {
   "cell_type": "code",
   "execution_count": null,
   "metadata": {},
   "outputs": [],
   "source": []
  },
  {
   "cell_type": "code",
   "execution_count": 32,
   "metadata": {},
   "outputs": [
    {
     "name": "stderr",
     "output_type": "stream",
     "text": [
      "/home/miguel/anaconda3/lib/python3.6/site-packages/ipykernel_launcher.py:1: VisibleDeprecationWarning: using a non-integer number instead of an integer will result in an error in the future\n",
      "  \"\"\"Entry point for launching an IPython kernel.\n"
     ]
    }
   ],
   "source": [
    "a = np.random.rand(1e8)"
   ]
  },
  {
   "cell_type": "code",
   "execution_count": 33,
   "metadata": {},
   "outputs": [
    {
     "name": "stdout",
     "output_type": "stream",
     "text": [
      "48.7 ms ± 1.56 ms per loop (mean ± std. dev. of 7 runs, 10 loops each)\n"
     ]
    }
   ],
   "source": [
    "%%timeit\n",
    "a.max()"
   ]
  },
  {
   "cell_type": "code",
   "execution_count": 34,
   "metadata": {},
   "outputs": [
    {
     "name": "stdout",
     "output_type": "stream",
     "text": [
      "78.8 ms ± 609 µs per loop (mean ± std. dev. of 7 runs, 10 loops each)\n"
     ]
    }
   ],
   "source": [
    "%%timeit\n",
    "np.greater(a, 0.5)"
   ]
  },
  {
   "cell_type": "markdown",
   "metadata": {},
   "source": [
    "Now the generation of the geomodel will be an operation embedded in a larger tree."
   ]
  },
  {
   "cell_type": "code",
   "execution_count": null,
   "metadata": {},
   "outputs": [],
   "source": [
    "import theano\n",
    "import theano.tensor as T\n",
    "geomodel = theano.OpFromGraph(interp_data_grav.interpolator.tg.input_parameters_list(),\n",
    "                              [interp_data_grav.interpolator.tg.compute_forward_gravity(n_faults=0)[-1]],\n",
    "                              on_unused_input='ignore',\n",
    "                            )"
   ]
  },
  {
   "cell_type": "code",
   "execution_count": null,
   "metadata": {},
   "outputs": [],
   "source": [
    "input_sh = []\n",
    "for i in interp_data_grav.get_input_data():\n",
    "    input_sh.append(theano.shared(i))"
   ]
  },
  {
   "cell_type": "code",
   "execution_count": null,
   "metadata": {},
   "outputs": [],
   "source": [
    "e = geomodel(*input_sh)\n",
    "der = theano.grad(e[0], input_sh[-1])"
   ]
  },
  {
   "cell_type": "code",
   "execution_count": null,
   "metadata": {
    "scrolled": false
   },
   "outputs": [],
   "source": [
    "a = theano.function(interp_data_grav.interpolator.tg.input_parameters_list(), [der], on_unused_input='ignore')"
   ]
  },
  {
   "cell_type": "code",
   "execution_count": null,
   "metadata": {},
   "outputs": [],
   "source": [
    "a(*interp_data_grav.get_input_data())"
   ]
  },
  {
   "cell_type": "markdown",
   "metadata": {},
   "source": [
    "Because now the GeMpy model is a theano operation and not a theano function, to call it we need to use theano variables (with theano functions we call them with python variables). This is very easy to modify, we just need to use theano shared to convert our python input data into theano variables.\n",
    "\n",
    "The pymc3 objects are already theano variables (pm.Normal and so on). Now the trick is that using the theano function T.set_subtensor, we can change one deterministic value of the input arrays(the ones printed in the cell above) by a stochastic pymc3 object. Then with the new arrays we just have to call the theano operation and pymc will do the rest"
   ]
  },
  {
   "cell_type": "code",
   "execution_count": null,
   "metadata": {
    "scrolled": false
   },
   "outputs": [],
   "source": [
    "# This is the creation of the model\n",
    "import pymc3 as pm\n",
    "\n",
    "theano.config.compute_test_value = 'warn'\n",
    "dtype='float64'\n",
    "#theano.config.warn_float64 = 'warn'\n",
    "model = pm.Model()\n",
    "with model:\n",
    "    # We create the Stochastic parameters. In this case only the Z position\n",
    "    # of the interfaces\n",
    "    Z_rest = pm.Normal('Z_unc_rest',\n",
    "       interp_data_grav.interpolator.pandas_rest_layer_points['Z'].as_matrix().astype('float32'),\n",
    "       interp_data_grav.interpolator.pandas_rest_layer_points['Z_std'].as_matrix().astype('float32'),\n",
    "                  dtype=dtype, shape = (66))\n",
    "    \n",
    "    Z_ref = pm.Normal('Z_unc_ref', interp_data_grav.interpolator.pandas_ref_layer_points_rep['Z'].as_matrix().astype('float32'),\n",
    "              interp_data_grav.interpolator.pandas_ref_layer_points_rep['Z_std'].as_matrix().astype('float32'),\n",
    "              dtype=dtype, shape = (66))\n",
    "    \n",
    "    dip_unc = pm.Normal('dip_unc', interp_data_grav.geo_data_res.orientations['dip'].as_matrix(),\n",
    "                        interp_data_grav.geo_data_res.orientations['dip_std'].as_matrix(),\n",
    "                       dtype=dtype, shape = (41))\n",
    "    \n",
    "    azimuth_unc = pm.Normal('azimuth_unc', interp_data_grav.geo_data_res.orientations['azimuth'].as_matrix(), \n",
    "                            interp_data_grav.geo_data_res.orientations['azimuth_std'].as_matrix(),\n",
    "                       dtype=dtype, shape = (41))\n",
    "    \n",
    "#     Z_unc = pm.Normal('Z_unc', interp_data_grav.geo_data_res.interfaces['Z'].astype('float32'),\n",
    "#                       interp_data_grav.geo_data_res.interfaces['Z_std'].astype('float32'), dtype='float32', shape= (70))\n",
    "    \n",
    "#     interp_data_grav.geo_data_res.interfaces['Z'] = Z_unc\n",
    "    \n",
    "    # We convert a python variable to theano.shared\n",
    "    input_sh = []\n",
    "    for i in interp_data_grav.get_input_data():\n",
    "        input_sh.append(theano.shared(i))\n",
    "    \n",
    "    # We add the stochastic value to the correspondant array. rest array is\n",
    "    # a n_points*3 (XYZ) array. We only want to change Z in this case.\n",
    "    input_sh[4] = T.set_subtensor(\n",
    "    input_sh[4][:, 2], Z_ref)\n",
    "\n",
    "    input_sh[5] = T.set_subtensor(\n",
    "    input_sh[5][:, 2], Z_rest)\n",
    "    \n",
    "    # With the stochastic parameters we create the geomodel result:\n",
    "    Forw = pm.Deterministic('GemPy', geomodel(input_sh[0], input_sh[1], input_sh[2],\n",
    "                                                   input_sh[3], input_sh[4], input_sh[5]))\n",
    "    \n",
    "    # Calibration parameters\n",
    "    F_min, F_max =  T.min(Forw), T.max(Forw)   #36.630742, 36.651496    #30.159309, 30.174104#\n",
    "    F_range = F_max - F_min\n",
    "    F_mid = 0.5*(F_max+F_min)\n",
    "    \n",
    "    Reescaled_forw = grav_real_mid + (Forw - F_mid) / F_range * grav_real_range\n",
    "    \n",
    "    e_sq = T.sqrt(T.sum(T.square(Reescaled_forw - (grav_real_th))))\n",
    "\n",
    "    Y_obs = pm.HalfCauchy('Y_obs', beta=e_sq, observed=1000)"
   ]
  },
  {
   "cell_type": "code",
   "execution_count": null,
   "metadata": {},
   "outputs": [],
   "source": []
  },
  {
   "cell_type": "code",
   "execution_count": null,
   "metadata": {},
   "outputs": [],
   "source": [
    "#import theano.tensor as T\n",
    "#import pymc3 as pm\n",
    "#pm.HalfCauchy?"
   ]
  },
  {
   "cell_type": "code",
   "execution_count": null,
   "metadata": {
    "scrolled": false
   },
   "outputs": [],
   "source": [
    "theano.config.compute_test_value = 'off'\n",
    "# This is the sampling\n",
    "# BEFORE RUN THIS FOR LONG CHECK IN THE MODULE THEANOGRAF THAT THE FLAG \n",
    "# THEANO OPTIMIZER IS IN 'fast_run'!!\n",
    "with model:\n",
    "   # backend = pm.backends.ndarray.NDArray('geomodels')\n",
    "    #step = pm.NUTS()\n",
    "    trace = pm.sample(30, tune=10, n_init=10, live_plot=True, refresh_every=1, cores=1 )"
   ]
  },
  {
   "cell_type": "code",
   "execution_count": null,
   "metadata": {
    "scrolled": false
   },
   "outputs": [],
   "source": [
    "trace.get_values('GemPy')[5].shape, 31*21"
   ]
  },
  {
   "cell_type": "code",
   "execution_count": null,
   "metadata": {},
   "outputs": [],
   "source": [
    "trace.varnames"
   ]
  },
  {
   "cell_type": "code",
   "execution_count": null,
   "metadata": {
    "scrolled": false
   },
   "outputs": [],
   "source": [
    "%matplotlib inline\n",
    "pm.plot_posterior(trace, varnames=['Z_unc_rest'])"
   ]
  },
  {
   "cell_type": "code",
   "execution_count": null,
   "metadata": {},
   "outputs": [],
   "source": [
    "trace.get_values('GemPy')[5] -  trace.get_values('GemPy')[15]"
   ]
  },
  {
   "cell_type": "code",
   "execution_count": null,
   "metadata": {},
   "outputs": [],
   "source": [
    "import matplotlib.pyplot as plt\n",
    "plt.imshow(trace.get_values('GemPy')[-10].reshape(50,50), cmap='viridis', origin='lower', extent=[7.050000e+05,747000,6863000,6950000] )\n",
    "plt.colorbar()"
   ]
  },
  {
   "cell_type": "code",
   "execution_count": null,
   "metadata": {
    "scrolled": false
   },
   "outputs": [],
   "source": [
    "import matplotlib.pyplot as plt\n",
    "for i in range(100):\n",
    "    gp.plot_section(geo_data, trace.get_values('GemPy')[i][0, :], 18,\n",
    "                       direction='y', plot_data=False)\n",
    "    plt.show()"
   ]
  },
  {
   "cell_type": "code",
   "execution_count": null,
   "metadata": {},
   "outputs": [],
   "source": [
    "from theano.printing import pydotprint\n",
    "\n",
    "pydotprint(model.logpt)"
   ]
  },
  {
   "cell_type": "code",
   "execution_count": null,
   "metadata": {},
   "outputs": [],
   "source": []
  }
 ],
 "metadata": {
  "kernelspec": {
   "display_name": "Python 3",
   "language": "python",
   "name": "python3"
  },
  "language_info": {
   "codemirror_mode": {
    "name": "ipython",
    "version": 3
   },
   "file_extension": ".py",
   "mimetype": "text/x-python",
   "name": "python",
   "nbconvert_exporter": "python",
   "pygments_lexer": "ipython3",
   "version": "3.6.3"
  },
  "latex_envs": {
   "LaTeX_envs_menu_present": true,
   "autocomplete": true,
   "bibliofile": "biblio.bib",
   "cite_by": "apalike",
   "current_citInitial": 1,
   "eqLabelWithNumbers": true,
   "eqNumInitial": 1,
   "hotkeys": {
    "equation": "Ctrl-E",
    "itemize": "Ctrl-I"
   },
   "labels_anchors": false,
   "latex_user_defs": false,
   "report_style_numbering": false,
   "user_envs_cfg": false
  },
  "toc": {
   "colors": {
    "hover_highlight": "#DAA520",
    "running_highlight": "#FF0000",
    "selected_highlight": "#FFD700"
   },
   "moveMenuLeft": true,
   "nav_menu": {
    "height": "39px",
    "width": "252px"
   },
   "navigate_menu": true,
   "number_sections": true,
   "sideBar": true,
   "threshold": 4,
   "toc_cell": false,
   "toc_section_display": "block",
   "toc_window_display": false,
   "widenNotebook": false
  }
 },
 "nbformat": 4,
 "nbformat_minor": 2
}
