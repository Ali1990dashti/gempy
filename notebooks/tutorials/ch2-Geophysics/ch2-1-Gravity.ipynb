{
 "cells": [
  {
   "cell_type": "markdown",
   "metadata": {},
   "source": [
    "## Chapter 2.1 Forward Gravity: Simple example"
   ]
  },
  {
   "cell_type": "code",
   "execution_count": 1,
   "metadata": {},
   "outputs": [],
   "source": [
    "# These two lines are necessary only if gempy is not installed\n",
    "import sys, os\n",
    "sys.path.append(\"../..\")\n",
    "\n",
    "# Importing gempy\n",
    "import gempy as gp\n",
    "\n",
    "# Embedding matplotlib figures into the notebooks\n",
    "%matplotlib inline\n",
    "\n",
    "\n",
    "# Aux imports\n",
    "import numpy as np\n",
    "import pandas as pn\n",
    "import matplotlib.pyplot as plt\n",
    "import theano\n",
    "import qgrid\n",
    "\n",
    "#%matplotlib widget\n"
   ]
  },
  {
   "cell_type": "code",
   "execution_count": 15,
   "metadata": {},
   "outputs": [
    {
     "data": {
      "text/plain": [
       "3    EarlyGranite_Series\n",
       "0             BIF_Series\n",
       "1             BIF_Series\n",
       "2     SimpleMafic_Series\n",
       "4               Basement\n",
       "Name: series, dtype: category\n",
       "Categories (4, object): [BIF_Series, Basement, EarlyGranite_Series, SimpleMafic_Series]"
      ]
     },
     "execution_count": 15,
     "metadata": {},
     "output_type": "execute_result"
    }
   ],
   "source": [
    "name='Greenstone'\n",
    "path= '../data/gempy_models'\n",
    "\n",
    "path = f'{path}/{name}'\n",
    "\n",
    "surf_df =pn.read_csv(f'{path}/{name}_surfaces.csv', index_col=0,\n",
    "                          dtype={'surface': 'str', 'series': 'category',\n",
    "                                 'order_surfaces': 'int64', 'isBasement': 'bool', 'id': 'int64',\n",
    "                                 'color': 'str'})\n",
    "\n",
    "surf_df['series']"
   ]
  },
  {
   "cell_type": "code",
   "execution_count": 16,
   "metadata": {},
   "outputs": [
    {
     "data": {
      "text/html": [
       "<div>\n",
       "<style scoped>\n",
       "    .dataframe tbody tr th:only-of-type {\n",
       "        vertical-align: middle;\n",
       "    }\n",
       "\n",
       "    .dataframe tbody tr th {\n",
       "        vertical-align: top;\n",
       "    }\n",
       "\n",
       "    .dataframe thead th {\n",
       "        text-align: right;\n",
       "    }\n",
       "</style>\n",
       "<table border=\"1\" class=\"dataframe\">\n",
       "  <thead>\n",
       "    <tr style=\"text-align: right;\">\n",
       "      <th></th>\n",
       "      <th>surface</th>\n",
       "      <th>series</th>\n",
       "      <th>order_surfaces</th>\n",
       "      <th>isBasement</th>\n",
       "      <th>color</th>\n",
       "      <th>vertices</th>\n",
       "      <th>edges</th>\n",
       "      <th>id</th>\n",
       "      <th>value_0</th>\n",
       "    </tr>\n",
       "  </thead>\n",
       "  <tbody>\n",
       "    <tr>\n",
       "      <td>0</td>\n",
       "      <td>SimpleMafic2</td>\n",
       "      <td>BIF_Series</td>\n",
       "      <td>1</td>\n",
       "      <td>False</td>\n",
       "      <td>#015482</td>\n",
       "      <td>[[ 7.14955308e+05  6.88310000e+06 -2.04000000e...</td>\n",
       "      <td>[[   2    1    0]\\n [   0    1    3]\\n [   4  ...</td>\n",
       "      <td>2</td>\n",
       "      <td>2.92</td>\n",
       "    </tr>\n",
       "    <tr>\n",
       "      <td>1</td>\n",
       "      <td>SimpleBIF</td>\n",
       "      <td>BIF_Series</td>\n",
       "      <td>2</td>\n",
       "      <td>False</td>\n",
       "      <td>#9f0052</td>\n",
       "      <td>NaN</td>\n",
       "      <td>NaN</td>\n",
       "      <td>3</td>\n",
       "      <td>3.10</td>\n",
       "    </tr>\n",
       "    <tr>\n",
       "      <td>4</td>\n",
       "      <td>basement</td>\n",
       "      <td>Basement</td>\n",
       "      <td>1</td>\n",
       "      <td>True</td>\n",
       "      <td>#443988</td>\n",
       "      <td>NaN</td>\n",
       "      <td>NaN</td>\n",
       "      <td>5</td>\n",
       "      <td>2.61</td>\n",
       "    </tr>\n",
       "    <tr>\n",
       "      <td>3</td>\n",
       "      <td>EarlyGranite</td>\n",
       "      <td>EarlyGranite_Series</td>\n",
       "      <td>1</td>\n",
       "      <td>False</td>\n",
       "      <td>#728f02</td>\n",
       "      <td>[[ 6.96000000e+05  6.86836000e+06 -7.26983536e...</td>\n",
       "      <td>[[   2    1    0]\\n [   0    1    3]\\n [   4  ...</td>\n",
       "      <td>1</td>\n",
       "      <td>2.61</td>\n",
       "    </tr>\n",
       "    <tr>\n",
       "      <td>2</td>\n",
       "      <td>SimpleMafic1</td>\n",
       "      <td>SimpleMafic_Series</td>\n",
       "      <td>1</td>\n",
       "      <td>False</td>\n",
       "      <td>#ffbe00</td>\n",
       "      <td>NaN</td>\n",
       "      <td>NaN</td>\n",
       "      <td>4</td>\n",
       "      <td>2.92</td>\n",
       "    </tr>\n",
       "  </tbody>\n",
       "</table>\n",
       "</div>"
      ],
      "text/plain": [
       "        surface               series  order_surfaces  isBasement    color  \\\n",
       "0  SimpleMafic2           BIF_Series               1       False  #015482   \n",
       "1     SimpleBIF           BIF_Series               2       False  #9f0052   \n",
       "4      basement             Basement               1        True  #443988   \n",
       "3  EarlyGranite  EarlyGranite_Series               1       False  #728f02   \n",
       "2  SimpleMafic1   SimpleMafic_Series               1       False  #ffbe00   \n",
       "\n",
       "                                            vertices  \\\n",
       "0  [[ 7.14955308e+05  6.88310000e+06 -2.04000000e...   \n",
       "1                                                NaN   \n",
       "4                                                NaN   \n",
       "3  [[ 6.96000000e+05  6.86836000e+06 -7.26983536e...   \n",
       "2                                                NaN   \n",
       "\n",
       "                                               edges  id  value_0  \n",
       "0  [[   2    1    0]\\n [   0    1    3]\\n [   4  ...   2     2.92  \n",
       "1                                                NaN   3     3.10  \n",
       "4                                                NaN   5     2.61  \n",
       "3  [[   2    1    0]\\n [   0    1    3]\\n [   4  ...   1     2.61  \n",
       "2                                                NaN   4     2.92  "
      ]
     },
     "execution_count": 16,
     "metadata": {},
     "output_type": "execute_result"
    }
   ],
   "source": [
    "surf_df.sort_values(by='series')"
   ]
  },
  {
   "cell_type": "code",
   "execution_count": 14,
   "metadata": {},
   "outputs": [
    {
     "data": {
      "text/html": [
       "<style  type=\"text/css\" >\n",
       "    #T_def37e94_ea71_11e9_a52b_acde48001122row0_col4 {\n",
       "            background-color:  #015482;\n",
       "        }    #T_def37e94_ea71_11e9_a52b_acde48001122row1_col4 {\n",
       "            background-color:  #9f0052;\n",
       "        }    #T_def37e94_ea71_11e9_a52b_acde48001122row2_col4 {\n",
       "            background-color:  #443988;\n",
       "        }    #T_def37e94_ea71_11e9_a52b_acde48001122row3_col4 {\n",
       "            background-color:  #728f02;\n",
       "        }    #T_def37e94_ea71_11e9_a52b_acde48001122row4_col4 {\n",
       "            background-color:  #ffbe00;\n",
       "        }</style><table id=\"T_def37e94_ea71_11e9_a52b_acde48001122\" ><thead>    <tr>        <th class=\"blank level0\" ></th>        <th class=\"col_heading level0 col0\" >surface</th>        <th class=\"col_heading level0 col1\" >series</th>        <th class=\"col_heading level0 col2\" >order_surfaces</th>        <th class=\"col_heading level0 col3\" >isBasement</th>        <th class=\"col_heading level0 col4\" >color</th>        <th class=\"col_heading level0 col5\" >id</th>        <th class=\"col_heading level0 col6\" >value_0</th>    </tr></thead><tbody>\n",
       "                <tr>\n",
       "                        <th id=\"T_def37e94_ea71_11e9_a52b_acde48001122level0_row0\" class=\"row_heading level0 row0\" >0</th>\n",
       "                        <td id=\"T_def37e94_ea71_11e9_a52b_acde48001122row0_col0\" class=\"data row0 col0\" >SimpleMafic2</td>\n",
       "                        <td id=\"T_def37e94_ea71_11e9_a52b_acde48001122row0_col1\" class=\"data row0 col1\" >BIF_Series</td>\n",
       "                        <td id=\"T_def37e94_ea71_11e9_a52b_acde48001122row0_col2\" class=\"data row0 col2\" >1</td>\n",
       "                        <td id=\"T_def37e94_ea71_11e9_a52b_acde48001122row0_col3\" class=\"data row0 col3\" >False</td>\n",
       "                        <td id=\"T_def37e94_ea71_11e9_a52b_acde48001122row0_col4\" class=\"data row0 col4\" >#015482</td>\n",
       "                        <td id=\"T_def37e94_ea71_11e9_a52b_acde48001122row0_col5\" class=\"data row0 col5\" >2</td>\n",
       "                        <td id=\"T_def37e94_ea71_11e9_a52b_acde48001122row0_col6\" class=\"data row0 col6\" >2.92</td>\n",
       "            </tr>\n",
       "            <tr>\n",
       "                        <th id=\"T_def37e94_ea71_11e9_a52b_acde48001122level0_row1\" class=\"row_heading level0 row1\" >1</th>\n",
       "                        <td id=\"T_def37e94_ea71_11e9_a52b_acde48001122row1_col0\" class=\"data row1 col0\" >SimpleBIF</td>\n",
       "                        <td id=\"T_def37e94_ea71_11e9_a52b_acde48001122row1_col1\" class=\"data row1 col1\" >BIF_Series</td>\n",
       "                        <td id=\"T_def37e94_ea71_11e9_a52b_acde48001122row1_col2\" class=\"data row1 col2\" >2</td>\n",
       "                        <td id=\"T_def37e94_ea71_11e9_a52b_acde48001122row1_col3\" class=\"data row1 col3\" >False</td>\n",
       "                        <td id=\"T_def37e94_ea71_11e9_a52b_acde48001122row1_col4\" class=\"data row1 col4\" >#9f0052</td>\n",
       "                        <td id=\"T_def37e94_ea71_11e9_a52b_acde48001122row1_col5\" class=\"data row1 col5\" >3</td>\n",
       "                        <td id=\"T_def37e94_ea71_11e9_a52b_acde48001122row1_col6\" class=\"data row1 col6\" >3.1</td>\n",
       "            </tr>\n",
       "            <tr>\n",
       "                        <th id=\"T_def37e94_ea71_11e9_a52b_acde48001122level0_row2\" class=\"row_heading level0 row2\" >4</th>\n",
       "                        <td id=\"T_def37e94_ea71_11e9_a52b_acde48001122row2_col0\" class=\"data row2 col0\" >basement</td>\n",
       "                        <td id=\"T_def37e94_ea71_11e9_a52b_acde48001122row2_col1\" class=\"data row2 col1\" >Basement</td>\n",
       "                        <td id=\"T_def37e94_ea71_11e9_a52b_acde48001122row2_col2\" class=\"data row2 col2\" >1</td>\n",
       "                        <td id=\"T_def37e94_ea71_11e9_a52b_acde48001122row2_col3\" class=\"data row2 col3\" >True</td>\n",
       "                        <td id=\"T_def37e94_ea71_11e9_a52b_acde48001122row2_col4\" class=\"data row2 col4\" >#443988</td>\n",
       "                        <td id=\"T_def37e94_ea71_11e9_a52b_acde48001122row2_col5\" class=\"data row2 col5\" >5</td>\n",
       "                        <td id=\"T_def37e94_ea71_11e9_a52b_acde48001122row2_col6\" class=\"data row2 col6\" >2.61</td>\n",
       "            </tr>\n",
       "            <tr>\n",
       "                        <th id=\"T_def37e94_ea71_11e9_a52b_acde48001122level0_row3\" class=\"row_heading level0 row3\" >3</th>\n",
       "                        <td id=\"T_def37e94_ea71_11e9_a52b_acde48001122row3_col0\" class=\"data row3 col0\" >EarlyGranite</td>\n",
       "                        <td id=\"T_def37e94_ea71_11e9_a52b_acde48001122row3_col1\" class=\"data row3 col1\" >EarlyGranite_Series</td>\n",
       "                        <td id=\"T_def37e94_ea71_11e9_a52b_acde48001122row3_col2\" class=\"data row3 col2\" >1</td>\n",
       "                        <td id=\"T_def37e94_ea71_11e9_a52b_acde48001122row3_col3\" class=\"data row3 col3\" >False</td>\n",
       "                        <td id=\"T_def37e94_ea71_11e9_a52b_acde48001122row3_col4\" class=\"data row3 col4\" >#728f02</td>\n",
       "                        <td id=\"T_def37e94_ea71_11e9_a52b_acde48001122row3_col5\" class=\"data row3 col5\" >1</td>\n",
       "                        <td id=\"T_def37e94_ea71_11e9_a52b_acde48001122row3_col6\" class=\"data row3 col6\" >2.61</td>\n",
       "            </tr>\n",
       "            <tr>\n",
       "                        <th id=\"T_def37e94_ea71_11e9_a52b_acde48001122level0_row4\" class=\"row_heading level0 row4\" >2</th>\n",
       "                        <td id=\"T_def37e94_ea71_11e9_a52b_acde48001122row4_col0\" class=\"data row4 col0\" >SimpleMafic1</td>\n",
       "                        <td id=\"T_def37e94_ea71_11e9_a52b_acde48001122row4_col1\" class=\"data row4 col1\" >SimpleMafic_Series</td>\n",
       "                        <td id=\"T_def37e94_ea71_11e9_a52b_acde48001122row4_col2\" class=\"data row4 col2\" >1</td>\n",
       "                        <td id=\"T_def37e94_ea71_11e9_a52b_acde48001122row4_col3\" class=\"data row4 col3\" >False</td>\n",
       "                        <td id=\"T_def37e94_ea71_11e9_a52b_acde48001122row4_col4\" class=\"data row4 col4\" >#ffbe00</td>\n",
       "                        <td id=\"T_def37e94_ea71_11e9_a52b_acde48001122row4_col5\" class=\"data row4 col5\" >4</td>\n",
       "                        <td id=\"T_def37e94_ea71_11e9_a52b_acde48001122row4_col6\" class=\"data row4 col6\" >2.92</td>\n",
       "            </tr>\n",
       "    </tbody></table>"
      ],
      "text/plain": [
       "        surface               series  order_surfaces  isBasement    color vertices edges  id  value_0\n",
       "0  SimpleMafic2           BIF_Series               1       False  #015482      NaN   NaN   2     2.92\n",
       "1     SimpleBIF           BIF_Series               2       False  #9f0052      NaN   NaN   3     3.10\n",
       "4      basement             Basement               1        True  #443988      NaN   NaN   5     2.61\n",
       "3  EarlyGranite  EarlyGranite_Series               1       False  #728f02      NaN   NaN   1     2.61\n",
       "2  SimpleMafic1   SimpleMafic_Series               1       False  #ffbe00      NaN   NaN   4     2.92"
      ]
     },
     "execution_count": 14,
     "metadata": {},
     "output_type": "execute_result"
    }
   ],
   "source": [
    "c_ = surf_df.columns[~(surf_df.columns.isin(geo_model.surfaces._columns_vis_drop))]\n",
    "geo_model.surfaces.df[c_] = surf_df[c_]\n",
    "#geo_model.surfaces.sort_surfaces()\n",
    "geo_model.surfaces"
   ]
  },
  {
   "cell_type": "code",
   "execution_count": 8,
   "metadata": {},
   "outputs": [
    {
     "data": {
      "text/plain": [
       "0             BIF_Series\n",
       "1             BIF_Series\n",
       "4               Basement\n",
       "3    EarlyGranite_Series\n",
       "2     SimpleMafic_Series\n",
       "Name: series, dtype: category\n",
       "Categories (4, object): [BIF_Series, Basement, EarlyGranite_Series, SimpleMafic_Series]"
      ]
     },
     "execution_count": 8,
     "metadata": {},
     "output_type": "execute_result"
    }
   ],
   "source": [
    "geo_model.surfaces.df['series']"
   ]
  },
  {
   "cell_type": "code",
   "execution_count": 2,
   "metadata": {},
   "outputs": [
    {
     "name": "stdout",
     "output_type": "stream",
     "text": [
      "Active grids: ['regular']\n"
     ]
    }
   ],
   "source": [
    "geo_model = gp.load_model('Greenstone', path= '../data/gempy_models')"
   ]
  },
  {
   "cell_type": "code",
   "execution_count": 10,
   "metadata": {},
   "outputs": [
    {
     "data": {
      "text/html": [
       "<div>\n",
       "<style scoped>\n",
       "    .dataframe tbody tr th:only-of-type {\n",
       "        vertical-align: middle;\n",
       "    }\n",
       "\n",
       "    .dataframe tbody tr th {\n",
       "        vertical-align: top;\n",
       "    }\n",
       "\n",
       "    .dataframe thead th {\n",
       "        text-align: right;\n",
       "    }\n",
       "</style>\n",
       "<table border=\"1\" class=\"dataframe\">\n",
       "  <thead>\n",
       "    <tr style=\"text-align: right;\">\n",
       "      <th></th>\n",
       "      <th>surface</th>\n",
       "      <th>series</th>\n",
       "      <th>order_surfaces</th>\n",
       "      <th>isBasement</th>\n",
       "      <th>color</th>\n",
       "      <th>vertices</th>\n",
       "      <th>edges</th>\n",
       "      <th>id</th>\n",
       "      <th>value_0</th>\n",
       "    </tr>\n",
       "  </thead>\n",
       "  <tbody>\n",
       "    <tr>\n",
       "      <td>0</td>\n",
       "      <td>SimpleMafic2</td>\n",
       "      <td>BIF_Series</td>\n",
       "      <td>1</td>\n",
       "      <td>False</td>\n",
       "      <td>#015482</td>\n",
       "      <td>NaN</td>\n",
       "      <td>NaN</td>\n",
       "      <td>1</td>\n",
       "      <td>2.92</td>\n",
       "    </tr>\n",
       "    <tr>\n",
       "      <td>1</td>\n",
       "      <td>SimpleBIF</td>\n",
       "      <td>BIF_Series</td>\n",
       "      <td>2</td>\n",
       "      <td>False</td>\n",
       "      <td>#9f0052</td>\n",
       "      <td>NaN</td>\n",
       "      <td>NaN</td>\n",
       "      <td>2</td>\n",
       "      <td>3.10</td>\n",
       "    </tr>\n",
       "    <tr>\n",
       "      <td>4</td>\n",
       "      <td>basement</td>\n",
       "      <td>Basement</td>\n",
       "      <td>1</td>\n",
       "      <td>False</td>\n",
       "      <td>#443988</td>\n",
       "      <td>NaN</td>\n",
       "      <td>NaN</td>\n",
       "      <td>3</td>\n",
       "      <td>2.61</td>\n",
       "    </tr>\n",
       "    <tr>\n",
       "      <td>3</td>\n",
       "      <td>EarlyGranite</td>\n",
       "      <td>EarlyGranite_Series</td>\n",
       "      <td>1</td>\n",
       "      <td>False</td>\n",
       "      <td>#728f02</td>\n",
       "      <td>NaN</td>\n",
       "      <td>NaN</td>\n",
       "      <td>4</td>\n",
       "      <td>2.61</td>\n",
       "    </tr>\n",
       "    <tr>\n",
       "      <td>2</td>\n",
       "      <td>SimpleMafic1</td>\n",
       "      <td>SimpleMafic_Series</td>\n",
       "      <td>1</td>\n",
       "      <td>True</td>\n",
       "      <td>#ffbe00</td>\n",
       "      <td>NaN</td>\n",
       "      <td>NaN</td>\n",
       "      <td>5</td>\n",
       "      <td>2.92</td>\n",
       "    </tr>\n",
       "  </tbody>\n",
       "</table>\n",
       "</div>"
      ],
      "text/plain": [
       "        surface               series  order_surfaces  isBasement    color  \\\n",
       "0  SimpleMafic2           BIF_Series               1       False  #015482   \n",
       "1     SimpleBIF           BIF_Series               2       False  #9f0052   \n",
       "4      basement             Basement               1       False  #443988   \n",
       "3  EarlyGranite  EarlyGranite_Series               1       False  #728f02   \n",
       "2  SimpleMafic1   SimpleMafic_Series               1        True  #ffbe00   \n",
       "\n",
       "  vertices edges  id  value_0  \n",
       "0      NaN   NaN   1     2.92  \n",
       "1      NaN   NaN   2     3.10  \n",
       "4      NaN   NaN   3     2.61  \n",
       "3      NaN   NaN   4     2.61  \n",
       "2      NaN   NaN   5     2.92  "
      ]
     },
     "execution_count": 10,
     "metadata": {},
     "output_type": "execute_result"
    }
   ],
   "source": [
    "geo_model.surfaces.sort_surfaces()"
   ]
  },
  {
   "cell_type": "code",
   "execution_count": 3,
   "metadata": {},
   "outputs": [
    {
     "data": {
      "text/html": [
       "<table border=\"1\" class=\"dataframe\">\n",
       "  <thead>\n",
       "    <tr style=\"text-align: right;\">\n",
       "      <th></th>\n",
       "      <th>order_series</th>\n",
       "      <th>BottomRelation</th>\n",
       "    </tr>\n",
       "  </thead>\n",
       "  <tbody>\n",
       "    <tr>\n",
       "      <th>EarlyGranite_Series</th>\n",
       "      <td>1</td>\n",
       "      <td>Erosion</td>\n",
       "    </tr>\n",
       "    <tr>\n",
       "      <th>BIF_Series</th>\n",
       "      <td>2</td>\n",
       "      <td>Erosion</td>\n",
       "    </tr>\n",
       "    <tr>\n",
       "      <th>SimpleMafic_Series</th>\n",
       "      <td>3</td>\n",
       "      <td>Erosion</td>\n",
       "    </tr>\n",
       "    <tr>\n",
       "      <th>Basement</th>\n",
       "      <td>4</td>\n",
       "      <td>Erosion</td>\n",
       "    </tr>\n",
       "  </tbody>\n",
       "</table>"
      ],
      "text/plain": [
       "                     order_series BottomRelation\n",
       "EarlyGranite_Series             1        Erosion\n",
       "BIF_Series                      2        Erosion\n",
       "SimpleMafic_Series              3        Erosion\n",
       "Basement                        4        Erosion"
      ]
     },
     "execution_count": 3,
     "metadata": {},
     "output_type": "execute_result"
    }
   ],
   "source": [
    "geo_model.series"
   ]
  },
  {
   "cell_type": "code",
   "execution_count": 4,
   "metadata": {},
   "outputs": [
    {
     "data": {
      "text/html": [
       "<table border=\"1\" class=\"dataframe\">\n",
       "  <thead>\n",
       "    <tr style=\"text-align: right;\">\n",
       "      <th></th>\n",
       "      <th>order_series</th>\n",
       "      <th>BottomRelation</th>\n",
       "    </tr>\n",
       "  </thead>\n",
       "  <tbody>\n",
       "    <tr>\n",
       "      <th>EarlyGranite_Series</th>\n",
       "      <td>1</td>\n",
       "      <td>Erosion</td>\n",
       "    </tr>\n",
       "    <tr>\n",
       "      <th>BIF_Series</th>\n",
       "      <td>2</td>\n",
       "      <td>Erosion</td>\n",
       "    </tr>\n",
       "    <tr>\n",
       "      <th>SimpleMafic_Series</th>\n",
       "      <td>3</td>\n",
       "      <td>Erosion</td>\n",
       "    </tr>\n",
       "    <tr>\n",
       "      <th>Basement</th>\n",
       "      <td>4</td>\n",
       "      <td>Erosion</td>\n",
       "    </tr>\n",
       "  </tbody>\n",
       "</table>"
      ],
      "text/plain": [
       "                     order_series BottomRelation\n",
       "EarlyGranite_Series             1        Erosion\n",
       "BIF_Series                      2        Erosion\n",
       "SimpleMafic_Series              3        Erosion\n",
       "Basement                        4        Erosion"
      ]
     },
     "execution_count": 4,
     "metadata": {},
     "output_type": "execute_result"
    }
   ],
   "source": [
    "geo_model.series"
   ]
  },
  {
   "cell_type": "code",
   "execution_count": 3,
   "metadata": {},
   "outputs": [
    {
     "data": {
      "text/html": [
       "<style  type=\"text/css\" >\n",
       "    #T_7058ce5c_ea72_11e9_9858_acde48001122row0_col4 {\n",
       "            background-color:  #015482;\n",
       "        }    #T_7058ce5c_ea72_11e9_9858_acde48001122row1_col4 {\n",
       "            background-color:  #9f0052;\n",
       "        }    #T_7058ce5c_ea72_11e9_9858_acde48001122row2_col4 {\n",
       "            background-color:  #443988;\n",
       "        }    #T_7058ce5c_ea72_11e9_9858_acde48001122row3_col4 {\n",
       "            background-color:  #728f02;\n",
       "        }    #T_7058ce5c_ea72_11e9_9858_acde48001122row4_col4 {\n",
       "            background-color:  #ffbe00;\n",
       "        }</style><table id=\"T_7058ce5c_ea72_11e9_9858_acde48001122\" ><thead>    <tr>        <th class=\"blank level0\" ></th>        <th class=\"col_heading level0 col0\" >surface</th>        <th class=\"col_heading level0 col1\" >series</th>        <th class=\"col_heading level0 col2\" >order_surfaces</th>        <th class=\"col_heading level0 col3\" >isBasement</th>        <th class=\"col_heading level0 col4\" >color</th>        <th class=\"col_heading level0 col5\" >id</th>        <th class=\"col_heading level0 col6\" >value_0</th>    </tr></thead><tbody>\n",
       "                <tr>\n",
       "                        <th id=\"T_7058ce5c_ea72_11e9_9858_acde48001122level0_row0\" class=\"row_heading level0 row0\" >0</th>\n",
       "                        <td id=\"T_7058ce5c_ea72_11e9_9858_acde48001122row0_col0\" class=\"data row0 col0\" >SimpleMafic2</td>\n",
       "                        <td id=\"T_7058ce5c_ea72_11e9_9858_acde48001122row0_col1\" class=\"data row0 col1\" >BIF_Series</td>\n",
       "                        <td id=\"T_7058ce5c_ea72_11e9_9858_acde48001122row0_col2\" class=\"data row0 col2\" >1</td>\n",
       "                        <td id=\"T_7058ce5c_ea72_11e9_9858_acde48001122row0_col3\" class=\"data row0 col3\" >False</td>\n",
       "                        <td id=\"T_7058ce5c_ea72_11e9_9858_acde48001122row0_col4\" class=\"data row0 col4\" >#015482</td>\n",
       "                        <td id=\"T_7058ce5c_ea72_11e9_9858_acde48001122row0_col5\" class=\"data row0 col5\" >1</td>\n",
       "                        <td id=\"T_7058ce5c_ea72_11e9_9858_acde48001122row0_col6\" class=\"data row0 col6\" >2.92</td>\n",
       "            </tr>\n",
       "            <tr>\n",
       "                        <th id=\"T_7058ce5c_ea72_11e9_9858_acde48001122level0_row1\" class=\"row_heading level0 row1\" >1</th>\n",
       "                        <td id=\"T_7058ce5c_ea72_11e9_9858_acde48001122row1_col0\" class=\"data row1 col0\" >SimpleBIF</td>\n",
       "                        <td id=\"T_7058ce5c_ea72_11e9_9858_acde48001122row1_col1\" class=\"data row1 col1\" >BIF_Series</td>\n",
       "                        <td id=\"T_7058ce5c_ea72_11e9_9858_acde48001122row1_col2\" class=\"data row1 col2\" >2</td>\n",
       "                        <td id=\"T_7058ce5c_ea72_11e9_9858_acde48001122row1_col3\" class=\"data row1 col3\" >False</td>\n",
       "                        <td id=\"T_7058ce5c_ea72_11e9_9858_acde48001122row1_col4\" class=\"data row1 col4\" >#9f0052</td>\n",
       "                        <td id=\"T_7058ce5c_ea72_11e9_9858_acde48001122row1_col5\" class=\"data row1 col5\" >2</td>\n",
       "                        <td id=\"T_7058ce5c_ea72_11e9_9858_acde48001122row1_col6\" class=\"data row1 col6\" >3.1</td>\n",
       "            </tr>\n",
       "            <tr>\n",
       "                        <th id=\"T_7058ce5c_ea72_11e9_9858_acde48001122level0_row2\" class=\"row_heading level0 row2\" >4</th>\n",
       "                        <td id=\"T_7058ce5c_ea72_11e9_9858_acde48001122row2_col0\" class=\"data row2 col0\" >basement</td>\n",
       "                        <td id=\"T_7058ce5c_ea72_11e9_9858_acde48001122row2_col1\" class=\"data row2 col1\" >Basement</td>\n",
       "                        <td id=\"T_7058ce5c_ea72_11e9_9858_acde48001122row2_col2\" class=\"data row2 col2\" >1</td>\n",
       "                        <td id=\"T_7058ce5c_ea72_11e9_9858_acde48001122row2_col3\" class=\"data row2 col3\" >False</td>\n",
       "                        <td id=\"T_7058ce5c_ea72_11e9_9858_acde48001122row2_col4\" class=\"data row2 col4\" >#443988</td>\n",
       "                        <td id=\"T_7058ce5c_ea72_11e9_9858_acde48001122row2_col5\" class=\"data row2 col5\" >3</td>\n",
       "                        <td id=\"T_7058ce5c_ea72_11e9_9858_acde48001122row2_col6\" class=\"data row2 col6\" >2.61</td>\n",
       "            </tr>\n",
       "            <tr>\n",
       "                        <th id=\"T_7058ce5c_ea72_11e9_9858_acde48001122level0_row3\" class=\"row_heading level0 row3\" >3</th>\n",
       "                        <td id=\"T_7058ce5c_ea72_11e9_9858_acde48001122row3_col0\" class=\"data row3 col0\" >EarlyGranite</td>\n",
       "                        <td id=\"T_7058ce5c_ea72_11e9_9858_acde48001122row3_col1\" class=\"data row3 col1\" >EarlyGranite_Series</td>\n",
       "                        <td id=\"T_7058ce5c_ea72_11e9_9858_acde48001122row3_col2\" class=\"data row3 col2\" >1</td>\n",
       "                        <td id=\"T_7058ce5c_ea72_11e9_9858_acde48001122row3_col3\" class=\"data row3 col3\" >False</td>\n",
       "                        <td id=\"T_7058ce5c_ea72_11e9_9858_acde48001122row3_col4\" class=\"data row3 col4\" >#728f02</td>\n",
       "                        <td id=\"T_7058ce5c_ea72_11e9_9858_acde48001122row3_col5\" class=\"data row3 col5\" >4</td>\n",
       "                        <td id=\"T_7058ce5c_ea72_11e9_9858_acde48001122row3_col6\" class=\"data row3 col6\" >2.61</td>\n",
       "            </tr>\n",
       "            <tr>\n",
       "                        <th id=\"T_7058ce5c_ea72_11e9_9858_acde48001122level0_row4\" class=\"row_heading level0 row4\" >2</th>\n",
       "                        <td id=\"T_7058ce5c_ea72_11e9_9858_acde48001122row4_col0\" class=\"data row4 col0\" >SimpleMafic1</td>\n",
       "                        <td id=\"T_7058ce5c_ea72_11e9_9858_acde48001122row4_col1\" class=\"data row4 col1\" >SimpleMafic_Series</td>\n",
       "                        <td id=\"T_7058ce5c_ea72_11e9_9858_acde48001122row4_col2\" class=\"data row4 col2\" >1</td>\n",
       "                        <td id=\"T_7058ce5c_ea72_11e9_9858_acde48001122row4_col3\" class=\"data row4 col3\" >True</td>\n",
       "                        <td id=\"T_7058ce5c_ea72_11e9_9858_acde48001122row4_col4\" class=\"data row4 col4\" >#ffbe00</td>\n",
       "                        <td id=\"T_7058ce5c_ea72_11e9_9858_acde48001122row4_col5\" class=\"data row4 col5\" >5</td>\n",
       "                        <td id=\"T_7058ce5c_ea72_11e9_9858_acde48001122row4_col6\" class=\"data row4 col6\" >2.92</td>\n",
       "            </tr>\n",
       "    </tbody></table>"
      ],
      "text/plain": [
       "        surface               series  order_surfaces  isBasement    color vertices edges  id  value_0\n",
       "0  SimpleMafic2           BIF_Series               1       False  #015482      NaN   NaN   1     2.92\n",
       "1     SimpleBIF           BIF_Series               2       False  #9f0052      NaN   NaN   2     3.10\n",
       "4      basement             Basement               1       False  #443988      NaN   NaN   3     2.61\n",
       "3  EarlyGranite  EarlyGranite_Series               1       False  #728f02      NaN   NaN   4     2.61\n",
       "2  SimpleMafic1   SimpleMafic_Series               1        True  #ffbe00      NaN   NaN   5     2.92"
      ]
     },
     "execution_count": 3,
     "metadata": {},
     "output_type": "execute_result"
    }
   ],
   "source": [
    "geo_model.surfaces"
   ]
  },
  {
   "cell_type": "code",
   "execution_count": 20,
   "metadata": {},
   "outputs": [
    {
     "data": {
      "text/plain": [
       "array(['EarlyGranite_Series', 'BIF_Series', 'SimpleMafic_Series',\n",
       "       'Basement'], dtype=object)"
      ]
     },
     "execution_count": 20,
     "metadata": {},
     "output_type": "execute_result"
    }
   ],
   "source": [
    "np.asarray(geo_model.series.df.index)\n"
   ]
  },
  {
   "cell_type": "code",
   "execution_count": 21,
   "metadata": {},
   "outputs": [],
   "source": [
    "geo_model.surfaces.df['series'].cat.reorder_categories(np.asarray(geo_model.series.df.index),\n",
    "                                                      ordered=True, inplace=True)"
   ]
  },
  {
   "cell_type": "code",
   "execution_count": 23,
   "metadata": {},
   "outputs": [
    {
     "data": {
      "text/html": [
       "<div>\n",
       "<style scoped>\n",
       "    .dataframe tbody tr th:only-of-type {\n",
       "        vertical-align: middle;\n",
       "    }\n",
       "\n",
       "    .dataframe tbody tr th {\n",
       "        vertical-align: top;\n",
       "    }\n",
       "\n",
       "    .dataframe thead th {\n",
       "        text-align: right;\n",
       "    }\n",
       "</style>\n",
       "<table border=\"1\" class=\"dataframe\">\n",
       "  <thead>\n",
       "    <tr style=\"text-align: right;\">\n",
       "      <th></th>\n",
       "      <th>surface</th>\n",
       "      <th>series</th>\n",
       "      <th>order_surfaces</th>\n",
       "      <th>isBasement</th>\n",
       "      <th>color</th>\n",
       "      <th>vertices</th>\n",
       "      <th>edges</th>\n",
       "      <th>id</th>\n",
       "      <th>value_0</th>\n",
       "    </tr>\n",
       "  </thead>\n",
       "  <tbody>\n",
       "    <tr>\n",
       "      <td>3</td>\n",
       "      <td>EarlyGranite</td>\n",
       "      <td>EarlyGranite_Series</td>\n",
       "      <td>1</td>\n",
       "      <td>False</td>\n",
       "      <td>#728f02</td>\n",
       "      <td>NaN</td>\n",
       "      <td>NaN</td>\n",
       "      <td>1</td>\n",
       "      <td>2.61</td>\n",
       "    </tr>\n",
       "    <tr>\n",
       "      <td>0</td>\n",
       "      <td>SimpleMafic2</td>\n",
       "      <td>BIF_Series</td>\n",
       "      <td>1</td>\n",
       "      <td>False</td>\n",
       "      <td>#015482</td>\n",
       "      <td>NaN</td>\n",
       "      <td>NaN</td>\n",
       "      <td>2</td>\n",
       "      <td>2.92</td>\n",
       "    </tr>\n",
       "    <tr>\n",
       "      <td>1</td>\n",
       "      <td>SimpleBIF</td>\n",
       "      <td>BIF_Series</td>\n",
       "      <td>2</td>\n",
       "      <td>False</td>\n",
       "      <td>#9f0052</td>\n",
       "      <td>NaN</td>\n",
       "      <td>NaN</td>\n",
       "      <td>3</td>\n",
       "      <td>3.10</td>\n",
       "    </tr>\n",
       "    <tr>\n",
       "      <td>2</td>\n",
       "      <td>SimpleMafic1</td>\n",
       "      <td>SimpleMafic_Series</td>\n",
       "      <td>1</td>\n",
       "      <td>True</td>\n",
       "      <td>#ffbe00</td>\n",
       "      <td>NaN</td>\n",
       "      <td>NaN</td>\n",
       "      <td>4</td>\n",
       "      <td>2.92</td>\n",
       "    </tr>\n",
       "    <tr>\n",
       "      <td>4</td>\n",
       "      <td>basement</td>\n",
       "      <td>Basement</td>\n",
       "      <td>1</td>\n",
       "      <td>False</td>\n",
       "      <td>#443988</td>\n",
       "      <td>NaN</td>\n",
       "      <td>NaN</td>\n",
       "      <td>5</td>\n",
       "      <td>2.61</td>\n",
       "    </tr>\n",
       "  </tbody>\n",
       "</table>\n",
       "</div>"
      ],
      "text/plain": [
       "        surface               series  order_surfaces  isBasement    color  \\\n",
       "3  EarlyGranite  EarlyGranite_Series               1       False  #728f02   \n",
       "0  SimpleMafic2           BIF_Series               1       False  #015482   \n",
       "1     SimpleBIF           BIF_Series               2       False  #9f0052   \n",
       "2  SimpleMafic1   SimpleMafic_Series               1        True  #ffbe00   \n",
       "4      basement             Basement               1       False  #443988   \n",
       "\n",
       "  vertices edges  id  value_0  \n",
       "3      NaN   NaN   1     2.61  \n",
       "0      NaN   NaN   2     2.92  \n",
       "1      NaN   NaN   3     3.10  \n",
       "2      NaN   NaN   4     2.92  \n",
       "4      NaN   NaN   5     2.61  "
      ]
     },
     "execution_count": 23,
     "metadata": {},
     "output_type": "execute_result"
    }
   ],
   "source": [
    "geo_model.surfaces.sort_surfaces()"
   ]
  },
  {
   "cell_type": "code",
   "execution_count": 22,
   "metadata": {},
   "outputs": [
    {
     "data": {
      "text/plain": [
       "0             BIF_Series\n",
       "1             BIF_Series\n",
       "4               Basement\n",
       "3    EarlyGranite_Series\n",
       "2     SimpleMafic_Series\n",
       "Name: series, dtype: category\n",
       "Categories (4, object): [EarlyGranite_Series < BIF_Series < SimpleMafic_Series < Basement]"
      ]
     },
     "execution_count": 22,
     "metadata": {},
     "output_type": "execute_result"
    }
   ],
   "source": [
    "geo_model.surfaces.df['series']"
   ]
  },
  {
   "cell_type": "code",
   "execution_count": 4,
   "metadata": {},
   "outputs": [
    {
     "data": {
      "text/plain": [
       "<gempy.plot.visualization_2d.PlotData2D at 0x7ff081837cc0>"
      ]
     },
     "execution_count": 4,
     "metadata": {},
     "output_type": "execute_result"
    },
    {
     "data": {
      "image/png": "[encoded data removed]",
      "text/plain": [
       "<Figure size 908.911x360 with 1 Axes>"
      ]
     },
     "metadata": {},
     "output_type": "display_data"
    }
   ],
   "source": [
    "gp.plot.plot_data(geo_model)"
   ]
  },
  {
   "cell_type": "code",
   "execution_count": 5,
   "metadata": {},
   "outputs": [],
   "source": [
    "# Compute normal model:\n",
    "# gp.set_interpolation_data(geo_model,\n",
    "#                           compile_theano=True,\n",
    "#                           theano_optimizer='fast_compile',\n",
    "#                           verbose=[])\n",
    "# gp.compute_model(geo_model)"
   ]
  },
  {
   "cell_type": "markdown",
   "metadata": {},
   "source": [
    "### Creating grid"
   ]
  },
  {
   "cell_type": "markdown",
   "metadata": {},
   "source": [
    "First we need to define the location of the devices. For this example we can make a map:"
   ]
  },
  {
   "cell_type": "code",
   "execution_count": 6,
   "metadata": {},
   "outputs": [
    {
     "data": {
      "text/plain": [
       "array([[7.05000000e+05, 6.86300000e+06, 3.00000000e+02],\n",
       "       [7.07210526e+05, 6.86300000e+06, 3.00000000e+02],\n",
       "       [7.09421053e+05, 6.86300000e+06, 3.00000000e+02],\n",
       "       ...,\n",
       "       [7.42578947e+05, 6.92500000e+06, 3.00000000e+02],\n",
       "       [7.44789474e+05, 6.92500000e+06, 3.00000000e+02],\n",
       "       [7.47000000e+05, 6.92500000e+06, 3.00000000e+02]])"
      ]
     },
     "execution_count": 6,
     "metadata": {},
     "output_type": "execute_result"
    }
   ],
   "source": [
    "grav_res = 20\n",
    "X = np.linspace(7.050000e+05, 747000, grav_res)\n",
    "Y = np.linspace(6863000, 6925000, grav_res)\n",
    "Z= 300\n",
    "xyz= np.meshgrid(X, Y, Z)\n",
    "xy_ravel = np.vstack(list(map(np.ravel, xyz))).T\n",
    "xy_ravel"
   ]
  },
  {
   "cell_type": "markdown",
   "metadata": {},
   "source": [
    "We can see the location of the devices relative to the model data:"
   ]
  },
  {
   "cell_type": "code",
   "execution_count": 7,
   "metadata": {},
   "outputs": [
    {
     "data": {
      "text/plain": [
       "<matplotlib.collections.PathCollection at 0x7ff081837e80>"
      ]
     },
     "execution_count": 7,
     "metadata": {},
     "output_type": "execute_result"
    },
    {
     "data": {
      "image/png": "[encoded data removed]",
      "text/plain": [
       "<Figure size 274.03x360 with 1 Axes>"
      ]
     },
     "metadata": {},
     "output_type": "display_data"
    }
   ],
   "source": [
    "import matplotlib.pyplot as plt\n",
    "gp.plot.plot_data(geo_model, direction='z')\n",
    "plt.scatter(xy_ravel[:,0], xy_ravel[:, 1], s=1)"
   ]
  },
  {
   "cell_type": "markdown",
   "metadata": {},
   "source": [
    "Now we need to create the grid centered on the devices (see: https://github.com/cgre-aachen/gempy/blob/master/notebooks/tutorials/ch1-3-Grids.ipynb)"
   ]
  },
  {
   "cell_type": "code",
   "execution_count": 8,
   "metadata": {},
   "outputs": [
    {
     "name": "stdout",
     "output_type": "stream",
     "text": [
      "Active grids: ['regular' 'centered']\n"
     ]
    },
    {
     "data": {
      "text/plain": [
       "Grid Object. Values: \n",
       "array([[ 6.96510000e+05,  6.86367000e+06, -1.97980000e+04],\n",
       "       [ 6.96510000e+05,  6.86367000e+06, -1.93940000e+04],\n",
       "       [ 6.96510000e+05,  6.86367000e+06, -1.89900000e+04],\n",
       "       ...,\n",
       "       [ 7.52000000e+05,  6.93000000e+06, -3.10768481e+03],\n",
       "       [ 7.52000000e+05,  6.93000000e+06, -4.31811404e+03],\n",
       "       [ 7.52000000e+05,  6.93000000e+06, -6.00000000e+03]])"
      ]
     },
     "execution_count": 8,
     "metadata": {},
     "output_type": "execute_result"
    }
   ],
   "source": [
    "geo_model.set_centered_grid(xy_ravel,  resolution = [10, 10, 15], radio=5000)"
   ]
  },
  {
   "cell_type": "code",
   "execution_count": 9,
   "metadata": {},
   "outputs": [
    {
     "data": {
      "text/plain": [
       "array([[-5000.        , -5000.        ,  -300.        ],\n",
       "       [-5000.        , -5000.        ,  -360.        ],\n",
       "       [-5000.        , -5000.        ,  -383.36972966],\n",
       "       ...,\n",
       "       [ 5000.        ,  5000.        , -3407.68480754],\n",
       "       [ 5000.        ,  5000.        , -4618.11403801],\n",
       "       [ 5000.        ,  5000.        , -6300.        ]])"
      ]
     },
     "execution_count": 9,
     "metadata": {},
     "output_type": "execute_result"
    }
   ],
   "source": [
    "geo_model.grid.centered_grid.kernel_centers"
   ]
  },
  {
   "cell_type": "markdown",
   "metadata": {},
   "source": [
    "Now we need to compute the component tz (see https://github.com/cgre-achen/gempy/blob/master/notebooks/tutorials/ch2-2-Cell_selection.ipynb)"
   ]
  },
  {
   "cell_type": "code",
   "execution_count": 10,
   "metadata": {},
   "outputs": [],
   "source": [
    "from gempy.assets.geophysics import GeophysicsPreprocessing"
   ]
  },
  {
   "cell_type": "code",
   "execution_count": 11,
   "metadata": {},
   "outputs": [],
   "source": [
    "g = GeophysicsPreprocessing(geo_model.grid.centered_grid)"
   ]
  },
  {
   "cell_type": "code",
   "execution_count": 12,
   "metadata": {},
   "outputs": [],
   "source": [
    "tz = g.set_tz_kernel()"
   ]
  },
  {
   "cell_type": "markdown",
   "metadata": {},
   "source": [
    "### Compiling the gravity graph\n",
    "\n",
    "If geo_model has already a centered grid, the calculation of tz happens automatically. Alternatively you pass tz to `set_gravity interpolator`. This theano graph will return gravity instead the lithologies. In addition we need either to pass the density block (see below). Or the position of density on the surface(in the future the name) to compute the density block at running time."
   ]
  },
  {
   "cell_type": "code",
   "execution_count": 13,
   "metadata": {},
   "outputs": [
    {
     "data": {
      "text/html": [
       "<style  type=\"text/css\" >\n",
       "    #T_30b0e8c0_ea6d_11e9_a9a3_acde48001122row0_col4 {\n",
       "            background-color:  #015482;\n",
       "        }    #T_30b0e8c0_ea6d_11e9_a9a3_acde48001122row1_col4 {\n",
       "            background-color:  #9f0052;\n",
       "        }    #T_30b0e8c0_ea6d_11e9_a9a3_acde48001122row2_col4 {\n",
       "            background-color:  #443988;\n",
       "        }    #T_30b0e8c0_ea6d_11e9_a9a3_acde48001122row3_col4 {\n",
       "            background-color:  #728f02;\n",
       "        }    #T_30b0e8c0_ea6d_11e9_a9a3_acde48001122row4_col4 {\n",
       "            background-color:  #ffbe00;\n",
       "        }</style><table id=\"T_30b0e8c0_ea6d_11e9_a9a3_acde48001122\" ><thead>    <tr>        <th class=\"blank level0\" ></th>        <th class=\"col_heading level0 col0\" >surface</th>        <th class=\"col_heading level0 col1\" >series</th>        <th class=\"col_heading level0 col2\" >order_surfaces</th>        <th class=\"col_heading level0 col3\" >isBasement</th>        <th class=\"col_heading level0 col4\" >color</th>        <th class=\"col_heading level0 col5\" >id</th>        <th class=\"col_heading level0 col6\" >value_0</th>    </tr></thead><tbody>\n",
       "                <tr>\n",
       "                        <th id=\"T_30b0e8c0_ea6d_11e9_a9a3_acde48001122level0_row0\" class=\"row_heading level0 row0\" >0</th>\n",
       "                        <td id=\"T_30b0e8c0_ea6d_11e9_a9a3_acde48001122row0_col0\" class=\"data row0 col0\" >SimpleMafic2</td>\n",
       "                        <td id=\"T_30b0e8c0_ea6d_11e9_a9a3_acde48001122row0_col1\" class=\"data row0 col1\" >BIF_Series</td>\n",
       "                        <td id=\"T_30b0e8c0_ea6d_11e9_a9a3_acde48001122row0_col2\" class=\"data row0 col2\" >1</td>\n",
       "                        <td id=\"T_30b0e8c0_ea6d_11e9_a9a3_acde48001122row0_col3\" class=\"data row0 col3\" >False</td>\n",
       "                        <td id=\"T_30b0e8c0_ea6d_11e9_a9a3_acde48001122row0_col4\" class=\"data row0 col4\" >#015482</td>\n",
       "                        <td id=\"T_30b0e8c0_ea6d_11e9_a9a3_acde48001122row0_col5\" class=\"data row0 col5\" >1</td>\n",
       "                        <td id=\"T_30b0e8c0_ea6d_11e9_a9a3_acde48001122row0_col6\" class=\"data row0 col6\" >2.92</td>\n",
       "            </tr>\n",
       "            <tr>\n",
       "                        <th id=\"T_30b0e8c0_ea6d_11e9_a9a3_acde48001122level0_row1\" class=\"row_heading level0 row1\" >1</th>\n",
       "                        <td id=\"T_30b0e8c0_ea6d_11e9_a9a3_acde48001122row1_col0\" class=\"data row1 col0\" >SimpleBIF</td>\n",
       "                        <td id=\"T_30b0e8c0_ea6d_11e9_a9a3_acde48001122row1_col1\" class=\"data row1 col1\" >BIF_Series</td>\n",
       "                        <td id=\"T_30b0e8c0_ea6d_11e9_a9a3_acde48001122row1_col2\" class=\"data row1 col2\" >2</td>\n",
       "                        <td id=\"T_30b0e8c0_ea6d_11e9_a9a3_acde48001122row1_col3\" class=\"data row1 col3\" >False</td>\n",
       "                        <td id=\"T_30b0e8c0_ea6d_11e9_a9a3_acde48001122row1_col4\" class=\"data row1 col4\" >#9f0052</td>\n",
       "                        <td id=\"T_30b0e8c0_ea6d_11e9_a9a3_acde48001122row1_col5\" class=\"data row1 col5\" >2</td>\n",
       "                        <td id=\"T_30b0e8c0_ea6d_11e9_a9a3_acde48001122row1_col6\" class=\"data row1 col6\" >3.1</td>\n",
       "            </tr>\n",
       "            <tr>\n",
       "                        <th id=\"T_30b0e8c0_ea6d_11e9_a9a3_acde48001122level0_row2\" class=\"row_heading level0 row2\" >4</th>\n",
       "                        <td id=\"T_30b0e8c0_ea6d_11e9_a9a3_acde48001122row2_col0\" class=\"data row2 col0\" >basement</td>\n",
       "                        <td id=\"T_30b0e8c0_ea6d_11e9_a9a3_acde48001122row2_col1\" class=\"data row2 col1\" >Basement</td>\n",
       "                        <td id=\"T_30b0e8c0_ea6d_11e9_a9a3_acde48001122row2_col2\" class=\"data row2 col2\" >1</td>\n",
       "                        <td id=\"T_30b0e8c0_ea6d_11e9_a9a3_acde48001122row2_col3\" class=\"data row2 col3\" >False</td>\n",
       "                        <td id=\"T_30b0e8c0_ea6d_11e9_a9a3_acde48001122row2_col4\" class=\"data row2 col4\" >#443988</td>\n",
       "                        <td id=\"T_30b0e8c0_ea6d_11e9_a9a3_acde48001122row2_col5\" class=\"data row2 col5\" >3</td>\n",
       "                        <td id=\"T_30b0e8c0_ea6d_11e9_a9a3_acde48001122row2_col6\" class=\"data row2 col6\" >2.61</td>\n",
       "            </tr>\n",
       "            <tr>\n",
       "                        <th id=\"T_30b0e8c0_ea6d_11e9_a9a3_acde48001122level0_row3\" class=\"row_heading level0 row3\" >3</th>\n",
       "                        <td id=\"T_30b0e8c0_ea6d_11e9_a9a3_acde48001122row3_col0\" class=\"data row3 col0\" >EarlyGranite</td>\n",
       "                        <td id=\"T_30b0e8c0_ea6d_11e9_a9a3_acde48001122row3_col1\" class=\"data row3 col1\" >EarlyGranite_Series</td>\n",
       "                        <td id=\"T_30b0e8c0_ea6d_11e9_a9a3_acde48001122row3_col2\" class=\"data row3 col2\" >1</td>\n",
       "                        <td id=\"T_30b0e8c0_ea6d_11e9_a9a3_acde48001122row3_col3\" class=\"data row3 col3\" >False</td>\n",
       "                        <td id=\"T_30b0e8c0_ea6d_11e9_a9a3_acde48001122row3_col4\" class=\"data row3 col4\" >#728f02</td>\n",
       "                        <td id=\"T_30b0e8c0_ea6d_11e9_a9a3_acde48001122row3_col5\" class=\"data row3 col5\" >4</td>\n",
       "                        <td id=\"T_30b0e8c0_ea6d_11e9_a9a3_acde48001122row3_col6\" class=\"data row3 col6\" >2.61</td>\n",
       "            </tr>\n",
       "            <tr>\n",
       "                        <th id=\"T_30b0e8c0_ea6d_11e9_a9a3_acde48001122level0_row4\" class=\"row_heading level0 row4\" >2</th>\n",
       "                        <td id=\"T_30b0e8c0_ea6d_11e9_a9a3_acde48001122row4_col0\" class=\"data row4 col0\" >SimpleMafic1</td>\n",
       "                        <td id=\"T_30b0e8c0_ea6d_11e9_a9a3_acde48001122row4_col1\" class=\"data row4 col1\" >SimpleMafic_Series</td>\n",
       "                        <td id=\"T_30b0e8c0_ea6d_11e9_a9a3_acde48001122row4_col2\" class=\"data row4 col2\" >1</td>\n",
       "                        <td id=\"T_30b0e8c0_ea6d_11e9_a9a3_acde48001122row4_col3\" class=\"data row4 col3\" >True</td>\n",
       "                        <td id=\"T_30b0e8c0_ea6d_11e9_a9a3_acde48001122row4_col4\" class=\"data row4 col4\" >#ffbe00</td>\n",
       "                        <td id=\"T_30b0e8c0_ea6d_11e9_a9a3_acde48001122row4_col5\" class=\"data row4 col5\" >5</td>\n",
       "                        <td id=\"T_30b0e8c0_ea6d_11e9_a9a3_acde48001122row4_col6\" class=\"data row4 col6\" >2.92</td>\n",
       "            </tr>\n",
       "    </tbody></table>"
      ],
      "text/plain": [
       "        surface               series  order_surfaces  isBasement    color vertices edges  id  value_0\n",
       "0  SimpleMafic2           BIF_Series               1       False  #015482      NaN   NaN   1     2.92\n",
       "1     SimpleBIF           BIF_Series               2       False  #9f0052      NaN   NaN   2     3.10\n",
       "4      basement             Basement               1       False  #443988      NaN   NaN   3     2.61\n",
       "3  EarlyGranite  EarlyGranite_Series               1       False  #728f02      NaN   NaN   4     2.61\n",
       "2  SimpleMafic1   SimpleMafic_Series               1        True  #ffbe00      NaN   NaN   5     2.92"
      ]
     },
     "execution_count": 13,
     "metadata": {},
     "output_type": "execute_result"
    }
   ],
   "source": [
    "geo_model.surfaces"
   ]
  },
  {
   "cell_type": "markdown",
   "metadata": {},
   "source": [
    "In this case the densities of each layer are at the loc 1 (0 is the id)"
   ]
  },
  {
   "cell_type": "code",
   "execution_count": 14,
   "metadata": {},
   "outputs": [
    {
     "name": "stdout",
     "output_type": "stream",
     "text": [
      "Compiling theano function...\n",
      "Compilation Done!\n"
     ]
    },
    {
     "data": {
      "text/html": [
       "<table border=\"1\" class=\"dataframe\">\n",
       "  <thead>\n",
       "    <tr style=\"text-align: right;\">\n",
       "      <th></th>\n",
       "      <th>values</th>\n",
       "    </tr>\n",
       "  </thead>\n",
       "  <tbody>\n",
       "    <tr>\n",
       "      <th>dtype</th>\n",
       "      <td>float64</td>\n",
       "    </tr>\n",
       "    <tr>\n",
       "      <th>output</th>\n",
       "      <td>geology</td>\n",
       "    </tr>\n",
       "    <tr>\n",
       "      <th>theano_optimizer</th>\n",
       "      <td>fast_compile</td>\n",
       "    </tr>\n",
       "    <tr>\n",
       "      <th>device</th>\n",
       "      <td>cpu</td>\n",
       "    </tr>\n",
       "    <tr>\n",
       "      <th>verbosity</th>\n",
       "      <td>[grid_shape, slices]</td>\n",
       "    </tr>\n",
       "  </tbody>\n",
       "</table>"
      ],
      "text/plain": [
       "                                values\n",
       "dtype                          float64\n",
       "output                         geology\n",
       "theano_optimizer          fast_compile\n",
       "device                             cpu\n",
       "verbosity         [grid_shape, slices]"
      ]
     },
     "execution_count": 14,
     "metadata": {},
     "output_type": "execute_result"
    }
   ],
   "source": [
    "geo_model.set_gravity_interpolator(pos_density=1, verbose=['grid_shape', 'slices'])"
   ]
  },
  {
   "cell_type": "markdown",
   "metadata": {},
   "source": [
    "Once we have created a gravity interpolator we can call it from compute model as follows:"
   ]
  },
  {
   "cell_type": "code",
   "execution_count": 15,
   "metadata": {
    "scrolled": false
   },
   "outputs": [
    {
     "name": "stdout",
     "output_type": "stream",
     "text": [
      "Active grids: ['centered']\n",
      "grid_shape __str__ = [774532]\n",
      "slices __str__ = [     0  12066  24132  36198  48264  60330  72396  84462  96528 108594\n",
      " 120660 132726 144792 156858 168924 180990 193056 205122 217188 229254\n",
      " 241320 253386 265452 277518 289584 301650 313716 325782 337848 349914\n",
      " 361980 374046 386112 398178 410244 422310 434376 446442 458508 470574\n",
      " 482640 494706 506772 518838 530904 542970 555036 567102 579168 591234\n",
      " 603300 615366 627432 639498 651564 663630 675696 687762 699828 711894\n",
      " 723960 736026 748092 760158 772224 774532]\n",
      "grid_shape __str__ = [774532]\n",
      "slices __str__ = [     0  39124  78248 117372 156496 195620 234744 273868 312992 352116\n",
      " 391240 430364 469488 508612 547736 586860 625984 665108 704232 743356\n",
      " 774532]\n",
      "grid_shape __str__ = [774532]\n",
      "slices __str__ = [     0  22260  44520  66780  89040 111300 133560 155820 178080 200340\n",
      " 222600 244860 267120 289380 311640 333900 356160 378420 400680 422940\n",
      " 445200 467460 489720 511980 534240 556500 578760 601020 623280 645540\n",
      " 667800 690060 712320 734580 756840 774532]\n"
     ]
    }
   ],
   "source": [
    "grav = gp.compute_model(geo_model, output='gravity')"
   ]
  },
  {
   "cell_type": "code",
   "execution_count": 16,
   "metadata": {},
   "outputs": [
    {
     "data": {
      "text/plain": [
       "<matplotlib.image.AxesImage at 0x7ff0a2153f98>"
      ]
     },
     "execution_count": 16,
     "metadata": {},
     "output_type": "execute_result"
    },
    {
     "data": {
      "image/png": "[encoded data removed]",
      "text/plain": [
       "<Figure size 383.642x504 with 1 Axes>"
      ]
     },
     "metadata": {},
     "output_type": "display_data"
    }
   ],
   "source": [
    "gp.plot.plot_data(geo_model, direction='z', height=7)\n",
    "plt.scatter(xy_ravel[:,0], xy_ravel[:, 1], s=1)\n",
    "plt.imshow(grav.reshape(grav_res, grav_res), extent = (xy_ravel[:,0].min() + (xy_ravel[0, 0] - xy_ravel[1, 0])/2,\n",
    "                                                       xy_ravel[:,0].max() - (xy_ravel[0, 0] - xy_ravel[1, 0])/2,\n",
    "                                                       xy_ravel[:,1].min() + (xy_ravel[0, 1] - xy_ravel[30, 1])/2,\n",
    "                                                       xy_ravel[:,1].max() - (xy_ravel[0, 1] - xy_ravel[30, 1])/2),\n",
    "           cmap='viridis_r', origin='bottom')"
   ]
  },
  {
   "cell_type": "markdown",
   "metadata": {},
   "source": [
    "#### Plotting lithologies\n",
    "\n",
    "If we want to compute the lithologies we will need to create a normal interpolator object as seen in the Chapter 1 of the tutorials  "
   ]
  },
  {
   "cell_type": "code",
   "execution_count": 17,
   "metadata": {},
   "outputs": [
    {
     "name": "stdout",
     "output_type": "stream",
     "text": [
      "Compiling theano function...\n",
      "Compilation Done!\n"
     ]
    },
    {
     "data": {
      "text/plain": [
       "<gempy.core.interpolator.InterpolatorModel at 0x7ff091b856d8>"
      ]
     },
     "execution_count": 17,
     "metadata": {},
     "output_type": "execute_result"
    }
   ],
   "source": [
    "gp.set_interpolation_data(geo_model,\n",
    "                          compile_theano=True,\n",
    "                          theano_optimizer='fast_run',\n",
    "                          verbose=[])"
   ]
  },
  {
   "cell_type": "markdown",
   "metadata": {},
   "source": [
    "Now we want to interpolate on a regular grid for a simple plot. Therefore we need to activate the regular grid:"
   ]
  },
  {
   "cell_type": "code",
   "execution_count": 18,
   "metadata": {},
   "outputs": [
    {
     "name": "stdout",
     "output_type": "stream",
     "text": [
      "Active grids: ['regular']\n"
     ]
    },
    {
     "data": {
      "text/plain": [
       "Grid Object. Values: \n",
       "array([[ 6.96510e+05,  6.86367e+06, -1.97980e+04],\n",
       "       [ 6.96510e+05,  6.86367e+06, -1.93940e+04],\n",
       "       [ 6.96510e+05,  6.86367e+06, -1.89900e+04],\n",
       "       ...,\n",
       "       [ 7.46490e+05,  6.92933e+06, -8.10000e+02],\n",
       "       [ 7.46490e+05,  6.92933e+06, -4.06000e+02],\n",
       "       [ 7.46490e+05,  6.92933e+06, -2.00000e+00]])"
      ]
     },
     "execution_count": 18,
     "metadata": {},
     "output_type": "execute_result"
    }
   ],
   "source": [
    "geo_model.set_active_grid('regular')"
   ]
  },
  {
   "cell_type": "code",
   "execution_count": 19,
   "metadata": {},
   "outputs": [
    {
     "data": {
      "text/plain": [
       "\n",
       "Lithology ids \n",
       "  [5. 5. 5. ... 1. 1. 1.] "
      ]
     },
     "execution_count": 19,
     "metadata": {},
     "output_type": "execute_result"
    }
   ],
   "source": [
    "gp.compute_model(geo_model)"
   ]
  },
  {
   "cell_type": "markdown",
   "metadata": {},
   "source": [
    "Now we can plot all together (change the alpha parameter to see the gravity overlying):"
   ]
  },
  {
   "cell_type": "code",
   "execution_count": 28,
   "metadata": {
    "scrolled": false
   },
   "outputs": [
    {
     "data": {
      "text/plain": [
       "<matplotlib.image.AxesImage at 0x7ff069c195f8>"
      ]
     },
     "execution_count": 28,
     "metadata": {},
     "output_type": "execute_result"
    },
    {
     "data": {
      "image/png": "[encoded data removed]",
      "text/plain": [
       "<Figure size 748.8x514.8 with 1 Axes>"
      ]
     },
     "metadata": {},
     "output_type": "display_data"
    }
   ],
   "source": [
    "gp.plot.plot_section(geo_model, -1, direction='z')\n",
    "plt.scatter(xy_ravel[:,0], xy_ravel[:, 1], s=1)\n",
    "plt.imshow(grav.reshape(grav_res, grav_res), extent = (xy_ravel[:,0].min() + (xy_ravel[0, 0] - xy_ravel[1, 0])/2,\n",
    "                                                       xy_ravel[:,0].max() - (xy_ravel[0, 0] - xy_ravel[1, 0])/2,\n",
    "                                                       xy_ravel[:,1].min() + (xy_ravel[0, 1] - xy_ravel[30, 1])/2,\n",
    "                                                       xy_ravel[:,1].max() - (xy_ravel[0, 1] - xy_ravel[30, 1])/2),\n",
    "           cmap='viridis_r', origin='bottom', alpha=.0)"
   ]
  },
  {
   "cell_type": "markdown",
   "metadata": {},
   "source": [
    "### Computing gravity by passing the density block.\n",
    "\n",
    "We may have computed the densities on a previous step and we want to compute gravity afterwards. First lets compute the density block on a centered grid:"
   ]
  },
  {
   "cell_type": "code",
   "execution_count": 21,
   "metadata": {},
   "outputs": [
    {
     "name": "stdout",
     "output_type": "stream",
     "text": [
      "Active grids: ['centered']\n"
     ]
    },
    {
     "data": {
      "text/plain": [
       "Grid Object. Values: \n",
       "array([[ 7.00000000e+05,  6.85800000e+06,  0.00000000e+00],\n",
       "       [ 7.00000000e+05,  6.85800000e+06, -6.00000000e+01],\n",
       "       [ 7.00000000e+05,  6.85800000e+06, -8.33697297e+01],\n",
       "       ...,\n",
       "       [ 7.52000000e+05,  6.93000000e+06, -3.10768481e+03],\n",
       "       [ 7.52000000e+05,  6.93000000e+06, -4.31811404e+03],\n",
       "       [ 7.52000000e+05,  6.93000000e+06, -6.00000000e+03]])"
      ]
     },
     "execution_count": 21,
     "metadata": {},
     "output_type": "execute_result"
    }
   ],
   "source": [
    "geo_model.set_active_grid('centered')"
   ]
  },
  {
   "cell_type": "code",
   "execution_count": 22,
   "metadata": {},
   "outputs": [
    {
     "data": {
      "text/plain": [
       "array([     0,      0,      0,      0,      0, 774400])"
      ]
     },
     "execution_count": 22,
     "metadata": {},
     "output_type": "execute_result"
    }
   ],
   "source": [
    "geo_model.grid.length"
   ]
  },
  {
   "cell_type": "code",
   "execution_count": 23,
   "metadata": {},
   "outputs": [],
   "source": [
    "sol = gp.compute_model(geo_model, set_solutions=False)"
   ]
  },
  {
   "cell_type": "code",
   "execution_count": 24,
   "metadata": {},
   "outputs": [
    {
     "data": {
      "text/plain": [
       "array([3.0999999, 3.0999999, 3.0999999, ..., 3.0999999, 3.0999999,\n",
       "       3.0999999])"
      ]
     },
     "execution_count": 24,
     "metadata": {},
     "output_type": "execute_result"
    }
   ],
   "source": [
    "l0, l1 = geo_model.grid.get_grid_args('centered')\n",
    "sol[0][1][l0:l1]"
   ]
  },
  {
   "cell_type": "markdown",
   "metadata": {},
   "source": [
    "Notice that since the heavy computations have been already carried on the compilation of the graph and the evaluation of the gravity is rather fast!"
   ]
  },
  {
   "cell_type": "code",
   "execution_count": 25,
   "metadata": {},
   "outputs": [
    {
     "name": "stdout",
     "output_type": "stream",
     "text": [
      "Compiling theano function...\n",
      "Compilation Done!\n"
     ]
    },
    {
     "data": {
      "text/html": [
       "<table border=\"1\" class=\"dataframe\">\n",
       "  <thead>\n",
       "    <tr style=\"text-align: right;\">\n",
       "      <th></th>\n",
       "      <th>values</th>\n",
       "    </tr>\n",
       "  </thead>\n",
       "  <tbody>\n",
       "    <tr>\n",
       "      <th>dtype</th>\n",
       "      <td>float64</td>\n",
       "    </tr>\n",
       "    <tr>\n",
       "      <th>output</th>\n",
       "      <td>geology</td>\n",
       "    </tr>\n",
       "    <tr>\n",
       "      <th>theano_optimizer</th>\n",
       "      <td>fast_run</td>\n",
       "    </tr>\n",
       "    <tr>\n",
       "      <th>device</th>\n",
       "      <td>cpu</td>\n",
       "    </tr>\n",
       "    <tr>\n",
       "      <th>verbosity</th>\n",
       "      <td>[]</td>\n",
       "    </tr>\n",
       "  </tbody>\n",
       "</table>"
      ],
      "text/plain": [
       "                    values\n",
       "dtype              float64\n",
       "output             geology\n",
       "theano_optimizer  fast_run\n",
       "device                 cpu\n",
       "verbosity               []"
      ]
     },
     "execution_count": 25,
     "metadata": {},
     "output_type": "execute_result"
    }
   ],
   "source": [
    "geo_model.set_gravity_interpolator(density_block=sol[0][1][l0:l1])"
   ]
  },
  {
   "cell_type": "code",
   "execution_count": 26,
   "metadata": {},
   "outputs": [
    {
     "name": "stdout",
     "output_type": "stream",
     "text": [
      "Active grids: ['centered']\n"
     ]
    }
   ],
   "source": [
    "grav_shared = gp.compute_model(geo_model, output='gravity')"
   ]
  },
  {
   "cell_type": "code",
   "execution_count": 27,
   "metadata": {},
   "outputs": [
    {
     "data": {
      "text/plain": [
       "400"
      ]
     },
     "execution_count": 27,
     "metadata": {},
     "output_type": "execute_result"
    }
   ],
   "source": [
    "# We check that the results are the same as we got before:\n",
    "(grav != grav_shared).sum()"
   ]
  }
 ],
 "metadata": {
  "kernelspec": {
   "display_name": "Python 3",
   "language": "python",
   "name": "python3"
  },
  "language_info": {
   "codemirror_mode": {
    "name": "ipython",
    "version": 3
   },
   "file_extension": ".py",
   "mimetype": "text/x-python",
   "name": "python",
   "nbconvert_exporter": "python",
   "pygments_lexer": "ipython3",
   "version": "3.7.3"
  }
 },
 "nbformat": 4,
 "nbformat_minor": 2
}
