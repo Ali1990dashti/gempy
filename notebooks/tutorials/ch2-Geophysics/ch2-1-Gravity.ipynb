{
 "cells": [
  {
   "cell_type": "markdown",
   "metadata": {},
   "source": [
    "## Chapter 2.1 Forward Gravity: Simple example"
   ]
  },
  {
   "cell_type": "code",
   "execution_count": 1,
   "metadata": {},
   "outputs": [],
   "source": [
    "# These two lines are necessary only if gempy is not installed\n",
    "import sys, os\n",
    "sys.path.append(\"../../..\")\n",
    "\n",
    "# Importing gempy\n",
    "import gempy as gp\n",
    "\n",
    "# Embedding matplotlib figures into the notebooks\n",
    "%matplotlib inline\n",
    "\n",
    "\n",
    "# Aux imports\n",
    "import numpy as np\n",
    "import pandas as pn\n",
    "import matplotlib.pyplot as plt\n",
    "import theano\n",
    "import qgrid\n",
    "\n",
    "#%matplotlib widget\n"
   ]
  },
  {
   "cell_type": "code",
   "execution_count": 2,
   "metadata": {},
   "outputs": [
    {
     "name": "stdout",
     "output_type": "stream",
     "text": [
      "Active grids: ['regular']\n"
     ]
    }
   ],
   "source": [
    "geo_model = gp.load_model('Greenstone', path= '../../data/gempy_models')"
   ]
  },
  {
   "cell_type": "code",
   "execution_count": 3,
   "metadata": {},
   "outputs": [
    {
     "data": {
      "text/html": [
       "<table border=\"1\" class=\"dataframe\">\n",
       "  <thead>\n",
       "    <tr style=\"text-align: right;\">\n",
       "      <th></th>\n",
       "      <th>order_series</th>\n",
       "      <th>BottomRelation</th>\n",
       "    </tr>\n",
       "  </thead>\n",
       "  <tbody>\n",
       "    <tr>\n",
       "      <th>EarlyGranite_Series</th>\n",
       "      <td>1</td>\n",
       "      <td>Erosion</td>\n",
       "    </tr>\n",
       "    <tr>\n",
       "      <th>BIF_Series</th>\n",
       "      <td>2</td>\n",
       "      <td>Erosion</td>\n",
       "    </tr>\n",
       "    <tr>\n",
       "      <th>SimpleMafic_Series</th>\n",
       "      <td>3</td>\n",
       "      <td>Erosion</td>\n",
       "    </tr>\n",
       "    <tr>\n",
       "      <th>Basement</th>\n",
       "      <td>4</td>\n",
       "      <td>Erosion</td>\n",
       "    </tr>\n",
       "  </tbody>\n",
       "</table>"
      ],
      "text/plain": [
       "                     order_series BottomRelation\n",
       "EarlyGranite_Series             1        Erosion\n",
       "BIF_Series                      2        Erosion\n",
       "SimpleMafic_Series              3        Erosion\n",
       "Basement                        4        Erosion"
      ]
     },
     "execution_count": 3,
     "metadata": {},
     "output_type": "execute_result"
    }
   ],
   "source": [
    "geo_model.series"
   ]
  },
  {
   "cell_type": "code",
   "execution_count": 4,
   "metadata": {},
   "outputs": [
    {
     "data": {
      "text/html": [
       "<style  type=\"text/css\" >\n",
       "    #T_6e782fea_eb50_11e9_a33f_acde48001122row0_col4 {\n",
       "            background-color:  #728f02;\n",
       "        }    #T_6e782fea_eb50_11e9_a33f_acde48001122row1_col4 {\n",
       "            background-color:  #015482;\n",
       "        }    #T_6e782fea_eb50_11e9_a33f_acde48001122row2_col4 {\n",
       "            background-color:  #9f0052;\n",
       "        }    #T_6e782fea_eb50_11e9_a33f_acde48001122row3_col4 {\n",
       "            background-color:  #ffbe00;\n",
       "        }    #T_6e782fea_eb50_11e9_a33f_acde48001122row4_col4 {\n",
       "            background-color:  #443988;\n",
       "        }</style><table id=\"T_6e782fea_eb50_11e9_a33f_acde48001122\" ><thead>    <tr>        <th class=\"blank level0\" ></th>        <th class=\"col_heading level0 col0\" >surface</th>        <th class=\"col_heading level0 col1\" >series</th>        <th class=\"col_heading level0 col2\" >order_surfaces</th>        <th class=\"col_heading level0 col3\" >isBasement</th>        <th class=\"col_heading level0 col4\" >color</th>        <th class=\"col_heading level0 col5\" >id</th>        <th class=\"col_heading level0 col6\" >value_0</th>    </tr></thead><tbody>\n",
       "                <tr>\n",
       "                        <th id=\"T_6e782fea_eb50_11e9_a33f_acde48001122level0_row0\" class=\"row_heading level0 row0\" >3</th>\n",
       "                        <td id=\"T_6e782fea_eb50_11e9_a33f_acde48001122row0_col0\" class=\"data row0 col0\" >EarlyGranite</td>\n",
       "                        <td id=\"T_6e782fea_eb50_11e9_a33f_acde48001122row0_col1\" class=\"data row0 col1\" >EarlyGranite_Series</td>\n",
       "                        <td id=\"T_6e782fea_eb50_11e9_a33f_acde48001122row0_col2\" class=\"data row0 col2\" >1</td>\n",
       "                        <td id=\"T_6e782fea_eb50_11e9_a33f_acde48001122row0_col3\" class=\"data row0 col3\" >False</td>\n",
       "                        <td id=\"T_6e782fea_eb50_11e9_a33f_acde48001122row0_col4\" class=\"data row0 col4\" >#728f02</td>\n",
       "                        <td id=\"T_6e782fea_eb50_11e9_a33f_acde48001122row0_col5\" class=\"data row0 col5\" >1</td>\n",
       "                        <td id=\"T_6e782fea_eb50_11e9_a33f_acde48001122row0_col6\" class=\"data row0 col6\" >2.61</td>\n",
       "            </tr>\n",
       "            <tr>\n",
       "                        <th id=\"T_6e782fea_eb50_11e9_a33f_acde48001122level0_row1\" class=\"row_heading level0 row1\" >0</th>\n",
       "                        <td id=\"T_6e782fea_eb50_11e9_a33f_acde48001122row1_col0\" class=\"data row1 col0\" >SimpleMafic2</td>\n",
       "                        <td id=\"T_6e782fea_eb50_11e9_a33f_acde48001122row1_col1\" class=\"data row1 col1\" >BIF_Series</td>\n",
       "                        <td id=\"T_6e782fea_eb50_11e9_a33f_acde48001122row1_col2\" class=\"data row1 col2\" >1</td>\n",
       "                        <td id=\"T_6e782fea_eb50_11e9_a33f_acde48001122row1_col3\" class=\"data row1 col3\" >False</td>\n",
       "                        <td id=\"T_6e782fea_eb50_11e9_a33f_acde48001122row1_col4\" class=\"data row1 col4\" >#015482</td>\n",
       "                        <td id=\"T_6e782fea_eb50_11e9_a33f_acde48001122row1_col5\" class=\"data row1 col5\" >2</td>\n",
       "                        <td id=\"T_6e782fea_eb50_11e9_a33f_acde48001122row1_col6\" class=\"data row1 col6\" >2.92</td>\n",
       "            </tr>\n",
       "            <tr>\n",
       "                        <th id=\"T_6e782fea_eb50_11e9_a33f_acde48001122level0_row2\" class=\"row_heading level0 row2\" >1</th>\n",
       "                        <td id=\"T_6e782fea_eb50_11e9_a33f_acde48001122row2_col0\" class=\"data row2 col0\" >SimpleBIF</td>\n",
       "                        <td id=\"T_6e782fea_eb50_11e9_a33f_acde48001122row2_col1\" class=\"data row2 col1\" >BIF_Series</td>\n",
       "                        <td id=\"T_6e782fea_eb50_11e9_a33f_acde48001122row2_col2\" class=\"data row2 col2\" >2</td>\n",
       "                        <td id=\"T_6e782fea_eb50_11e9_a33f_acde48001122row2_col3\" class=\"data row2 col3\" >False</td>\n",
       "                        <td id=\"T_6e782fea_eb50_11e9_a33f_acde48001122row2_col4\" class=\"data row2 col4\" >#9f0052</td>\n",
       "                        <td id=\"T_6e782fea_eb50_11e9_a33f_acde48001122row2_col5\" class=\"data row2 col5\" >3</td>\n",
       "                        <td id=\"T_6e782fea_eb50_11e9_a33f_acde48001122row2_col6\" class=\"data row2 col6\" >3.1</td>\n",
       "            </tr>\n",
       "            <tr>\n",
       "                        <th id=\"T_6e782fea_eb50_11e9_a33f_acde48001122level0_row3\" class=\"row_heading level0 row3\" >2</th>\n",
       "                        <td id=\"T_6e782fea_eb50_11e9_a33f_acde48001122row3_col0\" class=\"data row3 col0\" >SimpleMafic1</td>\n",
       "                        <td id=\"T_6e782fea_eb50_11e9_a33f_acde48001122row3_col1\" class=\"data row3 col1\" >SimpleMafic_Series</td>\n",
       "                        <td id=\"T_6e782fea_eb50_11e9_a33f_acde48001122row3_col2\" class=\"data row3 col2\" >1</td>\n",
       "                        <td id=\"T_6e782fea_eb50_11e9_a33f_acde48001122row3_col3\" class=\"data row3 col3\" >False</td>\n",
       "                        <td id=\"T_6e782fea_eb50_11e9_a33f_acde48001122row3_col4\" class=\"data row3 col4\" >#ffbe00</td>\n",
       "                        <td id=\"T_6e782fea_eb50_11e9_a33f_acde48001122row3_col5\" class=\"data row3 col5\" >4</td>\n",
       "                        <td id=\"T_6e782fea_eb50_11e9_a33f_acde48001122row3_col6\" class=\"data row3 col6\" >2.92</td>\n",
       "            </tr>\n",
       "            <tr>\n",
       "                        <th id=\"T_6e782fea_eb50_11e9_a33f_acde48001122level0_row4\" class=\"row_heading level0 row4\" >4</th>\n",
       "                        <td id=\"T_6e782fea_eb50_11e9_a33f_acde48001122row4_col0\" class=\"data row4 col0\" >basement</td>\n",
       "                        <td id=\"T_6e782fea_eb50_11e9_a33f_acde48001122row4_col1\" class=\"data row4 col1\" >Basement</td>\n",
       "                        <td id=\"T_6e782fea_eb50_11e9_a33f_acde48001122row4_col2\" class=\"data row4 col2\" >1</td>\n",
       "                        <td id=\"T_6e782fea_eb50_11e9_a33f_acde48001122row4_col3\" class=\"data row4 col3\" >True</td>\n",
       "                        <td id=\"T_6e782fea_eb50_11e9_a33f_acde48001122row4_col4\" class=\"data row4 col4\" >#443988</td>\n",
       "                        <td id=\"T_6e782fea_eb50_11e9_a33f_acde48001122row4_col5\" class=\"data row4 col5\" >5</td>\n",
       "                        <td id=\"T_6e782fea_eb50_11e9_a33f_acde48001122row4_col6\" class=\"data row4 col6\" >2.61</td>\n",
       "            </tr>\n",
       "    </tbody></table>"
      ],
      "text/plain": [
       "        surface               series  order_surfaces  isBasement    color vertices edges  id  value_0\n",
       "3  EarlyGranite  EarlyGranite_Series               1       False  #728f02      NaN   NaN   1     2.61\n",
       "0  SimpleMafic2           BIF_Series               1       False  #015482      NaN   NaN   2     2.92\n",
       "1     SimpleBIF           BIF_Series               2       False  #9f0052      NaN   NaN   3     3.10\n",
       "2  SimpleMafic1   SimpleMafic_Series               1       False  #ffbe00      NaN   NaN   4     2.92\n",
       "4      basement             Basement               1        True  #443988      NaN   NaN   5     2.61"
      ]
     },
     "execution_count": 4,
     "metadata": {},
     "output_type": "execute_result"
    }
   ],
   "source": [
    "geo_model.surfaces"
   ]
  },
  {
   "cell_type": "code",
   "execution_count": 5,
   "metadata": {},
   "outputs": [
    {
     "data": {
      "text/plain": [
       "<gempy.plot.visualization_2d.PlotData2D at 0x7ff131e89b70>"
      ]
     },
     "execution_count": 5,
     "metadata": {},
     "output_type": "execute_result"
    },
    {
     "data": {
      "image/png": "[encoded data removed]",
      "text/plain": [
       "<Figure size 1440x720 with 1 Axes>"
      ]
     },
     "metadata": {
      "needs_background": "light"
     },
     "output_type": "display_data"
    }
   ],
   "source": [
    "gp.plot.plot_data(geo_model)"
   ]
  },
  {
   "cell_type": "code",
   "execution_count": 6,
   "metadata": {},
   "outputs": [],
   "source": [
    "# Compute normal model:\n",
    "# gp.set_interpolation_data(geo_model,\n",
    "#                           compile_theano=True,\n",
    "#                           theano_optimizer='fast_compile',\n",
    "#                           verbose=[])\n",
    "# gp.compute_model(geo_model)"
   ]
  },
  {
   "cell_type": "markdown",
   "metadata": {},
   "source": [
    "### Creating grid"
   ]
  },
  {
   "cell_type": "markdown",
   "metadata": {},
   "source": [
    "First we need to define the location of the devices. For this example we can make a map:"
   ]
  },
  {
   "cell_type": "code",
   "execution_count": 7,
   "metadata": {},
   "outputs": [
    {
     "data": {
      "text/plain": [
       "array([[7.05000000e+05, 6.86300000e+06, 3.00000000e+02],\n",
       "       [7.07210526e+05, 6.86300000e+06, 3.00000000e+02],\n",
       "       [7.09421053e+05, 6.86300000e+06, 3.00000000e+02],\n",
       "       ...,\n",
       "       [7.42578947e+05, 6.92500000e+06, 3.00000000e+02],\n",
       "       [7.44789474e+05, 6.92500000e+06, 3.00000000e+02],\n",
       "       [7.47000000e+05, 6.92500000e+06, 3.00000000e+02]])"
      ]
     },
     "execution_count": 7,
     "metadata": {},
     "output_type": "execute_result"
    }
   ],
   "source": [
    "grav_res = 20\n",
    "X = np.linspace(7.050000e+05, 747000, grav_res)\n",
    "Y = np.linspace(6863000, 6925000, grav_res)\n",
    "Z= 300\n",
    "xyz= np.meshgrid(X, Y, Z)\n",
    "xy_ravel = np.vstack(list(map(np.ravel, xyz))).T\n",
    "xy_ravel"
   ]
  },
  {
   "cell_type": "markdown",
   "metadata": {},
   "source": [
    "We can see the location of the devices relative to the model data:"
   ]
  },
  {
   "cell_type": "code",
   "execution_count": 8,
   "metadata": {},
   "outputs": [
    {
     "data": {
      "text/plain": [
       "<matplotlib.collections.PathCollection at 0x7ff1416c1ef0>"
      ]
     },
     "execution_count": 8,
     "metadata": {},
     "output_type": "execute_result"
    },
    {
     "data": {
      "image/png": "[encoded data removed]",
      "text/plain": [
       "<Figure size 1440x720 with 1 Axes>"
      ]
     },
     "metadata": {
      "needs_background": "light"
     },
     "output_type": "display_data"
    }
   ],
   "source": [
    "import matplotlib.pyplot as plt\n",
    "gp.plot.plot_data(geo_model, direction='z')\n",
    "plt.scatter(xy_ravel[:,0], xy_ravel[:, 1], s=1)"
   ]
  },
  {
   "cell_type": "markdown",
   "metadata": {},
   "source": [
    "Now we need to create the grid centered on the devices (see: https://github.com/cgre-aachen/gempy/blob/master/notebooks/tutorials/ch1-3-Grids.ipynb)"
   ]
  },
  {
   "cell_type": "code",
   "execution_count": 9,
   "metadata": {},
   "outputs": [
    {
     "name": "stdout",
     "output_type": "stream",
     "text": [
      "Active grids: ['regular' 'centered']\n"
     ]
    },
    {
     "data": {
      "text/plain": [
       "Grid Object. Values: \n",
       "array([[ 6.96510000e+05,  6.86367000e+06, -1.97980000e+04],\n",
       "       [ 6.96510000e+05,  6.86367000e+06, -1.93940000e+04],\n",
       "       [ 6.96510000e+05,  6.86367000e+06, -1.89900000e+04],\n",
       "       ...,\n",
       "       [ 7.52000000e+05,  6.93000000e+06, -3.10768481e+03],\n",
       "       [ 7.52000000e+05,  6.93000000e+06, -4.31811404e+03],\n",
       "       [ 7.52000000e+05,  6.93000000e+06, -6.00000000e+03]])"
      ]
     },
     "execution_count": 9,
     "metadata": {},
     "output_type": "execute_result"
    }
   ],
   "source": [
    "geo_model.set_centered_grid(xy_ravel,  resolution = [10, 10, 15], radio=5000)"
   ]
  },
  {
   "cell_type": "code",
   "execution_count": 10,
   "metadata": {},
   "outputs": [
    {
     "data": {
      "text/plain": [
       "array([[-5000.        , -5000.        ,  -300.        ],\n",
       "       [-5000.        , -5000.        ,  -360.        ],\n",
       "       [-5000.        , -5000.        ,  -383.36972966],\n",
       "       ...,\n",
       "       [ 5000.        ,  5000.        , -3407.68480754],\n",
       "       [ 5000.        ,  5000.        , -4618.11403801],\n",
       "       [ 5000.        ,  5000.        , -6300.        ]])"
      ]
     },
     "execution_count": 10,
     "metadata": {},
     "output_type": "execute_result"
    }
   ],
   "source": [
    "geo_model.grid.centered_grid.kernel_centers"
   ]
  },
  {
   "cell_type": "markdown",
   "metadata": {},
   "source": [
    "Now we need to compute the component tz (see https://github.com/cgre-achen/gempy/blob/master/notebooks/tutorials/ch2-2-Cell_selection.ipynb)"
   ]
  },
  {
   "cell_type": "code",
   "execution_count": 11,
   "metadata": {},
   "outputs": [],
   "source": [
    "from gempy.assets.geophysics import GeophysicsPreprocessing"
   ]
  },
  {
   "cell_type": "code",
   "execution_count": 12,
   "metadata": {},
   "outputs": [],
   "source": [
    "g = GeophysicsPreprocessing(geo_model.grid.centered_grid)"
   ]
  },
  {
   "cell_type": "code",
   "execution_count": 13,
   "metadata": {},
   "outputs": [],
   "source": [
    "tz = g.set_tz_kernel()"
   ]
  },
  {
   "cell_type": "markdown",
   "metadata": {},
   "source": [
    "### Compiling the gravity graph\n",
    "\n",
    "If geo_model has already a centered grid, the calculation of tz happens automatically. Alternatively you pass tz to `set_gravity interpolator`. This theano graph will return gravity instead the lithologies. In addition we need either to pass the density block (see below). Or the position of density on the surface(in the future the name) to compute the density block at running time."
   ]
  },
  {
   "cell_type": "code",
   "execution_count": 14,
   "metadata": {},
   "outputs": [
    {
     "data": {
      "text/html": [
       "<style  type=\"text/css\" >\n",
       "    #T_702af61a_eb50_11e9_a33f_acde48001122row0_col4 {\n",
       "            background-color:  #728f02;\n",
       "        }    #T_702af61a_eb50_11e9_a33f_acde48001122row1_col4 {\n",
       "            background-color:  #015482;\n",
       "        }    #T_702af61a_eb50_11e9_a33f_acde48001122row2_col4 {\n",
       "            background-color:  #9f0052;\n",
       "        }    #T_702af61a_eb50_11e9_a33f_acde48001122row3_col4 {\n",
       "            background-color:  #ffbe00;\n",
       "        }    #T_702af61a_eb50_11e9_a33f_acde48001122row4_col4 {\n",
       "            background-color:  #443988;\n",
       "        }</style><table id=\"T_702af61a_eb50_11e9_a33f_acde48001122\" ><thead>    <tr>        <th class=\"blank level0\" ></th>        <th class=\"col_heading level0 col0\" >surface</th>        <th class=\"col_heading level0 col1\" >series</th>        <th class=\"col_heading level0 col2\" >order_surfaces</th>        <th class=\"col_heading level0 col3\" >isBasement</th>        <th class=\"col_heading level0 col4\" >color</th>        <th class=\"col_heading level0 col5\" >id</th>        <th class=\"col_heading level0 col6\" >value_0</th>    </tr></thead><tbody>\n",
       "                <tr>\n",
       "                        <th id=\"T_702af61a_eb50_11e9_a33f_acde48001122level0_row0\" class=\"row_heading level0 row0\" >3</th>\n",
       "                        <td id=\"T_702af61a_eb50_11e9_a33f_acde48001122row0_col0\" class=\"data row0 col0\" >EarlyGranite</td>\n",
       "                        <td id=\"T_702af61a_eb50_11e9_a33f_acde48001122row0_col1\" class=\"data row0 col1\" >EarlyGranite_Series</td>\n",
       "                        <td id=\"T_702af61a_eb50_11e9_a33f_acde48001122row0_col2\" class=\"data row0 col2\" >1</td>\n",
       "                        <td id=\"T_702af61a_eb50_11e9_a33f_acde48001122row0_col3\" class=\"data row0 col3\" >False</td>\n",
       "                        <td id=\"T_702af61a_eb50_11e9_a33f_acde48001122row0_col4\" class=\"data row0 col4\" >#728f02</td>\n",
       "                        <td id=\"T_702af61a_eb50_11e9_a33f_acde48001122row0_col5\" class=\"data row0 col5\" >1</td>\n",
       "                        <td id=\"T_702af61a_eb50_11e9_a33f_acde48001122row0_col6\" class=\"data row0 col6\" >2.61</td>\n",
       "            </tr>\n",
       "            <tr>\n",
       "                        <th id=\"T_702af61a_eb50_11e9_a33f_acde48001122level0_row1\" class=\"row_heading level0 row1\" >0</th>\n",
       "                        <td id=\"T_702af61a_eb50_11e9_a33f_acde48001122row1_col0\" class=\"data row1 col0\" >SimpleMafic2</td>\n",
       "                        <td id=\"T_702af61a_eb50_11e9_a33f_acde48001122row1_col1\" class=\"data row1 col1\" >BIF_Series</td>\n",
       "                        <td id=\"T_702af61a_eb50_11e9_a33f_acde48001122row1_col2\" class=\"data row1 col2\" >1</td>\n",
       "                        <td id=\"T_702af61a_eb50_11e9_a33f_acde48001122row1_col3\" class=\"data row1 col3\" >False</td>\n",
       "                        <td id=\"T_702af61a_eb50_11e9_a33f_acde48001122row1_col4\" class=\"data row1 col4\" >#015482</td>\n",
       "                        <td id=\"T_702af61a_eb50_11e9_a33f_acde48001122row1_col5\" class=\"data row1 col5\" >2</td>\n",
       "                        <td id=\"T_702af61a_eb50_11e9_a33f_acde48001122row1_col6\" class=\"data row1 col6\" >2.92</td>\n",
       "            </tr>\n",
       "            <tr>\n",
       "                        <th id=\"T_702af61a_eb50_11e9_a33f_acde48001122level0_row2\" class=\"row_heading level0 row2\" >1</th>\n",
       "                        <td id=\"T_702af61a_eb50_11e9_a33f_acde48001122row2_col0\" class=\"data row2 col0\" >SimpleBIF</td>\n",
       "                        <td id=\"T_702af61a_eb50_11e9_a33f_acde48001122row2_col1\" class=\"data row2 col1\" >BIF_Series</td>\n",
       "                        <td id=\"T_702af61a_eb50_11e9_a33f_acde48001122row2_col2\" class=\"data row2 col2\" >2</td>\n",
       "                        <td id=\"T_702af61a_eb50_11e9_a33f_acde48001122row2_col3\" class=\"data row2 col3\" >False</td>\n",
       "                        <td id=\"T_702af61a_eb50_11e9_a33f_acde48001122row2_col4\" class=\"data row2 col4\" >#9f0052</td>\n",
       "                        <td id=\"T_702af61a_eb50_11e9_a33f_acde48001122row2_col5\" class=\"data row2 col5\" >3</td>\n",
       "                        <td id=\"T_702af61a_eb50_11e9_a33f_acde48001122row2_col6\" class=\"data row2 col6\" >3.1</td>\n",
       "            </tr>\n",
       "            <tr>\n",
       "                        <th id=\"T_702af61a_eb50_11e9_a33f_acde48001122level0_row3\" class=\"row_heading level0 row3\" >2</th>\n",
       "                        <td id=\"T_702af61a_eb50_11e9_a33f_acde48001122row3_col0\" class=\"data row3 col0\" >SimpleMafic1</td>\n",
       "                        <td id=\"T_702af61a_eb50_11e9_a33f_acde48001122row3_col1\" class=\"data row3 col1\" >SimpleMafic_Series</td>\n",
       "                        <td id=\"T_702af61a_eb50_11e9_a33f_acde48001122row3_col2\" class=\"data row3 col2\" >1</td>\n",
       "                        <td id=\"T_702af61a_eb50_11e9_a33f_acde48001122row3_col3\" class=\"data row3 col3\" >False</td>\n",
       "                        <td id=\"T_702af61a_eb50_11e9_a33f_acde48001122row3_col4\" class=\"data row3 col4\" >#ffbe00</td>\n",
       "                        <td id=\"T_702af61a_eb50_11e9_a33f_acde48001122row3_col5\" class=\"data row3 col5\" >4</td>\n",
       "                        <td id=\"T_702af61a_eb50_11e9_a33f_acde48001122row3_col6\" class=\"data row3 col6\" >2.92</td>\n",
       "            </tr>\n",
       "            <tr>\n",
       "                        <th id=\"T_702af61a_eb50_11e9_a33f_acde48001122level0_row4\" class=\"row_heading level0 row4\" >4</th>\n",
       "                        <td id=\"T_702af61a_eb50_11e9_a33f_acde48001122row4_col0\" class=\"data row4 col0\" >basement</td>\n",
       "                        <td id=\"T_702af61a_eb50_11e9_a33f_acde48001122row4_col1\" class=\"data row4 col1\" >Basement</td>\n",
       "                        <td id=\"T_702af61a_eb50_11e9_a33f_acde48001122row4_col2\" class=\"data row4 col2\" >1</td>\n",
       "                        <td id=\"T_702af61a_eb50_11e9_a33f_acde48001122row4_col3\" class=\"data row4 col3\" >True</td>\n",
       "                        <td id=\"T_702af61a_eb50_11e9_a33f_acde48001122row4_col4\" class=\"data row4 col4\" >#443988</td>\n",
       "                        <td id=\"T_702af61a_eb50_11e9_a33f_acde48001122row4_col5\" class=\"data row4 col5\" >5</td>\n",
       "                        <td id=\"T_702af61a_eb50_11e9_a33f_acde48001122row4_col6\" class=\"data row4 col6\" >2.61</td>\n",
       "            </tr>\n",
       "    </tbody></table>"
      ],
      "text/plain": [
       "        surface               series  order_surfaces  isBasement    color vertices edges  id  value_0\n",
       "3  EarlyGranite  EarlyGranite_Series               1       False  #728f02      NaN   NaN   1     2.61\n",
       "0  SimpleMafic2           BIF_Series               1       False  #015482      NaN   NaN   2     2.92\n",
       "1     SimpleBIF           BIF_Series               2       False  #9f0052      NaN   NaN   3     3.10\n",
       "2  SimpleMafic1   SimpleMafic_Series               1       False  #ffbe00      NaN   NaN   4     2.92\n",
       "4      basement             Basement               1        True  #443988      NaN   NaN   5     2.61"
      ]
     },
     "execution_count": 14,
     "metadata": {},
     "output_type": "execute_result"
    }
   ],
   "source": [
    "geo_model.surfaces"
   ]
  },
  {
   "cell_type": "markdown",
   "metadata": {},
   "source": [
    "In this case the densities of each layer are at the loc 1 (0 is the id)"
   ]
  },
  {
   "cell_type": "code",
   "execution_count": 15,
   "metadata": {},
   "outputs": [
    {
     "name": "stdout",
     "output_type": "stream",
     "text": [
      "Compiling theano function...\n",
      "Compilation Done!\n"
     ]
    },
    {
     "data": {
      "text/html": [
       "<table border=\"1\" class=\"dataframe\">\n",
       "  <thead>\n",
       "    <tr style=\"text-align: right;\">\n",
       "      <th></th>\n",
       "      <th>values</th>\n",
       "    </tr>\n",
       "  </thead>\n",
       "  <tbody>\n",
       "    <tr>\n",
       "      <th>dtype</th>\n",
       "      <td>float32</td>\n",
       "    </tr>\n",
       "    <tr>\n",
       "      <th>output</th>\n",
       "      <td>geology</td>\n",
       "    </tr>\n",
       "    <tr>\n",
       "      <th>theano_optimizer</th>\n",
       "      <td>fast_compile</td>\n",
       "    </tr>\n",
       "    <tr>\n",
       "      <th>device</th>\n",
       "      <td>cpu</td>\n",
       "    </tr>\n",
       "    <tr>\n",
       "      <th>verbosity</th>\n",
       "      <td>[grid_shape, slices]</td>\n",
       "    </tr>\n",
       "  </tbody>\n",
       "</table>"
      ],
      "text/plain": [
       "                                values\n",
       "dtype                          float32\n",
       "output                         geology\n",
       "theano_optimizer          fast_compile\n",
       "device                             cpu\n",
       "verbosity         [grid_shape, slices]"
      ]
     },
     "execution_count": 15,
     "metadata": {},
     "output_type": "execute_result"
    }
   ],
   "source": [
    "geo_model.set_gravity_interpolator(pos_density=1, verbose=['grid_shape', 'slices'])"
   ]
  },
  {
   "cell_type": "markdown",
   "metadata": {},
   "source": [
    "Once we have created a gravity interpolator we can call it from compute model as follows:"
   ]
  },
  {
   "cell_type": "code",
   "execution_count": 16,
   "metadata": {
    "scrolled": false,
    "tags": [
     "nbval-check-output"
    ]
   },
   "outputs": [
    {
     "name": "stdout",
     "output_type": "stream",
     "text": [
      "Active grids: ['centered']\n",
      "grid_shape __str__ = [774532]\n",
      "slices __str__ = [     0  46728  93456 140184 186912 233640 280368 327096 373824 420552\n",
      " 467280 514008 560736 607464 654192 700920 747648 774532]\n",
      "grid_shape __str__ = [774532]\n",
      "slices __str__ = [     0 151515 303030 454545 606060 757575 774532]\n",
      "grid_shape __str__ = [774532]\n",
      "slices __str__ = [     0  86206 172412 258618 344824 431030 517236 603442 689648 774532]\n",
      "density __str__ = [2.6099999 2.6099999 2.6099999 ... 2.6099999 2.6099999 2.6099999]\n",
      "n_devices __str__ = 400\n"
     ]
    }
   ],
   "source": [
    "grav = gp.compute_model(geo_model, output='gravity')"
   ]
  },
  {
   "cell_type": "code",
   "execution_count": 17,
   "metadata": {},
   "outputs": [
    {
     "data": {
      "text/plain": [
       "<matplotlib.image.AxesImage at 0x7ff134402be0>"
      ]
     },
     "execution_count": 17,
     "metadata": {},
     "output_type": "execute_result"
    },
    {
     "data": {
      "image/png": "[encoded data removed]",
      "text/plain": [
       "<Figure size 1440x720 with 1 Axes>"
      ]
     },
     "metadata": {
      "needs_background": "light"
     },
     "output_type": "display_data"
    }
   ],
   "source": [
    "gp.plot.plot_data(geo_model, direction='z', height=7)\n",
    "plt.scatter(xy_ravel[:,0], xy_ravel[:, 1], s=1)\n",
    "plt.imshow(grav.reshape(grav_res, grav_res), extent = (xy_ravel[:,0].min() + (xy_ravel[0, 0] - xy_ravel[1, 0])/2,\n",
    "                                                       xy_ravel[:,0].max() - (xy_ravel[0, 0] - xy_ravel[1, 0])/2,\n",
    "                                                       xy_ravel[:,1].min() + (xy_ravel[0, 1] - xy_ravel[30, 1])/2,\n",
    "                                                       xy_ravel[:,1].max() - (xy_ravel[0, 1] - xy_ravel[30, 1])/2),\n",
    "           cmap='viridis_r', origin='bottom')"
   ]
  },
  {
   "cell_type": "code",
   "execution_count": 18,
   "metadata": {
    "scrolled": true,
    "tags": [
     "nbval-check-output"
    ]
   },
   "outputs": [
    {
     "data": {
      "text/plain": [
       "array([-4.39368881e-06, -4.39368881e-06, -4.39368881e-06, -4.39368881e-06,\n",
       "       -4.39368881e-06, -4.39368881e-06, -4.39368881e-06, -4.39368881e-06,\n",
       "       -4.39368881e-06, -4.39368881e-06, -4.39368881e-06, -4.39368881e-06,\n",
       "       -4.39368881e-06, -4.39368881e-06, -4.39368881e-06, -4.39368881e-06,\n",
       "       -4.39368881e-06, -4.39368881e-06, -4.39368881e-06, -4.39368881e-06,\n",
       "       -4.39368881e-06, -4.39368881e-06, -4.39368881e-06, -4.39368881e-06,\n",
       "       -4.39368881e-06, -4.39368881e-06, -4.39368881e-06, -4.39368881e-06,\n",
       "       -4.39368881e-06, -4.39368881e-06, -4.39368881e-06, -4.39368881e-06,\n",
       "       -4.39368881e-06, -4.39368881e-06, -4.39368881e-06, -4.39368881e-06,\n",
       "       -4.39368881e-06, -4.39368881e-06, -4.39368881e-06, -4.39368881e-06,\n",
       "       -4.39368881e-06, -4.39368881e-06, -4.39368881e-06, -4.39368881e-06,\n",
       "       -4.39368881e-06, -4.39368881e-06, -4.39368881e-06, -4.39368881e-06,\n",
       "       -4.39368881e-06, -4.39368881e-06, -4.39368881e-06, -4.39537369e-06,\n",
       "       -4.39368881e-06, -4.39658713e-06, -4.39648655e-06, -4.39368881e-06,\n",
       "       -4.39467826e-06, -4.39368881e-06, -4.39368881e-06, -4.39368881e-06,\n",
       "       -4.39369152e-06, -4.39368905e-06, -4.39368881e-06, -4.39368881e-06,\n",
       "       -4.39368881e-06, -4.39368881e-06, -4.39368881e-06, -4.39644287e-06,\n",
       "       -4.39723610e-06, -4.39888737e-06, -4.40283653e-06, -4.40380054e-06,\n",
       "       -4.40415089e-06, -4.41891608e-06, -4.41955815e-06, -4.41760534e-06,\n",
       "       -4.41518238e-06, -4.41139656e-06, -4.40625431e-06, -4.39931019e-06,\n",
       "       -4.39468377e-06, -4.39654528e-06, -4.39815049e-06, -4.40208015e-06,\n",
       "       -4.40138463e-06, -4.40439394e-06, -4.40304050e-06, -4.41230977e-06,\n",
       "       -4.42285750e-06, -4.41638010e-06, -4.42084607e-06, -4.44067245e-06,\n",
       "       -4.43916560e-06, -4.53657562e-06, -4.58786738e-06, -4.49800629e-06,\n",
       "       -4.49489664e-06, -4.47924985e-06, -4.46050786e-06, -4.44360495e-06,\n",
       "       -4.39530238e-06, -4.40064468e-06, -4.41696462e-06, -4.47036034e-06,\n",
       "       -4.44081316e-06, -4.43574314e-06, -4.44457806e-06, -4.49616026e-06,\n",
       "       -4.55376926e-06, -4.51008826e-06, -4.56273677e-06, -4.66275288e-06,\n",
       "       -4.56781917e-06, -4.57783194e-06, -4.70353675e-06, -4.76476611e-06,\n",
       "       -4.76296412e-06, -4.74573153e-06, -4.73892112e-06, -4.70486417e-06,\n",
       "       -4.39638740e-06, -4.40327202e-06, -4.44993027e-06, -4.56925834e-06,\n",
       "       -4.60896035e-06, -4.58529195e-06, -4.56762838e-06, -4.66383417e-06,\n",
       "       -4.75390026e-06, -4.65603290e-06, -4.64715332e-06, -4.74312632e-06,\n",
       "       -4.80532620e-06, -4.79780961e-06, -4.86159480e-06, -4.85005862e-06,\n",
       "       -4.81709115e-06, -4.80543376e-06, -4.81397855e-06, -4.80086564e-06,\n",
       "       -4.39489293e-06, -4.40072341e-06, -4.41741165e-06, -4.51992076e-06,\n",
       "       -4.61570611e-06, -4.70938721e-06, -4.78920148e-06, -4.83806781e-06,\n",
       "       -4.88405657e-06, -4.87398445e-06, -4.89373014e-06, -4.89780243e-06,\n",
       "       -4.92497711e-06, -4.91996720e-06, -4.90066270e-06, -4.86839329e-06,\n",
       "       -4.84479488e-06, -4.82573315e-06, -4.82310153e-06, -4.82183327e-06,\n",
       "       -4.39390914e-06, -4.39571711e-06, -4.40788660e-06, -4.43971929e-06,\n",
       "       -4.59285974e-06, -4.71111252e-06, -4.81164410e-06, -4.85341290e-06,\n",
       "       -4.87810596e-06, -4.92093734e-06, -4.94456289e-06, -4.95537961e-06,\n",
       "       -4.95476480e-06, -4.92941087e-06, -4.90253218e-06, -4.86230228e-06,\n",
       "       -4.81636893e-06, -4.76527100e-06, -4.73735552e-06, -4.74137082e-06,\n",
       "       -4.39368881e-06, -4.39390914e-06, -4.40340095e-06, -4.42285377e-06,\n",
       "       -4.56190792e-06, -4.68533809e-06, -4.80415854e-06, -4.84287528e-06,\n",
       "       -4.86745615e-06, -4.91062603e-06, -4.93563072e-06, -4.94908272e-06,\n",
       "       -4.93903057e-06, -4.91650842e-06, -4.88459934e-06, -4.82679768e-06,\n",
       "       -4.73893451e-06, -4.62231525e-06, -4.49462249e-06, -4.51376976e-06,\n",
       "       -4.39368881e-06, -4.39368881e-06, -4.39730334e-06, -4.40811364e-06,\n",
       "       -4.46796952e-06, -4.61475080e-06, -4.73566518e-06, -4.82963131e-06,\n",
       "       -4.86904568e-06, -4.91538830e-06, -4.92746829e-06, -4.93854808e-06,\n",
       "       -4.92685792e-06, -4.85873577e-06, -4.79549547e-06, -4.72522847e-06,\n",
       "       -4.61743265e-06, -4.46361639e-06, -4.42471886e-06, -4.41417286e-06,\n",
       "       -4.39368881e-06, -4.39368881e-06, -4.39467826e-06, -4.39910356e-06,\n",
       "       -4.41438784e-06, -4.49910385e-06, -4.62634715e-06, -4.73472367e-06,\n",
       "       -4.83643824e-06, -4.90321054e-06, -4.91994713e-06, -4.90306062e-06,\n",
       "       -4.83704499e-06, -4.76048613e-06, -4.68282440e-06, -4.57846733e-06,\n",
       "       -4.44622225e-06, -4.41182230e-06, -4.39935875e-06, -4.39471646e-06,\n",
       "       -4.39368881e-06, -4.39368881e-06, -4.39368881e-06, -4.39489293e-06,\n",
       "       -4.40121902e-06, -4.42001370e-06, -4.53687762e-06, -4.64011433e-06,\n",
       "       -4.73460001e-06, -4.80411076e-06, -4.82030783e-06, -4.81328685e-06,\n",
       "       -4.76337775e-06, -4.65872347e-06, -4.51163794e-06, -4.42975836e-06,\n",
       "       -4.40452203e-06, -4.39665615e-06, -4.39467826e-06, -4.39368881e-06,\n",
       "       -4.39368881e-06, -4.39368881e-06, -4.39368881e-06, -4.39382973e-06,\n",
       "       -4.39547065e-06, -4.39924947e-06, -4.41966201e-06, -4.47688856e-06,\n",
       "       -4.62118318e-06, -4.73090633e-06, -4.75786995e-06, -4.74312317e-06,\n",
       "       -4.69915509e-06, -4.54966990e-06, -4.42902194e-06, -4.40471702e-06,\n",
       "       -4.39537369e-06, -4.39378186e-06, -4.39368881e-06, -4.39368881e-06,\n",
       "       -4.39368881e-06, -4.39368881e-06, -4.39368881e-06, -4.39368881e-06,\n",
       "       -4.39382973e-06, -4.39537354e-06, -4.40082173e-06, -4.42248711e-06,\n",
       "       -4.46414376e-06, -4.62210610e-06, -4.67392647e-06, -4.61636802e-06,\n",
       "       -4.50577037e-06, -4.43652257e-06, -4.40678549e-06, -4.39537369e-06,\n",
       "       -4.39368881e-06, -4.39368881e-06, -4.39368881e-06, -4.39368881e-06,\n",
       "       -4.39368881e-06, -4.39368881e-06, -4.39368881e-06, -4.39368881e-06,\n",
       "       -4.39368881e-06, -4.39368881e-06, -4.39467826e-06, -4.40291369e-06,\n",
       "       -4.41038561e-06, -4.44735360e-06, -4.49938611e-06, -4.42977293e-06,\n",
       "       -4.42126375e-06, -4.40513589e-06, -4.39841942e-06, -4.39389381e-06,\n",
       "       -4.39368881e-06, -4.39368881e-06, -4.39368881e-06, -4.39368881e-06,\n",
       "       -4.39368881e-06, -4.39368881e-06, -4.39368881e-06, -4.39368881e-06,\n",
       "       -4.39368881e-06, -4.39368881e-06, -4.39368881e-06, -4.39467829e-06,\n",
       "       -4.39537369e-06, -4.40026907e-06, -4.40355784e-06, -4.39611564e-06,\n",
       "       -4.39693779e-06, -4.39368881e-06, -4.39368881e-06, -4.39368881e-06,\n",
       "       -4.39368881e-06, -4.39368881e-06, -4.39368881e-06, -4.39368881e-06,\n",
       "       -4.39368881e-06, -4.39368881e-06, -4.39368881e-06, -4.39368881e-06,\n",
       "       -4.39368881e-06, -4.39368881e-06, -4.39368881e-06, -4.39368881e-06,\n",
       "       -4.39368881e-06, -4.39402339e-06, -4.39390987e-06, -4.39368881e-06,\n",
       "       -4.39390914e-06, -4.39368881e-06, -4.39368881e-06, -4.39368881e-06,\n",
       "       -4.39368881e-06, -4.39368881e-06, -4.39368881e-06, -4.39368881e-06,\n",
       "       -4.39368881e-06, -4.39368881e-06, -4.39368881e-06, -4.39368881e-06,\n",
       "       -4.39368881e-06, -4.39368881e-06, -4.39368881e-06, -4.39368881e-06,\n",
       "       -4.39368881e-06, -4.39368881e-06, -4.39368881e-06, -4.39368881e-06,\n",
       "       -4.39368881e-06, -4.39368881e-06, -4.39368881e-06, -4.39368881e-06,\n",
       "       -4.39368881e-06, -4.39368881e-06, -4.39368881e-06, -4.39368881e-06,\n",
       "       -4.39368881e-06, -4.39368881e-06, -4.39368881e-06, -4.39368881e-06,\n",
       "       -4.39368881e-06, -4.39368881e-06, -4.39368881e-06, -4.39368881e-06,\n",
       "       -4.39368881e-06, -4.39368881e-06, -4.39368881e-06, -4.39368881e-06,\n",
       "       -4.39368881e-06, -4.39368881e-06, -4.39368881e-06, -4.39368881e-06,\n",
       "       -4.39368881e-06, -4.39368881e-06, -4.39368881e-06, -4.39368881e-06])"
      ]
     },
     "execution_count": 18,
     "metadata": {},
     "output_type": "execute_result"
    }
   ],
   "source": [
    "grav"
   ]
  },
  {
   "cell_type": "markdown",
   "metadata": {},
   "source": [
    "#### Plotting lithologies\n",
    "\n",
    "If we want to compute the lithologies we will need to create a normal interpolator object as seen in the Chapter 1 of the tutorials  "
   ]
  },
  {
   "cell_type": "code",
   "execution_count": 19,
   "metadata": {},
   "outputs": [
    {
     "name": "stdout",
     "output_type": "stream",
     "text": [
      "Compiling theano function...\n",
      "Level of Optimization:  fast_run\n",
      "Device:  cpu\n",
      "Precision:  float64\n",
      "Number of faults:  0\n",
      "Compilation Done!\n"
     ]
    },
    {
     "data": {
      "text/plain": [
       "<gempy.core.interpolator.InterpolatorModel at 0x7ff110f34080>"
      ]
     },
     "execution_count": 19,
     "metadata": {},
     "output_type": "execute_result"
    }
   ],
   "source": [
    "gp.set_interpolation_data(geo_model,\n",
    "                          compile_theano=True,\n",
    "                          theano_optimizer='fast_run',\n",
    "                          verbose=[])"
   ]
  },
  {
   "cell_type": "markdown",
   "metadata": {},
   "source": [
    "Now we want to interpolate on a regular grid for a simple plot. Therefore we need to activate the regular grid:"
   ]
  },
  {
   "cell_type": "code",
   "execution_count": 20,
   "metadata": {},
   "outputs": [
    {
     "name": "stdout",
     "output_type": "stream",
     "text": [
      "Active grids: ['regular']\n"
     ]
    },
    {
     "data": {
      "text/plain": [
       "Grid Object. Values: \n",
       "array([[ 6.96510e+05,  6.86367e+06, -1.97980e+04],\n",
       "       [ 6.96510e+05,  6.86367e+06, -1.93940e+04],\n",
       "       [ 6.96510e+05,  6.86367e+06, -1.89900e+04],\n",
       "       ...,\n",
       "       [ 7.46490e+05,  6.92933e+06, -8.10000e+02],\n",
       "       [ 7.46490e+05,  6.92933e+06, -4.06000e+02],\n",
       "       [ 7.46490e+05,  6.92933e+06, -2.00000e+00]])"
      ]
     },
     "execution_count": 20,
     "metadata": {},
     "output_type": "execute_result"
    }
   ],
   "source": [
    "geo_model.set_active_grid('regular')"
   ]
  },
  {
   "cell_type": "code",
   "execution_count": 21,
   "metadata": {},
   "outputs": [
    {
     "data": {
      "text/plain": [
       "\n",
       "Lithology ids \n",
       "  [5. 5. 5. ... 5. 5. 5.] "
      ]
     },
     "execution_count": 21,
     "metadata": {},
     "output_type": "execute_result"
    }
   ],
   "source": [
    "gp.compute_model(geo_model)"
   ]
  },
  {
   "cell_type": "markdown",
   "metadata": {},
   "source": [
    "Now we can plot all together (change the alpha parameter to see the gravity overlying):"
   ]
  },
  {
   "cell_type": "code",
   "execution_count": 22,
   "metadata": {
    "scrolled": false
   },
   "outputs": [
    {
     "data": {
      "text/plain": [
       "<matplotlib.image.AxesImage at 0x7ff0f2505358>"
      ]
     },
     "execution_count": 22,
     "metadata": {},
     "output_type": "execute_result"
    },
    {
     "data": {
      "image/png": "[encoded data removed]",
      "text/plain": [
       "<Figure size 432x288 with 1 Axes>"
      ]
     },
     "metadata": {
      "needs_background": "light"
     },
     "output_type": "display_data"
    }
   ],
   "source": [
    "gp.plot.plot_section(geo_model, -1, direction='z')\n",
    "plt.scatter(xy_ravel[:,0], xy_ravel[:, 1], s=1)\n",
    "plt.imshow(grav.reshape(grav_res, grav_res), extent = (xy_ravel[:,0].min() + (xy_ravel[0, 0] - xy_ravel[1, 0])/2,\n",
    "                                                       xy_ravel[:,0].max() - (xy_ravel[0, 0] - xy_ravel[1, 0])/2,\n",
    "                                                       xy_ravel[:,1].min() + (xy_ravel[0, 1] - xy_ravel[30, 1])/2,\n",
    "                                                       xy_ravel[:,1].max() - (xy_ravel[0, 1] - xy_ravel[30, 1])/2),\n",
    "           cmap='viridis_r', origin='bottom', alpha=.0)"
   ]
  },
  {
   "cell_type": "markdown",
   "metadata": {},
   "source": [
    "### Computing gravity by passing the density block.\n",
    "\n",
    "We may have computed the densities on a previous step and we want to compute gravity afterwards. First lets compute the density block on a centered grid:"
   ]
  },
  {
   "cell_type": "code",
   "execution_count": 23,
   "metadata": {},
   "outputs": [
    {
     "name": "stdout",
     "output_type": "stream",
     "text": [
      "Active grids: ['centered']\n"
     ]
    },
    {
     "data": {
      "text/plain": [
       "Grid Object. Values: \n",
       "array([[ 7.00000000e+05,  6.85800000e+06,  0.00000000e+00],\n",
       "       [ 7.00000000e+05,  6.85800000e+06, -6.00000000e+01],\n",
       "       [ 7.00000000e+05,  6.85800000e+06, -8.33697297e+01],\n",
       "       ...,\n",
       "       [ 7.52000000e+05,  6.93000000e+06, -3.10768481e+03],\n",
       "       [ 7.52000000e+05,  6.93000000e+06, -4.31811404e+03],\n",
       "       [ 7.52000000e+05,  6.93000000e+06, -6.00000000e+03]])"
      ]
     },
     "execution_count": 23,
     "metadata": {},
     "output_type": "execute_result"
    }
   ],
   "source": [
    "geo_model.set_active_grid('centered')"
   ]
  },
  {
   "cell_type": "code",
   "execution_count": 24,
   "metadata": {},
   "outputs": [
    {
     "data": {
      "text/plain": [
       "array([     0,      0,      0,      0,      0, 774400])"
      ]
     },
     "execution_count": 24,
     "metadata": {},
     "output_type": "execute_result"
    }
   ],
   "source": [
    "geo_model.grid.length"
   ]
  },
  {
   "cell_type": "code",
   "execution_count": 25,
   "metadata": {},
   "outputs": [],
   "source": [
    "sol = gp.compute_model(geo_model, set_solutions=False)"
   ]
  },
  {
   "cell_type": "code",
   "execution_count": 26,
   "metadata": {},
   "outputs": [
    {
     "data": {
      "text/plain": [
       "array([2.6099999, 2.6099999, 2.6099999, ..., 2.6099999, 2.6099999,\n",
       "       2.6099999])"
      ]
     },
     "execution_count": 26,
     "metadata": {},
     "output_type": "execute_result"
    }
   ],
   "source": [
    "l0, l1 = geo_model.grid.get_grid_args('centered')\n",
    "sol[0][1][l0:l1]"
   ]
  },
  {
   "cell_type": "markdown",
   "metadata": {},
   "source": [
    "Notice that since the heavy computations have been already carried on the compilation of the graph and the evaluation of the gravity is rather fast!"
   ]
  },
  {
   "cell_type": "code",
   "execution_count": 27,
   "metadata": {},
   "outputs": [
    {
     "name": "stdout",
     "output_type": "stream",
     "text": [
      "Compiling theano function...\n",
      "Compilation Done!\n"
     ]
    },
    {
     "data": {
      "text/html": [
       "<table border=\"1\" class=\"dataframe\">\n",
       "  <thead>\n",
       "    <tr style=\"text-align: right;\">\n",
       "      <th></th>\n",
       "      <th>values</th>\n",
       "    </tr>\n",
       "  </thead>\n",
       "  <tbody>\n",
       "    <tr>\n",
       "      <th>dtype</th>\n",
       "      <td>float32</td>\n",
       "    </tr>\n",
       "    <tr>\n",
       "      <th>output</th>\n",
       "      <td>geology</td>\n",
       "    </tr>\n",
       "    <tr>\n",
       "      <th>theano_optimizer</th>\n",
       "      <td>fast_run</td>\n",
       "    </tr>\n",
       "    <tr>\n",
       "      <th>device</th>\n",
       "      <td>cpu</td>\n",
       "    </tr>\n",
       "    <tr>\n",
       "      <th>verbosity</th>\n",
       "      <td>[]</td>\n",
       "    </tr>\n",
       "  </tbody>\n",
       "</table>"
      ],
      "text/plain": [
       "                    values\n",
       "dtype              float32\n",
       "output             geology\n",
       "theano_optimizer  fast_run\n",
       "device                 cpu\n",
       "verbosity               []"
      ]
     },
     "execution_count": 27,
     "metadata": {},
     "output_type": "execute_result"
    }
   ],
   "source": [
    "geo_model.set_gravity_interpolator(density_block=sol[0][1][l0:l1])"
   ]
  },
  {
   "cell_type": "code",
   "execution_count": 28,
   "metadata": {
    "tags": [
     "nbval-check-output"
    ]
   },
   "outputs": [
    {
     "name": "stdout",
     "output_type": "stream",
     "text": [
      "Active grids: ['centered']\n",
      "density __str__ = [2.6099999 2.6099999 2.6099999 ... 2.6099999 2.6099999 2.6099999]\n",
      "n_devices __str__ = 400\n"
     ]
    }
   ],
   "source": [
    "grav_shared = gp.compute_model(geo_model, output='gravity')"
   ]
  },
  {
   "cell_type": "code",
   "execution_count": 29,
   "metadata": {},
   "outputs": [
    {
     "data": {
      "text/plain": [
       "0"
      ]
     },
     "execution_count": 29,
     "metadata": {},
     "output_type": "execute_result"
    }
   ],
   "source": [
    "# We check that the results are the same as we got before:\n",
    "(grav != grav_shared).sum()"
   ]
  }
 ],
 "metadata": {
  "celltoolbar": "Tags",
  "kernelspec": {
   "display_name": "Python 3",
   "language": "python",
   "name": "python3"
  },
  "language_info": {
   "codemirror_mode": {
    "name": "ipython",
    "version": 3
   },
   "file_extension": ".py",
   "mimetype": "text/x-python",
   "name": "python",
   "nbconvert_exporter": "python",
   "pygments_lexer": "ipython3",
   "version": "3.7.3"
  }
 },
 "nbformat": 4,
 "nbformat_minor": 2
}
