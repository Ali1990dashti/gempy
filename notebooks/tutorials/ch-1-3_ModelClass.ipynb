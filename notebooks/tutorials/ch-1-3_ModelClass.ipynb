{
 "cells": [
  {
   "cell_type": "markdown",
   "metadata": {},
   "source": [
    "# The Model class\n",
    "\n",
    "As we saw in previous tutorials GemyPy relies in several classes for its data structure. The problem of this is that most of this classes are entangled with each other. To deal with this in the new version of GemPy we have created many methods to map and upsdate data from an object to other. However, calling these methods every time one of the object is modified can get extremely verbose every time. To deal with this we create the `Model` class. This class have two main goals:\n",
    "\n",
    "1. Deal with the mapping updating logic automatically and in a lightweight way.\n",
    "2. Add specific functionality relevant to the model as a whole.\n",
    "\n",
    "In this notebook we will go through many of of this methods:"
   ]
  },
  {
   "cell_type": "code",
   "execution_count": 1,
   "metadata": {},
   "outputs": [],
   "source": [
    "# These two lines are necessary only if GemPy is not installed\n",
    "import sys, os\n",
    "sys.path.append(\"../..\")\n",
    "\n",
    "# Importing GemPy\n",
    "import gempy as gp\n",
    "\n",
    "# Embedding matplotlib figures in the notebooks\n",
    "%matplotlib inline\n",
    "\n",
    "# Importing auxiliary libraries\n",
    "import numpy as np\n",
    "import pandas as pn\n",
    "import matplotlib.pyplot as plt\n",
    "\n"
   ]
  },
  {
   "cell_type": "markdown",
   "metadata": {},
   "source": [
    "The description of the methods nomenclature remains the same as for the `data.py` module with the particularity that update is splitted in:\n",
    "\n",
    "- *update_from*\n",
    "    - update current object with the rest of dependencies. This is useful if you change an object and you want to update the fields with the rest of the objects. E.g after a set_interfaces\n",
    "    \n",
    "- *update_to*\n",
    "    - update dataframes from the current object. This is useful if you modify one of the model dependencies and you want to update all the other dependecies\n",
    "    \n",
    "When we initialize a `Model` class we create all the necessary objects already entangled with each other."
   ]
  },
  {
   "cell_type": "code",
   "execution_count": 2,
   "metadata": {},
   "outputs": [
    {
     "name": "stderr",
     "output_type": "stream",
     "text": [
      "WARNING (theano.tensor.blas): Using NumPy C-API based implementation for BLAS functions.\n"
     ]
    }
   ],
   "source": [
    "model = gp.Model()"
   ]
  },
  {
   "cell_type": "markdown",
   "metadata": {},
   "source": [
    "As expected these dependencies are empty:"
   ]
  },
  {
   "cell_type": "code",
   "execution_count": 3,
   "metadata": {},
   "outputs": [
    {
     "data": {
      "text/html": [
       "<table border=\"1\" class=\"dataframe\">\n",
       "  <thead>\n",
       "    <tr style=\"text-align: right;\">\n",
       "      <th></th>\n",
       "      <th>X</th>\n",
       "      <th>Y</th>\n",
       "      <th>Z</th>\n",
       "      <th>X_r</th>\n",
       "      <th>Y_r</th>\n",
       "      <th>Z_r</th>\n",
       "      <th>surface</th>\n",
       "      <th>series</th>\n",
       "      <th>id</th>\n",
       "      <th>order_series</th>\n",
       "    </tr>\n",
       "  </thead>\n",
       "  <tbody>\n",
       "  </tbody>\n",
       "</table>"
      ],
      "text/plain": [
       "Empty DataFrame\n",
       "Columns: [X, Y, Z, X_r, Y_r, Z_r, surface, series, id, order_series]\n",
       "Index: []"
      ]
     },
     "execution_count": 3,
     "metadata": {},
     "output_type": "execute_result"
    }
   ],
   "source": [
    "model.interfaces"
   ]
  },
  {
   "cell_type": "code",
   "execution_count": 4,
   "metadata": {},
   "outputs": [
    {
     "data": {
      "text/html": [
       "<table border=\"1\" class=\"dataframe\">\n",
       "  <thead>\n",
       "    <tr style=\"text-align: right;\">\n",
       "      <th></th>\n",
       "      <th>formation</th>\n",
       "      <th>series</th>\n",
       "      <th>order_surfaces</th>\n",
       "      <th>isBasement</th>\n",
       "      <th>id</th>\n",
       "    </tr>\n",
       "  </thead>\n",
       "  <tbody>\n",
       "  </tbody>\n",
       "</table>"
      ],
      "text/plain": [
       "Empty DataFrame\n",
       "Columns: [formation, series, order_surfaces, isBasement, id]\n",
       "Index: []"
      ]
     },
     "execution_count": 4,
     "metadata": {},
     "output_type": "execute_result"
    }
   ],
   "source": [
    "model.formations"
   ]
  },
  {
   "cell_type": "code",
   "execution_count": 5,
   "metadata": {},
   "outputs": [
    {
     "data": {
      "text/html": [
       "<table border=\"1\" class=\"dataframe\">\n",
       "  <thead>\n",
       "    <tr style=\"text-align: right;\">\n",
       "      <th></th>\n",
       "      <th>order_series</th>\n",
       "      <th>BottomRelation</th>\n",
       "    </tr>\n",
       "  </thead>\n",
       "  <tbody>\n",
       "    <tr>\n",
       "      <th>Default series</th>\n",
       "      <td>1</td>\n",
       "      <td>Erosion</td>\n",
       "    </tr>\n",
       "  </tbody>\n",
       "</table>"
      ],
      "text/plain": [
       "                order_series BottomRelation\n",
       "Default series             1        Erosion"
      ]
     },
     "execution_count": 5,
     "metadata": {},
     "output_type": "execute_result"
    }
   ],
   "source": [
    "model.series"
   ]
  },
  {
   "cell_type": "markdown",
   "metadata": {},
   "source": [
    "The pandas DataFrames are already configurated properly to categories:"
   ]
  },
  {
   "cell_type": "code",
   "execution_count": 6,
   "metadata": {},
   "outputs": [
    {
     "data": {
      "text/plain": [
       "(Series([], Name: series, dtype: category\n",
       " Categories (1, object): [Default series]),\n",
       " Series([], Name: formation, dtype: object))"
      ]
     },
     "execution_count": 6,
     "metadata": {},
     "output_type": "execute_result"
    }
   ],
   "source": [
    "model.formations.df['series'], model.formations.df['formation'] "
   ]
  },
  {
   "cell_type": "markdown",
   "metadata": {},
   "source": [
    "And additional data has everything pretty much empty:"
   ]
  },
  {
   "cell_type": "code",
   "execution_count": 7,
   "metadata": {},
   "outputs": [
    {
     "data": {
      "text/html": [
       "<table border=\"1\" class=\"dataframe\">\n",
       "  <thead>\n",
       "    <tr style=\"text-align: right;\">\n",
       "      <th></th>\n",
       "      <th></th>\n",
       "      <th>values</th>\n",
       "    </tr>\n",
       "  </thead>\n",
       "  <tbody>\n",
       "    <tr>\n",
       "      <th rowspan=\"9\" valign=\"top\">Structure</th>\n",
       "      <th>isLith</th>\n",
       "      <td>True</td>\n",
       "    </tr>\n",
       "    <tr>\n",
       "      <th>isFault</th>\n",
       "      <td>False</td>\n",
       "    </tr>\n",
       "    <tr>\n",
       "      <th>number faults</th>\n",
       "      <td>0</td>\n",
       "    </tr>\n",
       "    <tr>\n",
       "      <th>number formations</th>\n",
       "      <td>0</td>\n",
       "    </tr>\n",
       "    <tr>\n",
       "      <th>number series</th>\n",
       "      <td>1</td>\n",
       "    </tr>\n",
       "    <tr>\n",
       "      <th>number formations per series</th>\n",
       "      <td>[]</td>\n",
       "    </tr>\n",
       "    <tr>\n",
       "      <th>len formations interfaces</th>\n",
       "      <td>[]</td>\n",
       "    </tr>\n",
       "    <tr>\n",
       "      <th>len series interfaces</th>\n",
       "      <td>[0]</td>\n",
       "    </tr>\n",
       "    <tr>\n",
       "      <th>len series orientations</th>\n",
       "      <td>[]</td>\n",
       "    </tr>\n",
       "    <tr>\n",
       "      <th rowspan=\"5\" valign=\"top\">Options</th>\n",
       "      <th>dtype</th>\n",
       "      <td>float64</td>\n",
       "    </tr>\n",
       "    <tr>\n",
       "      <th>output</th>\n",
       "      <td>geology</td>\n",
       "    </tr>\n",
       "    <tr>\n",
       "      <th>theano_optimizer</th>\n",
       "      <td>fast_compile</td>\n",
       "    </tr>\n",
       "    <tr>\n",
       "      <th>device</th>\n",
       "      <td>cpu</td>\n",
       "    </tr>\n",
       "    <tr>\n",
       "      <th>verbosity</th>\n",
       "      <td>[]</td>\n",
       "    </tr>\n",
       "    <tr>\n",
       "      <th rowspan=\"5\" valign=\"top\">Kringing</th>\n",
       "      <th>range</th>\n",
       "      <td>0</td>\n",
       "    </tr>\n",
       "    <tr>\n",
       "      <th>$C_o$</th>\n",
       "      <td>0</td>\n",
       "    </tr>\n",
       "    <tr>\n",
       "      <th>drift equations</th>\n",
       "      <td>[0]</td>\n",
       "    </tr>\n",
       "    <tr>\n",
       "      <th>nugget grad</th>\n",
       "      <td>0.01</td>\n",
       "    </tr>\n",
       "    <tr>\n",
       "      <th>nugget scalar</th>\n",
       "      <td>1e-06</td>\n",
       "    </tr>\n",
       "    <tr>\n",
       "      <th rowspan=\"2\" valign=\"top\">Rescaling</th>\n",
       "      <th>rescaling factor</th>\n",
       "      <td>NaN</td>\n",
       "    </tr>\n",
       "    <tr>\n",
       "      <th>centers</th>\n",
       "      <td>[nan, nan, nan]</td>\n",
       "    </tr>\n",
       "  </tbody>\n",
       "</table>"
      ],
      "text/plain": [
       "                                                 values\n",
       "Structure isLith                                   True\n",
       "          isFault                                 False\n",
       "          number faults                               0\n",
       "          number formations                           0\n",
       "          number series                               1\n",
       "          number formations per series               []\n",
       "          len formations interfaces                  []\n",
       "          len series interfaces                     [0]\n",
       "          len series orientations                    []\n",
       "Options   dtype                                 float64\n",
       "          output                                geology\n",
       "          theano_optimizer                 fast_compile\n",
       "          device                                    cpu\n",
       "          verbosity                                  []\n",
       "Kringing  range                                       0\n",
       "          $C_o$                                       0\n",
       "          drift equations                           [0]\n",
       "          nugget grad                              0.01\n",
       "          nugget scalar                           1e-06\n",
       "Rescaling rescaling factor                          NaN\n",
       "          centers                       [nan, nan, nan]"
      ]
     },
     "execution_count": 7,
     "metadata": {},
     "output_type": "execute_result"
    }
   ],
   "source": [
    "model.additional_data"
   ]
  },
  {
   "cell_type": "markdown",
   "metadata": {},
   "source": [
    "## Reading data\n",
    "\n",
    "Usually data will be imported from external files. GemPy uses `pandas.read_table` powerful functionality for that. The default format is XYZ surface_name: "
   ]
  },
  {
   "cell_type": "code",
   "execution_count": 8,
   "metadata": {},
   "outputs": [],
   "source": [
    "model.read_data(path_i=os.pardir+\"/input_data/tut_chapter1/simple_fault_model_points.csv\",\n",
    "                path_o=os.pardir+\"/input_data/tut_chapter1/simple_fault_model_orientations.csv\")"
   ]
  },
  {
   "cell_type": "code",
   "execution_count": 9,
   "metadata": {},
   "outputs": [
    {
     "data": {
      "text/html": [
       "<table border=\"1\" class=\"dataframe\">\n",
       "  <thead>\n",
       "    <tr style=\"text-align: right;\">\n",
       "      <th></th>\n",
       "      <th>X</th>\n",
       "      <th>Y</th>\n",
       "      <th>Z</th>\n",
       "      <th>X_r</th>\n",
       "      <th>Y_r</th>\n",
       "      <th>Z_r</th>\n",
       "      <th>G_x</th>\n",
       "      <th>G_y</th>\n",
       "      <th>G_z</th>\n",
       "      <th>dip</th>\n",
       "      <th>azimuth</th>\n",
       "      <th>polarity</th>\n",
       "      <th>surface</th>\n",
       "      <th>series</th>\n",
       "      <th>id</th>\n",
       "      <th>order_series</th>\n",
       "    </tr>\n",
       "  </thead>\n",
       "  <tbody>\n",
       "    <tr>\n",
       "      <th>0</th>\n",
       "      <td>1000</td>\n",
       "      <td>1000</td>\n",
       "      <td>950.000</td>\n",
       "      <td>0.539574</td>\n",
       "      <td>0.5001</td>\n",
       "      <td>0.513258</td>\n",
       "      <td>0.316229</td>\n",
       "      <td>1.000019e-12</td>\n",
       "      <td>0.948683</td>\n",
       "      <td>18.435</td>\n",
       "      <td>90.0</td>\n",
       "      <td>1.0</td>\n",
       "      <td>Shale</td>\n",
       "      <td>Default series</td>\n",
       "      <td>NaN</td>\n",
       "      <td>1</td>\n",
       "    </tr>\n",
       "    <tr>\n",
       "      <th>1</th>\n",
       "      <td>400</td>\n",
       "      <td>1000</td>\n",
       "      <td>1400.000</td>\n",
       "      <td>0.381679</td>\n",
       "      <td>0.5001</td>\n",
       "      <td>0.631679</td>\n",
       "      <td>0.316229</td>\n",
       "      <td>1.000019e-12</td>\n",
       "      <td>0.948683</td>\n",
       "      <td>18.435</td>\n",
       "      <td>90.0</td>\n",
       "      <td>1.0</td>\n",
       "      <td>Sandstone_2</td>\n",
       "      <td>Default series</td>\n",
       "      <td>NaN</td>\n",
       "      <td>1</td>\n",
       "    </tr>\n",
       "    <tr>\n",
       "      <th>2</th>\n",
       "      <td>500</td>\n",
       "      <td>1000</td>\n",
       "      <td>864.602</td>\n",
       "      <td>0.407995</td>\n",
       "      <td>0.5001</td>\n",
       "      <td>0.490785</td>\n",
       "      <td>-0.948683</td>\n",
       "      <td>9.998257e-13</td>\n",
       "      <td>0.316229</td>\n",
       "      <td>71.565</td>\n",
       "      <td>270.0</td>\n",
       "      <td>1.0</td>\n",
       "      <td>Main_Fault</td>\n",
       "      <td>Default series</td>\n",
       "      <td>NaN</td>\n",
       "      <td>1</td>\n",
       "    </tr>\n",
       "  </tbody>\n",
       "</table>"
      ],
      "text/plain": [
       "      X     Y         Z       X_r     Y_r       Z_r       G_x           G_y       G_z     dip  azimuth  polarity      surface          series  id  order_series\n",
       "0  1000  1000   950.000  0.539574  0.5001  0.513258  0.316229  1.000019e-12  0.948683  18.435     90.0       1.0        Shale  Default series NaN             1\n",
       "1   400  1000  1400.000  0.381679  0.5001  0.631679  0.316229  1.000019e-12  0.948683  18.435     90.0       1.0  Sandstone_2  Default series NaN             1\n",
       "2   500  1000   864.602  0.407995  0.5001  0.490785 -0.948683  9.998257e-13  0.316229  71.565    270.0       1.0   Main_Fault  Default series NaN             1"
      ]
     },
     "execution_count": 9,
     "metadata": {},
     "output_type": "execute_result"
    }
   ],
   "source": [
    "model.orientations"
   ]
  },
  {
   "cell_type": "code",
   "execution_count": 10,
   "metadata": {},
   "outputs": [
    {
     "data": {
      "text/plain": [
       "0    Default series\n",
       "1    Default series\n",
       "2    Default series\n",
       "3    Default series\n",
       "4    Default series\n",
       "Name: series, dtype: category\n",
       "Categories (1, object): [Default series]"
      ]
     },
     "execution_count": 10,
     "metadata": {},
     "output_type": "execute_result"
    }
   ],
   "source": [
    "a = model.formations.df['series'].cat\n",
    "a.set_categories(model.series.df.index)"
   ]
  },
  {
   "cell_type": "code",
   "execution_count": 11,
   "metadata": {},
   "outputs": [
    {
     "data": {
      "image/png": "[encoded data removed]",
      "text/plain": [
       "<Figure size 432x288 with 1 Axes>"
      ]
     },
     "execution_count": 11,
     "metadata": {},
     "output_type": "execute_result"
    }
   ],
   "source": [
    "model.map_series_to_formations({\"Fault_Series\":('Main_Fault', 'Silstone'), \n",
    "                                \"Strat_Series\": ( 'Sandstone_2', 'Sandstone_1', 'Siltstone',\n",
    "                                                 'Shale', )})"
   ]
  },
  {
   "cell_type": "code",
   "execution_count": 12,
   "metadata": {},
   "outputs": [],
   "source": [
    "model.series.delete_series('Default series')"
   ]
  },
  {
   "cell_type": "code",
   "execution_count": 13,
   "metadata": {},
   "outputs": [
    {
     "data": {
      "text/html": [
       "<table border=\"1\" class=\"dataframe\">\n",
       "  <thead>\n",
       "    <tr style=\"text-align: right;\">\n",
       "      <th></th>\n",
       "      <th>order_series</th>\n",
       "      <th>BottomRelation</th>\n",
       "    </tr>\n",
       "  </thead>\n",
       "  <tbody>\n",
       "    <tr>\n",
       "      <th>Fault_Series</th>\n",
       "      <td>1</td>\n",
       "      <td>Erosion</td>\n",
       "    </tr>\n",
       "    <tr>\n",
       "      <th>Strat_Series</th>\n",
       "      <td>2</td>\n",
       "      <td>Erosion</td>\n",
       "    </tr>\n",
       "  </tbody>\n",
       "</table>"
      ],
      "text/plain": [
       "              order_series BottomRelation\n",
       "Fault_Series             1        Erosion\n",
       "Strat_Series             2        Erosion"
      ]
     },
     "execution_count": 13,
     "metadata": {},
     "output_type": "execute_result"
    }
   ],
   "source": [
    "model.series"
   ]
  },
  {
   "cell_type": "code",
   "execution_count": 14,
   "metadata": {
    "scrolled": true
   },
   "outputs": [
    {
     "data": {
      "image/png": "[encoded data removed]",
      "text/plain": [
       "<Figure size 432x288 with 1 Axes>"
      ]
     },
     "execution_count": 14,
     "metadata": {},
     "output_type": "execute_result"
    }
   ],
   "source": [
    "model.formations.update_sequential_pile()\n",
    "model.formations.sequential_pile.figure"
   ]
  },
  {
   "cell_type": "code",
   "execution_count": 15,
   "metadata": {},
   "outputs": [
    {
     "data": {
      "text/html": [
       "<table border=\"1\" class=\"dataframe\">\n",
       "  <thead>\n",
       "    <tr style=\"text-align: right;\">\n",
       "      <th></th>\n",
       "      <th>formation</th>\n",
       "      <th>series</th>\n",
       "      <th>order_surfaces</th>\n",
       "      <th>isBasement</th>\n",
       "      <th>id</th>\n",
       "    </tr>\n",
       "  </thead>\n",
       "  <tbody>\n",
       "    <tr>\n",
       "      <th>4</th>\n",
       "      <td>Main_Fault</td>\n",
       "      <td>Fault_Series</td>\n",
       "      <td>1</td>\n",
       "      <td>False</td>\n",
       "      <td>5</td>\n",
       "    </tr>\n",
       "    <tr>\n",
       "      <th>0</th>\n",
       "      <td>Shale</td>\n",
       "      <td>Strat_Series</td>\n",
       "      <td>1</td>\n",
       "      <td>False</td>\n",
       "      <td>1</td>\n",
       "    </tr>\n",
       "    <tr>\n",
       "      <th>1</th>\n",
       "      <td>Sandstone_1</td>\n",
       "      <td>Strat_Series</td>\n",
       "      <td>2</td>\n",
       "      <td>False</td>\n",
       "      <td>2</td>\n",
       "    </tr>\n",
       "    <tr>\n",
       "      <th>2</th>\n",
       "      <td>Siltstone</td>\n",
       "      <td>Strat_Series</td>\n",
       "      <td>3</td>\n",
       "      <td>False</td>\n",
       "      <td>3</td>\n",
       "    </tr>\n",
       "    <tr>\n",
       "      <th>3</th>\n",
       "      <td>Sandstone_2</td>\n",
       "      <td>Strat_Series</td>\n",
       "      <td>4</td>\n",
       "      <td>True</td>\n",
       "      <td>4</td>\n",
       "    </tr>\n",
       "  </tbody>\n",
       "</table>"
      ],
      "text/plain": [
       "     formation        series  order_surfaces  isBasement  id\n",
       "4   Main_Fault  Fault_Series               1       False   5\n",
       "0        Shale  Strat_Series               1       False   1\n",
       "1  Sandstone_1  Strat_Series               2       False   2\n",
       "2    Siltstone  Strat_Series               3       False   3\n",
       "3  Sandstone_2  Strat_Series               4        True   4"
      ]
     },
     "execution_count": 15,
     "metadata": {},
     "output_type": "execute_result"
    }
   ],
   "source": [
    "model.formations"
   ]
  },
  {
   "cell_type": "code",
   "execution_count": 16,
   "metadata": {
    "scrolled": true
   },
   "outputs": [
    {
     "data": {
      "text/html": [
       "<div>\n",
       "<style scoped>\n",
       "    .dataframe tbody tr th:only-of-type {\n",
       "        vertical-align: middle;\n",
       "    }\n",
       "\n",
       "    .dataframe tbody tr th {\n",
       "        vertical-align: top;\n",
       "    }\n",
       "\n",
       "    .dataframe thead th {\n",
       "        text-align: right;\n",
       "    }\n",
       "</style>\n",
       "<table border=\"1\" class=\"dataframe\">\n",
       "  <thead>\n",
       "    <tr style=\"text-align: right;\">\n",
       "      <th></th>\n",
       "      <th>X</th>\n",
       "      <th>Y</th>\n",
       "      <th>Z</th>\n",
       "      <th>X_r</th>\n",
       "      <th>Y_r</th>\n",
       "      <th>Z_r</th>\n",
       "      <th>surface</th>\n",
       "      <th>series</th>\n",
       "      <th>id</th>\n",
       "      <th>order_series</th>\n",
       "    </tr>\n",
       "  </thead>\n",
       "  <tbody>\n",
       "    <tr>\n",
       "      <th>52</th>\n",
       "      <td>700</td>\n",
       "      <td>1000</td>\n",
       "      <td>900</td>\n",
       "      <td>0.460626</td>\n",
       "      <td>0.5001</td>\n",
       "      <td>0.500100</td>\n",
       "      <td>Main_Fault</td>\n",
       "      <td>Fault_Series</td>\n",
       "      <td>5</td>\n",
       "      <td>2</td>\n",
       "    </tr>\n",
       "    <tr>\n",
       "      <th>53</th>\n",
       "      <td>600</td>\n",
       "      <td>1000</td>\n",
       "      <td>600</td>\n",
       "      <td>0.434311</td>\n",
       "      <td>0.5001</td>\n",
       "      <td>0.421153</td>\n",
       "      <td>Main_Fault</td>\n",
       "      <td>Fault_Series</td>\n",
       "      <td>5</td>\n",
       "      <td>2</td>\n",
       "    </tr>\n",
       "    <tr>\n",
       "      <th>54</th>\n",
       "      <td>500</td>\n",
       "      <td>1000</td>\n",
       "      <td>300</td>\n",
       "      <td>0.407995</td>\n",
       "      <td>0.5001</td>\n",
       "      <td>0.342205</td>\n",
       "      <td>Main_Fault</td>\n",
       "      <td>Fault_Series</td>\n",
       "      <td>5</td>\n",
       "      <td>2</td>\n",
       "    </tr>\n",
       "    <tr>\n",
       "      <th>55</th>\n",
       "      <td>800</td>\n",
       "      <td>1000</td>\n",
       "      <td>1200</td>\n",
       "      <td>0.486942</td>\n",
       "      <td>0.5001</td>\n",
       "      <td>0.579047</td>\n",
       "      <td>Main_Fault</td>\n",
       "      <td>Fault_Series</td>\n",
       "      <td>5</td>\n",
       "      <td>2</td>\n",
       "    </tr>\n",
       "    <tr>\n",
       "      <th>56</th>\n",
       "      <td>900</td>\n",
       "      <td>1000</td>\n",
       "      <td>1500</td>\n",
       "      <td>0.513258</td>\n",
       "      <td>0.5001</td>\n",
       "      <td>0.657995</td>\n",
       "      <td>Main_Fault</td>\n",
       "      <td>Fault_Series</td>\n",
       "      <td>5</td>\n",
       "      <td>2</td>\n",
       "    </tr>\n",
       "  </tbody>\n",
       "</table>\n",
       "</div>"
      ],
      "text/plain": [
       "      X     Y     Z       X_r     Y_r       Z_r     surface        series  id  \\\n",
       "52  700  1000   900  0.460626  0.5001  0.500100  Main_Fault  Fault_Series   5   \n",
       "53  600  1000   600  0.434311  0.5001  0.421153  Main_Fault  Fault_Series   5   \n",
       "54  500  1000   300  0.407995  0.5001  0.342205  Main_Fault  Fault_Series   5   \n",
       "55  800  1000  1200  0.486942  0.5001  0.579047  Main_Fault  Fault_Series   5   \n",
       "56  900  1000  1500  0.513258  0.5001  0.657995  Main_Fault  Fault_Series   5   \n",
       "\n",
       "    order_series  \n",
       "52             2  \n",
       "53             2  \n",
       "54             2  \n",
       "55             2  \n",
       "56             2  "
      ]
     },
     "execution_count": 16,
     "metadata": {},
     "output_type": "execute_result"
    }
   ],
   "source": [
    "model.interfaces.df.head()"
   ]
  },
  {
   "cell_type": "code",
   "execution_count": 17,
   "metadata": {},
   "outputs": [
    {
     "data": {
      "text/html": [
       "<div>\n",
       "<style scoped>\n",
       "    .dataframe tbody tr th:only-of-type {\n",
       "        vertical-align: middle;\n",
       "    }\n",
       "\n",
       "    .dataframe tbody tr th {\n",
       "        vertical-align: top;\n",
       "    }\n",
       "\n",
       "    .dataframe thead th {\n",
       "        text-align: right;\n",
       "    }\n",
       "</style>\n",
       "<table border=\"1\" class=\"dataframe\">\n",
       "  <thead>\n",
       "    <tr style=\"text-align: right;\">\n",
       "      <th></th>\n",
       "      <th>X</th>\n",
       "      <th>Y</th>\n",
       "      <th>Z</th>\n",
       "      <th>X_r</th>\n",
       "      <th>Y_r</th>\n",
       "      <th>Z_r</th>\n",
       "      <th>G_x</th>\n",
       "      <th>G_y</th>\n",
       "      <th>G_z</th>\n",
       "      <th>dip</th>\n",
       "      <th>azimuth</th>\n",
       "      <th>polarity</th>\n",
       "      <th>surface</th>\n",
       "      <th>series</th>\n",
       "      <th>id</th>\n",
       "      <th>order_series</th>\n",
       "    </tr>\n",
       "  </thead>\n",
       "  <tbody>\n",
       "    <tr>\n",
       "      <th>2</th>\n",
       "      <td>500</td>\n",
       "      <td>1000</td>\n",
       "      <td>864.602</td>\n",
       "      <td>0.407995</td>\n",
       "      <td>0.5001</td>\n",
       "      <td>0.490785</td>\n",
       "      <td>-0.948683</td>\n",
       "      <td>9.998257e-13</td>\n",
       "      <td>0.316229</td>\n",
       "      <td>71.565</td>\n",
       "      <td>270.0</td>\n",
       "      <td>1.0</td>\n",
       "      <td>Main_Fault</td>\n",
       "      <td>Fault_Series</td>\n",
       "      <td>5</td>\n",
       "      <td>2</td>\n",
       "    </tr>\n",
       "    <tr>\n",
       "      <th>0</th>\n",
       "      <td>1000</td>\n",
       "      <td>1000</td>\n",
       "      <td>950.000</td>\n",
       "      <td>0.539574</td>\n",
       "      <td>0.5001</td>\n",
       "      <td>0.513258</td>\n",
       "      <td>0.316229</td>\n",
       "      <td>1.000019e-12</td>\n",
       "      <td>0.948683</td>\n",
       "      <td>18.435</td>\n",
       "      <td>90.0</td>\n",
       "      <td>1.0</td>\n",
       "      <td>Shale</td>\n",
       "      <td>Strat_Series</td>\n",
       "      <td>1</td>\n",
       "      <td>3</td>\n",
       "    </tr>\n",
       "    <tr>\n",
       "      <th>1</th>\n",
       "      <td>400</td>\n",
       "      <td>1000</td>\n",
       "      <td>1400.000</td>\n",
       "      <td>0.381679</td>\n",
       "      <td>0.5001</td>\n",
       "      <td>0.631679</td>\n",
       "      <td>0.316229</td>\n",
       "      <td>1.000019e-12</td>\n",
       "      <td>0.948683</td>\n",
       "      <td>18.435</td>\n",
       "      <td>90.0</td>\n",
       "      <td>1.0</td>\n",
       "      <td>Sandstone_2</td>\n",
       "      <td>Strat_Series</td>\n",
       "      <td>4</td>\n",
       "      <td>3</td>\n",
       "    </tr>\n",
       "  </tbody>\n",
       "</table>\n",
       "</div>"
      ],
      "text/plain": [
       "      X     Y         Z       X_r     Y_r       Z_r       G_x           G_y  \\\n",
       "2   500  1000   864.602  0.407995  0.5001  0.490785 -0.948683  9.998257e-13   \n",
       "0  1000  1000   950.000  0.539574  0.5001  0.513258  0.316229  1.000019e-12   \n",
       "1   400  1000  1400.000  0.381679  0.5001  0.631679  0.316229  1.000019e-12   \n",
       "\n",
       "        G_z     dip  azimuth  polarity      surface        series  id  \\\n",
       "2  0.316229  71.565    270.0       1.0   Main_Fault  Fault_Series   5   \n",
       "0  0.948683  18.435     90.0       1.0        Shale  Strat_Series   1   \n",
       "1  0.948683  18.435     90.0       1.0  Sandstone_2  Strat_Series   4   \n",
       "\n",
       "   order_series  \n",
       "2             2  \n",
       "0             3  \n",
       "1             3  "
      ]
     },
     "execution_count": 17,
     "metadata": {},
     "output_type": "execute_result"
    }
   ],
   "source": [
    "model.orientations.df.head()"
   ]
  },
  {
   "cell_type": "markdown",
   "metadata": {},
   "source": [
    "Next we need to categorize each surface into the right series. This will update all the Dataframes depending on `Formations` and `Series` to the right categories:"
   ]
  },
  {
   "cell_type": "code",
   "execution_count": 18,
   "metadata": {},
   "outputs": [
    {
     "data": {
      "image/png": "[encoded data removed]",
      "text/plain": [
       "<Figure size 432x288 with 1 Axes>"
      ]
     },
     "execution_count": 18,
     "metadata": {},
     "output_type": "execute_result"
    }
   ],
   "source": [
    "model.map_series_to_formations({\"Fault_Series\":'Main_Fault', \n",
    "                                \"Strat_Series\": ('Sandstone_2','Siltstone',\n",
    "                                                 'Shale', 'Sandstone_1')})"
   ]
  },
  {
   "cell_type": "code",
   "execution_count": 19,
   "metadata": {},
   "outputs": [
    {
     "data": {
      "text/plain": [
       "4    Fault_Series\n",
       "0    Strat_Series\n",
       "1    Strat_Series\n",
       "2    Strat_Series\n",
       "3    Strat_Series\n",
       "Name: series, dtype: category\n",
       "Categories (2, object): [Fault_Series < Strat_Series]"
      ]
     },
     "execution_count": 19,
     "metadata": {},
     "output_type": "execute_result"
    }
   ],
   "source": [
    "model.formations.df['series']"
   ]
  },
  {
   "cell_type": "code",
   "execution_count": 20,
   "metadata": {},
   "outputs": [
    {
     "data": {
      "text/html": [
       "<table border=\"1\" class=\"dataframe\">\n",
       "  <thead>\n",
       "    <tr style=\"text-align: right;\">\n",
       "      <th></th>\n",
       "      <th>formation</th>\n",
       "      <th>series</th>\n",
       "      <th>order_surfaces</th>\n",
       "      <th>isBasement</th>\n",
       "      <th>id</th>\n",
       "    </tr>\n",
       "  </thead>\n",
       "  <tbody>\n",
       "    <tr>\n",
       "      <th>4</th>\n",
       "      <td>Main_Fault</td>\n",
       "      <td>Fault_Series</td>\n",
       "      <td>1</td>\n",
       "      <td>False</td>\n",
       "      <td>5</td>\n",
       "    </tr>\n",
       "    <tr>\n",
       "      <th>0</th>\n",
       "      <td>Shale</td>\n",
       "      <td>Strat_Series</td>\n",
       "      <td>1</td>\n",
       "      <td>False</td>\n",
       "      <td>1</td>\n",
       "    </tr>\n",
       "    <tr>\n",
       "      <th>1</th>\n",
       "      <td>Sandstone_1</td>\n",
       "      <td>Strat_Series</td>\n",
       "      <td>2</td>\n",
       "      <td>False</td>\n",
       "      <td>2</td>\n",
       "    </tr>\n",
       "    <tr>\n",
       "      <th>2</th>\n",
       "      <td>Siltstone</td>\n",
       "      <td>Strat_Series</td>\n",
       "      <td>3</td>\n",
       "      <td>False</td>\n",
       "      <td>3</td>\n",
       "    </tr>\n",
       "    <tr>\n",
       "      <th>3</th>\n",
       "      <td>Sandstone_2</td>\n",
       "      <td>Strat_Series</td>\n",
       "      <td>4</td>\n",
       "      <td>True</td>\n",
       "      <td>4</td>\n",
       "    </tr>\n",
       "  </tbody>\n",
       "</table>"
      ],
      "text/plain": [
       "     formation        series  order_surfaces  isBasement  id\n",
       "4   Main_Fault  Fault_Series               1       False   5\n",
       "0        Shale  Strat_Series               1       False   1\n",
       "1  Sandstone_1  Strat_Series               2       False   2\n",
       "2    Siltstone  Strat_Series               3       False   3\n",
       "3  Sandstone_2  Strat_Series               4        True   4"
      ]
     },
     "execution_count": 20,
     "metadata": {},
     "output_type": "execute_result"
    }
   ],
   "source": [
    "model.formations"
   ]
  },
  {
   "cell_type": "code",
   "execution_count": 21,
   "metadata": {},
   "outputs": [
    {
     "data": {
      "text/html": [
       "<div>\n",
       "<style scoped>\n",
       "    .dataframe tbody tr th:only-of-type {\n",
       "        vertical-align: middle;\n",
       "    }\n",
       "\n",
       "    .dataframe tbody tr th {\n",
       "        vertical-align: top;\n",
       "    }\n",
       "\n",
       "    .dataframe thead th {\n",
       "        text-align: right;\n",
       "    }\n",
       "</style>\n",
       "<table border=\"1\" class=\"dataframe\">\n",
       "  <thead>\n",
       "    <tr style=\"text-align: right;\">\n",
       "      <th></th>\n",
       "      <th>X</th>\n",
       "      <th>Y</th>\n",
       "      <th>Z</th>\n",
       "      <th>X_r</th>\n",
       "      <th>Y_r</th>\n",
       "      <th>Z_r</th>\n",
       "      <th>surface</th>\n",
       "      <th>series</th>\n",
       "      <th>id</th>\n",
       "      <th>order_series</th>\n",
       "    </tr>\n",
       "  </thead>\n",
       "  <tbody>\n",
       "    <tr>\n",
       "      <th>52</th>\n",
       "      <td>700</td>\n",
       "      <td>1000</td>\n",
       "      <td>900</td>\n",
       "      <td>0.460626</td>\n",
       "      <td>0.5001</td>\n",
       "      <td>0.500100</td>\n",
       "      <td>Main_Fault</td>\n",
       "      <td>Fault_Series</td>\n",
       "      <td>5</td>\n",
       "      <td>1</td>\n",
       "    </tr>\n",
       "    <tr>\n",
       "      <th>53</th>\n",
       "      <td>600</td>\n",
       "      <td>1000</td>\n",
       "      <td>600</td>\n",
       "      <td>0.434311</td>\n",
       "      <td>0.5001</td>\n",
       "      <td>0.421153</td>\n",
       "      <td>Main_Fault</td>\n",
       "      <td>Fault_Series</td>\n",
       "      <td>5</td>\n",
       "      <td>1</td>\n",
       "    </tr>\n",
       "    <tr>\n",
       "      <th>54</th>\n",
       "      <td>500</td>\n",
       "      <td>1000</td>\n",
       "      <td>300</td>\n",
       "      <td>0.407995</td>\n",
       "      <td>0.5001</td>\n",
       "      <td>0.342205</td>\n",
       "      <td>Main_Fault</td>\n",
       "      <td>Fault_Series</td>\n",
       "      <td>5</td>\n",
       "      <td>1</td>\n",
       "    </tr>\n",
       "    <tr>\n",
       "      <th>55</th>\n",
       "      <td>800</td>\n",
       "      <td>1000</td>\n",
       "      <td>1200</td>\n",
       "      <td>0.486942</td>\n",
       "      <td>0.5001</td>\n",
       "      <td>0.579047</td>\n",
       "      <td>Main_Fault</td>\n",
       "      <td>Fault_Series</td>\n",
       "      <td>5</td>\n",
       "      <td>1</td>\n",
       "    </tr>\n",
       "    <tr>\n",
       "      <th>56</th>\n",
       "      <td>900</td>\n",
       "      <td>1000</td>\n",
       "      <td>1500</td>\n",
       "      <td>0.513258</td>\n",
       "      <td>0.5001</td>\n",
       "      <td>0.657995</td>\n",
       "      <td>Main_Fault</td>\n",
       "      <td>Fault_Series</td>\n",
       "      <td>5</td>\n",
       "      <td>1</td>\n",
       "    </tr>\n",
       "  </tbody>\n",
       "</table>\n",
       "</div>"
      ],
      "text/plain": [
       "      X     Y     Z       X_r     Y_r       Z_r     surface        series  id  \\\n",
       "52  700  1000   900  0.460626  0.5001  0.500100  Main_Fault  Fault_Series   5   \n",
       "53  600  1000   600  0.434311  0.5001  0.421153  Main_Fault  Fault_Series   5   \n",
       "54  500  1000   300  0.407995  0.5001  0.342205  Main_Fault  Fault_Series   5   \n",
       "55  800  1000  1200  0.486942  0.5001  0.579047  Main_Fault  Fault_Series   5   \n",
       "56  900  1000  1500  0.513258  0.5001  0.657995  Main_Fault  Fault_Series   5   \n",
       "\n",
       "    order_series  \n",
       "52             1  \n",
       "53             1  \n",
       "54             1  \n",
       "55             1  \n",
       "56             1  "
      ]
     },
     "execution_count": 21,
     "metadata": {},
     "output_type": "execute_result"
    }
   ],
   "source": [
    "model.interfaces.df.head()"
   ]
  },
  {
   "cell_type": "code",
   "execution_count": 22,
   "metadata": {},
   "outputs": [
    {
     "data": {
      "text/html": [
       "<table border=\"1\" class=\"dataframe\">\n",
       "  <thead>\n",
       "    <tr style=\"text-align: right;\">\n",
       "      <th></th>\n",
       "      <th>order_series</th>\n",
       "      <th>BottomRelation</th>\n",
       "    </tr>\n",
       "  </thead>\n",
       "  <tbody>\n",
       "    <tr>\n",
       "      <th>Fault_Series</th>\n",
       "      <td>1</td>\n",
       "      <td>Erosion</td>\n",
       "    </tr>\n",
       "    <tr>\n",
       "      <th>Strat_Series</th>\n",
       "      <td>2</td>\n",
       "      <td>Erosion</td>\n",
       "    </tr>\n",
       "  </tbody>\n",
       "</table>"
      ],
      "text/plain": [
       "              order_series BottomRelation\n",
       "Fault_Series             1        Erosion\n",
       "Strat_Series             2        Erosion"
      ]
     },
     "execution_count": 22,
     "metadata": {},
     "output_type": "execute_result"
    }
   ],
   "source": [
    "model.series"
   ]
  },
  {
   "cell_type": "markdown",
   "metadata": {},
   "source": [
    "In the case of having faults we need to assign wich series are faults:"
   ]
  },
  {
   "cell_type": "code",
   "execution_count": 23,
   "metadata": {},
   "outputs": [
    {
     "data": {
      "text/html": [
       "<table border=\"1\" class=\"dataframe\">\n",
       "  <thead>\n",
       "    <tr style=\"text-align: right;\">\n",
       "      <th></th>\n",
       "      <th>isFault</th>\n",
       "      <th>isFinite</th>\n",
       "    </tr>\n",
       "  </thead>\n",
       "  <tbody>\n",
       "    <tr>\n",
       "      <th>Fault_Series</th>\n",
       "      <td>False</td>\n",
       "      <td>False</td>\n",
       "    </tr>\n",
       "    <tr>\n",
       "      <th>Strat_Series</th>\n",
       "      <td>False</td>\n",
       "      <td>False</td>\n",
       "    </tr>\n",
       "  </tbody>\n",
       "</table>"
      ],
      "text/plain": [
       "              isFault  isFinite\n",
       "Fault_Series    False     False\n",
       "Strat_Series    False     False"
      ]
     },
     "execution_count": 23,
     "metadata": {},
     "output_type": "execute_result"
    }
   ],
   "source": [
    "model.faults"
   ]
  },
  {
   "cell_type": "code",
   "execution_count": 24,
   "metadata": {},
   "outputs": [
    {
     "name": "stdout",
     "output_type": "stream",
     "text": [
      "              isFault  isFinite\n",
      "Fault_Series     True     False\n",
      "Strat_Series    False     False\n"
     ]
    },
    {
     "data": {
      "text/html": [
       "<div>\n",
       "<style scoped>\n",
       "    .dataframe tbody tr th:only-of-type {\n",
       "        vertical-align: middle;\n",
       "    }\n",
       "\n",
       "    .dataframe tbody tr th {\n",
       "        vertical-align: top;\n",
       "    }\n",
       "\n",
       "    .dataframe thead th {\n",
       "        text-align: right;\n",
       "    }\n",
       "</style>\n",
       "<table border=\"1\" class=\"dataframe\">\n",
       "  <thead>\n",
       "    <tr style=\"text-align: right;\">\n",
       "      <th></th>\n",
       "      <th>isFault</th>\n",
       "      <th>isFinite</th>\n",
       "    </tr>\n",
       "  </thead>\n",
       "  <tbody>\n",
       "    <tr>\n",
       "      <th>Fault_Series</th>\n",
       "      <td>True</td>\n",
       "      <td>False</td>\n",
       "    </tr>\n",
       "    <tr>\n",
       "      <th>Strat_Series</th>\n",
       "      <td>False</td>\n",
       "      <td>False</td>\n",
       "    </tr>\n",
       "  </tbody>\n",
       "</table>\n",
       "</div>"
      ],
      "text/plain": [
       "              isFault  isFinite\n",
       "Fault_Series     True     False\n",
       "Strat_Series    False     False"
      ]
     },
     "execution_count": 24,
     "metadata": {},
     "output_type": "execute_result"
    }
   ],
   "source": [
    "model.set_is_fault(['Fault_Series'])"
   ]
  },
  {
   "cell_type": "code",
   "execution_count": 25,
   "metadata": {
    "scrolled": true
   },
   "outputs": [
    {
     "data": {
      "text/html": [
       "<div>\n",
       "<style scoped>\n",
       "    .dataframe tbody tr th:only-of-type {\n",
       "        vertical-align: middle;\n",
       "    }\n",
       "\n",
       "    .dataframe tbody tr th {\n",
       "        vertical-align: top;\n",
       "    }\n",
       "\n",
       "    .dataframe thead th {\n",
       "        text-align: right;\n",
       "    }\n",
       "</style>\n",
       "<table border=\"1\" class=\"dataframe\">\n",
       "  <thead>\n",
       "    <tr style=\"text-align: right;\">\n",
       "      <th></th>\n",
       "      <th>X</th>\n",
       "      <th>Y</th>\n",
       "      <th>Z</th>\n",
       "      <th>X_r</th>\n",
       "      <th>Y_r</th>\n",
       "      <th>Z_r</th>\n",
       "      <th>surface</th>\n",
       "      <th>series</th>\n",
       "      <th>id</th>\n",
       "      <th>order_series</th>\n",
       "    </tr>\n",
       "  </thead>\n",
       "  <tbody>\n",
       "    <tr>\n",
       "      <th>52</th>\n",
       "      <td>700</td>\n",
       "      <td>1000</td>\n",
       "      <td>900</td>\n",
       "      <td>0.460626</td>\n",
       "      <td>0.5001</td>\n",
       "      <td>0.500100</td>\n",
       "      <td>Main_Fault</td>\n",
       "      <td>Fault_Series</td>\n",
       "      <td>5</td>\n",
       "      <td>1</td>\n",
       "    </tr>\n",
       "    <tr>\n",
       "      <th>53</th>\n",
       "      <td>600</td>\n",
       "      <td>1000</td>\n",
       "      <td>600</td>\n",
       "      <td>0.434311</td>\n",
       "      <td>0.5001</td>\n",
       "      <td>0.421153</td>\n",
       "      <td>Main_Fault</td>\n",
       "      <td>Fault_Series</td>\n",
       "      <td>5</td>\n",
       "      <td>1</td>\n",
       "    </tr>\n",
       "    <tr>\n",
       "      <th>54</th>\n",
       "      <td>500</td>\n",
       "      <td>1000</td>\n",
       "      <td>300</td>\n",
       "      <td>0.407995</td>\n",
       "      <td>0.5001</td>\n",
       "      <td>0.342205</td>\n",
       "      <td>Main_Fault</td>\n",
       "      <td>Fault_Series</td>\n",
       "      <td>5</td>\n",
       "      <td>1</td>\n",
       "    </tr>\n",
       "    <tr>\n",
       "      <th>55</th>\n",
       "      <td>800</td>\n",
       "      <td>1000</td>\n",
       "      <td>1200</td>\n",
       "      <td>0.486942</td>\n",
       "      <td>0.5001</td>\n",
       "      <td>0.579047</td>\n",
       "      <td>Main_Fault</td>\n",
       "      <td>Fault_Series</td>\n",
       "      <td>5</td>\n",
       "      <td>1</td>\n",
       "    </tr>\n",
       "    <tr>\n",
       "      <th>56</th>\n",
       "      <td>900</td>\n",
       "      <td>1000</td>\n",
       "      <td>1500</td>\n",
       "      <td>0.513258</td>\n",
       "      <td>0.5001</td>\n",
       "      <td>0.657995</td>\n",
       "      <td>Main_Fault</td>\n",
       "      <td>Fault_Series</td>\n",
       "      <td>5</td>\n",
       "      <td>1</td>\n",
       "    </tr>\n",
       "  </tbody>\n",
       "</table>\n",
       "</div>"
      ],
      "text/plain": [
       "      X     Y     Z       X_r     Y_r       Z_r     surface        series  id  \\\n",
       "52  700  1000   900  0.460626  0.5001  0.500100  Main_Fault  Fault_Series   5   \n",
       "53  600  1000   600  0.434311  0.5001  0.421153  Main_Fault  Fault_Series   5   \n",
       "54  500  1000   300  0.407995  0.5001  0.342205  Main_Fault  Fault_Series   5   \n",
       "55  800  1000  1200  0.486942  0.5001  0.579047  Main_Fault  Fault_Series   5   \n",
       "56  900  1000  1500  0.513258  0.5001  0.657995  Main_Fault  Fault_Series   5   \n",
       "\n",
       "    order_series  \n",
       "52             1  \n",
       "53             1  \n",
       "54             1  \n",
       "55             1  \n",
       "56             1  "
      ]
     },
     "execution_count": 25,
     "metadata": {},
     "output_type": "execute_result"
    }
   ],
   "source": [
    "model.interfaces.df.head()"
   ]
  },
  {
   "cell_type": "markdown",
   "metadata": {},
   "source": [
    "Again as we can see, as long we use the model methods all the dependent objects change inplace accordingly. If for any reason you do not want this behaviour you can always use the individual methods of the objects (e.g. `model.faults.set_is_fault`)"
   ]
  },
  {
   "cell_type": "code",
   "execution_count": 26,
   "metadata": {},
   "outputs": [
    {
     "data": {
      "text/html": [
       "<table border=\"1\" class=\"dataframe\">\n",
       "  <thead>\n",
       "    <tr style=\"text-align: right;\">\n",
       "      <th></th>\n",
       "      <th></th>\n",
       "      <th>values</th>\n",
       "    </tr>\n",
       "  </thead>\n",
       "  <tbody>\n",
       "    <tr>\n",
       "      <th rowspan=\"9\" valign=\"top\">Structure</th>\n",
       "      <th>isLith</th>\n",
       "      <td>True</td>\n",
       "    </tr>\n",
       "    <tr>\n",
       "      <th>isFault</th>\n",
       "      <td>True</td>\n",
       "    </tr>\n",
       "    <tr>\n",
       "      <th>number faults</th>\n",
       "      <td>1</td>\n",
       "    </tr>\n",
       "    <tr>\n",
       "      <th>number formations</th>\n",
       "      <td>5</td>\n",
       "    </tr>\n",
       "    <tr>\n",
       "      <th>number series</th>\n",
       "      <td>2</td>\n",
       "    </tr>\n",
       "    <tr>\n",
       "      <th>number formations per series</th>\n",
       "      <td>[1, 4]</td>\n",
       "    </tr>\n",
       "    <tr>\n",
       "      <th>len formations interfaces</th>\n",
       "      <td>[16, 15, 13, 8, 5]</td>\n",
       "    </tr>\n",
       "    <tr>\n",
       "      <th>len series interfaces</th>\n",
       "      <td>[5, 52]</td>\n",
       "    </tr>\n",
       "    <tr>\n",
       "      <th>len series orientations</th>\n",
       "      <td>[1, 2]</td>\n",
       "    </tr>\n",
       "    <tr>\n",
       "      <th rowspan=\"5\" valign=\"top\">Options</th>\n",
       "      <th>dtype</th>\n",
       "      <td>float64</td>\n",
       "    </tr>\n",
       "    <tr>\n",
       "      <th>output</th>\n",
       "      <td>geology</td>\n",
       "    </tr>\n",
       "    <tr>\n",
       "      <th>theano_optimizer</th>\n",
       "      <td>fast_compile</td>\n",
       "    </tr>\n",
       "    <tr>\n",
       "      <th>device</th>\n",
       "      <td>cpu</td>\n",
       "    </tr>\n",
       "    <tr>\n",
       "      <th>verbosity</th>\n",
       "      <td>[]</td>\n",
       "    </tr>\n",
       "    <tr>\n",
       "      <th rowspan=\"5\" valign=\"top\">Kringing</th>\n",
       "      <th>range</th>\n",
       "      <td>0</td>\n",
       "    </tr>\n",
       "    <tr>\n",
       "      <th>$C_o$</th>\n",
       "      <td>0</td>\n",
       "    </tr>\n",
       "    <tr>\n",
       "      <th>drift equations</th>\n",
       "      <td>[3, 3]</td>\n",
       "    </tr>\n",
       "    <tr>\n",
       "      <th>nugget grad</th>\n",
       "      <td>0.01</td>\n",
       "    </tr>\n",
       "    <tr>\n",
       "      <th>nugget scalar</th>\n",
       "      <td>1e-06</td>\n",
       "    </tr>\n",
       "    <tr>\n",
       "      <th rowspan=\"2\" valign=\"top\">Rescaling</th>\n",
       "      <th>rescaling factor</th>\n",
       "      <td>3800</td>\n",
       "    </tr>\n",
       "    <tr>\n",
       "      <th>centers</th>\n",
       "      <td>[850.0, 1000.0, 900.0]</td>\n",
       "    </tr>\n",
       "  </tbody>\n",
       "</table>"
      ],
      "text/plain": [
       "                                                        values\n",
       "Structure isLith                                          True\n",
       "          isFault                                         True\n",
       "          number faults                                      1\n",
       "          number formations                                  5\n",
       "          number series                                      2\n",
       "          number formations per series                  [1, 4]\n",
       "          len formations interfaces         [16, 15, 13, 8, 5]\n",
       "          len series interfaces                        [5, 52]\n",
       "          len series orientations                       [1, 2]\n",
       "Options   dtype                                        float64\n",
       "          output                                       geology\n",
       "          theano_optimizer                        fast_compile\n",
       "          device                                           cpu\n",
       "          verbosity                                         []\n",
       "Kringing  range                                              0\n",
       "          $C_o$                                              0\n",
       "          drift equations                               [3, 3]\n",
       "          nugget grad                                     0.01\n",
       "          nugget scalar                                  1e-06\n",
       "Rescaling rescaling factor                                3800\n",
       "          centers                       [850.0, 1000.0, 900.0]"
      ]
     },
     "execution_count": 26,
     "metadata": {},
     "output_type": "execute_result"
    }
   ],
   "source": [
    "model.additional_data"
   ]
  },
  {
   "cell_type": "markdown",
   "metadata": {},
   "source": [
    "## Setting grid\n",
    "\n",
    "So far we have worked on data that depends exclusively of input (i.e. sequeantial pile, interfaces, orientations, etc). With things like grid the idea is the same:"
   ]
  },
  {
   "cell_type": "code",
   "execution_count": 27,
   "metadata": {},
   "outputs": [
    {
     "data": {
      "text/plain": [
       "array([[6.91755232e-310, 4.67570053e-310, 1.58101007e-322]])"
      ]
     },
     "execution_count": 27,
     "metadata": {},
     "output_type": "execute_result"
    }
   ],
   "source": [
    "model.grid.values"
   ]
  },
  {
   "cell_type": "code",
   "execution_count": 28,
   "metadata": {},
   "outputs": [],
   "source": [
    "model.set_regular_grid([0,10,0,10,0,10], [50,50,50])"
   ]
  },
  {
   "cell_type": "code",
   "execution_count": 29,
   "metadata": {},
   "outputs": [
    {
     "data": {
      "text/html": [
       "<table border=\"1\" class=\"dataframe\">\n",
       "  <thead>\n",
       "    <tr style=\"text-align: right;\">\n",
       "      <th></th>\n",
       "      <th></th>\n",
       "      <th>values</th>\n",
       "    </tr>\n",
       "  </thead>\n",
       "  <tbody>\n",
       "    <tr>\n",
       "      <th rowspan=\"9\" valign=\"top\">Structure</th>\n",
       "      <th>isLith</th>\n",
       "      <td>True</td>\n",
       "    </tr>\n",
       "    <tr>\n",
       "      <th>isFault</th>\n",
       "      <td>True</td>\n",
       "    </tr>\n",
       "    <tr>\n",
       "      <th>number faults</th>\n",
       "      <td>1</td>\n",
       "    </tr>\n",
       "    <tr>\n",
       "      <th>number formations</th>\n",
       "      <td>5</td>\n",
       "    </tr>\n",
       "    <tr>\n",
       "      <th>number series</th>\n",
       "      <td>2</td>\n",
       "    </tr>\n",
       "    <tr>\n",
       "      <th>number formations per series</th>\n",
       "      <td>[1, 4]</td>\n",
       "    </tr>\n",
       "    <tr>\n",
       "      <th>len formations interfaces</th>\n",
       "      <td>[16, 15, 13, 8, 5]</td>\n",
       "    </tr>\n",
       "    <tr>\n",
       "      <th>len series interfaces</th>\n",
       "      <td>[5, 52]</td>\n",
       "    </tr>\n",
       "    <tr>\n",
       "      <th>len series orientations</th>\n",
       "      <td>[1, 2]</td>\n",
       "    </tr>\n",
       "    <tr>\n",
       "      <th rowspan=\"5\" valign=\"top\">Options</th>\n",
       "      <th>dtype</th>\n",
       "      <td>float64</td>\n",
       "    </tr>\n",
       "    <tr>\n",
       "      <th>output</th>\n",
       "      <td>geology</td>\n",
       "    </tr>\n",
       "    <tr>\n",
       "      <th>theano_optimizer</th>\n",
       "      <td>fast_compile</td>\n",
       "    </tr>\n",
       "    <tr>\n",
       "      <th>device</th>\n",
       "      <td>cpu</td>\n",
       "    </tr>\n",
       "    <tr>\n",
       "      <th>verbosity</th>\n",
       "      <td>[]</td>\n",
       "    </tr>\n",
       "    <tr>\n",
       "      <th rowspan=\"5\" valign=\"top\">Kringing</th>\n",
       "      <th>range</th>\n",
       "      <td>17.3205</td>\n",
       "    </tr>\n",
       "    <tr>\n",
       "      <th>$C_o$</th>\n",
       "      <td>7.14286</td>\n",
       "    </tr>\n",
       "    <tr>\n",
       "      <th>drift equations</th>\n",
       "      <td>[3, 3]</td>\n",
       "    </tr>\n",
       "    <tr>\n",
       "      <th>nugget grad</th>\n",
       "      <td>0.01</td>\n",
       "    </tr>\n",
       "    <tr>\n",
       "      <th>nugget scalar</th>\n",
       "      <td>1e-06</td>\n",
       "    </tr>\n",
       "    <tr>\n",
       "      <th rowspan=\"2\" valign=\"top\">Rescaling</th>\n",
       "      <th>rescaling factor</th>\n",
       "      <td>3800</td>\n",
       "    </tr>\n",
       "    <tr>\n",
       "      <th>centers</th>\n",
       "      <td>[850.0, 1000.0, 900.0]</td>\n",
       "    </tr>\n",
       "  </tbody>\n",
       "</table>"
      ],
      "text/plain": [
       "                                                        values\n",
       "Structure isLith                                          True\n",
       "          isFault                                         True\n",
       "          number faults                                      1\n",
       "          number formations                                  5\n",
       "          number series                                      2\n",
       "          number formations per series                  [1, 4]\n",
       "          len formations interfaces         [16, 15, 13, 8, 5]\n",
       "          len series interfaces                        [5, 52]\n",
       "          len series orientations                       [1, 2]\n",
       "Options   dtype                                        float64\n",
       "          output                                       geology\n",
       "          theano_optimizer                        fast_compile\n",
       "          device                                           cpu\n",
       "          verbosity                                         []\n",
       "Kringing  range                                        17.3205\n",
       "          $C_o$                                        7.14286\n",
       "          drift equations                               [3, 3]\n",
       "          nugget grad                                     0.01\n",
       "          nugget scalar                                  1e-06\n",
       "Rescaling rescaling factor                                3800\n",
       "          centers                       [850.0, 1000.0, 900.0]"
      ]
     },
     "execution_count": 29,
     "metadata": {},
     "output_type": "execute_result"
    }
   ],
   "source": [
    "model.additional_data"
   ]
  },
  {
   "cell_type": "markdown",
   "metadata": {},
   "source": [
    "-------------------"
   ]
  },
  {
   "cell_type": "markdown",
   "metadata": {},
   "source": [
    "## Getting data"
   ]
  },
  {
   "cell_type": "markdown",
   "metadata": {},
   "source": [
    "Alternatively we can access the dataframe by:"
   ]
  },
  {
   "cell_type": "code",
   "execution_count": 31,
   "metadata": {},
   "outputs": [
    {
     "data": {
      "text/html": [
       "<table border=\"1\" class=\"dataframe\">\n",
       "  <thead>\n",
       "    <tr style=\"text-align: right;\">\n",
       "      <th></th>\n",
       "      <th>formation</th>\n",
       "      <th>series</th>\n",
       "      <th>order_surfaces</th>\n",
       "      <th>isBasement</th>\n",
       "      <th>id</th>\n",
       "    </tr>\n",
       "  </thead>\n",
       "  <tbody>\n",
       "    <tr>\n",
       "      <th>4</th>\n",
       "      <td>Main_Fault</td>\n",
       "      <td>Fault_Series</td>\n",
       "      <td>1</td>\n",
       "      <td>False</td>\n",
       "      <td>5</td>\n",
       "    </tr>\n",
       "    <tr>\n",
       "      <th>0</th>\n",
       "      <td>Shale</td>\n",
       "      <td>Strat_Series</td>\n",
       "      <td>1</td>\n",
       "      <td>False</td>\n",
       "      <td>1</td>\n",
       "    </tr>\n",
       "    <tr>\n",
       "      <th>1</th>\n",
       "      <td>Sandstone_1</td>\n",
       "      <td>Strat_Series</td>\n",
       "      <td>2</td>\n",
       "      <td>False</td>\n",
       "      <td>2</td>\n",
       "    </tr>\n",
       "    <tr>\n",
       "      <th>2</th>\n",
       "      <td>Siltstone</td>\n",
       "      <td>Strat_Series</td>\n",
       "      <td>3</td>\n",
       "      <td>False</td>\n",
       "      <td>3</td>\n",
       "    </tr>\n",
       "    <tr>\n",
       "      <th>3</th>\n",
       "      <td>Sandstone_2</td>\n",
       "      <td>Strat_Series</td>\n",
       "      <td>4</td>\n",
       "      <td>True</td>\n",
       "      <td>4</td>\n",
       "    </tr>\n",
       "  </tbody>\n",
       "</table>"
      ],
      "text/plain": [
       "     formation        series  order_surfaces  isBasement  id\n",
       "4   Main_Fault  Fault_Series               1       False   5\n",
       "0        Shale  Strat_Series               1       False   1\n",
       "1  Sandstone_1  Strat_Series               2       False   2\n",
       "2    Siltstone  Strat_Series               3       False   3\n",
       "3  Sandstone_2  Strat_Series               4        True   4"
      ]
     },
     "execution_count": 31,
     "metadata": {},
     "output_type": "execute_result"
    }
   ],
   "source": [
    "gp.get_data(model, 'formations')"
   ]
  },
  {
   "cell_type": "markdown",
   "metadata": {},
   "source": [
    "The class `gempy.core.model.Model` works as the parent container of our project. Therefore the main step of any project is to create an instance of this class. In the official documentation we use normally geo_model (geo_data in the past) as name of this instance.\n",
    "\n",
    "When we instiantiate a `Model` object we full data structure is created. By using `gp.init_data` and `set_series` we set the default values -- given the attributes -- to all of fields. Data is stored in pandas dataframes. With `gp.get_data` and the name of the data object it is possible to have access to the dataframes: \n",
    "\n",
    "`str`['all', 'interfaces', 'orientations', 'formations', 'series', 'faults', 'faults_relations', \n",
    "        additional data]\n",
    "        \n",
    "These dataframes are stored in specific objects. These objects contain the specific methods to manipulate them. You access these objects with the spectific getter or as a attribute of `Model`"
   ]
  },
  {
   "cell_type": "code",
   "execution_count": null,
   "metadata": {},
   "outputs": [],
   "source": []
  }
 ],
 "metadata": {
  "kernelspec": {
   "display_name": "Python 3",
   "language": "python",
   "name": "python3"
  },
  "language_info": {
   "codemirror_mode": {
    "name": "ipython",
    "version": 3
   },
   "file_extension": ".py",
   "mimetype": "text/x-python",
   "name": "python",
   "nbconvert_exporter": "python",
   "pygments_lexer": "ipython3",
   "version": "3.6.6"
  }
 },
 "nbformat": 4,
 "nbformat_minor": 2
}
