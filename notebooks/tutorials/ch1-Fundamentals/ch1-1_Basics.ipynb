{
 "cells": [
  {
   "cell_type": "markdown",
   "metadata": {},
   "source": [
    "# Chapter 1: Basics of geological modeling with GemPy\n",
    "***\n",
    "In this first chapter, we will guide through the most important steps of modeling with GemPy on the base of a relatively simple geological model, while introducing essential objects and functions. We will illustrate how to:\n",
    "- import and create input data for modeling in GemPy\n",
    "- return and visualize input data\n",
    "- generate a 3D geological model in GemPy\n",
    "- visualize a model directly in GemPy\n",
    "***\n",
    "\n",
    "## The example model: Simple stratigraphy and one fault\n",
    "\n",
    "Our synthetic example model is defined to be cubic, with an extent of 2000 m in every direction of the 3D space. Lithologically, it includes five stratigraphic units of sedimentary origin. Here, we list them from top (youngest) to bottom (oldest):\n",
    "\n",
    "- Sandstone (2)\n",
    "- Siltstone\n",
    "- Shale\n",
    "- Sandstone (1)\n",
    "- Basement (undefined, default by GemPy)\n",
    "\n",
    "We assume that these were simply deposited in consequential order and deformed (tilted and folded) afterwards. Additionally, they are displaced by a continuous normal fault.\n",
    "The final modeling results should look somewhat like this, depending on the type of visualization:\n",
    "\n",
    "![2D and 3D visualizations of our example model.](../../../docs/readme_images/model_example_duo.png \"2D and 3D visualizations of our example model\")\n",
    "\n",
    "As this example involves a simple sequence of layers and only one fault, it provides an adequate level of complexity to introduce the basics of modeling with GemPy. At the end of this chapter, we will show some model variations and how the modeling workflow has to be adapted accordingly.\n",
    "\n",
    "## Preparing the Python environment\n",
    "\n",
    "For modeling with GemPy, we first need to import it. We should also import any other packages we want to utilize in our Python environment.Typically, we will also require `NumPy` and `Matplotlib` when working with GemPy. At this point, we can further customize some settings as desired, e.g. the size of figures or, as we do here, the way that `Matplotlib` figures are displayed in our notebook (`%matplotlib inline`)."
   ]
  },
  {
   "cell_type": "code",
   "execution_count": 1,
   "metadata": {
    "pycharm": {
     "is_executing": false
    }
   },
   "outputs": [],
   "source": [
    "# These two lines are necessary only if GemPy is not installed\n",
    "import sys, os\n",
    "sys.path.append(\"../../..\")\n",
    "\n",
    "# Importing GemPy\n",
    "import gempy as gp\n",
    "\n",
    "# Embedding matplotlib figures in the notebooks\n",
    "%matplotlib inline\n",
    "\n",
    "# Importing auxiliary libraries\n",
    "import numpy as np\n",
    "import matplotlib.pyplot as plt"
   ]
  },
  {
   "cell_type": "code",
   "execution_count": 2,
   "metadata": {},
   "outputs": [
    {
     "data": {
      "text/plain": [
       "<module 'gempy' from '../../../gempy/__init__.py'>"
      ]
     },
     "execution_count": 2,
     "metadata": {},
     "output_type": "execute_result"
    }
   ],
   "source": [
    "gp"
   ]
  },
  {
   "cell_type": "markdown",
   "metadata": {},
   "source": [
    "## Importing and creating a set of input data\n",
    "\n",
    "The data used for the construction of a model in GemPy is stored in Python objects. The main data classes are:\n",
    "\n",
    "    -  Surface_points\n",
    "    -  Orientations\n",
    "    -  Grid\n",
    "    -  Surfaces\n",
    "    -  Series\n",
    "    -  Additional data\n",
    "    -  Faults\n",
    "    \n",
    "We will see each of this class in further detail in the future.\n",
    "\n",
    "Most of data can also be generated from raw data that comes in the form of CSV-files (CSV = comma-separated values). Such files might be attained by exporting model data from a different program such as GeoModeller or by simply creating it in spreadsheet software such as Microsoft Excel or LibreOffice Calc.\n",
    "\n",
    "In this tutorial, all input data is created by importing such CSV-files. These exemplary files can be found in the `input_data` folder in the root folder of GemPy. \n",
    "The data comprises $x$-, $y$- and $z$-positional values for all surface points and orientation measurements. For the latter, poles, azimuth and polarity are additionally included. Surface points are furthermore assigned a formation. This might be a lithological unit such as \"Sandstone\" or a structural feature such as \"Main Fault\". It is decisive to remember that, in GemPy, interface position points mark the **bottom** of a layer. If such points are needed to resemble a top of a formation (e.g. when modeling an intrusion), this can be achieved by defining a respectively inverted orientation measurement.\n",
    "\n",
    "As we generate our `Data` from CSV-files, we also have to define our model's real extent in $x$, $y$ and $z$, as well as declare a desired resolution for each axis. This resolution will in turn determine the number of voxels used during modeling. Here, we rely on a medium resolution of 50x50x50, amounting to 125,000 voxels. The model extent should be chosen in a way that it contains all relevant data in a representative space. As our model voxels are not cubes, but prisms, the resolution can take a different shape than the extent. We don't recommend going much higher than 100 cells in every direction (1,000,000 voxels), as higher resolutions will become increasingly difficult to compute."
   ]
  },
  {
   "cell_type": "code",
   "execution_count": 3,
   "metadata": {
    "pycharm": {
     "is_executing": false
    }
   },
   "outputs": [],
   "source": [
    "geo_model = gp.create_model('Tutorial_ch1-1_Basics')"
   ]
  },
  {
   "cell_type": "code",
   "execution_count": 4,
   "metadata": {
    "pycharm": {
     "is_executing": false
    },
    "scrolled": false
   },
   "outputs": [
    {
     "name": "stdout",
     "output_type": "stream",
     "text": [
      "Active grids: ['regular']\n"
     ]
    }
   ],
   "source": [
    "data_path= '../..'\n",
    "# Importing the data from CSV-files and setting extent and resolution\n",
    "gp.init_data(geo_model, [0,2000.,0,2000.,0,2000.],[50,50,50], \n",
    "      path_o = data_path+\"/data/input_data/tut_chapter1/simple_fault_model_orientations.csv\",\n",
    "      path_i = data_path+\"/data/input_data/tut_chapter1/simple_fault_model_points.csv\", default_values=True); #%%"
   ]
  },
  {
   "cell_type": "code",
   "execution_count": 5,
   "metadata": {},
   "outputs": [
    {
     "data": {
      "text/html": [
       "<style  type=\"text/css\" >\n",
       "    #T_1786147e_12b8_11ea_8db4_acde48001122row0_col3 {\n",
       "            background-color:  #015482;\n",
       "        }    #T_1786147e_12b8_11ea_8db4_acde48001122row1_col3 {\n",
       "            background-color:  #9f0052;\n",
       "        }    #T_1786147e_12b8_11ea_8db4_acde48001122row2_col3 {\n",
       "            background-color:  #ffbe00;\n",
       "        }    #T_1786147e_12b8_11ea_8db4_acde48001122row3_col3 {\n",
       "            background-color:  #728f02;\n",
       "        }    #T_1786147e_12b8_11ea_8db4_acde48001122row4_col3 {\n",
       "            background-color:  #443988;\n",
       "        }    #T_1786147e_12b8_11ea_8db4_acde48001122row5_col3 {\n",
       "            background-color:  #ff3f20;\n",
       "        }</style><table id=\"T_1786147e_12b8_11ea_8db4_acde48001122\" ><thead>    <tr>        <th class=\"blank level0\" ></th>        <th class=\"col_heading level0 col0\" >surface</th>        <th class=\"col_heading level0 col1\" >series</th>        <th class=\"col_heading level0 col2\" >order_surfaces</th>        <th class=\"col_heading level0 col3\" >color</th>        <th class=\"col_heading level0 col4\" >id</th>    </tr></thead><tbody>\n",
       "                <tr>\n",
       "                        <th id=\"T_1786147e_12b8_11ea_8db4_acde48001122level0_row0\" class=\"row_heading level0 row0\" >0</th>\n",
       "                        <td id=\"T_1786147e_12b8_11ea_8db4_acde48001122row0_col0\" class=\"data row0 col0\" >Shale</td>\n",
       "                        <td id=\"T_1786147e_12b8_11ea_8db4_acde48001122row0_col1\" class=\"data row0 col1\" >Default series</td>\n",
       "                        <td id=\"T_1786147e_12b8_11ea_8db4_acde48001122row0_col2\" class=\"data row0 col2\" >1</td>\n",
       "                        <td id=\"T_1786147e_12b8_11ea_8db4_acde48001122row0_col3\" class=\"data row0 col3\" >#015482</td>\n",
       "                        <td id=\"T_1786147e_12b8_11ea_8db4_acde48001122row0_col4\" class=\"data row0 col4\" >1</td>\n",
       "            </tr>\n",
       "            <tr>\n",
       "                        <th id=\"T_1786147e_12b8_11ea_8db4_acde48001122level0_row1\" class=\"row_heading level0 row1\" >1</th>\n",
       "                        <td id=\"T_1786147e_12b8_11ea_8db4_acde48001122row1_col0\" class=\"data row1 col0\" >Sandstone_1</td>\n",
       "                        <td id=\"T_1786147e_12b8_11ea_8db4_acde48001122row1_col1\" class=\"data row1 col1\" >Default series</td>\n",
       "                        <td id=\"T_1786147e_12b8_11ea_8db4_acde48001122row1_col2\" class=\"data row1 col2\" >2</td>\n",
       "                        <td id=\"T_1786147e_12b8_11ea_8db4_acde48001122row1_col3\" class=\"data row1 col3\" >#9f0052</td>\n",
       "                        <td id=\"T_1786147e_12b8_11ea_8db4_acde48001122row1_col4\" class=\"data row1 col4\" >2</td>\n",
       "            </tr>\n",
       "            <tr>\n",
       "                        <th id=\"T_1786147e_12b8_11ea_8db4_acde48001122level0_row2\" class=\"row_heading level0 row2\" >2</th>\n",
       "                        <td id=\"T_1786147e_12b8_11ea_8db4_acde48001122row2_col0\" class=\"data row2 col0\" >Siltstone</td>\n",
       "                        <td id=\"T_1786147e_12b8_11ea_8db4_acde48001122row2_col1\" class=\"data row2 col1\" >Default series</td>\n",
       "                        <td id=\"T_1786147e_12b8_11ea_8db4_acde48001122row2_col2\" class=\"data row2 col2\" >3</td>\n",
       "                        <td id=\"T_1786147e_12b8_11ea_8db4_acde48001122row2_col3\" class=\"data row2 col3\" >#ffbe00</td>\n",
       "                        <td id=\"T_1786147e_12b8_11ea_8db4_acde48001122row2_col4\" class=\"data row2 col4\" >3</td>\n",
       "            </tr>\n",
       "            <tr>\n",
       "                        <th id=\"T_1786147e_12b8_11ea_8db4_acde48001122level0_row3\" class=\"row_heading level0 row3\" >3</th>\n",
       "                        <td id=\"T_1786147e_12b8_11ea_8db4_acde48001122row3_col0\" class=\"data row3 col0\" >Sandstone_2</td>\n",
       "                        <td id=\"T_1786147e_12b8_11ea_8db4_acde48001122row3_col1\" class=\"data row3 col1\" >Default series</td>\n",
       "                        <td id=\"T_1786147e_12b8_11ea_8db4_acde48001122row3_col2\" class=\"data row3 col2\" >4</td>\n",
       "                        <td id=\"T_1786147e_12b8_11ea_8db4_acde48001122row3_col3\" class=\"data row3 col3\" >#728f02</td>\n",
       "                        <td id=\"T_1786147e_12b8_11ea_8db4_acde48001122row3_col4\" class=\"data row3 col4\" >4</td>\n",
       "            </tr>\n",
       "            <tr>\n",
       "                        <th id=\"T_1786147e_12b8_11ea_8db4_acde48001122level0_row4\" class=\"row_heading level0 row4\" >4</th>\n",
       "                        <td id=\"T_1786147e_12b8_11ea_8db4_acde48001122row4_col0\" class=\"data row4 col0\" >Main_Fault</td>\n",
       "                        <td id=\"T_1786147e_12b8_11ea_8db4_acde48001122row4_col1\" class=\"data row4 col1\" >Default series</td>\n",
       "                        <td id=\"T_1786147e_12b8_11ea_8db4_acde48001122row4_col2\" class=\"data row4 col2\" >5</td>\n",
       "                        <td id=\"T_1786147e_12b8_11ea_8db4_acde48001122row4_col3\" class=\"data row4 col3\" >#443988</td>\n",
       "                        <td id=\"T_1786147e_12b8_11ea_8db4_acde48001122row4_col4\" class=\"data row4 col4\" >5</td>\n",
       "            </tr>\n",
       "            <tr>\n",
       "                        <th id=\"T_1786147e_12b8_11ea_8db4_acde48001122level0_row5\" class=\"row_heading level0 row5\" >5</th>\n",
       "                        <td id=\"T_1786147e_12b8_11ea_8db4_acde48001122row5_col0\" class=\"data row5 col0\" >basement</td>\n",
       "                        <td id=\"T_1786147e_12b8_11ea_8db4_acde48001122row5_col1\" class=\"data row5 col1\" >Basement</td>\n",
       "                        <td id=\"T_1786147e_12b8_11ea_8db4_acde48001122row5_col2\" class=\"data row5 col2\" >1</td>\n",
       "                        <td id=\"T_1786147e_12b8_11ea_8db4_acde48001122row5_col3\" class=\"data row5 col3\" >#ff3f20</td>\n",
       "                        <td id=\"T_1786147e_12b8_11ea_8db4_acde48001122row5_col4\" class=\"data row5 col4\" >6</td>\n",
       "            </tr>\n",
       "    </tbody></table>"
      ],
      "text/plain": [
       "       surface          series  order_surfaces    color  id\n",
       "0        Shale  Default series               1  #015482   1\n",
       "1  Sandstone_1  Default series               2  #9f0052   2\n",
       "2    Siltstone  Default series               3  #ffbe00   3\n",
       "3  Sandstone_2  Default series               4  #728f02   4\n",
       "4   Main_Fault  Default series               5  #443988   5\n",
       "5     basement        Basement               1  #ff3f20   6"
      ]
     },
     "execution_count": 5,
     "metadata": {},
     "output_type": "execute_result"
    }
   ],
   "source": [
    "geo_model.surfaces"
   ]
  },
  {
   "cell_type": "markdown",
   "metadata": {},
   "source": [
    "The input data can then be listed using the command `get_data`. Note that the order of formations and respective allocation to series is still completely arbitrary. We will fix this in the following."
   ]
  },
  {
   "cell_type": "code",
   "execution_count": 6,
   "metadata": {
    "pycharm": {
     "is_executing": false
    }
   },
   "outputs": [
    {
     "data": {
      "text/html": [
       "<div>\n",
       "<style scoped>\n",
       "    .dataframe tbody tr th:only-of-type {\n",
       "        vertical-align: middle;\n",
       "    }\n",
       "\n",
       "    .dataframe tbody tr th {\n",
       "        vertical-align: top;\n",
       "    }\n",
       "\n",
       "    .dataframe thead th {\n",
       "        text-align: right;\n",
       "    }\n",
       "</style>\n",
       "<table border=\"1\" class=\"dataframe\">\n",
       "  <thead>\n",
       "    <tr style=\"text-align: right;\">\n",
       "      <th></th>\n",
       "      <th>X</th>\n",
       "      <th>Y</th>\n",
       "      <th>Z</th>\n",
       "      <th>X_r</th>\n",
       "      <th>Y_r</th>\n",
       "      <th>Z_r</th>\n",
       "      <th>surface</th>\n",
       "      <th>series</th>\n",
       "      <th>id</th>\n",
       "      <th>order_series</th>\n",
       "      <th>smooth</th>\n",
       "    </tr>\n",
       "  </thead>\n",
       "  <tbody>\n",
       "    <tr>\n",
       "      <th>0</th>\n",
       "      <td>800</td>\n",
       "      <td>50</td>\n",
       "      <td>750</td>\n",
       "      <td>0.486942</td>\n",
       "      <td>0.250100</td>\n",
       "      <td>0.460626</td>\n",
       "      <td>Shale</td>\n",
       "      <td>Default series</td>\n",
       "      <td>1</td>\n",
       "      <td>1</td>\n",
       "      <td>0.000001</td>\n",
       "    </tr>\n",
       "    <tr>\n",
       "      <th>1</th>\n",
       "      <td>800</td>\n",
       "      <td>150</td>\n",
       "      <td>700</td>\n",
       "      <td>0.486942</td>\n",
       "      <td>0.276416</td>\n",
       "      <td>0.447468</td>\n",
       "      <td>Shale</td>\n",
       "      <td>Default series</td>\n",
       "      <td>1</td>\n",
       "      <td>1</td>\n",
       "      <td>0.000001</td>\n",
       "    </tr>\n",
       "    <tr>\n",
       "      <th>2</th>\n",
       "      <td>800</td>\n",
       "      <td>300</td>\n",
       "      <td>700</td>\n",
       "      <td>0.486942</td>\n",
       "      <td>0.315889</td>\n",
       "      <td>0.447468</td>\n",
       "      <td>Shale</td>\n",
       "      <td>Default series</td>\n",
       "      <td>1</td>\n",
       "      <td>1</td>\n",
       "      <td>0.000001</td>\n",
       "    </tr>\n",
       "    <tr>\n",
       "      <th>3</th>\n",
       "      <td>800</td>\n",
       "      <td>500</td>\n",
       "      <td>800</td>\n",
       "      <td>0.486942</td>\n",
       "      <td>0.368521</td>\n",
       "      <td>0.473784</td>\n",
       "      <td>Shale</td>\n",
       "      <td>Default series</td>\n",
       "      <td>1</td>\n",
       "      <td>1</td>\n",
       "      <td>0.000001</td>\n",
       "    </tr>\n",
       "    <tr>\n",
       "      <th>4</th>\n",
       "      <td>800</td>\n",
       "      <td>1000</td>\n",
       "      <td>1000</td>\n",
       "      <td>0.486942</td>\n",
       "      <td>0.500100</td>\n",
       "      <td>0.526416</td>\n",
       "      <td>Shale</td>\n",
       "      <td>Default series</td>\n",
       "      <td>1</td>\n",
       "      <td>1</td>\n",
       "      <td>0.000001</td>\n",
       "    </tr>\n",
       "  </tbody>\n",
       "</table>\n",
       "</div>"
      ],
      "text/plain": [
       "     X     Y     Z       X_r       Y_r       Z_r surface          series  id  \\\n",
       "0  800    50   750  0.486942  0.250100  0.460626   Shale  Default series   1   \n",
       "1  800   150   700  0.486942  0.276416  0.447468   Shale  Default series   1   \n",
       "2  800   300   700  0.486942  0.315889  0.447468   Shale  Default series   1   \n",
       "3  800   500   800  0.486942  0.368521  0.473784   Shale  Default series   1   \n",
       "4  800  1000  1000  0.486942  0.500100  0.526416   Shale  Default series   1   \n",
       "\n",
       "   order_series    smooth  \n",
       "0             1  0.000001  \n",
       "1             1  0.000001  \n",
       "2             1  0.000001  \n",
       "3             1  0.000001  \n",
       "4             1  0.000001  "
      ]
     },
     "execution_count": 6,
     "metadata": {},
     "output_type": "execute_result"
    }
   ],
   "source": [
    "gp.get_data(geo_model, 'surface_points').head()"
   ]
  },
  {
   "cell_type": "code",
   "execution_count": 7,
   "metadata": {
    "pycharm": {
     "is_executing": false
    }
   },
   "outputs": [
    {
     "data": {
      "text/html": [
       "<div>\n",
       "<style scoped>\n",
       "    .dataframe tbody tr th:only-of-type {\n",
       "        vertical-align: middle;\n",
       "    }\n",
       "\n",
       "    .dataframe tbody tr th {\n",
       "        vertical-align: top;\n",
       "    }\n",
       "\n",
       "    .dataframe thead th {\n",
       "        text-align: right;\n",
       "    }\n",
       "</style>\n",
       "<table border=\"1\" class=\"dataframe\">\n",
       "  <thead>\n",
       "    <tr style=\"text-align: right;\">\n",
       "      <th></th>\n",
       "      <th>X</th>\n",
       "      <th>Y</th>\n",
       "      <th>Z</th>\n",
       "      <th>X_r</th>\n",
       "      <th>Y_r</th>\n",
       "      <th>Z_r</th>\n",
       "      <th>G_x</th>\n",
       "      <th>G_y</th>\n",
       "      <th>G_z</th>\n",
       "      <th>dip</th>\n",
       "      <th>azimuth</th>\n",
       "      <th>polarity</th>\n",
       "      <th>surface</th>\n",
       "      <th>series</th>\n",
       "      <th>id</th>\n",
       "      <th>order_series</th>\n",
       "      <th>smooth</th>\n",
       "    </tr>\n",
       "  </thead>\n",
       "  <tbody>\n",
       "    <tr>\n",
       "      <th>0</th>\n",
       "      <td>1000</td>\n",
       "      <td>1000</td>\n",
       "      <td>950.000</td>\n",
       "      <td>0.539574</td>\n",
       "      <td>0.5001</td>\n",
       "      <td>0.513258</td>\n",
       "      <td>0.316229</td>\n",
       "      <td>1.000019e-12</td>\n",
       "      <td>0.948683</td>\n",
       "      <td>18.435</td>\n",
       "      <td>90.0</td>\n",
       "      <td>1.0</td>\n",
       "      <td>Shale</td>\n",
       "      <td>Default series</td>\n",
       "      <td>1</td>\n",
       "      <td>1</td>\n",
       "      <td>0.01</td>\n",
       "    </tr>\n",
       "    <tr>\n",
       "      <th>1</th>\n",
       "      <td>400</td>\n",
       "      <td>1000</td>\n",
       "      <td>1400.000</td>\n",
       "      <td>0.381679</td>\n",
       "      <td>0.5001</td>\n",
       "      <td>0.631679</td>\n",
       "      <td>0.316229</td>\n",
       "      <td>1.000019e-12</td>\n",
       "      <td>0.948683</td>\n",
       "      <td>18.435</td>\n",
       "      <td>90.0</td>\n",
       "      <td>1.0</td>\n",
       "      <td>Sandstone_2</td>\n",
       "      <td>Default series</td>\n",
       "      <td>4</td>\n",
       "      <td>1</td>\n",
       "      <td>0.01</td>\n",
       "    </tr>\n",
       "    <tr>\n",
       "      <th>2</th>\n",
       "      <td>500</td>\n",
       "      <td>1000</td>\n",
       "      <td>864.602</td>\n",
       "      <td>0.407995</td>\n",
       "      <td>0.5001</td>\n",
       "      <td>0.490785</td>\n",
       "      <td>-0.948683</td>\n",
       "      <td>9.998257e-13</td>\n",
       "      <td>0.316229</td>\n",
       "      <td>71.565</td>\n",
       "      <td>270.0</td>\n",
       "      <td>1.0</td>\n",
       "      <td>Main_Fault</td>\n",
       "      <td>Default series</td>\n",
       "      <td>5</td>\n",
       "      <td>1</td>\n",
       "      <td>0.01</td>\n",
       "    </tr>\n",
       "  </tbody>\n",
       "</table>\n",
       "</div>"
      ],
      "text/plain": [
       "      X     Y         Z       X_r     Y_r       Z_r       G_x           G_y  \\\n",
       "0  1000  1000   950.000  0.539574  0.5001  0.513258  0.316229  1.000019e-12   \n",
       "1   400  1000  1400.000  0.381679  0.5001  0.631679  0.316229  1.000019e-12   \n",
       "2   500  1000   864.602  0.407995  0.5001  0.490785 -0.948683  9.998257e-13   \n",
       "\n",
       "        G_z     dip  azimuth  polarity      surface          series  id  \\\n",
       "0  0.948683  18.435     90.0       1.0        Shale  Default series   1   \n",
       "1  0.948683  18.435     90.0       1.0  Sandstone_2  Default series   4   \n",
       "2  0.316229  71.565    270.0       1.0   Main_Fault  Default series   5   \n",
       "\n",
       "   order_series  smooth  \n",
       "0             1    0.01  \n",
       "1             1    0.01  \n",
       "2             1    0.01  "
      ]
     },
     "execution_count": 7,
     "metadata": {},
     "output_type": "execute_result"
    }
   ],
   "source": [
    "gp.get_data(geo_model, 'orientations').head()"
   ]
  },
  {
   "cell_type": "markdown",
   "metadata": {},
   "source": [
    "## Declaring the sequential order of geological formations\n",
    "\n",
    "- TODO  @Fabian update this\n",
    "\n",
    "We want our geological units to appear in the correct order relative to age. Such order might for example be given by a depositional sequence of stratigraphy, unconformities due to erosion or other lithological genesis events such as igneous intrusions. A similar age-related order is to be declared for the faults in our model.\n",
    "In GemPy, the function *set_series* is used to assign formations to different sequential series via declaration in a Python dictionary.\n",
    "\n",
    "Defining the correct order of series is vital to the construction of the model! If you are using Python 3.6, the age-related order will already be defined by the order of key entries, i.e. the first entry is the youngest series, the last one the oldest. For older versions of Python, you will have to specify the correct order as a separate list attribute \"*order_series*\" (see cell below).\n",
    "\n",
    "You can assign several surfaces to one series. The order of the units within such as series is only relevant for the color code, thus we recommend to be consistent. You can define this order via another attribute \"*order_formations*\" or by using the specific command *set_order_formations*. (If the order of the pile differs from the final result the color of the interfaces and input data will be different. ?)\n",
    "\n",
    "Every fault is treated as an independent series and have to be at set at the **top of the pile**. The relative order between the distinct faults defines the tectonic relation between them (first entry is the youngest).\n",
    "\n",
    "In a model with simple sequential stratigraphy, all layer formations can be assigned to one single series without a problem. All unit boundaries and their order would then be given by interface points. However, to model more complex lithostratigraphical relations and interactions, the definition of separate series becomes important. For example, you would need to declare a \"newer\" series to model an unconformity or an intrusion that disturbs older stratigraphy.\n",
    "\n",
    "By default we create a simple sequence infered by the data:"
   ]
  },
  {
   "cell_type": "markdown",
   "metadata": {},
   "source": [
    "Our example model comprises four main layers (plus an underlying basement that is automatically generated by GemPy) and one main normal fault displacing those layers. Assuming a simple stratigraphy where each younger unit was deposited onto the underlying older one, we can assign these layer formations to one series called \"Strat_Series\". For the fault, we declare a respective \"Fault_Series\" as the first key entry in the `set_series` dictionary. We could give any other names to these series, the formations however have to be referred to as named in the input data."
   ]
  },
  {
   "cell_type": "code",
   "execution_count": 8,
   "metadata": {
    "pycharm": {
     "is_executing": false
    },
    "tags": [
     "nbval-ignore-output"
    ]
   },
   "outputs": [
    {
     "data": {
      "text/html": [
       "<style  type=\"text/css\" >\n",
       "    #T_178d7dc2_12b8_11ea_8db4_acde48001122row0_col3 {\n",
       "            background-color:  #015482;\n",
       "        }    #T_178d7dc2_12b8_11ea_8db4_acde48001122row1_col3 {\n",
       "            background-color:  #9f0052;\n",
       "        }    #T_178d7dc2_12b8_11ea_8db4_acde48001122row2_col3 {\n",
       "            background-color:  #ffbe00;\n",
       "        }    #T_178d7dc2_12b8_11ea_8db4_acde48001122row3_col3 {\n",
       "            background-color:  #728f02;\n",
       "        }    #T_178d7dc2_12b8_11ea_8db4_acde48001122row4_col3 {\n",
       "            background-color:  #443988;\n",
       "        }    #T_178d7dc2_12b8_11ea_8db4_acde48001122row5_col3 {\n",
       "            background-color:  #ff3f20;\n",
       "        }</style><table id=\"T_178d7dc2_12b8_11ea_8db4_acde48001122\" ><thead>    <tr>        <th class=\"blank level0\" ></th>        <th class=\"col_heading level0 col0\" >surface</th>        <th class=\"col_heading level0 col1\" >series</th>        <th class=\"col_heading level0 col2\" >order_surfaces</th>        <th class=\"col_heading level0 col3\" >color</th>        <th class=\"col_heading level0 col4\" >id</th>    </tr></thead><tbody>\n",
       "                <tr>\n",
       "                        <th id=\"T_178d7dc2_12b8_11ea_8db4_acde48001122level0_row0\" class=\"row_heading level0 row0\" >0</th>\n",
       "                        <td id=\"T_178d7dc2_12b8_11ea_8db4_acde48001122row0_col0\" class=\"data row0 col0\" >Shale</td>\n",
       "                        <td id=\"T_178d7dc2_12b8_11ea_8db4_acde48001122row0_col1\" class=\"data row0 col1\" >Default series</td>\n",
       "                        <td id=\"T_178d7dc2_12b8_11ea_8db4_acde48001122row0_col2\" class=\"data row0 col2\" >1</td>\n",
       "                        <td id=\"T_178d7dc2_12b8_11ea_8db4_acde48001122row0_col3\" class=\"data row0 col3\" >#015482</td>\n",
       "                        <td id=\"T_178d7dc2_12b8_11ea_8db4_acde48001122row0_col4\" class=\"data row0 col4\" >1</td>\n",
       "            </tr>\n",
       "            <tr>\n",
       "                        <th id=\"T_178d7dc2_12b8_11ea_8db4_acde48001122level0_row1\" class=\"row_heading level0 row1\" >1</th>\n",
       "                        <td id=\"T_178d7dc2_12b8_11ea_8db4_acde48001122row1_col0\" class=\"data row1 col0\" >Sandstone_1</td>\n",
       "                        <td id=\"T_178d7dc2_12b8_11ea_8db4_acde48001122row1_col1\" class=\"data row1 col1\" >Default series</td>\n",
       "                        <td id=\"T_178d7dc2_12b8_11ea_8db4_acde48001122row1_col2\" class=\"data row1 col2\" >2</td>\n",
       "                        <td id=\"T_178d7dc2_12b8_11ea_8db4_acde48001122row1_col3\" class=\"data row1 col3\" >#9f0052</td>\n",
       "                        <td id=\"T_178d7dc2_12b8_11ea_8db4_acde48001122row1_col4\" class=\"data row1 col4\" >2</td>\n",
       "            </tr>\n",
       "            <tr>\n",
       "                        <th id=\"T_178d7dc2_12b8_11ea_8db4_acde48001122level0_row2\" class=\"row_heading level0 row2\" >2</th>\n",
       "                        <td id=\"T_178d7dc2_12b8_11ea_8db4_acde48001122row2_col0\" class=\"data row2 col0\" >Siltstone</td>\n",
       "                        <td id=\"T_178d7dc2_12b8_11ea_8db4_acde48001122row2_col1\" class=\"data row2 col1\" >Default series</td>\n",
       "                        <td id=\"T_178d7dc2_12b8_11ea_8db4_acde48001122row2_col2\" class=\"data row2 col2\" >3</td>\n",
       "                        <td id=\"T_178d7dc2_12b8_11ea_8db4_acde48001122row2_col3\" class=\"data row2 col3\" >#ffbe00</td>\n",
       "                        <td id=\"T_178d7dc2_12b8_11ea_8db4_acde48001122row2_col4\" class=\"data row2 col4\" >3</td>\n",
       "            </tr>\n",
       "            <tr>\n",
       "                        <th id=\"T_178d7dc2_12b8_11ea_8db4_acde48001122level0_row3\" class=\"row_heading level0 row3\" >3</th>\n",
       "                        <td id=\"T_178d7dc2_12b8_11ea_8db4_acde48001122row3_col0\" class=\"data row3 col0\" >Sandstone_2</td>\n",
       "                        <td id=\"T_178d7dc2_12b8_11ea_8db4_acde48001122row3_col1\" class=\"data row3 col1\" >Default series</td>\n",
       "                        <td id=\"T_178d7dc2_12b8_11ea_8db4_acde48001122row3_col2\" class=\"data row3 col2\" >4</td>\n",
       "                        <td id=\"T_178d7dc2_12b8_11ea_8db4_acde48001122row3_col3\" class=\"data row3 col3\" >#728f02</td>\n",
       "                        <td id=\"T_178d7dc2_12b8_11ea_8db4_acde48001122row3_col4\" class=\"data row3 col4\" >4</td>\n",
       "            </tr>\n",
       "            <tr>\n",
       "                        <th id=\"T_178d7dc2_12b8_11ea_8db4_acde48001122level0_row4\" class=\"row_heading level0 row4\" >4</th>\n",
       "                        <td id=\"T_178d7dc2_12b8_11ea_8db4_acde48001122row4_col0\" class=\"data row4 col0\" >Main_Fault</td>\n",
       "                        <td id=\"T_178d7dc2_12b8_11ea_8db4_acde48001122row4_col1\" class=\"data row4 col1\" >Default series</td>\n",
       "                        <td id=\"T_178d7dc2_12b8_11ea_8db4_acde48001122row4_col2\" class=\"data row4 col2\" >5</td>\n",
       "                        <td id=\"T_178d7dc2_12b8_11ea_8db4_acde48001122row4_col3\" class=\"data row4 col3\" >#443988</td>\n",
       "                        <td id=\"T_178d7dc2_12b8_11ea_8db4_acde48001122row4_col4\" class=\"data row4 col4\" >5</td>\n",
       "            </tr>\n",
       "            <tr>\n",
       "                        <th id=\"T_178d7dc2_12b8_11ea_8db4_acde48001122level0_row5\" class=\"row_heading level0 row5\" >5</th>\n",
       "                        <td id=\"T_178d7dc2_12b8_11ea_8db4_acde48001122row5_col0\" class=\"data row5 col0\" >basement</td>\n",
       "                        <td id=\"T_178d7dc2_12b8_11ea_8db4_acde48001122row5_col1\" class=\"data row5 col1\" >Basement</td>\n",
       "                        <td id=\"T_178d7dc2_12b8_11ea_8db4_acde48001122row5_col2\" class=\"data row5 col2\" >1</td>\n",
       "                        <td id=\"T_178d7dc2_12b8_11ea_8db4_acde48001122row5_col3\" class=\"data row5 col3\" >#ff3f20</td>\n",
       "                        <td id=\"T_178d7dc2_12b8_11ea_8db4_acde48001122row5_col4\" class=\"data row5 col4\" >6</td>\n",
       "            </tr>\n",
       "    </tbody></table>"
      ],
      "text/plain": [
       "       surface          series  order_surfaces    color  id\n",
       "0        Shale  Default series               1  #015482   1\n",
       "1  Sandstone_1  Default series               2  #9f0052   2\n",
       "2    Siltstone  Default series               3  #ffbe00   3\n",
       "3  Sandstone_2  Default series               4  #728f02   4\n",
       "4   Main_Fault  Default series               5  #443988   5\n",
       "5     basement        Basement               1  #ff3f20   6"
      ]
     },
     "execution_count": 8,
     "metadata": {},
     "output_type": "execute_result"
    }
   ],
   "source": [
    "geo_model.surfaces"
   ]
  },
  {
   "cell_type": "code",
   "execution_count": 9,
   "metadata": {
    "pycharm": {
     "is_executing": false
    },
    "scrolled": false
   },
   "outputs": [],
   "source": [
    "gp.map_series_to_surfaces(geo_model,\n",
    "       \n",
    "                          {\"Fault_Series\":'Main_Fault', \n",
    "                             \"Strat_Series\": ('Sandstone_2','Siltstone',\n",
    "                                              'Shale', 'Sandstone_1', 'basement')}, remove_unused_series=True);"
   ]
  },
  {
   "cell_type": "code",
   "execution_count": 44,
   "metadata": {},
   "outputs": [
    {
     "data": {
      "text/html": [
       "<style  type=\"text/css\" >\n",
       "    #T_e3d298f4_12b8_11ea_8db4_acde48001122row0_col3 {\n",
       "            background-color:  #527682;\n",
       "        }    #T_e3d298f4_12b8_11ea_8db4_acde48001122row1_col3 {\n",
       "            background-color:  #728f02;\n",
       "        }    #T_e3d298f4_12b8_11ea_8db4_acde48001122row2_col3 {\n",
       "            background-color:  #ffbe00;\n",
       "        }    #T_e3d298f4_12b8_11ea_8db4_acde48001122row3_col3 {\n",
       "            background-color:  #015482;\n",
       "        }    #T_e3d298f4_12b8_11ea_8db4_acde48001122row4_col3 {\n",
       "            background-color:  #9f0052;\n",
       "        }    #T_e3d298f4_12b8_11ea_8db4_acde48001122row5_col3 {\n",
       "            background-color:  #ff3f20;\n",
       "        }</style><table id=\"T_e3d298f4_12b8_11ea_8db4_acde48001122\" ><thead>    <tr>        <th class=\"blank level0\" ></th>        <th class=\"col_heading level0 col0\" >surface</th>        <th class=\"col_heading level0 col1\" >series</th>        <th class=\"col_heading level0 col2\" >order_surfaces</th>        <th class=\"col_heading level0 col3\" >color</th>        <th class=\"col_heading level0 col4\" >id</th>    </tr></thead><tbody>\n",
       "                <tr>\n",
       "                        <th id=\"T_e3d298f4_12b8_11ea_8db4_acde48001122level0_row0\" class=\"row_heading level0 row0\" >4</th>\n",
       "                        <td id=\"T_e3d298f4_12b8_11ea_8db4_acde48001122row0_col0\" class=\"data row0 col0\" >Main_Fault</td>\n",
       "                        <td id=\"T_e3d298f4_12b8_11ea_8db4_acde48001122row0_col1\" class=\"data row0 col1\" >Fault_Series</td>\n",
       "                        <td id=\"T_e3d298f4_12b8_11ea_8db4_acde48001122row0_col2\" class=\"data row0 col2\" >1</td>\n",
       "                        <td id=\"T_e3d298f4_12b8_11ea_8db4_acde48001122row0_col3\" class=\"data row0 col3\" >#527682</td>\n",
       "                        <td id=\"T_e3d298f4_12b8_11ea_8db4_acde48001122row0_col4\" class=\"data row0 col4\" >1</td>\n",
       "            </tr>\n",
       "            <tr>\n",
       "                        <th id=\"T_e3d298f4_12b8_11ea_8db4_acde48001122level0_row1\" class=\"row_heading level0 row1\" >3</th>\n",
       "                        <td id=\"T_e3d298f4_12b8_11ea_8db4_acde48001122row1_col0\" class=\"data row1 col0\" >Sandstone_2</td>\n",
       "                        <td id=\"T_e3d298f4_12b8_11ea_8db4_acde48001122row1_col1\" class=\"data row1 col1\" >Strat_Series</td>\n",
       "                        <td id=\"T_e3d298f4_12b8_11ea_8db4_acde48001122row1_col2\" class=\"data row1 col2\" >1</td>\n",
       "                        <td id=\"T_e3d298f4_12b8_11ea_8db4_acde48001122row1_col3\" class=\"data row1 col3\" >#728f02</td>\n",
       "                        <td id=\"T_e3d298f4_12b8_11ea_8db4_acde48001122row1_col4\" class=\"data row1 col4\" >1</td>\n",
       "            </tr>\n",
       "            <tr>\n",
       "                        <th id=\"T_e3d298f4_12b8_11ea_8db4_acde48001122level0_row2\" class=\"row_heading level0 row2\" >2</th>\n",
       "                        <td id=\"T_e3d298f4_12b8_11ea_8db4_acde48001122row2_col0\" class=\"data row2 col0\" >Siltstone</td>\n",
       "                        <td id=\"T_e3d298f4_12b8_11ea_8db4_acde48001122row2_col1\" class=\"data row2 col1\" >Strat_Series</td>\n",
       "                        <td id=\"T_e3d298f4_12b8_11ea_8db4_acde48001122row2_col2\" class=\"data row2 col2\" >2</td>\n",
       "                        <td id=\"T_e3d298f4_12b8_11ea_8db4_acde48001122row2_col3\" class=\"data row2 col3\" >#ffbe00</td>\n",
       "                        <td id=\"T_e3d298f4_12b8_11ea_8db4_acde48001122row2_col4\" class=\"data row2 col4\" >2</td>\n",
       "            </tr>\n",
       "            <tr>\n",
       "                        <th id=\"T_e3d298f4_12b8_11ea_8db4_acde48001122level0_row3\" class=\"row_heading level0 row3\" >0</th>\n",
       "                        <td id=\"T_e3d298f4_12b8_11ea_8db4_acde48001122row3_col0\" class=\"data row3 col0\" >Shale</td>\n",
       "                        <td id=\"T_e3d298f4_12b8_11ea_8db4_acde48001122row3_col1\" class=\"data row3 col1\" >Strat_Series</td>\n",
       "                        <td id=\"T_e3d298f4_12b8_11ea_8db4_acde48001122row3_col2\" class=\"data row3 col2\" >3</td>\n",
       "                        <td id=\"T_e3d298f4_12b8_11ea_8db4_acde48001122row3_col3\" class=\"data row3 col3\" >#015482</td>\n",
       "                        <td id=\"T_e3d298f4_12b8_11ea_8db4_acde48001122row3_col4\" class=\"data row3 col4\" >3</td>\n",
       "            </tr>\n",
       "            <tr>\n",
       "                        <th id=\"T_e3d298f4_12b8_11ea_8db4_acde48001122level0_row4\" class=\"row_heading level0 row4\" >1</th>\n",
       "                        <td id=\"T_e3d298f4_12b8_11ea_8db4_acde48001122row4_col0\" class=\"data row4 col0\" >Sandstone_1</td>\n",
       "                        <td id=\"T_e3d298f4_12b8_11ea_8db4_acde48001122row4_col1\" class=\"data row4 col1\" >Strat_Series</td>\n",
       "                        <td id=\"T_e3d298f4_12b8_11ea_8db4_acde48001122row4_col2\" class=\"data row4 col2\" >4</td>\n",
       "                        <td id=\"T_e3d298f4_12b8_11ea_8db4_acde48001122row4_col3\" class=\"data row4 col3\" >#9f0052</td>\n",
       "                        <td id=\"T_e3d298f4_12b8_11ea_8db4_acde48001122row4_col4\" class=\"data row4 col4\" >4</td>\n",
       "            </tr>\n",
       "            <tr>\n",
       "                        <th id=\"T_e3d298f4_12b8_11ea_8db4_acde48001122level0_row5\" class=\"row_heading level0 row5\" >5</th>\n",
       "                        <td id=\"T_e3d298f4_12b8_11ea_8db4_acde48001122row5_col0\" class=\"data row5 col0\" >basement</td>\n",
       "                        <td id=\"T_e3d298f4_12b8_11ea_8db4_acde48001122row5_col1\" class=\"data row5 col1\" >Strat_Series</td>\n",
       "                        <td id=\"T_e3d298f4_12b8_11ea_8db4_acde48001122row5_col2\" class=\"data row5 col2\" >5</td>\n",
       "                        <td id=\"T_e3d298f4_12b8_11ea_8db4_acde48001122row5_col3\" class=\"data row5 col3\" >#ff3f20</td>\n",
       "                        <td id=\"T_e3d298f4_12b8_11ea_8db4_acde48001122row5_col4\" class=\"data row5 col4\" >5</td>\n",
       "            </tr>\n",
       "    </tbody></table>"
      ],
      "text/plain": [
       "       surface        series  order_surfaces    color  id\n",
       "4   Main_Fault  Fault_Series               1  #527682   1\n",
       "3  Sandstone_2  Strat_Series               1  #728f02   1\n",
       "2    Siltstone  Strat_Series               2  #ffbe00   2\n",
       "0        Shale  Strat_Series               3  #015482   3\n",
       "1  Sandstone_1  Strat_Series               4  #9f0052   4\n",
       "5     basement  Strat_Series               5  #ff3f20   5"
      ]
     },
     "execution_count": 44,
     "metadata": {},
     "output_type": "execute_result"
    }
   ],
   "source": [
    "geo_model.surfaces"
   ]
  },
  {
   "cell_type": "code",
   "execution_count": 11,
   "metadata": {
    "pycharm": {
     "is_executing": false
    }
   },
   "outputs": [
    {
     "data": {
      "text/html": [
       "<table border=\"1\" class=\"dataframe\">\n",
       "  <thead>\n",
       "    <tr style=\"text-align: right;\">\n",
       "      <th></th>\n",
       "      <th>order_series</th>\n",
       "      <th>BottomRelation</th>\n",
       "    </tr>\n",
       "  </thead>\n",
       "  <tbody>\n",
       "    <tr>\n",
       "      <th>Fault_Series</th>\n",
       "      <td>1</td>\n",
       "      <td>Erosion</td>\n",
       "    </tr>\n",
       "    <tr>\n",
       "      <th>Strat_Series</th>\n",
       "      <td>2</td>\n",
       "      <td>Erosion</td>\n",
       "    </tr>\n",
       "  </tbody>\n",
       "</table>"
      ],
      "text/plain": [
       "              order_series BottomRelation\n",
       "Fault_Series             1        Erosion\n",
       "Strat_Series             2        Erosion"
      ]
     },
     "execution_count": 11,
     "metadata": {},
     "output_type": "execute_result"
    }
   ],
   "source": [
    "geo_model.series"
   ]
  },
  {
   "cell_type": "code",
   "execution_count": 12,
   "metadata": {
    "pycharm": {
     "is_executing": false
    }
   },
   "outputs": [
    {
     "name": "stdout",
     "output_type": "stream",
     "text": [
      "Fault colors changed. If you do not like this behavior, set change_color to False.\n"
     ]
    },
    {
     "data": {
      "text/html": [
       "<table border=\"1\" class=\"dataframe\">\n",
       "  <thead>\n",
       "    <tr style=\"text-align: right;\">\n",
       "      <th></th>\n",
       "      <th>isFault</th>\n",
       "      <th>isFinite</th>\n",
       "    </tr>\n",
       "  </thead>\n",
       "  <tbody>\n",
       "    <tr>\n",
       "      <th>Fault_Series</th>\n",
       "      <td>True</td>\n",
       "      <td>False</td>\n",
       "    </tr>\n",
       "    <tr>\n",
       "      <th>Strat_Series</th>\n",
       "      <td>False</td>\n",
       "      <td>False</td>\n",
       "    </tr>\n",
       "  </tbody>\n",
       "</table>"
      ],
      "text/plain": [
       "              isFault  isFinite\n",
       "Fault_Series     True     False\n",
       "Strat_Series    False     False"
      ]
     },
     "execution_count": 12,
     "metadata": {},
     "output_type": "execute_result"
    }
   ],
   "source": [
    "geo_model.set_is_fault(['Fault_Series'])"
   ]
  },
  {
   "cell_type": "code",
   "execution_count": 13,
   "metadata": {},
   "outputs": [
    {
     "data": {
      "text/html": [
       "<div>\n",
       "<style scoped>\n",
       "    .dataframe tbody tr th:only-of-type {\n",
       "        vertical-align: middle;\n",
       "    }\n",
       "\n",
       "    .dataframe tbody tr th {\n",
       "        vertical-align: top;\n",
       "    }\n",
       "\n",
       "    .dataframe thead th {\n",
       "        text-align: right;\n",
       "    }\n",
       "</style>\n",
       "<table border=\"1\" class=\"dataframe\">\n",
       "  <thead>\n",
       "    <tr style=\"text-align: right;\">\n",
       "      <th></th>\n",
       "      <th>Fault_Series</th>\n",
       "      <th>Strat_Series</th>\n",
       "    </tr>\n",
       "  </thead>\n",
       "  <tbody>\n",
       "    <tr>\n",
       "      <th>Fault_Series</th>\n",
       "      <td>False</td>\n",
       "      <td>True</td>\n",
       "    </tr>\n",
       "    <tr>\n",
       "      <th>Strat_Series</th>\n",
       "      <td>False</td>\n",
       "      <td>False</td>\n",
       "    </tr>\n",
       "  </tbody>\n",
       "</table>\n",
       "</div>"
      ],
      "text/plain": [
       "              Fault_Series  Strat_Series\n",
       "Fault_Series         False          True\n",
       "Strat_Series         False         False"
      ]
     },
     "execution_count": 13,
     "metadata": {},
     "output_type": "execute_result"
    }
   ],
   "source": [
    "geo_model.faults.faults_relations_df"
   ]
  },
  {
   "cell_type": "code",
   "execution_count": 43,
   "metadata": {},
   "outputs": [
    {
     "data": {
      "text/html": [
       "<table border=\"1\" class=\"dataframe\">\n",
       "  <thead>\n",
       "    <tr style=\"text-align: right;\">\n",
       "      <th></th>\n",
       "      <th>isFault</th>\n",
       "      <th>isFinite</th>\n",
       "    </tr>\n",
       "  </thead>\n",
       "  <tbody>\n",
       "    <tr>\n",
       "      <th>Fault_Series</th>\n",
       "      <td>True</td>\n",
       "      <td>False</td>\n",
       "    </tr>\n",
       "    <tr>\n",
       "      <th>Strat_Series</th>\n",
       "      <td>False</td>\n",
       "      <td>False</td>\n",
       "    </tr>\n",
       "  </tbody>\n",
       "</table>"
      ],
      "text/plain": [
       "              isFault  isFinite\n",
       "Fault_Series     True     False\n",
       "Strat_Series    False     False"
      ]
     },
     "execution_count": 43,
     "metadata": {},
     "output_type": "execute_result"
    }
   ],
   "source": [
    "geo_model.faults"
   ]
  },
  {
   "cell_type": "code",
   "execution_count": 15,
   "metadata": {
    "pycharm": {
     "is_executing": false
    }
   },
   "outputs": [
    {
     "data": {
      "text/html": [
       "<div>\n",
       "<style scoped>\n",
       "    .dataframe tbody tr th:only-of-type {\n",
       "        vertical-align: middle;\n",
       "    }\n",
       "\n",
       "    .dataframe tbody tr th {\n",
       "        vertical-align: top;\n",
       "    }\n",
       "\n",
       "    .dataframe thead th {\n",
       "        text-align: right;\n",
       "    }\n",
       "</style>\n",
       "<table border=\"1\" class=\"dataframe\">\n",
       "  <thead>\n",
       "    <tr style=\"text-align: right;\">\n",
       "      <th></th>\n",
       "      <th>Fault_Series</th>\n",
       "      <th>Strat_Series</th>\n",
       "    </tr>\n",
       "  </thead>\n",
       "  <tbody>\n",
       "    <tr>\n",
       "      <th>Fault_Series</th>\n",
       "      <td>False</td>\n",
       "      <td>True</td>\n",
       "    </tr>\n",
       "    <tr>\n",
       "      <th>Strat_Series</th>\n",
       "      <td>False</td>\n",
       "      <td>False</td>\n",
       "    </tr>\n",
       "  </tbody>\n",
       "</table>\n",
       "</div>"
      ],
      "text/plain": [
       "              Fault_Series  Strat_Series\n",
       "Fault_Series         False          True\n",
       "Strat_Series         False         False"
      ]
     },
     "execution_count": 15,
     "metadata": {},
     "output_type": "execute_result"
    }
   ],
   "source": [
    "geo_model.faults.faults_relations_df"
   ]
  },
  {
   "cell_type": "markdown",
   "metadata": {},
   "source": [
    "### Returning information from our input data\n",
    "\n",
    "Our model input data, here named \"*geo_model*\", contains all the information that is essential for the construction of our model. You can access different types of information by using `gp.get_data` or simply by accessiong the atrribues.\n",
    "\n",
    "We can, for example, return the coordinates of our modeling grid via:"
   ]
  },
  {
   "cell_type": "code",
   "execution_count": 16,
   "metadata": {
    "pycharm": {
     "is_executing": false
    }
   },
   "outputs": [
    {
     "data": {
      "text/plain": [
       "array([[  20.,   20.,   20.],\n",
       "       [  20.,   20.,   60.],\n",
       "       [  20.,   20.,  100.],\n",
       "       ...,\n",
       "       [1980., 1980., 1900.],\n",
       "       [1980., 1980., 1940.],\n",
       "       [1980., 1980., 1980.]])"
      ]
     },
     "execution_count": 16,
     "metadata": {},
     "output_type": "execute_result"
    }
   ],
   "source": [
    "geo_model.grid.values"
   ]
  },
  {
   "cell_type": "markdown",
   "metadata": {},
   "source": [
    "As mentioned before, GemPy's core algorithm is based on interpolation of two types of data:\n",
    "- surface_points\n",
    "and\n",
    "- orientation measurements\n",
    "\n",
    "(if you want to know more on how this this interpolation algorithm works, checkout our chapter on the theory behind GemPy).\n",
    "\n",
    "We introduced the function *get_data* above. You can also specify which kind of data you want to call, by declaring the string attribute \"*dtype*\" to be either \"interfaces\" (surface points) or \"foliations\" (orientation measurements). \n",
    "\n",
    "#### Interfaces Dataframe:"
   ]
  },
  {
   "cell_type": "code",
   "execution_count": 17,
   "metadata": {
    "pycharm": {
     "is_executing": false
    },
    "scrolled": false
   },
   "outputs": [
    {
     "data": {
      "text/html": [
       "<div>\n",
       "<style scoped>\n",
       "    .dataframe tbody tr th:only-of-type {\n",
       "        vertical-align: middle;\n",
       "    }\n",
       "\n",
       "    .dataframe tbody tr th {\n",
       "        vertical-align: top;\n",
       "    }\n",
       "\n",
       "    .dataframe thead th {\n",
       "        text-align: right;\n",
       "    }\n",
       "</style>\n",
       "<table border=\"1\" class=\"dataframe\">\n",
       "  <thead>\n",
       "    <tr style=\"text-align: right;\">\n",
       "      <th></th>\n",
       "      <th>X</th>\n",
       "      <th>Y</th>\n",
       "      <th>Z</th>\n",
       "      <th>X_r</th>\n",
       "      <th>Y_r</th>\n",
       "      <th>Z_r</th>\n",
       "      <th>surface</th>\n",
       "      <th>series</th>\n",
       "      <th>id</th>\n",
       "      <th>order_series</th>\n",
       "      <th>smooth</th>\n",
       "    </tr>\n",
       "  </thead>\n",
       "  <tbody>\n",
       "    <tr>\n",
       "      <th>52</th>\n",
       "      <td>700</td>\n",
       "      <td>1000</td>\n",
       "      <td>900</td>\n",
       "      <td>0.460626</td>\n",
       "      <td>0.5001</td>\n",
       "      <td>0.500100</td>\n",
       "      <td>Main_Fault</td>\n",
       "      <td>Fault_Series</td>\n",
       "      <td>1</td>\n",
       "      <td>1</td>\n",
       "      <td>0.000001</td>\n",
       "    </tr>\n",
       "    <tr>\n",
       "      <th>53</th>\n",
       "      <td>600</td>\n",
       "      <td>1000</td>\n",
       "      <td>600</td>\n",
       "      <td>0.434311</td>\n",
       "      <td>0.5001</td>\n",
       "      <td>0.421153</td>\n",
       "      <td>Main_Fault</td>\n",
       "      <td>Fault_Series</td>\n",
       "      <td>1</td>\n",
       "      <td>1</td>\n",
       "      <td>0.000001</td>\n",
       "    </tr>\n",
       "    <tr>\n",
       "      <th>54</th>\n",
       "      <td>500</td>\n",
       "      <td>1000</td>\n",
       "      <td>300</td>\n",
       "      <td>0.407995</td>\n",
       "      <td>0.5001</td>\n",
       "      <td>0.342205</td>\n",
       "      <td>Main_Fault</td>\n",
       "      <td>Fault_Series</td>\n",
       "      <td>1</td>\n",
       "      <td>1</td>\n",
       "      <td>0.000001</td>\n",
       "    </tr>\n",
       "    <tr>\n",
       "      <th>55</th>\n",
       "      <td>800</td>\n",
       "      <td>1000</td>\n",
       "      <td>1200</td>\n",
       "      <td>0.486942</td>\n",
       "      <td>0.5001</td>\n",
       "      <td>0.579047</td>\n",
       "      <td>Main_Fault</td>\n",
       "      <td>Fault_Series</td>\n",
       "      <td>1</td>\n",
       "      <td>1</td>\n",
       "      <td>0.000001</td>\n",
       "    </tr>\n",
       "    <tr>\n",
       "      <th>56</th>\n",
       "      <td>900</td>\n",
       "      <td>1000</td>\n",
       "      <td>1500</td>\n",
       "      <td>0.513258</td>\n",
       "      <td>0.5001</td>\n",
       "      <td>0.657995</td>\n",
       "      <td>Main_Fault</td>\n",
       "      <td>Fault_Series</td>\n",
       "      <td>1</td>\n",
       "      <td>1</td>\n",
       "      <td>0.000001</td>\n",
       "    </tr>\n",
       "  </tbody>\n",
       "</table>\n",
       "</div>"
      ],
      "text/plain": [
       "      X     Y     Z       X_r     Y_r       Z_r     surface        series  id  \\\n",
       "52  700  1000   900  0.460626  0.5001  0.500100  Main_Fault  Fault_Series   1   \n",
       "53  600  1000   600  0.434311  0.5001  0.421153  Main_Fault  Fault_Series   1   \n",
       "54  500  1000   300  0.407995  0.5001  0.342205  Main_Fault  Fault_Series   1   \n",
       "55  800  1000  1200  0.486942  0.5001  0.579047  Main_Fault  Fault_Series   1   \n",
       "56  900  1000  1500  0.513258  0.5001  0.657995  Main_Fault  Fault_Series   1   \n",
       "\n",
       "    order_series    smooth  \n",
       "52             1  0.000001  \n",
       "53             1  0.000001  \n",
       "54             1  0.000001  \n",
       "55             1  0.000001  \n",
       "56             1  0.000001  "
      ]
     },
     "execution_count": 17,
     "metadata": {},
     "output_type": "execute_result"
    }
   ],
   "source": [
    "gp.get_data(geo_model, 'surface_points').head()"
   ]
  },
  {
   "cell_type": "markdown",
   "metadata": {},
   "source": [
    "#### Orientations Dataframe:"
   ]
  },
  {
   "cell_type": "code",
   "execution_count": 18,
   "metadata": {
    "pycharm": {
     "is_executing": false
    },
    "scrolled": true
   },
   "outputs": [
    {
     "data": {
      "text/html": [
       "<div>\n",
       "<style scoped>\n",
       "    .dataframe tbody tr th:only-of-type {\n",
       "        vertical-align: middle;\n",
       "    }\n",
       "\n",
       "    .dataframe tbody tr th {\n",
       "        vertical-align: top;\n",
       "    }\n",
       "\n",
       "    .dataframe thead th {\n",
       "        text-align: right;\n",
       "    }\n",
       "</style>\n",
       "<table border=\"1\" class=\"dataframe\">\n",
       "  <thead>\n",
       "    <tr style=\"text-align: right;\">\n",
       "      <th></th>\n",
       "      <th>X</th>\n",
       "      <th>Y</th>\n",
       "      <th>Z</th>\n",
       "      <th>X_r</th>\n",
       "      <th>Y_r</th>\n",
       "      <th>Z_r</th>\n",
       "      <th>G_x</th>\n",
       "      <th>G_y</th>\n",
       "      <th>G_z</th>\n",
       "      <th>dip</th>\n",
       "      <th>azimuth</th>\n",
       "      <th>polarity</th>\n",
       "      <th>surface</th>\n",
       "      <th>series</th>\n",
       "      <th>id</th>\n",
       "      <th>order_series</th>\n",
       "      <th>smooth</th>\n",
       "    </tr>\n",
       "  </thead>\n",
       "  <tbody>\n",
       "    <tr>\n",
       "      <th>2</th>\n",
       "      <td>500</td>\n",
       "      <td>1000</td>\n",
       "      <td>864.602</td>\n",
       "      <td>0.407995</td>\n",
       "      <td>0.5001</td>\n",
       "      <td>0.490785</td>\n",
       "      <td>-0.948683</td>\n",
       "      <td>9.998257e-13</td>\n",
       "      <td>0.316229</td>\n",
       "      <td>71.565</td>\n",
       "      <td>270.0</td>\n",
       "      <td>1.0</td>\n",
       "      <td>Main_Fault</td>\n",
       "      <td>Fault_Series</td>\n",
       "      <td>1</td>\n",
       "      <td>1</td>\n",
       "      <td>0.01</td>\n",
       "    </tr>\n",
       "    <tr>\n",
       "      <th>0</th>\n",
       "      <td>1000</td>\n",
       "      <td>1000</td>\n",
       "      <td>950.000</td>\n",
       "      <td>0.539574</td>\n",
       "      <td>0.5001</td>\n",
       "      <td>0.513258</td>\n",
       "      <td>0.316229</td>\n",
       "      <td>1.000019e-12</td>\n",
       "      <td>0.948683</td>\n",
       "      <td>18.435</td>\n",
       "      <td>90.0</td>\n",
       "      <td>1.0</td>\n",
       "      <td>Shale</td>\n",
       "      <td>Strat_Series</td>\n",
       "      <td>2</td>\n",
       "      <td>2</td>\n",
       "      <td>0.01</td>\n",
       "    </tr>\n",
       "    <tr>\n",
       "      <th>1</th>\n",
       "      <td>400</td>\n",
       "      <td>1000</td>\n",
       "      <td>1400.000</td>\n",
       "      <td>0.381679</td>\n",
       "      <td>0.5001</td>\n",
       "      <td>0.631679</td>\n",
       "      <td>0.316229</td>\n",
       "      <td>1.000019e-12</td>\n",
       "      <td>0.948683</td>\n",
       "      <td>18.435</td>\n",
       "      <td>90.0</td>\n",
       "      <td>1.0</td>\n",
       "      <td>Sandstone_2</td>\n",
       "      <td>Strat_Series</td>\n",
       "      <td>5</td>\n",
       "      <td>2</td>\n",
       "      <td>0.01</td>\n",
       "    </tr>\n",
       "  </tbody>\n",
       "</table>\n",
       "</div>"
      ],
      "text/plain": [
       "      X     Y         Z       X_r     Y_r       Z_r       G_x           G_y  \\\n",
       "2   500  1000   864.602  0.407995  0.5001  0.490785 -0.948683  9.998257e-13   \n",
       "0  1000  1000   950.000  0.539574  0.5001  0.513258  0.316229  1.000019e-12   \n",
       "1   400  1000  1400.000  0.381679  0.5001  0.631679  0.316229  1.000019e-12   \n",
       "\n",
       "        G_z     dip  azimuth  polarity      surface        series  id  \\\n",
       "2  0.316229  71.565    270.0       1.0   Main_Fault  Fault_Series   1   \n",
       "0  0.948683  18.435     90.0       1.0        Shale  Strat_Series   2   \n",
       "1  0.948683  18.435     90.0       1.0  Sandstone_2  Strat_Series   5   \n",
       "\n",
       "   order_series  smooth  \n",
       "2             1    0.01  \n",
       "0             2    0.01  \n",
       "1             2    0.01  "
      ]
     },
     "execution_count": 18,
     "metadata": {},
     "output_type": "execute_result"
    }
   ],
   "source": [
    "gp.get_data(geo_model, 'orientations')"
   ]
  },
  {
   "cell_type": "markdown",
   "metadata": {},
   "source": [
    "Notice that now all **surfaces** have been assigned to a **series** and are displayed in the correct order (from young to old).\n",
    "\n",
    "### Visualizing input data\n",
    "\n",
    "We can also visualize our input data. This might for example be useful to check if all points and measurements are defined the way we want them to. Using the function *plot_data*, we attain a 2D projection of our data points onto a plane of chosen *direction* (we can choose this attribute to be either $x$, $y$ or $z$). "
   ]
  },
  {
   "cell_type": "code",
   "execution_count": 19,
   "metadata": {
    "pycharm": {
     "is_executing": false
    },
    "slideshow": {
     "slide_type": "slide"
    }
   },
   "outputs": [
    {
     "data": {
      "image/png": "[encoded data removed]",
      "text/plain": [
       "<Figure size 432x432 with 1 Axes>"
      ]
     },
     "metadata": {
      "needs_background": "light"
     },
     "output_type": "display_data"
    }
   ],
   "source": [
    "%matplotlib inline\n",
    "gp.plot.plot_data(geo_model, direction='y');"
   ]
  },
  {
   "cell_type": "markdown",
   "metadata": {},
   "source": [
    "Using *plot_data_3D*, we can also visualize this data in 3D. Note that direct 3D visualization in GemPy requires [the Visualization Toolkit](https://www.vtk.org/) (VTK) to be installed.\n",
    "\n",
    "All 3D VTK plots in GemPy are interactive. This means that we can drag and drop any data poit and measurement. The perpendicular axis views in VTK are particularly useful to move points solely on a desired 2D plane. Any changes will then be stored permanently in the \"InputData\" dataframe. If we want to reset our data points, we will then need to reload our original input data.\n",
    "\n",
    "Executing the cell below will open a new window with a 3D interactive plot of our data."
   ]
  },
  {
   "cell_type": "code",
   "execution_count": 20,
   "metadata": {
    "pycharm": {
     "is_executing": false
    },
    "slideshow": {
     "slide_type": "subslide"
    },
    "tags": [
     "nbval-skip"
    ]
   },
   "outputs": [
    {
     "name": "stdout",
     "output_type": "stream",
     "text": [
      "closing vtk\n"
     ]
    }
   ],
   "source": [
    "gp.plot.plot_3D(geo_model);"
   ]
  },
  {
   "cell_type": "markdown",
   "metadata": {},
   "source": [
    "### Model generation\n",
    "\n",
    "Once we have made sure that we have defined all our primary information as desired in our object `DataManagement.InputData` (named `geo_data` in these tutorials), we can continue with the next step towards creating our geological model: preparing the input data for interpolation.\n",
    "\n",
    "This is done by generating an `InterpolatorData` object (named `interp_data` in these tutorials) from our `InputData` object via the following function:"
   ]
  },
  {
   "cell_type": "code",
   "execution_count": 21,
   "metadata": {
    "pycharm": {
     "is_executing": false
    },
    "scrolled": true
   },
   "outputs": [
    {
     "name": "stdout",
     "output_type": "stream",
     "text": [
      "Compiling theano function...\n",
      "Level of Optimization:  fast_run\n",
      "Device:  cpu\n",
      "Precision:  float64\n",
      "Number of faults:  1\n",
      "Compilation Done!\n"
     ]
    },
    {
     "data": {
      "text/plain": [
       "<gempy.core.interpolator.InterpolatorModel at 0x7f91913d1c18>"
      ]
     },
     "execution_count": 21,
     "metadata": {},
     "output_type": "execute_result"
    }
   ],
   "source": [
    "gp.set_interpolation_data(geo_model,\n",
    "                          compile_theano=True,\n",
    "                          theano_optimizer='fast_run',\n",
    "                          verbose=[])\n"
   ]
  },
  {
   "cell_type": "markdown",
   "metadata": {},
   "source": [
    "This function rescales the extent and coordinates of the original data (and store it in the attribute `geo_data_res` which behaves as a usual `InputData` object) and adds mathematical parameters that are needed for conducting the interpolation. The computation of this step may take a while, as it also compiles a theano function which is required for the model computation. However, should this not be needed, we can skip it by declaring `compile_theano = False` in the function.\n",
    "\n",
    "Furthermore, this preparation process includes an assignment of numbers to each formation. Note that GemPy's always creates a default basement formation as the last formation number. Afterwards, numbers are allocated from youngest to oldest as defined by the sequence of series and formations. On the property `formations` on our interpolation data, we can find out which number has been assigned to which formation:"
   ]
  },
  {
   "cell_type": "markdown",
   "metadata": {},
   "source": [
    "The parameters used for the interpolation can be returned using the function `get_kriging_parameters`. These are generated automatically from the orginal data, but can be changed if needed. However, users should be careful doing so, if they do not fully understand their significance."
   ]
  },
  {
   "cell_type": "code",
   "execution_count": 22,
   "metadata": {
    "pycharm": {
     "is_executing": false
    }
   },
   "outputs": [
    {
     "data": {
      "text/html": [
       "<table border=\"1\" class=\"dataframe\">\n",
       "  <thead>\n",
       "    <tr style=\"text-align: right;\">\n",
       "      <th></th>\n",
       "      <th>values</th>\n",
       "    </tr>\n",
       "  </thead>\n",
       "  <tbody>\n",
       "    <tr>\n",
       "      <th>range</th>\n",
       "      <td>3464.1</td>\n",
       "    </tr>\n",
       "    <tr>\n",
       "      <th>$C_o$</th>\n",
       "      <td>285714</td>\n",
       "    </tr>\n",
       "    <tr>\n",
       "      <th>drift equations</th>\n",
       "      <td>[3, 3]</td>\n",
       "    </tr>\n",
       "    <tr>\n",
       "      <th>nugget grad</th>\n",
       "      <td>0.01</td>\n",
       "    </tr>\n",
       "    <tr>\n",
       "      <th>nugget scalar</th>\n",
       "      <td>1e-06</td>\n",
       "    </tr>\n",
       "  </tbody>\n",
       "</table>"
      ],
      "text/plain": [
       "                 values\n",
       "range            3464.1\n",
       "$C_o$            285714\n",
       "drift equations  [3, 3]\n",
       "nugget grad        0.01\n",
       "nugget scalar     1e-06"
      ]
     },
     "execution_count": 22,
     "metadata": {},
     "output_type": "execute_result"
    }
   ],
   "source": [
    "gp.get_data(geo_model, 'kriging')"
   ]
  },
  {
   "cell_type": "markdown",
   "metadata": {},
   "source": [
    "At this point, we have all we need to compute our full model via `compute_model`. By default, this will return two separate solutions in the form of arrays. The first gives information on the lithological formations, the second on the fault network in the model. These arrays consist of two subarrays as entries each:\n",
    "\n",
    "1. Lithology block model solution:\n",
    "    + Entry [0]: This array shows what kind of lithological formation is found in each voxel, as indicated by a respective formation_number.\n",
    "    + Entry [1]: Potential field array that represents the orientation of lithological units and layers in the block model.\n",
    "2. Fault network block model solution:\n",
    "    + Entry [0]: Array in which all fault-separated areas of the model are represented by a distinct number contained in each voxel.\n",
    "    + Entry [1}: Potential field array related to the fault network in the block model.\n",
    "    \n",
    "Below, we illustrate these different model solutions and how they can be used."
   ]
  },
  {
   "cell_type": "code",
   "execution_count": 23,
   "metadata": {
    "pycharm": {
     "is_executing": false
    }
   },
   "outputs": [
    {
     "data": {
      "text/html": [
       "<table border=\"1\" class=\"dataframe\">\n",
       "  <thead>\n",
       "    <tr style=\"text-align: right;\">\n",
       "      <th></th>\n",
       "      <th>values</th>\n",
       "    </tr>\n",
       "  </thead>\n",
       "  <tbody>\n",
       "    <tr>\n",
       "      <th>isLith</th>\n",
       "      <td>True</td>\n",
       "    </tr>\n",
       "    <tr>\n",
       "      <th>isFault</th>\n",
       "      <td>True</td>\n",
       "    </tr>\n",
       "    <tr>\n",
       "      <th>number faults</th>\n",
       "      <td>1</td>\n",
       "    </tr>\n",
       "    <tr>\n",
       "      <th>number surfaces</th>\n",
       "      <td>5</td>\n",
       "    </tr>\n",
       "    <tr>\n",
       "      <th>number series</th>\n",
       "      <td>2</td>\n",
       "    </tr>\n",
       "    <tr>\n",
       "      <th>number surfaces per series</th>\n",
       "      <td>[1, 4]</td>\n",
       "    </tr>\n",
       "    <tr>\n",
       "      <th>len surfaces surface_points</th>\n",
       "      <td>[5, 16, 15, 13, 8]</td>\n",
       "    </tr>\n",
       "    <tr>\n",
       "      <th>len series surface_points</th>\n",
       "      <td>[5, 52]</td>\n",
       "    </tr>\n",
       "    <tr>\n",
       "      <th>len series orientations</th>\n",
       "      <td>[1, 2]</td>\n",
       "    </tr>\n",
       "  </tbody>\n",
       "</table>"
      ],
      "text/plain": [
       "                                         values\n",
       "isLith                                     True\n",
       "isFault                                    True\n",
       "number faults                                 1\n",
       "number surfaces                               5\n",
       "number series                                 2\n",
       "number surfaces per series               [1, 4]\n",
       "len surfaces surface_points  [5, 16, 15, 13, 8]\n",
       "len series surface_points               [5, 52]\n",
       "len series orientations                  [1, 2]"
      ]
     },
     "execution_count": 23,
     "metadata": {},
     "output_type": "execute_result"
    }
   ],
   "source": [
    "geo_model.additional_data.structure_data"
   ]
  },
  {
   "cell_type": "code",
   "execution_count": 45,
   "metadata": {
    "pycharm": {
     "is_executing": false
    },
    "scrolled": false
   },
   "outputs": [],
   "source": [
    "sol = gp.compute_model(geo_model, compute_mesh=True)"
   ]
  },
  {
   "cell_type": "code",
   "execution_count": 25,
   "metadata": {
    "tags": [
     "nbval-check-output"
    ]
   },
   "outputs": [
    {
     "data": {
      "text/plain": [
       "\n",
       "Lithology ids \n",
       "  [6. 6. 6. ... 2. 2. 2.] "
      ]
     },
     "execution_count": 25,
     "metadata": {},
     "output_type": "execute_result"
    }
   ],
   "source": [
    "sol"
   ]
  },
  {
   "cell_type": "code",
   "execution_count": 26,
   "metadata": {},
   "outputs": [
    {
     "data": {
      "text/plain": [
       "\n",
       "Lithology ids \n",
       "  [6. 6. 6. ... 2. 2. 2.] "
      ]
     },
     "execution_count": 26,
     "metadata": {},
     "output_type": "execute_result"
    }
   ],
   "source": [
    "geo_model.solutions"
   ]
  },
  {
   "cell_type": "markdown",
   "metadata": {},
   "source": [
    "### Direct model visualization in GemPy\n",
    "\n",
    "Model solutions can be easily visualized in 2D sections in GemPy directly. Let's take a look at our lithology block:"
   ]
  },
  {
   "cell_type": "code",
   "execution_count": 27,
   "metadata": {},
   "outputs": [
    {
     "data": {
      "text/plain": [
       "\n",
       "Lithology ids \n",
       "  [5. 5. 5. ... 1. 1. 1.] "
      ]
     },
     "execution_count": 27,
     "metadata": {},
     "output_type": "execute_result"
    }
   ],
   "source": [
    "gp.compute_model(geo_model)"
   ]
  },
  {
   "cell_type": "code",
   "execution_count": 48,
   "metadata": {},
   "outputs": [
    {
     "data": {
      "text/html": [
       "<table border=\"1\" class=\"dataframe\">\n",
       "  <thead>\n",
       "    <tr style=\"text-align: right;\">\n",
       "      <th></th>\n",
       "      <th></th>\n",
       "      <th>values</th>\n",
       "    </tr>\n",
       "  </thead>\n",
       "  <tbody>\n",
       "    <tr>\n",
       "      <th rowspan=\"9\" valign=\"top\">Structure</th>\n",
       "      <th>isLith</th>\n",
       "      <td>True</td>\n",
       "    </tr>\n",
       "    <tr>\n",
       "      <th>isFault</th>\n",
       "      <td>True</td>\n",
       "    </tr>\n",
       "    <tr>\n",
       "      <th>number faults</th>\n",
       "      <td>1</td>\n",
       "    </tr>\n",
       "    <tr>\n",
       "      <th>number surfaces</th>\n",
       "      <td>5</td>\n",
       "    </tr>\n",
       "    <tr>\n",
       "      <th>number series</th>\n",
       "      <td>2</td>\n",
       "    </tr>\n",
       "    <tr>\n",
       "      <th>number surfaces per series</th>\n",
       "      <td>[1, 4]</td>\n",
       "    </tr>\n",
       "    <tr>\n",
       "      <th>len surfaces surface_points</th>\n",
       "      <td>[5, 16, 15, 13, 8]</td>\n",
       "    </tr>\n",
       "    <tr>\n",
       "      <th>len series surface_points</th>\n",
       "      <td>[5, 52]</td>\n",
       "    </tr>\n",
       "    <tr>\n",
       "      <th>len series orientations</th>\n",
       "      <td>[1, 2]</td>\n",
       "    </tr>\n",
       "    <tr>\n",
       "      <th rowspan=\"5\" valign=\"top\">Options</th>\n",
       "      <th>dtype</th>\n",
       "      <td>float64</td>\n",
       "    </tr>\n",
       "    <tr>\n",
       "      <th>output</th>\n",
       "      <td>geology</td>\n",
       "    </tr>\n",
       "    <tr>\n",
       "      <th>theano_optimizer</th>\n",
       "      <td>fast_run</td>\n",
       "    </tr>\n",
       "    <tr>\n",
       "      <th>device</th>\n",
       "      <td>cpu</td>\n",
       "    </tr>\n",
       "    <tr>\n",
       "      <th>verbosity</th>\n",
       "      <td>[]</td>\n",
       "    </tr>\n",
       "    <tr>\n",
       "      <th rowspan=\"5\" valign=\"top\">Kriging</th>\n",
       "      <th>range</th>\n",
       "      <td>3464.1</td>\n",
       "    </tr>\n",
       "    <tr>\n",
       "      <th>$C_o$</th>\n",
       "      <td>285714</td>\n",
       "    </tr>\n",
       "    <tr>\n",
       "      <th>drift equations</th>\n",
       "      <td>[3, 3]</td>\n",
       "    </tr>\n",
       "    <tr>\n",
       "      <th>nugget grad</th>\n",
       "      <td>0.01</td>\n",
       "    </tr>\n",
       "    <tr>\n",
       "      <th>nugget scalar</th>\n",
       "      <td>1e-06</td>\n",
       "    </tr>\n",
       "    <tr>\n",
       "      <th rowspan=\"2\" valign=\"top\">Rescaling</th>\n",
       "      <th>rescaling factor</th>\n",
       "      <td>3800</td>\n",
       "    </tr>\n",
       "    <tr>\n",
       "      <th>centers</th>\n",
       "      <td>[850.0, 1000.0, 900.0]</td>\n",
       "    </tr>\n",
       "  </tbody>\n",
       "</table>"
      ],
      "text/plain": [
       "                                                       values\n",
       "Structure isLith                                         True\n",
       "          isFault                                        True\n",
       "          number faults                                     1\n",
       "          number surfaces                                   5\n",
       "          number series                                     2\n",
       "          number surfaces per series                   [1, 4]\n",
       "          len surfaces surface_points      [5, 16, 15, 13, 8]\n",
       "          len series surface_points                   [5, 52]\n",
       "          len series orientations                      [1, 2]\n",
       "Options   dtype                                       float64\n",
       "          output                                      geology\n",
       "          theano_optimizer                           fast_run\n",
       "          device                                          cpu\n",
       "          verbosity                                        []\n",
       "Kriging   range                                        3464.1\n",
       "          $C_o$                                        285714\n",
       "          drift equations                              [3, 3]\n",
       "          nugget grad                                    0.01\n",
       "          nugget scalar                                 1e-06\n",
       "Rescaling rescaling factor                               3800\n",
       "          centers                      [850.0, 1000.0, 900.0]"
      ]
     },
     "execution_count": 48,
     "metadata": {},
     "output_type": "execute_result"
    }
   ],
   "source": [
    "geo_model.additional_data"
   ]
  },
  {
   "cell_type": "code",
   "execution_count": 28,
   "metadata": {},
   "outputs": [
    {
     "data": {
      "text/plain": [
       "array([5., 5., 5., ..., 1., 1., 1.])"
      ]
     },
     "execution_count": 28,
     "metadata": {},
     "output_type": "execute_result"
    }
   ],
   "source": [
    "geo_model.solutions.lith_block"
   ]
  },
  {
   "cell_type": "code",
   "execution_count": 29,
   "metadata": {},
   "outputs": [
    {
     "data": {
      "text/plain": [
       "array([[  20.,   20.,   20.],\n",
       "       [  20.,   20.,   60.],\n",
       "       [  20.,   20.,  100.],\n",
       "       ...,\n",
       "       [1980., 1980., 1900.],\n",
       "       [1980., 1980., 1940.],\n",
       "       [1980., 1980., 1980.]])"
      ]
     },
     "execution_count": 29,
     "metadata": {},
     "output_type": "execute_result"
    }
   ],
   "source": [
    "geo_model.grid.values"
   ]
  },
  {
   "cell_type": "code",
   "execution_count": 46,
   "metadata": {
    "pycharm": {
     "is_executing": false
    },
    "slideshow": {
     "slide_type": "subslide"
    }
   },
   "outputs": [
    {
     "data": {
      "text/plain": [
       "<gempy.plot.visualization_2d.PlotSolution at 0x7f91913d14e0>"
      ]
     },
     "execution_count": 46,
     "metadata": {},
     "output_type": "execute_result"
    },
    {
     "data": {
      "image/png": "[encoded data removed]",
      "text/plain": [
       "<Figure size 432x432 with 1 Axes>"
      ]
     },
     "metadata": {
      "needs_background": "light"
     },
     "output_type": "display_data"
    }
   ],
   "source": [
    "%matplotlib inline\n",
    "gp.plot.plot_section(geo_model, cell_number=25,\n",
    "                     direction='y', show_data=True)"
   ]
  },
  {
   "cell_type": "code",
   "execution_count": 31,
   "metadata": {
    "pycharm": {
     "is_executing": false
    }
   },
   "outputs": [
    {
     "data": {
      "text/html": [
       "<style  type=\"text/css\" >\n",
       "    #T_289a41d6_12b8_11ea_8db4_acde48001122row0_col3 {\n",
       "            background-color:  #527682;\n",
       "        }    #T_289a41d6_12b8_11ea_8db4_acde48001122row1_col3 {\n",
       "            background-color:  #728f02;\n",
       "        }    #T_289a41d6_12b8_11ea_8db4_acde48001122row2_col3 {\n",
       "            background-color:  #ffbe00;\n",
       "        }    #T_289a41d6_12b8_11ea_8db4_acde48001122row3_col3 {\n",
       "            background-color:  #015482;\n",
       "        }    #T_289a41d6_12b8_11ea_8db4_acde48001122row4_col3 {\n",
       "            background-color:  #9f0052;\n",
       "        }    #T_289a41d6_12b8_11ea_8db4_acde48001122row5_col3 {\n",
       "            background-color:  #ff3f20;\n",
       "        }</style><table id=\"T_289a41d6_12b8_11ea_8db4_acde48001122\" ><thead>    <tr>        <th class=\"blank level0\" ></th>        <th class=\"col_heading level0 col0\" >surface</th>        <th class=\"col_heading level0 col1\" >series</th>        <th class=\"col_heading level0 col2\" >order_surfaces</th>        <th class=\"col_heading level0 col3\" >color</th>        <th class=\"col_heading level0 col4\" >id</th>    </tr></thead><tbody>\n",
       "                <tr>\n",
       "                        <th id=\"T_289a41d6_12b8_11ea_8db4_acde48001122level0_row0\" class=\"row_heading level0 row0\" >4</th>\n",
       "                        <td id=\"T_289a41d6_12b8_11ea_8db4_acde48001122row0_col0\" class=\"data row0 col0\" >Main_Fault</td>\n",
       "                        <td id=\"T_289a41d6_12b8_11ea_8db4_acde48001122row0_col1\" class=\"data row0 col1\" >Fault_Series</td>\n",
       "                        <td id=\"T_289a41d6_12b8_11ea_8db4_acde48001122row0_col2\" class=\"data row0 col2\" >1</td>\n",
       "                        <td id=\"T_289a41d6_12b8_11ea_8db4_acde48001122row0_col3\" class=\"data row0 col3\" >#527682</td>\n",
       "                        <td id=\"T_289a41d6_12b8_11ea_8db4_acde48001122row0_col4\" class=\"data row0 col4\" >1</td>\n",
       "            </tr>\n",
       "            <tr>\n",
       "                        <th id=\"T_289a41d6_12b8_11ea_8db4_acde48001122level0_row1\" class=\"row_heading level0 row1\" >3</th>\n",
       "                        <td id=\"T_289a41d6_12b8_11ea_8db4_acde48001122row1_col0\" class=\"data row1 col0\" >Sandstone_2</td>\n",
       "                        <td id=\"T_289a41d6_12b8_11ea_8db4_acde48001122row1_col1\" class=\"data row1 col1\" >Strat_Series</td>\n",
       "                        <td id=\"T_289a41d6_12b8_11ea_8db4_acde48001122row1_col2\" class=\"data row1 col2\" >1</td>\n",
       "                        <td id=\"T_289a41d6_12b8_11ea_8db4_acde48001122row1_col3\" class=\"data row1 col3\" >#728f02</td>\n",
       "                        <td id=\"T_289a41d6_12b8_11ea_8db4_acde48001122row1_col4\" class=\"data row1 col4\" >1</td>\n",
       "            </tr>\n",
       "            <tr>\n",
       "                        <th id=\"T_289a41d6_12b8_11ea_8db4_acde48001122level0_row2\" class=\"row_heading level0 row2\" >2</th>\n",
       "                        <td id=\"T_289a41d6_12b8_11ea_8db4_acde48001122row2_col0\" class=\"data row2 col0\" >Siltstone</td>\n",
       "                        <td id=\"T_289a41d6_12b8_11ea_8db4_acde48001122row2_col1\" class=\"data row2 col1\" >Strat_Series</td>\n",
       "                        <td id=\"T_289a41d6_12b8_11ea_8db4_acde48001122row2_col2\" class=\"data row2 col2\" >2</td>\n",
       "                        <td id=\"T_289a41d6_12b8_11ea_8db4_acde48001122row2_col3\" class=\"data row2 col3\" >#ffbe00</td>\n",
       "                        <td id=\"T_289a41d6_12b8_11ea_8db4_acde48001122row2_col4\" class=\"data row2 col4\" >2</td>\n",
       "            </tr>\n",
       "            <tr>\n",
       "                        <th id=\"T_289a41d6_12b8_11ea_8db4_acde48001122level0_row3\" class=\"row_heading level0 row3\" >0</th>\n",
       "                        <td id=\"T_289a41d6_12b8_11ea_8db4_acde48001122row3_col0\" class=\"data row3 col0\" >Shale</td>\n",
       "                        <td id=\"T_289a41d6_12b8_11ea_8db4_acde48001122row3_col1\" class=\"data row3 col1\" >Strat_Series</td>\n",
       "                        <td id=\"T_289a41d6_12b8_11ea_8db4_acde48001122row3_col2\" class=\"data row3 col2\" >3</td>\n",
       "                        <td id=\"T_289a41d6_12b8_11ea_8db4_acde48001122row3_col3\" class=\"data row3 col3\" >#015482</td>\n",
       "                        <td id=\"T_289a41d6_12b8_11ea_8db4_acde48001122row3_col4\" class=\"data row3 col4\" >3</td>\n",
       "            </tr>\n",
       "            <tr>\n",
       "                        <th id=\"T_289a41d6_12b8_11ea_8db4_acde48001122level0_row4\" class=\"row_heading level0 row4\" >1</th>\n",
       "                        <td id=\"T_289a41d6_12b8_11ea_8db4_acde48001122row4_col0\" class=\"data row4 col0\" >Sandstone_1</td>\n",
       "                        <td id=\"T_289a41d6_12b8_11ea_8db4_acde48001122row4_col1\" class=\"data row4 col1\" >Strat_Series</td>\n",
       "                        <td id=\"T_289a41d6_12b8_11ea_8db4_acde48001122row4_col2\" class=\"data row4 col2\" >4</td>\n",
       "                        <td id=\"T_289a41d6_12b8_11ea_8db4_acde48001122row4_col3\" class=\"data row4 col3\" >#9f0052</td>\n",
       "                        <td id=\"T_289a41d6_12b8_11ea_8db4_acde48001122row4_col4\" class=\"data row4 col4\" >4</td>\n",
       "            </tr>\n",
       "            <tr>\n",
       "                        <th id=\"T_289a41d6_12b8_11ea_8db4_acde48001122level0_row5\" class=\"row_heading level0 row5\" >5</th>\n",
       "                        <td id=\"T_289a41d6_12b8_11ea_8db4_acde48001122row5_col0\" class=\"data row5 col0\" >basement</td>\n",
       "                        <td id=\"T_289a41d6_12b8_11ea_8db4_acde48001122row5_col1\" class=\"data row5 col1\" >Strat_Series</td>\n",
       "                        <td id=\"T_289a41d6_12b8_11ea_8db4_acde48001122row5_col2\" class=\"data row5 col2\" >5</td>\n",
       "                        <td id=\"T_289a41d6_12b8_11ea_8db4_acde48001122row5_col3\" class=\"data row5 col3\" >#ff3f20</td>\n",
       "                        <td id=\"T_289a41d6_12b8_11ea_8db4_acde48001122row5_col4\" class=\"data row5 col4\" >5</td>\n",
       "            </tr>\n",
       "    </tbody></table>"
      ],
      "text/plain": [
       "       surface        series  order_surfaces    color  id\n",
       "4   Main_Fault  Fault_Series               1  #527682   1\n",
       "3  Sandstone_2  Strat_Series               1  #728f02   1\n",
       "2    Siltstone  Strat_Series               2  #ffbe00   2\n",
       "0        Shale  Strat_Series               3  #015482   3\n",
       "1  Sandstone_1  Strat_Series               4  #9f0052   4\n",
       "5     basement  Strat_Series               5  #ff3f20   5"
      ]
     },
     "execution_count": 31,
     "metadata": {},
     "output_type": "execute_result"
    }
   ],
   "source": [
    "geo_model.surfaces"
   ]
  },
  {
   "cell_type": "markdown",
   "metadata": {},
   "source": [
    "With `cell_number=25` and remembering that we defined our resolution to be 50 cells in each direction, we have chosen a section going through the middle of our block. We have moved 25 cells in `direction='y'`, the plot thus depicts a plane parallel to the $x$- and $y$-axes. Setting `plot_data=True`, we could plot original data together with the results. Changing the values for `cell_number`and `direction`, we can move through our 3D block model and explore it by looking at different 2D planes.\n",
    "\n",
    "We can do the same with out lithological scalar-field solution:"
   ]
  },
  {
   "cell_type": "code",
   "execution_count": 32,
   "metadata": {},
   "outputs": [
    {
     "data": {
      "image/png": "[encoded data removed]",
      "text/plain": [
       "<Figure size 432x432 with 1 Axes>"
      ]
     },
     "metadata": {
      "needs_background": "light"
     },
     "output_type": "display_data"
    }
   ],
   "source": [
    "gp.plot.plot_scalar_field(geo_model, cell_number=25, N=15, series=1, \n",
    "                          direction='y', show_data=True)"
   ]
  },
  {
   "cell_type": "markdown",
   "metadata": {},
   "source": [
    "This illustrates well the fold-related deformation of the stratigraphy, as well as the way the layers are influenced by the fault.\n",
    "\n",
    "The fault network modeling solutions can be visualized in the same way:"
   ]
  },
  {
   "cell_type": "code",
   "execution_count": 47,
   "metadata": {},
   "outputs": [
    {
     "data": {
      "application/javascript": [
       "/* Put everything inside the global mpl namespace */\n",
       "window.mpl = {};\n",
       "\n",
       "\n",
       "mpl.get_websocket_type = function() {\n",
       "    if (typeof(WebSocket) !== 'undefined') {\n",
       "        return WebSocket;\n",
       "    } else if (typeof(MozWebSocket) !== 'undefined') {\n",
       "        return MozWebSocket;\n",
       "    } else {\n",
       "        alert('Your browser does not have WebSocket support. ' +\n",
       "              'Please try Chrome, Safari or Firefox ≥ 6. ' +\n",
       "              'Firefox 4 and 5 are also supported but you ' +\n",
       "              'have to enable WebSockets in about:config.');\n",
       "    };\n",
       "}\n",
       "\n",
       "mpl.figure = function(figure_id, websocket, ondownload, parent_element) {\n",
       "    this.id = figure_id;\n",
       "\n",
       "    this.ws = websocket;\n",
       "\n",
       "    this.supports_binary = (this.ws.binaryType != undefined);\n",
       "\n",
       "    if (!this.supports_binary) {\n",
       "        var warnings = document.getElementById(\"mpl-warnings\");\n",
       "        if (warnings) {\n",
       "            warnings.style.display = 'block';\n",
       "            warnings.textContent = (\n",
       "                \"This browser does not support binary websocket messages. \" +\n",
       "                    \"Performance may be slow.\");\n",
       "        }\n",
       "    }\n",
       "\n",
       "    this.imageObj = new Image();\n",
       "\n",
       "    this.context = undefined;\n",
       "    this.message = undefined;\n",
       "    this.canvas = undefined;\n",
       "    this.rubberband_canvas = undefined;\n",
       "    this.rubberband_context = undefined;\n",
       "    this.format_dropdown = undefined;\n",
       "\n",
       "    this.image_mode = 'full';\n",
       "\n",
       "    this.root = $('<div/>');\n",
       "    this._root_extra_style(this.root)\n",
       "    this.root.attr('style', 'display: inline-block');\n",
       "\n",
       "    $(parent_element).append(this.root);\n",
       "\n",
       "    this._init_header(this);\n",
       "    this._init_canvas(this);\n",
       "    this._init_toolbar(this);\n",
       "\n",
       "    var fig = this;\n",
       "\n",
       "    this.waiting = false;\n",
       "\n",
       "    this.ws.onopen =  function () {\n",
       "            fig.send_message(\"supports_binary\", {value: fig.supports_binary});\n",
       "            fig.send_message(\"send_image_mode\", {});\n",
       "            if (mpl.ratio != 1) {\n",
       "                fig.send_message(\"set_dpi_ratio\", {'dpi_ratio': mpl.ratio});\n",
       "            }\n",
       "            fig.send_message(\"refresh\", {});\n",
       "        }\n",
       "\n",
       "    this.imageObj.onload = function() {\n",
       "            if (fig.image_mode == 'full') {\n",
       "                // Full images could contain transparency (where diff images\n",
       "                // almost always do), so we need to clear the canvas so that\n",
       "                // there is no ghosting.\n",
       "                fig.context.clearRect(0, 0, fig.canvas.width, fig.canvas.height);\n",
       "            }\n",
       "            fig.context.drawImage(fig.imageObj, 0, 0);\n",
       "        };\n",
       "\n",
       "    this.imageObj.onunload = function() {\n",
       "        fig.ws.close();\n",
       "    }\n",
       "\n",
       "    this.ws.onmessage = this._make_on_message_function(this);\n",
       "\n",
       "    this.ondownload = ondownload;\n",
       "}\n",
       "\n",
       "mpl.figure.prototype._init_header = function() {\n",
       "    var titlebar = $(\n",
       "        '<div class=\"ui-dialog-titlebar ui-widget-header ui-corner-all ' +\n",
       "        'ui-helper-clearfix\"/>');\n",
       "    var titletext = $(\n",
       "        '<div class=\"ui-dialog-title\" style=\"width: 100%; ' +\n",
       "        'text-align: center; padding: 3px;\"/>');\n",
       "    titlebar.append(titletext)\n",
       "    this.root.append(titlebar);\n",
       "    this.header = titletext[0];\n",
       "}\n",
       "\n",
       "\n",
       "\n",
       "mpl.figure.prototype._canvas_extra_style = function(canvas_div) {\n",
       "\n",
       "}\n",
       "\n",
       "\n",
       "mpl.figure.prototype._root_extra_style = function(canvas_div) {\n",
       "\n",
       "}\n",
       "\n",
       "mpl.figure.prototype._init_canvas = function() {\n",
       "    var fig = this;\n",
       "\n",
       "    var canvas_div = $('<div/>');\n",
       "\n",
       "    canvas_div.attr('style', 'position: relative; clear: both; outline: 0');\n",
       "\n",
       "    function canvas_keyboard_event(event) {\n",
       "        return fig.key_event(event, event['data']);\n",
       "    }\n",
       "\n",
       "    canvas_div.keydown('key_press', canvas_keyboard_event);\n",
       "    canvas_div.keyup('key_release', canvas_keyboard_event);\n",
       "    this.canvas_div = canvas_div\n",
       "    this._canvas_extra_style(canvas_div)\n",
       "    this.root.append(canvas_div);\n",
       "\n",
       "    var canvas = $('<canvas/>');\n",
       "    canvas.addClass('mpl-canvas');\n",
       "    canvas.attr('style', \"left: 0; top: 0; z-index: 0; outline: 0\")\n",
       "\n",
       "    this.canvas = canvas[0];\n",
       "    this.context = canvas[0].getContext(\"2d\");\n",
       "\n",
       "    var backingStore = this.context.backingStorePixelRatio ||\n",
       "\tthis.context.webkitBackingStorePixelRatio ||\n",
       "\tthis.context.mozBackingStorePixelRatio ||\n",
       "\tthis.context.msBackingStorePixelRatio ||\n",
       "\tthis.context.oBackingStorePixelRatio ||\n",
       "\tthis.context.backingStorePixelRatio || 1;\n",
       "\n",
       "    mpl.ratio = (window.devicePixelRatio || 1) / backingStore;\n",
       "\n",
       "    var rubberband = $('<canvas/>');\n",
       "    rubberband.attr('style', \"position: absolute; left: 0; top: 0; z-index: 1;\")\n",
       "\n",
       "    var pass_mouse_events = true;\n",
       "\n",
       "    canvas_div.resizable({\n",
       "        start: function(event, ui) {\n",
       "            pass_mouse_events = false;\n",
       "        },\n",
       "        resize: function(event, ui) {\n",
       "            fig.request_resize(ui.size.width, ui.size.height);\n",
       "        },\n",
       "        stop: function(event, ui) {\n",
       "            pass_mouse_events = true;\n",
       "            fig.request_resize(ui.size.width, ui.size.height);\n",
       "        },\n",
       "    });\n",
       "\n",
       "    function mouse_event_fn(event) {\n",
       "        if (pass_mouse_events)\n",
       "            return fig.mouse_event(event, event['data']);\n",
       "    }\n",
       "\n",
       "    rubberband.mousedown('button_press', mouse_event_fn);\n",
       "    rubberband.mouseup('button_release', mouse_event_fn);\n",
       "    // Throttle sequential mouse events to 1 every 20ms.\n",
       "    rubberband.mousemove('motion_notify', mouse_event_fn);\n",
       "\n",
       "    rubberband.mouseenter('figure_enter', mouse_event_fn);\n",
       "    rubberband.mouseleave('figure_leave', mouse_event_fn);\n",
       "\n",
       "    canvas_div.on(\"wheel\", function (event) {\n",
       "        event = event.originalEvent;\n",
       "        event['data'] = 'scroll'\n",
       "        if (event.deltaY < 0) {\n",
       "            event.step = 1;\n",
       "        } else {\n",
       "            event.step = -1;\n",
       "        }\n",
       "        mouse_event_fn(event);\n",
       "    });\n",
       "\n",
       "    canvas_div.append(canvas);\n",
       "    canvas_div.append(rubberband);\n",
       "\n",
       "    this.rubberband = rubberband;\n",
       "    this.rubberband_canvas = rubberband[0];\n",
       "    this.rubberband_context = rubberband[0].getContext(\"2d\");\n",
       "    this.rubberband_context.strokeStyle = \"#000000\";\n",
       "\n",
       "    this._resize_canvas = function(width, height) {\n",
       "        // Keep the size of the canvas, canvas container, and rubber band\n",
       "        // canvas in synch.\n",
       "        canvas_div.css('width', width)\n",
       "        canvas_div.css('height', height)\n",
       "\n",
       "        canvas.attr('width', width * mpl.ratio);\n",
       "        canvas.attr('height', height * mpl.ratio);\n",
       "        canvas.attr('style', 'width: ' + width + 'px; height: ' + height + 'px;');\n",
       "\n",
       "        rubberband.attr('width', width);\n",
       "        rubberband.attr('height', height);\n",
       "    }\n",
       "\n",
       "    // Set the figure to an initial 600x600px, this will subsequently be updated\n",
       "    // upon first draw.\n",
       "    this._resize_canvas(600, 600);\n",
       "\n",
       "    // Disable right mouse context menu.\n",
       "    $(this.rubberband_canvas).bind(\"contextmenu\",function(e){\n",
       "        return false;\n",
       "    });\n",
       "\n",
       "    function set_focus () {\n",
       "        canvas.focus();\n",
       "        canvas_div.focus();\n",
       "    }\n",
       "\n",
       "    window.setTimeout(set_focus, 100);\n",
       "}\n",
       "\n",
       "mpl.figure.prototype._init_toolbar = function() {\n",
       "    var fig = this;\n",
       "\n",
       "    var nav_element = $('<div/>');\n",
       "    nav_element.attr('style', 'width: 100%');\n",
       "    this.root.append(nav_element);\n",
       "\n",
       "    // Define a callback function for later on.\n",
       "    function toolbar_event(event) {\n",
       "        return fig.toolbar_button_onclick(event['data']);\n",
       "    }\n",
       "    function toolbar_mouse_event(event) {\n",
       "        return fig.toolbar_button_onmouseover(event['data']);\n",
       "    }\n",
       "\n",
       "    for(var toolbar_ind in mpl.toolbar_items) {\n",
       "        var name = mpl.toolbar_items[toolbar_ind][0];\n",
       "        var tooltip = mpl.toolbar_items[toolbar_ind][1];\n",
       "        var image = mpl.toolbar_items[toolbar_ind][2];\n",
       "        var method_name = mpl.toolbar_items[toolbar_ind][3];\n",
       "\n",
       "        if (!name) {\n",
       "            // put a spacer in here.\n",
       "            continue;\n",
       "        }\n",
       "        var button = $('<button/>');\n",
       "        button.addClass('ui-button ui-widget ui-state-default ui-corner-all ' +\n",
       "                        'ui-button-icon-only');\n",
       "        button.attr('role', 'button');\n",
       "        button.attr('aria-disabled', 'false');\n",
       "        button.click(method_name, toolbar_event);\n",
       "        button.mouseover(tooltip, toolbar_mouse_event);\n",
       "\n",
       "        var icon_img = $('<span/>');\n",
       "        icon_img.addClass('ui-button-icon-primary ui-icon');\n",
       "        icon_img.addClass(image);\n",
       "        icon_img.addClass('ui-corner-all');\n",
       "\n",
       "        var tooltip_span = $('<span/>');\n",
       "        tooltip_span.addClass('ui-button-text');\n",
       "        tooltip_span.html(tooltip);\n",
       "\n",
       "        button.append(icon_img);\n",
       "        button.append(tooltip_span);\n",
       "\n",
       "        nav_element.append(button);\n",
       "    }\n",
       "\n",
       "    var fmt_picker_span = $('<span/>');\n",
       "\n",
       "    var fmt_picker = $('<select/>');\n",
       "    fmt_picker.addClass('mpl-toolbar-option ui-widget ui-widget-content');\n",
       "    fmt_picker_span.append(fmt_picker);\n",
       "    nav_element.append(fmt_picker_span);\n",
       "    this.format_dropdown = fmt_picker[0];\n",
       "\n",
       "    for (var ind in mpl.extensions) {\n",
       "        var fmt = mpl.extensions[ind];\n",
       "        var option = $(\n",
       "            '<option/>', {selected: fmt === mpl.default_extension}).html(fmt);\n",
       "        fmt_picker.append(option);\n",
       "    }\n",
       "\n",
       "    // Add hover states to the ui-buttons\n",
       "    $( \".ui-button\" ).hover(\n",
       "        function() { $(this).addClass(\"ui-state-hover\");},\n",
       "        function() { $(this).removeClass(\"ui-state-hover\");}\n",
       "    );\n",
       "\n",
       "    var status_bar = $('<span class=\"mpl-message\"/>');\n",
       "    nav_element.append(status_bar);\n",
       "    this.message = status_bar[0];\n",
       "}\n",
       "\n",
       "mpl.figure.prototype.request_resize = function(x_pixels, y_pixels) {\n",
       "    // Request matplotlib to resize the figure. Matplotlib will then trigger a resize in the client,\n",
       "    // which will in turn request a refresh of the image.\n",
       "    this.send_message('resize', {'width': x_pixels, 'height': y_pixels});\n",
       "}\n",
       "\n",
       "mpl.figure.prototype.send_message = function(type, properties) {\n",
       "    properties['type'] = type;\n",
       "    properties['figure_id'] = this.id;\n",
       "    this.ws.send(JSON.stringify(properties));\n",
       "}\n",
       "\n",
       "mpl.figure.prototype.send_draw_message = function() {\n",
       "    if (!this.waiting) {\n",
       "        this.waiting = true;\n",
       "        this.ws.send(JSON.stringify({type: \"draw\", figure_id: this.id}));\n",
       "    }\n",
       "}\n",
       "\n",
       "\n",
       "mpl.figure.prototype.handle_save = function(fig, msg) {\n",
       "    var format_dropdown = fig.format_dropdown;\n",
       "    var format = format_dropdown.options[format_dropdown.selectedIndex].value;\n",
       "    fig.ondownload(fig, format);\n",
       "}\n",
       "\n",
       "\n",
       "mpl.figure.prototype.handle_resize = function(fig, msg) {\n",
       "    var size = msg['size'];\n",
       "    if (size[0] != fig.canvas.width || size[1] != fig.canvas.height) {\n",
       "        fig._resize_canvas(size[0], size[1]);\n",
       "        fig.send_message(\"refresh\", {});\n",
       "    };\n",
       "}\n",
       "\n",
       "mpl.figure.prototype.handle_rubberband = function(fig, msg) {\n",
       "    var x0 = msg['x0'] / mpl.ratio;\n",
       "    var y0 = (fig.canvas.height - msg['y0']) / mpl.ratio;\n",
       "    var x1 = msg['x1'] / mpl.ratio;\n",
       "    var y1 = (fig.canvas.height - msg['y1']) / mpl.ratio;\n",
       "    x0 = Math.floor(x0) + 0.5;\n",
       "    y0 = Math.floor(y0) + 0.5;\n",
       "    x1 = Math.floor(x1) + 0.5;\n",
       "    y1 = Math.floor(y1) + 0.5;\n",
       "    var min_x = Math.min(x0, x1);\n",
       "    var min_y = Math.min(y0, y1);\n",
       "    var width = Math.abs(x1 - x0);\n",
       "    var height = Math.abs(y1 - y0);\n",
       "\n",
       "    fig.rubberband_context.clearRect(\n",
       "        0, 0, fig.canvas.width / mpl.ratio, fig.canvas.height / mpl.ratio);\n",
       "\n",
       "    fig.rubberband_context.strokeRect(min_x, min_y, width, height);\n",
       "}\n",
       "\n",
       "mpl.figure.prototype.handle_figure_label = function(fig, msg) {\n",
       "    // Updates the figure title.\n",
       "    fig.header.textContent = msg['label'];\n",
       "}\n",
       "\n",
       "mpl.figure.prototype.handle_cursor = function(fig, msg) {\n",
       "    var cursor = msg['cursor'];\n",
       "    switch(cursor)\n",
       "    {\n",
       "    case 0:\n",
       "        cursor = 'pointer';\n",
       "        break;\n",
       "    case 1:\n",
       "        cursor = 'default';\n",
       "        break;\n",
       "    case 2:\n",
       "        cursor = 'crosshair';\n",
       "        break;\n",
       "    case 3:\n",
       "        cursor = 'move';\n",
       "        break;\n",
       "    }\n",
       "    fig.rubberband_canvas.style.cursor = cursor;\n",
       "}\n",
       "\n",
       "mpl.figure.prototype.handle_message = function(fig, msg) {\n",
       "    fig.message.textContent = msg['message'];\n",
       "}\n",
       "\n",
       "mpl.figure.prototype.handle_draw = function(fig, msg) {\n",
       "    // Request the server to send over a new figure.\n",
       "    fig.send_draw_message();\n",
       "}\n",
       "\n",
       "mpl.figure.prototype.handle_image_mode = function(fig, msg) {\n",
       "    fig.image_mode = msg['mode'];\n",
       "}\n",
       "\n",
       "mpl.figure.prototype.updated_canvas_event = function() {\n",
       "    // Called whenever the canvas gets updated.\n",
       "    this.send_message(\"ack\", {});\n",
       "}\n",
       "\n",
       "// A function to construct a web socket function for onmessage handling.\n",
       "// Called in the figure constructor.\n",
       "mpl.figure.prototype._make_on_message_function = function(fig) {\n",
       "    return function socket_on_message(evt) {\n",
       "        if (evt.data instanceof Blob) {\n",
       "            /* FIXME: We get \"Resource interpreted as Image but\n",
       "             * transferred with MIME type text/plain:\" errors on\n",
       "             * Chrome.  But how to set the MIME type?  It doesn't seem\n",
       "             * to be part of the websocket stream */\n",
       "            evt.data.type = \"image/png\";\n",
       "\n",
       "            /* Free the memory for the previous frames */\n",
       "            if (fig.imageObj.src) {\n",
       "                (window.URL || window.webkitURL).revokeObjectURL(\n",
       "                    fig.imageObj.src);\n",
       "            }\n",
       "\n",
       "            fig.imageObj.src = (window.URL || window.webkitURL).createObjectURL(\n",
       "                evt.data);\n",
       "            fig.updated_canvas_event();\n",
       "            fig.waiting = false;\n",
       "            return;\n",
       "        }\n",
       "        else if (typeof evt.data === 'string' && evt.data.slice(0, 21) == \"data:image/png;base64\") {\n",
       "            fig.imageObj.src = evt.data;\n",
       "            fig.updated_canvas_event();\n",
       "            fig.waiting = false;\n",
       "            return;\n",
       "        }\n",
       "\n",
       "        var msg = JSON.parse(evt.data);\n",
       "        var msg_type = msg['type'];\n",
       "\n",
       "        // Call the  \"handle_{type}\" callback, which takes\n",
       "        // the figure and JSON message as its only arguments.\n",
       "        try {\n",
       "            var callback = fig[\"handle_\" + msg_type];\n",
       "        } catch (e) {\n",
       "            console.log(\"No handler for the '\" + msg_type + \"' message type: \", msg);\n",
       "            return;\n",
       "        }\n",
       "\n",
       "        if (callback) {\n",
       "            try {\n",
       "                // console.log(\"Handling '\" + msg_type + \"' message: \", msg);\n",
       "                callback(fig, msg);\n",
       "            } catch (e) {\n",
       "                console.log(\"Exception inside the 'handler_\" + msg_type + \"' callback:\", e, e.stack, msg);\n",
       "            }\n",
       "        }\n",
       "    };\n",
       "}\n",
       "\n",
       "// from http://stackoverflow.com/questions/1114465/getting-mouse-location-in-canvas\n",
       "mpl.findpos = function(e) {\n",
       "    //this section is from http://www.quirksmode.org/js/events_properties.html\n",
       "    var targ;\n",
       "    if (!e)\n",
       "        e = window.event;\n",
       "    if (e.target)\n",
       "        targ = e.target;\n",
       "    else if (e.srcElement)\n",
       "        targ = e.srcElement;\n",
       "    if (targ.nodeType == 3) // defeat Safari bug\n",
       "        targ = targ.parentNode;\n",
       "\n",
       "    // jQuery normalizes the pageX and pageY\n",
       "    // pageX,Y are the mouse positions relative to the document\n",
       "    // offset() returns the position of the element relative to the document\n",
       "    var x = e.pageX - $(targ).offset().left;\n",
       "    var y = e.pageY - $(targ).offset().top;\n",
       "\n",
       "    return {\"x\": x, \"y\": y};\n",
       "};\n",
       "\n",
       "/*\n",
       " * return a copy of an object with only non-object keys\n",
       " * we need this to avoid circular references\n",
       " * http://stackoverflow.com/a/24161582/3208463\n",
       " */\n",
       "function simpleKeys (original) {\n",
       "  return Object.keys(original).reduce(function (obj, key) {\n",
       "    if (typeof original[key] !== 'object')\n",
       "        obj[key] = original[key]\n",
       "    return obj;\n",
       "  }, {});\n",
       "}\n",
       "\n",
       "mpl.figure.prototype.mouse_event = function(event, name) {\n",
       "    var canvas_pos = mpl.findpos(event)\n",
       "\n",
       "    if (name === 'button_press')\n",
       "    {\n",
       "        this.canvas.focus();\n",
       "        this.canvas_div.focus();\n",
       "    }\n",
       "\n",
       "    var x = canvas_pos.x * mpl.ratio;\n",
       "    var y = canvas_pos.y * mpl.ratio;\n",
       "\n",
       "    this.send_message(name, {x: x, y: y, button: event.button,\n",
       "                             step: event.step,\n",
       "                             guiEvent: simpleKeys(event)});\n",
       "\n",
       "    /* This prevents the web browser from automatically changing to\n",
       "     * the text insertion cursor when the button is pressed.  We want\n",
       "     * to control all of the cursor setting manually through the\n",
       "     * 'cursor' event from matplotlib */\n",
       "    event.preventDefault();\n",
       "    return false;\n",
       "}\n",
       "\n",
       "mpl.figure.prototype._key_event_extra = function(event, name) {\n",
       "    // Handle any extra behaviour associated with a key event\n",
       "}\n",
       "\n",
       "mpl.figure.prototype.key_event = function(event, name) {\n",
       "\n",
       "    // Prevent repeat events\n",
       "    if (name == 'key_press')\n",
       "    {\n",
       "        if (event.which === this._key)\n",
       "            return;\n",
       "        else\n",
       "            this._key = event.which;\n",
       "    }\n",
       "    if (name == 'key_release')\n",
       "        this._key = null;\n",
       "\n",
       "    var value = '';\n",
       "    if (event.ctrlKey && event.which != 17)\n",
       "        value += \"ctrl+\";\n",
       "    if (event.altKey && event.which != 18)\n",
       "        value += \"alt+\";\n",
       "    if (event.shiftKey && event.which != 16)\n",
       "        value += \"shift+\";\n",
       "\n",
       "    value += 'k';\n",
       "    value += event.which.toString();\n",
       "\n",
       "    this._key_event_extra(event, name);\n",
       "\n",
       "    this.send_message(name, {key: value,\n",
       "                             guiEvent: simpleKeys(event)});\n",
       "    return false;\n",
       "}\n",
       "\n",
       "mpl.figure.prototype.toolbar_button_onclick = function(name) {\n",
       "    if (name == 'download') {\n",
       "        this.handle_save(this, null);\n",
       "    } else {\n",
       "        this.send_message(\"toolbar_button\", {name: name});\n",
       "    }\n",
       "};\n",
       "\n",
       "mpl.figure.prototype.toolbar_button_onmouseover = function(tooltip) {\n",
       "    this.message.textContent = tooltip;\n",
       "};\n",
       "mpl.toolbar_items = [[\"Home\", \"Reset original view\", \"fa fa-home icon-home\", \"home\"], [\"Back\", \"Back to previous view\", \"fa fa-arrow-left icon-arrow-left\", \"back\"], [\"Forward\", \"Forward to next view\", \"fa fa-arrow-right icon-arrow-right\", \"forward\"], [\"\", \"\", \"\", \"\"], [\"Pan\", \"Pan axes with left mouse, zoom with right\", \"fa fa-arrows icon-move\", \"pan\"], [\"Zoom\", \"Zoom to rectangle\", \"fa fa-square-o icon-check-empty\", \"zoom\"], [\"\", \"\", \"\", \"\"], [\"Download\", \"Download plot\", \"fa fa-floppy-o icon-save\", \"download\"]];\n",
       "\n",
       "mpl.extensions = [\"eps\", \"jpeg\", \"pdf\", \"png\", \"ps\", \"raw\", \"svg\", \"tif\"];\n",
       "\n",
       "mpl.default_extension = \"png\";var comm_websocket_adapter = function(comm) {\n",
       "    // Create a \"websocket\"-like object which calls the given IPython comm\n",
       "    // object with the appropriate methods. Currently this is a non binary\n",
       "    // socket, so there is still some room for performance tuning.\n",
       "    var ws = {};\n",
       "\n",
       "    ws.close = function() {\n",
       "        comm.close()\n",
       "    };\n",
       "    ws.send = function(m) {\n",
       "        //console.log('sending', m);\n",
       "        comm.send(m);\n",
       "    };\n",
       "    // Register the callback with on_msg.\n",
       "    comm.on_msg(function(msg) {\n",
       "        //console.log('receiving', msg['content']['data'], msg);\n",
       "        // Pass the mpl event to the overridden (by mpl) onmessage function.\n",
       "        ws.onmessage(msg['content']['data'])\n",
       "    });\n",
       "    return ws;\n",
       "}\n",
       "\n",
       "mpl.mpl_figure_comm = function(comm, msg) {\n",
       "    // This is the function which gets called when the mpl process\n",
       "    // starts-up an IPython Comm through the \"matplotlib\" channel.\n",
       "\n",
       "    var id = msg.content.data.id;\n",
       "    // Get hold of the div created by the display call when the Comm\n",
       "    // socket was opened in Python.\n",
       "    var element = $(\"#\" + id);\n",
       "    var ws_proxy = comm_websocket_adapter(comm)\n",
       "\n",
       "    function ondownload(figure, format) {\n",
       "        window.open(figure.imageObj.src);\n",
       "    }\n",
       "\n",
       "    var fig = new mpl.figure(id, ws_proxy,\n",
       "                           ondownload,\n",
       "                           element.get(0));\n",
       "\n",
       "    // Call onopen now - mpl needs it, as it is assuming we've passed it a real\n",
       "    // web socket which is closed, not our websocket->open comm proxy.\n",
       "    ws_proxy.onopen();\n",
       "\n",
       "    fig.parent_element = element.get(0);\n",
       "    fig.cell_info = mpl.find_output_cell(\"<div id='\" + id + \"'></div>\");\n",
       "    if (!fig.cell_info) {\n",
       "        console.error(\"Failed to find cell for figure\", id, fig);\n",
       "        return;\n",
       "    }\n",
       "\n",
       "    var output_index = fig.cell_info[2]\n",
       "    var cell = fig.cell_info[0];\n",
       "\n",
       "};\n",
       "\n",
       "mpl.figure.prototype.handle_close = function(fig, msg) {\n",
       "    var width = fig.canvas.width/mpl.ratio\n",
       "    fig.root.unbind('remove')\n",
       "\n",
       "    // Update the output cell to use the data from the current canvas.\n",
       "    fig.push_to_output();\n",
       "    var dataURL = fig.canvas.toDataURL();\n",
       "    // Re-enable the keyboard manager in IPython - without this line, in FF,\n",
       "    // the notebook keyboard shortcuts fail.\n",
       "    IPython.keyboard_manager.enable()\n",
       "    $(fig.parent_element).html('<img src=\"' + dataURL + '\" width=\"' + width + '\">');\n",
       "    fig.close_ws(fig, msg);\n",
       "}\n",
       "\n",
       "mpl.figure.prototype.close_ws = function(fig, msg){\n",
       "    fig.send_message('closing', msg);\n",
       "    // fig.ws.close()\n",
       "}\n",
       "\n",
       "mpl.figure.prototype.push_to_output = function(remove_interactive) {\n",
       "    // Turn the data on the canvas into data in the output cell.\n",
       "    var width = this.canvas.width/mpl.ratio\n",
       "    var dataURL = this.canvas.toDataURL();\n",
       "    this.cell_info[1]['text/html'] = '<img src=\"' + dataURL + '\" width=\"' + width + '\">';\n",
       "}\n",
       "\n",
       "mpl.figure.prototype.updated_canvas_event = function() {\n",
       "    // Tell IPython that the notebook contents must change.\n",
       "    IPython.notebook.set_dirty(true);\n",
       "    this.send_message(\"ack\", {});\n",
       "    var fig = this;\n",
       "    // Wait a second, then push the new image to the DOM so\n",
       "    // that it is saved nicely (might be nice to debounce this).\n",
       "    setTimeout(function () { fig.push_to_output() }, 1000);\n",
       "}\n",
       "\n",
       "mpl.figure.prototype._init_toolbar = function() {\n",
       "    var fig = this;\n",
       "\n",
       "    var nav_element = $('<div/>');\n",
       "    nav_element.attr('style', 'width: 100%');\n",
       "    this.root.append(nav_element);\n",
       "\n",
       "    // Define a callback function for later on.\n",
       "    function toolbar_event(event) {\n",
       "        return fig.toolbar_button_onclick(event['data']);\n",
       "    }\n",
       "    function toolbar_mouse_event(event) {\n",
       "        return fig.toolbar_button_onmouseover(event['data']);\n",
       "    }\n",
       "\n",
       "    for(var toolbar_ind in mpl.toolbar_items){\n",
       "        var name = mpl.toolbar_items[toolbar_ind][0];\n",
       "        var tooltip = mpl.toolbar_items[toolbar_ind][1];\n",
       "        var image = mpl.toolbar_items[toolbar_ind][2];\n",
       "        var method_name = mpl.toolbar_items[toolbar_ind][3];\n",
       "\n",
       "        if (!name) { continue; };\n",
       "\n",
       "        var button = $('<button class=\"btn btn-default\" href=\"#\" title=\"' + name + '\"><i class=\"fa ' + image + ' fa-lg\"></i></button>');\n",
       "        button.click(method_name, toolbar_event);\n",
       "        button.mouseover(tooltip, toolbar_mouse_event);\n",
       "        nav_element.append(button);\n",
       "    }\n",
       "\n",
       "    // Add the status bar.\n",
       "    var status_bar = $('<span class=\"mpl-message\" style=\"text-align:right; float: right;\"/>');\n",
       "    nav_element.append(status_bar);\n",
       "    this.message = status_bar[0];\n",
       "\n",
       "    // Add the close button to the window.\n",
       "    var buttongrp = $('<div class=\"btn-group inline pull-right\"></div>');\n",
       "    var button = $('<button class=\"btn btn-mini btn-primary\" href=\"#\" title=\"Stop Interaction\"><i class=\"fa fa-power-off icon-remove icon-large\"></i></button>');\n",
       "    button.click(function (evt) { fig.handle_close(fig, {}); } );\n",
       "    button.mouseover('Stop Interaction', toolbar_mouse_event);\n",
       "    buttongrp.append(button);\n",
       "    var titlebar = this.root.find($('.ui-dialog-titlebar'));\n",
       "    titlebar.prepend(buttongrp);\n",
       "}\n",
       "\n",
       "mpl.figure.prototype._root_extra_style = function(el){\n",
       "    var fig = this\n",
       "    el.on(\"remove\", function(){\n",
       "\tfig.close_ws(fig, {});\n",
       "    });\n",
       "}\n",
       "\n",
       "mpl.figure.prototype._canvas_extra_style = function(el){\n",
       "    // this is important to make the div 'focusable\n",
       "    el.attr('tabindex', 0)\n",
       "    // reach out to IPython and tell the keyboard manager to turn it's self\n",
       "    // off when our div gets focus\n",
       "\n",
       "    // location in version 3\n",
       "    if (IPython.notebook.keyboard_manager) {\n",
       "        IPython.notebook.keyboard_manager.register_events(el);\n",
       "    }\n",
       "    else {\n",
       "        // location in version 2\n",
       "        IPython.keyboard_manager.register_events(el);\n",
       "    }\n",
       "\n",
       "}\n",
       "\n",
       "mpl.figure.prototype._key_event_extra = function(event, name) {\n",
       "    var manager = IPython.notebook.keyboard_manager;\n",
       "    if (!manager)\n",
       "        manager = IPython.keyboard_manager;\n",
       "\n",
       "    // Check for shift+enter\n",
       "    if (event.shiftKey && event.which == 13) {\n",
       "        this.canvas_div.blur();\n",
       "        event.shiftKey = false;\n",
       "        // Send a \"J\" for go to next cell\n",
       "        event.which = 74;\n",
       "        event.keyCode = 74;\n",
       "        manager.command_mode();\n",
       "        manager.handle_keydown(event);\n",
       "    }\n",
       "}\n",
       "\n",
       "mpl.figure.prototype.handle_save = function(fig, msg) {\n",
       "    fig.ondownload(fig, null);\n",
       "}\n",
       "\n",
       "\n",
       "mpl.find_output_cell = function(html_output) {\n",
       "    // Return the cell and output element which can be found *uniquely* in the notebook.\n",
       "    // Note - this is a bit hacky, but it is done because the \"notebook_saving.Notebook\"\n",
       "    // IPython event is triggered only after the cells have been serialised, which for\n",
       "    // our purposes (turning an active figure into a static one), is too late.\n",
       "    var cells = IPython.notebook.get_cells();\n",
       "    var ncells = cells.length;\n",
       "    for (var i=0; i<ncells; i++) {\n",
       "        var cell = cells[i];\n",
       "        if (cell.cell_type === 'code'){\n",
       "            for (var j=0; j<cell.output_area.outputs.length; j++) {\n",
       "                var data = cell.output_area.outputs[j];\n",
       "                if (data.data) {\n",
       "                    // IPython >= 3 moved mimebundle to data attribute of output\n",
       "                    data = data.data;\n",
       "                }\n",
       "                if (data['text/html'] == html_output) {\n",
       "                    return [cell, data, j];\n",
       "                }\n",
       "            }\n",
       "        }\n",
       "    }\n",
       "}\n",
       "\n",
       "// Register the function which deals with the matplotlib target/channel.\n",
       "// The kernel may be null if the page has been refreshed.\n",
       "if (IPython.notebook.kernel != null) {\n",
       "    IPython.notebook.kernel.comm_manager.register_target('matplotlib', mpl.mpl_figure_comm);\n",
       "}\n"
      ],
      "text/plain": [
       "<IPython.core.display.Javascript object>"
      ]
     },
     "metadata": {},
     "output_type": "display_data"
    },
    {
     "data": {
      "text/html": [
       "<img src=\"data:image/png;base64,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\" width=\"432\">"
      ],
      "text/plain": [
       "<IPython.core.display.HTML object>"
      ]
     },
     "metadata": {},
     "output_type": "display_data"
    },
    {
     "data": {
      "text/plain": [
       "<gempy.plot.visualization_2d.PlotSolution at 0x7f91c0af9160>"
      ]
     },
     "execution_count": 47,
     "metadata": {},
     "output_type": "execute_result"
    }
   ],
   "source": [
    "%matplotlib notebook\n",
    "gp.plot.plot_section(geo_model, cell_number=25, block=geo_model.solutions.block_matrix[0, 0],\n",
    "                     show_data=False)"
   ]
  },
  {
   "cell_type": "markdown",
   "metadata": {},
   "source": [
    "### Marching cubes and vtk visualization\n",
    "\n",
    "In addition to 2D sections we can extract surfaces to visualize in 3D renderers. Surfaces can be visualized as 3D triangle complexes in VTK (see function plot_surfaces_3D below). To create these triangles, we need to extract respective vertices and simplices from the potential fields of lithologies and faults. This process is automatized in GemPy with the function get_surface"
   ]
  },
  {
   "cell_type": "code",
   "execution_count": 34,
   "metadata": {},
   "outputs": [],
   "source": [
    "ver , sim = gp.get_surfaces(geo_model)"
   ]
  },
  {
   "cell_type": "code",
   "execution_count": 35,
   "metadata": {
    "tags": [
     "nbval-skip"
    ]
   },
   "outputs": [
    {
     "ename": "ValueError",
     "evalue": "Invalid RGBA argument: 1    #527682\n1    #728f02\nName: color, dtype: object",
     "output_type": "error",
     "traceback": [
      "\u001b[0;31m---------------------------------------------------------------------------\u001b[0m",
      "\u001b[0;31mValueError\u001b[0m                                Traceback (most recent call last)",
      "\u001b[0;32m<ipython-input-35-c000322e2fbe>\u001b[0m in \u001b[0;36m<module>\u001b[0;34m\u001b[0m\n\u001b[0;32m----> 1\u001b[0;31m \u001b[0mgp\u001b[0m\u001b[0;34m.\u001b[0m\u001b[0mplot\u001b[0m\u001b[0;34m.\u001b[0m\u001b[0mplot_3D\u001b[0m\u001b[0;34m(\u001b[0m\u001b[0mgeo_model\u001b[0m\u001b[0;34m)\u001b[0m\u001b[0;34m\u001b[0m\u001b[0;34m\u001b[0m\u001b[0m\n\u001b[0m",
      "\u001b[0;32m~/PycharmProjects/gempy/gempy/plot/plot.py\u001b[0m in \u001b[0;36mplot_3D\u001b[0;34m(geo_model, render_surfaces, render_data, render_topography, real_time, **kwargs)\u001b[0m\n\u001b[1;32m     66\u001b[0m     \u001b[0;31m# vv.restart()\u001b[0m\u001b[0;34m\u001b[0m\u001b[0;34m\u001b[0m\u001b[0;34m\u001b[0m\u001b[0m\n\u001b[1;32m     67\u001b[0m     \u001b[0;32mif\u001b[0m \u001b[0mrender_data\u001b[0m \u001b[0;32mis\u001b[0m \u001b[0;32mTrue\u001b[0m\u001b[0;34m:\u001b[0m\u001b[0;34m\u001b[0m\u001b[0;34m\u001b[0m\u001b[0m\n\u001b[0;32m---> 68\u001b[0;31m         \u001b[0mvv\u001b[0m\u001b[0;34m.\u001b[0m\u001b[0mset_surface_points\u001b[0m\u001b[0;34m(\u001b[0m\u001b[0;34m)\u001b[0m\u001b[0;34m\u001b[0m\u001b[0;34m\u001b[0m\u001b[0m\n\u001b[0m\u001b[1;32m     69\u001b[0m         \u001b[0mvv\u001b[0m\u001b[0;34m.\u001b[0m\u001b[0mset_orientations\u001b[0m\u001b[0;34m(\u001b[0m\u001b[0;34m)\u001b[0m\u001b[0;34m\u001b[0m\u001b[0;34m\u001b[0m\u001b[0m\n\u001b[1;32m     70\u001b[0m     \u001b[0;32mif\u001b[0m \u001b[0mrender_surfaces\u001b[0m \u001b[0;32mis\u001b[0m \u001b[0;32mTrue\u001b[0m\u001b[0;34m:\u001b[0m\u001b[0;34m\u001b[0m\u001b[0;34m\u001b[0m\u001b[0m\n",
      "\u001b[0;32m~/PycharmProjects/gempy/gempy/plot/visualization_3d.py\u001b[0m in \u001b[0;36mset_surface_points\u001b[0;34m(self, indices)\u001b[0m\n\u001b[1;32m    568\u001b[0m                 \u001b[0mrow\u001b[0m \u001b[0;34m=\u001b[0m \u001b[0mval\u001b[0m\u001b[0;34m[\u001b[0m\u001b[0;36m1\u001b[0m\u001b[0;34m]\u001b[0m\u001b[0;34m\u001b[0m\u001b[0;34m\u001b[0m\u001b[0m\n\u001b[1;32m    569\u001b[0m                 self.s_rend_1.at[index] = (self.create_sphere(row['X'], row['Y'], row['Z'], row['id'],\n\u001b[0;32m--> 570\u001b[0;31m                                            n_sphere=e, n_render=0, n_index=index))\n\u001b[0m\u001b[1;32m    571\u001b[0m                 self.s_rend_2.at[index] = (self.create_sphere(row['X'], row['Y'], row['Z'], row['id'],\n\u001b[1;32m    572\u001b[0m                                            n_sphere=e, n_render=1, n_index=index))\n",
      "\u001b[0;32m~/PycharmProjects/gempy/gempy/plot/visualization_3d.py\u001b[0m in \u001b[0;36mcreate_sphere\u001b[0;34m(self, X, Y, Z, fn, n_sphere, n_render, n_index, r)\u001b[0m\n\u001b[1;32m    366\u001b[0m         \u001b[0ms\u001b[0m\u001b[0;34m.\u001b[0m\u001b[0mr_f\u001b[0m \u001b[0;34m=\u001b[0m \u001b[0mself\u001b[0m\u001b[0;34m.\u001b[0m\u001b[0m_e_d_avrg\u001b[0m \u001b[0;34m*\u001b[0m \u001b[0mr\u001b[0m\u001b[0;34m\u001b[0m\u001b[0;34m\u001b[0m\u001b[0m\n\u001b[1;32m    367\u001b[0m         \u001b[0ms\u001b[0m\u001b[0;34m.\u001b[0m\u001b[0mPlaceWidget\u001b[0m\u001b[0;34m(\u001b[0m\u001b[0mX\u001b[0m \u001b[0;34m-\u001b[0m \u001b[0ms\u001b[0m\u001b[0;34m.\u001b[0m\u001b[0mr_f\u001b[0m\u001b[0;34m,\u001b[0m \u001b[0mX\u001b[0m \u001b[0;34m+\u001b[0m \u001b[0ms\u001b[0m\u001b[0;34m.\u001b[0m\u001b[0mr_f\u001b[0m\u001b[0;34m,\u001b[0m \u001b[0mY\u001b[0m \u001b[0;34m-\u001b[0m \u001b[0ms\u001b[0m\u001b[0;34m.\u001b[0m\u001b[0mr_f\u001b[0m\u001b[0;34m,\u001b[0m \u001b[0mY\u001b[0m \u001b[0;34m+\u001b[0m \u001b[0ms\u001b[0m\u001b[0;34m.\u001b[0m\u001b[0mr_f\u001b[0m\u001b[0;34m,\u001b[0m \u001b[0mZ\u001b[0m \u001b[0;34m-\u001b[0m \u001b[0ms\u001b[0m\u001b[0;34m.\u001b[0m\u001b[0mr_f\u001b[0m\u001b[0;34m,\u001b[0m \u001b[0mZ\u001b[0m \u001b[0;34m+\u001b[0m \u001b[0ms\u001b[0m\u001b[0;34m.\u001b[0m\u001b[0mr_f\u001b[0m\u001b[0;34m)\u001b[0m\u001b[0;34m\u001b[0m\u001b[0;34m\u001b[0m\u001b[0m\n\u001b[0;32m--> 368\u001b[0;31m         \u001b[0ms\u001b[0m\u001b[0;34m.\u001b[0m\u001b[0mGetSphereProperty\u001b[0m\u001b[0;34m(\u001b[0m\u001b[0;34m)\u001b[0m\u001b[0;34m.\u001b[0m\u001b[0mSetColor\u001b[0m\u001b[0;34m(\u001b[0m\u001b[0mmcolors\u001b[0m\u001b[0;34m.\u001b[0m\u001b[0mhex2color\u001b[0m\u001b[0;34m(\u001b[0m\u001b[0mself\u001b[0m\u001b[0;34m.\u001b[0m\u001b[0mgeo_model\u001b[0m\u001b[0;34m.\u001b[0m\u001b[0msurfaces\u001b[0m\u001b[0;34m.\u001b[0m\u001b[0mdf\u001b[0m\u001b[0;34m.\u001b[0m\u001b[0mset_index\u001b[0m\u001b[0;34m(\u001b[0m\u001b[0;34m'id'\u001b[0m\u001b[0;34m)\u001b[0m\u001b[0;34m[\u001b[0m\u001b[0;34m'color'\u001b[0m\u001b[0;34m]\u001b[0m\u001b[0;34m[\u001b[0m\u001b[0mfn\u001b[0m\u001b[0;34m]\u001b[0m\u001b[0;34m)\u001b[0m\u001b[0;34m)\u001b[0m\u001b[0;31m#self.C_LOT[fn])\u001b[0m\u001b[0;34m\u001b[0m\u001b[0;34m\u001b[0m\u001b[0m\n\u001b[0m\u001b[1;32m    369\u001b[0m \u001b[0;34m\u001b[0m\u001b[0m\n\u001b[1;32m    370\u001b[0m         \u001b[0ms\u001b[0m\u001b[0;34m.\u001b[0m\u001b[0mSetCurrentRenderer\u001b[0m\u001b[0;34m(\u001b[0m\u001b[0mself\u001b[0m\u001b[0;34m.\u001b[0m\u001b[0mren_list\u001b[0m\u001b[0;34m[\u001b[0m\u001b[0mn_render\u001b[0m\u001b[0;34m]\u001b[0m\u001b[0;34m)\u001b[0m\u001b[0;34m\u001b[0m\u001b[0;34m\u001b[0m\u001b[0m\n",
      "\u001b[0;32m~/.conda/envs/gempy/lib/python3.7/site-packages/matplotlib/colors.py\u001b[0m in \u001b[0;36mto_rgb\u001b[0;34m(c)\u001b[0m\n\u001b[1;32m    298\u001b[0m \u001b[0;32mdef\u001b[0m \u001b[0mto_rgb\u001b[0m\u001b[0;34m(\u001b[0m\u001b[0mc\u001b[0m\u001b[0;34m)\u001b[0m\u001b[0;34m:\u001b[0m\u001b[0;34m\u001b[0m\u001b[0;34m\u001b[0m\u001b[0m\n\u001b[1;32m    299\u001b[0m     \u001b[0;34m\"\"\"Convert *c* to an RGB color, silently dropping the alpha channel.\"\"\"\u001b[0m\u001b[0;34m\u001b[0m\u001b[0;34m\u001b[0m\u001b[0m\n\u001b[0;32m--> 300\u001b[0;31m     \u001b[0;32mreturn\u001b[0m \u001b[0mto_rgba\u001b[0m\u001b[0;34m(\u001b[0m\u001b[0mc\u001b[0m\u001b[0;34m)\u001b[0m\u001b[0;34m[\u001b[0m\u001b[0;34m:\u001b[0m\u001b[0;36m3\u001b[0m\u001b[0;34m]\u001b[0m\u001b[0;34m\u001b[0m\u001b[0;34m\u001b[0m\u001b[0m\n\u001b[0m\u001b[1;32m    301\u001b[0m \u001b[0;34m\u001b[0m\u001b[0m\n\u001b[1;32m    302\u001b[0m \u001b[0;34m\u001b[0m\u001b[0m\n",
      "\u001b[0;32m~/.conda/envs/gempy/lib/python3.7/site-packages/matplotlib/colors.py\u001b[0m in \u001b[0;36mto_rgba\u001b[0;34m(c, alpha)\u001b[0m\n\u001b[1;32m    175\u001b[0m         \u001b[0mrgba\u001b[0m \u001b[0;34m=\u001b[0m \u001b[0;32mNone\u001b[0m\u001b[0;34m\u001b[0m\u001b[0;34m\u001b[0m\u001b[0m\n\u001b[1;32m    176\u001b[0m     \u001b[0;32mif\u001b[0m \u001b[0mrgba\u001b[0m \u001b[0;32mis\u001b[0m \u001b[0;32mNone\u001b[0m\u001b[0;34m:\u001b[0m  \u001b[0;31m# Suppress exception chaining of cache lookup failure.\u001b[0m\u001b[0;34m\u001b[0m\u001b[0;34m\u001b[0m\u001b[0m\n\u001b[0;32m--> 177\u001b[0;31m         \u001b[0mrgba\u001b[0m \u001b[0;34m=\u001b[0m \u001b[0m_to_rgba_no_colorcycle\u001b[0m\u001b[0;34m(\u001b[0m\u001b[0mc\u001b[0m\u001b[0;34m,\u001b[0m \u001b[0malpha\u001b[0m\u001b[0;34m)\u001b[0m\u001b[0;34m\u001b[0m\u001b[0;34m\u001b[0m\u001b[0m\n\u001b[0m\u001b[1;32m    178\u001b[0m         \u001b[0;32mtry\u001b[0m\u001b[0;34m:\u001b[0m\u001b[0;34m\u001b[0m\u001b[0;34m\u001b[0m\u001b[0m\n\u001b[1;32m    179\u001b[0m             \u001b[0m_colors_full_map\u001b[0m\u001b[0;34m.\u001b[0m\u001b[0mcache\u001b[0m\u001b[0;34m[\u001b[0m\u001b[0mc\u001b[0m\u001b[0;34m,\u001b[0m \u001b[0malpha\u001b[0m\u001b[0;34m]\u001b[0m \u001b[0;34m=\u001b[0m \u001b[0mrgba\u001b[0m\u001b[0;34m\u001b[0m\u001b[0;34m\u001b[0m\u001b[0m\n",
      "\u001b[0;32m~/.conda/envs/gempy/lib/python3.7/site-packages/matplotlib/colors.py\u001b[0m in \u001b[0;36m_to_rgba_no_colorcycle\u001b[0;34m(c, alpha)\u001b[0m\n\u001b[1;32m    238\u001b[0m         \u001b[0;31m# float)` and `np.array(...).astype(float)` all convert \"0.5\" to 0.5.\u001b[0m\u001b[0;34m\u001b[0m\u001b[0;34m\u001b[0m\u001b[0;34m\u001b[0m\u001b[0m\n\u001b[1;32m    239\u001b[0m         \u001b[0;31m# Test dimensionality to reject single floats.\u001b[0m\u001b[0;34m\u001b[0m\u001b[0;34m\u001b[0m\u001b[0;34m\u001b[0m\u001b[0m\n\u001b[0;32m--> 240\u001b[0;31m         \u001b[0;32mraise\u001b[0m \u001b[0mValueError\u001b[0m\u001b[0;34m(\u001b[0m\u001b[0;34m\"Invalid RGBA argument: {!r}\"\u001b[0m\u001b[0;34m.\u001b[0m\u001b[0mformat\u001b[0m\u001b[0;34m(\u001b[0m\u001b[0morig_c\u001b[0m\u001b[0;34m)\u001b[0m\u001b[0;34m)\u001b[0m\u001b[0;34m\u001b[0m\u001b[0;34m\u001b[0m\u001b[0m\n\u001b[0m\u001b[1;32m    241\u001b[0m     \u001b[0;31m# Return a tuple to prevent the cached value from being modified.\u001b[0m\u001b[0;34m\u001b[0m\u001b[0;34m\u001b[0m\u001b[0;34m\u001b[0m\u001b[0m\n\u001b[1;32m    242\u001b[0m     \u001b[0mc\u001b[0m \u001b[0;34m=\u001b[0m \u001b[0mtuple\u001b[0m\u001b[0;34m(\u001b[0m\u001b[0mc\u001b[0m\u001b[0;34m.\u001b[0m\u001b[0mastype\u001b[0m\u001b[0;34m(\u001b[0m\u001b[0mfloat\u001b[0m\u001b[0;34m)\u001b[0m\u001b[0;34m)\u001b[0m\u001b[0;34m\u001b[0m\u001b[0;34m\u001b[0m\u001b[0m\n",
      "\u001b[0;31mValueError\u001b[0m: Invalid RGBA argument: 1    #527682\n1    #728f02\nName: color, dtype: object"
     ]
    }
   ],
   "source": [
    "gp.plot.plot_3D(geo_model)"
   ]
  },
  {
   "cell_type": "markdown",
   "metadata": {},
   "source": [
    "Using the rescaled interpolation data, we can also run our 3D VTK visualization in an interactive mode which allows us to alter and update our model in real time. Similarly to the interactive 3D visualization of our input data, the changes are permamently saved (in the InterpolationInput dataframe object). Addtionally, the resulting changes in the geological models are re-computed in real time."
   ]
  },
  {
   "cell_type": "markdown",
   "metadata": {},
   "source": [
    "### Compute at a given location\n",
    "\n",
    "This is done by modifing the grid to a custom grid and recomputing. Notice that the results are given as *grid + surfaces_points_ref + surface_pontints_rest locations*"
   ]
  },
  {
   "cell_type": "code",
   "execution_count": null,
   "metadata": {
    "pycharm": {
     "is_executing": false
    }
   },
   "outputs": [],
   "source": [
    "x_i = np.array([[3,5,6]])\n",
    "sol = gp.compute_model_at(x_i, geo_model)"
   ]
  },
  {
   "cell_type": "markdown",
   "metadata": {},
   "source": [
    "Therefore if we just want the value at **x_i**:"
   ]
  },
  {
   "cell_type": "code",
   "execution_count": null,
   "metadata": {},
   "outputs": [],
   "source": [
    "sol[0][0, :x_i.shape[0]]"
   ]
  },
  {
   "cell_type": "markdown",
   "metadata": {},
   "source": [
    "### Save the model"
   ]
  },
  {
   "cell_type": "markdown",
   "metadata": {},
   "source": [
    "GemPy uses  Python [pickle] for fast storing temporary objects (https://docs.python.org/3/library/pickle.html). However, module version consistency is required. For loading a pickle into GemPy, you have to make sure that you are using the same version of pickle and dependent modules (e.g.: `Pandas`, `NumPy`) as were used when the data was originally stored.\n",
    "\n",
    "For long term-safer storage we can export the `pandas.DataFrames` to csv by using:"
   ]
  },
  {
   "cell_type": "code",
   "execution_count": null,
   "metadata": {},
   "outputs": [],
   "source": [
    "gp.save_model(geo_model, path=data_path+'/data/gempy_models')"
   ]
  }
 ],
 "metadata": {
  "celltoolbar": "Tags",
  "kernelspec": {
   "display_name": "Python 3",
   "language": "python",
   "name": "python3"
  },
  "language_info": {
   "codemirror_mode": {
    "name": "ipython",
    "version": 3
   },
   "file_extension": ".py",
   "mimetype": "text/x-python",
   "name": "python",
   "nbconvert_exporter": "python",
   "pygments_lexer": "ipython3",
   "version": "3.7.3"
  },
  "latex_envs": {
   "LaTeX_envs_menu_present": true,
   "autocomplete": true,
   "bibliofile": "biblio.bib",
   "cite_by": "apalike",
   "current_citInitial": 1,
   "eqLabelWithNumbers": true,
   "eqNumInitial": 1,
   "hotkeys": {
    "equation": "Ctrl-E",
    "itemize": "Ctrl-I"
   },
   "labels_anchors": false,
   "latex_user_defs": false,
   "report_style_numbering": false,
   "user_envs_cfg": false
  },
  "pycharm": {
   "stem_cell": {
    "cell_type": "raw",
    "metadata": {
     "collapsed": false
    },
    "source": []
   }
  },
  "toc": {
   "colors": {
    "hover_highlight": "#DAA520",
    "running_highlight": "#FF0000",
    "selected_highlight": "#FFD700"
   },
   "moveMenuLeft": true,
   "nav_menu": {
    "height": "67px",
    "width": "252px"
   },
   "navigate_menu": true,
   "number_sections": true,
   "sideBar": true,
   "threshold": 4,
   "toc_cell": false,
   "toc_section_display": "block",
   "toc_window_display": false,
   "widenNotebook": false
  }
 },
 "nbformat": 4,
 "nbformat_minor": 2
}
