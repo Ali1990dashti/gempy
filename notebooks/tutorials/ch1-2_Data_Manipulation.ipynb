{
 "cells": [
  {
   "cell_type": "markdown",
   "metadata": {},
   "source": [
    "## Chapter 1.2: Data Structure and Manipulation\n",
    "***\n",
    "In the previous tutorial we saw how we can create a model by calling a few lines of code from imported data. However modelling tends to be an iterative process. Here we will explore the tools that `GemPy` with the help of `pandas` offers to modify the input data of a model.\n",
    "\n",
    "There is 5 main  funtion \"types\" in GemPy:\n",
    "\n",
    "- *create*: \n",
    "    - create new objects\n",
    "    - return the objects\n",
    " \n",
    "- *set*\n",
    "    - set given values **inplace**\n",
    "\n",
    "- *update*\n",
    "    - update dataframe or other attribute from other object or many objects. Usually this object is not passed as argument (this is the main difference with map)\n",
    "\n",
    "- *map*\n",
    "    - update dataframe (so far mainly df) or other attribute from an object to another object.\n",
    "    - Completelly directed. One attribute/property is updated by another one.\n",
    "    - In general, we map_from so the method is in the mutated object.\n",
    "\n",
    "- *get*\n",
    "    - return an image of the object\n",
    "    \n",
    "The intention is that a function/method that does not fall in any of these categories has a name (verb in principle) self explanatory. \n",
    "\n",
    "\n",
    "As always we start importing the usual packages and reading expample data:"
   ]
  },
  {
   "cell_type": "markdown",
   "metadata": {},
   "source": [
    "<p align=\"center\"><iframe src=\"https://atlas.mindmup.com/2018/11/ca2c3230ddc511e887555f7d8bb30b4d/gempy_mind_map/index.html\"></iframe></p>\n"
   ]
  },
  {
   "cell_type": "code",
   "execution_count": 1,
   "metadata": {},
   "outputs": [
    {
     "data": {
      "text/html": [
       "\n",
       "        <iframe\n",
       "            width=\"1000\"\n",
       "            height=\"1000\"\n",
       "            src=\"https://atlas.mindmup.com/2018/11/ca2c3230ddc511e887555f7d8bb30b4d/gempy_mind_map/index.html\"\n",
       "            frameborder=\"0\"\n",
       "            allowfullscreen\n",
       "        ></iframe>\n",
       "        "
      ],
      "text/plain": [
       "<IPython.lib.display.IFrame at 0x10df56cc0>"
      ]
     },
     "execution_count": 1,
     "metadata": {},
     "output_type": "execute_result"
    }
   ],
   "source": [
    "from IPython.display import IFrame    \n",
    "IFrame(\"https://atlas.mindmup.com/2018/11/ca2c3230ddc511e887555f7d8bb30b4d/gempy_mind_map/index.html\",\n",
    "      width=1000, height=1000)"
   ]
  },
  {
   "cell_type": "code",
   "execution_count": 1,
   "metadata": {},
   "outputs": [
    {
     "name": "stderr",
     "output_type": "stream",
     "text": [
      "../../gempy/core/gempy_front.py:668: FutureWarning: create_data will get deprecated in the next version of gempy. It still exist only to keepthe behaviour equal to older version. Use init_data.\n",
      "  \"the behaviour equal to older version. Use init_data.\", FutureWarning)\n"
     ]
    },
    {
     "name": "stdout",
     "output_type": "stream",
     "text": [
      "[False]\n"
     ]
    },
    {
     "name": "stderr",
     "output_type": "stream",
     "text": [
      "../../gempy/core/data.py:1532: RuntimeWarning: overflow encountered in double_scalars\n",
      "  (extent[2] - extent[3]) ** 2 +\n"
     ]
    },
    {
     "name": "stdout",
     "output_type": "stream",
     "text": [
      "No id or order_series in the input\n",
      "Length of formation_names does not match number of formations. Too many.\n",
      "Empty DataFrame\n",
      "Columns: [formation, series, id, isBasement]\n",
      "Index: []\n",
      "     formation series   id isBasement\n",
      "0        Shale    NaN  NaN        NaN\n",
      "1  Sandstone_1    NaN  NaN        NaN\n",
      "2    Siltstone    NaN  NaN        NaN\n",
      "3  Sandstone_2    NaN  NaN        NaN\n",
      "4   Main_Fault    NaN  NaN        NaN\n",
      "[False]\n"
     ]
    }
   ],
   "source": [
    "# These two lines are necessary only if GemPy is not installed\n",
    "import sys, os\n",
    "sys.path.append(\"../..\")\n",
    "\n",
    "# Importing GemPy\n",
    "import gempy as gp\n",
    "\n",
    "# Embedding matplotlib figures in the notebooks\n",
    "%matplotlib inline\n",
    "\n",
    "# Importing auxiliary libraries\n",
    "import numpy as np\n",
    "import pandas as pn\n",
    "import matplotlib.pyplot as plt\n",
    "\n",
    "# Importing the data from CSV-files and setting extent and resolution\n",
    "geo_model = gp.create_data([0,2000.,0,2000.,0,2000.],[20,20,20], \n",
    "      path_o = os.pardir+\"/input_data/tut_chapter1/simple_fault_model_orientations.csv\",\n",
    "      path_i = os.pardir+\"/input_data/tut_chapter1/simple_fault_model_points.csv\") "
   ]
  },
  {
   "cell_type": "code",
   "execution_count": 3,
   "metadata": {},
   "outputs": [
    {
     "data": {
      "text/html": [
       "<table border=\"1\" class=\"dataframe\">\n",
       "  <thead>\n",
       "    <tr style=\"text-align: right;\">\n",
       "      <th></th>\n",
       "      <th>formation</th>\n",
       "      <th>series</th>\n",
       "      <th>id</th>\n",
       "      <th>isBasement</th>\n",
       "    </tr>\n",
       "  </thead>\n",
       "  <tbody>\n",
       "    <tr>\n",
       "      <th>0</th>\n",
       "      <td>Shale</td>\n",
       "      <td>Default series</td>\n",
       "      <td>1</td>\n",
       "      <td>False</td>\n",
       "    </tr>\n",
       "    <tr>\n",
       "      <th>1</th>\n",
       "      <td>Sandstone_1</td>\n",
       "      <td>Default series</td>\n",
       "      <td>2</td>\n",
       "      <td>False</td>\n",
       "    </tr>\n",
       "    <tr>\n",
       "      <th>2</th>\n",
       "      <td>Siltstone</td>\n",
       "      <td>Default series</td>\n",
       "      <td>3</td>\n",
       "      <td>False</td>\n",
       "    </tr>\n",
       "    <tr>\n",
       "      <th>3</th>\n",
       "      <td>Sandstone_2</td>\n",
       "      <td>Default series</td>\n",
       "      <td>4</td>\n",
       "      <td>False</td>\n",
       "    </tr>\n",
       "    <tr>\n",
       "      <th>4</th>\n",
       "      <td>Main_Fault</td>\n",
       "      <td>Default series</td>\n",
       "      <td>5</td>\n",
       "      <td>False</td>\n",
       "    </tr>\n",
       "    <tr>\n",
       "      <th>5</th>\n",
       "      <td>basement</td>\n",
       "      <td>NaN</td>\n",
       "      <td>6</td>\n",
       "      <td>True</td>\n",
       "    </tr>\n",
       "  </tbody>\n",
       "</table>"
      ],
      "text/plain": [
       "     formation          series  id  isBasement\n",
       "0        Shale  Default series   1       False\n",
       "1  Sandstone_1  Default series   2       False\n",
       "2    Siltstone  Default series   3       False\n",
       "3  Sandstone_2  Default series   4       False\n",
       "4   Main_Fault  Default series   5       False\n",
       "5     basement             NaN   6        True"
      ]
     },
     "execution_count": 3,
     "metadata": {},
     "output_type": "execute_result"
    }
   ],
   "source": [
    "geo_model.formations"
   ]
  },
  {
   "cell_type": "code",
   "execution_count": 4,
   "metadata": {},
   "outputs": [
    {
     "data": {
      "text/html": [
       "<table border=\"1\" class=\"dataframe\">\n",
       "  <thead>\n",
       "    <tr style=\"text-align: right;\">\n",
       "      <th></th>\n",
       "      <th>order_series</th>\n",
       "      <th>BottomRelation</th>\n",
       "    </tr>\n",
       "  </thead>\n",
       "  <tbody>\n",
       "    <tr>\n",
       "      <th>Default series</th>\n",
       "      <td>NaN</td>\n",
       "      <td>NaN</td>\n",
       "    </tr>\n",
       "  </tbody>\n",
       "</table>"
      ],
      "text/plain": [
       "               order_series BottomRelation\n",
       "Default series          NaN            NaN"
      ]
     },
     "execution_count": 4,
     "metadata": {},
     "output_type": "execute_result"
    }
   ],
   "source": [
    "geo_model.series"
   ]
  },
  {
   "cell_type": "code",
   "execution_count": 5,
   "metadata": {},
   "outputs": [
    {
     "data": {
      "text/html": [
       "<table border=\"1\" class=\"dataframe\">\n",
       "  <thead>\n",
       "    <tr style=\"text-align: right;\">\n",
       "      <th></th>\n",
       "      <th>isFault</th>\n",
       "      <th>isFinite</th>\n",
       "    </tr>\n",
       "  </thead>\n",
       "  <tbody>\n",
       "    <tr>\n",
       "      <th>Default series</th>\n",
       "      <td>False</td>\n",
       "      <td>NaN</td>\n",
       "    </tr>\n",
       "  </tbody>\n",
       "</table>"
      ],
      "text/plain": [
       "                isFault isFinite\n",
       "Default series    False      NaN"
      ]
     },
     "execution_count": 5,
     "metadata": {},
     "output_type": "execute_result"
    }
   ],
   "source": [
    "geo_model.faults"
   ]
  },
  {
   "cell_type": "code",
   "execution_count": null,
   "metadata": {},
   "outputs": [],
   "source": []
  },
  {
   "cell_type": "code",
   "execution_count": 5,
   "metadata": {},
   "outputs": [
    {
     "data": {
      "image/png": "[encoded data removed]",
      "text/plain": [
       "<matplotlib.figure.Figure at 0x1110c9470>"
      ]
     },
     "execution_count": 5,
     "metadata": {},
     "output_type": "execute_result"
    }
   ],
   "source": [
    "a = gp.StratigraphicPile(geo_model.series, geo_model.formations.df)\n",
    "a.figure"
   ]
  },
  {
   "cell_type": "code",
   "execution_count": 6,
   "metadata": {},
   "outputs": [],
   "source": [
    "d =  {\"Fault_Series\":'Main_Fault', \n",
    "                                  \"Strat_Series\": ('Sandstone_2','Siltstone',\n",
    "                                  'Shale', 'Sandstone_1')}"
   ]
  },
  {
   "cell_type": "code",
   "execution_count": 7,
   "metadata": {},
   "outputs": [],
   "source": [
    "geo_model.formations.map_series(d)"
   ]
  },
  {
   "cell_type": "code",
   "execution_count": 8,
   "metadata": {},
   "outputs": [],
   "source": [
    "series_idx = geo_model.series.df.index.set_categories(d.keys(), rename=True)\n",
    "# If order, it has to go here\n",
    "order_series = [\"Fault_Series\", 'Strat_Series']\n",
    "# ----------------------------\n",
    "geo_model.series.df.index =  series_idx\n",
    "geo_model.faults.df.index =  series_idx\n",
    "geo_model.faults.faults_relations_df.index = series_idx\n",
    "geo_model.faults.faults_relations_df.columns = series_idx"
   ]
  },
  {
   "cell_type": "code",
   "execution_count": 10,
   "metadata": {},
   "outputs": [
    {
     "data": {
      "text/html": [
       "<div>\n",
       "<style scoped>\n",
       "    .dataframe tbody tr th:only-of-type {\n",
       "        vertical-align: middle;\n",
       "    }\n",
       "\n",
       "    .dataframe tbody tr th {\n",
       "        vertical-align: top;\n",
       "    }\n",
       "\n",
       "    .dataframe thead th {\n",
       "        text-align: right;\n",
       "    }\n",
       "</style>\n",
       "<table border=\"1\" class=\"dataframe\">\n",
       "  <thead>\n",
       "    <tr style=\"text-align: right;\">\n",
       "      <th></th>\n",
       "      <th>Fault_Series</th>\n",
       "    </tr>\n",
       "  </thead>\n",
       "  <tbody>\n",
       "    <tr>\n",
       "      <th>Fault_Series</th>\n",
       "      <td>False</td>\n",
       "    </tr>\n",
       "  </tbody>\n",
       "</table>\n",
       "</div>"
      ],
      "text/plain": [
       "              Fault_Series\n",
       "Fault_Series         False"
      ]
     },
     "execution_count": 10,
     "metadata": {},
     "output_type": "execute_result"
    }
   ],
   "source": [
    "geo_model.faults.faults_relations_df"
   ]
  },
  {
   "cell_type": "code",
   "execution_count": 9,
   "metadata": {},
   "outputs": [],
   "source": [
    "# Add series\n",
    "for c in d.keys():\n",
    "    geo_model.series.df.loc[c] = np.nan\n",
    "    geo_model.faults.df.loc[c, 'isFault'] = np.nan\n",
    "    geo_model.faults.faults_relations_df.loc[c,c] = np.nan\n",
    "  #  geo_model.faults.faults_relations_df[c, c] = False"
   ]
  },
  {
   "cell_type": "code",
   "execution_count": null,
   "metadata": {},
   "outputs": [],
   "source": []
  },
  {
   "cell_type": "code",
   "execution_count": 10,
   "metadata": {},
   "outputs": [
    {
     "data": {
      "text/html": [
       "<table border=\"1\" class=\"dataframe\">\n",
       "  <thead>\n",
       "    <tr style=\"text-align: right;\">\n",
       "      <th></th>\n",
       "      <th>order_series</th>\n",
       "      <th>BottomRelation</th>\n",
       "    </tr>\n",
       "  </thead>\n",
       "  <tbody>\n",
       "    <tr>\n",
       "      <th>Fault_Series</th>\n",
       "      <td>1</td>\n",
       "      <td>NaN</td>\n",
       "    </tr>\n",
       "    <tr>\n",
       "      <th>Strat_Series</th>\n",
       "      <td>2</td>\n",
       "      <td>NaN</td>\n",
       "    </tr>\n",
       "  </tbody>\n",
       "</table>"
      ],
      "text/plain": [
       "              order_series BottomRelation\n",
       "Fault_Series             1            NaN\n",
       "Strat_Series             2            NaN"
      ]
     },
     "execution_count": 10,
     "metadata": {},
     "output_type": "execute_result"
    }
   ],
   "source": [
    "geo_model.series.update_order_series()\n",
    "geo_model.series\n"
   ]
  },
  {
   "cell_type": "code",
   "execution_count": 11,
   "metadata": {},
   "outputs": [
    {
     "name": "stdout",
     "output_type": "stream",
     "text": [
      "[ True False]\n"
     ]
    },
    {
     "data": {
      "text/html": [
       "<div>\n",
       "<style scoped>\n",
       "    .dataframe tbody tr th:only-of-type {\n",
       "        vertical-align: middle;\n",
       "    }\n",
       "\n",
       "    .dataframe tbody tr th {\n",
       "        vertical-align: top;\n",
       "    }\n",
       "\n",
       "    .dataframe thead th {\n",
       "        text-align: right;\n",
       "    }\n",
       "</style>\n",
       "<table border=\"1\" class=\"dataframe\">\n",
       "  <thead>\n",
       "    <tr style=\"text-align: right;\">\n",
       "      <th></th>\n",
       "      <th>isFault</th>\n",
       "      <th>isFinite</th>\n",
       "    </tr>\n",
       "  </thead>\n",
       "  <tbody>\n",
       "    <tr>\n",
       "      <th>Fault_Series</th>\n",
       "      <td>True</td>\n",
       "      <td>NaN</td>\n",
       "    </tr>\n",
       "    <tr>\n",
       "      <th>Strat_Series</th>\n",
       "      <td>False</td>\n",
       "      <td>NaN</td>\n",
       "    </tr>\n",
       "  </tbody>\n",
       "</table>\n",
       "</div>"
      ],
      "text/plain": [
       "              isFault isFinite\n",
       "Fault_Series     True      NaN\n",
       "Strat_Series    False      NaN"
      ]
     },
     "execution_count": 11,
     "metadata": {},
     "output_type": "execute_result"
    }
   ],
   "source": [
    "geo_model.faults\n",
    "geo_model.faults.set_is_fault()"
   ]
  },
  {
   "cell_type": "code",
   "execution_count": 12,
   "metadata": {},
   "outputs": [
    {
     "data": {
      "text/html": [
       "<div>\n",
       "<style scoped>\n",
       "    .dataframe tbody tr th:only-of-type {\n",
       "        vertical-align: middle;\n",
       "    }\n",
       "\n",
       "    .dataframe tbody tr th {\n",
       "        vertical-align: top;\n",
       "    }\n",
       "\n",
       "    .dataframe thead th {\n",
       "        text-align: right;\n",
       "    }\n",
       "</style>\n",
       "<table border=\"1\" class=\"dataframe\">\n",
       "  <thead>\n",
       "    <tr style=\"text-align: right;\">\n",
       "      <th></th>\n",
       "      <th>Fault_Series</th>\n",
       "      <th>Strat_Series</th>\n",
       "    </tr>\n",
       "  </thead>\n",
       "  <tbody>\n",
       "    <tr>\n",
       "      <th>Fault_Series</th>\n",
       "      <td>NaN</td>\n",
       "      <td>NaN</td>\n",
       "    </tr>\n",
       "    <tr>\n",
       "      <th>Strat_Series</th>\n",
       "      <td>NaN</td>\n",
       "      <td>NaN</td>\n",
       "    </tr>\n",
       "  </tbody>\n",
       "</table>\n",
       "</div>"
      ],
      "text/plain": [
       "              Fault_Series  Strat_Series\n",
       "Fault_Series           NaN           NaN\n",
       "Strat_Series           NaN           NaN"
      ]
     },
     "execution_count": 12,
     "metadata": {},
     "output_type": "execute_result"
    }
   ],
   "source": [
    "geo_model.faults.faults_relations_df"
   ]
  },
  {
   "cell_type": "code",
   "execution_count": 13,
   "metadata": {},
   "outputs": [
    {
     "data": {
      "text/plain": [
       "4     Main_Fault\n",
       "1    Sandstone_1\n",
       "3    Sandstone_2\n",
       "0          Shale\n",
       "2      Siltstone\n",
       "5       basement\n",
       "Name: formation, dtype: category\n",
       "Categories (6, object): [Main_Fault, Sandstone_1, Sandstone_2, Shale, Siltstone, basement]"
      ]
     },
     "execution_count": 13,
     "metadata": {},
     "output_type": "execute_result"
    }
   ],
   "source": [
    "f = geo_model.formations.df['formation']\n",
    "f.sort_values()"
   ]
  },
  {
   "cell_type": "code",
   "execution_count": 14,
   "metadata": {},
   "outputs": [],
   "source": [
    "order_formations=['Main_Fault', 'Sandstone_2','Siltstone','Shale', 'Sandstone_1', 'basement']\n",
    "geo_model.formations.df['formation'].cat.reorder_categories(order_formations, inplace=True)"
   ]
  },
  {
   "cell_type": "code",
   "execution_count": 15,
   "metadata": {},
   "outputs": [
    {
     "data": {
      "text/html": [
       "<div>\n",
       "<style scoped>\n",
       "    .dataframe tbody tr th:only-of-type {\n",
       "        vertical-align: middle;\n",
       "    }\n",
       "\n",
       "    .dataframe tbody tr th {\n",
       "        vertical-align: top;\n",
       "    }\n",
       "\n",
       "    .dataframe thead th {\n",
       "        text-align: right;\n",
       "    }\n",
       "</style>\n",
       "<table border=\"1\" class=\"dataframe\">\n",
       "  <thead>\n",
       "    <tr style=\"text-align: right;\">\n",
       "      <th></th>\n",
       "      <th>formation</th>\n",
       "      <th>series</th>\n",
       "      <th>id</th>\n",
       "      <th>isBasement</th>\n",
       "    </tr>\n",
       "  </thead>\n",
       "  <tbody>\n",
       "    <tr>\n",
       "      <th>0</th>\n",
       "      <td>Main_Fault</td>\n",
       "      <td>Fault_Series</td>\n",
       "      <td>1</td>\n",
       "      <td>False</td>\n",
       "    </tr>\n",
       "    <tr>\n",
       "      <th>1</th>\n",
       "      <td>Sandstone_2</td>\n",
       "      <td>Strat_Series</td>\n",
       "      <td>2</td>\n",
       "      <td>False</td>\n",
       "    </tr>\n",
       "    <tr>\n",
       "      <th>2</th>\n",
       "      <td>Siltstone</td>\n",
       "      <td>Strat_Series</td>\n",
       "      <td>3</td>\n",
       "      <td>False</td>\n",
       "    </tr>\n",
       "    <tr>\n",
       "      <th>3</th>\n",
       "      <td>Shale</td>\n",
       "      <td>Strat_Series</td>\n",
       "      <td>4</td>\n",
       "      <td>False</td>\n",
       "    </tr>\n",
       "    <tr>\n",
       "      <th>4</th>\n",
       "      <td>Sandstone_1</td>\n",
       "      <td>Strat_Series</td>\n",
       "      <td>5</td>\n",
       "      <td>False</td>\n",
       "    </tr>\n",
       "    <tr>\n",
       "      <th>5</th>\n",
       "      <td>basement</td>\n",
       "      <td>NaN</td>\n",
       "      <td>6</td>\n",
       "      <td>True</td>\n",
       "    </tr>\n",
       "  </tbody>\n",
       "</table>\n",
       "</div>"
      ],
      "text/plain": [
       "     formation        series  id  isBasement\n",
       "0   Main_Fault  Fault_Series   1       False\n",
       "1  Sandstone_2  Strat_Series   2       False\n",
       "2    Siltstone  Strat_Series   3       False\n",
       "3        Shale  Strat_Series   4       False\n",
       "4  Sandstone_1  Strat_Series   5       False\n",
       "5     basement           NaN   6        True"
      ]
     },
     "execution_count": 15,
     "metadata": {},
     "output_type": "execute_result"
    }
   ],
   "source": [
    "geo_model.formations.df.sort_values(['formation'], inplace=True)\n",
    "geo_model.formations.df.reset_index(drop=True, inplace=True)\n",
    "geo_model.formations.set_id()"
   ]
  },
  {
   "cell_type": "code",
   "execution_count": 16,
   "metadata": {},
   "outputs": [
    {
     "data": {
      "text/html": [
       "<table border=\"1\" class=\"dataframe\">\n",
       "  <thead>\n",
       "    <tr style=\"text-align: right;\">\n",
       "      <th></th>\n",
       "      <th>formation</th>\n",
       "      <th>series</th>\n",
       "      <th>id</th>\n",
       "      <th>isBasement</th>\n",
       "    </tr>\n",
       "  </thead>\n",
       "  <tbody>\n",
       "    <tr>\n",
       "      <th>0</th>\n",
       "      <td>Main_Fault</td>\n",
       "      <td>Fault_Series</td>\n",
       "      <td>1</td>\n",
       "      <td>False</td>\n",
       "    </tr>\n",
       "    <tr>\n",
       "      <th>1</th>\n",
       "      <td>Sandstone_2</td>\n",
       "      <td>Strat_Series</td>\n",
       "      <td>2</td>\n",
       "      <td>False</td>\n",
       "    </tr>\n",
       "    <tr>\n",
       "      <th>2</th>\n",
       "      <td>Siltstone</td>\n",
       "      <td>Strat_Series</td>\n",
       "      <td>3</td>\n",
       "      <td>False</td>\n",
       "    </tr>\n",
       "    <tr>\n",
       "      <th>3</th>\n",
       "      <td>Shale</td>\n",
       "      <td>Strat_Series</td>\n",
       "      <td>4</td>\n",
       "      <td>False</td>\n",
       "    </tr>\n",
       "    <tr>\n",
       "      <th>4</th>\n",
       "      <td>Sandstone_1</td>\n",
       "      <td>Strat_Series</td>\n",
       "      <td>5</td>\n",
       "      <td>False</td>\n",
       "    </tr>\n",
       "    <tr>\n",
       "      <th>5</th>\n",
       "      <td>basement</td>\n",
       "      <td>NaN</td>\n",
       "      <td>6</td>\n",
       "      <td>True</td>\n",
       "    </tr>\n",
       "  </tbody>\n",
       "</table>"
      ],
      "text/plain": [
       "     formation        series  id  isBasement\n",
       "0   Main_Fault  Fault_Series   1       False\n",
       "1  Sandstone_2  Strat_Series   2       False\n",
       "2    Siltstone  Strat_Series   3       False\n",
       "3        Shale  Strat_Series   4       False\n",
       "4  Sandstone_1  Strat_Series   5       False\n",
       "5     basement           NaN   6        True"
      ]
     },
     "execution_count": 16,
     "metadata": {},
     "output_type": "execute_result"
    }
   ],
   "source": [
    "geo_model.formations"
   ]
  },
  {
   "cell_type": "code",
   "execution_count": 17,
   "metadata": {},
   "outputs": [],
   "source": [
    "# # Assigning series to formations as well as their order (timewise)\n",
    "# gp.set_series(geo_model, {\"Fault_Series\":'Main_Fault', \n",
    "#                          \"Strat_Series\": ('Sandstone_2','Siltstone',\n",
    "#                                           'Shale', 'Sandstone_1')},\n",
    "#                        order_series = [\"Fault_Series\", 'Strat_Series'],\n",
    "#                        order_formations=['Main_Fault', \n",
    "#                                          'Sandstone_2','Siltstone',\n",
    "#                                          'Shale', 'Sandstone_1',\n",
    "#                                          ], verbose=1) "
   ]
  },
  {
   "cell_type": "code",
   "execution_count": 18,
   "metadata": {},
   "outputs": [],
   "source": [
    "gp.map_to_data(geo_model, geo_model.series, geo_model.formations, geo_model.faults)"
   ]
  },
  {
   "cell_type": "code",
   "execution_count": 19,
   "metadata": {},
   "outputs": [
    {
     "data": {
      "text/html": [
       "<table border=\"1\" class=\"dataframe\">\n",
       "  <thead>\n",
       "    <tr style=\"text-align: right;\">\n",
       "      <th></th>\n",
       "      <th>X</th>\n",
       "      <th>Y</th>\n",
       "      <th>Z</th>\n",
       "      <th>formation</th>\n",
       "      <th>series</th>\n",
       "      <th>id</th>\n",
       "      <th>order_series</th>\n",
       "      <th>isFault</th>\n",
       "      <th>X_r</th>\n",
       "      <th>Y_r</th>\n",
       "      <th>Z_r</th>\n",
       "    </tr>\n",
       "  </thead>\n",
       "  <tbody>\n",
       "    <tr>\n",
       "      <th>52</th>\n",
       "      <td>700.0</td>\n",
       "      <td>1000.0</td>\n",
       "      <td>900.0</td>\n",
       "      <td>Main_Fault</td>\n",
       "      <td>Fault_Series</td>\n",
       "      <td>1</td>\n",
       "      <td>1</td>\n",
       "      <td>True</td>\n",
       "      <td>0.460626</td>\n",
       "      <td>0.500100</td>\n",
       "      <td>0.500100</td>\n",
       "    </tr>\n",
       "    <tr>\n",
       "      <th>53</th>\n",
       "      <td>600.0</td>\n",
       "      <td>1000.0</td>\n",
       "      <td>600.0</td>\n",
       "      <td>Main_Fault</td>\n",
       "      <td>Fault_Series</td>\n",
       "      <td>1</td>\n",
       "      <td>1</td>\n",
       "      <td>True</td>\n",
       "      <td>0.434311</td>\n",
       "      <td>0.500100</td>\n",
       "      <td>0.421153</td>\n",
       "    </tr>\n",
       "    <tr>\n",
       "      <th>54</th>\n",
       "      <td>500.0</td>\n",
       "      <td>1000.0</td>\n",
       "      <td>300.0</td>\n",
       "      <td>Main_Fault</td>\n",
       "      <td>Fault_Series</td>\n",
       "      <td>1</td>\n",
       "      <td>1</td>\n",
       "      <td>True</td>\n",
       "      <td>0.407995</td>\n",
       "      <td>0.500100</td>\n",
       "      <td>0.342205</td>\n",
       "    </tr>\n",
       "    <tr>\n",
       "      <th>55</th>\n",
       "      <td>800.0</td>\n",
       "      <td>1000.0</td>\n",
       "      <td>1200.0</td>\n",
       "      <td>Main_Fault</td>\n",
       "      <td>Fault_Series</td>\n",
       "      <td>1</td>\n",
       "      <td>1</td>\n",
       "      <td>True</td>\n",
       "      <td>0.486942</td>\n",
       "      <td>0.500100</td>\n",
       "      <td>0.579047</td>\n",
       "    </tr>\n",
       "    <tr>\n",
       "      <th>56</th>\n",
       "      <td>900.0</td>\n",
       "      <td>1000.0</td>\n",
       "      <td>1500.0</td>\n",
       "      <td>Main_Fault</td>\n",
       "      <td>Fault_Series</td>\n",
       "      <td>1</td>\n",
       "      <td>1</td>\n",
       "      <td>True</td>\n",
       "      <td>0.513258</td>\n",
       "      <td>0.500100</td>\n",
       "      <td>0.657995</td>\n",
       "    </tr>\n",
       "    <tr>\n",
       "      <th>44</th>\n",
       "      <td>0.0</td>\n",
       "      <td>1000.0</td>\n",
       "      <td>1500.0</td>\n",
       "      <td>Sandstone_2</td>\n",
       "      <td>Strat_Series</td>\n",
       "      <td>2</td>\n",
       "      <td>2</td>\n",
       "      <td>False</td>\n",
       "      <td>0.276416</td>\n",
       "      <td>0.500100</td>\n",
       "      <td>0.657995</td>\n",
       "    </tr>\n",
       "    <tr>\n",
       "      <th>45</th>\n",
       "      <td>300.0</td>\n",
       "      <td>1000.0</td>\n",
       "      <td>1400.0</td>\n",
       "      <td>Sandstone_2</td>\n",
       "      <td>Strat_Series</td>\n",
       "      <td>2</td>\n",
       "      <td>2</td>\n",
       "      <td>False</td>\n",
       "      <td>0.355363</td>\n",
       "      <td>0.500100</td>\n",
       "      <td>0.631679</td>\n",
       "    </tr>\n",
       "    <tr>\n",
       "      <th>46</th>\n",
       "      <td>600.0</td>\n",
       "      <td>1000.0</td>\n",
       "      <td>1300.0</td>\n",
       "      <td>Sandstone_2</td>\n",
       "      <td>Strat_Series</td>\n",
       "      <td>2</td>\n",
       "      <td>2</td>\n",
       "      <td>False</td>\n",
       "      <td>0.434311</td>\n",
       "      <td>0.500100</td>\n",
       "      <td>0.605363</td>\n",
       "    </tr>\n",
       "    <tr>\n",
       "      <th>47</th>\n",
       "      <td>1100.0</td>\n",
       "      <td>1000.0</td>\n",
       "      <td>1300.0</td>\n",
       "      <td>Sandstone_2</td>\n",
       "      <td>Strat_Series</td>\n",
       "      <td>2</td>\n",
       "      <td>2</td>\n",
       "      <td>False</td>\n",
       "      <td>0.565889</td>\n",
       "      <td>0.500100</td>\n",
       "      <td>0.605363</td>\n",
       "    </tr>\n",
       "    <tr>\n",
       "      <th>48</th>\n",
       "      <td>1400.0</td>\n",
       "      <td>1000.0</td>\n",
       "      <td>1250.0</td>\n",
       "      <td>Sandstone_2</td>\n",
       "      <td>Strat_Series</td>\n",
       "      <td>2</td>\n",
       "      <td>2</td>\n",
       "      <td>False</td>\n",
       "      <td>0.644837</td>\n",
       "      <td>0.500100</td>\n",
       "      <td>0.592205</td>\n",
       "    </tr>\n",
       "    <tr>\n",
       "      <th>49</th>\n",
       "      <td>1700.0</td>\n",
       "      <td>1000.0</td>\n",
       "      <td>1300.0</td>\n",
       "      <td>Sandstone_2</td>\n",
       "      <td>Strat_Series</td>\n",
       "      <td>2</td>\n",
       "      <td>2</td>\n",
       "      <td>False</td>\n",
       "      <td>0.723784</td>\n",
       "      <td>0.500100</td>\n",
       "      <td>0.605363</td>\n",
       "    </tr>\n",
       "    <tr>\n",
       "      <th>50</th>\n",
       "      <td>1500.0</td>\n",
       "      <td>500.0</td>\n",
       "      <td>1200.0</td>\n",
       "      <td>Sandstone_2</td>\n",
       "      <td>Strat_Series</td>\n",
       "      <td>2</td>\n",
       "      <td>2</td>\n",
       "      <td>False</td>\n",
       "      <td>0.671153</td>\n",
       "      <td>0.368521</td>\n",
       "      <td>0.579047</td>\n",
       "    </tr>\n",
       "    <tr>\n",
       "      <th>51</th>\n",
       "      <td>1500.0</td>\n",
       "      <td>1500.0</td>\n",
       "      <td>1150.0</td>\n",
       "      <td>Sandstone_2</td>\n",
       "      <td>Strat_Series</td>\n",
       "      <td>2</td>\n",
       "      <td>2</td>\n",
       "      <td>False</td>\n",
       "      <td>0.671153</td>\n",
       "      <td>0.631679</td>\n",
       "      <td>0.565889</td>\n",
       "    </tr>\n",
       "    <tr>\n",
       "      <th>31</th>\n",
       "      <td>900.0</td>\n",
       "      <td>150.0</td>\n",
       "      <td>920.0</td>\n",
       "      <td>Siltstone</td>\n",
       "      <td>Strat_Series</td>\n",
       "      <td>3</td>\n",
       "      <td>2</td>\n",
       "      <td>False</td>\n",
       "      <td>0.513258</td>\n",
       "      <td>0.276416</td>\n",
       "      <td>0.505363</td>\n",
       "    </tr>\n",
       "    <tr>\n",
       "      <th>32</th>\n",
       "      <td>900.0</td>\n",
       "      <td>300.0</td>\n",
       "      <td>920.0</td>\n",
       "      <td>Siltstone</td>\n",
       "      <td>Strat_Series</td>\n",
       "      <td>3</td>\n",
       "      <td>2</td>\n",
       "      <td>False</td>\n",
       "      <td>0.513258</td>\n",
       "      <td>0.315889</td>\n",
       "      <td>0.505363</td>\n",
       "    </tr>\n",
       "    <tr>\n",
       "      <th>33</th>\n",
       "      <td>900.0</td>\n",
       "      <td>1500.0</td>\n",
       "      <td>920.0</td>\n",
       "      <td>Siltstone</td>\n",
       "      <td>Strat_Series</td>\n",
       "      <td>3</td>\n",
       "      <td>2</td>\n",
       "      <td>False</td>\n",
       "      <td>0.513258</td>\n",
       "      <td>0.631679</td>\n",
       "      <td>0.505363</td>\n",
       "    </tr>\n",
       "    <tr>\n",
       "      <th>34</th>\n",
       "      <td>900.0</td>\n",
       "      <td>1700.0</td>\n",
       "      <td>820.0</td>\n",
       "      <td>Siltstone</td>\n",
       "      <td>Strat_Series</td>\n",
       "      <td>3</td>\n",
       "      <td>2</td>\n",
       "      <td>False</td>\n",
       "      <td>0.513258</td>\n",
       "      <td>0.684311</td>\n",
       "      <td>0.479047</td>\n",
       "    </tr>\n",
       "    <tr>\n",
       "      <th>35</th>\n",
       "      <td>900.0</td>\n",
       "      <td>1950.0</td>\n",
       "      <td>870.0</td>\n",
       "      <td>Siltstone</td>\n",
       "      <td>Strat_Series</td>\n",
       "      <td>3</td>\n",
       "      <td>2</td>\n",
       "      <td>False</td>\n",
       "      <td>0.513258</td>\n",
       "      <td>0.750100</td>\n",
       "      <td>0.492205</td>\n",
       "    </tr>\n",
       "    <tr>\n",
       "      <th>36</th>\n",
       "      <td>0.0</td>\n",
       "      <td>1000.0</td>\n",
       "      <td>1300.0</td>\n",
       "      <td>Siltstone</td>\n",
       "      <td>Strat_Series</td>\n",
       "      <td>3</td>\n",
       "      <td>2</td>\n",
       "      <td>False</td>\n",
       "      <td>0.276416</td>\n",
       "      <td>0.500100</td>\n",
       "      <td>0.605363</td>\n",
       "    </tr>\n",
       "    <tr>\n",
       "      <th>37</th>\n",
       "      <td>300.0</td>\n",
       "      <td>1000.0</td>\n",
       "      <td>1200.0</td>\n",
       "      <td>Siltstone</td>\n",
       "      <td>Strat_Series</td>\n",
       "      <td>3</td>\n",
       "      <td>2</td>\n",
       "      <td>False</td>\n",
       "      <td>0.355363</td>\n",
       "      <td>0.500100</td>\n",
       "      <td>0.579047</td>\n",
       "    </tr>\n",
       "    <tr>\n",
       "      <th>38</th>\n",
       "      <td>600.0</td>\n",
       "      <td>1000.0</td>\n",
       "      <td>1100.0</td>\n",
       "      <td>Siltstone</td>\n",
       "      <td>Strat_Series</td>\n",
       "      <td>3</td>\n",
       "      <td>2</td>\n",
       "      <td>False</td>\n",
       "      <td>0.434311</td>\n",
       "      <td>0.500100</td>\n",
       "      <td>0.552732</td>\n",
       "    </tr>\n",
       "    <tr>\n",
       "      <th>39</th>\n",
       "      <td>1100.0</td>\n",
       "      <td>1000.0</td>\n",
       "      <td>1100.0</td>\n",
       "      <td>Siltstone</td>\n",
       "      <td>Strat_Series</td>\n",
       "      <td>3</td>\n",
       "      <td>2</td>\n",
       "      <td>False</td>\n",
       "      <td>0.565889</td>\n",
       "      <td>0.500100</td>\n",
       "      <td>0.552732</td>\n",
       "    </tr>\n",
       "    <tr>\n",
       "      <th>40</th>\n",
       "      <td>1400.0</td>\n",
       "      <td>1000.0</td>\n",
       "      <td>1050.0</td>\n",
       "      <td>Siltstone</td>\n",
       "      <td>Strat_Series</td>\n",
       "      <td>3</td>\n",
       "      <td>2</td>\n",
       "      <td>False</td>\n",
       "      <td>0.644837</td>\n",
       "      <td>0.500100</td>\n",
       "      <td>0.539574</td>\n",
       "    </tr>\n",
       "    <tr>\n",
       "      <th>41</th>\n",
       "      <td>1700.0</td>\n",
       "      <td>1000.0</td>\n",
       "      <td>1100.0</td>\n",
       "      <td>Siltstone</td>\n",
       "      <td>Strat_Series</td>\n",
       "      <td>3</td>\n",
       "      <td>2</td>\n",
       "      <td>False</td>\n",
       "      <td>0.723784</td>\n",
       "      <td>0.500100</td>\n",
       "      <td>0.552732</td>\n",
       "    </tr>\n",
       "    <tr>\n",
       "      <th>42</th>\n",
       "      <td>1500.0</td>\n",
       "      <td>500.0</td>\n",
       "      <td>1000.0</td>\n",
       "      <td>Siltstone</td>\n",
       "      <td>Strat_Series</td>\n",
       "      <td>3</td>\n",
       "      <td>2</td>\n",
       "      <td>False</td>\n",
       "      <td>0.671153</td>\n",
       "      <td>0.368521</td>\n",
       "      <td>0.526416</td>\n",
       "    </tr>\n",
       "    <tr>\n",
       "      <th>43</th>\n",
       "      <td>1500.0</td>\n",
       "      <td>1500.0</td>\n",
       "      <td>950.0</td>\n",
       "      <td>Siltstone</td>\n",
       "      <td>Strat_Series</td>\n",
       "      <td>3</td>\n",
       "      <td>2</td>\n",
       "      <td>False</td>\n",
       "      <td>0.671153</td>\n",
       "      <td>0.631679</td>\n",
       "      <td>0.513258</td>\n",
       "    </tr>\n",
       "    <tr>\n",
       "      <th>0</th>\n",
       "      <td>800.0</td>\n",
       "      <td>50.0</td>\n",
       "      <td>750.0</td>\n",
       "      <td>Shale</td>\n",
       "      <td>Strat_Series</td>\n",
       "      <td>4</td>\n",
       "      <td>2</td>\n",
       "      <td>False</td>\n",
       "      <td>0.486942</td>\n",
       "      <td>0.250100</td>\n",
       "      <td>0.460626</td>\n",
       "    </tr>\n",
       "    <tr>\n",
       "      <th>1</th>\n",
       "      <td>800.0</td>\n",
       "      <td>150.0</td>\n",
       "      <td>700.0</td>\n",
       "      <td>Shale</td>\n",
       "      <td>Strat_Series</td>\n",
       "      <td>4</td>\n",
       "      <td>2</td>\n",
       "      <td>False</td>\n",
       "      <td>0.486942</td>\n",
       "      <td>0.276416</td>\n",
       "      <td>0.447468</td>\n",
       "    </tr>\n",
       "    <tr>\n",
       "      <th>2</th>\n",
       "      <td>800.0</td>\n",
       "      <td>300.0</td>\n",
       "      <td>700.0</td>\n",
       "      <td>Shale</td>\n",
       "      <td>Strat_Series</td>\n",
       "      <td>4</td>\n",
       "      <td>2</td>\n",
       "      <td>False</td>\n",
       "      <td>0.486942</td>\n",
       "      <td>0.315889</td>\n",
       "      <td>0.447468</td>\n",
       "    </tr>\n",
       "    <tr>\n",
       "      <th>3</th>\n",
       "      <td>800.0</td>\n",
       "      <td>500.0</td>\n",
       "      <td>800.0</td>\n",
       "      <td>Shale</td>\n",
       "      <td>Strat_Series</td>\n",
       "      <td>4</td>\n",
       "      <td>2</td>\n",
       "      <td>False</td>\n",
       "      <td>0.486942</td>\n",
       "      <td>0.368521</td>\n",
       "      <td>0.473784</td>\n",
       "    </tr>\n",
       "    <tr>\n",
       "      <th>4</th>\n",
       "      <td>800.0</td>\n",
       "      <td>1000.0</td>\n",
       "      <td>1000.0</td>\n",
       "      <td>Shale</td>\n",
       "      <td>Strat_Series</td>\n",
       "      <td>4</td>\n",
       "      <td>2</td>\n",
       "      <td>False</td>\n",
       "      <td>0.486942</td>\n",
       "      <td>0.500100</td>\n",
       "      <td>0.526416</td>\n",
       "    </tr>\n",
       "    <tr>\n",
       "      <th>5</th>\n",
       "      <td>800.0</td>\n",
       "      <td>1500.0</td>\n",
       "      <td>700.0</td>\n",
       "      <td>Shale</td>\n",
       "      <td>Strat_Series</td>\n",
       "      <td>4</td>\n",
       "      <td>2</td>\n",
       "      <td>False</td>\n",
       "      <td>0.486942</td>\n",
       "      <td>0.631679</td>\n",
       "      <td>0.447468</td>\n",
       "    </tr>\n",
       "    <tr>\n",
       "      <th>6</th>\n",
       "      <td>800.0</td>\n",
       "      <td>1700.0</td>\n",
       "      <td>600.0</td>\n",
       "      <td>Shale</td>\n",
       "      <td>Strat_Series</td>\n",
       "      <td>4</td>\n",
       "      <td>2</td>\n",
       "      <td>False</td>\n",
       "      <td>0.486942</td>\n",
       "      <td>0.684311</td>\n",
       "      <td>0.421153</td>\n",
       "    </tr>\n",
       "    <tr>\n",
       "      <th>7</th>\n",
       "      <td>800.0</td>\n",
       "      <td>1950.0</td>\n",
       "      <td>650.0</td>\n",
       "      <td>Shale</td>\n",
       "      <td>Strat_Series</td>\n",
       "      <td>4</td>\n",
       "      <td>2</td>\n",
       "      <td>False</td>\n",
       "      <td>0.486942</td>\n",
       "      <td>0.750100</td>\n",
       "      <td>0.434311</td>\n",
       "    </tr>\n",
       "    <tr>\n",
       "      <th>8</th>\n",
       "      <td>0.0</td>\n",
       "      <td>1000.0</td>\n",
       "      <td>1100.0</td>\n",
       "      <td>Shale</td>\n",
       "      <td>Strat_Series</td>\n",
       "      <td>4</td>\n",
       "      <td>2</td>\n",
       "      <td>False</td>\n",
       "      <td>0.276416</td>\n",
       "      <td>0.500100</td>\n",
       "      <td>0.552732</td>\n",
       "    </tr>\n",
       "    <tr>\n",
       "      <th>9</th>\n",
       "      <td>300.0</td>\n",
       "      <td>1000.0</td>\n",
       "      <td>1000.0</td>\n",
       "      <td>Shale</td>\n",
       "      <td>Strat_Series</td>\n",
       "      <td>4</td>\n",
       "      <td>2</td>\n",
       "      <td>False</td>\n",
       "      <td>0.355363</td>\n",
       "      <td>0.500100</td>\n",
       "      <td>0.526416</td>\n",
       "    </tr>\n",
       "    <tr>\n",
       "      <th>10</th>\n",
       "      <td>450.0</td>\n",
       "      <td>1000.0</td>\n",
       "      <td>950.0</td>\n",
       "      <td>Shale</td>\n",
       "      <td>Strat_Series</td>\n",
       "      <td>4</td>\n",
       "      <td>2</td>\n",
       "      <td>False</td>\n",
       "      <td>0.394837</td>\n",
       "      <td>0.500100</td>\n",
       "      <td>0.513258</td>\n",
       "    </tr>\n",
       "    <tr>\n",
       "      <th>11</th>\n",
       "      <td>1100.0</td>\n",
       "      <td>1000.0</td>\n",
       "      <td>900.0</td>\n",
       "      <td>Shale</td>\n",
       "      <td>Strat_Series</td>\n",
       "      <td>4</td>\n",
       "      <td>2</td>\n",
       "      <td>False</td>\n",
       "      <td>0.565889</td>\n",
       "      <td>0.500100</td>\n",
       "      <td>0.500100</td>\n",
       "    </tr>\n",
       "    <tr>\n",
       "      <th>12</th>\n",
       "      <td>1400.0</td>\n",
       "      <td>1000.0</td>\n",
       "      <td>850.0</td>\n",
       "      <td>Shale</td>\n",
       "      <td>Strat_Series</td>\n",
       "      <td>4</td>\n",
       "      <td>2</td>\n",
       "      <td>False</td>\n",
       "      <td>0.644837</td>\n",
       "      <td>0.500100</td>\n",
       "      <td>0.486942</td>\n",
       "    </tr>\n",
       "    <tr>\n",
       "      <th>13</th>\n",
       "      <td>1700.0</td>\n",
       "      <td>1000.0</td>\n",
       "      <td>900.0</td>\n",
       "      <td>Shale</td>\n",
       "      <td>Strat_Series</td>\n",
       "      <td>4</td>\n",
       "      <td>2</td>\n",
       "      <td>False</td>\n",
       "      <td>0.723784</td>\n",
       "      <td>0.500100</td>\n",
       "      <td>0.500100</td>\n",
       "    </tr>\n",
       "    <tr>\n",
       "      <th>14</th>\n",
       "      <td>1500.0</td>\n",
       "      <td>500.0</td>\n",
       "      <td>800.0</td>\n",
       "      <td>Shale</td>\n",
       "      <td>Strat_Series</td>\n",
       "      <td>4</td>\n",
       "      <td>2</td>\n",
       "      <td>False</td>\n",
       "      <td>0.671153</td>\n",
       "      <td>0.368521</td>\n",
       "      <td>0.473784</td>\n",
       "    </tr>\n",
       "    <tr>\n",
       "      <th>15</th>\n",
       "      <td>1500.0</td>\n",
       "      <td>1500.0</td>\n",
       "      <td>750.0</td>\n",
       "      <td>Shale</td>\n",
       "      <td>Strat_Series</td>\n",
       "      <td>4</td>\n",
       "      <td>2</td>\n",
       "      <td>False</td>\n",
       "      <td>0.671153</td>\n",
       "      <td>0.631679</td>\n",
       "      <td>0.460626</td>\n",
       "    </tr>\n",
       "    <tr>\n",
       "      <th>16</th>\n",
       "      <td>800.0</td>\n",
       "      <td>50.0</td>\n",
       "      <td>450.0</td>\n",
       "      <td>Sandstone_1</td>\n",
       "      <td>Strat_Series</td>\n",
       "      <td>5</td>\n",
       "      <td>2</td>\n",
       "      <td>False</td>\n",
       "      <td>0.486942</td>\n",
       "      <td>0.250100</td>\n",
       "      <td>0.381679</td>\n",
       "    </tr>\n",
       "    <tr>\n",
       "      <th>17</th>\n",
       "      <td>800.0</td>\n",
       "      <td>150.0</td>\n",
       "      <td>400.0</td>\n",
       "      <td>Sandstone_1</td>\n",
       "      <td>Strat_Series</td>\n",
       "      <td>5</td>\n",
       "      <td>2</td>\n",
       "      <td>False</td>\n",
       "      <td>0.486942</td>\n",
       "      <td>0.276416</td>\n",
       "      <td>0.368521</td>\n",
       "    </tr>\n",
       "    <tr>\n",
       "      <th>18</th>\n",
       "      <td>800.0</td>\n",
       "      <td>300.0</td>\n",
       "      <td>400.0</td>\n",
       "      <td>Sandstone_1</td>\n",
       "      <td>Strat_Series</td>\n",
       "      <td>5</td>\n",
       "      <td>2</td>\n",
       "      <td>False</td>\n",
       "      <td>0.486942</td>\n",
       "      <td>0.315889</td>\n",
       "      <td>0.368521</td>\n",
       "    </tr>\n",
       "    <tr>\n",
       "      <th>19</th>\n",
       "      <td>800.0</td>\n",
       "      <td>500.0</td>\n",
       "      <td>500.0</td>\n",
       "      <td>Sandstone_1</td>\n",
       "      <td>Strat_Series</td>\n",
       "      <td>5</td>\n",
       "      <td>2</td>\n",
       "      <td>False</td>\n",
       "      <td>0.486942</td>\n",
       "      <td>0.368521</td>\n",
       "      <td>0.394837</td>\n",
       "    </tr>\n",
       "    <tr>\n",
       "      <th>20</th>\n",
       "      <td>800.0</td>\n",
       "      <td>1000.0</td>\n",
       "      <td>700.0</td>\n",
       "      <td>Sandstone_1</td>\n",
       "      <td>Strat_Series</td>\n",
       "      <td>5</td>\n",
       "      <td>2</td>\n",
       "      <td>False</td>\n",
       "      <td>0.486942</td>\n",
       "      <td>0.500100</td>\n",
       "      <td>0.447468</td>\n",
       "    </tr>\n",
       "    <tr>\n",
       "      <th>21</th>\n",
       "      <td>800.0</td>\n",
       "      <td>1500.0</td>\n",
       "      <td>400.0</td>\n",
       "      <td>Sandstone_1</td>\n",
       "      <td>Strat_Series</td>\n",
       "      <td>5</td>\n",
       "      <td>2</td>\n",
       "      <td>False</td>\n",
       "      <td>0.486942</td>\n",
       "      <td>0.631679</td>\n",
       "      <td>0.368521</td>\n",
       "    </tr>\n",
       "    <tr>\n",
       "      <th>22</th>\n",
       "      <td>800.0</td>\n",
       "      <td>1700.0</td>\n",
       "      <td>300.0</td>\n",
       "      <td>Sandstone_1</td>\n",
       "      <td>Strat_Series</td>\n",
       "      <td>5</td>\n",
       "      <td>2</td>\n",
       "      <td>False</td>\n",
       "      <td>0.486942</td>\n",
       "      <td>0.684311</td>\n",
       "      <td>0.342205</td>\n",
       "    </tr>\n",
       "    <tr>\n",
       "      <th>23</th>\n",
       "      <td>800.0</td>\n",
       "      <td>1950.0</td>\n",
       "      <td>350.0</td>\n",
       "      <td>Sandstone_1</td>\n",
       "      <td>Strat_Series</td>\n",
       "      <td>5</td>\n",
       "      <td>2</td>\n",
       "      <td>False</td>\n",
       "      <td>0.486942</td>\n",
       "      <td>0.750100</td>\n",
       "      <td>0.355363</td>\n",
       "    </tr>\n",
       "    <tr>\n",
       "      <th>24</th>\n",
       "      <td>0.0</td>\n",
       "      <td>1000.0</td>\n",
       "      <td>800.0</td>\n",
       "      <td>Sandstone_1</td>\n",
       "      <td>Strat_Series</td>\n",
       "      <td>5</td>\n",
       "      <td>2</td>\n",
       "      <td>False</td>\n",
       "      <td>0.276416</td>\n",
       "      <td>0.500100</td>\n",
       "      <td>0.473784</td>\n",
       "    </tr>\n",
       "    <tr>\n",
       "      <th>25</th>\n",
       "      <td>300.0</td>\n",
       "      <td>1000.0</td>\n",
       "      <td>700.0</td>\n",
       "      <td>Sandstone_1</td>\n",
       "      <td>Strat_Series</td>\n",
       "      <td>5</td>\n",
       "      <td>2</td>\n",
       "      <td>False</td>\n",
       "      <td>0.355363</td>\n",
       "      <td>0.500100</td>\n",
       "      <td>0.447468</td>\n",
       "    </tr>\n",
       "    <tr>\n",
       "      <th>26</th>\n",
       "      <td>1100.0</td>\n",
       "      <td>1000.0</td>\n",
       "      <td>600.0</td>\n",
       "      <td>Sandstone_1</td>\n",
       "      <td>Strat_Series</td>\n",
       "      <td>5</td>\n",
       "      <td>2</td>\n",
       "      <td>False</td>\n",
       "      <td>0.565889</td>\n",
       "      <td>0.500100</td>\n",
       "      <td>0.421153</td>\n",
       "    </tr>\n",
       "    <tr>\n",
       "      <th>27</th>\n",
       "      <td>1400.0</td>\n",
       "      <td>1000.0</td>\n",
       "      <td>550.0</td>\n",
       "      <td>Sandstone_1</td>\n",
       "      <td>Strat_Series</td>\n",
       "      <td>5</td>\n",
       "      <td>2</td>\n",
       "      <td>False</td>\n",
       "      <td>0.644837</td>\n",
       "      <td>0.500100</td>\n",
       "      <td>0.407995</td>\n",
       "    </tr>\n",
       "    <tr>\n",
       "      <th>28</th>\n",
       "      <td>1700.0</td>\n",
       "      <td>1000.0</td>\n",
       "      <td>600.0</td>\n",
       "      <td>Sandstone_1</td>\n",
       "      <td>Strat_Series</td>\n",
       "      <td>5</td>\n",
       "      <td>2</td>\n",
       "      <td>False</td>\n",
       "      <td>0.723784</td>\n",
       "      <td>0.500100</td>\n",
       "      <td>0.421153</td>\n",
       "    </tr>\n",
       "    <tr>\n",
       "      <th>29</th>\n",
       "      <td>1500.0</td>\n",
       "      <td>500.0</td>\n",
       "      <td>500.0</td>\n",
       "      <td>Sandstone_1</td>\n",
       "      <td>Strat_Series</td>\n",
       "      <td>5</td>\n",
       "      <td>2</td>\n",
       "      <td>False</td>\n",
       "      <td>0.671153</td>\n",
       "      <td>0.368521</td>\n",
       "      <td>0.394837</td>\n",
       "    </tr>\n",
       "    <tr>\n",
       "      <th>30</th>\n",
       "      <td>1500.0</td>\n",
       "      <td>1500.0</td>\n",
       "      <td>450.0</td>\n",
       "      <td>Sandstone_1</td>\n",
       "      <td>Strat_Series</td>\n",
       "      <td>5</td>\n",
       "      <td>2</td>\n",
       "      <td>False</td>\n",
       "      <td>0.671153</td>\n",
       "      <td>0.631679</td>\n",
       "      <td>0.381679</td>\n",
       "    </tr>\n",
       "  </tbody>\n",
       "</table>"
      ],
      "text/plain": [
       "         X       Y       Z    formation        series  id  order_series  isFault       X_r       Y_r       Z_r\n",
       "52   700.0  1000.0   900.0   Main_Fault  Fault_Series   1             1     True  0.460626  0.500100  0.500100\n",
       "53   600.0  1000.0   600.0   Main_Fault  Fault_Series   1             1     True  0.434311  0.500100  0.421153\n",
       "54   500.0  1000.0   300.0   Main_Fault  Fault_Series   1             1     True  0.407995  0.500100  0.342205\n",
       "55   800.0  1000.0  1200.0   Main_Fault  Fault_Series   1             1     True  0.486942  0.500100  0.579047\n",
       "56   900.0  1000.0  1500.0   Main_Fault  Fault_Series   1             1     True  0.513258  0.500100  0.657995\n",
       "44     0.0  1000.0  1500.0  Sandstone_2  Strat_Series   2             2    False  0.276416  0.500100  0.657995\n",
       "45   300.0  1000.0  1400.0  Sandstone_2  Strat_Series   2             2    False  0.355363  0.500100  0.631679\n",
       "46   600.0  1000.0  1300.0  Sandstone_2  Strat_Series   2             2    False  0.434311  0.500100  0.605363\n",
       "47  1100.0  1000.0  1300.0  Sandstone_2  Strat_Series   2             2    False  0.565889  0.500100  0.605363\n",
       "48  1400.0  1000.0  1250.0  Sandstone_2  Strat_Series   2             2    False  0.644837  0.500100  0.592205\n",
       "49  1700.0  1000.0  1300.0  Sandstone_2  Strat_Series   2             2    False  0.723784  0.500100  0.605363\n",
       "50  1500.0   500.0  1200.0  Sandstone_2  Strat_Series   2             2    False  0.671153  0.368521  0.579047\n",
       "51  1500.0  1500.0  1150.0  Sandstone_2  Strat_Series   2             2    False  0.671153  0.631679  0.565889\n",
       "31   900.0   150.0   920.0    Siltstone  Strat_Series   3             2    False  0.513258  0.276416  0.505363\n",
       "32   900.0   300.0   920.0    Siltstone  Strat_Series   3             2    False  0.513258  0.315889  0.505363\n",
       "33   900.0  1500.0   920.0    Siltstone  Strat_Series   3             2    False  0.513258  0.631679  0.505363\n",
       "34   900.0  1700.0   820.0    Siltstone  Strat_Series   3             2    False  0.513258  0.684311  0.479047\n",
       "35   900.0  1950.0   870.0    Siltstone  Strat_Series   3             2    False  0.513258  0.750100  0.492205\n",
       "36     0.0  1000.0  1300.0    Siltstone  Strat_Series   3             2    False  0.276416  0.500100  0.605363\n",
       "37   300.0  1000.0  1200.0    Siltstone  Strat_Series   3             2    False  0.355363  0.500100  0.579047\n",
       "38   600.0  1000.0  1100.0    Siltstone  Strat_Series   3             2    False  0.434311  0.500100  0.552732\n",
       "39  1100.0  1000.0  1100.0    Siltstone  Strat_Series   3             2    False  0.565889  0.500100  0.552732\n",
       "40  1400.0  1000.0  1050.0    Siltstone  Strat_Series   3             2    False  0.644837  0.500100  0.539574\n",
       "41  1700.0  1000.0  1100.0    Siltstone  Strat_Series   3             2    False  0.723784  0.500100  0.552732\n",
       "42  1500.0   500.0  1000.0    Siltstone  Strat_Series   3             2    False  0.671153  0.368521  0.526416\n",
       "43  1500.0  1500.0   950.0    Siltstone  Strat_Series   3             2    False  0.671153  0.631679  0.513258\n",
       "0    800.0    50.0   750.0        Shale  Strat_Series   4             2    False  0.486942  0.250100  0.460626\n",
       "1    800.0   150.0   700.0        Shale  Strat_Series   4             2    False  0.486942  0.276416  0.447468\n",
       "2    800.0   300.0   700.0        Shale  Strat_Series   4             2    False  0.486942  0.315889  0.447468\n",
       "3    800.0   500.0   800.0        Shale  Strat_Series   4             2    False  0.486942  0.368521  0.473784\n",
       "4    800.0  1000.0  1000.0        Shale  Strat_Series   4             2    False  0.486942  0.500100  0.526416\n",
       "5    800.0  1500.0   700.0        Shale  Strat_Series   4             2    False  0.486942  0.631679  0.447468\n",
       "6    800.0  1700.0   600.0        Shale  Strat_Series   4             2    False  0.486942  0.684311  0.421153\n",
       "7    800.0  1950.0   650.0        Shale  Strat_Series   4             2    False  0.486942  0.750100  0.434311\n",
       "8      0.0  1000.0  1100.0        Shale  Strat_Series   4             2    False  0.276416  0.500100  0.552732\n",
       "9    300.0  1000.0  1000.0        Shale  Strat_Series   4             2    False  0.355363  0.500100  0.526416\n",
       "10   450.0  1000.0   950.0        Shale  Strat_Series   4             2    False  0.394837  0.500100  0.513258\n",
       "11  1100.0  1000.0   900.0        Shale  Strat_Series   4             2    False  0.565889  0.500100  0.500100\n",
       "12  1400.0  1000.0   850.0        Shale  Strat_Series   4             2    False  0.644837  0.500100  0.486942\n",
       "13  1700.0  1000.0   900.0        Shale  Strat_Series   4             2    False  0.723784  0.500100  0.500100\n",
       "14  1500.0   500.0   800.0        Shale  Strat_Series   4             2    False  0.671153  0.368521  0.473784\n",
       "15  1500.0  1500.0   750.0        Shale  Strat_Series   4             2    False  0.671153  0.631679  0.460626\n",
       "16   800.0    50.0   450.0  Sandstone_1  Strat_Series   5             2    False  0.486942  0.250100  0.381679\n",
       "17   800.0   150.0   400.0  Sandstone_1  Strat_Series   5             2    False  0.486942  0.276416  0.368521\n",
       "18   800.0   300.0   400.0  Sandstone_1  Strat_Series   5             2    False  0.486942  0.315889  0.368521\n",
       "19   800.0   500.0   500.0  Sandstone_1  Strat_Series   5             2    False  0.486942  0.368521  0.394837\n",
       "20   800.0  1000.0   700.0  Sandstone_1  Strat_Series   5             2    False  0.486942  0.500100  0.447468\n",
       "21   800.0  1500.0   400.0  Sandstone_1  Strat_Series   5             2    False  0.486942  0.631679  0.368521\n",
       "22   800.0  1700.0   300.0  Sandstone_1  Strat_Series   5             2    False  0.486942  0.684311  0.342205\n",
       "23   800.0  1950.0   350.0  Sandstone_1  Strat_Series   5             2    False  0.486942  0.750100  0.355363\n",
       "24     0.0  1000.0   800.0  Sandstone_1  Strat_Series   5             2    False  0.276416  0.500100  0.473784\n",
       "25   300.0  1000.0   700.0  Sandstone_1  Strat_Series   5             2    False  0.355363  0.500100  0.447468\n",
       "26  1100.0  1000.0   600.0  Sandstone_1  Strat_Series   5             2    False  0.565889  0.500100  0.421153\n",
       "27  1400.0  1000.0   550.0  Sandstone_1  Strat_Series   5             2    False  0.644837  0.500100  0.407995\n",
       "28  1700.0  1000.0   600.0  Sandstone_1  Strat_Series   5             2    False  0.723784  0.500100  0.421153\n",
       "29  1500.0   500.0   500.0  Sandstone_1  Strat_Series   5             2    False  0.671153  0.368521  0.394837\n",
       "30  1500.0  1500.0   450.0  Sandstone_1  Strat_Series   5             2    False  0.671153  0.631679  0.381679"
      ]
     },
     "execution_count": 19,
     "metadata": {},
     "output_type": "execute_result"
    }
   ],
   "source": [
    "geo_model.interfaces.sort_table()\n",
    "geo_model.orientations.sort_table()\n",
    "geo_model.interfaces"
   ]
  },
  {
   "cell_type": "code",
   "execution_count": 20,
   "metadata": {},
   "outputs": [
    {
     "data": {
      "text/html": [
       "<table border=\"1\" class=\"dataframe\">\n",
       "  <thead>\n",
       "    <tr style=\"text-align: right;\">\n",
       "      <th></th>\n",
       "      <th>X</th>\n",
       "      <th>Y</th>\n",
       "      <th>Z</th>\n",
       "      <th>G_x</th>\n",
       "      <th>G_y</th>\n",
       "      <th>G_z</th>\n",
       "      <th>dip</th>\n",
       "      <th>azimuth</th>\n",
       "      <th>polarity</th>\n",
       "      <th>formation</th>\n",
       "      <th>series</th>\n",
       "      <th>id</th>\n",
       "      <th>order_series</th>\n",
       "      <th>isFault</th>\n",
       "      <th>X_r</th>\n",
       "      <th>Y_r</th>\n",
       "      <th>Z_r</th>\n",
       "    </tr>\n",
       "  </thead>\n",
       "  <tbody>\n",
       "    <tr>\n",
       "      <th>2</th>\n",
       "      <td>500.0</td>\n",
       "      <td>1000.0</td>\n",
       "      <td>864.602</td>\n",
       "      <td>-0.948683</td>\n",
       "      <td>9.998257e-13</td>\n",
       "      <td>0.316229</td>\n",
       "      <td>71.565</td>\n",
       "      <td>270.0</td>\n",
       "      <td>1.0</td>\n",
       "      <td>Main_Fault</td>\n",
       "      <td>Fault_Series</td>\n",
       "      <td>1</td>\n",
       "      <td>1</td>\n",
       "      <td>True</td>\n",
       "      <td>0.407995</td>\n",
       "      <td>0.5001</td>\n",
       "      <td>0.490785</td>\n",
       "    </tr>\n",
       "    <tr>\n",
       "      <th>1</th>\n",
       "      <td>400.0</td>\n",
       "      <td>1000.0</td>\n",
       "      <td>1400.000</td>\n",
       "      <td>0.316229</td>\n",
       "      <td>1.000019e-12</td>\n",
       "      <td>0.948683</td>\n",
       "      <td>18.435</td>\n",
       "      <td>90.0</td>\n",
       "      <td>1.0</td>\n",
       "      <td>Sandstone_2</td>\n",
       "      <td>Strat_Series</td>\n",
       "      <td>2</td>\n",
       "      <td>2</td>\n",
       "      <td>False</td>\n",
       "      <td>0.381679</td>\n",
       "      <td>0.5001</td>\n",
       "      <td>0.631679</td>\n",
       "    </tr>\n",
       "    <tr>\n",
       "      <th>0</th>\n",
       "      <td>1000.0</td>\n",
       "      <td>1000.0</td>\n",
       "      <td>950.000</td>\n",
       "      <td>0.316229</td>\n",
       "      <td>1.000019e-12</td>\n",
       "      <td>0.948683</td>\n",
       "      <td>18.435</td>\n",
       "      <td>90.0</td>\n",
       "      <td>1.0</td>\n",
       "      <td>Shale</td>\n",
       "      <td>Strat_Series</td>\n",
       "      <td>4</td>\n",
       "      <td>2</td>\n",
       "      <td>False</td>\n",
       "      <td>0.539574</td>\n",
       "      <td>0.5001</td>\n",
       "      <td>0.513258</td>\n",
       "    </tr>\n",
       "  </tbody>\n",
       "</table>"
      ],
      "text/plain": [
       "        X       Y         Z       G_x           G_y       G_z     dip  azimuth  polarity    formation        series  id  order_series  isFault       X_r     Y_r       Z_r\n",
       "2   500.0  1000.0   864.602 -0.948683  9.998257e-13  0.316229  71.565    270.0       1.0   Main_Fault  Fault_Series   1             1     True  0.407995  0.5001  0.490785\n",
       "1   400.0  1000.0  1400.000  0.316229  1.000019e-12  0.948683  18.435     90.0       1.0  Sandstone_2  Strat_Series   2             2    False  0.381679  0.5001  0.631679\n",
       "0  1000.0  1000.0   950.000  0.316229  1.000019e-12  0.948683  18.435     90.0       1.0        Shale  Strat_Series   4             2    False  0.539574  0.5001  0.513258"
      ]
     },
     "execution_count": 20,
     "metadata": {},
     "output_type": "execute_result"
    }
   ],
   "source": [
    "geo_model.orientations"
   ]
  },
  {
   "cell_type": "markdown",
   "metadata": {},
   "source": [
    "The class `gempy.core.model.Model` works as the parent container of our project. Therefore the main step of any project is to create an instance of this class. In the official documentation we use normally geo_model (geo_data in the past) as name of this instance.\n",
    "\n",
    "When we instiantiate a `Model` object we full data structure is created. By using `gp.init_data` and `set_series` we set the default values -- given the attributes -- to all of fields. Data is stored in pandas dataframes. With `gp.get_data` and the name of the data object it is possible to have access to the dataframes: \n",
    "\n",
    "`str`['all', 'interfaces', 'orientations', 'formations', 'series', 'faults', 'faults_relations', \n",
    "        additional data]\n",
    "        \n",
    "These dataframes are stored in specific objects. These objects contain the specific methods to manipulate them. You access these objects with the spectific getter or as a attribute of `Model`"
   ]
  },
  {
   "cell_type": "markdown",
   "metadata": {},
   "source": [
    "### Formations:\n",
    "\n",
    "The *df* formation contain two properties. *id* refers to the order of the formation on the sequential pile, i.e. the strict order of computation. *values* on the other hand is the final value that each voxel will have after discretization. This may be useful for example in the case we want to map a specific geophysical property (such as density) to a given unity. By default both are the same since to discretize lithological units the value is arbitrary."
   ]
  },
  {
   "cell_type": "code",
   "execution_count": 21,
   "metadata": {},
   "outputs": [],
   "source": [
    "formation = gp.get_formations(geo_model)"
   ]
  },
  {
   "cell_type": "markdown",
   "metadata": {},
   "source": [
    "Alternatively we can access the dataframe by:"
   ]
  },
  {
   "cell_type": "code",
   "execution_count": 22,
   "metadata": {},
   "outputs": [
    {
     "data": {
      "text/html": [
       "<table border=\"1\" class=\"dataframe\">\n",
       "  <thead>\n",
       "    <tr style=\"text-align: right;\">\n",
       "      <th></th>\n",
       "      <th>formation</th>\n",
       "      <th>series</th>\n",
       "      <th>id</th>\n",
       "      <th>isBasement</th>\n",
       "    </tr>\n",
       "  </thead>\n",
       "  <tbody>\n",
       "    <tr>\n",
       "      <th>0</th>\n",
       "      <td>Main_Fault</td>\n",
       "      <td>Fault_Series</td>\n",
       "      <td>1</td>\n",
       "      <td>False</td>\n",
       "    </tr>\n",
       "    <tr>\n",
       "      <th>1</th>\n",
       "      <td>Sandstone_2</td>\n",
       "      <td>Strat_Series</td>\n",
       "      <td>2</td>\n",
       "      <td>False</td>\n",
       "    </tr>\n",
       "    <tr>\n",
       "      <th>2</th>\n",
       "      <td>Siltstone</td>\n",
       "      <td>Strat_Series</td>\n",
       "      <td>3</td>\n",
       "      <td>False</td>\n",
       "    </tr>\n",
       "    <tr>\n",
       "      <th>3</th>\n",
       "      <td>Shale</td>\n",
       "      <td>Strat_Series</td>\n",
       "      <td>4</td>\n",
       "      <td>False</td>\n",
       "    </tr>\n",
       "    <tr>\n",
       "      <th>4</th>\n",
       "      <td>Sandstone_1</td>\n",
       "      <td>Strat_Series</td>\n",
       "      <td>5</td>\n",
       "      <td>False</td>\n",
       "    </tr>\n",
       "    <tr>\n",
       "      <th>5</th>\n",
       "      <td>basement</td>\n",
       "      <td>NaN</td>\n",
       "      <td>6</td>\n",
       "      <td>True</td>\n",
       "    </tr>\n",
       "  </tbody>\n",
       "</table>"
      ],
      "text/plain": [
       "     formation        series  id  isBasement\n",
       "0   Main_Fault  Fault_Series   1       False\n",
       "1  Sandstone_2  Strat_Series   2       False\n",
       "2    Siltstone  Strat_Series   3       False\n",
       "3        Shale  Strat_Series   4       False\n",
       "4  Sandstone_1  Strat_Series   5       False\n",
       "5     basement           NaN   6        True"
      ]
     },
     "execution_count": 22,
     "metadata": {},
     "output_type": "execute_result"
    }
   ],
   "source": [
    "gp.get_data(geo_model, 'formations')"
   ]
  },
  {
   "cell_type": "code",
   "execution_count": 25,
   "metadata": {},
   "outputs": [
    {
     "data": {
      "text/plain": [
       "0    Fault_Series\n",
       "1    Strat_Series\n",
       "2    Strat_Series\n",
       "3    Strat_Series\n",
       "4    Strat_Series\n",
       "5             NaN\n",
       "Name: series, dtype: object"
      ]
     },
     "execution_count": 25,
     "metadata": {},
     "output_type": "execute_result"
    }
   ],
   "source": [
    "geo_model.formations.df['series']"
   ]
  },
  {
   "cell_type": "code",
   "execution_count": 26,
   "metadata": {},
   "outputs": [
    {
     "name": "stdout",
     "output_type": "stream",
     "text": [
      "Length of formation_names does not match number of formations. Too many.\n",
      "     formation        series  id  isBasement\n",
      "0   Main_Fault  Fault_Series   1       False\n",
      "1  Sandstone_2  Strat_Series   2       False\n",
      "2    Siltstone  Strat_Series   3       False\n",
      "3        Shale  Strat_Series   4       False\n",
      "4  Sandstone_1  Strat_Series   5       False\n",
      "5     basement           NaN   6        True\n",
      "     formation        series   id isBasement\n",
      "0   Main_Fault  Fault_Series  1.0      False\n",
      "1  Sandstone_2  Strat_Series  2.0      False\n",
      "2    Siltstone  Strat_Series  3.0      False\n",
      "3        Shale  Strat_Series  4.0      False\n",
      "4  Sandstone_1  Strat_Series  5.0      False\n",
      "5     basement           NaN  6.0       True\n",
      "0          foo           NaN  NaN        NaN\n",
      "1         foo2           NaN  NaN        NaN\n",
      "2         foo3           NaN  NaN        NaN\n",
      "3         foo4           NaN  NaN        NaN\n",
      "4         foo5           NaN  NaN        NaN\n",
      "5         foo6           NaN  NaN        NaN\n",
      "6         foo7           NaN  NaN        NaN\n"
     ]
    }
   ],
   "source": [
    "geo_model.formations.set_formation_names(['foo', 'foo2', 'foo3', 'foo4', 'foo5', 'foo6', 'foo7'])"
   ]
  },
  {
   "cell_type": "code",
   "execution_count": 27,
   "metadata": {},
   "outputs": [
    {
     "data": {
      "text/html": [
       "<div>\n",
       "<style scoped>\n",
       "    .dataframe tbody tr th:only-of-type {\n",
       "        vertical-align: middle;\n",
       "    }\n",
       "\n",
       "    .dataframe tbody tr th {\n",
       "        vertical-align: top;\n",
       "    }\n",
       "\n",
       "    .dataframe thead th {\n",
       "        text-align: right;\n",
       "    }\n",
       "</style>\n",
       "<table border=\"1\" class=\"dataframe\">\n",
       "  <thead>\n",
       "    <tr style=\"text-align: right;\">\n",
       "      <th></th>\n",
       "      <th>formation</th>\n",
       "      <th>series</th>\n",
       "      <th>id</th>\n",
       "      <th>isBasement</th>\n",
       "    </tr>\n",
       "  </thead>\n",
       "  <tbody>\n",
       "    <tr>\n",
       "      <th>0</th>\n",
       "      <td>Main_Fault</td>\n",
       "      <td>Fault_Series</td>\n",
       "      <td>1</td>\n",
       "      <td>False</td>\n",
       "    </tr>\n",
       "    <tr>\n",
       "      <th>1</th>\n",
       "      <td>Sandstone_2</td>\n",
       "      <td>Strat_Series</td>\n",
       "      <td>2</td>\n",
       "      <td>False</td>\n",
       "    </tr>\n",
       "    <tr>\n",
       "      <th>2</th>\n",
       "      <td>Siltstone</td>\n",
       "      <td>Strat_Series</td>\n",
       "      <td>3</td>\n",
       "      <td>False</td>\n",
       "    </tr>\n",
       "    <tr>\n",
       "      <th>3</th>\n",
       "      <td>Shale</td>\n",
       "      <td>Strat_Series</td>\n",
       "      <td>4</td>\n",
       "      <td>False</td>\n",
       "    </tr>\n",
       "    <tr>\n",
       "      <th>4</th>\n",
       "      <td>Sandstone_1</td>\n",
       "      <td>Strat_Series</td>\n",
       "      <td>5</td>\n",
       "      <td>False</td>\n",
       "    </tr>\n",
       "    <tr>\n",
       "      <th>5</th>\n",
       "      <td>basement</td>\n",
       "      <td>Default series</td>\n",
       "      <td>6</td>\n",
       "      <td>True</td>\n",
       "    </tr>\n",
       "    <tr>\n",
       "      <th>0</th>\n",
       "      <td>foo</td>\n",
       "      <td>Default series</td>\n",
       "      <td>1</td>\n",
       "      <td>NaN</td>\n",
       "    </tr>\n",
       "    <tr>\n",
       "      <th>1</th>\n",
       "      <td>foo2</td>\n",
       "      <td>Default series</td>\n",
       "      <td>2</td>\n",
       "      <td>NaN</td>\n",
       "    </tr>\n",
       "    <tr>\n",
       "      <th>2</th>\n",
       "      <td>foo3</td>\n",
       "      <td>Default series</td>\n",
       "      <td>3</td>\n",
       "      <td>NaN</td>\n",
       "    </tr>\n",
       "    <tr>\n",
       "      <th>3</th>\n",
       "      <td>foo4</td>\n",
       "      <td>Default series</td>\n",
       "      <td>4</td>\n",
       "      <td>NaN</td>\n",
       "    </tr>\n",
       "    <tr>\n",
       "      <th>4</th>\n",
       "      <td>foo5</td>\n",
       "      <td>Default series</td>\n",
       "      <td>5</td>\n",
       "      <td>NaN</td>\n",
       "    </tr>\n",
       "    <tr>\n",
       "      <th>5</th>\n",
       "      <td>foo6</td>\n",
       "      <td>Default series</td>\n",
       "      <td>6</td>\n",
       "      <td>NaN</td>\n",
       "    </tr>\n",
       "    <tr>\n",
       "      <th>6</th>\n",
       "      <td>foo7</td>\n",
       "      <td>Default series</td>\n",
       "      <td>7</td>\n",
       "      <td>NaN</td>\n",
       "    </tr>\n",
       "  </tbody>\n",
       "</table>\n",
       "</div>"
      ],
      "text/plain": [
       "     formation          series  id isBasement\n",
       "0   Main_Fault    Fault_Series   1      False\n",
       "1  Sandstone_2    Strat_Series   2      False\n",
       "2    Siltstone    Strat_Series   3      False\n",
       "3        Shale    Strat_Series   4      False\n",
       "4  Sandstone_1    Strat_Series   5      False\n",
       "5     basement  Default series   6       True\n",
       "0          foo  Default series   1        NaN\n",
       "1         foo2  Default series   2        NaN\n",
       "2         foo3  Default series   3        NaN\n",
       "3         foo4  Default series   4        NaN\n",
       "4         foo5  Default series   5        NaN\n",
       "5         foo6  Default series   6        NaN\n",
       "6         foo7  Default series   7        NaN"
      ]
     },
     "execution_count": 27,
     "metadata": {},
     "output_type": "execute_result"
    }
   ],
   "source": [
    "geo_model.formations.set_id()"
   ]
  },
  {
   "cell_type": "code",
   "execution_count": 28,
   "metadata": {},
   "outputs": [],
   "source": [
    "geo_model.formations.df['series'] = geo_model.formations.df['series'].astype('category')"
   ]
  },
  {
   "cell_type": "code",
   "execution_count": null,
   "metadata": {},
   "outputs": [],
   "source": [
    "\n"
   ]
  },
  {
   "cell_type": "code",
   "execution_count": 29,
   "metadata": {},
   "outputs": [
    {
     "data": {
      "text/html": [
       "<div>\n",
       "<style scoped>\n",
       "    .dataframe tbody tr th:only-of-type {\n",
       "        vertical-align: middle;\n",
       "    }\n",
       "\n",
       "    .dataframe tbody tr th {\n",
       "        vertical-align: top;\n",
       "    }\n",
       "\n",
       "    .dataframe thead th {\n",
       "        text-align: right;\n",
       "    }\n",
       "</style>\n",
       "<table border=\"1\" class=\"dataframe\">\n",
       "  <thead>\n",
       "    <tr style=\"text-align: right;\">\n",
       "      <th></th>\n",
       "      <th>formation</th>\n",
       "      <th>series</th>\n",
       "      <th>id</th>\n",
       "      <th>isBasement</th>\n",
       "    </tr>\n",
       "  </thead>\n",
       "  <tbody>\n",
       "    <tr>\n",
       "      <th>0</th>\n",
       "      <td>Main_Fault</td>\n",
       "      <td>Fault_Series</td>\n",
       "      <td>1</td>\n",
       "      <td>False</td>\n",
       "    </tr>\n",
       "    <tr>\n",
       "      <th>1</th>\n",
       "      <td>Sandstone_2</td>\n",
       "      <td>Strat_Series</td>\n",
       "      <td>2</td>\n",
       "      <td>False</td>\n",
       "    </tr>\n",
       "    <tr>\n",
       "      <th>2</th>\n",
       "      <td>Siltstone</td>\n",
       "      <td>Strat_Series</td>\n",
       "      <td>3</td>\n",
       "      <td>False</td>\n",
       "    </tr>\n",
       "    <tr>\n",
       "      <th>4</th>\n",
       "      <td>Sandstone_1</td>\n",
       "      <td>Strat_Series</td>\n",
       "      <td>5</td>\n",
       "      <td>False</td>\n",
       "    </tr>\n",
       "    <tr>\n",
       "      <th>5</th>\n",
       "      <td>basement</td>\n",
       "      <td>Default series</td>\n",
       "      <td>6</td>\n",
       "      <td>True</td>\n",
       "    </tr>\n",
       "    <tr>\n",
       "      <th>0</th>\n",
       "      <td>foo</td>\n",
       "      <td>Default series</td>\n",
       "      <td>1</td>\n",
       "      <td>NaN</td>\n",
       "    </tr>\n",
       "    <tr>\n",
       "      <th>1</th>\n",
       "      <td>foo2</td>\n",
       "      <td>Default series</td>\n",
       "      <td>2</td>\n",
       "      <td>NaN</td>\n",
       "    </tr>\n",
       "    <tr>\n",
       "      <th>2</th>\n",
       "      <td>foo3</td>\n",
       "      <td>Default series</td>\n",
       "      <td>3</td>\n",
       "      <td>NaN</td>\n",
       "    </tr>\n",
       "    <tr>\n",
       "      <th>4</th>\n",
       "      <td>foo5</td>\n",
       "      <td>Default series</td>\n",
       "      <td>5</td>\n",
       "      <td>NaN</td>\n",
       "    </tr>\n",
       "    <tr>\n",
       "      <th>5</th>\n",
       "      <td>foo6</td>\n",
       "      <td>Default series</td>\n",
       "      <td>6</td>\n",
       "      <td>NaN</td>\n",
       "    </tr>\n",
       "    <tr>\n",
       "      <th>6</th>\n",
       "      <td>foo7</td>\n",
       "      <td>Default series</td>\n",
       "      <td>7</td>\n",
       "      <td>NaN</td>\n",
       "    </tr>\n",
       "  </tbody>\n",
       "</table>\n",
       "</div>"
      ],
      "text/plain": [
       "     formation          series  id isBasement\n",
       "0   Main_Fault    Fault_Series   1      False\n",
       "1  Sandstone_2    Strat_Series   2      False\n",
       "2    Siltstone    Strat_Series   3      False\n",
       "4  Sandstone_1    Strat_Series   5      False\n",
       "5     basement  Default series   6       True\n",
       "0          foo  Default series   1        NaN\n",
       "1         foo2  Default series   2        NaN\n",
       "2         foo3  Default series   3        NaN\n",
       "4         foo5  Default series   5        NaN\n",
       "5         foo6  Default series   6        NaN\n",
       "6         foo7  Default series   7        NaN"
      ]
     },
     "execution_count": 29,
     "metadata": {},
     "output_type": "execute_result"
    }
   ],
   "source": [
    "geo_model.formations.df.drop(geo_model.formations.df.index[geo_model.formations.df['formation'] == 'foo4'])"
   ]
  },
  {
   "cell_type": "code",
   "execution_count": 30,
   "metadata": {},
   "outputs": [],
   "source": [
    "fdf = geo_model.formations.df\n"
   ]
  },
  {
   "cell_type": "code",
   "execution_count": 31,
   "metadata": {},
   "outputs": [
    {
     "ename": "NameError",
     "evalue": "name 'f2' is not defined",
     "output_type": "error",
     "traceback": [
      "\u001b[0;31m---------------------------------------------------------------------------\u001b[0m",
      "\u001b[0;31mNameError\u001b[0m                                 Traceback (most recent call last)",
      "\u001b[0;32m<ipython-input-31-1c49a440c352>\u001b[0m in \u001b[0;36m<module>\u001b[0;34m()\u001b[0m\n\u001b[0;32m----> 1\u001b[0;31m \u001b[0mf2\u001b[0m\u001b[0;34m\u001b[0m\u001b[0m\n\u001b[0m",
      "\u001b[0;31mNameError\u001b[0m: name 'f2' is not defined"
     ]
    }
   ],
   "source": [
    "f2"
   ]
  },
  {
   "cell_type": "code",
   "execution_count": 32,
   "metadata": {},
   "outputs": [
    {
     "ename": "KeyError",
     "evalue": "'formation'",
     "output_type": "error",
     "traceback": [
      "\u001b[0;31m---------------------------------------------------------------------------\u001b[0m",
      "\u001b[0;31mTypeError\u001b[0m                                 Traceback (most recent call last)",
      "\u001b[0;32mpandas/_libs/index.pyx\u001b[0m in \u001b[0;36mpandas._libs.index.IndexEngine.get_loc\u001b[0;34m()\u001b[0m\n",
      "\u001b[0;32mpandas/_libs/hashtable_class_helper.pxi\u001b[0m in \u001b[0;36mpandas._libs.hashtable.Int64HashTable.get_item\u001b[0;34m()\u001b[0m\n",
      "\u001b[0;31mTypeError\u001b[0m: an integer is required",
      "\nDuring handling of the above exception, another exception occurred:\n",
      "\u001b[0;31mKeyError\u001b[0m                                  Traceback (most recent call last)",
      "\u001b[0;32m<ipython-input-32-e88c926ea626>\u001b[0m in \u001b[0;36m<module>\u001b[0;34m()\u001b[0m\n\u001b[0;32m----> 1\u001b[0;31m \u001b[0mf2\u001b[0m \u001b[0;34m=\u001b[0m \u001b[0mf\u001b[0m\u001b[0;34m[\u001b[0m\u001b[0;34m'formation'\u001b[0m\u001b[0;34m]\u001b[0m\u001b[0;34m\u001b[0m\u001b[0m\n\u001b[0m\u001b[1;32m      2\u001b[0m \u001b[0;31m#f2.cat.add_categories('Siltstone', inplace=True)\u001b[0m\u001b[0;34m\u001b[0m\u001b[0;34m\u001b[0m\u001b[0m\n\u001b[1;32m      3\u001b[0m \u001b[0;31m#2.('Siltstone')\u001b[0m\u001b[0;34m\u001b[0m\u001b[0;34m\u001b[0m\u001b[0m\n\u001b[1;32m      4\u001b[0m \u001b[0mf\u001b[0m\u001b[0;34m.\u001b[0m\u001b[0mloc\u001b[0m\u001b[0;34m[\u001b[0m\u001b[0;36m4\u001b[0m\u001b[0;34m,\u001b[0m \u001b[0;34m'formation'\u001b[0m\u001b[0;34m]\u001b[0m \u001b[0;34m=\u001b[0m \u001b[0;34m'Siltstone'\u001b[0m\u001b[0;34m\u001b[0m\u001b[0m\n",
      "\u001b[0;32m/anaconda3/lib/python3.6/site-packages/pandas/core/series.py\u001b[0m in \u001b[0;36m__getitem__\u001b[0;34m(self, key)\u001b[0m\n\u001b[1;32m    765\u001b[0m         \u001b[0mkey\u001b[0m \u001b[0;34m=\u001b[0m \u001b[0mcom\u001b[0m\u001b[0;34m.\u001b[0m\u001b[0m_apply_if_callable\u001b[0m\u001b[0;34m(\u001b[0m\u001b[0mkey\u001b[0m\u001b[0;34m,\u001b[0m \u001b[0mself\u001b[0m\u001b[0;34m)\u001b[0m\u001b[0;34m\u001b[0m\u001b[0m\n\u001b[1;32m    766\u001b[0m         \u001b[0;32mtry\u001b[0m\u001b[0;34m:\u001b[0m\u001b[0;34m\u001b[0m\u001b[0m\n\u001b[0;32m--> 767\u001b[0;31m             \u001b[0mresult\u001b[0m \u001b[0;34m=\u001b[0m \u001b[0mself\u001b[0m\u001b[0;34m.\u001b[0m\u001b[0mindex\u001b[0m\u001b[0;34m.\u001b[0m\u001b[0mget_value\u001b[0m\u001b[0;34m(\u001b[0m\u001b[0mself\u001b[0m\u001b[0;34m,\u001b[0m \u001b[0mkey\u001b[0m\u001b[0;34m)\u001b[0m\u001b[0;34m\u001b[0m\u001b[0m\n\u001b[0m\u001b[1;32m    768\u001b[0m \u001b[0;34m\u001b[0m\u001b[0m\n\u001b[1;32m    769\u001b[0m             \u001b[0;32mif\u001b[0m \u001b[0;32mnot\u001b[0m \u001b[0mis_scalar\u001b[0m\u001b[0;34m(\u001b[0m\u001b[0mresult\u001b[0m\u001b[0;34m)\u001b[0m\u001b[0;34m:\u001b[0m\u001b[0;34m\u001b[0m\u001b[0m\n",
      "\u001b[0;32m/anaconda3/lib/python3.6/site-packages/pandas/core/indexes/base.py\u001b[0m in \u001b[0;36mget_value\u001b[0;34m(self, series, key)\u001b[0m\n\u001b[1;32m   3116\u001b[0m         \u001b[0;32mtry\u001b[0m\u001b[0;34m:\u001b[0m\u001b[0;34m\u001b[0m\u001b[0m\n\u001b[1;32m   3117\u001b[0m             return self._engine.get_value(s, k,\n\u001b[0;32m-> 3118\u001b[0;31m                                           tz=getattr(series.dtype, 'tz', None))\n\u001b[0m\u001b[1;32m   3119\u001b[0m         \u001b[0;32mexcept\u001b[0m \u001b[0mKeyError\u001b[0m \u001b[0;32mas\u001b[0m \u001b[0me1\u001b[0m\u001b[0;34m:\u001b[0m\u001b[0;34m\u001b[0m\u001b[0m\n\u001b[1;32m   3120\u001b[0m             \u001b[0;32mif\u001b[0m \u001b[0mlen\u001b[0m\u001b[0;34m(\u001b[0m\u001b[0mself\u001b[0m\u001b[0;34m)\u001b[0m \u001b[0;34m>\u001b[0m \u001b[0;36m0\u001b[0m \u001b[0;32mand\u001b[0m \u001b[0mself\u001b[0m\u001b[0;34m.\u001b[0m\u001b[0minferred_type\u001b[0m \u001b[0;32min\u001b[0m \u001b[0;34m[\u001b[0m\u001b[0;34m'integer'\u001b[0m\u001b[0;34m,\u001b[0m \u001b[0;34m'boolean'\u001b[0m\u001b[0;34m]\u001b[0m\u001b[0;34m:\u001b[0m\u001b[0;34m\u001b[0m\u001b[0m\n",
      "\u001b[0;32mpandas/_libs/index.pyx\u001b[0m in \u001b[0;36mpandas._libs.index.IndexEngine.get_value\u001b[0;34m()\u001b[0m\n",
      "\u001b[0;32mpandas/_libs/index.pyx\u001b[0m in \u001b[0;36mpandas._libs.index.IndexEngine.get_value\u001b[0;34m()\u001b[0m\n",
      "\u001b[0;32mpandas/_libs/index.pyx\u001b[0m in \u001b[0;36mpandas._libs.index.IndexEngine.get_loc\u001b[0;34m()\u001b[0m\n",
      "\u001b[0;31mKeyError\u001b[0m: 'formation'"
     ]
    }
   ],
   "source": [
    "f2 = f['formation']\n",
    "#f2.cat.add_categories('Siltstone', inplace=True)\n",
    "#2.('Siltstone')\n",
    "f.loc[4, 'formation'] = 'Siltstone'"
   ]
  },
  {
   "cell_type": "code",
   "execution_count": 33,
   "metadata": {},
   "outputs": [
    {
     "data": {
      "text/plain": [
       "0          Shale\n",
       "1    Sandstone_1\n",
       "2      Siltstone\n",
       "3    Sandstone_2\n",
       "4     Main_Fault\n",
       "5       basement\n",
       "Name: formation, dtype: category\n",
       "Categories (6, object): [Main_Fault, Sandstone_2, Siltstone, Shale, Sandstone_1, basement]"
      ]
     },
     "execution_count": 33,
     "metadata": {},
     "output_type": "execute_result"
    }
   ],
   "source": [
    "f"
   ]
  },
  {
   "cell_type": "code",
   "execution_count": 34,
   "metadata": {},
   "outputs": [
    {
     "ename": "KeyError",
     "evalue": "'formation'",
     "output_type": "error",
     "traceback": [
      "\u001b[0;31m---------------------------------------------------------------------------\u001b[0m",
      "\u001b[0;31mTypeError\u001b[0m                                 Traceback (most recent call last)",
      "\u001b[0;32mpandas/_libs/index.pyx\u001b[0m in \u001b[0;36mpandas._libs.index.IndexEngine.get_loc\u001b[0;34m()\u001b[0m\n",
      "\u001b[0;32mpandas/_libs/hashtable_class_helper.pxi\u001b[0m in \u001b[0;36mpandas._libs.hashtable.Int64HashTable.get_item\u001b[0;34m()\u001b[0m\n",
      "\u001b[0;31mTypeError\u001b[0m: an integer is required",
      "\nDuring handling of the above exception, another exception occurred:\n",
      "\u001b[0;31mKeyError\u001b[0m                                  Traceback (most recent call last)",
      "\u001b[0;32m<ipython-input-34-8b712fed3637>\u001b[0m in \u001b[0;36m<module>\u001b[0;34m()\u001b[0m\n\u001b[0;32m----> 1\u001b[0;31m \u001b[0mf\u001b[0m\u001b[0;34m[\u001b[0m\u001b[0;34m'formation'\u001b[0m\u001b[0;34m]\u001b[0m\u001b[0;34m.\u001b[0m\u001b[0mmap\u001b[0m\u001b[0;34m(\u001b[0m\u001b[0mseries\u001b[0m\u001b[0;34m.\u001b[0m\u001b[0mcategories_df\u001b[0m\u001b[0;34m[\u001b[0m\u001b[0;34m'Strat_Series'\u001b[0m\u001b[0;34m]\u001b[0m\u001b[0;34m)\u001b[0m\u001b[0;34m\u001b[0m\u001b[0m\n\u001b[0m",
      "\u001b[0;32m/anaconda3/lib/python3.6/site-packages/pandas/core/series.py\u001b[0m in \u001b[0;36m__getitem__\u001b[0;34m(self, key)\u001b[0m\n\u001b[1;32m    765\u001b[0m         \u001b[0mkey\u001b[0m \u001b[0;34m=\u001b[0m \u001b[0mcom\u001b[0m\u001b[0;34m.\u001b[0m\u001b[0m_apply_if_callable\u001b[0m\u001b[0;34m(\u001b[0m\u001b[0mkey\u001b[0m\u001b[0;34m,\u001b[0m \u001b[0mself\u001b[0m\u001b[0;34m)\u001b[0m\u001b[0;34m\u001b[0m\u001b[0m\n\u001b[1;32m    766\u001b[0m         \u001b[0;32mtry\u001b[0m\u001b[0;34m:\u001b[0m\u001b[0;34m\u001b[0m\u001b[0m\n\u001b[0;32m--> 767\u001b[0;31m             \u001b[0mresult\u001b[0m \u001b[0;34m=\u001b[0m \u001b[0mself\u001b[0m\u001b[0;34m.\u001b[0m\u001b[0mindex\u001b[0m\u001b[0;34m.\u001b[0m\u001b[0mget_value\u001b[0m\u001b[0;34m(\u001b[0m\u001b[0mself\u001b[0m\u001b[0;34m,\u001b[0m \u001b[0mkey\u001b[0m\u001b[0;34m)\u001b[0m\u001b[0;34m\u001b[0m\u001b[0m\n\u001b[0m\u001b[1;32m    768\u001b[0m \u001b[0;34m\u001b[0m\u001b[0m\n\u001b[1;32m    769\u001b[0m             \u001b[0;32mif\u001b[0m \u001b[0;32mnot\u001b[0m \u001b[0mis_scalar\u001b[0m\u001b[0;34m(\u001b[0m\u001b[0mresult\u001b[0m\u001b[0;34m)\u001b[0m\u001b[0;34m:\u001b[0m\u001b[0;34m\u001b[0m\u001b[0m\n",
      "\u001b[0;32m/anaconda3/lib/python3.6/site-packages/pandas/core/indexes/base.py\u001b[0m in \u001b[0;36mget_value\u001b[0;34m(self, series, key)\u001b[0m\n\u001b[1;32m   3116\u001b[0m         \u001b[0;32mtry\u001b[0m\u001b[0;34m:\u001b[0m\u001b[0;34m\u001b[0m\u001b[0m\n\u001b[1;32m   3117\u001b[0m             return self._engine.get_value(s, k,\n\u001b[0;32m-> 3118\u001b[0;31m                                           tz=getattr(series.dtype, 'tz', None))\n\u001b[0m\u001b[1;32m   3119\u001b[0m         \u001b[0;32mexcept\u001b[0m \u001b[0mKeyError\u001b[0m \u001b[0;32mas\u001b[0m \u001b[0me1\u001b[0m\u001b[0;34m:\u001b[0m\u001b[0;34m\u001b[0m\u001b[0m\n\u001b[1;32m   3120\u001b[0m             \u001b[0;32mif\u001b[0m \u001b[0mlen\u001b[0m\u001b[0;34m(\u001b[0m\u001b[0mself\u001b[0m\u001b[0;34m)\u001b[0m \u001b[0;34m>\u001b[0m \u001b[0;36m0\u001b[0m \u001b[0;32mand\u001b[0m \u001b[0mself\u001b[0m\u001b[0;34m.\u001b[0m\u001b[0minferred_type\u001b[0m \u001b[0;32min\u001b[0m \u001b[0;34m[\u001b[0m\u001b[0;34m'integer'\u001b[0m\u001b[0;34m,\u001b[0m \u001b[0;34m'boolean'\u001b[0m\u001b[0;34m]\u001b[0m\u001b[0;34m:\u001b[0m\u001b[0;34m\u001b[0m\u001b[0m\n",
      "\u001b[0;32mpandas/_libs/index.pyx\u001b[0m in \u001b[0;36mpandas._libs.index.IndexEngine.get_value\u001b[0;34m()\u001b[0m\n",
      "\u001b[0;32mpandas/_libs/index.pyx\u001b[0m in \u001b[0;36mpandas._libs.index.IndexEngine.get_value\u001b[0;34m()\u001b[0m\n",
      "\u001b[0;32mpandas/_libs/index.pyx\u001b[0m in \u001b[0;36mpandas._libs.index.IndexEngine.get_loc\u001b[0;34m()\u001b[0m\n",
      "\u001b[0;31mKeyError\u001b[0m: 'formation'"
     ]
    }
   ],
   "source": [
    "f['formation'].map(series.categories_df['Strat_Series'])"
   ]
  },
  {
   "cell_type": "code",
   "execution_count": 63,
   "metadata": {},
   "outputs": [
    {
     "data": {
      "text/html": [
       "<div>\n",
       "<style scoped>\n",
       "    .dataframe tbody tr th:only-of-type {\n",
       "        vertical-align: middle;\n",
       "    }\n",
       "\n",
       "    .dataframe tbody tr th {\n",
       "        vertical-align: top;\n",
       "    }\n",
       "\n",
       "    .dataframe thead th {\n",
       "        text-align: right;\n",
       "    }\n",
       "</style>\n",
       "<table border=\"1\" class=\"dataframe\">\n",
       "  <thead>\n",
       "    <tr style=\"text-align: right;\">\n",
       "      <th></th>\n",
       "      <th>Fault_Series_Main_Fault</th>\n",
       "      <th>Strat_Series_Sandstone_1</th>\n",
       "      <th>Strat_Series_Sandstone_2</th>\n",
       "      <th>Strat_Series_Shale</th>\n",
       "      <th>Strat_Series_Siltstone</th>\n",
       "    </tr>\n",
       "  </thead>\n",
       "  <tbody>\n",
       "    <tr>\n",
       "      <th>0</th>\n",
       "      <td>1</td>\n",
       "      <td>0</td>\n",
       "      <td>1</td>\n",
       "      <td>0</td>\n",
       "      <td>0</td>\n",
       "    </tr>\n",
       "    <tr>\n",
       "      <th>1</th>\n",
       "      <td>0</td>\n",
       "      <td>0</td>\n",
       "      <td>0</td>\n",
       "      <td>0</td>\n",
       "      <td>1</td>\n",
       "    </tr>\n",
       "    <tr>\n",
       "      <th>2</th>\n",
       "      <td>0</td>\n",
       "      <td>0</td>\n",
       "      <td>0</td>\n",
       "      <td>1</td>\n",
       "      <td>0</td>\n",
       "    </tr>\n",
       "    <tr>\n",
       "      <th>3</th>\n",
       "      <td>0</td>\n",
       "      <td>1</td>\n",
       "      <td>0</td>\n",
       "      <td>0</td>\n",
       "      <td>0</td>\n",
       "    </tr>\n",
       "  </tbody>\n",
       "</table>\n",
       "</div>"
      ],
      "text/plain": [
       "   Fault_Series_Main_Fault  Strat_Series_Sandstone_1  \\\n",
       "0                        1                         0   \n",
       "1                        0                         0   \n",
       "2                        0                         0   \n",
       "3                        0                         1   \n",
       "\n",
       "   Strat_Series_Sandstone_2  Strat_Series_Shale  Strat_Series_Siltstone  \n",
       "0                         1                   0                       0  \n",
       "1                         0                   0                       1  \n",
       "2                         0                   1                       0  \n",
       "3                         0                   0                       0  "
      ]
     },
     "execution_count": 63,
     "metadata": {},
     "output_type": "execute_result"
    }
   ],
   "source": [
    "pn.get_dummies(series.categories_df)"
   ]
  },
  {
   "cell_type": "code",
   "execution_count": null,
   "metadata": {},
   "outputs": [],
   "source": [
    "f['formation'].map()"
   ]
  },
  {
   "cell_type": "code",
   "execution_count": 17,
   "metadata": {},
   "outputs": [
    {
     "data": {
      "text/plain": [
       "0    NaN\n",
       "1      a\n",
       "2    NaN\n",
       "3    NaN\n",
       "4    NaN\n",
       "5    NaN\n",
       "6    NaN\n",
       "Name: formation, dtype: object"
      ]
     },
     "execution_count": 17,
     "metadata": {},
     "output_type": "execute_result"
    }
   ],
   "source": [
    "f['formation'].map({'foo2':'a'})"
   ]
  },
  {
   "cell_type": "code",
   "execution_count": null,
   "metadata": {},
   "outputs": [],
   "source": [
    "f['series'].map"
   ]
  },
  {
   "cell_type": "code",
   "execution_count": 110,
   "metadata": {},
   "outputs": [
    {
     "data": {
      "text/plain": [
       "True"
      ]
     },
     "execution_count": 110,
     "metadata": {},
     "output_type": "execute_result"
    }
   ],
   "source": [
    "np.any(f.index.isin([6]))"
   ]
  },
  {
   "cell_type": "code",
   "execution_count": null,
   "metadata": {},
   "outputs": [],
   "source": [
    "f.rename(index={5:10}, inplace=True)"
   ]
  },
  {
   "cell_type": "code",
   "execution_count": 107,
   "metadata": {},
   "outputs": [
    {
     "data": {
      "text/html": [
       "<div>\n",
       "<style scoped>\n",
       "    .dataframe tbody tr th:only-of-type {\n",
       "        vertical-align: middle;\n",
       "    }\n",
       "\n",
       "    .dataframe tbody tr th {\n",
       "        vertical-align: top;\n",
       "    }\n",
       "\n",
       "    .dataframe thead th {\n",
       "        text-align: right;\n",
       "    }\n",
       "</style>\n",
       "<table border=\"1\" class=\"dataframe\">\n",
       "  <thead>\n",
       "    <tr style=\"text-align: right;\">\n",
       "      <th></th>\n",
       "      <th>formation</th>\n",
       "      <th>series</th>\n",
       "      <th>id</th>\n",
       "      <th>isBasement</th>\n",
       "    </tr>\n",
       "  </thead>\n",
       "  <tbody>\n",
       "    <tr>\n",
       "      <th>0</th>\n",
       "      <td>foo</td>\n",
       "      <td>Fault_Series</td>\n",
       "      <td>1.0</td>\n",
       "      <td>0.0</td>\n",
       "    </tr>\n",
       "    <tr>\n",
       "      <th>1</th>\n",
       "      <td>foo2</td>\n",
       "      <td>Fault_Series</td>\n",
       "      <td>2.0</td>\n",
       "      <td>0.0</td>\n",
       "    </tr>\n",
       "    <tr>\n",
       "      <th>2</th>\n",
       "      <td>foo3</td>\n",
       "      <td>Fault_Series</td>\n",
       "      <td>3.0</td>\n",
       "      <td>0.0</td>\n",
       "    </tr>\n",
       "    <tr>\n",
       "      <th>3</th>\n",
       "      <td>foo4</td>\n",
       "      <td>Fault_Series</td>\n",
       "      <td>4.0</td>\n",
       "      <td>0.0</td>\n",
       "    </tr>\n",
       "    <tr>\n",
       "      <th>4</th>\n",
       "      <td>foo5</td>\n",
       "      <td>Fault_Series</td>\n",
       "      <td>5.0</td>\n",
       "      <td>0.0</td>\n",
       "    </tr>\n",
       "    <tr>\n",
       "      <th>6</th>\n",
       "      <td>foo7</td>\n",
       "      <td>Fault_Series</td>\n",
       "      <td>7.0</td>\n",
       "      <td>1.0</td>\n",
       "    </tr>\n",
       "    <tr>\n",
       "      <th>7</th>\n",
       "      <td>7</td>\n",
       "      <td>7</td>\n",
       "      <td>7.0</td>\n",
       "      <td>7.0</td>\n",
       "    </tr>\n",
       "    <tr>\n",
       "      <th>9</th>\n",
       "      <td>lala</td>\n",
       "      <td>NaN</td>\n",
       "      <td>NaN</td>\n",
       "      <td>NaN</td>\n",
       "    </tr>\n",
       "    <tr>\n",
       "      <th>10</th>\n",
       "      <td>foo6</td>\n",
       "      <td>Fault_Series</td>\n",
       "      <td>6.0</td>\n",
       "      <td>0.0</td>\n",
       "    </tr>\n",
       "  </tbody>\n",
       "</table>\n",
       "</div>"
      ],
      "text/plain": [
       "   formation        series   id  isBasement\n",
       "0        foo  Fault_Series  1.0         0.0\n",
       "1       foo2  Fault_Series  2.0         0.0\n",
       "2       foo3  Fault_Series  3.0         0.0\n",
       "3       foo4  Fault_Series  4.0         0.0\n",
       "4       foo5  Fault_Series  5.0         0.0\n",
       "6       foo7  Fault_Series  7.0         1.0\n",
       "7          7             7  7.0         7.0\n",
       "9       lala           NaN  NaN         NaN\n",
       "10      foo6  Fault_Series  6.0         0.0"
      ]
     },
     "execution_count": 107,
     "metadata": {},
     "output_type": "execute_result"
    }
   ],
   "source": [
    "f.sort_index()"
   ]
  },
  {
   "cell_type": "code",
   "execution_count": 93,
   "metadata": {},
   "outputs": [],
   "source": [
    "geo_model.formations.df.loc[9, 'formation'] = 'lala'"
   ]
  },
  {
   "cell_type": "code",
   "execution_count": 96,
   "metadata": {},
   "outputs": [],
   "source": [
    "s = geo_model.formations.df['series']"
   ]
  },
  {
   "cell_type": "code",
   "execution_count": null,
   "metadata": {},
   "outputs": [],
   "source": [
    "s.sort_values()"
   ]
  },
  {
   "cell_type": "code",
   "execution_count": 35,
   "metadata": {},
   "outputs": [
    {
     "data": {
      "text/plain": [
       "0      Fault_Series\n",
       "1      Strat_Series\n",
       "2      Strat_Series\n",
       "3      Strat_Series\n",
       "4      Strat_Series\n",
       "5    Default series\n",
       "0    Default series\n",
       "1    Default series\n",
       "2    Default series\n",
       "3    Default series\n",
       "4    Default series\n",
       "5    Default series\n",
       "6    Default series\n",
       "Name: series, dtype: category\n",
       "Categories (3, object): [Default series, Fault_Series, Strat_Series]"
      ]
     },
     "execution_count": 35,
     "metadata": {},
     "output_type": "execute_result"
    }
   ],
   "source": [
    "geo_model.formations.df['series']"
   ]
  },
  {
   "cell_type": "markdown",
   "metadata": {},
   "source": [
    "### Series"
   ]
  },
  {
   "cell_type": "code",
   "execution_count": 36,
   "metadata": {},
   "outputs": [
    {
     "data": {
      "text/html": [
       "<div>\n",
       "<style scoped>\n",
       "    .dataframe tbody tr th:only-of-type {\n",
       "        vertical-align: middle;\n",
       "    }\n",
       "\n",
       "    .dataframe tbody tr th {\n",
       "        vertical-align: top;\n",
       "    }\n",
       "\n",
       "    .dataframe thead th {\n",
       "        text-align: right;\n",
       "    }\n",
       "</style>\n",
       "<table border=\"1\" class=\"dataframe\">\n",
       "  <thead>\n",
       "    <tr style=\"text-align: right;\">\n",
       "      <th></th>\n",
       "      <th>order_series</th>\n",
       "      <th>BottomRelation</th>\n",
       "    </tr>\n",
       "  </thead>\n",
       "  <tbody>\n",
       "    <tr>\n",
       "      <th>Fault_Series</th>\n",
       "      <td>1</td>\n",
       "      <td>NaN</td>\n",
       "    </tr>\n",
       "    <tr>\n",
       "      <th>Strat_Series</th>\n",
       "      <td>2</td>\n",
       "      <td>NaN</td>\n",
       "    </tr>\n",
       "  </tbody>\n",
       "</table>\n",
       "</div>"
      ],
      "text/plain": [
       "              order_series BottomRelation\n",
       "Fault_Series             1            NaN\n",
       "Strat_Series             2            NaN"
      ]
     },
     "execution_count": 36,
     "metadata": {},
     "output_type": "execute_result"
    }
   ],
   "source": [
    "series = gp.get_series(geo_model)\n",
    "series.df"
   ]
  },
  {
   "cell_type": "code",
   "execution_count": 37,
   "metadata": {},
   "outputs": [
    {
     "data": {
      "text/plain": [
       "array([0, 1], dtype=int8)"
      ]
     },
     "execution_count": 37,
     "metadata": {},
     "output_type": "execute_result"
    }
   ],
   "source": [
    "series.df.index.codes"
   ]
  },
  {
   "cell_type": "code",
   "execution_count": 38,
   "metadata": {},
   "outputs": [],
   "source": [
    "a = pn.DataFrame(index=pn.CategoricalIndex(series.categories_df.columns\n",
    "                                           ,ordered=True), columns= ['values', 'order'])"
   ]
  },
  {
   "cell_type": "code",
   "execution_count": 39,
   "metadata": {},
   "outputs": [],
   "source": [
    "a.index = a.index.add_categories('foo')"
   ]
  },
  {
   "cell_type": "code",
   "execution_count": 40,
   "metadata": {},
   "outputs": [
    {
     "data": {
      "text/html": [
       "<div>\n",
       "<style scoped>\n",
       "    .dataframe tbody tr th:only-of-type {\n",
       "        vertical-align: middle;\n",
       "    }\n",
       "\n",
       "    .dataframe tbody tr th {\n",
       "        vertical-align: top;\n",
       "    }\n",
       "\n",
       "    .dataframe thead th {\n",
       "        text-align: right;\n",
       "    }\n",
       "</style>\n",
       "<table border=\"1\" class=\"dataframe\">\n",
       "  <thead>\n",
       "    <tr style=\"text-align: right;\">\n",
       "      <th></th>\n",
       "      <th>values</th>\n",
       "      <th>order</th>\n",
       "    </tr>\n",
       "  </thead>\n",
       "  <tbody>\n",
       "    <tr>\n",
       "      <th>Default series</th>\n",
       "      <td>NaN</td>\n",
       "      <td>NaN</td>\n",
       "    </tr>\n",
       "  </tbody>\n",
       "</table>\n",
       "</div>"
      ],
      "text/plain": [
       "               values order\n",
       "Default series    NaN   NaN"
      ]
     },
     "execution_count": 40,
     "metadata": {},
     "output_type": "execute_result"
    }
   ],
   "source": [
    "a"
   ]
  },
  {
   "cell_type": "code",
   "execution_count": 41,
   "metadata": {},
   "outputs": [],
   "source": [
    "a.loc['foo'] = 4"
   ]
  },
  {
   "cell_type": "code",
   "execution_count": 42,
   "metadata": {},
   "outputs": [
    {
     "ename": "ValueError",
     "evalue": "items in new_categories are not the same as in old categories",
     "output_type": "error",
     "traceback": [
      "\u001b[0;31m---------------------------------------------------------------------------\u001b[0m",
      "\u001b[0;31mValueError\u001b[0m                                Traceback (most recent call last)",
      "\u001b[0;32m<ipython-input-42-d8e195157c9b>\u001b[0m in \u001b[0;36m<module>\u001b[0;34m()\u001b[0m\n\u001b[0;32m----> 1\u001b[0;31m \u001b[0ma\u001b[0m\u001b[0;34m.\u001b[0m\u001b[0mindex\u001b[0m\u001b[0;34m=\u001b[0m\u001b[0ma\u001b[0m\u001b[0;34m.\u001b[0m\u001b[0mindex\u001b[0m\u001b[0;34m.\u001b[0m\u001b[0mreorder_categories\u001b[0m\u001b[0;34m(\u001b[0m\u001b[0;34m[\u001b[0m\u001b[0;34m'foo'\u001b[0m\u001b[0;34m,\u001b[0m \u001b[0;34m'Strat_Series'\u001b[0m\u001b[0;34m,\u001b[0m \u001b[0;34m'Fault_Series'\u001b[0m\u001b[0;34m]\u001b[0m\u001b[0;34m)\u001b[0m\u001b[0;34m\u001b[0m\u001b[0m\n\u001b[0m",
      "\u001b[0;32m/anaconda3/lib/python3.6/site-packages/pandas/core/accessor.py\u001b[0m in \u001b[0;36mf\u001b[0;34m(self, *args, **kwargs)\u001b[0m\n\u001b[1;32m     87\u001b[0m \u001b[0;34m\u001b[0m\u001b[0m\n\u001b[1;32m     88\u001b[0m             \u001b[0;32mdef\u001b[0m \u001b[0mf\u001b[0m\u001b[0;34m(\u001b[0m\u001b[0mself\u001b[0m\u001b[0;34m,\u001b[0m \u001b[0;34m*\u001b[0m\u001b[0margs\u001b[0m\u001b[0;34m,\u001b[0m \u001b[0;34m**\u001b[0m\u001b[0mkwargs\u001b[0m\u001b[0;34m)\u001b[0m\u001b[0;34m:\u001b[0m\u001b[0;34m\u001b[0m\u001b[0m\n\u001b[0;32m---> 89\u001b[0;31m                 \u001b[0;32mreturn\u001b[0m \u001b[0mself\u001b[0m\u001b[0;34m.\u001b[0m\u001b[0m_delegate_method\u001b[0m\u001b[0;34m(\u001b[0m\u001b[0mname\u001b[0m\u001b[0;34m,\u001b[0m \u001b[0;34m*\u001b[0m\u001b[0margs\u001b[0m\u001b[0;34m,\u001b[0m \u001b[0;34m**\u001b[0m\u001b[0mkwargs\u001b[0m\u001b[0;34m)\u001b[0m\u001b[0;34m\u001b[0m\u001b[0m\n\u001b[0m\u001b[1;32m     90\u001b[0m \u001b[0;34m\u001b[0m\u001b[0m\n\u001b[1;32m     91\u001b[0m             \u001b[0mf\u001b[0m\u001b[0;34m.\u001b[0m\u001b[0m__name__\u001b[0m \u001b[0;34m=\u001b[0m \u001b[0mname\u001b[0m\u001b[0;34m\u001b[0m\u001b[0m\n",
      "\u001b[0;32m/anaconda3/lib/python3.6/site-packages/pandas/core/indexes/category.py\u001b[0m in \u001b[0;36m_delegate_method\u001b[0;34m(self, name, *args, **kwargs)\u001b[0m\n\u001b[1;32m    842\u001b[0m         \u001b[0;32mif\u001b[0m \u001b[0;34m'inplace'\u001b[0m \u001b[0;32min\u001b[0m \u001b[0mkwargs\u001b[0m\u001b[0;34m:\u001b[0m\u001b[0;34m\u001b[0m\u001b[0m\n\u001b[1;32m    843\u001b[0m             \u001b[0;32mraise\u001b[0m \u001b[0mValueError\u001b[0m\u001b[0;34m(\u001b[0m\u001b[0;34m\"cannot use inplace with CategoricalIndex\"\u001b[0m\u001b[0;34m)\u001b[0m\u001b[0;34m\u001b[0m\u001b[0m\n\u001b[0;32m--> 844\u001b[0;31m         \u001b[0mres\u001b[0m \u001b[0;34m=\u001b[0m \u001b[0mmethod\u001b[0m\u001b[0;34m(\u001b[0m\u001b[0;34m*\u001b[0m\u001b[0margs\u001b[0m\u001b[0;34m,\u001b[0m \u001b[0;34m**\u001b[0m\u001b[0mkwargs\u001b[0m\u001b[0;34m)\u001b[0m\u001b[0;34m\u001b[0m\u001b[0m\n\u001b[0m\u001b[1;32m    845\u001b[0m         \u001b[0;32mif\u001b[0m \u001b[0mis_scalar\u001b[0m\u001b[0;34m(\u001b[0m\u001b[0mres\u001b[0m\u001b[0;34m)\u001b[0m\u001b[0;34m:\u001b[0m\u001b[0;34m\u001b[0m\u001b[0m\n\u001b[1;32m    846\u001b[0m             \u001b[0;32mreturn\u001b[0m \u001b[0mres\u001b[0m\u001b[0;34m\u001b[0m\u001b[0m\n",
      "\u001b[0;32m/anaconda3/lib/python3.6/site-packages/pandas/core/arrays/categorical.py\u001b[0m in \u001b[0;36mreorder_categories\u001b[0;34m(self, new_categories, ordered, inplace)\u001b[0m\n\u001b[1;32m    977\u001b[0m         \u001b[0minplace\u001b[0m \u001b[0;34m=\u001b[0m \u001b[0mvalidate_bool_kwarg\u001b[0m\u001b[0;34m(\u001b[0m\u001b[0minplace\u001b[0m\u001b[0;34m,\u001b[0m \u001b[0;34m'inplace'\u001b[0m\u001b[0;34m)\u001b[0m\u001b[0;34m\u001b[0m\u001b[0m\n\u001b[1;32m    978\u001b[0m         \u001b[0;32mif\u001b[0m \u001b[0mset\u001b[0m\u001b[0;34m(\u001b[0m\u001b[0mself\u001b[0m\u001b[0;34m.\u001b[0m\u001b[0mdtype\u001b[0m\u001b[0;34m.\u001b[0m\u001b[0mcategories\u001b[0m\u001b[0;34m)\u001b[0m \u001b[0;34m!=\u001b[0m \u001b[0mset\u001b[0m\u001b[0;34m(\u001b[0m\u001b[0mnew_categories\u001b[0m\u001b[0;34m)\u001b[0m\u001b[0;34m:\u001b[0m\u001b[0;34m\u001b[0m\u001b[0m\n\u001b[0;32m--> 979\u001b[0;31m             raise ValueError(\"items in new_categories are not the same as in \"\n\u001b[0m\u001b[1;32m    980\u001b[0m                              \"old categories\")\n\u001b[1;32m    981\u001b[0m         return self.set_categories(new_categories, ordered=ordered,\n",
      "\u001b[0;31mValueError\u001b[0m: items in new_categories are not the same as in old categories"
     ]
    }
   ],
   "source": [
    "a.index=a.index.reorder_categories(['foo', 'Strat_Series', 'Fault_Series'])"
   ]
  },
  {
   "cell_type": "code",
   "execution_count": 43,
   "metadata": {},
   "outputs": [],
   "source": [
    "a.index = a.index.sort_values()"
   ]
  },
  {
   "cell_type": "code",
   "execution_count": 44,
   "metadata": {},
   "outputs": [
    {
     "data": {
      "text/html": [
       "<div>\n",
       "<style scoped>\n",
       "    .dataframe tbody tr th:only-of-type {\n",
       "        vertical-align: middle;\n",
       "    }\n",
       "\n",
       "    .dataframe tbody tr th {\n",
       "        vertical-align: top;\n",
       "    }\n",
       "\n",
       "    .dataframe thead th {\n",
       "        text-align: right;\n",
       "    }\n",
       "</style>\n",
       "<table border=\"1\" class=\"dataframe\">\n",
       "  <thead>\n",
       "    <tr style=\"text-align: right;\">\n",
       "      <th></th>\n",
       "      <th>values</th>\n",
       "      <th>order</th>\n",
       "    </tr>\n",
       "  </thead>\n",
       "  <tbody>\n",
       "    <tr>\n",
       "      <th>Default series</th>\n",
       "      <td>NaN</td>\n",
       "      <td>NaN</td>\n",
       "    </tr>\n",
       "    <tr>\n",
       "      <th>foo</th>\n",
       "      <td>4</td>\n",
       "      <td>4</td>\n",
       "    </tr>\n",
       "  </tbody>\n",
       "</table>\n",
       "</div>"
      ],
      "text/plain": [
       "               values order\n",
       "Default series    NaN   NaN\n",
       "foo                 4     4"
      ]
     },
     "execution_count": 44,
     "metadata": {},
     "output_type": "execute_result"
    }
   ],
   "source": [
    "a"
   ]
  },
  {
   "cell_type": "code",
   "execution_count": 45,
   "metadata": {},
   "outputs": [
    {
     "data": {
      "text/html": [
       "<div>\n",
       "<style scoped>\n",
       "    .dataframe tbody tr th:only-of-type {\n",
       "        vertical-align: middle;\n",
       "    }\n",
       "\n",
       "    .dataframe tbody tr th {\n",
       "        vertical-align: top;\n",
       "    }\n",
       "\n",
       "    .dataframe thead th {\n",
       "        text-align: right;\n",
       "    }\n",
       "</style>\n",
       "<table border=\"1\" class=\"dataframe\">\n",
       "  <thead>\n",
       "    <tr style=\"text-align: right;\">\n",
       "      <th></th>\n",
       "      <th>values</th>\n",
       "      <th>order</th>\n",
       "    </tr>\n",
       "  </thead>\n",
       "  <tbody>\n",
       "    <tr>\n",
       "      <th>Default series</th>\n",
       "      <td>NaN</td>\n",
       "      <td>NaN</td>\n",
       "    </tr>\n",
       "  </tbody>\n",
       "</table>\n",
       "</div>"
      ],
      "text/plain": [
       "               values order\n",
       "Default series    NaN   NaN"
      ]
     },
     "execution_count": 45,
     "metadata": {},
     "output_type": "execute_result"
    }
   ],
   "source": [
    "a.drop('foo')"
   ]
  },
  {
   "cell_type": "code",
   "execution_count": 46,
   "metadata": {},
   "outputs": [
    {
     "data": {
      "text/html": [
       "<table border=\"1\" class=\"dataframe\">\n",
       "  <thead>\n",
       "    <tr style=\"text-align: right;\">\n",
       "      <th></th>\n",
       "      <th>order_series</th>\n",
       "      <th>BottomRelation</th>\n",
       "    </tr>\n",
       "  </thead>\n",
       "  <tbody>\n",
       "    <tr>\n",
       "      <th>Fault_Series</th>\n",
       "      <td>1</td>\n",
       "      <td>NaN</td>\n",
       "    </tr>\n",
       "    <tr>\n",
       "      <th>Strat_Series</th>\n",
       "      <td>2</td>\n",
       "      <td>NaN</td>\n",
       "    </tr>\n",
       "  </tbody>\n",
       "</table>"
      ],
      "text/plain": [
       "              order_series BottomRelation\n",
       "Fault_Series             1            NaN\n",
       "Strat_Series             2            NaN"
      ]
     },
     "execution_count": 46,
     "metadata": {},
     "output_type": "execute_result"
    }
   ],
   "source": [
    "gp.get_data(geo_model, 'series')"
   ]
  },
  {
   "cell_type": "code",
   "execution_count": 47,
   "metadata": {},
   "outputs": [
    {
     "data": {
      "text/html": [
       "<div>\n",
       "<style scoped>\n",
       "    .dataframe tbody tr th:only-of-type {\n",
       "        vertical-align: middle;\n",
       "    }\n",
       "\n",
       "    .dataframe tbody tr th {\n",
       "        vertical-align: top;\n",
       "    }\n",
       "\n",
       "    .dataframe thead th {\n",
       "        text-align: right;\n",
       "    }\n",
       "</style>\n",
       "<table border=\"1\" class=\"dataframe\">\n",
       "  <thead>\n",
       "    <tr style=\"text-align: right;\">\n",
       "      <th></th>\n",
       "      <th>Default series</th>\n",
       "    </tr>\n",
       "  </thead>\n",
       "  <tbody>\n",
       "    <tr>\n",
       "      <th>0</th>\n",
       "      <td>None</td>\n",
       "    </tr>\n",
       "    <tr>\n",
       "      <th>1</th>\n",
       "      <td>basement</td>\n",
       "    </tr>\n",
       "  </tbody>\n",
       "</table>\n",
       "</div>"
      ],
      "text/plain": [
       "  Default series\n",
       "0           None\n",
       "1       basement"
      ]
     },
     "execution_count": 47,
     "metadata": {},
     "output_type": "execute_result"
    }
   ],
   "source": [
    "geo_model.series.categories_df"
   ]
  },
  {
   "cell_type": "markdown",
   "metadata": {},
   "source": [
    "### Faults\n",
    "\n",
    "The *df faults* is used to charectirize which *mathematical series* behave as fault and if mentioned faults are finite or infinite:"
   ]
  },
  {
   "cell_type": "code",
   "execution_count": 48,
   "metadata": {},
   "outputs": [
    {
     "data": {
      "text/html": [
       "<table border=\"1\" class=\"dataframe\">\n",
       "  <thead>\n",
       "    <tr style=\"text-align: right;\">\n",
       "      <th></th>\n",
       "      <th>isFault</th>\n",
       "      <th>isFinite</th>\n",
       "    </tr>\n",
       "  </thead>\n",
       "  <tbody>\n",
       "    <tr>\n",
       "      <th>Fault_Series</th>\n",
       "      <td>True</td>\n",
       "      <td>NaN</td>\n",
       "    </tr>\n",
       "    <tr>\n",
       "      <th>Strat_Series</th>\n",
       "      <td>False</td>\n",
       "      <td>NaN</td>\n",
       "    </tr>\n",
       "  </tbody>\n",
       "</table>"
      ],
      "text/plain": [
       "              isFault isFinite\n",
       "Fault_Series     True      NaN\n",
       "Strat_Series    False      NaN"
      ]
     },
     "execution_count": 48,
     "metadata": {},
     "output_type": "execute_result"
    }
   ],
   "source": [
    "gp.get_faults(geo_model)"
   ]
  },
  {
   "cell_type": "code",
   "execution_count": 49,
   "metadata": {},
   "outputs": [
    {
     "data": {
      "text/html": [
       "<table border=\"1\" class=\"dataframe\">\n",
       "  <thead>\n",
       "    <tr style=\"text-align: right;\">\n",
       "      <th></th>\n",
       "      <th>isFault</th>\n",
       "      <th>isFinite</th>\n",
       "    </tr>\n",
       "  </thead>\n",
       "  <tbody>\n",
       "    <tr>\n",
       "      <th>Fault_Series</th>\n",
       "      <td>True</td>\n",
       "      <td>NaN</td>\n",
       "    </tr>\n",
       "    <tr>\n",
       "      <th>Strat_Series</th>\n",
       "      <td>False</td>\n",
       "      <td>NaN</td>\n",
       "    </tr>\n",
       "  </tbody>\n",
       "</table>"
      ],
      "text/plain": [
       "              isFault isFinite\n",
       "Fault_Series     True      NaN\n",
       "Strat_Series    False      NaN"
      ]
     },
     "execution_count": 49,
     "metadata": {},
     "output_type": "execute_result"
    }
   ],
   "source": [
    "gp.get_data(geo_model, 'faults')"
   ]
  },
  {
   "cell_type": "markdown",
   "metadata": {},
   "source": [
    "Finally we have the *faults relations df* which captures which *mathematical series* a given fault offset in order to reproduce complex faulting networks"
   ]
  },
  {
   "cell_type": "code",
   "execution_count": 50,
   "metadata": {},
   "outputs": [
    {
     "data": {
      "text/html": [
       "<div>\n",
       "<style scoped>\n",
       "    .dataframe tbody tr th:only-of-type {\n",
       "        vertical-align: middle;\n",
       "    }\n",
       "\n",
       "    .dataframe tbody tr th {\n",
       "        vertical-align: top;\n",
       "    }\n",
       "\n",
       "    .dataframe thead th {\n",
       "        text-align: right;\n",
       "    }\n",
       "</style>\n",
       "<table border=\"1\" class=\"dataframe\">\n",
       "  <thead>\n",
       "    <tr style=\"text-align: right;\">\n",
       "      <th></th>\n",
       "      <th>Fault_Series</th>\n",
       "      <th>Strat_Series</th>\n",
       "    </tr>\n",
       "  </thead>\n",
       "  <tbody>\n",
       "    <tr>\n",
       "      <th>Fault_Series</th>\n",
       "      <td>NaN</td>\n",
       "      <td>NaN</td>\n",
       "    </tr>\n",
       "    <tr>\n",
       "      <th>Strat_Series</th>\n",
       "      <td>NaN</td>\n",
       "      <td>NaN</td>\n",
       "    </tr>\n",
       "  </tbody>\n",
       "</table>\n",
       "</div>"
      ],
      "text/plain": [
       "              Fault_Series  Strat_Series\n",
       "Fault_Series           NaN           NaN\n",
       "Strat_Series           NaN           NaN"
      ]
     },
     "execution_count": 50,
     "metadata": {},
     "output_type": "execute_result"
    }
   ],
   "source": [
    "gp.get_data(geo_model, 'faults_relations_df')"
   ]
  },
  {
   "cell_type": "markdown",
   "metadata": {},
   "source": [
    "### Additional Data"
   ]
  },
  {
   "cell_type": "code",
   "execution_count": 51,
   "metadata": {},
   "outputs": [
    {
     "data": {
      "text/html": [
       "<table border=\"1\" class=\"dataframe\">\n",
       "  <thead>\n",
       "    <tr style=\"text-align: right;\">\n",
       "      <th></th>\n",
       "      <th></th>\n",
       "      <th>values</th>\n",
       "    </tr>\n",
       "  </thead>\n",
       "  <tbody>\n",
       "    <tr>\n",
       "      <th rowspan=\"8\" valign=\"top\">Structure</th>\n",
       "      <th>isLith</th>\n",
       "      <td>True</td>\n",
       "    </tr>\n",
       "    <tr>\n",
       "      <th>isFault</th>\n",
       "      <td>False</td>\n",
       "    </tr>\n",
       "    <tr>\n",
       "      <th>number faults</th>\n",
       "      <td>0</td>\n",
       "    </tr>\n",
       "    <tr>\n",
       "      <th>number formations</th>\n",
       "      <td>6</td>\n",
       "    </tr>\n",
       "    <tr>\n",
       "      <th>number formations per series</th>\n",
       "      <td>[]</td>\n",
       "    </tr>\n",
       "    <tr>\n",
       "      <th>len formations interfaces</th>\n",
       "      <td>[16, 15, 13, 8, 5]</td>\n",
       "    </tr>\n",
       "    <tr>\n",
       "      <th>len series interfaces</th>\n",
       "      <td>[0]</td>\n",
       "    </tr>\n",
       "    <tr>\n",
       "      <th>len series orientations</th>\n",
       "      <td>[]</td>\n",
       "    </tr>\n",
       "    <tr>\n",
       "      <th rowspan=\"5\" valign=\"top\">Options</th>\n",
       "      <th>dtype</th>\n",
       "      <td>float64</td>\n",
       "    </tr>\n",
       "    <tr>\n",
       "      <th>output</th>\n",
       "      <td>geology</td>\n",
       "    </tr>\n",
       "    <tr>\n",
       "      <th>theano_optimizer</th>\n",
       "      <td>fast_compile</td>\n",
       "    </tr>\n",
       "    <tr>\n",
       "      <th>device</th>\n",
       "      <td>cpu</td>\n",
       "    </tr>\n",
       "    <tr>\n",
       "      <th>verbosity</th>\n",
       "      <td>NaN</td>\n",
       "    </tr>\n",
       "    <tr>\n",
       "      <th rowspan=\"5\" valign=\"top\">Kringing</th>\n",
       "      <th>range</th>\n",
       "      <td>3464.1</td>\n",
       "    </tr>\n",
       "    <tr>\n",
       "      <th>$C_o$</th>\n",
       "      <td>285714</td>\n",
       "    </tr>\n",
       "    <tr>\n",
       "      <th>drift equations</th>\n",
       "      <td>[0]</td>\n",
       "    </tr>\n",
       "    <tr>\n",
       "      <th>nugget grad</th>\n",
       "      <td>0.01</td>\n",
       "    </tr>\n",
       "    <tr>\n",
       "      <th>nugget scalar</th>\n",
       "      <td>1e-06</td>\n",
       "    </tr>\n",
       "    <tr>\n",
       "      <th rowspan=\"2\" valign=\"top\">Rescaling</th>\n",
       "      <th>rescaling factor</th>\n",
       "      <td>3800</td>\n",
       "    </tr>\n",
       "    <tr>\n",
       "      <th>centers</th>\n",
       "      <td>X     850.0\n",
       "Y    1000.0\n",
       "Z     900.0\n",
       "dtype: flo...</td>\n",
       "    </tr>\n",
       "  </tbody>\n",
       "</table>"
      ],
      "text/plain": [
       "                                                                                   values\n",
       "Structure isLith                                                                     True\n",
       "          isFault                                                                   False\n",
       "          number faults                                                                 0\n",
       "          number formations                                                             6\n",
       "          number formations per series                                                 []\n",
       "          len formations interfaces                                    [16, 15, 13, 8, 5]\n",
       "          len series interfaces                                                       [0]\n",
       "          len series orientations                                                      []\n",
       "Options   dtype                                                                   float64\n",
       "          output                                                                  geology\n",
       "          theano_optimizer                                                   fast_compile\n",
       "          device                                                                      cpu\n",
       "          verbosity                                                                   NaN\n",
       "Kringing  range                                                                    3464.1\n",
       "          $C_o$                                                                    285714\n",
       "          drift equations                                                             [0]\n",
       "          nugget grad                                                                0.01\n",
       "          nugget scalar                                                             1e-06\n",
       "Rescaling rescaling factor                                                           3800\n",
       "          centers                       X     850.0\n",
       "Y    1000.0\n",
       "Z     900.0\n",
       "dtype: flo..."
      ]
     },
     "execution_count": 51,
     "metadata": {},
     "output_type": "execute_result"
    }
   ],
   "source": [
    "gp.get_additional_data(geo_model)"
   ]
  },
  {
   "cell_type": "code",
   "execution_count": 52,
   "metadata": {},
   "outputs": [
    {
     "data": {
      "text/html": [
       "<table border=\"1\" class=\"dataframe\">\n",
       "  <thead>\n",
       "    <tr style=\"text-align: right;\">\n",
       "      <th></th>\n",
       "      <th></th>\n",
       "      <th>values</th>\n",
       "    </tr>\n",
       "  </thead>\n",
       "  <tbody>\n",
       "    <tr>\n",
       "      <th rowspan=\"8\" valign=\"top\">Structure</th>\n",
       "      <th>isLith</th>\n",
       "      <td>True</td>\n",
       "    </tr>\n",
       "    <tr>\n",
       "      <th>isFault</th>\n",
       "      <td>False</td>\n",
       "    </tr>\n",
       "    <tr>\n",
       "      <th>number faults</th>\n",
       "      <td>0</td>\n",
       "    </tr>\n",
       "    <tr>\n",
       "      <th>number formations</th>\n",
       "      <td>6</td>\n",
       "    </tr>\n",
       "    <tr>\n",
       "      <th>number formations per series</th>\n",
       "      <td>[]</td>\n",
       "    </tr>\n",
       "    <tr>\n",
       "      <th>len formations interfaces</th>\n",
       "      <td>[16, 15, 13, 8, 5]</td>\n",
       "    </tr>\n",
       "    <tr>\n",
       "      <th>len series interfaces</th>\n",
       "      <td>[0]</td>\n",
       "    </tr>\n",
       "    <tr>\n",
       "      <th>len series orientations</th>\n",
       "      <td>[]</td>\n",
       "    </tr>\n",
       "    <tr>\n",
       "      <th rowspan=\"5\" valign=\"top\">Options</th>\n",
       "      <th>dtype</th>\n",
       "      <td>float64</td>\n",
       "    </tr>\n",
       "    <tr>\n",
       "      <th>output</th>\n",
       "      <td>geology</td>\n",
       "    </tr>\n",
       "    <tr>\n",
       "      <th>theano_optimizer</th>\n",
       "      <td>fast_compile</td>\n",
       "    </tr>\n",
       "    <tr>\n",
       "      <th>device</th>\n",
       "      <td>cpu</td>\n",
       "    </tr>\n",
       "    <tr>\n",
       "      <th>verbosity</th>\n",
       "      <td>NaN</td>\n",
       "    </tr>\n",
       "    <tr>\n",
       "      <th rowspan=\"5\" valign=\"top\">Kringing</th>\n",
       "      <th>range</th>\n",
       "      <td>3464.1</td>\n",
       "    </tr>\n",
       "    <tr>\n",
       "      <th>$C_o$</th>\n",
       "      <td>285714</td>\n",
       "    </tr>\n",
       "    <tr>\n",
       "      <th>drift equations</th>\n",
       "      <td>[0]</td>\n",
       "    </tr>\n",
       "    <tr>\n",
       "      <th>nugget grad</th>\n",
       "      <td>0.01</td>\n",
       "    </tr>\n",
       "    <tr>\n",
       "      <th>nugget scalar</th>\n",
       "      <td>1e-06</td>\n",
       "    </tr>\n",
       "    <tr>\n",
       "      <th rowspan=\"2\" valign=\"top\">Rescaling</th>\n",
       "      <th>rescaling factor</th>\n",
       "      <td>3800</td>\n",
       "    </tr>\n",
       "    <tr>\n",
       "      <th>centers</th>\n",
       "      <td>X     850.0\n",
       "Y    1000.0\n",
       "Z     900.0\n",
       "dtype: flo...</td>\n",
       "    </tr>\n",
       "  </tbody>\n",
       "</table>"
      ],
      "text/plain": [
       "                                                                                   values\n",
       "Structure isLith                                                                     True\n",
       "          isFault                                                                   False\n",
       "          number faults                                                                 0\n",
       "          number formations                                                             6\n",
       "          number formations per series                                                 []\n",
       "          len formations interfaces                                    [16, 15, 13, 8, 5]\n",
       "          len series interfaces                                                       [0]\n",
       "          len series orientations                                                      []\n",
       "Options   dtype                                                                   float64\n",
       "          output                                                                  geology\n",
       "          theano_optimizer                                                   fast_compile\n",
       "          device                                                                      cpu\n",
       "          verbosity                                                                   NaN\n",
       "Kringing  range                                                                    3464.1\n",
       "          $C_o$                                                                    285714\n",
       "          drift equations                                                             [0]\n",
       "          nugget grad                                                                0.01\n",
       "          nugget scalar                                                             1e-06\n",
       "Rescaling rescaling factor                                                           3800\n",
       "          centers                       X     850.0\n",
       "Y    1000.0\n",
       "Z     900.0\n",
       "dtype: flo..."
      ]
     },
     "execution_count": 52,
     "metadata": {},
     "output_type": "execute_result"
    }
   ],
   "source": [
    "gp.get_data(geo_model, 'additional data')"
   ]
  },
  {
   "cell_type": "markdown",
   "metadata": {},
   "source": [
    "###  Interfaces\n",
    "\n",
    "These two DataFrames (df from now on) will contain the individual information of each point at an interface or orientation. Some properties of this table are mapped from the *df* below."
   ]
  },
  {
   "cell_type": "code",
   "execution_count": 53,
   "metadata": {},
   "outputs": [
    {
     "data": {
      "text/html": [
       "<div>\n",
       "<style scoped>\n",
       "    .dataframe tbody tr th:only-of-type {\n",
       "        vertical-align: middle;\n",
       "    }\n",
       "\n",
       "    .dataframe tbody tr th {\n",
       "        vertical-align: top;\n",
       "    }\n",
       "\n",
       "    .dataframe thead th {\n",
       "        text-align: right;\n",
       "    }\n",
       "</style>\n",
       "<table border=\"1\" class=\"dataframe\">\n",
       "  <thead>\n",
       "    <tr style=\"text-align: right;\">\n",
       "      <th></th>\n",
       "      <th>X</th>\n",
       "      <th>Y</th>\n",
       "      <th>Z</th>\n",
       "      <th>formation</th>\n",
       "      <th>series</th>\n",
       "      <th>id</th>\n",
       "      <th>order_series</th>\n",
       "      <th>isFault</th>\n",
       "    </tr>\n",
       "  </thead>\n",
       "  <tbody>\n",
       "    <tr>\n",
       "      <th>52</th>\n",
       "      <td>700.0</td>\n",
       "      <td>1000.0</td>\n",
       "      <td>900.0</td>\n",
       "      <td>Main_Fault</td>\n",
       "      <td>Fault_Series</td>\n",
       "      <td>1</td>\n",
       "      <td>1</td>\n",
       "      <td>True</td>\n",
       "    </tr>\n",
       "    <tr>\n",
       "      <th>53</th>\n",
       "      <td>600.0</td>\n",
       "      <td>1000.0</td>\n",
       "      <td>600.0</td>\n",
       "      <td>Main_Fault</td>\n",
       "      <td>Fault_Series</td>\n",
       "      <td>1</td>\n",
       "      <td>1</td>\n",
       "      <td>True</td>\n",
       "    </tr>\n",
       "    <tr>\n",
       "      <th>54</th>\n",
       "      <td>500.0</td>\n",
       "      <td>1000.0</td>\n",
       "      <td>300.0</td>\n",
       "      <td>Main_Fault</td>\n",
       "      <td>Fault_Series</td>\n",
       "      <td>1</td>\n",
       "      <td>1</td>\n",
       "      <td>True</td>\n",
       "    </tr>\n",
       "    <tr>\n",
       "      <th>55</th>\n",
       "      <td>800.0</td>\n",
       "      <td>1000.0</td>\n",
       "      <td>1200.0</td>\n",
       "      <td>Main_Fault</td>\n",
       "      <td>Fault_Series</td>\n",
       "      <td>1</td>\n",
       "      <td>1</td>\n",
       "      <td>True</td>\n",
       "    </tr>\n",
       "    <tr>\n",
       "      <th>56</th>\n",
       "      <td>900.0</td>\n",
       "      <td>1000.0</td>\n",
       "      <td>1500.0</td>\n",
       "      <td>Main_Fault</td>\n",
       "      <td>Fault_Series</td>\n",
       "      <td>1</td>\n",
       "      <td>1</td>\n",
       "      <td>True</td>\n",
       "    </tr>\n",
       "  </tbody>\n",
       "</table>\n",
       "</div>"
      ],
      "text/plain": [
       "        X       Y       Z   formation        series  id  order_series  isFault\n",
       "52  700.0  1000.0   900.0  Main_Fault  Fault_Series   1             1     True\n",
       "53  600.0  1000.0   600.0  Main_Fault  Fault_Series   1             1     True\n",
       "54  500.0  1000.0   300.0  Main_Fault  Fault_Series   1             1     True\n",
       "55  800.0  1000.0  1200.0  Main_Fault  Fault_Series   1             1     True\n",
       "56  900.0  1000.0  1500.0  Main_Fault  Fault_Series   1             1     True"
      ]
     },
     "execution_count": 53,
     "metadata": {},
     "output_type": "execute_result"
    }
   ],
   "source": [
    "gp.get_data(geo_model, 'interfaces').head()"
   ]
  },
  {
   "cell_type": "markdown",
   "metadata": {},
   "source": [
    "### Orientations"
   ]
  },
  {
   "cell_type": "code",
   "execution_count": 54,
   "metadata": {},
   "outputs": [
    {
     "data": {
      "text/html": [
       "<div>\n",
       "<style scoped>\n",
       "    .dataframe tbody tr th:only-of-type {\n",
       "        vertical-align: middle;\n",
       "    }\n",
       "\n",
       "    .dataframe tbody tr th {\n",
       "        vertical-align: top;\n",
       "    }\n",
       "\n",
       "    .dataframe thead th {\n",
       "        text-align: right;\n",
       "    }\n",
       "</style>\n",
       "<table border=\"1\" class=\"dataframe\">\n",
       "  <thead>\n",
       "    <tr style=\"text-align: right;\">\n",
       "      <th></th>\n",
       "      <th>X</th>\n",
       "      <th>Y</th>\n",
       "      <th>Z</th>\n",
       "      <th>G_x</th>\n",
       "      <th>G_y</th>\n",
       "      <th>G_z</th>\n",
       "      <th>dip</th>\n",
       "      <th>azimuth</th>\n",
       "      <th>polarity</th>\n",
       "      <th>formation</th>\n",
       "      <th>series</th>\n",
       "      <th>id</th>\n",
       "      <th>order_series</th>\n",
       "      <th>isFault</th>\n",
       "    </tr>\n",
       "  </thead>\n",
       "  <tbody>\n",
       "    <tr>\n",
       "      <th>2</th>\n",
       "      <td>500.0</td>\n",
       "      <td>1000.0</td>\n",
       "      <td>864.602</td>\n",
       "      <td>-0.948683</td>\n",
       "      <td>9.998257e-13</td>\n",
       "      <td>0.316229</td>\n",
       "      <td>71.565</td>\n",
       "      <td>270.0</td>\n",
       "      <td>1.0</td>\n",
       "      <td>Main_Fault</td>\n",
       "      <td>Fault_Series</td>\n",
       "      <td>1</td>\n",
       "      <td>1</td>\n",
       "      <td>True</td>\n",
       "    </tr>\n",
       "    <tr>\n",
       "      <th>1</th>\n",
       "      <td>400.0</td>\n",
       "      <td>1000.0</td>\n",
       "      <td>1400.000</td>\n",
       "      <td>0.316229</td>\n",
       "      <td>1.000019e-12</td>\n",
       "      <td>0.948683</td>\n",
       "      <td>18.435</td>\n",
       "      <td>90.0</td>\n",
       "      <td>1.0</td>\n",
       "      <td>Sandstone_2</td>\n",
       "      <td>Strat_Series</td>\n",
       "      <td>2</td>\n",
       "      <td>2</td>\n",
       "      <td>False</td>\n",
       "    </tr>\n",
       "    <tr>\n",
       "      <th>0</th>\n",
       "      <td>1000.0</td>\n",
       "      <td>1000.0</td>\n",
       "      <td>950.000</td>\n",
       "      <td>0.316229</td>\n",
       "      <td>1.000019e-12</td>\n",
       "      <td>0.948683</td>\n",
       "      <td>18.435</td>\n",
       "      <td>90.0</td>\n",
       "      <td>1.0</td>\n",
       "      <td>Shale</td>\n",
       "      <td>Strat_Series</td>\n",
       "      <td>4</td>\n",
       "      <td>2</td>\n",
       "      <td>False</td>\n",
       "    </tr>\n",
       "  </tbody>\n",
       "</table>\n",
       "</div>"
      ],
      "text/plain": [
       "        X       Y         Z       G_x           G_y       G_z     dip  \\\n",
       "2   500.0  1000.0   864.602 -0.948683  9.998257e-13  0.316229  71.565   \n",
       "1   400.0  1000.0  1400.000  0.316229  1.000019e-12  0.948683  18.435   \n",
       "0  1000.0  1000.0   950.000  0.316229  1.000019e-12  0.948683  18.435   \n",
       "\n",
       "   azimuth  polarity    formation        series  id  order_series  isFault  \n",
       "2    270.0       1.0   Main_Fault  Fault_Series   1             1     True  \n",
       "1     90.0       1.0  Sandstone_2  Strat_Series   2             2    False  \n",
       "0     90.0       1.0        Shale  Strat_Series   4             2    False  "
      ]
     },
     "execution_count": 54,
     "metadata": {},
     "output_type": "execute_result"
    }
   ],
   "source": [
    "gp.get_data(geo_model, 'orientations').head()"
   ]
  },
  {
   "cell_type": "markdown",
   "metadata": {},
   "source": [
    "These objects contain and represent all necessary data to create a model."
   ]
  },
  {
   "cell_type": "markdown",
   "metadata": {},
   "source": [
    "### Adding, modifing deleting"
   ]
  },
  {
   "cell_type": "code",
   "execution_count": 55,
   "metadata": {},
   "outputs": [],
   "source": [
    "geo_model.modify_interfaces([0], X=[2000], Y=[2000], Z=[2000])"
   ]
  },
  {
   "cell_type": "markdown",
   "metadata": {},
   "source": [
    "#### Passing a vtk object to real time update"
   ]
  },
  {
   "cell_type": "code",
   "execution_count": 56,
   "metadata": {},
   "outputs": [],
   "source": [
    "v = gp.plot.plot_data_3D(geo_model)"
   ]
  },
  {
   "cell_type": "code",
   "execution_count": 57,
   "metadata": {},
   "outputs": [
    {
     "data": {
      "text/plain": [
       "True"
      ]
     },
     "execution_count": 57,
     "metadata": {},
     "output_type": "execute_result"
    }
   ],
   "source": [
    "isinstance(v, gp.plot.vtkPlot)"
   ]
  },
  {
   "cell_type": "code",
   "execution_count": 58,
   "metadata": {},
   "outputs": [],
   "source": [
    "geo_model.modify_interfaces([0], v,  X=[2000], Y=[2000], Z=[1000])"
   ]
  },
  {
   "cell_type": "code",
   "execution_count": 59,
   "metadata": {},
   "outputs": [],
   "source": [
    "v.close()"
   ]
  },
  {
   "cell_type": "markdown",
   "metadata": {},
   "source": [
    "##### Real time surface updating\n"
   ]
  },
  {
   "cell_type": "code",
   "execution_count": 23,
   "metadata": {},
   "outputs": [
    {
     "name": "stdout",
     "output_type": "stream",
     "text": [
      "Compiling theano function...\n"
     ]
    },
    {
     "name": "stderr",
     "output_type": "stream",
     "text": [
      "/anaconda3/lib/python3.6/site-packages/Theano-1.0.1-py3.6.egg/theano/gof/cc.py:968: UserWarning: Your g++ compiler fails to compile OpenMP code. We know this happen with some version of the EPD mingw compiler and LLVM compiler on Mac OS X. We disable openmp everywhere in Theano. To remove this warning set the theano flags `openmp` to False.\n",
      "  ret += x.c_compile_args()\n"
     ]
    },
    {
     "name": "stdout",
     "output_type": "stream",
     "text": [
      "Compilation Done!\n",
      "Level of Optimization:  fast_run\n",
      "Device:  cpu\n",
      "Precision:  float64\n",
      "Number of df:  1\n"
     ]
    },
    {
     "data": {
      "text/html": [
       "<div>\n",
       "<style scoped>\n",
       "    .dataframe tbody tr th:only-of-type {\n",
       "        vertical-align: middle;\n",
       "    }\n",
       "\n",
       "    .dataframe tbody tr th {\n",
       "        vertical-align: top;\n",
       "    }\n",
       "\n",
       "    .dataframe thead th {\n",
       "        text-align: right;\n",
       "    }\n",
       "</style>\n",
       "<table border=\"1\" class=\"dataframe\">\n",
       "  <thead>\n",
       "    <tr style=\"text-align: right;\">\n",
       "      <th></th>\n",
       "      <th>values</th>\n",
       "    </tr>\n",
       "  </thead>\n",
       "  <tbody>\n",
       "    <tr>\n",
       "      <th>dtype</th>\n",
       "      <td>float64</td>\n",
       "    </tr>\n",
       "    <tr>\n",
       "      <th>output</th>\n",
       "      <td>geology</td>\n",
       "    </tr>\n",
       "    <tr>\n",
       "      <th>theano_optimizer</th>\n",
       "      <td>fast_run</td>\n",
       "    </tr>\n",
       "    <tr>\n",
       "      <th>device</th>\n",
       "      <td>cpu</td>\n",
       "    </tr>\n",
       "    <tr>\n",
       "      <th>verbosity</th>\n",
       "      <td>NaN</td>\n",
       "    </tr>\n",
       "  </tbody>\n",
       "</table>\n",
       "</div>"
      ],
      "text/plain": [
       "                    values\n",
       "dtype              float64\n",
       "output             geology\n",
       "theano_optimizer  fast_run\n",
       "device                 cpu\n",
       "verbosity              NaN"
      ]
     },
     "execution_count": 23,
     "metadata": {},
     "output_type": "execute_result"
    }
   ],
   "source": [
    "gp.set_interpolation_data(geo_model, theano_optimizer='fast_run')"
   ]
  },
  {
   "cell_type": "code",
   "execution_count": 24,
   "metadata": {},
   "outputs": [
    {
     "data": {
      "text/plain": [
       "\n",
       "Lithology ids \n",
       "  [6. 6. 6. ... 2. 2. 2.] \n",
       "Lithology scalar field \n",
       "  [30.32253075 30.34951782 30.37647057 ... 30.97820663 31.01681709\n",
       " 31.0546608 ] \n",
       "Fault block \n",
       "  [[1. 1. 1. ... 2. 2. 2.]]"
      ]
     },
     "execution_count": 24,
     "metadata": {},
     "output_type": "execute_result"
    }
   ],
   "source": [
    "gp.compute_model(geo_model)"
   ]
  },
  {
   "cell_type": "code",
   "execution_count": null,
   "metadata": {},
   "outputs": [],
   "source": [
    "gp.plot.plot_section(geo_model, 10, plot_data=True)"
   ]
  },
  {
   "cell_type": "code",
   "execution_count": 25,
   "metadata": {},
   "outputs": [
    {
     "data": {
      "text/plain": [
       "True"
      ]
     },
     "execution_count": 25,
     "metadata": {},
     "output_type": "execute_result"
    }
   ],
   "source": [
    "gp.save_model(geo_model, './saves/ch1-2')"
   ]
  },
  {
   "cell_type": "code",
   "execution_count": 4,
   "metadata": {},
   "outputs": [
    {
     "data": {
      "image/png": "[encoded data removed]",
      "text/plain": [
       "<Figure size 360x360 with 1 Axes>"
      ]
     },
     "metadata": {},
     "output_type": "display_data"
    }
   ],
   "source": [
    "gp.plot.plot_section(geo_model, 50, plot_data=True)"
   ]
  },
  {
   "cell_type": "code",
   "execution_count": 5,
   "metadata": {},
   "outputs": [
    {
     "name": "stdout",
     "output_type": "stream",
     "text": [
      "holding... Use vtk.resume to go back to the interactive window\n"
     ]
    }
   ],
   "source": [
    "v = gp.plot.plot_surfaces_3D_real_time(geo_model, None, None)"
   ]
  },
  {
   "cell_type": "code",
   "execution_count": 12,
   "metadata": {},
   "outputs": [],
   "source": [
    "geo_model.modify_interfaces([0], v,  X=[2000], Y=[2000], Z=[1000])"
   ]
  },
  {
   "cell_type": "code",
   "execution_count": 14,
   "metadata": {},
   "outputs": [],
   "source": [
    "v.close()"
   ]
  },
  {
   "cell_type": "markdown",
   "metadata": {},
   "source": [
    "### Modify other dataframes"
   ]
  },
  {
   "cell_type": "code",
   "execution_count": 47,
   "metadata": {},
   "outputs": [
    {
     "data": {
      "text/html": [
       "<div>\n",
       "<style scoped>\n",
       "    .dataframe tbody tr th:only-of-type {\n",
       "        vertical-align: middle;\n",
       "    }\n",
       "\n",
       "    .dataframe tbody tr th {\n",
       "        vertical-align: top;\n",
       "    }\n",
       "\n",
       "    .dataframe thead th {\n",
       "        text-align: right;\n",
       "    }\n",
       "</style>\n",
       "<table border=\"1\" class=\"dataframe\">\n",
       "  <thead>\n",
       "    <tr style=\"text-align: right;\">\n",
       "      <th></th>\n",
       "      <th>values</th>\n",
       "    </tr>\n",
       "  </thead>\n",
       "  <tbody>\n",
       "    <tr>\n",
       "      <th>range</th>\n",
       "      <td>3464.1</td>\n",
       "    </tr>\n",
       "    <tr>\n",
       "      <th>$C_o$</th>\n",
       "      <td>285714</td>\n",
       "    </tr>\n",
       "    <tr>\n",
       "      <th>drift equations</th>\n",
       "      <td>[3, 3]</td>\n",
       "    </tr>\n",
       "    <tr>\n",
       "      <th>nugget grad</th>\n",
       "      <td>3</td>\n",
       "    </tr>\n",
       "    <tr>\n",
       "      <th>nugget scalar</th>\n",
       "      <td>3</td>\n",
       "    </tr>\n",
       "  </tbody>\n",
       "</table>\n",
       "</div>"
      ],
      "text/plain": [
       "                 values\n",
       "range            3464.1\n",
       "$C_o$            285714\n",
       "drift equations  [3, 3]\n",
       "nugget grad           3\n",
       "nugget scalar         3"
      ]
     },
     "execution_count": 47,
     "metadata": {},
     "output_type": "execute_result"
    }
   ],
   "source": [
    "geo_model.additional_data.kriging_data"
   ]
  },
  {
   "cell_type": "code",
   "execution_count": null,
   "metadata": {},
   "outputs": [],
   "source": []
  },
  {
   "cell_type": "code",
   "execution_count": 11,
   "metadata": {},
   "outputs": [],
   "source": [
    "geo_model.additional_data.kriging_data.loc[['nugget scalar', 'nugget grad'], 'values'] = [1000,1000]\n",
    "geo_model.interpolator.set_theano_shared_kriging()\n"
   ]
  },
  {
   "cell_type": "code",
   "execution_count": 6,
   "metadata": {},
   "outputs": [],
   "source": [
    "geo_model.additional_data.kriging_data.loc[['nugget scalar', 'nugget grad'], 'values'] = [1000,3]"
   ]
  },
  {
   "cell_type": "code",
   "execution_count": 70,
   "metadata": {},
   "outputs": [],
   "source": [
    "geo_model.additional_data.kriging_data.loc['nugget scalar', 'values'] = 1e-6\n",
    "geo_model.additional_data.kriging_data.loc['nugget grad', 'values'] = 0.01"
   ]
  },
  {
   "cell_type": "code",
   "execution_count": 38,
   "metadata": {},
   "outputs": [],
   "source": [
    "geo_model.additional_data.kriging_data.loc['nugget scalar', 'values'] = 1\n",
    "geo_model.additional_data.kriging_data.loc['nugget grad', 'values'] = 1"
   ]
  },
  {
   "cell_type": "code",
   "execution_count": 10,
   "metadata": {},
   "outputs": [],
   "source": [
    "geo_model.interpolator.set_theano_shared_kriging()\n",
    "v.vv.update_surfaces_real_time()\n",
    "v.vv.interactor.Render()"
   ]
  },
  {
   "cell_type": "code",
   "execution_count": null,
   "metadata": {},
   "outputs": [],
   "source": []
  },
  {
   "cell_type": "code",
   "execution_count": 31,
   "metadata": {},
   "outputs": [],
   "source": []
  },
  {
   "cell_type": "code",
   "execution_count": 62,
   "metadata": {},
   "outputs": [
    {
     "data": {
      "text/plain": [
       "True"
      ]
     },
     "execution_count": 62,
     "metadata": {},
     "output_type": "execute_result"
    }
   ],
   "source": [
    "geo_model.save_model()"
   ]
  },
  {
   "cell_type": "code",
   "execution_count": null,
   "metadata": {},
   "outputs": [],
   "source": []
  }
 ],
 "metadata": {
  "kernelspec": {
   "display_name": "Python 3",
   "language": "python",
   "name": "python3"
  },
  "language_info": {
   "codemirror_mode": {
    "name": "ipython",
    "version": 3
   },
   "file_extension": ".py",
   "mimetype": "text/x-python",
   "name": "python",
   "nbconvert_exporter": "python",
   "pygments_lexer": "ipython3",
   "version": "3.6.4"
  }
 },
 "nbformat": 4,
 "nbformat_minor": 2
}
