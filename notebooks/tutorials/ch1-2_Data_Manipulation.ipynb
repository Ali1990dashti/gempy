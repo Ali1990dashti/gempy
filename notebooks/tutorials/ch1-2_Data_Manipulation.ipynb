{
 "cells": [
  {
   "cell_type": "markdown",
   "metadata": {},
   "source": [
    "## Chapter 1.2: Data Structure and Manipulation\n",
    "***\n",
    "In the previous tutorial we saw how we can create a model by calling a few lines of code from imported data. However modelling tends to be an iterative process. Here we will explore the tools that `GemPy` with the help of `pandas` offers to modify the input data of a model.\n",
    "\n",
    "There is 5 main  funtion \"types\" in GemPy:\n",
    "\n",
    "- *create*: \n",
    "    - create new objects\n",
    "    - return the objects\n",
    " \n",
    "- *set*\n",
    "    - set given values **inplace**\n",
    "\n",
    "- *update*\n",
    "    - update dataframe or other attribute from other object or many objects. Usually this object is not passed as argument (this is the main difference with map)\n",
    "\n",
    "- *map*\n",
    "    - update dataframe (so far mainly df) or other attribute from an object to another object.\n",
    "    - Completelly directed. One attribute/property is updated by another one.\n",
    "    - In general, we map_from so the method is in the mutated object.\n",
    "\n",
    "- *get*\n",
    "    - return an image of the object\n",
    "    \n",
    "The intention is that a function/method that does not fall in any of these categories has a name (verb in principle) self explanatory. \n",
    "\n",
    "\n",
    "As always we start importing the usual packages and reading expample data:"
   ]
  },
  {
   "cell_type": "markdown",
   "metadata": {},
   "source": [
    "<p align=\"center\"><iframe src=\"https://atlas.mindmup.com/2018/11/ca2c3230ddc511e887555f7d8bb30b4d/gempy_mind_map/index.html\"></iframe></p>\n"
   ]
  },
  {
   "cell_type": "code",
   "execution_count": 1,
   "metadata": {},
   "outputs": [
    {
     "data": {
      "text/html": [
       "\n",
       "        <iframe\n",
       "            width=\"1000\"\n",
       "            height=\"1000\"\n",
       "            src=\"https://atlas.mindmup.com/2018/11/ca2c3230ddc511e887555f7d8bb30b4d/gempy_mind_map/index.html\"\n",
       "            frameborder=\"0\"\n",
       "            allowfullscreen\n",
       "        ></iframe>\n",
       "        "
      ],
      "text/plain": [
       "<IPython.lib.display.IFrame at 0x7fa4a4951f98>"
      ]
     },
     "execution_count": 1,
     "metadata": {},
     "output_type": "execute_result"
    }
   ],
   "source": [
    "from IPython.display import IFrame    \n",
    "IFrame(\"https://atlas.mindmup.com/2018/11/ca2c3230ddc511e887555f7d8bb30b4d/gempy_mind_map/index.html\",\n",
    "      width=1000, height=1000)"
   ]
  },
  {
   "cell_type": "code",
   "execution_count": 2,
   "metadata": {},
   "outputs": [
    {
     "name": "stderr",
     "output_type": "stream",
     "text": [
      "../../gempy/core/gempy_front.py:665: FutureWarning: create_data will get deprecated in the next version of gempy. It still exist only to keepthe behaviour equal to older version. Use init_data.\n",
      "  \"the behaviour equal to older version. Use init_data.\", FutureWarning)\n"
     ]
    },
    {
     "name": "stdout",
     "output_type": "stream",
     "text": [
      "No id or order_series in the input\n",
      "Length of formation_names does not match number of formations\n"
     ]
    },
    {
     "name": "stderr",
     "output_type": "stream",
     "text": [
      "../../gempy/core/gempy_front.py:110: FutureWarning: values_to_default option will get deprecated in the next version of gempy. It still exist only to keep the behaviour equal to older version. See set_values_to_default.\n",
      "  \"to keep the behaviour equal to older version. See set_values_to_default.\", FutureWarning)\n"
     ]
    },
    {
     "name": "stdout",
     "output_type": "stream",
     "text": [
      "Length of formation_names does not match number of formations\n",
      "already basement\n"
     ]
    },
    {
     "data": {
      "image/png": "[encoded data removed]",
      "text/plain": [
       "<Figure size 432x288 with 1 Axes>"
      ]
     },
     "execution_count": 2,
     "metadata": {},
     "output_type": "execute_result"
    }
   ],
   "source": [
    "# These two lines are necessary only if GemPy is not installed\n",
    "import sys, os\n",
    "sys.path.append(\"../..\")\n",
    "\n",
    "# Importing GemPy\n",
    "import gempy as gp\n",
    "\n",
    "# Embedding matplotlib figures in the notebooks\n",
    "%matplotlib inline\n",
    "\n",
    "# Importing auxiliary libraries\n",
    "import numpy as np\n",
    "import pandas as pn\n",
    "import matplotlib.pyplot as plt\n",
    "\n",
    "# Importing the data from CSV-files and setting extent and resolution\n",
    "geo_model = gp.create_data([0,2000.,0,2000.,0,2000.],[50,50,50], \n",
    "      path_o = os.pardir+\"/input_data/tut_chapter1/simple_fault_model_orientations.csv\",\n",
    "      path_i = os.pardir+\"/input_data/tut_chapter1/simple_fault_model_points.csv\") \n",
    "\n",
    "# Assigning series to formations as well as their order (timewise)\n",
    "gp.set_series(geo_model, {\"Fault_Series\":'Main_Fault', \n",
    "                         \"Strat_Series\": ('Sandstone_2','Siltstone',\n",
    "                                          'Shale', 'Sandstone_1')},\n",
    "                       order_series = [\"Fault_Series\", 'Strat_Series'],\n",
    "                       order_formations=['Main_Fault', \n",
    "                                         'Sandstone_2','Siltstone',\n",
    "                                         'Shale', 'Sandstone_1',\n",
    "                                         ], verbose=1) "
   ]
  },
  {
   "cell_type": "markdown",
   "metadata": {},
   "source": [
    "The class `gempy.core.model.Model` works as the parent container of our project. Therefore the main step of any project is to create an instance of this class. In the official documentation we use normally geo_model (geo_data in the past) as name of this instance.\n",
    "\n",
    "When we instiantiate a `Model` object we full data structure is created. By using `gp.init_data` and `set_series` we set the default values -- given the attributes -- to all of fields. Data is stored in pandas dataframes. With `gp.get_data` and the name of the data object it is possible to have access to the dataframes: \n",
    "\n",
    "`str`['all', 'interfaces', 'orientations', 'formations', 'series', 'faults', 'faults_relations', \n",
    "        additional data]\n",
    "        \n",
    "These dataframes are stored in specific objects. These objects contain the specific methods to manipulate them. You access these objects with the spectific getter or as a attribute of `Model`"
   ]
  },
  {
   "cell_type": "markdown",
   "metadata": {},
   "source": [
    "### Formations:\n",
    "\n",
    "The *df* formation contain two properties. *id* refers to the order of the formation on the sequential pile, i.e. the strict order of computation. *values* on the other hand is the final value that each voxel will have after discretization. This may be useful for example in the case we want to map a specific geophysical property (such as density) to a given unity. By default both are the same since to discretize lithological units the value is arbitrary."
   ]
  },
  {
   "cell_type": "code",
   "execution_count": 3,
   "metadata": {},
   "outputs": [],
   "source": [
    "formation = gp.get_formations(geo_model)"
   ]
  },
  {
   "cell_type": "code",
   "execution_count": 4,
   "metadata": {},
   "outputs": [
    {
     "data": {
      "text/html": [
       "<table border=\"1\" class=\"dataframe\">\n",
       "  <thead>\n",
       "    <tr style=\"text-align: right;\">\n",
       "      <th></th>\n",
       "      <th>formation</th>\n",
       "      <th>series</th>\n",
       "      <th>id</th>\n",
       "      <th>isBasement</th>\n",
       "    </tr>\n",
       "  </thead>\n",
       "  <tbody>\n",
       "    <tr>\n",
       "      <th>0</th>\n",
       "      <td>Main_Fault</td>\n",
       "      <td>Fault_Series</td>\n",
       "      <td>1</td>\n",
       "      <td>False</td>\n",
       "    </tr>\n",
       "    <tr>\n",
       "      <th>1</th>\n",
       "      <td>Sandstone_2</td>\n",
       "      <td>Strat_Series</td>\n",
       "      <td>2</td>\n",
       "      <td>False</td>\n",
       "    </tr>\n",
       "    <tr>\n",
       "      <th>2</th>\n",
       "      <td>Siltstone</td>\n",
       "      <td>Strat_Series</td>\n",
       "      <td>3</td>\n",
       "      <td>False</td>\n",
       "    </tr>\n",
       "    <tr>\n",
       "      <th>3</th>\n",
       "      <td>Shale</td>\n",
       "      <td>Strat_Series</td>\n",
       "      <td>4</td>\n",
       "      <td>False</td>\n",
       "    </tr>\n",
       "    <tr>\n",
       "      <th>4</th>\n",
       "      <td>Sandstone_1</td>\n",
       "      <td>Strat_Series</td>\n",
       "      <td>5</td>\n",
       "      <td>False</td>\n",
       "    </tr>\n",
       "    <tr>\n",
       "      <th>5</th>\n",
       "      <td>default_formation_0</td>\n",
       "      <td>Fault_Series</td>\n",
       "      <td>6</td>\n",
       "      <td>True</td>\n",
       "    </tr>\n",
       "  </tbody>\n",
       "</table>"
      ],
      "text/plain": [
       "             formation        series  id  isBasement\n",
       "0           Main_Fault  Fault_Series   1       False\n",
       "1          Sandstone_2  Strat_Series   2       False\n",
       "2            Siltstone  Strat_Series   3       False\n",
       "3                Shale  Strat_Series   4       False\n",
       "4          Sandstone_1  Strat_Series   5       False\n",
       "5  default_formation_0  Fault_Series   6        True"
      ]
     },
     "execution_count": 4,
     "metadata": {},
     "output_type": "execute_result"
    }
   ],
   "source": [
    "# This is a GemPy object. The __rep__ has been overrided to show the df (an attribute of the object)\n",
    "formation"
   ]
  },
  {
   "cell_type": "markdown",
   "metadata": {},
   "source": [
    "Alternatively we can access the dataframe by:"
   ]
  },
  {
   "cell_type": "code",
   "execution_count": 5,
   "metadata": {},
   "outputs": [
    {
     "data": {
      "text/html": [
       "<table border=\"1\" class=\"dataframe\">\n",
       "  <thead>\n",
       "    <tr style=\"text-align: right;\">\n",
       "      <th></th>\n",
       "      <th>formation</th>\n",
       "      <th>series</th>\n",
       "      <th>id</th>\n",
       "      <th>isBasement</th>\n",
       "    </tr>\n",
       "  </thead>\n",
       "  <tbody>\n",
       "    <tr>\n",
       "      <th>0</th>\n",
       "      <td>Main_Fault</td>\n",
       "      <td>Fault_Series</td>\n",
       "      <td>1</td>\n",
       "      <td>False</td>\n",
       "    </tr>\n",
       "    <tr>\n",
       "      <th>1</th>\n",
       "      <td>Sandstone_2</td>\n",
       "      <td>Strat_Series</td>\n",
       "      <td>2</td>\n",
       "      <td>False</td>\n",
       "    </tr>\n",
       "    <tr>\n",
       "      <th>2</th>\n",
       "      <td>Siltstone</td>\n",
       "      <td>Strat_Series</td>\n",
       "      <td>3</td>\n",
       "      <td>False</td>\n",
       "    </tr>\n",
       "    <tr>\n",
       "      <th>3</th>\n",
       "      <td>Shale</td>\n",
       "      <td>Strat_Series</td>\n",
       "      <td>4</td>\n",
       "      <td>False</td>\n",
       "    </tr>\n",
       "    <tr>\n",
       "      <th>4</th>\n",
       "      <td>Sandstone_1</td>\n",
       "      <td>Strat_Series</td>\n",
       "      <td>5</td>\n",
       "      <td>False</td>\n",
       "    </tr>\n",
       "    <tr>\n",
       "      <th>5</th>\n",
       "      <td>default_formation_0</td>\n",
       "      <td>Fault_Series</td>\n",
       "      <td>6</td>\n",
       "      <td>True</td>\n",
       "    </tr>\n",
       "  </tbody>\n",
       "</table>"
      ],
      "text/plain": [
       "             formation        series  id  isBasement\n",
       "0           Main_Fault  Fault_Series   1       False\n",
       "1          Sandstone_2  Strat_Series   2       False\n",
       "2            Siltstone  Strat_Series   3       False\n",
       "3                Shale  Strat_Series   4       False\n",
       "4          Sandstone_1  Strat_Series   5       False\n",
       "5  default_formation_0  Fault_Series   6        True"
      ]
     },
     "execution_count": 5,
     "metadata": {},
     "output_type": "execute_result"
    }
   ],
   "source": [
    "gp.get_data(geo_model, 'formations')"
   ]
  },
  {
   "cell_type": "markdown",
   "metadata": {},
   "source": [
    "### Series"
   ]
  },
  {
   "cell_type": "code",
   "execution_count": 6,
   "metadata": {},
   "outputs": [
    {
     "data": {
      "text/html": [
       "<table border=\"1\" class=\"dataframe\">\n",
       "  <thead>\n",
       "    <tr style=\"text-align: right;\">\n",
       "      <th></th>\n",
       "      <th>order_series</th>\n",
       "      <th>BottomRelation</th>\n",
       "    </tr>\n",
       "  </thead>\n",
       "  <tbody>\n",
       "    <tr>\n",
       "      <th>Fault_Series</th>\n",
       "      <td>1</td>\n",
       "      <td>NaN</td>\n",
       "    </tr>\n",
       "    <tr>\n",
       "      <th>Strat_Series</th>\n",
       "      <td>2</td>\n",
       "      <td>NaN</td>\n",
       "    </tr>\n",
       "  </tbody>\n",
       "</table>"
      ],
      "text/plain": [
       "  Fault_Series Strat_Series\n",
       "0   Main_Fault  Sandstone_2\n",
       "1          NaN    Siltstone\n",
       "2          NaN        Shale\n",
       "3          NaN  Sandstone_1"
      ]
     },
     "execution_count": 6,
     "metadata": {},
     "output_type": "execute_result"
    }
   ],
   "source": [
    "series = gp.get_series(geo_model)\n",
    "series"
   ]
  },
  {
   "cell_type": "code",
   "execution_count": 7,
   "metadata": {},
   "outputs": [
    {
     "data": {
      "text/html": [
       "<table border=\"1\" class=\"dataframe\">\n",
       "  <thead>\n",
       "    <tr style=\"text-align: right;\">\n",
       "      <th></th>\n",
       "      <th>order_series</th>\n",
       "      <th>BottomRelation</th>\n",
       "    </tr>\n",
       "  </thead>\n",
       "  <tbody>\n",
       "    <tr>\n",
       "      <th>Fault_Series</th>\n",
       "      <td>1</td>\n",
       "      <td>NaN</td>\n",
       "    </tr>\n",
       "    <tr>\n",
       "      <th>Strat_Series</th>\n",
       "      <td>2</td>\n",
       "      <td>NaN</td>\n",
       "    </tr>\n",
       "  </tbody>\n",
       "</table>"
      ],
      "text/plain": [
       "  Fault_Series Strat_Series\n",
       "0   Main_Fault  Sandstone_2\n",
       "1          NaN    Siltstone\n",
       "2          NaN        Shale\n",
       "3          NaN  Sandstone_1"
      ]
     },
     "execution_count": 7,
     "metadata": {},
     "output_type": "execute_result"
    }
   ],
   "source": [
    "gp.get_data(geo_model, 'series')"
   ]
  },
  {
   "cell_type": "markdown",
   "metadata": {},
   "source": [
    "### Faults\n",
    "\n",
    "The *df faults* is used to charectirize which *mathematical series* behave as fault and if mentioned faults are finite or infinite:"
   ]
  },
  {
   "cell_type": "code",
   "execution_count": 8,
   "metadata": {},
   "outputs": [
    {
     "data": {
      "text/html": [
       "<table border=\"1\" class=\"dataframe\">\n",
       "  <thead>\n",
       "    <tr style=\"text-align: right;\">\n",
       "      <th></th>\n",
       "      <th>isFault</th>\n",
       "    </tr>\n",
       "  </thead>\n",
       "  <tbody>\n",
       "    <tr>\n",
       "      <th>Fault_Series</th>\n",
       "      <td>True</td>\n",
       "    </tr>\n",
       "    <tr>\n",
       "      <th>Strat_Series</th>\n",
       "      <td>False</td>\n",
       "    </tr>\n",
       "  </tbody>\n",
       "</table>"
      ],
      "text/plain": [
       "              isFault\n",
       "Fault_Series     True\n",
       "Strat_Series    False"
      ]
     },
     "execution_count": 8,
     "metadata": {},
     "output_type": "execute_result"
    }
   ],
   "source": [
    "gp.get_faults(geo_model)"
   ]
  },
  {
   "cell_type": "code",
   "execution_count": 9,
   "metadata": {},
   "outputs": [
    {
     "data": {
      "text/html": [
       "<table border=\"1\" class=\"dataframe\">\n",
       "  <thead>\n",
       "    <tr style=\"text-align: right;\">\n",
       "      <th></th>\n",
       "      <th>isFault</th>\n",
       "    </tr>\n",
       "  </thead>\n",
       "  <tbody>\n",
       "    <tr>\n",
       "      <th>Fault_Series</th>\n",
       "      <td>True</td>\n",
       "    </tr>\n",
       "    <tr>\n",
       "      <th>Strat_Series</th>\n",
       "      <td>False</td>\n",
       "    </tr>\n",
       "  </tbody>\n",
       "</table>"
      ],
      "text/plain": [
       "              isFault\n",
       "Fault_Series     True\n",
       "Strat_Series    False"
      ]
     },
     "execution_count": 9,
     "metadata": {},
     "output_type": "execute_result"
    }
   ],
   "source": [
    "gp.get_data(geo_model, 'faults')"
   ]
  },
  {
   "cell_type": "markdown",
   "metadata": {},
   "source": [
    "Finally we have the *faults relations df* which captures which *mathematical series* a given fault offset in order to reproduce complex faulting networks"
   ]
  },
  {
   "cell_type": "code",
   "execution_count": 10,
   "metadata": {},
   "outputs": [
    {
     "data": {
      "text/html": [
       "<div>\n",
       "<style scoped>\n",
       "    .dataframe tbody tr th:only-of-type {\n",
       "        vertical-align: middle;\n",
       "    }\n",
       "\n",
       "    .dataframe tbody tr th {\n",
       "        vertical-align: top;\n",
       "    }\n",
       "\n",
       "    .dataframe thead th {\n",
       "        text-align: right;\n",
       "    }\n",
       "</style>\n",
       "<table border=\"1\" class=\"dataframe\">\n",
       "  <thead>\n",
       "    <tr style=\"text-align: right;\">\n",
       "      <th></th>\n",
       "      <th>Default series</th>\n",
       "    </tr>\n",
       "  </thead>\n",
       "  <tbody>\n",
       "    <tr>\n",
       "      <th>Default series</th>\n",
       "      <td>False</td>\n",
       "    </tr>\n",
       "  </tbody>\n",
       "</table>\n",
       "</div>"
      ],
      "text/plain": [
       "                Default series\n",
       "Default series           False"
      ]
     },
     "execution_count": 10,
     "metadata": {},
     "output_type": "execute_result"
    }
   ],
   "source": [
    "gp.get_data(geo_model, 'faults_relations_df')"
   ]
  },
  {
   "cell_type": "markdown",
   "metadata": {},
   "source": [
    "### Additional Data"
   ]
  },
  {
   "cell_type": "code",
   "execution_count": 11,
   "metadata": {},
   "outputs": [
    {
     "data": {
      "text/html": [
       "<table border=\"1\" class=\"dataframe\">\n",
       "  <thead>\n",
       "    <tr style=\"text-align: right;\">\n",
       "      <th></th>\n",
       "      <th></th>\n",
       "      <th>values</th>\n",
       "    </tr>\n",
       "  </thead>\n",
       "  <tbody>\n",
       "    <tr>\n",
       "      <th rowspan=\"8\" valign=\"top\">Structure</th>\n",
       "      <th>isLith</th>\n",
       "      <td>True</td>\n",
       "    </tr>\n",
       "    <tr>\n",
       "      <th>isFault</th>\n",
       "      <td>True</td>\n",
       "    </tr>\n",
       "    <tr>\n",
       "      <th>number faults</th>\n",
       "      <td>1</td>\n",
       "    </tr>\n",
       "    <tr>\n",
       "      <th>number formations</th>\n",
       "      <td>6</td>\n",
       "    </tr>\n",
       "    <tr>\n",
       "      <th>number formations per series</th>\n",
       "      <td>[1, 5]</td>\n",
       "    </tr>\n",
       "    <tr>\n",
       "      <th>len formations interfaces</th>\n",
       "      <td>[5, 8, 13, 16, 15]</td>\n",
       "    </tr>\n",
       "    <tr>\n",
       "      <th>len series interfaces</th>\n",
       "      <td>[5, 52]</td>\n",
       "    </tr>\n",
       "    <tr>\n",
       "      <th>len series orientations</th>\n",
       "      <td>[1, 2]</td>\n",
       "    </tr>\n",
       "    <tr>\n",
       "      <th rowspan=\"5\" valign=\"top\">Options</th>\n",
       "      <th>dtype</th>\n",
       "      <td>float64</td>\n",
       "    </tr>\n",
       "    <tr>\n",
       "      <th>output</th>\n",
       "      <td>geology</td>\n",
       "    </tr>\n",
       "    <tr>\n",
       "      <th>theano_optimizer</th>\n",
       "      <td>fast_compile</td>\n",
       "    </tr>\n",
       "    <tr>\n",
       "      <th>device</th>\n",
       "      <td>cpu</td>\n",
       "    </tr>\n",
       "    <tr>\n",
       "      <th>verbosity</th>\n",
       "      <td>NaN</td>\n",
       "    </tr>\n",
       "    <tr>\n",
       "      <th rowspan=\"5\" valign=\"top\">Kringing</th>\n",
       "      <th>range</th>\n",
       "      <td>3464.1</td>\n",
       "    </tr>\n",
       "    <tr>\n",
       "      <th>$C_o$</th>\n",
       "      <td>285714</td>\n",
       "    </tr>\n",
       "    <tr>\n",
       "      <th>drift equations</th>\n",
       "      <td>[3, 3]</td>\n",
       "    </tr>\n",
       "    <tr>\n",
       "      <th>nugget grad</th>\n",
       "      <td>0.01</td>\n",
       "    </tr>\n",
       "    <tr>\n",
       "      <th>nugget scalar</th>\n",
       "      <td>1e-06</td>\n",
       "    </tr>\n",
       "    <tr>\n",
       "      <th rowspan=\"2\" valign=\"top\">Rescaling</th>\n",
       "      <th>rescaling factor</th>\n",
       "      <td>3800</td>\n",
       "    </tr>\n",
       "    <tr>\n",
       "      <th>centers</th>\n",
       "      <td>X     850.0\n",
       "Y    1000.0\n",
       "Z     900.0\n",
       "dtype: flo...</td>\n",
       "    </tr>\n",
       "  </tbody>\n",
       "</table>"
      ],
      "text/plain": [
       "                                                                                   values\n",
       "Structure isLith                                                                     True\n",
       "          isFault                                                                    True\n",
       "          number faults                                                                 1\n",
       "          number formations                                                             6\n",
       "          number formations per series                                             [1, 5]\n",
       "          len formations interfaces                                    [5, 8, 13, 16, 15]\n",
       "          len series interfaces                                                   [5, 52]\n",
       "          len series orientations                                                  [1, 2]\n",
       "Options   dtype                                                                   float64\n",
       "          output                                                                  geology\n",
       "          theano_optimizer                                                   fast_compile\n",
       "          device                                                                      cpu\n",
       "          verbosity                                                                   NaN\n",
       "Kringing  range                                                                    3464.1\n",
       "          $C_o$                                                                    285714\n",
       "          drift equations                                                          [3, 3]\n",
       "          nugget grad                                                                0.01\n",
       "          nugget scalar                                                             1e-06\n",
       "Rescaling rescaling factor                                                           3800\n",
       "          centers                       X     850.0\n",
       "Y    1000.0\n",
       "Z     900.0\n",
       "dtype: flo..."
      ]
     },
     "execution_count": 11,
     "metadata": {},
     "output_type": "execute_result"
    }
   ],
   "source": [
    "gp.get_additional_data(geo_model)"
   ]
  },
  {
   "cell_type": "code",
   "execution_count": 12,
   "metadata": {},
   "outputs": [
    {
     "data": {
      "text/html": [
       "<table border=\"1\" class=\"dataframe\">\n",
       "  <thead>\n",
       "    <tr style=\"text-align: right;\">\n",
       "      <th></th>\n",
       "      <th></th>\n",
       "      <th>values</th>\n",
       "    </tr>\n",
       "  </thead>\n",
       "  <tbody>\n",
       "    <tr>\n",
       "      <th rowspan=\"8\" valign=\"top\">Structure</th>\n",
       "      <th>isLith</th>\n",
       "      <td>True</td>\n",
       "    </tr>\n",
       "    <tr>\n",
       "      <th>isFault</th>\n",
       "      <td>True</td>\n",
       "    </tr>\n",
       "    <tr>\n",
       "      <th>number faults</th>\n",
       "      <td>1</td>\n",
       "    </tr>\n",
       "    <tr>\n",
       "      <th>number formations</th>\n",
       "      <td>6</td>\n",
       "    </tr>\n",
       "    <tr>\n",
       "      <th>number formations per series</th>\n",
       "      <td>[1, 5]</td>\n",
       "    </tr>\n",
       "    <tr>\n",
       "      <th>len formations interfaces</th>\n",
       "      <td>[5, 8, 13, 16, 15]</td>\n",
       "    </tr>\n",
       "    <tr>\n",
       "      <th>len series interfaces</th>\n",
       "      <td>[5, 52]</td>\n",
       "    </tr>\n",
       "    <tr>\n",
       "      <th>len series orientations</th>\n",
       "      <td>[1, 2]</td>\n",
       "    </tr>\n",
       "    <tr>\n",
       "      <th rowspan=\"5\" valign=\"top\">Options</th>\n",
       "      <th>dtype</th>\n",
       "      <td>float64</td>\n",
       "    </tr>\n",
       "    <tr>\n",
       "      <th>output</th>\n",
       "      <td>geology</td>\n",
       "    </tr>\n",
       "    <tr>\n",
       "      <th>theano_optimizer</th>\n",
       "      <td>fast_compile</td>\n",
       "    </tr>\n",
       "    <tr>\n",
       "      <th>device</th>\n",
       "      <td>cpu</td>\n",
       "    </tr>\n",
       "    <tr>\n",
       "      <th>verbosity</th>\n",
       "      <td>NaN</td>\n",
       "    </tr>\n",
       "    <tr>\n",
       "      <th rowspan=\"5\" valign=\"top\">Kringing</th>\n",
       "      <th>range</th>\n",
       "      <td>3464.1</td>\n",
       "    </tr>\n",
       "    <tr>\n",
       "      <th>$C_o$</th>\n",
       "      <td>285714</td>\n",
       "    </tr>\n",
       "    <tr>\n",
       "      <th>drift equations</th>\n",
       "      <td>[3, 3]</td>\n",
       "    </tr>\n",
       "    <tr>\n",
       "      <th>nugget grad</th>\n",
       "      <td>0.01</td>\n",
       "    </tr>\n",
       "    <tr>\n",
       "      <th>nugget scalar</th>\n",
       "      <td>1e-06</td>\n",
       "    </tr>\n",
       "    <tr>\n",
       "      <th rowspan=\"2\" valign=\"top\">Rescaling</th>\n",
       "      <th>rescaling factor</th>\n",
       "      <td>3800</td>\n",
       "    </tr>\n",
       "    <tr>\n",
       "      <th>centers</th>\n",
       "      <td>X     850.0\n",
       "Y    1000.0\n",
       "Z     900.0\n",
       "dtype: flo...</td>\n",
       "    </tr>\n",
       "  </tbody>\n",
       "</table>"
      ],
      "text/plain": [
       "                                                                                   values\n",
       "Structure isLith                                                                     True\n",
       "          isFault                                                                    True\n",
       "          number faults                                                                 1\n",
       "          number formations                                                             6\n",
       "          number formations per series                                             [1, 5]\n",
       "          len formations interfaces                                    [5, 8, 13, 16, 15]\n",
       "          len series interfaces                                                   [5, 52]\n",
       "          len series orientations                                                  [1, 2]\n",
       "Options   dtype                                                                   float64\n",
       "          output                                                                  geology\n",
       "          theano_optimizer                                                   fast_compile\n",
       "          device                                                                      cpu\n",
       "          verbosity                                                                   NaN\n",
       "Kringing  range                                                                    3464.1\n",
       "          $C_o$                                                                    285714\n",
       "          drift equations                                                          [3, 3]\n",
       "          nugget grad                                                                0.01\n",
       "          nugget scalar                                                             1e-06\n",
       "Rescaling rescaling factor                                                           3800\n",
       "          centers                       X     850.0\n",
       "Y    1000.0\n",
       "Z     900.0\n",
       "dtype: flo..."
      ]
     },
     "execution_count": 12,
     "metadata": {},
     "output_type": "execute_result"
    }
   ],
   "source": [
    "gp.get_data(geo_model, 'additional data')"
   ]
  },
  {
   "cell_type": "markdown",
   "metadata": {},
   "source": [
    "###  Interfaces\n",
    "\n",
    "These two DataFrames (df from now on) will contain the individual information of each point at an interface or orientation. Some properties of this table are mapped from the *df* below."
   ]
  },
  {
   "cell_type": "code",
   "execution_count": 13,
   "metadata": {},
   "outputs": [
    {
     "data": {
      "text/html": [
       "<div>\n",
       "<style scoped>\n",
       "    .dataframe tbody tr th:only-of-type {\n",
       "        vertical-align: middle;\n",
       "    }\n",
       "\n",
       "    .dataframe tbody tr th {\n",
       "        vertical-align: top;\n",
       "    }\n",
       "\n",
       "    .dataframe thead th {\n",
       "        text-align: right;\n",
       "    }\n",
       "</style>\n",
       "<table border=\"1\" class=\"dataframe\">\n",
       "  <thead>\n",
       "    <tr style=\"text-align: right;\">\n",
       "      <th></th>\n",
       "      <th>X</th>\n",
       "      <th>Y</th>\n",
       "      <th>Z</th>\n",
       "      <th>formation</th>\n",
       "      <th>series</th>\n",
       "      <th>id</th>\n",
       "      <th>order_series</th>\n",
       "      <th>isFault</th>\n",
       "    </tr>\n",
       "  </thead>\n",
       "  <tbody>\n",
       "    <tr>\n",
       "      <th>0</th>\n",
       "      <td>800.0</td>\n",
       "      <td>50.0</td>\n",
       "      <td>750.0</td>\n",
       "      <td>Shale</td>\n",
       "      <td>Strat_Series</td>\n",
       "      <td>4</td>\n",
       "      <td>2</td>\n",
       "      <td>False</td>\n",
       "    </tr>\n",
       "    <tr>\n",
       "      <th>1</th>\n",
       "      <td>800.0</td>\n",
       "      <td>150.0</td>\n",
       "      <td>700.0</td>\n",
       "      <td>Shale</td>\n",
       "      <td>Strat_Series</td>\n",
       "      <td>4</td>\n",
       "      <td>2</td>\n",
       "      <td>False</td>\n",
       "    </tr>\n",
       "    <tr>\n",
       "      <th>2</th>\n",
       "      <td>800.0</td>\n",
       "      <td>300.0</td>\n",
       "      <td>700.0</td>\n",
       "      <td>Shale</td>\n",
       "      <td>Strat_Series</td>\n",
       "      <td>4</td>\n",
       "      <td>2</td>\n",
       "      <td>False</td>\n",
       "    </tr>\n",
       "    <tr>\n",
       "      <th>3</th>\n",
       "      <td>800.0</td>\n",
       "      <td>500.0</td>\n",
       "      <td>800.0</td>\n",
       "      <td>Shale</td>\n",
       "      <td>Strat_Series</td>\n",
       "      <td>4</td>\n",
       "      <td>2</td>\n",
       "      <td>False</td>\n",
       "    </tr>\n",
       "    <tr>\n",
       "      <th>4</th>\n",
       "      <td>800.0</td>\n",
       "      <td>1000.0</td>\n",
       "      <td>1000.0</td>\n",
       "      <td>Shale</td>\n",
       "      <td>Strat_Series</td>\n",
       "      <td>4</td>\n",
       "      <td>2</td>\n",
       "      <td>False</td>\n",
       "    </tr>\n",
       "  </tbody>\n",
       "</table>\n",
       "</div>"
      ],
      "text/plain": [
       "       X       Y       Z formation        series  id  order_series  isFault\n",
       "0  800.0    50.0   750.0     Shale  Strat_Series   4             2    False\n",
       "1  800.0   150.0   700.0     Shale  Strat_Series   4             2    False\n",
       "2  800.0   300.0   700.0     Shale  Strat_Series   4             2    False\n",
       "3  800.0   500.0   800.0     Shale  Strat_Series   4             2    False\n",
       "4  800.0  1000.0  1000.0     Shale  Strat_Series   4             2    False"
      ]
     },
     "execution_count": 13,
     "metadata": {},
     "output_type": "execute_result"
    }
   ],
   "source": [
    "gp.get_data(geo_model, 'interfaces').head()"
   ]
  },
  {
   "cell_type": "markdown",
   "metadata": {},
   "source": [
    "### Orientations"
   ]
  },
  {
   "cell_type": "code",
   "execution_count": 14,
   "metadata": {},
   "outputs": [
    {
     "data": {
      "text/html": [
       "<div>\n",
       "<style scoped>\n",
       "    .dataframe tbody tr th:only-of-type {\n",
       "        vertical-align: middle;\n",
       "    }\n",
       "\n",
       "    .dataframe tbody tr th {\n",
       "        vertical-align: top;\n",
       "    }\n",
       "\n",
       "    .dataframe thead th {\n",
       "        text-align: right;\n",
       "    }\n",
       "</style>\n",
       "<table border=\"1\" class=\"dataframe\">\n",
       "  <thead>\n",
       "    <tr style=\"text-align: right;\">\n",
       "      <th></th>\n",
       "      <th>X</th>\n",
       "      <th>Y</th>\n",
       "      <th>Z</th>\n",
       "      <th>G_x</th>\n",
       "      <th>G_y</th>\n",
       "      <th>G_z</th>\n",
       "      <th>dip</th>\n",
       "      <th>azimuth</th>\n",
       "      <th>polarity</th>\n",
       "      <th>formation</th>\n",
       "      <th>series</th>\n",
       "      <th>id</th>\n",
       "      <th>order_series</th>\n",
       "      <th>isFault</th>\n",
       "    </tr>\n",
       "  </thead>\n",
       "  <tbody>\n",
       "    <tr>\n",
       "      <th>0</th>\n",
       "      <td>1000.0</td>\n",
       "      <td>1000.0</td>\n",
       "      <td>950.000</td>\n",
       "      <td>0.316229</td>\n",
       "      <td>1.000019e-12</td>\n",
       "      <td>0.948683</td>\n",
       "      <td>18.435</td>\n",
       "      <td>90.0</td>\n",
       "      <td>1.0</td>\n",
       "      <td>Shale</td>\n",
       "      <td>Strat_Series</td>\n",
       "      <td>4</td>\n",
       "      <td>2</td>\n",
       "      <td>False</td>\n",
       "    </tr>\n",
       "    <tr>\n",
       "      <th>1</th>\n",
       "      <td>400.0</td>\n",
       "      <td>1000.0</td>\n",
       "      <td>1400.000</td>\n",
       "      <td>0.316229</td>\n",
       "      <td>1.000019e-12</td>\n",
       "      <td>0.948683</td>\n",
       "      <td>18.435</td>\n",
       "      <td>90.0</td>\n",
       "      <td>1.0</td>\n",
       "      <td>Sandstone_2</td>\n",
       "      <td>Strat_Series</td>\n",
       "      <td>2</td>\n",
       "      <td>2</td>\n",
       "      <td>False</td>\n",
       "    </tr>\n",
       "    <tr>\n",
       "      <th>2</th>\n",
       "      <td>500.0</td>\n",
       "      <td>1000.0</td>\n",
       "      <td>864.602</td>\n",
       "      <td>-0.948683</td>\n",
       "      <td>9.998257e-13</td>\n",
       "      <td>0.316229</td>\n",
       "      <td>71.565</td>\n",
       "      <td>270.0</td>\n",
       "      <td>1.0</td>\n",
       "      <td>Main_Fault</td>\n",
       "      <td>Fault_Series</td>\n",
       "      <td>1</td>\n",
       "      <td>1</td>\n",
       "      <td>True</td>\n",
       "    </tr>\n",
       "  </tbody>\n",
       "</table>\n",
       "</div>"
      ],
      "text/plain": [
       "        X       Y         Z       G_x           G_y       G_z     dip  \\\n",
       "0  1000.0  1000.0   950.000  0.316229  1.000019e-12  0.948683  18.435   \n",
       "1   400.0  1000.0  1400.000  0.316229  1.000019e-12  0.948683  18.435   \n",
       "2   500.0  1000.0   864.602 -0.948683  9.998257e-13  0.316229  71.565   \n",
       "\n",
       "   azimuth  polarity    formation        series  id  order_series  isFault  \n",
       "0     90.0       1.0        Shale  Strat_Series   4             2    False  \n",
       "1     90.0       1.0  Sandstone_2  Strat_Series   2             2    False  \n",
       "2    270.0       1.0   Main_Fault  Fault_Series   1             1     True  "
      ]
     },
     "execution_count": 14,
     "metadata": {},
     "output_type": "execute_result"
    }
   ],
   "source": [
    "gp.get_data(geo_model, 'orientations').head()"
   ]
  },
  {
   "cell_type": "markdown",
   "metadata": {},
   "source": [
    "These objects contain and represent all necessary data to create a model."
   ]
  },
  {
   "cell_type": "markdown",
   "metadata": {},
   "source": [
    "### Adding, modifing deleting"
   ]
  },
  {
   "cell_type": "code",
   "execution_count": 15,
   "metadata": {},
   "outputs": [],
   "source": [
    "geo_model.modify_interfaces([0], X=[2000], Y=[2000], Z=[2000])"
   ]
  },
  {
   "cell_type": "markdown",
   "metadata": {},
   "source": [
    "#### Passing a vtk object to real time update"
   ]
  },
  {
   "cell_type": "code",
   "execution_count": 16,
   "metadata": {},
   "outputs": [
    {
     "name": "stdout",
     "output_type": "stream",
     "text": [
      "closing vtk\n"
     ]
    }
   ],
   "source": [
    "v = gp.plot.plot_data_3D(geo_model)"
   ]
  },
  {
   "cell_type": "code",
   "execution_count": 17,
   "metadata": {},
   "outputs": [],
   "source": [
    "geo_model.modify_interfaces([0], v,  X=[2000], Y=[2000], Z=[1000])"
   ]
  },
  {
   "cell_type": "code",
   "execution_count": 18,
   "metadata": {},
   "outputs": [],
   "source": [
    "v.close()"
   ]
  },
  {
   "cell_type": "markdown",
   "metadata": {},
   "source": [
    "##### Real time surface updating\n"
   ]
  },
  {
   "cell_type": "code",
   "execution_count": 19,
   "metadata": {},
   "outputs": [
    {
     "name": "stdout",
     "output_type": "stream",
     "text": [
      "Compiling theano function...\n",
      "Compilation Done!\n",
      "Level of Optimization:  fast_compile\n",
      "Device:  cpu\n",
      "Precision:  float64\n",
      "Number of df:  1\n"
     ]
    },
    {
     "data": {
      "text/html": [
       "<div>\n",
       "<style scoped>\n",
       "    .dataframe tbody tr th:only-of-type {\n",
       "        vertical-align: middle;\n",
       "    }\n",
       "\n",
       "    .dataframe tbody tr th {\n",
       "        vertical-align: top;\n",
       "    }\n",
       "\n",
       "    .dataframe thead th {\n",
       "        text-align: right;\n",
       "    }\n",
       "</style>\n",
       "<table border=\"1\" class=\"dataframe\">\n",
       "  <thead>\n",
       "    <tr style=\"text-align: right;\">\n",
       "      <th></th>\n",
       "      <th>values</th>\n",
       "    </tr>\n",
       "  </thead>\n",
       "  <tbody>\n",
       "    <tr>\n",
       "      <th>dtype</th>\n",
       "      <td>float64</td>\n",
       "    </tr>\n",
       "    <tr>\n",
       "      <th>output</th>\n",
       "      <td>geology</td>\n",
       "    </tr>\n",
       "    <tr>\n",
       "      <th>theano_optimizer</th>\n",
       "      <td>fast_compile</td>\n",
       "    </tr>\n",
       "    <tr>\n",
       "      <th>device</th>\n",
       "      <td>cpu</td>\n",
       "    </tr>\n",
       "    <tr>\n",
       "      <th>verbosity</th>\n",
       "      <td>NaN</td>\n",
       "    </tr>\n",
       "  </tbody>\n",
       "</table>\n",
       "</div>"
      ],
      "text/plain": [
       "                        values\n",
       "dtype                  float64\n",
       "output                 geology\n",
       "theano_optimizer  fast_compile\n",
       "device                     cpu\n",
       "verbosity                  NaN"
      ]
     },
     "execution_count": 19,
     "metadata": {},
     "output_type": "execute_result"
    }
   ],
   "source": [
    "gp.set_interpolation_data(geo_model)"
   ]
  },
  {
   "cell_type": "code",
   "execution_count": 20,
   "metadata": {},
   "outputs": [
    {
     "data": {
      "text/plain": [
       "\n",
       "Lithology ids \n",
       "  [6. 6. 6. ... 2. 2. 2.] \n",
       "Lithology scalar field \n",
       "  [30.22043419 30.23028183 30.24014664 ... 30.79774284 30.81193924\n",
       " 30.82598877] \n",
       "Fault block \n",
       "  [[1. 1. 1. ... 2. 2. 2.]]"
      ]
     },
     "execution_count": 20,
     "metadata": {},
     "output_type": "execute_result"
    }
   ],
   "source": [
    "gp.compute_model(geo_model)"
   ]
  },
  {
   "cell_type": "code",
   "execution_count": 21,
   "metadata": {},
   "outputs": [
    {
     "data": {
      "image/png": "[encoded data removed]",
      "text/plain": [
       "<Figure size 360x360 with 1 Axes>"
      ]
     },
     "metadata": {},
     "output_type": "display_data"
    }
   ],
   "source": [
    "gp.plot.plot_section(geo_model, 25, plot_data=True)"
   ]
  },
  {
   "cell_type": "code",
   "execution_count": 22,
   "metadata": {},
   "outputs": [
    {
     "name": "stdout",
     "output_type": "stream",
     "text": [
      "holding... Use vtk.resume to go back to the interactive window\n"
     ]
    },
    {
     "data": {
      "text/plain": [
       "<gempy.plot.plot.vtkPlot at 0x7fa4420b4ef0>"
      ]
     },
     "execution_count": 22,
     "metadata": {},
     "output_type": "execute_result"
    }
   ],
   "source": [
    "v = gp.plot.plot_surfaces_3D_real_time(geo_model, None, None)"
   ]
  },
  {
   "cell_type": "code",
   "execution_count": 25,
   "metadata": {},
   "outputs": [],
   "source": [
    "geo_model.modify_interfaces([0], v,  X=[2000], Y=[2000], Z=[1500])"
   ]
  },
  {
   "cell_type": "code",
   "execution_count": 26,
   "metadata": {},
   "outputs": [
    {
     "name": "stdout",
     "output_type": "stream",
     "text": [
      "closing vtk\n"
     ]
    }
   ],
   "source": [
    "v.resume()"
   ]
  },
  {
   "cell_type": "code",
   "execution_count": null,
   "metadata": {},
   "outputs": [],
   "source": []
  }
 ],
 "metadata": {
  "kernelspec": {
   "display_name": "Python 3",
   "language": "python",
   "name": "python3"
  },
  "language_info": {
   "codemirror_mode": {
    "name": "ipython",
    "version": 3
   },
   "file_extension": ".py",
   "mimetype": "text/x-python",
   "name": "python",
   "nbconvert_exporter": "python",
   "pygments_lexer": "ipython3",
   "version": "3.6.6"
  }
 },
 "nbformat": 4,
 "nbformat_minor": 2
}
